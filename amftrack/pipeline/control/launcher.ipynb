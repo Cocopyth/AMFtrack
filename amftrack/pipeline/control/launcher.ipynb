{
 "cells": [
  {
   "cell_type": "code",
   "execution_count": null,
   "id": "b608afbc-ca48-476f-a966-f94e310ea7ab",
   "metadata": {
    "tags": []
   },
   "outputs": [],
   "source": [
    "%load_ext autoreload\n",
    "%autoreload 2\n",
    "from amftrack.pipeline.launching.run_super import (\n",
    "    run_launcher,\n",
    "    directory_scratch,\n",
    "    directory_project,\n",
    "    directory_project,\n",
    "    run_parallel_stitch,\n",
    "    run_parallel_transfer,\n",
    ")\n",
    "import os\n",
    "from amftrack.util.sys import (\n",
    "    get_dates_datetime,\n",
    "    get_dirname,\n",
    "    temp_path,\n",
    "    get_data_info,\n",
    "    update_plate_info,\n",
    "    update_analysis_info,\n",
    "    get_analysis_info,\n",
    "    get_current_folders,\n",
    "    get_folders_by_plate_id,\n",
    ")\n",
    "\n",
    "from time import time_ns\n",
    "from amftrack.util.dbx import upload_folders, load_dbx, download, get_dropbox_folders_prince\n",
    "from datetime import datetime\n",
    "from amftrack.pipeline.launching.run_super import (\n",
    "    run_parallel,\n",
    "    directory_scratch,\n",
    "    directory_project,\n",
    "    run_parallel_stitch,\n",
    ")\n",
    "from amftrack.util.dbx import read_saved_dropbox_state,get_dropbox_folders_prince\n"
   ]
  },
  {
   "cell_type": "code",
   "execution_count": null,
   "id": "e0eb5bb6-3a87-4cba-8cf8-21c59c70f01c",
   "metadata": {},
   "outputs": [],
   "source": [
    "# plates = [\n",
    "# \"241_20230403\",\n",
    "# \"247_20230422\"\n",
    "# ]\n",
    "#runnning on 31/05\n",
    "plates = [\n",
    "\"3_20220426\",\n",
    "\"12_20220502\",\n",
    "\"13_20220422\",\n",
    "\"16_20220419\",\n",
    "\"21_20220502\",\n",
    "\"480_20221205\",\n",
    "\"28_20230227\",\n",
    "\"206_20230303\",\n",
    "\"202_20230314\",\n",
    "\"218_20230227\",\n",
    "\"219_20230307\",\n",
    "\"229_20230330\",\n",
    "# \"240_20230328\"\n",
    "]"
   ]
  },
  {
   "cell_type": "code",
   "execution_count": null,
   "id": "0a112a98-7567-4892-bc5d-1c14ff6f723a",
   "metadata": {},
   "outputs": [],
   "source": [
    "plates = [\n",
    "# \"21_20220502\",\n",
    "# \"480_20221205\",\n",
    "\"240_20230328\",\n",
    "\n",
    "]"
   ]
  },
  {
   "cell_type": "code",
   "execution_count": null,
   "id": "34c1d5cb-c3d4-4749-becc-12e63f0c7e08",
   "metadata": {},
   "outputs": [],
   "source": [
    "plates = [\n",
    "\"831_20230310\",\n",
    "\"833_20230321\",\n",
    "\"834_20230508\",\n",
    "\"836_20230327\",\n",
    "\"840_20230404\",\n",
    "\"841_20230327\",\n",
    "\"842_20230320\",\n",
    "\"250_20230508\",\n",
    "\"845_20230320\",\n",
    "\"847_20230406\",\n",
    "\"848_20230327\",\n",
    "\"849_20230417\",\n",
    "\"850_20230511\",\n",
    "\"855_20230324\",\n",
    "\"856_20230330\",\n",
    "\"861_20230411\",\n",
    "\"862_20230403\",\n",
    "\"863_20230418\",\n",
    "\"865_20230409\",\n",
    "\"866_20230415\"\n",
    "\n",
    "]\n",
    "plates = [\n",
    "\"840_20230404\",\n",
    "\"850_20230511\",\n",
    "\"861_20230411\"\n",
    "\n",
    "]"
   ]
  },
  {
   "cell_type": "code",
   "execution_count": null,
   "id": "bcb9906f-4ff0-40e4-bca0-d79e12867ed6",
   "metadata": {},
   "outputs": [],
   "source": [
    "plates = [\"545_20220115\"]"
   ]
  },
  {
   "cell_type": "code",
   "execution_count": null,
   "id": "daa03073-f5b1-42a9-881a-7ebfa980dbbd",
   "metadata": {},
   "outputs": [],
   "source": [
    "plates = [\n",
    "    # \"52_20220707\",\n",
    "    # \"56_20220701\",\n",
    "    # \"59_20201126\",\n",
    "    # \"69_20201119\",\n",
    "    # \"76_20210108\",\n",
    "    # \"81_20220704\",\n",
    "    # \"84_20220621\",\n",
    "    # \"94_20201123\",\n",
    "    # \"102_20201226\",\n",
    "    # \"152_20201224\",\n",
    "    \"59_20201126\",\n",
    "\n",
    "    \"792_20210915\",\n",
    "    \"1076_20220511\",\n",
    "    '1014_20220525', \n",
    "  '1023_20220502',\n",
    "  '1042_20220523',\n",
    "# '1045_20220504',\n",
    "  '1048_20220506',\n",
    "  '1053_20220413',\n",
    "        \"52_20220707\",\n",
    "    \"56_20220701\",\n",
    "]\n"
   ]
  },
  {
   "cell_type": "code",
   "execution_count": null,
   "id": "f377c5c8-cbfd-45d5-bc4c-3096fd4a3e74",
   "metadata": {},
   "outputs": [],
   "source": [
    "run_parallel_transfer(\n",
    "    \"from_drop.py\",\n",
    "    [directory_targ],\n",
    "    folders_drop,\n",
    "    50,\n",
    "    \"24:00:00\",\n",
    "    \"staging\",\n",
    "    cpus=1,\n",
    "    node=\"staging\",\n",
    "    name_job=\"kaikai\",\n",
    ")"
   ]
  },
  {
   "cell_type": "code",
   "execution_count": null,
   "id": "afdc3901-8c7c-40b5-8985-00f54a3102b0",
   "metadata": {
    "jupyter": {
     "outputs_hidden": true
    },
    "tags": []
   },
   "outputs": [],
   "source": [
    "all_folders_drop = get_dropbox_folders(\"/DATA/PRINCE\", True)"
   ]
  },
  {
   "cell_type": "code",
   "execution_count": null,
   "id": "a0cd5156-1751-427c-a19f-84644c5e34e6",
   "metadata": {
    "jupyter": {
     "outputs_hidden": true
    },
    "tags": []
   },
   "outputs": [],
   "source": [
    "dir_drop = \"DATA/PRINCE\"\n",
    "all_folders_drop = read_saved_dropbox_state(\"/DATA/PRINCE\")\n",
    "folders_drop = all_folders_drop.loc[all_folders_drop[\"unique_id\"].isin(plates)]\n",
    "update_plate_info(directory_targ, local=True, strong_constraint=False)\n",
    "all_folders = get_current_folders(directory_targ, local=True)\n",
    "# if len(all_folders) > 0:\n",
    "folders = all_folders.loc[all_folders[\"unique_id\"].isin(plates)]\n",
    "folders_drop2 = folders_drop.loc[~folders_drop[\"folder\"].isin(folders[\"folder\"])]\n",
    "folders_drop3 = folders_drop2.loc[~folders_drop2[\"folder\"].str.contains(\"Analysis\")]"
   ]
  },
  {
   "cell_type": "code",
   "execution_count": null,
   "id": "136d2b6b-675d-4a62-893e-dc1fc53af764",
   "metadata": {
    "tags": []
   },
   "outputs": [],
   "source": [
    "# all_folders_drop = read_saved_dropbox_state(\"/DATA/PRINCE\")\n",
    "all_folders_drop.loc[all_folders_drop[\"Plate\"]==\"440\"]"
   ]
  },
  {
   "cell_type": "code",
   "execution_count": null,
   "id": "a41d5ed3-e77d-487d-be97-7a780b6df7de",
   "metadata": {
    "tags": []
   },
   "outputs": [],
   "source": [
    "# plates= ['94_20201123','102_20201226','76_20210108','152_20201224','792_20210915']\n",
    "# plates= ['52_20220707','56_20220701','839_20220325','938_20220325','1076_20220511']\n",
    "plates = [\n",
    "    \"52_20220707\",\n",
    "    \"56_20220701\",\n",
    "    \"81_20220704\",\n",
    "    \"89_20220705\",\n",
    "    \"91_20220708\",\n",
    "    \"839_20220325\",\n",
    "    \"1076_20220511\",\n",
    "]  # full run done!\n",
    "plates = [\n",
    "    \"84_20220621\",\n",
    "    \"877_20220419\",\n",
    "    \"938_20220325\",\n",
    "    \"941_20220404\",\n",
    "]  # for spore data\n",
    "\n",
    "plates = [\n",
    "    \"106_20220826\",\n",
    "    \"108_20220823\",\n",
    "    \"111_20220823\",\n",
    "    \"66_20220823\",\n",
    "    \"105_20220817\",\n",
    "    \"100_20220812\",\n",
    "    \"75_20220808\",\n",
    "    \"99_20220815\",\n",
    "]\n",
    "\n",
    "plates = [\"94_20201123\"]  # for spore data\n",
    "# plates = ['1048_20220506','84_20220621'] #for spore data\n",
    "# plates = [\n",
    "#     \"799_20211001\",\n",
    "#     \"803_20211012\",\n",
    "#     \"809_20211012\",\n",
    "#     \"907_20220321\",\n",
    "#     \"943_20220322\",\n",
    "#     \"403_20221005\",\n",
    "#     \"408_20221013\",\n",
    "#     \"88_20210915\",\n",
    "#     \"790_20210907\",\n",
    "#     \"69_20201119\",\n",
    "#     \"94_20201123\",\n",
    "#     \"59_20201126\",\n",
    "#     \"599_20201217\",\n",
    "#     \"139_20201214\",\n",
    "#     \"40_20201214\"\n",
    "# ]"
   ]
  },
  {
   "cell_type": "code",
   "execution_count": null,
   "id": "92923164-5f9e-4448-863b-01cb978ddd2b",
   "metadata": {},
   "outputs": [],
   "source": [
    "plates = [\"910_202305016\"]"
   ]
  },
  {
   "cell_type": "code",
   "execution_count": null,
   "id": "5fd55e93-29bc-4753-a292-46191ec9adc9",
   "metadata": {},
   "outputs": [],
   "source": [
    "os.path.join(conda_path,'envs','amftrack')"
   ]
  },
  {
   "cell_type": "code",
   "execution_count": null,
   "id": "07b2b2dc-ce5b-49ba-b953-c54f530178ab",
   "metadata": {
    "jupyter": {
     "source_hidden": true
    },
    "tags": []
   },
   "outputs": [],
   "source": [
    "plates= ['41_20230221',\n",
    " '41_20220310',\n",
    " '41_20220310',\n",
    " '63_20230510',\n",
    " '56_20230511',\n",
    " '56_20230511',\n",
    " '55_20230510',\n",
    " '51_20230510',\n",
    " '50_20230511',\n",
    " '49_20230510',\n",
    " '64_20230508',\n",
    " '60_20230508',\n",
    " '59_20230508',\n",
    " '63_20230510',\n",
    " '61_20230510',\n",
    " '55_20230510',\n",
    " '51_20230510',\n",
    " '49_20230510',\n",
    " '50_20230511',\n",
    " '64_20230508',\n",
    " '60_20230508',\n",
    " '59_20230508',\n",
    " '72_20230501',\n",
    " '69_20230501',\n",
    " '68_20230501',\n",
    " '67_20230501',\n",
    " '118_20220426',\n",
    " '115_20220324',\n",
    " '109_20220324',\n",
    " '106_20220324',\n",
    " '100_20220324',\n",
    " '50_20220310',\n",
    " '49_20220310',\n",
    " 'network_extraction',\n",
    " '47_20220310',\n",
    " '45_20220310',\n",
    " '69_20230501',\n",
    " '67_20230501',\n",
    " '68_20230501',\n",
    " '2_20230306',\n",
    " '6_20230221',\n",
    " '10_20230227',\n",
    " '35_20230227',\n",
    " '29_20230221',\n",
    " '26_20230308',\n",
    " '26_20230308',\n",
    " '34_20230227',\n",
    " '25_20230221',\n",
    " '47_20230221',\n",
    " '21_20230306',\n",
    " '45_20230221',\n",
    " '18_20230221',\n",
    " '42_20230221',\n",
    " '4_20230221',\n",
    " '17_20230221',\n",
    " '15_20230221',\n",
    " '5_20230306',\n",
    " '33_20230221',\n",
    " '2_20230306',\n",
    " '14_20230301',\n",
    " '2_20230306',\n",
    " 'network_extraction',\n",
    " '13_20230221',\n",
    " '107_20220426',\n",
    " '119_20220426',\n",
    " '83_20220426',\n",
    " '80_20220426',\n",
    " '68_20220426',\n",
    " '60_20220310',\n",
    " '55_20220310',\n",
    " '16_20230227',\n",
    " '116_20220426',\n",
    " '58_20220310',\n",
    " '21_20230306',\n",
    " '37_20230221',\n",
    " '46_20230221',\n",
    " '98_2022_0426',\n",
    " '110_20220426',\n",
    " '14_20230301',\n",
    " '14_20230301',\n",
    " '48_20230227',\n",
    " '48_20230227',\n",
    " '48_20230227',\n",
    " '13_20230221',\n",
    " '74_20220426',\n",
    " '34_20230227',\n",
    " '31_20230227',\n",
    " '01_20230221',\n",
    " '16_20230227',\n",
    " '30_20230227',\n",
    " '10_20230227',\n",
    " '33_20230221',\n",
    " '46_20230221',\n",
    " '62_20220324',\n",
    " '57_20220310',\n",
    " '101_20220310']"
   ]
  },
  {
   "cell_type": "code",
   "execution_count": null,
   "id": "36f5e840-d63e-4fcf-96b2-71b8c3ea4584",
   "metadata": {
    "jupyter": {
     "source_hidden": true
    },
    "tags": []
   },
   "outputs": [],
   "source": [
    "plates = [\n",
    "    \"078_20220920\",\n",
    "    \"079_20220920\",\n",
    "    \"080_20220920\",\n",
    "    \"081_20220920\",\n",
    "    \"082_20220920\",\n",
    "    \"083_20220920\",\n",
    "    \"084_20220920\",\n",
    "    \"001_20220920\",\n",
    "    \"024_20220920\",\n",
    "    \"073_20220920\",\n",
    "    \"002_20220920\",\n",
    "    \"003_20220920\",\n",
    "    \"004_20220920\",\n",
    "    \"005_20220920\",\n",
    "    \"006_20220920\",\n",
    "    \"007_20220920\",\n",
    "    \"008_20220920\",\n",
    "    \"009_20220920\",\n",
    "    \"010_20220920\",\n",
    "    \"011_20220920\",\n",
    "    \"012_20220920\",\n",
    "    \"019_20220920\",\n",
    "    \"020_20220920\",\n",
    "    \"021_20220920\",\n",
    "    \"022_20220920\",\n",
    "    \"023_20220920\",\n",
    "    \"037_20220920\",\n",
    "    \"038_20220920\",\n",
    "    \"039_20220920\",\n",
    "    \"040_20220920\",\n",
    "    \"042_20220920\",\n",
    "    \"043_20220920\",\n",
    "    \"044_20220920\",\n",
    "    \"045_20220920\",\n",
    "    \"046_20220920\",\n",
    "    \"016_20220921\",\n",
    "    \"017_20220921\",\n",
    "    \"034_20220921\",\n",
    "    \"051_20220920\",\n",
    "    \"094_20220921\",\n",
    "    \"064_20220921\",\n",
    "    \"026_20220921\",\n",
    "    \"027_20220921\",\n",
    "    \"028_20220921\",\n",
    "    \"029_20220921\",\n",
    "    \"031_20220921\",\n",
    "    \"033_20220921\",\n",
    "    \"035_20220921\",\n",
    "    \"036_20220921\",\n",
    "    \"047_20220920\",\n",
    "    \"041_20220920\",\n",
    "    \"015_20220921\",\n",
    "    \"068_20220921\",\n",
    "    \"107_20220921\",\n",
    "    \"095_20220921\",\n",
    "    \"062_20220921\",\n",
    "    \"096_20220921\",\n",
    "    \"104_20220921\",\n",
    "    \"050_20220920\",\n",
    "    \"030_20220921\",\n",
    "    \"025_20220921\",\n",
    "    \"100_20220921\",\n",
    "    \"067_20220921\",\n",
    "    \"048_20220920\",\n",
    "    \"055_20220921\",\n",
    "    \"056_20220921\",\n",
    "    \"057_20220921\",\n",
    "    \"058_20220921\",\n",
    "    \"059_20220921\",\n",
    "    \"060_20220921\",\n",
    "    \"061_20220921\",\n",
    "    \"063_20220921\",\n",
    "    \"014_20220921\",\n",
    "    \"018_20220921\",\n",
    "    \"099_20220921\",\n",
    "    \"069_20220921\",\n",
    "    \"054_20220920\",\n",
    "    \"075_20220920\",\n",
    "    \"092_20220921\",\n",
    "    \"093_20220921\",\n",
    "    \"097_20220921\",\n",
    "    \"098_20220921\",\n",
    "    \"105_20220921\",\n",
    "    \"106_20220921\",\n",
    "    \"108_20220921\",\n",
    "    \"085_20220921\",\n",
    "    \"086_20220921\",\n",
    "    \"087_20220921\",\n",
    "    \"088_20220921\",\n",
    "    \"089_20220921\",\n",
    "    \"090_20220921\",\n",
    "    \"091_20220921\",\n",
    "    \"049_20220920\",\n",
    "    \"052_20220920\",\n",
    "    \"053_20220920\",\n",
    "    \"074_20220920\",\n",
    "    \"076_20220920\",\n",
    "    \"077_20220920\",\n",
    "    \"013_20220921\",\n",
    "    \"070_20220921\",\n",
    "    \"071_20220921\",\n",
    "    \"072_20220921\",\n",
    "    \"102_20220921\",\n",
    "    \"032_20220921\",\n",
    "    \"101_20220921\",\n",
    "    \"065_20220921\",\n",
    "    \"066_20220921\",\n",
    "    \"103_20220921\",\n",
    "]\n",
    "plates = [\n",
    "    \"_\".join((str(int(plate.split(\"_\")[0])), str(int(plate.split(\"_\")[1]))))\n",
    "    for plate in plates\n",
    "]"
   ]
  },
  {
   "cell_type": "code",
   "execution_count": null,
   "id": "50c944da-ef14-4242-b6ac-48aea758abbb",
   "metadata": {},
   "outputs": [],
   "source": [
    "directory_targ = directory_project\n",
    "directory_project"
   ]
  },
  {
   "cell_type": "code",
   "execution_count": null,
   "id": "ac1cec4b-f343-465b-9206-f6afa483ed68",
   "metadata": {},
   "outputs": [],
   "source": [
    "directory_targ"
   ]
  },
  {
   "cell_type": "code",
   "execution_count": null,
   "id": "79fdc066-12e4-4708-a4f7-9d681e55ee14",
   "metadata": {},
   "outputs": [],
   "source": [
    "directory_targ = os.path.join(directory_scratch, \"stitch_temp\") + \"/\""
   ]
  },
  {
   "cell_type": "code",
   "execution_count": null,
   "id": "2c7d9788-67e0-4df7-b5cc-c2c2bdd816b9",
   "metadata": {},
   "outputs": [],
   "source": [
    "name_job = f\"one_shot_{time_ns()}.sh\"\n",
    "run_launcher(\n",
    "    \"dropbox_downloader.py\",\n",
    "    [directory_targ, name_job, 30, \"masker.py\"],\n",
    "    plates,\n",
    "    \"12:00:00\",\n",
    "    name_job=name_job,\n",
    "    dependency=True,\n",
    ")"
   ]
  },
  {
   "cell_type": "code",
   "execution_count": null,
   "id": "75fd7145-988e-4391-8e18-83c016f22843",
   "metadata": {
    "tags": []
   },
   "outputs": [],
   "source": [
    "name_job = f\"one_shot_{time_ns()}.sh\"\n",
    "run_launcher(\n",
    "    \"dropbox_downloader.py\",\n",
    "    [directory_targ, name_job, 30, \"skeletonizer_agg.py\"],\n",
    "    plates,\n",
    "    \"12:00:00\",\n",
    "    name_job=name_job,\n",
    "    dependency=True,\n",
    ")\n",
    "# run_launcher('dropbox_uploader.py',[directory_targ,name_job],plates,'40:00',dependency=True,name_job = name_job)"
   ]
  },
  {
   "cell_type": "code",
   "execution_count": null,
   "id": "d267c73f-6c9a-4fe3-a448-fc70ef25401a",
   "metadata": {},
   "outputs": [],
   "source": [
    "run_launcher(\n",
    "    \"dropbox_uploader.py\",\n",
    "    [directory_targ, name_job],\n",
    "    plates,\n",
    "    \"24:00:00\",\n",
    "    dependency=True,\n",
    "    name_job=name_job,\n",
    ")"
   ]
  },
  {
   "cell_type": "code",
   "execution_count": null,
   "id": "32c7efad-f155-4f04-b220-ceb1617d9d60",
   "metadata": {},
   "outputs": [],
   "source": [
    "1"
   ]
  },
  {
   "cell_type": "code",
   "execution_count": null,
   "id": "d7617c84-087e-45c1-80e3-99559e53f784",
   "metadata": {
    "jupyter": {
     "outputs_hidden": true
    },
    "tags": []
   },
   "outputs": [],
   "source": [
    "name_job = f\"one_shot_{time_ns()}.sh\"\n",
    "name_job = \"table_redo\"\n",
    "run_launcher(\n",
    "    \"dropbox_downloader.py\",\n",
    "    [directory_targ, name_job, 30, \"post_processer_1.py\"],\n",
    "    plates,\n",
    "    \"24:00:00\",\n",
    "    name_job=name_job,\n",
    "    dependency=False,\n",
    ")"
   ]
  },
  {
   "cell_type": "code",
   "execution_count": null,
   "id": "623791bd-676c-4e98-95f5-238768f2e931",
   "metadata": {
    "tags": []
   },
   "outputs": [],
   "source": [
    "name_job = \"strains\"\n",
    "\n",
    "# name_job = f\"one_shot_{time_ns()}.sh\"\n",
    "\n",
    "run_launcher(\n",
    "    \"post_processer_1.py\",\n",
    "    [directory_targ, name_job, 15],\n",
    "    plates,\n",
    "    \"1:00:00\",\n",
    "    dependency=False,\n",
    "    name_job=name_job,\n",
    ")"
   ]
  },
  {
   "cell_type": "code",
   "execution_count": null,
   "id": "d201114c-a494-40ad-8573-63526147a63b",
   "metadata": {},
   "outputs": [],
   "source": [
    "plates = [\n",
    "    # '3_20220426',\n",
    " # '12_20220502',\n",
    " '13_20220422']"
   ]
  },
  {
   "cell_type": "code",
   "execution_count": null,
   "id": "c5072d8b-6988-4898-8705-74841b6cb1f1",
   "metadata": {
    "tags": []
   },
   "outputs": [],
   "source": [
    "update_analysis_info(directory_targ)\n",
    "\n",
    "analysis_info = get_analysis_info(directory_targ)\n",
    "analysis_folders = analysis_info.loc[analysis_info[\"unique_id\"].isin(plates)]"
   ]
  },
  {
   "cell_type": "code",
   "execution_count": null,
   "id": "a0d069c3-8c53-4c26-8c5b-fc3eca49598f",
   "metadata": {
    "jupyter": {
     "outputs_hidden": true
    },
    "tags": []
   },
   "outputs": [],
   "source": [
    "analysis_folders"
   ]
  },
  {
   "cell_type": "code",
   "execution_count": null,
   "id": "2bed047d-d9d8-4b2b-87ac-ceb1df770ac8",
   "metadata": {
    "tags": []
   },
   "outputs": [],
   "source": [
    "\n",
    "for path in analysis_folders[\"path_time_plate_info\"]:\n",
    "    if not os.path.exists(os.path.join(directory_targ,path)):\n",
    "        print(path)"
   ]
  },
  {
   "cell_type": "code",
   "execution_count": null,
   "id": "a1aa0fb6-b35a-46ac-937c-ecb3c4bcf8f2",
   "metadata": {},
   "outputs": [],
   "source": [
    "import sys\n",
    "from amftrack.util.sys import (\n",
    "    update_analysis_info,\n",
    "    get_analysis_info,\n",
    ")\n",
    "from amftrack.pipeline.launching.run_super import run_parallel_post\n",
    "from amftrack.pipeline.functions.post_processing.global_plate import *\n",
    "from amftrack.pipeline.functions.post_processing.time_plate import *\n",
    "from amftrack.pipeline.functions.post_processing.global_hypha import *\n",
    "from amftrack.pipeline.functions.post_processing.area_hulls import *\n",
    "from amftrack.pipeline.launching.run_super import run_parallel, run_launcher\n",
    "from amftrack.pipeline.functions.post_processing.exp_plot import *\n",
    "time = \"3:40:00\"\n",
    "directory = directory_targ\n",
    "# list_f = [get_width_f,get_tot_length_C_f,get_tot_growth_C_f]\n",
    "# list_f = [get_timestep_anastomosis]\n",
    "list_f = [\n",
    "    gets_out_of_ROI,\n",
    "    get_width_f,\n",
    "    get_tot_length_C_f,\n",
    "    get_tot_growth_C_f,\n",
    "    get_tot_length_pp_f,\n",
    "    get_tot_growth_pp_f,\n",
    "    get_timestep_stop_growth,\n",
    "    get_time_stop_growth,\n",
    "    get_time_init_growth,\n",
    "    get_mean_speed_growth,\n",
    "    get_stop_track,\n",
    "    get_timestep_anastomosis,\n",
    "    get_timestep_biological_stop_growth,\n",
    "]\n",
    "# # list_f = [get_num_branch]\n",
    "# # list_f = [gets_out_of_ROI]\n",
    "list_args = [{}] * len(list_f)\n",
    "overwrite = True\n",
    "num_parallel = 4\n",
    "run_parallel_post(\n",
    "    \"global_hypha_post_process.py\",\n",
    "    list_f,\n",
    "    list_args,\n",
    "    [directory_targ, overwrite],\n",
    "    analysis_folders,\n",
    "    num_parallel,\n",
    "    time,\n",
    "    \"global_hypha_post_process\",\n",
    "    cpus=32,\n",
    "    name_job=\"strain\",\n",
    "    node=\"fat\",\n",
    ")"
   ]
  },
  {
   "cell_type": "code",
   "execution_count": null,
   "id": "c37c69a3-cb7c-4023-bbcf-6e873616756b",
   "metadata": {},
   "outputs": [],
   "source": [
    "import sys\n",
    "from amftrack.util.sys import (\n",
    "    update_analysis_info,\n",
    "    get_analysis_info,\n",
    ")\n",
    "from amftrack.pipeline.launching.run_super import run_parallel_post\n",
    "from amftrack.pipeline.functions.post_processing.global_plate import *\n",
    "from amftrack.pipeline.functions.post_processing.time_plate import *\n",
    "from amftrack.pipeline.functions.post_processing.global_hypha import *\n",
    "from amftrack.pipeline.functions.post_processing.area_hulls import *\n",
    "from amftrack.pipeline.launching.run_super import run_parallel, run_launcher\n",
    "from amftrack.pipeline.functions.post_processing.exp_plot import *\n",
    "\n",
    "time = \"2:00:00\"\n",
    "directory = directory_targ\n",
    "max_ind = 20\n",
    "incr = 100\n",
    "\n",
    "fs = [\n",
    "    get_density_in_ring,\n",
    "    get_density_active_tips_in_ring,\n",
    "]\n",
    "# fs = [get_mean_speed_in_ring]\n",
    "name_job = \"agg_sup\"\n",
    "list_f = []\n",
    "list_args = []\n",
    "\n",
    "for f in fs:\n",
    "    list_f += [f] * max_ind\n",
    "\n",
    "    list_args += [{\"incr\": incr, \"i\": i, \"rh_only\": True} for i in range(max_ind)]\n",
    "overwrite = False\n",
    "num_parallel = 6\n",
    "run_parallel_post(\n",
    "    \"time_plate_post_process.py\",\n",
    "    list_f,\n",
    "    list_args,\n",
    "    [directory_targ, overwrite],\n",
    "    analysis_folders,\n",
    "    num_parallel,\n",
    "    time,\n",
    "    \"time_plate_post_process\",\n",
    "    cpus=32,\n",
    "    name_job=name_job,\n",
    "    node=\"fat\",\n",
    "    dependency=True,\n",
    ")"
   ]
  },
  {
   "cell_type": "code",
   "execution_count": null,
   "id": "93ff5069-7afd-45bd-9ed6-f2e83e66bd9b",
   "metadata": {},
   "outputs": [],
   "source": [
    "time = \"3:40:00\"\n",
    "directory = directory_targ\n",
    "# list_f = [get_width_f,get_tot_length_C_f,get_tot_growth_C_f]\n",
    "# list_f = [get_timestep_anastomosis]\n",
    "list_f = [\n",
    "    gets_out_of_ROI,\n",
    "    get_width_f,\n",
    "    get_tot_length_C_f,\n",
    "    get_tot_growth_C_f,\n",
    "    get_tot_length_pp_f,\n",
    "    get_tot_growth_pp_f,\n",
    "    get_timestep_stop_growth,\n",
    "    get_time_stop_growth,\n",
    "    get_time_init_growth,\n",
    "    get_mean_speed_growth,\n",
    "    get_stop_track,\n",
    "    get_timestep_anastomosis,\n",
    "    get_timestep_biological_stop_growth,\n",
    "]\n",
    "# # list_f = [get_num_branch]\n",
    "# # list_f = [gets_out_of_ROI]\n",
    "list_args = [{}] * len(list_f)\n",
    "overwrite = True\n",
    "num_parallel = 32\n",
    "run_parallel_post(\n",
    "    \"global_hypha_post_process.py\",\n",
    "    list_f,\n",
    "    list_args,\n",
    "    [directory, overwrite],\n",
    "    analysis_folders,\n",
    "    num_parallel,\n",
    "    time,\n",
    "    \"global_hypha_post_process\",\n",
    "    cpus=32,\n",
    "    name_job=name_job,\n",
    "    node=\"fat\",\n",
    ")"
   ]
  },
  {
   "cell_type": "code",
   "execution_count": null,
   "id": "95cd52e2-3d95-4b19-b79a-105eea9b3fe6",
   "metadata": {},
   "outputs": [],
   "source": [
    "plates"
   ]
  },
  {
   "cell_type": "code",
   "execution_count": null,
   "id": "9489912d-0055-4278-970f-b53578dcb125",
   "metadata": {},
   "outputs": [],
   "source": [
    "name_job = \"node_id\"\n",
    "\n",
    "run_launcher(\n",
    "    \"node_identifier.py\",\n",
    "    [directory_targ, name_job, -1],\n",
    "    plates,\n",
    "    \"24:00:00\",\n",
    "    dependency=True,\n",
    "    name_job=name_job,\n",
    ")"
   ]
  },
  {
   "cell_type": "code",
   "execution_count": null,
   "id": "daf024ff-f833-4af6-a3f3-8eb79a08ce25",
   "metadata": {},
   "outputs": [],
   "source": [
    "plates = ['401_20231123', '395_202311201']"
   ]
  },
  {
   "cell_type": "code",
   "execution_count": null,
   "id": "ce442791-7340-48fa-ad79-b29468e739aa",
   "metadata": {
    "jupyter": {
     "outputs_hidden": true
    },
    "tags": []
   },
   "outputs": [],
   "source": [
    "name_job = \"Loreto\"\n",
    "\n",
    "run_launcher(\n",
    "    \"stitcher.py\",\n",
    "    [directory_targ, name_job, -1],\n",
    "    plates,\n",
    "    \"5:00:00\",\n",
    "    dependency=False,\n",
    "    name_job=name_job,\n",
    ")"
   ]
  },
  {
   "cell_type": "code",
   "execution_count": null,
   "id": "2fa40592-7c42-4bf8-af0e-4ba68d0a6040",
   "metadata": {
    "jupyter": {
     "outputs_hidden": true
    },
    "tags": []
   },
   "outputs": [],
   "source": [
    "# name_job = \"recompute\"\n",
    "\n",
    "# name_job = f\"one_shot_{time_ns()}.sh\"\n",
    "name_job = \"one_shot_1675411679561103361\"\n",
    "run_launcher(\n",
    "    \"analysis_uploader.py\",\n",
    "    [directory_targ, name_job, -1],\n",
    "    plates,\n",
    "    \"12:00:00\",\n",
    "    dependency=True,\n",
    "    name_job=name_job,\n",
    ")"
   ]
  },
  {
   "cell_type": "code",
   "execution_count": null,
   "id": "e2ce1188-fe3e-4f29-9ae1-acdb8f616271",
   "metadata": {
    "jupyter": {
     "outputs_hidden": true
    },
    "tags": []
   },
   "outputs": [],
   "source": [
    "from amftrack.util.dbx import upload_folder\n",
    "\n",
    "update_analysis_info(directory_targ)\n",
    "analysis_info = get_analysis_info(directory_targ)\n",
    "analysis_folders = analysis_info.loc[analysis_info[\"unique_id\"].isin(plates)]\n",
    "dir_drop = \"DATA/PRINCE\"\n",
    "\n",
    "for index, row in analysis_folders.iterrows():\n",
    "    folder = row[\"folder_analysis\"]\n",
    "    id_unique = row[\"unique_id\"]\n",
    "    path = os.path.join(directory_targ, folder)\n",
    "    target_drop = f\"/{dir_drop}/{id_unique}/{folder}\"\n",
    "    print(dir_drop)\n",
    "    upload_folder(path, target_drop, delete=False)"
   ]
  },
  {
   "cell_type": "code",
   "execution_count": null,
   "id": "f9e4c47c-1b6c-4327-9bfc-1f493da5954d",
   "metadata": {
    "tags": []
   },
   "outputs": [],
   "source": [
    "name_job = f\"one_shot_{time_ns()}.sh\"\n",
    "run_launcher(\n",
    "    \"width_extracter.py\",\n",
    "    [directory_targ, name_job, 20],\n",
    "    plates,\n",
    "    \"20:00\",\n",
    "    dependency=False,\n",
    "    name_job=name_job,\n",
    ")"
   ]
  },
  {
   "cell_type": "code",
   "execution_count": null,
   "id": "5f3b7634-849b-4444-bf55-c44c63777d53",
   "metadata": {
    "tags": []
   },
   "outputs": [],
   "source": [
    "update_plate_info(directory_targ, local=True)\n",
    "all_folders = get_current_folders(directory_targ, local=True)\n",
    "# folders =all_folders.loc[all_folders[\"unique_id\"].isin(plates)]\n",
    "# folders = folders.loc[folders[\"/Analysis/skeleton_pruned_compressed.mat\"]==True]"
   ]
  },
  {
   "cell_type": "code",
   "execution_count": null,
   "id": "11ee8dcb-e006-43bd-98ba-0d352ea18310",
   "metadata": {},
   "outputs": [],
   "source": [
    "all_folders[\"unique_id\"].unique()"
   ]
  },
  {
   "cell_type": "code",
   "execution_count": null,
   "id": "0504ab2b-31a5-41d4-95ed-cfa0634dbedc",
   "metadata": {
    "jupyter": {
     "outputs_hidden": true
    },
    "tags": []
   },
   "outputs": [],
   "source": [
    "folders = all_folders.loc[all_folders[\"unique_id\"].isin(plates)]\n",
    "folders = folders.loc[folders[\"/Analysis/skeleton_compressed.mat\"] == True]\n",
    "folders = folders.sort_values(\"datetime\")\n",
    "folders"
   ]
  },
  {
   "cell_type": "code",
   "execution_count": null,
   "id": "33e081c6-4a04-4aca-906a-510dafc8080e",
   "metadata": {},
   "outputs": [],
   "source": [
    "limit = 200\n",
    "folders = folders.sort_values(\"datetime\")\n",
    "# folders = folders.iloc[:5]\n",
    "corrupted_rotation = folders.loc[\n",
    "    ((folders[\"/Analysis/transform.mat\"] == False))\n",
    "    & (folders[\"/Analysis/transform_corrupt.mat\"])\n",
    "][\"folder\"]\n",
    "\n",
    "folder_list = list(folders[\"folder\"])\n",
    "folder_list.sort()\n",
    "indexes = [folder_list.index(corrupt_folder) for corrupt_folder in corrupted_rotation]\n",
    "indexes = [index for index in indexes if index < limit]\n",
    "indexes.sort()\n",
    "indexes += [limit]\n",
    "indexes = [limit]\n"
   ]
  },
  {
   "cell_type": "code",
   "execution_count": null,
   "id": "1759a637-6543-4d17-9715-567525e8b83c",
   "metadata": {
    "jupyter": {
     "outputs_hidden": true
    },
    "tags": []
   },
   "outputs": [],
   "source": [
    "folders"
   ]
  },
  {
   "cell_type": "code",
   "execution_count": null,
   "id": "2b36fb7a-dd53-40d3-af59-45365c4c6e02",
   "metadata": {},
   "outputs": [],
   "source": [
    "indexes"
   ]
  },
  {
   "cell_type": "code",
   "execution_count": null,
   "id": "ea5bf711-5c2a-4b5b-a80c-229f3ddc2761",
   "metadata": {},
   "outputs": [],
   "source": [
    "plates = ['12_20220502', '229_20230330']"
   ]
  },
  {
   "cell_type": "code",
   "execution_count": null,
   "id": "8184b601-6c6b-4adb-b1ff-ad763904aeee",
   "metadata": {
    "jupyter": {
     "outputs_hidden": true
    },
    "tags": []
   },
   "outputs": [],
   "source": [
    "folders = all_folders.loc[all_folders[\"unique_id\"].isin(plates)]\n",
    "folders = folders.loc[folders[\"/Analysis/nx_graph_pruned_width.p\"] == True]\n",
    "args = [directory_targ]\n",
    "num_parallel = 128\n",
    "\n",
    "for unique_id in plates:\n",
    "    select = folders.loc[folders[\"unique_id\"] == unique_id]\n",
    "    time = \"12:00:00\"\n",
    "    run_parallel(\n",
    "        \"track_nodes.py\",\n",
    "        args,\n",
    "        select,\n",
    "        num_parallel,\n",
    "        time,\n",
    "        \"track_node\",\n",
    "        cpus=128,\n",
    "        node=\"fat\",\n",
    "        name_job=name_job,\n",
    "    )"
   ]
  },
  {
   "cell_type": "code",
   "execution_count": null,
   "id": "0dcd3a3e-0851-449c-8dbf-124d65c47124",
   "metadata": {
    "tags": []
   },
   "outputs": [],
   "source": [
    "update_analysis_info(directory_targ)\n",
    "analysis_info = get_analysis_info(directory_targ)\n",
    "analysis_folders = analysis_info.loc[analysis_info[\"unique_id\"].isin(plates)]"
   ]
  },
  {
   "cell_type": "code",
   "execution_count": null,
   "id": "f598f7d8-9648-4af1-83c4-5c85a21c95cf",
   "metadata": {},
   "outputs": [],
   "source": [
    "analysis_folders"
   ]
  },
  {
   "cell_type": "code",
   "execution_count": null,
   "id": "bdaca24f-5eed-4fe0-9edc-fb6803232fe2",
   "metadata": {
    "jupyter": {
     "outputs_hidden": true
    },
    "tags": []
   },
   "outputs": [],
   "source": [
    "name_job = \"agg_clarum\"\n",
    "folders = folders.loc[folders[\"/Img/TileConfiguration.txt.registered\"] == True]\n",
    "num_parallel = 100\n",
    "time = \"6:00:00\"\n",
    "hyph_width = 30\n",
    "perc_low = 85\n",
    "perc_high = 99.5\n",
    "minlow = 10\n",
    "minhigh = 70\n",
    "\n",
    "args = [hyph_width, perc_low, perc_high, minlow, minhigh,directory_targ]\n",
    "run_parallel(\n",
    "    \"extract_skel_2.py\",\n",
    "    args,\n",
    "    folders,\n",
    "    num_parallel,\n",
    "    time,\n",
    "    \"skeletonization\",\n",
    "    cpus=128,\n",
    "    node=\"fat\",\n",
    "    name_job=name_job,\n",
    ")"
   ]
  },
  {
   "cell_type": "code",
   "execution_count": null,
   "id": "2c9ce086-223f-475c-86fb-f8ec89f323d1",
   "metadata": {},
   "outputs": [],
   "source": [
    "folders = all_folders.loc[all_folders[\"unique_id\"].isin(plates)]\n",
    "folders = folders.loc[folders[\"/Analysis/nx_graph_pruned_labeled.p\"] == True]\n"
   ]
  },
  {
   "cell_type": "code",
   "execution_count": null,
   "id": "6342ba2e-ffbb-469e-bab7-22cf72610f79",
   "metadata": {
    "tags": []
   },
   "outputs": [],
   "source": [
    "for plate in plates:\n",
    "    folders = all_folders.loc[all_folders[\"unique_id\"]==plate]\n",
    "    folders1 = folders.loc[folders[\"/Analysis/nx_graph_pruned_labeled.p\"] == True]\n",
    "    folders2 = folders.loc[folders[\"/Analysis/skeleton_compressed.mat\"] == True]  \n",
    "    print(plate,len(folders1),len(folders2),folders1['folder'].sort_values().iloc[0],folders2['folder'].sort_values().iloc[0])\n",
    "    # if plate == '13_20220422':\n",
    "    #     break"
   ]
  },
  {
   "cell_type": "code",
   "execution_count": null,
   "id": "1e2c1213-6d85-4cac-859d-84748ba0f661",
   "metadata": {},
   "outputs": [],
   "source": [
    "folders1['folder'].sort_values(),folders2['folder']"
   ]
  },
  {
   "cell_type": "code",
   "execution_count": null,
   "id": "4f2220bf-6085-4b02-9564-dc097162802a",
   "metadata": {
    "jupyter": {
     "outputs_hidden": true
    },
    "tags": []
   },
   "outputs": [],
   "source": [
    "name_job = \"empty\"\n",
    "dir_drop = \"DATA/PRINCE\"\n",
    "delete = True\n",
    "run_parallel_transfer(\n",
    "    \"toward_drop.py\",\n",
    "    [dir_drop, delete],\n",
    "    folders,\n",
    "    50,\n",
    "    \"24:00:00\",\n",
    "    \"staging\",\n",
    "    cpus=1,\n",
    "    node=\"staging\",\n",
    "    name_job=name_job,\n",
    ")"
   ]
  },
  {
   "cell_type": "code",
   "execution_count": null,
   "id": "14d64989-c933-494e-84c4-0d25b6709f1b",
   "metadata": {
    "tags": []
   },
   "outputs": [],
   "source": [
    "plates = [plate for plate in all_folders[\"unique_id\"].unique() if plate not in plates]"
   ]
  },
  {
   "cell_type": "code",
   "execution_count": null,
   "id": "6b0c0db3-50bf-4f92-ba08-f336012b0ec2",
   "metadata": {},
   "outputs": [],
   "source": [
    "from amftrack.pipeline.launching.run_super import (\n",
    "    run_parallel,\n",
    "    run_launcher,\n",
    "    run_parallel_all_time,\n",
    ")\n",
    "args = [directory_targ]\n",
    "num_parallel = 32\n",
    "name_job = \"agg_rerun\"\n",
    "time = \"6:00:00\"\n",
    "run_parallel_all_time(\n",
    "    \"make_labeled_graphs.py\",\n",
    "    args,\n",
    "    folders,\n",
    "    num_parallel,\n",
    "    time,\n",
    "    \"make_graphs\",\n",
    "    cpus=32,\n",
    "    node=\"thin\",\n",
    "    dependency=True,\n",
    "    name_job=name_job,\n",
    ")"
   ]
  },
  {
   "cell_type": "code",
   "execution_count": null,
   "id": "89a5397f-125b-4b74-bcad-f64faf4c307e",
   "metadata": {
    "tags": []
   },
   "outputs": [],
   "source": [
    "all_folders[\"unique_id\"].unique()"
   ]
  },
  {
   "cell_type": "code",
   "execution_count": null,
   "id": "02db398f-9a0e-41e4-97a8-ee00a57e98c8",
   "metadata": {
    "jupyter": {
     "outputs_hidden": true
    },
    "tags": []
   },
   "outputs": [],
   "source": [
    "folders.loc[folders[\"/Analysis/transform.mat\"] == True]"
   ]
  },
  {
   "cell_type": "code",
   "execution_count": null,
   "id": "4266288f-27bc-4a79-a988-44eea70c16d2",
   "metadata": {
    "jupyter": {
     "outputs_hidden": true
    },
    "tags": []
   },
   "outputs": [],
   "source": [
    "from amftrack.pipeline.launching.run_super import run_parallel, run_launcher\n",
    "\n",
    "name_job = \"malin\"\n",
    "stage = 30\n",
    "args = [directory_targ]\n",
    "for plate in plates:\n",
    "    select = folders.loc[folders[\"unique_id\"] == plate]\n",
    "    num_parallel = 32\n",
    "    time = \"10:00\"\n",
    "    args = [directory_targ]\n",
    "    run_parallel(\n",
    "        \"realign.py\",\n",
    "        args,\n",
    "        select,\n",
    "        num_parallel,\n",
    "        time,\n",
    "        \"create_realign\",\n",
    "        cpus=32,\n",
    "        node=\"fat\",\n",
    "        name_job=name_job,\n",
    "    )\n",
    "\n",
    "run_launcher(\n",
    "    \"graph_extracter.py\",\n",
    "    [directory_targ, name_job, stage - 1],\n",
    "    plates,\n",
    "    \"3:00:00\",\n",
    "    dependency=True,\n",
    "    name_job=name_job,\n",
    ")"
   ]
  },
  {
   "cell_type": "code",
   "execution_count": null,
   "id": "cc02f898-d953-4d8b-8c1c-eb42711aeb09",
   "metadata": {},
   "outputs": [],
   "source": [
    "name_job = \"rerun\"\n",
    "run_launcher(\n",
    "    \"post_processer_1.py\",\n",
    "    [directory_targ, name_job, 10],\n",
    "    plates,\n",
    "    \"3:00:00\",\n",
    "    dependency=True,\n",
    "    name_job=name_job,\n",
    ")"
   ]
  },
  {
   "cell_type": "code",
   "execution_count": null,
   "id": "2da38319-35b9-4a35-9eae-a3067f75e390",
   "metadata": {
    "jupyter": {
     "outputs_hidden": true
    },
    "tags": []
   },
   "outputs": [],
   "source": [
    "from amftrack.util.dbx import upload_folder\n",
    "\n",
    "update_analysis_info(directory_targ)\n",
    "analysis_info = get_analysis_info(directory_targ)\n",
    "analysis_folders = analysis_info.loc[analysis_info[\"unique_id\"].isin(plates)]\n",
    "dir_drop = \"DATA/PRINCE\"\n",
    "\n",
    "for index, row in analysis_folders.iterrows():\n",
    "    folder = row[\"folder_analysis\"]\n",
    "    id_unique = row[\"unique_id\"]\n",
    "    path = os.path.join(directory_targ, folder)\n",
    "    target_drop = f\"/{dir_drop}/{id_unique}/{folder}\"\n",
    "    print(dir_drop)\n",
    "    upload_folder(path, target_drop, delete=False)"
   ]
  },
  {
   "cell_type": "code",
   "execution_count": null,
   "id": "1e9a1654-a956-44a2-ab19-9d0958bcf56e",
   "metadata": {
    "jupyter": {
     "outputs_hidden": true
    },
    "tags": []
   },
   "outputs": [],
   "source": [
    "from amftrack.pipeline.functions.post_processing.exp_plot import *\n",
    "from amftrack.pipeline.launching.run_super import run_parallel_post\n",
    "\n",
    "name_job = \"malin\"\n",
    "time = \"1:00:00\"\n",
    "list_f = [plot_tracking]\n",
    "update_analysis_info(directory_targ)\n",
    "analysis_info = get_analysis_info(directory_targ)\n",
    "analysis_folders = analysis_info.loc[analysis_info[\"unique_id\"].isin(plates)]\n",
    "directory = directory_targ\n",
    "list_args = [[]] * len(list_f)\n",
    "overwrite = True\n",
    "num_parallel = 100\n",
    "run_parallel_post(\n",
    "    \"exp_plot.py\",\n",
    "    list_f,\n",
    "    list_args,\n",
    "    [directory, overwrite],\n",
    "    analysis_folders,\n",
    "    num_parallel,\n",
    "    time,\n",
    "    \"global_plate_post_process\",\n",
    "    cpus=128,\n",
    "    name_job=name_job,\n",
    "    node=\"fat\",\n",
    ")"
   ]
  },
  {
   "cell_type": "code",
   "execution_count": null,
   "id": "614f4ffb-73dc-4653-a6dd-51a04dac7d34",
   "metadata": {
    "jupyter": {
     "outputs_hidden": true
    },
    "tags": []
   },
   "outputs": [],
   "source": [
    "from amftrack.pipeline.functions.post_processing.time_hypha import *\n",
    "import pandas as pd\n",
    "import os\n",
    "\n",
    "update_analysis_info(directory_targ)\n",
    "analysis_info = get_analysis_info(directory_targ)\n",
    "analysis_folders = analysis_info.loc[analysis_info[\"unique_id\"].isin(plates)]\n",
    "list_f = [\n",
    "    get_pos_x,\n",
    "    get_pos_y,\n",
    "    get_time_since_begin_exp,\n",
    "    get_distance_final_pos,\n",
    "    get_timedelta,\n",
    "    get_time_since_start,\n",
    "    get_speed,\n",
    "    get_timestep,\n",
    "    get_timestep_init,\n",
    "    get_time_init,\n",
    "    get_degree,\n",
    "    get_width_tip_edge,\n",
    "    get_width_root_edge,\n",
    "    get_width_average,\n",
    "    get_has_reached_final_pos,\n",
    "    get_in_ROI,\n",
    "]\n",
    "# list_f = [local_density,local_density,local_density]\n",
    "# list_f = [get_time_since_begin_exp]\n",
    "# list_f = [get_width_tip_edge, get_width_root_edge]\n",
    "list_args = [{}] * len(list_f)\n",
    "# list_args= [[500],[1000],[2000]]+[[]]\n",
    "# list_args= [[500]]\n",
    "overwrite = True\n",
    "load_graphs = True\n",
    "num_parallel = 32\n",
    "time = \"10:00\"\n",
    "for index, row in analysis_folders.iterrows():\n",
    "    folder = row[\"folder_analysis\"]\n",
    "    path_time_plate_info = row[\"path_time_plate_info\"]\n",
    "    plate = row[\"Plate\"]\n",
    "    num_cpus = 32\n",
    "    if os.path.isfile(f\"{directory_targ}{path_time_plate_info}\"):\n",
    "        whole_plate_info = pd.read_json(\n",
    "            f\"{directory_targ}{path_time_plate_info}\", convert_dates=True\n",
    "        ).transpose()\n",
    "        whole_plate_info.index.name = \"t\"\n",
    "        whole_plate_info.reset_index(inplace=True)\n",
    "        run_parallel_post(\n",
    "            \"time_hypha_post_process.py\",\n",
    "            list_f,\n",
    "            list_args,\n",
    "            [directory_targ, overwrite, load_graphs],\n",
    "            whole_plate_info,\n",
    "            num_parallel,\n",
    "            time,\n",
    "            \"time_hypha_post_process\",\n",
    "            cpus=num_cpus,\n",
    "            name_job=name_job,\n",
    "            node=\"fat\",\n",
    "        )"
   ]
  },
  {
   "cell_type": "code",
   "execution_count": null,
   "id": "6371d560-07ea-4d5a-802b-303bc66492b8",
   "metadata": {
    "tags": []
   },
   "outputs": [],
   "source": [
    "from amftrack.pipeline.launching.run_super import (\n",
    "    run_parallel,\n",
    "    run_launcher,\n",
    "    run_parallel_all_time,\n",
    ")\n",
    "\n",
    "folders = all_folders.loc[all_folders[\"unique_id\"].isin(plates)]\n",
    "folders = folders.loc[folders[\"/Analysis/nx_graph_pruned_labeled.p\"] == True]\n",
    "args = [directory_targ]\n",
    "num_parallel = 32\n",
    "time = \"1:00:00\"\n",
    "limit = 200\n",
    "version = 1\n",
    "suffix = \"_labeled\"\n",
    "lim_considered = 10\n",
    "args = [directory_targ, limit, version, suffix, lim_considered]\n",
    "run_parallel_all_time(\n",
    "    \"hyphae_extraction.py\",\n",
    "    args,\n",
    "    folders,\n",
    "    num_parallel,\n",
    "    time,\n",
    "    \"hyphae\",\n",
    "    cpus=32,\n",
    "    node=\"fat\",\n",
    "    name_job=\"test\",\n",
    ")"
   ]
  },
  {
   "cell_type": "code",
   "execution_count": null,
   "id": "a30fd802-a1fe-461f-b1b6-1b1fa1060319",
   "metadata": {},
   "outputs": [],
   "source": [
    "folders = folders.loc[folders[\"/Analysis/nx_graph_pruned_labeled.p\"] == True]\n",
    "len(folders)"
   ]
  },
  {
   "cell_type": "code",
   "execution_count": null,
   "id": "c454083a-a612-4a78-aeb3-a63286412f69",
   "metadata": {},
   "outputs": [],
   "source": [
    "len(list(set(folders[\"unique_id\"].values)))"
   ]
  },
  {
   "cell_type": "code",
   "execution_count": null,
   "id": "625db32c-0d4d-4d84-a9d3-e56e905c7903",
   "metadata": {},
   "outputs": [],
   "source": [
    "stage = 20\n",
    "run_launcher(\n",
    "    \"post_processer_1.py\",\n",
    "    [directory_targ, name_job, stage - 1],\n",
    "    plates,\n",
    "    \"20:00\",\n",
    "    dependency=True,\n",
    "    name_job=\"test\",\n",
    ")"
   ]
  },
  {
   "cell_type": "code",
   "execution_count": null,
   "id": "453b9b49-e057-42af-81ba-4b370a36b07c",
   "metadata": {
    "jupyter": {
     "outputs_hidden": true
    },
    "tags": []
   },
   "outputs": [],
   "source": [
    "update_analysis_info(directory_targ)\n",
    "analysis_info = get_analysis_info(directory_targ)\n",
    "analysis_folders = analysis_info.loc[analysis_info[\"unique_id\"].isin(plates)]"
   ]
  },
  {
   "cell_type": "code",
   "execution_count": null,
   "id": "bb82a5fa-3b92-41bc-a92e-a004490c7455",
   "metadata": {},
   "outputs": [],
   "source": [
    "analysis_folders"
   ]
  },
  {
   "cell_type": "code",
   "execution_count": null,
   "id": "50d39007-aa12-4eaa-9df0-f0abab2833b7",
   "metadata": {},
   "outputs": [],
   "source": [
    "# name_job = f\"one_shot_{time_ns()}.sh\"\n",
    "\n",
    "from amftrack.pipeline.launching.run_super import run_parallel_post\n",
    "from amftrack.pipeline.functions.post_processing.global_plate import *\n",
    "from amftrack.pipeline.functions.post_processing.time_plate import *\n",
    "from amftrack.pipeline.functions.post_processing.global_hypha import *\n",
    "from amftrack.pipeline.functions.post_processing.area_hulls import *\n",
    "from amftrack.pipeline.launching.run_super import run_parallel, run_launcher\n",
    "from amftrack.pipeline.functions.post_processing.exp_plot import *\n",
    "\n",
    "time = \"24:00:00\"\n",
    "directory = directory_targ\n",
    "max_ind = 20\n",
    "incr = 100\n",
    "fs = [\n",
    "    get_density_in_ring,\n",
    "    get_density_anastomose_in_ring,\n",
    "    # get_density_branch_rate_in_ring,\n",
    "    # get_density_stop_rate_in_ring,\n",
    "    get_density_active_tips_in_ring,\n",
    "]\n",
    "# fs = [get_mean_speed_in_ring]\n",
    "\n",
    "list_f = []\n",
    "list_args = []\n",
    "\n",
    "for f in fs:\n",
    "    list_f += [f] * max_ind\n",
    "\n",
    "    list_args += [{\"incr\": incr, \"i\": i, \"rh_only\": True} for i in range(max_ind)]\n",
    "overwrite = False\n",
    "num_parallel = 30\n",
    "run_parallel_post(\n",
    "    \"time_plate_post_process.py\",\n",
    "    list_f,\n",
    "    list_args,\n",
    "    [directory, overwrite],\n",
    "    analysis_folders,\n",
    "    num_parallel,\n",
    "    time,\n",
    "    \"time_plate_post_process\",\n",
    "    cpus=32,\n",
    "    name_job=name_job,\n",
    "    node=\"fat\",\n",
    "    dependency=True,\n",
    ")\n",
    "run_launcher(\n",
    "    \"analysis_uploader.py\",\n",
    "    [directory_targ, name_job],\n",
    "    plates,\n",
    "    \"12:00:00\",\n",
    "    dependency=True,\n",
    "    name_job=name_job,\n",
    ")"
   ]
  },
  {
   "cell_type": "code",
   "execution_count": null,
   "id": "be6cc993-f4e0-4008-aace-b1fa59150df2",
   "metadata": {},
   "outputs": [],
   "source": [
    "from amftrack.pipeline.launching.run_super import run_parallel, run_launcher\n",
    "\n",
    "name_job = \"malin\"\n",
    "\n",
    "num_parallel = 100\n",
    "time = \"20:00\"\n",
    "args = [directory_targ]\n",
    "run_parallel(\n",
    "    \"compress_image.py\",\n",
    "    args,\n",
    "    folders,\n",
    "    num_parallel,\n",
    "    time,\n",
    "    \"compress\",\n",
    "    cpus=128,\n",
    "    node=\"fat\",\n",
    "    name_job=name_job,\n",
    ")"
   ]
  },
  {
   "cell_type": "code",
   "execution_count": null,
   "id": "9dcd9efc-585c-4333-a48c-a3f18ee134cb",
   "metadata": {},
   "outputs": [],
   "source": [
    "from amftrack.pipeline.launching.run_super import run_parallel, run_launcher\n",
    "\n",
    "num_parallel = 50\n",
    "time = \"12:00:00\"\n",
    "hyph_width = 30\n",
    "perc_low = 93\n",
    "perc_high = 99.5\n",
    "args = [hyph_width, perc_low, perc_high, directory_targ]\n",
    "run_parallel(\n",
    "    \"extract_skel_2.py\",\n",
    "    args,\n",
    "    folders,\n",
    "    num_parallel,\n",
    "    time,\n",
    "    \"skeletonization\",\n",
    "    cpus=128,\n",
    "    node=\"fat\",\n",
    "    name_job=name_job,\n",
    ")"
   ]
  },
  {
   "cell_type": "code",
   "execution_count": null,
   "id": "42455272-081b-43a0-b69e-6e0dab68ff77",
   "metadata": {},
   "outputs": [],
   "source": [
    "from amftrack.pipeline.launching.run_super import run_parallel, run_launcher\n",
    "\n",
    "num_parallel = 100\n",
    "time = \"20:00\"\n",
    "args = [directory_targ]\n",
    "run_parallel(\n",
    "    \"detect_blob.py\",\n",
    "    args,\n",
    "    folders,\n",
    "    num_parallel,\n",
    "    time,\n",
    "    \"detect_blob\",\n",
    "    cpus=128,\n",
    "    node=\"fat\",\n",
    "    name_job=name_job,\n",
    ")"
   ]
  },
  {
   "cell_type": "code",
   "execution_count": null,
   "id": "706dce62-3dc8-4c0b-b297-0213da796b2f",
   "metadata": {},
   "outputs": [],
   "source": [
    "name_job = \"malin\"\n",
    "\n",
    "run_launcher(\n",
    "    \"masker.py\",\n",
    "    [directory_targ, name_job, 30],\n",
    "    plates,\n",
    "    \"3:00:00\",\n",
    "    dependency=True,\n",
    "    name_job=name_job,\n",
    ")"
   ]
  },
  {
   "cell_type": "code",
   "execution_count": null,
   "id": "f371697c-0d27-40e2-8b68-8d9ad947ee9c",
   "metadata": {},
   "outputs": [],
   "source": [
    "from amftrack.pipeline.launching.run_super import run_parallel_all_time, run_launcher\n",
    "\n",
    "folders = all_folders.loc[all_folders[\"unique_id\"].isin(plates)]\n",
    "folders = folders.loc[folders[\"/Img/TileConfiguration.txt.registered\"] == True]\n",
    "num_parallel = 50\n",
    "time = \"10:00\"\n",
    "args = []\n",
    "run_parallel_all_time(\n",
    "    \"make_video_stitched.py\",\n",
    "    args,\n",
    "    folders,\n",
    "    num_parallel,\n",
    "    time,\n",
    "    \"make_video\",\n",
    "    cpus=32,\n",
    "    node=\"fat\",\n",
    "    dependency=False,\n",
    "    name_job=\"video\",\n",
    ")"
   ]
  },
  {
   "cell_type": "code",
   "execution_count": null,
   "id": "6bb3b8f2-51c2-4a2b-b38c-e369dfbad277",
   "metadata": {},
   "outputs": [],
   "source": [
    "plates = [\n",
    "    \"105_20220817\",\n",
    "    \"77_20220808\",\n",
    "    \"71_20220817\",\n",
    "    \"100_20220812\",\n",
    "    \"117_20220815\",\n",
    "    \"99_20220815\",\n",
    "    \"75_20220808\",\n",
    "    \"226_20220812\",\n",
    "]"
   ]
  },
  {
   "cell_type": "code",
   "execution_count": null,
   "id": "5d7f5622-0995-4bc4-9f1a-665e35b9425b",
   "metadata": {
    "tags": []
   },
   "outputs": [],
   "source": [
    "folders = all_folders.loc[all_folders[\"Plate\"].isin([\"32\"])]"
   ]
  },
  {
   "cell_type": "code",
   "execution_count": null,
   "id": "3bce3711-f0df-422d-8ebf-a43a23e1a840",
   "metadata": {
    "tags": []
   },
   "outputs": [],
   "source": [
    "from amftrack.pipeline.launching.run_super import *\n",
    "\n",
    "num_parallel = 32\n",
    "time = \"8:00:00\"\n",
    "limit = 200\n",
    "version = 1\n",
    "labeled = True\n",
    "args = [directory_targ, limit, version, labeled]\n",
    "run_parallel_all_time(\n",
    "    \"hyphae_extraction.py\",\n",
    "    args,\n",
    "    folders,\n",
    "    num_parallel,\n",
    "    time,\n",
    "    \"hyphae\",\n",
    "    cpus=32,\n",
    "    node=\"fat\",\n",
    ")"
   ]
  },
  {
   "cell_type": "code",
   "execution_count": null,
   "id": "0d0eeec2-4e63-4b1b-972d-f76bd6a035bf",
   "metadata": {},
   "outputs": [],
   "source": [
    "from amftrack.pipeline.launching.run_super import run_parallel, run_launcher\n",
    "\n",
    "for plate in plates:\n",
    "    select = folders.loc[folders[\"Plate\"] == plate]\n",
    "    num_parallel = 128\n",
    "    time = \"12:00:00\"\n",
    "    thresh = 10000  # For R. irregularis, thresh 10000 is good. For Aggregatum, higher may be necessary\n",
    "    args = [thresh, directory_targ]\n",
    "    run_parallel(\n",
    "        \"final_alignment.py\",\n",
    "        args,\n",
    "        select,\n",
    "        num_parallel,\n",
    "        time,\n",
    "        \"realign\",\n",
    "        cpus=128,\n",
    "        node=\"fat\",\n",
    "        name_job=name_job,\n",
    "    )"
   ]
  },
  {
   "cell_type": "code",
   "execution_count": null,
   "id": "656f2038-0660-4d13-acd0-7580b56a8a84",
   "metadata": {},
   "outputs": [],
   "source": [
    "plates"
   ]
  },
  {
   "cell_type": "code",
   "execution_count": null,
   "id": "6323eacb-c44e-463b-90e7-bf55aaf43ab1",
   "metadata": {},
   "outputs": [],
   "source": [
    "select"
   ]
  },
  {
   "cell_type": "code",
   "execution_count": null,
   "id": "aae06165-b345-4cf1-9404-52abd616e3d0",
   "metadata": {},
   "outputs": [],
   "source": [
    "i = 0\n",
    "run_info = folders\n",
    "folder_list = list(run_info[\"folder\"])\n",
    "folder_list.sort()\n",
    "\n",
    "dates_datetime_chosen = folder_list[i : i + 2]\n",
    "print(\"========\")\n",
    "print(f\"Matching plate {dates_datetime_chosen[0]} at dates {dates_datetime_chosen}\")\n",
    "print(\"========\")\n",
    "dates = dates_datetime_chosen"
   ]
  },
  {
   "cell_type": "code",
   "execution_count": null,
   "id": "0556ab5e-23a7-4259-9c1f-e183de22004f",
   "metadata": {},
   "outputs": [],
   "source": [
    "from amftrack.pipeline.launching.run_super import run_parallel_post\n",
    "from amftrack.pipeline.functions.post_processing.global_plate import *\n",
    "from amftrack.pipeline.functions.post_processing.time_plate import *\n",
    "from amftrack.pipeline.functions.post_processing.global_hypha import *\n",
    "from amftrack.pipeline.functions.post_processing.area_hulls import *\n",
    "from amftrack.pipeline.launching.run_super import run_parallel, run_launcher\n",
    "from amftrack.pipeline.functions.post_processing.exp_plot import *\n",
    "\n",
    "update_analysis_info(directory_targ)\n",
    "analysis_info = get_analysis_info(directory_targ)\n",
    "analysis_folders = analysis_info.loc[analysis_info[\"unique_id\"].isin(plates)]\n",
    "directory = directory_targ"
   ]
  },
  {
   "cell_type": "code",
   "execution_count": null,
   "id": "029954ec-42f9-4ba2-9dbe-137682996560",
   "metadata": {
    "tags": []
   },
   "outputs": [],
   "source": [
    "time = \"3:40:00\"\n",
    "directory = directory_targ\n",
    "# list_f = [get_width_f,get_tot_length_C_f,get_tot_growth_C_f]\n",
    "# list_f = [get_timestep_anastomosis]\n",
    "list_f = [\n",
    "    gets_out_of_ROI,\n",
    "    get_width_f,\n",
    "    get_tot_length_C_f,\n",
    "    get_tot_growth_C_f,\n",
    "    get_tot_length_pp_f,\n",
    "    get_tot_growth_pp_f,\n",
    "    get_timestep_stop_growth,\n",
    "    get_time_stop_growth,\n",
    "    get_time_init_growth,\n",
    "    get_mean_speed_growth,\n",
    "    get_stop_track,\n",
    "    get_timestep_anastomosis,\n",
    "    get_timestep_biological_stop_growth,\n",
    "]\n",
    "# list_f = [get_num_branch]\n",
    "# list_f = [gets_out_of_ROI]\n",
    "list_args = [{}] * len(list_f)\n",
    "overwrite = False\n",
    "num_parallel = 32\n",
    "run_parallel_post(\n",
    "    \"global_hypha_post_process.py\",\n",
    "    list_f,\n",
    "    list_args,\n",
    "    [directory, overwrite],\n",
    "    analysis_folders,\n",
    "    num_parallel,\n",
    "    time,\n",
    "    \"global_hypha_post_process\",\n",
    "    cpus=32,\n",
    "    name_job=\"a\",\n",
    "    node=\"fat\",\n",
    ")"
   ]
  },
  {
   "cell_type": "code",
   "execution_count": null,
   "id": "bac5d4ee-b1e5-4027-8f98-8f7c1d7d7726",
   "metadata": {
    "jupyter": {
     "outputs_hidden": true
    },
    "tags": []
   },
   "outputs": [],
   "source": [
    "import sys\n",
    "from amftrack.util.sys import (\n",
    "    update_analysis_info,\n",
    "    get_analysis_info,\n",
    ")\n",
    "from amftrack.pipeline.launching.run_super import run_parallel_post\n",
    "from amftrack.pipeline.functions.post_processing.time_hypha import *\n",
    "from amftrack.pipeline.launching.run_super import run_parallel, run_launcher\n",
    "import pandas as pd\n",
    "import os\n",
    "\n",
    "list_f = [\n",
    "    get_pos_x,\n",
    "    get_pos_y,\n",
    "    get_time_since_begin_exp,\n",
    "    get_distance_final_pos,\n",
    "    get_timedelta,\n",
    "    get_time_since_start,\n",
    "    get_speed,\n",
    "    get_timestep,\n",
    "    get_timestep_init,\n",
    "    get_time_init,\n",
    "    get_degree,\n",
    "    get_width_tip_edge,\n",
    "    get_width_root_edge,\n",
    "    get_width_average,\n",
    "    has_reached_final_pos,\n",
    "    in_ROI,\n",
    "]\n",
    "# list_f = [local_density,local_density,local_density]\n",
    "# list_f = [get_time_since_begin_exp]\n",
    "# list_f = [get_width_tip_edge, get_width_root_edge]\n",
    "list_args = [{}] * len(list_f)\n",
    "# list_args= [[500],[1000],[2000]]+[[]]\n",
    "# list_args= [[500]]\n",
    "overwrite = False\n",
    "load_graphs = True\n",
    "num_parallel = 32\n",
    "time = \"12:00:00\"\n",
    "for index, row in analysis_folders.iterrows():\n",
    "    folder = row[\"folder_analysis\"]\n",
    "    path_time_plate_info = row[\"path_time_plate_info\"]\n",
    "    plate = row[\"Plate\"]\n",
    "    num_cpus = 32\n",
    "    if os.path.isfile(f\"{directory_targ}{path_time_plate_info}\"):\n",
    "        whole_plate_info = pd.read_json(\n",
    "            f\"{directory_targ}{path_time_plate_info}\", convert_dates=True\n",
    "        ).transpose()\n",
    "        whole_plate_info.index.name = \"t\"\n",
    "        whole_plate_info.reset_index(inplace=True)\n",
    "        run_parallel_post(\n",
    "            \"time_hypha_post_process.py\",\n",
    "            list_f,\n",
    "            list_args,\n",
    "            [directory_targ, overwrite, load_graphs],\n",
    "            whole_plate_info,\n",
    "            num_parallel,\n",
    "            time,\n",
    "            \"time_hypha_post_process\",\n",
    "            cpus=num_cpus,\n",
    "            name_job=name_job,\n",
    "            node=\"fat\",\n",
    "        )"
   ]
  }
 ],
 "metadata": {
  "kernelspec": {
   "display_name": "Python 3 (ipykernel)",
   "language": "python",
   "name": "python3"
  },
  "language_info": {
   "codemirror_mode": {
    "name": "ipython",
    "version": 3
   },
   "file_extension": ".py",
   "mimetype": "text/x-python",
   "name": "python",
   "nbconvert_exporter": "python",
   "pygments_lexer": "ipython3",
   "version": "3.7.13"
  }
 },
 "nbformat": 4,
 "nbformat_minor": 5
}

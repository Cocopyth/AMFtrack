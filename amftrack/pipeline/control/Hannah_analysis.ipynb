{
 "cells": [
  {
   "cell_type": "code",
   "execution_count": null,
   "id": "d61cb317-5597-4915-b811-dd1468f384ef",
   "metadata": {
    "collapsed": true,
    "jupyter": {
     "outputs_hidden": true
    },
    "tags": []
   },
   "outputs": [],
   "source": [
    "%load_ext autoreload\n",
    "%autoreload 2\n",
    "from amftrack.pipeline.launching.run_super import (\n",
    "    run_launcher,\n",
    "    directory_scratch,\n",
    "    directory_project,\n",
    "    directory_project,\n",
    "    run_parallel_stitch,\n",
    "    run_parallel_transfer,\n",
    ")\n",
    "import os\n",
    "from amftrack.util.sys import (\n",
    "    get_dates_datetime,\n",
    "    get_dirname,\n",
    "    temp_path,\n",
    "    get_data_info,\n",
    "    update_plate_info,\n",
    "    update_analysis_info,\n",
    "    get_analysis_info,\n",
    "    get_current_folders,\n",
    "    get_folders_by_plate_id,\n",
    ")\n",
    "\n",
    "from time import time_ns\n",
    "from amftrack.util.dbx import (\n",
    "    upload_folders,\n",
    "    load_dbx,\n",
    "    download,\n",
    "    get_dropbox_folders_prince,\n",
    ")\n",
    "from datetime import datetime\n",
    "from amftrack.pipeline.launching.run_super import (\n",
    "    run_parallel,\n",
    "    directory_scratch,\n",
    "    directory_project,\n",
    "    run_parallel_stitch,\n",
    ")\n",
    "from amftrack.util.dbx import read_saved_dropbox_state, get_dropbox_folders_prince\n",
    "\n",
    "%load_ext autoreload\n",
    "%autoreload 2\n",
    "%matplotlib widget\n",
    "\n",
    "from amftrack.pipeline.launching.run_super import (\n",
    "    run_launcher,\n",
    "    directory_scratch,\n",
    "    directory_project,\n",
    "    directory_project,\n",
    "    run_parallel_stitch,\n",
    "    run_parallel_transfer,\n",
    ")\n",
    "import os\n",
    "from amftrack.util.sys import (\n",
    "    get_dates_datetime,\n",
    "    get_dirname,\n",
    "    temp_path,\n",
    "    get_data_info,\n",
    "    update_plate_info,\n",
    "    update_analysis_info,\n",
    "    get_analysis_info,\n",
    "    get_current_folders,\n",
    "    get_folders_by_plate_id,\n",
    ")\n",
    "\n",
    "from time import time_ns\n",
    "from amftrack.util.dbx import (\n",
    "    upload_folders,\n",
    "    load_dbx,\n",
    "    download,\n",
    "    get_dropbox_folders_prince,\n",
    ")\n",
    "from datetime import datetime\n",
    "from amftrack.pipeline.launching.run_super import (\n",
    "    run_parallel,\n",
    "    directory_scratch,\n",
    "    directory_project,\n",
    "    run_parallel_stitch,\n",
    ")\n",
    "from amftrack.util.dbx import read_saved_dropbox_state, get_dropbox_folders_prince\n",
    "import sys\n",
    "import os\n",
    "\n",
    "from amftrack.util.sys import get_dirname, temp_path\n",
    "import pandas as pd\n",
    "import ast\n",
    "from scipy import sparse\n",
    "import scipy.io as sio\n",
    "import cv2\n",
    "import imageio.v2 as imageio\n",
    "import numpy as np\n",
    "import scipy.sparse\n",
    "import os\n",
    "from time import time\n",
    "from amftrack.pipeline.functions.image_processing.extract_skel import (\n",
    "    extract_skel_new_prince,\n",
    "    run_back_sub,\n",
    "    bowler_hat,\n",
    ")\n",
    "\n",
    "from amftrack.util.sys import get_dates_datetime, get_dirname\n",
    "import shutil\n",
    "import matplotlib.pyplot as plt\n",
    "from amftrack.pipeline.functions.image_processing.experiment_class_surf import (\n",
    "    Experiment,\n",
    "    save_graphs,\n",
    "    load_graphs,\n",
    ")\n",
    "from amftrack.pipeline.functions.image_processing.experiment_util import (\n",
    "    get_random_edge,\n",
    "    distance_point_edge,\n",
    "    plot_edge,\n",
    "    plot_edge_cropped,\n",
    "    find_nearest_edge,\n",
    "    get_edge_from_node_labels,\n",
    "    plot_full_image_with_features,\n",
    "    get_all_edges,\n",
    "    get_all_nodes,\n",
    "    find_neighboring_edges,\n",
    "    reconstruct_image,\n",
    "    reconstruct_skeletton_from_edges,\n",
    "    reconstruct_skeletton_unicolor,\n",
    "    reconstruct_image_from_general,\n",
    "    plot_full,\n",
    ")"
   ]
  },
  {
   "cell_type": "code",
   "execution_count": null,
   "id": "42494f9a-200b-40d2-9e7b-8fbe12aea72c",
   "metadata": {
    "collapsed": true,
    "jupyter": {
     "outputs_hidden": true
    },
    "tags": []
   },
   "outputs": [],
   "source": [
    "dir_drop = \"/DATA/MYRISTATE/PRINCE\"\n",
    "all_folders_drop = get_dropbox_folders_prince(dir_drop)\n",
    "# all_folders_drop = read_saved_dropbox_state(\"/DATA/PRINCE\")"
   ]
  },
  {
   "cell_type": "code",
   "execution_count": null,
   "id": "b1cc3508-2236-49d5-a821-cef0f3432d10",
   "metadata": {
    "tags": []
   },
   "outputs": [],
   "source": [
    "plates = list(all_folders_drop[\"unique_id\"].unique())\n",
    "plates"
   ]
  },
  {
   "cell_type": "code",
   "execution_count": null,
   "id": "5592bf16-98fb-4aa6-a20f-72a0365fe440",
   "metadata": {},
   "outputs": [],
   "source": [
    "folders_drop = all_folders_drop.loc[~all_folders_drop[\"unique_id\"].isin(plates)]"
   ]
  },
  {
   "cell_type": "code",
   "execution_count": null,
   "id": "5937f5e8-9d58-4de4-80f1-3d76dc6062fb",
   "metadata": {
    "tags": []
   },
   "outputs": [],
   "source": [
    "folders_drop = all_folders_drop"
   ]
  },
  {
   "cell_type": "code",
   "execution_count": null,
   "id": "81d239c6-af0a-4ab3-9fe4-a7b834254f4d",
   "metadata": {
    "tags": []
   },
   "outputs": [],
   "source": [
    "folders_drop = all_folders_drop.loc[\n",
    "    all_folders_drop[\"unique_id\"].isin([\"faulty_param_files\"])\n",
    "]"
   ]
  },
  {
   "cell_type": "code",
   "execution_count": null,
   "id": "9fb30d01-cec8-41a5-916d-f563f0627179",
   "metadata": {
    "collapsed": true,
    "jupyter": {
     "outputs_hidden": true
    },
    "tags": []
   },
   "outputs": [],
   "source": [
    "folders_drop"
   ]
  },
  {
   "cell_type": "code",
   "execution_count": null,
   "id": "22e85eed-ca27-45a9-890b-1278f3a172dc",
   "metadata": {
    "collapsed": true,
    "jupyter": {
     "outputs_hidden": true
    },
    "tags": []
   },
   "outputs": [],
   "source": [
    "import shutil\n",
    "\n",
    "directory_targ = os.path.join(directory_scratch, \"stitch_temp2\") + \"/\"\n",
    "\n",
    "for folder in folders_drop[\"folder\"]:\n",
    "    # print(os.path.join(directory_targ,folder))\n",
    "    current_path = os.path.join(directory_targ, folder, \"Img\", \"Img\")\n",
    "    new_folder_path = os.path.join(directory_targ, folder, \"Img2\")\n",
    "    new_folder_path2 = os.path.join(directory_targ, folder, \"Img\")\n",
    "\n",
    "    if os.path.exists(current_path):\n",
    "        # if os.path.exists(os.path.join(directory_targ,folder)):\n",
    "        shutil.move(current_path, new_folder_path)\n",
    "        shutil.rmtree(os.path.join(directory_targ, folder, \"Img\"))\n",
    "        shutil.move(new_folder_path, new_folder_path2)\n",
    "\n",
    "        print(folder)\n",
    "        # shutil.rmtree(os.path.join(directory_targ,folder))\n",
    "        # break\n",
    "        # break"
   ]
  },
  {
   "cell_type": "code",
   "execution_count": null,
   "id": "491fe63f-f45d-440b-838b-7593b8bac353",
   "metadata": {},
   "outputs": [],
   "source": [
    "len(folders_drop)"
   ]
  },
  {
   "cell_type": "code",
   "execution_count": null,
   "id": "a85f4d31-0f90-4bef-8c7a-14ffa7c7a1c9",
   "metadata": {
    "collapsed": true,
    "jupyter": {
     "outputs_hidden": true
    },
    "tags": []
   },
   "outputs": [],
   "source": [
    "name_job = \"Myr\"\n",
    "directory_targ = directory_project\n",
    "\n",
    "\n",
    "run_parallel_transfer(\n",
    "    \"from_drop.py\",\n",
    "    [directory_targ],\n",
    "    folders_drop,\n",
    "    50,\n",
    "    \"4:00:00\",\n",
    "    \"staging\",\n",
    "    cpus=1,\n",
    "    node=\"staging\",\n",
    "    name_job=name_job,\n",
    ")"
   ]
  },
  {
   "cell_type": "code",
   "execution_count": null,
   "id": "91492d02-4b9a-4a83-be8d-5ec0d7d1bc31",
   "metadata": {},
   "outputs": [],
   "source": [
    "plates = list(all_folders_drop[\"unique_id\"])"
   ]
  },
  {
   "cell_type": "code",
   "execution_count": null,
   "id": "19c4bc0c-10b4-4c66-bf57-c16b26ce388c",
   "metadata": {
    "tags": []
   },
   "outputs": [],
   "source": [
    "directory_targ = directory_project\n",
    "update_plate_info(directory_targ, local=True)\n",
    "all_folders = get_current_folders(directory_targ, local=True)"
   ]
  },
  {
   "cell_type": "code",
   "execution_count": null,
   "id": "eaef5dd0-67cf-409f-9dd1-e3b99384cc2e",
   "metadata": {
    "tags": []
   },
   "outputs": [],
   "source": [
    "folders = all_folders.loc[all_folders[\"unique_id\"].isin(plates)]\n",
    "print(len(folders))\n",
    "folders = folders[folders[\"/Analysis/skeleton_realigned_compressed.mat\"] == False]\n",
    "print(len(folders))"
   ]
  },
  {
   "cell_type": "code",
   "execution_count": null,
   "id": "69cfe178-40ca-4b0c-944d-c8b5577f38c2",
   "metadata": {},
   "outputs": [],
   "source": [
    "folders[\"unique_id\"].unique()"
   ]
  },
  {
   "cell_type": "code",
   "execution_count": null,
   "id": "cab048d4-afcc-4a3a-b1d6-4499e5fddf5e",
   "metadata": {
    "tags": []
   },
   "outputs": [],
   "source": [
    "folders = all_folders.loc[all_folders[\"medium\"].str.contains(\"Myr\")]\n",
    "folders = folders.sort_values(by=\"datetime\")\n",
    "\n",
    "len(folders)"
   ]
  },
  {
   "cell_type": "code",
   "execution_count": null,
   "id": "478337c9-dcf2-454d-9295-b00d8eabdce4",
   "metadata": {
    "tags": []
   },
   "outputs": [],
   "source": [
    "# folders = all_folders.loc[all_folders[\"unique_id\"].isin(plates)]\n",
    "# dir_drop = \"DATA/PRINCE\"\n",
    "dir_drop = \"DATA/MYRISTATE/PRINCE\"\n",
    "name_job = \"load_back\"\n",
    "delete = True\n",
    "run_parallel_transfer(\n",
    "    \"toward_drop.py\",\n",
    "    [dir_drop, delete],\n",
    "    folders,\n",
    "    50,\n",
    "    \"4:00:00\",\n",
    "    \"staging\",\n",
    "    cpus=1,\n",
    "    node=\"staging\",\n",
    "    name_job=name_job,\n",
    ")"
   ]
  },
  {
   "cell_type": "code",
   "execution_count": null,
   "id": "f8c47587-7926-4411-ac29-21ed0ed923a2",
   "metadata": {},
   "outputs": [],
   "source": [
    "folders = all_folders.loc[all_folders[\"medium\"].str.contains(\"Myr\")]\n",
    "\n",
    "folders = folders.loc[folders[\"/Analysis/nx_graph_pruned.p\"] == True]\n",
    "len(folders)"
   ]
  },
  {
   "cell_type": "code",
   "execution_count": null,
   "id": "054b4693-4775-4178-bb8f-845c828c42e4",
   "metadata": {
    "tags": []
   },
   "outputs": [],
   "source": [
    "folders = all_folders.loc[all_folders[\"unique_id\"].isin(plates)]\n",
    "folders = folders.loc[folders[\"/Analysis/skeleton_realigned_compressed.mat\"] == True]\n",
    "num_parallel = 128\n",
    "time = \"2:00:00\"\n",
    "skip = False\n",
    "resolution = 10\n",
    "args = [directory_targ, skip, resolution]\n",
    "run_parallel(\n",
    "    \"extract_width.py\",\n",
    "    args,\n",
    "    folders,\n",
    "    num_parallel,\n",
    "    time,\n",
    "    \"extract_width2\",\n",
    "    cpus=128,\n",
    "    node=\"fat\",\n",
    "    name_job=name_job,\n",
    ")"
   ]
  },
  {
   "cell_type": "code",
   "execution_count": null,
   "id": "7e3b4700-a85e-4b49-a113-628d52f548ce",
   "metadata": {},
   "outputs": [],
   "source": [
    "name_job = \"fixing\"\n",
    "num_parallel = 128\n",
    "time = \"30:00\"\n",
    "args = [directory_targ]\n",
    "run_parallel(\n",
    "    \"extract_nx_graph.py\",\n",
    "    args,\n",
    "    folders,\n",
    "    num_parallel,\n",
    "    time,\n",
    "    \"extract_nx\",\n",
    "    cpus=128,\n",
    "    node=\"fat\",\n",
    "    name_job=name_job,\n",
    ")"
   ]
  },
  {
   "cell_type": "code",
   "execution_count": null,
   "id": "e384a46c-64ec-4abf-8980-bdc68a67a8fe",
   "metadata": {},
   "outputs": [],
   "source": [
    "dir_drop = \"DATA/MYRISTATE/Network_extraction\"\n",
    "\n",
    "delete = True\n",
    "run_parallel_transfer(\n",
    "    \"toward_drop.py\",\n",
    "    [dir_drop, delete],\n",
    "    folders,\n",
    "    50,\n",
    "    \"4:00:00\",\n",
    "    \"staging\",\n",
    "    cpus=1,\n",
    "    node=\"staging\",\n",
    "    name_job=\"hannah\",\n",
    ")"
   ]
  },
  {
   "cell_type": "code",
   "execution_count": null,
   "id": "dfd67f4b-bd52-4daf-913e-d71b575c86c0",
   "metadata": {},
   "outputs": [],
   "source": [
    "from amftrack.pipeline.functions.image_processing.experiment_class_surf import (\n",
    "    Experiment,\n",
    "    save_graphs,\n",
    "    load_graphs,\n",
    ")\n",
    "from amftrack.pipeline.functions.image_processing.experiment_util import (\n",
    "    get_random_edge,\n",
    "    distance_point_edge,\n",
    "    plot_edge,\n",
    "    plot_edge_cropped,\n",
    "    find_nearest_edge,\n",
    "    get_edge_from_node_labels,\n",
    "    plot_full_image_with_features,\n",
    "    get_all_edges,\n",
    "    get_all_nodes,\n",
    "    find_neighboring_edges,\n",
    "    reconstruct_image,\n",
    "    reconstruct_skeletton_from_edges,\n",
    "    reconstruct_skeletton_unicolor,\n",
    "    reconstruct_image_from_general,\n",
    "    plot_full,\n",
    ")"
   ]
  },
  {
   "cell_type": "code",
   "execution_count": null,
   "id": "df41a0b2-75ce-4949-85de-9a69dfdcbe02",
   "metadata": {},
   "outputs": [],
   "source": [
    "exp = Experiment(directory_targ)\n",
    "exp.load(folders.iloc[1:2], suffix=\"\")\n",
    "exp.dates.sort()\n",
    "for t in range(exp.ts):\n",
    "    exp.load_tile_information(t)\n",
    "\n",
    "for t in range(exp.ts):\n",
    "    exp.load_tile_information(t)\n",
    "\n",
    "load_graphs(exp, directory_targ, post_process=False, suffix=\"\")\n",
    "# import networkx as nx\n",
    "# G = exp.nx_graph[t]\n",
    "# largest_cc = max(nx.connected_components(G), key=len)\n",
    "# exp.nx_graph[t] = G.subgraph(largest_cc).copy()"
   ]
  },
  {
   "cell_type": "code",
   "execution_count": null,
   "id": "cef5bf5d-cc22-426c-83fb-68a863197154",
   "metadata": {
    "tags": []
   },
   "outputs": [],
   "source": [
    "import numpy as np\n",
    "import matplotlib.pyplot as plt\n",
    "\n",
    "edges = get_all_edges(exp, t)\n",
    "\n",
    "lengths = [edge.length_um(0) for edge in edges]\n",
    "fig, ax = plt.subplots()\n",
    "ax.hist(lengths, 50, weights=lengths)\n",
    "ax.set_yscale(\"log\")"
   ]
  },
  {
   "cell_type": "code",
   "execution_count": null,
   "id": "bb01fe61-975d-41b7-bbc8-0322c302b13c",
   "metadata": {
    "collapsed": true,
    "jupyter": {
     "outputs_hidden": true
    },
    "tags": []
   },
   "outputs": [],
   "source": [
    "import numpy as np\n",
    "import matplotlib.pyplot as plt\n",
    "\n",
    "widths = [edge.width(0) for edge in edges]\n",
    "fig, ax = plt.subplots()\n",
    "ax.hist(widths, 50)\n",
    "ax.set_yscale(\"log\")"
   ]
  },
  {
   "cell_type": "code",
   "execution_count": null,
   "id": "3bd97ca5-ccfe-4d16-b811-3d2a5652e3f9",
   "metadata": {},
   "outputs": [],
   "source": [
    "import networkx as nx\n",
    "\n",
    "\n",
    "def get_largest_components(graph, num_components):\n",
    "    components = list(nx.connected_components(graph))\n",
    "    largest_components = sorted(components, key=len, reverse=True)[:num_components]\n",
    "    return [graph.subgraph(comp) for comp in largest_components]\n",
    "\n",
    "\n",
    "def create_combined_graph(graph, num_components):\n",
    "    largest_components = get_largest_components(graph, num_components)\n",
    "    G = largest_components[0]\n",
    "    for g in largest_components[1:]:\n",
    "        G = nx.compose(G, g)\n",
    "    return G"
   ]
  },
  {
   "cell_type": "code",
   "execution_count": null,
   "id": "439f1300-54ba-4720-92d5-7153c4383abd",
   "metadata": {},
   "outputs": [],
   "source": [
    "exp.nx_graph[t] = create_combined_graph(exp.nx_graph[t], 2)"
   ]
  },
  {
   "cell_type": "code",
   "execution_count": null,
   "id": "b3814310-d452-4a05-93fa-0b2194f504f2",
   "metadata": {
    "tags": []
   },
   "outputs": [],
   "source": [
    "%matplotlib widget\n",
    "edges = get_all_edges(exp, t)\n",
    "\n",
    "# edges_plot = [edge for edge in edges if edge.width(0) > 5]\n",
    "# edges_plot = [edge for edge in edges if edge.length_um(0) > 1000]\n",
    "\n",
    "edges_plot = edges\n",
    "plot_full(\n",
    "    exp,\n",
    "    t,\n",
    "    downsizing=5,\n",
    "    edges=edges_plot,\n",
    "    dilation=15,\n",
    "    prettify=False,\n",
    "    figsize=(8, 6),\n",
    "    # dpi=390,\n",
    "    node_size=1.5,\n",
    "    # save_path=path,\n",
    ")"
   ]
  },
  {
   "cell_type": "code",
   "execution_count": null,
   "id": "90a0165e-4b4b-4d4a-865d-5be7683a3f47",
   "metadata": {
    "tags": []
   },
   "outputs": [],
   "source": [
    "[edge for edge in edges_plot if edge.length_um(0) > 1000]"
   ]
  },
  {
   "cell_type": "code",
   "execution_count": null,
   "id": "aa3eb33d-34ca-41ed-ba66-ca003e6442cc",
   "metadata": {},
   "outputs": [],
   "source": [
    "10 * 4096 * 1.725"
   ]
  },
  {
   "cell_type": "code",
   "execution_count": null,
   "id": "29bfab28-cc8a-4ad1-8a74-3db71cc2581d",
   "metadata": {},
   "outputs": [],
   "source": [
    "45**2 / 2, 30**2"
   ]
  },
  {
   "cell_type": "code",
   "execution_count": null,
   "id": "3f62629b-effb-49e5-aad9-12b9ca9d970b",
   "metadata": {},
   "outputs": [],
   "source": [
    "3000 * 1.725"
   ]
  },
  {
   "cell_type": "code",
   "execution_count": null,
   "id": "85ed531c-ed39-423d-a3fb-c697b19b33bd",
   "metadata": {},
   "outputs": [],
   "source": [
    "print(\"length=\", np.sum([edge.length_um(0) for edge in edges_plot]) / 1000, \"mm\")"
   ]
  },
  {
   "cell_type": "code",
   "execution_count": null,
   "id": "58fe73da-f284-4875-9bcb-9931eccb8416",
   "metadata": {},
   "outputs": [],
   "source": [
    "print(\n",
    "    \"length=\",\n",
    "    np.sum([edge.length_um(0) for edge in edges_plot if edge.length_um(0) > 1000])\n",
    "    / 1000,\n",
    "    \"mm\",\n",
    ")"
   ]
  },
  {
   "cell_type": "code",
   "execution_count": null,
   "id": "a93a36e2-8a29-4413-89b8-4f657d0a98c0",
   "metadata": {},
   "outputs": [],
   "source": [
    "1"
   ]
  },
  {
   "cell_type": "code",
   "execution_count": null,
   "id": "1beb9440-4e70-4dad-a450-d5f15fab8958",
   "metadata": {},
   "outputs": [],
   "source": [
    "plot_full(\n",
    "    exp,\n",
    "    t,\n",
    "    downsizing=5,\n",
    "    dilation=4,\n",
    "    prettify=False,\n",
    "    figsize=(16, 12),\n",
    "    # dpi=390,\n",
    "    node_size=1.5,\n",
    "    # save_path=path,\n",
    ")"
   ]
  },
  {
   "cell_type": "code",
   "execution_count": null,
   "id": "2fc1ad27-59ba-4fce-bd5d-0e9a6243b24e",
   "metadata": {},
   "outputs": [],
   "source": [
    "%matplotlib widget\n",
    "%load_ext autoreload\n",
    "%autoreload 2\n",
    "import os\n",
    "import sys\n",
    "\n",
    "sys.path.insert(0, os.getenv(\"HOME\") + \"/pycode/MscThesis/\")\n",
    "# sys.path.insert(0,r'C:\\Users\\coren\\Documents\\PhD\\Code\\AMFtrack')\n",
    "\n",
    "import pandas as pd\n",
    "from amftrack.util.sys import (\n",
    "    get_dates_datetime,\n",
    "    get_dirname,\n",
    "    temp_path,\n",
    "    get_data_info,\n",
    "    update_plate_info,\n",
    "    get_current_folders,\n",
    "    get_folders_by_plate_id,\n",
    ")\n",
    "\n",
    "\n",
    "import ast\n",
    "from amftrack.plotutil import plot_t_tp1\n",
    "from scipy import sparse\n",
    "from datetime import datetime\n",
    "import pickle\n",
    "import scipy.io as sio\n",
    "from pymatreader import read_mat\n",
    "from matplotlib import colors\n",
    "import cv2\n",
    "import imageio\n",
    "import matplotlib.pyplot as plt\n",
    "import numpy as np\n",
    "from skimage.filters import frangi\n",
    "from skimage import filters\n",
    "from random import choice\n",
    "import scipy.sparse\n",
    "import os\n",
    "from amftrack.pipeline.functions.image_processing.extract_graph import (\n",
    "    from_sparse_to_graph,\n",
    "    generate_nx_graph,\n",
    "    sparse_to_doc,\n",
    ")\n",
    "from skimage.feature import hessian_matrix_det\n",
    "from amftrack.pipeline.functions.image_processing.experiment_class_surf import (\n",
    "    Experiment,\n",
    ")\n",
    "from amftrack.pipeline.launching.run_super import (\n",
    "    run_parallel,\n",
    "    directory_scratch,\n",
    "    directory_project,\n",
    "    run_parallel_stitch,\n",
    ")"
   ]
  },
  {
   "cell_type": "code",
   "execution_count": null,
   "id": "ac3350f1-f516-4af1-ac2f-0e34d3797352",
   "metadata": {
    "tags": []
   },
   "outputs": [],
   "source": [
    "from amftrack.pipeline.functions.image_processing.extract_skel import (\n",
    "    extract_skel_new_prince,\n",
    "    run_back_sub,\n",
    "    bowler_hat,\n",
    ")\n",
    "import pandas as pd\n",
    "\n",
    "directory = directory_targ\n",
    "i = 1\n",
    "folder_list = list(folders[\"folder\"])\n",
    "folder_list.sort()\n",
    "directory_name = folder_list[i]\n",
    "print(directory_name)\n",
    "# run_back_sub(directory, directory_name)\n",
    "path_snap = os.path.join(directory, directory_name)\n",
    "path_tile = os.path.join(path_snap, \"Img/TileConfiguration.txt.registered\")\n",
    "try:\n",
    "    tileconfig = pd.read_table(\n",
    "        path_tile,\n",
    "        sep=\";\",\n",
    "        skiprows=4,\n",
    "        header=None,\n",
    "        converters={2: ast.literal_eval},\n",
    "        skipinitialspace=True,\n",
    "    )\n",
    "except:\n",
    "    print(\"error_name\")\n",
    "    path_tile = os.path.join(path_snap, \"Img/TileConfiguration.registered.txt\")\n",
    "    tileconfig = pd.read_table(\n",
    "        path_tile,\n",
    "        sep=\";\",\n",
    "        skiprows=4,\n",
    "        header=None,\n",
    "        converters={2: ast.literal_eval},\n",
    "        skipinitialspace=True,\n",
    "    )\n",
    "dirName = path_snap + \"/Analysis\"\n",
    "try:\n",
    "    os.mkdir(path_snap + \"/Analysis\")\n",
    "    print(\"Directory \", dirName, \" Created \")\n",
    "except FileExistsError:\n",
    "    print(\"Directory \", dirName, \" already exists\")\n",
    "xs = [c[0] for c in tileconfig[2]]\n",
    "ys = [c[1] for c in tileconfig[2]]\n",
    "name = tileconfig[0][0]\n",
    "imname = \"/Img3/\" + name.split(\"/\")[-1]\n",
    "im = imageio.imread(directory + directory_name + imname)\n",
    "dim = (\n",
    "    int(np.max(ys) - np.min(ys)) + max(im.shape),\n",
    "    int(np.max(xs) - np.min(xs)) + max(im.shape),\n",
    ")\n",
    "ims = []\n",
    "skel = np.zeros(dim, dtype=np.uint8)\n",
    "params = [30]"
   ]
  },
  {
   "cell_type": "code",
   "execution_count": null,
   "id": "272b9120-b789-415d-b831-a977528d65f7",
   "metadata": {},
   "outputs": [],
   "source": [
    "j = 46\n",
    "\n",
    "for index, name in enumerate(tileconfig[0][j : j + 1]):\n",
    "    # for index, name in enumerate(list_debug):\n",
    "    print(name)\n",
    "    imname = \"/Img3/\" + name.split(\"/\")[-1]\n",
    "    im = imageio.imread(directory + directory_name + imname)\n",
    "    imname2 = \"/Img/\" + name.split(\"/\")[-1]\n",
    "    im2 = imageio.imread(directory + directory_name + imname2)\n",
    "    bowled2 = bowler_hat(-im2, 32, params)\n",
    "    im[bowled2 <= 0.09] = np.maximum(im[bowled2 <= 0.09], 250)\n",
    "    fig, ax = plt.subplots()\n",
    "    ax.imshow(-im2, cmap=\"Greys\")\n",
    "    # shape = im.shape\n",
    "    # print(\"segmenting\")\n",
    "    # segmented = extract_skel_new_prince(im, [hyph_width], perc_low, perc_high)\n",
    "    # # low = np.percentile(-im+255, perc_low)\n",
    "    # # high = np.percentile(-im+255, perc_high)\n",
    "    # # segmented = filters.apply_hysteresis_threshold(-im+255, low, high)\n",
    "    # boundaries = int(tileconfig[2][index][0] - np.min(xs)), int(\n",
    "    #     tileconfig[2][index][1] - np.min(ys)\n",
    "    # )\n",
    "    # skel[\n",
    "    #     boundaries[1] : boundaries[1] + shape[0],\n",
    "    #     boundaries[0] : boundaries[0] + shape[1],\n",
    "    # ] += segmented"
   ]
  },
  {
   "cell_type": "code",
   "execution_count": null,
   "id": "7f7ae28b-92ef-4dfd-a2bb-51df1cde097d",
   "metadata": {},
   "outputs": [],
   "source": [
    "from amftrack.pipeline.functions.image_processing.extract_skel import *\n",
    "\n",
    "hyph_width = 20\n",
    "perc_low = 90\n",
    "perc_high = 99.5\n",
    "bowled = bowler_hat(-im.astype(np.uint8), 32, [hyph_width])\n",
    "filename = time_ns()\n",
    "place_save = temp_path\n",
    "to_smooth = np.minimum(bowled * 255, 255 - im)\n",
    "# to_smooth = 255-im\n",
    "imtransformed_path = f\"{place_save}/{filename}.tif\"\n",
    "imageio.imsave(imtransformed_path, to_smooth.astype(np.uint8))\n",
    "path_anis = pastis_path\n",
    "args = [0.1, 7, 0.9, 10, 50]\n",
    "command = [path_anis, imtransformed_path] + args\n",
    "command = [str(elem) for elem in command]\n",
    "print(\"anis filtering\")\n",
    "process = subprocess.run(command, cwd=place_save, stdout=subprocess.DEVNULL)\n",
    "foldname = f\"{filename}_ani-K{int(args[0]*10)}s{args[1]}g{int(args[2]*10)}itD{args[3]}\"\n",
    "imname = foldname + f\"/{foldname}it{args[4]}.tif\"\n",
    "path_modif = place_save + \"/\" + imname\n",
    "try:\n",
    "    im3 = imageio.imread(path_modif)\n",
    "except:\n",
    "    im3 = to_smooth.astype(np.uint8)\n",
    "print(\"image_reading\")\n",
    "# shutil.rmtree(os.path.join(place_save, foldname))\n",
    "low = max(15, np.percentile(im3, perc_low))\n",
    "high = max(50, np.percentile(im3, perc_high))\n",
    "transformed = im3\n",
    "hyst = filters.apply_hysteresis_threshold(transformed, low, high)\n",
    "dilated = remove_holes(hyst)\n",
    "dilated = dilated.astype(np.uint8)\n",
    "connected = remove_component(dilated)"
   ]
  },
  {
   "cell_type": "code",
   "execution_count": null,
   "id": "ae184253-8622-46f6-b576-ca8ddbf9870e",
   "metadata": {},
   "outputs": [],
   "source": [
    "high"
   ]
  },
  {
   "cell_type": "code",
   "execution_count": null,
   "id": "d9980959-00d2-4037-b3d0-a79872bfd4ed",
   "metadata": {
    "tags": []
   },
   "outputs": [],
   "source": [
    "hyph_width = 20\n",
    "perc_low = 90\n",
    "perc_high = 99.5\n",
    "minlow = 15\n",
    "minhigh = 50\n",
    "connected = extract_skel_new_prince(\n",
    "    im, [hyph_width], perc_low, perc_high, minlow, minhigh\n",
    ")"
   ]
  },
  {
   "cell_type": "code",
   "execution_count": null,
   "id": "4768fa62-999e-4410-9f8f-c525d46c0daa",
   "metadata": {},
   "outputs": [],
   "source": [
    "fig, ax = plt.subplots(1, 3, sharex=True, sharey=True, figsize=(10, 8))\n",
    "ax[0].imshow(-im2)\n",
    "ax[1].imshow(im3)\n",
    "ax[2].imshow(connected)"
   ]
  },
  {
   "cell_type": "code",
   "execution_count": null,
   "id": "407abc49-a037-450f-b2e1-124a6418b0fa",
   "metadata": {},
   "outputs": [],
   "source": [
    "_, labels = cv2.connectedComponents(connected)\n",
    "\n",
    "# Iterate over each component and filter based on criteria\n",
    "filtered_image = np.zeros_like(connected)\n",
    "for component_label in range(1, labels.max() + 1):\n",
    "    # Get the mask for the current component\n",
    "    component_mask = np.uint8(labels == component_label)\n",
    "\n",
    "    # Calculate the convex hull of the component\n",
    "    contours, _ = cv2.findContours(\n",
    "        component_mask, cv2.RETR_EXTERNAL, cv2.CHAIN_APPROX_SIMPLE\n",
    "    )\n",
    "    hull = cv2.convexHull(contours[0])\n",
    "\n",
    "    # Calculate area and long and short axes of the convex hull\n",
    "    area = cv2.contourArea(hull)\n",
    "    (_, _), (long_axis, short_axis), _ = cv2.fitEllipse(hull)\n",
    "    if area >= 10000 and (np.sum(component_mask) / area < 0.2 or short_axis < 100):\n",
    "        filtered_image += component_mask\n",
    "    print(area, np.sum(component_mask) / area, short_axis)"
   ]
  },
  {
   "cell_type": "code",
   "execution_count": null,
   "id": "27c78df4-1f4a-4f63-91e9-70bbd3f6d6b0",
   "metadata": {},
   "outputs": [],
   "source": [
    "fig, ax = plt.subplots()\n",
    "ax.imshow(filtered_image, cmap=\"Greys\")"
   ]
  },
  {
   "cell_type": "code",
   "execution_count": null,
   "id": "6858513e-a64f-47ee-92ef-671bd16b97db",
   "metadata": {},
   "outputs": [],
   "source": [
    "name_job = \"Myr\"\n",
    "\n",
    "# name_job = f\"one_shot_{time_ns()}.sh\"\n",
    "\n",
    "run_launcher(\n",
    "    \"stitcher.py\",\n",
    "    [directory_targ, name_job, -1],\n",
    "    plates,\n",
    "    \"12:00:00\",\n",
    "    dependency=True,\n",
    "    name_job=name_job,\n",
    ")"
   ]
  },
  {
   "cell_type": "code",
   "execution_count": null,
   "id": "bb763949-5efd-498c-8001-58e48812266d",
   "metadata": {},
   "outputs": [],
   "source": [
    "directory = directory_targ"
   ]
  },
  {
   "cell_type": "code",
   "execution_count": null,
   "id": "39ae79d0-35f7-415b-8bf0-1e82cd4a0b39",
   "metadata": {},
   "outputs": [],
   "source": [
    "# select = all_folders.loc[(all_folders['folder'].isin([ '20210929_0308_Plate21',\n",
    "#  '20210929_0912_Plate21']))]\n",
    "select = folders\n",
    "folder_list = list(select[\"folder\"])\n",
    "folder_list.sort()\n",
    "skels = []\n",
    "ims = []\n",
    "kernel = np.ones((5, 5), np.uint8)\n",
    "itera = 10\n",
    "start = 1\n",
    "\n",
    "# start = choice(range(len(folder_list)))\n",
    "finish = start + 2\n",
    "for folder in folder_list[start:finish]:\n",
    "    # print(folder)\n",
    "    path_snap = directory + folder\n",
    "    skel_info = read_mat(path_snap + \"/Analysis/skeleton_realigned_compressed.mat\")\n",
    "    skel = skel_info[\"skeleton\"]\n",
    "    skels.append(cv2.dilate(skel.astype(np.uint8), kernel, iterations=itera))\n",
    "    im = read_mat(path_snap + \"/Analysis/raw_image.mat\")[\"raw\"]\n",
    "    #     im = imageio.imread(path_snap+'/StitchedImage.tif')\n",
    "    #     im = cv2.resize(im,(skel.shape[1],skel.shape[0]))\n",
    "    #     M = np.float32([\n",
    "    # \t[1, 0, 0],\n",
    "    # \t[0, 1, -117]])\n",
    "    #     im = cv2.warpAffine(im,M,(im.shape[1], im.shape[0]))\n",
    "    ims.append(im)"
   ]
  },
  {
   "cell_type": "code",
   "execution_count": null,
   "id": "96724a3f-b93e-421d-b701-e5f3dc955f5f",
   "metadata": {},
   "outputs": [],
   "source": [
    "plt.close(\"all\")\n",
    "start = 0\n",
    "finish = start + 1\n",
    "for i in range(start, finish):\n",
    "    plot_t_tp1([], [], None, None, skels[i], skels[i])"
   ]
  }
 ],
 "metadata": {
  "kernelspec": {
   "display_name": "Python 3 (ipykernel)",
   "language": "python",
   "name": "python3"
  },
  "language_info": {
   "codemirror_mode": {
    "name": "ipython",
    "version": 3
   },
   "file_extension": ".py",
   "mimetype": "text/x-python",
   "name": "python",
   "nbconvert_exporter": "python",
   "pygments_lexer": "ipython3",
   "version": "3.12.3"
  }
 },
 "nbformat": 4,
 "nbformat_minor": 5
}

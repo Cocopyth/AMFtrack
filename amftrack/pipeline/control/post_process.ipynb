{
 "cells": [
  {
   "cell_type": "code",
   "execution_count": 10,
   "id": "f504f673-4435-49be-9a17-b89265d32d84",
   "metadata": {},
   "outputs": [],
   "source": [
    "%matplotlib widget\n",
    "\n",
    "import os  \n",
    "import sys  \n",
    "sys.path.insert(0, os.getenv('HOME')+'/pycode/MscThesis/')\n",
    "from pymatreader import read_mat\n",
    "from scipy import sparse\n",
    "import numpy as np\n",
    "import os\n",
    "from datetime import datetime, timedelta\n",
    "import pandas\n",
    "import cv2\n",
    "import json\n",
    "import pandas as pd\n",
    "from amftrack.pipeline.paths.directory import *\n",
    "from amftrack.util import *\n",
    "import pickle\n",
    "from joblib import Parallel, delayed\n",
    "from datetime import datetime\n",
    "import matplotlib.pyplot as plt\n",
    "from amftrack.pipeline.functions.post_processing.global_plate import *\n",
    "from amftrack.pipeline.functions.post_processing.global_hypha import *\n",
    "from amftrack.pipeline.functions.post_processing.time_hypha import *\n",
    "from amftrack.pipeline.functions.post_processing.time_plate import *\n",
    "from amftrack.pipeline.functions.post_processing.area_hulls import get_density_in_ring"
   ]
  },
  {
   "cell_type": "code",
   "execution_count": 3,
   "id": "78b3dbf3-bf6e-49ec-91a3-8b07bd94b860",
   "metadata": {},
   "outputs": [
    {
     "data": {
      "text/plain": [
       "'/projects/0/einf914/data/'"
      ]
     },
     "execution_count": 3,
     "metadata": {},
     "output_type": "execute_result"
    }
   ],
   "source": [
    "directory_project"
   ]
  },
  {
   "cell_type": "code",
   "execution_count": 4,
   "id": "60337d63-b021-488a-9fc2-79cf3628eec0",
   "metadata": {
    "tags": []
   },
   "outputs": [
    {
     "name": "stdout",
     "output_type": "stream",
     "text": [
      "The autoreload extension is already loaded. To reload it, use:\n",
      "  %reload_ext autoreload\n"
     ]
    }
   ],
   "source": [
    "%load_ext autoreload\n",
    "%autoreload 2\n",
    "directory = directory_project\n",
    "# directory = '/projects/0/einf914/agg/'\n",
    "# update_analysis_info(directory)\n",
    "analysis_info = get_analysis_info(directory)"
   ]
  },
  {
   "cell_type": "code",
   "execution_count": 12,
   "id": "9dff4f40-63e7-4935-8c4a-34c24611ea53",
   "metadata": {
    "tags": []
   },
   "outputs": [],
   "source": [
    "select = analysis_info.loc[analysis_info['Plate']!=22]\n",
    "# analysis_info['Plate']=analysis_info['Plate'].fillna(758)"
   ]
  },
  {
   "cell_type": "code",
   "execution_count": 5,
   "id": "c22d6b64-b9d7-4d17-94fa-00bc9c11a770",
   "metadata": {
    "collapsed": true,
    "jupyter": {
     "outputs_hidden": true
    },
    "tags": []
   },
   "outputs": [
    {
     "data": {
      "text/html": [
       "<div>\n",
       "<style scoped>\n",
       "    .dataframe tbody tr th:only-of-type {\n",
       "        vertical-align: middle;\n",
       "    }\n",
       "\n",
       "    .dataframe tbody tr th {\n",
       "        vertical-align: top;\n",
       "    }\n",
       "\n",
       "    .dataframe thead th {\n",
       "        text-align: right;\n",
       "    }\n",
       "</style>\n",
       "<table border=\"1\" class=\"dataframe\">\n",
       "  <thead>\n",
       "    <tr style=\"text-align: right;\">\n",
       "      <th></th>\n",
       "      <th>folder_analysis</th>\n",
       "      <th>version</th>\n",
       "      <th>total_path</th>\n",
       "      <th>Plate</th>\n",
       "      <th>PrincePos</th>\n",
       "      <th>root</th>\n",
       "      <th>strain</th>\n",
       "      <th>medium</th>\n",
       "      <th>split</th>\n",
       "      <th>Pbait</th>\n",
       "      <th>...</th>\n",
       "      <th>Temp</th>\n",
       "      <th>date_begin</th>\n",
       "      <th>date_end</th>\n",
       "      <th>number_timepoints</th>\n",
       "      <th>path_exp</th>\n",
       "      <th>path_global_hypha_info</th>\n",
       "      <th>path_time_hypha_info</th>\n",
       "      <th>path_time_plate_info</th>\n",
       "      <th>path_global_plate_info</th>\n",
       "      <th>date_run_analysis</th>\n",
       "    </tr>\n",
       "  </thead>\n",
       "  <tbody>\n",
       "    <tr>\n",
       "      <th>0</th>\n",
       "      <td>Analysis_1636046826216022929_0_100_Version9</td>\n",
       "      <td>Version9</td>\n",
       "      <td>/projects/0/einf914/data/20211005_0148_Plate39</td>\n",
       "      <td>799</td>\n",
       "      <td>39</td>\n",
       "      <td>Carrot</td>\n",
       "      <td>A5</td>\n",
       "      <td>001P100N</td>\n",
       "      <td>Y</td>\n",
       "      <td>-</td>\n",
       "      <td>...</td>\n",
       "      <td>None</td>\n",
       "      <td>20211001_1620_Plate39</td>\n",
       "      <td>20211011_1227_Plate39</td>\n",
       "      <td>95</td>\n",
       "      <td>Analysis_1636046826216022929_0_100_Version9/ex...</td>\n",
       "      <td>Analysis_1636046826216022929_0_100_Version9/gl...</td>\n",
       "      <td>Analysis_1636046826216022929_0_100_Version9/ti...</td>\n",
       "      <td>Analysis_1636046826216022929_0_100_Version9/ti...</td>\n",
       "      <td>Analysis_1636046826216022929_0_100_Version9/gl...</td>\n",
       "      <td>01.01.1970, 01:00:</td>\n",
       "    </tr>\n",
       "    <tr>\n",
       "      <th>1</th>\n",
       "      <td>Analysis_1636107306199118080_0_100_Version9</td>\n",
       "      <td>Version9</td>\n",
       "      <td>/projects/0/einf914/data/20210907_1507_Plate23</td>\n",
       "      <td>790</td>\n",
       "      <td>23</td>\n",
       "      <td>Carrot</td>\n",
       "      <td>A5</td>\n",
       "      <td>001P100N</td>\n",
       "      <td>Y</td>\n",
       "      <td>-</td>\n",
       "      <td>...</td>\n",
       "      <td>None</td>\n",
       "      <td>20210907_1108_Plate23</td>\n",
       "      <td>20210917_1325_Plate23</td>\n",
       "      <td>96</td>\n",
       "      <td>Analysis_1636107306199118080_0_100_Version9/ex...</td>\n",
       "      <td>Analysis_1636107306199118080_0_100_Version9/gl...</td>\n",
       "      <td>Analysis_1636107306199118080_0_100_Version9/ti...</td>\n",
       "      <td>Analysis_1636107306199118080_0_100_Version9/ti...</td>\n",
       "      <td>Analysis_1636107306199118080_0_100_Version9/gl...</td>\n",
       "      <td>01.01.1970, 01:00:</td>\n",
       "    </tr>\n",
       "    <tr>\n",
       "      <th>2</th>\n",
       "      <td>Analysis_1637745064562052826_0_99_Version9</td>\n",
       "      <td>Version9</td>\n",
       "      <td>/projects/0/einf914/data/20210918_1729_Plate21</td>\n",
       "      <td>792</td>\n",
       "      <td>21</td>\n",
       "      <td>Carrot</td>\n",
       "      <td>A5</td>\n",
       "      <td>001P100N</td>\n",
       "      <td>Y</td>\n",
       "      <td>-</td>\n",
       "      <td>...</td>\n",
       "      <td>None</td>\n",
       "      <td>20210915_1518_Plate21</td>\n",
       "      <td>20210925_1520_Plate21</td>\n",
       "      <td>99</td>\n",
       "      <td>Analysis_1637745064562052826_0_99_Version9/exp...</td>\n",
       "      <td>Analysis_1637745064562052826_0_99_Version9/glo...</td>\n",
       "      <td>Analysis_1637745064562052826_0_99_Version9/tim...</td>\n",
       "      <td>Analysis_1637745064562052826_0_99_Version9/tim...</td>\n",
       "      <td>Analysis_1637745064562052826_0_99_Version9/glo...</td>\n",
       "      <td>01.01.1970, 01:00:</td>\n",
       "    </tr>\n",
       "    <tr>\n",
       "      <th>3</th>\n",
       "      <td>Analysis_1636104897672902830_0_100_Version9</td>\n",
       "      <td>Version9</td>\n",
       "      <td>/projects/0/einf914/data/20211007_1606_Plate31</td>\n",
       "      <td>800</td>\n",
       "      <td>31</td>\n",
       "      <td>Carrot</td>\n",
       "      <td>A5</td>\n",
       "      <td>001P100N</td>\n",
       "      <td>Y</td>\n",
       "      <td>-</td>\n",
       "      <td>...</td>\n",
       "      <td>None</td>\n",
       "      <td>20210929_0942_Plate31</td>\n",
       "      <td>20211011_1408_Plate31</td>\n",
       "      <td>91</td>\n",
       "      <td>Analysis_1636104897672902830_0_100_Version9/ex...</td>\n",
       "      <td>Analysis_1636104897672902830_0_100_Version9/gl...</td>\n",
       "      <td>Analysis_1636104897672902830_0_100_Version9/ti...</td>\n",
       "      <td>Analysis_1636104897672902830_0_100_Version9/ti...</td>\n",
       "      <td>Analysis_1636104897672902830_0_100_Version9/gl...</td>\n",
       "      <td>01.01.1970, 01:00:</td>\n",
       "    </tr>\n",
       "    <tr>\n",
       "      <th>5</th>\n",
       "      <td>Analysis_1636044918401523795_0_100_Version9</td>\n",
       "      <td>Version9</td>\n",
       "      <td>/projects/0/einf914/data/20201203_0955_Plate36</td>\n",
       "      <td>80</td>\n",
       "      <td>36</td>\n",
       "      <td>Carrot</td>\n",
       "      <td>A5</td>\n",
       "      <td>001P100N</td>\n",
       "      <td>Y</td>\n",
       "      <td>-</td>\n",
       "      <td>...</td>\n",
       "      <td>None</td>\n",
       "      <td>20201128_1802_Plate36</td>\n",
       "      <td>20201206_2113_Plate36</td>\n",
       "      <td>47</td>\n",
       "      <td>Analysis_1636044918401523795_0_100_Version9/ex...</td>\n",
       "      <td>Analysis_1636044918401523795_0_100_Version9/gl...</td>\n",
       "      <td>Analysis_1636044918401523795_0_100_Version9/ti...</td>\n",
       "      <td>Analysis_1636044918401523795_0_100_Version9/ti...</td>\n",
       "      <td>Analysis_1636044918401523795_0_100_Version9/gl...</td>\n",
       "      <td>01.01.1970, 01:00:</td>\n",
       "    </tr>\n",
       "    <tr>\n",
       "      <th>6</th>\n",
       "      <td>Analysis_1636043977602188694_0_100_Version9</td>\n",
       "      <td>Version9</td>\n",
       "      <td>/projects/0/einf914/data/20210111_1533_Plate36</td>\n",
       "      <td>10</td>\n",
       "      <td>36</td>\n",
       "      <td>Carrot</td>\n",
       "      <td>A5</td>\n",
       "      <td>001P100N</td>\n",
       "      <td>Y</td>\n",
       "      <td>-</td>\n",
       "      <td>...</td>\n",
       "      <td>None</td>\n",
       "      <td>20210107_1140_Plate36</td>\n",
       "      <td>20210112_2333_Plate36</td>\n",
       "      <td>31</td>\n",
       "      <td>Analysis_1636043977602188694_0_100_Version9/ex...</td>\n",
       "      <td>Analysis_1636043977602188694_0_100_Version9/gl...</td>\n",
       "      <td>Analysis_1636043977602188694_0_100_Version9/ti...</td>\n",
       "      <td>Analysis_1636043977602188694_0_100_Version9/ti...</td>\n",
       "      <td>Analysis_1636043977602188694_0_100_Version9/gl...</td>\n",
       "      <td>01.01.1970, 01:00:</td>\n",
       "    </tr>\n",
       "    <tr>\n",
       "      <th>7</th>\n",
       "      <td>Analysis_1636044998117269036_0_100_Version9</td>\n",
       "      <td>Version9</td>\n",
       "      <td>/projects/0/einf914/data/20210110_1144_Plate38</td>\n",
       "      <td>76</td>\n",
       "      <td>38</td>\n",
       "      <td>Carrot</td>\n",
       "      <td>A5</td>\n",
       "      <td>001P100N</td>\n",
       "      <td>Y</td>\n",
       "      <td>-</td>\n",
       "      <td>...</td>\n",
       "      <td>None</td>\n",
       "      <td>20210108_1143_Plate38</td>\n",
       "      <td>20210112_2337_Plate38</td>\n",
       "      <td>25</td>\n",
       "      <td>Analysis_1636044998117269036_0_100_Version9/ex...</td>\n",
       "      <td>Analysis_1636044998117269036_0_100_Version9/gl...</td>\n",
       "      <td>Analysis_1636044998117269036_0_100_Version9/ti...</td>\n",
       "      <td>Analysis_1636044998117269036_0_100_Version9/ti...</td>\n",
       "      <td>Analysis_1636044998117269036_0_100_Version9/gl...</td>\n",
       "      <td>01.01.1970, 01:00:</td>\n",
       "    </tr>\n",
       "    <tr>\n",
       "      <th>8</th>\n",
       "      <td>Analysis_1636367533382636815_0_100_Version9</td>\n",
       "      <td>Version9</td>\n",
       "      <td>/projects/0/einf914/data/20201229_0349_Plate40</td>\n",
       "      <td>102</td>\n",
       "      <td>40</td>\n",
       "      <td>Carrot</td>\n",
       "      <td>A5</td>\n",
       "      <td>001P100N</td>\n",
       "      <td>Y</td>\n",
       "      <td>None</td>\n",
       "      <td>...</td>\n",
       "      <td>25</td>\n",
       "      <td>20201226_1224_Plate40</td>\n",
       "      <td>20210105_1945_Plate40</td>\n",
       "      <td>60</td>\n",
       "      <td>Analysis_1636367533382636815_0_100_Version9/ex...</td>\n",
       "      <td>Analysis_1636367533382636815_0_100_Version9/gl...</td>\n",
       "      <td>Analysis_1636367533382636815_0_100_Version9/ti...</td>\n",
       "      <td>Analysis_1636367533382636815_0_100_Version9/ti...</td>\n",
       "      <td>Analysis_1636367533382636815_0_100_Version9/gl...</td>\n",
       "      <td>01.01.1970, 01:00:</td>\n",
       "    </tr>\n",
       "    <tr>\n",
       "      <th>9</th>\n",
       "      <td>Analysis_1636046622780809853_0_100_Version9</td>\n",
       "      <td>Version9</td>\n",
       "      <td>/projects/0/einf914/data/20201124_1202_Plate39</td>\n",
       "      <td>94</td>\n",
       "      <td>39</td>\n",
       "      <td>Carrot</td>\n",
       "      <td>A5</td>\n",
       "      <td>001P100N</td>\n",
       "      <td>Y</td>\n",
       "      <td>None</td>\n",
       "      <td>...</td>\n",
       "      <td>25</td>\n",
       "      <td>20201123_1253_Plate39</td>\n",
       "      <td>20201210_1156_Plate39</td>\n",
       "      <td>169</td>\n",
       "      <td>Analysis_1636046622780809853_0_100_Version9/ex...</td>\n",
       "      <td>Analysis_1636046622780809853_0_100_Version9/gl...</td>\n",
       "      <td>Analysis_1636046622780809853_0_100_Version9/ti...</td>\n",
       "      <td>Analysis_1636046622780809853_0_100_Version9/ti...</td>\n",
       "      <td>Analysis_1636046622780809853_0_100_Version9/gl...</td>\n",
       "      <td>01.01.1970, 01:00:</td>\n",
       "    </tr>\n",
       "    <tr>\n",
       "      <th>10</th>\n",
       "      <td>Analysis_1636044946127011963_0_100_Version9</td>\n",
       "      <td>Version9</td>\n",
       "      <td>/projects/0/einf914/data/20210922_2313_Plate17</td>\n",
       "      <td>88</td>\n",
       "      <td>17</td>\n",
       "      <td>Carrot</td>\n",
       "      <td>A5</td>\n",
       "      <td>001P100N</td>\n",
       "      <td>Y</td>\n",
       "      <td>-</td>\n",
       "      <td>...</td>\n",
       "      <td>None</td>\n",
       "      <td>20210915_1507_Plate17</td>\n",
       "      <td>20211006_0900_Plate17</td>\n",
       "      <td>155</td>\n",
       "      <td>Analysis_1636044946127011963_0_100_Version9/ex...</td>\n",
       "      <td>Analysis_1636044946127011963_0_100_Version9/gl...</td>\n",
       "      <td>Analysis_1636044946127011963_0_100_Version9/ti...</td>\n",
       "      <td>Analysis_1636044946127011963_0_100_Version9/ti...</td>\n",
       "      <td>Analysis_1636044946127011963_0_100_Version9/gl...</td>\n",
       "      <td>01.01.1970, 01:00:</td>\n",
       "    </tr>\n",
       "    <tr>\n",
       "      <th>11</th>\n",
       "      <td>Analysis_1636044849869238592_0_100_Version9</td>\n",
       "      <td>Version9</td>\n",
       "      <td>/projects/0/einf914/data/20210110_0323_Plate30</td>\n",
       "      <td>26</td>\n",
       "      <td>39</td>\n",
       "      <td>Carrot</td>\n",
       "      <td>A5</td>\n",
       "      <td>001P100N</td>\n",
       "      <td>Y</td>\n",
       "      <td>-</td>\n",
       "      <td>...</td>\n",
       "      <td>None</td>\n",
       "      <td>20210106_1122_Plate30</td>\n",
       "      <td>20210113_2325_Plate30</td>\n",
       "      <td>44</td>\n",
       "      <td>Analysis_1636044849869238592_0_100_Version9/ex...</td>\n",
       "      <td>Analysis_1636044849869238592_0_100_Version9/gl...</td>\n",
       "      <td>Analysis_1636044849869238592_0_100_Version9/ti...</td>\n",
       "      <td>Analysis_1636044849869238592_0_100_Version9/ti...</td>\n",
       "      <td>Analysis_1636044849869238592_0_100_Version9/gl...</td>\n",
       "      <td>01.01.1970, 01:00:</td>\n",
       "    </tr>\n",
       "    <tr>\n",
       "      <th>12</th>\n",
       "      <td>Analysis_1636047796407701153_0_100_Version9</td>\n",
       "      <td>Version9</td>\n",
       "      <td>/projects/0/einf914/data/20211003_1937_Plate35</td>\n",
       "      <td>808</td>\n",
       "      <td>35</td>\n",
       "      <td>Carrot</td>\n",
       "      <td>A5</td>\n",
       "      <td>001P100N</td>\n",
       "      <td>Y</td>\n",
       "      <td>-</td>\n",
       "      <td>...</td>\n",
       "      <td>None</td>\n",
       "      <td>20210929_0953_Plate35</td>\n",
       "      <td>20211011_1415_Plate35</td>\n",
       "      <td>91</td>\n",
       "      <td>Analysis_1636047796407701153_0_100_Version9/ex...</td>\n",
       "      <td>Analysis_1636047796407701153_0_100_Version9/gl...</td>\n",
       "      <td>Analysis_1636047796407701153_0_100_Version9/ti...</td>\n",
       "      <td>Analysis_1636047796407701153_0_100_Version9/ti...</td>\n",
       "      <td>Analysis_1636047796407701153_0_100_Version9/gl...</td>\n",
       "      <td>01.01.1970, 01:00:</td>\n",
       "    </tr>\n",
       "    <tr>\n",
       "      <th>13</th>\n",
       "      <td>Analysis_1636111758346200198_0_100_Version9</td>\n",
       "      <td>Version9</td>\n",
       "      <td>/projects/0/einf914/data/20210111_2326_Plate32</td>\n",
       "      <td>152</td>\n",
       "      <td>32</td>\n",
       "      <td>Carrot</td>\n",
       "      <td>A5</td>\n",
       "      <td>001P100N</td>\n",
       "      <td>Y</td>\n",
       "      <td>-</td>\n",
       "      <td>...</td>\n",
       "      <td>None</td>\n",
       "      <td>20201224_1139_Plate32</td>\n",
       "      <td>20210113_0726_Plate32</td>\n",
       "      <td>115</td>\n",
       "      <td>Analysis_1636111758346200198_0_100_Version9/ex...</td>\n",
       "      <td>Analysis_1636111758346200198_0_100_Version9/gl...</td>\n",
       "      <td>Analysis_1636111758346200198_0_100_Version9/ti...</td>\n",
       "      <td>Analysis_1636111758346200198_0_100_Version9/ti...</td>\n",
       "      <td>Analysis_1636111758346200198_0_100_Version9/gl...</td>\n",
       "      <td>01.01.1970, 01:00:</td>\n",
       "    </tr>\n",
       "    <tr>\n",
       "      <th>14</th>\n",
       "      <td>Analysis_1636045159591685376_0_100_Version9</td>\n",
       "      <td>Version9</td>\n",
       "      <td>/projects/0/einf914/data/20201226_0742_Plate37</td>\n",
       "      <td>91</td>\n",
       "      <td>37</td>\n",
       "      <td>Carrot</td>\n",
       "      <td>A5</td>\n",
       "      <td>001P100N</td>\n",
       "      <td>Y</td>\n",
       "      <td>-</td>\n",
       "      <td>...</td>\n",
       "      <td>None</td>\n",
       "      <td>20201217_1611_Plate37</td>\n",
       "      <td>20210105_2338_Plate37</td>\n",
       "      <td>112</td>\n",
       "      <td>Analysis_1636045159591685376_0_100_Version9/ex...</td>\n",
       "      <td>Analysis_1636045159591685376_0_100_Version9/gl...</td>\n",
       "      <td>Analysis_1636045159591685376_0_100_Version9/ti...</td>\n",
       "      <td>Analysis_1636045159591685376_0_100_Version9/ti...</td>\n",
       "      <td>Analysis_1636045159591685376_0_100_Version9/gl...</td>\n",
       "      <td>01.01.1970, 01:00:</td>\n",
       "    </tr>\n",
       "    <tr>\n",
       "      <th>15</th>\n",
       "      <td>Analysis_1636046387758029156_0_21_Version9</td>\n",
       "      <td>Version9</td>\n",
       "      <td>/projects/0/einf914/data/20211009_1815_Plate38</td>\n",
       "      <td>785</td>\n",
       "      <td>38</td>\n",
       "      <td>Carrot</td>\n",
       "      <td>A5</td>\n",
       "      <td>001P100N</td>\n",
       "      <td>Y</td>\n",
       "      <td>-</td>\n",
       "      <td>...</td>\n",
       "      <td>None</td>\n",
       "      <td>20210929_1004_Plate38</td>\n",
       "      <td>20211011_1422_Plate38</td>\n",
       "      <td>94</td>\n",
       "      <td>Analysis_1636046387758029156_0_21_Version9/exp...</td>\n",
       "      <td>Analysis_1636046387758029156_0_21_Version9/glo...</td>\n",
       "      <td>Analysis_1636046387758029156_0_21_Version9/tim...</td>\n",
       "      <td>Analysis_1636046387758029156_0_21_Version9/tim...</td>\n",
       "      <td>Analysis_1636046387758029156_0_21_Version9/glo...</td>\n",
       "      <td>01.01.1970, 01:00:</td>\n",
       "    </tr>\n",
       "    <tr>\n",
       "      <th>16</th>\n",
       "      <td>Analysis_1636046513186951533_0_23_Version9</td>\n",
       "      <td>Version9</td>\n",
       "      <td>/projects/0/einf914/data/20211002_0144_Plate22</td>\n",
       "      <td>787</td>\n",
       "      <td>22</td>\n",
       "      <td>Carrot</td>\n",
       "      <td>A5</td>\n",
       "      <td>001P100N</td>\n",
       "      <td>Y</td>\n",
       "      <td>-</td>\n",
       "      <td>...</td>\n",
       "      <td>None</td>\n",
       "      <td>20210923_1924_Plate22</td>\n",
       "      <td>20211011_1357_Plate22</td>\n",
       "      <td>73</td>\n",
       "      <td>Analysis_1636046513186951533_0_23_Version9/exp...</td>\n",
       "      <td>Analysis_1636046513186951533_0_23_Version9/glo...</td>\n",
       "      <td>Analysis_1636046513186951533_0_23_Version9/tim...</td>\n",
       "      <td>Analysis_1636046513186951533_0_23_Version9/tim...</td>\n",
       "      <td>Analysis_1636046513186951533_0_23_Version9/glo...</td>\n",
       "      <td>01.01.1970, 01:00:</td>\n",
       "    </tr>\n",
       "  </tbody>\n",
       "</table>\n",
       "<p>16 rows × 22 columns</p>\n",
       "</div>"
      ],
      "text/plain": [
       "                                folder_analysis   version  \\\n",
       "0   Analysis_1636046826216022929_0_100_Version9  Version9   \n",
       "1   Analysis_1636107306199118080_0_100_Version9  Version9   \n",
       "2    Analysis_1637745064562052826_0_99_Version9  Version9   \n",
       "3   Analysis_1636104897672902830_0_100_Version9  Version9   \n",
       "5   Analysis_1636044918401523795_0_100_Version9  Version9   \n",
       "6   Analysis_1636043977602188694_0_100_Version9  Version9   \n",
       "7   Analysis_1636044998117269036_0_100_Version9  Version9   \n",
       "8   Analysis_1636367533382636815_0_100_Version9  Version9   \n",
       "9   Analysis_1636046622780809853_0_100_Version9  Version9   \n",
       "10  Analysis_1636044946127011963_0_100_Version9  Version9   \n",
       "11  Analysis_1636044849869238592_0_100_Version9  Version9   \n",
       "12  Analysis_1636047796407701153_0_100_Version9  Version9   \n",
       "13  Analysis_1636111758346200198_0_100_Version9  Version9   \n",
       "14  Analysis_1636045159591685376_0_100_Version9  Version9   \n",
       "15   Analysis_1636046387758029156_0_21_Version9  Version9   \n",
       "16   Analysis_1636046513186951533_0_23_Version9  Version9   \n",
       "\n",
       "                                        total_path Plate PrincePos    root  \\\n",
       "0   /projects/0/einf914/data/20211005_0148_Plate39   799        39  Carrot   \n",
       "1   /projects/0/einf914/data/20210907_1507_Plate23   790        23  Carrot   \n",
       "2   /projects/0/einf914/data/20210918_1729_Plate21   792        21  Carrot   \n",
       "3   /projects/0/einf914/data/20211007_1606_Plate31   800        31  Carrot   \n",
       "5   /projects/0/einf914/data/20201203_0955_Plate36    80        36  Carrot   \n",
       "6   /projects/0/einf914/data/20210111_1533_Plate36    10        36  Carrot   \n",
       "7   /projects/0/einf914/data/20210110_1144_Plate38    76        38  Carrot   \n",
       "8   /projects/0/einf914/data/20201229_0349_Plate40   102        40  Carrot   \n",
       "9   /projects/0/einf914/data/20201124_1202_Plate39    94        39  Carrot   \n",
       "10  /projects/0/einf914/data/20210922_2313_Plate17    88        17  Carrot   \n",
       "11  /projects/0/einf914/data/20210110_0323_Plate30    26        39  Carrot   \n",
       "12  /projects/0/einf914/data/20211003_1937_Plate35   808        35  Carrot   \n",
       "13  /projects/0/einf914/data/20210111_2326_Plate32   152        32  Carrot   \n",
       "14  /projects/0/einf914/data/20201226_0742_Plate37    91        37  Carrot   \n",
       "15  /projects/0/einf914/data/20211009_1815_Plate38   785        38  Carrot   \n",
       "16  /projects/0/einf914/data/20211002_0144_Plate22   787        22  Carrot   \n",
       "\n",
       "   strain    medium split Pbait  ...  Temp             date_begin  \\\n",
       "0      A5  001P100N     Y     -  ...  None  20211001_1620_Plate39   \n",
       "1      A5  001P100N     Y     -  ...  None  20210907_1108_Plate23   \n",
       "2      A5  001P100N     Y     -  ...  None  20210915_1518_Plate21   \n",
       "3      A5  001P100N     Y     -  ...  None  20210929_0942_Plate31   \n",
       "5      A5  001P100N     Y     -  ...  None  20201128_1802_Plate36   \n",
       "6      A5  001P100N     Y     -  ...  None  20210107_1140_Plate36   \n",
       "7      A5  001P100N     Y     -  ...  None  20210108_1143_Plate38   \n",
       "8      A5  001P100N     Y  None  ...    25  20201226_1224_Plate40   \n",
       "9      A5  001P100N     Y  None  ...    25  20201123_1253_Plate39   \n",
       "10     A5  001P100N     Y     -  ...  None  20210915_1507_Plate17   \n",
       "11     A5  001P100N     Y     -  ...  None  20210106_1122_Plate30   \n",
       "12     A5  001P100N     Y     -  ...  None  20210929_0953_Plate35   \n",
       "13     A5  001P100N     Y     -  ...  None  20201224_1139_Plate32   \n",
       "14     A5  001P100N     Y     -  ...  None  20201217_1611_Plate37   \n",
       "15     A5  001P100N     Y     -  ...  None  20210929_1004_Plate38   \n",
       "16     A5  001P100N     Y     -  ...  None  20210923_1924_Plate22   \n",
       "\n",
       "                 date_end number_timepoints  \\\n",
       "0   20211011_1227_Plate39                95   \n",
       "1   20210917_1325_Plate23                96   \n",
       "2   20210925_1520_Plate21                99   \n",
       "3   20211011_1408_Plate31                91   \n",
       "5   20201206_2113_Plate36                47   \n",
       "6   20210112_2333_Plate36                31   \n",
       "7   20210112_2337_Plate38                25   \n",
       "8   20210105_1945_Plate40                60   \n",
       "9   20201210_1156_Plate39               169   \n",
       "10  20211006_0900_Plate17               155   \n",
       "11  20210113_2325_Plate30                44   \n",
       "12  20211011_1415_Plate35                91   \n",
       "13  20210113_0726_Plate32               115   \n",
       "14  20210105_2338_Plate37               112   \n",
       "15  20211011_1422_Plate38                94   \n",
       "16  20211011_1357_Plate22                73   \n",
       "\n",
       "                                             path_exp  \\\n",
       "0   Analysis_1636046826216022929_0_100_Version9/ex...   \n",
       "1   Analysis_1636107306199118080_0_100_Version9/ex...   \n",
       "2   Analysis_1637745064562052826_0_99_Version9/exp...   \n",
       "3   Analysis_1636104897672902830_0_100_Version9/ex...   \n",
       "5   Analysis_1636044918401523795_0_100_Version9/ex...   \n",
       "6   Analysis_1636043977602188694_0_100_Version9/ex...   \n",
       "7   Analysis_1636044998117269036_0_100_Version9/ex...   \n",
       "8   Analysis_1636367533382636815_0_100_Version9/ex...   \n",
       "9   Analysis_1636046622780809853_0_100_Version9/ex...   \n",
       "10  Analysis_1636044946127011963_0_100_Version9/ex...   \n",
       "11  Analysis_1636044849869238592_0_100_Version9/ex...   \n",
       "12  Analysis_1636047796407701153_0_100_Version9/ex...   \n",
       "13  Analysis_1636111758346200198_0_100_Version9/ex...   \n",
       "14  Analysis_1636045159591685376_0_100_Version9/ex...   \n",
       "15  Analysis_1636046387758029156_0_21_Version9/exp...   \n",
       "16  Analysis_1636046513186951533_0_23_Version9/exp...   \n",
       "\n",
       "                               path_global_hypha_info  \\\n",
       "0   Analysis_1636046826216022929_0_100_Version9/gl...   \n",
       "1   Analysis_1636107306199118080_0_100_Version9/gl...   \n",
       "2   Analysis_1637745064562052826_0_99_Version9/glo...   \n",
       "3   Analysis_1636104897672902830_0_100_Version9/gl...   \n",
       "5   Analysis_1636044918401523795_0_100_Version9/gl...   \n",
       "6   Analysis_1636043977602188694_0_100_Version9/gl...   \n",
       "7   Analysis_1636044998117269036_0_100_Version9/gl...   \n",
       "8   Analysis_1636367533382636815_0_100_Version9/gl...   \n",
       "9   Analysis_1636046622780809853_0_100_Version9/gl...   \n",
       "10  Analysis_1636044946127011963_0_100_Version9/gl...   \n",
       "11  Analysis_1636044849869238592_0_100_Version9/gl...   \n",
       "12  Analysis_1636047796407701153_0_100_Version9/gl...   \n",
       "13  Analysis_1636111758346200198_0_100_Version9/gl...   \n",
       "14  Analysis_1636045159591685376_0_100_Version9/gl...   \n",
       "15  Analysis_1636046387758029156_0_21_Version9/glo...   \n",
       "16  Analysis_1636046513186951533_0_23_Version9/glo...   \n",
       "\n",
       "                                 path_time_hypha_info  \\\n",
       "0   Analysis_1636046826216022929_0_100_Version9/ti...   \n",
       "1   Analysis_1636107306199118080_0_100_Version9/ti...   \n",
       "2   Analysis_1637745064562052826_0_99_Version9/tim...   \n",
       "3   Analysis_1636104897672902830_0_100_Version9/ti...   \n",
       "5   Analysis_1636044918401523795_0_100_Version9/ti...   \n",
       "6   Analysis_1636043977602188694_0_100_Version9/ti...   \n",
       "7   Analysis_1636044998117269036_0_100_Version9/ti...   \n",
       "8   Analysis_1636367533382636815_0_100_Version9/ti...   \n",
       "9   Analysis_1636046622780809853_0_100_Version9/ti...   \n",
       "10  Analysis_1636044946127011963_0_100_Version9/ti...   \n",
       "11  Analysis_1636044849869238592_0_100_Version9/ti...   \n",
       "12  Analysis_1636047796407701153_0_100_Version9/ti...   \n",
       "13  Analysis_1636111758346200198_0_100_Version9/ti...   \n",
       "14  Analysis_1636045159591685376_0_100_Version9/ti...   \n",
       "15  Analysis_1636046387758029156_0_21_Version9/tim...   \n",
       "16  Analysis_1636046513186951533_0_23_Version9/tim...   \n",
       "\n",
       "                                 path_time_plate_info  \\\n",
       "0   Analysis_1636046826216022929_0_100_Version9/ti...   \n",
       "1   Analysis_1636107306199118080_0_100_Version9/ti...   \n",
       "2   Analysis_1637745064562052826_0_99_Version9/tim...   \n",
       "3   Analysis_1636104897672902830_0_100_Version9/ti...   \n",
       "5   Analysis_1636044918401523795_0_100_Version9/ti...   \n",
       "6   Analysis_1636043977602188694_0_100_Version9/ti...   \n",
       "7   Analysis_1636044998117269036_0_100_Version9/ti...   \n",
       "8   Analysis_1636367533382636815_0_100_Version9/ti...   \n",
       "9   Analysis_1636046622780809853_0_100_Version9/ti...   \n",
       "10  Analysis_1636044946127011963_0_100_Version9/ti...   \n",
       "11  Analysis_1636044849869238592_0_100_Version9/ti...   \n",
       "12  Analysis_1636047796407701153_0_100_Version9/ti...   \n",
       "13  Analysis_1636111758346200198_0_100_Version9/ti...   \n",
       "14  Analysis_1636045159591685376_0_100_Version9/ti...   \n",
       "15  Analysis_1636046387758029156_0_21_Version9/tim...   \n",
       "16  Analysis_1636046513186951533_0_23_Version9/tim...   \n",
       "\n",
       "                               path_global_plate_info   date_run_analysis  \n",
       "0   Analysis_1636046826216022929_0_100_Version9/gl...  01.01.1970, 01:00:  \n",
       "1   Analysis_1636107306199118080_0_100_Version9/gl...  01.01.1970, 01:00:  \n",
       "2   Analysis_1637745064562052826_0_99_Version9/glo...  01.01.1970, 01:00:  \n",
       "3   Analysis_1636104897672902830_0_100_Version9/gl...  01.01.1970, 01:00:  \n",
       "5   Analysis_1636044918401523795_0_100_Version9/gl...  01.01.1970, 01:00:  \n",
       "6   Analysis_1636043977602188694_0_100_Version9/gl...  01.01.1970, 01:00:  \n",
       "7   Analysis_1636044998117269036_0_100_Version9/gl...  01.01.1970, 01:00:  \n",
       "8   Analysis_1636367533382636815_0_100_Version9/gl...  01.01.1970, 01:00:  \n",
       "9   Analysis_1636046622780809853_0_100_Version9/gl...  01.01.1970, 01:00:  \n",
       "10  Analysis_1636044946127011963_0_100_Version9/gl...  01.01.1970, 01:00:  \n",
       "11  Analysis_1636044849869238592_0_100_Version9/gl...  01.01.1970, 01:00:  \n",
       "12  Analysis_1636047796407701153_0_100_Version9/gl...  01.01.1970, 01:00:  \n",
       "13  Analysis_1636111758346200198_0_100_Version9/gl...  01.01.1970, 01:00:  \n",
       "14  Analysis_1636045159591685376_0_100_Version9/gl...  01.01.1970, 01:00:  \n",
       "15  Analysis_1636046387758029156_0_21_Version9/glo...  01.01.1970, 01:00:  \n",
       "16  Analysis_1636046513186951533_0_23_Version9/glo...  01.01.1970, 01:00:  \n",
       "\n",
       "[16 rows x 22 columns]"
      ]
     },
     "execution_count": 5,
     "metadata": {},
     "output_type": "execute_result"
    }
   ],
   "source": [
    "select"
   ]
  },
  {
   "cell_type": "code",
   "execution_count": 6,
   "id": "38caf3db-03b1-426c-88b1-6c3f8ac802fe",
   "metadata": {},
   "outputs": [],
   "source": [
    "analysis_info['Plate']=analysis_info['Plate'].fillna(758)"
   ]
  },
  {
   "cell_type": "code",
   "execution_count": 6,
   "id": "f947b3eb-ba8a-4402-ab1c-18c914c1ebe8",
   "metadata": {
    "tags": []
   },
   "outputs": [],
   "source": [
    "select = analysis_info.loc[analysis_info['Plate'].isin([94])]"
   ]
  },
  {
   "cell_type": "code",
   "execution_count": 17,
   "id": "7e612010-1a01-4e78-8920-d80ffd22244a",
   "metadata": {},
   "outputs": [],
   "source": [
    "select = analysis_info.loc[analysis_info['Plate']==792]"
   ]
  },
  {
   "cell_type": "code",
   "execution_count": 27,
   "id": "f895fa86-1de2-4e56-b57c-bd87b16eed80",
   "metadata": {
    "tags": []
   },
   "outputs": [
    {
     "name": "stdout",
     "output_type": "stream",
     "text": [
      "Submitted batch job 195252\n"
     ]
    },
    {
     "name": "stderr",
     "output_type": "stream",
     "text": [
      "sbatch: Single node jobs run on a shared node by default. Add --exclusive if you want to use a node exclusively.\n"
     ]
    }
   ],
   "source": [
    "time = '10:00'\n",
    "directory = directory\n",
    "list_f = [num_hypha,prop_lost_tracks_junction,prop_lost_tracks_tips,prop_lost_tracks_junction,prop_lost_tracks_tips,prop_inconsistent_root,number_of_timepoints_withing_boundaries,number_of_timepoints]\n",
    "list_args= [None,[1],[1],[10],[10]]+[[]]*len(list_f)\n",
    "overwrite = True\n",
    "num_parallel = 5\n",
    "run_parallel_post('global_plate_post_process.py', list_f,list_args,[directory,overwrite],select, num_parallel, time,'global_plate_post_process',cpus = 32,name_job = 'glob_plate')"
   ]
  },
  {
   "cell_type": "code",
   "execution_count": 6,
   "id": "5ca37270-2067-47f5-9012-098dd5a2c693",
   "metadata": {
    "tags": []
   },
   "outputs": [
    {
     "name": "stderr",
     "output_type": "stream",
     "text": [
      "sbatch: Single node jobs run on a shared node by default. Add --exclusive if you want to use a node exclusively.\n",
      "sbatch: Single node jobs run on a shared node by default. Add --exclusive if you want to use a node exclusively.\n",
      "sbatch: Single node jobs run on a shared node by default. Add --exclusive if you want to use a node exclusively.\n",
      "sbatch: Single node jobs run on a shared node by default. Add --exclusive if you want to use a node exclusively.\n",
      "sbatch: Single node jobs run on a shared node by default. Add --exclusive if you want to use a node exclusively.\n"
     ]
    },
    {
     "name": "stdout",
     "output_type": "stream",
     "text": [
      "Submitted batch job 253529\n",
      "Submitted batch job 253530\n",
      "Submitted batch job 253531\n",
      "Submitted batch job 253532\n",
      "Submitted batch job 253533\n",
      "Submitted batch job 253534\n",
      "Submitted batch job 253535\n",
      "Submitted batch job 253536\n",
      "Submitted batch job 253537\n"
     ]
    },
    {
     "name": "stderr",
     "output_type": "stream",
     "text": [
      "sbatch: Single node jobs run on a shared node by default. Add --exclusive if you want to use a node exclusively.\n",
      "sbatch: Single node jobs run on a shared node by default. Add --exclusive if you want to use a node exclusively.\n",
      "sbatch: Single node jobs run on a shared node by default. Add --exclusive if you want to use a node exclusively.\n",
      "sbatch: Single node jobs run on a shared node by default. Add --exclusive if you want to use a node exclusively.\n"
     ]
    }
   ],
   "source": [
    "time = '20:00'\n",
    "directory = directory\n",
    "list_f = []\n",
    "list_args= [[]]*len(list_f)\n",
    "overwrite = True\n",
    "num_parallel = 2\n",
    "run_parallel_post('exp_plot.py', list_f,list_args,[directory,overwrite],select, num_parallel, time,'global_plate_post_process',cpus = 32,name_job = 'glob_plate')"
   ]
  },
  {
   "cell_type": "code",
   "execution_count": 12,
   "id": "25905d71-e019-4f51-bfa4-c9243d157559",
   "metadata": {
    "tags": []
   },
   "outputs": [
    {
     "name": "stdout",
     "output_type": "stream",
     "text": [
      "Submitted batch job 195536\n"
     ]
    },
    {
     "name": "stderr",
     "output_type": "stream",
     "text": [
      "sbatch: Single node jobs run on a shared node by default. Add --exclusive if you want to use a node exclusively.\n"
     ]
    }
   ],
   "source": [
    "time = '20:00'\n",
    "directory = directory\n",
    "list_f = []\n",
    "list_args= [[]]*len(list_f)\n",
    "overwrite = True\n",
    "num_parallel = 5\n",
    "run_parallel_post('make_small_exp.py', list_f,list_args,[directory,overwrite],select, num_parallel, time,'global_plate_post_process',cpus = 32,name_job = 'glob_plate')"
   ]
  },
  {
   "cell_type": "code",
   "execution_count": null,
   "id": "b58bbfa6-3b7d-4147-bd0a-85b30d4bb35a",
   "metadata": {
    "tags": []
   },
   "outputs": [],
   "source": [
    "frames = []\n",
    "for index, row in select.iterrows():\n",
    "    ser = pd.read_json(f'{directory}{row[\"path_global_plate_info\"]}',convert_dates=True,typ='series')\n",
    "    frame = ser.to_frame(index).transpose()\n",
    "    frames.append(frame)\n",
    "global_plate_infos = pd.concat(frames)\n",
    "global_plate_infos"
   ]
  },
  {
   "cell_type": "code",
   "execution_count": 13,
   "id": "e258f995-e688-4b82-914e-03a527c75d1a",
   "metadata": {
    "tags": []
   },
   "outputs": [
    {
     "name": "stdout",
     "output_type": "stream",
     "text": [
      "The autoreload extension is already loaded. To reload it, use:\n",
      "  %reload_ext autoreload\n",
      "Submitted batch job 254610\n",
      "Submitted batch job 254611\n",
      "Submitted batch job 254612\n",
      "Submitted batch job 254613\n"
     ]
    },
    {
     "name": "stderr",
     "output_type": "stream",
     "text": [
      "sbatch: Single node jobs run on a shared node by default. Add --exclusive if you want to use a node exclusively.\n",
      "sbatch: Single node jobs run on a shared node by default. Add --exclusive if you want to use a node exclusively.\n",
      "sbatch: Single node jobs run on a shared node by default. Add --exclusive if you want to use a node exclusively.\n",
      "sbatch: Single node jobs run on a shared node by default. Add --exclusive if you want to use a node exclusively.\n"
     ]
    }
   ],
   "source": [
    "%load_ext autoreload\n",
    "%autoreload 2\n",
    "time = '40:00'\n",
    "directory = directory\n",
    "# list_f = [get_num_trunks,get_length,get_area, get_area_separate_connected_components,get_num_tips,get_num_nodes,get_area_study_zone,get_num_tips_study_zone,get_num_nodes_study_zone,get_length_study_zone,is_out_study]\n",
    "max_ind = 20\n",
    "incr = 100\n",
    "list_f = [get_density_in_ring]*max_ind\n",
    "\n",
    "list_args= [{\"incr\":incr,\"i\":i} for i in range(max_ind)]\n",
    "overwrite = False\n",
    "num_parallel = 5\n",
    "run_parallel_post('time_plate_post_process.py', list_f,list_args,[directory,overwrite],select, num_parallel, time,'time_plate_post_process',cpus = 32,name_job = 'time_plate')"
   ]
  },
  {
   "cell_type": "code",
   "execution_count": null,
   "id": "fde1df19-fd39-4b4b-889c-8e38b524ea87",
   "metadata": {
    "tags": []
   },
   "outputs": [],
   "source": [
    "frames = []\n",
    "for index, row in select.iterrows():\n",
    "    if os.path.isfile(f'{directory}{row[\"path_time_plate_info\"]}'):\n",
    "        frame = pd.read_json(f'{directory}{row[\"path_time_plate_info\"]}',convert_dates=True).transpose()\n",
    "        frame.index.name = 't'\n",
    "        frame.reset_index(inplace=True)\n",
    "        frames.append(frame)\n",
    "time_plate_infos = pd.concat(frames,ignore_index=True)\n",
    "time_plate_infos.loc[time_plate_infos['Plate']==91]"
   ]
  },
  {
   "cell_type": "code",
   "execution_count": 6,
   "id": "2a6dd6bc-3c7b-4bba-8912-6e25ebc81424",
   "metadata": {
    "tags": []
   },
   "outputs": [
    {
     "name": "stdout",
     "output_type": "stream",
     "text": [
      "Submitted batch job 205332\n",
      "Submitted batch job 205333\n"
     ]
    },
    {
     "name": "stderr",
     "output_type": "stream",
     "text": [
      "sbatch: Single node jobs run on a shared node by default. Add --exclusive if you want to use a node exclusively.\n",
      "sbatch: Single node jobs run on a shared node by default. Add --exclusive if you want to use a node exclusively.\n"
     ]
    }
   ],
   "source": [
    "time = '3:00:00'\n",
    "directory = directory\n",
    "# list_f = [get_width,get_tot_length_C,get_tot_growth_C]\n",
    "# list_f = [get_timestep_anastomosis]\n",
    "# list_f = [get_tot_length_pp,get_tot_growth_pp,get_timestep_stop_growth,get_time_stop_growth,get_time_init_growth,get_mean_speed_growth,get_stop_track,get_timestep_anastomosis,get_timestep_biological_stop_growth]\n",
    "# list_f = [get_num_branch]\n",
    "# list_f = [gets_out_of_ROI]\n",
    "list_args= [{}]*len(list_f)\n",
    "overwrite = False\n",
    "num_parallel = 2\n",
    "run_parallel_post('global_hypha_post_process.py', list_f,list_args,[directory,overwrite],select, num_parallel, time,'global_hypha_post_process',cpus = 32,name_job = 'glob_hypha')"
   ]
  },
  {
   "cell_type": "code",
   "execution_count": null,
   "id": "ed337c3c-01e6-447e-a695-08303b2fa459",
   "metadata": {},
   "outputs": [],
   "source": [
    "frames = []\n",
    "for index, row in select.iterrows():\n",
    "    if os.path.isfile(f'{directory}{row[\"path_global_hypha_info\"]}'):\n",
    "        frame = pd.read_json(f'{directory}{row[\"path_global_hypha_info\"]}',convert_dates=True).transpose()\n",
    "        frame.index.name = 'hypha'\n",
    "        frame.reset_index(inplace=True)\n",
    "        frames.append(frame)\n",
    "global_hypha_info = pd.concat(frames,ignore_index=True)\n",
    "# time_plate_infos.loc[time_plate_infos['Plate']==91]"
   ]
  },
  {
   "cell_type": "code",
   "execution_count": 5,
   "id": "9f3eb48a-f947-443e-ac6c-28a068d3be75",
   "metadata": {
    "collapsed": true,
    "jupyter": {
     "outputs_hidden": true
    },
    "tags": []
   },
   "outputs": [
    {
     "name": "stderr",
     "output_type": "stream",
     "text": [
      "sbatch: Single node jobs run on a shared node by default. Add --exclusive if you want to use a node exclusively.\n",
      "sbatch: Single node jobs run on a shared node by default. Add --exclusive if you want to use a node exclusively.\n",
      "sbatch: Single node jobs run on a shared node by default. Add --exclusive if you want to use a node exclusively.\n",
      "sbatch: Single node jobs run on a shared node by default. Add --exclusive if you want to use a node exclusively.\n"
     ]
    },
    {
     "name": "stdout",
     "output_type": "stream",
     "text": [
      "Submitted batch job 219433\n",
      "Submitted batch job 219434\n",
      "Submitted batch job 219435\n",
      "Submitted batch job 219436\n"
     ]
    },
    {
     "name": "stderr",
     "output_type": "stream",
     "text": [
      "sbatch: Single node jobs run on a shared node by default. Add --exclusive if you want to use a node exclusively.\n",
      "sbatch: Single node jobs run on a shared node by default. Add --exclusive if you want to use a node exclusively.\n",
      "sbatch: Single node jobs run on a shared node by default. Add --exclusive if you want to use a node exclusively.\n",
      "sbatch: Single node jobs run on a shared node by default. Add --exclusive if you want to use a node exclusively.\n"
     ]
    },
    {
     "name": "stdout",
     "output_type": "stream",
     "text": [
      "Submitted batch job 219437\n",
      "Submitted batch job 219438\n",
      "Submitted batch job 219439\n",
      "Submitted batch job 219440\n",
      "Submitted batch job 219441\n"
     ]
    },
    {
     "name": "stderr",
     "output_type": "stream",
     "text": [
      "sbatch: Single node jobs run on a shared node by default. Add --exclusive if you want to use a node exclusively.\n",
      "sbatch: Single node jobs run on a shared node by default. Add --exclusive if you want to use a node exclusively.\n",
      "sbatch: Single node jobs run on a shared node by default. Add --exclusive if you want to use a node exclusively.\n",
      "sbatch: Single node jobs run on a shared node by default. Add --exclusive if you want to use a node exclusively.\n",
      "sbatch: Single node jobs run on a shared node by default. Add --exclusive if you want to use a node exclusively.\n"
     ]
    },
    {
     "name": "stdout",
     "output_type": "stream",
     "text": [
      "Submitted batch job 219442\n",
      "Submitted batch job 219443\n",
      "Submitted batch job 219444\n",
      "Submitted batch job 219445\n"
     ]
    },
    {
     "name": "stderr",
     "output_type": "stream",
     "text": [
      "sbatch: Single node jobs run on a shared node by default. Add --exclusive if you want to use a node exclusively.\n",
      "sbatch: Single node jobs run on a shared node by default. Add --exclusive if you want to use a node exclusively.\n",
      "sbatch: Single node jobs run on a shared node by default. Add --exclusive if you want to use a node exclusively.\n",
      "sbatch: Single node jobs run on a shared node by default. Add --exclusive if you want to use a node exclusively.\n"
     ]
    },
    {
     "name": "stdout",
     "output_type": "stream",
     "text": [
      "Submitted batch job 219446\n",
      "Submitted batch job 219447\n",
      "Submitted batch job 219448\n",
      "Submitted batch job 219449\n"
     ]
    },
    {
     "name": "stderr",
     "output_type": "stream",
     "text": [
      "sbatch: Single node jobs run on a shared node by default. Add --exclusive if you want to use a node exclusively.\n"
     ]
    },
    {
     "name": "stdout",
     "output_type": "stream",
     "text": [
      "Submitted batch job 219450\n"
     ]
    },
    {
     "name": "stderr",
     "output_type": "stream",
     "text": [
      "sbatch: Single node jobs run on a shared node by default. Add --exclusive if you want to use a node exclusively.\n",
      "sbatch: Single node jobs run on a shared node by default. Add --exclusive if you want to use a node exclusively.\n",
      "sbatch: Single node jobs run on a shared node by default. Add --exclusive if you want to use a node exclusively.\n",
      "sbatch: Single node jobs run on a shared node by default. Add --exclusive if you want to use a node exclusively.\n"
     ]
    },
    {
     "name": "stdout",
     "output_type": "stream",
     "text": [
      "Submitted batch job 219451\n",
      "Submitted batch job 219452\n",
      "Submitted batch job 219453\n",
      "Submitted batch job 219454\n"
     ]
    },
    {
     "name": "stderr",
     "output_type": "stream",
     "text": [
      "sbatch: Single node jobs run on a shared node by default. Add --exclusive if you want to use a node exclusively.\n",
      "sbatch: Single node jobs run on a shared node by default. Add --exclusive if you want to use a node exclusively.\n",
      "sbatch: Single node jobs run on a shared node by default. Add --exclusive if you want to use a node exclusively.\n",
      "sbatch: Single node jobs run on a shared node by default. Add --exclusive if you want to use a node exclusively.\n"
     ]
    },
    {
     "name": "stdout",
     "output_type": "stream",
     "text": [
      "Submitted batch job 219455\n",
      "Submitted batch job 219456\n",
      "Submitted batch job 219457\n",
      "Submitted batch job 219458\n"
     ]
    },
    {
     "name": "stderr",
     "output_type": "stream",
     "text": [
      "sbatch: Single node jobs run on a shared node by default. Add --exclusive if you want to use a node exclusively.\n",
      "sbatch: Single node jobs run on a shared node by default. Add --exclusive if you want to use a node exclusively.\n",
      "sbatch: Single node jobs run on a shared node by default. Add --exclusive if you want to use a node exclusively.\n",
      "sbatch: Single node jobs run on a shared node by default. Add --exclusive if you want to use a node exclusively.\n"
     ]
    },
    {
     "name": "stdout",
     "output_type": "stream",
     "text": [
      "Submitted batch job 219459\n",
      "Submitted batch job 219460\n",
      "Submitted batch job 219461\n",
      "Submitted batch job 219462\n"
     ]
    },
    {
     "name": "stderr",
     "output_type": "stream",
     "text": [
      "sbatch: Single node jobs run on a shared node by default. Add --exclusive if you want to use a node exclusively.\n",
      "sbatch: Single node jobs run on a shared node by default. Add --exclusive if you want to use a node exclusively.\n",
      "sbatch: Single node jobs run on a shared node by default. Add --exclusive if you want to use a node exclusively.\n",
      "sbatch: Single node jobs run on a shared node by default. Add --exclusive if you want to use a node exclusively.\n",
      "sbatch: Single node jobs run on a shared node by default. Add --exclusive if you want to use a node exclusively.\n"
     ]
    },
    {
     "name": "stdout",
     "output_type": "stream",
     "text": [
      "Submitted batch job 219463\n",
      "Submitted batch job 219464\n",
      "Submitted batch job 219465\n",
      "Submitted batch job 219466\n",
      "Submitted batch job 219467\n"
     ]
    },
    {
     "name": "stderr",
     "output_type": "stream",
     "text": [
      "sbatch: Single node jobs run on a shared node by default. Add --exclusive if you want to use a node exclusively.\n",
      "sbatch: Single node jobs run on a shared node by default. Add --exclusive if you want to use a node exclusively.\n",
      "sbatch: Single node jobs run on a shared node by default. Add --exclusive if you want to use a node exclusively.\n"
     ]
    },
    {
     "name": "stdout",
     "output_type": "stream",
     "text": [
      "Submitted batch job 219468\n",
      "Submitted batch job 219469\n",
      "Submitted batch job 219470\n"
     ]
    },
    {
     "name": "stderr",
     "output_type": "stream",
     "text": [
      "sbatch: Single node jobs run on a shared node by default. Add --exclusive if you want to use a node exclusively.\n",
      "sbatch: Single node jobs run on a shared node by default. Add --exclusive if you want to use a node exclusively.\n",
      "sbatch: Single node jobs run on a shared node by default. Add --exclusive if you want to use a node exclusively.\n"
     ]
    },
    {
     "name": "stdout",
     "output_type": "stream",
     "text": [
      "Submitted batch job 219471\n",
      "Submitted batch job 219472\n",
      "Submitted batch job 219473\n"
     ]
    },
    {
     "name": "stderr",
     "output_type": "stream",
     "text": [
      "sbatch: Single node jobs run on a shared node by default. Add --exclusive if you want to use a node exclusively.\n",
      "sbatch: Single node jobs run on a shared node by default. Add --exclusive if you want to use a node exclusively.\n",
      "sbatch: Single node jobs run on a shared node by default. Add --exclusive if you want to use a node exclusively.\n",
      "sbatch: Single node jobs run on a shared node by default. Add --exclusive if you want to use a node exclusively.\n",
      "sbatch: Single node jobs run on a shared node by default. Add --exclusive if you want to use a node exclusively.\n"
     ]
    },
    {
     "name": "stdout",
     "output_type": "stream",
     "text": [
      "Submitted batch job 219474\n",
      "Submitted batch job 219475\n",
      "Submitted batch job 219476\n",
      "Submitted batch job 219477\n",
      "Submitted batch job 219478\n"
     ]
    },
    {
     "name": "stderr",
     "output_type": "stream",
     "text": [
      "sbatch: Single node jobs run on a shared node by default. Add --exclusive if you want to use a node exclusively.\n",
      "sbatch: Single node jobs run on a shared node by default. Add --exclusive if you want to use a node exclusively.\n",
      "sbatch: Single node jobs run on a shared node by default. Add --exclusive if you want to use a node exclusively.\n",
      "sbatch: Single node jobs run on a shared node by default. Add --exclusive if you want to use a node exclusively.\n",
      "sbatch: Single node jobs run on a shared node by default. Add --exclusive if you want to use a node exclusively.\n"
     ]
    },
    {
     "name": "stdout",
     "output_type": "stream",
     "text": [
      "Submitted batch job 219479\n",
      "Submitted batch job 219480\n",
      "Submitted batch job 219481\n",
      "Submitted batch job 219482\n",
      "Submitted batch job 219483\n",
      "Submitted batch job 219484\n",
      "Submitted batch job 219485\n"
     ]
    },
    {
     "name": "stderr",
     "output_type": "stream",
     "text": [
      "sbatch: Single node jobs run on a shared node by default. Add --exclusive if you want to use a node exclusively.\n",
      "sbatch: Single node jobs run on a shared node by default. Add --exclusive if you want to use a node exclusively.\n"
     ]
    }
   ],
   "source": [
    "\n",
    "list_f = [get_distance_final_pos,get_timedelta,get_time_since_start,get_speed,get_timestep,get_timestep_init,get_time_init,get_degree,get_width_tip_edge,get_width_root_edge,get_width_average,has_reached_final_pos,in_ROI]\n",
    "# list_f = [local_density,local_density,local_density]\n",
    "list_f = [get_time_since_begin_exp]\n",
    "# list_f = [local_density]\n",
    "list_args= [{}]*len(list_f)\n",
    "# list_args= [[500],[1000],[2000]]+[[]]\n",
    "# list_args= [[500]]\n",
    "overwrite = False\n",
    "num_parallel = 25\n",
    "time = '5:00'\n",
    "for index, row in select.iterrows():\n",
    "    folder = row['folder_analysis']\n",
    "    path_time_plate_info = row['path_time_plate_info']\n",
    "    plate = row['Plate']\n",
    "    num_cpus = 32\n",
    "    if os.path.isfile(f'{directory}{path_time_plate_info}'):\n",
    "        whole_plate_info = pd.read_json(f'{directory}{path_time_plate_info}',\n",
    "       convert_dates=True).transpose()\n",
    "        whole_plate_info.index.name = 't'\n",
    "        whole_plate_info.reset_index(inplace=True)\n",
    "        run_parallel_post('time_hypha_post_process.py', list_f,list_args,[directory,overwrite],whole_plate_info, num_parallel, time,'time_hypha_post_process',cpus = num_cpus,name_job='time_hypha')"
   ]
  },
  {
   "cell_type": "code",
   "execution_count": null,
   "id": "ebab71f8-9376-401f-a872-3d00804f72bb",
   "metadata": {},
   "outputs": [],
   "source": [
    "frames = []\n",
    "for index, row in select.iterrows():\n",
    "    folder = row['folder_analysis']\n",
    "    path_time_plate_info = row['path_time_plate_info']\n",
    "    plate = row['Plate']\n",
    "    if os.path.isfile(f'{directory}{path_time_plate_info}'):\n",
    "        time_plate_info = pd.read_json(f'{directory}{path_time_plate_info}',\n",
    "       convert_dates=True).transpose()\n",
    "        time_plate_info.index.name = 't'\n",
    "        time_plate_info.reset_index(inplace=True)\n",
    "        for indexo, rowt in time_plate_info.iterrows():\n",
    "            t = rowt['t']\n",
    "            path_hyph_info_t = f'{directory}{folder}/time_hypha_info/hyph_info_{t}.json'\n",
    "            if os.path.isfile(path_hyph_info_t):\n",
    "                hyph_info_t = pd.read_json(path_hyph_info_t,\n",
    "       convert_dates=True).transpose()\n",
    "                hyph_info_t['Plate']=rowt['Plate']\n",
    "                hyph_info_t['folder']=folder\n",
    "                hyph_info_t['t']=rowt['t']\n",
    "                frames.append(hyph_info_t)\n",
    "result = pd.concat(frames)"
   ]
  },
  {
   "cell_type": "code",
   "execution_count": null,
   "id": "ac64bff9-1b03-47ed-b494-c281ab11bd86",
   "metadata": {
    "tags": []
   },
   "outputs": [],
   "source": [
    "result"
   ]
  }
 ],
 "metadata": {
  "kernelspec": {
   "display_name": "Python 3 (ipykernel)",
   "language": "python",
   "name": "python3"
  },
  "language_info": {
   "codemirror_mode": {
    "name": "ipython",
    "version": 3
   },
   "file_extension": ".py",
   "mimetype": "text/x-python",
   "name": "python",
   "nbconvert_exporter": "python",
   "pygments_lexer": "ipython3",
   "version": "3.7.11"
  }
 },
 "nbformat": 4,
 "nbformat_minor": 5
}

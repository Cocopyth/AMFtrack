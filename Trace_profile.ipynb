{
 "cells": [
  {
   "cell_type": "code",
   "execution_count": 2,
   "metadata": {},
   "outputs": [],
   "source": [
    "import numpy as np\n",
    "import matplotlib.pyplot as plt\n",
    "import matplotlib.cm as cm\n",
    "from PIL import Image\n",
    "import numpy as np\n",
    "from skimage.measure import profile_line\n",
    "from scipy import sparse\n",
    "from pymatreader import read_mat\n",
    "import pandas as pd\n",
    "import cProfile\n",
    "from util import get_path\n",
    "from extract_graph import dic_to_sparse,  from_sparse_to_graph, clean\n",
    "import networkx as nx\n",
    "from random import randrange\n",
    "import math \n",
    "root_path = r'//sun.amolf.nl/shimizu-data/home-folder/oyartegalvez/Drive_AMFtopology/PRINCE'\n",
    "date_plate = '/20200701_1957_Plate13'\n",
    "end  = '/Img'\n",
    "endskeleton = '/Analysis/Skeleton.mat'\n",
    "imname = '/Img_r09_c12.tif'\n"
   ]
  },
  {
   "cell_type": "code",
   "execution_count": 3,
   "metadata": {},
   "outputs": [],
   "source": [
    "plate=13\n",
    "date1='0703_1157'\n",
    "date2='0703_1557'\n",
    "date3='0703_1957'\n",
    "row=6\n",
    "column=10"
   ]
  },
  {
   "cell_type": "code",
   "execution_count": 4,
   "metadata": {},
   "outputs": [],
   "source": [
    "def find_width(p,threshold):\n",
    "    problem=False\n",
    "    arg = len(p)//2\n",
    "    we_plot=randrange(1000)\n",
    "    while  p[arg]<=threshold:\n",
    "        if arg<=0:\n",
    "#             we_plot=50\n",
    "            problem=True\n",
    "            break\n",
    "        arg-=1\n",
    "    begin = arg\n",
    "    arg = len(p)//2\n",
    "    while  p[arg]<=threshold:\n",
    "        if arg>=len(p)-1:\n",
    "#             we_plot=50\n",
    "            problem=True\n",
    "            break\n",
    "        arg+=1\n",
    "    end = arg\n",
    "    return(begin,end,problem)"
   ]
  },
  {
   "cell_type": "code",
   "execution_count": 5,
   "metadata": {},
   "outputs": [],
   "source": [
    "imtab1=np.load(f'Data/imbackrem_{date1}_{plate}_{row}_{column}.npy')\n",
    "imtab2=np.load(f'Data/imbackrem_{date2}_{plate}_{row}_{column}.npy')\n",
    "imtab3=np.load(f'Data/imbackrem_{date3}_{plate}_{row}_{column}.npy')\n",
    "skeleton1=np.load(f'Data/skeletonized_{date1}_{plate}_{row}_{column}.npy')\n",
    "skeleton2=np.load(f'Data/skeletonized_{date2}_{plate}_{row}_{column}.npy')\n",
    "skeleton3=np.load(f'Data/skeletonized_{date3}_{plate}_{row}_{column}.npy')"
   ]
  },
  {
   "cell_type": "code",
   "execution_count": 23,
   "metadata": {},
   "outputs": [],
   "source": [
    "from skimage._shared.utils import _validate_interpolation_order\n",
    "from warnings import warn\n",
    "from scipy import ndimage as ndi"
   ]
  },
  {
   "cell_type": "code",
   "execution_count": 24,
   "metadata": {},
   "outputs": [],
   "source": [
    "def extract_width(graph_tab,imtab,size=10,width_factor=60):\n",
    "#     def _line_profile_coordinates(src, dst, linewidth=1):\n",
    "#         src_row, src_col = src = np.asarray(src, dtype=float)\n",
    "#         dst_row, dst_col = dst = np.asarray(dst, dtype=float)\n",
    "#         d_row, d_col = dst - src\n",
    "#         theta = np.arctan2(d_row, d_col)\n",
    "\n",
    "#         length = int(np.ceil(np.hypot(d_row, d_col) + 1))\n",
    "#         # we add one above because we include the last point in the profile\n",
    "#         # (in contrast to standard numpy indexing)\n",
    "#         line_col = np.linspace(src_col, dst_col, length)\n",
    "#         line_row = np.linspace(src_row, dst_row, length)\n",
    "\n",
    "#         # we subtract 1 from linewidth to change from pixel-counting\n",
    "#         # (make this line 3 pixels wide) to point distances (the\n",
    "#         # distance between pixel centers)\n",
    "#         col_width = (linewidth - 1) * np.sin(-theta) / 2\n",
    "#         row_width = (linewidth - 1) * np.cos(theta) / 2\n",
    "#         perp_rows = np.stack([np.linspace(row_i - row_width, row_i + row_width,\n",
    "#                                           linewidth) for row_i in line_row])\n",
    "#         perp_cols = np.stack([np.linspace(col_i - col_width, col_i + col_width,\n",
    "#                                           linewidth) for col_i in line_col])\n",
    "#         return np.stack([perp_rows, perp_cols])\n",
    "#     def profile_line(image, src, dst, linewidth=1,\n",
    "#                  order=None, mode=None, cval=0.0,\n",
    "#                  *, reduce_func=np.mean):\n",
    "#         order = _validate_interpolation_order(image.dtype, order)\n",
    "\n",
    "#         if mode is None:\n",
    "#             warn(\"Default out of bounds interpolation mode 'constant' is \"\n",
    "#                  \"deprecated. In version 0.19 it will be set to 'reflect'. \"\n",
    "#                  \"To avoid this warning, set `mode=` explicitly.\",\n",
    "#                  FutureWarning, stacklevel=2)\n",
    "#             mode = 'constant'\n",
    "\n",
    "#         perp_lines = _line_profile_coordinates(src, dst, linewidth=linewidth)\n",
    "#         if image.ndim == 3:\n",
    "#             pixels = [ndi.map_coordinates(image[..., i], perp_lines,\n",
    "#                                           prefilter=order > 1,\n",
    "#                                           order=order, mode=mode,\n",
    "#                                           cval=cval) for i in\n",
    "#                       range(image.shape[2])]\n",
    "#             pixels = np.transpose(np.asarray(pixels), (1, 2, 0))\n",
    "#         else:\n",
    "#             pixels = ndi.map_coordinates(image, perp_lines, prefilter=order > 1,\n",
    "#                                          order=order, mode=mode, cval=cval)\n",
    "#         # The outputted array with reduce_func=None gives an array where the\n",
    "#         # row values (axis=1) are flipped. Here, we make this consistent.\n",
    "#         pixels = np.flip(pixels, axis=1)\n",
    "\n",
    "#         if reduce_func is None:\n",
    "#             intensities = pixels\n",
    "#         else:\n",
    "#             try:\n",
    "#                 intensities = reduce_func(pixels, axis=1)\n",
    "#             except TypeError:  # function doesn't allow axis kwarg\n",
    "#                 intensities = np.apply_along_axis(reduce_func, arr=pixels, axis=1)\n",
    "\n",
    "#         return intensities\n",
    "    threshold=imtab.mean()-20\n",
    "    width_doc = sparse.dok_matrix(imtab.shape, dtype=np.float32)\n",
    "    problem_doc = sparse.dok_matrix(imtab.shape, dtype=np.float32)\n",
    "    for index, row in graph_tab.iterrows():\n",
    "        pixel_list_ex=row['pixel_list']\n",
    "        for index in range(len(pixel_list_ex)):\n",
    "            sub_list=pixel_list_ex[max(0,index-size):index+size]\n",
    "            orientation=np.array(sub_list[0])-np.array(sub_list[-1])\n",
    "            perpendicular = [1,-orientation[0]/orientation[1]] if orientation[1]!=0 else [0,1]\n",
    "            perpendicular_norm=np.array(perpendicular)/np.sqrt(perpendicular[0]**2+perpendicular[1]**2)\n",
    "            pivot=pixel_list_ex[index]\n",
    "            point1=np.around(np.array(pivot)+width_factor*perpendicular_norm)\n",
    "            point2=np.around(np.array(pivot)-width_factor*perpendicular_norm)\n",
    "            point1=point1.astype(int)\n",
    "            point2=point2.astype(int)\n",
    "            image\n",
    "            p = profile_line(imtab, point1, point2,mode='constant')\n",
    "            problem=False\n",
    "            arg = len(p)//2\n",
    "            we_plot=randrange(1000)\n",
    "            while  p[arg]<=threshold:\n",
    "                if arg<=0:\n",
    "        #             we_plot=50\n",
    "                    problem=True\n",
    "                    break\n",
    "                arg-=1\n",
    "            begin = arg\n",
    "            arg = len(p)//2\n",
    "            while  p[arg]<=threshold:\n",
    "                if arg>=len(p)-1:\n",
    "        #             we_plot=50\n",
    "                    problem=True\n",
    "                    break\n",
    "                arg+=1\n",
    "            end = arg\n",
    "            width_doc[pivot]=math.dist(point1, point2)*(end-begin)/len(p)\n",
    "            if problem:\n",
    "                problem_doc[pivot]=True\n",
    "#                 print(pixel_list_ex[index])\n",
    "#                 print(point1,point2)\n",
    "#                 plt.plot(p)\n",
    "#                 plt.axvline(x=begin,color =\"red\")\n",
    "#                 plt.axvline(x=end,color=\"red\")\n",
    "#                 plt.show()\n",
    "    values=list(width_doc.values())\n",
    "    mean = np.mean(values)\n",
    "    std = np.std(values)\n",
    "    mini = min(values)\n",
    "    maxi = max(values)\n",
    "    width_doc_normalised=sparse.dok_matrix(imtab.shape, dtype=np.float32)\n",
    "    for key in width_doc.keys():\n",
    "        width_doc_normalised[key]=(width_doc[key]-mini)/(maxi-mini)*255\n",
    "    return(width_doc_normalised,width_doc,problem_doc,mini,maxi)\n",
    "            "
   ]
  },
  {
   "cell_type": "code",
   "execution_count": 21,
   "metadata": {},
   "outputs": [],
   "source": [
    "clean_skeleton_2=clean(skeleton2)\n",
    "doc_skeleton_2=sparse.dok_matrix(clean_skeleton_2)\n",
    "graph_tab2=from_sparse_to_graph(doc_skeleton_2)"
   ]
  },
  {
   "cell_type": "code",
   "execution_count": 25,
   "metadata": {},
   "outputs": [],
   "source": [
    "width_doc_normalised2,width_doc2,problem_doc2,mini,maxi=extract_width(graph_tab2,imtab2,width_factor=30)"
   ]
  },
  {
   "cell_type": "code",
   "execution_count": 27,
   "metadata": {},
   "outputs": [],
   "source": [
    "np.save(f'Data/width_{date2}_{plate}_{row}_{column}',width_doc2.todense())\n"
   ]
  },
  {
   "cell_type": "code",
   "execution_count": null,
   "metadata": {},
   "outputs": [],
   "source": [
    "cProfile.run('extract_width(graph_tab2,imtab2,width_factor=30)')"
   ]
  },
  {
   "cell_type": "code",
   "execution_count": 5,
   "metadata": {},
   "outputs": [],
   "source": [
    "clean_skeleton_1=clean(skeleton1)\n",
    "doc_skeleton_1=sparse.dok_matrix(clean_skeleton_1)\n",
    "graph_tab1=from_sparse_to_graph(doc_skeleton_1)"
   ]
  },
  {
   "cell_type": "code",
   "execution_count": 67,
   "metadata": {},
   "outputs": [
    {
     "data": {
      "text/plain": [
       "(array([   9.,   35.,   83.,  430., 1542., 2419., 2168., 2501.,  829.,\n",
       "         110.,  150.,   88.,   87.,   74.,   37.,   34.,   17.,    9.,\n",
       "           8.,   28.]),\n",
       " array([  4.3706183,  16.902088 ,  29.433556 ,  41.965027 ,  54.496494 ,\n",
       "         67.02796  ,  79.55943  ,  92.090904 , 104.62237  , 117.15384  ,\n",
       "        129.6853   , 142.21678  , 154.74825  , 167.27971  , 179.81119  ,\n",
       "        192.34265  , 204.87413  , 217.4056   , 229.93706  , 242.46854  ,\n",
       "        255.       ], dtype=float32),\n",
       " <BarContainer object of 20 artists>)"
      ]
     },
     "execution_count": 67,
     "metadata": {},
     "output_type": "execute_result"
    },
    {
     "data": {
      "image/png": "[encoded data removed]",
      "text/plain": [
       "<Figure size 432x288 with 1 Axes>"
      ]
     },
     "metadata": {
      "needs_background": "light"
     },
     "output_type": "display_data"
    }
   ],
   "source": [
    "plt.hist(list(width_doc_normalised2.values()),20)"
   ]
  },
  {
   "cell_type": "code",
   "execution_count": null,
   "metadata": {},
   "outputs": [],
   "source": [
    "for index, row in graph_tab.iterrows():\n",
    "    pixel_list_ex=row['pixel_list']"
   ]
  },
  {
   "cell_type": "code",
   "execution_count": 11,
   "metadata": {},
   "outputs": [
    {
     "ename": "TypeError",
     "evalue": "scatter() missing 1 required positional argument: 'y'",
     "output_type": "error",
     "traceback": [
      "\u001b[1;31m---------------------------------------------------------------------------\u001b[0m",
      "\u001b[1;31mTypeError\u001b[0m                                 Traceback (most recent call last)",
      "\u001b[1;32m<ipython-input-11-306334da811c>\u001b[0m in \u001b[0;36m<module>\u001b[1;34m\u001b[0m\n\u001b[1;32m----> 1\u001b[1;33m \u001b[0mplt\u001b[0m\u001b[1;33m.\u001b[0m\u001b[0mscatter\u001b[0m\u001b[1;33m(\u001b[0m\u001b[0mnp\u001b[0m\u001b[1;33m.\u001b[0m\u001b[0marray\u001b[0m\u001b[1;33m(\u001b[0m\u001b[0mpixel_list_ex\u001b[0m\u001b[1;33m)\u001b[0m\u001b[1;33m)\u001b[0m\u001b[1;33m\u001b[0m\u001b[1;33m\u001b[0m\u001b[0m\n\u001b[0m",
      "\u001b[1;31mTypeError\u001b[0m: scatter() missing 1 required positional argument: 'y'"
     ]
    }
   ],
   "source": [
    "plt.scatter(np.array(pixel_list_ex))"
   ]
  },
  {
   "cell_type": "code",
   "execution_count": 68,
   "metadata": {},
   "outputs": [
    {
     "data": {
      "text/plain": [
       "19"
      ]
     },
     "execution_count": 68,
     "metadata": {},
     "output_type": "execute_result"
    }
   ],
   "source": [
    "len(pixel_list_ex)"
   ]
  },
  {
   "cell_type": "code",
   "execution_count": 69,
   "metadata": {},
   "outputs": [],
   "source": [
    "index=18"
   ]
  },
  {
   "cell_type": "code",
   "execution_count": 70,
   "metadata": {},
   "outputs": [],
   "source": [
    "sub_list=pixel_list_ex[max(0,index-size):index+size]"
   ]
  },
  {
   "cell_type": "code",
   "execution_count": 34,
   "metadata": {},
   "outputs": [
    {
     "data": {
      "text/plain": [
       "[(37, 2625), (36, 2625), (35, 2626), (34, 2626), (33, 2627)]"
      ]
     },
     "execution_count": 34,
     "metadata": {},
     "output_type": "execute_result"
    }
   ],
   "source": [
    "sub_list"
   ]
  },
  {
   "cell_type": "code",
   "execution_count": 35,
   "metadata": {},
   "outputs": [],
   "source": [
    "orientation=np.array(sub_list[0])-np.array(sub_list[-1])"
   ]
  },
  {
   "cell_type": "code",
   "execution_count": 36,
   "metadata": {},
   "outputs": [],
   "source": [
    "perpendicular = [1,-orientation[1]/orientation[0]] if orientation[0]!=0 else [0,1]"
   ]
  },
  {
   "cell_type": "code",
   "execution_count": 37,
   "metadata": {},
   "outputs": [],
   "source": [
    "perpendicular_norm=np.array(perpendicular)/np.sqrt(perpendicular[0]**2+perpendicular[1]**2)"
   ]
  },
  {
   "cell_type": "code",
   "execution_count": 38,
   "metadata": {},
   "outputs": [
    {
     "data": {
      "text/plain": [
       "array([0.89442719, 0.4472136 ])"
      ]
     },
     "execution_count": 38,
     "metadata": {},
     "output_type": "execute_result"
    }
   ],
   "source": [
    "perpendicular_norm"
   ]
  },
  {
   "cell_type": "code",
   "execution_count": 58,
   "metadata": {},
   "outputs": [],
   "source": [
    "width_factor=30\n",
    "point1=np.around(np.array(pixel_list_ex[index])+width_factor*perpendicular_norm)\n",
    "point2=np.around(np.array(pixel_list_ex[index])-width_factor*perpendicular_norm)\n"
   ]
  },
  {
   "cell_type": "code",
   "execution_count": 63,
   "metadata": {},
   "outputs": [],
   "source": [
    "point1=point1.astype(int)\n",
    "point2=point2.astype(int)"
   ]
  },
  {
   "cell_type": "code",
   "execution_count": 35,
   "metadata": {},
   "outputs": [
    {
     "name": "stderr",
     "output_type": "stream",
     "text": [
      "<ipython-input-35-121aff8c34d6>:5: FutureWarning: Default out of bounds interpolation mode 'constant' is deprecated. In version 0.19 it will be set to 'reflect'. To avoid this warning, set `mode=` explicitly.\n",
      "  p = profile_line(imtab1, point1, point2)\n"
     ]
    }
   ],
   "source": [
    "# point1 = (640,1240)\n",
    "# point2 = (632,1326)\n",
    "point1 = (1700,1315)\n",
    "point2 = (1681,1350)\n",
    "p = profile_line(imtab1, point1, point2)"
   ]
  },
  {
   "cell_type": "code",
   "execution_count": 36,
   "metadata": {},
   "outputs": [
    {
     "data": {
      "text/plain": [
       "array([168.27086898, 173.5342875 , 175.8154637 , 176.6710102 ,\n",
       "       175.06077527, 177.67013188, 180.31828932, 175.51232312,\n",
       "       173.6585763 , 176.38195614, 174.20520451, 176.80656912,\n",
       "       174.98610196, 175.05931109, 175.64986478, 173.98557711,\n",
       "       179.28103789, 181.80919336, 179.63244174, 182.08738808,\n",
       "       180.06193533, 177.606989  , 178.81249943, 173.26324697,\n",
       "       170.22262756, 169.76385031, 171.88203462, 170.85649665,\n",
       "       167.99902209, 166.90774842, 164.13833834, 166.82529663,\n",
       "       169.55105576, 166.50518968, 167.55281241, 172.91702877,\n",
       "       175.37118201, 172.70362414, 176.43422867, 172.70525089,\n",
       "       174.44044381])"
      ]
     },
     "execution_count": 36,
     "metadata": {},
     "output_type": "execute_result"
    }
   ],
   "source": [
    "p"
   ]
  },
  {
   "cell_type": "code",
   "execution_count": 66,
   "metadata": {},
   "outputs": [
    {
     "data": {
      "text/plain": [
       "<matplotlib.lines.Line2D at 0x2c6e0a4bd00>"
      ]
     },
     "execution_count": 66,
     "metadata": {},
     "output_type": "execute_result"
    },
    {
     "data": {
      "image/png": "[encoded data removed]",
      "text/plain": [
       "<Figure size 432x288 with 1 Axes>"
      ]
     },
     "metadata": {
      "needs_background": "light"
     },
     "output_type": "display_data"
    }
   ],
   "source": [
    "plt.plot(p)\n",
    "begin,end = find_width(p)\n",
    "plt.axvline(x=begin,color =\"red\")\n",
    "plt.axvline(x=end,color=\"red\")"
   ]
  },
  {
   "cell_type": "code",
   "execution_count": 16,
   "metadata": {},
   "outputs": [],
   "source": [
    "xs=[]\n",
    "ys=[]\n",
    "for pixel in sub_list:\n",
    "    xs.append(pixel[0])\n",
    "    ys.append(pixel[1])"
   ]
  },
  {
   "cell_type": "code",
   "execution_count": 19,
   "metadata": {},
   "outputs": [
    {
     "data": {
      "text/plain": [
       "<matplotlib.collections.PathCollection at 0x2c6dfec4730>"
      ]
     },
     "execution_count": 19,
     "metadata": {},
     "output_type": "execute_result"
    },
    {
     "data": {
      "image/png": "[encoded data removed]",
      "text/plain": [
       "<Figure size 432x288 with 1 Axes>"
      ]
     },
     "metadata": {
      "needs_background": "light"
     },
     "output_type": "display_data"
    }
   ],
   "source": [
    "plt.scatter(xs,ys)"
   ]
  },
  {
   "cell_type": "code",
   "execution_count": 57,
   "metadata": {},
   "outputs": [],
   "source": [
    "\n"
   ]
  }
 ],
 "metadata": {
  "kernelspec": {
   "display_name": "working_sci",
   "language": "python",
   "name": "working_sci"
  },
  "language_info": {
   "codemirror_mode": {
    "name": "ipython",
    "version": 3
   },
   "file_extension": ".py",
   "mimetype": "text/x-python",
   "name": "python",
   "nbconvert_exporter": "python",
   "pygments_lexer": "ipython3",
   "version": "3.8.5"
  }
 },
 "nbformat": 4,
 "nbformat_minor": 4
}

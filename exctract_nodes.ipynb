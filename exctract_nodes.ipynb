{
 "cells": [
  {
   "cell_type": "code",
   "execution_count": 2,
   "metadata": {},
   "outputs": [],
   "source": [
    "%matplotlib widget\n",
    "import numpy as np\n",
    "import matplotlib.pyplot as plt\n",
    "import matplotlib.cm as cm\n",
    "from PIL import Image\n",
    "from scipy import sparse\n",
    "import cv2\n",
    "from pymatreader import read_mat\n",
    "# from extract_graph import dic_to_sparse\n",
    "from util import get_path, shift_skeleton\n",
    "from plotutil import show_im,overlap, show_im_rgb, plot_nodes, plot_nodes_from_list,plot_t_tp1\n",
    "from extract_graph import generate_graph_tab_from_skeleton,generate_nx_graph_from_skeleton,generate_skeleton,clean\n",
    "import networkx as nx\n",
    "from node_id import second_identification, whole_movement_identification,first_identification,relabel_nodes, clean_nodes, orient\n",
    "from extract_graph import dic_to_sparse, from_sparse_to_graph, generate_nx_graph, prune_graph\n",
    "from sparse_util import dilate, zhangSuen\n",
    "from realign import realign\n",
    "from util import get_path\n",
    "import pandas as pd"
   ]
  },
  {
   "cell_type": "code",
   "execution_count": 3,
   "metadata": {},
   "outputs": [],
   "source": [
    "date0='0709_1157'\n",
    "date1='0709_1557'\n",
    "date2='0709_1934'\n",
    "plate=13"
   ]
  },
  {
   "cell_type": "code",
   "execution_count": 4,
   "metadata": {},
   "outputs": [],
   "source": [
    "dates=[date0,date1,date2]\n",
    "mat_skels=[read_mat(get_path(date,plate,True))['skel'] for date in dates]"
   ]
  },
  {
   "cell_type": "code",
   "execution_count": 5,
   "metadata": {},
   "outputs": [],
   "source": [
    "dic_skels=[dic_to_sparse(mat_skel) for mat_skel in mat_skels]"
   ]
  },
  {
   "cell_type": "code",
   "execution_count": 6,
   "metadata": {},
   "outputs": [],
   "source": [
    "skeleton_docs=[sparse.dok_matrix(dic_skel) for dic_skel in dic_skels]"
   ]
  },
  {
   "cell_type": "code",
   "execution_count": 7,
   "metadata": {},
   "outputs": [
    {
     "name": "stdout",
     "output_type": "stream",
     "text": [
      "100000\n",
      "200000\n",
      "300000\n",
      "400000\n",
      "500000\n",
      "600000\n",
      "700000\n",
      "800000\n",
      "900000\n",
      "1000000\n",
      "1100000\n",
      "1200000\n",
      "1300000\n",
      "1988847 1981966\n",
      "253504 875\n",
      "245 14\n",
      "3 4\n",
      "1 1\n",
      "0 0\n",
      "100000\n",
      "200000\n",
      "300000\n",
      "400000\n",
      "500000\n",
      "600000\n",
      "700000\n",
      "800000\n",
      "900000\n",
      "1000000\n",
      "1100000\n",
      "1200000\n",
      "1300000\n",
      "1995905 1988986\n",
      "252356 1016\n",
      "362 63\n",
      "36 32\n",
      "0 0\n"
     ]
    }
   ],
   "source": [
    "skeleton_docs_aligned = [skeleton_docs[0],realign(skeleton_docs[1],skeleton_docs[0]),realign(skeleton_docs[2],skeleton_docs[0])]"
   ]
  },
  {
   "cell_type": "code",
   "execution_count": 8,
   "metadata": {},
   "outputs": [],
   "source": [
    "graph_tabs=[from_sparse_to_graph(skeleton) for skeleton in skeleton_docs_aligned]"
   ]
  },
  {
   "cell_type": "code",
   "execution_count": 9,
   "metadata": {},
   "outputs": [],
   "source": [
    "nx_graph_poss=[generate_nx_graph(graph_tab) for graph_tab in graph_tabs]\n",
    "nx_graphs_aligned=[nx_graph_pos[0] for nx_graph_pos in nx_graph_poss]\n",
    "poss_aligned=[nx_graph_pos[1] for nx_graph_pos in nx_graph_poss]\n",
    "nx_graph_pruned=[prune_graph(nx_graph) for nx_graph in nx_graphs_aligned]"
   ]
  },
  {
   "cell_type": "code",
   "execution_count": 11,
   "metadata": {},
   "outputs": [],
   "source": [
    "sparse.save_npz(f'Data/skeleton_{date1}_{plate}_full',sparse.csc_matrix(skeleton_docs_aligned[1]))"
   ]
  },
  {
   "cell_type": "code",
   "execution_count": 12,
   "metadata": {},
   "outputs": [],
   "source": [
    "sparse.save_npz(f'Data/skeleton_{date2}_{plate}_full',sparse.csc_matrix(skeleton_docs_aligned[2]))"
   ]
  },
  {
   "cell_type": "code",
   "execution_count": 13,
   "metadata": {},
   "outputs": [],
   "source": [
    "sparse.save_npz(f'Data/skeleton_{date0}_{plate}_full',sparse.csc_matrix(skeleton_docs_aligned[0]))"
   ]
  },
  {
   "cell_type": "code",
   "execution_count": null,
   "metadata": {},
   "outputs": [],
   "source": [
    "skeleton_doc_1_thinned=sparse.dok_matrix(sparse.load_npz(f'Data/skeleton_{date1}_{plate}_full.npz'))\n",
    "graph_tab_1_reconnected=from_sparse_to_graph(skeleton_doc_1_thinned)\n",
    "nx_graph_1,pos_1=generate_nx_graph(graph_tab_1_reconnected)\n",
    "anx_graph_t0m1=prune_graph(nx_graph_1)"
   ]
  },
  {
   "cell_type": "code",
   "execution_count": 14,
   "metadata": {},
   "outputs": [],
   "source": [
    "anx_graph_t0m2,anx_graph_t0m1,anx_graph_t0=nx_graph_pruned[0], nx_graph_pruned[1], nx_graph_pruned[2]\n",
    "apos_t0m2,apos_t0m1,apos_t0 = poss_aligned[0], poss_aligned[1], poss_aligned[2]\n",
    "skeleton_doc_0_thinned,skeleton_doc_1_thinned, skeleton_doc_2_thinned= skeleton_docs_aligned[0], skeleton_docs_aligned[1], skeleton_docs_aligned[2]"
   ]
  },
  {
   "cell_type": "code",
   "execution_count": null,
   "metadata": {},
   "outputs": [],
   "source": [
    "apos_t0,anx_graph_t0,anx_graph_t0m1,corresp_tips=second_identification(anx_graph_t0m1,anx_graph_t0,apos_t0m1,apos_t0,50)\n",
    "apos_t0m1,anx_graph_t0m1,anx_graph_t0m2,corresp_tips=second_identification(anx_graph_t0m2,anx_graph_t0m1,apos_t0m2,apos_t0m1,50)"
   ]
  },
  {
   "cell_type": "code",
   "execution_count": null,
   "metadata": {},
   "outputs": [],
   "source": [
    "begin=15000\n",
    "end=20000 "
   ]
  },
  {
   "cell_type": "code",
   "execution_count": null,
   "metadata": {},
   "outputs": [],
   "source": [
    "skeleton_t0m2=generate_skeleton(anx_graph_t0m2,skeleton_doc_0_thinned.shape)"
   ]
  },
  {
   "cell_type": "code",
   "execution_count": null,
   "metadata": {},
   "outputs": [],
   "source": [
    "skeleton_t0m1=generate_skeleton(anx_graph_t0m1,skeleton_doc_1_thinned.shape)"
   ]
  },
  {
   "cell_type": "code",
   "execution_count": null,
   "metadata": {},
   "outputs": [],
   "source": [
    "skeleton_t0=generate_skeleton(anx_graph_t0,skeleton_doc_2_thinned.shape)"
   ]
  },
  {
   "cell_type": "code",
   "execution_count": null,
   "metadata": {},
   "outputs": [],
   "source": [
    "tab_labeled_t0m2 = from_nx_to_tab(anx_graph_t0m2,apos_t0m2)\n",
    "tab_labeled_t0m1 = from_nx_to_tab(anx_graph_t0m1,apos_t0m1)\n",
    "tab_labeled_t0 = from_nx_to_tab(anx_graph_t0,apos_t0)"
   ]
  },
  {
   "cell_type": "code",
   "execution_count": null,
   "metadata": {},
   "outputs": [],
   "source": [
    "graph_t0m2=from_sparse_to_graph(skeleton_t0m2)\n",
    "graph_t0m1=from_sparse_to_graph(skeleton_t0m1)\n",
    "graph_t0=from_sparse_to_graph(skeleton_t0)"
   ]
  },
  {
   "cell_type": "code",
   "execution_count": null,
   "metadata": {},
   "outputs": [],
   "source": [
    "tab_labeled_t0m2.to_csv(get_path(date0,plate,True,extension='_full_labeled.csv'))\n",
    "tab_labeled_t0m1.to_csv(get_path(date1,plate,True,extension='_full_labeled.csv'))\n",
    "tab_labeled_t0.to_csv(get_path(date2,plate,True,extension='_full_labeled.csv'))"
   ]
  },
  {
   "cell_type": "code",
   "execution_count": null,
   "metadata": {},
   "outputs": [],
   "source": [
    "graph_t0m2.to_csv(get_path(date0,plate,True,extension='_full.csv'))\n",
    "graph_t0m1.to_csv(get_path(date1,plate,True,extension='_full.csv'))\n",
    "graph_t0.to_csv(get_path(date2,plate,True,extension='_full.csv'))"
   ]
  },
  {
   "cell_type": "code",
   "execution_count": null,
   "metadata": {},
   "outputs": [],
   "source": [
    "tab_labeled_t0m2.to_csv(f'Data/graph_{date0}_{plate}_full_labeled.csv')\n",
    "tab_labeled_t0m1.to_csv(f'Data/graph_{date1}_{plate}_full_labeled.csv')\n",
    "tab_labeled_t0.to_csv(f'Data/graph_{date2}_{plate}_full_labeled.csv')"
   ]
  },
  {
   "cell_type": "code",
   "execution_count": null,
   "metadata": {},
   "outputs": [],
   "source": [
    "graph_t0m2.to_csv(f'Data/graph_{date0}_{plate}_full.csv')\n",
    "graph_t0m1.to_csv(f'Data/graph_{date1}_{plate}_full.csv')\n",
    "graph_t0.to_csv(f'Data/graph_{date2}_{plate}_full.csv')"
   ]
  },
  {
   "cell_type": "code",
   "execution_count": 3,
   "metadata": {},
   "outputs": [],
   "source": [
    "tab_labeled_t0m2=pd.read_csv(f'Data/graph_{date0}_{plate}_full_labeled.csv')\n",
    "tab_labeled_t0m1=pd.read_csv(f'Data/graph_{date1}_{plate}_full_labeled.csv')\n",
    "tab_labeled_t0=pd.read_csv(f'Data/graph_{date2}_{plate}_full_labeled.csv')"
   ]
  },
  {
   "cell_type": "code",
   "execution_count": 5,
   "metadata": {},
   "outputs": [],
   "source": [
    "graph_t0m2=pd.read_csv(f'Data/graph_{date0}_{plate}_full.csv')\n",
    "graph_t0m1=pd.read_csv(f'Data/graph_{date1}_{plate}_full.csv')\n",
    "graph_t0=pd.read_csv(f'Data/graph_{date2}_{plate}_full.csv')"
   ]
  },
  {
   "cell_type": "code",
   "execution_count": null,
   "metadata": {},
   "outputs": [],
   "source": [
    "tab_labeled_t0m2.loc[tab_labeled_t0m2['origin_label']==300]"
   ]
  },
  {
   "cell_type": "code",
   "execution_count": null,
   "metadata": {},
   "outputs": [],
   "source": [
    "tab_labeled_t0m1.loc[tab_labeled_t0m1['origin_label']==300]"
   ]
  },
  {
   "cell_type": "code",
   "execution_count": 180,
   "metadata": {},
   "outputs": [],
   "source": [
    "sub_skeleton_t0m1=skeleton_t0m1[begin:end,begin:end]\n"
   ]
  },
  {
   "cell_type": "code",
   "execution_count": 181,
   "metadata": {},
   "outputs": [],
   "source": [
    "sub_skeleton_t0=skeleton_t0[begin:end,begin:end]"
   ]
  },
  {
   "cell_type": "code",
   "execution_count": 182,
   "metadata": {},
   "outputs": [],
   "source": [
    "list_node_t0m1=[node for node in anx_graph_t0m1 if (begin<pos_1[node][0]<end and begin<pos_1[node][1]<end)]"
   ]
  },
  {
   "cell_type": "code",
   "execution_count": 183,
   "metadata": {},
   "outputs": [],
   "source": [
    "list_node_t0=[node for node in anx_graph_t0 if (begin<apos_t0[node][0]<end and begin<apos_t0[node][1]<end)]"
   ]
  },
  {
   "cell_type": "code",
   "execution_count": 185,
   "metadata": {},
   "outputs": [
    {
     "data": {
      "application/vnd.jupyter.widget-view+json": {
       "model_id": "45c58b12e4eb4a12b651d440f82ea6a0",
       "version_major": 2,
       "version_minor": 0
      },
      "text/plain": [
       "Canvas(toolbar=Toolbar(toolitems=[('Home', 'Reset original view', 'home', 'home'), ('Back', 'Back to previous …"
      ]
     },
     "metadata": {},
     "output_type": "display_data"
    }
   ],
   "source": [
    "plot_t_tp1(list_node_t0m1,list_node_t0,pos_1,apos_t0,sub_skeleton_t0m1.todense(),sub_skeleton_t0.todense(),shift=(begin,begin))"
   ]
  },
  {
   "cell_type": "code",
   "execution_count": 147,
   "metadata": {},
   "outputs": [
    {
     "data": {
      "application/vnd.jupyter.widget-view+json": {
       "model_id": "228e36c344b34becae974f3d52aa3e67",
       "version_major": 2,
       "version_minor": 0
      },
      "text/plain": [
       "Canvas(toolbar=Toolbar(toolitems=[('Home', 'Reset original view', 'home', 'home'), ('Back', 'Back to previous …"
      ]
     },
     "metadata": {},
     "output_type": "display_data"
    }
   ],
   "source": [
    "plot_t_tp1([],[],pos_1,apos_t0,skeleton1.todense(),skeleton2.todense())"
   ]
  },
  {
   "cell_type": "code",
   "execution_count": 189,
   "metadata": {},
   "outputs": [],
   "source": []
  },
  {
   "cell_type": "code",
   "execution_count": 75,
   "metadata": {},
   "outputs": [
    {
     "data": {
      "text/plain": [
       "5.0"
      ]
     },
     "execution_count": 75,
     "metadata": {},
     "output_type": "execute_result"
    }
   ],
   "source": [
    "np.ceil(4.3)"
   ]
  },
  {
   "cell_type": "code",
   "execution_count": 41,
   "metadata": {},
   "outputs": [],
   "source": [
    "from scipy.optimize import minimize"
   ]
  },
  {
   "cell_type": "code",
   "execution_count": 107,
   "metadata": {},
   "outputs": [
    {
     "data": {
      "text/plain": [
       "(5000, 5000)"
      ]
     },
     "execution_count": 107,
     "metadata": {},
     "output_type": "execute_result"
    }
   ],
   "source": [
    "sub_skeleton_t0m1.shape"
   ]
  },
  {
   "cell_type": "code",
   "execution_count": 172,
   "metadata": {},
   "outputs": [],
   "source": [
    "shift_sub_skeleton_t0m1=shift_skeleton(sub_skeleton_t0m1,shift)"
   ]
  },
  {
   "cell_type": "code",
   "execution_count": 104,
   "metadata": {},
   "outputs": [
    {
     "data": {
      "text/plain": [
       "5.0"
      ]
     },
     "execution_count": 104,
     "metadata": {},
     "output_type": "execute_result"
    }
   ],
   "source": [
    "np.round(5.4)"
   ]
  },
  {
   "cell_type": "code",
   "execution_count": null,
   "metadata": {},
   "outputs": [],
   "source": [
    "def shift_skeleton(skeleton,shift):\n",
    "    shifted_skeleton=sparse.dok_matrix(skeleton.shape, dtype=bool)\n",
    "    for pixel in skeleton.keys():\n",
    "#             print(pixel[0]+shift[0],pixel[1]+shift[1])\n",
    "            if (skeleton.shape[0]>np.ceil(pixel[0]+shift[0])>0 and skeleton.shape[1]>np.ceil(pixel[1]+shift[1])>0):\n",
    "                shifted_pixel = (np.round(pixel[0]+shift[0]),np.round(pixel[1]+shift[1]))\n",
    "                shifted_skeleton[shifted_pixel]=1\n",
    "    return(shifted_skeleton)"
   ]
  },
  {
   "cell_type": "code",
   "execution_count": 40,
   "metadata": {},
   "outputs": [
    {
     "data": {
      "text/plain": [
       "<20687x45556 sparse matrix of type '<class 'numpy.bool_'>'\n",
       "\twith 2683488 stored elements in Compressed Sparse Row format>"
      ]
     },
     "execution_count": 40,
     "metadata": {},
     "output_type": "execute_result"
    }
   ],
   "source": [
    "skeleton_t0-skeleton_t0m1"
   ]
  },
  {
   "cell_type": "code",
   "execution_count": 29,
   "metadata": {},
   "outputs": [],
   "source": []
  }
 ],
 "metadata": {
  "kernelspec": {
   "display_name": "cleanMsc",
   "language": "python",
   "name": "cleanmsc"
  },
  "language_info": {
   "codemirror_mode": {
    "name": "ipython",
    "version": 3
   },
   "file_extension": ".py",
   "mimetype": "text/x-python",
   "name": "python",
   "nbconvert_exporter": "python",
   "pygments_lexer": "ipython3",
   "version": "3.7.8"
  }
 },
 "nbformat": 4,
 "nbformat_minor": 4
}

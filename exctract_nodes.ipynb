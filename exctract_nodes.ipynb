{
 "cells": [
  {
   "cell_type": "code",
   "execution_count": 1,
   "metadata": {},
   "outputs": [],
   "source": [
    "%matplotlib widget\n",
    "import numpy as np\n",
    "import matplotlib.pyplot as plt\n",
    "import matplotlib.cm as cm\n",
    "from PIL import Image\n",
    "from scipy import sparse\n",
    "import cv2\n",
    "from pymatreader import read_mat\n",
    "# from extract_graph import dic_to_sparse\n",
    "from util import get_path\n",
    "from plotutil import show_im,overlap, show_im_rgb, plot_nodes, plot_nodes_from_list,plot_t_tp1\n",
    "from extract_graph import generate_graph_tab_from_skeleton,generate_nx_graph_from_skeleton,generate_skeleton,clean\n",
    "import networkx as nx\n",
    "from node_id import second_identification, whole_movement_identification,first_identification,relabel_nodes, clean_nodes, orient\n",
    "from extract_graph import dic_to_sparse, from_sparse_to_graph, generate_nx_graph, prune_graph\n",
    "from sparse_util import dilate, zhangSuen"
   ]
  },
  {
   "cell_type": "code",
   "execution_count": 165,
   "metadata": {},
   "outputs": [],
   "source": [
    "date0='0709_1157'\n",
    "date1='0709_1557'\n",
    "date2='0709_1934'\n",
    "date3='0709_2357'\n",
    "plate=13"
   ]
  },
  {
   "cell_type": "code",
   "execution_count": 7,
   "metadata": {},
   "outputs": [],
   "source": [
    "mat_skel=read_mat(get_path(date1,plate,True))['skel']\n",
    "dic_skel=dic_to_sparse(mat_skel)\n",
    "skeleton_doc1=sparse.dok_matrix(dic_skel)\n",
    "skeleton_doc_1_dilated=dilate(skeleton_doc1)\n",
    "skeleton_doc_1_thinned=zhangSuen(skeleton_doc_1_dilated)\n",
    "graph_tab_1_reconnected=from_sparse_to_graph(skeleton_doc_1_thinned)\n",
    "nx_graph_1,pos_1=generate_nx_graph(graph_tab_1_reconnected)"
   ]
  },
  {
   "cell_type": "code",
   "execution_count": 12,
   "metadata": {},
   "outputs": [],
   "source": []
  },
  {
   "cell_type": "code",
   "execution_count": 13,
   "metadata": {},
   "outputs": [],
   "source": [
    "skeleton_doc_1_dilated=dilate(skeleton_doc1)"
   ]
  },
  {
   "cell_type": "code",
   "execution_count": 14,
   "metadata": {},
   "outputs": [
    {
     "name": "stdout",
     "output_type": "stream",
     "text": [
      "1989028 1982302\n",
      "253320 872\n",
      "245 14\n",
      "3 4\n",
      "1 1\n",
      "0 0\n"
     ]
    }
   ],
   "source": [
    "skeleton_doc_1_thinned=zhangSuen(skeleton_doc_1_dilated)"
   ]
  },
  {
   "cell_type": "code",
   "execution_count": 114,
   "metadata": {},
   "outputs": [],
   "source": [
    "sparse.save_npz(f'Data/skeleton_{date1}_{plate}_full',sparse.csc_matrix(skeleton_doc_1_thinned))"
   ]
  },
  {
   "cell_type": "code",
   "execution_count": 115,
   "metadata": {},
   "outputs": [],
   "source": [
    "skeleton_doc_1_thinned=sparse.dok_matrix(sparse.load_npz(f'Data/skeleton_{date1}_{plate}_full.npz'))"
   ]
  },
  {
   "cell_type": "code",
   "execution_count": 7,
   "metadata": {},
   "outputs": [],
   "source": [
    "graph_tab_1_reconnected=from_sparse_to_graph(skeleton_doc_1_thinned)\n",
    "nx_graph_1,pos_1=generate_nx_graph(graph_tab_1_reconnected)"
   ]
  },
  {
   "cell_type": "code",
   "execution_count": 12,
   "metadata": {},
   "outputs": [],
   "source": [
    "anx_graph_t0m1=prune_graph(nx_graph_1)"
   ]
  },
  {
   "cell_type": "code",
   "execution_count": null,
   "metadata": {},
   "outputs": [],
   "source": [
    "mat_skel=read_mat(get_path(date2,plate,True))['skel']\n",
    "dic_skel=dic_to_sparse(mat_skel)\n",
    "skeleton_doc2=sparse.dok_matrix(dic_skel)\n",
    "skeleton_doc_2_dilated=dilate(skeleton_doc2)\n",
    "skeleton_doc_2_thinned=zhangSuen(skeleton_doc_2_dilated)\n",
    "graph_tab_2_reconnected=from_sparse_to_graph(skeleton_doc_2_thinned)\n",
    "nx_graph_2,pos_2=generate_nx_graph(graph_tab_2_reconnected)\n",
    "anx_graph_t0=prune_graph(nx_graph_2)"
   ]
  },
  {
   "cell_type": "code",
   "execution_count": 116,
   "metadata": {},
   "outputs": [],
   "source": [
    "sparse.save_npz(f'Data/skeleton_{date2}_{plate}_full',sparse.csc_matrix(skeleton_doc_2_thinned))"
   ]
  },
  {
   "cell_type": "code",
   "execution_count": 117,
   "metadata": {},
   "outputs": [],
   "source": [
    "skeleton_doc_2_thinned=sparse.dok_matrix(sparse.load_npz(f'Data/skeleton_{date2}_{plate}_full.npz'))"
   ]
  },
  {
   "cell_type": "code",
   "execution_count": 166,
   "metadata": {},
   "outputs": [
    {
     "name": "stdout",
     "output_type": "stream",
     "text": [
      "1983304 1976721\n",
      "251952 1280\n",
      "544 73\n",
      "44 28\n",
      "0 0\n"
     ]
    }
   ],
   "source": [
    "mat_skel=read_mat(get_path(date0,plate,True))['skel']\n",
    "dic_skel=dic_to_sparse(mat_skel)\n",
    "skeleton_doc0=sparse.dok_matrix(dic_skel)\n",
    "skeleton_doc_0_dilated=dilate(skeleton_doc0)\n",
    "skeleton_doc_0_thinned=zhangSuen(skeleton_doc_0_dilated)\n",
    "graph_tab_0_reconnected=from_sparse_to_graph(skeleton_doc_0_thinned)\n",
    "nx_graph_0,pos_0=generate_nx_graph(graph_tab_0_reconnected)\n",
    "anx_graph_t0m2=prune_graph(nx_graph_0)"
   ]
  },
  {
   "cell_type": "code",
   "execution_count": 167,
   "metadata": {},
   "outputs": [],
   "source": [
    "sparse.save_npz(f'Data/skeleton_{date0}_{plate}_full',sparse.csc_matrix(skeleton_doc_0_thinned))"
   ]
  },
  {
   "cell_type": "code",
   "execution_count": 168,
   "metadata": {},
   "outputs": [],
   "source": [
    "skeleton_doc_0_thinned=sparse.dok_matrix(sparse.load_npz(f'Data/skeleton_{date0}_{plate}_full.npz'))"
   ]
  },
  {
   "cell_type": "code",
   "execution_count": 143,
   "metadata": {},
   "outputs": [],
   "source": [
    "def find_dense_network(skeleton,crop=500):\n",
    "    densities=[]\n",
    "    for pixel in skeleton.keys():\n",
    "        density=len(skeleton[max(pixel[0]-crop,0):pixel[0]+crop,max(pixel[1]-crop,0):pixel[1]+crop].keys())\n",
    "        if density>=1000:\n",
    "            densities.append(density)\n",
    "            return(skeleton[max(pixel[0]-crop,0):pixel[0]+crop,max(pixel[1]-crop,0):pixel[1]+crop],pixel)"
   ]
  },
  {
   "cell_type": "code",
   "execution_count": 186,
   "metadata": {},
   "outputs": [],
   "source": [
    "crop=500\n",
    "skeleton1_dense,pixel=find_dense_network(skeleton_doc_1_thinned)\n",
    "skeleton2_dense=skeleton_doc_2_thinned[max(pixel[0]-crop,0):pixel[0]+crop,max(pixel[1]-crop,0):pixel[1]+crop]\n",
    "skeleton0_dense=skeleton_doc_0_thinned[max(pixel[0]-crop,0):pixel[0]+crop,max(pixel[1]-crop,0):pixel[1]+crop]"
   ]
  },
  {
   "cell_type": "code",
   "execution_count": 192,
   "metadata": {},
   "outputs": [
    {
     "name": "stdout",
     "output_type": "stream",
     "text": [
      "Optimization terminated successfully.\n",
      "         Current function value: 919.135615\n",
      "         Iterations: 80\n",
      "         Function evaluations: 155\n"
     ]
    }
   ],
   "source": [
    "shift12=shift(skeleton1_dense,skeleton2_dense)['x']"
   ]
  },
  {
   "cell_type": "code",
   "execution_count": 190,
   "metadata": {},
   "outputs": [
    {
     "name": "stdout",
     "output_type": "stream",
     "text": [
      "Optimization terminated successfully.\n",
      "         Current function value: 1180.052510\n",
      "         Iterations: 59\n",
      "         Function evaluations: 113\n"
     ]
    }
   ],
   "source": [
    "shift10=shift(skeleton1_dense,skeleton0_dense)['x']"
   ]
  },
  {
   "cell_type": "code",
   "execution_count": 193,
   "metadata": {},
   "outputs": [],
   "source": [
    "#careful with shifting over time\n",
    "shifted_skeleton_doc_2_thinned=shift_skeleton(skeleton_doc_2_thinned,-shift12)\n",
    "shifted_skeleton_doc_0_thinned=shift_skeleton(skeleton_doc_0_thinned,-shift10)"
   ]
  },
  {
   "cell_type": "code",
   "execution_count": 197,
   "metadata": {},
   "outputs": [],
   "source": [
    "graph_tab_1_reconnected=from_sparse_to_graph(skeleton_doc_1_thinned)\n",
    "nx_graph_1,apos_t0m1=generate_nx_graph(graph_tab_1_reconnected)\n",
    "anx_graph_t0m1=prune_graph(nx_graph_1)\n",
    "graph_tab_2_reconnected=from_sparse_to_graph(shifted_skeleton_doc_2_thinned)\n",
    "nx_graph_2,apos_t0=generate_nx_graph(graph_tab_2_reconnected)\n",
    "anx_graph_t0=prune_graph(nx_graph_2)\n",
    "graph_tab_0_reconnected=from_sparse_to_graph(shifted_skeleton_doc_0_thinned)\n",
    "nx_graph_0,apos_t0m2=generate_nx_graph(graph_tab_0_reconnected)\n",
    "anx_graph_t0m2=prune_graph(nx_graph_0)"
   ]
  },
  {
   "cell_type": "code",
   "execution_count": 209,
   "metadata": {},
   "outputs": [
    {
     "name": "stdout",
     "output_type": "stream",
     "text": [
      "set()\n"
     ]
    },
    {
     "name": "stderr",
     "output_type": "stream",
     "text": [
      "C:\\Users\\coren\\anaconda3\\envs\\cleanMsc\\lib\\site-packages\\ipykernel_launcher.py:45: RuntimeWarning: invalid value encountered in arccos\n"
     ]
    },
    {
     "name": "stdout",
     "output_type": "stream",
     "text": [
      "set()\n"
     ]
    }
   ],
   "source": [
    "apos_t0,anx_graph_t0,anx_graph_t0m1,corresp_tips=second_identification(anx_graph_t0m1,anx_graph_t0,apos_t0m1,apos_t0,50)\n",
    "apos_t0m1,anx_graph_t0m1,anx_graph_t0m2,corresp_tips=second_identification(anx_graph_t0m2,anx_graph_t0m1,apos_t0m2,apos_t0m1,50)"
   ]
  },
  {
   "cell_type": "code",
   "execution_count": 210,
   "metadata": {},
   "outputs": [],
   "source": [
    "begin=15000\n",
    "end=20000 "
   ]
  },
  {
   "cell_type": "code",
   "execution_count": 211,
   "metadata": {},
   "outputs": [],
   "source": [
    "skeleton_t0m2=generate_skeleton(anx_graph_t0m2,skeleton_doc_0_thinned.shape)"
   ]
  },
  {
   "cell_type": "code",
   "execution_count": 212,
   "metadata": {},
   "outputs": [],
   "source": [
    "skeleton_t0m1=generate_skeleton(anx_graph_t0m1,skeleton_doc_1_thinned.shape)"
   ]
  },
  {
   "cell_type": "code",
   "execution_count": 213,
   "metadata": {},
   "outputs": [],
   "source": [
    "skeleton_t0=generate_skeleton(anx_graph_t0,skeleton_doc_2_thinned.shape)"
   ]
  },
  {
   "cell_type": "code",
   "execution_count": 224,
   "metadata": {},
   "outputs": [],
   "source": [
    "import pandas as pd\n",
    "def from_nx_to_tab(nx_graph,pos):\n",
    "    column_names = [\"origin_label\",\"end_label\",\"origin_pos\", \"end_pos\", \"pixel_list\"]\n",
    "    tab = pd.DataFrame(columns=column_names)\n",
    "    for edge in nx_graph.edges:\n",
    "        origin_label=edge[0]\n",
    "        end_label=edge[1]\n",
    "        origin_pos=pos[origin_label]\n",
    "        end_pos = pos[end_label]\n",
    "        pixel_list=orient(nx_graph.get_edge_data(*edge)['pixel_list'],origin_pos)\n",
    "        new_line=pd.DataFrame({\"origin_label\":[origin_label],\"end_label\" : [end_label], \"origin_pos\":[origin_pos], \"end_pos\" : [end_pos], \"pixel_list\" : [pixel_list]})\n",
    "        tab=tab.append(new_line,ignore_index=True)\n",
    "    return(tab)"
   ]
  },
  {
   "cell_type": "code",
   "execution_count": 227,
   "metadata": {},
   "outputs": [],
   "source": [
    "tab_labeled_t0m2 = from_nx_to_tab(anx_graph_t0m2,apos_t0m2)\n",
    "tab_labeled_t0m1 = from_nx_to_tab(anx_graph_t0m1,apos_t0m1)\n",
    "tab_labeled_t0 = from_nx_to_tab(anx_graph_t0,apos_t0)"
   ]
  },
  {
   "cell_type": "code",
   "execution_count": 234,
   "metadata": {},
   "outputs": [
    {
     "data": {
      "text/html": [
       "<div>\n",
       "<style scoped>\n",
       "    .dataframe tbody tr th:only-of-type {\n",
       "        vertical-align: middle;\n",
       "    }\n",
       "\n",
       "    .dataframe tbody tr th {\n",
       "        vertical-align: top;\n",
       "    }\n",
       "\n",
       "    .dataframe thead th {\n",
       "        text-align: right;\n",
       "    }\n",
       "</style>\n",
       "<table border=\"1\" class=\"dataframe\">\n",
       "  <thead>\n",
       "    <tr style=\"text-align: right;\">\n",
       "      <th></th>\n",
       "      <th>origin_label</th>\n",
       "      <th>end_label</th>\n",
       "      <th>origin_pos</th>\n",
       "      <th>end_pos</th>\n",
       "      <th>pixel_list</th>\n",
       "    </tr>\n",
       "  </thead>\n",
       "  <tbody>\n",
       "    <tr>\n",
       "      <th>2293</th>\n",
       "      <td>300</td>\n",
       "      <td>340</td>\n",
       "      <td>[3666, 17790]</td>\n",
       "      <td>[3903, 17995]</td>\n",
       "      <td>[(3666, 17790), (3667, 17790), (3668, 17790), ...</td>\n",
       "    </tr>\n",
       "    <tr>\n",
       "      <th>2294</th>\n",
       "      <td>300</td>\n",
       "      <td>58</td>\n",
       "      <td>[3666, 17790]</td>\n",
       "      <td>[1841, 18654]</td>\n",
       "      <td>[(3666, 17790), (3665, 17791), (3664, 17792), ...</td>\n",
       "    </tr>\n",
       "  </tbody>\n",
       "</table>\n",
       "</div>"
      ],
      "text/plain": [
       "     origin_label end_label     origin_pos        end_pos  \\\n",
       "2293          300       340  [3666, 17790]  [3903, 17995]   \n",
       "2294          300        58  [3666, 17790]  [1841, 18654]   \n",
       "\n",
       "                                             pixel_list  \n",
       "2293  [(3666, 17790), (3667, 17790), (3668, 17790), ...  \n",
       "2294  [(3666, 17790), (3665, 17791), (3664, 17792), ...  "
      ]
     },
     "execution_count": 234,
     "metadata": {},
     "output_type": "execute_result"
    }
   ],
   "source": [
    "tab_labeled_t0m2.loc[tab_labeled_t0m2['origin_label']==300]"
   ]
  },
  {
   "cell_type": "code",
   "execution_count": 233,
   "metadata": {},
   "outputs": [
    {
     "data": {
      "text/html": [
       "<div>\n",
       "<style scoped>\n",
       "    .dataframe tbody tr th:only-of-type {\n",
       "        vertical-align: middle;\n",
       "    }\n",
       "\n",
       "    .dataframe tbody tr th {\n",
       "        vertical-align: top;\n",
       "    }\n",
       "\n",
       "    .dataframe thead th {\n",
       "        text-align: right;\n",
       "    }\n",
       "</style>\n",
       "<table border=\"1\" class=\"dataframe\">\n",
       "  <thead>\n",
       "    <tr style=\"text-align: right;\">\n",
       "      <th></th>\n",
       "      <th>origin_label</th>\n",
       "      <th>end_label</th>\n",
       "      <th>origin_pos</th>\n",
       "      <th>end_pos</th>\n",
       "      <th>pixel_list</th>\n",
       "    </tr>\n",
       "  </thead>\n",
       "  <tbody>\n",
       "    <tr>\n",
       "      <th>2422</th>\n",
       "      <td>300</td>\n",
       "      <td>340</td>\n",
       "      <td>[3654, 17777]</td>\n",
       "      <td>[3893, 17983]</td>\n",
       "      <td>[(3654, 17777), (3655, 17777), (3656, 17777), ...</td>\n",
       "    </tr>\n",
       "    <tr>\n",
       "      <th>2423</th>\n",
       "      <td>300</td>\n",
       "      <td>58</td>\n",
       "      <td>[3654, 17777]</td>\n",
       "      <td>[1832, 18640]</td>\n",
       "      <td>[(3654, 17777), (3654, 17778), (3654, 17779), ...</td>\n",
       "    </tr>\n",
       "  </tbody>\n",
       "</table>\n",
       "</div>"
      ],
      "text/plain": [
       "     origin_label end_label     origin_pos        end_pos  \\\n",
       "2422          300       340  [3654, 17777]  [3893, 17983]   \n",
       "2423          300        58  [3654, 17777]  [1832, 18640]   \n",
       "\n",
       "                                             pixel_list  \n",
       "2422  [(3654, 17777), (3655, 17777), (3656, 17777), ...  \n",
       "2423  [(3654, 17777), (3654, 17778), (3654, 17779), ...  "
      ]
     },
     "execution_count": 233,
     "metadata": {},
     "output_type": "execute_result"
    }
   ],
   "source": [
    "tab_labeled_t0m1.loc[tab_labeled_t0m1['origin_label']==300]"
   ]
  },
  {
   "cell_type": "code",
   "execution_count": 239,
   "metadata": {},
   "outputs": [],
   "source": [
    "def get_path(date,plate,skeleton,row=None,column=None,extension=\".mat\"):\n",
    "    def get_number(number):\n",
    "        if number<10:\n",
    "            return(f'0{number}')\n",
    "        else:\n",
    "            return(str(number))\n",
    "    root_path = r'//sun.amolf.nl/shimizu-data/home-folder/oyartegalvez/Drive_AMFtopology/PRINCE'\n",
    "    date_plate = f'/2020{date}'\n",
    "    plate = f'_Plate{plate}'\n",
    "    if skeleton:\n",
    "        end='/Analysis/Skeleton'+extension\n",
    "    else:\n",
    "        end='/Img'+f'/Img_r{get_number(row)}_c{get_number(column)}.tif'\n",
    "    return (root_path+date_plate+plate+end)"
   ]
  },
  {
   "cell_type": "code",
   "execution_count": 240,
   "metadata": {},
   "outputs": [],
   "source": [
    "path = get_path(date0,13,True,extension='_full_labeled.csv')"
   ]
  },
  {
   "cell_type": "code",
   "execution_count": 242,
   "metadata": {},
   "outputs": [],
   "source": [
    "tab_labeled_t0m2.to_csv(get_path(date0,plate,True,extension='_full_labeled.csv'))\n",
    "tab_labeled_t0m1.to_csv(get_path(date1,plate,True,extension='_full_labeled.csv'))\n",
    "tab_labeled_t0.to_csv(get_path(date2,plate,True,extension='_full_labeled.csv'))"
   ]
  },
  {
   "cell_type": "code",
   "execution_count": 243,
   "metadata": {},
   "outputs": [
    {
     "ename": "NameError",
     "evalue": "name 'plat' is not defined",
     "output_type": "error",
     "traceback": [
      "\u001b[1;31m---------------------------------------------------------------------------\u001b[0m",
      "\u001b[1;31mNameError\u001b[0m                                 Traceback (most recent call last)",
      "\u001b[1;32m<ipython-input-243-bc291eb2ff60>\u001b[0m in \u001b[0;36m<module>\u001b[1;34m\u001b[0m\n\u001b[0;32m      1\u001b[0m \u001b[0mgraph_t0m2\u001b[0m\u001b[1;33m.\u001b[0m\u001b[0mto_csv\u001b[0m\u001b[1;33m(\u001b[0m\u001b[0mget_path\u001b[0m\u001b[1;33m(\u001b[0m\u001b[0mdate0\u001b[0m\u001b[1;33m,\u001b[0m\u001b[0mplate\u001b[0m\u001b[1;33m,\u001b[0m\u001b[1;32mTrue\u001b[0m\u001b[1;33m,\u001b[0m\u001b[0mextension\u001b[0m\u001b[1;33m=\u001b[0m\u001b[1;34m'_full.csv'\u001b[0m\u001b[1;33m)\u001b[0m\u001b[1;33m)\u001b[0m\u001b[1;33m\u001b[0m\u001b[1;33m\u001b[0m\u001b[0m\n\u001b[0;32m      2\u001b[0m \u001b[0mgraph_t0m1\u001b[0m\u001b[1;33m.\u001b[0m\u001b[0mto_csv\u001b[0m\u001b[1;33m(\u001b[0m\u001b[0mget_path\u001b[0m\u001b[1;33m(\u001b[0m\u001b[0mdate0\u001b[0m\u001b[1;33m,\u001b[0m\u001b[0mplate\u001b[0m\u001b[1;33m,\u001b[0m\u001b[1;32mTrue\u001b[0m\u001b[1;33m,\u001b[0m\u001b[0mextension\u001b[0m\u001b[1;33m=\u001b[0m\u001b[1;34m'_full.csv'\u001b[0m\u001b[1;33m)\u001b[0m\u001b[1;33m)\u001b[0m\u001b[1;33m\u001b[0m\u001b[1;33m\u001b[0m\u001b[0m\n\u001b[1;32m----> 3\u001b[1;33m \u001b[0mgraph_t0\u001b[0m\u001b[1;33m.\u001b[0m\u001b[0mto_csv\u001b[0m\u001b[1;33m(\u001b[0m\u001b[0mget_path\u001b[0m\u001b[1;33m(\u001b[0m\u001b[0mdate0\u001b[0m\u001b[1;33m,\u001b[0m\u001b[0mplat\u001b[0m\u001b[1;33m,\u001b[0m\u001b[1;32mTrue\u001b[0m\u001b[1;33m,\u001b[0m\u001b[0mextension\u001b[0m\u001b[1;33m=\u001b[0m\u001b[1;34m'_full.csv'\u001b[0m\u001b[1;33m)\u001b[0m\u001b[1;33m)\u001b[0m\u001b[1;33m\u001b[0m\u001b[1;33m\u001b[0m\u001b[0m\n\u001b[0m",
      "\u001b[1;31mNameError\u001b[0m: name 'plat' is not defined"
     ]
    }
   ],
   "source": [
    "graph_t0m2.to_csv(get_path(date0,plate,True,extension='_full.csv'))\n",
    "graph_t0m1.to_csv(get_path(date0,plate,True,extension='_full.csv'))\n",
    "graph_t0.to_csv(get_path(date0,plat,True,extension='_full.csv'))"
   ]
  },
  {
   "cell_type": "code",
   "execution_count": 235,
   "metadata": {},
   "outputs": [],
   "source": [
    "tab_labeled_t0m2.to_csv(f'Data/graph_{date0}_{plate}_full_labeled.csv')\n",
    "tab_labeled_t0m1.to_csv(f'Data/graph_{date1}_{plate}_full_labeled.csv')\n",
    "tab_labeled_t0.to_csv(f'Data/graph_{date2}_{plate}_full_labeled.csv')"
   ]
  },
  {
   "cell_type": "code",
   "execution_count": 214,
   "metadata": {},
   "outputs": [],
   "source": [
    "graph_t0m2=from_sparse_to_graph(skeleton_t0m2)\n",
    "graph_t0m1=from_sparse_to_graph(skeleton_t0m1)\n",
    "graph_t0=from_sparse_to_graph(skeleton_t0)"
   ]
  },
  {
   "cell_type": "code",
   "execution_count": 215,
   "metadata": {},
   "outputs": [],
   "source": [
    "graph_t0m2.to_csv(f'Data/graph_{date0}_{plate}_full.csv')\n",
    "graph_t0m1.to_csv(f'Data/graph_{date1}_{plate}_full.csv')\n",
    "graph_t0.to_csv(f'Data/graph_{date2}_{plate}_full.csv')"
   ]
  },
  {
   "cell_type": "code",
   "execution_count": 180,
   "metadata": {},
   "outputs": [],
   "source": [
    "sub_skeleton_t0m1=skeleton_t0m1[begin:end,begin:end]\n"
   ]
  },
  {
   "cell_type": "code",
   "execution_count": 181,
   "metadata": {},
   "outputs": [],
   "source": [
    "sub_skeleton_t0=skeleton_t0[begin:end,begin:end]"
   ]
  },
  {
   "cell_type": "code",
   "execution_count": 182,
   "metadata": {},
   "outputs": [],
   "source": [
    "list_node_t0m1=[node for node in anx_graph_t0m1 if (begin<pos_1[node][0]<end and begin<pos_1[node][1]<end)]"
   ]
  },
  {
   "cell_type": "code",
   "execution_count": 183,
   "metadata": {},
   "outputs": [],
   "source": [
    "list_node_t0=[node for node in anx_graph_t0 if (begin<apos_t0[node][0]<end and begin<apos_t0[node][1]<end)]"
   ]
  },
  {
   "cell_type": "code",
   "execution_count": 185,
   "metadata": {},
   "outputs": [
    {
     "data": {
      "application/vnd.jupyter.widget-view+json": {
       "model_id": "45c58b12e4eb4a12b651d440f82ea6a0",
       "version_major": 2,
       "version_minor": 0
      },
      "text/plain": [
       "Canvas(toolbar=Toolbar(toolitems=[('Home', 'Reset original view', 'home', 'home'), ('Back', 'Back to previous …"
      ]
     },
     "metadata": {},
     "output_type": "display_data"
    }
   ],
   "source": [
    "plot_t_tp1(list_node_t0m1,list_node_t0,pos_1,apos_t0,sub_skeleton_t0m1.todense(),sub_skeleton_t0.todense(),shift=(begin,begin))"
   ]
  },
  {
   "cell_type": "code",
   "execution_count": 147,
   "metadata": {},
   "outputs": [
    {
     "data": {
      "application/vnd.jupyter.widget-view+json": {
       "model_id": "228e36c344b34becae974f3d52aa3e67",
       "version_major": 2,
       "version_minor": 0
      },
      "text/plain": [
       "Canvas(toolbar=Toolbar(toolitems=[('Home', 'Reset original view', 'home', 'home'), ('Back', 'Back to previous …"
      ]
     },
     "metadata": {},
     "output_type": "display_data"
    }
   ],
   "source": [
    "plot_t_tp1([],[],pos_1,apos_t0,skeleton1.todense(),skeleton2.todense())"
   ]
  },
  {
   "cell_type": "code",
   "execution_count": 189,
   "metadata": {},
   "outputs": [],
   "source": []
  },
  {
   "cell_type": "code",
   "execution_count": 75,
   "metadata": {},
   "outputs": [
    {
     "data": {
      "text/plain": [
       "5.0"
      ]
     },
     "execution_count": 75,
     "metadata": {},
     "output_type": "execute_result"
    }
   ],
   "source": [
    "np.ceil(4.3)"
   ]
  },
  {
   "cell_type": "code",
   "execution_count": 41,
   "metadata": {},
   "outputs": [],
   "source": [
    "from scipy.optimize import minimize"
   ]
  },
  {
   "cell_type": "code",
   "execution_count": 107,
   "metadata": {},
   "outputs": [
    {
     "data": {
      "text/plain": [
       "(5000, 5000)"
      ]
     },
     "execution_count": 107,
     "metadata": {},
     "output_type": "execute_result"
    }
   ],
   "source": [
    "sub_skeleton_t0m1.shape"
   ]
  },
  {
   "cell_type": "code",
   "execution_count": 172,
   "metadata": {},
   "outputs": [],
   "source": [
    "shift_sub_skeleton_t0m1=shift_skeleton(sub_skeleton_t0m1,shift)"
   ]
  },
  {
   "cell_type": "code",
   "execution_count": 104,
   "metadata": {},
   "outputs": [
    {
     "data": {
      "text/plain": [
       "5.0"
      ]
     },
     "execution_count": 104,
     "metadata": {},
     "output_type": "execute_result"
    }
   ],
   "source": [
    "np.round(5.4)"
   ]
  },
  {
   "cell_type": "code",
   "execution_count": 40,
   "metadata": {},
   "outputs": [
    {
     "data": {
      "text/plain": [
       "<20687x45556 sparse matrix of type '<class 'numpy.bool_'>'\n",
       "\twith 2683488 stored elements in Compressed Sparse Row format>"
      ]
     },
     "execution_count": 40,
     "metadata": {},
     "output_type": "execute_result"
    }
   ],
   "source": [
    "skeleton_t0-skeleton_t0m1"
   ]
  },
  {
   "cell_type": "code",
   "execution_count": 29,
   "metadata": {},
   "outputs": [],
   "source": []
  }
 ],
 "metadata": {
  "kernelspec": {
   "display_name": "cleanMsc",
   "language": "python",
   "name": "cleanmsc"
  },
  "language_info": {
   "codemirror_mode": {
    "name": "ipython",
    "version": 3
   },
   "file_extension": ".py",
   "mimetype": "text/x-python",
   "name": "python",
   "nbconvert_exporter": "python",
   "pygments_lexer": "ipython3",
   "version": "3.7.8"
  }
 },
 "nbformat": 4,
 "nbformat_minor": 4
}

{
 "cells": [
  {
   "cell_type": "code",
   "execution_count": 35,
   "metadata": {},
   "outputs": [],
   "source": [
    "%matplotlib widget\n",
    "import numpy as np\n",
    "import matplotlib.pyplot as plt\n",
    "import matplotlib.cm as cm\n",
    "from PIL import Image\n",
    "from scipy import sparse\n",
    "import cv2\n",
    "from pymatreader import read_mat\n",
    "# from extract_graph import dic_to_sparse\n",
    "from util import get_path, shift_skeleton\n",
    "from plotutil import show_im,overlap, show_im_rgb, plot_nodes, plot_nodes_from_list,plot_t_tp1\n",
    "from extract_graph import generate_graph_tab_from_skeleton,generate_nx_graph_from_skeleton,generate_skeleton,clean\n",
    "import networkx as nx\n",
    "from node_id import second_identification, whole_movement_identification,first_identification,relabel_nodes, clean_nodes, orient\n",
    "from extract_graph import dic_to_sparse, from_sparse_to_graph, generate_nx_graph, prune_graph, from_nx_to_tab, from_nx_to_tab_matlab,sparse_to_doc, connections_pixel_list_to_tab, transform_list\n",
    "from sparse_util import dilate, zhangSuen\n",
    "from realign import realign, reconnect\n",
    "from util import get_path\n",
    "import pandas as pd\n",
    "from datetime import datetime,timedelta\n",
    "import ast"
   ]
  },
  {
   "cell_type": "code",
   "execution_count": 11,
   "metadata": {},
   "outputs": [],
   "source": [
    "plate = 13\n",
    "date_init = datetime(2020,7,1,19,57)"
   ]
  },
  {
   "cell_type": "code",
   "execution_count": 12,
   "metadata": {},
   "outputs": [],
   "source": [
    "dates_datetime = [date_init+timedelta(hours=4)*i for i in range(5)]"
   ]
  },
  {
   "cell_type": "code",
   "execution_count": 13,
   "metadata": {},
   "outputs": [],
   "source": [
    "dates = [f'{0 if date.month<10 else \"\"}{date.month}{0 if date.day<10 else \"\"}{date.day}_{0 if date.hour<10 else \"\"}{date.hour}{0 if date.minute<10 else \"\"}{date.minute}' for date in dates_datetime]"
   ]
  },
  {
   "cell_type": "code",
   "execution_count": null,
   "metadata": {},
   "outputs": [],
   "source": [
    "dates.remove('0705_1957')"
   ]
  },
  {
   "cell_type": "code",
   "execution_count": 15,
   "metadata": {},
   "outputs": [],
   "source": [
    "mat_skels=[read_mat(get_path(date,plate,True))['skel'] for date in dates]"
   ]
  },
  {
   "cell_type": "code",
   "execution_count": 16,
   "metadata": {},
   "outputs": [],
   "source": [
    "dic_skels=[dic_to_sparse(mat_skel) for mat_skel in mat_skels]"
   ]
  },
  {
   "cell_type": "code",
   "execution_count": 17,
   "metadata": {},
   "outputs": [],
   "source": [
    "skeleton_docs=[sparse_to_doc(sparse_skel) for sparse_skel in dic_skels]"
   ]
  },
  {
   "cell_type": "code",
   "execution_count": 37,
   "metadata": {},
   "outputs": [],
   "source": [
    "nx_graph_poss=[]\n",
    "for date in dates:\n",
    "    nx_graph_poss.append(generate_nx_graph(pd.read_csv(get_path(date,plate,True,extension='_raw_aligned_skeleton.csv'),\n",
    "                                    converters={'origin_pos' : transform_list,'end_pos' : transform_list,'pixel_list' : ast.literal_eval}),labeled=True))"
   ]
  },
  {
   "cell_type": "code",
   "execution_count": 38,
   "metadata": {},
   "outputs": [],
   "source": [
    "nx_graph_poss=[]\n",
    "for date in dates:\n",
    "    nx_graph_poss.append(generate_nx_graph(pd.read_csv(get_path(date,plate,True,extension='_raw_aligned_skeleton.csv'),\n",
    "                                    converters={'origin_pos' : transform_list,'end_pos' : transform_list,'pixel_list' : ast.literal_eval}),labeled=True))\n",
    "# nx_graph_poss=[generate_nx_graph(from_sparse_to_graph(realign(skeleton_doc,skeleton_docs[0],2))) for skeleton_doc in skeleton_docs]\n",
    "nx_graphs_aligned=[nx_graph_pos[0] for nx_graph_pos in nx_graph_poss]\n",
    "poss_aligned=[nx_graph_pos[1] for nx_graph_pos in nx_graph_poss]\n",
    "nx_graph_pruned=[prune_graph(nx_graph) for nx_graph in nx_graphs_aligned]"
   ]
  },
  {
   "cell_type": "code",
   "execution_count": 20,
   "metadata": {},
   "outputs": [
    {
     "name": "stdout",
     "output_type": "stream",
     "text": [
      "i= 3\n",
      "number removed first phase 77\n",
      "number removed second phase 447\n",
      "2 0 [8802 6718]\n",
      "2 1 [8808 6734]\n",
      "i= 2\n",
      "number removed first phase 106\n",
      "number removed second phase 349\n",
      "2 0 [8813 6740]\n",
      "2 1 [8802 6718]\n",
      "2 2 [8808 6734]\n",
      "i= 1\n",
      "number removed first phase 152\n",
      "number removed second phase 595\n",
      "3 0 [9658 6714]\n",
      "3 1 [9662 6724]\n",
      "3 2 [9658 6713]\n",
      "3 3 [9659 6719]\n",
      "i= 0\n",
      "number removed first phase 176\n",
      "number removed second phase 580\n",
      "2 0 [9661 6729]\n",
      "2 1 [9658 6714]\n",
      "2 2 [9662 6724]\n",
      "2 3 [9658 6713]\n",
      "2 4 [9659 6719]\n"
     ]
    }
   ],
   "source": [
    "downstream_graphs = []\n",
    "downstream_pos = []\n",
    "begin=len(dates)-1\n",
    "downstream_graphs=[nx_graph_pruned[begin]]\n",
    "downstream_poss=[poss_aligned[begin]]\n",
    "for i in range (begin-1,-1,-1):\n",
    "    print(\"i=\",i)\n",
    "    new_graphs,new_poss = second_identification(nx_graph_pruned[i],downstream_graphs[0],poss_aligned[i],downstream_poss[0],50,downstream_graphs[1:],downstream_poss[1:],tolerance=30)\n",
    "    downstream_graphs=new_graphs\n",
    "    downstream_poss=new_posscurrent_node"
   ]
  },
  {
   "cell_type": "code",
   "execution_count": 28,
   "metadata": {},
   "outputs": [],
   "source": [
    "nx_graph_pruned=downstream_graphs\n",
    "poss_aligned=downstream_poss"
   ]
  },
  {
   "cell_type": "code",
   "execution_count": 11,
   "metadata": {},
   "outputs": [],
   "source": [
    "# for i, date in enumerate(dates):\n",
    "#     sparse.save_npz(f'Data/skeleton_{date}_{plate}_full_clean',sparse.csc_matrix(skeleton_docs_cleaned[i]))"
   ]
  },
  {
   "cell_type": "code",
   "execution_count": 14,
   "metadata": {},
   "outputs": [],
   "source": [
    "for i, date in enumerate(dates):\n",
    "    from_nx_to_tab(nx_graph_pruned[i],poss_aligned[i]).to_csv(get_path(date,plate,True,extension='_full_labeled_matlab.csv'))\n",
    "    from_nx_to_tab_matlab(nx_graph_pruned[i],poss_aligned[i]).to_csv(get_path(date,plate,True,extension='_full_labeled.csv'))\n",
    "#     tabs[i].to_csv(get_path(date,plate,True,extension='_full.csv'))\n",
    "    "
   ]
  },
  {
   "cell_type": "code",
   "execution_count": 30,
   "metadata": {},
   "outputs": [],
   "source": [
    "for i, date in enumerate(dates):\n",
    "    from_nx_to_tab(nx_graph_pruned[i],poss_aligned[i]).to_csv(f'Data/graph_{date}_{plate}_full_labeled.csv')\n",
    "    from_nx_to_tab_matlab(nx_graph_pruned[i],poss_aligned[i]).to_csv(f'Data/graph_{date}_{plate}_full_labeled_matlab.csv')\n",
    "# for i, date in enumerate(dates):\n",
    "#     tabs_labeled[i].to_csv(f'Data/graph_{date}_{plate}_full_labeled.csv')\n",
    "#     tabs[i].to_csv(f'Data/graph_{date}_{plate}_full.csv')"
   ]
  },
  {
   "cell_type": "code",
   "execution_count": 29,
   "metadata": {},
   "outputs": [
    {
     "name": "stdout",
     "output_type": "stream",
     "text": [
      "0.0\n",
      "0.13297872340425532\n",
      "0.26595744680851063\n",
      "0.39893617021276595\n",
      "0.5319148936170213\n",
      "0.6648936170212766\n",
      "0.7978723404255319\n",
      "0.9308510638297872\n",
      "0.0\n",
      "0.12531328320802004\n",
      "0.2506265664160401\n",
      "0.37593984962406013\n",
      "0.5012531328320802\n",
      "0.6265664160401002\n",
      "0.7518796992481203\n",
      "0.8771929824561403\n",
      "0.0\n",
      "0.11547344110854503\n",
      "0.23094688221709006\n",
      "0.3464203233256351\n",
      "0.4618937644341801\n",
      "0.5773672055427251\n",
      "0.6928406466512702\n",
      "0.8083140877598153\n",
      "0.9237875288683602\n",
      "0.0\n",
      "0.10822510822510822\n",
      "0.21645021645021645\n",
      "0.3246753246753247\n",
      "0.4329004329004329\n",
      "0.5411255411255411\n",
      "0.6493506493506493\n",
      "0.7575757575757576\n",
      "0.8658008658008658\n",
      "0.974025974025974\n"
     ]
    }
   ],
   "source": [
    "connections_growth_pattern = [whole_movement_identification(nx_graph_pruned[i],nx_graph_pruned[i+1],poss_aligned[i],poss_aligned[i+1]) for i in range(len(dates)-1)]\n",
    "tip_origins = [c[0] for c in connections_growth_pattern]\n",
    "growth_pattern = [c[1] for c in connections_growth_pattern]\n",
    "for i in range(len(tip_origins)):\n",
    "    connections_pixel_list_to_tab(tip_origins[i],growth_pattern[i]).to_csv(get_path(dates[i],plate,True,extension='_connection.csv'))"
   ]
  },
  {
   "cell_type": "code",
   "execution_count": 31,
   "metadata": {},
   "outputs": [],
   "source": [
    "def connections_pixel_list_to_tab(origin_tips,pattern_growth):\n",
    "    column_names = ['tip_origin',\"nodes_from_tip\", \"growth_pattern\"]\n",
    "    tab = pd.DataFrame(columns=column_names)\n",
    "    pattern_growth={tip : [[(pixel[0],pixel[1]) for pixel in branch] for branch in pattern_growth[tip]] for tip in pattern_growth.keys()}\n",
    "    for tip in origin_tips.keys():\n",
    "        new_line=pd.DataFrame({\"tip_origin\" : [tip],\"nodes_from_tip\" :[origin_tips[tip]], \"growth_pattern\" : [pattern_growth[tip]]})\n",
    "        tab=tab.append(new_line,ignore_index=True)\n",
    "    return(tab)\n",
    "# for i in range(len(tip_origins)):\n",
    "#     connections_pixel_list_to_tab(tip_origins[i],growth_pattern[i]).to_csv(get_path(dates[i],plate,True,extension='_connection.csv'))\n",
    "for i in range(len(tip_origins)):\n",
    "    connections_pixel_list_to_tab(tip_origins[i],growth_pattern[i]).to_csv(f'Data/graph_{dates[i]}_{plate}_connection.csv')"
   ]
  },
  {
   "cell_type": "code",
   "execution_count": null,
   "metadata": {},
   "outputs": [],
   "source": [
    "poss_aligned=[nx_graph_pos[1] for nx_graph_pos in nx_graph_poss]\n",
    "nx_graph_pruned=[prune_graph(nx_graph) for nx_graph in nx_graphs_aligned]"
   ]
  },
  {
   "cell_type": "code",
   "execution_count": null,
   "metadata": {},
   "outputs": [],
   "source": [
    "xbegin=14000\n",
    "xend = 18000\n",
    "ybegin = 8000\n",
    "yend=16000\n",
    "sub_nx_graphs = [sub_graph(nx_graph,poss_aligned[i],xbegin,xend,ybegin,yend) for i, nx_graph in enumerate(nx_graph_pruned)]\n",
    "# sub_skeleton= [generate_skeleton(nx_graph,(xend-xbegin,yend-ybegin),(xbegin,ybegin)) for nx_graph in sub_nx_graphs]"
   ]
  },
  {
   "cell_type": "code",
   "execution_count": 13,
   "metadata": {},
   "outputs": [
    {
     "name": "stdout",
     "output_type": "stream",
     "text": [
      "i= 3\n",
      "number removed first phase 19\n",
      "number removed second phase 36\n",
      "116 0 [16887  8355]\n",
      "116 1 [16893  8366]\n",
      "i= 2\n",
      "number removed first phase 13\n",
      "number removed second phase 27\n",
      "121 0 [17317  9088]\n",
      "121 1 [17312  9091]\n",
      "121 2 [17311  9107]\n",
      "i= 1\n",
      "number removed first phase 12\n",
      "number removed second phase 32\n",
      "119 0 [17318  9090]\n",
      "119 1 [17317  9088]\n",
      "119 2 [17312  9091]\n",
      "119 3 [17311  9107]\n"
     ]
    }
   ],
   "source": [
    "downstream_graphs = []\n",
    "downstream_pos = []\n",
    "begin=len(dates)-2\n",
    "downstream_graphs=[sub_nx_graphs[begin]]\n",
    "downstream_poss=[poss_aligned[begin]]\n",
    "for i in range (begin-1,0,-1):\n",
    "    print(\"i=\",i)\n",
    "    new_graphs,new_poss = second_identification(sub_nx_graphs[i],downstream_graphs[0],poss_aligned[i],downstream_poss[0],50,downstream_graphs[1:],downstream_poss[1:],tolerance=30)\n",
    "    downstream_graphs=new_graphs\n",
    "    downstream_poss=new_poss"
   ]
  },
  {
   "cell_type": "code",
   "execution_count": 65,
   "metadata": {},
   "outputs": [],
   "source": [
    "degree3_nodes = [[node for node in nx_graph.nodes if nx_graph.degree(node)>=3] for nx_graph in downstream_graphs]"
   ]
  },
  {
   "cell_type": "code",
   "execution_count": 69,
   "metadata": {},
   "outputs": [
    {
     "data": {
      "application/vnd.jupyter.widget-view+json": {
       "model_id": "43151d7a8db942a99853e0d30c6f8c34",
       "version_major": 2,
       "version_minor": 0
      },
      "text/plain": [
       "Canvas(toolbar=Toolbar(toolitems=[('Home', 'Reset original view', 'home', 'home'), ('Back', 'Back to previous …"
      ]
     },
     "metadata": {},
     "output_type": "display_data"
    }
   ],
   "source": [
    "t=0\n",
    "tp1=1\n",
    "plot_t_tp1(degree3_nodes[t],degree3_nodes[tp1],downstream_poss[t],downstream_poss[tp1],sub_skeleton[t+1].todense(),sub_skeleton[tp1+1].todense(),shift=(xbegin,ybegin))"
   ]
  },
  {
   "cell_type": "code",
   "execution_count": 17,
   "metadata": {},
   "outputs": [],
   "source": [
    "skeleton_docs_cleaned= [generate_skeleton(nx_graph,skeleton_docs_aligned[i].shape) for i,nx_graph in enumerate(nx_graph_pruned)]"
   ]
  }
 ],
 "metadata": {
  "kernelspec": {
   "display_name": "cleanMsc",
   "language": "python",
   "name": "cleanmsc"
  },
  "language_info": {
   "codemirror_mode": {
    "name": "ipython",
    "version": 3
   },
   "file_extension": ".py",
   "mimetype": "text/x-python",
   "name": "python",
   "nbconvert_exporter": "python",
   "pygments_lexer": "ipython3",
   "version": "3.7.8"
  }
 },
 "nbformat": 4,
 "nbformat_minor": 4
}

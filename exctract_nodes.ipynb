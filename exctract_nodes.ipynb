{
 "cells": [
  {
   "cell_type": "code",
   "execution_count": 1,
   "metadata": {},
   "outputs": [],
   "source": [
    "%matplotlib widget\n",
    "import numpy as np\n",
    "import matplotlib.pyplot as plt\n",
    "import matplotlib.cm as cm\n",
    "from PIL import Image\n",
    "from scipy import sparse\n",
    "import cv2\n",
    "from pymatreader import read_mat\n",
    "# from extract_graph import dic_to_sparse\n",
    "from util import get_path\n",
    "from plotutil import show_im,overlap, show_im_rgb, plot_nodes, plot_nodes_from_list,plot_t_tp1\n",
    "from extract_graph import generate_graph_tab_from_skeleton,generate_nx_graph_from_skeleton,generate_skeleton,clean\n",
    "import networkx as nx\n",
    "from node_id import second_identification, whole_movement_identification,first_identification,relabel_nodes, clean_nodes, orient\n",
    "from extract_graph import dic_to_sparse, from_sparse_to_graph, generate_nx_graph, prune_graph\n",
    "from sparse_util import dilate, zhangSuen"
   ]
  },
  {
   "cell_type": "code",
   "execution_count": 10,
   "metadata": {},
   "outputs": [],
   "source": [
    "date1='0709_1557'\n",
    "date2='0709_1934'\n",
    "date3='0709_2357'\n",
    "plate=13"
   ]
  },
  {
   "cell_type": "code",
   "execution_count": 7,
   "metadata": {},
   "outputs": [],
   "source": [
    "mat_skel=read_mat(get_path(date1,plate,True))['skel']\n",
    "dic_skel=dic_to_sparse(mat_skel)\n",
    "skeleton_doc1=sparse.dok_matrix(dic_skel)\n",
    "skeleton_doc_1_dilated=dilate(skeleton_doc1)\n",
    "skeleton_doc_1_thinned=zhangSuen(skeleton_doc_1_dilated)\n",
    "graph_tab_1_reconnected=from_sparse_to_graph(skeleton_doc_1_thinned)\n",
    "nx_graph_1,pos_1=generate_nx_graph(graph_tab_1_reconnected)"
   ]
  },
  {
   "cell_type": "code",
   "execution_count": 12,
   "metadata": {},
   "outputs": [],
   "source": []
  },
  {
   "cell_type": "code",
   "execution_count": 13,
   "metadata": {},
   "outputs": [],
   "source": [
    "skeleton_doc_1_dilated=dilate(skeleton_doc1)"
   ]
  },
  {
   "cell_type": "code",
   "execution_count": 14,
   "metadata": {},
   "outputs": [
    {
     "name": "stdout",
     "output_type": "stream",
     "text": [
      "1989028 1982302\n",
      "253320 872\n",
      "245 14\n",
      "3 4\n",
      "1 1\n",
      "0 0\n"
     ]
    }
   ],
   "source": [
    "skeleton_doc_1_thinned=zhangSuen(skeleton_doc_1_dilated)"
   ]
  },
  {
   "cell_type": "code",
   "execution_count": 22,
   "metadata": {},
   "outputs": [],
   "source": [
    "sparse.save_npz(f'Data/imbackrem_{date1}_{plate}_full',sparse.csc_matrix(skeleton_doc_1_thinned))"
   ]
  },
  {
   "cell_type": "code",
   "execution_count": 6,
   "metadata": {},
   "outputs": [],
   "source": [
    "skeleton_doc_1_thinned=sparse.dok_matrix(sparse.load_npz(f'Data/imbackrem_{date1}_{plate}_full.npz'))"
   ]
  },
  {
   "cell_type": "code",
   "execution_count": 7,
   "metadata": {},
   "outputs": [],
   "source": [
    "graph_tab_1_reconnected=from_sparse_to_graph(skeleton_doc_1_thinned)\n",
    "nx_graph_1,pos_1=generate_nx_graph(graph_tab_1_reconnected)"
   ]
  },
  {
   "cell_type": "code",
   "execution_count": 8,
   "metadata": {},
   "outputs": [],
   "source": [
    "anx_graph_t0m1=prune_graph(nx_graph_1)"
   ]
  },
  {
   "cell_type": "code",
   "execution_count": null,
   "metadata": {},
   "outputs": [],
   "source": [
    "mat_skel=read_mat(get_path(date2,plate,True))['skel']\n",
    "dic_skel=dic_to_sparse(mat_skel)\n",
    "skeleton_doc2=sparse.dok_matrix(dic_skel)\n",
    "skeleton_doc_2_dilated=dilate(skeleton_doc2)\n",
    "skeleton_doc_2_thinned=zhangSuen(skeleton_doc_2_dilated)\n",
    "graph_tab_2_reconnected=from_sparse_to_graph(skeleton_doc_2_thinned)\n",
    "nx_graph_2,pos_2=generate_nx_graph(graph_tab_2_reconnected)\n",
    "anx_graph_t0=prune_graph(nx_graph_2)"
   ]
  },
  {
   "cell_type": "code",
   "execution_count": null,
   "metadata": {},
   "outputs": [],
   "source": [
    "sparse.save_npz(f'Data/imbackrem_{date2}_{plate}_full',sparse.csc_matrix(skeleton_doc_2_thinned))"
   ]
  },
  {
   "cell_type": "code",
   "execution_count": null,
   "metadata": {},
   "outputs": [],
   "source": [
    "def second_identification(nx_graph_tm1,nx_graph_t,pos_tm1,pos_t,length_id=50):\n",
    "    corresp,to_remove=first_identification(nx_graph_tm1,nx_graph_t,pos_tm1,pos_t)\n",
    "    nx_graph_tm1=clean_nodes(nx_graph_tm1,to_remove,pos_tm1)\n",
    "    pos_t,nx_graph_t=relabel_nodes(corresp,nx_graph_t,pos_t)\n",
    "    corresp_tips={node:node for node in corresp.keys()}\n",
    "    tips = [node for node in nx_graph_tm1.nodes if nx_graph_tm1.degree(node)==1]\n",
    "    for tip in tips:\n",
    "#         print('tip',pos_tm1[tip],tip)\n",
    "        mini=np.inf\n",
    "        for edge in nx_graph_t.edges:\n",
    "            pixel_list=nx_graph_t.get_edge_data(*edge)['pixel_list']\n",
    "            if np.linalg.norm(np.array(pixel_list[0])-np.array(pos_tm1[tip]))<=5000:\n",
    "                distance=np.min(np.linalg.norm(np.array(pixel_list)-np.array(pos_tm1[tip]),axis=1))\n",
    "                if distance<mini:\n",
    "                    mini=distance\n",
    "                    right_edge = edge\n",
    "        origin = np.array(orient(nx_graph_tm1.get_edge_data(*list(nx_graph_tm1.edges(tip))[0])['pixel_list'],pos_tm1[tip]))\n",
    "        origin_vector = origin[0]-origin[-1]\n",
    "        branch=np.array(orient(nx_graph_t.get_edge_data(*right_edge)['pixel_list'],pos_t[right_edge[0]]))\n",
    "        candidate_vector = branch[-1]-branch[0]\n",
    "        dot_product = np.dot(origin_vector,candidate_vector)\n",
    "        if dot_product>=0:\n",
    "            root=right_edge[0]\n",
    "            next_node=right_edge[1]\n",
    "        else:\n",
    "            root=right_edge[1]\n",
    "            next_node=right_edge[0]\n",
    "        last_node=root\n",
    "        current_node=next_node\n",
    "        last_branch=np.array(orient(nx_graph_t.get_edge_data(root,next_node)['pixel_list'],pos_t[current_node]))\n",
    "        while nx_graph_t.degree(current_node)!=1: #Careful : if there is a cycle with low angle this might loop indefinitely but unprobable\n",
    "            mini=np.inf\n",
    "            origin_vector = last_branch[0]-last_branch[min(length_id,len(last_branch)-1)]\n",
    "            unit_vector_origin = origin_vector / np.linalg.norm(origin_vector)\n",
    "            candidate_vectors=[]\n",
    "            for neighbours_t in nx_graph_t.neighbors(current_node):\n",
    "                if neighbours_t!=last_node:\n",
    "                    branch_candidate=np.array(orient(nx_graph_t.get_edge_data(current_node,neighbours_t)['pixel_list'],pos_t[current_node]))\n",
    "                    candidate_vector = branch_candidate[min(length_id,len(branch_candidate)-1)]-branch_candidate[0]\n",
    "                    unit_vector_candidate = candidate_vector / np.linalg.norm(candidate_vector)\n",
    "                    candidate_vectors.append(unit_vector_candidate)\n",
    "                    dot_product = np.dot(unit_vector_origin, unit_vector_candidate)\n",
    "                    angle = np.arccos(dot_product)\n",
    "                    if angle<mini:\n",
    "                        mini=angle\n",
    "                        next_node=neighbours_t\n",
    "#                     print('angle',dot_product,pos_t[last_node],pos_t[current_node],pos_t[neighbours_t],angle/(2*np.pi)*360)\n",
    "#!!!bug may happen here if two nodes are direct neighbours : I would nee to check further why it the case, optimal segmentation should avoid this issue.\n",
    "# This is especially a problem for degree 4 nodes. Maybe fuse nodes that are closer than 3 pixels.\n",
    "            if len(candidate_vectors)<2:\n",
    "                print(nx_graph_t.degree(current_node),pos_t[current_node],[node for node in nx_graph_t.nodes if nx_graph_t.degree(node)==2])\n",
    "            competitor = np.arccos(np.dot(candidate_vectors[0],-candidate_vectors[1]))\n",
    "#             print('competitor',competitor/(2*np.pi)*360)\n",
    "            if mini<competitor:\n",
    "                current_node,last_node=next_node,current_node\n",
    "            else:\n",
    "                corresp_tips[tip]=current_node\n",
    "                break\n",
    "        corresp_tips[tip]=current_node\n",
    "    pos_t,nx_graph_t=relabel_nodes(corresp_tips,nx_graph_t,pos_t)\n",
    "    return(pos_t,nx_graph_t,nx_graph_tm1,corresp_tips)"
   ]
  },
  {
   "cell_type": "code",
   "execution_count": null,
   "metadata": {},
   "outputs": [],
   "source": [
    "apos_t0,anx_graph_t0,anx_graph_t0m1,corresp_tips=second_identification(anx_graph_t0m1,anx_graph_t0,pos_1,pos_2,50)"
   ]
  }
 ],
 "metadata": {
  "kernelspec": {
   "display_name": "cleanMsc",
   "language": "python",
   "name": "cleanmsc"
  },
  "language_info": {
   "codemirror_mode": {
    "name": "ipython",
    "version": 3
   },
   "file_extension": ".py",
   "mimetype": "text/x-python",
   "name": "python",
   "nbconvert_exporter": "python",
   "pygments_lexer": "ipython3",
   "version": "3.7.8"
  }
 },
 "nbformat": 4,
 "nbformat_minor": 4
}

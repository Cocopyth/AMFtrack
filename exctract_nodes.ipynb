{
 "cells": [
  {
   "cell_type": "code",
   "execution_count": 1,
   "metadata": {},
   "outputs": [],
   "source": [
    "%matplotlib widget\n",
    "import numpy as np\n",
    "import matplotlib.pyplot as plt\n",
    "import matplotlib.cm as cm\n",
    "from PIL import Image\n",
    "from scipy import sparse\n",
    "import cv2\n",
    "from pymatreader import read_mat\n",
    "# from extract_graph import dic_to_sparse\n",
    "from util import get_path\n",
    "from plotutil import show_im,overlap, show_im_rgb, plot_nodes, plot_nodes_from_list,plot_t_tp1\n",
    "from extract_graph import generate_graph_tab_from_skeleton,generate_nx_graph_from_skeleton,generate_skeleton,clean\n",
    "import networkx as nx\n",
    "from node_id import second_identification, whole_movement_identification,first_identification,relabel_nodes, clean_nodes, orient\n",
    "from extract_graph import dic_to_sparse, from_sparse_to_graph, generate_nx_graph, prune_graph\n",
    "from sparse_util import dilate, zhangSuen"
   ]
  },
  {
   "cell_type": "code",
   "execution_count": 10,
   "metadata": {},
   "outputs": [],
   "source": [
    "date1='0709_1557'\n",
    "date2='0709_1934'\n",
    "date3='0709_2357'\n",
    "plate=13"
   ]
  },
  {
   "cell_type": "code",
   "execution_count": 7,
   "metadata": {},
   "outputs": [],
   "source": [
    "mat_skel=read_mat(get_path(date1,plate,True))['skel']\n",
    "dic_skel=dic_to_sparse(mat_skel)\n",
    "skeleton_doc1=sparse.dok_matrix(dic_skel)\n",
    "skeleton_doc_1_dilated=dilate(skeleton_doc1)\n",
    "skeleton_doc_1_thinned=zhangSuen(skeleton_doc_1_dilated)\n",
    "graph_tab_1_reconnected=from_sparse_to_graph(skeleton_doc_1_thinned)\n",
    "nx_graph_1,pos_1=generate_nx_graph(graph_tab_1_reconnected)"
   ]
  },
  {
   "cell_type": "code",
   "execution_count": 12,
   "metadata": {},
   "outputs": [],
   "source": []
  },
  {
   "cell_type": "code",
   "execution_count": 13,
   "metadata": {},
   "outputs": [],
   "source": [
    "skeleton_doc_1_dilated=dilate(skeleton_doc1)"
   ]
  },
  {
   "cell_type": "code",
   "execution_count": 14,
   "metadata": {},
   "outputs": [
    {
     "name": "stdout",
     "output_type": "stream",
     "text": [
      "1989028 1982302\n",
      "253320 872\n",
      "245 14\n",
      "3 4\n",
      "1 1\n",
      "0 0\n"
     ]
    }
   ],
   "source": [
    "skeleton_doc_1_thinned=zhangSuen(skeleton_doc_1_dilated)"
   ]
  },
  {
   "cell_type": "code",
   "execution_count": 22,
   "metadata": {},
   "outputs": [],
   "source": [
    "sparse.save_npz(f'Data/imbackrem_{date1}_{plate}_full',sparse.csc_matrix(skeleton_doc_1_thinned))"
   ]
  },
  {
   "cell_type": "code",
   "execution_count": 6,
   "metadata": {},
   "outputs": [],
   "source": [
    "skeleton_doc_1_thinned=sparse.dok_matrix(sparse.load_npz(f'Data/imbackrem_{date1}_{plate}_full.npz'))"
   ]
  },
  {
   "cell_type": "code",
   "execution_count": 7,
   "metadata": {},
   "outputs": [],
   "source": [
    "graph_tab_1_reconnected=from_sparse_to_graph(skeleton_doc_1_thinned)\n",
    "nx_graph_1,pos_1=generate_nx_graph(graph_tab_1_reconnected)"
   ]
  },
  {
   "cell_type": "code",
   "execution_count": 8,
   "metadata": {},
   "outputs": [],
   "source": [
    "anx_graph_t0m1=prune_graph(nx_graph_1)"
   ]
  },
  {
   "cell_type": "code",
   "execution_count": 11,
   "metadata": {},
   "outputs": [
    {
     "name": "stdout",
     "output_type": "stream",
     "text": [
      "1996689 1989996\n",
      "252193 1016\n",
      "360 63\n",
      "36 32\n",
      "0 0\n"
     ]
    }
   ],
   "source": [
    "mat_skel=read_mat(get_path(date2,plate,True))['skel']\n",
    "dic_skel=dic_to_sparse(mat_skel)\n",
    "skeleton_doc2=sparse.dok_matrix(dic_skel)\n",
    "skeleton_doc_2_dilated=dilate(skeleton_doc2)\n",
    "skeleton_doc_2_thinned=zhangSuen(skeleton_doc_2_dilated)\n",
    "graph_tab_2_reconnected=from_sparse_to_graph(skeleton_doc_2_thinned)\n",
    "nx_graph_2,pos_2=generate_nx_graph(graph_tab_2_reconnected)\n",
    "anx_graph_t0=prune_graph(nx_graph_2)"
   ]
  },
  {
   "cell_type": "code",
   "execution_count": 12,
   "metadata": {},
   "outputs": [],
   "source": [
    "sparse.save_npz(f'Data/imbackrem_{date2}_{plate}_full',sparse.csc_matrix(skeleton_doc_2_thinned))"
   ]
  },
  {
   "cell_type": "code",
   "execution_count": 22,
   "metadata": {},
   "outputs": [],
   "source": [
    "skeleton_doc_2_thinned=sparse.dok_matrix(sparse.load_npz(f'Data/imbackrem_{date2}_{plate}_full.npz'))"
   ]
  },
  {
   "cell_type": "code",
   "execution_count": 16,
   "metadata": {},
   "outputs": [],
   "source": [
    "def node_dist(node1,node2,nx_graph_tm1,nx_graph_t,pos_tm1,pos_t,show=False):\n",
    "    #!!! assumed shape == 3000,4096\n",
    "    sparse_cross1=sparse.dok_matrix((100,100), dtype=bool)\n",
    "    sparse_cross2=sparse.dok_matrix((100,100), dtype=bool)\n",
    "    for edge in nx_graph_tm1.edges(node1):\n",
    "        list_pixel=nx_graph_tm1.get_edge_data(*edge)['pixel_list']\n",
    "        if (pos_tm1[node1]!=list_pixel[0]).any():\n",
    "            list_pixel=list(reversed(list_pixel))\n",
    "        for pixel in list_pixel[:20]:\n",
    "            sparse_cross1[np.array(pixel)-np.array(pos_tm1[node1])+np.array((50,50))]=1\n",
    "    for edge in nx_graph_t.edges(node2):\n",
    "        list_pixel=nx_graph_t.get_edge_data(*edge)['pixel_list']\n",
    "        if (pos_t[node2]!=list_pixel[0]).any():\n",
    "            list_pixel=list(reversed(list_pixel))\n",
    "        for pixel in list_pixel[:20]:\n",
    "            sparse_cross2[pixel-np.array(pos_tm1[node1])+np.array((50,50))]=1\n",
    "    kernel = np.ones((3,3),np.uint8)\n",
    "    dilation1 = cv2.dilate(sparse_cross1.todense().astype(np.uint8),kernel,iterations = 3)\n",
    "    dilation2 = cv2.dilate(sparse_cross2.todense().astype(np.uint8),kernel,iterations = 3)\n",
    "    if show:\n",
    "        plt.imshow(dilation1)\n",
    "        plt.imshow(dilation2,alpha=0.5)\n",
    "        plt.show()\n",
    "    return(np.linalg.norm(dilation1-dilation2))"
   ]
  },
  {
   "cell_type": "code",
   "execution_count": 17,
   "metadata": {},
   "outputs": [],
   "source": [
    "def first_identification(nx_graph_tm1,nx_graph_t,pos_tm1,pos_t):\n",
    "    corresp={}\n",
    "    ambiguous=set()\n",
    "    to_remove=set()\n",
    "    degree_3sup_nodes_tm1 = [node for node in nx_graph_tm1.nodes if nx_graph_tm1.degree(node)>=3]\n",
    "    degree_3sup_nodes_t = [node for node in nx_graph_t.nodes if nx_graph_t.degree(node)>=3]\n",
    "    for node1 in degree_3sup_nodes_tm1:\n",
    "        mini=np.inf\n",
    "        for node2 in degree_3sup_nodes_t:\n",
    "            distance=np.linalg.norm(pos_tm1[node1]-pos_t[node2])\n",
    "            if distance<mini:\n",
    "                mini=distance\n",
    "                identifier=node2\n",
    "        if mini<30:\n",
    "            if identifier in corresp.values():\n",
    "                ambiguous.add(node1)\n",
    "#                     print(node1,'node_dientified_two_times')\n",
    "            corresp[node1]=identifier\n",
    "        else:\n",
    "            to_remove.add(node1)\n",
    "#                 print(node1,mini,'node_none_iden')\n",
    "    while len(ambiguous)>0:\n",
    "        node=ambiguous.pop()\n",
    "        identifier=corresp[node]\n",
    "        candidates = [nod for nod in corresp.keys() if corresp[nod]==identifier]\n",
    "        mini=np.inf\n",
    "        for candidate in candidates:\n",
    "            distance=node_dist(candidate,identifier,nx_graph_tm1,nx_graph_t,pos_tm1,pos_t)\n",
    "            if distance < mini:\n",
    "                right_candidate=candidate\n",
    "                mini=distance\n",
    "#         print(mini,right_candidate)\n",
    "        for candidate in candidates:\n",
    "            if candidate!= right_candidate:\n",
    "                corresp.pop(candidate)\n",
    "                to_remove.add(candidate)\n",
    "                ambiguous.discard(candidate)\n",
    "    return(corresp,to_remove)"
   ]
  },
  {
   "cell_type": "code",
   "execution_count": 20,
   "metadata": {},
   "outputs": [],
   "source": [
    "from node_id import reconnect_degree_2\n",
    "def second_identification(nx_graph_tm1,nx_graph_t,pos_tm1,pos_t,length_id=50):\n",
    "    reconnect_degree_2(nx_graph_t,pos_t)\n",
    "    corresp,to_remove=first_identification(nx_graph_tm1,nx_graph_t,pos_tm1,pos_t)\n",
    "    nx_graph_tm1=clean_nodes(nx_graph_tm1,to_remove,pos_tm1)\n",
    "    pos_t,nx_graph_t=relabel_nodes(corresp,nx_graph_t,pos_t)\n",
    "    corresp_tips={node:node for node in corresp.keys()}\n",
    "    tips = [node for node in nx_graph_tm1.nodes if nx_graph_tm1.degree(node)==1]\n",
    "    for tip in tips:\n",
    "#         print('tip',pos_tm1[tip],tip)\n",
    "        mini=np.inf\n",
    "        for edge in nx_graph_t.edges:\n",
    "            pixel_list=nx_graph_t.get_edge_data(*edge)['pixel_list']\n",
    "            if np.linalg.norm(np.array(pixel_list[0])-np.array(pos_tm1[tip]))<=5000:\n",
    "                distance=np.min(np.linalg.norm(np.array(pixel_list)-np.array(pos_tm1[tip]),axis=1))\n",
    "                if distance<mini:\n",
    "                    mini=distance\n",
    "                    right_edge = edge\n",
    "        origin = np.array(orient(nx_graph_tm1.get_edge_data(*list(nx_graph_tm1.edges(tip))[0])['pixel_list'],pos_tm1[tip]))\n",
    "        origin_vector = origin[0]-origin[-1]\n",
    "        branch=np.array(orient(nx_graph_t.get_edge_data(*right_edge)['pixel_list'],pos_t[right_edge[0]]))\n",
    "        candidate_vector = branch[-1]-branch[0]\n",
    "        dot_product = np.dot(origin_vector,candidate_vector)\n",
    "        if dot_product>=0:\n",
    "            root=right_edge[0]\n",
    "            next_node=right_edge[1]\n",
    "        else:\n",
    "            root=right_edge[1]\n",
    "            next_node=right_edge[0]\n",
    "        last_node=root\n",
    "        current_node=next_node\n",
    "        last_branch=np.array(orient(nx_graph_t.get_edge_data(root,next_node)['pixel_list'],pos_t[current_node]))\n",
    "        while nx_graph_t.degree(current_node)!=1: #Careful : if there is a cycle with low angle this might loop indefinitely but unprobable\n",
    "            mini=np.inf\n",
    "            origin_vector = last_branch[0]-last_branch[min(length_id,len(last_branch)-1)]\n",
    "            unit_vector_origin = origin_vector / np.linalg.norm(origin_vector)\n",
    "            candidate_vectors=[]\n",
    "            for neighbours_t in nx_graph_t.neighbors(current_node):\n",
    "                if neighbours_t!=last_node:\n",
    "                    branch_candidate=np.array(orient(nx_graph_t.get_edge_data(current_node,neighbours_t)['pixel_list'],pos_t[current_node]))\n",
    "                    candidate_vector = branch_candidate[min(length_id,len(branch_candidate)-1)]-branch_candidate[0]\n",
    "                    unit_vector_candidate = candidate_vector / np.linalg.norm(candidate_vector)\n",
    "                    candidate_vectors.append(unit_vector_candidate)\n",
    "                    dot_product = np.dot(unit_vector_origin, unit_vector_candidate)\n",
    "                    angle = np.arccos(dot_product)\n",
    "                    if angle<mini:\n",
    "                        mini=angle\n",
    "                        next_node=neighbours_t\n",
    "#                     print('angle',dot_product,pos_t[last_node],pos_t[current_node],pos_t[neighbours_t],angle/(2*np.pi)*360)\n",
    "#!!!bug may happen here if two nodes are direct neighbours : I would nee to check further why it the case, optimal segmentation should avoid this issue.\n",
    "# This is especially a problem for degree 4 nodes. Maybe fuse nodes that are closer than 3 pixels.\n",
    "            if len(candidate_vectors)<2:\n",
    "                print(nx_graph_t.degree(current_node),pos_t[current_node],[node for node in nx_graph_t.nodes if nx_graph_t.degree(node)==2])\n",
    "            competitor = np.arccos(np.dot(candidate_vectors[0],-candidate_vectors[1]))\n",
    "#             print('competitor',competitor/(2*np.pi)*360)\n",
    "            if mini<competitor:\n",
    "                current_node,last_node=next_node,current_node\n",
    "            else:\n",
    "                corresp_tips[tip]=current_node\n",
    "                break\n",
    "        corresp_tips[tip]=current_node\n",
    "    pos_t,nx_graph_t=relabel_nodes(corresp_tips,nx_graph_t,pos_t)\n",
    "    return(pos_t,nx_graph_t,nx_graph_tm1,corresp_tips)"
   ]
  },
  {
   "cell_type": "code",
   "execution_count": 21,
   "metadata": {},
   "outputs": [
    {
     "name": "stdout",
     "output_type": "stream",
     "text": [
      "{2051, 4, 2055, 2057, 4107, 4122, 27, 4123, 29, 2087, 6184, 2090, 2091, 2094, 2095, 6193, 6195, 54, 2103, 6198, 4151, 4154, 4150, 6208, 2113, 6210, 2124, 79, 2131, 2134, 2136, 4202, 2155, 4208, 116, 2167, 123, 126, 128, 6276, 133, 4235, 4238, 4239, 4240, 4241, 4242, 4243, 4244, 6287, 4246, 2198, 2199, 153, 4250, 4251, 4252, 6301, 4254, 2206, 158, 2211, 174, 4270, 4274, 4277, 6326, 6330, 188, 6333, 189, 196, 2249, 6354, 4307, 6357, 215, 220, 222, 6366, 4321, 6371, 6373, 6374, 4327, 6376, 6377, 4332, 4338, 2291, 6386, 247, 2296, 4344, 2300, 4351, 255, 6402, 261, 2315, 2328, 2329, 2330, 297, 4394, 301, 4399, 6448, 4403, 4405, 4409, 314, 4412, 6467, 4420, 4421, 2377, 4426, 6475, 333, 334, 2384, 4433, 6483, 6488, 6491, 2395, 2397, 358, 6506, 6510, 2414, 2416, 2417, 2418, 2419, 2420, 2421, 2422, 2423, 2424, 2425, 2426, 2427, 2428, 381, 2430, 6527, 2431, 2432, 2433, 387, 2435, 2436, 2437, 2439, 2440, 2441, 2442, 2438, 4493, 2446, 399, 6543, 403, 413, 4511, 417, 6564, 6575, 2482, 4531, 6579, 2489, 6593, 450, 449, 4551, 2505, 2506, 2508, 2509, 2510, 2514, 2517, 2518, 473, 4571, 6624, 2531, 2536, 2540, 2541, 6640, 4593, 2547, 4595, 6645, 505, 6652, 508, 4608, 517, 522, 2578, 4627, 536, 6684, 6688, 6692, 6697, 2605, 6704, 561, 4659, 2620, 575, 6720, 4672, 2626, 6723, 583, 6728, 4681, 6729, 6730, 6732, 2634, 2635, 6735, 2633, 6737, 593, 594, 589, 590, 598, 599, 595, 600, 6746, 603, 596, 601, 6749, 4703, 604, 602, 610, 612, 4710, 614, 4712, 620, 624, 4720, 2677, 2680, 4733, 6782, 639, 643, 644, 6789, 6790, 2697, 2703, 6800, 657, 2707, 2715, 669, 2719, 4771, 6820, 6821, 6827, 6828, 2736, 2737, 2739, 6839, 4792, 2745, 2746, 2747, 6846, 707, 4805, 4810, 2764, 2770, 4820, 4836, 2790, 4844, 4846, 4853, 4854, 2809, 4857, 2810, 2812, 2839, 2840, 4892, 2844, 2845, 2846, 2848, 799, 2853, 2858, 4913, 4916, 2869, 2873, 2881, 2888, 4945, 2903, 2907, 2910, 4965, 4966, 2918, 2919, 2920, 883, 4982, 2936, 4985, 2939, 585, 897, 2944, 586, 5002, 5004, 5006, 5007, 2960, 5008, 2958, 2962, 5013, 2967, 5016, 921, 2970, 5021, 591, 2973, 5026, 592, 5028, 5027, 2985, 937, 2989, 5046, 3003, 597, 3004, 3007, 3014, 5063, 3021, 2636, 5077, 981, 3033, 3047, 999, 5097, 3052, 2642, 3054, 3055, 3057, 3065, 3066, 3067, 3068, 1021, 3070, 5118, 3073, 5123, 1028, 3077, 1036, 3090, 5142, 3095, 3098, 3109, 1063, 3119, 3121, 3122, 5174, 1081, 5182, 3135, 1087, 1086, 1090, 1088, 5193, 3146, 3147, 5197, 3155, 3156, 3158, 3159, 3163, 3165, 3166, 1125, 1127, 3179, 3180, 3182, 3183, 1134, 5231, 6739, 1137, 1150, 3205, 3206, 3211, 5264, 5265, 1170, 3219, 5268, 5273, 5276, 5277, 5279, 3233, 5293, 5296, 3252, 5301, 3253, 1221, 1223, 1224, 1227, 3277, 1230, 5327, 5328, 1231, 1234, 5330, 1235, 3285, 5336, 1242, 5340, 1244, 1246, 3296, 3299, 3303, 3310, 3313, 5364, 3317, 1269, 1276, 1277, 5378, 3344, 5393, 1301, 5399, 3353, 3355, 1308, 1313, 1316, 3365, 3373, 5428, 3380, 5432, 3390, 1343, 5440, 3394, 5442, 3397, 3409, 3410, 3412, 5464, 5465, 3426, 5474, 3428, 1388, 3437, 5493, 5516, 1424, 1426, 1437, 1451, 3501, 5550, 5556, 5559, 3512, 5560, 5566, 3520, 5571, 1482, 3532, 3533, 3536, 3538, 5598, 5600, 5602, 3556, 3573, 1526, 1534, 1536, 3584, 3586, 1540, 5638, 5641, 1546, 6006, 1555, 3606, 5655, 3617, 5671, 1577, 5685, 5690, 5710, 5711, 5715, 1624, 1635, 3684, 3683, 3689, 3690, 5739, 3693, 5741, 3695, 1645, 1649, 3699, 5753, 3707, 5761, 3714, 1665, 1673, 3721, 3727, 5782, 5783, 5785, 1693, 1694, 5792, 1702, 5801, 5802, 1705, 1706, 1707, 3753, 5803, 5811, 5814, 5819, 3776, 1728, 5828, 1734, 1745, 1749, 5853, 1759, 3811, 5865, 3835, 1793, 1795, 1804, 1805, 1810, 5911, 3867, 5917, 3870, 1829, 1832, 5929, 5932, 5934, 3889, 3890, 3891, 3893, 3894, 3895, 5943, 3897, 5948, 368, 1857, 1862, 3916, 3917, 5972, 1880, 3929, 3931, 1886, 5985, 5987, 5991, 1897, 3946, 1902, 5998, 1905, 1906, 6003, 1909, 1910, 6007, 1912, 1913, 1914, 3960, 1916, 1917, 1918, 1919, 3967, 3972, 1925, 6020, 6022, 1928, 1930, 1931, 1932, 3983, 1940, 3989, 6037, 1943, 1944, 6038, 6042, 1947, 6040, 1949, 1951, 1952, 1953, 1954, 1955, 1956, 6053, 6051, 1960, 1962, 1968, 1969, 4462, 1971, 4016, 1970, 6066, 4024, 1980, 2429, 1983, 6081, 6083, 6084, 1993, 1999, 6097, 2002, 6100, 2434, 2012, 6111, 6113, 6121, 6124, 2029, 2030, 6131, 2036, 6135}\n"
     ]
    },
    {
     "name": "stderr",
     "output_type": "stream",
     "text": [
      "C:\\Users\\coren\\anaconda3\\envs\\cleanMsc\\lib\\site-packages\\ipykernel_launcher.py:45: RuntimeWarning: invalid value encountered in arccos\n"
     ]
    }
   ],
   "source": [
    "apos_t0,anx_graph_t0,anx_graph_t0m1,corresp_tips=second_identification(anx_graph_t0m1,anx_graph_t0,pos_1,pos_2,50)"
   ]
  },
  {
   "cell_type": "code",
   "execution_count": null,
   "metadata": {},
   "outputs": [],
   "source": []
  }
 ],
 "metadata": {
  "kernelspec": {
   "display_name": "cleanMsc",
   "language": "python",
   "name": "cleanmsc"
  },
  "language_info": {
   "codemirror_mode": {
    "name": "ipython",
    "version": 3
   },
   "file_extension": ".py",
   "mimetype": "text/x-python",
   "name": "python",
   "nbconvert_exporter": "python",
   "pygments_lexer": "ipython3",
   "version": "3.7.8"
  }
 },
 "nbformat": 4,
 "nbformat_minor": 4
}

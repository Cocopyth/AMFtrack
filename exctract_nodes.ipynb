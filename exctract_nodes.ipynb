{
 "cells": [
  {
   "cell_type": "code",
   "execution_count": 1,
   "metadata": {},
   "outputs": [],
   "source": [
    "%matplotlib widget\n",
    "import numpy as np\n",
    "import matplotlib.pyplot as plt\n",
    "import matplotlib.cm as cm\n",
    "from PIL import Image\n",
    "from scipy import sparse\n",
    "import cv2\n",
    "from pymatreader import read_mat\n",
    "# from extract_graph import dic_to_sparse\n",
    "from util import get_path, shift_skeleton\n",
    "from plotutil import show_im,overlap, show_im_rgb, plot_nodes, plot_nodes_from_list,plot_t_tp1\n",
    "from extract_graph import generate_graph_tab_from_skeleton,generate_nx_graph_from_skeleton,generate_skeleton,clean\n",
    "import networkx as nx\n",
    "from node_id import second_identification, whole_movement_identification,first_identification,relabel_nodes, clean_nodes, orient\n",
    "from extract_graph import dic_to_sparse, from_sparse_to_graph, generate_nx_graph, prune_graph, from_nx_to_tab, from_nx_to_tab_matlab, sparse_to_doc, connections_pixel_list_to_tab\n",
    "from sparse_util import dilate, zhangSuen\n",
    "from realign import realign, reconnect\n",
    "from util import get_path\n",
    "import pandas as pd\n",
    "from datetime import datetime,timedelta"
   ]
  },
  {
   "cell_type": "code",
   "execution_count": 2,
   "metadata": {},
   "outputs": [],
   "source": [
    "plate = 13\n",
    "date_init = datetime(2020,7,1,19,57)"
   ]
  },
  {
   "cell_type": "code",
   "execution_count": 3,
   "metadata": {},
   "outputs": [],
   "source": [
    "dates_datetime = [date_init+timedelta(hours=4)*i for i in range(3)]"
   ]
  },
  {
   "cell_type": "code",
   "execution_count": 4,
   "metadata": {},
   "outputs": [],
   "source": [
    "dates = [f'{0 if date.month<10 else \"\"}{date.month}{0 if date.day<10 else \"\"}{date.day}_{0 if date.hour<10 else \"\"}{date.hour}{0 if date.minute<10 else \"\"}{date.minute}' for date in dates_datetime]"
   ]
  },
  {
   "cell_type": "code",
   "execution_count": 5,
   "metadata": {},
   "outputs": [],
   "source": [
    "mat_skels=[read_mat(get_path(date,plate,True))['skel'] for date in dates]"
   ]
  },
  {
   "cell_type": "code",
   "execution_count": 6,
   "metadata": {},
   "outputs": [],
   "source": [
    "dic_skels=[dic_to_sparse(mat_skel) for mat_skel in mat_skels]"
   ]
  },
  {
   "cell_type": "code",
   "execution_count": 7,
   "metadata": {},
   "outputs": [],
   "source": [
    "skeleton_docs=[sparse_to_doc(sparse_skel) for sparse_skel in dic_skels]"
   ]
  },
  {
   "cell_type": "code",
   "execution_count": 8,
   "metadata": {},
   "outputs": [
    {
     "name": "stdout",
     "output_type": "stream",
     "text": [
      "number_common_nodes_found : 2143 [[ 1.00000000e+00 -1.38777878e-17]\n",
      " [ 1.38777878e-17  1.00000000e+00]] [0.0000000e+00 1.8189894e-12]\n",
      "100000\n",
      "200000\n",
      "300000\n",
      "400000\n",
      "500000\n",
      "600000\n",
      "866490 867437\n",
      "105736 740\n",
      "379 109\n",
      "86 70\n",
      "54 39\n",
      "30 0\n",
      "0 0\n",
      "number_common_nodes_found : 477 [[ 9.99999998e-01  5.78173765e-05]\n",
      " [-5.78173765e-05  9.99999998e-01]] [14.83091045 -2.20804855]\n",
      "100000\n",
      "200000\n",
      "300000\n",
      "400000\n",
      "500000\n",
      "600000\n",
      "number_common_nodes_found : 562 [[ 9.99999999e-01 -4.53206814e-05]\n",
      " [ 4.53206814e-05  9.99999999e-01]] [ 1.22085997 -1.27077265]\n",
      "100000\n",
      "200000\n",
      "300000\n",
      "400000\n",
      "500000\n",
      "600000\n",
      "899840 901142\n",
      "110361 838\n",
      "515 225\n",
      "198 169\n",
      "43 40\n",
      "32 0\n",
      "0 0\n",
      "number_common_nodes_found : 330 [[ 9.99999752e-01 -7.04457346e-04]\n",
      " [ 7.04457346e-04  9.99999752e-01]] [ 27.99958833 -11.29952894]\n",
      "100000\n",
      "200000\n",
      "300000\n",
      "400000\n",
      "500000\n",
      "600000\n",
      "number_common_nodes_found : 456 [[ 9.99999919e-01 -4.02646068e-04]\n",
      " [ 4.02646068e-04  9.99999919e-01]] [10.82977501 -7.95353488]\n",
      "100000\n",
      "200000\n",
      "300000\n",
      "400000\n",
      "500000\n",
      "600000\n",
      "number_common_nodes_found : 474 [[ 9.99999998e-01 -6.06944300e-05]\n",
      " [ 6.06944300e-05  9.99999998e-01]] [ 1.06691542 -1.3552959 ]\n",
      "100000\n",
      "200000\n",
      "300000\n",
      "400000\n",
      "500000\n",
      "600000\n",
      "920919 921595\n",
      "112405 543\n",
      "300 11\n",
      "0 0\n"
     ]
    }
   ],
   "source": [
    "nx_graph_poss=[generate_nx_graph(from_sparse_to_graph(realign(skeleton_doc,skeleton_docs[0],2))) for skeleton_doc in skeleton_docs]\n",
    "nx_graphs_aligned=[nx_graph_pos[0] for nx_graph_pos in nx_graph_poss]\n",
    "poss_aligned=[nx_graph_pos[1] for nx_graph_pos in nx_graph_poss]\n",
    "nx_graph_pruned=[prune_graph(nx_graph) for nx_graph in nx_graphs_aligned]"
   ]
  },
  {
   "cell_type": "code",
   "execution_count": 9,
   "metadata": {},
   "outputs": [
    {
     "name": "stdout",
     "output_type": "stream",
     "text": [
      "i= 1\n",
      "number removed first phase 99\n",
      "number removed second phase 470\n",
      "3 0 [9658 6714]\n",
      "3 1 [9662 6724]\n",
      "i= 0\n",
      "number removed first phase 130\n",
      "number removed second phase 498\n",
      "2 0 [9661 6729]\n",
      "2 1 [9658 6714]\n",
      "2 2 [9662 6724]\n"
     ]
    }
   ],
   "source": [
    "downstream_graphs = []\n",
    "downstream_pos = []\n",
    "begin=len(dates)-1\n",
    "downstream_graphs=[nx_graph_pruned[begin]]\n",
    "downstream_poss=[poss_aligned[begin]]\n",
    "for i in range (begin-1,-1,-1):\n",
    "    print(\"i=\",i)\n",
    "    new_graphs,new_poss = second_identification(nx_graph_pruned[i],downstream_graphs[0],poss_aligned[i],downstream_poss[0],50,downstream_graphs[1:],downstream_poss[1:],tolerance=30)\n",
    "    downstream_graphs=new_graphs\n",
    "    downstream_poss=new_poss"
   ]
  },
  {
   "cell_type": "code",
   "execution_count": 10,
   "metadata": {},
   "outputs": [],
   "source": [
    "nx_graph_pruned=downstream_graphs\n",
    "poss_aligned=downstream_poss"
   ]
  },
  {
   "cell_type": "code",
   "execution_count": 11,
   "metadata": {},
   "outputs": [],
   "source": [
    "# for i, date in enumerate(dates):\n",
    "#     sparse.save_npz(f'Data/skeleton_{date}_{plate}_full_clean',sparse.csc_matrix(skeleton_docs_cleaned[i]))"
   ]
  },
  {
   "cell_type": "code",
   "execution_count": 14,
   "metadata": {},
   "outputs": [],
   "source": [
    "for i, date in enumerate(dates):\n",
    "    from_nx_to_tab(nx_graph_pruned[i],poss_aligned[i]).to_csv(get_path(date,plate,True,extension='_full_labeled_matlab.csv'))\n",
    "    from_nx_to_tab_matlab(nx_graph_pruned[i],poss_aligned[i]).to_csv(get_path(date,plate,True,extension='_full_labeled.csv'))\n",
    "#     tabs[i].to_csv(get_path(date,plate,True,extension='_full.csv'))\n",
    "    "
   ]
  },
  {
   "cell_type": "code",
   "execution_count": 23,
   "metadata": {},
   "outputs": [],
   "source": [
    "# for i, date in enumerate(dates):\n",
    "#     tabs_labeled[i].to_csv(f'Data/graph_{date}_{plate}_full_labeled.csv')\n",
    "#     tabs[i].to_csv(f'Data/graph_{date}_{plate}_full.csv')"
   ]
  },
  {
   "cell_type": "code",
   "execution_count": null,
   "metadata": {},
   "outputs": [
    {
     "name": "stdout",
     "output_type": "stream",
     "text": [
      "0.0\n",
      "0.125\n"
     ]
    }
   ],
   "source": [
    "connections_growth_pattern = [whole_movement_identification(nx_graph_pruned[i],nx_graph_pruned[i+1],poss_aligned[i],poss_aligned[i+1]) for i in range(len(dates)-1)]\n",
    "tip_origins = [c[0] for c in connections_growth_pattern]\n",
    "growth_pattern = [c[1] for c in connections_growth_pattern]\n",
    "for i in range(len(tabs_connection)):\n",
    "    connections_pixel_list_to_tab(tip_origins[i],growth_pattern[i]).to_csv(get_path(dates[i],plate,True,extension='_connection.csv'))"
   ]
  },
  {
   "cell_type": "code",
   "execution_count": null,
   "metadata": {},
   "outputs": [],
   "source": [
    "poss_aligned=[nx_graph_pos[1] for nx_graph_pos in nx_graph_poss]\n",
    "nx_graph_pruned=[prune_graph(nx_graph) for nx_graph in nx_graphs_aligned]"
   ]
  },
  {
   "cell_type": "code",
   "execution_count": null,
   "metadata": {},
   "outputs": [],
   "source": [
    "xbegin=14000\n",
    "xend = 18000\n",
    "ybegin = 8000\n",
    "yend=16000\n",
    "sub_nx_graphs = [sub_graph(nx_graph,poss_aligned[i],xbegin,xend,ybegin,yend) for i, nx_graph in enumerate(nx_graph_pruned)]\n",
    "# sub_skeleton= [generate_skeleton(nx_graph,(xend-xbegin,yend-ybegin),(xbegin,ybegin)) for nx_graph in sub_nx_graphs]"
   ]
  },
  {
   "cell_type": "code",
   "execution_count": 13,
   "metadata": {},
   "outputs": [
    {
     "name": "stdout",
     "output_type": "stream",
     "text": [
      "i= 3\n",
      "number removed first phase 19\n",
      "number removed second phase 36\n",
      "116 0 [16887  8355]\n",
      "116 1 [16893  8366]\n",
      "i= 2\n",
      "number removed first phase 13\n",
      "number removed second phase 27\n",
      "121 0 [17317  9088]\n",
      "121 1 [17312  9091]\n",
      "121 2 [17311  9107]\n",
      "i= 1\n",
      "number removed first phase 12\n",
      "number removed second phase 32\n",
      "119 0 [17318  9090]\n",
      "119 1 [17317  9088]\n",
      "119 2 [17312  9091]\n",
      "119 3 [17311  9107]\n"
     ]
    }
   ],
   "source": [
    "downstream_graphs = []\n",
    "downstream_pos = []\n",
    "begin=len(dates)-2\n",
    "downstream_graphs=[sub_nx_graphs[begin]]\n",
    "downstream_poss=[poss_aligned[begin]]\n",
    "for i in range (begin-1,0,-1):\n",
    "    print(\"i=\",i)\n",
    "    new_graphs,new_poss = second_identification(sub_nx_graphs[i],downstream_graphs[0],poss_aligned[i],downstream_poss[0],50,downstream_graphs[1:],downstream_poss[1:],tolerance=30)\n",
    "    downstream_graphs=new_graphs\n",
    "    downstream_poss=new_poss"
   ]
  },
  {
   "cell_type": "code",
   "execution_count": 65,
   "metadata": {},
   "outputs": [],
   "source": [
    "degree3_nodes = [[node for node in nx_graph.nodes if nx_graph.degree(node)>=3] for nx_graph in downstream_graphs]"
   ]
  },
  {
   "cell_type": "code",
   "execution_count": 69,
   "metadata": {},
   "outputs": [
    {
     "data": {
      "application/vnd.jupyter.widget-view+json": {
       "model_id": "43151d7a8db942a99853e0d30c6f8c34",
       "version_major": 2,
       "version_minor": 0
      },
      "text/plain": [
       "Canvas(toolbar=Toolbar(toolitems=[('Home', 'Reset original view', 'home', 'home'), ('Back', 'Back to previous …"
      ]
     },
     "metadata": {},
     "output_type": "display_data"
    }
   ],
   "source": [
    "t=0\n",
    "tp1=1\n",
    "plot_t_tp1(degree3_nodes[t],degree3_nodes[tp1],downstream_poss[t],downstream_poss[tp1],sub_skeleton[t+1].todense(),sub_skeleton[tp1+1].todense(),shift=(xbegin,ybegin))"
   ]
  },
  {
   "cell_type": "code",
   "execution_count": 17,
   "metadata": {},
   "outputs": [],
   "source": [
    "skeleton_docs_cleaned= [generate_skeleton(nx_graph,skeleton_docs_aligned[i].shape) for i,nx_graph in enumerate(nx_graph_pruned)]"
   ]
  }
 ],
 "metadata": {
  "kernelspec": {
   "display_name": "cleanMsc",
   "language": "python",
   "name": "cleanmsc"
  },
  "language_info": {
   "codemirror_mode": {
    "name": "ipython",
    "version": 3
   },
   "file_extension": ".py",
   "mimetype": "text/x-python",
   "name": "python",
   "nbconvert_exporter": "python",
   "pygments_lexer": "ipython3",
   "version": "3.7.8"
  }
 },
 "nbformat": 4,
 "nbformat_minor": 4
}

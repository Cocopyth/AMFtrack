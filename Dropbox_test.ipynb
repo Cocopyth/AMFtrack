{
 "cells": [
  {
   "cell_type": "code",
   "execution_count": 1,
   "metadata": {},
   "outputs": [
    {
     "name": "stdout",
     "output_type": "stream",
     "text": [
      "Collecting dropbox\n",
      "  Downloading dropbox-11.1.0-py3-none-any.whl (552 kB)\n",
      "\u001b[K     |████████████████████████████████| 552 kB 10.1 MB/s eta 0:00:01\n",
      "\u001b[?25hRequirement already satisfied: six>=1.12.0 in /nfs/home2/cbisot/anaconda3/envs/test/lib/python3.7/site-packages (from dropbox) (1.15.0)\n",
      "Requirement already satisfied: requests>=2.16.2 in /nfs/home2/cbisot/anaconda3/envs/test/lib/python3.7/site-packages (from dropbox) (2.25.1)\n",
      "Requirement already satisfied: idna<3,>=2.5 in /nfs/home2/cbisot/anaconda3/envs/test/lib/python3.7/site-packages (from requests>=2.16.2->dropbox) (2.10)\n",
      "Requirement already satisfied: chardet<5,>=3.0.2 in /nfs/home2/cbisot/anaconda3/envs/test/lib/python3.7/site-packages (from requests>=2.16.2->dropbox) (4.0.0)\n",
      "Requirement already satisfied: certifi>=2017.4.17 in /nfs/home2/cbisot/anaconda3/envs/test/lib/python3.7/site-packages (from requests>=2.16.2->dropbox) (2020.12.5)\n",
      "Requirement already satisfied: urllib3<1.27,>=1.21.1 in /nfs/home2/cbisot/anaconda3/envs/test/lib/python3.7/site-packages (from requests>=2.16.2->dropbox) (1.26.2)\n",
      "Collecting stone>=2.*\n",
      "  Downloading stone-3.2.1-py3-none-any.whl (160 kB)\n",
      "\u001b[K     |████████████████████████████████| 160 kB 31.8 MB/s eta 0:00:01\n",
      "\u001b[?25hCollecting ply>=3.4\n",
      "  Downloading ply-3.11-py2.py3-none-any.whl (49 kB)\n",
      "\u001b[K     |████████████████████████████████| 49 kB 4.8 MB/s  eta 0:00:01\n",
      "\u001b[?25hInstalling collected packages: ply, stone, dropbox\n",
      "Successfully installed dropbox-11.1.0 ply-3.11 stone-3.2.1\n"
     ]
    }
   ],
   "source": [
    "!pip install dropbox"
   ]
  },
  {
   "cell_type": "code",
   "execution_count": null,
   "metadata": {},
   "outputs": [],
   "source": [
    "import dropbox\n",
    "dbx = dropbox.Dropbox(\"<ACCESS_TOKEN>\")"
   ]
  }
 ],
 "metadata": {
  "kernelspec": {
   "display_name": "Python 3",
   "language": "python",
   "name": "python3"
  },
  "language_info": {
   "codemirror_mode": {
    "name": "ipython",
    "version": 3
   },
   "file_extension": ".py",
   "mimetype": "text/x-python",
   "name": "python",
   "nbconvert_exporter": "python",
   "pygments_lexer": "ipython3",
   "version": "3.7.7"
  }
 },
 "nbformat": 4,
 "nbformat_minor": 4
}

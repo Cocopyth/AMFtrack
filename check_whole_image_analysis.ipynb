{
 "cells": [
  {
   "cell_type": "code",
   "execution_count": 25,
   "metadata": {},
   "outputs": [],
   "source": [
    "%matplotlib widget\n",
    "from util import get_path\n",
    "import pandas as pd\n",
    "import networkx as nx\n",
    "import numpy as np\n",
    "from extract_graph import generate_nx_graph, transform_list, generate_skeleton, generate_nx_graph_from_skeleton\n",
    "from node_id import whole_movement_identification, second_identification\n",
    "import ast\n",
    "from plotutil import plot_t_tp1\n",
    "from scipy import sparse\n",
    "from sparse_util import dilate, zhangSuen\n",
    "from realign import realign"
   ]
  },
  {
   "cell_type": "code",
   "execution_count": 5,
   "metadata": {},
   "outputs": [],
   "source": [
    "date0='0709_1157'\n",
    "date1='0709_1557'\n",
    "date2='0709_1934'\n",
    "dates=[date0,date1,date2]\n",
    "plate = 13\n"
   ]
  },
  {
   "cell_type": "code",
   "execution_count": 6,
   "metadata": {},
   "outputs": [],
   "source": [
    "tabs_labeled=[]\n",
    "for date in dates:\n",
    "    tabs_labeled.append(pd.read_csv(get_path(date,plate,True,extension='_full_labeled.csv'),\n",
    "                                    converters={'origin_pos' : transform_list,'end_pos' : transform_list,'pixel_list' : ast.literal_eval}))"
   ]
  },
  {
   "cell_type": "code",
   "execution_count": 7,
   "metadata": {},
   "outputs": [],
   "source": [
    "nx_graphs=[]\n",
    "poss=[]\n",
    "for tab in tabs_labeled:\n",
    "    nx_graph,pos=generate_nx_graph(tab,labeled=True)\n",
    "    nx_graphs.append(nx_graph)\n",
    "    poss.append(pos)"
   ]
  },
  {
   "cell_type": "code",
   "execution_count": 8,
   "metadata": {},
   "outputs": [],
   "source": [
    "nx_graph_clean=[]\n",
    "for graph in nx_graphs:\n",
    "    S = [graph.subgraph(c).copy() for c in nx.connected_components(graph)]\n",
    "    len_connected=[len(nx_graph.nodes) for nx_graph in S]\n",
    "    nx_graph_clean.append(S[np.argmax(len_connected)])"
   ]
  },
  {
   "cell_type": "code",
   "execution_count": 405,
   "metadata": {},
   "outputs": [],
   "source": [
    "skeletons=[]\n",
    "for nx_graph in nx_graph_clean:\n",
    "    skeletons.append(generate_skeleton(nx_graph,dim=(20687, 45554)))"
   ]
  },
  {
   "cell_type": "code",
   "execution_count": 13,
   "metadata": {},
   "outputs": [
    {
     "name": "stdout",
     "output_type": "stream",
     "text": [
      "100000\n",
      "200000\n",
      "300000\n",
      "400000\n",
      "500000\n",
      "600000\n",
      "700000\n",
      "800000\n",
      "900000\n",
      "1000000\n",
      "1100000\n",
      "1200000\n",
      "1300000\n",
      "1899988 1898277\n",
      "5955 18\n",
      "0 0\n"
     ]
    }
   ],
   "source": [
    "skeleton_transformed0=realign(skeletons[0],skeletons[1])"
   ]
  },
  {
   "cell_type": "code",
   "execution_count": 407,
   "metadata": {},
   "outputs": [],
   "source": [
    "skeletons=[skeleton_transformed0,skeletons[1],skeletons[2]]"
   ]
  },
  {
   "cell_type": "code",
   "execution_count": 50,
   "metadata": {},
   "outputs": [],
   "source": [
    "nx_graph_poss=[generate_nx_graph_from_skeleton(skeleton) for skeleton in skeletons]\n",
    "nx_graphs_aligned=[nx_graph_pos[0] for nx_graph_pos in nx_graph_poss]\n",
    "poss_aligned=[nx_graph_pos[1] for nx_graph_pos in nx_graph_poss]"
   ]
  },
  {
   "cell_type": "code",
   "execution_count": 159,
   "metadata": {},
   "outputs": [],
   "source": [
    "xbegin=17000\n",
    "ybegin=0\n",
    "xend=21000\n",
    "yend=2000\n",
    "skeletons_small=[]\n",
    "for skeleton in skeletons:\n",
    "    skeletons_small.append(skeleton[xbegin:xend,ybegin:yend])"
   ]
  },
  {
   "cell_type": "code",
   "execution_count": 136,
   "metadata": {},
   "outputs": [],
   "source": [
    "node_smalls=[]\n",
    "for i,nx_graph in enumerate(nx_graphs_aligned):\n",
    "    node_smalls.append([node for node in nx_graph.nodes if (xbegin<poss_aligned[i][node][0]<xend and ybegin<poss_aligned[i][node][1]<yend and nx_graph.degree(node)>=1)])"
   ]
  },
  {
   "cell_type": "code",
   "execution_count": 127,
   "metadata": {},
   "outputs": [
    {
     "data": {
      "application/vnd.jupyter.widget-view+json": {
       "model_id": "e437434f870e45ed9cc9e41485ff839e",
       "version_major": 2,
       "version_minor": 0
      },
      "text/plain": [
       "Canvas(toolbar=Toolbar(toolitems=[('Home', 'Reset original view', 'home', 'home'), ('Back', 'Back to previous …"
      ]
     },
     "metadata": {},
     "output_type": "display_data"
    }
   ],
   "source": [
    "plot_t_tp1(node_smalls[0],node_smalls[1],poss_aligned[0],poss_aligned[1],skeletons_small[0].todense(),skeletons_small[1].todense(),shift=(xbegin,ybegin))"
   ]
  },
  {
   "cell_type": "code",
   "execution_count": 51,
   "metadata": {},
   "outputs": [],
   "source": [
    "anx_graph_t0m2,anx_graph_t0m1,anx_graph_t0=nx_graphs_aligned[0], nx_graphs_aligned[1], nx_graphs_aligned[2]\n",
    "apos_t0m2,apos_t0m1,apos_t0 = poss_aligned[0], poss_aligned[1], poss_aligned[2]\n",
    "skeleton_doc_0_thinned,skeleton_doc_1_thinned, skeleton_doc_2_thinned= skeletons[0], skeletons[1], skeletons[2]"
   ]
  },
  {
   "cell_type": "code",
   "execution_count": 52,
   "metadata": {},
   "outputs": [
    {
     "name": "stdout",
     "output_type": "stream",
     "text": [
      "{1537, 2563, 5128, 4621, 1549, 4623, 2578, 538, 4123, 1581, 4153, 5184, 1092, 2633, 1626, 4700, 2653, 4191, 3169, 3170, 100, 2148, 3201, 5251, 5281, 5284, 5285, 676, 3757, 3249, 1717, 2236, 2251, 207, 2770, 4818, 221, 4333, 1776, 757, 2298, 2818, 2820, 2309, 3848, 4882, 4900, 1324, 2874, 3905, 4943, 4436, 2389, 1888, 2917, 4458, 4468, 2425, 3453, 3975, 1423, 3987, 5015, 922, 5021, 5022, 4001, 939, 4021, 5565, 2494, 2501, 4549, 4552, 975, 5590, 484, 1517, 497, 1522, 1016}\n"
     ]
    }
   ],
   "source": [
    "apos_t0m1,anx_graph_t0m1,anx_graph_t0m2,corresp_tips=second_identification(anx_graph_t0m2,anx_graph_t0m1,apos_t0m2,apos_t0m1,50)\n"
   ]
  },
  {
   "cell_type": "code",
   "execution_count": 53,
   "metadata": {},
   "outputs": [],
   "source": [
    "poss_aligned[1]=apos_t0m1\n",
    "nx_graphs_aligned[1]=anx_graph_t0m1\n",
    "nx_graphs_aligned[0]=anx_graph_t0m2"
   ]
  },
  {
   "cell_type": "code",
   "execution_count": 171,
   "metadata": {},
   "outputs": [],
   "source": [
    "import numpy as np\n",
    "import matplotlib.pyplot as plt\n",
    "import matplotlib.cm as cm\n",
    "from PIL import Image\n",
    "from scipy import sparse\n",
    "import cv2\n",
    "from pymatreader import read_mat\n",
    "from util import get_path\n",
    "from plotutil import show_im,overlap, show_im_rgb\n",
    "from extract_graph import generate_graph_tab_from_skeleton,generate_nx_graph_from_skeleton,generate_skeleton\n",
    "import networkx as nx\n",
    "from copy import deepcopy\n",
    "from sparse_util import dilate\n",
    "from scipy.optimize import minimize\n",
    "from node_id import orient\n",
    "def whole_movement_identification(nx_graph_tm1,nx_graph_t,pos_tm1,pos_t,length_id=50):\n",
    "    tips = [node for node in nx_graph_tm1.nodes if nx_graph_tm1.degree(node)==1]\n",
    "    tip_origin={tip : tip  for tip in tips}\n",
    "    pixels_from_tip={tip : [] for tip in tips}\n",
    "    for number,tip in enumerate(tips):\n",
    "#         print('tip',pos_tm1[tip],tip)\n",
    "        if number%100==0:\n",
    "            print(number/len(tips))\n",
    "        mini=np.inf\n",
    "        for edge in nx_graph_t.edges:\n",
    "            pixel_list=nx_graph_t.get_edge_data(*edge)['pixel_list']\n",
    "            if np.linalg.norm(np.array(pixel_list[0])-np.array(pos_tm1[tip]))<=5000:\n",
    "                distance=np.min(np.linalg.norm(np.array(pixel_list)-np.array(pos_tm1[tip]),axis=1))\n",
    "                if distance<mini:\n",
    "                    mini=distance\n",
    "                    right_edge = edge\n",
    "        origin = np.array(orient(nx_graph_tm1.get_edge_data(*list(nx_graph_tm1.edges(tip))[0])['pixel_list'],pos_tm1[tip]))\n",
    "        origin_vector = origin[0]-origin[-1]\n",
    "        branch=np.array(orient(nx_graph_t.get_edge_data(*right_edge)['pixel_list'],pos_t[right_edge[0]]))\n",
    "        index_nearest_pixel=np.argmin(np.linalg.norm(branch-np.array(pos_tm1[tip]),axis=1))\n",
    "        candidate_vector = branch[-1]-branch[0]\n",
    "        dot_product = np.dot(origin_vector,candidate_vector)\n",
    "#         if tip==5260:\n",
    "#             print(list(branch[index_nearest_pixel:]))\n",
    "#             print(list(branch[:index_nearest_pixel]))\n",
    "        if dot_product>=0:\n",
    "            root=right_edge[0]\n",
    "            next_node=right_edge[1]\n",
    "            pixels_from_tip[tip]+=list(branch[index_nearest_pixel:])\n",
    "        else:\n",
    "            root=right_edge[1]\n",
    "            next_node=right_edge[0]\n",
    "            pixels_from_tip[tip]+=list(reversed(list(branch[:index_nearest_pixel])))\n",
    "        #Could improve the candidate vector by chosing pixel around the forme tip but this identification should be rather unambiguous\n",
    "        last_node=root\n",
    "        current_node=next_node\n",
    "        last_branch=np.array(orient(nx_graph_t.get_edge_data(root,next_node)['pixel_list'],pos_t[current_node]))\n",
    "        def label_node_recursive(last_node,current_node,corresp_label):\n",
    "            if not current_node in corresp_label.keys() and not current_node in nx_graph_tm1.nodes:\n",
    "                corresp_label[current_node]=tip\n",
    "                pixel_list=nx_graph_t.get_edge_data(last_node,current_node)['pixel_list']\n",
    "                pixels_from_tip[tip]+=pixel_list\n",
    "                if nx_graph_t.degree(current_node)>=3:\n",
    "                    for neighbour_t in nx_graph_t.neighbors(current_node): \n",
    "                        if neighbour_t!=last_node:\n",
    "                            label_node_recursive(current_node,neighbour_t,corresp_label)\n",
    "        label_node_recursive(last_node,current_node,tip_origin)\n",
    "    return(tip_origin,pixels_from_tip)"
   ]
  },
  {
   "cell_type": "code",
   "execution_count": 172,
   "metadata": {},
   "outputs": [
    {
     "name": "stdout",
     "output_type": "stream",
     "text": [
      "0.0\n",
      "0.0544069640914037\n",
      "0.1088139281828074\n",
      "0.1632208922742111\n",
      "0.2176278563656148\n",
      "0.2720348204570185\n",
      "0.3264417845484222\n",
      "0.3808487486398259\n",
      "0.4352557127312296\n",
      "0.4896626768226333\n",
      "0.544069640914037\n",
      "0.5984766050054406\n",
      "0.6528835690968444\n",
      "0.7072905331882481\n",
      "0.7616974972796517\n",
      "0.8161044613710555\n",
      "0.8705114254624592\n",
      "0.9249183895538629\n",
      "0.9793253536452666\n"
     ]
    }
   ],
   "source": [
    "tip_origin_t0m2_t0m1,pixels_from_tip= whole_movement_identification(nx_graphs_aligned[0],nx_graphs_aligned[1],poss_aligned[0],poss_aligned[1])"
   ]
  },
  {
   "cell_type": "code",
   "execution_count": 194,
   "metadata": {},
   "outputs": [
    {
     "data": {
      "text/plain": [
       "6.503542234332425"
      ]
     },
     "execution_count": 194,
     "metadata": {},
     "output_type": "execute_result"
    }
   ],
   "source": [
    "np.mean(growths)"
   ]
  },
  {
   "cell_type": "code",
   "execution_count": 197,
   "metadata": {},
   "outputs": [
    {
     "data": {
      "text/plain": [
       "21.4756528638058"
      ]
     },
     "execution_count": 197,
     "metadata": {},
     "output_type": "execute_result"
    }
   ],
   "source": [
    "np.std(growths)"
   ]
  },
  {
   "cell_type": "code",
   "execution_count": 187,
   "metadata": {},
   "outputs": [
    {
     "data": {
      "text/plain": [
       "2499"
      ]
     },
     "execution_count": 187,
     "metadata": {},
     "output_type": "execute_result"
    }
   ],
   "source": [
    "max(growths)"
   ]
  },
  {
   "cell_type": "code",
   "execution_count": 199,
   "metadata": {},
   "outputs": [],
   "source": [
    "growths=[len(pixels_from_tip[tip]) for tip in pixels_from_tip.keys() if len(pixels_from_tip[tip])<100]"
   ]
  },
  {
   "cell_type": "code",
   "execution_count": 218,
   "metadata": {},
   "outputs": [
    {
     "data": {
      "text/plain": [
       "132"
      ]
     },
     "execution_count": 218,
     "metadata": {},
     "output_type": "execute_result"
    }
   ],
   "source": [
    "len(pixels_from_tip[5608])"
   ]
  },
  {
   "cell_type": "code",
   "execution_count": 219,
   "metadata": {},
   "outputs": [
    {
     "data": {
      "text/plain": [
       "184"
      ]
     },
     "execution_count": 219,
     "metadata": {},
     "output_type": "execute_result"
    }
   ],
   "source": [
    "len(pixels_from_tip[3879])"
   ]
  },
  {
   "cell_type": "code",
   "execution_count": 209,
   "metadata": {},
   "outputs": [
    {
     "data": {
      "text/plain": [
       "[5608,\n",
       " 3879,\n",
       " 2741,\n",
       " 4607,\n",
       " 4582,\n",
       " 2369,\n",
       " 666,\n",
       " 27,\n",
       " 5463,\n",
       " 5136,\n",
       " 2505,\n",
       " 433,\n",
       " 5652,\n",
       " 1879,\n",
       " 3412,\n",
       " 5071]"
      ]
     },
     "execution_count": 209,
     "metadata": {},
     "output_type": "execute_result"
    }
   ],
   "source": [
    "[tip for tip in pixels_from_tip.keys() if 200>len(pixels_from_tip[tip])>=100]"
   ]
  },
  {
   "cell_type": "code",
   "execution_count": 222,
   "metadata": {},
   "outputs": [
    {
     "data": {
      "text/plain": [
       "array([18128, 11403])"
      ]
     },
     "execution_count": 222,
     "metadata": {},
     "output_type": "execute_result"
    }
   ],
   "source": [
    "poss_aligned[0][4607]"
   ]
  },
  {
   "cell_type": "code",
   "execution_count": 223,
   "metadata": {},
   "outputs": [],
   "source": [
    "node_problem=4607\n",
    "pos_problem=poss_aligned[0][node_problem]\n",
    "xbegin=pos_problem[0]-1000\n",
    "ybegin=pos_problem[1]-1000\n",
    "xend=pos_problem[0]+1000\n",
    "yend=pos_problem[1]+1000\n",
    "skeletons_small=[]\n",
    "for skeleton in skeletons:\n",
    "    skeletons_small.append(skeleton[xbegin:xend,ybegin:yend])\n",
    "node_smalls=[]\n",
    "for i,nx_graph in enumerate(nx_graphs_aligned):\n",
    "    node_smalls.append([node for node in nx_graph.nodes if (xbegin<poss_aligned[i][node][0]<xend and ybegin<poss_aligned[i][node][1]<yend and nx_graph.degree(node)>=1)])"
   ]
  },
  {
   "cell_type": "code",
   "execution_count": 224,
   "metadata": {},
   "outputs": [
    {
     "data": {
      "application/vnd.jupyter.widget-view+json": {
       "model_id": "519e9ae425734bebaf61a50f4dc92ede",
       "version_major": 2,
       "version_minor": 0
      },
      "text/plain": [
       "Canvas(toolbar=Toolbar(toolitems=[('Home', 'Reset original view', 'home', 'home'), ('Back', 'Back to previous …"
      ]
     },
     "metadata": {},
     "output_type": "display_data"
    }
   ],
   "source": [
    "plot_t_tp1([node_problem],[node_problem],poss_aligned[0],poss_aligned[1],skeletons_small[0].todense(),skeletons_small[1].todense(),shift=(xbegin,ybegin))"
   ]
  },
  {
   "cell_type": "code",
   "execution_count": 202,
   "metadata": {},
   "outputs": [
    {
     "data": {
      "application/vnd.jupyter.widget-view+json": {
       "model_id": "6f957c16e0e049758ea5bc3928cad555",
       "version_major": 2,
       "version_minor": 0
      },
      "text/plain": [
       "Canvas(toolbar=Toolbar(toolitems=[('Home', 'Reset original view', 'home', 'home'), ('Back', 'Back to previous …"
      ]
     },
     "metadata": {},
     "output_type": "display_data"
    },
    {
     "data": {
      "text/plain": [
       "(array([1.213e+03, 2.960e+02, 1.360e+02, 6.400e+01, 3.300e+01, 1.700e+01,\n",
       "        1.100e+01, 4.000e+00, 7.000e+00, 1.000e+00, 1.000e+00, 2.000e+00,\n",
       "        1.000e+00, 1.000e+00, 5.000e+00, 1.000e+00, 0.000e+00, 2.000e+00,\n",
       "        2.000e+00, 2.000e+00, 0.000e+00, 1.000e+00, 2.000e+00, 0.000e+00,\n",
       "        2.000e+00, 1.000e+00, 2.000e+00, 2.000e+00, 4.000e+00, 1.000e+00]),\n",
       " array([ 0. ,  3.2,  6.4,  9.6, 12.8, 16. , 19.2, 22.4, 25.6, 28.8, 32. ,\n",
       "        35.2, 38.4, 41.6, 44.8, 48. , 51.2, 54.4, 57.6, 60.8, 64. , 67.2,\n",
       "        70.4, 73.6, 76.8, 80. , 83.2, 86.4, 89.6, 92.8, 96. ]),\n",
       " <BarContainer object of 30 artists>)"
      ]
     },
     "execution_count": 202,
     "metadata": {},
     "output_type": "execute_result"
    }
   ],
   "source": [
    "fig = plt.figure()\n",
    "ax = fig.add_subplot(111)\n",
    "ax.hist(growths,30)"
   ]
  },
  {
   "cell_type": "code",
   "execution_count": 238,
   "metadata": {},
   "outputs": [],
   "source": [
    "def make_growth_picture(pixels_from_tip,pos,shape=(20700,45600),factor=10):\n",
    "    final_picture = np.zeros(shape=(shape[0]//factor,shape[1]//factor))\n",
    "    for tip in pixels_from_tip.keys():\n",
    "        growth=len(pixels_from_tip[tip])\n",
    "        beginx=round(pos[tip][0]/factor-factor//2)\n",
    "        endx=round(pos[tip][0]/factor+factor//2)\n",
    "        beginy=round(pos[tip][1]/factor-factor//2)\n",
    "        endy=round(pos[tip][1]/factor+factor//2)\n",
    "        if growth<=200:\n",
    "            final_picture[beginx:endx,beginy:endy]+=growth\n",
    "#         print(growth,beginx,endx)    \n",
    "#     for x in range(shape[0]//factor):\n",
    "#         if x%1==0:\n",
    "#             print(x/2070)\n",
    "#         for y in range(shape[1]//factor):\n",
    "#             beginx = x*factor\n",
    "#             endx=(x+1)*factor\n",
    "#             beginy = y*factor\n",
    "#             endy=(y+1)*factor\n",
    "#             tips_in_frame = [tip for tip in pixels_from_tip.keys() if (beginx<pos[tip][0]<endx) and (beginy<pos[tip][1]<endy)]\n",
    "#             #shouls be improved, len is not a good indicator of actual length...\n",
    "#             growth_in_frame = [len(pixels_from_tip[tip]) for tip in tips_in_frame]\n",
    "#             final_picture[x,y]=np.mean(growth_in_frame)\n",
    "    return(final_picture)"
   ]
  },
  {
   "cell_type": "code",
   "execution_count": 361,
   "metadata": {},
   "outputs": [],
   "source": [
    "def make_growth_picture_per_tip(pixels_from_tip,pos,shape=(20700,45600),factor=10,max_growth=200,min_growth=10,per_tip=True):\n",
    "    final_picture = np.zeros(shape=(shape[0]//factor,shape[1]//factor))\n",
    "    number_tips = np.zeros(shape=(shape[0]//factor,shape[1]//factor))\n",
    "    for tip in pixels_from_tip.keys():\n",
    "        growth=len(pixels_from_tip[tip])\n",
    "        x=min(round(pos[tip][0]/factor),shape[0]//factor-1)\n",
    "        y=min(round(pos[tip][1]/factor),shape[1]//factor-1)\n",
    "        if growth<=max_growth:\n",
    "#             print(number_tips)\n",
    "            if growth>=min_growth:\n",
    "                number_tips[x,y]+=1\n",
    "                final_picture[x,y]+=growth\n",
    "#         print(growth,beginx,endx)    \n",
    "#     for x in range(shape[0]//factor):\n",
    "#         if x%1==0:\n",
    "#             print(x/2070)\n",
    "#         for y in range(shape[1]//factor):\n",
    "#             beginx = x*factor\n",
    "#             endx=(x+1)*factor\n",
    "#             beginy = y*factor\n",
    "#             endy=(y+1)*factor\n",
    "#             tips_in_frame = [tip for tip in pixels_from_tip.keys() if (beginx<pos[tip][0]<endx) and (beginy<pos[tip][1]<endy)]\n",
    "#             #shouls be improved, len is not a good indicator of actual length...\n",
    "#             growth_in_frame = [len(pixels_from_tip[tip]) for tip in tips_in_frame]\n",
    "#             final_picture[x,y]=np.mean(growth_in_frame)\n",
    "    if per_tip:\n",
    "        return(final_picture/(number_tips+(number_tips==0).astype(np.int)),number_tips)\n",
    "    else:\n",
    "        return(final_picture,number_tips)"
   ]
  },
  {
   "cell_type": "code",
   "execution_count": 391,
   "metadata": {},
   "outputs": [],
   "source": [
    "def compress_skeleton(skeleton_doc,factor):\n",
    "    shape=skeleton_doc.shape\n",
    "    final_picture = np.zeros(shape=(shape[0]//factor,shape[1]//factor))\n",
    "    for pixel in skeleton_doc.keys():\n",
    "        x=min(round(pixel[0]/factor),shape[0]//factor-1)\n",
    "        y=min(round(pixel[1]/factor),shape[1]//factor-1)\n",
    "        final_picture[x,y]+=1\n",
    "    return(final_picture)"
   ]
  },
  {
   "cell_type": "code",
   "execution_count": 408,
   "metadata": {},
   "outputs": [
    {
     "data": {
      "application/vnd.jupyter.widget-view+json": {
       "model_id": "dfbaa58610cb47d29c38a63633540516",
       "version_major": 2,
       "version_minor": 0
      },
      "text/plain": [
       "Canvas(toolbar=Toolbar(toolitems=[('Home', 'Reset original view', 'home', 'home'), ('Back', 'Back to previous …"
      ]
     },
     "metadata": {},
     "output_type": "display_data"
    }
   ],
   "source": [
    "final_picture1 = compress_skeleton(skeletons[0],10)\n",
    "final_picture2 = compress_skeleton(skeletons[1],10)\n",
    "fig = plt.figure()\n",
    "ax = fig.add_subplot(111)\n",
    "ax.imshow(final_picture1>0,cmap='gray',interpolation='none')\n",
    "ax.imshow(final_picture2>0,cmap='jet',alpha=0.5,interpolation='none')\n",
    "plt.show()"
   ]
  },
  {
   "cell_type": "code",
   "execution_count": 398,
   "metadata": {},
   "outputs": [
    {
     "data": {
      "application/vnd.jupyter.widget-view+json": {
       "model_id": "e6585fab2bee4c8482893949e20e1876",
       "version_major": 2,
       "version_minor": 0
      },
      "text/plain": [
       "Canvas(toolbar=Toolbar(toolitems=[('Home', 'Reset original view', 'home', 'home'), ('Back', 'Back to previous …"
      ]
     },
     "metadata": {},
     "output_type": "display_data"
    },
    {
     "data": {
      "text/plain": [
       "<matplotlib.image.AxesImage at 0x1e6f9445288>"
      ]
     },
     "execution_count": 398,
     "metadata": {},
     "output_type": "execute_result"
    }
   ],
   "source": [
    "final_picture,number_tips = make_growth_picture_per_tip(pixels_from_tip,poss_aligned[0],factor=300,max_growth=300,per_tip=True,min_growth=0)\n",
    "fig = plt.figure()\n",
    "ax = fig.add_subplot(111)\n",
    "ax.imshow(final_picture)"
   ]
  },
  {
   "cell_type": "code",
   "execution_count": 388,
   "metadata": {},
   "outputs": [
    {
     "data": {
      "text/plain": [
       "(13000, 7000)"
      ]
     },
     "execution_count": 388,
     "metadata": {},
     "output_type": "execute_result"
    }
   ],
   "source": [
    "26*500,14*500"
   ]
  },
  {
   "cell_type": "code",
   "execution_count": 389,
   "metadata": {},
   "outputs": [],
   "source": [
    "pos_problem=(13000, 7000)\n",
    "xbegin=pos_problem[0]-2000\n",
    "ybegin=pos_problem[1]-2000\n",
    "xend=pos_problem[0]+2000\n",
    "yend=pos_problem[1]+2000\n",
    "skeletons_small=[]\n",
    "for skeleton in skeletons:\n",
    "    skeletons_small.append(skeleton[xbegin:xend,ybegin:yend])\n",
    "node_smalls=[]\n",
    "for i,nx_graph in enumerate(nx_graphs_aligned):\n",
    "    node_smalls.append([node for node in nx_graph.nodes if (xbegin<poss_aligned[i][node][0]<xend and ybegin<poss_aligned[i][node][1]<yend and nx_graph.degree(node)==1)])"
   ]
  },
  {
   "cell_type": "code",
   "execution_count": 390,
   "metadata": {},
   "outputs": [
    {
     "data": {
      "application/vnd.jupyter.widget-view+json": {
       "model_id": "37fecd1b8e2a43a08516f4d172f825cc",
       "version_major": 2,
       "version_minor": 0
      },
      "text/plain": [
       "Canvas(toolbar=Toolbar(toolitems=[('Home', 'Reset original view', 'home', 'home'), ('Back', 'Back to previous …"
      ]
     },
     "metadata": {},
     "output_type": "display_data"
    }
   ],
   "source": [
    "plot_t_tp1(node_smalls[0],node_smalls[1],poss_aligned[0],poss_aligned[1],skeletons_small[0].todense(),skeletons_small[1].todense(),shift=(xbegin,ybegin))"
   ]
  },
  {
   "cell_type": "code",
   "execution_count": 244,
   "metadata": {},
   "outputs": [
    {
     "data": {
      "text/plain": [
       "array([19343, 33314])"
      ]
     },
     "execution_count": 244,
     "metadata": {},
     "output_type": "execute_result"
    }
   ],
   "source": [
    "poss_aligned[1][5136]"
   ]
  },
  {
   "cell_type": "code",
   "execution_count": 315,
   "metadata": {},
   "outputs": [
    {
     "data": {
      "text/plain": [
       "197"
      ]
     },
     "execution_count": 315,
     "metadata": {},
     "output_type": "execute_result"
    }
   ],
   "source": [
    "len(pixels_from_tip[27])"
   ]
  }
 ],
 "metadata": {
  "kernelspec": {
   "display_name": "cleanMsc",
   "language": "python",
   "name": "cleanmsc"
  },
  "language_info": {
   "codemirror_mode": {
    "name": "ipython",
    "version": 3
   },
   "file_extension": ".py",
   "mimetype": "text/x-python",
   "name": "python",
   "nbconvert_exporter": "python",
   "pygments_lexer": "ipython3",
   "version": "3.7.8"
  }
 },
 "nbformat": 4,
 "nbformat_minor": 4
}

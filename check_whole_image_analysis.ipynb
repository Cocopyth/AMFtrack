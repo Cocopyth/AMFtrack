{
 "cells": [
  {
   "cell_type": "code",
   "execution_count": 1,
   "metadata": {},
   "outputs": [],
   "source": [
    "%matplotlib widget\n",
    "from util import get_path\n",
    "import pandas as pd\n",
    "import networkx as nx\n",
    "import numpy as np\n",
    "import matplotlib.pyplot as plt\n",
    "from extract_graph import generate_nx_graph, transform_list, generate_skeleton, generate_nx_graph_from_skeleton\n",
    "from node_id import whole_movement_identification, second_identification\n",
    "import ast\n",
    "from plotutil import plot_t_tp1, compress_skeleton\n",
    "from scipy import sparse\n",
    "from sparse_util import dilate, zhangSuen\n",
    "from realign import realign"
   ]
  },
  {
   "cell_type": "code",
   "execution_count": 2,
   "metadata": {},
   "outputs": [],
   "source": [
    "# date0='0709_1157'\n",
    "# date1='0709_1557'\n",
    "# date2='0709_1934'\n",
    "# dates=[date0,date1,date2]\n",
    "# plate = 13\n",
    "date0='0701_1957'\n",
    "date1='0701_2357'\n",
    "date2='0702_0357'\n",
    "date3='0702_0757'\n",
    "date4='0702_1157'\n",
    "date5='0702_1557'\n",
    "plate=13\n",
    "dates=[date0,date1,date2,date3,date4,date5]"
   ]
  },
  {
   "cell_type": "code",
   "execution_count": null,
   "metadata": {},
   "outputs": [],
   "source": [
    "tabs_labeled=[]\n",
    "for date in dates:\n",
    "    tabs_labeled.append(pd.read_csv(get_path(date,plate,True,extension='_full_labeled.csv'),\n",
    "                                    converters={'origin_pos' : transform_list,'end_pos' : transform_list,'pixel_list' : ast.literal_eval}))"
   ]
  },
  {
   "cell_type": "code",
   "execution_count": 25,
   "metadata": {},
   "outputs": [],
   "source": [
    "tabs_labeled=[]\n",
    "for date in dates:\n",
    "    tabs_labeled.append(pd.read_csv(f'Data/graph_{date}_{plate}_full_labeled.csv',\n",
    "                                    converters={'origin_pos' : transform_list,'end_pos' : transform_list,'pixel_list' : ast.literal_eval}))"
   ]
  },
  {
   "cell_type": "code",
   "execution_count": null,
   "metadata": {},
   "outputs": [],
   "source": []
  },
  {
   "cell_type": "code",
   "execution_count": 26,
   "metadata": {},
   "outputs": [],
   "source": [
    "nx_graphs=[]\n",
    "poss=[]\n",
    "for tab in tabs_labeled:\n",
    "    nx_graph,pos=generate_nx_graph(tab,labeled=True)\n",
    "    nx_graphs.append(nx_graph)\n",
    "    poss.append(pos)"
   ]
  },
  {
   "cell_type": "code",
   "execution_count": 27,
   "metadata": {},
   "outputs": [],
   "source": [
    "nx_graph_clean=[]\n",
    "for graph in nx_graphs:\n",
    "    S = [graph.subgraph(c).copy() for c in nx.connected_components(graph)]\n",
    "    len_connected=[len(nx_graph.nodes) for nx_graph in S]\n",
    "    nx_graph_clean.append(S[np.argmax(len_connected)])"
   ]
  },
  {
   "cell_type": "code",
   "execution_count": 28,
   "metadata": {},
   "outputs": [],
   "source": [
    "skeletons=[]\n",
    "for nx_graph in nx_graph_clean:\n",
    "    skeletons.append(generate_skeleton(nx_graph,dim=(20687, 45554)))"
   ]
  },
  {
   "cell_type": "code",
   "execution_count": 29,
   "metadata": {},
   "outputs": [],
   "source": [
    "factor = 5\n",
    "final_pictures = [compress_skeleton(skeletons[i],factor) for i in range(len(skeletons))]"
   ]
  },
  {
   "cell_type": "code",
   "execution_count": 30,
   "metadata": {},
   "outputs": [
    {
     "name": "stdout",
     "output_type": "stream",
     "text": [
      "0.0\n",
      "0.11337868480725624\n",
      "0.22675736961451248\n",
      "0.3401360544217687\n",
      "0.45351473922902497\n",
      "0.5668934240362812\n",
      "0.6802721088435374\n",
      "0.7936507936507936\n",
      "0.9070294784580499\n",
      "0.0\n",
      "0.13736263736263737\n",
      "0.27472527472527475\n",
      "0.41208791208791207\n",
      "0.5494505494505495\n",
      "0.6868131868131868\n",
      "0.8241758241758241\n",
      "0.9615384615384616\n",
      "0.0\n",
      "0.1297016861219196\n",
      "0.2594033722438392\n",
      "0.38910505836575876\n",
      "0.5188067444876784\n",
      "0.648508430609598\n",
      "0.7782101167315175\n",
      "0.9079118028534371\n",
      "0.0\n",
      "0.1182033096926714\n",
      "0.2364066193853428\n",
      "0.3546099290780142\n",
      "0.4728132387706856\n",
      "0.5910165484633569\n",
      "0.7092198581560284\n",
      "0.8274231678486997\n",
      "0.9456264775413712\n",
      "0.0\n",
      "0.10438413361169102\n",
      "0.20876826722338204\n",
      "0.31315240083507306\n",
      "0.4175365344467641\n",
      "0.5219206680584552\n",
      "0.6263048016701461\n",
      "0.7306889352818372\n",
      "0.8350730688935282\n",
      "0.9394572025052192\n"
     ]
    }
   ],
   "source": [
    "connections_growth_pattern = [whole_movement_identification(nx_graph_clean[i],nx_graph_clean[i+1],poss[i],poss[i+1]) for i in range(len(dates)-1)]"
   ]
  },
  {
   "cell_type": "code",
   "execution_count": 31,
   "metadata": {},
   "outputs": [],
   "source": [
    "connections = [c[0] for c in connections_growth_pattern]\n",
    "growth_pattern = [c[1] for c in connections_growth_pattern]"
   ]
  },
  {
   "cell_type": "code",
   "execution_count": 10,
   "metadata": {},
   "outputs": [],
   "source": [
    "def pinpoint_anastomosis(nx_graph_tm1,nx_grapht,equ):\n",
    "    anastomosis=[]\n",
    "    origins=[]\n",
    "    tips = [node for node in nx_graph_tm1.nodes if nx_graph_tm1.degree(node)==1]\n",
    "    for node in nx_grapht.nodes:\n",
    "        if nx_grapht.degree(node)>=3 and node in equ.keys() and equ[node] in tips:\n",
    "            anastomosis.append(node)\n",
    "            origins.append(equ[node])\n",
    "    return(anastomosis,origins)"
   ]
  },
  {
   "cell_type": "code",
   "execution_count": 39,
   "metadata": {},
   "outputs": [],
   "source": [
    "growing_tips=[[node for node in growth_pattern[i].keys() if len(growth_pattern[i][node])>=10] for i in range(len(growth_pattern))]"
   ]
  },
  {
   "cell_type": "code",
   "execution_count": 19,
   "metadata": {},
   "outputs": [],
   "source": [
    "degree3_nodes = [[node for node in nx_graph.nodes if nx_graph.degree(node)>=3] for nx_graph in nx_graph_clean]"
   ]
  },
  {
   "cell_type": "code",
   "execution_count": 14,
   "metadata": {},
   "outputs": [],
   "source": [
    "t=2\n",
    "tp1=3"
   ]
  },
  {
   "cell_type": "code",
   "execution_count": null,
   "metadata": {},
   "outputs": [],
   "source": [
    "plot_t_tp1(degree3_nodes[t],degree3_nodes[tp1],poss[t],poss[tp1],final_pictures[t],final_pictures[tp1],compress=5)"
   ]
  },
  {
   "cell_type": "code",
   "execution_count": 32,
   "metadata": {},
   "outputs": [],
   "source": [
    "anastomosiss=[pinpoint_anastomosis(nx_graph_clean[i],nx_graph_clean[i+1], connections[i])[0] for i in range (len(dates)-1)]\n",
    "origins=[pinpoint_anastomosis(nx_graph_clean[i],nx_graph_clean[i+1], connections[i])[1] for i in range (len(dates)-1)]"
   ]
  },
  {
   "cell_type": "code",
   "execution_count": 38,
   "metadata": {},
   "outputs": [
    {
     "data": {
      "text/plain": [
       "0.14756"
      ]
     },
     "execution_count": 38,
     "metadata": {},
     "output_type": "execute_result"
    }
   ],
   "source": [
    "import sys\n",
    "sys.getsizeof(skeletons[0])/(10**6)\n",
    "sys.getsizeof(poss[0])/(10**6)"
   ]
  },
  {
   "cell_type": "code",
   "execution_count": 40,
   "metadata": {},
   "outputs": [
    {
     "data": {
      "application/vnd.jupyter.widget-view+json": {
       "model_id": "c77a457d1e374c529a5eebaad99841b9",
       "version_major": 2,
       "version_minor": 0
      },
      "text/plain": [
       "Canvas(toolbar=Toolbar(toolitems=[('Home', 'Reset original view', 'home', 'home'), ('Back', 'Back to previous …"
      ]
     },
     "metadata": {},
     "output_type": "display_data"
    }
   ],
   "source": [
    "plot_t_tp1(growing_tips[t],growing_tips[t],poss[t],poss[tp1],final_pictures[t],final_pictures[tp1],compress=5)"
   ]
  },
  {
   "cell_type": "code",
   "execution_count": 40,
   "metadata": {},
   "outputs": [],
   "source": [
    "import numpy as np\n",
    "import matplotlib.pyplot as plt\n",
    "import matplotlib.cm as cm\n",
    "from PIL import Image\n",
    "from scipy import sparse\n",
    "import cv2\n",
    "from pymatreader import read_mat\n",
    "# from extract_graph import dic_to_sparse\n",
    "from util import get_path, shift_skeleton\n",
    "from plotutil import show_im,overlap, show_im_rgb, plot_nodes, plot_nodes_from_list,plot_t_tp1\n",
    "from extract_graph import generate_graph_tab_from_skeleton,generate_nx_graph_from_skeleton,generate_skeleton,clean\n",
    "import networkx as nx\n",
    "from node_id import second_identification, whole_movement_identification,first_identification,relabel_nodes, clean_nodes, orient\n",
    "from extract_graph import dic_to_sparse, from_sparse_to_graph, generate_nx_graph, prune_graph, from_nx_to_tab\n",
    "from sparse_util import dilate, zhangSuen\n",
    "from realign import realign, reconnect\n",
    "from util import get_path\n",
    "import pandas as pd\n",
    "skeleton_docs_aligned = [sparse.dok_matrix(sparse.load_npz(f'Data/skeleton_{date}_{plate}_full.npz')) for date in dates]\n",
    "graph_tabs=[from_sparse_to_graph(skeleton) for skeleton in skeleton_docs_aligned]\n",
    "nx_graph_poss=[generate_nx_graph(graph_tab) for graph_tab in graph_tabs]\n",
    "nx_graphs_aligned=[nx_graph_pos[0] for nx_graph_pos in nx_graph_poss]\n",
    "poss_aligned=[nx_graph_pos[1] for nx_graph_pos in nx_graph_poss]\n",
    "nx_graph_pruned=[prune_graph(nx_graph) for nx_graph in nx_graphs_aligned]"
   ]
  },
  {
   "cell_type": "code",
   "execution_count": 61,
   "metadata": {},
   "outputs": [],
   "source": [
    "factor = 5\n",
    "final_pictures_initial = [compress_skeleton(skeleton_docs_aligned[i],factor) for i in range(len(skeleton_docs_aligned))]"
   ]
  },
  {
   "cell_type": "code",
   "execution_count": 30,
   "metadata": {},
   "outputs": [],
   "source": [
    "def make_growth_picture_per_tip(pixels_from_tip,pos,shape=(20700,45600),factor=10,max_growth=200,min_growth=10,per_tip=True):\n",
    "    final_picture = np.zeros(shape=(shape[0]//factor,shape[1]//factor))\n",
    "    number_tips = np.zeros(shape=(shape[0]//factor,shape[1]//factor))\n",
    "    for tip in pixels_from_tip.keys():\n",
    "        growth=len(pixels_from_tip[tip])\n",
    "        x=min(round(pos[tip][0]/factor),shape[0]//factor-1)\n",
    "        y=min(round(pos[tip][1]/factor),shape[1]//factor-1)\n",
    "        if growth<=max_growth:\n",
    "#             print(number_tips)\n",
    "            if growth>=min_growth:\n",
    "                number_tips[x,y]+=1\n",
    "                final_picture[x,y]+=growth\n",
    "#         print(growth,beginx,endx)    \n",
    "#     for x in range(shape[0]//factor):\n",
    "#         if x%1==0:\n",
    "#             print(x/2070)\n",
    "#         for y in range(shape[1]//factor):\n",
    "#             beginx = x*factor\n",
    "#             endx=(x+1)*factor\n",
    "#             beginy = y*factor\n",
    "#             endy=(y+1)*factor\n",
    "#             tips_in_frame = [tip for tip in pixels_from_tip.keys() if (beginx<pos[tip][0]<endx) and (beginy<pos[tip][1]<endy)]\n",
    "#             #shouls be improved, len is not a good indicator of actual length...\n",
    "#             growth_in_frame = [len(pixels_from_tip[tip]) for tip in tips_in_frame]\n",
    "#             final_picture[x,y]=np.mean(growth_in_frame)\n",
    "    if per_tip:\n",
    "        return(final_picture/(number_tips+(number_tips==0).astype(np.int)),number_tips)\n",
    "    else:\n",
    "        return(final_picture,number_tips)"
   ]
  },
  {
   "cell_type": "code",
   "execution_count": 34,
   "metadata": {},
   "outputs": [],
   "source": [
    "final_pictures = [np.log(make_growth_picture_per_tip(growth_pattern[i],poss[i],factor=500,max_growth=4000,per_tip=True,min_growth=0)[0]+1) for i in range (len(growth_pattern))]\n"
   ]
  },
  {
   "cell_type": "code",
   "execution_count": 44,
   "metadata": {},
   "outputs": [
    {
     "data": {
      "application/vnd.jupyter.widget-view+json": {
       "model_id": "4065f929e6aa4cdc931d1f04b0c6b04f",
       "version_major": 2,
       "version_minor": 0
      },
      "text/plain": [
       "Canvas(toolbar=Toolbar(toolitems=[('Home', 'Reset original view', 'home', 'home'), ('Back', 'Back to previous …"
      ]
     },
     "metadata": {},
     "output_type": "display_data"
    },
    {
     "data": {
      "text/plain": [
       "<matplotlib.image.AxesImage at 0x24039ffed08>"
      ]
     },
     "execution_count": 44,
     "metadata": {},
     "output_type": "execute_result"
    }
   ],
   "source": [
    "fig = plt.figure()\n",
    "ax = fig.add_subplot(111)\n",
    "ax.imshow(final_pictures[4])"
   ]
  },
  {
   "cell_type": "code",
   "execution_count": 49,
   "metadata": {},
   "outputs": [
    {
     "data": {
      "text/plain": [
       "(41, 91)"
      ]
     },
     "execution_count": 49,
     "metadata": {},
     "output_type": "execute_result"
    }
   ],
   "source": [
    "final_pictures[4].shape"
   ]
  },
  {
   "cell_type": "code",
   "execution_count": 61,
   "metadata": {},
   "outputs": [],
   "source": [
    "import cv2\n",
    "import numpy as np\n",
    " \n",
    "\n",
    "frameSize = (51,91)\n",
    "\n",
    "out = cv2.VideoWriter('Data\\output_video.avi',cv2.VideoWriter_fourcc(*'DIVX'), 6, frameSize)\n",
    "\n",
    "for i in range(0,255):\n",
    "    img = np.ones((frameSize[0],frameSize[1], 3), dtype=np.uint8)*i\n",
    "    out.write(img)\n",
    "\n",
    "out.release()"
   ]
  },
  {
   "cell_type": "code",
   "execution_count": null,
   "metadata": {},
   "outputs": [],
   "source": [
    "import cv2\n",
    "import numpy as np\n",
    " \n",
    "\n",
    "frameSize = final_pictures[0].shape\n",
    "\n",
    "out = cv2.VideoWriter('Data\\output_video.avi',cv2.VideoWriter_fourcc(*'DIVX'), 1, frameSize)\n",
    "\n",
    "for i in range(len(final_pictures)):\n",
    "    img = final_pictures[i]\n",
    "    out.write(img)\n",
    "\n",
    "out.release()"
   ]
  },
  {
   "cell_type": "code",
   "execution_count": 146,
   "metadata": {},
   "outputs": [
    {
     "name": "stdout",
     "output_type": "stream",
     "text": [
      "0.0\n",
      "0.3003003003003003\n",
      "0.6006006006006006\n",
      "0.9009009009009009\n"
     ]
    }
   ],
   "source": [
    "new_connection = whole_movement_identification(new_graph1,new_graph2,new_pos1,new_pos2)"
   ]
  },
  {
   "cell_type": "code",
   "execution_count": 28,
   "metadata": {},
   "outputs": [
    {
     "ename": "NameError",
     "evalue": "name 'new_graph1' is not defined",
     "output_type": "error",
     "traceback": [
      "\u001b[1;31m---------------------------------------------------------------------------\u001b[0m",
      "\u001b[1;31mNameError\u001b[0m                                 Traceback (most recent call last)",
      "\u001b[1;32m<ipython-input-28-39c6eb705429>\u001b[0m in \u001b[0;36m<module>\u001b[1;34m\u001b[0m\n\u001b[1;32m----> 1\u001b[1;33m \u001b[0manastomosis\u001b[0m\u001b[1;33m,\u001b[0m\u001b[0morigin\u001b[0m\u001b[1;33m=\u001b[0m\u001b[0mpinpoint_anastomosis\u001b[0m\u001b[1;33m(\u001b[0m\u001b[0mnew_graph1\u001b[0m\u001b[1;33m,\u001b[0m\u001b[0mnew_graph2\u001b[0m\u001b[1;33m,\u001b[0m \u001b[0mnew_connection\u001b[0m\u001b[1;33m[\u001b[0m\u001b[1;36m0\u001b[0m\u001b[1;33m]\u001b[0m\u001b[1;33m)\u001b[0m\u001b[1;33m\u001b[0m\u001b[1;33m\u001b[0m\u001b[0m\n\u001b[0m",
      "\u001b[1;31mNameError\u001b[0m: name 'new_graph1' is not defined"
     ]
    }
   ],
   "source": [
    "anastomosis,origin=pinpoint_anastomosis(new_graph1,new_graph2, new_connection[0])"
   ]
  },
  {
   "cell_type": "code",
   "execution_count": null,
   "metadata": {},
   "outputs": [],
   "source": [
    "plot_t_tp1(origin,anastomosis,new_pos1,new_pos2,final_picture1,final_picture2,compress=5,relabel_t=lambda node : new_connection[0][node])"
   ]
  },
  {
   "cell_type": "code",
   "execution_count": 82,
   "metadata": {},
   "outputs": [
    {
     "ename": "NameError",
     "evalue": "name 'origin' is not defined",
     "output_type": "error",
     "traceback": [
      "\u001b[1;31m---------------------------------------------------------------------------\u001b[0m",
      "\u001b[1;31mNameError\u001b[0m                                 Traceback (most recent call last)",
      "\u001b[1;32m<ipython-input-82-fa5340b3aa9d>\u001b[0m in \u001b[0;36m<module>\u001b[1;34m\u001b[0m\n\u001b[0;32m      1\u001b[0m \u001b[0mfinal_picture1\u001b[0m \u001b[1;33m=\u001b[0m \u001b[0mcompress_skeleton\u001b[0m\u001b[1;33m(\u001b[0m\u001b[0mskeletons\u001b[0m\u001b[1;33m[\u001b[0m\u001b[1;36m3\u001b[0m\u001b[1;33m]\u001b[0m\u001b[1;33m,\u001b[0m\u001b[1;36m5\u001b[0m\u001b[1;33m)\u001b[0m\u001b[1;33m\u001b[0m\u001b[1;33m\u001b[0m\u001b[0m\n\u001b[0;32m      2\u001b[0m \u001b[0mfinal_picture2\u001b[0m \u001b[1;33m=\u001b[0m \u001b[0mcompress_skeleton\u001b[0m\u001b[1;33m(\u001b[0m\u001b[0mskeletons\u001b[0m\u001b[1;33m[\u001b[0m\u001b[1;36m4\u001b[0m\u001b[1;33m]\u001b[0m\u001b[1;33m,\u001b[0m\u001b[1;36m5\u001b[0m\u001b[1;33m)\u001b[0m\u001b[1;33m\u001b[0m\u001b[1;33m\u001b[0m\u001b[0m\n\u001b[1;32m----> 3\u001b[1;33m \u001b[0mplot_t_tp1\u001b[0m\u001b[1;33m(\u001b[0m\u001b[0morigin\u001b[0m\u001b[1;33m,\u001b[0m\u001b[0manastomosis\u001b[0m\u001b[1;33m,\u001b[0m\u001b[0mnew_pos1\u001b[0m\u001b[1;33m,\u001b[0m\u001b[0mnew_pos2\u001b[0m\u001b[1;33m,\u001b[0m\u001b[0mfinal_picture1\u001b[0m\u001b[1;33m,\u001b[0m\u001b[0mfinal_picture2\u001b[0m\u001b[1;33m,\u001b[0m\u001b[0mcompress\u001b[0m\u001b[1;33m=\u001b[0m\u001b[1;36m5\u001b[0m\u001b[1;33m)\u001b[0m\u001b[1;33m\u001b[0m\u001b[1;33m\u001b[0m\u001b[0m\n\u001b[0m",
      "\u001b[1;31mNameError\u001b[0m: name 'origin' is not defined"
     ]
    }
   ],
   "source": [
    "final_picture1 = compress_skeleton(skeletons[3],5)\n",
    "final_picture2 = compress_skeleton(skeletons[4],5)\n",
    "plot_t_tp1(origin,anastomosis,new_pos1,new_pos2,final_picture1,final_picture2,compress=5)"
   ]
  },
  {
   "cell_type": "code",
   "execution_count": 162,
   "metadata": {},
   "outputs": [
    {
     "data": {
      "text/plain": [
       "517"
      ]
     },
     "execution_count": 162,
     "metadata": {},
     "output_type": "execute_result"
    }
   ],
   "source": [
    "new_connection[0][950]"
   ]
  },
  {
   "cell_type": "code",
   "execution_count": null,
   "metadata": {},
   "outputs": [],
   "source": [
    "plot_t_tp1([],anastomosiss[3],poss[3],poss[4],final_picture1,final_picture2,compress=5)"
   ]
  },
  {
   "cell_type": "code",
   "execution_count": 61,
   "metadata": {},
   "outputs": [
    {
     "name": "stdout",
     "output_type": "stream",
     "text": [
      "0.0\n",
      "0.3003003003003003\n",
      "0.6006006006006006\n",
      "0.9009009009009009\n"
     ]
    }
   ],
   "source": [
    "tip_origin_t0m2_t0m1,pixels_from_tip= whole_movement_identification(nx_graph_clean[3],nx_graph_clean[4],poss[3],poss[4])"
   ]
  },
  {
   "cell_type": "code",
   "execution_count": 1,
   "metadata": {},
   "outputs": [
    {
     "ename": "NameError",
     "evalue": "name 'growth_pattern' is not defined",
     "output_type": "error",
     "traceback": [
      "\u001b[1;31m---------------------------------------------------------------------------\u001b[0m",
      "\u001b[1;31mNameError\u001b[0m                                 Traceback (most recent call last)",
      "\u001b[1;32m<ipython-input-1-06b9adbe1f15>\u001b[0m in \u001b[0;36m<module>\u001b[1;34m\u001b[0m\n\u001b[1;32m----> 1\u001b[1;33m \u001b[0mgrowth_pattern\u001b[0m\u001b[1;33m[\u001b[0m\u001b[1;36m3\u001b[0m\u001b[1;33m]\u001b[0m\u001b[1;33m[\u001b[0m\u001b[1;36m144\u001b[0m\u001b[1;33m]\u001b[0m\u001b[1;33m\u001b[0m\u001b[1;33m\u001b[0m\u001b[0m\n\u001b[0m",
      "\u001b[1;31mNameError\u001b[0m: name 'growth_pattern' is not defined"
     ]
    }
   ],
   "source": [
    "growth_pattern[3][144]"
   ]
  },
  {
   "cell_type": "code",
   "execution_count": 65,
   "metadata": {},
   "outputs": [
    {
     "data": {
      "text/plain": [
       "[51029513]"
      ]
     },
     "execution_count": 65,
     "metadata": {},
     "output_type": "execute_result"
    }
   ],
   "source": [
    "[node for node in poss[3].keys() if list(poss[3][node])==[18131, 2170]]"
   ]
  },
  {
   "cell_type": "code",
   "execution_count": 67,
   "metadata": {},
   "outputs": [
    {
     "data": {
      "text/plain": [
       "[108413058]"
      ]
     },
     "execution_count": 67,
     "metadata": {},
     "output_type": "execute_result"
    }
   ],
   "source": [
    "[node for node in poss[3].keys() if list(poss[3][node])==[18130, 2193]]"
   ]
  },
  {
   "cell_type": "code",
   "execution_count": 78,
   "metadata": {},
   "outputs": [
    {
     "data": {
      "text/plain": [
       "[106770630]"
      ]
     },
     "execution_count": 78,
     "metadata": {},
     "output_type": "execute_result"
    }
   ],
   "source": [
    "[node for node in poss[3].keys() if list(poss[3][node])==[17776,2083]]"
   ]
  },
  {
   "cell_type": "code",
   "execution_count": 2,
   "metadata": {},
   "outputs": [
    {
     "ename": "NameError",
     "evalue": "name 'pixels_from_tip' is not defined",
     "output_type": "error",
     "traceback": [
      "\u001b[1;31m---------------------------------------------------------------------------\u001b[0m",
      "\u001b[1;31mNameError\u001b[0m                                 Traceback (most recent call last)",
      "\u001b[1;32m<ipython-input-2-86db52df40ba>\u001b[0m in \u001b[0;36m<module>\u001b[1;34m\u001b[0m\n\u001b[1;32m----> 1\u001b[1;33m \u001b[0mgrowths\u001b[0m\u001b[1;33m=\u001b[0m\u001b[1;33m[\u001b[0m\u001b[0mlen\u001b[0m\u001b[1;33m(\u001b[0m\u001b[0mpixels\u001b[0m\u001b[1;33m)\u001b[0m \u001b[1;32mfor\u001b[0m \u001b[0mpixels\u001b[0m \u001b[1;32min\u001b[0m \u001b[0mpixels_from_tip\u001b[0m\u001b[1;33m.\u001b[0m\u001b[0mvalues\u001b[0m\u001b[1;33m(\u001b[0m\u001b[1;33m)\u001b[0m\u001b[1;33m]\u001b[0m\u001b[1;33m\u001b[0m\u001b[1;33m\u001b[0m\u001b[0m\n\u001b[0m",
      "\u001b[1;31mNameError\u001b[0m: name 'pixels_from_tip' is not defined"
     ]
    }
   ],
   "source": [
    "growths=[len(pixels) for pixels in pixels_from_tip.values()]"
   ]
  },
  {
   "cell_type": "code",
   "execution_count": 25,
   "metadata": {},
   "outputs": [],
   "source": [
    "skeleton_docs_aligned = [sparse.dok_matrix(sparse.load_npz(f'Data/skeleton_{date}_{plate}_full.npz')) for date in dates]\n"
   ]
  },
  {
   "cell_type": "code",
   "execution_count": 91,
   "metadata": {},
   "outputs": [],
   "source": [
    "pos_problem=[18131, 2170]\n",
    "xbegin=pos_problem[0]-2000\n",
    "ybegin=pos_problem[1]-2000\n",
    "xend=pos_problem[0]+2000\n",
    "yend=pos_problem[1]+2000\n",
    "skeletons_small=[]\n",
    "for skeleton in dic_skels:\n",
    "    skeletons_small.append(skeleton[xbegin:xend,ybegin:yend])\n",
    "node_smalls=[]\n",
    "for i,nx_graph in enumerate(nx_graph_clean):\n",
    "    node_smalls.append([node for node in nx_graph.nodes if (xbegin<poss[i][node][0]<xend and ybegin<poss[i][node][1]<yend and nx_graph.degree(node)>=1)])"
   ]
  },
  {
   "cell_type": "code",
   "execution_count": null,
   "metadata": {},
   "outputs": [],
   "source": [
    "100 613 2129 [18131  2170]\n",
    "101 613 1694 [18130  2193]\n",
    "102 613 1683 [17937  2349]\n",
    "103 613 1604 [17061  2166]\n",
    "104 613 1961 [17776  2083]"
   ]
  },
  {
   "cell_type": "code",
   "execution_count": 89,
   "metadata": {},
   "outputs": [],
   "source": [
    "from pymatreader import read_mat\n",
    "from extract_graph import dic_to_sparse, from_sparse_to_graph, generate_nx_graph, prune_graph, from_nx_to_tab\n",
    "mat_skels=[read_mat(get_path(date,plate,True))['skel'] for date in dates]\n",
    "dic_skels=[dic_to_sparse(mat_skel) for mat_skel in mat_skels]\n",
    "skeleton_docs=[sparse.dok_matrix(dic_skel) for dic_skel in dic_skels]"
   ]
  },
  {
   "cell_type": "code",
   "execution_count": 96,
   "metadata": {},
   "outputs": [],
   "source": [
    "skeleton_docs=[sparse.dok_matrix(dic_skel) for dic_skel in dic_skels]"
   ]
  },
  {
   "cell_type": "code",
   "execution_count": 94,
   "metadata": {},
   "outputs": [
    {
     "data": {
      "application/vnd.jupyter.widget-view+json": {
       "model_id": "25d936ad285843e1926445e459a9ebd0",
       "version_major": 2,
       "version_minor": 0
      },
      "text/plain": [
       "Canvas(toolbar=Toolbar(toolitems=[('Home', 'Reset original view', 'home', 'home'), ('Back', 'Back to previous …"
      ]
     },
     "metadata": {},
     "output_type": "display_data"
    }
   ],
   "source": [
    "plot_t_tp1([51029513,108413058,106770630],[51029513,108413058,106770630],poss[3],poss[4],skeletons_small[2].todense(),skeletons_small[3].todense(),shift=(xbegin,ybegin))final_picture1 = compress_skeleton(skeletons[3],500)\n",
    "final_picture2 = compress_skeleton(skeletons[4],500)"
   ]
  },
  {
   "cell_type": "code",
   "execution_count": 119,
   "metadata": {},
   "outputs": [],
   "source": [
    "final_picture1 = compress_skeleton(skeleton_docs_aligned[3],5)\n",
    "final_picture2 = compress_skeleton(skeleton_docs_aligned[4],5)"
   ]
  },
  {
   "cell_type": "code",
   "execution_count": 120,
   "metadata": {},
   "outputs": [
    {
     "data": {
      "application/vnd.jupyter.widget-view+json": {
       "model_id": "75d4e2855a764db1ba87202e7d1638c5",
       "version_major": 2,
       "version_minor": 0
      },
      "text/plain": [
       "Canvas(toolbar=Toolbar(toolitems=[('Home', 'Reset original view', 'home', 'home'), ('Back', 'Back to previous …"
      ]
     },
     "metadata": {},
     "output_type": "display_data"
    }
   ],
   "source": [
    "plot_t_tp1([51029513,108413058,106770630],[51029513,108413058,106770630],poss[3],poss[4],final_picture1,final_picture2,compress=5)"
   ]
  },
  {
   "cell_type": "code",
   "execution_count": 121,
   "metadata": {},
   "outputs": [
    {
     "data": {
      "text/plain": [
       "(3412.2, 433.2)"
      ]
     },
     "execution_count": 121,
     "metadata": {},
     "output_type": "execute_result"
    }
   ],
   "source": [
    "17061/5,2166/5"
   ]
  },
  {
   "cell_type": "code",
   "execution_count": 104,
   "metadata": {},
   "outputs": [
    {
     "data": {
      "application/vnd.jupyter.widget-view+json": {
       "model_id": "8f50f0e38ad94eb7ae18a3c1db231c4a",
       "version_major": 2,
       "version_minor": 0
      },
      "text/plain": [
       "Canvas(toolbar=Toolbar(toolitems=[('Home', 'Reset original view', 'home', 'home'), ('Back', 'Back to previous …"
      ]
     },
     "metadata": {},
     "output_type": "display_data"
    },
    {
     "data": {
      "text/plain": [
       "(array([109.,  37.,  51.,  48.,  14.,  14.,  35.,  13.,   9.,   3.]),\n",
       " array([0.        , 0.84031282, 1.68062565, 2.52093847, 3.36125129,\n",
       "        4.20156412, 5.04187694, 5.88218976, 6.72250259, 7.56281541,\n",
       "        8.40312824]),\n",
       " <BarContainer object of 10 artists>)"
      ]
     },
     "execution_count": 104,
     "metadata": {},
     "output_type": "execute_result"
    }
   ],
   "source": [
    "fig = plt.figure()\n",
    "ax = fig.add_subplot(111)\n",
    "ax.hist(np.log(np.array(growths)+1),10)"
   ]
  },
  {
   "cell_type": "code",
   "execution_count": 97,
   "metadata": {},
   "outputs": [],
   "source": [
    "final_picture1 = compress_skeleton(skeletons[3],500)\n",
    "final_picture2 = compress_skeleton(skeletons[4],500)"
   ]
  },
  {
   "cell_type": "code",
   "execution_count": 100,
   "metadata": {},
   "outputs": [
    {
     "data": {
      "application/vnd.jupyter.widget-view+json": {
       "model_id": "5bd56a8fc22a46acb2f967634e292afb",
       "version_major": 2,
       "version_minor": 0
      },
      "text/plain": [
       "Canvas(toolbar=Toolbar(toolitems=[('Home', 'Reset original view', 'home', 'home'), ('Back', 'Back to previous …"
      ]
     },
     "metadata": {},
     "output_type": "display_data"
    }
   ],
   "source": [
    "plot_t_tp1([],[],poss[1],poss[2],final_picture,final_picture1,compress=5)"
   ]
  },
  {
   "cell_type": "code",
   "execution_count": 95,
   "metadata": {},
   "outputs": [],
   "source": [
    "pos_problem=(26*500,48*500)\n",
    "xbegin=pos_problem[0]-1000\n",
    "ybegin=pos_problem[1]-1000\n",
    "xend=pos_problem[0]+1000\n",
    "yend=pos_problem[1]+1000\n",
    "skeletons_small=[]\n",
    "for skeleton in skeletons:\n",
    "    skeletons_small.append(skeleton[xbegin:xend,ybegin:yend])\n",
    "node_smalls=[]\n",
    "for i,nx_graph in enumerate(nx_graph_clean):\n",
    "    node_smalls.append([node for node in nx_graph.nodes if (xbegin<poss[i][node][0]<xend and ybegin<poss[i][node][1]<yend and nx_graph.degree(node)>=1)])"
   ]
  },
  {
   "cell_type": "code",
   "execution_count": 96,
   "metadata": {},
   "outputs": [
    {
     "data": {
      "application/vnd.jupyter.widget-view+json": {
       "model_id": "c6fe6289811743ccbc0e1ccf5cfa7249",
       "version_major": 2,
       "version_minor": 0
      },
      "text/plain": [
       "Canvas(toolbar=Toolbar(toolitems=[('Home', 'Reset original view', 'home', 'home'), ('Back', 'Back to previous …"
      ]
     },
     "metadata": {},
     "output_type": "display_data"
    }
   ],
   "source": [
    "plot_t_tp1(node_smalls[3],node_smalls[4],poss[3],poss[4],skeletons_small[3].todense(),skeletons_small[4].todense(),shift=(xbegin,ybegin))"
   ]
  },
  {
   "cell_type": "code",
   "execution_count": null,
   "metadata": {},
   "outputs": [],
   "source": [
    "def from_nx_to_tab(nx_graph,pos,tip_origin_corresp,pixel_from_tip):\n",
    "    column_names = [\"origin_label\",\"end_label\",\"origin_pos\", \"end_pos\", \"pixel_list\"]\n",
    "    tab = pd.DataFrame(columns=column_names)\n",
    "    for edge in nx_graph.edges:\n",
    "        origin_label=edge[0]\n",
    "        end_label=edge[1]\n",
    "        origin_pos=pos[origin_label]\n",
    "        end_pos = pos[end_label]\n",
    "        pixel_list=orient(nx_graph.get_edge_data(*edge)['pixel_list'],origin_pos)\n",
    "        new_line=pd.DataFrame({\"origin_label\":[origin_label],\"end_label\" : [end_label], \"origin_pos\":[origin_pos], \"end_pos\" : [end_pos], \"pixel_list\" : [pixel_list]})\n",
    "        tab=tab.append(new_line,ignore_index=True)\n",
    "    return(tab)"
   ]
  },
  {
   "cell_type": "code",
   "execution_count": 388,
   "metadata": {},
   "outputs": [
    {
     "data": {
      "text/plain": [
       "(13000, 7000)"
      ]
     },
     "execution_count": 388,
     "metadata": {},
     "output_type": "execute_result"
    }
   ],
   "source": [
    "26*500,14*500"
   ]
  },
  {
   "cell_type": "code",
   "execution_count": 389,
   "metadata": {},
   "outputs": [],
   "source": [
    "pos_problem=(13000, 7000)\n",
    "xbegin=pos_problem[0]-2000\n",
    "ybegin=pos_problem[1]-2000\n",
    "xend=pos_problem[0]+2000\n",
    "yend=pos_problem[1]+2000\n",
    "skeletons_small=[]\n",
    "for skeleton in skeletons:\n",
    "    skeletons_small.append(skeleton[xbegin:xend,ybegin:yend])\n",
    "node_smalls=[]\n",
    "for i,nx_graph in enumerate(nx_graphs_aligned):\n",
    "    node_smalls.append([node for node in nx_graph.nodes if (xbegin<poss_aligned[i][node][0]<xend and ybegin<poss_aligned[i][node][1]<yend and nx_graph.degree(node)==1)])"
   ]
  },
  {
   "cell_type": "code",
   "execution_count": 390,
   "metadata": {},
   "outputs": [
    {
     "data": {
      "application/vnd.jupyter.widget-view+json": {
       "model_id": "37fecd1b8e2a43a08516f4d172f825cc",
       "version_major": 2,
       "version_minor": 0
      },
      "text/plain": [
       "Canvas(toolbar=Toolbar(toolitems=[('Home', 'Reset original view', 'home', 'home'), ('Back', 'Back to previous …"
      ]
     },
     "metadata": {},
     "output_type": "display_data"
    }
   ],
   "source": [
    "plot_t_tp1(node_smalls[0],node_smalls[1],poss_aligned[0],poss_aligned[1],skeletons_small[0].todense(),skeletons_small[1].todense(),shift=(xbegin,ybegin))"
   ]
  },
  {
   "cell_type": "code",
   "execution_count": 244,
   "metadata": {},
   "outputs": [
    {
     "data": {
      "text/plain": [
       "array([19343, 33314])"
      ]
     },
     "execution_count": 244,
     "metadata": {},
     "output_type": "execute_result"
    }
   ],
   "source": [
    "poss_aligned[1][5136]"
   ]
  },
  {
   "cell_type": "code",
   "execution_count": 315,
   "metadata": {},
   "outputs": [
    {
     "data": {
      "text/plain": [
       "197"
      ]
     },
     "execution_count": 315,
     "metadata": {},
     "output_type": "execute_result"
    }
   ],
   "source": [
    "len(pixels_from_tip[27])"
   ]
  }
 ],
 "metadata": {
  "kernelspec": {
   "display_name": "cleanMsc",
   "language": "python",
   "name": "cleanmsc"
  },
  "language_info": {
   "codemirror_mode": {
    "name": "ipython",
    "version": 3
   },
   "file_extension": ".py",
   "mimetype": "text/x-python",
   "name": "python",
   "nbconvert_exporter": "python",
   "pygments_lexer": "ipython3",
   "version": "3.7.8"
  }
 },
 "nbformat": 4,
 "nbformat_minor": 4
}

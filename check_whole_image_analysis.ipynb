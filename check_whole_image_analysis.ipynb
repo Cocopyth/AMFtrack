{
 "cells": [
  {
   "cell_type": "code",
   "execution_count": 38,
   "metadata": {},
   "outputs": [],
   "source": [
    "%matplotlib widget\n",
    "from util import get_path\n",
    "import pandas as pd\n",
    "import networkx as nx\n",
    "import numpy as np\n",
    "import matplotlib.pyplot as plt\n",
    "from extract_graph import generate_nx_graph, transform_list, generate_skeleton, generate_nx_graph_from_skeleton, from_connection_tab\n",
    "from node_id import whole_movement_identification, second_identification\n",
    "import ast\n",
    "from plotutil import plot_t_tp1, compress_skeleton\n",
    "from scipy import sparse\n",
    "from sparse_util import dilate, zhangSuen\n",
    "from realign import realign\n",
    "import csv\n",
    "from datetime import datetime,timedelta\n",
    "import cv2\n",
    "import scipy.io as sio"
   ]
  },
  {
   "cell_type": "code",
   "execution_count": 2,
   "metadata": {},
   "outputs": [],
   "source": [
    "plate = 13\n",
    "date_init = datetime(2020,7,1,19,57)\n",
    "dates_datetime = [date_init+timedelta(hours=4)*i for i in range(24)]\n",
    "dates = [f'{0 if date.month<10 else \"\"}{date.month}{0 if date.day<10 else \"\"}{date.day}_{0 if date.hour<10 else \"\"}{date.hour}{0 if date.minute<10 else \"\"}{date.minute}' for date in dates_datetime]"
   ]
  },
  {
   "cell_type": "code",
   "execution_count": 3,
   "metadata": {},
   "outputs": [],
   "source": [
    "tabs_labeled=[]\n",
    "for date in dates:\n",
    "    tabs_labeled.append(pd.read_csv(get_path(date,plate,True,extension='_full_labeled.csv'),\n",
    "                                    converters={'origin_pos' : transform_list,'end_pos' : transform_list,'pixel_list' : ast.literal_eval}))"
   ]
  },
  {
   "cell_type": "code",
   "execution_count": 6,
   "metadata": {},
   "outputs": [],
   "source": [
    "tabs_labeled=[]\n",
    "for date in dates:\n",
    "    tabs_labeled.append(pd.read_csv(f'Data/graph_{date}_{plate}_full_labeled.csv',\n",
    "                                    converters={'origin_pos' : transform_list,'end_pos' : transform_list,'pixel_list' : ast.literal_eval}))"
   ]
  },
  {
   "cell_type": "code",
   "execution_count": 4,
   "metadata": {},
   "outputs": [],
   "source": [
    "from_tip_growth_pattern=[]\n",
    "for date in dates[:-1]:\n",
    "    from_tip_growth_pattern.append(from_connection_tab(pd.read_csv(get_path(date,plate,True,extension='_connection.csv'))))"
   ]
  },
  {
   "cell_type": "code",
   "execution_count": null,
   "metadata": {},
   "outputs": [],
   "source": [
    "from_tip_growth_pattern=[]\n",
    "for date in dates[:-1]:\n",
    "    from_tip_growth_pattern.append(from_connection_tab(pd.read_csv(f'Data/connection_{date}_{plate}.csv')))"
   ]
  },
  {
   "cell_type": "code",
   "execution_count": 5,
   "metadata": {},
   "outputs": [],
   "source": [
    "nx_graphs=[]\n",
    "poss=[]\n",
    "for tab in tabs_labeled:\n",
    "    nx_graph,pos=generate_nx_graph(tab,labeled=True)\n",
    "    nx_graphs.append(nx_graph)\n",
    "    poss.append(pos)"
   ]
  },
  {
   "cell_type": "code",
   "execution_count": 6,
   "metadata": {},
   "outputs": [],
   "source": [
    "nx_graph_clean=[]\n",
    "for graph in nx_graphs:\n",
    "    S = [graph.subgraph(c).copy() for c in nx.connected_components(graph)]\n",
    "    len_connected=[len(nx_graph.nodes) for nx_graph in S]\n",
    "    nx_graph_clean.append(S[np.argmax(len_connected)])"
   ]
  },
  {
   "cell_type": "code",
   "execution_count": 7,
   "metadata": {},
   "outputs": [],
   "source": [
    "skeletons=[]\n",
    "for nx_graph in nx_graph_clean:\n",
    "    skeletons.append(generate_skeleton(nx_graph,dim=(20800, 46000)))"
   ]
  },
  {
   "cell_type": "code",
   "execution_count": 8,
   "metadata": {},
   "outputs": [],
   "source": [
    "factor = 5\n",
    "final_pictures = [compress_skeleton(skeletons[i],factor)>=1 for i in range(len(skeletons))]"
   ]
  },
  {
   "cell_type": "code",
   "execution_count": 9,
   "metadata": {},
   "outputs": [],
   "source": [
    "connections = [c[0] for c in from_tip_growth_pattern]\n",
    "growth_patterns = [c[1] for c in from_tip_growth_pattern]"
   ]
  },
  {
   "cell_type": "code",
   "execution_count": 10,
   "metadata": {},
   "outputs": [],
   "source": [
    "growths = [{tip : sum([len(branch) for branch in growth_pattern[tip]]) for tip in growth_pattern.keys()} for growth_pattern in growth_patterns]"
   ]
  },
  {
   "cell_type": "code",
   "execution_count": 42,
   "metadata": {},
   "outputs": [
    {
     "data": {
      "application/vnd.jupyter.widget-view+json": {
       "model_id": "51b2a23fd4984a2f9db5e875027a9566",
       "version_major": 2,
       "version_minor": 0
      },
      "text/plain": [
       "Canvas(toolbar=Toolbar(toolitems=[('Home', 'Reset original view', 'home', 'home'), ('Back', 'Back to previous …"
      ]
     },
     "metadata": {},
     "output_type": "display_data"
    }
   ],
   "source": [
    "degree1_nodes = [[node for node in nx_graph.nodes if nx_graph.degree(node)==1 and node not in nx_graph_clean[i+1].nodes] for i,nx_graph in enumerate(nx_graph_clean[:-1])]\n",
    "# degree1_nodes = [[node for node in nx_graph.nodes if nx_graph.degree(node)==3] for i,nx_graph in enumerate(nx_graph_clean[:-1])]\n",
    "t=1\n",
    "tp1=t+1\n",
    "plot_t_tp1(degree1_nodes[t],degree1_nodes[tp1],poss[t],poss[tp1],final_pictures[t],final_pictures[tp1],compress=5,)"
   ]
  },
  {
   "cell_type": "code",
   "execution_count": 24,
   "metadata": {},
   "outputs": [],
   "source": [
    "plt.close('all')"
   ]
  },
  {
   "cell_type": "code",
   "execution_count": 11,
   "metadata": {},
   "outputs": [],
   "source": [
    "growing_tips=[[node for node in growths[i].keys() if growths[i][node]>=80] for i in range(len(growths))]"
   ]
  },
  {
   "cell_type": "code",
   "execution_count": 41,
   "metadata": {},
   "outputs": [
    {
     "data": {
      "application/vnd.jupyter.widget-view+json": {
       "model_id": "8f6630a4206148dfba46477edd5449c2",
       "version_major": 2,
       "version_minor": 0
      },
      "text/plain": [
       "Canvas(toolbar=Toolbar(toolitems=[('Home', 'Reset original view', 'home', 'home'), ('Back', 'Back to previous …"
      ]
     },
     "metadata": {},
     "output_type": "display_data"
    }
   ],
   "source": [
    "t=0\n",
    "tp1=t+1\n",
    "plot_t_tp1(growing_tips[t],growing_tips[t],poss[t],poss[tp1],final_pictures[t],final_pictures[tp1],compress=5,)"
   ]
  },
  {
   "cell_type": "code",
   "execution_count": null,
   "metadata": {},
   "outputs": [],
   "source": [
    "plot_t_tp1(degree3_nodes[t],degree3_nodes[tp1],poss[t],poss[tp1],final_pictures[t],final_pictures[tp1],compress=5)"
   ]
  },
  {
   "cell_type": "code",
   "execution_count": 18,
   "metadata": {},
   "outputs": [],
   "source": [
    "def pinpoint_anastomosis(nx_graph_tm1,nx_grapht,from_tip,pos_tm1):\n",
    "    anastomosis=[]\n",
    "    origins=[]\n",
    "    tips = [node for node in nx_graph_tm1.nodes if nx_graph_tm1.degree(node)==1]\n",
    "    number_anastomosis = 0\n",
    "    def dist_branch(node,nx_graph,pos):\n",
    "        mini=np.inf\n",
    "        for edge in nx_graph.edges:\n",
    "            pixel_list=nx_graph.get_edge_data(*edge)['pixel_list']\n",
    "            if np.linalg.norm(np.array(pixel_list[0])-np.array(pos[node]))<=5000:\n",
    "                distance=np.min(np.linalg.norm(np.array(pixel_list)-np.array(pos[node]),axis=1))\n",
    "                if distance<mini:\n",
    "                    mini=distance\n",
    "        return(mini)\n",
    "    def count_neighbors_is_from_root(equ_list,nx_graph,root):\n",
    "        count=0\n",
    "        for neighbor in nx_graph.neighbors(root):\n",
    "            if neighbor in equ_list:\n",
    "                count+=1\n",
    "        return(count)\n",
    "    for tip in tips:\n",
    "#         print(tip)\n",
    "        consequence = from_tip[tip]\n",
    "        for node in consequence:\n",
    "            if node in nx_grapht.nodes and nx_grapht.degree(node)>=3 and count_neighbors_is_from_root(consequence,nx_grapht,node)<2:\n",
    "#                 if node==2753:\n",
    "#                     print(count_neighbors_is_from_root(consequence,nx_grapht,node))\n",
    "#                     print(list(nx_grapht.neighbors(node)))\n",
    "                anastomosis.append(node)\n",
    "                origins.append(tip)\n",
    "                number_anastomosis+=1\n",
    "        if tip not in nx_grapht.nodes and dist_branch(tip,nx_grapht,pos_tm1)<=30 and nx_graph_tm1.get_edge_data(*list(nx_graph_tm1.edges(tip))[0])['weight']>=20:\n",
    "            origins.append(tip)\n",
    "            number_anastomosis+=1/2\n",
    "    return(anastomosis,origins,number_anastomosis)"
   ]
  },
  {
   "cell_type": "code",
   "execution_count": 15,
   "metadata": {},
   "outputs": [],
   "source": [
    "def pinpoint_anastomosis2(nx_graph_tm1,nx_grapht,from_tip,pos_tm1):\n",
    "    anastomosis=[]\n",
    "    origins=[]\n",
    "    tips = [node for node in nx_graph_tm1.nodes if nx_graph_tm1.degree(node)==1]\n",
    "    number_anastomosis = 0\n",
    "    def dist_branch(node,nx_graph,pos):\n",
    "        mini=np.inf\n",
    "        for edge in nx_graph.edges:\n",
    "            pixel_list=nx_graph.get_edge_data(*edge)['pixel_list']\n",
    "            if np.linalg.norm(np.array(pixel_list[0])-np.array(pos[node]))<=5000:\n",
    "                distance=np.min(np.linalg.norm(np.array(pixel_list)-np.array(pos[node]),axis=1))\n",
    "                if distance<mini:\n",
    "                    mini=distance\n",
    "        return(mini)\n",
    "    def count_neighbors_is_from_root(equ_list,nx_graph,root):\n",
    "        count=0\n",
    "        for neighbor in nx_graph.neighbors(root):\n",
    "            if neighbor in equ_list:\n",
    "                count+=1\n",
    "        return(count)\n",
    "    for tip in tips:\n",
    "#         print(tip)\n",
    "        consequence = from_tip[tip]\n",
    "        for node in consequence:\n",
    "            if node in nx_grapht.nodes and nx_grapht.degree(node)>=3 and count_neighbors_is_from_root(consequence,nx_grapht,node)<2:\n",
    "#                 if node==2753:\n",
    "#                     print(count_neighbors_is_from_root(consequence,nx_grapht,node))\n",
    "#                     print(list(nx_grapht.neighbors(node)))\n",
    "                anastomosis.append(node)\n",
    "                origins.append(tip)\n",
    "                number_anastomosis+=1\n",
    "        if tip not in nx_grapht.nodes and nx_graph_tm1.get_edge_data(*list(nx_graph_tm1.edges(tip))[0])['weight']>=20:\n",
    "            origins.append(tip)\n",
    "            number_anastomosis+=1/2\n",
    "    return(anastomosis,origins,number_anastomosis)"
   ]
  },
  {
   "cell_type": "code",
   "execution_count": 21,
   "metadata": {},
   "outputs": [],
   "source": [
    "def find_origin_tip(node,from_tip):\n",
    "    for tip in from_tip.keys():\n",
    "        if node in from_tip[tip]:\n",
    "            return(tip)"
   ]
  },
  {
   "cell_type": "code",
   "execution_count": 16,
   "metadata": {},
   "outputs": [],
   "source": [
    "anas_result=[pinpoint_anastomosis2(nx_graph_clean[i],nx_graph_clean[i+1], connections[i],poss[i]) for i in range (len(dates)-1)]"
   ]
  },
  {
   "cell_type": "code",
   "execution_count": 19,
   "metadata": {},
   "outputs": [],
   "source": [
    "anas_result=[pinpoint_anastomosis(nx_graph_clean[i],nx_graph_clean[i+1], connections[i],poss[i]) for i in range (len(dates)-1)]\n",
    "anastomosiss=[ana_result[0] for ana_result in anas_result]\n",
    "origins=[ana_result[1] for ana_result in anas_result]\n",
    "number_an = [ana_result[2] for ana_result in anas_result]"
   ]
  },
  {
   "cell_type": "code",
   "execution_count": 22,
   "metadata": {},
   "outputs": [
    {
     "data": {
      "application/vnd.jupyter.widget-view+json": {
       "model_id": "aca2e926686e467cb289d75ca27f3dcd",
       "version_major": 2,
       "version_minor": 0
      },
      "text/plain": [
       "Canvas(toolbar=Toolbar(toolitems=[('Home', 'Reset original view', 'home', 'home'), ('Back', 'Back to previous …"
      ]
     },
     "metadata": {},
     "output_type": "display_data"
    }
   ],
   "source": [
    "t=1\n",
    "tp1=t+1\n",
    "plot_t_tp1(origins[t],anastomosiss[t],poss[t],poss[tp1],final_pictures[t],final_pictures[tp1],\n",
    "           compress=5,time='4h',relabel_tp1=lambda node : find_origin_tip(node,connections[t]))"
   ]
  },
  {
   "cell_type": "code",
   "execution_count": 131,
   "metadata": {},
   "outputs": [],
   "source": [
    "plt.close('all')"
   ]
  },
  {
   "cell_type": "code",
   "execution_count": 58,
   "metadata": {},
   "outputs": [],
   "source": [
    "from sparse_util import dilate\n",
    "node_interest=25\n",
    "window=1000\n",
    "pos_problem=poss[t][node_interest]\n",
    "xbegin=pos_problem[0]-window\n",
    "ybegin=pos_problem[1]-window\n",
    "xend=pos_problem[0]+window\n",
    "yend=pos_problem[1]+window\n",
    "skeletons_small=[]\n",
    "for skeleton in skeletons:\n",
    "    skeletons_small.append(skeleton[xbegin:xend,ybegin:yend])\n",
    "node_smalls=[]\n",
    "for i,nx_graph in enumerate(nx_graph_clean):\n",
    "    node_smalls.append([node for node in nx_graph.nodes if (xbegin<poss[i][node][0]<xend and ybegin<poss[i][node][1]<yend and nx_graph.degree(node)>=1)])\n",
    "kernel = np.ones((5,5),np.uint8)\n",
    "skeletons_small_dilated=[cv2.dilate(skeleton.todense().astype(np.uint8),kernel,iterations = 1) for skeleton in skeletons_small]\n",
    "\n"
   ]
  },
  {
   "cell_type": "code",
   "execution_count": 59,
   "metadata": {},
   "outputs": [
    {
     "data": {
      "application/vnd.jupyter.widget-view+json": {
       "model_id": "7eeddc31f9614068a0e9f5cf99812686",
       "version_major": 2,
       "version_minor": 0
      },
      "text/plain": [
       "Canvas(toolbar=Toolbar(toolitems=[('Home', 'Reset original view', 'home', 'home'), ('Back', 'Back to previous …"
      ]
     },
     "metadata": {},
     "output_type": "display_data"
    }
   ],
   "source": [
    "plot_t_tp1(node_smalls[t],node_smalls[tp1],poss[t],poss[tp1],skeletons_small_dilated[t],skeletons_small_dilated[tp1],shift=(xbegin,ybegin),time=f't={4*tp1}h')"
   ]
  },
  {
   "cell_type": "code",
   "execution_count": 24,
   "metadata": {},
   "outputs": [],
   "source": [
    "def make_sparse(dico):\n",
    "    dim=(20800, 46000)\n",
    "    skel = sparse.dok_matrix(dim, dtype=bool)\n",
    "    for key in dico.keys():\n",
    "        skel[key]=dico[key]\n",
    "    return(skel)"
   ]
  },
  {
   "cell_type": "code",
   "execution_count": 38,
   "metadata": {},
   "outputs": [],
   "source": [
    "skeleton_dilated_dilated=make_sparse(dilate(dilate(skeletons[0])))\n",
    "skeleton_dilated=make_sparse(dilate(skeletons[0]))"
   ]
  },
  {
   "cell_type": "code",
   "execution_count": 40,
   "metadata": {},
   "outputs": [
    {
     "name": "stdout",
     "output_type": "stream",
     "text": [
      "772031 771717\n",
      "774151 773239\n",
      "7295 292\n",
      "11 2\n",
      "0 0\n"
     ]
    }
   ],
   "source": [
    "from sparse_util import dilate,zhangSuen\n",
    "skeleton_thinned=make_sparse(zhangSuen(dilate(dilate(skeletons[0]))))"
   ]
  },
  {
   "cell_type": "code",
   "execution_count": 36,
   "metadata": {},
   "outputs": [],
   "source": [
    "node_interest=5119\n",
    "pos_problem=poss[t][node_interest]\n",
    "xbegin=pos_problem[0]-500\n",
    "ybegin=pos_problem[1]-500\n",
    "xend=pos_problem[0]+500\n",
    "yend=pos_problem[1]+500"
   ]
  },
  {
   "cell_type": "code",
   "execution_count": 41,
   "metadata": {},
   "outputs": [
    {
     "data": {
      "application/vnd.jupyter.widget-view+json": {
       "model_id": "2b546c3a0e3d4b288f2c70f1c03827af",
       "version_major": 2,
       "version_minor": 0
      },
      "text/plain": [
       "Canvas(toolbar=Toolbar(toolitems=[('Home', 'Reset original view', 'home', 'home'), ('Back', 'Back to previous …"
      ]
     },
     "metadata": {},
     "output_type": "display_data"
    }
   ],
   "source": [
    "plot_t_tp1([],[],poss[t],poss[tp1],skeleton_thinned[xbegin:xend,ybegin:yend].todense(),skeleton_dilated_dilated[xbegin:xend,ybegin:yend].todense(),shift=(xbegin,ybegin),time=f't={4*tp1}h')"
   ]
  },
  {
   "cell_type": "code",
   "execution_count": 22,
   "metadata": {},
   "outputs": [
    {
     "data": {
      "application/vnd.jupyter.widget-view+json": {
       "model_id": "7fc3c79f8e20432eb6269d7f2b94ea10",
       "version_major": 2,
       "version_minor": 0
      },
      "text/plain": [
       "Canvas(toolbar=Toolbar(toolitems=[('Home', 'Reset original view', 'home', 'home'), ('Back', 'Back to previous …"
      ]
     },
     "metadata": {},
     "output_type": "display_data"
    }
   ],
   "source": [
    "interest_node = 1351\n",
    "t=5\n",
    "tp1=t+1\n",
    "plot_t_tp1([interest_node],[interest_node],poss[t],poss[tp1],final_pictures[t],final_pictures[t],compress=5,)"
   ]
  },
  {
   "cell_type": "code",
   "execution_count": 23,
   "metadata": {},
   "outputs": [],
   "source": [
    "degree4_nodes = [[node for node in nx_graph.nodes if nx_graph.degree(node)==4] for nx_graph in nx_graph_clean]"
   ]
  },
  {
   "cell_type": "code",
   "execution_count": 24,
   "metadata": {},
   "outputs": [],
   "source": [
    "numberdegree4=[len(liste) for liste in degree4_nodes]"
   ]
  },
  {
   "cell_type": "code",
   "execution_count": 25,
   "metadata": {},
   "outputs": [
    {
     "data": {
      "text/plain": [
       "2296"
      ]
     },
     "execution_count": 25,
     "metadata": {},
     "output_type": "execute_result"
    }
   ],
   "source": [
    "len(nx_graph_clean[0].edges())"
   ]
  },
  {
   "cell_type": "code",
   "execution_count": 25,
   "metadata": {},
   "outputs": [],
   "source": [
    "number_anastomosis_theory=[2+len(nx_graph.edges)-len(nx_graph.nodes)-numberdegree4[i] for i,nx_graph in enumerate(nx_graph_clean)]"
   ]
  },
  {
   "cell_type": "code",
   "execution_count": 26,
   "metadata": {},
   "outputs": [],
   "source": [
    "number_anastomosis_spot = [number_anastomosis_theory[0]]+[number_anastomosis_theory[0]+np.cumsum(number_an)[i] for i in range(len(anastomosiss))] "
   ]
  },
  {
   "cell_type": "code",
   "execution_count": 27,
   "metadata": {},
   "outputs": [],
   "source": [
    "per_frame_anastomosis_theory=[number_anastomosis_theory[i+1]-number_anastomosis_theory[i] for i in range(len(number_anastomosis_theory)-1)]"
   ]
  },
  {
   "cell_type": "code",
   "execution_count": 28,
   "metadata": {},
   "outputs": [],
   "source": [
    "per_frame_anastomosis_spot=[number_anastomosis_spot[i+1]-number_anastomosis_spot[i] for i in range(len(number_anastomosis_theory)-1)]"
   ]
  },
  {
   "cell_type": "code",
   "execution_count": 29,
   "metadata": {},
   "outputs": [],
   "source": [
    "number_nodes=[len(nx_graph.nodes) for nx_graph in nx_graph_clean]"
   ]
  },
  {
   "cell_type": "code",
   "execution_count": 30,
   "metadata": {},
   "outputs": [],
   "source": [
    "number_edges=[len(nx_graph.edges) for nx_graph in nx_graph_clean]"
   ]
  },
  {
   "cell_type": "code",
   "execution_count": 31,
   "metadata": {},
   "outputs": [
    {
     "data": {
      "application/vnd.jupyter.widget-view+json": {
       "model_id": "4bccb91b71944d64a8bf02a3148f75ed",
       "version_major": 2,
       "version_minor": 0
      },
      "text/plain": [
       "Canvas(toolbar=Toolbar(toolitems=[('Home', 'Reset original view', 'home', 'home'), ('Back', 'Back to previous …"
      ]
     },
     "metadata": {},
     "output_type": "display_data"
    }
   ],
   "source": [
    "fig = plt.figure()\n",
    "ax = fig.add_subplot(111)\n",
    "ax.set_xlabel('time (h)')\n",
    "ax.set_ylabel('total number of anastomosis')\n",
    "theory,=ax.plot(number_anastomosis_theory[:-1])\n",
    "theory.set_label('theory')\n",
    "spotting,=ax.plot(number_anastomosis_spot[:-1])\n",
    "spotting.set_label('frame spotting')\n",
    "ax.legend()\n",
    "plt.show()"
   ]
  },
  {
   "cell_type": "code",
   "execution_count": 32,
   "metadata": {},
   "outputs": [
    {
     "data": {
      "application/vnd.jupyter.widget-view+json": {
       "model_id": "36ecbf9477224639ad1de3c7828736cb",
       "version_major": 2,
       "version_minor": 0
      },
      "text/plain": [
       "Canvas(toolbar=Toolbar(toolitems=[('Home', 'Reset original view', 'home', 'home'), ('Back', 'Back to previous …"
      ]
     },
     "metadata": {},
     "output_type": "display_data"
    }
   ],
   "source": [
    "fig = plt.figure()\n",
    "ax = fig.add_subplot(111)\n",
    "ax.set_xlabel('time (h)')\n",
    "ax.set_ylabel('number anastomosis per frame')\n",
    "theory,=ax.plot(per_frame_anastomosis_theory[:-1])\n",
    "theory.set_label('theory')\n",
    "spotting,=ax.plot(per_frame_anastomosis_spot[:-1])\n",
    "spotting.set_label('frame spotting')\n",
    "ax.legend()\n",
    "plt.show()"
   ]
  },
  {
   "cell_type": "code",
   "execution_count": 29,
   "metadata": {},
   "outputs": [],
   "source": [
    "plt.close('all')"
   ]
  },
  {
   "cell_type": "code",
   "execution_count": null,
   "metadata": {},
   "outputs": [],
   "source": []
  },
  {
   "cell_type": "code",
   "execution_count": 33,
   "metadata": {},
   "outputs": [
    {
     "data": {
      "application/vnd.jupyter.widget-view+json": {
       "model_id": "57c4b85ba9984a60811d44df507294eb",
       "version_major": 2,
       "version_minor": 0
      },
      "text/plain": [
       "Canvas(toolbar=Toolbar(toolitems=[('Home', 'Reset original view', 'home', 'home'), ('Back', 'Back to previous …"
      ]
     },
     "metadata": {},
     "output_type": "display_data"
    },
    {
     "data": {
      "text/plain": [
       "[<matplotlib.lines.Line2D at 0x17a48321d48>]"
      ]
     },
     "execution_count": 33,
     "metadata": {},
     "output_type": "execute_result"
    }
   ],
   "source": [
    "fig = plt.figure()\n",
    "ax = fig.add_subplot(111)\n",
    "ax.plot(number_nodes[:-1])"
   ]
  },
  {
   "cell_type": "code",
   "execution_count": 75,
   "metadata": {},
   "outputs": [
    {
     "data": {
      "application/vnd.jupyter.widget-view+json": {
       "model_id": "51431e3f4200472a9148e7e638d8d9d0",
       "version_major": 2,
       "version_minor": 0
      },
      "text/plain": [
       "Canvas(toolbar=Toolbar(toolitems=[('Home', 'Reset original view', 'home', 'home'), ('Back', 'Back to previous …"
      ]
     },
     "metadata": {},
     "output_type": "display_data"
    }
   ],
   "source": [
    "plot_t_tp1([1093],[1093],poss[t],poss[tp1],final_pictures[tp1],final_pictures[tp1],compress=5,time='4h')"
   ]
  },
  {
   "cell_type": "code",
   "execution_count": null,
   "metadata": {},
   "outputs": [],
   "source": [
    "import cv2\n",
    "i=10\n",
    "for node in origins[i]:\n",
    "    node_interest=node\n",
    "    pos_problem=poss[i][node_interest]\n",
    "    xbegin=pos_problem[0]-500 \n",
    "    ybegin=pos_problem[1]-500\n",
    "    xend=pos_problem[0]+500 \n",
    "    yend=pos_problem[1]+500\n",
    "    kernel = np.ones((5,5),np.uint8)\n",
    "    skeleton_small1=skeletons[i][xbegin:xend,ybegin:yend]\n",
    "    skeleton_small1=cv2.dilate(skeleton_small1.todense().astype(np.uint8),kernel,iterations = 1)\n",
    "    skeleton_small2=skeletons[i+1][xbegin:xend,ybegin:yend]\n",
    "    skeleton_small2=cv2.dilate(skeleton_small2.todense().astype(np.uint8),kernel,iterations = 1)\n",
    "    plot_t_tp1(origins[i],anastomosiss[i],poss[i],poss[i+1],skeleton_small1,skeleton_small2,time='4h',relabel_tp1=lambda node : find_origin_tip(node,connections[t]), shift=(xbegin,ybegin))"
   ]
  },
  {
   "cell_type": "code",
   "execution_count": 73,
   "metadata": {},
   "outputs": [],
   "source": [
    "plt.close('all')"
   ]
  },
  {
   "cell_type": "code",
   "execution_count": null,
   "metadata": {},
   "outputs": [],
   "source": [
    "t=3\n",
    "tp1=t+1\n",
    "plot_t_tp1([2180],[2180],poss[t],poss[tp1],final_pictures[t],final_pictures[tp1],compress=5,)"
   ]
  },
  {
   "cell_type": "code",
   "execution_count": 23,
   "metadata": {},
   "outputs": [
    {
     "data": {
      "application/vnd.jupyter.widget-view+json": {
       "model_id": "35ca77f4437e425090b7a47da6df5d66",
       "version_major": 2,
       "version_minor": 0
      },
      "text/plain": [
       "Canvas(toolbar=Toolbar(toolitems=[('Home', 'Reset original view', 'home', 'home'), ('Back', 'Back to previous …"
      ]
     },
     "metadata": {},
     "output_type": "display_data"
    }
   ],
   "source": [
    "plot_t_tp1(degree4_nodes[t],degree4_nodes[tp1],poss[t],poss[tp1],final_pictures[t],final_pictures[tp1],compress=5)"
   ]
  },
  {
   "cell_type": "code",
   "execution_count": 19,
   "metadata": {},
   "outputs": [],
   "source": [
    "def make_growth_picture_per_tip(pixels_from_tip,pos,shape=(20700,45600),factor=10,max_growth=200,min_growth=10,per_tip=True):\n",
    "    final_picture = np.zeros(shape=(shape[0]//factor,shape[1]//factor))\n",
    "    number_tips = np.zeros(shape=(shape[0]//factor,shape[1]//factor))\n",
    "    for tip in pixels_from_tip.keys():\n",
    "        growth=len(pixels_from_tip[tip])\n",
    "        x=min(round(pos[tip][0]/factor),shape[0]//factor-1)\n",
    "        y=min(round(pos[tip][1]/factor),shape[1]//factor-1)\n",
    "        if growth<=max_growth:\n",
    "#             print(number_tips)\n",
    "            if growth>=min_growth:\n",
    "                number_tips[x,y]+=1\n",
    "                final_picture[x,y]+=growth\n",
    "#         print(growth,beginx,endx)    \n",
    "#     for x in range(shape[0]//factor):\n",
    "#         if x%1==0:\n",
    "#             print(x/2070)\n",
    "#         for y in range(shape[1]//factor):\n",
    "#             beginx = x*factor\n",
    "#             endx=(x+1)*factor\n",
    "#             beginy = y*factor\n",
    "#             endy=(y+1)*factor\n",
    "#             tips_in_frame = [tip for tip in pixels_from_tip.keys() if (beginx<pos[tip][0]<endx) and (beginy<pos[tip][1]<endy)]\n",
    "#             #shouls be improved, len is not a good indicator of actual length...\n",
    "#             growth_in_frame = [len(pixels_from_tip[tip]) for tip in tips_in_frame]\n",
    "#             final_picture[x,y]=np.mean(growth_in_frame)\n",
    "    if per_tip:\n",
    "        return(final_picture/(number_tips+(number_tips==0).astype(np.int)),number_tips)\n",
    "    else:\n",
    "        return(final_picture,number_tips)"
   ]
  },
  {
   "cell_type": "code",
   "execution_count": 35,
   "metadata": {},
   "outputs": [],
   "source": [
    "final_pictures_growth = [np.log(make_growth_picture_per_tip(growth_pattern[i],poss[i],factor=500,max_growth=4000,per_tip=True,min_growth=0)[0]+1) for i in range (len(growth_pattern))]\n"
   ]
  },
  {
   "cell_type": "code",
   "execution_count": null,
   "metadata": {},
   "outputs": [],
   "source": [
    "fig = plt.figure()\n",
    "ax = fig.add_subplot(111)\n",
    "ax.imshow(final_pictures_growth[0])"
   ]
  },
  {
   "cell_type": "code",
   "execution_count": 27,
   "metadata": {},
   "outputs": [
    {
     "data": {
      "text/plain": [
       "(41, 91)"
      ]
     },
     "execution_count": 27,
     "metadata": {},
     "output_type": "execute_result"
    }
   ],
   "source": [
    "final_pictures[2].shape"
   ]
  },
  {
   "cell_type": "code",
   "execution_count": 37,
   "metadata": {},
   "outputs": [],
   "source": [
    "pos_problem=poss[0][444]\n",
    "xbegin=pos_problem[0]-1000\n",
    "ybegin=pos_problem[1]-1000\n",
    "xend=pos_problem[0]+1000\n",
    "yend=pos_problem[1]+1000\n",
    "skeletons_small=[]\n",
    "for skeleton in skeletons:\n",
    "    skeletons_small.append(skeleton[xbegin:xend,ybegin:yend])\n",
    "node_smalls=[]\n",
    "for i,nx_graph in enumerate(nx_graph_clean):\n",
    "    node_smalls.append([node for node in nx_graph.nodes if (xbegin<poss[i][node][0]<xend and ybegin<poss[i][node][1]<yend and nx_graph.degree(node)>=1)])"
   ]
  },
  {
   "cell_type": "code",
   "execution_count": 31,
   "metadata": {},
   "outputs": [],
   "source": [
    "import cv2\n",
    "kernel = np.ones((5,5),np.uint8)\n"
   ]
  },
  {
   "cell_type": "code",
   "execution_count": 40,
   "metadata": {},
   "outputs": [],
   "source": [
    "skeletons_small_dilated=[cv2.dilate(skeleton.todense().astype(np.uint8),kernel,iterations = 1) for skeleton in skeletons_small]"
   ]
  },
  {
   "cell_type": "code",
   "execution_count": 38,
   "metadata": {},
   "outputs": [],
   "source": [
    "t=0\n",
    "tp1=t+1"
   ]
  },
  {
   "cell_type": "code",
   "execution_count": 42,
   "metadata": {},
   "outputs": [
    {
     "data": {
      "application/vnd.jupyter.widget-view+json": {
       "model_id": "f96e99e9aac94f30b0a742a77218e63a",
       "version_major": 2,
       "version_minor": 0
      },
      "text/plain": [
       "Canvas(toolbar=Toolbar(toolitems=[('Home', 'Reset original view', 'home', 'home'), ('Back', 'Back to previous …"
      ]
     },
     "metadata": {},
     "output_type": "display_data"
    }
   ],
   "source": [
    "plot_t_tp1(node_smalls[tp1],node_smalls[tp1],poss[tp1],poss[tp1],skeletons_small_dilated[tp1],skeletons_small_dilated[tp1],shift=(xbegin,ybegin))"
   ]
  },
  {
   "cell_type": "code",
   "execution_count": 36,
   "metadata": {},
   "outputs": [],
   "source": [
    "def plot_t_tp1(node_list_t,node_list_tp1,pos_t,pos_tp1,imt,imtp1,relabel_t=lambda x:x,relabel_tp1=lambda x:x, shift=(0,0),compress=1,save='',time=None):\n",
    "    right = 0.90\n",
    "    top = 0.90\n",
    "    if len(save)>=1:\n",
    "        fig=plt.figure(figsize=(14,12))\n",
    "        size = 10\n",
    "    else:\n",
    "        fig = plt.figure()\n",
    "        size = 5\n",
    "    ax = fig.add_subplot(111)\n",
    "    ax.imshow(imtp1, cmap='gray',interpolation='none')\n",
    "    ax.imshow(imt, cmap='jet', alpha=0.5,interpolation='none')\n",
    "    bbox_props1 = dict(boxstyle=\"circle\", fc=colors.rgb2hex((1,1,1)))\n",
    "    bbox_props2 = dict(boxstyle=\"circle\", fc=colors.rgb2hex((0.5,0.5,0.5)))\n",
    "    ax.text(right, top, time,\n",
    "        horizontalalignment='right',\n",
    "        verticalalignment='bottom',\n",
    "        transform=ax.transAxes,color='white')\n",
    "    for node in node_list_t:\n",
    "        t = ax.text((pos_t[node][1]-shift[1])//compress, (pos_t[node][0]-shift[0])//compress, str(relabel_t(node)), ha=\"center\", va=\"center\",\n",
    "                    size=size,\n",
    "                    bbox=bbox_props1)\n",
    "    for node in node_list_tp1:\n",
    "        if node in pos_tp1.keys():\n",
    "            t = ax.text((pos_tp1[node][1]-shift[1])//compress, (pos_tp1[node][0]-shift[0])//compress, str(relabel_tp1(node)), ha=\"center\", va=\"center\",\n",
    "                        size=size,\n",
    "                        bbox=bbox_props2)\n",
    "    if len(save)>=1:\n",
    "        plt.savefig(save)\n",
    "        plt.close(fig)\n",
    "    else:\n",
    "        plt.show()"
   ]
  },
  {
   "cell_type": "code",
   "execution_count": 78,
   "metadata": {},
   "outputs": [],
   "source": [
    "def dist(t0,t1):\n",
    "    distances=[]\n",
    "    for node in nx_graph_clean[t0].nodes:\n",
    "        if nx_graph_clean[t0].degree(node)==3 and node in nx_graph_clean[t1].nodes:\n",
    "            distances.append(np.linalg.norm(poss[t0][node]-poss[t1][node]))\n",
    "    return(distances)"
   ]
  },
  {
   "cell_type": "code",
   "execution_count": 82,
   "metadata": {},
   "outputs": [
    {
     "data": {
      "application/vnd.jupyter.widget-view+json": {
       "model_id": "488b627270614330abaa6bd89447231e",
       "version_major": 2,
       "version_minor": 0
      },
      "text/plain": [
       "Canvas(toolbar=Toolbar(toolitems=[('Home', 'Reset original view', 'home', 'home'), ('Back', 'Back to previous …"
      ]
     },
     "metadata": {},
     "output_type": "display_data"
    }
   ],
   "source": [
    "fig = plt.figure()\n",
    "ax = fig.add_subplot(111)\n",
    "ax.set_xlabel('time (h)')\n",
    "ax.set_ylabel('shift')\n",
    "theory,=ax.plot([np.mean(dist(0,i)) for i in range(1,len(dates))])\n",
    "theory.set_label('theory')\n",
    "ax.legend()\n",
    "plt.show()"
   ]
  },
  {
   "cell_type": "code",
   "execution_count": 123,
   "metadata": {},
   "outputs": [
    {
     "name": "stdout",
     "output_type": "stream",
     "text": [
      "R0= [[1.00000000e+00 4.85722573e-17]\n",
      " [5.55111512e-17 1.00000000e+00]] t0= [0. 0.]\n",
      "R0= [[ 9.99999996e-01 -9.17568871e-05]\n",
      " [ 9.17568871e-05  9.99999996e-01]] t0= [ 1.4874148 -1.0702497]\n",
      "R0= [[ 9.99999999e-01 -4.41015591e-05]\n",
      " [ 4.41015591e-05  9.99999999e-01]] t0= [ 1.15100828 -1.70343372]\n",
      "R0= [[ 9.99999994e-01 -1.12582077e-04]\n",
      " [ 1.12582077e-04  9.99999994e-01]] t0= [ 1.21817213 -2.76465166]\n",
      "R0= [[ 9.99999999e-01 -4.02273870e-05]\n",
      " [ 4.02273870e-05  9.99999999e-01]] t0= [ 0.5877606 -0.5075092]\n",
      "R0= [[ 9.99999992e-01  1.23009900e-04]\n",
      " [-1.23009900e-04  9.99999992e-01]] t0= [-2.57584682  1.00197054]\n",
      "R0= [[ 9.99999996e-01 -8.42081649e-05]\n",
      " [ 8.42081649e-05  9.99999996e-01]] t0= [ 1.52502071 -1.40625473]\n",
      "R0= [[ 9.99999998e-01 -5.79521654e-05]\n",
      " [ 5.79521654e-05  9.99999998e-01]] t0= [ 1.13990989 -1.83564832]\n",
      "R0= [[ 9.99999994e-01 -1.06664958e-04]\n",
      " [ 1.06664958e-04  9.99999994e-01]] t0= [ 3.16237515 -1.59036676]\n",
      "R0= [[ 9.99999997e-01 -8.03892362e-05]\n",
      " [ 8.03892362e-05  9.99999997e-01]] t0= [ 2.0457769  -0.53546322]\n",
      "R0= [[ 9.99999999e-01 -5.07145437e-05]\n",
      " [ 5.07145437e-05  9.99999999e-01]] t0= [1.61840822 0.33770247]\n",
      "R0= [[ 1.00000000e+00 -1.12829978e-05]\n",
      " [ 1.12829978e-05  1.00000000e+00]] t0= [0.66062815 0.44741413]\n",
      "R0= [[ 1.00000000e+00 -2.65476889e-05]\n",
      " [ 2.65476889e-05  1.00000000e+00]] t0= [0.60406366 1.00663313]\n",
      "R0= [[ 1.00000000e+00  3.22478274e-06]\n",
      " [-3.22478274e-06  1.00000000e+00]] t0= [-0.1500207   0.15221149]\n",
      "R0= [[ 1.00000000e+00  1.76617191e-05]\n",
      " [-1.76617191e-05  1.00000000e+00]] t0= [-0.65882897  1.40639986]\n",
      "R0= [[ 1.00000000e+00  2.68403896e-05]\n",
      " [-2.68403896e-05  1.00000000e+00]] t0= [-0.61505066  0.42761191]\n",
      "R0= [[ 1.00000000e+00 -5.53853673e-06]\n",
      " [ 5.53853673e-06  1.00000000e+00]] t0= [-1.14235895  2.00246891]\n",
      "R0= [[ 1.00000000e+00  7.86896688e-06]\n",
      " [-7.86896688e-06  1.00000000e+00]] t0= [0.27546695 1.15319653]\n",
      "R0= [[ 1.00000000e+00 -1.94971997e-05]\n",
      " [ 1.94971997e-05  1.00000000e+00]] t0= [0.69155273 1.90402423]\n",
      "R0= [[ 1.00000000e+00  2.60717919e-05]\n",
      " [-2.60717919e-05  1.00000000e+00]] t0= [-0.34881789  1.33008874]\n",
      "R0= [[ 1.00000000e+00 -1.96111722e-05]\n",
      " [ 1.96111722e-05  1.00000000e+00]] t0= [1.59531171 0.93534222]\n",
      "R0= [[ 1.00000000e+00 -1.12490775e-05]\n",
      " [ 1.12490775e-05  1.00000000e+00]] t0= [0.46870899 0.3485823 ]\n",
      "R0= [[ 1.00000000e+00 -1.34649131e-05]\n",
      " [ 1.34649131e-05  1.00000000e+00]] t0= [ 0.99409791 -0.24336554]\n",
      "R0= [[ 9.99999996e-01  8.85175251e-05]\n",
      " [-8.85175251e-05  9.99999996e-01]] t0= [-1.23237859  2.85728316]\n"
     ]
    }
   ],
   "source": [
    "gteer=[realign2(i,0) for i in range(0,len(dates))]"
   ]
  },
  {
   "cell_type": "code",
   "execution_count": 124,
   "metadata": {},
   "outputs": [],
   "source": [
    "final_pictures = [compress_skeleton(make_sparse(gteer[i]),factor)>=1 for i in range(len(gteer))]"
   ]
  },
  {
   "cell_type": "code",
   "execution_count": 125,
   "metadata": {},
   "outputs": [],
   "source": [
    "plt.close('all')"
   ]
  },
  {
   "cell_type": "code",
   "execution_count": 127,
   "metadata": {},
   "outputs": [
    {
     "data": {
      "application/vnd.jupyter.widget-view+json": {
       "model_id": "1e250c597e1d44dca6992df2d3d6d5a9",
       "version_major": 2,
       "version_minor": 0
      },
      "text/plain": [
       "Canvas(toolbar=Toolbar(toolitems=[('Home', 'Reset original view', 'home', 'home'), ('Back', 'Back to previous …"
      ]
     },
     "metadata": {},
     "output_type": "display_data"
    }
   ],
   "source": [
    "t=5\n",
    "tp1=t+1\n",
    "plot_t_tp1(origins[t],anastomosiss[t],poss[t],poss[tp1],final_pictures[t],final_pictures[tp1],\n",
    "           compress=5,time='4h',relabel_tp1=lambda node : find_origin_tip(node,connections[t]))"
   ]
  },
  {
   "cell_type": "code",
   "execution_count": 122,
   "metadata": {},
   "outputs": [],
   "source": [
    "def transform_skeleton(skeleton_doc,Rot,trans):\n",
    "    transformed_skeleton={}\n",
    "    transformed_keys = np.round(np.transpose(np.dot(Rot,np.transpose(np.array(list(skeleton_doc.keys())))))+trans).astype(np.int)\n",
    "    i=0\n",
    "    for pixel in list(transformed_keys):\n",
    "        i+=1\n",
    "        transformed_skeleton[(pixel[0],pixel[1])]=1\n",
    "    return(transformed_skeleton)\n",
    "\n",
    "def find_common_group_nodes(t0,t1):\n",
    "    nodest0=[]\n",
    "    nodest1=[]\n",
    "    for node in nx_graph_clean[t0].nodes:\n",
    "        if nx_graph_clean[t0].degree(node)==3 and node in nx_graph_clean[t1].nodes and nx_graph_clean[t1].degree(node)==3:\n",
    "            nodest0.append(poss[t0][node])\n",
    "            nodest1.append(poss[t1][node])\n",
    "    return(nodest0,nodest1)\n",
    "\n",
    "def realign2(ti0,ti1,convergence_threshold=2,window=500,maxdist=50,save=''):\n",
    "    t0=np.array([0,0])\n",
    "    R0=np.identity(2)\n",
    "    listeA,listeB = find_common_group_nodes(ti0,ti1)\n",
    "    H=np.dot(np.transpose(np.array(listeA)-np.mean(listeA,axis=0)),np.array(listeB)-np.mean(listeB,axis=0))\n",
    "    U,S,V=np.linalg.svd(H)\n",
    "    R=np.dot(V,np.transpose(U))\n",
    "    t=np.mean(listeB,axis=0)-np.dot(R,np.mean(listeA,axis=0))\n",
    "    R0=np.dot(R,R0)\n",
    "    t0=t+t0\n",
    "#     return({key : np.dot(R0,poss[ti0][key])+t0 for key in poss[ti0].keys()})\n",
    "    print(\"R0=\",R0,'t0=',t0)\n",
    "    skeleton_transformed=transform_skeleton(skeletons[ti0],R0,t0)\n",
    "    return(skeleton_transformed)\n",
    "#     skeleton_transformed=dilate(skeleton_transformed)\n",
    "#     skeleton_transformed=dilate(skeleton_transformed)\n",
    "#     skeleton_transformed=zhangSuen(skeleton_transformed)\n",
    "#     if len(save)>=0:\n",
    "#         from_nx_to_tab(*generate_nx_graph_from_skeleton(skeleton_transformed)).to_csv(save+'_raw_aligned_skeleton.csv')\n",
    "#         np.savetxt(save+'rot.txt',R0)\n",
    "#         np.savetxt(save+'trans.txt',t0)\n",
    "#     print(\"R0=\",R0,'t0=',t0)\n",
    "#     return(R0,t0)\n",
    "#     return(skeleton_transformed)\n"
   ]
  },
  {
   "cell_type": "code",
   "execution_count": 35,
   "metadata": {},
   "outputs": [],
   "source": [
    "from matplotlib import colors"
   ]
  }
 ],
 "metadata": {
  "kernelspec": {
   "display_name": "cleanMsc",
   "language": "python",
   "name": "cleanmsc"
  },
  "language_info": {
   "codemirror_mode": {
    "name": "ipython",
    "version": 3
   },
   "file_extension": ".py",
   "mimetype": "text/x-python",
   "name": "python",
   "nbconvert_exporter": "python",
   "pygments_lexer": "ipython3",
   "version": "3.7.9"
  }
 },
 "nbformat": 4,
 "nbformat_minor": 4
}

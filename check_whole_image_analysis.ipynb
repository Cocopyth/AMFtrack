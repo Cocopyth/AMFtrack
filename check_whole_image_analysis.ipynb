{
 "cells": [
  {
   "cell_type": "code",
   "execution_count": 1,
   "metadata": {},
   "outputs": [],
   "source": [
    "%matplotlib widget\n",
    "from util import get_path\n",
    "import pandas as pd\n",
    "import networkx as nx\n",
    "import numpy as np\n",
    "import matplotlib.pyplot as plt\n",
    "from extract_graph import generate_nx_graph, transform_list, generate_skeleton, generate_nx_graph_from_skeleton\n",
    "from node_id import whole_movement_identification, second_identification\n",
    "import ast\n",
    "from plotutil import plot_t_tp1, compress_skeleton\n",
    "from scipy import sparse\n",
    "from sparse_util import dilate, zhangSuen\n",
    "from realign import realign"
   ]
  },
  {
   "cell_type": "code",
   "execution_count": 5,
   "metadata": {},
   "outputs": [],
   "source": [
    "# date0='0709_1157'\n",
    "# date1='0709_1557'\n",
    "# date2='0709_1934'\n",
    "# dates=[date0,date1,date2]\n",
    "# plate = 13\n",
    "date0='0701_1957'\n",
    "date1='0701_2357'\n",
    "date2='0702_0357'\n",
    "date3='0702_0757'\n",
    "date4='0702_1157'\n",
    "date5='0702_1557'\n",
    "date6='0702_1957'\n",
    "date7='0702_2357'\n",
    "plate=13\n",
    "dates=[date0,date1,date2,date3,date4]"
   ]
  },
  {
   "cell_type": "code",
   "execution_count": 6,
   "metadata": {},
   "outputs": [],
   "source": [
    "tabs_labeled=[]\n",
    "for date in dates:\n",
    "    tabs_labeled.append(pd.read_csv(get_path(date,plate,True,extension='_full_labeled.csv'),\n",
    "                                    converters={'origin_pos' : transform_list,'end_pos' : transform_list,'pixel_list' : ast.literal_eval}))"
   ]
  },
  {
   "cell_type": "code",
   "execution_count": 25,
   "metadata": {},
   "outputs": [],
   "source": [
    "tabs_labeled=[]\n",
    "for date in dates:\n",
    "    tabs_labeled.append(pd.read_csv(f'Data/graph_{date}_{plate}_full_labeled.csv',\n",
    "                                    converters={'origin_pos' : transform_list,'end_pos' : transform_list,'pixel_list' : ast.literal_eval}))"
   ]
  },
  {
   "cell_type": "code",
   "execution_count": null,
   "metadata": {},
   "outputs": [],
   "source": []
  },
  {
   "cell_type": "code",
   "execution_count": 7,
   "metadata": {},
   "outputs": [],
   "source": [
    "nx_graphs=[]\n",
    "poss=[]\n",
    "for tab in tabs_labeled:\n",
    "    nx_graph,pos=generate_nx_graph(tab,labeled=True)\n",
    "    nx_graphs.append(nx_graph)\n",
    "    poss.append(pos)"
   ]
  },
  {
   "cell_type": "code",
   "execution_count": 8,
   "metadata": {},
   "outputs": [],
   "source": [
    "nx_graph_clean=[]\n",
    "for graph in nx_graphs:\n",
    "    S = [graph.subgraph(c).copy() for c in nx.connected_components(graph)]\n",
    "    len_connected=[len(nx_graph.nodes) for nx_graph in S]\n",
    "    nx_graph_clean.append(S[np.argmax(len_connected)])"
   ]
  },
  {
   "cell_type": "code",
   "execution_count": 9,
   "metadata": {},
   "outputs": [],
   "source": [
    "skeletons=[]\n",
    "for nx_graph in nx_graph_clean:\n",
    "    skeletons.append(generate_skeleton(nx_graph,dim=(20687, 45554)))"
   ]
  },
  {
   "cell_type": "code",
   "execution_count": 10,
   "metadata": {},
   "outputs": [],
   "source": [
    "factor = 5\n",
    "final_pictures = [compress_skeleton(skeletons[i],factor) for i in range(len(skeletons))]"
   ]
  },
  {
   "cell_type": "code",
   "execution_count": 11,
   "metadata": {},
   "outputs": [
    {
     "name": "stdout",
     "output_type": "stream",
     "text": [
      "0.0\n",
      "0.14084507042253522\n",
      "0.28169014084507044\n",
      "0.4225352112676056\n",
      "0.5633802816901409\n",
      "0.704225352112676\n",
      "0.8450704225352113\n",
      "0.9859154929577465\n",
      "0.0\n",
      "0.13262599469496023\n",
      "0.26525198938992045\n",
      "0.3978779840848806\n",
      "0.5305039787798409\n",
      "0.6631299734748011\n",
      "0.7957559681697612\n",
      "0.9283819628647215\n",
      "0.0\n",
      "0.12224938875305623\n",
      "0.24449877750611246\n",
      "0.36674816625916873\n",
      "0.4889975550122249\n",
      "0.6112469437652812\n",
      "0.7334963325183375\n",
      "0.8557457212713936\n",
      "0.9779951100244498\n",
      "0.0\n",
      "0.11467889908256881\n",
      "0.22935779816513763\n",
      "0.3440366972477064\n",
      "0.45871559633027525\n",
      "0.573394495412844\n",
      "0.6880733944954128\n",
      "0.8027522935779816\n",
      "0.9174311926605505\n"
     ]
    }
   ],
   "source": [
    "connections_growth_pattern = [whole_movement_identification(nx_graph_clean[i],nx_graph_clean[i+1],poss[i],poss[i+1]) for i in range(len(dates)-1)]"
   ]
  },
  {
   "cell_type": "code",
   "execution_count": 12,
   "metadata": {},
   "outputs": [],
   "source": [
    "connections = [c[0] for c in connections_growth_pattern]\n",
    "growth_pattern = [c[1] for c in connections_growth_pattern]"
   ]
  },
  {
   "cell_type": "code",
   "execution_count": null,
   "metadata": {},
   "outputs": [],
   "source": [
    "def pinpoint_anastomosis(nx_graph_tm1,nx_grapht,equ):\n",
    "    anastomosis=[]\n",
    "    origins=[]\n",
    "    tips = [node for node in nx_graph_tm1.nodes if nx_graph_tm1.degree(node)==1]\n",
    "    for node in nx_grapht.nodes:\n",
    "        if nx_grapht.degree(node)>=3 and node in equ.keys() and equ[node] in tips:\n",
    "            anastomosis.append(node)\n",
    "            origins.append(equ[node])\n",
    "    return(anastomosis,origins)"
   ]
  },
  {
   "cell_type": "code",
   "execution_count": 13,
   "metadata": {},
   "outputs": [],
   "source": [
    "growing_tips=[[node for node in growth_pattern[i].keys() if len(growth_pattern[i][node])>=20] for i in range(len(growth_pattern))]"
   ]
  },
  {
   "cell_type": "code",
   "execution_count": 14,
   "metadata": {},
   "outputs": [],
   "source": [
    "degree3_nodes = [[node for node in nx_graph.nodes if nx_graph.degree(node)>=3] for nx_graph in nx_graph_clean]"
   ]
  },
  {
   "cell_type": "code",
   "execution_count": 15,
   "metadata": {},
   "outputs": [
    {
     "ename": "NameError",
     "evalue": "name 't' is not defined",
     "output_type": "error",
     "traceback": [
      "\u001b[1;31m---------------------------------------------------------------------------\u001b[0m",
      "\u001b[1;31mNameError\u001b[0m                                 Traceback (most recent call last)",
      "\u001b[1;32m<ipython-input-15-a567bfd625b1>\u001b[0m in \u001b[0;36m<module>\u001b[1;34m\u001b[0m\n\u001b[1;32m----> 1\u001b[1;33m \u001b[0mplot_t_tp1\u001b[0m\u001b[1;33m(\u001b[0m\u001b[0mdegree3_nodes\u001b[0m\u001b[1;33m[\u001b[0m\u001b[0mt\u001b[0m\u001b[1;33m]\u001b[0m\u001b[1;33m,\u001b[0m\u001b[0mdegree3_nodes\u001b[0m\u001b[1;33m[\u001b[0m\u001b[0mtp1\u001b[0m\u001b[1;33m]\u001b[0m\u001b[1;33m,\u001b[0m\u001b[0mposs\u001b[0m\u001b[1;33m[\u001b[0m\u001b[0mt\u001b[0m\u001b[1;33m]\u001b[0m\u001b[1;33m,\u001b[0m\u001b[0mposs\u001b[0m\u001b[1;33m[\u001b[0m\u001b[0mtp1\u001b[0m\u001b[1;33m]\u001b[0m\u001b[1;33m,\u001b[0m\u001b[0mfinal_pictures\u001b[0m\u001b[1;33m[\u001b[0m\u001b[0mt\u001b[0m\u001b[1;33m]\u001b[0m\u001b[1;33m,\u001b[0m\u001b[0mfinal_pictures\u001b[0m\u001b[1;33m[\u001b[0m\u001b[0mtp1\u001b[0m\u001b[1;33m]\u001b[0m\u001b[1;33m,\u001b[0m\u001b[0mcompress\u001b[0m\u001b[1;33m=\u001b[0m\u001b[1;36m5\u001b[0m\u001b[1;33m)\u001b[0m\u001b[1;33m\u001b[0m\u001b[1;33m\u001b[0m\u001b[0m\n\u001b[0m",
      "\u001b[1;31mNameError\u001b[0m: name 't' is not defined"
     ]
    }
   ],
   "source": [
    "plot_t_tp1(degree3_nodes[t],degree3_nodes[tp1],poss[t],poss[tp1],final_pictures[t],final_pictures[tp1],compress=5)"
   ]
  },
  {
   "cell_type": "code",
   "execution_count": 39,
   "metadata": {},
   "outputs": [],
   "source": [
    "anastomosiss=[pinpoint_anastomosis(nx_graph_clean[i],nx_graph_clean[i+1], connections[i])[0] for i in range (len(dates)-1)]\n",
    "origins=[pinpoint_anastomosis(nx_graph_clean[i],nx_graph_clean[i+1], connections[i])[1] for i in range (len(dates)-1)]"
   ]
  },
  {
   "cell_type": "code",
   "execution_count": 49,
   "metadata": {},
   "outputs": [
    {
     "data": {
      "text/plain": [
       "True"
      ]
     },
     "execution_count": 49,
     "metadata": {},
     "output_type": "execute_result"
    }
   ],
   "source": [
    "2295 in anastomosiss[t]"
   ]
  },
  {
   "cell_type": "code",
   "execution_count": 42,
   "metadata": {},
   "outputs": [],
   "source": [
    "t=1\n",
    "tp1=t+1"
   ]
  },
  {
   "cell_type": "code",
   "execution_count": null,
   "metadata": {},
   "outputs": [],
   "source": [
    "plot_t_tp1(origins[t],anastomosiss[t],poss[t],poss[tp1],final_pictures[t],final_pictures[tp1],compress=5,)"
   ]
  },
  {
   "cell_type": "code",
   "execution_count": null,
   "metadata": {},
   "outputs": [],
   "source": [
    "plot_t_tp1(growing_tips[t],growing_tips[t],poss[t],poss[tp1],final_pictures[t],final_pictures[tp1],compress=5,)"
   ]
  },
  {
   "cell_type": "code",
   "execution_count": null,
   "metadata": {},
   "outputs": [],
   "source": [
    "t=3\n",
    "tp1=t+1\n",
    "plot_t_tp1([2180],[2180],poss[t],poss[tp1],final_pictures[t],final_pictures[tp1],compress=5,)"
   ]
  },
  {
   "cell_type": "code",
   "execution_count": null,
   "metadata": {},
   "outputs": [],
   "source": [
    "plot_t_tp1(degree3_nodes[t],degree3_nodes[tp1],poss[t],poss[tp1],final_pictures[t],final_pictures[tp1],compress=5)"
   ]
  },
  {
   "cell_type": "code",
   "execution_count": 19,
   "metadata": {},
   "outputs": [],
   "source": [
    "def make_growth_picture_per_tip(pixels_from_tip,pos,shape=(20700,45600),factor=10,max_growth=200,min_growth=10,per_tip=True):\n",
    "    final_picture = np.zeros(shape=(shape[0]//factor,shape[1]//factor))\n",
    "    number_tips = np.zeros(shape=(shape[0]//factor,shape[1]//factor))\n",
    "    for tip in pixels_from_tip.keys():\n",
    "        growth=len(pixels_from_tip[tip])\n",
    "        x=min(round(pos[tip][0]/factor),shape[0]//factor-1)\n",
    "        y=min(round(pos[tip][1]/factor),shape[1]//factor-1)\n",
    "        if growth<=max_growth:\n",
    "#             print(number_tips)\n",
    "            if growth>=min_growth:\n",
    "                number_tips[x,y]+=1\n",
    "                final_picture[x,y]+=growth\n",
    "#         print(growth,beginx,endx)    \n",
    "#     for x in range(shape[0]//factor):\n",
    "#         if x%1==0:\n",
    "#             print(x/2070)\n",
    "#         for y in range(shape[1]//factor):\n",
    "#             beginx = x*factor\n",
    "#             endx=(x+1)*factor\n",
    "#             beginy = y*factor\n",
    "#             endy=(y+1)*factor\n",
    "#             tips_in_frame = [tip for tip in pixels_from_tip.keys() if (beginx<pos[tip][0]<endx) and (beginy<pos[tip][1]<endy)]\n",
    "#             #shouls be improved, len is not a good indicator of actual length...\n",
    "#             growth_in_frame = [len(pixels_from_tip[tip]) for tip in tips_in_frame]\n",
    "#             final_picture[x,y]=np.mean(growth_in_frame)\n",
    "    if per_tip:\n",
    "        return(final_picture/(number_tips+(number_tips==0).astype(np.int)),number_tips)\n",
    "    else:\n",
    "        return(final_picture,number_tips)"
   ]
  },
  {
   "cell_type": "code",
   "execution_count": 35,
   "metadata": {},
   "outputs": [],
   "source": [
    "final_pictures_growth = [np.log(make_growth_picture_per_tip(growth_pattern[i],poss[i],factor=500,max_growth=4000,per_tip=True,min_growth=0)[0]+1) for i in range (len(growth_pattern))]\n"
   ]
  },
  {
   "cell_type": "code",
   "execution_count": null,
   "metadata": {},
   "outputs": [],
   "source": [
    "fig = plt.figure()\n",
    "ax = fig.add_subplot(111)\n",
    "ax.imshow(final_pictures_growth[0])"
   ]
  },
  {
   "cell_type": "code",
   "execution_count": 27,
   "metadata": {},
   "outputs": [
    {
     "data": {
      "text/plain": [
       "(41, 91)"
      ]
     },
     "execution_count": 27,
     "metadata": {},
     "output_type": "execute_result"
    }
   ],
   "source": [
    "final_pictures[2].shape"
   ]
  },
  {
   "cell_type": "code",
   "execution_count": 32,
   "metadata": {},
   "outputs": [],
   "source": [
    "import cv2\n",
    "import numpy as np\n",
    " \n",
    "\n",
    "frameSize_origin = (41,91)\n",
    "\n",
    "out = cv2.VideoWriter('Data\\output_video.avi',cv2.VideoWriter_fourcc(*'DIVX'), 6, frameSize)\n",
    "\n",
    "for i in range(0,255):\n",
    "    img = np.ones((frameSize[0],frameSize[1], 3), dtype=np.uint8)*i\n",
    "    print(img)\n",
    "    out.write(img)\n",
    "\n",
    "out.release()"
   ]
  },
  {
   "cell_type": "code",
   "execution_count": null,
   "metadata": {},
   "outputs": [],
   "source": [
    "import cv2\n",
    "import numpy as np\n",
    " \n",
    "\n",
    "frameSize_origin = (41,91)\n",
    "real_size=(91,91)\n",
    "out = cv2.VideoWriter('Data\\output_video.avi',cv2.VideoWriter_fourcc(*'DIVX'), 6, real_size)\n",
    "\n",
    "for i in range(0,len(final_pictures)):\n",
    "    img = final_pictures[i]\n",
    "    img = cv2.resize(img,real_size)\n",
    "    out.write(img)\n",
    "\n",
    "out.release()"
   ]
  },
  {
   "cell_type": "code",
   "execution_count": null,
   "metadata": {},
   "outputs": [],
   "source": [
    "import cv2\n",
    "import numpy as np\n",
    " \n",
    "\n",
    "frameSize = final_pictures[0].shape\n",
    "\n",
    "out = cv2.VideoWriter('Data\\output_video.avi',cv2.VideoWriter_fourcc(*'DIVX'), 1, frameSize)\n",
    "\n",
    "for i in range(len(final_pictures)):\n",
    "    img = final_pictures[i]\n",
    "    out.write(img)\n",
    "\n",
    "out.release()"
   ]
  },
  {
   "cell_type": "code",
   "execution_count": 58,
   "metadata": {},
   "outputs": [],
   "source": [
    "pos_problem=[11241, 20621]\n",
    "xbegin=pos_problem[0]-1000\n",
    "ybegin=pos_problem[1]-1000\n",
    "xend=pos_problem[0]+1000\n",
    "yend=pos_problem[1]+1000\n",
    "skeletons_small=[]\n",
    "for skeleton in skeletons:\n",
    "    skeletons_small.append(skeleton[xbegin:xend,ybegin:yend])\n",
    "node_smalls=[]\n",
    "for i,nx_graph in enumerate(nx_graph_clean):\n",
    "    node_smalls.append([node for node in nx_graph.nodes if (xbegin<poss[i][node][0]<xend and ybegin<poss[i][node][1]<yend and nx_graph.degree(node)>=1)])"
   ]
  },
  {
   "cell_type": "code",
   "execution_count": 96,
   "metadata": {},
   "outputs": [],
   "source": [
    "kernel = np.ones((5,5),np.uint8)\n",
    "cv2.dilate(width2.astype(np.uint8),kernel,iterations = 2)"
   ]
  },
  {
   "cell_type": "code",
   "execution_count": 101,
   "metadata": {},
   "outputs": [],
   "source": [
    "skeletons_small_dilated=[cv2.dilate(skeleton.todense().astype(np.uint8),kernel,iterations = 1) for skeleton in skeletons_small]"
   ]
  },
  {
   "cell_type": "code",
   "execution_count": null,
   "metadata": {},
   "outputs": [],
   "source": [
    "t=1\n",
    "tp1=t+1"
   ]
  },
  {
   "cell_type": "code",
   "execution_count": null,
   "metadata": {},
   "outputs": [],
   "source": [
    "plot_t_tp1(node_smalls[tp1],node_smalls[tp1],poss[tp1],poss[tp1],skeletons_small_dilated[tp1],skeletons_small_dilated[tp1],shift=(xbegin,ybegin))"
   ]
  },
  {
   "cell_type": "code",
   "execution_count": 72,
   "metadata": {},
   "outputs": [],
   "source": [
    "def plot_t_tp1(node_list_t,node_list_tp1,pos_t,pos_tp1,imt,imtp1,relabel_t=lambda x:x,relabel_tp1=lambda x:x, shift=(0,0),compress=1,save=''):\n",
    "    fig = plt.figure()\n",
    "    ax = fig.add_subplot(111)\n",
    "    ax.imshow(imtp1, cmap='gray',interpolation='none')\n",
    "    ax.imshow(imt, cmap='jet', alpha=0.5,interpolation='none')\n",
    "    bbox_props1 = dict(boxstyle=\"circle\", fc=\"grey\")\n",
    "    bbox_props2 = dict(boxstyle=\"circle\", fc=\"white\")\n",
    "    for node in node_list_t:\n",
    "        t = ax.text((pos_t[node][1]-shift[1])//compress, (pos_t[node][0]-shift[0])//compress, str(relabel_t(node)), ha=\"center\", va=\"center\",\n",
    "                    size=5,\n",
    "                    bbox=bbox_props1)\n",
    "    for node in node_list_tp1:\n",
    "        if node in pos_tp1.keys():\n",
    "            t = ax.text((pos_tp1[node][1]-shift[1])//compress, (pos_tp1[node][0]-shift[0])//compress, str(relabel_tp1(node)), ha=\"center\", va=\"center\",\n",
    "                        size=5,\n",
    "                        bbox=bbox_props2)\n",
    "    if len(save)>=1:\n",
    "        plt.savefig(save)\n",
    "    else:\n",
    "        plt.show()"
   ]
  }
 ],
 "metadata": {
  "kernelspec": {
   "display_name": "cleanMsc",
   "language": "python",
   "name": "cleanmsc"
  },
  "language_info": {
   "codemirror_mode": {
    "name": "ipython",
    "version": 3
   },
   "file_extension": ".py",
   "mimetype": "text/x-python",
   "name": "python",
   "nbconvert_exporter": "python",
   "pygments_lexer": "ipython3",
   "version": "3.7.8"
  }
 },
 "nbformat": 4,
 "nbformat_minor": 4
}

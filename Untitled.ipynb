{
 "cells": [
  {
   "cell_type": "code",
   "execution_count": 2,
   "metadata": {},
   "outputs": [],
   "source": [
    "%matplotlib widget\n",
    "import numpy as np\n",
    "import matplotlib.pyplot as plt\n",
    "import matplotlib.cm as cm\n",
    "from PIL import Image\n",
    "from scipy import sparse\n",
    "import cv2\n",
    "from pymatreader import read_mat\n",
    "# from extract_graph import dic_to_sparse\n",
    "from util import get_path\n",
    "from plotutil import show_im,overlap, show_im_rgb, plot_nodes, plot_nodes_from_list,plot_t_tp1\n",
    "from extract_graph import generate_graph_tab_from_skeleton,generate_nx_graph_from_skeleton,generate_skeleton,clean\n",
    "import networkx as nx\n",
    "from node_id import second_identification, whole_movement_identification,first_identification,relabel_nodes, clean_nodes, orient"
   ]
  },
  {
   "cell_type": "code",
   "execution_count": 11,
   "metadata": {},
   "outputs": [],
   "source": [
    "date1='0701_1557'\n",
    "plate = 13\n",
    "file_path = get_path(date1,plate,True)\n",
    "file_path = '//sun.amolf.nl/shimizu-data/home-folder/oyartegalvez/Drive_AMFtopology/PRINCE/20200701_1557_Plate13/Analysis/Binary.mat'\n",
    "mat_skel=read_mat(file_path)['bin']"
   ]
  },
  {
   "cell_type": "code",
   "execution_count": 12,
   "metadata": {},
   "outputs": [],
   "source": [
    "from extract_graph import dic_to_sparse, from_sparse_to_graph, generate_nx_graph, prune_graph"
   ]
  },
  {
   "cell_type": "code",
   "execution_count": 13,
   "metadata": {},
   "outputs": [],
   "source": [
    "dic_skel=dic_to_sparse(mat_skel)\n",
    "skeleton_doc1=sparse.dok_matrix(dic_skel)"
   ]
  },
  {
   "cell_type": "code",
   "execution_count": 14,
   "metadata": {},
   "outputs": [],
   "source": [
    "skeleton_doc_small=skeleton_doc1[15000:20000,15000:20000]"
   ]
  },
  {
   "cell_type": "code",
   "execution_count": 15,
   "metadata": {},
   "outputs": [],
   "source": [
    "def dilate(sparse_matrix_doc):\n",
    "    dilated = sparse.dok_matrix(sparse_matrix_doc.shape, dtype=bool)\n",
    "    for pos in sparse_matrix_doc.keys():\n",
    "        positions=[pos,(pos[0],pos[1]+1),(pos[0],pos[1]-1),(pos[0]-1,pos[1]-1),(pos[0]+1,pos[1]-1),(pos[0]+1,pos[1]+1),(pos[0]-1,pos[1]+1),(pos[0]-1,pos[1]),(pos[0]+1,pos[1])]\n",
    "        for position in positions:\n",
    "            if position[0]<sparse_matrix_doc.shape[0] and position[1]<sparse_matrix_doc.shape[1] and position[0]>=0 and position[0]>=0:\n",
    "                dilated[position]=1\n",
    "    return(dilated)\n",
    "\n",
    "\n",
    "def zeroToOne(thin_image,i,j):\n",
    "    p2 = thin_image[i-1,j-1]\n",
    "    p3 = thin_image[i-1,j]\n",
    "    p4 = thin_image[i-1,j+1]\n",
    "    p5 = thin_image[i,j+1]\n",
    "    p6 = thin_image[i+1,j+1]\n",
    "    p7 = thin_image[i+1,j]\n",
    "    p8 = thin_image[i+1,j-1]\n",
    "    p9 = thin_image[i,j-1]\n",
    "    count = 0;\n",
    "    endpoint = 0;\n",
    "    if(p2+p3+p4+p5+p6+p7+p8+p9 == 1):\n",
    "        endpoint = 1\n",
    "    if(p2==0 and p3==1):\n",
    "        count = count + 1\n",
    "    if(p3==0 and p4==1):\n",
    "        count = count + 1\n",
    "    if(p4==0 and p5==1):\n",
    "        count = count + 1\n",
    "    if(p5==0 and p6==1):\n",
    "        count = count + 1\n",
    "    if(p6==0 and p7==1):\n",
    "        count = count + 1\n",
    "    if(p7==0 and p8==1):\n",
    "        count = count + 1\n",
    "    if(p8==0 and p9==1):\n",
    "        count = count + 1\n",
    "    if(p9==0 and p2==1):\n",
    "        count = count + 1\n",
    "    return count,endpoint\n",
    "\n",
    "\n",
    "\n",
    "\n",
    "def stentiford(image):\n",
    "    # Make copy of the image so that original image is not lost\n",
    "    thin_image=sparse.dok_matrix((image.shape[0]+2,image.shape[1]+2), dtype=bool)\n",
    "    thin_image[1:image.shape[0]+1,1:image.shape[1]+1]=image.copy()\n",
    "    check = 2\n",
    "    template = 1\n",
    "    outImage = 1\n",
    "    # Perform iterations as long as there are pixels marked for deletion\n",
    "    iteration = 0\n",
    "    total_changes = 0\n",
    "    while(outImage):\n",
    "        # Make outImage empty\n",
    "        outImage = []\n",
    "        changes = 0\n",
    "        iteration = iteration + 1 \n",
    "        # Loop through the pixels of the thin_image\n",
    "        for pos in thin_image.keys():\n",
    "            i=pos[0]\n",
    "            j=pos[1]\n",
    "            p0 = thin_image[i,j]\n",
    "            p1 = thin_image[i-1,j]\n",
    "            p2 = thin_image[i,j+1]\n",
    "            p3 = thin_image[i+1,j]\n",
    "            p4 = thin_image[i,j-1]\n",
    "            if(template==1):\n",
    "                template_match = (p1==0 and p3==1)\n",
    "            if(template==2):\n",
    "                template_match = (p2==1 and p4==0)\n",
    "            if(template==3):\n",
    "                template_match = (p1==1 and p3==0)\n",
    "            if(template==4):\n",
    "                template_match = (p2==0 and p4==1)\n",
    "            connectivity, isEndpoint = zeroToOne(thin_image,i,j)\n",
    "            if(template_match==1):\n",
    "                if(connectivity == 1):\n",
    "                    if(isEndpoint== 0):\n",
    "                        outImage.append((i,j))\n",
    "\n",
    "\n",
    "        # Delete the pixels marked for deletion\n",
    "        for i,j in outImage:\n",
    "            thin_image[i,j] = 0\n",
    "            changes = changes + 1\n",
    "        template = template+1\n",
    "        if(template==5):\n",
    "            template = 1\n",
    "        print(\"iteration: \", iteration, \"changes: \", changes)\n",
    "        total_changes = total_changes + changes\n",
    "\n",
    "    print(\"total_changes: \", total_changes)\n",
    "    return thin_image\n",
    "\n",
    "def hilditch(image):\n",
    "    Image_Thinned=sparse.dok_matrix((image.shape[0]+2,image.shape[1]+2), dtype=bool)\n",
    "    Image_Thinned[1:image.shape[0]+1,1:image.shape[1]+1]=image.copy()\n",
    "    changing1 = 1\n",
    "    i = 0\n",
    "    while changing1:\n",
    "        changes_occured = 0\n",
    "        changing1 = []\n",
    "        for pos in  Image_Thinned.keys():\n",
    "            x=pos[0]\n",
    "            y=pos[1]\n",
    "            P2,P3,P4,P5,P6,P7,P8,P9 = n = neighbours(x, y, Image_Thinned)\n",
    "            condition3 = (P4 * P6 * P8 == 0) or (zeroToOne(Image_Thinned,x-1,y-1)!=1)#p2\n",
    "            condition4 = (P4 * P6 * P6 == 0) or (zeroToOne(Image_Thinned,x-1,y+1)!=1)#p4\n",
    "            if (Image_Thinned[x,y] == 1 and 2 <= sum(n) <= 6 and transitions(n) == 1 and condition3 ==1 and condition4==1):\n",
    "                    changing1.append((x,y))\n",
    "        for x, y in changing1: \n",
    "            Image_Thinned[x,y] = 0\n",
    "            changes_occured = changes_occured + 1\n",
    "\n",
    "        i = i + 1\n",
    "        print(\"Iteration: \", i , \"changes_occured: \", changes_occured)\n",
    "    return Image_Thinned\n",
    "\n",
    "\n",
    "def neighbours(x,y,image):\n",
    "    \"Return 8-neighbours of image point P1(x,y), in a clockwise order\"\n",
    "    img = image\n",
    "    x_1, y_1, x1, y1 = x-1, y-1, x+1, y+1\n",
    "    return [ img[x_1,y], img[x_1,y1], img[x,y1], img[x1,y1],     # P2,P3,P4,P5\n",
    "                img[x1,y], img[x1,y_1], img[x,y_1], img[x_1,y_1] ]    # P6,P7,P8,P9\n",
    "\n",
    "def transitions(neighbours):\n",
    "    \"No. of 0,1 patterns (transitions from 0 to 1) in the ordered sequence\"\n",
    "    n = neighbours + neighbours[0:1]      # P2, P3, ... , P8, P9, P2\n",
    "    return sum( (n1, n2) == (0, 1) for n1, n2 in zip(n, n[1:]) )  # (P2,P3), (P3,P4), ... , (P8,P9), (P9,P2)\n",
    "\n",
    "def zhangSuen(image):\n",
    "    \"the Zhang-Suen Thinning Algorithm\"\n",
    "    Image_Thinned=sparse.dok_matrix((image.shape[0]+2,image.shape[1]+2), dtype=bool)\n",
    "    for pos in  image.keys():\n",
    "        Image_Thinned[pos[0]+1,pos[1]+1]=image[pos[0],pos[1]]\n",
    "    changing1 = changing2 = 1        #  the points to be removed (set as 0)\n",
    "    while changing1 or changing2:   #  iterates until no further changes occur in the image\n",
    "        # Step 1\n",
    "        changing1 = []\n",
    "        for pos in  Image_Thinned.keys():\n",
    "            x=pos[0]\n",
    "            y=pos[1]\n",
    "            P2,P3,P4,P5,P6,P7,P8,P9 = n = neighbours(x, y, Image_Thinned)\n",
    "            if (Image_Thinned[x,y] == 1     and    # Condition 0: Point P1 in the object regions \n",
    "                2 <= sum(n) <= 6   and    # Condition 1: 2<= N(P1) <= 6\n",
    "                transitions(n) == 1 and    # Condition 2: S(P1)=1  \n",
    "                P2 * P4 * P6 == 0  and    # Condition 3   \n",
    "                P4 * P6 * P8 == 0):         # Condition 4\n",
    "                changing1.append((x,y))\n",
    "        for x, y in changing1: \n",
    "            Image_Thinned[x,y] = 0\n",
    "        # Step 2\n",
    "        changing2 = []\n",
    "        for pos in  Image_Thinned.keys():\n",
    "            x=pos[0]\n",
    "            y=pos[1]\n",
    "            P2,P3,P4,P5,P6,P7,P8,P9 = n = neighbours(x, y, Image_Thinned)\n",
    "            if (Image_Thinned[x,y] == 1   and        # Condition 0\n",
    "                2 <= sum(n) <= 6  and       # Condition 1\n",
    "                transitions(n) == 1 and      # Condition 2\n",
    "                P2 * P4 * P8 == 0 and       # Condition 3\n",
    "                P2 * P6 * P8 == 0):            # Condition 4\n",
    "                changing2.append((x,y))    \n",
    "        for x, y in changing2: \n",
    "            Image_Thinned[x,y] = 0\n",
    "        print(len(changing1),len(changing2))\n",
    "    return Image_Thinned"
   ]
  },
  {
   "cell_type": "code",
   "execution_count": 16,
   "metadata": {},
   "outputs": [
    {
     "name": "stdout",
     "output_type": "stream",
     "text": [
      "152173 143365\n",
      "135266 129733\n",
      "125724 122008\n",
      "119138 116783\n",
      "114411 112589\n",
      "110666 108893\n",
      "106640 104616\n",
      "101831 99338\n",
      "96286 93089\n",
      "88745 84070\n",
      "77288 69799\n",
      "60814 52564\n",
      "44064 36347\n",
      "28378 21607\n",
      "16452 13156\n",
      "10129 7427\n",
      "5035 3738\n",
      "2685 2073\n",
      "1560 1219\n",
      "991 734\n",
      "611 465\n",
      "346 224\n",
      "188 143\n",
      "92 65\n",
      "30 24\n",
      "13 13\n",
      "6 3\n",
      "0 0\n"
     ]
    },
    {
     "data": {
      "text/plain": [
       "1228"
      ]
     },
     "execution_count": 16,
     "metadata": {},
     "output_type": "execute_result"
    }
   ],
   "source": [
    "skeleton_doc_1_dilated=dilate(skeleton_doc_small)\n",
    "skeleton_doc_1_thinned=zhangSuen(skeleton_doc_1_dilated)\n",
    "from extract_graph import from_sparse_to_graph, generate_nx_graph\n",
    "graph_tab_1_reconnected=from_sparse_to_graph(skeleton_doc_1_thinned)\n",
    "nx_graph_1,pos_1=generate_nx_graph(graph_tab_1_reconnected)\n",
    "connected_small=list(nx.connected_components(nx_graph_1))\n",
    "len(connected_small)"
   ]
  },
  {
   "cell_type": "code",
   "execution_count": 21,
   "metadata": {},
   "outputs": [],
   "source": [
    "nx_graph_clean=prune_graph(nx_graph_1)\n",
    "connected_small=list(nx.connected_components(nx_graph_clean))"
   ]
  },
  {
   "cell_type": "code",
   "execution_count": 22,
   "metadata": {},
   "outputs": [],
   "source": [
    "len_connected = [len(connected) for connected in connected_small]"
   ]
  },
  {
   "cell_type": "code",
   "execution_count": 23,
   "metadata": {},
   "outputs": [
    {
     "data": {
      "text/plain": [
       "[740, 8, 4, 4, 4, 23, 16]"
      ]
     },
     "execution_count": 23,
     "metadata": {},
     "output_type": "execute_result"
    }
   ],
   "source": [
    "len_connected"
   ]
  },
  {
   "cell_type": "code",
   "execution_count": 26,
   "metadata": {},
   "outputs": [
    {
     "data": {
      "application/vnd.jupyter.widget-view+json": {
       "model_id": "cf16c9ff96a24c41ba7b9a4b0fe17f88",
       "version_major": 2,
       "version_minor": 0
      },
      "text/plain": [
       "Canvas(toolbar=Toolbar(toolitems=[('Home', 'Reset original view', 'home', 'home'), ('Back', 'Back to previous …"
      ]
     },
     "metadata": {},
     "output_type": "display_data"
    }
   ],
   "source": [
    "plot_nodes_from_list(list(connected_small[-1]),pos_1,skeleton_doc_1_thinned.todense())"
   ]
  }
 ],
 "metadata": {
  "kernelspec": {
   "display_name": "cleanMsc",
   "language": "python",
   "name": "cleanmsc"
  },
  "language_info": {
   "codemirror_mode": {
    "name": "ipython",
    "version": 3
   },
   "file_extension": ".py",
   "mimetype": "text/x-python",
   "name": "python",
   "nbconvert_exporter": "python",
   "pygments_lexer": "ipython3",
   "version": "3.7.8"
  }
 },
 "nbformat": 4,
 "nbformat_minor": 4
}

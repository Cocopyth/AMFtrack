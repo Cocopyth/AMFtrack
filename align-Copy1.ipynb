{
 "cells": [
  {
   "cell_type": "code",
   "execution_count": 5,
   "metadata": {},
   "outputs": [
    {
     "name": "stdout",
     "output_type": "stream",
     "text": [
      "========\n",
      "Matching plate 29 at dates [datetime.datetime(2020, 9, 22, 8, 28), datetime.datetime(2020, 9, 22, 13, 37)]\n",
      "========\n",
      "2020-09-22 08:28:00\n",
      "2020-09-22 13:37:00\n"
     ]
    }
   ],
   "source": [
    "%matplotlib widget\n",
    "\n",
    "from util import get_path, get_dates_datetime, get_dirname\n",
    "import pandas as pd\n",
    "import networkx as nx\n",
    "import numpy as np\n",
    "import matplotlib.pyplot as plt\n",
    "from extract_graph import (\n",
    "    generate_nx_graph,\n",
    "    transform_list,\n",
    "    generate_skeleton,\n",
    "    generate_nx_graph_from_skeleton,\n",
    "    from_connection_tab,\n",
    "    from_nx_to_tab,\n",
    ")\n",
    "from node_id import whole_movement_identification, second_identification\n",
    "import ast\n",
    "from plotutil import plot_t_tp1, compress_skeleton\n",
    "from scipy import sparse\n",
    "from sparse_util import dilate, zhangSuen\n",
    "from realign import realign, realign_final\n",
    "from datetime import datetime, timedelta\n",
    "from node_id import orient\n",
    "import pickle\n",
    "from matplotlib.widgets import CheckButtons\n",
    "import scipy.io as sio\n",
    "import imageio\n",
    "from pymatreader import read_mat\n",
    "from matplotlib import colors\n",
    "from copy import deepcopy, copy\n",
    "from collections import Counter\n",
    "import cv2\n",
    "import imageio\n",
    "import matplotlib.pyplot as plt\n",
    "import numpy as np\n",
    "from skimage.filters import frangi\n",
    "from skimage.morphology import thin\n",
    "from skimage import data, filters\n",
    "from random import choice\n",
    "import scipy.sparse\n",
    "import os\n",
    "from time import time\n",
    "from extract_graph import (\n",
    "    dic_to_sparse,\n",
    "    from_sparse_to_graph,\n",
    "    generate_nx_graph,\n",
    "    prune_graph,\n",
    "    from_nx_to_tab,\n",
    "    from_nx_to_tab_matlab,\n",
    "    sparse_to_doc,\n",
    "    connections_pixel_list_to_tab,\n",
    "    transform_list,\n",
    "    clean_degree_4,\n",
    "    get_degree3_nodes,\n",
    ")\n",
    "from time import sleep\n",
    "from pycpd import RigidRegistration, DeformableRegistration\n",
    "import open3d as o3d\n",
    "from cycpd import rigid_registration\n",
    "import sys\n",
    "i = 146\n",
    "plate = 29\n",
    "thresh = 100000\n",
    "# directory = \"/projects/0/einf914/data/\"\n",
    "from directory import directory, run_parallel, find_state\n",
    "\n",
    "dates_datetime = get_dates_datetime(directory,plate)\n",
    "dates_datetime.sort()\n",
    "dates_datetime_chosen = dates_datetime[i : i + 2]\n",
    "print(\"========\")\n",
    "print(f\"Matching plate {plate} at dates {dates_datetime_chosen}\")\n",
    "print(\"========\")\n",
    "dates = dates_datetime_chosen\n",
    "kernel = np.ones((5,5),np.uint8)\n",
    "itera = 1\n",
    "dilateds = []\n",
    "skels2 = []\n",
    "skels = []\n",
    "skel_docs = []\n",
    "for date in dates:\n",
    "    print (date)\n",
    "    directory_name = get_dirname(date, plate)\n",
    "    path_snap = directory + directory_name\n",
    "    skel_info = read_mat(path_snap + \"/Analysis/skeleton_pruned.mat\")\n",
    "    skel_info2 = read_mat(path_snap+'/Analysis/skeleton_pruned_compressed.mat')\n",
    "    skel = skel_info[\"skeleton\"]\n",
    "    skel2 = skel_info2['skeleton']\n",
    "    skels2.append(cv2.dilate(skel2.astype(np.uint8),kernel,iterations = itera))\n",
    "    skels.append(skel)\n",
    "    skel_doc = sparse_to_doc(skel)\n",
    "    skel_docs.append(skel_doc)\n",
    "\n"
   ]
  },
  {
   "cell_type": "code",
   "execution_count": 3,
   "metadata": {},
   "outputs": [
    {
     "data": {
      "application/vnd.jupyter.widget-view+json": {
       "model_id": "f19558218b484a2d9b97c538e026a200",
       "version_major": 2,
       "version_minor": 0
      },
      "text/plain": [
       "Canvas(toolbar=Toolbar(toolitems=[('Home', 'Reset original view', 'home', 'home'), ('Back', 'Back to previous …"
      ]
     },
     "metadata": {},
     "output_type": "display_data"
    },
    {
     "data": {
      "application/vnd.jupyter.widget-view+json": {
       "model_id": "1fc4469e535c48e89ef9acb8eb6a7160",
       "version_major": 2,
       "version_minor": 0
      },
      "text/plain": [
       "Canvas(toolbar=Toolbar(toolitems=[('Home', 'Reset original view', 'home', 'home'), ('Back', 'Back to previous …"
      ]
     },
     "metadata": {},
     "output_type": "display_data"
    }
   ],
   "source": [
    "plt.close('all')\n",
    "start = 0\n",
    "finish = start +1\n",
    "for i in range(start,finish+1):\n",
    "    plot_t_tp1([],[],None,None,skels2[i],skels2[i])"
   ]
  },
  {
   "cell_type": "code",
   "execution_count": 6,
   "metadata": {},
   "outputs": [
    {
     "name": "stdout",
     "output_type": "stream",
     "text": [
      "Iteration:1\n",
      "ML:-40361.878; \tML change (error): 40361.878; \tSigma^2:90815506.080; \tSigma^2 change:107693528.950\n",
      "[                                                                        ]\n",
      "Iteration:2\n",
      "ML:-10201.043; \tML change (error): 30160.836; \tSigma^2:55522936.168; \tSigma^2 change:35292569.911\n",
      "[=                                                                       ]\n",
      "Iteration:3\n",
      "ML:  3924.231; \tML change (error): 14125.273; \tSigma^2:38588612.265; \tSigma^2 change:16934323.903\n",
      "[==                                                                      ]\n",
      "Iteration:4\n",
      "ML: 12438.889; \tML change (error):  8514.659; \tSigma^2:28778667.912; \tSigma^2 change:9809944.353\n",
      "[==                                                                      ]\n",
      "Iteration:5\n",
      "ML: 18336.358; \tML change (error):  5897.469; \tSigma^2:22404582.880; \tSigma^2 change:6374085.032\n",
      "[===                                                                     ]\n",
      "Iteration:6\n",
      "ML: 22812.173; \tML change (error):  4475.814; \tSigma^2:17951563.182; \tSigma^2 change:4453019.698\n",
      "[====                                                                    ]\n",
      "Iteration:7\n",
      "ML: 26409.717; \tML change (error):  3597.545; \tSigma^2:14692622.650; \tSigma^2 change:3258940.532\n",
      "[=====                                                                   ]\n",
      "Iteration:8\n",
      "ML: 29401.244; \tML change (error):  2991.527; \tSigma^2:12231894.793; \tSigma^2 change:2460727.857\n",
      "[=====                                                                   ]\n",
      "Iteration:9\n",
      "ML: 31939.725; \tML change (error):  2538.481; \tSigma^2:10330639.694; \tSigma^2 change:1901255.098\n",
      "[======                                                                  ]\n",
      "Iteration:10\n",
      "ML: 34123.537; \tML change (error):  2183.812; \tSigma^2:8833706.146; \tSigma^2 change:1496933.548\n",
      "[=======                                                                 ]\n",
      "Iteration:11\n",
      "ML: 36023.915; \tML change (error):  1900.378; \tSigma^2:7635230.502; \tSigma^2 change:1198475.644\n",
      "[=======                                                                 ]\n",
      "Iteration:12\n",
      "ML: 37696.284; \tML change (error):  1672.369; \tSigma^2:6660793.750; \tSigma^2 change:974436.752\n",
      "[========                                                                ]\n",
      "Iteration:13\n",
      "ML: 39185.043; \tML change (error):  1488.759; \tSigma^2:5857088.848; \tSigma^2 change:803704.902\n",
      "[=========                                                               ]\n",
      "Iteration:14\n",
      "ML: 40525.944; \tML change (error):  1340.901; \tSigma^2:5185411.816; \tSigma^2 change:671677.031\n",
      "[==========                                                              ]\n",
      "Iteration:15\n",
      "ML: 41747.643; \tML change (error):  1221.699; \tSigma^2:4617334.228; \tSigma^2 change:568077.588\n",
      "[==========                                                              ]\n",
      "Iteration:16\n",
      "ML: 42872.932; \tML change (error):  1125.290; \tSigma^2:4131737.548; \tSigma^2 change:485596.681\n",
      "[===========                                                             ]\n",
      "Iteration:17\n",
      "ML: 43919.789; \tML change (error):  1046.857; \tSigma^2:3712747.920; \tSigma^2 change:418989.627\n",
      "[============                                                            ]\n",
      "Iteration:18\n",
      "ML: 44902.268; \tML change (error):   982.478; \tSigma^2:3348285.456; \tSigma^2 change:364462.464\n",
      "[============                                                            ]\n",
      "Iteration:19\n",
      "ML: 45831.243; \tML change (error):   928.976; \tSigma^2:3029039.590; \tSigma^2 change:319245.866\n",
      "[=============                                                           ]\n",
      "Iteration:20\n",
      "ML: 46715.021; \tML change (error):   883.777; \tSigma^2:2747742.083; \tSigma^2 change:281297.507\n",
      "[==============                                                          ]\n",
      "Iteration:21\n",
      "ML: 47559.819; \tML change (error):   844.798; \tSigma^2:2498648.444; \tSigma^2 change:249093.639\n",
      "[===============                                                         ]\n",
      "Iteration:22\n",
      "ML: 48370.154; \tML change (error):   810.335; \tSigma^2:2277165.059; \tSigma^2 change:221483.385\n",
      "[===============                                                         ]\n",
      "Iteration:23\n",
      "ML: 49149.143; \tML change (error):   778.988; \tSigma^2:2079577.719; \tSigma^2 change:197587.340\n",
      "[================                                                        ]\n",
      "Iteration:24\n",
      "ML: 49898.743; \tML change (error):   749.601; \tSigma^2:1902850.410; \tSigma^2 change:176727.308\n",
      "[=================                                                       ]\n",
      "Iteration:25\n",
      "ML: 50619.973; \tML change (error):   721.230; \tSigma^2:1744472.983; \tSigma^2 change:158377.427\n",
      "[==================                                                      ]\n",
      "Iteration:26\n",
      "ML: 51313.108; \tML change (error):   693.135; \tSigma^2:1602343.610; \tSigma^2 change:142129.373\n",
      "[==================                                                      ]\n",
      "Iteration:27\n",
      "ML: 51977.889; \tML change (error):   664.782; \tSigma^2:1474677.243; \tSigma^2 change:127666.367\n",
      "[===================                                                     ]\n",
      "Iteration:28\n",
      "ML: 52613.733; \tML change (error):   635.844; \tSigma^2:1359934.702; \tSigma^2 change:114742.542\n",
      "[====================                                                    ]\n",
      "Iteration:29\n",
      "ML: 53219.931; \tML change (error):   606.198; \tSigma^2:1256768.882; \tSigma^2 change:103165.820\n",
      "[====================                                                    ]\n",
      "Iteration:30\n",
      "ML: 53795.828; \tML change (error):   575.897; \tSigma^2:1163985.249; \tSigma^2 change: 92783.632\n",
      "[=====================                                                   ]\n",
      "Iteration:31\n",
      "ML: 54340.966; \tML change (error):   545.138; \tSigma^2:1080513.864; \tSigma^2 change: 83471.386\n",
      "[======================                                                  ]\n",
      "Iteration:32\n",
      "ML: 54855.172; \tML change (error):   514.206; \tSigma^2:1005390.153; \tSigma^2 change: 75123.711\n",
      "[=======================                                                 ]\n",
      "Iteration:33\n",
      "ML: 55338.607; \tML change (error):   483.435; \tSigma^2:937741.832; \tSigma^2 change: 67648.320\n",
      "[=======================                                                 ]\n",
      "Iteration:34\n",
      "ML: 55791.766; \tML change (error):   453.159; \tSigma^2:876779.764; \tSigma^2 change: 60962.068\n",
      "[========================                                                ]\n",
      "Iteration:35\n",
      "ML: 56215.453; \tML change (error):   423.687; \tSigma^2:821791.102; \tSigma^2 change: 54988.662\n",
      "[=========================                                               ]\n",
      "Iteration:36\n",
      "ML: 56610.732; \tML change (error):   395.279; \tSigma^2:772133.626; \tSigma^2 change: 49657.477\n",
      "[=========================                                               ]\n",
      "Iteration:37\n",
      "ML: 56978.871; \tML change (error):   368.139; \tSigma^2:727230.603; \tSigma^2 change: 44903.023\n",
      "[==========================                                              ]\n",
      "Iteration:38\n",
      "ML: 57321.281; \tML change (error):   342.410; \tSigma^2:686565.870; \tSigma^2 change: 40664.733\n",
      "[===========================                                             ]\n",
      "Iteration:39\n",
      "ML: 57639.464; \tML change (error):   318.183; \tSigma^2:649678.991; \tSigma^2 change: 36886.879\n",
      "[============================                                            ]\n",
      "Iteration:40\n",
      "ML: 57934.961; \tML change (error):   295.497; \tSigma^2:616160.497; \tSigma^2 change: 33518.494\n",
      "[============================                                            ]\n",
      "Iteration:41\n",
      "ML: 58209.310; \tML change (error):   274.349; \tSigma^2:585647.224; \tSigma^2 change: 30513.273\n",
      "[=============================                                           ]\n",
      "Iteration:42\n",
      "ML: 58464.015; \tML change (error):   254.705; \tSigma^2:557817.817; \tSigma^2 change: 27829.407\n",
      "[==============================                                          ]\n",
      "Iteration:43\n",
      "ML: 58700.521; \tML change (error):   236.506; \tSigma^2:532388.439; \tSigma^2 change: 25429.377\n",
      "[==============================                                          ]\n",
      "Iteration:44\n",
      "ML: 58920.197; \tML change (error):   219.676; \tSigma^2:509108.736; \tSigma^2 change: 23279.704\n",
      "[===============================                                         ]\n",
      "Iteration:45\n",
      "ML: 59124.324; \tML change (error):   204.127; \tSigma^2:487758.070; \tSigma^2 change: 21350.666\n",
      "[================================                                        ]\n",
      "Iteration:46\n",
      "ML: 59314.090; \tML change (error):   189.767; \tSigma^2:468142.066; \tSigma^2 change: 19616.004\n",
      "[=================================                                       ]\n",
      "Iteration:47\n",
      "ML: 59490.592; \tML change (error):   176.502; \tSigma^2:450089.452; \tSigma^2 change: 18052.614\n",
      "[=================================                                       ]\n",
      "Iteration:48\n",
      "ML: 59654.834; \tML change (error):   164.242; \tSigma^2:433449.208; \tSigma^2 change: 16640.244\n",
      "[==================================                                      ]\n"
     ]
    },
    {
     "ename": "KeyboardInterrupt",
     "evalue": "",
     "output_type": "error",
     "traceback": [
      "\u001b[0;31m---------------------------------------------------------------------------\u001b[0m",
      "\u001b[0;31mKeyboardInterrupt\u001b[0m                         Traceback (most recent call last)",
      "\u001b[0;32m<ipython-input-6-3fdb328a242b>\u001b[0m in \u001b[0;36m<module>\u001b[0;34m\u001b[0m\n\u001b[1;32m     15\u001b[0m         }\n\u001b[1;32m     16\u001b[0m     )\n\u001b[0;32m---> 17\u001b[0;31m     \u001b[0mout\u001b[0m \u001b[0;34m=\u001b[0m \u001b[0mreg\u001b[0m\u001b[0;34m.\u001b[0m\u001b[0mregister\u001b[0m\u001b[0;34m(\u001b[0m\u001b[0;34m)\u001b[0m\u001b[0;34m\u001b[0m\u001b[0;34m\u001b[0m\u001b[0m\n\u001b[0m\u001b[1;32m     18\u001b[0m     \u001b[0mRfound\u001b[0m \u001b[0;34m=\u001b[0m \u001b[0mreg\u001b[0m\u001b[0;34m.\u001b[0m\u001b[0mR\u001b[0m\u001b[0;34m[\u001b[0m\u001b[0;36m0\u001b[0m\u001b[0;34m:\u001b[0m\u001b[0;36m2\u001b[0m\u001b[0;34m,\u001b[0m \u001b[0;36m0\u001b[0m\u001b[0;34m:\u001b[0m\u001b[0;36m2\u001b[0m\u001b[0;34m]\u001b[0m\u001b[0;34m\u001b[0m\u001b[0;34m\u001b[0m\u001b[0m\n\u001b[1;32m     19\u001b[0m     \u001b[0mtfound\u001b[0m \u001b[0;34m=\u001b[0m \u001b[0mnp\u001b[0m\u001b[0;34m.\u001b[0m\u001b[0mdot\u001b[0m\u001b[0;34m(\u001b[0m\u001b[0mRfound\u001b[0m\u001b[0;34m,\u001b[0m \u001b[0mreg\u001b[0m\u001b[0;34m.\u001b[0m\u001b[0mt\u001b[0m\u001b[0;34m[\u001b[0m\u001b[0;36m0\u001b[0m\u001b[0;34m:\u001b[0m\u001b[0;36m2\u001b[0m\u001b[0;34m]\u001b[0m\u001b[0;34m)\u001b[0m\u001b[0;34m\u001b[0m\u001b[0;34m\u001b[0m\u001b[0m\n",
      "\u001b[0;32m~/anaconda3/envs/test/lib/python3.7/site-packages/cycpd-0.0.1-py3.7-linux-x86_64.egg/cycpd/expectation_maximization_registration.py\u001b[0m in \u001b[0;36mregister\u001b[0;34m(self, callback)\u001b[0m\n\u001b[1;32m     59\u001b[0m         \u001b[0mself\u001b[0m\u001b[0;34m.\u001b[0m\u001b[0mtime_to_initiate_registration\u001b[0m \u001b[0;34m=\u001b[0m \u001b[0mtoc\u001b[0m\u001b[0;34m-\u001b[0m\u001b[0mtic\u001b[0m\u001b[0;34m\u001b[0m\u001b[0;34m\u001b[0m\u001b[0m\n\u001b[1;32m     60\u001b[0m         \u001b[0;32mwhile\u001b[0m \u001b[0;34m(\u001b[0m\u001b[0mself\u001b[0m\u001b[0;34m.\u001b[0m\u001b[0miteration\u001b[0m \u001b[0;34m<\u001b[0m \u001b[0mself\u001b[0m\u001b[0;34m.\u001b[0m\u001b[0mmax_iterations\u001b[0m\u001b[0;34m)\u001b[0m \u001b[0;32mand\u001b[0m \u001b[0;34m(\u001b[0m\u001b[0mself\u001b[0m\u001b[0;34m.\u001b[0m\u001b[0merr\u001b[0m \u001b[0;34m>\u001b[0m \u001b[0mself\u001b[0m\u001b[0;34m.\u001b[0m\u001b[0mtolerance\u001b[0m\u001b[0;34m)\u001b[0m \u001b[0;32mand\u001b[0m \u001b[0;34m(\u001b[0m\u001b[0mself\u001b[0m\u001b[0;34m.\u001b[0m\u001b[0msigma2\u001b[0m \u001b[0;34m>\u001b[0m \u001b[0mnp\u001b[0m\u001b[0;34m.\u001b[0m\u001b[0mfinfo\u001b[0m\u001b[0;34m(\u001b[0m\u001b[0mfloat\u001b[0m\u001b[0;34m)\u001b[0m\u001b[0;34m.\u001b[0m\u001b[0meps\u001b[0m\u001b[0;34m)\u001b[0m\u001b[0;34m:\u001b[0m\u001b[0;34m\u001b[0m\u001b[0;34m\u001b[0m\u001b[0m\n\u001b[0;32m---> 61\u001b[0;31m             \u001b[0mself\u001b[0m\u001b[0;34m.\u001b[0m\u001b[0miterate\u001b[0m\u001b[0;34m(\u001b[0m\u001b[0;34m)\u001b[0m\u001b[0;34m\u001b[0m\u001b[0;34m\u001b[0m\u001b[0m\n\u001b[0m\u001b[1;32m     62\u001b[0m             \u001b[0;32mif\u001b[0m \u001b[0mcallable\u001b[0m\u001b[0;34m(\u001b[0m\u001b[0mcallback\u001b[0m\u001b[0;34m)\u001b[0m\u001b[0;34m:\u001b[0m\u001b[0;34m\u001b[0m\u001b[0;34m\u001b[0m\u001b[0m\n\u001b[1;32m     63\u001b[0m                 \u001b[0mkwargs\u001b[0m \u001b[0;34m=\u001b[0m \u001b[0;34m{\u001b[0m\u001b[0;34m'iteration'\u001b[0m\u001b[0;34m:\u001b[0m \u001b[0mself\u001b[0m\u001b[0;34m.\u001b[0m\u001b[0miteration\u001b[0m\u001b[0;34m,\u001b[0m \u001b[0;34m'error'\u001b[0m\u001b[0;34m:\u001b[0m \u001b[0mself\u001b[0m\u001b[0;34m.\u001b[0m\u001b[0merr\u001b[0m\u001b[0;34m,\u001b[0m \u001b[0;34m'X'\u001b[0m\u001b[0;34m:\u001b[0m \u001b[0mself\u001b[0m\u001b[0;34m.\u001b[0m\u001b[0mX\u001b[0m\u001b[0;34m,\u001b[0m \u001b[0;34m'Y'\u001b[0m\u001b[0;34m:\u001b[0m \u001b[0mself\u001b[0m\u001b[0;34m.\u001b[0m\u001b[0mTY\u001b[0m\u001b[0;34m}\u001b[0m\u001b[0;34m\u001b[0m\u001b[0;34m\u001b[0m\u001b[0m\n",
      "\u001b[0;32m~/anaconda3/envs/test/lib/python3.7/site-packages/cycpd-0.0.1-py3.7-linux-x86_64.egg/cycpd/expectation_maximization_registration.py\u001b[0m in \u001b[0;36miterate\u001b[0;34m(self)\u001b[0m\n\u001b[1;32m     93\u001b[0m         \u001b[0mself\u001b[0m\u001b[0;34m.\u001b[0m\u001b[0mE_old\u001b[0m \u001b[0;34m=\u001b[0m \u001b[0mself\u001b[0m\u001b[0;34m.\u001b[0m\u001b[0mE\u001b[0m  \u001b[0;31m# E = negative log-likelihood function\u001b[0m\u001b[0;34m\u001b[0m\u001b[0;34m\u001b[0m\u001b[0m\n\u001b[1;32m     94\u001b[0m         \u001b[0mtic\u001b[0m \u001b[0;34m=\u001b[0m \u001b[0mtime\u001b[0m\u001b[0;34m.\u001b[0m\u001b[0mtime\u001b[0m\u001b[0;34m(\u001b[0m\u001b[0;34m)\u001b[0m\u001b[0;34m\u001b[0m\u001b[0;34m\u001b[0m\u001b[0m\n\u001b[0;32m---> 95\u001b[0;31m         \u001b[0mself\u001b[0m\u001b[0;34m.\u001b[0m\u001b[0mexpectation\u001b[0m\u001b[0;34m(\u001b[0m\u001b[0;34m)\u001b[0m\u001b[0;34m\u001b[0m\u001b[0;34m\u001b[0m\u001b[0m\n\u001b[0m\u001b[1;32m     96\u001b[0m         \u001b[0mtoc\u001b[0m \u001b[0;34m=\u001b[0m \u001b[0mtime\u001b[0m\u001b[0;34m.\u001b[0m\u001b[0mtime\u001b[0m\u001b[0;34m(\u001b[0m\u001b[0;34m)\u001b[0m\u001b[0;34m\u001b[0m\u001b[0;34m\u001b[0m\u001b[0m\n\u001b[1;32m     97\u001b[0m         \u001b[0mself\u001b[0m\u001b[0;34m.\u001b[0m\u001b[0mexpectation_times\u001b[0m\u001b[0;34m.\u001b[0m\u001b[0mappend\u001b[0m\u001b[0;34m(\u001b[0m\u001b[0mtoc\u001b[0m\u001b[0;34m-\u001b[0m\u001b[0mtic\u001b[0m\u001b[0;34m)\u001b[0m\u001b[0;34m\u001b[0m\u001b[0;34m\u001b[0m\u001b[0m\n",
      "\u001b[0;32m~/anaconda3/envs/test/lib/python3.7/site-packages/cycpd-0.0.1-py3.7-linux-x86_64.egg/cycpd/expectation_maximization_registration.py\u001b[0m in \u001b[0;36mexpectation\u001b[0;34m(self)\u001b[0m\n\u001b[1;32m    123\u001b[0m                                                                     \u001b[0mself\u001b[0m\u001b[0;34m.\u001b[0m\u001b[0mN\u001b[0m\u001b[0;34m,\u001b[0m\u001b[0;34m\u001b[0m\u001b[0;34m\u001b[0m\u001b[0m\n\u001b[1;32m    124\u001b[0m                                                                     \u001b[0mself\u001b[0m\u001b[0;34m.\u001b[0m\u001b[0mD\u001b[0m\u001b[0;34m,\u001b[0m\u001b[0;34m\u001b[0m\u001b[0;34m\u001b[0m\u001b[0m\n\u001b[0;32m--> 125\u001b[0;31m                                                                     self.w)\n\u001b[0m\u001b[1;32m    126\u001b[0m \u001b[0;34m\u001b[0m\u001b[0m\n\u001b[1;32m    127\u001b[0m \u001b[0;34m\u001b[0m\u001b[0m\n",
      "\u001b[0;31mKeyboardInterrupt\u001b[0m: "
     ]
    }
   ],
   "source": [
    "isnan = True\n",
    "for order in [(0,1),(1,0)]:\n",
    "    skeleton1, skeleton2 = skel_docs[order[0]], skel_docs[order[1]]\n",
    "    skelet_pos = np.array(list(skeleton1.keys()))\n",
    "    samples = np.random.choice(skelet_pos.shape[0], len(skeleton2.keys()) // 100)\n",
    "    X = np.transpose(skelet_pos[samples, :])\n",
    "    skelet_pos = np.array(list(skeleton2.keys()))\n",
    "    samples = np.random.choice(skelet_pos.shape[0], len(skeleton2.keys()) // 100)\n",
    "    Y = np.transpose(skelet_pos[samples, :])\n",
    "    reg = rigid_registration(\n",
    "        **{\n",
    "            \"X\": np.transpose(X.astype(float)),\n",
    "            \"Y\": np.transpose(Y.astype(float)),\n",
    "            \"scale\": False,'tolerance' : 1e-5, 'w' : 1e-5\n",
    "        }\n",
    "    )\n",
    "    out = reg.register()\n",
    "    Rfound = reg.R[0:2, 0:2]\n",
    "    tfound = np.dot(Rfound, reg.t[0:2])\n",
    "    if order == (0,1):\n",
    "        t_init = -tfound\n",
    "        Rot_init = Rfound\n",
    "    else:\n",
    "        Rot_init,t_init = np.linalg.inv(Rfound), np.dot(np.linalg.inv(Rfound),tfound)\n",
    "    sigma2 = reg.sigma2\n",
    "    if sigma2>=thresh:\n",
    "        print(\"========\")\n",
    "        print(f\"Failed to match plate {plate} at dates {dates_datetime_chosen}\")\n",
    "        print(\"========\")\n",
    "        continue\n",
    "    isnan = np.isnan(tfound[0])\n",
    "    if isnan:\n",
    "        continue\n",
    "#     X = np.transpose(\n",
    "#         np.array([pos1[node] for node in pruned1 if pruned1.degree(node) == 3])\n",
    "#     )\n",
    "#     Y = np.transpose(\n",
    "#         np.array([pos2[node] for node in pruned2 if pruned2.degree(node) == 3])\n",
    "#     )\n",
    "    skeleton1, skeleton2 = skel_docs[0], skel_docs[1]\n",
    "    X = np.transpose(\n",
    "        np.array(get_degree3_nodes(skeleton1))\n",
    "    )\n",
    "    Y = np.transpose(\n",
    "        np.array(get_degree3_nodes(skeleton2))\n",
    "    )\n",
    "    # fig=plt.figure(figsize=(10,9))\n",
    "    # ax = fig.add_subplot(111)\n",
    "    # ax.scatter(X[0,:],X[1,:])\n",
    "    # ax.scatter(Y[0,:],Y[1,:])\n",
    "#     Xex = np.transpose(np.transpose(np.dot(Rot_init, X)) + t_init)\n",
    "    # fig=plt.figure(figsize=(10,9))\n",
    "    # ax = fig.add_subplot(111)\n",
    "    # ax.scatter(Xex[0,:],Xex[1,:])\n",
    "    # ax.scatter(Y[0,:],Y[1,:])\n",
    "    X = np.insert(X, 2, values=0, axis=0)\n",
    "    Y = np.insert(Y, 2, values=0, axis=0)\n",
    "    print(X.shape, Y.shape)\n",
    "    vectorX = o3d.utility.Vector3dVector(np.transpose(X))\n",
    "    vectorY = o3d.utility.Vector3dVector(np.transpose(Y))\n",
    "    source = o3d.geometry.PointCloud(vectorX)\n",
    "    target = o3d.geometry.PointCloud(vectorY)\n",
    "    threshold = 200\n",
    "    trans_init = np.asarray(\n",
    "        [\n",
    "            [Rot_init[0, 0], Rot_init[0, 1], 0, t_init[0]],\n",
    "            [Rot_init[1, 0], Rot_init[1, 1], 0, t_init[1]],\n",
    "            [0, 0, 1, 0],\n",
    "            [0.0, 0.0, 0.0, 1.0],\n",
    "        ]\n",
    "    )\n",
    "    reg_p2p = o3d.registration.registration_icp(\n",
    "        source,\n",
    "        target,\n",
    "        threshold,\n",
    "        trans_init,\n",
    "        o3d.registration.TransformationEstimationPointToPoint(),\n",
    "    )\n",
    "    print(reg_p2p)\n",
    "    Rfound = reg_p2p.transformation[0:2, 0:2]\n",
    "    tfound = reg_p2p.transformation[0:2, 3]\n",
    "    print(Rfound, tfound)\n",
    "    X, Y = X[0:2, :], Y[0:2, :]\n",
    "    Yrep = np.transpose(np.transpose(np.dot(Rfound, X)) + tfound)\n",
    "    # fig=plt.figure(figsize=(10,9))\n",
    "    # ax = fig.add_subplot(111)\n",
    "    # ax.scatter(np.transpose(Yrep)[:,0],np.transpose(Yrep)[:,1])\n",
    "    # ax.scatter(np.transpose(Y)[:,0],np.transpose(Y)[:,1])\n",
    "    break\n",
    "\n",
    "if not isnan:    \n",
    "    sio.savemat(path_snap + \"/Analysis/transform.mat\", {\"R\": Rfound, \"t\": tfound})\n",
    "else :    \n",
    "    sio.savemat(path_snap + \"/Analysis/transform_corrupt.mat\", {\"R\": np.array([[1,0],[0,1]]), \"t\": np.array([0,0])})"
   ]
  },
  {
   "cell_type": "code",
   "execution_count": 18,
   "metadata": {},
   "outputs": [
    {
     "data": {
      "application/vnd.jupyter.widget-view+json": {
       "model_id": "860efc01df98459fbb0480f69afcc14f",
       "version_major": 2,
       "version_minor": 0
      },
      "text/plain": [
       "Canvas(toolbar=Toolbar(toolitems=[('Home', 'Reset original view', 'home', 'home'), ('Back', 'Back to previous …"
      ]
     },
     "metadata": {},
     "output_type": "display_data"
    },
    {
     "data": {
      "text/plain": [
       "<matplotlib.collections.PathCollection at 0x2b20843e85d0>"
      ]
     },
     "execution_count": 18,
     "metadata": {},
     "output_type": "execute_result"
    }
   ],
   "source": [
    "skeleton1, skeleton2 = skel_docs[0], skel_docs[1]\n",
    "skelet_pos = np.array(list(skeleton1.keys()))\n",
    "samples = np.random.choice(skelet_pos.shape[0], len(skeleton2.keys()) // 100)\n",
    "X = np.transpose(skelet_pos[samples, :])\n",
    "skelet_pos = np.array(list(skeleton2.keys()))\n",
    "samples = np.random.choice(skelet_pos.shape[0], len(skeleton2.keys()) // 100)\n",
    "Y = np.transpose(skelet_pos[samples, :])\n",
    "fig=plt.figure(figsize=(10,9))\n",
    "ax = fig.add_subplot(111)\n",
    "R,t = Rfound, tfound\n",
    "# R,t = np.linalg.inv(Rfound), np.dot(np.linalg.inv(Rfound),tfound)\n",
    "Yrep=np.transpose(np.transpose(np.dot(R,X))+t)\n",
    "ax.scatter(np.transpose(Yrep)[:,0],np.transpose(Yrep)[:,1])\n",
    "ax.scatter(np.transpose(Y)[:,0],np.transpose(Y)[:,1])"
   ]
  },
  {
   "cell_type": "code",
   "execution_count": 14,
   "metadata": {},
   "outputs": [],
   "source": [
    "transform = sio.loadmat(path_snap+'/Analysis/transform.mat')\n",
    "R,t = transform['R'],transform['t']"
   ]
  },
  {
   "cell_type": "code",
   "execution_count": 18,
   "metadata": {},
   "outputs": [
    {
     "data": {
      "text/plain": [
       "1.09463192611742"
      ]
     },
     "execution_count": 18,
     "metadata": {},
     "output_type": "execute_result"
    }
   ],
   "source": [
    "tfound[0]"
   ]
  },
  {
   "cell_type": "code",
   "execution_count": 15,
   "metadata": {},
   "outputs": [
    {
     "data": {
      "text/plain": [
       "(array([[ 9.99999979e-01,  2.06116401e-04],\n",
       "        [-2.06116401e-04,  9.99999979e-01]]),\n",
       " array([[  1.09463193, -22.7894256 ]]))"
      ]
     },
     "execution_count": 15,
     "metadata": {},
     "output_type": "execute_result"
    }
   ],
   "source": [
    "R,t"
   ]
  },
  {
   "cell_type": "code",
   "execution_count": 16,
   "metadata": {},
   "outputs": [
    {
     "data": {
      "text/plain": [
       "[datetime.datetime(2020, 7, 19, 5, 25), datetime.datetime(2020, 7, 19, 9, 25)]"
      ]
     },
     "execution_count": 16,
     "metadata": {},
     "output_type": "execute_result"
    }
   ],
   "source": [
    "dates_datetime_chosen"
   ]
  },
  {
   "cell_type": "code",
   "execution_count": 8,
   "metadata": {},
   "outputs": [
    {
     "data": {
      "application/vnd.jupyter.widget-view+json": {
       "model_id": "798eda269cc14219ae2b6e88337b541a",
       "version_major": 2,
       "version_minor": 0
      },
      "text/plain": [
       "Canvas(toolbar=Toolbar(toolitems=[('Home', 'Reset original view', 'home', 'home'), ('Back', 'Back to previous …"
      ]
     },
     "metadata": {},
     "output_type": "display_data"
    },
    {
     "data": {
      "text/plain": [
       "<matplotlib.collections.PathCollection at 0x2b5749ec83d0>"
      ]
     },
     "execution_count": 8,
     "metadata": {},
     "output_type": "execute_result"
    }
   ],
   "source": [
    "%matplotlib widget\n",
    "\n",
    "Yrep=np.transpose(np.transpose(np.dot(R,X))+t)\n",
    "fig=plt.figure(figsize=(10,9))\n",
    "ax = fig.add_subplot(111)\n",
    "ax.scatter(np.transpose(Yrep)[:,0],np.transpose(Yrep)[:,1])\n",
    "ax.scatter(np.transpose(Y)[:,0],np.transpose(Y)[:,1])"
   ]
  },
  {
   "cell_type": "code",
   "execution_count": 8,
   "metadata": {},
   "outputs": [],
   "source": [
    "plate = 9\n",
    "directory = \"/scratch/shared/mrozemul/Fiji.app/\" \n",
    "listdir=os.listdir(directory) \n",
    "list_dir_interest=[name for name in listdir if name.split('_')[-1]==f'Plate{0 if plate<10 else \"\"}{plate}']\n",
    "ss=[name.split('_')[0] for name in list_dir_interest]\n",
    "ff=[name.split('_')[1] for name in list_dir_interest]\n",
    "dates_datetime=[datetime(year=int(ss[i][:4]),month=int(ss[i][4:6]),day=int(ss[i][6:8]),hour=int(ff[i][0:2]),minute=int(ff[i][2:4])) for i in range(len(list_dir_interest))]\n",
    "dates_datetime.sort()\n",
    "dates_datetime_chosen=dates_datetime"
   ]
  },
  {
   "cell_type": "code",
   "execution_count": 15,
   "metadata": {},
   "outputs": [
    {
     "data": {
      "text/plain": [
       "(datetime.datetime(2020, 7, 16, 11, 34), datetime.datetime(2020, 7, 18, 9, 25))"
      ]
     },
     "execution_count": 15,
     "metadata": {},
     "output_type": "execute_result"
    }
   ],
   "source": [
    "dates_datetime_chosen[12],dates_datetime_chosen[13]"
   ]
  },
  {
   "cell_type": "code",
   "execution_count": 24,
   "metadata": {},
   "outputs": [],
   "source": [
    "import pandas as pd\n",
    "import networkx as nx\n",
    "import numpy as np\n",
    "from extract_graph import generate_nx_graph, transform_list, generate_skeleton, generate_nx_graph_from_skeleton, from_nx_to_tab\n",
    "from node_id import whole_movement_identification\n",
    "import ast\n",
    "from plotutil import plot_t_tp1\n",
    "from scipy import sparse\n",
    "from sparse_util import dilate, zhangSuen\n",
    "from scipy.optimize import minimize\n",
    "from time import time\n",
    "from extract_graph import dic_to_sparse, from_sparse_to_graph, generate_nx_graph, prune_graph, from_nx_to_tab, from_nx_to_tab_matlab,sparse_to_doc, connections_pixel_list_to_tab, transform_list, clean_degree_4\n",
    "import open3d as o3d\n",
    "\n",
    "\n",
    "def transform_skeleton(skeleton_doc,Rot,trans):\n",
    "    transformed_skeleton={}\n",
    "    transformed_keys = np.round(np.transpose(np.dot(Rot,np.transpose(np.array(list(skeleton_doc.keys())))))+trans).astype(np.int)\n",
    "    i=0\n",
    "    for pixel in list(transformed_keys):\n",
    "        i+=1\n",
    "        transformed_skeleton[(pixel[0],pixel[1])]=1\n",
    "    return(transformed_skeleton)\n",
    "\n",
    "def realign(skeleton1,nx_graphB,posB,convergence_threshold,window=500,maxdist=50,save=''):\n",
    "    converged=False\n",
    "    nx_graphA,posA=generate_nx_graph_from_skeleton(skeleton1) \n",
    "    t0=np.array([0,0])\n",
    "    R0=np.identity(2)\n",
    "    while not converged:\n",
    "        listeA,listeB = find_common_group_nodes(nx_graphA,nx_graphB,posA,posB,R0,t0,maxdist=maxdist,window=window)\n",
    "        H=np.dot(np.transpose(np.array(listeA)-np.mean(listeA,axis=0)),np.array(listeB)-np.mean(listeB,axis=0))\n",
    "        U,S,V=np.linalg.svd(H)\n",
    "        R=np.dot(V,np.transpose(U))\n",
    "        t=np.mean(listeB,axis=0)-np.dot(R,np.mean(listeA,axis=0))\n",
    "        print(\"number_common_nodes_found :\",len(listeA))\n",
    "        if np.linalg.norm(t)<=convergence_threshold:\n",
    "            converged=True\n",
    "        R0=np.dot(R,R0)\n",
    "        t0=t+t0\n",
    "    skeleton_transformed=transform_skeleton(skeleton1,R0,t0)\n",
    "    skeleton_transformed=dilate(skeleton_transformed)\n",
    "    skeleton_transformed=dilate(skeleton_transformed)\n",
    "    skeleton_transformed=zhangSuen(skeleton_transformed)\n",
    "    if len(save)>=0:\n",
    "        from_nx_to_tab(*generate_nx_graph_from_skeleton(skeleton_transformed)).to_csv(save+'_raw_aligned_skeleton.csv')\n",
    "        np.savetxt(save+'rot.txt',R0)\n",
    "        np.savetxt(save+'trans.txt',t0)\n",
    "    print(\"R0=\",R0,'t0=',t0)\n",
    "    return(skeleton_transformed)\n",
    "\n",
    "\n",
    "\n",
    "def find_common_group_nodes(Sa,Sb,degree3_nodesa,degree3_nodesb,posa,posb,R0,t0,window=500,maxdist=50):\n",
    "    common_nodes_a = []\n",
    "    common_nodes_b = []\n",
    "    common_centroida = []\n",
    "    common_centroidb = []\n",
    "    t=time()\n",
    "    posarottrans = {key : np.round(np.transpose(np.dot(R0,np.transpose(np.array(posa[key])))+t0)).astype(np.int) for key in degree3_nodesa}\n",
    "#     print(\"rotating translating\",time()-t)\n",
    "    for node in degree3_nodesa:\n",
    "        t=time()\n",
    "        posanchor=posarottrans[node]\n",
    "        potential_surroundinga=Sa[posanchor[0]-2*window:posanchor[0]+2*window,posanchor[1]-2*window:posanchor[1]+2*window]\n",
    "        potential_surroundingb=Sb[posanchor[0]-2*window:posanchor[0]+2*window,posanchor[1]-2*window:posanchor[1]+2*window]\n",
    "#         print(\"candidates\",len(potential_surroundinga.data))\n",
    "#         print(\"finding_potential_surrounding\",time()-t)\n",
    "        t=time()\n",
    "        surrounding_nodesa=[node for node in potential_surroundinga.data if \n",
    "                            (posanchor[0]-window<posarottrans[int(node)][0]<posanchor[0]+window and posanchor[1]-window<posarottrans[int(node)][1]<posanchor[1]+window \n",
    "                             )]\n",
    "        surrounding_nodesb=[node for node in potential_surroundingb.data if \n",
    "                    (posanchor[0]-window<posb[int(node)][0]<posanchor[0]+window and posanchor[1]-window<posb[int(node)][1]<posanchor[1]+window \n",
    "                    )]\n",
    "#         print(\"finding_surrounding\",time()-t)\n",
    "        t=time()\n",
    "        if len(surrounding_nodesa)==len(surrounding_nodesb):\n",
    "            possurroundinga=[posarottrans[node] for node in surrounding_nodesa]\n",
    "            possurroundingb=[posb[node] for node in surrounding_nodesb]\n",
    "            centroida= np.mean(possurroundinga,axis=0)\n",
    "            centroidb= np.mean(possurroundingb,axis=0)\n",
    "            if np.linalg.norm(centroida-centroidb)<=maxdist:\n",
    "                common_centroida.append(centroida)\n",
    "                common_centroidb.append(centroidb)\n",
    "    return(common_centroida,common_centroidb)\n",
    "\n",
    "def realign2(skeleton1,skeleton2,convergence_threshold,window=500,maxdist=50,save=''):\n",
    "    converged=False\n",
    "    tim=time()\n",
    "    nx_graphA,posA=generate_nx_graph_from_skeleton(skeleton1)\n",
    "    nx_graphB,posB=generate_nx_graph_from_skeleton(skeleton2)\n",
    "    print(\"generate_nx_graph_from_skeleton, t=\",tim-time())\n",
    "    tim=time()\n",
    "    t0=np.array([0,0])\n",
    "    R0=np.identity(2)\n",
    "    degree3_nodesa = [node for node in nx_graphA if nx_graphA.degree(node)==3]\n",
    "    degree3_nodesb = [node for node in nx_graphB if nx_graphB.degree(node)==3]\n",
    "    print(\"lennodes=\",len(degree3_nodesa))\n",
    "    Sa=sparse.csr_matrix((26296, 49559))\n",
    "    Sb=sparse.csr_matrix((26296, 49559))\n",
    "    for node in degree3_nodesa:\n",
    "        Sa[posA[node][0],posA[node][1]]=node\n",
    "    for node in degree3_nodesb:\n",
    "        Sb[posB[node][0],posB[node][1]]=node\n",
    "    while not converged:\n",
    "        listeA,listeB = find_common_group_nodes(Sa,Sb,degree3_nodesa,degree3_nodesb,posA,posB,R0,t0,maxdist=maxdist,window=window)\n",
    "        H=np.dot(np.transpose(np.array(listeA)-np.mean(listeA,axis=0)),np.array(listeB)-np.mean(listeB,axis=0))\n",
    "        U,S,V=np.linalg.svd(H)\n",
    "        R=np.dot(V,np.transpose(U))\n",
    "        t=np.mean(listeB,axis=0)-np.dot(R,np.mean(listeA,axis=0))\n",
    "        print(\"number_common_nodes_found :\",len(listeA))\n",
    "        if np.linalg.norm(t)<=convergence_threshold:\n",
    "            converged=True\n",
    "        R0=np.dot(R,R0)\n",
    "        t0=t+t0\n",
    "    print(\"Find R and T, t=\",tim-time())\n",
    "    tim=time()\n",
    "    skeleton_transformed=transform_skeleton(skeleton1,R0,t0)\n",
    "    skeleton_transformed=dilate(skeleton_transformed)\n",
    "    skeleton_transformed=zhangSuen(skeleton_transformed)\n",
    "    print(\"transform, dilate and thin, t=\",tim-time())\n",
    "    tim=time()\n",
    "    if len(save)>=0:\n",
    "        from_nx_to_tab(*generate_nx_graph_from_skeleton(skeleton_transformed)).to_csv(save+'_raw_aligned_skeleton.csv')\n",
    "        np.savetxt(save+'rot.txt',R0)\n",
    "        np.savetxt(save+'trans.txt',t0)\n",
    "    print(\"R0=\",R0,'t0=',t0)\n",
    "    return(skeleton_transformed)\n",
    "\n",
    "def reconnect(skeleton):\n",
    "    skeleton_transformed=dilate(skeleton)\n",
    "    skeleton_transformed=zhangSuen(skeleton_transformed)\n",
    "    return(skeleton_transformed)\n",
    "\n",
    "\n",
    "def shift(skeleton1,skeleton2):\n",
    "    skeleton1_dilated = dilate(dilate(skeleton1)).astype(np.float)\n",
    "    skeleton2_dilated = dilate(dilate(skeleton2)).astype(np.float)\n",
    "    def distance(shift):\n",
    "        distance=0\n",
    "#         print(shift)\n",
    "        for pixel in skeleton1_dilated.keys():\n",
    "#             print(pixel[0]+shift[0],pixel[1]+shift[1])\n",
    "            if (skeleton2_dilated.shape[0]>np.ceil(pixel[0]+shift[0])>=0 and skeleton2_dilated.shape[1]>np.ceil(pixel[1]+shift[1])>=0):\n",
    "                shifted_pixel = (int(pixel[0]+shift[0]),int(pixel[1]+shift[1]))\n",
    "                shifted_pixel_next = (np.ceil(pixel[0]+shift[0]),np.ceil(pixel[1]+shift[1]))\n",
    "#                 print(shifted_pixel)\n",
    "                prop=1/2*(pixel[0]+shift[0]-int(pixel[0]+shift[0])+pixel[1]+shift[1]-int(pixel[1]+shift[1]))\n",
    "                float_value=(1-prop)*skeleton2_dilated[shifted_pixel[0],shifted_pixel[1]]+prop*(skeleton2_dilated[shifted_pixel_next[0],shifted_pixel_next[1]])\n",
    "                distance+=abs(skeleton1_dilated[pixel]-float_value)\n",
    "            else:\n",
    "                distance+=1\n",
    "#         for pixel in skeleton2_dilated.keys():\n",
    "#             if (skeleton2_dilated.shape[0]>pixel[0]-shift[0]>=0 and skeleton2_dilated.shape[1]>pixel[1]-shift[1]>=0):\n",
    "#                 shifted_pixel = (int(pixel[0]-shift[0]),int(pixel[1]-shift[1]))\n",
    "#                 distance+=abs(skeleton1_dilated[shifted_pixel[0],shifted_pixel[1]]^skeleton2_dilated[pixel])\n",
    "#             else:\n",
    "#                 distance+=1\n",
    "#         print(distance)\n",
    "        return distance\n",
    "    return(minimize(distance,np.array([10,10]), method='nelder-mead',options={'xatol': 1, 'disp': True,'fatol':0.1}))\n",
    "\n",
    "\n",
    "def realign_final(skeleton1,skeleton2,t_init=np.array([0,0]),Rot_init=np.array([[1,0],[0,1]])):\n",
    "    nx_graph1,pos1 = generate_nx_graph(from_sparse_to_graph(skeleton1))\n",
    "    nx_graph2,pos2 = generate_nx_graph(from_sparse_to_graph(skeleton2))\n",
    "    pruned1 = prune_graph(nx_graph1)\n",
    "    pruned2 = prune_graph(nx_graph2)\n",
    "    X = np.transpose(np.array([pos1[node] for node in pruned1 if pruned1.degree(node)==3]))\n",
    "    Y = np.transpose(np.array([pos2[node] for node in pruned2 if pruned2.degree(node)==3]))\n",
    "    Xex = np.transpose(np.transpose(np.dot(Rot_init,X))+t_init)\n",
    "    fig=plt.figure(figsize=(10,9))\n",
    "    ax = fig.add_subplot(111)\n",
    "    ax.scatter(Xex[0,:],Xex[1,:])\n",
    "    ax.scatter(Y[0,:],Y[1,:])\n",
    "    X = np.insert(X, 2, values=0, axis=0) \n",
    "    Y = np.insert(Y, 2, values=0, axis=0) \n",
    "    print(X.shape,Y.shape)\n",
    "    vectorX = o3d.utility.Vector3dVector(np.transpose(X))\n",
    "    vectorY = o3d.utility.Vector3dVector(np.transpose(Y))\n",
    "    source = o3d.geometry.PointCloud(vectorX)\n",
    "    target = o3d.geometry.PointCloud(vectorY)\n",
    "    threshold = 200\n",
    "    trans_init = np.asarray([[Rot_init[0,0], Rot_init[0,1], 0, t_init[0]],\n",
    "                             [Rot_init[1,0], Rot_init[1,1], 0, t_init[1]],\n",
    "                             [0, 0, 1, 0], [0.0, 0.0, 0.0, 1.0]])\n",
    "    reg_p2p = o3d.registration.registration_icp(\n",
    "        source, target, threshold, trans_init,\n",
    "        o3d.registration.TransformationEstimationPointToPoint())\n",
    "    print(reg_p2p)\n",
    "    Rfound = reg_p2p.transformation[0:2,0:2]\n",
    "    tfound = reg_p2p.transformation[0:2,3]\n",
    "    print(Rfound,tfound)\n",
    "    X,Y=X[0:2,:],Y[0:2,:]\n",
    "    Yrep=np.transpose(np.transpose(np.dot(Rfound,X))+tfound)\n",
    "    fig=plt.figure(figsize=(10,9))\n",
    "    ax = fig.add_subplot(111)\n",
    "    ax.scatter(np.transpose(Y)[:,0],np.transpose(Y)[:,1])\n",
    "    ax.scatter(np.transpose(Yrep)[:,0],np.transpose(Yrep)[:,1])\n",
    "    skel_transformed = transform_skeleton(skeleton1,Rfound,tfound)\n",
    "    skel_mat = np.zeros((30000, 50000),dtype=np.uint8)\n",
    "    for pixel in skel_transformed.keys():\n",
    "        skel_mat[pixel]=1\n",
    "    return(skel_mat,skel_transformed,Rfound,tfound)\n",
    "\n",
    "def find_circle(x,y):\n",
    "    x_m = np.mean(x)\n",
    "    y_m = np.mean(y)\n",
    "\n",
    "    # calculation of the reduced coordinates\n",
    "    u = x - x_m\n",
    "    v = y - y_m\n",
    "\n",
    "    # linear system defining the center (uc, vc) in reduced coordinates:\n",
    "    #    Suu * uc +  Suv * vc = (Suuu + Suvv)/2\n",
    "    #    Suv * uc +  Svv * vc = (Suuv + Svvv)/2\n",
    "    Suv  = np.sum(u*v)\n",
    "    Suu  = np.sum(u**2)\n",
    "    Svv  = np.sum(v**2)\n",
    "    Suuv = np.sum(u**2 * v)\n",
    "    Suvv = np.sum(u * v**2)\n",
    "    Suuu = np.sum(u**3)\n",
    "    Svvv = np.sum(v**3)\n",
    "\n",
    "    # Solving the linear system\n",
    "    A = np.array([ [ Suu, Suv ], [Suv, Svv]])\n",
    "    B = np.array([ Suuu + Suvv, Svvv + Suuv ])/2.0\n",
    "    uc, vc = np.linalg.solve(A, B)\n",
    "\n",
    "    xc_1 = x_m + uc\n",
    "    yc_1 = y_m + vc\n",
    "\n",
    "    # Calcul des distances au centre (xc_1, yc_1)\n",
    "    Ri_1     = np.sqrt((x-xc_1)**2 + (y-yc_1)**2)\n",
    "    R_1      = np.mean(Ri_1)\n",
    "    residu_1 = np.sum((Ri_1-R_1)**2)\n",
    "    return(R_1,xc_1,yc_1)"
   ]
  },
  {
   "cell_type": "code",
   "execution_count": 28,
   "metadata": {},
   "outputs": [],
   "source": [
    "plate = 9\n",
    "directory = \"/scratch/shared/mrozemul/Fiji.app/\" \n",
    "listdir=os.listdir(directory) \n",
    "list_dir_interest=[name for name in listdir if name.split('_')[-1]==f'Plate{0 if plate<10 else \"\"}{plate}']\n",
    "ss=[name.split('_')[0] for name in list_dir_interest]\n",
    "ff=[name.split('_')[1] for name in list_dir_interest]\n",
    "dates_datetime=[datetime(year=int(ss[i][:4]),month=int(ss[i][4:6]),day=int(ss[i][6:8]),hour=int(ff[i][0:2]),minute=int(ff[i][2:4])) for i in range(len(list_dir_interest))]\n",
    "dates_datetime.sort()\n",
    "dates_datetime_chosen=dates_datetime[12:14]\n",
    "dates = [f'{0 if date.month<10 else \"\"}{date.month}{0 if date.day<10 else \"\"}{date.day}_{0 if date.hour<10 else \"\"}{date.hour}{0 if date.minute<10 else \"\"}{date.minute}' for date in dates_datetime_chosen]\n",
    "dilateds=[]\n",
    "skels = []\n",
    "skel_docs = []\n",
    "graph_pos=[]\n",
    "contours=[]\n",
    "half_circles=[]\n",
    "for date in dates:\n",
    "    directory_name=f'2020{date}_Plate{0 if plate<10 else \"\"}{plate}'\n",
    "    path_snap='/scratch/shared/mrozemul/Fiji.app/'+directory_name\n",
    "    skel_info = read_mat(path_snap+'/Analysis/skeleton.mat')\n",
    "    skel = skel_info['skeleton']\n",
    "#     contour = skel_info['contour']\n",
    "#     half_circle = skel_info['half_circle']\n",
    "    skels.append(skel)\n",
    "    skel_doc = sparse_to_doc(skel)\n",
    "    skel_docs.append(skel_doc)\n",
    "    contours.append(contour)\n",
    "    half_circles.append(half_circle)\n",
    "#     nx_graph,pos = generate_nx_graph(from_sparse_to_graph(skel_doc))\n",
    "#     graph_pos.append((nx_graph,pos))\n",
    "skel_doc = skel_docs[0]\n",
    "skel_aligned_t = skels[0].todense()\n",
    "skel_sparse = scipy.sparse.csc_matrix(skels[0])\n",
    "directory_name=f'2020{dates[0]}_Plate{0 if plate<10 else \"\"}{plate}'\n",
    "path_snap='/scratch/shared/mrozemul/Fiji.app/'+directory_name\n",
    "sio.savemat(path_snap+'/Analysis/skeleton_realigned.mat',{'skeleton' : skel_sparse,'R' : np.array([[1,0],[0,1]]),'t' : np.array([0,0])})\n",
    "for i,skel in enumerate(skel_docs[1:]):\n",
    "    directory_name=f'2020{dates[i+1]}_Plate{0 if plate<10 else \"\"}{plate}'\n",
    "    path_snap='/scratch/shared/mrozemul/Fiji.app/'+directory_name\n",
    "    contour1,contour2 = contours[i],contours[i-1]\n",
    "    half_circle1,half_circle2 = half_circles[i],half_circles[i-1]\n",
    "    R1,xc1,yc1 = find_circle(*half_circle1.nonzero())\n",
    "    R2,xc2,yc2 = find_circle(*half_circle2.nonzero())\n",
    "    #prealignment based on half circle\n",
    "    X = np.array(contour1.nonzero())\n",
    "    Y = np.array(contour2.nonzero())\n",
    "    fig=plt.figure(figsize=(10,9))\n",
    "    ax = fig.add_subplot(111)\n",
    "    ax.scatter(X[0,:],X[1,:])\n",
    "    ax.scatter(Y[0,:],Y[1,:])\n",
    "    X = np.insert(X, 2, values=0, axis=0) \n",
    "    Y = np.insert(Y, 2, values=0, axis=0) \n",
    "    print(X.shape,Y.shape)\n",
    "    vectorX = o3d.utility.Vector3dVector(np.transpose(X))\n",
    "    vectorY = o3d.utility.Vector3dVector(np.transpose(Y))\n",
    "    source = o3d.geometry.PointCloud(vectorX)\n",
    "    target = o3d.geometry.PointCloud(vectorY)\n",
    "    threshold = 200\n",
    "    t_init=np.array([ xc_1-xc_2, yc_1-yc_2])\n",
    "    Rot_init = np.array([[ 1, 0],[ 0,  1]])\n",
    "    trans_init = np.asarray([[Rot_init[0,0], Rot_init[0,1], 0, t_init[0]],\n",
    "                             [Rot_init[1,0], Rot_init[1,1], 0, t_init[1]],\n",
    "                             [0, 0, 1, 0], [0.0, 0.0, 0.0, 1.0]])\n",
    "\n",
    "    reg_p2p = o3d.registration.registration_icp(\n",
    "        source, target, threshold, trans_init,\n",
    "        o3d.registration.TransformationEstimationPointToPoint())\n",
    "    print(reg_p2p)\n",
    "    Rfound = reg_p2p.transformation[0:2,0:2]\n",
    "    tfound = reg_p2p.transformation[0:2,3]\n",
    "    print(Rfound,tfound)\n",
    "    X,Y=X[0:2,:],Y[0:2,:]\n",
    "    Yrep=np.transpose(np.transpose(np.dot(Rfound,X))+tfound)\n",
    "    fig=plt.figure(figsize=(10,9))\n",
    "    ax = fig.add_subplot(111)\n",
    "    ax.scatter(np.transpose(Yrep)[:,0],np.transpose(Yrep)[:,1])\n",
    "    ax.scatter(np.transpose(Y)[:,0],np.transpose(Y)[:,1])\n",
    "    skel_aligned,skel_doc,R,t = realign_final(skel,skel_doc)\n",
    "    contours[i] = transform_skeleton(contours[i],R,t)\n",
    "    half_circles[i] = transform_skeleton(half_circles[i],R,t)\n",
    "    skel_sparse = scipy.sparse.csc_matrix(skel_aligned)\n",
    "    sio.savemat(path_snap+'/Analysis/skeleton_realigned.mat',{'skeleton' : skel_sparse,'R' : R,'t' : t})\n",
    "    plot_t_tp1([],[],None,None,skel_aligned[19000:21000,44000:46000],skel_aligned_t[19000:21000,44000:46000])\n",
    "    skel_aligned_t = skel_aligned"
   ]
  },
  {
   "cell_type": "code",
   "execution_count": 30,
   "metadata": {},
   "outputs": [
    {
     "name": "stdout",
     "output_type": "stream",
     "text": [
      "[4937.82736]\n",
      "[10913.437609]\n"
     ]
    },
    {
     "ename": "ValueError",
     "evalue": "operands could not be broadcast together with shapes (2,4908) (2,) ",
     "output_type": "error",
     "traceback": [
      "\u001b[0;31m---------------------------------------------------------------------------\u001b[0m",
      "\u001b[0;31mValueError\u001b[0m                                Traceback (most recent call last)",
      "\u001b[0;32m<ipython-input-30-c7335b2e6481>\u001b[0m in \u001b[0;36m<module>\u001b[0;34m()\u001b[0m\n\u001b[1;32m      1\u001b[0m skel_aligned,skel_doc,R,t = realign_final(skel_docs[0],skel_docs[1], t_init=np.array([1936,-2019]),Rot_init= np.array([[ 0.99999938, -0.00111566],\n\u001b[0;32m----> 2\u001b[0;31m  [ 0.00111566,  0.99999938]]))\n\u001b[0m\u001b[1;32m      3\u001b[0m \u001b[0;34m\u001b[0m\u001b[0m\n",
      "\u001b[0;32m<ipython-input-24-0552b4c74977>\u001b[0m in \u001b[0;36mrealign_final\u001b[0;34m(skeleton1, skeleton2, t_init, Rot_init)\u001b[0m\n\u001b[1;32m    170\u001b[0m     \u001b[0mX\u001b[0m \u001b[0;34m=\u001b[0m \u001b[0mnp\u001b[0m\u001b[0;34m.\u001b[0m\u001b[0mtranspose\u001b[0m\u001b[0;34m(\u001b[0m\u001b[0mnp\u001b[0m\u001b[0;34m.\u001b[0m\u001b[0marray\u001b[0m\u001b[0;34m(\u001b[0m\u001b[0;34m[\u001b[0m\u001b[0mpos1\u001b[0m\u001b[0;34m[\u001b[0m\u001b[0mnode\u001b[0m\u001b[0;34m]\u001b[0m \u001b[0;32mfor\u001b[0m \u001b[0mnode\u001b[0m \u001b[0;32min\u001b[0m \u001b[0mpruned1\u001b[0m \u001b[0;32mif\u001b[0m \u001b[0mpruned1\u001b[0m\u001b[0;34m.\u001b[0m\u001b[0mdegree\u001b[0m\u001b[0;34m(\u001b[0m\u001b[0mnode\u001b[0m\u001b[0;34m)\u001b[0m\u001b[0;34m==\u001b[0m\u001b[0;36m3\u001b[0m\u001b[0;34m]\u001b[0m\u001b[0;34m)\u001b[0m\u001b[0;34m)\u001b[0m\u001b[0;34m\u001b[0m\u001b[0;34m\u001b[0m\u001b[0m\n\u001b[1;32m    171\u001b[0m     \u001b[0mY\u001b[0m \u001b[0;34m=\u001b[0m \u001b[0mnp\u001b[0m\u001b[0;34m.\u001b[0m\u001b[0mtranspose\u001b[0m\u001b[0;34m(\u001b[0m\u001b[0mnp\u001b[0m\u001b[0;34m.\u001b[0m\u001b[0marray\u001b[0m\u001b[0;34m(\u001b[0m\u001b[0;34m[\u001b[0m\u001b[0mpos2\u001b[0m\u001b[0;34m[\u001b[0m\u001b[0mnode\u001b[0m\u001b[0;34m]\u001b[0m \u001b[0;32mfor\u001b[0m \u001b[0mnode\u001b[0m \u001b[0;32min\u001b[0m \u001b[0mpruned2\u001b[0m \u001b[0;32mif\u001b[0m \u001b[0mpruned2\u001b[0m\u001b[0;34m.\u001b[0m\u001b[0mdegree\u001b[0m\u001b[0;34m(\u001b[0m\u001b[0mnode\u001b[0m\u001b[0;34m)\u001b[0m\u001b[0;34m==\u001b[0m\u001b[0;36m3\u001b[0m\u001b[0;34m]\u001b[0m\u001b[0;34m)\u001b[0m\u001b[0;34m)\u001b[0m\u001b[0;34m\u001b[0m\u001b[0;34m\u001b[0m\u001b[0m\n\u001b[0;32m--> 172\u001b[0;31m     \u001b[0mXex\u001b[0m\u001b[0;34m=\u001b[0m\u001b[0mnp\u001b[0m\u001b[0;34m.\u001b[0m\u001b[0mtranspose\u001b[0m\u001b[0;34m(\u001b[0m\u001b[0mnp\u001b[0m\u001b[0;34m.\u001b[0m\u001b[0mtranspose\u001b[0m\u001b[0;34m(\u001b[0m\u001b[0mnp\u001b[0m\u001b[0;34m.\u001b[0m\u001b[0mdot\u001b[0m\u001b[0;34m(\u001b[0m\u001b[0mRot_init\u001b[0m\u001b[0;34m,\u001b[0m\u001b[0mX\u001b[0m\u001b[0;34m)\u001b[0m\u001b[0;34m+\u001b[0m\u001b[0mt_init\u001b[0m\u001b[0;34m)\u001b[0m\u001b[0;34m)\u001b[0m\u001b[0;34m\u001b[0m\u001b[0;34m\u001b[0m\u001b[0m\n\u001b[0m\u001b[1;32m    173\u001b[0m     \u001b[0mfig\u001b[0m\u001b[0;34m=\u001b[0m\u001b[0mplt\u001b[0m\u001b[0;34m.\u001b[0m\u001b[0mfigure\u001b[0m\u001b[0;34m(\u001b[0m\u001b[0mfigsize\u001b[0m\u001b[0;34m=\u001b[0m\u001b[0;34m(\u001b[0m\u001b[0;36m10\u001b[0m\u001b[0;34m,\u001b[0m\u001b[0;36m9\u001b[0m\u001b[0;34m)\u001b[0m\u001b[0;34m)\u001b[0m\u001b[0;34m\u001b[0m\u001b[0;34m\u001b[0m\u001b[0m\n\u001b[1;32m    174\u001b[0m     \u001b[0max\u001b[0m \u001b[0;34m=\u001b[0m \u001b[0mfig\u001b[0m\u001b[0;34m.\u001b[0m\u001b[0madd_subplot\u001b[0m\u001b[0;34m(\u001b[0m\u001b[0;36m111\u001b[0m\u001b[0;34m)\u001b[0m\u001b[0;34m\u001b[0m\u001b[0;34m\u001b[0m\u001b[0m\n",
      "\u001b[0;31mValueError\u001b[0m: operands could not be broadcast together with shapes (2,4908) (2,) "
     ]
    }
   ],
   "source": [
    "skel_aligned,skel_doc,R,t = realign_final(skel_docs[0],skel_docs[1], t_init=np.array([1936,-2019]),Rot_init= np.array([[ 0.99999938, -0.00111566],\n",
    " [ 0.00111566,  0.99999938]]))\n",
    "\n"
   ]
  },
  {
   "cell_type": "code",
   "execution_count": 40,
   "metadata": {},
   "outputs": [
    {
     "data": {
      "application/vnd.jupyter.widget-view+json": {
       "model_id": "79e66d0baaa443438b88874c20c74801",
       "version_major": 2,
       "version_minor": 0
      },
      "text/plain": [
       "Canvas(toolbar=Toolbar(toolitems=[('Home', 'Reset original view', 'home', 'home'), ('Back', 'Back to previous …"
      ]
     },
     "metadata": {},
     "output_type": "display_data"
    },
    {
     "data": {
      "application/vnd.jupyter.widget-view+json": {
       "model_id": "73474714f48b462c8d4f9013733515cf",
       "version_major": 2,
       "version_minor": 0
      },
      "text/plain": [
       "Canvas(toolbar=Toolbar(toolitems=[('Home', 'Reset original view', 'home', 'home'), ('Back', 'Back to previous …"
      ]
     },
     "metadata": {},
     "output_type": "display_data"
    },
    {
     "name": "stdout",
     "output_type": "stream",
     "text": [
      "(3, 4908) (3, 7337)\n",
      "registration::RegistrationResult with fitness=8.088835e-02, inlier_rmse=1.386270e+01, and correspondence_set size of 397\n",
      "Access transformation to get result.\n",
      "[[ 9.99999533e-01 -9.68449308e-04]\n",
      " [ 9.68449308e-04  9.99999533e-01]] [ 1923.4725809 -2012.1459129]\n"
     ]
    },
    {
     "data": {
      "application/vnd.jupyter.widget-view+json": {
       "model_id": "8f96e00e361a4f5fafb841c6e4e657f3",
       "version_major": 2,
       "version_minor": 0
      },
      "text/plain": [
       "Canvas(toolbar=Toolbar(toolitems=[('Home', 'Reset original view', 'home', 'home'), ('Back', 'Back to previous …"
      ]
     },
     "metadata": {},
     "output_type": "display_data"
    }
   ],
   "source": [
    "plt.close('all')\n",
    "# skeleton1,skeleton2 = skel_docs[0],skel_docs[1]\n",
    "t_init=np.array([1936,-2019])\n",
    "Rot_init= np.array([[ 0.99999938, -0.00111566],\n",
    " [ 0.00111566,  0.99999938]])\n",
    "# nx_graph1,pos1 = generate_nx_graph(from_sparse_to_graph(skeleton1))\n",
    "# nx_graph2,pos2 = generate_nx_graph(from_sparse_to_graph(skeleton2))\n",
    "# pruned1 = prune_graph(nx_graph1)\n",
    "# pruned2 = prune_graph(nx_graph2)\n",
    "X = np.transpose(np.array([pos1[node] for node in pruned1 if pruned1.degree(node)==3]))\n",
    "Y = np.transpose(np.array([pos2[node] for node in pruned2 if pruned2.degree(node)==3]))\n",
    "fig=plt.figure(figsize=(10,9))\n",
    "ax = fig.add_subplot(111)\n",
    "ax.scatter(X[0,:],X[1,:])\n",
    "ax.scatter(Y[0,:],Y[1,:])\n",
    "Xex = np.transpose(np.transpose(np.dot(Rot_init,X))+t_init)\n",
    "fig=plt.figure(figsize=(10,9))\n",
    "ax = fig.add_subplot(111)\n",
    "ax.scatter(Xex[0,:],Xex[1,:])\n",
    "ax.scatter(Y[0,:],Y[1,:])\n",
    "X = np.insert(X, 2, values=0, axis=0) \n",
    "Y = np.insert(Y, 2, values=0, axis=0) \n",
    "print(X.shape,Y.shape)\n",
    "vectorX = o3d.utility.Vector3dVector(np.transpose(X))\n",
    "vectorY = o3d.utility.Vector3dVector(np.transpose(Y))\n",
    "source = o3d.geometry.PointCloud(vectorX)\n",
    "target = o3d.geometry.PointCloud(vectorY)\n",
    "threshold = 20\n",
    "trans_init = np.asarray([[Rot_init[0,0], Rot_init[0,1], 0, t_init[0]],\n",
    "                         [Rot_init[1,0], Rot_init[1,1], 0, t_init[1]],\n",
    "                         [0, 0, 1, 0], [0.0, 0.0, 0.0, 1.0]])\n",
    "reg_p2p = o3d.registration.registration_icp(\n",
    "    source, target, threshold, trans_init,\n",
    "    o3d.registration.TransformationEstimationPointToPoint())\n",
    "print(reg_p2p)\n",
    "Rfound = reg_p2p.transformation[0:2,0:2]\n",
    "tfound = reg_p2p.transformation[0:2,3]\n",
    "print(Rfound,tfound)\n",
    "X,Y=X[0:2,:],Y[0:2,:]\n",
    "Yrep=np.transpose(np.transpose(np.dot(Rfound,X))+tfound)\n",
    "fig=plt.figure(figsize=(10,9))\n",
    "ax = fig.add_subplot(111)\n",
    "ax.scatter(np.transpose(Yrep)[:,0],np.transpose(Yrep)[:,1])\n",
    "ax.scatter(np.transpose(Y)[:,0],np.transpose(Y)[:,1])\n",
    "\n",
    "skel_transformed = transform_skeleton(skeleton1,Rfound,tfound)\n",
    "skel_mat = np.zeros((30000, 50000),dtype=np.uint8)\n",
    "for pixel in skel_transformed.keys():\n",
    "    skel_mat[pixel]=1\n"
   ]
  },
  {
   "cell_type": "code",
   "execution_count": 21,
   "metadata": {},
   "outputs": [
    {
     "data": {
      "application/vnd.jupyter.widget-view+json": {
       "model_id": "8a983d10e02b44489abef89bc08e1ef1",
       "version_major": 2,
       "version_minor": 0
      },
      "text/plain": [
       "Canvas(toolbar=Toolbar(toolitems=[('Home', 'Reset original view', 'home', 'home'), ('Back', 'Back to previous …"
      ]
     },
     "metadata": {},
     "output_type": "display_data"
    }
   ],
   "source": [
    "%matplotlib widget\n",
    "plot_t_tp1([],[],None,None,skel_aligned[19000:21000,44000:46000],skels[1][19000:21000,44000:46000].todense())\n"
   ]
  },
  {
   "cell_type": "code",
   "execution_count": null,
   "metadata": {},
   "outputs": [],
   "source": [
    "skel_docs[1]"
   ]
  },
  {
   "cell_type": "code",
   "execution_count": 25,
   "metadata": {},
   "outputs": [],
   "source": [
    "X=np.array(get_degree3_nodes(skel_docs[0]))\n",
    "Y = np.array(get_degree3_nodes(skel_docs[1]))\n"
   ]
  },
  {
   "cell_type": "code",
   "execution_count": 28,
   "metadata": {},
   "outputs": [
    {
     "data": {
      "application/vnd.jupyter.widget-view+json": {
       "model_id": "7a791fcc8c454de5a302115594d585c4",
       "version_major": 2,
       "version_minor": 0
      },
      "text/plain": [
       "Canvas(toolbar=Toolbar(toolitems=[('Home', 'Reset original view', 'home', 'home'), ('Back', 'Back to previous …"
      ]
     },
     "metadata": {},
     "output_type": "display_data"
    },
    {
     "name": "stdout",
     "output_type": "stream",
     "text": [
      "(3, 5219) (3, 7779)\n",
      "registration::RegistrationResult with fitness=1.149646e-03, inlier_rmse=9.666348e-02, and correspondence_set size of 6\n",
      "Access transformation to get result.\n",
      "[[ 9.99999966e-01 -2.63180600e-04]\n",
      " [ 2.63180600e-04  9.99999966e-01]] [ 1772.54157915 -1143.34802684]\n"
     ]
    },
    {
     "data": {
      "application/vnd.jupyter.widget-view+json": {
       "model_id": "40f8ac33128e4e5f94db8b7a5c3fce1e",
       "version_major": 2,
       "version_minor": 0
      },
      "text/plain": [
       "Canvas(toolbar=Toolbar(toolitems=[('Home', 'Reset original view', 'home', 'home'), ('Back', 'Back to previous …"
      ]
     },
     "metadata": {},
     "output_type": "display_data"
    },
    {
     "data": {
      "text/plain": [
       "<matplotlib.collections.PathCollection at 0x2b3e7cca4710>"
      ]
     },
     "execution_count": 28,
     "metadata": {},
     "output_type": "execute_result"
    }
   ],
   "source": [
    "X = np.transpose(X)\n",
    "Y=np.transpose(Y)\n",
    "fig=plt.figure(figsize=(10,9))\n",
    "ax = fig.add_subplot(111)\n",
    "ax.scatter(X[0,:],X[1,:])\n",
    "ax.scatter(Y[0,:],Y[1,:])\n",
    "X = np.insert(X, 2, values=0, axis=0) \n",
    "Y = np.insert(Y, 2, values=0, axis=0) \n",
    "print(X.shape,Y.shape)\n",
    "vectorX = o3d.utility.Vector3dVector(np.transpose(X))\n",
    "vectorY = o3d.utility.Vector3dVector(np.transpose(Y))\n",
    "source = o3d.geometry.PointCloud(vectorX)\n",
    "target = o3d.geometry.PointCloud(vectorY)\n",
    "threshold = 0.2\n",
    "t_init=np.array([ 1774.73372876, -1144.44026333])\n",
    "Rot_init = np.array([[ 9.99999951e-01, -3.15042571e-04],[ 3.15042571e-04,  9.99999951e-01]])\n",
    "trans_init = np.asarray([[Rot_init[0,0], Rot_init[0,1], 0, t_init[0]],\n",
    "                         [Rot_init[1,0], Rot_init[1,1], 0, t_init[1]],\n",
    "                         [0, 0, 1, 0], [0.0, 0.0, 0.0, 1.0]])\n",
    "\n",
    "reg_p2p = o3d.registration.registration_icp(\n",
    "    source, target, threshold, trans_init,\n",
    "    o3d.registration.TransformationEstimationPointToPoint())\n",
    "print(reg_p2p)\n",
    "Rfound = reg_p2p.transformation[0:2,0:2]\n",
    "tfound = reg_p2p.transformation[0:2,3]\n",
    "print(Rfound,tfound)\n",
    "X,Y=X[0:2,:],Y[0:2,:]\n",
    "Yrep=np.transpose(np.transpose(np.dot(Rfound,X))+tfound)\n",
    "fig=plt.figure(figsize=(10,9))\n",
    "ax = fig.add_subplot(111)\n",
    "ax.scatter(np.transpose(Yrep)[:,0],np.transpose(Yrep)[:,1])\n",
    "ax.scatter(np.transpose(Y)[:,0],np.transpose(Y)[:,1])"
   ]
  },
  {
   "cell_type": "code",
   "execution_count": 19,
   "metadata": {},
   "outputs": [
    {
     "data": {
      "application/vnd.jupyter.widget-view+json": {
       "model_id": "adf01205e5034c49bf15e60153edb6c6",
       "version_major": 2,
       "version_minor": 0
      },
      "text/plain": [
       "Canvas(toolbar=Toolbar(toolitems=[('Home', 'Reset original view', 'home', 'home'), ('Back', 'Back to previous …"
      ]
     },
     "metadata": {},
     "output_type": "display_data"
    }
   ],
   "source": [
    "for pixel in skel_doc.keys():\n",
    "    skel_aligned[pixel]=1\n",
    "plot_t_tp1([],[],None,None,skel_aligned[19000:21000,44000:46000],skel_aligned[19000:21000,44000:46000])"
   ]
  },
  {
   "cell_type": "code",
   "execution_count": 16,
   "metadata": {},
   "outputs": [
    {
     "data": {
      "text/plain": [
       "matrix([[0, 0, 0, ..., 0, 0, 0],\n",
       "        [0, 0, 0, ..., 0, 0, 0],\n",
       "        [0, 0, 0, ..., 0, 0, 0],\n",
       "        ...,\n",
       "        [0, 0, 0, ..., 0, 0, 0],\n",
       "        [0, 0, 0, ..., 0, 0, 0],\n",
       "        [0, 0, 0, ..., 0, 0, 0]], dtype=uint8)"
      ]
     },
     "execution_count": 16,
     "metadata": {},
     "output_type": "execute_result"
    }
   ],
   "source": [
    "skels[1].todense()"
   ]
  },
  {
   "cell_type": "code",
   "execution_count": 69,
   "metadata": {},
   "outputs": [],
   "source": [
    "plt.close('all')"
   ]
  },
  {
   "cell_type": "code",
   "execution_count": 6,
   "metadata": {},
   "outputs": [
    {
     "data": {
      "application/vnd.jupyter.widget-view+json": {
       "model_id": "bcec32e18e6c4127a3cae27d487bca63",
       "version_major": 2,
       "version_minor": 0
      },
      "text/plain": [
       "Canvas(toolbar=Toolbar(toolitems=[('Home', 'Reset original view', 'home', 'home'), ('Back', 'Back to previous …"
      ]
     },
     "metadata": {},
     "output_type": "display_data"
    }
   ],
   "source": [
    "plot_t_tp1([],[],None,None,skels[1][20000:24000,31000:35000].todense(),skels[1][20000:24000,31000:35000].todense())\n"
   ]
  },
  {
   "cell_type": "code",
   "execution_count": 40,
   "metadata": {},
   "outputs": [
    {
     "data": {
      "application/vnd.jupyter.widget-view+json": {
       "model_id": "4e0774fd0de24dfea6e4ce4cd659929b",
       "version_major": 2,
       "version_minor": 0
      },
      "text/plain": [
       "Canvas(toolbar=Toolbar(toolitems=[('Home', 'Reset original view', 'home', 'home'), ('Back', 'Back to previous …"
      ]
     },
     "metadata": {},
     "output_type": "display_data"
    }
   ],
   "source": [
    "plot_t_tp1([],[],None,None,skels[0][15000:19000,38000:42000].todense(),skels[1][15000:19000,38000:42000].todense())\n"
   ]
  },
  {
   "cell_type": "code",
   "execution_count": 1,
   "metadata": {},
   "outputs": [
    {
     "ename": "NameError",
     "evalue": "name 'plt' is not defined",
     "output_type": "error",
     "traceback": [
      "\u001b[0;31m---------------------------------------------------------------------------\u001b[0m",
      "\u001b[0;31mNameError\u001b[0m                                 Traceback (most recent call last)",
      "\u001b[0;32m<ipython-input-1-028121587e8c>\u001b[0m in \u001b[0;36m<module>\u001b[0;34m()\u001b[0m\n\u001b[0;32m----> 1\u001b[0;31m \u001b[0mplt\u001b[0m\u001b[0;34m.\u001b[0m\u001b[0mclose\u001b[0m\u001b[0;34m(\u001b[0m\u001b[0;34m'all'\u001b[0m\u001b[0;34m)\u001b[0m\u001b[0;34m\u001b[0m\u001b[0;34m\u001b[0m\u001b[0m\n\u001b[0m\u001b[1;32m      2\u001b[0m \u001b[0mplot_t_tp1\u001b[0m\u001b[0;34m(\u001b[0m\u001b[0;34m[\u001b[0m\u001b[0;34m]\u001b[0m\u001b[0;34m,\u001b[0m\u001b[0;34m[\u001b[0m\u001b[0;34m]\u001b[0m\u001b[0;34m,\u001b[0m\u001b[0;32mNone\u001b[0m\u001b[0;34m,\u001b[0m\u001b[0;32mNone\u001b[0m\u001b[0;34m,\u001b[0m\u001b[0mskel_aligned\u001b[0m\u001b[0;34m[\u001b[0m\u001b[0;36m19000\u001b[0m\u001b[0;34m:\u001b[0m\u001b[0;36m21000\u001b[0m\u001b[0;34m,\u001b[0m\u001b[0;36m44000\u001b[0m\u001b[0;34m:\u001b[0m\u001b[0;36m46000\u001b[0m\u001b[0;34m]\u001b[0m\u001b[0;34m,\u001b[0m\u001b[0mskel_aligned_t\u001b[0m\u001b[0;34m[\u001b[0m\u001b[0;36m19000\u001b[0m\u001b[0;34m:\u001b[0m\u001b[0;36m21000\u001b[0m\u001b[0;34m,\u001b[0m\u001b[0;36m44000\u001b[0m\u001b[0;34m:\u001b[0m\u001b[0;36m46000\u001b[0m\u001b[0;34m]\u001b[0m\u001b[0;34m)\u001b[0m\u001b[0;34m\u001b[0m\u001b[0;34m\u001b[0m\u001b[0m\n",
      "\u001b[0;31mNameError\u001b[0m: name 'plt' is not defined"
     ]
    }
   ],
   "source": [
    "plt.close('all')\n",
    "plot_t_tp1([],[],None,None,skel_aligned[19000:21000,44000:46000],skel_aligned_t[19000:21000,44000:46000])\n"
   ]
  },
  {
   "cell_type": "code",
   "execution_count": null,
   "metadata": {},
   "outputs": [],
   "source": [
    "    plot_t_tp1([],[],None,None,skel_aligned[19000:21000,44000:46000],skel_aligned_t[19000:21000,44000:46000])\n"
   ]
  },
  {
   "cell_type": "code",
   "execution_count": 74,
   "metadata": {},
   "outputs": [
    {
     "data": {
      "text/plain": [
       "array([[1., 0., 0., 0.],\n",
       "       [0., 1., 0., 0.],\n",
       "       [0., 0., 1., 0.],\n",
       "       [0., 0., 0., 1.]])"
      ]
     },
     "execution_count": 74,
     "metadata": {},
     "output_type": "execute_result"
    }
   ],
   "source": [
    "R\n",
    "trans_init"
   ]
  },
  {
   "cell_type": "code",
   "execution_count": 52,
   "metadata": {},
   "outputs": [
    {
     "data": {
      "text/plain": [
       "[<26387x50121 sparse matrix of type '<class 'numpy.uint8'>'\n",
       " \twith 1017225 stored elements in Compressed Sparse Column format>,\n",
       " <26217x49608 sparse matrix of type '<class 'numpy.uint8'>'\n",
       " \twith 1031982 stored elements in Compressed Sparse Column format>]"
      ]
     },
     "execution_count": 52,
     "metadata": {},
     "output_type": "execute_result"
    }
   ],
   "source": [
    "skels"
   ]
  },
  {
   "cell_type": "code",
   "execution_count": 8,
   "metadata": {},
   "outputs": [
    {
     "data": {
      "text/plain": [
       "64"
      ]
     },
     "execution_count": 8,
     "metadata": {},
     "output_type": "execute_result"
    }
   ],
   "source": [
    "import sys\n",
    "sys.getsizeof(skels[0])"
   ]
  },
  {
   "cell_type": "code",
   "execution_count": 7,
   "metadata": {},
   "outputs": [
    {
     "name": "stdout",
     "output_type": "stream",
     "text": [
      "[1465.453887]\n",
      "cleaning, number of nodes before 4217\n",
      "number of unsolved cases 208\n",
      "number of unsolved cases 110\n",
      "number of unsolved cases 102\n",
      "number of unsolved cases 102\n",
      "end cleaning, number of nodes after 3493\n",
      "[1564.79882]\n",
      "cleaning, number of nodes before 4292\n",
      "number of unsolved cases 173\n",
      "number of unsolved cases 90\n",
      "number of unsolved cases 83\n",
      "number of unsolved cases 83\n",
      "number of unsolved cases 83\n",
      "number of unsolved cases 83\n",
      "end cleaning, number of nodes after 3613\n",
      "[2003.15984]\n",
      "cleaning, number of nodes before 4840\n",
      "number of unsolved cases 144\n",
      "number of unsolved cases 59\n",
      "number of unsolved cases 54\n",
      "number of unsolved cases 54\n",
      "end cleaning, number of nodes after 4006\n",
      "[2568.74304]\n",
      "cleaning, number of nodes before 5520\n",
      "number of unsolved cases 276\n",
      "number of unsolved cases 114\n",
      "number of unsolved cases 98\n",
      "number of unsolved cases 89\n",
      "number of unsolved cases 87\n",
      "number of unsolved cases 83\n",
      "number of unsolved cases 83\n",
      "end cleaning, number of nodes after 4535\n"
     ]
    }
   ],
   "source": [
    "plate = 9\n",
    "directory = \"/scratch/shared/mrozemul/Fiji.app/\" \n",
    "listdir=os.listdir(directory) \n",
    "list_dir_interest=[name for name in listdir if name.split('_')[-1]==f'Plate{0 if plate<10 else \"\"}{plate}']\n",
    "ss=[name.split('_')[0] for name in list_dir_interest]\n",
    "ff=[name.split('_')[1] for name in list_dir_interest]\n",
    "dates_datetime=[datetime(year=int(ss[i][:4]),month=int(ss[i][4:6]),day=int(ss[i][6:8]),hour=int(ff[i][0:2]),minute=int(ff[i][2:4])) for i in range(len(list_dir_interest))]\n",
    "dates_datetime.sort()\n",
    "dates_datetime_chosen=dates_datetime[4:8]\n",
    "dates = [f'{0 if date.month<10 else \"\"}{date.month}{0 if date.day<10 else \"\"}{date.day}_{0 if date.hour<10 else \"\"}{date.hour}{0 if date.minute<10 else \"\"}{date.minute}' for date in dates_datetime_chosen]\n",
    "skels_aligned = []\n",
    "for date in dates:\n",
    "    directory_name=f'2020{date}_Plate{0 if plate<10 else \"\"}{plate}'\n",
    "    path_snap='/scratch/shared/mrozemul/Fiji.app/'+directory_name\n",
    "    dilated = read_mat(path_snap+'/Analysis/dilated.mat')['dilated']\n",
    "    skel = read_mat(path_snap+'/Analysis/skeleton_realigned.mat')['skeleton']\n",
    "    skels_aligned.append(scipy.sparse.dok_matrix(skel))\n",
    "nx_graph_poss=[generate_nx_graph(from_sparse_to_graph(skeleton)) for skeleton in skels_aligned]\n",
    "nx_graphs_aligned=[nx_graph_pos[0] for nx_graph_pos in nx_graph_poss]\n",
    "poss_aligned=[nx_graph_pos[1] for nx_graph_pos in nx_graph_poss]\n",
    "nx_graph_pruned=[clean_degree_4(prune_graph(nx_graph),poss_aligned[i])[0] for i,nx_graph in enumerate(nx_graphs_aligned)]"
   ]
  },
  {
   "cell_type": "code",
   "execution_count": 10,
   "metadata": {},
   "outputs": [],
   "source": [
    "import pickle\n",
    "for i,g in enumerate(nx_graph_pruned):\n",
    "    directory_name=f'2020{dates[i]}_Plate{0 if plate<10 else \"\"}{plate}'\n",
    "    path_snap='/scratch/shared/mrozemul/Fiji.app/'+directory_name\n",
    "    path_save = path_snap +'/Analysis/nx_graph_pruned.p'\n",
    "    pos = poss_aligned[i]\n",
    "    pickle.dump((g,pos),open( path_save, \"wb\" ))\n",
    "    "
   ]
  },
  {
   "cell_type": "code",
   "execution_count": 11,
   "metadata": {},
   "outputs": [],
   "source": [
    "nx_graph_pos_retrieved=[]\n",
    "for date in dates:\n",
    "    directory_name=f'2020{date}_Plate{0 if plate<10 else \"\"}{plate}'\n",
    "    path_snap='/scratch/shared/mrozemul/Fiji.app/'+directory_name\n",
    "    path_save = path_snap +'/Analysis/nx_graph_pruned.p'\n",
    "    (g,pos) = pickle.load(open( path_save, \"rb\" ))\n",
    "    nx_graph_pos_retrieved.append((g,pos))"
   ]
  },
  {
   "cell_type": "code",
   "execution_count": 40,
   "metadata": {},
   "outputs": [
    {
     "data": {
      "application/vnd.jupyter.widget-view+json": {
       "model_id": "7b15f37d9a064515ae213c4e1ee4e32f",
       "version_major": 2,
       "version_minor": 0
      },
      "text/plain": [
       "Canvas(toolbar=Toolbar(toolitems=[('Home', 'Reset original view', 'home', 'home'), ('Back', 'Back to previous …"
      ]
     },
     "metadata": {},
     "output_type": "display_data"
    }
   ],
   "source": [
    "plot_t_tp1([],[],None,None,skel_aligned_dense[1][19000:21000,44000:46000],skel_aligned_dense[2][19000:21000,44000:46000])"
   ]
  },
  {
   "cell_type": "code",
   "execution_count": 32,
   "metadata": {},
   "outputs": [],
   "source": [
    "skels_aligned[1]"
   ]
  },
  {
   "cell_type": "code",
   "execution_count": 6,
   "metadata": {},
   "outputs": [
    {
     "data": {
      "text/plain": [
       "<26316x49503 sparse matrix of type '<class 'numpy.uint8'>'\n",
       "\twith 465757 stored elements in Compressed Sparse Column format>"
      ]
     },
     "execution_count": 6,
     "metadata": {},
     "output_type": "execute_result"
    }
   ],
   "source": [
    "scipy.sparse.csc_matrix(skel)"
   ]
  },
  {
   "cell_type": "code",
   "execution_count": 3,
   "metadata": {},
   "outputs": [
    {
     "data": {
      "application/vnd.jupyter.widget-view+json": {
       "model_id": "bae8edbcf58d47c0ad023f99ff769af0",
       "version_major": 2,
       "version_minor": 0
      },
      "text/plain": [
       "Canvas(toolbar=Toolbar(toolitems=[('Home', 'Reset original view', 'home', 'home'), ('Back', 'Back to previous …"
      ]
     },
     "metadata": {},
     "output_type": "display_data"
    },
    {
     "name": "stdout",
     "output_type": "stream",
     "text": [
      "(3, 2763) (3, 3131)\n",
      "registration::RegistrationResult with fitness=9.290626e-01, inlier_rmse=5.239506e+00, and correspondence_set size of 2567\n",
      "Access transformation to get result.\n",
      "[[ 9.99999893e-01 -4.63437568e-04]\n",
      " [ 4.63437568e-04  9.99999893e-01]] [ 19.51041473 -32.80502458]\n"
     ]
    },
    {
     "data": {
      "application/vnd.jupyter.widget-view+json": {
       "model_id": "713090bf18474897b03ea0376477efbb",
       "version_major": 2,
       "version_minor": 0
      },
      "text/plain": [
       "Canvas(toolbar=Toolbar(toolitems=[('Home', 'Reset original view', 'home', 'home'), ('Back', 'Back to previous …"
      ]
     },
     "metadata": {},
     "output_type": "display_data"
    },
    {
     "data": {
      "text/plain": [
       "<matplotlib.collections.PathCollection at 0x2ab21f6036d0>"
      ]
     },
     "execution_count": 3,
     "metadata": {},
     "output_type": "execute_result"
    }
   ],
   "source": [
    "pos_t = graph_pos[0][1]\n",
    "pos_tp1 = graph_pos[1][1]\n",
    "pruned=[]\n",
    "\n",
    "X = np.transpose(np.array([pos_t[node] for node in pruned[0] if pruned[0].degree(node)==3]))\n",
    "Y = np.transpose(np.array([pos_tp1[node] for node in pruned[1] if pruned[1].degree(node)==3]))\n",
    "# X=[]\n",
    "# Y=[]\n",
    "# num=5\n",
    "# nodesX=[choice([node for node in pruned[0] if pruned[0].degree(node)==3]) for i in range(num)]\n",
    "# nodesY = [choice([node for node in pruned[1] if pruned[1].degree(node)==3]) for i in range(num)]\n",
    "# window = 200\n",
    "# g = pruned[0]\n",
    "# for node in nodesX:\n",
    "#     pos = pos_t[node]\n",
    "#     xy = skels[0][max(0,pos[0]-window):pos[0]+window,max(0,pos[1]-window):pos[1]+window].nonzero()\n",
    "#     xy2 = skels[1][max(0,pos[0]-window):pos[0]+window,max(0,pos[1]-window):pos[1]+window].nonzero()\n",
    "#     for i,x in enumerate(xy[0]):\n",
    "#         y = xy[1][i]\n",
    "#         X.append((pos[0]-window+x,pos[1]-window+y))\n",
    "#         if i<len(xy2[0]):\n",
    "#             x2,y2 = xy2[0][i],xy2[1][i]\n",
    "#             Y.append((pos[0]-window+x2,pos[1]-window+y2))\n",
    "# X=np.transpose(np.array(X))\n",
    "# Y=np.transpose(np.array(Y))\n",
    "X.shape,Y.shape\n",
    "fig=plt.figure(figsize=(10,9))\n",
    "\n",
    "ax = fig.add_subplot(111)\n",
    "ax.scatter(X[0,:],X[1,:])\n",
    "ax.scatter(Y[0,:],Y[1,:])\n",
    "X = np.insert(X, 2, values=0, axis=0) \n",
    "Y = np.insert(Y, 2, values=0, axis=0) \n",
    "print(X.shape,Y.shape)\n",
    "vectorX = o3d.utility.Vector3dVector(np.transpose(X))\n",
    "vectorY = o3d.utility.Vector3dVector(np.transpose(Y))\n",
    "source = o3d.geometry.PointCloud(vectorX)\n",
    "target = o3d.geometry.PointCloud(vectorY)\n",
    "threshold = 20\n",
    "trans_init = np.asarray([[1, 0, 0, 0],\n",
    "                         [0, 1, 0, 0],\n",
    "                         [0, 0, 1, 0], [0.0, 0.0, 0.0, 1.0]])\n",
    "reg_p2p = o3d.registration.registration_icp(\n",
    "    source, target, threshold, trans_init,\n",
    "    o3d.registration.TransformationEstimationPointToPoint())\n",
    "print(reg_p2p)\n",
    "Rfound = reg_p2p.transformation[0:2,0:2]\n",
    "tfound = reg_p2p.transformation[0:2,3]\n",
    "print(Rfound,tfound)\n",
    "X,Y=X[0:2,:],Y[0:2,:]\n",
    "Yrep=np.transpose(np.transpose(np.dot(Rfound,X))+tfound)\n",
    "fig=plt.figure(figsize=(10,9))\n",
    "ax = fig.add_subplot(111)\n",
    "ax.scatter(np.transpose(Y)[:,0],np.transpose(Y)[:,1])\n",
    "ax.scatter(np.transpose(Yrep)[:,0],np.transpose(Yrep)[:,1])"
   ]
  },
  {
   "cell_type": "code",
   "execution_count": 14,
   "metadata": {},
   "outputs": [
    {
     "data": {
      "text/plain": [
       "array([[ 9.99999893e-01,  4.63437568e-04],\n",
       "       [-4.63437568e-04,  9.99999893e-01]])"
      ]
     },
     "execution_count": 14,
     "metadata": {},
     "output_type": "execute_result"
    }
   ],
   "source": [
    "np.linalg.inv(Rfound)"
   ]
  },
  {
   "cell_type": "code",
   "execution_count": 7,
   "metadata": {},
   "outputs": [],
   "source": [
    "skel_transformed = transform_skeleton(skel_docs[0],Rfound,tfound)"
   ]
  },
  {
   "cell_type": "code",
   "execution_count": 7,
   "metadata": {},
   "outputs": [],
   "source": [
    "def prune_graph(nx_graph,threshold=100):\n",
    "    #should implement threshold!\n",
    "    S = [nx_graph.subgraph(c).copy() for c in nx.connected_components(nx_graph)]\n",
    "    selected = [g for g in S if g.size(weight=\"weight\")*len(g.nodes)/10**6>=threshold]\n",
    "    len_connected=[(nx_graph.size(weight=\"weight\")*len(nx_graph.nodes)/10**6) for nx_graph in selected]\n",
    "    print(len_connected)\n",
    "    G = selected[0]\n",
    "    for g in selected[1:]:\n",
    "        G = nx.compose(G,g)\n",
    "    return(G)\n",
    "def transform_skeleton(skeleton_doc,Rot,trans):\n",
    "    transformed_skeleton={}\n",
    "    transformed_keys = np.round(np.transpose(np.dot(Rot,np.transpose(np.array(list(skeleton_doc.keys())))))+trans).astype(np.int)\n",
    "    i=0\n",
    "    for pixel in list(transformed_keys):\n",
    "        i+=1\n",
    "        transformed_skeleton[(pixel[0],pixel[1])]=1\n",
    "    return(transformed_skeleton)"
   ]
  },
  {
   "cell_type": "code",
   "execution_count": 27,
   "metadata": {},
   "outputs": [],
   "source": [
    "def realign_final(skeleton1,skeleton2):\n",
    "    nx_graph1,pos1 = generate_nx_graph(from_sparse_to_graph(skeleton1))\n",
    "    nx_graph2,pos2 = generate_nx_graph(from_sparse_to_graph(skeleton2))\n",
    "    pruned1 = prune_graph(nx_graph1)\n",
    "    pruned2 = prune_graph(nx_graph2)\n",
    "    X = np.transpose(np.array([pos1[node] for node in pruned1 if pruned1.degree(node)==3]))\n",
    "    Y = np.transpose(np.array([pos2[node] for node in pruned2 if pruned2.degree(node)==3]))\n",
    "#     fig=plt.figure(figsize=(10,9))\n",
    "\n",
    "#     ax = fig.add_subplot(111)\n",
    "#     ax.scatter(X[0,:],X[1,:])\n",
    "#     ax.scatter(Y[0,:],Y[1,:])\n",
    "    X = np.insert(X, 2, values=0, axis=0) \n",
    "    Y = np.insert(Y, 2, values=0, axis=0) \n",
    "    print(X.shape,Y.shape)\n",
    "    vectorX = o3d.utility.Vector3dVector(np.transpose(X))\n",
    "    vectorY = o3d.utility.Vector3dVector(np.transpose(Y))\n",
    "    source = o3d.geometry.PointCloud(vectorX)\n",
    "    target = o3d.geometry.PointCloud(vectorY)\n",
    "    threshold = 20\n",
    "    trans_init = np.asarray([[1, 0, 0, 0],\n",
    "                             [0, 1, 0, 0],\n",
    "                             [0, 0, 1, 0], [0.0, 0.0, 0.0, 1.0]])\n",
    "    reg_p2p = o3d.registration.registration_icp(\n",
    "        source, target, threshold, trans_init,\n",
    "        o3d.registration.TransformationEstimationPointToPoint())\n",
    "    print(reg_p2p)\n",
    "    Rfound = reg_p2p.transformation[0:2,0:2]\n",
    "    tfound = reg_p2p.transformation[0:2,3]\n",
    "    print(Rfound,tfound)\n",
    "    X,Y=X[0:2,:],Y[0:2,:]\n",
    "    Yrep=np.transpose(np.transpose(np.dot(Rfound,X))+tfound)\n",
    "#     fig=plt.figure(figsize=(10,9))\n",
    "#     ax = fig.add_subplot(111)\n",
    "#     ax.scatter(np.transpose(Y)[:,0],np.transpose(Y)[:,1])\n",
    "#     ax.scatter(np.transpose(Yrep)[:,0],np.transpose(Yrep)[:,1])\n",
    "    skel_transformed = transform_skeleton(skeleton1,Rfound,tfound)\n",
    "    skel_mat = np.zeros((26322, 49527),dtype=np.uint8)\n",
    "    for pixel in skel_transformed.keys():\n",
    "        skel_mat[pixel]=1\n",
    "    return(skel_mat,skel_doc,Rfound,tfound)"
   ]
  },
  {
   "cell_type": "code",
   "execution_count": 15,
   "metadata": {},
   "outputs": [
    {
     "name": "stdout",
     "output_type": "stream",
     "text": [
      "[1993.99993]\n",
      "[1581.43881]\n"
     ]
    },
    {
     "data": {
      "application/vnd.jupyter.widget-view+json": {
       "model_id": "c098929c076741ea98fa4b00d8e20a44",
       "version_major": 2,
       "version_minor": 0
      },
      "text/plain": [
       "Canvas(toolbar=Toolbar(toolitems=[('Home', 'Reset original view', 'home', 'home'), ('Back', 'Back to previous …"
      ]
     },
     "metadata": {},
     "output_type": "display_data"
    },
    {
     "name": "stdout",
     "output_type": "stream",
     "text": [
      "(3, 3131) (3, 2763)\n",
      "registration::RegistrationResult with fitness=8.272118e-01, inlier_rmse=5.422845e+00, and correspondence_set size of 2590\n",
      "Access transformation to get result.\n",
      "[[ 9.99999904e-01  4.39147129e-04]\n",
      " [-4.39147129e-04  9.99999904e-01]] [-18.47679909  32.34018681]\n"
     ]
    },
    {
     "data": {
      "application/vnd.jupyter.widget-view+json": {
       "model_id": "9921b5d11af945deb0529c7eb77fe186",
       "version_major": 2,
       "version_minor": 0
      },
      "text/plain": [
       "Canvas(toolbar=Toolbar(toolitems=[('Home', 'Reset original view', 'home', 'home'), ('Back', 'Back to previous …"
      ]
     },
     "metadata": {},
     "output_type": "display_data"
    }
   ],
   "source": [
    "final_realigned = realign_final(skel_docs[1],skel_docs[0])"
   ]
  },
  {
   "cell_type": "code",
   "execution_count": 18,
   "metadata": {},
   "outputs": [
    {
     "data": {
      "application/vnd.jupyter.widget-view+json": {
       "model_id": "4b1fb0657ab44d90879324754be02a3e",
       "version_major": 2,
       "version_minor": 0
      },
      "text/plain": [
       "Canvas(toolbar=Toolbar(toolitems=[('Home', 'Reset original view', 'home', 'home'), ('Back', 'Back to previous …"
      ]
     },
     "metadata": {},
     "output_type": "display_data"
    }
   ],
   "source": [
    "skel_mat = np.zeros(skels[0].shape,dtype=np.uint8)\n",
    "for pixel in skel_transformed.keys():\n",
    "    skel_mat[pixel]=1\n",
    "# plt.close('all')\n",
    "plot_t_tp1([],[],None,None,final_realigned[0][19000:21000,44000:46000],skels[0][19000:21000,44000:46000])"
   ]
  },
  {
   "cell_type": "code",
   "execution_count": 22,
   "metadata": {},
   "outputs": [],
   "source": [
    "def get_neighbours(pixel,non_zero_pixel):\n",
    "    x=pixel[0]\n",
    "    y=pixel[1]\n",
    "    primary_neighbours = {(x+1,y),(x-1,y),(x,y+1),(x,y-1)}\n",
    "    secondary_neighbours = {(x+1,y-1),(x+1,y+1),(x-1,y+1),(x-1,y-1)}\n",
    "    num_neighbours = 0\n",
    "    actual_neighbours = []\n",
    "    for neighbour in primary_neighbours:\n",
    "        if neighbour in non_zero_pixel:\n",
    "            num_neighbours +=1\n",
    "            xp=neighbour[0]\n",
    "            yp=neighbour[1]\n",
    "            primary_neighboursp = {(xp+1,yp),(xp-1,yp),(xp,yp+1),(xp,yp-1)}\n",
    "            for neighbourp in primary_neighboursp:\n",
    "                secondary_neighbours.discard(neighbourp)\n",
    "            actual_neighbours.append(neighbour)\n",
    "    for neighbour in secondary_neighbours:\n",
    "        if neighbour in non_zero_pixel:\n",
    "            num_neighbours +=1\n",
    "            actual_neighbours.append(neighbour)\n",
    "    return(actual_neighbours,num_neighbours)\n",
    "def get_degree3_nodes(skel):\n",
    "    deg_3=[]\n",
    "    non_zero= skel.keys()\n",
    "    for pixel in non_zero:\n",
    "        n, num = get_neighbours(pixel,non_zero)\n",
    "        if num ==3:\n",
    "            deg_3.append(pixel)\n",
    "    return(deg_3)"
   ]
  },
  {
   "cell_type": "code",
   "execution_count": 20,
   "metadata": {},
   "outputs": [],
   "source": [
    "def get_degree3_nodes(skel):\n",
    "    deg_3=[]\n",
    "    non_zero= skel.keys()\n",
    "    for pixel in non_zero:\n",
    "        n, num = get_neighbours(pixel,non_zero)\n",
    "        if num ==3:\n",
    "            deg_3.append(pixel)\n",
    "    return(deg_3)"
   ]
  },
  {
   "cell_type": "code",
   "execution_count": 3,
   "metadata": {},
   "outputs": [],
   "source": [
    "pos_t = graph_pos[0][1]\n",
    "pos_tp1 = graph_pos[1][1]\n"
   ]
  },
  {
   "cell_type": "code",
   "execution_count": 4,
   "metadata": {},
   "outputs": [],
   "source": [
    "pruned=[]\n",
    "for nx_graph,pos in graph_pos:\n",
    "    S = [nx_graph.subgraph(c).copy() for c in nx.connected_components(nx_graph)]\n",
    "    selected = [g for g in S if g.size(weight=\"weight\")*len(g.nodes)/10**6>=100]\n",
    "    pruned.append(selected[0])"
   ]
  },
  {
   "cell_type": "code",
   "execution_count": 34,
   "metadata": {},
   "outputs": [
    {
     "data": {
      "text/plain": [
       "38720"
      ]
     },
     "execution_count": 34,
     "metadata": {},
     "output_type": "execute_result"
    }
   ],
   "source": [
    "pos[1]-window"
   ]
  },
  {
   "cell_type": "code",
   "execution_count": 51,
   "metadata": {},
   "outputs": [
    {
     "data": {
      "text/plain": [
       "(4335, 3940)"
      ]
     },
     "execution_count": 51,
     "metadata": {},
     "output_type": "execute_result"
    }
   ],
   "source": [
    "len(X),len(Y)"
   ]
  },
  {
   "cell_type": "code",
   "execution_count": 38,
   "metadata": {},
   "outputs": [
    {
     "ename": "NameError",
     "evalue": "name 'get_importance' is not defined",
     "output_type": "error",
     "traceback": [
      "\u001b[0;31m---------------------------------------------------------------------------\u001b[0m",
      "\u001b[0;31mNameError\u001b[0m                                 Traceback (most recent call last)",
      "\u001b[0;32m<ipython-input-38-7483de5f2bee>\u001b[0m in \u001b[0;36m<module>\u001b[0;34m()\u001b[0m\n\u001b[0;32m----> 1\u001b[0;31m \u001b[0mX\u001b[0m \u001b[0;34m=\u001b[0m \u001b[0mnp\u001b[0m\u001b[0;34m.\u001b[0m\u001b[0mtranspose\u001b[0m\u001b[0;34m(\u001b[0m\u001b[0mnp\u001b[0m\u001b[0;34m.\u001b[0m\u001b[0marray\u001b[0m\u001b[0;34m(\u001b[0m\u001b[0;34m[\u001b[0m\u001b[0mpos_t\u001b[0m\u001b[0;34m[\u001b[0m\u001b[0mnode\u001b[0m\u001b[0;34m]\u001b[0m \u001b[0;32mfor\u001b[0m \u001b[0mnode\u001b[0m \u001b[0;32min\u001b[0m \u001b[0mpruned\u001b[0m\u001b[0;34m[\u001b[0m\u001b[0;36m0\u001b[0m\u001b[0;34m]\u001b[0m \u001b[0;32mif\u001b[0m \u001b[0mpruned\u001b[0m\u001b[0;34m[\u001b[0m\u001b[0;36m0\u001b[0m\u001b[0;34m]\u001b[0m\u001b[0;34m.\u001b[0m\u001b[0mdegree\u001b[0m\u001b[0;34m(\u001b[0m\u001b[0mnode\u001b[0m\u001b[0;34m)\u001b[0m\u001b[0;34m==\u001b[0m\u001b[0;36m3\u001b[0m \u001b[0;32mand\u001b[0m \u001b[0mget_importance\u001b[0m\u001b[0;34m(\u001b[0m\u001b[0mpruned\u001b[0m\u001b[0;34m[\u001b[0m\u001b[0;36m0\u001b[0m\u001b[0;34m]\u001b[0m\u001b[0;34m,\u001b[0m\u001b[0mnode\u001b[0m\u001b[0;34m)\u001b[0m\u001b[0;34m>=\u001b[0m\u001b[0;36m10\u001b[0m\u001b[0;34m]\u001b[0m\u001b[0;34m)\u001b[0m\u001b[0;34m)\u001b[0m\u001b[0;34m\u001b[0m\u001b[0;34m\u001b[0m\u001b[0m\n\u001b[0m\u001b[1;32m      2\u001b[0m \u001b[0mY\u001b[0m \u001b[0;34m=\u001b[0m \u001b[0mnp\u001b[0m\u001b[0;34m.\u001b[0m\u001b[0mtranspose\u001b[0m\u001b[0;34m(\u001b[0m\u001b[0mnp\u001b[0m\u001b[0;34m.\u001b[0m\u001b[0marray\u001b[0m\u001b[0;34m(\u001b[0m\u001b[0;34m[\u001b[0m\u001b[0mpos_tp1\u001b[0m\u001b[0;34m[\u001b[0m\u001b[0mnode\u001b[0m\u001b[0;34m]\u001b[0m \u001b[0;32mfor\u001b[0m \u001b[0mnode\u001b[0m \u001b[0;32min\u001b[0m \u001b[0mpruned\u001b[0m\u001b[0;34m[\u001b[0m\u001b[0;36m1\u001b[0m\u001b[0;34m]\u001b[0m \u001b[0;32mif\u001b[0m \u001b[0mpruned\u001b[0m\u001b[0;34m[\u001b[0m\u001b[0;36m1\u001b[0m\u001b[0;34m]\u001b[0m\u001b[0;34m.\u001b[0m\u001b[0mdegree\u001b[0m\u001b[0;34m(\u001b[0m\u001b[0mnode\u001b[0m\u001b[0;34m)\u001b[0m\u001b[0;34m==\u001b[0m\u001b[0;36m3\u001b[0m \u001b[0;32mand\u001b[0m \u001b[0mget_importance\u001b[0m\u001b[0;34m(\u001b[0m\u001b[0mpruned\u001b[0m\u001b[0;34m[\u001b[0m\u001b[0;36m1\u001b[0m\u001b[0;34m]\u001b[0m\u001b[0;34m,\u001b[0m\u001b[0mnode\u001b[0m\u001b[0;34m)\u001b[0m\u001b[0;34m>=\u001b[0m\u001b[0;36m10\u001b[0m\u001b[0;34m]\u001b[0m\u001b[0;34m)\u001b[0m\u001b[0;34m)\u001b[0m\u001b[0;34m\u001b[0m\u001b[0;34m\u001b[0m\u001b[0m\n\u001b[1;32m      3\u001b[0m \u001b[0mX\u001b[0m\u001b[0;34m.\u001b[0m\u001b[0mshape\u001b[0m\u001b[0;34m,\u001b[0m\u001b[0mY\u001b[0m\u001b[0;34m.\u001b[0m\u001b[0mshape\u001b[0m\u001b[0;34m\u001b[0m\u001b[0;34m\u001b[0m\u001b[0m\n",
      "\u001b[0;32m<ipython-input-38-7483de5f2bee>\u001b[0m in \u001b[0;36m<listcomp>\u001b[0;34m(.0)\u001b[0m\n\u001b[0;32m----> 1\u001b[0;31m \u001b[0mX\u001b[0m \u001b[0;34m=\u001b[0m \u001b[0mnp\u001b[0m\u001b[0;34m.\u001b[0m\u001b[0mtranspose\u001b[0m\u001b[0;34m(\u001b[0m\u001b[0mnp\u001b[0m\u001b[0;34m.\u001b[0m\u001b[0marray\u001b[0m\u001b[0;34m(\u001b[0m\u001b[0;34m[\u001b[0m\u001b[0mpos_t\u001b[0m\u001b[0;34m[\u001b[0m\u001b[0mnode\u001b[0m\u001b[0;34m]\u001b[0m \u001b[0;32mfor\u001b[0m \u001b[0mnode\u001b[0m \u001b[0;32min\u001b[0m \u001b[0mpruned\u001b[0m\u001b[0;34m[\u001b[0m\u001b[0;36m0\u001b[0m\u001b[0;34m]\u001b[0m \u001b[0;32mif\u001b[0m \u001b[0mpruned\u001b[0m\u001b[0;34m[\u001b[0m\u001b[0;36m0\u001b[0m\u001b[0;34m]\u001b[0m\u001b[0;34m.\u001b[0m\u001b[0mdegree\u001b[0m\u001b[0;34m(\u001b[0m\u001b[0mnode\u001b[0m\u001b[0;34m)\u001b[0m\u001b[0;34m==\u001b[0m\u001b[0;36m3\u001b[0m \u001b[0;32mand\u001b[0m \u001b[0mget_importance\u001b[0m\u001b[0;34m(\u001b[0m\u001b[0mpruned\u001b[0m\u001b[0;34m[\u001b[0m\u001b[0;36m0\u001b[0m\u001b[0;34m]\u001b[0m\u001b[0;34m,\u001b[0m\u001b[0mnode\u001b[0m\u001b[0;34m)\u001b[0m\u001b[0;34m>=\u001b[0m\u001b[0;36m10\u001b[0m\u001b[0;34m]\u001b[0m\u001b[0;34m)\u001b[0m\u001b[0;34m)\u001b[0m\u001b[0;34m\u001b[0m\u001b[0;34m\u001b[0m\u001b[0m\n\u001b[0m\u001b[1;32m      2\u001b[0m \u001b[0mY\u001b[0m \u001b[0;34m=\u001b[0m \u001b[0mnp\u001b[0m\u001b[0;34m.\u001b[0m\u001b[0mtranspose\u001b[0m\u001b[0;34m(\u001b[0m\u001b[0mnp\u001b[0m\u001b[0;34m.\u001b[0m\u001b[0marray\u001b[0m\u001b[0;34m(\u001b[0m\u001b[0;34m[\u001b[0m\u001b[0mpos_tp1\u001b[0m\u001b[0;34m[\u001b[0m\u001b[0mnode\u001b[0m\u001b[0;34m]\u001b[0m \u001b[0;32mfor\u001b[0m \u001b[0mnode\u001b[0m \u001b[0;32min\u001b[0m \u001b[0mpruned\u001b[0m\u001b[0;34m[\u001b[0m\u001b[0;36m1\u001b[0m\u001b[0;34m]\u001b[0m \u001b[0;32mif\u001b[0m \u001b[0mpruned\u001b[0m\u001b[0;34m[\u001b[0m\u001b[0;36m1\u001b[0m\u001b[0;34m]\u001b[0m\u001b[0;34m.\u001b[0m\u001b[0mdegree\u001b[0m\u001b[0;34m(\u001b[0m\u001b[0mnode\u001b[0m\u001b[0;34m)\u001b[0m\u001b[0;34m==\u001b[0m\u001b[0;36m3\u001b[0m \u001b[0;32mand\u001b[0m \u001b[0mget_importance\u001b[0m\u001b[0;34m(\u001b[0m\u001b[0mpruned\u001b[0m\u001b[0;34m[\u001b[0m\u001b[0;36m1\u001b[0m\u001b[0;34m]\u001b[0m\u001b[0;34m,\u001b[0m\u001b[0mnode\u001b[0m\u001b[0;34m)\u001b[0m\u001b[0;34m>=\u001b[0m\u001b[0;36m10\u001b[0m\u001b[0;34m]\u001b[0m\u001b[0;34m)\u001b[0m\u001b[0;34m)\u001b[0m\u001b[0;34m\u001b[0m\u001b[0;34m\u001b[0m\u001b[0m\n\u001b[1;32m      3\u001b[0m \u001b[0mX\u001b[0m\u001b[0;34m.\u001b[0m\u001b[0mshape\u001b[0m\u001b[0;34m,\u001b[0m\u001b[0mY\u001b[0m\u001b[0;34m.\u001b[0m\u001b[0mshape\u001b[0m\u001b[0;34m\u001b[0m\u001b[0;34m\u001b[0m\u001b[0m\n",
      "\u001b[0;31mNameError\u001b[0m: name 'get_importance' is not defined"
     ]
    }
   ],
   "source": [
    "X = np.transpose(np.array([pos_t[node] for node in pruned[0] if pruned[0].degree(node)==3 and get_importance(pruned[0],node)>=10]))\n",
    "Y = np.transpose(np.array([pos_tp1[node] for node in pruned[1] if pruned[1].degree(node)==3 and get_importance(pruned[1],node)>=10]))\n",
    "X.shape,Y.shape"
   ]
  },
  {
   "cell_type": "code",
   "execution_count": 9,
   "metadata": {},
   "outputs": [
    {
     "data": {
      "text/plain": [
       "((2, 2763), (2, 3131))"
      ]
     },
     "execution_count": 9,
     "metadata": {},
     "output_type": "execute_result"
    }
   ],
   "source": [
    "X = np.transpose(np.array([pos_t[node] for node in pruned[0] if pruned[0].degree(node)==3]))\n",
    "Y = np.transpose(np.array([pos_tp1[node] for node in pruned[1] if pruned[1].degree(node)==3]))\n",
    "X.shape,Y.shape"
   ]
  },
  {
   "cell_type": "code",
   "execution_count": 78,
   "metadata": {},
   "outputs": [],
   "source": [
    "def get_importance(g,node):\n",
    "    score = np.inf\n",
    "    for edge in g.edges(node):\n",
    "        score =  min(score,g.get_edge_data(*edge)['weight'])\n",
    "    return(score)"
   ]
  },
  {
   "cell_type": "code",
   "execution_count": 80,
   "metadata": {},
   "outputs": [],
   "source": [
    "importance = []\n",
    "g=pruned[0]\n",
    "for node in g:\n",
    "    importance.append(get_importance(g,node))"
   ]
  },
  {
   "cell_type": "code",
   "execution_count": null,
   "metadata": {},
   "outputs": [],
   "source": [
    "fig=plt.figure(figsize=(14,11))\n",
    "ax = fig.add_subplot(111)\n",
    "ax.hist(importance,10)"
   ]
  },
  {
   "cell_type": "code",
   "execution_count": 4,
   "metadata": {},
   "outputs": [],
   "source": [
    "num=1\n",
    "nodesX=[choice([node for node in pruned[0] if pruned[0].degree(node)==3]) for i in range(num)]\n",
    "nodesY = [choice([node for node in pruned[1] if pruned[1].degree(node)==3]) for i in range(num)]"
   ]
  },
  {
   "cell_type": "code",
   "execution_count": 5,
   "metadata": {},
   "outputs": [
    {
     "ename": "NameError",
     "evalue": "name 'pos_t' is not defined",
     "output_type": "error",
     "traceback": [
      "\u001b[0;31m---------------------------------------------------------------------------\u001b[0m",
      "\u001b[0;31mNameError\u001b[0m                                 Traceback (most recent call last)",
      "\u001b[0;32m<ipython-input-5-fea960248bb0>\u001b[0m in \u001b[0;36m<module>\u001b[0;34m()\u001b[0m\n\u001b[1;32m      4\u001b[0m \u001b[0mg\u001b[0m \u001b[0;34m=\u001b[0m \u001b[0mpruned\u001b[0m\u001b[0;34m[\u001b[0m\u001b[0;36m0\u001b[0m\u001b[0;34m]\u001b[0m\u001b[0;34m\u001b[0m\u001b[0;34m\u001b[0m\u001b[0m\n\u001b[1;32m      5\u001b[0m \u001b[0;32mfor\u001b[0m \u001b[0mnode\u001b[0m \u001b[0;32min\u001b[0m \u001b[0mnodesX\u001b[0m\u001b[0;34m:\u001b[0m\u001b[0;34m\u001b[0m\u001b[0;34m\u001b[0m\u001b[0m\n\u001b[0;32m----> 6\u001b[0;31m     \u001b[0mpos\u001b[0m \u001b[0;34m=\u001b[0m \u001b[0mpos_t\u001b[0m\u001b[0;34m[\u001b[0m\u001b[0mnode\u001b[0m\u001b[0;34m]\u001b[0m\u001b[0;34m\u001b[0m\u001b[0;34m\u001b[0m\u001b[0m\n\u001b[0m\u001b[1;32m      7\u001b[0m     \u001b[0mxy\u001b[0m \u001b[0;34m=\u001b[0m \u001b[0mskels\u001b[0m\u001b[0;34m[\u001b[0m\u001b[0;36m0\u001b[0m\u001b[0;34m]\u001b[0m\u001b[0;34m[\u001b[0m\u001b[0mmax\u001b[0m\u001b[0;34m(\u001b[0m\u001b[0;36m0\u001b[0m\u001b[0;34m,\u001b[0m\u001b[0mpos\u001b[0m\u001b[0;34m[\u001b[0m\u001b[0;36m0\u001b[0m\u001b[0;34m]\u001b[0m\u001b[0;34m-\u001b[0m\u001b[0mwindow\u001b[0m\u001b[0;34m)\u001b[0m\u001b[0;34m:\u001b[0m\u001b[0mpos\u001b[0m\u001b[0;34m[\u001b[0m\u001b[0;36m0\u001b[0m\u001b[0;34m]\u001b[0m\u001b[0;34m+\u001b[0m\u001b[0mwindow\u001b[0m\u001b[0;34m,\u001b[0m\u001b[0mmax\u001b[0m\u001b[0;34m(\u001b[0m\u001b[0;36m0\u001b[0m\u001b[0;34m,\u001b[0m\u001b[0mpos\u001b[0m\u001b[0;34m[\u001b[0m\u001b[0;36m1\u001b[0m\u001b[0;34m]\u001b[0m\u001b[0;34m-\u001b[0m\u001b[0mwindow\u001b[0m\u001b[0;34m)\u001b[0m\u001b[0;34m:\u001b[0m\u001b[0mpos\u001b[0m\u001b[0;34m[\u001b[0m\u001b[0;36m1\u001b[0m\u001b[0;34m]\u001b[0m\u001b[0;34m+\u001b[0m\u001b[0mwindow\u001b[0m\u001b[0;34m]\u001b[0m\u001b[0;34m.\u001b[0m\u001b[0mnonzero\u001b[0m\u001b[0;34m(\u001b[0m\u001b[0;34m)\u001b[0m\u001b[0;34m\u001b[0m\u001b[0;34m\u001b[0m\u001b[0m\n\u001b[1;32m      8\u001b[0m     \u001b[0mxy2\u001b[0m \u001b[0;34m=\u001b[0m \u001b[0mskels\u001b[0m\u001b[0;34m[\u001b[0m\u001b[0;36m1\u001b[0m\u001b[0;34m]\u001b[0m\u001b[0;34m[\u001b[0m\u001b[0mmax\u001b[0m\u001b[0;34m(\u001b[0m\u001b[0;36m0\u001b[0m\u001b[0;34m,\u001b[0m\u001b[0mpos\u001b[0m\u001b[0;34m[\u001b[0m\u001b[0;36m0\u001b[0m\u001b[0;34m]\u001b[0m\u001b[0;34m-\u001b[0m\u001b[0mwindow\u001b[0m\u001b[0;34m)\u001b[0m\u001b[0;34m:\u001b[0m\u001b[0mpos\u001b[0m\u001b[0;34m[\u001b[0m\u001b[0;36m0\u001b[0m\u001b[0;34m]\u001b[0m\u001b[0;34m+\u001b[0m\u001b[0mwindow\u001b[0m\u001b[0;34m,\u001b[0m\u001b[0mmax\u001b[0m\u001b[0;34m(\u001b[0m\u001b[0;36m0\u001b[0m\u001b[0;34m,\u001b[0m\u001b[0mpos\u001b[0m\u001b[0;34m[\u001b[0m\u001b[0;36m1\u001b[0m\u001b[0;34m]\u001b[0m\u001b[0;34m-\u001b[0m\u001b[0mwindow\u001b[0m\u001b[0;34m)\u001b[0m\u001b[0;34m:\u001b[0m\u001b[0mpos\u001b[0m\u001b[0;34m[\u001b[0m\u001b[0;36m1\u001b[0m\u001b[0;34m]\u001b[0m\u001b[0;34m+\u001b[0m\u001b[0mwindow\u001b[0m\u001b[0;34m]\u001b[0m\u001b[0;34m.\u001b[0m\u001b[0mnonzero\u001b[0m\u001b[0;34m(\u001b[0m\u001b[0;34m)\u001b[0m\u001b[0;34m\u001b[0m\u001b[0;34m\u001b[0m\u001b[0m\n",
      "\u001b[0;31mNameError\u001b[0m: name 'pos_t' is not defined"
     ]
    }
   ],
   "source": [
    "X=[]\n",
    "Y=[]\n",
    "window = 200\n",
    "g = pruned[0]\n",
    "for node in nodesX:\n",
    "    pos = pos_t[node]\n",
    "    xy = skels[0][max(0,pos[0]-window):pos[0]+window,max(0,pos[1]-window):pos[1]+window].nonzero()\n",
    "    xy2 = skels[1][max(0,pos[0]-window):pos[0]+window,max(0,pos[1]-window):pos[1]+window].nonzero()\n",
    "    for i,x in enumerate(xy[0]):\n",
    "        y = xy[1][i]\n",
    "        X.append((pos[0]-window+x,pos[1]-window+y))\n",
    "        if i<len(xy2[0]):\n",
    "            x2,y2 = xy2[0][i],xy2[1][i]\n",
    "            Y.append((pos[0]-window+x2,pos[1]-window+y2))\n"
   ]
  },
  {
   "cell_type": "code",
   "execution_count": 6,
   "metadata": {},
   "outputs": [],
   "source": []
  },
  {
   "cell_type": "code",
   "execution_count": 10,
   "metadata": {},
   "outputs": [
    {
     "data": {
      "text/plain": [
       "((3, 2763), (3, 3131))"
      ]
     },
     "execution_count": 10,
     "metadata": {},
     "output_type": "execute_result"
    }
   ],
   "source": [
    "X = np.insert(X, 2, values=0, axis=0) \n",
    "Y = np.insert(Y, 2, values=0, axis=0) \n",
    "X.shape,Y.shape\n"
   ]
  },
  {
   "cell_type": "code",
   "execution_count": 4,
   "metadata": {},
   "outputs": [
    {
     "name": "stdout",
     "output_type": "stream",
     "text": [
      "[[ 0.9966081 -0.0822939]\n",
      " [ 0.0822939  0.9966081]] [[0.11547774]\n",
      " [0.37731306]]\n"
     ]
    },
    {
     "data": {
      "application/vnd.jupyter.widget-view+json": {
       "model_id": "7091bfc7ba0d43008d28bd1c626fba01",
       "version_major": 2,
       "version_minor": 0
      },
      "text/plain": [
       "Canvas(toolbar=Toolbar(toolitems=[('Home', 'Reset original view', 'home', 'home'), ('Back', 'Back to previous …"
      ]
     },
     "metadata": {},
     "output_type": "display_data"
    },
    {
     "name": "stdout",
     "output_type": "stream",
     "text": [
      "registration::RegistrationResult with fitness=1.000000e+00, inlier_rmse=9.583941e-01, and correspondence_set size of 4000\n",
      "Access transformation to get result.\n",
      "Transformation is:\n",
      "[[ 0.9968446  -0.07937788  0.         -1.40800181]\n",
      " [ 0.07937788  0.9968446   0.          1.7217043 ]\n",
      " [ 0.          0.          1.          0.        ]\n",
      " [ 0.          0.          0.          1.        ]]\n"
     ]
    }
   ],
   "source": [
    "X = []\n",
    "dimx = 1000\n",
    "dimy = 1000\n",
    "for i in range(dimx):\n",
    "    X.append((i,0))\n",
    "    X.append((i,dimy))\n",
    "for i in range(dimy):\n",
    "    X.append((dimx,i))\n",
    "    X.append((0,i))\n",
    "X=np.transpose(np.array(X))\n",
    "angle = np.random.uniform(0,np.pi/16)\n",
    "R=np.array([[np.cos(angle),-np.sin(angle)],[np.sin(angle),np.cos(angle)]])\n",
    "t = np.random.uniform(0,1,(2,1))\n",
    "print(R,t)\n",
    "Y=np.transpose(np.transpose(np.dot(R,X))+np.transpose(t))\n",
    "np.random.shuffle(np.transpose(Y))\n",
    "fig=plt.figure(figsize=(10,9))\n",
    "\n",
    "ax = fig.add_subplot(111)\n",
    "ax.scatter(X[0,:],X[1,:])\n",
    "ax.scatter(Y[0,:],Y[1,:])\n",
    "X = np.insert(X, 2, values=0, axis=0) \n",
    "Y = np.insert(Y, 2, values=0, axis=0) \n",
    "vectorX = o3d.utility.Vector3dVector(np.transpose(X))\n",
    "vectorY = o3d.utility.Vector3dVector(np.transpose(Y))\n",
    "source = o3d.geometry.PointCloud(vectorX)\n",
    "target = o3d.geometry.PointCloud(vectorY)\n",
    "threshold = 20\n",
    "trans_init = np.asarray([[1, 0, 0, 0],\n",
    "                         [0, 1, 0, 0],\n",
    "                         [0, 0, 1, 0], [0.0, 0.0, 0.0, 1.0]])\n",
    "reg_p2p = o3d.registration.registration_icp(\n",
    "    source, target, threshold, trans_init,\n",
    "    o3d.registration.TransformationEstimationPointToPoint())\n",
    "print(reg_p2p)\n",
    "print(\"Transformation is:\")\n",
    "print(reg_p2p.transformation)"
   ]
  },
  {
   "cell_type": "code",
   "execution_count": 92,
   "metadata": {},
   "outputs": [
    {
     "data": {
      "text/plain": [
       "((2, 2014), (2, 2014))"
      ]
     },
     "execution_count": 92,
     "metadata": {},
     "output_type": "execute_result"
    }
   ],
   "source": [
    "X.shape,Y.shape"
   ]
  },
  {
   "cell_type": "code",
   "execution_count": null,
   "metadata": {},
   "outputs": [
    {
     "data": {
      "application/vnd.jupyter.widget-view+json": {
       "model_id": "6adba99f5f034df39f32b3a5a589610c",
       "version_major": 2,
       "version_minor": 0
      },
      "text/plain": [
       "Canvas(toolbar=Toolbar(toolitems=[('Home', 'Reset original view', 'home', 'home'), ('Back', 'Back to previous …"
      ]
     },
     "metadata": {},
     "output_type": "display_data"
    }
   ],
   "source": [
    "fig=plt.figure(figsize=(10,9))\n",
    "ax = fig.add_subplot(111)\n",
    "ax.scatter(X[0,:],X[1,:])\n",
    "ax.scatter(Y[0,:],Y[1,:])\n",
    "reg = RigidRegistration(R=np.array([[1,0],[0,1]]),t=np.array([[0,0]]),**{'X': np.transpose(X), 'Y': np.transpose(Y)})\n",
    "out = reg.register()\n",
    "Rfound = reg.R\n",
    "tfound= reg.t\n",
    "print(Rfound,tfound)\n",
    "Yrep=np.transpose(np.transpose(np.dot(Rfound,np.transpose(np.transpose(X))))-tfound)\n",
    "fig=plt.figure(figsize=(10,9))\n",
    "ax = fig.add_subplot(111)\n",
    "ax.scatter(np.transpose(Y)[:,0],np.transpose(Y)[:,1])\n",
    "ax.scatter(np.transpose(Yrep)[:,0],np.transpose(Yrep)[:,1])"
   ]
  },
  {
   "cell_type": "code",
   "execution_count": 54,
   "metadata": {},
   "outputs": [],
   "source": [
    "def realign_final(skeleton1,skeleton2):\n",
    "    nx_graph1,pos1 = generate_nx_graph(from_sparse_to_graph(skeleton1))\n",
    "    nx_graph2,pos2 = generate_nx_graph(from_sparse_to_graph(skeleton2))\n",
    "    pruned1 = prune_graph(nx_graph1)\n",
    "    pruned2 = prune_graph(nx_graph2)\n",
    "    X = np.transpose(np.array([pos1[node] for node in pruned1 if pruned1.degree(node)==3]))\n",
    "    Y = np.transpose(np.array([pos2[node] for node in pruned2 if pruned2.degree(node)==3]))\n",
    "    reg = RigidRegistration(R=np.array([[1,0],[0,1]]),t=np.array([[0,0]]),**{'X': np.transpose(X), 'Y': np.transpose(Y)})\n",
    "    out = reg.register()\n",
    "    Rfound = reg.R\n",
    "    tfound= reg.t\n",
    "    skel_transformed = transform_skeleton(skeleton2,Rfound,tfound)\n",
    "    skel_mat = np.zeros((26322, 49527),dtype=np.uint8)\n",
    "    for pixel in skel_transformed.keys():\n",
    "        skel_mat[pixel]=1\n",
    "    return(skel_mat,Rfound,tfound)"
   ]
  },
  {
   "cell_type": "code",
   "execution_count": 104,
   "metadata": {},
   "outputs": [
    {
     "name": "stdout",
     "output_type": "stream",
     "text": [
      "[700.88858]\n",
      "[1012.7436]\n"
     ]
    }
   ],
   "source": [
    "\n",
    "def transform_skeleton(skeleton_doc,Rot,trans):\n",
    "    transformed_skeleton={}\n",
    "    transformed_keys = (np.round(np.transpose(np.dot(np.linalg.inv(Rot),np.transpose(np.array(list(skeleton_doc.keys())))))+trans).astype(np.int))\n",
    "    i=0\n",
    "    for pixel in list(transformed_keys):\n",
    "        i+=1\n",
    "        transformed_skeleton[(pixel[0],pixel[1])]=1\n",
    "    return(transformed_skeleton)\n",
    "def transform_skeleton(skeleton_doc,Rot,trans):\n",
    "    transformed_skeleton={}\n",
    "    transformed_keys = (np.round(np.transpose(np.dot(np.linalg.inv(Rot),np.transpose(np.array(list(skeleton_doc.keys())))))+trans).astype(np.int))\n",
    "    i=0\n",
    "    for pixel in list(transformed_keys):\n",
    "        i+=1\n",
    "        transformed_skeleton[(pixel[0],pixel[1])]=1\n",
    "    return(transformed_skeleton)\n",
    "skel_mat3 = realign_final(skel_docs[0],skel_docs[1])"
   ]
  },
  {
   "cell_type": "code",
   "execution_count": 122,
   "metadata": {},
   "outputs": [],
   "source": [
    "skel_mat = np.zeros(skels[0].shape,dtype=np.uint8)\n",
    "for pixel in skel_transformed.keys():\n",
    "    skel_mat[pixel]=1"
   ]
  },
  {
   "cell_type": "code",
   "execution_count": 123,
   "metadata": {},
   "outputs": [
    {
     "data": {
      "application/vnd.jupyter.widget-view+json": {
       "model_id": "19893a18cdcb419db4ce2a9d533dcda1",
       "version_major": 2,
       "version_minor": 0
      },
      "text/plain": [
       "Canvas(toolbar=Toolbar(toolitems=[('Home', 'Reset original view', 'home', 'home'), ('Back', 'Back to previous …"
      ]
     },
     "metadata": {},
     "output_type": "display_data"
    }
   ],
   "source": [
    "plt.close('all')\n",
    "plot_t_tp1([],[],None,None,skel_mat[19000:21000,44000:46000],skels[0][19000:21000,44000:46000])"
   ]
  },
  {
   "cell_type": "code",
   "execution_count": 48,
   "metadata": {},
   "outputs": [
    {
     "data": {
      "application/vnd.jupyter.widget-view+json": {
       "model_id": "86965481e7e04eac9dc0a6c9ff4032c5",
       "version_major": 2,
       "version_minor": 0
      },
      "text/plain": [
       "Canvas(toolbar=Toolbar(toolitems=[('Home', 'Reset original view', 'home', 'home'), ('Back', 'Back to previous …"
      ]
     },
     "metadata": {},
     "output_type": "display_data"
    }
   ],
   "source": [
    "plt.close('all')\n",
    "plot_t_tp1([],[],None,None,skel_mat[19000:21000,44000:46000],skels[1][19000:21000,44000:46000])"
   ]
  },
  {
   "cell_type": "code",
   "execution_count": 51,
   "metadata": {},
   "outputs": [
    {
     "data": {
      "application/vnd.jupyter.widget-view+json": {
       "model_id": "edbae2795c2f4b6bb5932f28cdca0423",
       "version_major": 2,
       "version_minor": 0
      },
      "text/plain": [
       "Canvas(toolbar=Toolbar(toolitems=[('Home', 'Reset original view', 'home', 'home'), ('Back', 'Back to previous …"
      ]
     },
     "metadata": {},
     "output_type": "display_data"
    }
   ],
   "source": [
    "plot_t_tp1([],[],None,None,skel_mat2[19000:21000,44000:46000],skels[1][19000:21000,44000:46000])"
   ]
  },
  {
   "cell_type": "code",
   "execution_count": 16,
   "metadata": {},
   "outputs": [
    {
     "data": {
      "application/vnd.jupyter.widget-view+json": {
       "model_id": "1cde227f3fa84d46a8546885a7a84bf9",
       "version_major": 2,
       "version_minor": 0
      },
      "text/plain": [
       "Canvas(toolbar=Toolbar(toolitems=[('Home', 'Reset original view', 'home', 'home'), ('Back', 'Back to previous …"
      ]
     },
     "metadata": {},
     "output_type": "display_data"
    }
   ],
   "source": [
    "plot_t_tp1([],[],None,None,skels[0][19000:21000,44000:46000],skels[1][19000:21000,44000:46000])"
   ]
  },
  {
   "cell_type": "code",
   "execution_count": 27,
   "metadata": {},
   "outputs": [],
   "source": [
    "import pandas as pd\n",
    "import networkx as nx\n",
    "import numpy as np\n",
    "from extract_graph import generate_nx_graph, transform_list, generate_skeleton, generate_nx_graph_from_skeleton, from_nx_to_tab\n",
    "from node_id import whole_movement_identification\n",
    "import ast\n",
    "from plotutil import plot_t_tp1\n",
    "from scipy import sparse\n",
    "from sparse_util import dilate, zhangSuen\n",
    "from scipy.optimize import minimize\n",
    "from time import time\n",
    "\n",
    "\n",
    "def transform_skeleton(skeleton_doc,Rot,trans):\n",
    "    transformed_skeleton={}\n",
    "    transformed_keys = np.round(np.transpose(np.dot(Rot,np.transpose(np.array(list(skeleton_doc.keys())))))+trans).astype(np.int)\n",
    "    i=0\n",
    "    for pixel in list(transformed_keys):\n",
    "        i+=1\n",
    "        transformed_skeleton[(pixel[0],pixel[1])]=1\n",
    "    return(transformed_skeleton)\n",
    "\n",
    "def realign(skeleton1,nx_graphB,posB,convergence_threshold,window=500,maxdist=50,save=''):\n",
    "    converged=False\n",
    "    nx_graphA,posA=generate_nx_graph_from_skeleton(skeleton1) \n",
    "    t0=np.array([0,0])\n",
    "    R0=np.identity(2)\n",
    "    while not converged:\n",
    "        listeA,listeB = find_common_group_nodes(nx_graphA,nx_graphB,posA,posB,R0,t0,maxdist=maxdist,window=window)\n",
    "        H=np.dot(np.transpose(np.array(listeA)-np.mean(listeA,axis=0)),np.array(listeB)-np.mean(listeB,axis=0))\n",
    "        U,S,V=np.linalg.svd(H)\n",
    "        R=np.dot(V,np.transpose(U))\n",
    "        t=np.mean(listeB,axis=0)-np.dot(R,np.mean(listeA,axis=0))\n",
    "        print(\"number_common_nodes_found :\",len(listeA))\n",
    "        if np.linalg.norm(t)<=convergence_threshold:\n",
    "            converged=True\n",
    "        R0=np.dot(R,R0)\n",
    "        t0=t+t0\n",
    "    skeleton_transformed=transform_skeleton(skeleton1,R0,t0)\n",
    "    skeleton_transformed=dilate(skeleton_transformed)\n",
    "    skeleton_transformed=dilate(skeleton_transformed)\n",
    "    skeleton_transformed=zhangSuen(skeleton_transformed)\n",
    "    if len(save)>=0:\n",
    "        from_nx_to_tab(*generate_nx_graph_from_skeleton(skeleton_transformed)).to_csv(save+'_raw_aligned_skeleton.csv')\n",
    "        np.savetxt(save+'rot.txt',R0)\n",
    "        np.savetxt(save+'trans.txt',t0)\n",
    "    print(\"R0=\",R0,'t0=',t0)\n",
    "    return(skeleton_transformed)\n",
    "\n",
    "def find_common_group_nodes(Sa,Sb,degree3_nodesa,degree3_nodesb,posa,posb,R0,t0,window=500,maxdist=50):\n",
    "    common_nodes_a = []\n",
    "    common_nodes_b = []\n",
    "    common_centroida = []\n",
    "    common_centroidb = []\n",
    "    t=time()\n",
    "    posarottrans = {key : np.round(np.transpose(np.dot(R0,np.transpose(np.array(posa[key])))+t0)).astype(np.int) for key in degree3_nodesa}\n",
    "#     print(\"rotating translating\",time()-t)\n",
    "    for node in degree3_nodesa:\n",
    "        t=time()\n",
    "        posanchor=posarottrans[node]\n",
    "        potential_surroundinga=Sa[posanchor[0]-2*window:posanchor[0]+2*window,posanchor[1]-2*window:posanchor[1]+2*window]\n",
    "        potential_surroundingb=Sb[posanchor[0]-2*window:posanchor[0]+2*window,posanchor[1]-2*window:posanchor[1]+2*window]\n",
    "#         print(\"candidates\",len(potential_surroundinga.data))\n",
    "#         print(\"finding_potential_surrounding\",time()-t)\n",
    "        t=time()\n",
    "        surrounding_nodesa=[node for node in potential_surroundinga.data if \n",
    "                            (posanchor[0]-window<posarottrans[int(node)][0]<posanchor[0]+window and posanchor[1]-window<posarottrans[int(node)][1]<posanchor[1]+window \n",
    "                             )]\n",
    "        surrounding_nodesb=[node for node in potential_surroundingb.data if \n",
    "                    (posanchor[0]-window<posb[int(node)][0]<posanchor[0]+window and posanchor[1]-window<posb[int(node)][1]<posanchor[1]+window \n",
    "                    )]\n",
    "#         print(\"finding_surrounding\",time()-t)\n",
    "        t=time()\n",
    "        if len(surrounding_nodesa)==len(surrounding_nodesb):\n",
    "            possurroundinga=[posarottrans[node] for node in surrounding_nodesa]\n",
    "            possurroundingb=[posb[node] for node in surrounding_nodesb]\n",
    "            centroida= np.mean(possurroundinga,axis=0)\n",
    "            centroidb= np.mean(possurroundingb,axis=0)\n",
    "            if np.linalg.norm(centroida-centroidb)<=maxdist:\n",
    "                common_centroida.append(centroida)\n",
    "                common_centroidb.append(centroidb)\n",
    "    return(common_centroida,common_centroidb)\n",
    "\n",
    "def realign2(skeleton1,skeleton2,convergence_threshold,window=500,maxdist=50,save=''):\n",
    "    converged=False\n",
    "    tim=time()\n",
    "    nx_graphA,posA=generate_nx_graph_from_skeleton(skeleton1)\n",
    "    nx_graphB,posB=generate_nx_graph_from_skeleton(skeleton2)\n",
    "    print(\"generate_nx_graph_from_skeleton, t=\",tim-time())\n",
    "    tim=time()\n",
    "    t0=np.array([0,0])\n",
    "    R0=np.identity(2)\n",
    "    degree3_nodesa = [node for node in nx_graphA if nx_graphA.degree(node)==3]\n",
    "    degree3_nodesb = [node for node in nx_graphB if nx_graphB.degree(node)==3]\n",
    "    print(\"lennodes=\",len(degree3_nodesa))\n",
    "    Sa=sparse.csr_matrix((26296, 49559))\n",
    "    Sb=sparse.csr_matrix((26296, 49559))\n",
    "    for node in degree3_nodesa:\n",
    "        Sa[posA[node][0],posA[node][1]]=node\n",
    "    for node in degree3_nodesb:\n",
    "        Sb[posB[node][0],posB[node][1]]=node\n",
    "    while not converged:\n",
    "        listeA,listeB = find_common_group_nodes(Sa,Sb,degree3_nodesa,degree3_nodesb,posA,posB,R0,t0,maxdist=maxdist,window=window)\n",
    "        H=np.dot(np.transpose(np.array(listeA)-np.mean(listeA,axis=0)),np.array(listeB)-np.mean(listeB,axis=0))\n",
    "        U,S,V=np.linalg.svd(H)\n",
    "        R=np.dot(V,np.transpose(U))\n",
    "        t=np.mean(listeB,axis=0)-np.dot(R,np.mean(listeA,axis=0))\n",
    "        print(\"number_common_nodes_found :\",len(listeA))\n",
    "        if np.linalg.norm(t)<=convergence_threshold:\n",
    "            converged=True\n",
    "        R0=np.dot(R,R0)\n",
    "        t0=t+t0\n",
    "    print(\"Find R and T, t=\",tim-time())\n",
    "    tim=time()\n",
    "    skeleton_transformed=transform_skeleton(skeleton1,R0,t0)\n",
    "    skeleton_transformed=dilate(skeleton_transformed)\n",
    "    skeleton_transformed=zhangSuen(skeleton_transformed)\n",
    "    print(\"transform, dilate and thin, t=\",tim-time())\n",
    "    tim=time()\n",
    "    if len(save)>=0:\n",
    "        from_nx_to_tab(*generate_nx_graph_from_skeleton(skeleton_transformed)).to_csv(save+'_raw_aligned_skeleton.csv')\n",
    "        np.savetxt(save+'rot.txt',R0)\n",
    "        np.savetxt(save+'trans.txt',t0)\n",
    "    print(\"R0=\",R0,'t0=',t0)\n",
    "    return(skeleton_transformed)\n",
    "\n",
    "def reconnect(skeleton):\n",
    "    skeleton_transformed=dilate(skeleton)\n",
    "    skeleton_transformed=zhangSuen(skeleton_transformed)\n",
    "    return(skeleton_transformed)\n",
    "\n",
    "\n",
    "def shift(skeleton1,skeleton2):\n",
    "    skeleton1_dilated = dilate(dilate(skeleton1)).astype(np.float)\n",
    "    skeleton2_dilated = dilate(dilate(skeleton2)).astype(np.float)\n",
    "    def distance(shift):\n",
    "        distance=0\n",
    "#         print(shift)\n",
    "        for pixel in skeleton1_dilated.keys():\n",
    "#             print(pixel[0]+shift[0],pixel[1]+shift[1])\n",
    "            if (skeleton2_dilated.shape[0]>np.ceil(pixel[0]+shift[0])>=0 and skeleton2_dilated.shape[1]>np.ceil(pixel[1]+shift[1])>=0):\n",
    "                shifted_pixel = (int(pixel[0]+shift[0]),int(pixel[1]+shift[1]))\n",
    "                shifted_pixel_next = (np.ceil(pixel[0]+shift[0]),np.ceil(pixel[1]+shift[1]))\n",
    "#                 print(shifted_pixel)\n",
    "                prop=1/2*(pixel[0]+shift[0]-int(pixel[0]+shift[0])+pixel[1]+shift[1]-int(pixel[1]+shift[1]))\n",
    "                float_value=(1-prop)*skeleton2_dilated[shifted_pixel[0],shifted_pixel[1]]+prop*(skeleton2_dilated[shifted_pixel_next[0],shifted_pixel_next[1]])\n",
    "                distance+=abs(skeleton1_dilated[pixel]-float_value)\n",
    "            else:\n",
    "                distance+=1\n",
    "#         for pixel in skeleton2_dilated.keys():\n",
    "#             if (skeleton2_dilated.shape[0]>pixel[0]-shift[0]>=0 and skeleton2_dilated.shape[1]>pixel[1]-shift[1]>=0):\n",
    "#                 shifted_pixel = (int(pixel[0]-shift[0]),int(pixel[1]-shift[1]))\n",
    "#                 distance+=abs(skeleton1_dilated[shifted_pixel[0],shifted_pixel[1]]^skeleton2_dilated[pixel])\n",
    "#             else:\n",
    "#                 distance+=1\n",
    "#         print(distance)\n",
    "        return distance\n",
    "    return(minimize(distance,np.array([10,10]), method='nelder-mead',options={'xatol': 1, 'disp': True,'fatol':0.1}))"
   ]
  },
  {
   "cell_type": "code",
   "execution_count": null,
   "metadata": {},
   "outputs": [],
   "source": []
  }
 ],
 "metadata": {
  "kernelspec": {
   "display_name": "Python 3",
   "language": "python",
   "name": "python3"
  },
  "language_info": {
   "codemirror_mode": {
    "name": "ipython",
    "version": 3
   },
   "file_extension": ".py",
   "mimetype": "text/x-python",
   "name": "python",
   "nbconvert_exporter": "python",
   "pygments_lexer": "ipython3",
   "version": "3.7.7"
  }
 },
 "nbformat": 4,
 "nbformat_minor": 4
}

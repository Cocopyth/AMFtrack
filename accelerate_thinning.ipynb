{
 "cells": [
  {
   "cell_type": "code",
   "execution_count": 13,
   "metadata": {},
   "outputs": [],
   "source": [
    "from scipy import sparse\n",
    "from sparse_util import zhangSuen\n"
   ]
  },
  {
   "cell_type": "code",
   "execution_count": 35,
   "metadata": {},
   "outputs": [],
   "source": [
    "test_sparse=sparse.dok_matrix((1000,1000))"
   ]
  },
  {
   "cell_type": "code",
   "execution_count": 36,
   "metadata": {},
   "outputs": [],
   "source": [
    "test_sparse[100:501,100:501]=1"
   ]
  },
  {
   "cell_type": "code",
   "execution_count": null,
   "metadata": {},
   "outputs": [],
   "source": []
  },
  {
   "cell_type": "code",
   "execution_count": 23,
   "metadata": {},
   "outputs": [
    {
     "name": "stdout",
     "output_type": "stream",
     "text": [
      "102 99\n",
      "97 95\n",
      "93 91\n",
      "89 87\n",
      "85 83\n",
      "81 79\n",
      "77 75\n",
      "73 71\n",
      "69 67\n",
      "65 63\n",
      "61 59\n",
      "57 55\n",
      "53 51\n",
      "49 47\n",
      "45 43\n",
      "41 39\n",
      "37 35\n",
      "33 31\n",
      "29 27\n",
      "25 23\n",
      "21 19\n",
      "17 15\n",
      "13 11\n",
      "9 7\n",
      "5 2\n",
      "0 0\n"
     ]
    },
    {
     "data": {
      "text/plain": [
       "{(475, 475): 1.0}"
      ]
     },
     "execution_count": 23,
     "metadata": {},
     "output_type": "execute_result"
    }
   ],
   "source": [
    "zhangSuen2(test_sparse)"
   ]
  },
  {
   "cell_type": "code",
   "execution_count": 37,
   "metadata": {},
   "outputs": [
    {
     "name": "stdout",
     "output_type": "stream",
     "text": [
      "802 799\n",
      "797 795\n",
      "793 791\n",
      "789 787\n",
      "785 783\n",
      "781 779\n",
      "777 775\n",
      "773 771\n",
      "769 767\n",
      "765 763\n",
      "761 759\n",
      "757 755\n",
      "753 751\n",
      "749 747\n",
      "745 743\n",
      "741 739\n",
      "737 735\n",
      "733 731\n",
      "729 727\n",
      "725 723\n",
      "721 719\n",
      "717 715\n",
      "713 711\n",
      "709 707\n",
      "705 703\n",
      "701 699\n",
      "697 695\n",
      "693 691\n",
      "689 687\n",
      "685 683\n",
      "681 679\n",
      "677 675\n",
      "673 671\n",
      "669 667\n",
      "665 663\n",
      "661 659\n",
      "657 655\n",
      "653 651\n",
      "649 647\n",
      "645 643\n",
      "641 639\n",
      "637 635\n",
      "633 631\n",
      "629 627\n",
      "625 623\n",
      "621 619\n",
      "617 615\n",
      "613 611\n",
      "609 607\n",
      "605 603\n",
      "601 599\n",
      "597 595\n",
      "593 591\n",
      "589 587\n",
      "585 583\n",
      "581 579\n",
      "577 575\n",
      "573 571\n",
      "569 567\n",
      "565 563\n",
      "561 559\n",
      "557 555\n",
      "553 551\n",
      "549 547\n",
      "545 543\n",
      "541 539\n",
      "537 535\n",
      "533 531\n",
      "529 527\n",
      "525 523\n",
      "521 519\n",
      "517 515\n",
      "513 511\n",
      "509 507\n",
      "505 503\n",
      "501 499\n",
      "497 495\n",
      "493 491\n",
      "489 487\n",
      "485 483\n",
      "481 479\n",
      "477 475\n",
      "473 471\n",
      "469 467\n",
      "465 463\n",
      "461 459\n",
      "457 455\n",
      "453 451\n",
      "449 447\n",
      "445 443\n",
      "441 439\n",
      "437 435\n",
      "433 431\n",
      "429 427\n",
      "425 423\n",
      "421 419\n",
      "417 415\n",
      "413 411\n",
      "409 407\n",
      "405 403\n",
      "401 399\n",
      "397 395\n",
      "393 391\n",
      "389 387\n",
      "385 383\n",
      "381 379\n",
      "377 375\n",
      "373 371\n",
      "369 367\n",
      "365 363\n",
      "361 359\n",
      "357 355\n",
      "353 351\n",
      "349 347\n",
      "345 343\n",
      "341 339\n",
      "337 335\n",
      "333 331\n",
      "329 327\n",
      "325 323\n",
      "321 319\n",
      "317 315\n",
      "313 311\n",
      "309 307\n",
      "305 303\n",
      "301 299\n",
      "297 295\n",
      "293 291\n",
      "289 287\n",
      "285 283\n",
      "281 279\n",
      "277 275\n",
      "273 271\n",
      "269 267\n",
      "265 263\n",
      "261 259\n",
      "257 255\n",
      "253 251\n",
      "249 247\n",
      "245 243\n",
      "241 239\n",
      "237 235\n",
      "233 231\n",
      "229 227\n",
      "225 223\n",
      "221 219\n",
      "217 215\n",
      "213 211\n",
      "209 207\n",
      "205 203\n",
      "201 199\n",
      "197 195\n",
      "193 191\n",
      "189 187\n",
      "185 183\n",
      "181 179\n",
      "177 175\n",
      "173 171\n",
      "169 167\n",
      "165 163\n",
      "161 159\n",
      "157 155\n",
      "153 151\n",
      "149 147\n",
      "145 143\n",
      "141 139\n",
      "137 135\n",
      "133 131\n",
      "129 127\n",
      "125 123\n",
      "121 119\n",
      "117 115\n",
      "113 111\n",
      "109 107\n",
      "105 103\n",
      "101 99\n",
      "97 95\n",
      "93 91\n",
      "89 87\n",
      "85 83\n",
      "81 79\n",
      "77 75\n",
      "73 71\n",
      "69 67\n",
      "65 63\n",
      "61 59\n",
      "57 55\n",
      "53 51\n",
      "49 47\n",
      "45 43\n",
      "41 39\n",
      "37 35\n",
      "33 31\n",
      "29 27\n",
      "25 23\n",
      "21 19\n",
      "17 15\n",
      "13 11\n",
      "9 7\n",
      "5 2\n",
      "0 0\n",
      "         75815984 function calls in 982.258 seconds\n",
      "\n",
      "   Ordered by: standard name\n",
      "\n",
      "   ncalls  tottime  percall  cumtime  percall filename:lineno(function)\n",
      "   321602    0.200    0.000    1.457    0.000 <__array_function__ internals>:2(ndim)\n",
      "   160801    0.059    0.000    0.244    0.000 <frozen importlib._bootstrap>:1009(_handle_fromlist)\n",
      "   160801    0.094    0.000    0.142    0.000 <frozen importlib._bootstrap>:416(parent)\n",
      "   320401    0.503    0.000    1.569    0.000 <ipython-input-20-6090e291bb92>:16(transitions)\n",
      "  2883609    0.620    0.000    0.620    0.000 <ipython-input-20-6090e291bb92>:19(<genexpr>)\n",
      "        1   30.823   30.823  982.257  982.257 <ipython-input-20-6090e291bb92>:21(zhangSuen2)\n",
      "        1    0.130    0.130    5.255    5.255 <ipython-input-20-6090e291bb92>:23(<dictcomp>)\n",
      " 21573803   42.249    0.000   44.209    0.000 <ipython-input-20-6090e291bb92>:8(neighbours)\n",
      "        1    0.001    0.001  982.258  982.258 <string>:1(<module>)\n",
      "   321602    0.100    0.000    0.522    0.000 _asarray.py:14(asarray)\n",
      "   160801    0.424    0.000    4.581    0.000 _index.py:126(_validate_indices)\n",
      "   160801    0.754    0.000    2.302    0.000 _index.py:245(_unpack_index)\n",
      "   160801    0.210    0.000    0.226    0.000 _index.py:291(_check_ellipsis)\n",
      "   160801    0.248    0.000    5.125    0.000 _index.py:32(__getitem__)\n",
      "   321602    0.290    0.000    0.479    0.000 _index.py:339(_first_element_bool)\n",
      "   321602    0.196    0.000    0.720    0.000 _index.py:354(_compatible_boolean_index)\n",
      "   321602    0.090    0.000    0.139    0.000 base.py:1188(isspmatrix)\n",
      "   160801    0.029    0.000    0.029    0.000 base.py:80(get_shape)\n",
      "   160801    0.185    0.000    0.258    0.000 dok.py:156(_get_intXint)\n",
      "   321602    0.043    0.000    0.043    0.000 fromnumeric.py:3071(_ndim_dispatcher)\n",
      "   321602    0.552    0.000    1.075    0.000 fromnumeric.py:3075(ndim)\n",
      "      936    0.004    0.000    0.090    0.000 iostream.py:197(schedule)\n",
      "      804    0.001    0.000    0.002    0.000 iostream.py:310(_is_master_process)\n",
      "      804    0.001    0.000    0.012    0.000 iostream.py:323(_schedule_flush)\n",
      "      804    0.004    0.000    0.097    0.000 iostream.py:386(write)\n",
      "      936    0.001    0.000    0.001    0.000 iostream.py:93(_event_pipe)\n",
      "      936    0.081    0.000    0.081    0.000 socket.py:357(send)\n",
      "   321602    0.332    0.000    1.827    0.000 sputils.py:186(isintlike)\n",
      "      936    0.001    0.000    0.002    0.000 threading.py:1050(_wait_for_tstate_lock)\n",
      "      936    0.002    0.000    0.004    0.000 threading.py:1092(is_alive)\n",
      "      936    0.000    0.000    0.000    0.000 threading.py:507(is_set)\n",
      "   321602    0.038    0.000    0.038    0.000 {built-in method _operator.index}\n",
      "        1    0.000    0.000  982.258  982.258 {built-in method builtins.exec}\n",
      "   482403    0.231    0.000    0.231    0.000 {built-in method builtins.hasattr}\n",
      "  1126411    0.162    0.000    0.162    0.000 {built-in method builtins.isinstance}\n",
      "   321602    0.189    0.000    0.189    0.000 {built-in method builtins.iter}\n",
      "   161203    0.018    0.000    0.018    0.000 {built-in method builtins.len}\n",
      "      201    0.003    0.000    0.100    0.000 {built-in method builtins.print}\n",
      " 21894204  900.654    0.000  901.274    0.000 {built-in method builtins.sum}\n",
      "      804    0.001    0.000    0.001    0.000 {built-in method nt.getpid}\n",
      "   321602    0.423    0.000    0.423    0.000 {built-in method numpy.array}\n",
      "   321602    0.139    0.000    1.214    0.000 {built-in method numpy.core._multiarray_umath.implement_array_function}\n",
      "   160801    0.073    0.000    0.073    0.000 {function dok_matrix.get at 0x0000017239D534C8}\n",
      "      936    0.001    0.000    0.001    0.000 {method 'acquire' of '_thread.lock' objects}\n",
      "      936    0.000    0.000    0.000    0.000 {method 'append' of 'collections.deque' objects}\n",
      "   160800    0.035    0.000    0.035    0.000 {method 'append' of 'list' objects}\n",
      "        1    0.000    0.000    0.000    0.000 {method 'disable' of '_lsprof.Profiler' objects}\n",
      " 21574206    1.960    0.000    1.960    0.000 {method 'keys' of 'dict' objects}\n",
      "   160800    0.059    0.000    0.059    0.000 {method 'pop' of 'dict' objects}\n",
      "   160801    0.048    0.000    0.048    0.000 {method 'rpartition' of 'str' objects}\n",
      "\n",
      "\n"
     ]
    }
   ],
   "source": [
    "import cProfile\n",
    "cProfile.run('zhangSuen2(test_sparse)')"
   ]
  },
  {
   "cell_type": "code",
   "execution_count": 86,
   "metadata": {},
   "outputs": [],
   "source": [
    "test_sparse_csr = sparse.csr_matrix(test_sparse)"
   ]
  },
  {
   "cell_type": "code",
   "execution_count": 87,
   "metadata": {},
   "outputs": [],
   "source": [
    "test_sparse_csc = sparse.csc_matrix(test_sparse)"
   ]
  },
  {
   "cell_type": "code",
   "execution_count": 88,
   "metadata": {},
   "outputs": [
    {
     "data": {
      "text/plain": [
       "1.0"
      ]
     },
     "execution_count": 88,
     "metadata": {},
     "output_type": "execute_result"
    }
   ],
   "source": [
    "test_sparse_csr[500,500]"
   ]
  },
  {
   "cell_type": "code",
   "execution_count": 16,
   "metadata": {},
   "outputs": [],
   "source": [
    "test_sparse_dico={key : test_sparse[key] for key in test_sparse.keys()}"
   ]
  },
  {
   "cell_type": "code",
   "execution_count": 29,
   "metadata": {},
   "outputs": [
    {
     "ename": "TypeError",
     "evalue": "__init__() missing 1 required positional argument: 'arg1'",
     "output_type": "error",
     "traceback": [
      "\u001b[1;31m---------------------------------------------------------------------------\u001b[0m",
      "\u001b[1;31mTypeError\u001b[0m                                 Traceback (most recent call last)",
      "\u001b[1;32m<ipython-input-29-0dc375f1cbdd>\u001b[0m in \u001b[0;36m<module>\u001b[1;34m\u001b[0m\n\u001b[1;32m----> 1\u001b[1;33m \u001b[0mtest_sparse\u001b[0m\u001b[1;33m.\u001b[0m\u001b[0mfromkeys\u001b[0m\u001b[1;33m(\u001b[0m\u001b[0mtest_sparse_dico\u001b[0m\u001b[1;33m.\u001b[0m\u001b[0mkeys\u001b[0m\u001b[1;33m(\u001b[0m\u001b[1;33m)\u001b[0m\u001b[1;33m,\u001b[0m\u001b[1;36m1\u001b[0m\u001b[1;33m)\u001b[0m\u001b[1;33m\u001b[0m\u001b[1;33m\u001b[0m\u001b[0m\n\u001b[0m",
      "\u001b[1;31mTypeError\u001b[0m: __init__() missing 1 required positional argument: 'arg1'"
     ]
    }
   ],
   "source": [
    "test_sparse.fromkeys(test_sparse_dico.keys(),1)"
   ]
  },
  {
   "cell_type": "code",
   "execution_count": null,
   "metadata": {},
   "outputs": [],
   "source": [
    "test_sparse_dico.keys()"
   ]
  },
  {
   "cell_type": "code",
   "execution_count": 32,
   "metadata": {},
   "outputs": [],
   "source": [
    "def test_access_value(sparse_mat):\n",
    "    for i in range(3000000):\n",
    "        if (500,500) in sparse_mat.keys():\n",
    "            sparse_mat[(500,500)]\n"
   ]
  },
  {
   "cell_type": "code",
   "execution_count": 33,
   "metadata": {},
   "outputs": [
    {
     "name": "stdout",
     "output_type": "stream",
     "text": [
      "         3000004 function calls in 1.355 seconds\n",
      "\n",
      "   Ordered by: standard name\n",
      "\n",
      "   ncalls  tottime  percall  cumtime  percall filename:lineno(function)\n",
      "        1    1.153    1.153    1.355    1.355 <ipython-input-32-c10392020637>:1(test_access_value)\n",
      "        1    0.000    0.000    1.355    1.355 <string>:1(<module>)\n",
      "        1    0.000    0.000    1.355    1.355 {built-in method builtins.exec}\n",
      "        1    0.000    0.000    0.000    0.000 {method 'disable' of '_lsprof.Profiler' objects}\n",
      "  3000000    0.202    0.000    0.202    0.000 {method 'keys' of 'dict' objects}\n",
      "\n",
      "\n"
     ]
    }
   ],
   "source": [
    "cProfile.run('test_access_value(test_sparse_dico)')"
   ]
  },
  {
   "cell_type": "code",
   "execution_count": 59,
   "metadata": {},
   "outputs": [
    {
     "data": {
      "text/plain": [
       "array([550, 550, 550, ..., 599, 599, 599], dtype=int32)"
      ]
     },
     "execution_count": 59,
     "metadata": {},
     "output_type": "execute_result"
    }
   ],
   "source": [
    "test_sparse.nonzero()[0]"
   ]
  }
 ],
 "metadata": {
  "kernelspec": {
   "display_name": "cleanMsc",
   "language": "python",
   "name": "cleanmsc"
  },
  "language_info": {
   "codemirror_mode": {
    "name": "ipython",
    "version": 3
   },
   "file_extension": ".py",
   "mimetype": "text/x-python",
   "name": "python",
   "nbconvert_exporter": "python",
   "pygments_lexer": "ipython3",
   "version": "3.7.9"
  }
 },
 "nbformat": 4,
 "nbformat_minor": 4
}

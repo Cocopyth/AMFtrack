{
 "cells": [
  {
   "cell_type": "code",
   "execution_count": null,
   "metadata": {},
   "outputs": [],
   "source": [
    "%matplotlib widget\n",
    "from util import get_path\n",
    "import pandas as pd\n",
    "import networkx as nx\n",
    "import numpy as np\n",
    "import matplotlib.pyplot as plt\n",
    "from extract_graph import generate_nx_graph, transform_list, generate_skeleton, generate_nx_graph_from_skeleton, from_connection_tab\n",
    "from node_id import reconnect_degree_2\n",
    "import ast\n",
    "from plotutil import plot_t_tp1, compress_skeleton\n",
    "from scipy import sparse\n",
    "from sparse_util import dilate, zhangSuen\n",
    "from realign import realign\n",
    "from datetime import datetime,timedelta\n",
    "from node_id import orient\n",
    "import pickle\n",
    "from matplotlib.widgets import CheckButtons\n",
    "import scipy.io as sio\n",
    "import imageio\n",
    "from pymatreader import read_mat\n",
    "import os\n",
    "from matplotlib import colors\n",
    "from random import choice\n",
    "from experiment_class import Experiment,clean_exp_with_hyphaes\n",
    "from hyphae_id import clean_and_relabel, get_mother, save_hyphaes, resolve_ambiguity_two_ends, solve_degree4, clean_obvious_fake_tips\n",
    "from extract_graph import prune_graph\n",
    "\n"
   ]
  },
  {
   "cell_type": "code",
   "execution_count": null,
   "metadata": {},
   "outputs": [],
   "source": [
    "plate = 13\n",
    "exp_clean = pickle.load(open( f'Data/'+f\"experiment_{plate}.pick\", \"rb\" ) )"
   ]
  },
  {
   "cell_type": "code",
   "execution_count": null,
   "metadata": {},
   "outputs": [],
   "source": [
    "solve_two_ends = resolve_ambiguity_two_ends(exp_clean.hyphaes)\n",
    "solved,solved_nodes = solve_degree4(exp_clean)\n",
    "clean_obvious_fake_tips(exp_clean)"
   ]
  },
  {
   "cell_type": "code",
   "execution_count": null,
   "metadata": {},
   "outputs": [],
   "source": [
    "len(exp_clean.hyphaes)"
   ]
  },
  {
   "cell_type": "code",
   "execution_count": 135,
   "metadata": {},
   "outputs": [
    {
     "name": "stdout",
     "output_type": "stream",
     "text": [
      "4279 4279\n",
      "exactly on it\n",
      "5671 5671\n",
      "exactly on it\n",
      "5671 5671\n",
      "exactly on it\n",
      "5671 5671\n",
      "exactly on it\n",
      "11982 11982\n",
      "exactly on it\n",
      "11982 11982\n",
      "exactly on it\n"
     ]
    }
   ],
   "source": [
    "hyphs,gr_inf = save_hyphaes(exp_clean)"
   ]
  },
  {
   "cell_type": "code",
   "execution_count": 136,
   "metadata": {},
   "outputs": [],
   "source": [
    "exp_clean.save()"
   ]
  },
  {
   "cell_type": "code",
   "execution_count": 96,
   "metadata": {},
   "outputs": [
    {
     "name": "stdout",
     "output_type": "stream",
     "text": [
      "[20, 21]\n"
     ]
    }
   ],
   "source": [
    "plt.close('all')\n",
    "hyph = choice(exp_clean.hyphaes)\n",
    "print(hyph.ts)\n",
    "t0 = choice(hyph.ts)"
   ]
  },
  {
   "cell_type": "code",
   "execution_count": 97,
   "metadata": {},
   "outputs": [
    {
     "data": {
      "application/vnd.jupyter.widget-view+json": {
       "model_id": "c601abbf062447e98a3f5df562956420",
       "version_major": 2,
       "version_minor": 0
      },
      "text/plain": [
       "Canvas(toolbar=Toolbar(toolitems=[('Home', 'Reset original view', 'home', 'home'), ('Back', 'Back to previous …"
      ]
     },
     "metadata": {},
     "output_type": "display_data"
    }
   ],
   "source": [
    "exp_clean.plot([t0],[[hyph.root.label,hyph.end.label]])"
   ]
  },
  {
   "cell_type": "code",
   "execution_count": 102,
   "metadata": {},
   "outputs": [
    {
     "name": "stdout",
     "output_type": "stream",
     "text": [
      "[(580355.0, 2420)]\n",
      "[(601137.0, 2523)]\n",
      "[(623346.0, 2598)]\n",
      "[(639622.0, 2673)]\n",
      "[(665367.0, 2763)]\n",
      "[(694470.0, 2872)]\n",
      "[(726362.0, 3057)]\n",
      "[(765948.0, 3204)]\n",
      "[(799091.0, 3355)]\n",
      "[(830005.0, 3470)]\n",
      "[(850856.0, 3522)]\n",
      "[(874814.0, 3633)]\n",
      "[(897835.0, 3766)]\n",
      "[(949645.0, 4037)]\n",
      "[(975527.0, 4077)]\n",
      "[(994536.0, 4211)]\n",
      "[(1020375.0, 4380)]\n",
      "[(1049896.0, 4466)]\n",
      "[(1075976.0, 4560)]\n",
      "[(1083836.0, 4628)]\n",
      "[(1102880.0, 4675)]\n",
      "[(1120373.0, 4767)]\n",
      "[(1149365.0, 5187)]\n"
     ]
    },
    {
     "data": {
      "text/plain": [
       "<experiment_class.Experiment at 0x240c6bbfe88>"
      ]
     },
     "execution_count": 102,
     "metadata": {},
     "output_type": "execute_result"
    }
   ],
   "source": [
    "clean_obvious_fake_tips(exp_clean)"
   ]
  },
  {
   "cell_type": "code",
   "execution_count": 6,
   "metadata": {},
   "outputs": [],
   "source": [
    "number_face=[2+len(g.edges)-len(g.nodes) for g in exp_clean.nx_graph]"
   ]
  },
  {
   "cell_type": "code",
   "execution_count": 7,
   "metadata": {},
   "outputs": [],
   "source": [
    "number_anas_theory = [number_face[i+1]-number_face[i] for i in range(len(number_face)-2)]"
   ]
  },
  {
   "cell_type": "code",
   "execution_count": 122,
   "metadata": {},
   "outputs": [],
   "source": [
    "for hyph in exp_clean.hyphaes:\n",
    "    hyph.update_ts()\n",
    "to_remove = []\n",
    "for hyph in exp_clean.hyphaes:\n",
    "    hyph.update_ts()\n",
    "    if len(hyph.ts)==0:\n",
    "        to_remove.append(hyph)\n",
    "for hyph in to_remove:\n",
    "    exp_clean.hyphaes.remove(hyph)"
   ]
  },
  {
   "cell_type": "code",
   "execution_count": 12,
   "metadata": {},
   "outputs": [],
   "source": [
    "hyph_anas_tip_hyph = [hyphat for hyphat in exp_clean.hyphaes if len(hyphat.ts)>=2 and hyphat.end.degree(hyphat.ts[-1])>=3 and hyphat.end.degree(hyphat.ts[-2])>=3]\n",
    "hyph_anas_tip_tip = []\n",
    "potential = []\n",
    "for hyph in exp_clean.hyphaes:\n",
    "    if len(hyph.ts)>=2 and hyph.end.degree(hyph.ts[-1])==1 and hyph.end.ts()[-1]!=len(exp_clean.nx_graph)-1 and not np.all([hyph.get_length_pixel(t)<=20 for t in hyph.ts]):\n",
    "        potential.append(hyph)\n",
    "for hyph in potential:\n",
    "    t0 = hyph.ts[-1]\n",
    "    for hyph2 in potential:\n",
    "        if hyph2.ts[-1] == t0 and hyph!=hyph2:\n",
    "            vector = (hyph2.end.pos(t0)-hyph.end.pos(t0))/np.linalg.norm(hyph2.end.pos(t0)-hyph.end.pos(t0))\n",
    "            vertical_vector=np.array([-1,0])\n",
    "            dot_product = np.dot(vertical_vector,vector)\n",
    "            if vertical_vector[1]*vector[0]-vertical_vector[0]*vector[1]>=0: #determinant\n",
    "                angle = np.arccos(dot_product)/(2*np.pi)*360\n",
    "            else:\n",
    "                angle = -np.arccos(dot_product)/(2*np.pi)*360\n",
    "            score = np.cos((angle-(180+hyph.end.edges(t0)[0].orientation_begin(t0,30)))/360*2*np.pi)+np.cos((360+angle-hyph2.end.edges(t0)[0].orientation_begin(t0,30))/360*2*np.pi)\n",
    "            if np.linalg.norm(hyph2.end.pos(t0)-hyph.end.pos(t0))<=500 and score>=0.5:\n",
    "                hyph_anas_tip_tip.append((hyph,hyph2,t0))"
   ]
  },
  {
   "cell_type": "code",
   "execution_count": 13,
   "metadata": {},
   "outputs": [
    {
     "data": {
      "text/plain": [
       "282"
      ]
     },
     "execution_count": 13,
     "metadata": {},
     "output_type": "execute_result"
    }
   ],
   "source": [
    "len(hyph_anas_tip_hyph)"
   ]
  },
  {
   "cell_type": "code",
   "execution_count": 14,
   "metadata": {},
   "outputs": [
    {
     "data": {
      "text/plain": [
       "326"
      ]
     },
     "execution_count": 14,
     "metadata": {},
     "output_type": "execute_result"
    }
   ],
   "source": [
    "(len(hyph_anas_tip_tip)+len(hyph_anas_tip_hyph))"
   ]
  },
  {
   "cell_type": "code",
   "execution_count": 15,
   "metadata": {},
   "outputs": [
    {
     "data": {
      "text/plain": [
       "0.8190954773869347"
      ]
     },
     "execution_count": 15,
     "metadata": {},
     "output_type": "execute_result"
    }
   ],
   "source": [
    "(len(hyph_anas_tip_tip)+len(hyph_anas_tip_hyph))/((len(hyph_anas_tip_tip)+len(hyph_anas_tip_hyph))+len(solved_nodes))"
   ]
  },
  {
   "cell_type": "code",
   "execution_count": 16,
   "metadata": {},
   "outputs": [
    {
     "data": {
      "text/plain": [
       "0.06770508826583593"
      ]
     },
     "execution_count": 16,
     "metadata": {},
     "output_type": "execute_result"
    }
   ],
   "source": [
    "(len(hyph_anas_tip_tip)+len(hyph_anas_tip_hyph))/len(exp_clean.hyphaes)"
   ]
  },
  {
   "cell_type": "code",
   "execution_count": 84,
   "metadata": {},
   "outputs": [
    {
     "data": {
      "application/vnd.jupyter.widget-view+json": {
       "model_id": "2ef166fced9445ef98cc86d195d4a0f9",
       "version_major": 2,
       "version_minor": 0
      },
      "text/plain": [
       "Canvas(toolbar=Toolbar(toolitems=[('Home', 'Reset original view', 'home', 'home'), ('Back', 'Back to previous …"
      ]
     },
     "metadata": {},
     "output_type": "display_data"
    }
   ],
   "source": [
    "plt.close('all')\n",
    "node = choice(exp_clean.nodes)\n",
    "t0 = choice(node.ts())\n",
    "exp_clean.plot([t0],[[node.label]])"
   ]
  },
  {
   "cell_type": "code",
   "execution_count": 80,
   "metadata": {},
   "outputs": [
    {
     "data": {
      "text/plain": [
       "[7, 8]"
      ]
     },
     "execution_count": 80,
     "metadata": {},
     "output_type": "execute_result"
    }
   ],
   "source": []
  },
  {
   "cell_type": "code",
   "execution_count": 65,
   "metadata": {},
   "outputs": [
    {
     "data": {
      "text/plain": [
       "Hyphae(3272,3271)"
      ]
     },
     "execution_count": 65,
     "metadata": {},
     "output_type": "execute_result"
    }
   ],
   "source": [
    "hyph"
   ]
  },
  {
   "cell_type": "code",
   "execution_count": 76,
   "metadata": {},
   "outputs": [
    {
     "data": {
      "application/vnd.jupyter.widget-view+json": {
       "model_id": "e210296fb1f1460bb02b0e9d14af2e9d",
       "version_major": 2,
       "version_minor": 0
      },
      "text/plain": [
       "Canvas(toolbar=Toolbar(toolitems=[('Home', 'Reset original view', 'home', 'home'), ('Back', 'Back to previous …"
      ]
     },
     "metadata": {},
     "output_type": "display_data"
    }
   ],
   "source": [
    "plt.close('all')\n",
    "hyph = choice(exp_clean.hyphaes)\n",
    "t0 = choice(hyph.ts)\n",
    "exp_clean.plot([t0,t0+1],[[hyph.end.label,hyph.root.label]]*2)"
   ]
  },
  {
   "cell_type": "code",
   "execution_count": 31,
   "metadata": {},
   "outputs": [
    {
     "data": {
      "application/vnd.jupyter.widget-view+json": {
       "model_id": "c8ccb279bc46412baad104be42fd9092",
       "version_major": 2,
       "version_minor": 0
      },
      "text/plain": [
       "Canvas(toolbar=Toolbar(toolitems=[('Home', 'Reset original view', 'home', 'home'), ('Back', 'Back to previous …"
      ]
     },
     "metadata": {},
     "output_type": "display_data"
    }
   ],
   "source": [
    "plt.close('all')\n",
    "hyph = choice(hyph_anas_tip_hyph)\n",
    "t0 = get_time_anas_tip_hyph(hyph)\n",
    "exp_clean.plot([t0,t0+1],[[hyph.end.label,hyph.root.label]]*2)"
   ]
  },
  {
   "cell_type": "code",
   "execution_count": 49,
   "metadata": {},
   "outputs": [
    {
     "data": {
      "application/vnd.jupyter.widget-view+json": {
       "model_id": "30b48e708f6048539c7884184771110b",
       "version_major": 2,
       "version_minor": 0
      },
      "text/plain": [
       "Canvas(toolbar=Toolbar(toolitems=[('Home', 'Reset original view', 'home', 'home'), ('Back', 'Back to previous …"
      ]
     },
     "metadata": {},
     "output_type": "display_data"
    }
   ],
   "source": [
    "plt.close('all')\n",
    "hyph = choice(exp_clean.hyphaes)\n",
    "exp_clean.plot([hyph.ts[-1]],[[hyph.end.label,hyph.root.label]])"
   ]
  },
  {
   "cell_type": "code",
   "execution_count": 28,
   "metadata": {},
   "outputs": [],
   "source": [
    "hyph,hyph2,t0 = choice(hyph_anas_tip_tip)"
   ]
  },
  {
   "cell_type": "code",
   "execution_count": 29,
   "metadata": {},
   "outputs": [
    {
     "data": {
      "application/vnd.jupyter.widget-view+json": {
       "model_id": "bcad6cb91fcf48ad83f6248c1b0cea98",
       "version_major": 2,
       "version_minor": 0
      },
      "text/plain": [
       "Canvas(toolbar=Toolbar(toolitems=[('Home', 'Reset original view', 'home', 'home'), ('Back', 'Back to previous …"
      ]
     },
     "metadata": {},
     "output_type": "display_data"
    }
   ],
   "source": [
    "exp_clean.plot([t0,t0+1],[[hyph.end.label,hyph.root.label,hyph2.end.label,hyph2.root.label]])"
   ]
  },
  {
   "cell_type": "code",
   "execution_count": 19,
   "metadata": {},
   "outputs": [],
   "source": [
    "def get_time_anas_tip_hyph(anas_tip_hyph):\n",
    "    for t in anas_tip_hyph.ts:\n",
    "        if anas_tip_hyph.end.degree(t)>=3:\n",
    "            return(t-1)\n",
    "def get_time_anas_tip_tip(anas_tip_tip):\n",
    "    return(anas_tip_tip.ts[-1])"
   ]
  },
  {
   "cell_type": "code",
   "execution_count": 10,
   "metadata": {},
   "outputs": [],
   "source": [
    "anas_tip_hyph_observed = np.array([len([hyph for hyph in hyph_anas_tip_hyph if get_time_anas_tip_hyph(hyph)==t]) for t in range(len(exp_clean.nx_graph)-2)])"
   ]
  },
  {
   "cell_type": "code",
   "execution_count": 11,
   "metadata": {},
   "outputs": [],
   "source": [
    "anas_tip_hyph_observed_lists = [[hyph.end.label for hyph in hyph_anas_tip_hyph if get_time_anas_tip_hyph(hyph)==t] for t in range(len(exp_clean.nx_graph)-2)]\n",
    "anas_tip_tip_observed_lists = [[hyphs[0].end.label for hyphs in hyph_anas_tip_tip if hyphs[2]==t] for t in range(len(exp_clean.nx_graph)-2)]"
   ]
  },
  {
   "cell_type": "code",
   "execution_count": null,
   "metadata": {},
   "outputs": [],
   "source": []
  },
  {
   "cell_type": "code",
   "execution_count": null,
   "metadata": {},
   "outputs": [],
   "source": [
    "for t in range(len(anas_tip_hyph_observed_lists)):\n",
    "    plt.close('all')\n",
    "    exp_clean.plot([t],[anas_tip_hyph_observed_lists[t]+anas_tip_tip_observed_lists[t]],compress = 10,save=f'Data/anas/whole_net_{t}')"
   ]
  },
  {
   "cell_type": "code",
   "execution_count": 65,
   "metadata": {},
   "outputs": [],
   "source": [
    "images = []\n",
    "for t in range(len(anas_tip_hyph_observed_lists)):\n",
    "    images.append(imageio.imread(f'Data/anas/whole_net_{t}.png'))\n",
    "imageio.mimsave(f'Data/anas/whole_net.gif', images,duration=2)"
   ]
  },
  {
   "cell_type": "code",
   "execution_count": 12,
   "metadata": {},
   "outputs": [],
   "source": [
    "anas_tip_tip_observed = np.array([len([hyphs for hyphs in hyph_anas_tip_tip if hyphs[2]==t])//2 for t in range(len(exp_clean.nx_graph)-2)])"
   ]
  },
  {
   "cell_type": "code",
   "execution_count": 27,
   "metadata": {},
   "outputs": [
    {
     "data": {
      "application/vnd.jupyter.widget-view+json": {
       "model_id": "638e3cd775474405a0b36954008798bd",
       "version_major": 2,
       "version_minor": 0
      },
      "text/plain": [
       "Canvas(toolbar=Toolbar(toolitems=[('Home', 'Reset original view', 'home', 'home'), ('Back', 'Back to previous …"
      ]
     },
     "metadata": {},
     "output_type": "display_data"
    },
    {
     "data": {
      "text/plain": [
       "<matplotlib.legend.Legend at 0x25c55ba32c8>"
      ]
     },
     "execution_count": 27,
     "metadata": {},
     "output_type": "execute_result"
    }
   ],
   "source": [
    "plt.close('all')\n",
    "fig = plt.figure()\n",
    "ax = fig.add_subplot(111)\n",
    "ts = np.array(range(len(exp_clean.nx_graph)-2))*4\n",
    "ax.plot(ts,anas_tip_hyph_observed+anas_tip_tip_observed,label='spotted anastomosis')\n",
    "ax.plot(ts,number_anas_theory, label = 'theoretical number of anastomosis')\n",
    "ax.set_xlabel('time')\n",
    "ax.set_ylabel('number of anastomosis')\n",
    "ax.legend()"
   ]
  },
  {
   "cell_type": "code",
   "execution_count": 13,
   "metadata": {},
   "outputs": [],
   "source": [
    "anastomosing_tips = {hyph for hyph in hyph_anas_tip_hyph}.union({c[0] for c in hyph_anas_tip_tip}.union({c[1] for c in hyph_anas_tip_tip}))"
   ]
  },
  {
   "cell_type": "code",
   "execution_count": 14,
   "metadata": {},
   "outputs": [],
   "source": [
    "# hyph = choice(list(anastomosing_tips))\n",
    "length_anas = [hyph.get_length_pixel(hyph.ts[-1]) for hyph in anastomosing_tips]"
   ]
  },
  {
   "cell_type": "code",
   "execution_count": 15,
   "metadata": {},
   "outputs": [],
   "source": [
    "length_all = [hyph.get_length_pixel(hyph.ts[-1]) for hyph in exp_clean.hyphaes if len(hyph.ts)>=1]"
   ]
  },
  {
   "cell_type": "code",
   "execution_count": 18,
   "metadata": {},
   "outputs": [],
   "source": [
    "length_all_real = [get_length(hyph,hyph.ts[-1]) for hyph in exp_clean.hyphaes if len(hyph.ts)>=1]"
   ]
  },
  {
   "cell_type": "code",
   "execution_count": 20,
   "metadata": {},
   "outputs": [],
   "source": [
    "length_anas = [hyph.get_length_pixel(hyph.ts[-1]) for hyph in anastomosing_tips]"
   ]
  },
  {
   "cell_type": "code",
   "execution_count": 19,
   "metadata": {},
   "outputs": [],
   "source": [
    "length_anas_real = [get_length(hyph,hyph.ts[-1]) for hyph in anastomosing_tips]"
   ]
  },
  {
   "cell_type": "code",
   "execution_count": 17,
   "metadata": {},
   "outputs": [],
   "source": [
    "def get_length(hyph,t):\n",
    "    pixel_conversion_factor = 1.725\n",
    "    nodes,edges = hyph.get_nodes_within(t)\n",
    "    length=0\n",
    "    for edge in edges:\n",
    "        length_edge = 0\n",
    "        pixels = edge.pixel_list(t)\n",
    "        for i in range(len(pixels)//10+1):\n",
    "            if i*10<=len(pixels)-1:\n",
    "                length_edge+=np.linalg.norm(np.array(pixels[i*10])-np.array(pixels[min((i+1)*10,len(pixels)-1)]))\n",
    "#         length_edge+=np.linalg.norm(np.array(pixels[len(pixels)//10-1*10-1])-np.array(pixels[-1]))\n",
    "        length+=length_edge\n",
    "    return(length*pixel_conversion_factor)"
   ]
  },
  {
   "cell_type": "code",
   "execution_count": 21,
   "metadata": {},
   "outputs": [
    {
     "data": {
      "text/plain": [
       "1.3210740796068454"
      ]
     },
     "execution_count": 21,
     "metadata": {},
     "output_type": "execute_result"
    }
   ],
   "source": [
    "pixel_conversion_factor = 1.725\n",
    "(len(hyph_anas_tip_tip)+len(hyph_anas_tip_hyph))/(np.sum(length_all_real)/10000)"
   ]
  },
  {
   "cell_type": "code",
   "execution_count": 26,
   "metadata": {},
   "outputs": [
    {
     "data": {
      "application/vnd.jupyter.widget-view+json": {
       "model_id": "9f9f6104d476442aaa20e7cf64522570",
       "version_major": 2,
       "version_minor": 0
      },
      "text/plain": [
       "Canvas(toolbar=Toolbar(toolitems=[('Home', 'Reset original view', 'home', 'home'), ('Back', 'Back to previous …"
      ]
     },
     "metadata": {},
     "output_type": "display_data"
    },
    {
     "data": {
      "text/plain": [
       "(array([  1.,   0.,   6.,   0.,  10.,   0.,   7.,   6.,  15.,  18.,  16.,\n",
       "         18.,   8.,  14.,  23.,  21.,  21.,  26.,  14.,  35.,  39.,  36.,\n",
       "         45.,  61.,  64.,  72.,  73.,  82.,  97., 120., 107., 118., 114.,\n",
       "        126., 101.,  87.,  73.,  72.,  60.,  44.,  43.,  38.,  43.,  28.,\n",
       "         29.,  26.,  24.,  22.,  22.,  13.,  13.,  14.,   5.,   5.,   6.,\n",
       "          6.,   1.,   2.,   2.,   2.]),\n",
       " array([ 0.54522705,  0.70950972,  0.87379239,  1.03807506,  1.20235773,\n",
       "         1.3666404 ,  1.53092307,  1.69520574,  1.85948841,  2.02377108,\n",
       "         2.18805375,  2.35233642,  2.51661909,  2.68090176,  2.84518443,\n",
       "         3.0094671 ,  3.17374977,  3.33803244,  3.50231511,  3.66659778,\n",
       "         3.83088045,  3.99516312,  4.15944579,  4.32372846,  4.48801113,\n",
       "         4.6522938 ,  4.81657647,  4.98085914,  5.14514181,  5.30942448,\n",
       "         5.47370715,  5.63798982,  5.80227249,  5.96655516,  6.13083783,\n",
       "         6.2951205 ,  6.45940316,  6.62368583,  6.7879685 ,  6.95225117,\n",
       "         7.11653384,  7.28081651,  7.44509918,  7.60938185,  7.77366452,\n",
       "         7.93794719,  8.10222986,  8.26651253,  8.4307952 ,  8.59507787,\n",
       "         8.75936054,  8.92364321,  9.08792588,  9.25220855,  9.41649122,\n",
       "         9.58077389,  9.74505656,  9.90933923, 10.0736219 , 10.23790457,\n",
       "        10.40218724]),\n",
       " <BarContainer object of 60 artists>)"
      ]
     },
     "execution_count": 26,
     "metadata": {},
     "output_type": "execute_result"
    }
   ],
   "source": [
    "plt.close('all')\n",
    "fig = plt.figure()\n",
    "ax = fig.add_subplot(111)\n",
    "ax.hist(np.log(length_all_real),60)"
   ]
  },
  {
   "cell_type": "code",
   "execution_count": 24,
   "metadata": {},
   "outputs": [
    {
     "data": {
      "text/plain": [
       "2194"
      ]
     },
     "execution_count": 24,
     "metadata": {},
     "output_type": "execute_result"
    }
   ],
   "source": [
    "len(length_all_real)"
   ]
  },
  {
   "cell_type": "code",
   "execution_count": 22,
   "metadata": {},
   "outputs": [],
   "source": [
    "def plot_loghist(x, bins):\n",
    "    hist, bins = np.histogram(x, bins=bins)\n",
    "    logbins = np.logspace(np.log10(bins[0]),np.log10(bins[-1]),len(bins))\n",
    "    plt.close('all')\n",
    "    fig = plt.figure()\n",
    "    ax = fig.add_subplot(111)\n",
    "    ax.hist(x, bins=logbins,color='orange')\n",
    "    ax.set_xscale('log')\n",
    "    ax.set_xlabel('total length')\n",
    "    ax.set_ylabel('number of hyphaes')"
   ]
  },
  {
   "cell_type": "code",
   "execution_count": 23,
   "metadata": {},
   "outputs": [
    {
     "data": {
      "application/vnd.jupyter.widget-view+json": {
       "model_id": "bb2af5e52b094f97b22450f3ae38dc70",
       "version_major": 2,
       "version_minor": 0
      },
      "text/plain": [
       "Canvas(toolbar=Toolbar(toolitems=[('Home', 'Reset original view', 'home', 'home'), ('Back', 'Back to previous …"
      ]
     },
     "metadata": {},
     "output_type": "display_data"
    }
   ],
   "source": [
    "plot_loghist(length_all_real,60)"
   ]
  },
  {
   "cell_type": "code",
   "execution_count": 42,
   "metadata": {},
   "outputs": [],
   "source": [
    "from hyphae_id import get_pixel_growth_and_new_children"
   ]
  },
  {
   "cell_type": "code",
   "execution_count": 122,
   "metadata": {},
   "outputs": [],
   "source": [
    "growing_hyphae = [[hyph for hyph in exp_clean.hyphaes if t in hyph.ts and (t+1) in hyph.ts and len([element for liste in get_pixel_growth_and_new_children(hyph,t,t+1)[0] for element in liste])>=30] for t in range(len(exp_clean.nx_graph)-1)]"
   ]
  },
  {
   "cell_type": "code",
   "execution_count": 123,
   "metadata": {},
   "outputs": [],
   "source": [
    "growing_and_stopping = []\n",
    "for hyph in exp_clean.hyphaes:\n",
    "    for t in range((len(exp_clean.nx_graph)-2)):\n",
    "        if hyph in growing_hyphae[t] and hyph not in growing_hyphae[-1]:\n",
    "            growing_and_stopping.append((hyph,t))\n",
    "            break"
   ]
  },
  {
   "cell_type": "code",
   "execution_count": 85,
   "metadata": {},
   "outputs": [],
   "source": [
    "def get_length_real(pixel_list):\n",
    "    pixels = pixel_list\n",
    "    length=0\n",
    "    pixel_conversion_factor = 1.725\n",
    "    for i in range(len(pixels)//10+1):\n",
    "        if i*10<=len(pixels)-1:\n",
    "            length+=np.linalg.norm(np.array(pixels[i*10])-np.array(pixels[min((i+1)*10,len(pixels)-1)]))\n",
    "#         length_edge+=np.linalg.norm(np.array(pixels[len(pixels)//10-1*10-1])-np.array(pixels[-1]))\n",
    "    return(length*pixel_conversion_factor)"
   ]
  },
  {
   "cell_type": "code",
   "execution_count": 128,
   "metadata": {},
   "outputs": [],
   "source": [
    "plt.close('all')\n",
    "hypha,t0 = choice(growing_and_stopping)"
   ]
  },
  {
   "cell_type": "code",
   "execution_count": 133,
   "metadata": {},
   "outputs": [],
   "source": [
    "growth_dic = {}\n",
    "for hypha,t0 in growing_and_stopping:\n",
    "    growths=[]\n",
    "    for t in range(t0,(len(exp_clean.nx_graph)-2)):\n",
    "        if t in hypha.ts and (t+1) in hypha.ts:\n",
    "            growth=get_length_real([element for liste in get_pixel_growth_and_new_children(hypha,t,t+1)[0] for element in liste])\n",
    "            growths.append(growth)\n",
    "    growth_dic[hypha]=growths"
   ]
  },
  {
   "cell_type": "code",
   "execution_count": 130,
   "metadata": {},
   "outputs": [
    {
     "data": {
      "text/plain": [
       "(Hyphae(4137,4138),\n",
       " [6, 7, 8, 9, 10, 11, 12, 13, 14, 15, 16, 17, 18, 19, 20, 21, 22])"
      ]
     },
     "execution_count": 130,
     "metadata": {},
     "output_type": "execute_result"
    }
   ],
   "source": [
    "for "
   ]
  },
  {
   "cell_type": "code",
   "execution_count": 131,
   "metadata": {},
   "outputs": [
    {
     "data": {
      "application/vnd.jupyter.widget-view+json": {
       "model_id": "1009b50f8f5948da9ce64018a5ffdc16",
       "version_major": 2,
       "version_minor": 0
      },
      "text/plain": [
       "Canvas(toolbar=Toolbar(toolitems=[('Home', 'Reset original view', 'home', 'home'), ('Back', 'Back to previous …"
      ]
     },
     "metadata": {},
     "output_type": "display_data"
    }
   ],
   "source": [
    "exp_clean.plot([20,21,22],[[hypha.end.label,hypha.root.label]]*3)"
   ]
  },
  {
   "cell_type": "code",
   "execution_count": 69,
   "metadata": {},
   "outputs": [
    {
     "data": {
      "application/vnd.jupyter.widget-view+json": {
       "model_id": "65db8bd06faa43d0ad06efd0fd9bfb8d",
       "version_major": 2,
       "version_minor": 0
      },
      "text/plain": [
       "Canvas(toolbar=Toolbar(toolitems=[('Home', 'Reset original view', 'home', 'home'), ('Back', 'Back to previous …"
      ]
     },
     "metadata": {},
     "output_type": "display_data"
    }
   ],
   "source": [
    "exp_clean.plot([t,t+1,t+2],[[hyph.end.label,hyph.root.label]]*3)"
   ]
  },
  {
   "cell_type": "code",
   "execution_count": null,
   "metadata": {},
   "outputs": [],
   "source": []
  },
  {
   "cell_type": "code",
   "execution_count": null,
   "metadata": {},
   "outputs": [],
   "source": [
    "plt.close('all')\n",
    "for t in ts\n",
    "exp_clean.plot([])"
   ]
  },
  {
   "cell_type": "code",
   "execution_count": 43,
   "metadata": {},
   "outputs": [
    {
     "data": {
      "text/plain": [
       "(1114.7932330827068, 1632.2649995255101)"
      ]
     },
     "execution_count": 43,
     "metadata": {},
     "output_type": "execute_result"
    }
   ],
   "source": [
    "np.mean(length_anas),np.std(length_anas)"
   ]
  },
  {
   "cell_type": "code",
   "execution_count": 44,
   "metadata": {},
   "outputs": [
    {
     "data": {
      "text/plain": [
       "(478.0355515041021, 1157.7276089836505)"
      ]
     },
     "execution_count": 44,
     "metadata": {},
     "output_type": "execute_result"
    }
   ],
   "source": [
    "np.mean(length_all),np.std(length_all)"
   ]
  }
 ],
 "metadata": {
  "kernelspec": {
   "display_name": "cleanMsc",
   "language": "python",
   "name": "cleanmsc"
  },
  "language_info": {
   "codemirror_mode": {
    "name": "ipython",
    "version": 3
   },
   "file_extension": ".py",
   "mimetype": "text/x-python",
   "name": "python",
   "nbconvert_exporter": "python",
   "pygments_lexer": "ipython3",
   "version": "3.7.9"
  }
 },
 "nbformat": 4,
 "nbformat_minor": 4
}

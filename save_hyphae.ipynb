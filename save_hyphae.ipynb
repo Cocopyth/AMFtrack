{
 "cells": [
  {
   "cell_type": "code",
   "execution_count": 1,
   "metadata": {},
   "outputs": [],
   "source": [
    "%matplotlib widget\n",
    "from util import get_path\n",
    "import pandas as pd\n",
    "import networkx as nx\n",
    "import numpy as np\n",
    "import matplotlib.pyplot as plt\n",
    "from extract_graph import generate_nx_graph, transform_list, generate_skeleton, generate_nx_graph_from_skeleton, from_connection_tab\n",
    "from node_id import whole_movement_identification, second_identification\n",
    "import ast\n",
    "from plotutil import plot_t_tp1, compress_skeleton\n",
    "from scipy import sparse\n",
    "from sparse_util import dilate, zhangSuen\n",
    "from realign import realign\n",
    "from datetime import datetime,timedelta\n",
    "from node_id import orient\n",
    "import pickle\n",
    "from matplotlib.widgets import CheckButtons\n",
    "import scipy.io as sio\n",
    "import imageio\n",
    "from pymatreader import read_mat\n",
    "import os\n",
    "from matplotlib import colors\n",
    "from random import choice\n",
    "from experiment_class import Experiment,clean_exp_with_hyphaes\n",
    "from hyphae_id import clean_and_relabel, get_mother, save_hyphaes"
   ]
  },
  {
   "cell_type": "code",
   "execution_count": 2,
   "metadata": {},
   "outputs": [],
   "source": [
    "plate = 13\n",
    "directory='//sun.amolf.nl/shimizu-data/home-folder/oyartegalvez/Drive_AMFtopology/PRINCE'\n",
    "listdir=os.listdir(directory) \n",
    "list_dir_interest=[name for name in listdir if name.split('_')[-1]==f'Plate{0 if plate<10 else \"\"}{plate}']\n",
    "ss=[name.split('_')[0] for name in list_dir_interest]\n",
    "ff=[name.split('_')[1] for name in list_dir_interest]\n",
    "dates_datetime=[datetime(year=int(ss[i][:4]),month=int(ss[i][4:6]),day=int(ss[i][6:8]),hour=int(ff[i][0:2]),minute=int(ff[i][2:4])) for i in range(len(list_dir_interest))]\n",
    "dates_datetime.sort()\n",
    "dates_datetime_chosen=dates_datetime[1:24]\n",
    "dates = [f'{0 if date.month<10 else \"\"}{date.month}{0 if date.day<10 else \"\"}{date.day}_{0 if date.hour<10 else \"\"}{date.hour}{0 if date.minute<10 else \"\"}{date.minute}' for date in dates_datetime_chosen]"
   ]
  },
  {
   "cell_type": "code",
   "execution_count": 3,
   "metadata": {},
   "outputs": [],
   "source": [
    "exp= Experiment(13)\n",
    "exp.load(dates,local=False,raw=False)"
   ]
  },
  {
   "cell_type": "code",
   "execution_count": 4,
   "metadata": {},
   "outputs": [
    {
     "name": "stdout",
     "output_type": "stream",
     "text": [
      "0.0\n",
      "0.043898156277436345\n",
      "0.08779631255487269\n",
      "0.13169446883230904\n",
      "0.17559262510974538\n",
      "0.21949078138718173\n",
      "0.2633889376646181\n",
      "0.30728709394205445\n",
      "0.35118525021949076\n",
      "0.39508340649692714\n",
      "0.43898156277436345\n",
      "0.4828797190517998\n",
      "0.5267778753292361\n",
      "0.5706760316066726\n",
      "0.6145741878841089\n",
      "0.6584723441615452\n",
      "0.7023705004389815\n",
      "0.746268656716418\n",
      "0.7901668129938543\n",
      "0.8340649692712906\n",
      "0.8779631255487269\n",
      "0.9218612818261633\n",
      "0.9657594381035997\n",
      "removing  2027  nodes\n",
      "0.0\n",
      "0.05197505197505198\n",
      "0.10395010395010396\n",
      "0.15592515592515593\n",
      "0.2079002079002079\n",
      "0.2598752598752599\n",
      "0.31185031185031187\n",
      "0.36382536382536385\n",
      "0.4158004158004158\n",
      "0.4677754677754678\n",
      "0.5197505197505198\n",
      "0.5717255717255717\n",
      "0.6237006237006237\n",
      "0.6756756756756757\n",
      "0.7276507276507277\n",
      "0.7796257796257796\n",
      "0.8316008316008316\n",
      "0.8835758835758836\n",
      "0.9355509355509356\n",
      "0.9875259875259875\n",
      "removing  132  nodes\n"
     ]
    }
   ],
   "source": [
    "exp_clean = clean_and_relabel(exp)"
   ]
  },
  {
   "cell_type": "code",
   "execution_count": 5,
   "metadata": {},
   "outputs": [],
   "source": [
    "to_remove = []\n",
    "for hyph in exp_clean.hyphaes:\n",
    "    hyph.update_ts()\n",
    "    if len(hyph.ts)==0:\n",
    "        to_remove.append(hyph)\n",
    "for hyph in to_remove:\n",
    "    exp_clean.hyphaes.remove(hyph)"
   ]
  },
  {
   "cell_type": "code",
   "execution_count": 6,
   "metadata": {},
   "outputs": [
    {
     "data": {
      "text/plain": [
       "3809"
      ]
     },
     "execution_count": 6,
     "metadata": {},
     "output_type": "execute_result"
    }
   ],
   "source": [
    "len(exp_clean.hyphaes)"
   ]
  },
  {
   "cell_type": "code",
   "execution_count": 7,
   "metadata": {},
   "outputs": [
    {
     "name": "stdout",
     "output_type": "stream",
     "text": [
      "0.0\n",
      "0.13126804935678657\n",
      "0.26253609871357314\n",
      "0.3938041480703597\n",
      "0.5250721974271463\n",
      "0.6563402467839328\n",
      "0.7876082961407194\n",
      "0.9188763454975059\n"
     ]
    }
   ],
   "source": [
    "get_mother(exp_clean.hyphaes)"
   ]
  },
  {
   "cell_type": "code",
   "execution_count": 8,
   "metadata": {},
   "outputs": [],
   "source": [
    "def save_hyphaes(exp,path = 'Data/'):\n",
    "    column_names_hyphaes = ['end','root', 'ts','mother']\n",
    "    column_names_growth_info = ['hyphae','t','tp1','nodes_in_hyphae', 'segment_of_growth_t_tp1','node_list_t_tp1']\n",
    "    hyphaes = pd.DataFrame(columns=column_names_hyphaes)\n",
    "    growth_info = pd.DataFrame(columns = column_names_growth_info)\n",
    "    for hyph in exp.hyphaes:\n",
    "        new_line_hyphae=pd.DataFrame({'end' : [hyph.end.label],'root' :[hyph.root.label], 'ts': [hyph.ts],'mother' : [-1 if len(hyph.mother)==0 else hyph.mother[0].end.label]}) #index 0 for \n",
    "        #mothers need to be modified to resolve multi mother issue\n",
    "        hyphaes=hyphaes.append(new_line_hyphae,ignore_index=True)\n",
    "        for index in range(len(hyph.ts[:-1])):\n",
    "            t = hyph.ts[index]\n",
    "            tp1 = hyph.ts[index+1]\n",
    "            pixels,nodes = get_pixel_growth_and_new_children(hyph,t,tp1)\n",
    "            new_line_growth=pd.DataFrame({'hyphae' : [hyph.end],'t' : [t],'tp1' : [tp1],'nodes_in_hyphae' :[hyph.get_nodes_within(t)], 'segment_of_growth_t_tp1' : [pixels],'node_list_t_tp1':[nodes]})\n",
    "            growth_info.append(new_line_growth,ignore_index = True)\n",
    "    path='Data/'\n",
    "    hyphaes.to_csv(path + f'hyphaes_{exp.plate}_{exp.dates[0]}_{exp.dates[-1]}.csv')\n",
    "    growth_info.to_csv(path + f'growth_info_{exp.plate}_{exp.dates[0]}_{exp.dates[-1]}.csv')\n",
    "    sio.savemat(path+f'hyphaes_{exp.plate}_{exp.dates[0]}_{exp.dates[-1]}.mat', {name: col.values for name, col in hyphaes.items()})\n",
    "    sio.savemat(path+f'growth_info_{exp.plate}_{exp.dates[0]}_{exp.dates[-1]}.mat', {name: col.values for name, col in growth_info.items()})\n",
    "    return(hyphaes,growth_info)"
   ]
  },
  {
   "cell_type": "code",
   "execution_count": null,
   "metadata": {},
   "outputs": [],
   "source": [
    "hyphs,gr_inf = save_hyphaes(exp_clean)\n"
   ]
  },
  {
   "cell_type": "code",
   "execution_count": null,
   "metadata": {},
   "outputs": [],
   "source": [
    "exp_clean.save()"
   ]
  },
  {
   "cell_type": "code",
   "execution_count": null,
   "metadata": {},
   "outputs": [],
   "source": [
    "exp_clean.pickle_save()"
   ]
  },
  {
   "cell_type": "code",
   "execution_count": null,
   "metadata": {},
   "outputs": [],
   "source": [
    "exp_clean = pickle.load( open( f'Data/'+f\"experiment_{plate}.pick\", \"rb\" ) )"
   ]
  },
  {
   "cell_type": "code",
   "execution_count": 13,
   "metadata": {},
   "outputs": [],
   "source": [
    "hyphae_with_degree4 = {}\n",
    "for hyph in exp_clean.hyphaes:\n",
    "    t0 = hyph.ts[-1]\n",
    "    nodes,edges = hyph.get_nodes_within(t0)\n",
    "    hyphae_with_degree4[hyph]=[]\n",
    "    for node in nodes:\n",
    "        if exp_clean.get_node(node).degree(t0)>=4:\n",
    "            hyphae_with_degree4[hyph].append(node)"
   ]
  },
  {
   "cell_type": "code",
   "execution_count": 25,
   "metadata": {},
   "outputs": [],
   "source": [
    "def resolve_ambiguity_two_ends(hyphaes,bottom_threshold=0.98):\n",
    "    root_hyph={}\n",
    "    hyphae_two_ends=[hyph for hyph in hyphaes if hyph.root.degree(hyph.ts[0])==1]\n",
    "    print(len(hyphae_two_ends))\n",
    "    to_remove = []\n",
    "    x_boundaries = hyphaes[0].experiment.boundaries_x\n",
    "    y_boundaries = hyphaes[0].experiment.boundaries_y\n",
    "    for hyph in hyphae_two_ends:\n",
    "        t0 = hyph.ts[0]\n",
    "        if not hyph.root.pos(t0)[0]>=bottom_threshold*x_boundaries[1]:\n",
    "            nodes,edges  = hyph.get_nodes_within(t0)\n",
    "            mini = np.inf\n",
    "            found = False\n",
    "            for i,edge in enumerate(edges):\n",
    "                if edge.end.degree(t0) >=4:\n",
    "                    if edge.end.degree(t0)>=5:\n",
    "                        print(hyph,edge.end, hyph.ts)\n",
    "                    else:\n",
    "                        next_edge = edges[i+1]\n",
    "                        angle = np.cos((edge.orientation_end(t0,50)-next_edge.orientation_begin(t0,50))/360*2*np.pi)\n",
    "                        if angle<mini:\n",
    "                            found= True\n",
    "                            maxi=angle\n",
    "                            root_candidate = edge.end\n",
    "            if found:\n",
    "                root_hyph[hyph] = root_candidate\n",
    "    ends = {hyph.end : hyph for hyph in hyphaes}\n",
    "    for hyph in root_hyph.keys():\n",
    "        if hyph.root in ends:\n",
    "            ends[hyph.root].root = root_hyph[hyph]\n",
    "        hyph.root = root_hyph[hyph]\n",
    "    for hyph in hyphaes[0].experiment.hyphaes:\n",
    "        hyph.update_ts()\n",
    "    return(root_hyph)"
   ]
  },
  {
   "cell_type": "code",
   "execution_count": 23,
   "metadata": {},
   "outputs": [],
   "source": [
    "for hyph in exp_clean.hyphaes:\n",
    "    hyph.update_ts()"
   ]
  },
  {
   "cell_type": "code",
   "execution_count": 26,
   "metadata": {},
   "outputs": [
    {
     "name": "stdout",
     "output_type": "stream",
     "text": [
      "78\n",
      "(Node(3679), Node(2354)) 2348 [4]\n",
      "(Node(5931), Node(4056)) 5930 [12]\n",
      "(Node(8897), Node(6619)) 8378 [21, 22]\n"
     ]
    }
   ],
   "source": [
    "solve_two_ends = resolve_ambiguity_two_ends(exp_clean.hyphaes)"
   ]
  },
  {
   "cell_type": "code",
   "execution_count": 15,
   "metadata": {},
   "outputs": [],
   "source": [
    "hyphaes_interest = [hyph for hyph in hyphae_with_degree4.keys() if len(hyphae_with_degree4[hyph])>=1]"
   ]
  },
  {
   "cell_type": "code",
   "execution_count": 200,
   "metadata": {},
   "outputs": [],
   "source": [
    "hyphae_two_ends=[hyph for hyph in exp_clean.hyphaes if hyph.root.degree(hyph.ts[0])==1]"
   ]
  },
  {
   "cell_type": "code",
   "execution_count": 83,
   "metadata": {},
   "outputs": [],
   "source": [
    "weird = [hypha for hypha in hyphae_two_ends if hypha not in hyphaes_interest]"
   ]
  },
  {
   "cell_type": "code",
   "execution_count": 213,
   "metadata": {},
   "outputs": [],
   "source": [
    "hyph = choice(hyphae_two_ends)\n",
    "plt.close('all')"
   ]
  },
  {
   "cell_type": "code",
   "execution_count": 214,
   "metadata": {},
   "outputs": [
    {
     "data": {
      "text/plain": [
       "([18, 19, 20, 21], Hyphae(7821,7832))"
      ]
     },
     "execution_count": 214,
     "metadata": {},
     "output_type": "execute_result"
    }
   ],
   "source": [
    "hyph.ts,hyph"
   ]
  },
  {
   "cell_type": "code",
   "execution_count": 215,
   "metadata": {},
   "outputs": [
    {
     "data": {
      "application/vnd.jupyter.widget-view+json": {
       "model_id": "a72094fb23b94d7ab41dca7296736bc8",
       "version_major": 2,
       "version_minor": 0
      },
      "text/plain": [
       "Canvas(toolbar=Toolbar(toolitems=[('Home', 'Reset original view', 'home', 'home'), ('Back', 'Back to previous …"
      ]
     },
     "metadata": {},
     "output_type": "display_data"
    }
   ],
   "source": [
    "exp_clean.plot([18,20,21],[[hyph.root.label,hyph.end.label]]*3)"
   ]
  },
  {
   "cell_type": "code",
   "execution_count": 68,
   "metadata": {},
   "outputs": [
    {
     "ename": "OSError",
     "evalue": "The file //sun.amolf.nl/shimizu-data/home-folder/oyartegalvez/Drive_AMFtopology/PRINCE/Plate13_20200627/InitialParameters.mat does not exist.",
     "output_type": "error",
     "traceback": [
      "\u001b[1;31m---------------------------------------------------------------------------\u001b[0m",
      "\u001b[1;31mOSError\u001b[0m                                   Traceback (most recent call last)",
      "\u001b[1;32m<ipython-input-68-510731b8b01f>\u001b[0m in \u001b[0;36m<module>\u001b[1;34m\u001b[0m\n\u001b[1;32m----> 1\u001b[1;33m \u001b[0mhyph\u001b[0m\u001b[1;33m.\u001b[0m\u001b[0mend\u001b[0m\u001b[1;33m.\u001b[0m\u001b[0mshow_source_image\u001b[0m\u001b[1;33m(\u001b[0m\u001b[1;36m15\u001b[0m\u001b[1;33m)\u001b[0m\u001b[1;33m\u001b[0m\u001b[1;33m\u001b[0m\u001b[0m\n\u001b[0m",
      "\u001b[1;32m~\\Documents\\WUR\\MsC Thesis\\code\\experiment_class.py\u001b[0m in \u001b[0;36mshow_source_image\u001b[1;34m(self, t)\u001b[0m\n\u001b[0;32m    282\u001b[0m         \u001b[0mpos\u001b[0m \u001b[1;33m=\u001b[0m \u001b[0mself\u001b[0m\u001b[1;33m.\u001b[0m\u001b[0mpos\u001b[0m\u001b[1;33m(\u001b[0m\u001b[0mt\u001b[0m\u001b[1;33m)\u001b[0m\u001b[1;33m\u001b[0m\u001b[1;33m\u001b[0m\u001b[0m\n\u001b[0;32m    283\u001b[0m         \u001b[0mx\u001b[0m\u001b[1;33m,\u001b[0m\u001b[0my\u001b[0m\u001b[1;33m=\u001b[0m\u001b[0mpos\u001b[0m\u001b[1;33m[\u001b[0m\u001b[1;36m0\u001b[0m\u001b[1;33m]\u001b[0m\u001b[1;33m,\u001b[0m\u001b[0mpos\u001b[0m\u001b[1;33m[\u001b[0m\u001b[1;36m1\u001b[0m\u001b[1;33m]\u001b[0m\u001b[1;33m\u001b[0m\u001b[1;33m\u001b[0m\u001b[0m\n\u001b[1;32m--> 284\u001b[1;33m         \u001b[0mims\u001b[0m\u001b[1;33m,\u001b[0m\u001b[0mposimg\u001b[0m\u001b[1;33m=\u001b[0m\u001b[0mself\u001b[0m\u001b[1;33m.\u001b[0m\u001b[0mexperiment\u001b[0m\u001b[1;33m.\u001b[0m\u001b[0mfind_image_pos\u001b[0m\u001b[1;33m(\u001b[0m\u001b[0mx\u001b[0m\u001b[1;33m,\u001b[0m\u001b[0my\u001b[0m\u001b[1;33m,\u001b[0m\u001b[0mt\u001b[0m\u001b[1;33m)\u001b[0m\u001b[1;33m\u001b[0m\u001b[1;33m\u001b[0m\u001b[0m\n\u001b[0m\u001b[0;32m    285\u001b[0m         \u001b[0mi\u001b[0m\u001b[1;33m=\u001b[0m\u001b[0mnp\u001b[0m\u001b[1;33m.\u001b[0m\u001b[0margmax\u001b[0m\u001b[1;33m(\u001b[0m\u001b[1;33m[\u001b[0m\u001b[0mnp\u001b[0m\u001b[1;33m.\u001b[0m\u001b[0mmean\u001b[0m\u001b[1;33m(\u001b[0m\u001b[0mim\u001b[0m\u001b[1;33m)\u001b[0m \u001b[1;32mfor\u001b[0m \u001b[0mim\u001b[0m \u001b[1;32min\u001b[0m \u001b[0mims\u001b[0m\u001b[1;33m]\u001b[0m\u001b[1;33m)\u001b[0m\u001b[1;33m\u001b[0m\u001b[1;33m\u001b[0m\u001b[0m\n\u001b[0;32m    286\u001b[0m         \u001b[0mplot_t_tp1\u001b[0m\u001b[1;33m(\u001b[0m\u001b[1;33m[\u001b[0m\u001b[1;36m0\u001b[0m\u001b[1;33m]\u001b[0m\u001b[1;33m,\u001b[0m\u001b[1;33m[\u001b[0m\u001b[1;33m]\u001b[0m\u001b[1;33m,\u001b[0m\u001b[1;33m{\u001b[0m\u001b[1;36m0\u001b[0m \u001b[1;33m:\u001b[0m \u001b[1;33m(\u001b[0m\u001b[0mposimg\u001b[0m\u001b[1;33m[\u001b[0m\u001b[1;36m1\u001b[0m\u001b[1;33m]\u001b[0m\u001b[1;33m[\u001b[0m\u001b[0mi\u001b[0m\u001b[1;33m]\u001b[0m\u001b[1;33m,\u001b[0m\u001b[0mposimg\u001b[0m\u001b[1;33m[\u001b[0m\u001b[1;36m0\u001b[0m\u001b[1;33m]\u001b[0m\u001b[1;33m[\u001b[0m\u001b[0mi\u001b[0m\u001b[1;33m]\u001b[0m\u001b[1;33m)\u001b[0m\u001b[1;33m}\u001b[0m\u001b[1;33m,\u001b[0m\u001b[1;32mNone\u001b[0m\u001b[1;33m,\u001b[0m\u001b[0mims\u001b[0m\u001b[1;33m[\u001b[0m\u001b[0mi\u001b[0m\u001b[1;33m]\u001b[0m\u001b[1;33m,\u001b[0m\u001b[0mims\u001b[0m\u001b[1;33m[\u001b[0m\u001b[0mi\u001b[0m\u001b[1;33m]\u001b[0m\u001b[1;33m)\u001b[0m\u001b[1;33m\u001b[0m\u001b[1;33m\u001b[0m\u001b[0m\n",
      "\u001b[1;32m~\\Documents\\WUR\\MsC Thesis\\code\\experiment_class.py\u001b[0m in \u001b[0;36mfind_image_pos\u001b[1;34m(self, ys, xs, t, local)\u001b[0m\n\u001b[0;32m    146\u001b[0m         \u001b[1;32mreturn\u001b[0m\u001b[1;33m(\u001b[0m\u001b[0manastomosis\u001b[0m\u001b[1;33m,\u001b[0m\u001b[0morigins\u001b[0m\u001b[1;33m,\u001b[0m\u001b[0mnumber_anastomosis\u001b[0m\u001b[1;33m)\u001b[0m\u001b[1;33m\u001b[0m\u001b[1;33m\u001b[0m\u001b[0m\n\u001b[0;32m    147\u001b[0m     \u001b[1;32mdef\u001b[0m \u001b[0mfind_image_pos\u001b[0m\u001b[1;33m(\u001b[0m\u001b[0mself\u001b[0m\u001b[1;33m,\u001b[0m\u001b[0mys\u001b[0m\u001b[1;33m,\u001b[0m\u001b[0mxs\u001b[0m\u001b[1;33m,\u001b[0m\u001b[0mt\u001b[0m\u001b[1;33m,\u001b[0m\u001b[0mlocal\u001b[0m\u001b[1;33m=\u001b[0m\u001b[1;32mFalse\u001b[0m\u001b[1;33m)\u001b[0m\u001b[1;33m:\u001b[0m\u001b[1;33m\u001b[0m\u001b[1;33m\u001b[0m\u001b[0m\n\u001b[1;32m--> 148\u001b[1;33m         \u001b[0mparams\u001b[0m\u001b[1;33m=\u001b[0m\u001b[0mread_mat\u001b[0m\u001b[1;33m(\u001b[0m\u001b[0mself\u001b[0m\u001b[1;33m.\u001b[0m\u001b[0mpath_param\u001b[0m\u001b[1;33m)\u001b[0m\u001b[1;33m\u001b[0m\u001b[1;33m\u001b[0m\u001b[0m\n\u001b[0m\u001b[0;32m    149\u001b[0m         \u001b[0mx1\u001b[0m\u001b[1;33m=\u001b[0m\u001b[0mparams\u001b[0m\u001b[1;33m[\u001b[0m\u001b[1;34m'x1'\u001b[0m\u001b[1;33m]\u001b[0m\u001b[1;33m\u001b[0m\u001b[1;33m\u001b[0m\u001b[0m\n\u001b[0;32m    150\u001b[0m         \u001b[0mx2\u001b[0m\u001b[1;33m=\u001b[0m\u001b[0mparams\u001b[0m\u001b[1;33m[\u001b[0m\u001b[1;34m'x2'\u001b[0m\u001b[1;33m]\u001b[0m\u001b[1;33m\u001b[0m\u001b[1;33m\u001b[0m\u001b[0m\n",
      "\u001b[1;32m~\\anaconda3\\envs\\cleanMsc\\lib\\site-packages\\pymatreader\\pymatreader.py\u001b[0m in \u001b[0;36mread_mat\u001b[1;34m(filename, variable_names, ignore_fields, uint16_codec)\u001b[0m\n\u001b[0;32m     74\u001b[0m \u001b[1;33m\u001b[0m\u001b[0m\n\u001b[0;32m     75\u001b[0m     \u001b[1;32mif\u001b[0m \u001b[1;32mnot\u001b[0m \u001b[0mos\u001b[0m\u001b[1;33m.\u001b[0m\u001b[0mpath\u001b[0m\u001b[1;33m.\u001b[0m\u001b[0mexists\u001b[0m\u001b[1;33m(\u001b[0m\u001b[0mfilename\u001b[0m\u001b[1;33m)\u001b[0m\u001b[1;33m:\u001b[0m\u001b[1;33m\u001b[0m\u001b[1;33m\u001b[0m\u001b[0m\n\u001b[1;32m---> 76\u001b[1;33m         \u001b[1;32mraise\u001b[0m \u001b[0mIOError\u001b[0m\u001b[1;33m(\u001b[0m\u001b[1;34m'The file %s does not exist.'\u001b[0m \u001b[1;33m%\u001b[0m \u001b[1;33m(\u001b[0m\u001b[0mfilename\u001b[0m\u001b[1;33m,\u001b[0m\u001b[1;33m)\u001b[0m\u001b[1;33m)\u001b[0m\u001b[1;33m\u001b[0m\u001b[1;33m\u001b[0m\u001b[0m\n\u001b[0m\u001b[0;32m     77\u001b[0m \u001b[1;33m\u001b[0m\u001b[0m\n\u001b[0;32m     78\u001b[0m     \u001b[1;32mif\u001b[0m \u001b[0mignore_fields\u001b[0m \u001b[1;32mis\u001b[0m \u001b[1;32mNone\u001b[0m\u001b[1;33m:\u001b[0m\u001b[1;33m\u001b[0m\u001b[1;33m\u001b[0m\u001b[0m\n",
      "\u001b[1;31mOSError\u001b[0m: The file //sun.amolf.nl/shimizu-data/home-folder/oyartegalvez/Drive_AMFtopology/PRINCE/Plate13_20200627/InitialParameters.mat does not exist."
     ]
    }
   ],
   "source": [
    "hyph.end.show_source_image(15)"
   ]
  }
 ],
 "metadata": {
  "kernelspec": {
   "display_name": "cleanMsc",
   "language": "python",
   "name": "cleanmsc"
  },
  "language_info": {
   "codemirror_mode": {
    "name": "ipython",
    "version": 3
   },
   "file_extension": ".py",
   "mimetype": "text/x-python",
   "name": "python",
   "nbconvert_exporter": "python",
   "pygments_lexer": "ipython3",
   "version": "3.7.9"
  }
 },
 "nbformat": 4,
 "nbformat_minor": 4
}

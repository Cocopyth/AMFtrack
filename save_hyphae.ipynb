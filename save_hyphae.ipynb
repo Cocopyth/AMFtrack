{
 "cells": [
  {
   "cell_type": "code",
   "execution_count": 1,
   "metadata": {},
   "outputs": [],
   "source": [
    "%matplotlib widget\n",
    "from util import get_path\n",
    "import pandas as pd\n",
    "import networkx as nx\n",
    "import numpy as np\n",
    "import matplotlib.pyplot as plt\n",
    "from extract_graph import generate_nx_graph, transform_list, generate_skeleton, generate_nx_graph_from_skeleton, from_connection_tab\n",
    "from node_id import whole_movement_identification, second_identification\n",
    "import ast\n",
    "from plotutil import plot_t_tp1, compress_skeleton\n",
    "from scipy import sparse\n",
    "from sparse_util import dilate, zhangSuen\n",
    "from realign import realign\n",
    "from datetime import datetime,timedelta\n",
    "from node_id import orient\n",
    "import pickle\n",
    "from matplotlib.widgets import CheckButtons\n",
    "import scipy.io as sio\n",
    "import imageio\n",
    "from pymatreader import read_mat\n",
    "import os\n",
    "from matplotlib import colors\n",
    "from random import choice\n",
    "from experiment_class import Experiment,clean_exp_with_hyphaes\n",
    "from hyphae_id import clean_and_relabel, get_mother"
   ]
  },
  {
   "cell_type": "code",
   "execution_count": 2,
   "metadata": {},
   "outputs": [],
   "source": [
    "plate = 13\n",
    "directory='//sun.amolf.nl/shimizu-data/home-folder/oyartegalvez/Drive_AMFtopology/PRINCE'\n",
    "listdir=os.listdir(directory) \n",
    "list_dir_interest=[name for name in listdir if name.split('_')[-1]==f'Plate{0 if plate<10 else \"\"}{plate}']\n",
    "ss=[name.split('_')[0] for name in list_dir_interest]\n",
    "ff=[name.split('_')[1] for name in list_dir_interest]\n",
    "dates_datetime=[datetime(year=int(ss[i][:4]),month=int(ss[i][4:6]),day=int(ss[i][6:8]),hour=int(ff[i][0:2]),minute=int(ff[i][2:4])) for i in range(len(list_dir_interest))]\n",
    "dates_datetime.sort()\n",
    "dates_datetime_chosen=dates_datetime[1:24]\n",
    "dates = [f'{0 if date.month<10 else \"\"}{date.month}{0 if date.day<10 else \"\"}{date.day}_{0 if date.hour<10 else \"\"}{date.hour}{0 if date.minute<10 else \"\"}{date.minute}' for date in dates_datetime_chosen]"
   ]
  },
  {
   "cell_type": "code",
   "execution_count": 3,
   "metadata": {},
   "outputs": [],
   "source": [
    "exp= Experiment(13)\n",
    "exp.load(dates,local=False,raw=False)"
   ]
  },
  {
   "cell_type": "code",
   "execution_count": 7,
   "metadata": {},
   "outputs": [],
   "source": [
    "from experiment_class import Node\n",
    "def clean_and_relabel(exp):\n",
    "    exp_clean= clean_exp_with_hyphaes(exp)\n",
    "    equ_class,ambig,connection=resolve_ambiguity(exp_clean.hyphaes)\n",
    "    new_graph,newposs = relabel_nodes_after_amb(connection,exp_clean.nx_graph,exp_clean.positions)\n",
    "    exp_clean.nx_graph = new_graph\n",
    "    exp_clean.positions = newposs\n",
    "    exp_clean.nodes = []\n",
    "    labels = {int(node) for g in exp_clean.nx_graph for node in g}\n",
    "    for label in labels:\n",
    "        exp_clean.nodes.append(Node(label,exp_clean))\n",
    "    exp_clean_relabeled= clean_exp_with_hyphaes(exp_clean)\n",
    "    return(exp_clean_relabeled)"
   ]
  },
  {
   "cell_type": "code",
   "execution_count": null,
   "metadata": {},
   "outputs": [
    {
     "name": "stdout",
     "output_type": "stream",
     "text": [
      "before getting hyphaes True\n",
      "0.0\n",
      "0.06934812760055478\n",
      "0.13869625520110956\n",
      "0.20804438280166435\n",
      "0.27739251040221913\n",
      "0.34674063800277394\n",
      "0.4160887656033287\n",
      "0.4854368932038835\n",
      "0.5547850208044383\n",
      "0.624133148404993\n",
      "0.6934812760055479\n",
      "0.7628294036061026\n",
      "0.8321775312066574\n",
      "0.9015256588072122\n",
      "0.970873786407767\n",
      "after getting hyphaes True\n",
      "removing  1753  nodes\n",
      "removing False\n",
      "before pruning True\n",
      "after pruning True\n",
      "before changing nx_graph True\n",
      "after changing nx_graph True\n",
      "before getting hyphaes True\n",
      "0.0\n",
      "0.07827788649706457\n",
      "0.15655577299412915\n",
      "0.23483365949119372\n",
      "0.3131115459882583\n",
      "0.3913894324853229\n",
      "0.46966731898238745\n",
      "0.547945205479452\n",
      "0.6262230919765166\n",
      "0.7045009784735812\n",
      "0.7827788649706457\n",
      "0.8610567514677103\n",
      "0.9393346379647749\n",
      "after getting hyphaes True\n",
      "removing  155  nodes\n",
      "removing False\n",
      "before pruning True\n",
      "after pruning True\n"
     ]
    }
   ],
   "source": [
    "exp_clean = clean_and_relabel(exp)"
   ]
  },
  {
   "cell_type": "code",
   "execution_count": null,
   "metadata": {},
   "outputs": [],
   "source": [
    "get_mother(exp_clean.hyphaes)"
   ]
  },
  {
   "cell_type": "code",
   "execution_count": null,
   "metadata": {},
   "outputs": [],
   "source": [
    "hyphs,gr_inf = save_hyphaes(exp_clean_relabeled)\n",
    "exp_clean_relabeled.save()"
   ]
  }
 ],
 "metadata": {
  "kernelspec": {
   "display_name": "cleanMsc",
   "language": "python",
   "name": "cleanmsc"
  },
  "language_info": {
   "codemirror_mode": {
    "name": "ipython",
    "version": 3
   },
   "file_extension": ".py",
   "mimetype": "text/x-python",
   "name": "python",
   "nbconvert_exporter": "python",
   "pygments_lexer": "ipython3",
   "version": "3.7.9"
  }
 },
 "nbformat": 4,
 "nbformat_minor": 4
}

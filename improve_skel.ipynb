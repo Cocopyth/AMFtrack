{
 "cells": [
  {
   "cell_type": "code",
   "execution_count": 1,
   "metadata": {},
   "outputs": [],
   "source": [
    "%matplotlib widget\n",
    "from util import get_path, get_dates_datetime\n",
    "import pandas as pd\n",
    "import networkx as nx\n",
    "import numpy as np\n",
    "import matplotlib.pyplot as plt\n",
    "from extract_graph import generate_nx_graph, transform_list, generate_skeleton, generate_nx_graph_from_skeleton, from_connection_tab, from_nx_to_tab\n",
    "from node_id import whole_movement_identification, second_identification\n",
    "import ast\n",
    "from plotutil import plot_t_tp1, compress_skeleton\n",
    "from scipy import sparse\n",
    "from sparse_util import dilate, zhangSuen\n",
    "from realign import realign\n",
    "from datetime import datetime,timedelta\n",
    "from node_id import orient\n",
    "import pickle\n",
    "from matplotlib.widgets import CheckButtons\n",
    "import scipy.io as sio\n",
    "import imageio\n",
    "from pymatreader import read_mat\n",
    "from matplotlib import colors\n",
    "from copy import deepcopy,copy\n",
    "from collections import Counter\n",
    "import cv2 \n",
    "import imageio\n",
    "import matplotlib.pyplot as plt\n",
    "import numpy as np\n",
    "from skimage.filters import frangi, meijering\n",
    "from skimage.morphology import thin\n",
    "from skimage import data, filters\n",
    "from random import choice\n",
    "import scipy.sparse\n",
    "import os\n",
    "from time import time\n",
    "from extract_graph import dic_to_sparse, from_sparse_to_graph, generate_nx_graph, prune_graph, from_nx_to_tab, from_nx_to_tab_matlab,sparse_to_doc, connections_pixel_list_to_tab, transform_list, clean_degree_4\n",
    "from time import sleep\n",
    "from skimage.feature import hessian_matrix_det\n",
    "from experiment_class_surf import Experiment,clean_exp_with_hyphaes\n",
    "from hyphae_id_surf import clean_and_relabel, get_mother, save_hyphaes, resolve_ambiguity_two_ends,solve_degree4, clean_obvious_fake_tips\n"
   ]
  },
  {
   "cell_type": "code",
   "execution_count": 2,
   "metadata": {},
   "outputs": [
    {
     "data": {
      "text/plain": [
       "20"
      ]
     },
     "execution_count": 2,
     "metadata": {},
     "output_type": "execute_result"
    }
   ],
   "source": [
    "plate = 3\n",
    "directory = \"/scratch/shared/mrozemul/Fiji.app/\" \n",
    "listdir=os.listdir(directory) \n",
    "list_dir_interest=[name for name in listdir if name.split('_')[-1]==f'Plate{0 if plate<10 else \"\"}{plate}']\n",
    "len(list_dir_interest)"
   ]
  },
  {
   "cell_type": "code",
   "execution_count": 3,
   "metadata": {},
   "outputs": [
    {
     "name": "stdout",
     "output_type": "stream",
     "text": [
      "begin = 2020-08-14 00:57:00 \n",
      "  end = 2020-08-17 04:57:00\n"
     ]
    }
   ],
   "source": [
    "dates_datetime = get_dates_datetime(directory,plate)\n",
    "begin = 0\n",
    "end = 19\n",
    "print('begin =',dates_datetime[begin],'\\n  end =',dates_datetime[end])"
   ]
  },
  {
   "cell_type": "code",
   "execution_count": 4,
   "metadata": {},
   "outputs": [],
   "source": [
    "#chose i equal to the timestep where something wrong has been noticed \n",
    "i = 0\n",
    "\n",
    "dates_datetime = get_dates_datetime(directory,plate)\n",
    "dates_datetime_chosen=dates_datetime\n",
    "dates = [f'{0 if date.month<10 else \"\"}{date.month}{0 if date.day<10 else \"\"}{date.day}_{0 if date.hour<10 else \"\"}{date.hour}{0 if date.minute<10 else \"\"}{date.minute}' for date in dates_datetime_chosen]\n",
    "date =dates [i]\n",
    "directory_name=f'2020{date}_Plate{0 if plate<10 else \"\"}{plate}'\n",
    "path_snap=directory+directory_name\n",
    "path_tile=path_snap+'/Img/TileConfiguration.txt.registered'\n",
    "try:\n",
    "    tileconfig = pd.read_table(path_tile,sep=';',skiprows=4,header=None,converters={2 : ast.literal_eval},skipinitialspace=True)\n",
    "except:\n",
    "    print('error_name')\n",
    "    path_tile=path_snap+'/Img/TileConfiguration.registered.txt'\n",
    "    tileconfig = pd.read_table(path_tile,sep=';',skiprows=4,header=None,converters={2 : ast.literal_eval},skipinitialspace=True)\n",
    "t=time()\n",
    "xs =[c[0] for c in tileconfig[2]]\n",
    "ys =[c[1] for c in tileconfig[2]]\n",
    "dim = (int(np.max(ys)-np.min(ys))+4096,int(np.max(xs)-np.min(xs))+4096)\n",
    "ims = []\n",
    "for name in tileconfig[0]:\n",
    "#     ims.append(imageio.imread('//sun.amolf.nl/shimizu-data/home-folder/oyartegalvez/Drive_AMFtopology/PRINCE'+date_plate+plate_str+'/Img/'+name))\n",
    "    ims.append(imageio.imread(f'{name}'))"
   ]
  },
  {
   "cell_type": "code",
   "execution_count": 111,
   "metadata": {},
   "outputs": [],
   "source": [
    "plt.close('all')\n",
    "\n",
    "#chose a spot where to look closer at\n",
    "linex  = 3000\n",
    "liney = 1500\n",
    "\n",
    "shape = (3000,4096)\n",
    "linex *= 5\n",
    "liney *= 5\n",
    "images = []\n",
    "for index,im in enumerate(ims):\n",
    "    boundaries = int(tileconfig[2][index][0]-np.min(xs)),int(tileconfig[2][index][1]-np.min(ys))\n",
    "    if boundaries[1]<=linex< boundaries[1]+shape[0] and boundaries[0]<=liney< boundaries[0]+shape[1]:\n",
    "        images.append(im)\n"
   ]
  },
  {
   "cell_type": "code",
   "execution_count": 112,
   "metadata": {},
   "outputs": [
    {
     "data": {
      "application/vnd.jupyter.widget-view+json": {
       "model_id": "bbc6d6fa45934728961ee2b7b3b56776",
       "version_major": 2,
       "version_minor": 0
      },
      "text/plain": [
       "Canvas(toolbar=Toolbar(toolitems=[('Home', 'Reset original view', 'home', 'home'), ('Back', 'Back to previous …"
      ]
     },
     "metadata": {},
     "output_type": "display_data"
    },
    {
     "data": {
      "text/plain": [
       "<matplotlib.image.AxesImage at 0x2b6d0c3d9790>"
      ]
     },
     "execution_count": 112,
     "metadata": {},
     "output_type": "execute_result"
    }
   ],
   "source": [
    "plt.close('all')\n",
    "im = images[0]\n",
    "fig=plt.figure(figsize=(10,9))\n",
    "ax = fig.add_subplot(111)\n",
    "ax.imshow(im)"
   ]
  },
  {
   "cell_type": "code",
   "execution_count": 113,
   "metadata": {},
   "outputs": [],
   "source": [
    "plt.close('all')\n",
    "im = images[0]\n",
    "im_cropped = im\n",
    "im_blurred =cv2.blur(im_cropped, (200, 200))\n",
    "im_back_rem = (im_cropped+1)/(im_blurred+1)*120\n",
    "# # im_back_rem = im_cropped*1.0\n",
    "# # # im_back_rem = cv2.normalize(im_back_rem, None, 0, 255, cv2.NORM_MINMAX)\n",
    "frangised = frangi(im_back_rem,sigmas=range(1,20,4))*255\n",
    "# # frangised = cv2.normalize(frangised, None, 0, 255, cv2.NORM_MINMAX)\n",
    "hessian = hessian_matrix_det(im_back_rem,sigma = 20)\n",
    "blur_hessian = cv2.blur(abs(hessian), (20, 20))\n",
    "#     transformed = (frangised+cv2.normalize(blur_hessian, None, 0, 255, cv2.NORM_MINMAX)-im_back_rem+120)*(im_blurred>=35)\n",
    "#     transformed = (frangised+cv2.normalize(abs(hessian), None, 0, 255, cv2.NORM_MINMAX)-im_back_rem+120)*(im_blurred>=35)\n",
    "transformed = (frangised-im_back_rem+120)*(im_blurred>=35)\n",
    "low = 20\n",
    "high = 100\n",
    "lowt = (transformed > low).astype(int)\n",
    "hight = (transformed > high).astype(int)\n",
    "hyst = filters.apply_hysteresis_threshold(transformed, low, high)\n",
    "kernel = np.ones((3,3),np.uint8)\n",
    "dilation = cv2.dilate(hyst.astype(np.uint8) * 255,kernel,iterations = 1)\n",
    "for i in range(3):\n",
    "    dilation=cv2.erode(dilation.astype(np.uint8) * 255,kernel,iterations = 1)\n",
    "    dilation = cv2.dilate(dilation.astype(np.uint8) * 255,kernel,iterations = 1)\n",
    "dilated = dilation>0\n",
    "skeletonized = cv2.ximgproc.thinning(np.array(255*dilated,dtype=np.uint8))"
   ]
  },
  {
   "cell_type": "code",
   "execution_count": 114,
   "metadata": {},
   "outputs": [
    {
     "data": {
      "application/vnd.jupyter.widget-view+json": {
       "model_id": "f25cddf6075445789c97943b0f2ca9b6",
       "version_major": 2,
       "version_minor": 0
      },
      "text/plain": [
       "Canvas(toolbar=Toolbar(toolitems=[('Home', 'Reset original view', 'home', 'home'), ('Back', 'Back to previous …"
      ]
     },
     "metadata": {},
     "output_type": "display_data"
    }
   ],
   "source": [
    "plot_t_tp1([],[],None,None,dilated,skeletonized)"
   ]
  },
  {
   "cell_type": "code",
   "execution_count": 115,
   "metadata": {},
   "outputs": [],
   "source": [
    "nx_g = generate_nx_graph(from_sparse_to_graph(scipy.sparse.dok_matrix(skeletonized)))\n",
    "g,pos= nx_g\n",
    "tips = [node for node in g.nodes if g.degree(node)==1]\n",
    "dilated_bis = np.copy(dilated)\n",
    "for tip in tips:\n",
    "    branch = np.array(orient(g.get_edge_data(*list(g.edges(tip))[0])['pixel_list'],pos[tip]))\n",
    "    orientation = branch[0]-branch[min(branch.shape[0]-1,20)]\n",
    "    orientation = orientation/(np.linalg.norm(orientation))\n",
    "    window = 20\n",
    "    x,y = pos[tip][0],pos[tip][1]\n",
    "    if x-window>=0 and x+window< dilated.shape[0] and y-window>=0 and y+window< dilated.shape[1]:\n",
    "        shape = dilated[x-window:x+window,y-window:y+window]\n",
    "        dist = 30\n",
    "        for i in range(dist):\n",
    "            pixel = (pos[tip]+orientation*i).astype(int)\n",
    "            xp,yp = pixel[0],pixel[1]\n",
    "            if xp-window>=0 and xp+window< dilated.shape[0] and yp-window>=0 and yp+window< dilated.shape[1]:\n",
    "                dilated_bis[xp-window:xp+window,yp-window:yp+window]+=shape\n",
    "skeletonized_bis = cv2.ximgproc.thinning(np.array(255*dilated_bis,dtype=np.uint8))"
   ]
  },
  {
   "cell_type": "code",
   "execution_count": 116,
   "metadata": {},
   "outputs": [
    {
     "data": {
      "application/vnd.jupyter.widget-view+json": {
       "model_id": "c6d52672a4ad4a27b5b924d97e411f39",
       "version_major": 2,
       "version_minor": 0
      },
      "text/plain": [
       "Canvas(toolbar=Toolbar(toolitems=[('Home', 'Reset original view', 'home', 'home'), ('Back', 'Back to previous …"
      ]
     },
     "metadata": {},
     "output_type": "display_data"
    }
   ],
   "source": [
    "plot_t_tp1([],[],None,None,cv2.dilate(skeletonized_bis.astype(np.uint8) * 255,kernel,iterations = 1),im_back_rem)"
   ]
  },
  {
   "cell_type": "code",
   "execution_count": 110,
   "metadata": {},
   "outputs": [
    {
     "data": {
      "application/vnd.jupyter.widget-view+json": {
       "model_id": "f4fcaa4ce3c14f99ba177b78f3a49b55",
       "version_major": 2,
       "version_minor": 0
      },
      "text/plain": [
       "Canvas(toolbar=Toolbar(toolitems=[('Home', 'Reset original view', 'home', 'home'), ('Back', 'Back to previous …"
      ]
     },
     "metadata": {},
     "output_type": "display_data"
    },
    {
     "data": {
      "text/plain": [
       "<matplotlib.image.AxesImage at 0x2b6d0cd956d0>"
      ]
     },
     "execution_count": 110,
     "metadata": {},
     "output_type": "execute_result"
    }
   ],
   "source": [
    "fig=plt.figure(figsize=(10,9))\n",
    "ax = fig.add_subplot(111)\n",
    "ax.imshow(transformed)"
   ]
  },
  {
   "cell_type": "code",
   "execution_count": 38,
   "metadata": {},
   "outputs": [],
   "source": [
    "orientation = branch[0]-branch[min(branch.shape[0]-1,20)]"
   ]
  },
  {
   "cell_type": "code",
   "execution_count": null,
   "metadata": {},
   "outputs": [],
   "source": [
    "branch"
   ]
  },
  {
   "cell_type": "code",
   "execution_count": 26,
   "metadata": {},
   "outputs": [],
   "source": [
    "extension = branch[0:min(branch.shape[0],20)] + orientation"
   ]
  },
  {
   "cell_type": "code",
   "execution_count": null,
   "metadata": {},
   "outputs": [],
   "source": [
    "for edge in g.edges:\n",
    "    "
   ]
  },
  {
   "cell_type": "code",
   "execution_count": 92,
   "metadata": {},
   "outputs": [
    {
     "data": {
      "text/plain": [
       "array([[   0, 1610],\n",
       "       [   0, 1611],\n",
       "       [   0, 1612],\n",
       "       [   0, 1613],\n",
       "       [   0, 1614],\n",
       "       [   0, 1615],\n",
       "       [   0, 1616],\n",
       "       [   0, 1617],\n",
       "       [   0, 1618],\n",
       "       [   0, 1619],\n",
       "       [   0, 1620],\n",
       "       [   0, 1621],\n",
       "       [   0, 1622],\n",
       "       [   0, 1623],\n",
       "       [   0, 1624],\n",
       "       [   0, 1625],\n",
       "       [   0, 1626],\n",
       "       [   0, 1627],\n",
       "       [   0, 1628],\n",
       "       [   0, 1629]])"
      ]
     },
     "execution_count": 92,
     "metadata": {},
     "output_type": "execute_result"
    }
   ],
   "source": [
    "extension"
   ]
  },
  {
   "cell_type": "code",
   "execution_count": 42,
   "metadata": {},
   "outputs": [
    {
     "data": {
      "application/vnd.jupyter.widget-view+json": {
       "model_id": "655ac5d320ce45fc94743be06f2bb248",
       "version_major": 2,
       "version_minor": 0
      },
      "text/plain": [
       "Canvas(toolbar=Toolbar(toolitems=[('Home', 'Reset original view', 'home', 'home'), ('Back', 'Back to previous …"
      ]
     },
     "metadata": {},
     "output_type": "display_data"
    },
    {
     "data": {
      "application/vnd.jupyter.widget-view+json": {
       "model_id": "e72cbd85ed234c6dabc8930410693713",
       "version_major": 2,
       "version_minor": 0
      },
      "text/plain": [
       "Canvas(toolbar=Toolbar(toolitems=[('Home', 'Reset original view', 'home', 'home'), ('Back', 'Back to previous …"
      ]
     },
     "metadata": {},
     "output_type": "display_data"
    },
    {
     "data": {
      "text/plain": [
       "<matplotlib.image.AxesImage at 0x2b172f5ada50>"
      ]
     },
     "execution_count": 42,
     "metadata": {},
     "output_type": "execute_result"
    }
   ],
   "source": [
    "plt.close('all')\n",
    "im = images[0]\n",
    "im_cropped = im\n",
    "im_blurred =cv2.blur(im_cropped, (200, 200))\n",
    "im_back_rem = (im_cropped+1)/(im_blurred+1)*120\n",
    "test=np.copy(im_back_rem)\n",
    "# test = test * (test<128)+(256-test)*(test>=128)\n",
    "# test =cv2.blur(test, (20, 20))\n",
    "test[test >= 130] = 130\n",
    "fig=plt.figure(figsize=(10,9))\n",
    "ax = fig.add_subplot(111)\n",
    "ax.imshow(im_back_rem)\n",
    "fig=plt.figure(figsize=(10,9))\n",
    "ax = fig.add_subplot(111)\n",
    "ax.imshow(test)"
   ]
  },
  {
   "cell_type": "code",
   "execution_count": 43,
   "metadata": {},
   "outputs": [],
   "source": [
    "frangised = frangi(test,sigmas=range(1,20,4))*255\n"
   ]
  },
  {
   "cell_type": "code",
   "execution_count": 44,
   "metadata": {},
   "outputs": [
    {
     "data": {
      "application/vnd.jupyter.widget-view+json": {
       "model_id": "cb780b78ca7b4716a78118a4c0f5ab78",
       "version_major": 2,
       "version_minor": 0
      },
      "text/plain": [
       "Canvas(toolbar=Toolbar(toolitems=[('Home', 'Reset original view', 'home', 'home'), ('Back', 'Back to previous …"
      ]
     },
     "metadata": {},
     "output_type": "display_data"
    },
    {
     "data": {
      "text/plain": [
       "<matplotlib.image.AxesImage at 0x2b172f62b6d0>"
      ]
     },
     "execution_count": 44,
     "metadata": {},
     "output_type": "execute_result"
    }
   ],
   "source": [
    "fig=plt.figure(figsize=(10,9))\n",
    "ax = fig.add_subplot(111)\n",
    "ax.imshow(frangised)"
   ]
  },
  {
   "cell_type": "code",
   "execution_count": 45,
   "metadata": {},
   "outputs": [
    {
     "data": {
      "application/vnd.jupyter.widget-view+json": {
       "model_id": "bc90e2f35f114613a4e41c119b63b383",
       "version_major": 2,
       "version_minor": 0
      },
      "text/plain": [
       "Canvas(toolbar=Toolbar(toolitems=[('Home', 'Reset original view', 'home', 'home'), ('Back', 'Back to previous …"
      ]
     },
     "metadata": {},
     "output_type": "display_data"
    },
    {
     "data": {
      "text/plain": [
       "<matplotlib.image.AxesImage at 0x2b172f668bd0>"
      ]
     },
     "execution_count": 45,
     "metadata": {},
     "output_type": "execute_result"
    }
   ],
   "source": [
    "frangi_blurred =cv2.blur(frangised,(20,20))\n",
    "fig=plt.figure(figsize=(10,9))\n",
    "ax = fig.add_subplot(111)\n",
    "ax.imshow((frangi_blurred-im_back_rem+120)*(im_blurred>=35))"
   ]
  },
  {
   "cell_type": "code",
   "execution_count": 46,
   "metadata": {},
   "outputs": [],
   "source": [
    "plt.close('all')\n",
    "transformed = (frangi_blurred-im_back_rem+120)*(im_blurred>=35)\n",
    "low = 10\n",
    "high = 30\n",
    "lowt = (transformed > low).astype(int)\n",
    "hight = (transformed > high).astype(int)\n",
    "hyst = filters.apply_hysteresis_threshold(transformed, low, high)\n",
    "kernel = np.ones((3,3),np.uint8)\n",
    "dilation = cv2.dilate(hyst.astype(np.uint8) * 255,kernel,iterations = 1)\n",
    "for i in range(3):\n",
    "    dilation=cv2.erode(dilation.astype(np.uint8) * 255,kernel,iterations = 1)\n",
    "    dilation = cv2.dilate(dilation.astype(np.uint8) * 255,kernel,iterations = 1)\n",
    "dilated = dilation>0\n",
    "hessian = hessian_matrix_det(dilated,sigma = 15)\n",
    "hessian = cv2.normalize(-hessian, None, 0, 255, cv2.NORM_MINMAX)\n"
   ]
  },
  {
   "cell_type": "code",
   "execution_count": 51,
   "metadata": {},
   "outputs": [
    {
     "data": {
      "application/vnd.jupyter.widget-view+json": {
       "model_id": "a31b1d87c7794105838d9da343815bc2",
       "version_major": 2,
       "version_minor": 0
      },
      "text/plain": [
       "Canvas(toolbar=Toolbar(toolitems=[('Home', 'Reset original view', 'home', 'home'), ('Back', 'Back to previous …"
      ]
     },
     "metadata": {},
     "output_type": "display_data"
    },
    {
     "data": {
      "text/plain": [
       "<matplotlib.image.AxesImage at 0x2b172f9d2910>"
      ]
     },
     "execution_count": 51,
     "metadata": {},
     "output_type": "execute_result"
    }
   ],
   "source": [
    "plt.close('all')\n",
    "fig=plt.figure(figsize=(10,9))\n",
    "ax = fig.add_subplot(111)\n",
    "ax.imshow(hessian)"
   ]
  },
  {
   "cell_type": "code",
   "execution_count": 47,
   "metadata": {},
   "outputs": [
    {
     "name": "stdout",
     "output_type": "stream",
     "text": [
      "Raw image\n",
      "Raw image with background removed\n"
     ]
    },
    {
     "data": {
      "application/vnd.jupyter.widget-view+json": {
       "model_id": "603fc80bcf044394bff760da3fe021d8",
       "version_major": 2,
       "version_minor": 0
      },
      "text/plain": [
       "Canvas(toolbar=Toolbar(toolitems=[('Home', 'Reset original view', 'home', 'home'), ('Back', 'Back to previous …"
      ]
     },
     "metadata": {},
     "output_type": "display_data"
    },
    {
     "data": {
      "application/vnd.jupyter.widget-view+json": {
       "model_id": "f005a2fef44f41ea941b1a0a49d8db28",
       "version_major": 2,
       "version_minor": 0
      },
      "text/plain": [
       "Canvas(toolbar=Toolbar(toolitems=[('Home', 'Reset original view', 'home', 'home'), ('Back', 'Back to previous …"
      ]
     },
     "metadata": {},
     "output_type": "display_data"
    },
    {
     "data": {
      "text/plain": [
       "<matplotlib.image.AxesImage at 0x2b172f7ac5d0>"
      ]
     },
     "execution_count": 47,
     "metadata": {},
     "output_type": "execute_result"
    }
   ],
   "source": [
    "kernel = np.ones((20,20),np.uint8)\n",
    "junction_connecter = hessian>165\n",
    "junction_connecter =  cv2.dilate(junction_connecter.astype(np.uint8) * 255,kernel,iterations = 1)\n",
    "final = dilated-junction_connecter>0\n",
    "kernel = np.ones((5,5),np.uint8)\n",
    "sum_eroded=cv2.erode(final.astype(np.uint8) * 255,kernel,iterations = 1)\n",
    "print('Raw image')\n",
    "#         fig=plt.figure(figsize=(10,9))\n",
    "#         ax = fig.add_subplot(111)\n",
    "#         ax.imshow(im)\n",
    "print('Raw image with background removed')\n",
    "fig=plt.figure(figsize=(10,9))\n",
    "ax = fig.add_subplot(111)\n",
    "ax.imshow(im_back_rem)\n",
    "#         print('frangised image')\n",
    "#         fig=plt.figure(figsize=(10,9))\n",
    "#         ax = fig.add_subplot(111)\n",
    "#         ax.imshow(frangised)\n",
    "#         print('final transformed image')\n",
    "# fig=plt.figure(figsize=(10,9))\n",
    "# ax = fig.add_subplot(111)\n",
    "# ax.imshow(transformed)\n",
    "#         print('threhsolded image')\n",
    "fig=plt.figure(figsize=(10,9))\n",
    "ax = fig.add_subplot(111)\n",
    "ax.imshow(sum_eroded)\n",
    "#         fig=plt.figure(figsize=(10,9))\n",
    "#         ax = fig.add_subplot(111)\n",
    "#         ax.imshow(cv2.normalize(abs(hessian), None, 0, 255, cv2.NORM_MINMAX)-255*dilated)"
   ]
  }
 ],
 "metadata": {
  "kernelspec": {
   "display_name": "Python 3",
   "language": "python",
   "name": "python3"
  },
  "language_info": {
   "codemirror_mode": {
    "name": "ipython",
    "version": 3
   },
   "file_extension": ".py",
   "mimetype": "text/x-python",
   "name": "python",
   "nbconvert_exporter": "python",
   "pygments_lexer": "ipython3",
   "version": "3.7.8"
  }
 },
 "nbformat": 4,
 "nbformat_minor": 4
}

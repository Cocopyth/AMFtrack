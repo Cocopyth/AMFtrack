{
 "cells": [
  {
   "cell_type": "code",
   "execution_count": 1,
   "metadata": {},
   "outputs": [],
   "source": [
    "%matplotlib widget\n",
    "from util import get_path\n",
    "import pandas as pd\n",
    "import networkx as nx\n",
    "import numpy as np\n",
    "import matplotlib.pyplot as plt\n",
    "from extract_graph import generate_nx_graph, transform_list, generate_skeleton, generate_nx_graph_from_skeleton, from_connection_tab, from_nx_to_tab\n",
    "from node_id import whole_movement_identification, second_identification\n",
    "import ast\n",
    "from plotutil import plot_t_tp1, compress_skeleton\n",
    "from scipy import sparse\n",
    "from sparse_util import dilate, zhangSuen\n",
    "from realign import realign\n",
    "from datetime import datetime,timedelta\n",
    "from node_id import orient\n",
    "import pickle\n",
    "from matplotlib.widgets import CheckButtons\n",
    "import scipy.io as sio\n",
    "import imageio\n",
    "from pymatreader import read_mat\n",
    "from matplotlib import colors\n",
    "from copy import deepcopy,copy\n",
    "from collections import Counter\n",
    "import cv2 \n",
    "import imageio\n",
    "import matplotlib.pyplot as plt\n",
    "import numpy as np\n",
    "from skimage.filters import frangi, meijering\n",
    "from skimage.morphology import thin\n",
    "from skimage import data, filters\n",
    "from random import choice\n",
    "import scipy.sparse\n",
    "import os\n",
    "from time import time\n",
    "from extract_graph import dic_to_sparse, from_sparse_to_graph, generate_nx_graph, prune_graph, from_nx_to_tab, from_nx_to_tab_matlab,sparse_to_doc, connections_pixel_list_to_tab, transform_list, clean_degree_4\n",
    "from time import sleep\n",
    "from skimage.feature import hessian_matrix_det\n",
    "from experiment_class_surf import Experiment,clean_exp_with_hyphaes, Hyphae\n",
    "from hyphae_id_surf import clean_and_relabel, get_mother, save_hyphaes, resolve_ambiguity_two_ends,solve_degree4, clean_obvious_fake_tips\n",
    "from realign import transform_skeleton_final\n"
   ]
  },
  {
   "cell_type": "code",
   "execution_count": 2,
   "metadata": {},
   "outputs": [],
   "source": [
    "plate = 3\n",
    "begin = 0\n",
    "end = 20\n",
    "directory = \"/scratch/shared/mrozemul/Fiji.app/\" \n",
    "listdir=os.listdir(directory) \n",
    "list_dir_interest=[name for name in listdir if name.split('_')[-1]==f'Plate{0 if plate<10 else \"\"}{plate}']\n",
    "ss=[name.split('_')[0] for name in list_dir_interest]\n",
    "ff=[name.split('_')[1] for name in list_dir_interest]\n",
    "dates_datetime=[datetime(year=int(ss[i][:4]),month=int(ss[i][4:6]),day=int(ss[i][6:8]),hour=int(ff[i][0:2]),minute=int(ff[i][2:4])) for i in range(len(list_dir_interest))]\n",
    "dates_datetime.sort()\n",
    "dates_datetime_chosen=dates_datetime[begin:end]\n",
    "dates = [f'{0 if date.month<10 else \"\"}{date.month}{0 if date.day<10 else \"\"}{date.day}_{0 if date.hour<10 else \"\"}{date.hour}{0 if date.minute<10 else \"\"}{date.minute}' for date in dates_datetime_chosen]\n",
    "exp = pickle.load( open(f'/scratch/shared/mrozemul/Fiji.app/Analysis_Plate{plate}_{dates[0]}_{dates[-1]}/experiment_{plate}.pick', \"rb\" ) )"
   ]
  },
  {
   "cell_type": "code",
   "execution_count": 3,
   "metadata": {},
   "outputs": [],
   "source": [
    "def get_hyphae(experiment,exclude_bottom_factor=0.98):\n",
    "    tips = [node for node in experiment.nodes if node.degree(node.ts()[0])==1 and node.pos(node.ts()[0])[0]<=experiment.boundaries_x[1]*exclude_bottom_factor]\n",
    "    problems=[]\n",
    "    small_problems = []\n",
    "    hyphaes=[]\n",
    "#     for i in range(20):\n",
    "    for i,tip in enumerate(tips):\n",
    "        if i%200==0:\n",
    "            print(i/len(tips))\n",
    "#         tip = choice(tips)\n",
    "        hyphae = Hyphae(tip)\n",
    "        roots = []\n",
    "        for t in tip.ts():\n",
    "#             print(t,tip)\n",
    "            if tip.degree(t)==1:\n",
    "                root,edges,nodes = hyphae.get_edges(t,100)\n",
    "                roots.append(root)\n",
    "        occurence_count = Counter(roots)\n",
    "        if len(occurence_count.values())>=2:\n",
    "            small_problems.append(tip)\n",
    "        if len(occurence_count.values())>=2 and occurence_count.most_common(2)[0][0]!=roots[0] and occurence_count.most_common(2)[1][1]/occurence_count.most_common(2)[0][1]>=0.75:\n",
    "            problems.append(tip)\n",
    "        else:\n",
    "            hyphae.root = occurence_count.most_common(2)[0][0]\n",
    "            hyphae.ts = sorted(set(hyphae.ts).intersection(set(hyphae.root.ts())))\n",
    "            hyphaes.append(hyphae)\n",
    "    print(f'Detected problems during hyphae detection, {len(small_problems)} hyphaes have inconsistent root over time')\n",
    "    return(hyphaes,problems)"
   ]
  },
  {
   "cell_type": "code",
   "execution_count": 10,
   "metadata": {},
   "outputs": [
    {
     "name": "stdout",
     "output_type": "stream",
     "text": [
      "0.0\n",
      "0.028855864954552012\n",
      "0.057711729909104025\n",
      "0.08656759486365603\n",
      "0.11542345981820805\n",
      "0.14427932477276006\n",
      "0.17313518972731207\n",
      "0.2019910546818641\n",
      "0.2308469196364161\n",
      "0.2597027845909681\n",
      "0.28855864954552013\n",
      "0.31741451450007213\n",
      "7 7155 352\n",
      "7 7155 850\n",
      "7 7155 989\n",
      "7 7155 8322\n",
      "7 7155 9306\n",
      "7 7155 199\n",
      "7 7155 8062\n",
      "7 7155 203\n",
      "7 7155 352\n",
      "7 7155 850\n",
      "7 7155 989\n",
      "0.34627037945462413\n",
      "0.3751262444091762\n",
      "0.4039821093637282\n",
      "0.4328379743182802\n",
      "10 10189 11190\n",
      "10 10189 352\n",
      "10 10189 850\n",
      "10 10189 989\n",
      "10 10189 9390\n",
      "10 10189 12224\n",
      "10 10189 10173\n",
      "10 10189 203\n",
      "10 10189 11190\n",
      "10 10189 352\n",
      "10 10189 850\n",
      "0.4616938392728322\n",
      "0.4905497042273842\n",
      "0.5194055691819363\n",
      "0.5482614341364882\n",
      "0.5771172990910403\n",
      "0.6059731640455923\n",
      "0.6348290290001443\n",
      "18 15651 352\n",
      "18 15651 850\n",
      "18 15651 989\n",
      "18 15651 20736\n",
      "18 15651 9390\n",
      "18 15651 22251\n",
      "18 15651 13264\n",
      "18 15651 203\n",
      "18 15651 352\n",
      "18 15651 850\n",
      "18 15651 989\n",
      "0.6636848939546963\n",
      "0.6925407589092483\n",
      "0.7213966238638003\n",
      "0.7502524888183524\n",
      "0.7791083537729043\n",
      "0.8079642187274564\n",
      "0.8368200836820083\n",
      "0.8656759486365604\n",
      "0.8945318135911124\n",
      "0.9233876785456644\n",
      "0.9522435435002164\n",
      "0.9810994084547684\n",
      "Detected problems during hyphae detection, 2632 hyphaes have inconsistent root over time\n"
     ]
    }
   ],
   "source": [
    "hyphaes,problems = get_hyphae(exp)"
   ]
  },
  {
   "cell_type": "code",
   "execution_count": 11,
   "metadata": {},
   "outputs": [
    {
     "data": {
      "text/plain": [
       "6832"
      ]
     },
     "execution_count": 11,
     "metadata": {},
     "output_type": "execute_result"
    }
   ],
   "source": [
    "len(hyphaes)"
   ]
  },
  {
   "cell_type": "code",
   "execution_count": 42,
   "metadata": {},
   "outputs": [],
   "source": [
    "experiment = exp\n",
    "tips = [node for node in experiment.nodes if node.degree(node.ts()[0])==1 and node.pos(node.ts()[0])[0]<=experiment.boundaries_x[1]*0.98]\n",
    "problems=[]\n",
    "small_problems = []\n",
    "hyphaes=[]\n",
    "tip =choice(tips)\n",
    "hyphae = Hyphae(tip)\n",
    "roots = []\n",
    "for t in tip.ts():\n",
    "#             print(t,tip)\n",
    "    if tip.degree(t)==1:\n",
    "        root,edges,nodes = hyphae.get_edges(t,100)\n",
    "        roots.append(root)"
   ]
  },
  {
   "cell_type": "code",
   "execution_count": 43,
   "metadata": {},
   "outputs": [
    {
     "data": {
      "text/plain": [
       "[Node(846),\n",
       " Node(846),\n",
       " Node(846),\n",
       " Node(5252),\n",
       " Node(5252),\n",
       " Node(846),\n",
       " Node(8260),\n",
       " Node(8260),\n",
       " Node(846),\n",
       " Node(846),\n",
       " Node(846),\n",
       " Node(13475),\n",
       " Node(846),\n",
       " Node(846),\n",
       " Node(8260),\n",
       " Node(846),\n",
       " Node(8260)]"
      ]
     },
     "execution_count": 43,
     "metadata": {},
     "output_type": "execute_result"
    }
   ],
   "source": [
    "roots"
   ]
  },
  {
   "cell_type": "code",
   "execution_count": 44,
   "metadata": {},
   "outputs": [
    {
     "data": {
      "application/vnd.jupyter.widget-view+json": {
       "model_id": "5649ba1715db480f9e1eeecdbe697c6b",
       "version_major": 2,
       "version_minor": 0
      },
      "text/plain": [
       "Canvas(toolbar=Toolbar(toolitems=[('Home', 'Reset original view', 'home', 'home'), ('Back', 'Back to previous …"
      ]
     },
     "metadata": {},
     "output_type": "display_data"
    }
   ],
   "source": [
    "plt.close('all')\n",
    "begin=4\n",
    "end=8\n",
    "exp.plot(tip.ts()[begin:end],[[node.label,tip.label] for node in roots][begin:end])"
   ]
  },
  {
   "cell_type": "code",
   "execution_count": 46,
   "metadata": {},
   "outputs": [
    {
     "data": {
      "application/vnd.jupyter.widget-view+json": {
       "model_id": "0cb7c6e1140a45bbab32da95c678c253",
       "version_major": 2,
       "version_minor": 0
      },
      "text/plain": [
       "Canvas(toolbar=Toolbar(toolitems=[('Home', 'Reset original view', 'home', 'home'), ('Back', 'Back to previous …"
      ]
     },
     "metadata": {},
     "output_type": "display_data"
    }
   ],
   "source": [
    "tip.show_source_image(6,6)"
   ]
  },
  {
   "cell_type": "code",
   "execution_count": null,
   "metadata": {},
   "outputs": [],
   "source": []
  }
 ],
 "metadata": {
  "kernelspec": {
   "display_name": "Python 3",
   "language": "python",
   "name": "python3"
  },
  "language_info": {
   "codemirror_mode": {
    "name": "ipython",
    "version": 3
   },
   "file_extension": ".py",
   "mimetype": "text/x-python",
   "name": "python",
   "nbconvert_exporter": "python",
   "pygments_lexer": "ipython3",
   "version": "3.7.8"
  }
 },
 "nbformat": 4,
 "nbformat_minor": 4
}

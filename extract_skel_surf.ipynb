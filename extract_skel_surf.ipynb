{
 "cells": [
  {
   "cell_type": "code",
   "execution_count": 3,
   "metadata": {},
   "outputs": [],
   "source": [
    "# %matplotlib widget\n",
    "from util import get_path\n",
    "import pandas as pd\n",
    "import networkx as nx\n",
    "import numpy as np\n",
    "import matplotlib.pyplot as plt\n",
    "from extract_graph import generate_nx_graph, transform_list, generate_skeleton, generate_nx_graph_from_skeleton, from_connection_tab, from_nx_to_tab\n",
    "from node_id import whole_movement_identification, second_identification\n",
    "import ast\n",
    "from plotutil import plot_t_tp1, compress_skeleton\n",
    "from scipy import sparse\n",
    "from sparse_util import dilate, zhangSuen\n",
    "from realign import realign\n",
    "from datetime import datetime,timedelta\n",
    "from node_id import orient\n",
    "import pickle\n",
    "from matplotlib.widgets import CheckButtons\n",
    "import scipy.io as sio\n",
    "import imageio\n",
    "from pymatreader import read_mat\n",
    "from matplotlib import colors\n",
    "from copy import deepcopy,copy\n",
    "from collections import Counter\n",
    "import cv2 \n",
    "import imageio\n",
    "import matplotlib.pyplot as plt\n",
    "import numpy as np\n",
    "from skimage.filters import frangi\n",
    "from skimage.morphology import thin\n",
    "from skimage import data, filters\n",
    "from random import choice\n",
    "import scipy.sparse\n",
    "import os\n",
    "from time import time"
   ]
  },
  {
   "cell_type": "code",
   "execution_count": 23,
   "metadata": {},
   "outputs": [
    {
     "data": {
      "text/plain": [
       "PosixPath('/scratch/shared/mrozemul/Fiji.app/python/MscThesis')"
      ]
     },
     "execution_count": 23,
     "metadata": {},
     "output_type": "execute_result"
    }
   ],
   "source": [
    "import pathlib\n",
    "pathlib.Path().absolute()"
   ]
  },
  {
   "cell_type": "code",
   "execution_count": null,
   "metadata": {},
   "outputs": [],
   "source": [
    "date = '0714_1534'\n",
    "date_plate = f'/2020{date}'\n",
    "plate = 9\n",
    "plate_str = f'_Plate0{plate}'\n",
    "path_snap='../..'+date_plate+plate_str\n",
    "path_tile=path_snap+'/Img/TileConfiguration.txt.registered'\n",
    "tileconfig = pd.read_table(path_tile,sep=';',skiprows=4,header=None,converters={2 : ast.literal_eval},skipinitialspace=True)\n",
    "os.mkdir(path_snap+'/Analysis')"
   ]
  },
  {
   "cell_type": "code",
   "execution_count": 41,
   "metadata": {},
   "outputs": [],
   "source": [
    "listdir=os.listdir(path_snap) "
   ]
  },
  {
   "cell_type": "code",
   "execution_count": 15,
   "metadata": {},
   "outputs": [],
   "source": [
    "from time import time,sleep\n",
    "t=time()\n",
    "xs =[c[0] for c in tileconfig[2]]\n",
    "ys =[c[1] for c in tileconfig[2]]\n",
    "dim = (int(np.max(ys)-np.min(ys))+4096,int(np.max(xs)-np.min(xs))+4096)\n",
    "ims = []\n",
    "for name in tileconfig[0]:\n",
    "#     ims.append(imageio.imread('//sun.amolf.nl/shimizu-data/home-folder/oyartegalvez/Drive_AMFtopology/PRINCE'+date_plate+plate_str+'/Img/'+name))\n",
    "    ims.append(imageio.imread(f'{name}'))\n",
    "skel = np.zeros(dim,dtype=np.uint8)"
   ]
  },
  {
   "cell_type": "code",
   "execution_count": 20,
   "metadata": {},
   "outputs": [],
   "source": [
    "def frangising():\n",
    "    im  = choice(ims)\n",
    "#     im_cropped = im\n",
    "#     im_blurred =cv2.blur(im_cropped, (200, 200))\n",
    "#     im_back_rem = (im_cropped+1)/(im_blurred+1)\n",
    "#     im_back_rem = cv2.normalize(im_back_rem, None, 0, 255, cv2.NORM_MINMAX)\n",
    "#     im_back_rem_inv = cv2.normalize(255-im_back_rem, None, 0, 255, cv2.NORM_MINMAX)\n",
    "    frangised = frangi(im,sigmas=range(10,40,3))"
   ]
  },
  {
   "cell_type": "code",
   "execution_count": 21,
   "metadata": {},
   "outputs": [
    {
     "name": "stdout",
     "output_type": "stream",
     "text": [
      "         3197 function calls (3095 primitive calls) in 74.555 seconds\n",
      "\n",
      "   Ordered by: standard name\n",
      "\n",
      "   ncalls  tottime  percall  cumtime  percall filename:lineno(function)\n",
      "       11    0.000    0.000    1.840    0.167 <__array_function__ internals>:2(amax)\n",
      "        1    0.000    0.000    0.000    0.000 <__array_function__ internals>:2(any)\n",
      "       10    0.000    0.000    0.723    0.072 <__array_function__ internals>:2(copy)\n",
      "        1    0.000    0.000    0.489    0.489 <__array_function__ internals>:2(copyto)\n",
      "       51    0.000    0.000    0.001    0.000 <__array_function__ internals>:2(empty_like)\n",
      "       40    0.000    0.000    7.766    0.194 <__array_function__ internals>:2(gradient)\n",
      "       20    0.000    0.000    0.000    0.000 <__array_function__ internals>:2(iscomplexobj)\n",
      "       10    0.000    0.000    0.001    0.000 <__array_function__ internals>:2(ix_)\n",
      "       50    0.000    0.000    0.001    0.000 <__array_function__ internals>:2(ndim)\n",
      "        1    0.000    0.000    0.490    0.490 <__array_function__ internals>:2(zeros_like)\n",
      "        1    0.169    0.169   74.547   74.547 <ipython-input-20-e9d0276c0fa1>:1(frangising)\n",
      "        1    0.009    0.009   74.555   74.555 <string>:1(<module>)\n",
      "      131    0.000    0.000    0.001    0.000 _asarray.py:14(asarray)\n",
      "       41    0.000    0.000    0.000    0.000 _asarray.py:86(asanyarray)\n",
      "       10    0.000    0.000    0.000    0.000 _dtype.py:24(_kind_name)\n",
      "       10    0.000    0.000    0.000    0.000 _dtype.py:307(_name_includes_bit_suffix)\n",
      "       10    0.000    0.000    0.000    0.000 _dtype.py:321(_name_get)\n",
      "        1    0.011    0.011    0.011    0.011 _invert.py:5(invert)\n",
      "       20    0.000    0.000    0.000    0.000 _methods.py:45(_sum)\n",
      "       20    0.000    0.000    0.000    0.000 _ni_support.py:35(_extend_mode_to_code)\n",
      "       30    0.000    0.000    0.000    0.000 _ni_support.py:52(_normalize_sequence)\n",
      "       30    0.000    0.000    0.001    0.000 _ni_support.py:68(_get_output)\n",
      "       20    0.000    0.000    0.000    0.000 abc.py:137(__instancecheck__)\n",
      "       10    0.001    0.000   33.928    3.393 corner.py:107(hessian_matrix)\n",
      "       10    0.000    0.000    4.662    0.466 corner.py:170(<listcomp>)\n",
      "       10    7.426    0.743    7.426    0.743 corner.py:245(_image_orthogonal_matrix22_eigvals)\n",
      "       10    0.141    0.014    9.124    0.912 corner.py:288(hessian_matrix_eigvals)\n",
      "       20    0.547    0.027    0.548    0.027 dtype.py:176(_convert)\n",
      "        1    0.000    0.000    0.000    0.000 dtype.py:35(dtype_limits)\n",
      "       20    0.000    0.000    0.548    0.027 dtype.py:426(img_as_float)\n",
      "       10    0.000    0.000    0.000    0.000 dtype.py:57(_dtype_itemsize)\n",
      "       20    0.000    0.000    0.000    0.000 dtype.py:77(<genexpr>)\n",
      "       20    0.001    0.000    0.002    0.000 filters.py:136(_gaussian_kernel1d)\n",
      "       20    0.000    0.000   26.159    1.308 filters.py:167(gaussian_filter1d)\n",
      "       10    0.000    0.000   26.161    2.616 filters.py:220(gaussian_filter)\n",
      "       10    0.000    0.000    0.000    0.000 filters.py:294(<listcomp>)\n",
      "       20    0.000    0.000    0.000    0.000 filters.py:50(_invalid_origin)\n",
      "       20    0.000    0.000   26.156    1.308 filters.py:54(correlate1d)\n",
      "        1    0.000    0.000    0.000    0.000 fromnumeric.py:2245(_any_dispatcher)\n",
      "        1    0.000    0.000    0.000    0.000 fromnumeric.py:2249(any)\n",
      "       11    0.000    0.000    0.000    0.000 fromnumeric.py:2584(_amax_dispatcher)\n",
      "       11    0.000    0.000    1.840    0.167 fromnumeric.py:2589(amax)\n",
      "       50    0.000    0.000    0.000    0.000 fromnumeric.py:3071(_ndim_dispatcher)\n",
      "       50    0.000    0.000    0.001    0.000 fromnumeric.py:3075(ndim)\n",
      "       12    0.000    0.000    1.840    0.153 fromnumeric.py:70(_wrapreduction)\n",
      "       12    0.000    0.000    0.000    0.000 fromnumeric.py:71(<dictcomp>)\n",
      "       10    0.000    0.000    0.000    0.000 function_base.py:710(_copy_dispatcher)\n",
      "       10    0.000    0.000    0.723    0.072 function_base.py:714(copy)\n",
      "       80    0.000    0.000    0.000    0.000 function_base.py:797(_gradient_dispatcher)\n",
      "       40    7.762    0.194    7.766    0.194 function_base.py:802(gradient)\n",
      "       20    0.000    0.000    0.000    0.000 getlimits.py:498(__init__)\n",
      "       10    0.000    0.000    0.000    0.000 getlimits.py:509(min)\n",
      "       10    0.000    0.000    0.000    0.000 getlimits.py:522(max)\n",
      "       10    0.000    0.000    0.000    0.000 index_tricks.py:30(_ix__dispatcher)\n",
      "       10    0.000    0.000    0.001    0.000 index_tricks.py:34(ix_)\n",
      "        1    0.000    0.000    0.000    0.000 multiarray.py:1043(copyto)\n",
      "       51    0.000    0.000    0.000    0.000 multiarray.py:75(empty_like)\n",
      "       30    0.000    0.000    0.001    0.000 numeric.py:1308(normalize_axis_tuple)\n",
      "       30    0.000    0.000    0.000    0.000 numeric.py:1358(<listcomp>)\n",
      "        1    0.000    0.000    0.000    0.000 numeric.py:71(_zeros_like_dispatcher)\n",
      "        1    0.000    0.000    0.490    0.490 numeric.py:75(zeros_like)\n",
      "       20    0.000    0.000    0.000    0.000 numerictypes.py:232(obj2sctype)\n",
      "      202    0.000    0.000    0.001    0.000 numerictypes.py:286(issubclass_)\n",
      "      101    0.000    0.000    0.001    0.000 numerictypes.py:360(issubdtype)\n",
      "        1    0.000    0.000    0.000    0.000 random.py:224(_randbelow)\n",
      "        1    0.000    0.000    0.000    0.000 random.py:256(choice)\n",
      "       10    0.700    0.070   54.247    5.425 ridges.py:109(compute_hessian_eigenvalues)\n",
      "       10    1.657    0.166    1.657    0.166 ridges.py:148(<listcomp>)\n",
      "       10    1.074    0.107    1.797    0.180 ridges.py:21(_divide_nonzero)\n",
      "        1   13.274   13.274   74.378   74.378 ridges.py:357(frangi)\n",
      "       10    0.624    0.062    0.624    0.062 ridges.py:476(<listcomp>)\n",
      "       10    4.133    0.413    8.290    0.829 ridges.py:53(_sortbyabs)\n",
      "       10    0.000    0.000    0.000    0.000 ridges.py:75(<listcomp>)\n",
      "        1    0.000    0.000    0.000    0.000 ridges.py:84(_check_sigmas)\n",
      "       20    0.000    0.000    0.000    0.000 type_check.py:206(_is_type_dispatcher)\n",
      "       20    0.000    0.000    0.000    0.000 type_check.py:279(iscomplexobj)\n",
      "        1    0.000    0.000    0.000    0.000 util.py:136(_copy_meta)\n",
      "        1    0.000    0.000    0.000    0.000 util.py:145(meta)\n",
      "        1    0.000    0.000    0.000    0.000 util.py:151(__array_finalize__)\n",
      "        1    0.000    0.000    0.000    0.000 util.py:160(__array_wrap__)\n",
      "        1    0.000    0.000    0.000    0.000 util.py:204(__getattribute__)\n",
      "        1    0.000    0.000    0.000    0.000 utils.py:256(check_nD)\n",
      "       20    0.000    0.000    0.000    0.000 {built-in method _abc._abc_instancecheck}\n",
      "       30    0.000    0.000    0.000    0.000 {built-in method _operator.index}\n",
      "        1    0.000    0.000   74.555   74.555 {built-in method builtins.exec}\n",
      "       10    0.000    0.000    0.000    0.000 {built-in method builtins.getattr}\n",
      "      157    0.000    0.000    0.000    0.000 {built-in method builtins.isinstance}\n",
      "      353    0.000    0.000    0.000    0.000 {built-in method builtins.issubclass}\n",
      "      211    0.000    0.000    0.000    0.000 {built-in method builtins.len}\n",
      "       10    0.000    0.000    0.000    0.000 {built-in method builtins.next}\n",
      "       10    0.686    0.069    0.686    0.069 {built-in method builtins.sum}\n",
      "       70    0.001    0.000    0.001    0.000 {built-in method numpy.arange}\n",
      "      192    2.281    0.012    2.281    0.012 {built-in method numpy.array}\n",
      "   195/93    0.491    0.003   10.820    0.116 {built-in method numpy.core._multiarray_umath.implement_array_function}\n",
      "       50    0.000    0.000    0.000    0.000 {built-in method numpy.core._multiarray_umath.normalize_axis_index}\n",
      "       12    0.000    0.000    0.000    0.000 {built-in method numpy.zeros}\n",
      "       20   26.155    1.308   26.155    1.308 {built-in method scipy.ndimage._nd_image.correlate1d}\n",
      "       80    0.000    0.000    0.000    0.000 {method 'append' of 'list' objects}\n",
      "       10    4.155    0.416    4.155    0.416 {method 'argsort' of 'numpy.ndarray' objects}\n",
      "        1    0.000    0.000    0.000    0.000 {method 'bit_length' of 'int' objects}\n",
      "       20    0.000    0.000    0.000    0.000 {method 'copy' of 'numpy.ndarray' objects}\n",
      "        1    0.000    0.000    0.000    0.000 {method 'disable' of '_lsprof.Profiler' objects}\n",
      "       10    0.000    0.000    0.000    0.000 {method 'format' of 'str' objects}\n",
      "        2    0.000    0.000    0.000    0.000 {method 'getrandbits' of '_random.Random' objects}\n",
      "        1    0.000    0.000    0.000    0.000 {method 'items' of 'collections.OrderedDict' objects}\n",
      "       12    0.000    0.000    0.000    0.000 {method 'items' of 'dict' objects}\n",
      "        1    0.000    0.000    0.000    0.000 {method 'ravel' of 'numpy.ndarray' objects}\n",
      "       42    3.248    0.077    3.248    0.077 {method 'reduce' of 'numpy.ufunc' objects}\n",
      "       30    0.000    0.000    0.000    0.000 {method 'reshape' of 'numpy.ndarray' objects}\n",
      "       20    0.000    0.000    0.001    0.000 {method 'sum' of 'numpy.ndarray' objects}\n",
      "\n",
      "\n"
     ]
    }
   ],
   "source": [
    "import cProfile\n",
    "cProfile.run('frangising()')"
   ]
  },
  {
   "cell_type": "code",
   "execution_count": null,
   "metadata": {},
   "outputs": [
    {
     "name": "stdout",
     "output_type": "stream",
     "text": [
      "0\n",
      "1\n",
      "2\n",
      "3\n",
      "4\n",
      "5\n",
      "6\n",
      "7\n",
      "8\n",
      "9\n",
      "10\n",
      "11\n",
      "12\n",
      "13\n",
      "14\n",
      "15\n",
      "16\n",
      "17\n",
      "18\n",
      "19\n",
      "20\n",
      "21\n",
      "22\n",
      "23\n",
      "24\n",
      "25\n",
      "26\n",
      "27\n",
      "28\n",
      "29\n",
      "30\n",
      "31\n",
      "32\n",
      "33\n",
      "34\n",
      "35\n",
      "36\n",
      "37\n",
      "38\n",
      "39\n",
      "40\n",
      "41\n",
      "42\n",
      "43\n",
      "44\n",
      "45\n",
      "46\n",
      "47\n",
      "48\n",
      "49\n",
      "50\n",
      "51\n",
      "52\n",
      "53\n",
      "54\n",
      "55\n",
      "56\n",
      "57\n",
      "58\n",
      "59\n",
      "60\n",
      "61\n",
      "62\n",
      "63\n",
      "64\n",
      "65\n",
      "66\n",
      "67\n",
      "68\n",
      "69\n",
      "70\n",
      "71\n",
      "72\n",
      "73\n",
      "74\n",
      "75\n",
      "76\n",
      "77\n",
      "78\n",
      "79\n",
      "80\n",
      "81\n",
      "82\n",
      "83\n",
      "84\n",
      "85\n",
      "86\n",
      "87\n",
      "88\n",
      "89\n",
      "90\n",
      "91\n",
      "92\n",
      "93\n",
      "94\n",
      "95\n",
      "96\n"
     ]
    }
   ],
   "source": [
    "from time import time,sleep\n",
    "t=time()\n",
    "xs =[c[0] for c in tileconfig[2]]\n",
    "ys =[c[1] for c in tileconfig[2]]\n",
    "dim = (int(np.max(ys)-np.min(ys))+4096,int(np.max(xs)-np.min(xs))+4096)\n",
    "ims = []\n",
    "for name in tileconfig[0]:\n",
    "#     ims.append(imageio.imread('//sun.amolf.nl/shimizu-data/home-folder/oyartegalvez/Drive_AMFtopology/PRINCE'+date_plate+plate_str+'/Img/'+name))\n",
    "    ims.append(imageio.imread(f'{name}'))\n",
    "skel = np.zeros(dim,dtype=np.uint8)\n",
    "for index,im in enumerate(ims):\n",
    "    print(index)\n",
    "    im_cropped = im\n",
    "    im_blurred =cv2.blur(im_cropped, (200, 200))\n",
    "    im_back_rem = (im_cropped+1)/(im_blurred+1)\n",
    "    im_back_rem = cv2.normalize(im_back_rem, None, 0, 255, cv2.NORM_MINMAX)\n",
    "    im_back_rem_inv = cv2.normalize(255-im_back_rem, None, 0, 255, cv2.NORM_MINMAX)\n",
    "    frangised = frangi(im_back_rem,sigmas=range(1,20,4))\n",
    "    frangised = cv2.normalize(frangised, None, 0, 255, cv2.NORM_MINMAX)\n",
    "    transformed = cv2.normalize(frangised-im_back_rem, None, 0, 255, cv2.NORM_MINMAX)\n",
    "    transformed = cv2.normalize(-im_back_rem, None, 0, 255, cv2.NORM_MINMAX)\n",
    "    low = 180\n",
    "    high = 200\n",
    "    lowt = (transformed > low).astype(int)\n",
    "    hight = (transformed > high).astype(int)\n",
    "    hyst = filters.apply_hysteresis_threshold(transformed, low, high)\n",
    "    kernel = np.ones((3,3),np.uint8)\n",
    "    dilation = cv2.dilate(hyst.astype(np.uint8) * 255,kernel,iterations = 1)\n",
    "    boundaries = int(tileconfig[2][index][0]-np.min(xs)),int(tileconfig[2][index][1]-np.min(ys))\n",
    "    for i in range(3):\n",
    "        dilation=cv2.erode(dilation.astype(np.uint8) * 255,kernel,iterations = 1)\n",
    "        dilation = cv2.dilate(dilation.astype(np.uint8) * 255,kernel,iterations = 1)\n",
    "    dilated = dilation>0\n",
    "#     np.save(f'Temp\\dilated{tileconfig[0][i]}',dilated)\n",
    "    skel[boundaries[1]:boundaries[1]+shape[0],boundaries[0]:boundaries[0]+shape[1]] += sparse_dilated\n",
    "skeletonized = cv2.ximgproc.thinning(np.array(255*(skel>0),dtype=np.uint8))\n",
    "sio.savemat(path_snap+'/Analysis/dilated.mat',{'dilated' : skel})\n",
    "sio.savemat(path_snap+'/Analysis/skeleton.mat',{'skeleton' : skeletonized})\n",
    "print('time=',time()-t)"
   ]
  },
  {
   "cell_type": "code",
   "execution_count": 1,
   "metadata": {},
   "outputs": [
    {
     "ename": "NameError",
     "evalue": "name 'skel' is not defined",
     "output_type": "error",
     "traceback": [
      "\u001b[0;31m---------------------------------------------------------------------------\u001b[0m",
      "\u001b[0;31mNameError\u001b[0m                                 Traceback (most recent call last)",
      "\u001b[0;32m<ipython-input-1-6d95e9fba825>\u001b[0m in \u001b[0;36m<module>\u001b[0;34m()\u001b[0m\n\u001b[0;32m----> 1\u001b[0;31m \u001b[0mskel\u001b[0m\u001b[0;34m\u001b[0m\u001b[0;34m\u001b[0m\u001b[0m\n\u001b[0m",
      "\u001b[0;31mNameError\u001b[0m: name 'skel' is not defined"
     ]
    }
   ],
   "source": [
    "skel"
   ]
  },
  {
   "cell_type": "code",
   "execution_count": 24,
   "metadata": {},
   "outputs": [],
   "source": [
    "xs =[c[0] for c in tileconfig[2]]\n",
    "ys =[c[1] for c in tileconfig[2]]\n",
    "dim = (int(np.max(ys)-np.min(ys))+4096,int(np.max(xs)-np.min(xs))+4096)\n",
    "import scipy.sparse\n",
    "shape = (3000,4096)\n",
    "skel = np.zeros(dim,dtype=np.uint8)\n",
    "for index,im in enumerate(ims):\n",
    "    im_cropped = im\n",
    "    im_blurred =cv2.blur(im_cropped, (200, 200))\n",
    "    im_back_rem = (im_cropped+1)/(im_blurred+1)\n",
    "    im_back_rem = cv2.normalize(im_back_rem, None, 0, 255, cv2.NORM_MINMAX)\n",
    "    im_back_rem_inv = cv2.normalize(255-im_back_rem, None, 0, 255, cv2.NORM_MINMAX)\n",
    "#     frangised = frangi(im_back_rem,sigmas=range(1,20,4))\n",
    "#     frangised = cv2.normalize(frangised, None, 0, 255, cv2.NORM_MINMAX)\n",
    "#     transformed = cv2.normalize(frangised-im_back_rem, None, 0, 255, cv2.NORM_MINMAX)\n",
    "    transformed = cv2.normalize(-im_back_rem, None, 0, 255, cv2.NORM_MINMAX)\n",
    "    low = 180\n",
    "    high = 200\n",
    "    lowt = (transformed > low).astype(int)\n",
    "    hight = (transformed > high).astype(int)\n",
    "    hyst = filters.apply_hysteresis_threshold(transformed, low, high)\n",
    "    kernel = np.ones((3,3),np.uint8)\n",
    "    dilation = cv2.dilate(hyst.astype(np.uint8) * 255,kernel,iterations = 1)\n",
    "    for i in range(3):\n",
    "        dilation=cv2.erode(dilation.astype(np.uint8) * 255,kernel,iterations = 1)\n",
    "        dilation = cv2.dilate(dilation.astype(np.uint8) * 255,kernel,iterations = 1)\n",
    "    dilated = dilation>0\n",
    "    sparse_dilated = scipy.sparse.csc_matrix(dilated)\n",
    "#     np.save(f'Temp\\dilated{tileconfig[0][i]}',dilated)\n",
    "    boundaries = int(tileconfig[2][index][0]-np.min(xs)),int(tileconfig[2][index][1]-np.min(ys))\n",
    "#     print(boundaries)\n",
    "#     print(skel[boundaries[1]:boundaries[1]+shape[0],boundaries[0]:boundaries[0]+shape[1]].shape,sparse_dilated.shape)\n",
    "    if np.mean(sparse_dilated)<=0.5:\n",
    "        skel[boundaries[1]:boundaries[1]+shape[0],boundaries[0]:boundaries[0]+shape[1]] += sparse_dilated\n",
    "#     skeletonized = thin(dilated)\n",
    "#     break"
   ]
  },
  {
   "cell_type": "code",
   "execution_count": 27,
   "metadata": {},
   "outputs": [
    {
     "data": {
      "text/plain": [
       "(7728880, 1295474584)"
      ]
     },
     "execution_count": 27,
     "metadata": {},
     "output_type": "execute_result"
    }
   ],
   "source": [
    "np.sum(skel>0),np.sum(skel<=0)"
   ]
  },
  {
   "cell_type": "code",
   "execution_count": 33,
   "metadata": {},
   "outputs": [
    {
     "data": {
      "text/plain": [
       "<matplotlib.image.AxesImage at 0x2b050b22fb10>"
      ]
     },
     "execution_count": 33,
     "metadata": {},
     "output_type": "execute_result"
    },
    {
     "data": {
      "image/png": "[encoded data removed]",
      "text/plain": [
       "<Figure size 720x648 with 1 Axes>"
      ]
     },
     "metadata": {
      "needs_background": "light"
     },
     "output_type": "display_data"
    }
   ],
   "source": [
    "plt.close('all')\n",
    "fig=plt.figure(figsize=(10,9))\n",
    "ax = fig.add_subplot(111)\n",
    "ax.imshow(cv2.ximgproc.thinning(np.array(255*(skel[15000:25000,35000:45000]>0),dtype=np.uint8)))"
   ]
  },
  {
   "cell_type": "code",
   "execution_count": 34,
   "metadata": {},
   "outputs": [
    {
     "ename": "NameError",
     "evalue": "name 'cProfile' is not defined",
     "output_type": "error",
     "traceback": [
      "\u001b[0;31m---------------------------------------------------------------------------\u001b[0m",
      "\u001b[0;31mNameError\u001b[0m                                 Traceback (most recent call last)",
      "\u001b[0;32m<ipython-input-34-cf17d8dde675>\u001b[0m in \u001b[0;36m<module>\u001b[0;34m()\u001b[0m\n\u001b[0;32m----> 1\u001b[0;31m \u001b[0mcProfile\u001b[0m\u001b[0;34m.\u001b[0m\u001b[0mrun\u001b[0m\u001b[0;34m(\u001b[0m\u001b[0;34m'cv2.ximgproc.thinning(np.array(255*(skel[15000:25000,35000:45000]>0),dtype=np.uint8))'\u001b[0m\u001b[0;34m)\u001b[0m\u001b[0;34m\u001b[0m\u001b[0;34m\u001b[0m\u001b[0m\n\u001b[0m",
      "\u001b[0;31mNameError\u001b[0m: name 'cProfile' is not defined"
     ]
    }
   ],
   "source": [
    "cProfile.run('cv2.ximgproc.thinning(np.array(255*(skel[15000:25000,35000:45000]>0),dtype=np.uint8))')"
   ]
  },
  {
   "cell_type": "code",
   "execution_count": null,
   "metadata": {},
   "outputs": [],
   "source": [
    "for name in tileconfig[0]:\n",
    "#     ims.append(imageio.imread('//sun.amolf.nl/shimizu-data/home-folder/oyartegalvez/Drive_AMFtopology/PRINCE'+date_plate+plate_str+'/Img/'+name))\n",
    "    im=np.load(f'Temp\\{name}.npy')\n",
    "    if np.mean(im)<=100:\n",
    "        print(name)\n",
    "#     ims.append(np.load(f'Temp\\{name}.npy'))"
   ]
  },
  {
   "cell_type": "code",
   "execution_count": null,
   "metadata": {},
   "outputs": [],
   "source": [
    "for name in tileconfig[0]:\n",
    "#     ims.append(imageio.imread('//sun.amolf.nl/shimizu-data/home-folder/oyartegalvez/Drive_AMFtopology/PRINCE'+date_plate+plate_str+'/Img/'+name))\n",
    "    im=np.load(f'Temp\\{name}.npy')\n",
    "    if name == 'Img_r07_c12.tif':\n",
    "        print(np.mean(im))\n",
    "        plt.close('all')\n",
    "        fig=plt.figure(figsize=(10,9))\n",
    "        ax = fig.add_subplot(111)\n",
    "        ax.imshow(im)\n",
    "        imi = im"
   ]
  },
  {
   "cell_type": "code",
   "execution_count": 12,
   "metadata": {},
   "outputs": [],
   "source": [
    "for index,im in enumerate(ims):\n",
    "    im_cropped = im\n",
    "    im_blurred =cv2.blur(im_cropped, (200, 200))\n",
    "    im_back_rem = (im_cropped+1)/(im_blurred+1)\n",
    "    im_back_rem = cv2.normalize(im_back_rem, None, 0, 255, cv2.NORM_MINMAX)\n",
    "    im_back_rem_inv = cv2.normalize(255-im_back_rem, None, 0, 255, cv2.NORM_MINMAX)\n",
    "#     frangised = frangi(im_back_rem,sigmas=range(1,20,4))\n",
    "#     frangised = cv2.normalize(frangised, None, 0, 255, cv2.NORM_MINMAX)\n",
    "#     transformed = cv2.normalize(frangised-im_back_rem, None, 0, 255, cv2.NORM_MINMAX)\n",
    "    transformed = cv2.normalize(-im_back_rem, None, 0, 255, cv2.NORM_MINMAX)\n",
    "    low = 100\n",
    "    high = 200\n",
    "    lowt = (transformed > low).astype(int)\n",
    "    hight = (transformed > high).astype(int)\n",
    "    hyst = filters.apply_hysteresis_threshold(transformed, low, high)\n",
    "    kernel = np.ones((3,3),np.uint8)\n",
    "    dilation = cv2.dilate(hyst.astype(np.uint8) * 255,kernel,iterations = 1)\n",
    "    for i in range(3):\n",
    "        dilation=cv2.erode(dilation.astype(np.uint8) * 255,kernel,iterations = 1)\n",
    "        dilation = cv2.dilate(dilation.astype(np.uint8) * 255,kernel,iterations = 1)\n",
    "    dilated = dilation>0\n",
    "    sparse_dilated = scipy.sparse.csc_matrix(dilated)\n",
    "#     np.save(f'Temp\\dilated{tileconfig[0][i]}',dilated)\n",
    "    np.save(f'Temp/sparse_matrix{tileconfig[0][index][:-4]}', sparse_dilated)\n",
    "#     skeletonized = thin(dilated)\n",
    "#     break"
   ]
  },
  {
   "cell_type": "code",
   "execution_count": 6,
   "metadata": {},
   "outputs": [
    {
     "data": {
      "text/plain": [
       "(13091473, 1296470273)"
      ]
     },
     "execution_count": 6,
     "metadata": {},
     "output_type": "execute_result"
    }
   ],
   "source": [
    "np.sum(skel>0),np.sum(skel<=0)"
   ]
  },
  {
   "cell_type": "code",
   "execution_count": null,
   "metadata": {},
   "outputs": [],
   "source": [
    "skeletonized = cv2.ximgproc.thinning(np.array(255*(skel>0),dtype=np.uint8))"
   ]
  },
  {
   "cell_type": "code",
   "execution_count": null,
   "metadata": {},
   "outputs": [],
   "source": [
    "import cProfile\n",
    "cProfile.run('cv2.ximgproc.thinning(np.array(255*(skel>0),dtype=np.uint8))')"
   ]
  },
  {
   "cell_type": "code",
   "execution_count": 8,
   "metadata": {},
   "outputs": [
    {
     "data": {
      "application/vnd.jupyter.widget-view+json": {
       "model_id": "cca7d4add87748e4a396f483212e2d53",
       "version_major": 2,
       "version_minor": 0
      },
      "text/plain": [
       "Canvas(toolbar=Toolbar(toolitems=[('Home', 'Reset original view', 'home', 'home'), ('Back', 'Back to previous …"
      ]
     },
     "metadata": {},
     "output_type": "display_data"
    },
    {
     "data": {
      "text/plain": [
       "<matplotlib.image.AxesImage at 0x169d46f4b08>"
      ]
     },
     "execution_count": 8,
     "metadata": {},
     "output_type": "execute_result"
    }
   ],
   "source": [
    "fig=plt.figure(figsize=(10,9))\n",
    "ax = fig.add_subplot(111)\n",
    "ax.imshow(skeletonized)"
   ]
  },
  {
   "cell_type": "code",
   "execution_count": 11,
   "metadata": {},
   "outputs": [
    {
     "data": {
      "text/plain": [
       "'Img_r01_c04'"
      ]
     },
     "execution_count": 11,
     "metadata": {},
     "output_type": "execute_result"
    }
   ],
   "source": [
    "tileconfig[0][3][:-4]"
   ]
  },
  {
   "cell_type": "code",
   "execution_count": 5,
   "metadata": {},
   "outputs": [],
   "source": [
    "xs =[c[0] for c in tileconfig[2]]\n",
    "ys =[c[1] for c in tileconfig[2]]"
   ]
  },
  {
   "cell_type": "code",
   "execution_count": 6,
   "metadata": {},
   "outputs": [],
   "source": [
    "dim = (int(np.max(ys)-np.min(ys))+4096,int(np.max(xs)-np.min(xs))+4096)"
   ]
  },
  {
   "cell_type": "code",
   "execution_count": 35,
   "metadata": {},
   "outputs": [],
   "source": [
    "skel = np.zeros(dim,dtype=np.uint8)"
   ]
  },
  {
   "cell_type": "code",
   "execution_count": 36,
   "metadata": {},
   "outputs": [
    {
     "data": {
      "text/plain": [
       "1309.561858"
      ]
     },
     "execution_count": 36,
     "metadata": {},
     "output_type": "execute_result"
    }
   ],
   "source": [
    "import sys\n",
    "sys.getsizeof(skel)/(10**6)"
   ]
  },
  {
   "cell_type": "code",
   "execution_count": 38,
   "metadata": {},
   "outputs": [],
   "source": [
    "shape = (3000,4096)\n",
    "for index,im in enumerate(ims):\n",
    "    sparse_dilated = scipy.sparse.load_npz(f'Temp/sparse_matrix{tileconfig[0][index][:-4]}.npz').todense()\n",
    "    boundaries = int(tileconfig[2][index][0]-np.min(xs)),int(tileconfig[2][index][1]-np.min(ys))\n",
    "#     print(boundaries)\n",
    "#     print(skel[boundaries[1]:boundaries[1]+shape[0],boundaries[0]:boundaries[0]+shape[1]].shape,sparse_dilated.shape)\n",
    "    skel[boundaries[1]:boundaries[1]+shape[0],boundaries[0]:boundaries[0]+shape[1]] += sparse_dilated"
   ]
  },
  {
   "cell_type": "code",
   "execution_count": 7,
   "metadata": {},
   "outputs": [
    {
     "ename": "NameError",
     "evalue": "name 'skel' is not defined",
     "output_type": "error",
     "traceback": [
      "\u001b[1;31m---------------------------------------------------------------------------\u001b[0m",
      "\u001b[1;31mNameError\u001b[0m                                 Traceback (most recent call last)",
      "\u001b[1;32m<ipython-input-7-d9a823cc1135>\u001b[0m in \u001b[0;36m<module>\u001b[1;34m\u001b[0m\n\u001b[1;32m----> 1\u001b[1;33m \u001b[0mskel\u001b[0m \u001b[1;33m=\u001b[0m \u001b[0mskel\u001b[0m\u001b[1;33m>\u001b[0m\u001b[1;36m0\u001b[0m\u001b[1;33m\u001b[0m\u001b[1;33m\u001b[0m\u001b[0m\n\u001b[0m",
      "\u001b[1;31mNameError\u001b[0m: name 'skel' is not defined"
     ]
    }
   ],
   "source": [
    "skel = skel>0\n"
   ]
  },
  {
   "cell_type": "code",
   "execution_count": 52,
   "metadata": {},
   "outputs": [
    {
     "data": {
      "text/plain": [
       "0"
      ]
     },
     "execution_count": 52,
     "metadata": {},
     "output_type": "execute_result"
    }
   ],
   "source": [
    "np.sum(skeletonized)"
   ]
  },
  {
   "cell_type": "code",
   "execution_count": 41,
   "metadata": {},
   "outputs": [],
   "source": [
    "skel.dtype=np.uint8"
   ]
  },
  {
   "cell_type": "code",
   "execution_count": 27,
   "metadata": {},
   "outputs": [
    {
     "data": {
      "text/plain": [
       "1309.561858"
      ]
     },
     "execution_count": 27,
     "metadata": {},
     "output_type": "execute_result"
    }
   ],
   "source": [
    "sys.getsizeof(skel)/(10**6)"
   ]
  },
  {
   "cell_type": "code",
   "execution_count": 72,
   "metadata": {},
   "outputs": [],
   "source": [
    "image = cv2.imread(\"OpenCV.png\")\n",
    "thinned = cv2.ximgproc.thinning(np.array(255-255*(cv2.cvtColor(image, cv2.COLOR_RGB2GRAY)>0),dtype=np.uint8))"
   ]
  },
  {
   "cell_type": "code",
   "execution_count": 73,
   "metadata": {},
   "outputs": [
    {
     "data": {
      "application/vnd.jupyter.widget-view+json": {
       "model_id": "44f2b19b21ad404cbac8691a9c75701f",
       "version_major": 2,
       "version_minor": 0
      },
      "text/plain": [
       "Canvas(toolbar=Toolbar(toolitems=[('Home', 'Reset original view', 'home', 'home'), ('Back', 'Back to previous …"
      ]
     },
     "metadata": {},
     "output_type": "display_data"
    },
    {
     "data": {
      "text/plain": [
       "<matplotlib.image.AxesImage at 0x22506bb7f48>"
      ]
     },
     "execution_count": 73,
     "metadata": {},
     "output_type": "execute_result"
    }
   ],
   "source": [
    "fig=plt.figure(figsize=(10,9))\n",
    "ax = fig.add_subplot(111)\n",
    "ax.imshow(thinned)"
   ]
  },
  {
   "cell_type": "code",
   "execution_count": 44,
   "metadata": {},
   "outputs": [
    {
     "data": {
      "application/vnd.jupyter.widget-view+json": {
       "model_id": "4f464604b5d14ef584ea18ecbea39942",
       "version_major": 2,
       "version_minor": 0
      },
      "text/plain": [
       "Canvas(toolbar=Toolbar(toolitems=[('Home', 'Reset original view', 'home', 'home'), ('Back', 'Back to previous …"
      ]
     },
     "metadata": {},
     "output_type": "display_data"
    },
    {
     "data": {
      "text/plain": [
       "<matplotlib.image.AxesImage at 0x2249a6c80c8>"
      ]
     },
     "execution_count": 44,
     "metadata": {},
     "output_type": "execute_result"
    }
   ],
   "source": [
    "fig=plt.figure(figsize=(10,9))\n",
    "ax = fig.add_subplot(111)\n",
    "ax.imshow(skeletonized[10000:20000,10000:20000])"
   ]
  },
  {
   "cell_type": "code",
   "execution_count": null,
   "metadata": {},
   "outputs": [],
   "source": [
    "img1 = skel.copy()\n",
    "# Structuring Element\n",
    "kernel = cv2.getStructuringElement(cv2.MORPH_CROSS,(3,3))\n",
    "# Create an empty output image to hold values\n",
    "thin = np.zeros(img1.shape,dtype='uint8') \n",
    "while (cv2.countNonZero(img1)!=0):\n",
    "    # Erosion\n",
    "    erode = cv2.erode(img1,kernel)\n",
    "    # Opening on eroded image\n",
    "    opening = cv2.morphologyEx(erode,cv2.MORPH_OPEN,kernel)\n",
    "    # Subtract these two\n",
    "    subset = erode - opening\n",
    "    # Union of all previous sets\n",
    "    thin = cv2.bitwise_or(subset,thin)\n",
    "    # Set the eroded image for next iteration\n",
    "    img1 = erode.copy()"
   ]
  },
  {
   "cell_type": "code",
   "execution_count": 28,
   "metadata": {},
   "outputs": [
    {
     "ename": "KeyboardInterrupt",
     "evalue": "",
     "output_type": "error",
     "traceback": [
      "\u001b[1;31m---------------------------------------------------------------------------\u001b[0m",
      "\u001b[1;31mKeyboardInterrupt\u001b[0m                         Traceback (most recent call last)",
      "\u001b[1;32m<ipython-input-28-5c7a3d2f4734>\u001b[0m in \u001b[0;36m<module>\u001b[1;34m\u001b[0m\n\u001b[1;32m----> 1\u001b[1;33m \u001b[0mskeletonized\u001b[0m \u001b[1;33m=\u001b[0m \u001b[0mthin\u001b[0m\u001b[1;33m(\u001b[0m\u001b[0mskel\u001b[0m\u001b[1;33m)\u001b[0m\u001b[1;33m\u001b[0m\u001b[1;33m\u001b[0m\u001b[0m\n\u001b[0m",
      "\u001b[1;32m~\\anaconda3\\envs\\cleanMsc\\lib\\site-packages\\skimage\\morphology\\_skeletonize.py\u001b[0m in \u001b[0;36mthin\u001b[1;34m(image, max_iter)\u001b[0m\n\u001b[0;32m    347\u001b[0m             \u001b[0mN\u001b[0m \u001b[1;33m=\u001b[0m \u001b[0mndi\u001b[0m\u001b[1;33m.\u001b[0m\u001b[0mcorrelate\u001b[0m\u001b[1;33m(\u001b[0m\u001b[0mskel\u001b[0m\u001b[1;33m,\u001b[0m \u001b[0mmask\u001b[0m\u001b[1;33m,\u001b[0m \u001b[0mmode\u001b[0m\u001b[1;33m=\u001b[0m\u001b[1;34m'constant'\u001b[0m\u001b[1;33m)\u001b[0m\u001b[1;33m\u001b[0m\u001b[1;33m\u001b[0m\u001b[0m\n\u001b[0;32m    348\u001b[0m             \u001b[1;31m# take deletion decision from this subiteration's LUT\u001b[0m\u001b[1;33m\u001b[0m\u001b[1;33m\u001b[0m\u001b[1;33m\u001b[0m\u001b[0m\n\u001b[1;32m--> 349\u001b[1;33m             \u001b[0mD\u001b[0m \u001b[1;33m=\u001b[0m \u001b[0mnp\u001b[0m\u001b[1;33m.\u001b[0m\u001b[0mtake\u001b[0m\u001b[1;33m(\u001b[0m\u001b[0mlut\u001b[0m\u001b[1;33m,\u001b[0m \u001b[0mN\u001b[0m\u001b[1;33m)\u001b[0m\u001b[1;33m\u001b[0m\u001b[1;33m\u001b[0m\u001b[0m\n\u001b[0m\u001b[0;32m    350\u001b[0m             \u001b[1;31m# perform deletion\u001b[0m\u001b[1;33m\u001b[0m\u001b[1;33m\u001b[0m\u001b[1;33m\u001b[0m\u001b[0m\n\u001b[0;32m    351\u001b[0m             \u001b[0mskel\u001b[0m\u001b[1;33m[\u001b[0m\u001b[0mD\u001b[0m\u001b[1;33m]\u001b[0m \u001b[1;33m=\u001b[0m \u001b[1;36m0\u001b[0m\u001b[1;33m\u001b[0m\u001b[1;33m\u001b[0m\u001b[0m\n",
      "\u001b[1;32m<__array_function__ internals>\u001b[0m in \u001b[0;36mtake\u001b[1;34m(*args, **kwargs)\u001b[0m\n",
      "\u001b[1;32m~\\anaconda3\\envs\\cleanMsc\\lib\\site-packages\\numpy\\core\\fromnumeric.py\u001b[0m in \u001b[0;36mtake\u001b[1;34m(a, indices, axis, out, mode)\u001b[0m\n\u001b[0;32m    189\u001b[0m            [5, 7]])\n\u001b[0;32m    190\u001b[0m     \"\"\"\n\u001b[1;32m--> 191\u001b[1;33m     \u001b[1;32mreturn\u001b[0m \u001b[0m_wrapfunc\u001b[0m\u001b[1;33m(\u001b[0m\u001b[0ma\u001b[0m\u001b[1;33m,\u001b[0m \u001b[1;34m'take'\u001b[0m\u001b[1;33m,\u001b[0m \u001b[0mindices\u001b[0m\u001b[1;33m,\u001b[0m \u001b[0maxis\u001b[0m\u001b[1;33m=\u001b[0m\u001b[0maxis\u001b[0m\u001b[1;33m,\u001b[0m \u001b[0mout\u001b[0m\u001b[1;33m=\u001b[0m\u001b[0mout\u001b[0m\u001b[1;33m,\u001b[0m \u001b[0mmode\u001b[0m\u001b[1;33m=\u001b[0m\u001b[0mmode\u001b[0m\u001b[1;33m)\u001b[0m\u001b[1;33m\u001b[0m\u001b[1;33m\u001b[0m\u001b[0m\n\u001b[0m\u001b[0;32m    192\u001b[0m \u001b[1;33m\u001b[0m\u001b[0m\n\u001b[0;32m    193\u001b[0m \u001b[1;33m\u001b[0m\u001b[0m\n",
      "\u001b[1;32m~\\anaconda3\\envs\\cleanMsc\\lib\\site-packages\\numpy\\core\\fromnumeric.py\u001b[0m in \u001b[0;36m_wrapfunc\u001b[1;34m(obj, method, *args, **kwds)\u001b[0m\n\u001b[0;32m     56\u001b[0m \u001b[1;33m\u001b[0m\u001b[0m\n\u001b[0;32m     57\u001b[0m     \u001b[1;32mtry\u001b[0m\u001b[1;33m:\u001b[0m\u001b[1;33m\u001b[0m\u001b[1;33m\u001b[0m\u001b[0m\n\u001b[1;32m---> 58\u001b[1;33m         \u001b[1;32mreturn\u001b[0m \u001b[0mbound\u001b[0m\u001b[1;33m(\u001b[0m\u001b[1;33m*\u001b[0m\u001b[0margs\u001b[0m\u001b[1;33m,\u001b[0m \u001b[1;33m**\u001b[0m\u001b[0mkwds\u001b[0m\u001b[1;33m)\u001b[0m\u001b[1;33m\u001b[0m\u001b[1;33m\u001b[0m\u001b[0m\n\u001b[0m\u001b[0;32m     59\u001b[0m     \u001b[1;32mexcept\u001b[0m \u001b[0mTypeError\u001b[0m\u001b[1;33m:\u001b[0m\u001b[1;33m\u001b[0m\u001b[1;33m\u001b[0m\u001b[0m\n\u001b[0;32m     60\u001b[0m         \u001b[1;31m# A TypeError occurs if the object does have such a method in its\u001b[0m\u001b[1;33m\u001b[0m\u001b[1;33m\u001b[0m\u001b[1;33m\u001b[0m\u001b[0m\n",
      "\u001b[1;31mKeyboardInterrupt\u001b[0m: "
     ]
    }
   ],
   "source": [
    "skeletonized = thin(skel)"
   ]
  },
  {
   "cell_type": "code",
   "execution_count": 111,
   "metadata": {},
   "outputs": [],
   "source": [
    "scipy.sparse.save_npz(f'Temp/sparse_matrix{tileconfig[0][i]}.npz', sparse_dilated)\n"
   ]
  },
  {
   "cell_type": "code",
   "execution_count": 56,
   "metadata": {},
   "outputs": [],
   "source": [
    "values = [np.mean(im) for im in ims]"
   ]
  },
  {
   "cell_type": "code",
   "execution_count": 57,
   "metadata": {},
   "outputs": [
    {
     "data": {
      "application/vnd.jupyter.widget-view+json": {
       "model_id": "d508525cb7b142449074346c60c51db8",
       "version_major": 2,
       "version_minor": 0
      },
      "text/plain": [
       "Canvas(toolbar=Toolbar(toolitems=[('Home', 'Reset original view', 'home', 'home'), ('Back', 'Back to previous …"
      ]
     },
     "metadata": {},
     "output_type": "display_data"
    },
    {
     "data": {
      "text/plain": [
       "(array([33.,  2.,  4.,  5.,  8.,  8., 10.,  7., 32., 41.]),\n",
       " array([  0.        ,  15.46855857,  30.93711714,  46.40567571,\n",
       "         61.87423428,  77.34279285,  92.81135142, 108.27990999,\n",
       "        123.74846855, 139.21702712, 154.68558569]),\n",
       " <BarContainer object of 10 artists>)"
      ]
     },
     "execution_count": 57,
     "metadata": {},
     "output_type": "execute_result"
    }
   ],
   "source": [
    "fig=plt.figure(figsize=(10,9))\n",
    "ax = fig.add_subplot(111)\n",
    "ax.hist(values)"
   ]
  },
  {
   "cell_type": "code",
   "execution_count": 107,
   "metadata": {},
   "outputs": [
    {
     "name": "stdout",
     "output_type": "stream",
     "text": [
      "11.942084879557292\n"
     ]
    },
    {
     "data": {
      "application/vnd.jupyter.widget-view+json": {
       "model_id": "6e1c91ef6583483e980b8566c72b6463",
       "version_major": 2,
       "version_minor": 0
      },
      "text/plain": [
       "Canvas(toolbar=Toolbar(toolitems=[('Home', 'Reset original view', 'home', 'home'), ('Back', 'Back to previous …"
      ]
     },
     "metadata": {},
     "output_type": "display_data"
    },
    {
     "data": {
      "text/plain": [
       "<matplotlib.image.AxesImage at 0x2991b6ab6c8>"
      ]
     },
     "execution_count": 107,
     "metadata": {},
     "output_type": "execute_result"
    }
   ],
   "source": [
    "plt.close('all')\n",
    "im = choice(ims)\n",
    "print(np.mean(im))\n",
    "fig=plt.figure(figsize=(10,9))\n",
    "ax = fig.add_subplot(111)\n",
    "ax.imshow(im)"
   ]
  },
  {
   "cell_type": "code",
   "execution_count": null,
   "metadata": {},
   "outputs": [],
   "source": [
    "im_cropped = im\n",
    "im_blurred =cv2.blur(im_cropped, (200, 200))\n",
    "im_back_rem = (im_cropped+1)/(im_blurred+1)\n",
    "im_back_rem = cv2.normalize(im_back_rem, None, 0, 255, cv2.NORM_MINMAX)\n",
    "im_back_rem_inv = cv2.normalize(255-im_back_rem, None, 0, 255, cv2.NORM_MINMAX)\n",
    "frangised = frangi(im_back_rem,sigmas=range(1,20,4))\n",
    "frangised = cv2.normalize(frangised, None, 0, 255, cv2.NORM_MINMAX)\n",
    "transformed = cv2.normalize(frangised-im_back_rem, None, 0, 255, cv2.NORM_MINMAX)\n",
    "low = 100\n",
    "high = 200\n",
    "lowt = (transformed > low).astype(int)\n",
    "hight = (transformed > high).astype(int)\n",
    "hyst = filters.apply_hysteresis_threshold(transformed, low, high)\n",
    "kernel = np.ones((3,3),np.uint8)\n",
    "dilation = cv2.dilate(hyst.astype(np.uint8) * 255,kernel,iterations = 1)\n",
    "for i in range(3):\n",
    "    dilation=cv2.erode(dilation.astype(np.uint8) * 255,kernel,iterations = 1)\n",
    "    dilation = cv2.dilate(dilation.astype(np.uint8) * 255,kernel,iterations = 1)\n",
    "dilated = dilation>0\n",
    "skeletonized = thin(dilated)"
   ]
  },
  {
   "cell_type": "code",
   "execution_count": 108,
   "metadata": {},
   "outputs": [],
   "source": [
    "im_cropped = im\n",
    "im_blurred =cv2.blur(im_cropped, (200, 200))\n",
    "im_back_rem = (im_cropped+1)/(im_blurred+1)\n",
    "im_back_rem = cv2.normalize(im_back_rem, None, 0, 255, cv2.NORM_MINMAX)"
   ]
  },
  {
   "cell_type": "code",
   "execution_count": 109,
   "metadata": {},
   "outputs": [
    {
     "data": {
      "application/vnd.jupyter.widget-view+json": {
       "model_id": "96b38c994c3f4d96a82b626aac092ba9",
       "version_major": 2,
       "version_minor": 0
      },
      "text/plain": [
       "Canvas(toolbar=Toolbar(toolitems=[('Home', 'Reset original view', 'home', 'home'), ('Back', 'Back to previous …"
      ]
     },
     "metadata": {},
     "output_type": "display_data"
    },
    {
     "data": {
      "text/plain": [
       "<matplotlib.image.AxesImage at 0x299179a5308>"
      ]
     },
     "execution_count": 109,
     "metadata": {},
     "output_type": "execute_result"
    }
   ],
   "source": [
    "fig=plt.figure(figsize=(10,9))\n",
    "ax = fig.add_subplot(111)\n",
    "ax.imshow(im_back_rem)"
   ]
  },
  {
   "cell_type": "code",
   "execution_count": 55,
   "metadata": {},
   "outputs": [
    {
     "data": {
      "application/vnd.jupyter.widget-view+json": {
       "model_id": "150764b8796a4eb5b92624216f08219c",
       "version_major": 2,
       "version_minor": 0
      },
      "text/plain": [
       "Canvas(toolbar=Toolbar(toolitems=[('Home', 'Reset original view', 'home', 'home'), ('Back', 'Back to previous …"
      ]
     },
     "metadata": {},
     "output_type": "display_data"
    },
    {
     "data": {
      "text/plain": [
       "<matplotlib.image.AxesImage at 0x29926f08c08>"
      ]
     },
     "execution_count": 55,
     "metadata": {},
     "output_type": "execute_result"
    }
   ],
   "source": [
    "fig=plt.figure(figsize=(10,9))\n",
    "ax = fig.add_subplot(111)\n",
    "ax.imshow(skeletonized)"
   ]
  }
 ],
 "metadata": {
  "kernelspec": {
   "display_name": "Python 3",
   "language": "python",
   "name": "python3"
  },
  "language_info": {
   "codemirror_mode": {
    "name": "ipython",
    "version": 3
   },
   "file_extension": ".py",
   "mimetype": "text/x-python",
   "name": "python",
   "nbconvert_exporter": "python",
   "pygments_lexer": "ipython3",
   "version": "3.7.8"
  }
 },
 "nbformat": 4,
 "nbformat_minor": 4
}

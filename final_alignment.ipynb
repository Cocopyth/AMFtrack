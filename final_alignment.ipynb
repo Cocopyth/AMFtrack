{
 "cells": [
  {
   "cell_type": "code",
   "execution_count": 1,
   "metadata": {},
   "outputs": [],
   "source": [
    "%matplotlib widget\n",
    "from util import get_path\n",
    "import pandas as pd\n",
    "import networkx as nx\n",
    "import numpy as np\n",
    "import matplotlib.pyplot as plt\n",
    "from extract_graph import generate_nx_graph, transform_list, generate_skeleton, generate_nx_graph_from_skeleton, from_connection_tab, from_nx_to_tab\n",
    "from node_id import whole_movement_identification, second_identification\n",
    "import ast\n",
    "from plotutil import plot_t_tp1, compress_skeleton\n",
    "from scipy import sparse\n",
    "from sparse_util import dilate, zhangSuen\n",
    "from realign import realign, realign_final\n",
    "from datetime import datetime,timedelta\n",
    "from node_id import orient\n",
    "import pickle\n",
    "from matplotlib.widgets import CheckButtons\n",
    "import scipy.io as sio\n",
    "import imageio\n",
    "from pymatreader import read_mat\n",
    "from matplotlib import colors\n",
    "from copy import deepcopy,copy\n",
    "from collections import Counter\n",
    "import cv2 \n",
    "import imageio\n",
    "import matplotlib.pyplot as plt\n",
    "import numpy as np\n",
    "from skimage.filters import frangi\n",
    "from skimage.morphology import thin\n",
    "from skimage import data, filters\n",
    "from random import choice\n",
    "import scipy.sparse\n",
    "import os\n",
    "from time import time\n",
    "from extract_graph import dic_to_sparse, from_sparse_to_graph, generate_nx_graph, prune_graph, from_nx_to_tab, from_nx_to_tab_matlab,sparse_to_doc, connections_pixel_list_to_tab, transform_list, clean_degree_4\n",
    "from time import sleep\n",
    "from pycpd import RigidRegistration, DeformableRegistration\n",
    "import open3d as o3d\n",
    "from cycpd import rigid_registration"
   ]
  },
  {
   "cell_type": "code",
   "execution_count": 13,
   "metadata": {},
   "outputs": [
    {
     "name": "stdout",
     "output_type": "stream",
     "text": [
      "Submitted batch job 9365975\n",
      "Submitted batch job 9365976\n",
      "Submitted batch job 9365977\n",
      "Submitted batch job 9365978\n",
      "Submitted batch job 9365979\n",
      "Submitted batch job 9365980\n",
      "Submitted batch job 9365981\n"
     ]
    }
   ],
   "source": [
    "plate = 5\n",
    "for j in range(0,7):\n",
    "    my_file = open(\"/scratch/shared/mrozemul/Fiji.app/align.sh\", \"w\")\n",
    "    my_file.write(\"#!/bin/bash \\n#Set job requirements \\n#SBATCH -N 1 \\n#SBATCH -t 2:00:00\\n#SBATCH -p normal\\n\")\n",
    "    my_file.write(f'for i in `seq {8*j} {8*j+7}`; do\\n')\n",
    "    my_file.write(f'\\t python ~/Corentin/MscThesis/final_alignment.py $i {plate} &\\n')\n",
    "    my_file.write('done\\n')\n",
    "    my_file.write('wait\\n')\n",
    "    my_file.close()\n",
    "# !srun -t 2:00:00 --pty /scratch/shared/mrozemul/Fiji.app/align.sh\n",
    "    !sbatch /scratch/shared/mrozemul/Fiji.app/align.sh"
   ]
  },
  {
   "cell_type": "code",
   "execution_count": 2,
   "metadata": {},
   "outputs": [
    {
     "data": {
      "text/plain": [
       "54"
      ]
     },
     "execution_count": 2,
     "metadata": {},
     "output_type": "execute_result"
    }
   ],
   "source": [
    "plate = 5\n",
    "directory = \"/scratch/shared/mrozemul/Fiji.app/\" \n",
    "listdir=os.listdir(directory) \n",
    "list_dir_interest=[name for name in listdir if name.split('_')[-1]==f'Plate{0 if plate<10 else \"\"}{plate}']\n",
    "len(list_dir_interest)"
   ]
  },
  {
   "cell_type": "code",
   "execution_count": null,
   "metadata": {},
   "outputs": [
    {
     "data": {
      "application/vnd.jupyter.widget-view+json": {
       "model_id": "e128c0c846ae42888dbaf5a90c2cd2e5",
       "version_major": 2,
       "version_minor": 0
      },
      "text/plain": [
       "Canvas(toolbar=Toolbar(toolitems=[('Home', 'Reset original view', 'home', 'home'), ('Back', 'Back to previous …"
      ]
     },
     "metadata": {},
     "output_type": "display_data"
    },
    {
     "data": {
      "application/vnd.jupyter.widget-view+json": {
       "model_id": "8e8a7eabd06d4189aa1303db5f0dec88",
       "version_major": 2,
       "version_minor": 0
      },
      "text/plain": [
       "Canvas(toolbar=Toolbar(toolitems=[('Home', 'Reset original view', 'home', 'home'), ('Back', 'Back to previous …"
      ]
     },
     "metadata": {},
     "output_type": "display_data"
    },
    {
     "data": {
      "application/vnd.jupyter.widget-view+json": {
       "model_id": "8dcdb8507c0b409fa905ab3d65c8934e",
       "version_major": 2,
       "version_minor": 0
      },
      "text/plain": [
       "Canvas(toolbar=Toolbar(toolitems=[('Home', 'Reset original view', 'home', 'home'), ('Back', 'Back to previous …"
      ]
     },
     "metadata": {},
     "output_type": "display_data"
    },
    {
     "data": {
      "application/vnd.jupyter.widget-view+json": {
       "model_id": "f590cb99026746c09463ca6c61572fbf",
       "version_major": 2,
       "version_minor": 0
      },
      "text/plain": [
       "Canvas(toolbar=Toolbar(toolitems=[('Home', 'Reset original view', 'home', 'home'), ('Back', 'Back to previous …"
      ]
     },
     "metadata": {},
     "output_type": "display_data"
    },
    {
     "data": {
      "application/vnd.jupyter.widget-view+json": {
       "model_id": "8c9d1eab815a4697b62e438486ad8027",
       "version_major": 2,
       "version_minor": 0
      },
      "text/plain": [
       "Canvas(toolbar=Toolbar(toolitems=[('Home', 'Reset original view', 'home', 'home'), ('Back', 'Back to previous …"
      ]
     },
     "metadata": {},
     "output_type": "display_data"
    },
    {
     "data": {
      "application/vnd.jupyter.widget-view+json": {
       "model_id": "5c450e44916e4ad39099b20274f43b34",
       "version_major": 2,
       "version_minor": 0
      },
      "text/plain": [
       "Canvas(toolbar=Toolbar(toolitems=[('Home', 'Reset original view', 'home', 'home'), ('Back', 'Back to previous …"
      ]
     },
     "metadata": {},
     "output_type": "display_data"
    },
    {
     "data": {
      "application/vnd.jupyter.widget-view+json": {
       "model_id": "9231070ca00b4e8d9906784dc393c9e9",
       "version_major": 2,
       "version_minor": 0
      },
      "text/plain": [
       "Canvas(toolbar=Toolbar(toolitems=[('Home', 'Reset original view', 'home', 'home'), ('Back', 'Back to previous …"
      ]
     },
     "metadata": {},
     "output_type": "display_data"
    },
    {
     "data": {
      "application/vnd.jupyter.widget-view+json": {
       "model_id": "48c3e700fecc4d819d6ad3e3a83183bb",
       "version_major": 2,
       "version_minor": 0
      },
      "text/plain": [
       "Canvas(toolbar=Toolbar(toolitems=[('Home', 'Reset original view', 'home', 'home'), ('Back', 'Back to previous …"
      ]
     },
     "metadata": {},
     "output_type": "display_data"
    },
    {
     "data": {
      "application/vnd.jupyter.widget-view+json": {
       "model_id": "8e416ea4d58548159056fb2f816fca98",
       "version_major": 2,
       "version_minor": 0
      },
      "text/plain": [
       "Canvas(toolbar=Toolbar(toolitems=[('Home', 'Reset original view', 'home', 'home'), ('Back', 'Back to previous …"
      ]
     },
     "metadata": {},
     "output_type": "display_data"
    }
   ],
   "source": [
    "plt.close('all')\n",
    "plate = 5\n",
    "directory = \"/scratch/shared/mrozemul/Fiji.app/\" \n",
    "listdir=os.listdir(directory) \n",
    "list_dir_interest=[name for name in listdir if name.split('_')[-1]==f'Plate{0 if plate<10 else \"\"}{plate}']\n",
    "ss=[name.split('_')[0] for name in list_dir_interest]\n",
    "ff=[name.split('_')[1] for name in list_dir_interest]\n",
    "dates_datetime=[datetime(year=int(ss[i][:4]),month=int(ss[i][4:6]),day=int(ss[i][6:8]),hour=int(ff[i][0:2]),minute=int(ff[i][2:4])) for i in range(len(list_dir_interest))]\n",
    "dates_datetime.sort()\n",
    "dates_datetime_chosen=dates_datetime[5:50]\n",
    "dates = [f'{0 if date.month<10 else \"\"}{date.month}{0 if date.day<10 else \"\"}{date.day}_{0 if date.hour<10 else \"\"}{date.hour}{0 if date.minute<10 else \"\"}{date.minute}' for date in dates_datetime_chosen]\n",
    "dilateds=[]\n",
    "skels = []\n",
    "skel_docs = []\n",
    "Rs=[]\n",
    "ts=[]\n",
    "for date in dates:\n",
    "    directory_name=f'2020{date}_Plate{0 if plate<10 else \"\"}{plate}'\n",
    "    path_snap='/scratch/shared/mrozemul/Fiji.app/'+directory_name\n",
    "    skel_info = read_mat(path_snap+'/Analysis/skeleton.mat')\n",
    "    skel = skel_info['skeleton']\n",
    "    skels.append(skel)\n",
    "    skel_doc = sparse_to_doc(skel)\n",
    "    skel_docs.append(skel_doc)\n",
    "    transform = sio.loadmat(path_snap+'/Analysis/transform.mat')\n",
    "    R,t = transform['R'],transform['t']\n",
    "    Rs.append(R)\n",
    "    ts.append(t)\n",
    "for j in range(22,32): \n",
    "    skeleton1,skeleton2 = skel_docs[j-1],skel_docs[j]\n",
    "    R,t = Rs[j],ts[j]\n",
    "    skelet_pos = np.array(list(skeleton1.keys()))\n",
    "    samples = np.random.choice(skelet_pos.shape[0],20000)\n",
    "    X = np.transpose(skelet_pos[samples,:])\n",
    "    skelet_pos = np.array(list(skeleton2.keys()))\n",
    "    samples = np.random.choice(skelet_pos.shape[0],20000)\n",
    "    Y = np.transpose(skelet_pos[samples,:])\n",
    "    fig=plt.figure(figsize=(10,9))\n",
    "    ax = fig.add_subplot(111)\n",
    "    Yrep=np.transpose(np.transpose(np.dot(R,X))+t)\n",
    "    ax.scatter(np.transpose(Y)[:,0],np.transpose(Y)[:,1])\n",
    "    ax.scatter(np.transpose(Yrep)[:,0],np.transpose(Yrep)[:,1])"
   ]
  },
  {
   "cell_type": "code",
   "execution_count": 4,
   "metadata": {},
   "outputs": [
    {
     "name": "stdout",
     "output_type": "stream",
     "text": [
      "0 [[-18.81602709   3.21275639]] [[ 9.99999797e-01  6.37328984e-04]\n",
      " [-6.37328984e-04  9.99999797e-01]] 0715_0734\n",
      "1 [[ 14.35258654 -30.76979784]] [[ 9.99999941e-01 -3.43262452e-04]\n",
      " [ 3.43262452e-04  9.99999941e-01]] 0715_1134\n",
      "2 [[13.87952994 36.51369895]] [[ 9.99999914e-01 -4.14264948e-04]\n",
      " [ 4.14264948e-04  9.99999914e-01]] 0715_1534\n",
      "3 [[-36.6249105  -12.83933703]] [[ 0.99999931  0.00117363]\n",
      " [-0.00117363  0.99999931]] 0715_1934\n",
      "4 [[ 3.89138625 33.11108382]] [[ 9.99999767e-01 -6.82361819e-04]\n",
      " [ 6.82361819e-04  9.99999767e-01]] 0715_2334\n",
      "5 [[18.45238354 -1.34930289]] [[ 9.99999978e-01  2.08946349e-04]\n",
      " [-2.08946349e-04  9.99999978e-01]] 0716_0334\n",
      "6 [[-21.09412467 -32.77767644]] [[ 1.00000000e+00  1.67060444e-05]\n",
      " [-1.67060444e-05  1.00000000e+00]] 0716_0734\n",
      "7 [[-15.9600903   20.23312695]] [[ 9.99999897e-01  4.54099873e-04]\n",
      " [-4.54099873e-04  9.99999897e-01]] 0716_1134\n",
      "8 [[ 1774.36936321 -1144.34063749]] [[ 9.99999953e-01 -3.06474866e-04]\n",
      " [ 3.06474866e-04  9.99999953e-01]] 0718_0925\n",
      "9 [[-142.84625689   -4.28074564]] [[ 9.99999935e-01 -3.61496488e-04]\n",
      " [ 3.61496488e-04  9.99999935e-01]] 0718_1325\n",
      "10 [[221.92129046  28.70626556]] [[ 9.99999996e-01  9.29753094e-05]\n",
      " [-9.29753094e-05  9.99999996e-01]] 0718_1725\n",
      "11 [[-247.10450777  -14.01123821]] [[ 9.99999999e-01  3.59316245e-05]\n",
      " [-3.59316245e-05  9.99999999e-01]] 0718_2125\n",
      "12 [[50.89113618 12.169049  ]] [[ 9.99999928e-01  3.78338499e-04]\n",
      " [-3.78338499e-04  9.99999928e-01]] 0719_0125\n",
      "13 [[ 62.6761514  -13.59707612]] [[ 9.99999978e-01 -2.09398841e-04]\n",
      " [ 2.09398841e-04  9.99999978e-01]] 0719_0525\n",
      "14 [[  0.72602007 -22.5949862 ]] [[ 9.99999977e-01  2.16351185e-04]\n",
      " [-2.16351185e-04  9.99999977e-01]] 0719_0925\n",
      "15 [[167.31568422 -37.95647785]] [[ 9.99999933e-01 -3.66392022e-04]\n",
      " [ 3.66392022e-04  9.99999933e-01]] 0719_1325\n",
      "16 [[163.89773594  59.15098468]] [[ 9.99999975e-01  2.24681327e-04]\n",
      " [-2.24681327e-04  9.99999975e-01]] 0719_1725\n",
      "17 [[-1.47500985e+02 -1.03521012e-01]] [[ 9.99999986e-01 -1.64682596e-04]\n",
      " [ 1.64682596e-04  9.99999986e-01]] 0719_2125\n",
      "18 [[30.43741136 38.26893905]] [[ 9.99999955e-01  3.00126399e-04]\n",
      " [-3.00126399e-04  9.99999955e-01]] 0720_0125\n",
      "19 [[ 17.55045942 -16.20671322]] [[ 9.99999987e-01 -1.59864356e-04]\n",
      " [ 1.59864356e-04  9.99999987e-01]] 0720_0525\n",
      "20 [[-3786.70690899  3884.95989254]] [[ 0.99928864  0.03771231]\n",
      " [-0.03771231  0.99928864]] 0720_1220\n",
      "21 [[122.97983795   1.2851863 ]] [[ 9.99999994e-01 -1.11097158e-04]\n",
      " [ 1.11097158e-04  9.99999994e-01]] 0720_1658\n",
      "22 [[-15.60925409  -2.74753355]] [[ 9.99999976e-01 -2.18795424e-04]\n",
      " [ 2.18795424e-04  9.99999976e-01]] 0720_2020\n",
      "23 [[ -9.73692331 -23.53573421]] [[ 9.99999991e-01  1.36156883e-04]\n",
      " [-1.36156883e-04  9.99999991e-01]] 0721_0020\n",
      "24 [[17.81092181 19.54832844]] [[ 9.99999969e-01  2.49089443e-04]\n",
      " [-2.49089443e-04  9.99999969e-01]] 0721_0420\n"
     ]
    }
   ],
   "source": [
    "for i,(x,y) in enumerate (zip(ts,Rs)):\n",
    "    print(i,x,y,dates[i])"
   ]
  },
  {
   "cell_type": "code",
   "execution_count": 28,
   "metadata": {},
   "outputs": [
    {
     "ename": "OSError",
     "evalue": "The file /scratch/shared/mrozemul/Fiji.app/20200714_1415_Plate09/Analysis/skeleton.mat does not exist.",
     "output_type": "error",
     "traceback": [
      "\u001b[0;31m---------------------------------------------------------------------------\u001b[0m",
      "\u001b[0;31mOSError\u001b[0m                                   Traceback (most recent call last)",
      "\u001b[0;32m<ipython-input-28-b051f243acbf>\u001b[0m in \u001b[0;36m<module>\u001b[0;34m()\u001b[0m\n\u001b[1;32m     15\u001b[0m     \u001b[0mdirectory_name\u001b[0m\u001b[0;34m=\u001b[0m\u001b[0;34mf'2020{date}_Plate{0 if plate<10 else \"\"}{plate}'\u001b[0m\u001b[0;34m\u001b[0m\u001b[0;34m\u001b[0m\u001b[0m\n\u001b[1;32m     16\u001b[0m     \u001b[0mpath_snap\u001b[0m\u001b[0;34m=\u001b[0m\u001b[0;34m'/scratch/shared/mrozemul/Fiji.app/'\u001b[0m\u001b[0;34m+\u001b[0m\u001b[0mdirectory_name\u001b[0m\u001b[0;34m\u001b[0m\u001b[0;34m\u001b[0m\u001b[0m\n\u001b[0;32m---> 17\u001b[0;31m     \u001b[0mskel_info\u001b[0m \u001b[0;34m=\u001b[0m \u001b[0mread_mat\u001b[0m\u001b[0;34m(\u001b[0m\u001b[0mpath_snap\u001b[0m\u001b[0;34m+\u001b[0m\u001b[0;34m'/Analysis/skeleton.mat'\u001b[0m\u001b[0;34m)\u001b[0m\u001b[0;34m\u001b[0m\u001b[0;34m\u001b[0m\u001b[0m\n\u001b[0m\u001b[1;32m     18\u001b[0m     \u001b[0mskel\u001b[0m \u001b[0;34m=\u001b[0m \u001b[0mskel_info\u001b[0m\u001b[0;34m[\u001b[0m\u001b[0;34m'skeleton'\u001b[0m\u001b[0;34m]\u001b[0m\u001b[0;34m\u001b[0m\u001b[0;34m\u001b[0m\u001b[0m\n\u001b[1;32m     19\u001b[0m     \u001b[0mskels\u001b[0m\u001b[0;34m.\u001b[0m\u001b[0mappend\u001b[0m\u001b[0;34m(\u001b[0m\u001b[0mskel\u001b[0m\u001b[0;34m)\u001b[0m\u001b[0;34m\u001b[0m\u001b[0;34m\u001b[0m\u001b[0m\n",
      "\u001b[0;32m/home/mrozemul/anaconda3/envs/extract_skel/lib/python3.7/site-packages/pymatreader/pymatreader.py\u001b[0m in \u001b[0;36mread_mat\u001b[0;34m(filename, variable_names, ignore_fields, uint16_codec)\u001b[0m\n\u001b[1;32m     74\u001b[0m \u001b[0;34m\u001b[0m\u001b[0m\n\u001b[1;32m     75\u001b[0m     \u001b[0;32mif\u001b[0m \u001b[0;32mnot\u001b[0m \u001b[0mos\u001b[0m\u001b[0;34m.\u001b[0m\u001b[0mpath\u001b[0m\u001b[0;34m.\u001b[0m\u001b[0mexists\u001b[0m\u001b[0;34m(\u001b[0m\u001b[0mfilename\u001b[0m\u001b[0;34m)\u001b[0m\u001b[0;34m:\u001b[0m\u001b[0;34m\u001b[0m\u001b[0;34m\u001b[0m\u001b[0m\n\u001b[0;32m---> 76\u001b[0;31m         \u001b[0;32mraise\u001b[0m \u001b[0mIOError\u001b[0m\u001b[0;34m(\u001b[0m\u001b[0;34m'The file %s does not exist.'\u001b[0m \u001b[0;34m%\u001b[0m \u001b[0;34m(\u001b[0m\u001b[0mfilename\u001b[0m\u001b[0;34m,\u001b[0m\u001b[0;34m)\u001b[0m\u001b[0;34m)\u001b[0m\u001b[0;34m\u001b[0m\u001b[0;34m\u001b[0m\u001b[0m\n\u001b[0m\u001b[1;32m     77\u001b[0m \u001b[0;34m\u001b[0m\u001b[0m\n\u001b[1;32m     78\u001b[0m     \u001b[0;32mif\u001b[0m \u001b[0mignore_fields\u001b[0m \u001b[0;32mis\u001b[0m \u001b[0;32mNone\u001b[0m\u001b[0;34m:\u001b[0m\u001b[0;34m\u001b[0m\u001b[0;34m\u001b[0m\u001b[0m\n",
      "\u001b[0;31mOSError\u001b[0m: The file /scratch/shared/mrozemul/Fiji.app/20200714_1415_Plate09/Analysis/skeleton.mat does not exist."
     ]
    }
   ],
   "source": [
    "plate = 9\n",
    "directory = \"/scratch/shared/mrozemul/Fiji.app/\" \n",
    "listdir=os.listdir(directory) \n",
    "list_dir_interest=[name for name in listdir if name.split('_')[-1]==f'Plate{0 if plate<10 else \"\"}{plate}']\n",
    "ss=[name.split('_')[0] for name in list_dir_interest]\n",
    "ff=[name.split('_')[1] for name in list_dir_interest]\n",
    "dates_datetime=[datetime(year=int(ss[i][:4]),month=int(ss[i][4:6]),day=int(ss[i][6:8]),hour=int(ff[i][0:2]),minute=int(ff[i][2:4])) for i in range(len(list_dir_interest))]\n",
    "dates_datetime.sort()\n",
    "dates_datetime_chosen=dates_datetime[0:12]\n",
    "dates = [f'{0 if date.month<10 else \"\"}{date.month}{0 if date.day<10 else \"\"}{date.day}_{0 if date.hour<10 else \"\"}{date.hour}{0 if date.minute<10 else \"\"}{date.minute}' for date in dates_datetime_chosen]\n",
    "dilateds=[]\n",
    "skels = []\n",
    "skel_docs = []\n",
    "for date in dates:\n",
    "    directory_name=f'2020{date}_Plate{0 if plate<10 else \"\"}{plate}'\n",
    "    path_snap='/scratch/shared/mrozemul/Fiji.app/'+directory_name\n",
    "    skel_info = read_mat(path_snap+'/Analysis/skeleton.mat')\n",
    "    skel = skel_info['skeleton']\n",
    "    skels.append(skel)\n",
    "    skel_doc = sparse_to_doc(skel)\n",
    "    skel_docs.append(skel_doc)\n",
    "# for j in range(8): \n",
    "#     skeleton1,skeleton2 = skel_docs[j],skel_docs[j+1]\n"
   ]
  },
  {
   "cell_type": "code",
   "execution_count": 25,
   "metadata": {},
   "outputs": [
    {
     "data": {
      "text/plain": [
       "[datetime.datetime(2020, 7, 16, 11, 34), datetime.datetime(2020, 7, 18, 9, 25)]"
      ]
     },
     "execution_count": 25,
     "metadata": {},
     "output_type": "execute_result"
    }
   ],
   "source": [
    "dates_datetime_chosen"
   ]
  },
  {
   "cell_type": "code",
   "execution_count": 11,
   "metadata": {},
   "outputs": [
    {
     "data": {
      "text/plain": [
       "13430.87"
      ]
     },
     "execution_count": 11,
     "metadata": {},
     "output_type": "execute_result"
    }
   ],
   "source": [
    "len(skeleton2.keys())/100"
   ]
  },
  {
   "cell_type": "code",
   "execution_count": 13,
   "metadata": {},
   "outputs": [],
   "source": [
    "# skelet_pos = np.array(list(skeleton1.keys()))\n",
    "# samples = np.random.choice(skelet_pos.shape[0],len(skeleton2.keys())//100)\n",
    "# X = np.transpose(skelet_pos[samples,:])\n",
    "# skelet_pos = np.array(list(skeleton2.keys()))\n",
    "# samples = np.random.choice(skelet_pos.shape[0],len(skeleton2.keys())//100)\n",
    "# Y = np.transpose(skelet_pos[samples,:])"
   ]
  },
  {
   "cell_type": "code",
   "execution_count": 17,
   "metadata": {},
   "outputs": [],
   "source": [
    "factor = 10\n",
    "shape=skels[0].shape\n",
    "final_picture = np.zeros(shape=(shape[0]//factor,shape[1]//factor))\n",
    "for pixel in skeleton1.keys():\n",
    "    x=pixel[0]//factor\n",
    "    y=pixel[1]//factor\n",
    "    final_picture[x,y]+=1\n",
    "skelet_posX = np.transpose(np.array(final_picture.nonzero()))\n",
    "final_picture = np.zeros(shape=(shape[0]//factor,shape[1]//factor))\n",
    "for pixel in skeleton2.keys():\n",
    "    x=pixel[0]//factor\n",
    "    y=pixel[1]//factor\n",
    "    final_picture[x,y]+=1\n",
    "skelet_posY = np.transpose(np.array(final_picture.nonzero()))\n",
    "samples = np.random.choice(skelet_posX.shape[0],len(skeleton2.keys())//(100*factor))\n",
    "X = np.transpose(skelet_posX[samples,:])\n",
    "samples = np.random.choice(skelet_posY.shape[0],len(skeleton2.keys())//(100*factor))\n",
    "Y = np.transpose(skelet_posY[samples,:])"
   ]
  },
  {
   "cell_type": "code",
   "execution_count": 19,
   "metadata": {},
   "outputs": [
    {
     "data": {
      "text/plain": [
       "1343"
      ]
     },
     "execution_count": 19,
     "metadata": {},
     "output_type": "execute_result"
    }
   ],
   "source": [
    "len(skeleton2.keys())//(100*factor)"
   ]
  },
  {
   "cell_type": "code",
   "execution_count": 18,
   "metadata": {},
   "outputs": [
    {
     "data": {
      "application/vnd.jupyter.widget-view+json": {
       "model_id": "eeb33b4eaedf4ea8a741f09fbf44a484",
       "version_major": 2,
       "version_minor": 0
      },
      "text/plain": [
       "Canvas(toolbar=Toolbar(toolitems=[('Home', 'Reset original view', 'home', 'home'), ('Back', 'Back to previous …"
      ]
     },
     "metadata": {},
     "output_type": "display_data"
    },
    {
     "data": {
      "text/plain": [
       "<matplotlib.collections.PathCollection at 0x2b8f4088cd50>"
      ]
     },
     "execution_count": 18,
     "metadata": {},
     "output_type": "execute_result"
    }
   ],
   "source": [
    "fig=plt.figure(figsize=(10,9))\n",
    "ax = fig.add_subplot(111)\n",
    "ax.scatter(X[0,:],X[1,:])\n",
    "ax.scatter(Y[0,:],Y[1,:])"
   ]
  },
  {
   "cell_type": "code",
   "execution_count": 15,
   "metadata": {},
   "outputs": [
    {
     "name": "stdout",
     "output_type": "stream",
     "text": [
      "Iteration:1\n",
      "ML:123648.739; \tML change (error):123648.739; \tSigma^2:25057519.865; \tSigma^2 change:49417356.085\n",
      "[                                                                        ]\n",
      "Iteration:2\n",
      "ML:114967.883; \tML change (error):  8680.857; \tSigma^2:15019372.376; \tSigma^2 change:10038147.489\n",
      "[=                                                                       ]\n",
      "Iteration:3\n",
      "ML:112493.617; \tML change (error):  2474.265; \tSigma^2:10451663.675; \tSigma^2 change:4567708.701\n",
      "[==                                                                      ]\n",
      "Iteration:4\n",
      "ML:111106.969; \tML change (error):  1386.649; \tSigma^2:7734724.031; \tSigma^2 change:2716939.644\n",
      "[==                                                                      ]\n",
      "Iteration:5\n",
      "ML:110101.785; \tML change (error):  1005.184; \tSigma^2:5921703.400; \tSigma^2 change:1813020.631\n",
      "[===                                                                     ]\n",
      "Iteration:6\n",
      "ML:109290.723; \tML change (error):   811.062; \tSigma^2:4643206.033; \tSigma^2 change:1278497.367\n",
      "[====                                                                    ]\n",
      "Iteration:7\n",
      "ML:108608.791; \tML change (error):   681.932; \tSigma^2:3713543.904; \tSigma^2 change:929662.129\n",
      "[=====                                                                   ]\n",
      "Iteration:8\n",
      "ML:108027.573; \tML change (error):   581.218; \tSigma^2:3022604.290; \tSigma^2 change:690939.614\n",
      "[=====                                                                   ]\n",
      "Iteration:9\n",
      "ML:107529.703; \tML change (error):   497.869; \tSigma^2:2499395.146; \tSigma^2 change:523209.144\n",
      "[======                                                                  ]\n",
      "Iteration:10\n",
      "ML:107101.795; \tML change (error):   427.908; \tSigma^2:2096422.923; \tSigma^2 change:402972.223\n",
      "[=======                                                                 ]\n",
      "Iteration:11\n",
      "ML:106732.799; \tML change (error):   368.996; \tSigma^2:1781188.717; \tSigma^2 change:315234.207\n",
      "[=======                                                                 ]\n",
      "Iteration:12\n",
      "ML:106413.476; \tML change (error):   319.324; \tSigma^2:1531024.843; \tSigma^2 change:250163.874\n",
      "[========                                                                ]\n",
      "Iteration:13\n",
      "ML:106136.065; \tML change (error):   277.411; \tSigma^2:1329838.093; \tSigma^2 change:201186.750\n",
      "[=========                                                               ]\n",
      "Iteration:14\n",
      "ML:105894.027; \tML change (error):   242.037; \tSigma^2:1166017.085; \tSigma^2 change:163821.008\n",
      "[==========                                                              ]\n",
      "Iteration:15\n",
      "ML:105681.852; \tML change (error):   212.176; \tSigma^2:1031065.682; \tSigma^2 change:134951.402\n",
      "[==========                                                              ]\n",
      "Iteration:16\n",
      "ML:105494.916; \tML change (error):   186.936; \tSigma^2:918698.252; \tSigma^2 change:112367.430\n",
      "[===========                                                             ]\n",
      "Iteration:17\n",
      "ML:105329.408; \tML change (error):   165.508; \tSigma^2:824233.300; \tSigma^2 change: 94464.952\n",
      "[============                                                            ]\n",
      "Iteration:18\n",
      "ML:105182.287; \tML change (error):   147.121; \tSigma^2:744163.169; \tSigma^2 change: 80070.131\n",
      "[============                                                            ]\n",
      "Iteration:19\n",
      "ML:105051.191; \tML change (error):   131.095; \tSigma^2:675822.982; \tSigma^2 change: 68340.187\n",
      "[=============                                                           ]\n",
      "Iteration:20\n",
      "ML:104934.267; \tML change (error):   116.925; \tSigma^2:617146.004; \tSigma^2 change: 58676.978\n",
      "[==============                                                          ]\n",
      "Iteration:21\n",
      "ML:104829.987; \tML change (error):   104.280; \tSigma^2:566500.498; \tSigma^2 change: 50645.507\n",
      "[===============                                                         ]\n",
      "Iteration:22\n",
      "ML:104737.048; \tML change (error):    92.939; \tSigma^2:522582.044; \tSigma^2 change: 43918.453\n",
      "[===============                                                         ]\n",
      "Iteration:23\n",
      "ML:104654.311; \tML change (error):    82.737; \tSigma^2:484337.695; \tSigma^2 change: 38244.349\n",
      "[================                                                        ]\n",
      "Iteration:24\n",
      "ML:104580.770; \tML change (error):    73.541; \tSigma^2:450909.820; \tSigma^2 change: 33427.875\n",
      "[=================                                                       ]\n",
      "Iteration:25\n",
      "ML:104515.525; \tML change (error):    65.245; \tSigma^2:421593.834; \tSigma^2 change: 29315.986\n",
      "[==================                                                      ]\n",
      "Iteration:26\n",
      "ML:104457.763; \tML change (error):    57.762; \tSigma^2:395806.197; \tSigma^2 change: 25787.637\n",
      "[==================                                                      ]\n",
      "Iteration:27\n",
      "ML:104406.746; \tML change (error):    51.017; \tSigma^2:373060.052; \tSigma^2 change: 22746.145\n",
      "[===================                                                     ]\n",
      "Iteration:28\n",
      "ML:104361.798; \tML change (error):    44.948; \tSigma^2:352946.512; \tSigma^2 change: 20113.540\n",
      "[====================                                                    ]\n",
      "Iteration:29\n",
      "ML:104322.300; \tML change (error):    39.498; \tSigma^2:335120.137; \tSigma^2 change: 17826.374\n",
      "[====================                                                    ]\n",
      "Iteration:30\n",
      "ML:104287.682; \tML change (error):    34.618; \tSigma^2:319287.547; \tSigma^2 change: 15832.590\n",
      "[=====================                                                   ]\n",
      "Iteration:31\n",
      "ML:104257.422; \tML change (error):    30.260; \tSigma^2:305198.381; \tSigma^2 change: 14089.166\n",
      "[======================                                                  ]\n",
      "Iteration:32\n",
      "ML:104231.041; \tML change (error):    26.381; \tSigma^2:292638.068; \tSigma^2 change: 12560.312\n",
      "[=======================                                                 ]\n",
      "Iteration:33\n",
      "ML:104208.100; \tML change (error):    22.941; \tSigma^2:281421.989; \tSigma^2 change: 11216.079\n",
      "[=======================                                                 ]\n",
      "Iteration:34\n",
      "ML:104188.201; \tML change (error):    19.899; \tSigma^2:271390.715; \tSigma^2 change: 10031.274\n",
      "[========================                                                ]\n",
      "Iteration:35\n",
      "ML:104170.983; \tML change (error):    17.219; \tSigma^2:262406.115; \tSigma^2 change:  8984.600\n",
      "[=========================                                               ]\n",
      "Iteration:36\n",
      "ML:104156.118; \tML change (error):    14.865; \tSigma^2:254348.133; \tSigma^2 change:  8057.981\n",
      "[=========================                                               ]\n",
      "Iteration:37\n",
      "ML:104143.313; \tML change (error):    12.805; \tSigma^2:247112.127; \tSigma^2 change:  7236.006\n",
      "[==========================                                              ]\n",
      "Iteration:38\n",
      "ML:104132.305; \tML change (error):    11.008; \tSigma^2:240606.634; \tSigma^2 change:  6505.494\n",
      "[===========================                                             ]\n",
      "Iteration:39\n",
      "ML:104122.861; \tML change (error):     9.444; \tSigma^2:234751.508; \tSigma^2 change:  5855.125\n",
      "[============================                                            ]\n",
      "Iteration:40\n",
      "ML:104114.773; \tML change (error):     8.088; \tSigma^2:229476.353; \tSigma^2 change:  5275.155\n",
      "[============================                                            ]\n",
      "Iteration:41\n",
      "ML:104107.858; \tML change (error):     6.915; \tSigma^2:224719.192; \tSigma^2 change:  4757.162\n",
      "[=============================                                           ]\n",
      "Iteration:42\n",
      "ML:104101.956; \tML change (error):     5.902; \tSigma^2:220425.341; \tSigma^2 change:  4293.851\n",
      "[==============================                                          ]\n",
      "Iteration:43\n",
      "ML:104096.925; \tML change (error):     5.031; \tSigma^2:216546.457; \tSigma^2 change:  3878.884\n",
      "[==============================                                          ]\n",
      "Iteration:44\n",
      "ML:104092.642; \tML change (error):     4.283; \tSigma^2:213039.714; \tSigma^2 change:  3506.743\n",
      "[===============================                                         ]\n",
      "Iteration:45\n",
      "ML:104089.001; \tML change (error):     3.641; \tSigma^2:209867.109; \tSigma^2 change:  3172.605\n",
      "[================================                                        ]\n",
      "Iteration:46\n",
      "ML:104085.909; \tML change (error):     3.092; \tSigma^2:206994.857; \tSigma^2 change:  2872.253\n",
      "[=================================                                       ]\n",
      "Iteration:47\n",
      "ML:104083.285; \tML change (error):     2.624; \tSigma^2:204392.872; \tSigma^2 change:  2601.984\n",
      "[=================================                                       ]\n",
      "Iteration:48\n",
      "ML:104081.061; \tML change (error):     2.224; \tSigma^2:202034.326; \tSigma^2 change:  2358.547\n",
      "[==================================                                      ]\n",
      "Iteration:49\n",
      "ML:104079.178; \tML change (error):     1.883; \tSigma^2:199895.253; \tSigma^2 change:  2139.072\n",
      "[===================================                                     ]\n",
      "Iteration:50\n",
      "ML:104077.584; \tML change (error):     1.594; \tSigma^2:197954.222; \tSigma^2 change:  1941.031\n",
      "[====================================                                    ]\n",
      "Iteration:51\n",
      "ML:104076.236; \tML change (error):     1.348; \tSigma^2:196192.038; \tSigma^2 change:  1762.184\n",
      "[====================================                                    ]\n",
      "Iteration:52\n",
      "ML:104075.096; \tML change (error):     1.140; \tSigma^2:194591.489; \tSigma^2 change:  1600.549\n",
      "[=====================================                                   ]\n",
      "Iteration:53\n",
      "ML:104074.133; \tML change (error):     0.963; \tSigma^2:193137.125; \tSigma^2 change:  1454.364\n",
      "[======================================                                  ]\n",
      "Iteration:54\n",
      "ML:104073.320; \tML change (error):     0.813; \tSigma^2:191815.061; \tSigma^2 change:  1322.065\n",
      "[======================================                                  ]\n",
      "Iteration:55\n",
      "ML:104072.634; \tML change (error):     0.686; \tSigma^2:190612.804; \tSigma^2 change:  1202.257\n",
      "[=======================================                                 ]\n",
      "Iteration:56\n",
      "ML:104072.055; \tML change (error):     0.579; \tSigma^2:189519.106; \tSigma^2 change:  1093.698\n",
      "[========================================                                ]\n",
      "Iteration:57\n",
      "ML:104071.566; \tML change (error):     0.489; \tSigma^2:188523.828; \tSigma^2 change:   995.278\n",
      "[=========================================                               ]\n",
      "Iteration:58\n",
      "ML:104071.154; \tML change (error):     0.412; \tSigma^2:187617.825; \tSigma^2 change:   906.003\n",
      "[=========================================                               ]\n",
      "Iteration:59\n",
      "ML:104070.807; \tML change (error):     0.347; \tSigma^2:186792.841; \tSigma^2 change:   824.984\n",
      "[==========================================                              ]\n",
      "Iteration:60\n",
      "ML:104070.514; \tML change (error):     0.293; \tSigma^2:186041.415; \tSigma^2 change:   751.426\n",
      "[===========================================                             ]\n",
      "Iteration:61\n",
      "ML:104070.267; \tML change (error):     0.247; \tSigma^2:185356.804; \tSigma^2 change:   684.611\n",
      "[===========================================                             ]\n",
      "Iteration:62\n",
      "ML:104070.059; \tML change (error):     0.208; \tSigma^2:184732.906; \tSigma^2 change:   623.898\n",
      "[============================================                            ]\n",
      "Iteration:63\n",
      "ML:104069.884; \tML change (error):     0.175; \tSigma^2:184164.198; \tSigma^2 change:   568.708\n",
      "[=============================================                           ]\n",
      "Iteration:64\n",
      "ML:104069.736; \tML change (error):     0.148; \tSigma^2:183645.677; \tSigma^2 change:   518.521\n",
      "[==============================================                          ]\n",
      "Iteration:65\n",
      "ML:104069.612; \tML change (error):     0.124; \tSigma^2:183172.809; \tSigma^2 change:   472.868\n",
      "[==============================================                          ]\n",
      "Iteration:66\n",
      "ML:104069.507; \tML change (error):     0.105; \tSigma^2:182741.483; \tSigma^2 change:   431.326\n",
      "[===============================================                         ]\n",
      "Iteration:67\n",
      "ML:104069.418; \tML change (error):     0.088; \tSigma^2:182347.970; \tSigma^2 change:   393.513\n",
      "[================================================                        ]\n",
      "Iteration:68\n",
      "ML:104069.344; \tML change (error):     0.074; \tSigma^2:181988.884; \tSigma^2 change:   359.086\n",
      "[================================================                        ]\n",
      "Iteration:69\n",
      "ML:104069.281; \tML change (error):     0.063; \tSigma^2:181661.153; \tSigma^2 change:   327.731\n",
      "[=================================================                       ]\n",
      "Iteration:70\n",
      "ML:104069.228; \tML change (error):     0.053; \tSigma^2:181361.985; \tSigma^2 change:   299.168\n",
      "[==================================================                      ]\n",
      "Iteration:71\n",
      "ML:104069.184; \tML change (error):     0.045; \tSigma^2:181088.844; \tSigma^2 change:   273.142\n",
      "[===================================================                     ]\n",
      "Iteration:72\n",
      "ML:104069.146; \tML change (error):     0.038; \tSigma^2:180839.423; \tSigma^2 change:   249.421\n",
      "[===================================================                     ]\n",
      "Iteration:73\n",
      "ML:104069.114; \tML change (error):     0.032; \tSigma^2:180611.626; \tSigma^2 change:   227.796\n",
      "[====================================================                    ]\n",
      "Iteration:74\n",
      "ML:104069.088; \tML change (error):     0.027; \tSigma^2:180403.547; \tSigma^2 change:   208.079\n",
      "[=====================================================                   ]\n",
      "Iteration:75\n",
      "ML:104069.065; \tML change (error):     0.022; \tSigma^2:180213.450; \tSigma^2 change:   190.097\n",
      "[======================================================                  ]\n",
      "Iteration:76\n",
      "ML:104069.046; \tML change (error):     0.019; \tSigma^2:180039.756; \tSigma^2 change:   173.694\n",
      "[======================================================                  ]\n",
      "Iteration:77\n",
      "ML:104069.030; \tML change (error):     0.016; \tSigma^2:179881.027; \tSigma^2 change:   158.729\n",
      "[=======================================================                 ]\n",
      "Iteration:78\n",
      "ML:104069.017; \tML change (error):     0.013; \tSigma^2:179735.954; \tSigma^2 change:   145.073\n",
      "[========================================================                ]\n",
      "Iteration:79\n",
      "ML:104069.006; \tML change (error):     0.011; \tSigma^2:179603.345; \tSigma^2 change:   132.609\n",
      "[========================================================                ]\n",
      "Iteration:80\n",
      "ML:104068.996; \tML change (error):     0.010; \tSigma^2:179482.113; \tSigma^2 change:   121.232\n",
      "[=========================================================               ]\n",
      "Iteration:81\n",
      "ML:104068.988; \tML change (error):     0.008; \tSigma^2:179371.268; \tSigma^2 change:   110.845\n",
      "[==========================================================              ]\n",
      "Iteration:82\n",
      "ML:104068.981; \tML change (error):     0.007; \tSigma^2:179269.908; \tSigma^2 change:   101.360\n",
      "[===========================================================             ]\n",
      "Iteration:83\n",
      "ML:104068.976; \tML change (error):     0.006; \tSigma^2:179177.211; \tSigma^2 change:    92.697\n",
      "[===========================================================             ]\n",
      "Iteration:84\n",
      "ML:104068.971; \tML change (error):     0.005; \tSigma^2:179092.426; \tSigma^2 change:    84.785\n",
      "[============================================================            ]\n",
      "Iteration:85\n",
      "ML:104068.967; \tML change (error):     0.004; \tSigma^2:179014.869; \tSigma^2 change:    77.557\n",
      "[=============================================================           ]\n",
      "Iteration:86\n",
      "ML:104068.963; \tML change (error):     0.003; \tSigma^2:178943.916; \tSigma^2 change:    70.953\n",
      "[=============================================================           ]\n",
      "Iteration:87\n",
      "ML:104068.960; \tML change (error):     0.003; \tSigma^2:178878.999; \tSigma^2 change:    64.918\n",
      "[==============================================================          ]\n",
      "Iteration:88\n",
      "ML:104068.958; \tML change (error):     0.002; \tSigma^2:178819.596; \tSigma^2 change:    59.402\n",
      "[===============================================================         ]\n",
      "Iteration:89\n",
      "ML:104068.956; \tML change (error):     0.002; \tSigma^2:178765.235; \tSigma^2 change:    54.361\n",
      "[================================================================        ]\n",
      "Iteration:90\n",
      "ML:104068.954; \tML change (error):     0.002; \tSigma^2:178715.483; \tSigma^2 change:    49.753\n",
      "[================================================================        ]\n",
      "Iteration:91\n",
      "ML:104068.953; \tML change (error):     0.001; \tSigma^2:178669.944; \tSigma^2 change:    45.539\n",
      "[=================================================================       ]\n",
      "Iteration:92\n",
      "ML:104068.951; \tML change (error):     0.001; \tSigma^2:178628.257; \tSigma^2 change:    41.687\n",
      "[==================================================================      ]\n",
      "Iteration:93\n",
      "ML:104068.950; \tML change (error):     0.001; \tSigma^2:178590.093; \tSigma^2 change:    38.164\n",
      "[==================================================================      ]\n",
      "Iteration:94\n",
      "ML:104068.949; \tML change (error):     0.001; \tSigma^2:178555.152; \tSigma^2 change:    34.941\n",
      "[===================================================================     ]\n",
      "Iteration:95\n",
      "ML:104068.949; \tML change (error):     0.001; \tSigma^2:178523.158; \tSigma^2 change:    31.994\n",
      "[====================================================================    ]\n",
      "Iteration:96\n",
      "ML:104068.948; \tML change (error):     0.001; \tSigma^2:178493.860; \tSigma^2 change:    29.298\n",
      "[=====================================================================   ]\n",
      "Iteration:97\n",
      "ML:104068.948; \tML change (error):     0.001; \tSigma^2:178467.028; \tSigma^2 change:    26.831\n",
      "[=====================================================================   ]\n",
      "Iteration:98\n",
      "ML:104068.947; \tML change (error):     0.000; \tSigma^2:178442.454; \tSigma^2 change:    24.575\n",
      "[======================================================================  ]\n",
      "Iteration:99\n",
      "ML:104068.947; \tML change (error):     0.000; \tSigma^2:178419.944; \tSigma^2 change:    22.509\n",
      "[======================================================================= ]\n",
      "Iteration:100\n",
      "ML:104068.946; \tML change (error):     0.000; \tSigma^2:178399.325; \tSigma^2 change:    20.619\n",
      "[========================================================================]\n",
      "========================================================================\n",
      "Registration Performance Metrics\n",
      "========================================================================\n",
      "Time to initialize EM: 0.45622706413269043\n",
      "Time to initialize registration: 3.4332275390625e-05\n",
      "Average Expectation Time:                    7.6583 +/- 0.2862\n",
      "Average Maximization Time:                   0.0016 +/- 0.0005\n",
      "Maximization Times - Per individual step\n",
      "Average Update Transform Time:               0.0008 +/- 0.0004\n",
      "Average Transform Time:                      0.0003 +/- 0.0001\n",
      "Average Update Variance Time:                0.0004 +/- 0.0001\n",
      "\n",
      "Number of iterations performed:          100\n",
      "Error at time of finish:                 0.00031799147836863995\n"
     ]
    }
   ],
   "source": [
    "reg = rigid_registration(**{'X': np.transpose(X.astype(float)), 'Y': np.transpose(Y.astype(float)),'scale': False})\n",
    "out = reg.register()\n",
    "Rfound = reg.R[0:2,0:2]\n",
    "tfound= np.dot(Rfound,reg.t[0:2])"
   ]
  },
  {
   "cell_type": "code",
   "execution_count": 16,
   "metadata": {},
   "outputs": [
    {
     "data": {
      "application/vnd.jupyter.widget-view+json": {
       "model_id": "80f4ad878c07462fbdf666a56e3ef5af",
       "version_major": 2,
       "version_minor": 0
      },
      "text/plain": [
       "Canvas(toolbar=Toolbar(toolitems=[('Home', 'Reset original view', 'home', 'home'), ('Back', 'Back to previous …"
      ]
     },
     "metadata": {},
     "output_type": "display_data"
    },
    {
     "data": {
      "text/plain": [
       "<matplotlib.collections.PathCollection at 0x2b8f4082a5d0>"
      ]
     },
     "execution_count": 16,
     "metadata": {},
     "output_type": "execute_result"
    }
   ],
   "source": [
    "fig=plt.figure(figsize=(10,9))\n",
    "ax = fig.add_subplot(111)\n",
    "Yrep=np.transpose(np.transpose(np.dot(Rfound,np.transpose(np.transpose(X))))-tfound)\n",
    "ax.scatter(np.transpose(Y)[:,0],np.transpose(Y)[:,1])\n",
    "ax.scatter(np.transpose(Yrep)[:,0],np.transpose(Yrep)[:,1])"
   ]
  },
  {
   "cell_type": "code",
   "execution_count": 22,
   "metadata": {},
   "outputs": [
    {
     "name": "stdout",
     "output_type": "stream",
     "text": [
      "[17118.00202]\n",
      "[19579.561526]\n"
     ]
    },
    {
     "data": {
      "application/vnd.jupyter.widget-view+json": {
       "model_id": "fce4fcf3933e45859353112f2d340dd6",
       "version_major": 2,
       "version_minor": 0
      },
      "text/plain": [
       "Canvas(toolbar=Toolbar(toolitems=[('Home', 'Reset original view', 'home', 'home'), ('Back', 'Back to previous …"
      ]
     },
     "metadata": {},
     "output_type": "display_data"
    },
    {
     "data": {
      "application/vnd.jupyter.widget-view+json": {
       "model_id": "9487ccac8450406095867263a282c2e4",
       "version_major": 2,
       "version_minor": 0
      },
      "text/plain": [
       "Canvas(toolbar=Toolbar(toolitems=[('Home', 'Reset original view', 'home', 'home'), ('Back', 'Back to previous …"
      ]
     },
     "metadata": {},
     "output_type": "display_data"
    },
    {
     "name": "stdout",
     "output_type": "stream",
     "text": [
      "(3, 9002) (3, 9859)\n",
      "registration::RegistrationResult with fitness=9.571206e-01, inlier_rmse=2.850703e+01, and correspondence_set size of 8616\n",
      "Access transformation to get result.\n",
      "[[ 0.99928864  0.03771231]\n",
      " [-0.03771231  0.99928864]] [-3786.70690899  3884.95989254]\n"
     ]
    },
    {
     "data": {
      "application/vnd.jupyter.widget-view+json": {
       "model_id": "35cf7dcb130a4886bc73a639cf82389f",
       "version_major": 2,
       "version_minor": 0
      },
      "text/plain": [
       "Canvas(toolbar=Toolbar(toolitems=[('Home', 'Reset original view', 'home', 'home'), ('Back', 'Back to previous …"
      ]
     },
     "metadata": {},
     "output_type": "display_data"
    },
    {
     "data": {
      "text/plain": [
       "<matplotlib.collections.PathCollection at 0x2b8f44223d90>"
      ]
     },
     "execution_count": 22,
     "metadata": {},
     "output_type": "execute_result"
    }
   ],
   "source": [
    "nx_graph1,pos1 = generate_nx_graph(from_sparse_to_graph(skeleton1))\n",
    "nx_graph2,pos2 = generate_nx_graph(from_sparse_to_graph(skeleton2))\n",
    "pruned1 = prune_graph(nx_graph1)\n",
    "pruned2 = prune_graph(nx_graph2)\n",
    "t_init=-tfound\n",
    "Rot_init= Rfound\n",
    "X = np.transpose(np.array([pos1[node] for node in pruned1 if pruned1.degree(node)==3]))\n",
    "Y = np.transpose(np.array([pos2[node] for node in pruned2 if pruned2.degree(node)==3]))\n",
    "fig=plt.figure(figsize=(10,9))\n",
    "ax = fig.add_subplot(111)\n",
    "ax.scatter(X[0,:],X[1,:])\n",
    "ax.scatter(Y[0,:],Y[1,:])\n",
    "Xex = np.transpose(np.transpose(np.dot(Rot_init,X))+t_init)\n",
    "fig=plt.figure(figsize=(10,9))\n",
    "ax = fig.add_subplot(111)\n",
    "ax.scatter(Xex[0,:],Xex[1,:])\n",
    "ax.scatter(Y[0,:],Y[1,:])\n",
    "X = np.insert(X, 2, values=0, axis=0) \n",
    "Y = np.insert(Y, 2, values=0, axis=0) \n",
    "print(X.shape,Y.shape)\n",
    "vectorX = o3d.utility.Vector3dVector(np.transpose(X))\n",
    "vectorY = o3d.utility.Vector3dVector(np.transpose(Y))\n",
    "source = o3d.geometry.PointCloud(vectorX)\n",
    "target = o3d.geometry.PointCloud(vectorY)\n",
    "threshold = 200\n",
    "trans_init = np.asarray([[Rot_init[0,0], Rot_init[0,1], 0, t_init[0]],\n",
    "                         [Rot_init[1,0], Rot_init[1,1], 0, t_init[1]],\n",
    "                         [0, 0, 1, 0], [0.0, 0.0, 0.0, 1.0]])\n",
    "reg_p2p = o3d.registration.registration_icp(\n",
    "    source, target, threshold, trans_init,\n",
    "    o3d.registration.TransformationEstimationPointToPoint())\n",
    "print(reg_p2p)\n",
    "Rfound = reg_p2p.transformation[0:2,0:2]\n",
    "tfound = reg_p2p.transformation[0:2,3]\n",
    "print(Rfound,tfound)\n",
    "X,Y=X[0:2,:],Y[0:2,:]\n",
    "Yrep=np.transpose(np.transpose(np.dot(Rfound,X))+tfound)\n",
    "fig=plt.figure(figsize=(10,9))\n",
    "ax = fig.add_subplot(111)\n",
    "ax.scatter(np.transpose(Yrep)[:,0],np.transpose(Yrep)[:,1])\n",
    "ax.scatter(np.transpose(Y)[:,0],np.transpose(Y)[:,1])"
   ]
  },
  {
   "cell_type": "code",
   "execution_count": 20,
   "metadata": {},
   "outputs": [],
   "source": [
    "sio.savemat(path_snap+'/Analysis/transform.mat',{'R' : Rfound,'t' : tfound})"
   ]
  }
 ],
 "metadata": {
  "kernelspec": {
   "display_name": "Python 3",
   "language": "python",
   "name": "python3"
  },
  "language_info": {
   "codemirror_mode": {
    "name": "ipython",
    "version": 3
   },
   "file_extension": ".py",
   "mimetype": "text/x-python",
   "name": "python",
   "nbconvert_exporter": "python",
   "pygments_lexer": "ipython3",
   "version": "3.7.8"
  }
 },
 "nbformat": 4,
 "nbformat_minor": 4
}

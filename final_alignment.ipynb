{
 "cells": [
  {
   "cell_type": "code",
   "execution_count": 1,
   "metadata": {},
   "outputs": [],
   "source": [
    "%matplotlib widget\n",
    "from util import get_path\n",
    "import pandas as pd\n",
    "import networkx as nx\n",
    "import numpy as np\n",
    "import matplotlib.pyplot as plt\n",
    "from extract_graph import generate_nx_graph, transform_list, generate_skeleton, generate_nx_graph_from_skeleton, from_connection_tab, from_nx_to_tab\n",
    "from node_id import whole_movement_identification, second_identification\n",
    "import ast\n",
    "from plotutil import plot_t_tp1, compress_skeleton\n",
    "from scipy import sparse\n",
    "from sparse_util import dilate, zhangSuen\n",
    "from realign import realign, realign_final\n",
    "from datetime import datetime,timedelta\n",
    "from node_id import orient\n",
    "import pickle\n",
    "from matplotlib.widgets import CheckButtons\n",
    "import scipy.io as sio\n",
    "import imageio\n",
    "from pymatreader import read_mat\n",
    "from matplotlib import colors\n",
    "from copy import deepcopy,copy\n",
    "from collections import Counter\n",
    "import cv2 \n",
    "import imageio\n",
    "import matplotlib.pyplot as plt\n",
    "import numpy as np\n",
    "from skimage.filters import frangi\n",
    "from skimage.morphology import thin\n",
    "from skimage import data, filters\n",
    "from random import choice\n",
    "import scipy.sparse\n",
    "import os\n",
    "from time import time\n",
    "from extract_graph import dic_to_sparse, from_sparse_to_graph, generate_nx_graph, prune_graph, from_nx_to_tab, from_nx_to_tab_matlab,sparse_to_doc, connections_pixel_list_to_tab, transform_list, clean_degree_4\n",
    "from time import sleep\n",
    "from pycpd import RigidRegistration, DeformableRegistration\n",
    "import open3d as o3d\n",
    "from cycpd import rigid_registration"
   ]
  },
  {
   "cell_type": "code",
   "execution_count": 13,
   "metadata": {},
   "outputs": [
    {
     "name": "stdout",
     "output_type": "stream",
     "text": [
      "Submitted batch job 9365975\n",
      "Submitted batch job 9365976\n",
      "Submitted batch job 9365977\n",
      "Submitted batch job 9365978\n",
      "Submitted batch job 9365979\n",
      "Submitted batch job 9365980\n",
      "Submitted batch job 9365981\n"
     ]
    }
   ],
   "source": [
    "plate = 5\n",
    "for j in range(0,7):\n",
    "    my_file = open(\"/scratch/shared/mrozemul/Fiji.app/align.sh\", \"w\")\n",
    "    my_file.write(\"#!/bin/bash \\n#Set job requirements \\n#SBATCH -N 1 \\n#SBATCH -t 2:00:00\\n#SBATCH -p normal\\n\")\n",
    "    my_file.write(f'for i in `seq {8*j} {8*j+7}`; do\\n')\n",
    "    my_file.write(f'\\t python ~/Corentin/MscThesis/final_alignment.py $i {plate} &\\n')\n",
    "    my_file.write('done\\n')\n",
    "    my_file.write('wait\\n')\n",
    "    my_file.close()\n",
    "# !srun -t 2:00:00 --pty /scratch/shared/mrozemul/Fiji.app/align.sh\n",
    "    !sbatch /scratch/shared/mrozemul/Fiji.app/align.sh"
   ]
  },
  {
   "cell_type": "code",
   "execution_count": 12,
   "metadata": {},
   "outputs": [
    {
     "data": {
      "text/plain": [
       "20"
      ]
     },
     "execution_count": 12,
     "metadata": {},
     "output_type": "execute_result"
    }
   ],
   "source": [
    "plate = 3\n",
    "directory = \"/scratch/shared/mrozemul/Fiji.app/\" \n",
    "listdir=os.listdir(directory) \n",
    "list_dir_interest=[name for name in listdir if name.split('_')[-1]==f'Plate{0 if plate<10 else \"\"}{plate}']\n",
    "len(list_dir_interest)"
   ]
  },
  {
   "cell_type": "code",
   "execution_count": 17,
   "metadata": {},
   "outputs": [
    {
     "data": {
      "text/plain": [
       "[datetime.datetime(2020, 8, 14, 4, 57),\n",
       " datetime.datetime(2020, 8, 14, 8, 57),\n",
       " datetime.datetime(2020, 8, 14, 12, 57),\n",
       " datetime.datetime(2020, 8, 14, 16, 57),\n",
       " datetime.datetime(2020, 8, 14, 20, 57),\n",
       " datetime.datetime(2020, 8, 15, 0, 57),\n",
       " datetime.datetime(2020, 8, 15, 4, 57),\n",
       " datetime.datetime(2020, 8, 15, 8, 57),\n",
       " datetime.datetime(2020, 8, 15, 12, 57),\n",
       " datetime.datetime(2020, 8, 15, 16, 57),\n",
       " datetime.datetime(2020, 8, 15, 20, 57),\n",
       " datetime.datetime(2020, 8, 16, 0, 57),\n",
       " datetime.datetime(2020, 8, 16, 4, 57),\n",
       " datetime.datetime(2020, 8, 16, 8, 57),\n",
       " datetime.datetime(2020, 8, 16, 12, 57),\n",
       " datetime.datetime(2020, 8, 16, 16, 57),\n",
       " datetime.datetime(2020, 8, 16, 20, 57),\n",
       " datetime.datetime(2020, 8, 17, 0, 57),\n",
       " datetime.datetime(2020, 8, 17, 4, 57)]"
      ]
     },
     "execution_count": 17,
     "metadata": {},
     "output_type": "execute_result"
    }
   ],
   "source": [
    "dates_datetime_chosen"
   ]
  },
  {
   "cell_type": "code",
   "execution_count": 16,
   "metadata": {},
   "outputs": [
    {
     "data": {
      "application/vnd.jupyter.widget-view+json": {
       "model_id": "6fdcfd86c2d54f3c8102bf672e494120",
       "version_major": 2,
       "version_minor": 0
      },
      "text/plain": [
       "Canvas(toolbar=Toolbar(toolitems=[('Home', 'Reset original view', 'home', 'home'), ('Back', 'Back to previous …"
      ]
     },
     "metadata": {},
     "output_type": "display_data"
    },
    {
     "data": {
      "application/vnd.jupyter.widget-view+json": {
       "model_id": "271dc5e9fe3d4a328f3a48d788b9bc4d",
       "version_major": 2,
       "version_minor": 0
      },
      "text/plain": [
       "Canvas(toolbar=Toolbar(toolitems=[('Home', 'Reset original view', 'home', 'home'), ('Back', 'Back to previous …"
      ]
     },
     "metadata": {},
     "output_type": "display_data"
    },
    {
     "data": {
      "application/vnd.jupyter.widget-view+json": {
       "model_id": "05e68323df4f4ce1bb60bc768b3d8c91",
       "version_major": 2,
       "version_minor": 0
      },
      "text/plain": [
       "Canvas(toolbar=Toolbar(toolitems=[('Home', 'Reset original view', 'home', 'home'), ('Back', 'Back to previous …"
      ]
     },
     "metadata": {},
     "output_type": "display_data"
    },
    {
     "data": {
      "application/vnd.jupyter.widget-view+json": {
       "model_id": "ed590a123d0f448e9032c85053be4d53",
       "version_major": 2,
       "version_minor": 0
      },
      "text/plain": [
       "Canvas(toolbar=Toolbar(toolitems=[('Home', 'Reset original view', 'home', 'home'), ('Back', 'Back to previous …"
      ]
     },
     "metadata": {},
     "output_type": "display_data"
    },
    {
     "data": {
      "application/vnd.jupyter.widget-view+json": {
       "model_id": "8d9227e892af47ec8a8f75e5e1c79575",
       "version_major": 2,
       "version_minor": 0
      },
      "text/plain": [
       "Canvas(toolbar=Toolbar(toolitems=[('Home', 'Reset original view', 'home', 'home'), ('Back', 'Back to previous …"
      ]
     },
     "metadata": {},
     "output_type": "display_data"
    },
    {
     "data": {
      "application/vnd.jupyter.widget-view+json": {
       "model_id": "3e95903b8eb244f3b9791ba95da19fc6",
       "version_major": 2,
       "version_minor": 0
      },
      "text/plain": [
       "Canvas(toolbar=Toolbar(toolitems=[('Home', 'Reset original view', 'home', 'home'), ('Back', 'Back to previous …"
      ]
     },
     "metadata": {},
     "output_type": "display_data"
    },
    {
     "data": {
      "application/vnd.jupyter.widget-view+json": {
       "model_id": "58420e9945ed4817ad5287fd251066bc",
       "version_major": 2,
       "version_minor": 0
      },
      "text/plain": [
       "Canvas(toolbar=Toolbar(toolitems=[('Home', 'Reset original view', 'home', 'home'), ('Back', 'Back to previous …"
      ]
     },
     "metadata": {},
     "output_type": "display_data"
    },
    {
     "data": {
      "application/vnd.jupyter.widget-view+json": {
       "model_id": "3bfe082880344152a7a34cb999c7610c",
       "version_major": 2,
       "version_minor": 0
      },
      "text/plain": [
       "Canvas(toolbar=Toolbar(toolitems=[('Home', 'Reset original view', 'home', 'home'), ('Back', 'Back to previous …"
      ]
     },
     "metadata": {},
     "output_type": "display_data"
    }
   ],
   "source": [
    "plt.close('all')\n",
    "plate = 11\n",
    "directory = \"/scratch/shared/mrozemul/Fiji.app/\" \n",
    "listdir=os.listdir(directory) \n",
    "list_dir_interest=[name for name in listdir if name.split('_')[-1]==f'Plate{0 if plate<10 else \"\"}{plate}']\n",
    "ss=[name.split('_')[0] for name in list_dir_interest]\n",
    "ff=[name.split('_')[1] for name in list_dir_interest]\n",
    "dates_datetime=[datetime(year=int(ss[i][:4]),month=int(ss[i][4:6]),day=int(ss[i][6:8]),hour=int(ff[i][0:2]),minute=int(ff[i][2:4])) for i in range(len(list_dir_interest))]\n",
    "dates_datetime.sort()\n",
    "dates_datetime_chosen=dates_datetime[1:20]\n",
    "dates = [f'{0 if date.month<10 else \"\"}{date.month}{0 if date.day<10 else \"\"}{date.day}_{0 if date.hour<10 else \"\"}{date.hour}{0 if date.minute<10 else \"\"}{date.minute}' for date in dates_datetime_chosen]\n",
    "dilateds=[]\n",
    "skels = []\n",
    "skel_docs = []\n",
    "Rs=[]\n",
    "ts=[]\n",
    "for date in dates:\n",
    "    directory_name=f'2020{date}_Plate{0 if plate<10 else \"\"}{plate}'\n",
    "    path_snap='/scratch/shared/mrozemul/Fiji.app/'+directory_name\n",
    "    skel_info = read_mat(path_snap+'/Analysis/skeleton.mat')\n",
    "    skel = skel_info['skeleton']\n",
    "    skels.append(skel)\n",
    "    skel_doc = sparse_to_doc(skel)\n",
    "    skel_docs.append(skel_doc)\n",
    "    transform = sio.loadmat(path_snap+'/Analysis/transform.mat')\n",
    "    R,t = transform['R'],transform['t']\n",
    "    Rs.append(R)\n",
    "    ts.append(t)\n",
    "for j in range(11,19): \n",
    "    skeleton1,skeleton2 = skel_docs[j-1],skel_docs[j]\n",
    "    R,t = Rs[j],ts[j]\n",
    "    skelet_pos = np.array(list(skeleton1.keys()))\n",
    "    samples = np.random.choice(skelet_pos.shape[0],20000)\n",
    "    X = np.transpose(skelet_pos[samples,:])\n",
    "    skelet_pos = np.array(list(skeleton2.keys()))\n",
    "    samples = np.random.choice(skelet_pos.shape[0],20000)\n",
    "    Y = np.transpose(skelet_pos[samples,:])\n",
    "    fig=plt.figure(figsize=(10,9))\n",
    "    ax = fig.add_subplot(111)\n",
    "    Yrep=np.transpose(np.transpose(np.dot(R,X))+t)\n",
    "    ax.scatter(np.transpose(Yrep)[:,0],np.transpose(Yrep)[:,1])\n",
    "#     ax.scatter(np.transpose(X)[:,0],np.transpose(X)[:,1])\n",
    "    ax.scatter(np.transpose(Y)[:,0],np.transpose(Y)[:,1])\n"
   ]
  },
  {
   "cell_type": "code",
   "execution_count": 4,
   "metadata": {},
   "outputs": [
    {
     "name": "stdout",
     "output_type": "stream",
     "text": [
      "0 [[-18.81602709   3.21275639]] [[ 9.99999797e-01  6.37328984e-04]\n",
      " [-6.37328984e-04  9.99999797e-01]] 0715_0734\n",
      "1 [[ 14.35258654 -30.76979784]] [[ 9.99999941e-01 -3.43262452e-04]\n",
      " [ 3.43262452e-04  9.99999941e-01]] 0715_1134\n",
      "2 [[13.87952994 36.51369895]] [[ 9.99999914e-01 -4.14264948e-04]\n",
      " [ 4.14264948e-04  9.99999914e-01]] 0715_1534\n",
      "3 [[-36.6249105  -12.83933703]] [[ 0.99999931  0.00117363]\n",
      " [-0.00117363  0.99999931]] 0715_1934\n",
      "4 [[ 3.89138625 33.11108382]] [[ 9.99999767e-01 -6.82361819e-04]\n",
      " [ 6.82361819e-04  9.99999767e-01]] 0715_2334\n",
      "5 [[18.45238354 -1.34930289]] [[ 9.99999978e-01  2.08946349e-04]\n",
      " [-2.08946349e-04  9.99999978e-01]] 0716_0334\n",
      "6 [[-21.09412467 -32.77767644]] [[ 1.00000000e+00  1.67060444e-05]\n",
      " [-1.67060444e-05  1.00000000e+00]] 0716_0734\n",
      "7 [[-15.9600903   20.23312695]] [[ 9.99999897e-01  4.54099873e-04]\n",
      " [-4.54099873e-04  9.99999897e-01]] 0716_1134\n",
      "8 [[ 1774.36936321 -1144.34063749]] [[ 9.99999953e-01 -3.06474866e-04]\n",
      " [ 3.06474866e-04  9.99999953e-01]] 0718_0925\n",
      "9 [[-142.84625689   -4.28074564]] [[ 9.99999935e-01 -3.61496488e-04]\n",
      " [ 3.61496488e-04  9.99999935e-01]] 0718_1325\n",
      "10 [[221.92129046  28.70626556]] [[ 9.99999996e-01  9.29753094e-05]\n",
      " [-9.29753094e-05  9.99999996e-01]] 0718_1725\n",
      "11 [[-247.10450777  -14.01123821]] [[ 9.99999999e-01  3.59316245e-05]\n",
      " [-3.59316245e-05  9.99999999e-01]] 0718_2125\n",
      "12 [[50.89113618 12.169049  ]] [[ 9.99999928e-01  3.78338499e-04]\n",
      " [-3.78338499e-04  9.99999928e-01]] 0719_0125\n",
      "13 [[ 62.6761514  -13.59707612]] [[ 9.99999978e-01 -2.09398841e-04]\n",
      " [ 2.09398841e-04  9.99999978e-01]] 0719_0525\n",
      "14 [[  0.72602007 -22.5949862 ]] [[ 9.99999977e-01  2.16351185e-04]\n",
      " [-2.16351185e-04  9.99999977e-01]] 0719_0925\n",
      "15 [[167.31568422 -37.95647785]] [[ 9.99999933e-01 -3.66392022e-04]\n",
      " [ 3.66392022e-04  9.99999933e-01]] 0719_1325\n",
      "16 [[163.89773594  59.15098468]] [[ 9.99999975e-01  2.24681327e-04]\n",
      " [-2.24681327e-04  9.99999975e-01]] 0719_1725\n",
      "17 [[-1.47500985e+02 -1.03521012e-01]] [[ 9.99999986e-01 -1.64682596e-04]\n",
      " [ 1.64682596e-04  9.99999986e-01]] 0719_2125\n",
      "18 [[30.43741136 38.26893905]] [[ 9.99999955e-01  3.00126399e-04]\n",
      " [-3.00126399e-04  9.99999955e-01]] 0720_0125\n",
      "19 [[ 17.55045942 -16.20671322]] [[ 9.99999987e-01 -1.59864356e-04]\n",
      " [ 1.59864356e-04  9.99999987e-01]] 0720_0525\n",
      "20 [[-3786.70690899  3884.95989254]] [[ 0.99928864  0.03771231]\n",
      " [-0.03771231  0.99928864]] 0720_1220\n",
      "21 [[122.97983795   1.2851863 ]] [[ 9.99999994e-01 -1.11097158e-04]\n",
      " [ 1.11097158e-04  9.99999994e-01]] 0720_1658\n",
      "22 [[-15.60925409  -2.74753355]] [[ 9.99999976e-01 -2.18795424e-04]\n",
      " [ 2.18795424e-04  9.99999976e-01]] 0720_2020\n",
      "23 [[ -9.73692331 -23.53573421]] [[ 9.99999991e-01  1.36156883e-04]\n",
      " [-1.36156883e-04  9.99999991e-01]] 0721_0020\n",
      "24 [[17.81092181 19.54832844]] [[ 9.99999969e-01  2.49089443e-04]\n",
      " [-2.49089443e-04  9.99999969e-01]] 0721_0420\n"
     ]
    }
   ],
   "source": [
    "for i,(x,y) in enumerate (zip(ts,Rs)):\n",
    "    print(i,x,y,dates[i])"
   ]
  },
  {
   "cell_type": "code",
   "execution_count": 12,
   "metadata": {},
   "outputs": [
    {
     "data": {
      "application/vnd.jupyter.widget-view+json": {
       "model_id": "b4a8bf29c9ce42c59051a83606f4ef8b",
       "version_major": 2,
       "version_minor": 0
      },
      "text/plain": [
       "Canvas(toolbar=Toolbar(toolitems=[('Home', 'Reset original view', 'home', 'home'), ('Back', 'Back to previous …"
      ]
     },
     "metadata": {},
     "output_type": "display_data"
    },
    {
     "data": {
      "text/plain": [
       "<matplotlib.collections.PathCollection at 0x2adcc166d090>"
      ]
     },
     "execution_count": 12,
     "metadata": {},
     "output_type": "execute_result"
    }
   ],
   "source": [
    "plt.close('all')\n",
    "plate = 9\n",
    "directory = \"/scratch/shared/mrozemul/Fiji.app/\" \n",
    "listdir=os.listdir(directory) \n",
    "list_dir_interest=[name for name in listdir if name.split('_')[-1]==f'Plate{0 if plate<10 else \"\"}{plate}']\n",
    "ss=[name.split('_')[0] for name in list_dir_interest]\n",
    "ff=[name.split('_')[1] for name in list_dir_interest]\n",
    "dates_datetime=[datetime(year=int(ss[i][:4]),month=int(ss[i][4:6]),day=int(ss[i][6:8]),hour=int(ff[i][0:2]),minute=int(ff[i][2:4])) for i in range(len(list_dir_interest))]\n",
    "dates_datetime.sort()\n",
    "dates_datetime_chosen=dates_datetime[23:28]\n",
    "dates = [f'{0 if date.month<10 else \"\"}{date.month}{0 if date.day<10 else \"\"}{date.day}_{0 if date.hour<10 else \"\"}{date.hour}{0 if date.minute<10 else \"\"}{date.minute}' for date in dates_datetime_chosen]\n",
    "dilateds=[]\n",
    "skels = []\n",
    "skel_docs = []\n",
    "for date in dates:\n",
    "    directory_name=f'2020{date}_Plate{0 if plate<10 else \"\"}{plate}'\n",
    "    path_snap='/scratch/shared/mrozemul/Fiji.app/'+directory_name\n",
    "    skel_info = read_mat(path_snap+'/Analysis/skeleton.mat')\n",
    "    skel = skel_info['skeleton']\n",
    "    skels.append(skel)\n",
    "    skel_doc = sparse_to_doc(skel)\n",
    "    skel_docs.append(skel_doc)\n",
    "for j in range(2): \n",
    "    skeleton1,skeleton2 = skel_docs[j],skel_docs[j+1]\n",
    "skelet_pos = np.array(list(skeleton1.keys()))\n",
    "samples = np.random.choice(skelet_pos.shape[0],len(skeleton2.keys())//100)\n",
    "X = np.transpose(skelet_pos[samples,:])\n",
    "skelet_pos = np.array(list(skeleton2.keys()))\n",
    "samples = np.random.choice(skelet_pos.shape[0],len(skeleton2.keys())//100)\n",
    "Y = np.transpose(skelet_pos[samples,:])\n",
    "fig=plt.figure(figsize=(10,9))\n",
    "ax = fig.add_subplot(111)\n",
    "ax.scatter(X[0,:],X[1,:])\n",
    "ax.scatter(Y[0,:],Y[1,:])"
   ]
  },
  {
   "cell_type": "code",
   "execution_count": 25,
   "metadata": {},
   "outputs": [
    {
     "data": {
      "text/plain": [
       "[datetime.datetime(2020, 7, 16, 11, 34), datetime.datetime(2020, 7, 18, 9, 25)]"
      ]
     },
     "execution_count": 25,
     "metadata": {},
     "output_type": "execute_result"
    }
   ],
   "source": [
    "dates_datetime_chosen"
   ]
  },
  {
   "cell_type": "code",
   "execution_count": 11,
   "metadata": {},
   "outputs": [
    {
     "data": {
      "text/plain": [
       "13430.87"
      ]
     },
     "execution_count": 11,
     "metadata": {},
     "output_type": "execute_result"
    }
   ],
   "source": [
    "len(skeleton2.keys())/100"
   ]
  },
  {
   "cell_type": "code",
   "execution_count": 13,
   "metadata": {},
   "outputs": [],
   "source": [
    "# skelet_pos = np.array(list(skeleton1.keys()))\n",
    "# samples = np.random.choice(skelet_pos.shape[0],len(skeleton2.keys())//100)\n",
    "# X = np.transpose(skelet_pos[samples,:])\n",
    "# skelet_pos = np.array(list(skeleton2.keys()))\n",
    "# samples = np.random.choice(skelet_pos.shape[0],len(skeleton2.keys())//100)\n",
    "# Y = np.transpose(skelet_pos[samples,:])"
   ]
  },
  {
   "cell_type": "code",
   "execution_count": 16,
   "metadata": {},
   "outputs": [],
   "source": [
    "skelet_pos = np.array(list(skeleton1.keys()))\n",
    "samples = np.random.choice(skelet_pos.shape[0],len(skeleton2.keys())//100)\n",
    "X = np.transpose(skelet_pos[samples,:])\n",
    "skelet_pos = np.array(list(skeleton2.keys()))\n",
    "samples = np.random.choice(skelet_pos.shape[0],len(skeleton2.keys())//100)\n",
    "Y = np.transpose(skelet_pos[samples,:])"
   ]
  },
  {
   "cell_type": "code",
   "execution_count": 17,
   "metadata": {},
   "outputs": [
    {
     "data": {
      "application/vnd.jupyter.widget-view+json": {
       "model_id": "e9a83576a9744018be88d2d9bfa848d9",
       "version_major": 2,
       "version_minor": 0
      },
      "text/plain": [
       "Canvas(toolbar=Toolbar(toolitems=[('Home', 'Reset original view', 'home', 'home'), ('Back', 'Back to previous …"
      ]
     },
     "metadata": {},
     "output_type": "display_data"
    },
    {
     "data": {
      "text/plain": [
       "<matplotlib.collections.PathCollection at 0x2adc99c46f10>"
      ]
     },
     "execution_count": 17,
     "metadata": {},
     "output_type": "execute_result"
    }
   ],
   "source": [
    "fig=plt.figure(figsize=(10,9))\n",
    "ax = fig.add_subplot(111)\n",
    "ax.scatter(X[0,:],X[1,:])\n",
    "ax.scatter(Y[0,:],Y[1,:])"
   ]
  },
  {
   "cell_type": "code",
   "execution_count": 18,
   "metadata": {},
   "outputs": [
    {
     "name": "stdout",
     "output_type": "stream",
     "text": [
      "Iteration:1\n",
      "ML:156884.936; \tML change (error):156884.936; \tSigma^2:41312564.378; \tSigma^2 change:93626448.824\n",
      "[                                                                        ]\n",
      "Iteration:2\n",
      "ML:144516.661; \tML change (error): 12368.275; \tSigma^2:21057469.076; \tSigma^2 change:20255095.302\n",
      "[=                                                                       ]\n",
      "Iteration:3\n",
      "ML:139905.672; \tML change (error):  4610.989; \tSigma^2:13829033.633; \tSigma^2 change:7228435.443\n",
      "[==                                                                      ]\n",
      "Iteration:4\n",
      "ML:137780.776; \tML change (error):  2124.896; \tSigma^2:10018909.831; \tSigma^2 change:3810123.802\n",
      "[==                                                                      ]\n",
      "Iteration:5\n",
      "ML:136427.418; \tML change (error):  1353.357; \tSigma^2:7628076.916; \tSigma^2 change:2390832.915\n",
      "[===                                                                     ]\n",
      "Iteration:6\n",
      "ML:135416.149; \tML change (error):  1011.269; \tSigma^2:5985847.013; \tSigma^2 change:1642229.903\n",
      "[====                                                                    ]\n",
      "Iteration:7\n",
      "ML:134595.800; \tML change (error):   820.349; \tSigma^2:4798741.321; \tSigma^2 change:1187105.692\n",
      "[=====                                                                   ]\n",
      "Iteration:8\n",
      "ML:133902.232; \tML change (error):   693.568; \tSigma^2:3913106.999; \tSigma^2 change:885634.322\n",
      "[=====                                                                   ]\n",
      "Iteration:9\n",
      "ML:133303.771; \tML change (error):   598.461; \tSigma^2:3237530.369; \tSigma^2 change:675576.630\n",
      "[======                                                                  ]\n",
      "Iteration:10\n",
      "ML:132781.698; \tML change (error):   522.073; \tSigma^2:2712942.250; \tSigma^2 change:524588.119\n",
      "[=======                                                                 ]\n",
      "Iteration:11\n",
      "ML:132322.912; \tML change (error):   458.786; \tSigma^2:2299256.261; \tSigma^2 change:413685.989\n",
      "[=======                                                                 ]\n",
      "Iteration:12\n",
      "ML:131917.202; \tML change (error):   405.710; \tSigma^2:1968419.357; \tSigma^2 change:330836.903\n",
      "[========                                                                ]\n",
      "Iteration:13\n",
      "ML:131556.160; \tML change (error):   361.043; \tSigma^2:1700370.682; \tSigma^2 change:268048.675\n",
      "[=========                                                               ]\n",
      "Iteration:14\n",
      "ML:131232.710; \tML change (error):   323.450; \tSigma^2:1480543.861; \tSigma^2 change:219826.821\n",
      "[==========                                                              ]\n",
      "Iteration:15\n",
      "ML:130940.932; \tML change (error):   291.779; \tSigma^2:1298239.376; \tSigma^2 change:182304.485\n",
      "[==========                                                              ]\n",
      "Iteration:16\n",
      "ML:130675.945; \tML change (error):   264.987; \tSigma^2:1145505.439; \tSigma^2 change:152733.937\n",
      "[===========                                                             ]\n",
      "Iteration:17\n",
      "ML:130433.759; \tML change (error):   242.186; \tSigma^2:1016355.049; \tSigma^2 change:129150.390\n",
      "[============                                                            ]\n",
      "Iteration:18\n",
      "ML:130211.098; \tML change (error):   222.661; \tSigma^2:906224.697; \tSigma^2 change:110130.352\n",
      "[============                                                            ]\n",
      "Iteration:19\n",
      "ML:130005.264; \tML change (error):   205.834; \tSigma^2:811599.443; \tSigma^2 change: 94625.254\n",
      "[=============                                                           ]\n",
      "Iteration:20\n",
      "ML:129814.045; \tML change (error):   191.220; \tSigma^2:729746.748; \tSigma^2 change: 81852.695\n",
      "[==============                                                          ]\n",
      "Iteration:21\n",
      "ML:129635.641; \tML change (error):   178.403; \tSigma^2:658522.769; \tSigma^2 change: 71223.979\n",
      "[===============                                                         ]\n",
      "Iteration:22\n",
      "ML:129468.611; \tML change (error):   167.030; \tSigma^2:596229.805; \tSigma^2 change: 62292.964\n",
      "[===============                                                         ]\n",
      "Iteration:23\n",
      "ML:129311.813; \tML change (error):   156.799; \tSigma^2:541510.918; \tSigma^2 change: 54718.887\n",
      "[================                                                        ]\n",
      "Iteration:24\n",
      "ML:129164.360; \tML change (error):   147.453; \tSigma^2:493271.130; \tSigma^2 change: 48239.788\n",
      "[=================                                                       ]\n",
      "Iteration:25\n",
      "ML:129025.580; \tML change (error):   138.779; \tSigma^2:450617.351; \tSigma^2 change: 42653.779\n",
      "[==================                                                      ]\n",
      "Iteration:26\n",
      "ML:128894.973; \tML change (error):   130.607; \tSigma^2:412812.022; \tSigma^2 change: 37805.329\n",
      "[==================                                                      ]\n",
      "Iteration:27\n",
      "ML:128772.162; \tML change (error):   122.812; \tSigma^2:379237.701; \tSigma^2 change: 33574.320\n",
      "[===================                                                     ]\n",
      "Iteration:28\n",
      "ML:128656.851; \tML change (error):   115.311; \tSigma^2:349370.736; \tSigma^2 change: 29866.966\n",
      "[====================                                                    ]\n",
      "Iteration:29\n",
      "ML:128548.791; \tML change (error):   108.060; \tSigma^2:322762.200; \tSigma^2 change: 26608.535\n",
      "[====================                                                    ]\n",
      "Iteration:30\n",
      "ML:128447.752; \tML change (error):   101.039; \tSigma^2:299024.229; \tSigma^2 change: 23737.972\n",
      "[=====================                                                   ]\n",
      "Iteration:31\n",
      "ML:128353.510; \tML change (error):    94.242; \tSigma^2:277820.016; \tSigma^2 change: 21204.213\n",
      "[======================                                                  ]\n",
      "Iteration:32\n",
      "ML:128265.838; \tML change (error):    87.672; \tSigma^2:258856.178; \tSigma^2 change: 18963.838\n",
      "[=======================                                                 ]\n",
      "Iteration:33\n",
      "ML:128184.504; \tML change (error):    81.334; \tSigma^2:241876.617; \tSigma^2 change: 16979.561\n",
      "[=======================                                                 ]\n",
      "Iteration:34\n",
      "ML:128109.270; \tML change (error):    75.234; \tSigma^2:226657.399; \tSigma^2 change: 15219.218\n",
      "[========================                                                ]\n",
      "Iteration:35\n",
      "ML:128039.891; \tML change (error):    69.378; \tSigma^2:213002.386; \tSigma^2 change: 13655.012\n",
      "[=========================                                               ]\n",
      "Iteration:36\n",
      "ML:127976.118; \tML change (error):    63.773; \tSigma^2:200739.484; \tSigma^2 change: 12262.902\n",
      "[=========================                                               ]\n",
      "Iteration:37\n",
      "ML:127917.694; \tML change (error):    58.425; \tSigma^2:189717.402; \tSigma^2 change: 11022.082\n",
      "[==========================                                              ]\n",
      "Iteration:38\n",
      "ML:127864.354; \tML change (error):    53.339; \tSigma^2:179802.871; \tSigma^2 change:  9914.532\n",
      "[===========================                                             ]\n",
      "Iteration:39\n",
      "ML:127815.831; \tML change (error):    48.523; \tSigma^2:170878.239; \tSigma^2 change:  8924.631\n",
      "[============================                                            ]\n",
      "Iteration:40\n",
      "ML:127771.849; \tML change (error):    43.982; \tSigma^2:162839.424; \tSigma^2 change:  8038.815\n",
      "[============================                                            ]\n",
      "Iteration:41\n",
      "ML:127732.130; \tML change (error):    39.719; \tSigma^2:155594.147; \tSigma^2 change:  7245.278\n",
      "[=============================                                           ]\n",
      "Iteration:42\n",
      "ML:127696.393; \tML change (error):    35.737; \tSigma^2:149060.431; \tSigma^2 change:  6533.715\n",
      "[==============================                                          ]\n",
      "Iteration:43\n",
      "ML:127664.357; \tML change (error):    32.036; \tSigma^2:143165.325; \tSigma^2 change:  5895.106\n",
      "[==============================                                          ]\n",
      "Iteration:44\n",
      "ML:127635.743; \tML change (error):    28.615; \tSigma^2:137843.800; \tSigma^2 change:  5321.525\n",
      "[===============================                                         ]\n",
      "Iteration:45\n",
      "ML:127610.275; \tML change (error):    25.468; \tSigma^2:133037.813; \tSigma^2 change:  4805.987\n",
      "[================================                                        ]\n",
      "Iteration:46\n",
      "ML:127587.685; \tML change (error):    22.589; \tSigma^2:128695.493; \tSigma^2 change:  4342.320\n",
      "[=================================                                       ]\n",
      "Iteration:47\n",
      "ML:127567.716; \tML change (error):    19.970; \tSigma^2:124770.437; \tSigma^2 change:  3925.055\n",
      "[=================================                                       ]\n",
      "Iteration:48\n",
      "ML:127550.119; \tML change (error):    17.597; \tSigma^2:121221.099; \tSigma^2 change:  3549.338\n",
      "[==================================                                      ]\n",
      "Iteration:49\n",
      "ML:127534.659; \tML change (error):    15.459; \tSigma^2:118010.248; \tSigma^2 change:  3210.851\n",
      "[===================================                                     ]\n",
      "Iteration:50\n",
      "ML:127521.118; \tML change (error):    13.541; \tSigma^2:115104.497; \tSigma^2 change:  2905.751\n",
      "[====================================                                    ]\n",
      "Iteration:51\n",
      "ML:127509.289; \tML change (error):    11.829; \tSigma^2:112473.887; \tSigma^2 change:  2630.610\n",
      "[====================================                                    ]\n",
      "Iteration:52\n",
      "ML:127498.982; \tML change (error):    10.306; \tSigma^2:110091.518; \tSigma^2 change:  2382.369\n",
      "[=====================================                                   ]\n",
      "Iteration:53\n",
      "ML:127490.025; \tML change (error):     8.958; \tSigma^2:107933.220; \tSigma^2 change:  2158.298\n",
      "[======================================                                  ]\n",
      "Iteration:54\n",
      "ML:127482.256; \tML change (error):     7.768; \tSigma^2:105977.266; \tSigma^2 change:  1955.954\n",
      "[======================================                                  ]\n",
      "Iteration:55\n",
      "ML:127475.534; \tML change (error):     6.722; \tSigma^2:104204.113; \tSigma^2 change:  1773.153\n",
      "[=======================================                                 ]\n",
      "Iteration:56\n",
      "ML:127469.729; \tML change (error):     5.805; \tSigma^2:102596.173; \tSigma^2 change:  1607.940\n",
      "[========================================                                ]\n",
      "Iteration:57\n",
      "ML:127464.724; \tML change (error):     5.005; \tSigma^2:101137.610; \tSigma^2 change:  1458.563\n",
      "[=========================================                               ]\n",
      "Iteration:58\n",
      "ML:127460.417; \tML change (error):     4.307; \tSigma^2: 99814.157; \tSigma^2 change:  1323.453\n",
      "[=========================================                               ]\n",
      "Iteration:59\n",
      "ML:127456.716; \tML change (error):     3.701; \tSigma^2: 98612.955; \tSigma^2 change:  1201.202\n",
      "[==========================================                              ]\n",
      "Iteration:60\n",
      "ML:127453.541; \tML change (error):     3.175; \tSigma^2: 97522.409; \tSigma^2 change:  1090.547\n",
      "[===========================================                             ]\n",
      "Iteration:61\n",
      "ML:127450.820; \tML change (error):     2.721; \tSigma^2: 96532.056; \tSigma^2 change:   990.353\n",
      "[===========================================                             ]\n",
      "Iteration:62\n",
      "ML:127448.491; \tML change (error):     2.329; \tSigma^2: 95632.455; \tSigma^2 change:   899.601\n",
      "[============================================                            ]\n",
      "Iteration:63\n",
      "ML:127446.501; \tML change (error):     1.991; \tSigma^2: 94815.080; \tSigma^2 change:   817.375\n",
      "[=============================================                           ]\n",
      "Iteration:64\n",
      "ML:127444.800; \tML change (error):     1.700; \tSigma^2: 94072.229; \tSigma^2 change:   742.851\n",
      "[==============================================                          ]\n",
      "Iteration:65\n",
      "ML:127443.350; \tML change (error):     1.451; \tSigma^2: 93396.943; \tSigma^2 change:   675.286\n",
      "[==============================================                          ]\n",
      "Iteration:66\n",
      "ML:127442.113; \tML change (error):     1.237; \tSigma^2: 92782.928; \tSigma^2 change:   614.014\n",
      "[===============================================                         ]\n",
      "Iteration:67\n",
      "ML:127441.059; \tML change (error):     1.054; \tSigma^2: 92224.495; \tSigma^2 change:   558.433\n",
      "[================================================                        ]\n",
      "Iteration:68\n",
      "ML:127440.162; \tML change (error):     0.897; \tSigma^2: 91716.495; \tSigma^2 change:   508.000\n",
      "[================================================                        ]\n",
      "Iteration:69\n",
      "ML:127439.399; \tML change (error):     0.763; \tSigma^2: 91254.269; \tSigma^2 change:   462.226\n",
      "[=================================================                       ]\n",
      "Iteration:70\n",
      "ML:127438.750; \tML change (error):     0.649; \tSigma^2: 90833.599; \tSigma^2 change:   420.670\n",
      "[==================================================                      ]\n",
      "Iteration:71\n",
      "ML:127438.199; \tML change (error):     0.551; \tSigma^2: 90450.664; \tSigma^2 change:   382.935\n",
      "[===================================================                     ]\n",
      "Iteration:72\n",
      "ML:127437.730; \tML change (error):     0.468; \tSigma^2: 90102.005; \tSigma^2 change:   348.659\n",
      "[===================================================                     ]\n",
      "Iteration:73\n",
      "ML:127437.333; \tML change (error):     0.398; \tSigma^2: 89784.486; \tSigma^2 change:   317.519\n",
      "[====================================================                    ]\n",
      "Iteration:74\n",
      "ML:127436.995; \tML change (error):     0.338; \tSigma^2: 89495.265; \tSigma^2 change:   289.221\n",
      "[=====================================================                   ]\n",
      "Iteration:75\n",
      "ML:127436.709; \tML change (error):     0.286; \tSigma^2: 89231.765; \tSigma^2 change:   263.500\n",
      "[======================================================                  ]\n",
      "Iteration:76\n",
      "ML:127436.466; \tML change (error):     0.243; \tSigma^2: 88991.649; \tSigma^2 change:   240.116\n",
      "[======================================================                  ]\n",
      "Iteration:77\n",
      "ML:127436.260; \tML change (error):     0.206; \tSigma^2: 88772.797; \tSigma^2 change:   218.851\n",
      "[=======================================================                 ]\n",
      "Iteration:78\n",
      "ML:127436.085; \tML change (error):     0.175; \tSigma^2: 88573.288; \tSigma^2 change:   199.510\n",
      "[========================================================                ]\n",
      "Iteration:79\n",
      "ML:127435.937; \tML change (error):     0.148; \tSigma^2: 88391.373; \tSigma^2 change:   181.914\n",
      "[========================================================                ]\n",
      "Iteration:80\n",
      "ML:127435.811; \tML change (error):     0.126; \tSigma^2: 88225.471; \tSigma^2 change:   165.903\n",
      "[=========================================================               ]\n",
      "Iteration:81\n",
      "ML:127435.705; \tML change (error):     0.106; \tSigma^2: 88074.140; \tSigma^2 change:   151.330\n",
      "[==========================================================              ]\n",
      "Iteration:82\n",
      "ML:127435.615; \tML change (error):     0.090; \tSigma^2: 87936.075; \tSigma^2 change:   138.065\n",
      "[===========================================================             ]\n",
      "Iteration:83\n",
      "ML:127435.538; \tML change (error):     0.076; \tSigma^2: 87810.090; \tSigma^2 change:   125.986\n",
      "[===========================================================             ]\n",
      "Iteration:84\n",
      "ML:127435.474; \tML change (error):     0.065; \tSigma^2: 87695.104; \tSigma^2 change:   114.985\n",
      "[============================================================            ]\n",
      "Iteration:85\n",
      "ML:127435.419; \tML change (error):     0.055; \tSigma^2: 87590.139; \tSigma^2 change:   104.965\n",
      "[=============================================================           ]\n",
      "Iteration:86\n",
      "ML:127435.373; \tML change (error):     0.046; \tSigma^2: 87494.303; \tSigma^2 change:    95.836\n",
      "[=============================================================           ]\n",
      "Iteration:87\n",
      "ML:127435.333; \tML change (error):     0.039; \tSigma^2: 87406.786; \tSigma^2 change:    87.517\n",
      "[==============================================================          ]\n",
      "Iteration:88\n",
      "ML:127435.300; \tML change (error):     0.033; \tSigma^2: 87326.852; \tSigma^2 change:    79.934\n",
      "[===============================================================         ]\n",
      "Iteration:89\n",
      "ML:127435.272; \tML change (error):     0.028; \tSigma^2: 87253.831; \tSigma^2 change:    73.021\n",
      "[================================================================        ]\n",
      "Iteration:90\n",
      "ML:127435.248; \tML change (error):     0.024; \tSigma^2: 87187.113; \tSigma^2 change:    66.718\n",
      "[================================================================        ]\n",
      "Iteration:91\n",
      "ML:127435.228; \tML change (error):     0.020; \tSigma^2: 87126.143; \tSigma^2 change:    60.970\n",
      "[=================================================================       ]\n",
      "Iteration:92\n",
      "ML:127435.211; \tML change (error):     0.017; \tSigma^2: 87070.416; \tSigma^2 change:    55.727\n",
      "[==================================================================      ]\n",
      "Iteration:93\n",
      "ML:127435.196; \tML change (error):     0.014; \tSigma^2: 87019.473; \tSigma^2 change:    50.943\n",
      "[==================================================================      ]\n",
      "Iteration:94\n",
      "ML:127435.184; \tML change (error):     0.012; \tSigma^2: 86972.896; \tSigma^2 change:    46.577\n",
      "[===================================================================     ]\n",
      "Iteration:95\n",
      "ML:127435.174; \tML change (error):     0.010; \tSigma^2: 86930.304; \tSigma^2 change:    42.593\n",
      "[====================================================================    ]\n",
      "Iteration:96\n",
      "ML:127435.165; \tML change (error):     0.009; \tSigma^2: 86891.348; \tSigma^2 change:    38.955\n",
      "[=====================================================================   ]\n",
      "Iteration:97\n",
      "ML:127435.158; \tML change (error):     0.007; \tSigma^2: 86855.714; \tSigma^2 change:    35.635\n",
      "[=====================================================================   ]\n",
      "Iteration:98\n",
      "ML:127435.151; \tML change (error):     0.006; \tSigma^2: 86823.112; \tSigma^2 change:    32.602\n",
      "[======================================================================  ]\n",
      "Iteration:99\n",
      "ML:127435.146; \tML change (error):     0.005; \tSigma^2: 86793.280; \tSigma^2 change:    29.832\n",
      "[======================================================================= ]\n",
      "Iteration:100\n",
      "ML:127435.142; \tML change (error):     0.004; \tSigma^2: 86765.979; \tSigma^2 change:    27.301\n",
      "[========================================================================]\n",
      "========================================================================\n",
      "Registration Performance Metrics\n",
      "========================================================================\n",
      "Time to initialize EM: 0.6744928359985352\n",
      "Time to initialize registration: 3.5762786865234375e-05\n",
      "Average Expectation Time:                   11.3687 +/- 0.3073\n",
      "Average Maximization Time:                   0.0016 +/- 0.0004\n",
      "Maximization Times - Per individual step\n",
      "Average Update Transform Time:               0.0008 +/- 0.0003\n",
      "Average Transform Time:                      0.0003 +/- 0.0001\n",
      "Average Update Variance Time:                0.0005 +/- 0.0001\n",
      "\n",
      "Number of iterations performed:          100\n",
      "Error at time of finish:                 0.004498600785154849\n"
     ]
    }
   ],
   "source": [
    "reg = rigid_registration(**{'X': np.transpose(X.astype(float)), 'Y': np.transpose(Y.astype(float)),'scale': False})\n",
    "out = reg.register()\n",
    "Rfound = reg.R[0:2,0:2]\n",
    "tfound= np.dot(Rfound,reg.t[0:2])"
   ]
  },
  {
   "cell_type": "code",
   "execution_count": 20,
   "metadata": {},
   "outputs": [
    {
     "data": {
      "application/vnd.jupyter.widget-view+json": {
       "model_id": "f6ba4371a45f46b2b4d26ad2255418d5",
       "version_major": 2,
       "version_minor": 0
      },
      "text/plain": [
       "Canvas(toolbar=Toolbar(toolitems=[('Home', 'Reset original view', 'home', 'home'), ('Back', 'Back to previous …"
      ]
     },
     "metadata": {},
     "output_type": "display_data"
    },
    {
     "data": {
      "text/plain": [
       "<matplotlib.collections.PathCollection at 0x2adc99ca4810>"
      ]
     },
     "execution_count": 20,
     "metadata": {},
     "output_type": "execute_result"
    }
   ],
   "source": [
    "plt.close('all')\n",
    "fig=plt.figure(figsize=(10,9))\n",
    "ax = fig.add_subplot(111)\n",
    "Yrep=np.transpose(np.transpose(np.dot(Rfound,np.transpose(np.transpose(X))))-tfound)\n",
    "ax.scatter(np.transpose(Y)[:,0],np.transpose(Y)[:,1])\n",
    "ax.scatter(np.transpose(Yrep)[:,0],np.transpose(Yrep)[:,1])"
   ]
  },
  {
   "cell_type": "code",
   "execution_count": 21,
   "metadata": {},
   "outputs": [
    {
     "name": "stdout",
     "output_type": "stream",
     "text": [
      "[18675.46806, 35.852915, 1.843764]\n",
      "[21175.442981, 35.527758, 10.966272, 2.85076, 1.815892]\n"
     ]
    },
    {
     "data": {
      "application/vnd.jupyter.widget-view+json": {
       "model_id": "3522883ccaed475396243c7a24dea425",
       "version_major": 2,
       "version_minor": 0
      },
      "text/plain": [
       "Canvas(toolbar=Toolbar(toolitems=[('Home', 'Reset original view', 'home', 'home'), ('Back', 'Back to previous …"
      ]
     },
     "metadata": {},
     "output_type": "display_data"
    },
    {
     "data": {
      "application/vnd.jupyter.widget-view+json": {
       "model_id": "f3c6fe0a778f4d04b76256ebf530c0db",
       "version_major": 2,
       "version_minor": 0
      },
      "text/plain": [
       "Canvas(toolbar=Toolbar(toolitems=[('Home', 'Reset original view', 'home', 'home'), ('Back', 'Back to previous …"
      ]
     },
     "metadata": {},
     "output_type": "display_data"
    },
    {
     "name": "stdout",
     "output_type": "stream",
     "text": [
      "(3, 9932) (3, 11003)\n",
      "registration::RegistrationResult with fitness=9.386830e-01, inlier_rmse=3.091225e+01, and correspondence_set size of 9323\n",
      "Access transformation to get result.\n",
      "[[ 0.99927149  0.03816407]\n",
      " [-0.03816407  0.99927149]] [-3804.48748894  3894.69968369]\n"
     ]
    },
    {
     "data": {
      "application/vnd.jupyter.widget-view+json": {
       "model_id": "31c80f90def64bdeb99b621084e6b0a5",
       "version_major": 2,
       "version_minor": 0
      },
      "text/plain": [
       "Canvas(toolbar=Toolbar(toolitems=[('Home', 'Reset original view', 'home', 'home'), ('Back', 'Back to previous …"
      ]
     },
     "metadata": {},
     "output_type": "display_data"
    },
    {
     "data": {
      "text/plain": [
       "<matplotlib.collections.PathCollection at 0x2adcb55e0850>"
      ]
     },
     "execution_count": 21,
     "metadata": {},
     "output_type": "execute_result"
    }
   ],
   "source": [
    "nx_graph1,pos1 = generate_nx_graph(from_sparse_to_graph(skeleton1))\n",
    "nx_graph2,pos2 = generate_nx_graph(from_sparse_to_graph(skeleton2))\n",
    "pruned1 = prune_graph(nx_graph1)\n",
    "pruned2 = prune_graph(nx_graph2)\n",
    "t_init=-tfound\n",
    "Rot_init= Rfound\n",
    "X = np.transpose(np.array([pos1[node] for node in pruned1 if pruned1.degree(node)==3]))\n",
    "Y = np.transpose(np.array([pos2[node] for node in pruned2 if pruned2.degree(node)==3]))\n",
    "fig=plt.figure(figsize=(10,9))\n",
    "ax = fig.add_subplot(111)\n",
    "ax.scatter(X[0,:],X[1,:])\n",
    "ax.scatter(Y[0,:],Y[1,:])\n",
    "Xex = np.transpose(np.transpose(np.dot(Rot_init,X))+t_init)\n",
    "fig=plt.figure(figsize=(10,9))\n",
    "ax = fig.add_subplot(111)\n",
    "ax.scatter(Xex[0,:],Xex[1,:])\n",
    "ax.scatter(Y[0,:],Y[1,:])\n",
    "X = np.insert(X, 2, values=0, axis=0) \n",
    "Y = np.insert(Y, 2, values=0, axis=0) \n",
    "print(X.shape,Y.shape)\n",
    "vectorX = o3d.utility.Vector3dVector(np.transpose(X))\n",
    "vectorY = o3d.utility.Vector3dVector(np.transpose(Y))\n",
    "source = o3d.geometry.PointCloud(vectorX)\n",
    "target = o3d.geometry.PointCloud(vectorY)\n",
    "threshold = 200\n",
    "trans_init = np.asarray([[Rot_init[0,0], Rot_init[0,1], 0, t_init[0]],\n",
    "                         [Rot_init[1,0], Rot_init[1,1], 0, t_init[1]],\n",
    "                         [0, 0, 1, 0], [0.0, 0.0, 0.0, 1.0]])\n",
    "reg_p2p = o3d.registration.registration_icp(\n",
    "    source, target, threshold, trans_init,\n",
    "    o3d.registration.TransformationEstimationPointToPoint())\n",
    "print(reg_p2p)\n",
    "Rfound = reg_p2p.transformation[0:2,0:2]\n",
    "tfound = reg_p2p.transformation[0:2,3]\n",
    "print(Rfound,tfound)\n",
    "X,Y=X[0:2,:],Y[0:2,:]\n",
    "Yrep=np.transpose(np.transpose(np.dot(Rfound,X))+tfound)\n",
    "fig=plt.figure(figsize=(10,9))\n",
    "ax = fig.add_subplot(111)\n",
    "ax.scatter(np.transpose(Yrep)[:,0],np.transpose(Yrep)[:,1])\n",
    "ax.scatter(np.transpose(Y)[:,0],np.transpose(Y)[:,1])"
   ]
  },
  {
   "cell_type": "code",
   "execution_count": 22,
   "metadata": {},
   "outputs": [
    {
     "data": {
      "application/vnd.jupyter.widget-view+json": {
       "model_id": "93871520302247d1ad4b995f39313943",
       "version_major": 2,
       "version_minor": 0
      },
      "text/plain": [
       "Canvas(toolbar=Toolbar(toolitems=[('Home', 'Reset original view', 'home', 'home'), ('Back', 'Back to previous …"
      ]
     },
     "metadata": {},
     "output_type": "display_data"
    },
    {
     "data": {
      "text/plain": [
       "<matplotlib.collections.PathCollection at 0x2adcb332c650>"
      ]
     },
     "execution_count": 22,
     "metadata": {},
     "output_type": "execute_result"
    }
   ],
   "source": [
    "X = np.transpose(np.array([pos1[node] for node in pruned1 if pruned1.degree(node)==3]))\n",
    "Y = np.transpose(np.array([pos2[node] for node in pruned2 if pruned2.degree(node)==3]))\n",
    "Yrep=np.transpose(np.transpose(np.dot(Rfound,X))+tfound)\n",
    "fig=plt.figure(figsize=(10,9))\n",
    "ax = fig.add_subplot(111)\n",
    "ax.scatter(np.transpose(Yrep)[:,0],np.transpose(Yrep)[:,1])\n",
    "ax.scatter(np.transpose(Y)[:,0],np.transpose(Y)[:,1])"
   ]
  },
  {
   "cell_type": "code",
   "execution_count": 20,
   "metadata": {},
   "outputs": [],
   "source": [
    "sio.savemat(path_snap+'/Analysis/transform.mat',{'R' : Rfound,'t' : tfound})"
   ]
  }
 ],
 "metadata": {
  "kernelspec": {
   "display_name": "Python 3",
   "language": "python",
   "name": "python3"
  },
  "language_info": {
   "codemirror_mode": {
    "name": "ipython",
    "version": 3
   },
   "file_extension": ".py",
   "mimetype": "text/x-python",
   "name": "python",
   "nbconvert_exporter": "python",
   "pygments_lexer": "ipython3",
   "version": "3.7.8"
  }
 },
 "nbformat": 4,
 "nbformat_minor": 4
}

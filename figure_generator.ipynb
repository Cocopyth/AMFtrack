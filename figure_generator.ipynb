{
 "cells": [
  {
   "cell_type": "code",
   "execution_count": 1,
   "metadata": {},
   "outputs": [],
   "source": [
    "%matplotlib widget\n",
    "from util import get_path, get_dates_datetime\n",
    "import pandas as pd\n",
    "import networkx as nx\n",
    "import numpy as np\n",
    "import matplotlib.pyplot as plt\n",
    "from extract_graph import generate_nx_graph, transform_list, generate_skeleton, generate_nx_graph_from_skeleton, from_connection_tab, from_nx_to_tab\n",
    "from node_id import whole_movement_identification, second_identification\n",
    "import ast\n",
    "from plotutil import plot_t_tp1, compress_skeleton\n",
    "from scipy import sparse\n",
    "from sparse_util import dilate, zhangSuen\n",
    "from realign import realign\n",
    "from datetime import datetime,timedelta\n",
    "from node_id import orient\n",
    "import pickle\n",
    "from matplotlib.widgets import CheckButtons\n",
    "import scipy.io as sio\n",
    "import imageio\n",
    "from pymatreader import read_mat\n",
    "from matplotlib import colors\n",
    "from copy import deepcopy,copy\n",
    "from collections import Counter\n",
    "import cv2 \n",
    "import imageio\n",
    "import matplotlib.pyplot as plt\n",
    "import numpy as np\n",
    "from skimage.filters import frangi, meijering\n",
    "from skimage.morphology import thin\n",
    "from skimage import data, filters\n",
    "from random import choice\n",
    "import scipy.sparse\n",
    "import os\n",
    "from time import time\n",
    "from extract_graph import dic_to_sparse, from_sparse_to_graph, generate_nx_graph, prune_graph, from_nx_to_tab, from_nx_to_tab_matlab,sparse_to_doc, connections_pixel_list_to_tab, transform_list, clean_degree_4\n",
    "from time import sleep\n",
    "from skimage.feature import hessian_matrix_det\n",
    "from experiment_class_surf import Experiment,clean_exp_with_hyphaes\n",
    "from hyphae_id_surf import clean_and_relabel, get_mother, save_hyphaes, resolve_ambiguity_two_ends,solve_degree4, clean_obvious_fake_tips\n",
    "from realign import transform_skeleton_final\n"
   ]
  },
  {
   "cell_type": "code",
   "execution_count": 21,
   "metadata": {},
   "outputs": [],
   "source": [
    "plate = 26\n",
    "\n",
    "dates_datetime = get_dates_datetime(directory,plate)\n"
   ]
  },
  {
   "cell_type": "code",
   "execution_count": 22,
   "metadata": {},
   "outputs": [
    {
     "data": {
      "text/plain": [
       "120"
      ]
     },
     "execution_count": 22,
     "metadata": {},
     "output_type": "execute_result"
    }
   ],
   "source": [
    "len(dates_datetime)"
   ]
  },
  {
   "cell_type": "code",
   "execution_count": 29,
   "metadata": {},
   "outputs": [],
   "source": [
    "# from directory import directory, run_parallel\n",
    "directory = \"/projects/0/einf914/data/\"\n",
    "\n",
    "plate = 26\n",
    "begin = 30\n",
    "end = 72\n",
    "dates_datetime = get_dates_datetime(directory,plate)\n",
    "dates_datetime_chosen=dates_datetime[begin:end+1]\n",
    "dates = [f'{0 if date.month<10 else \"\"}{date.month}{0 if date.day<10 else \"\"}{date.day}_{0 if date.hour<10 else \"\"}{date.hour}{0 if date.minute<10 else \"\"}{date.minute}' for date in dates_datetime_chosen]\n",
    "skels = []\n",
    "ims = []\n",
    "kernel = np.ones((5,5),np.uint8)\n",
    "itera = 1\n",
    "for date in dates:\n",
    "    directory_name=f'2020{date}_Plate{0 if plate<10 else \"\"}{plate}'\n",
    "    path_snap=directory+directory_name\n",
    "    skel_info = read_mat(path_snap+'/Analysis/skeleton_pruned_compressed.mat')\n",
    "    skel = skel_info['skeleton']\n",
    "    skels.append(cv2.dilate(skel.astype(np.uint8),kernel,iterations = itera))\n",
    "    im = read_mat(path_snap+'/Analysis/raw_image.mat')['raw']\n",
    "    ims.append(im)\n"
   ]
  },
  {
   "cell_type": "code",
   "execution_count": 27,
   "metadata": {},
   "outputs": [],
   "source": [
    "def get_time(dates_datetimes,i,j):\n",
    "    seconds = (dates_datetimes[j]-dates_datetimes[i]).total_seconds()\n",
    "    return(seconds/3600)"
   ]
  },
  {
   "cell_type": "code",
   "execution_count": 30,
   "metadata": {},
   "outputs": [
    {
     "data": {
      "application/vnd.jupyter.widget-view+json": {
       "model_id": "21dd2ef5ab874880b204f909a196c146",
       "version_major": 2,
       "version_minor": 0
      },
      "text/plain": [
       "Canvas(toolbar=Toolbar(toolitems=[('Home', 'Reset original view', 'home', 'home'), ('Back', 'Back to previous …"
      ]
     },
     "metadata": {},
     "output_type": "display_data"
    }
   ],
   "source": [
    "from IPython.display import clear_output\n",
    "start=0\n",
    "finish = end-begin\n",
    "for i in range(start,finish):\n",
    "    plt.close('all')\n",
    "    clear_output(wait=True)\n",
    "    plot_t_tp1([], [], None, None, skels[i], ims[i], save=f'Figure/im{i}',time=f't = {int(get_time(dates_datetime_chosen,0,i))}h')"
   ]
  },
  {
   "cell_type": "code",
   "execution_count": 31,
   "metadata": {},
   "outputs": [],
   "source": [
    "start=0\n",
    "finish = end-begin\n",
    "img_array = []\n",
    "for t in range(start,finish):\n",
    "    img = cv2.imread(f'Figure/im{t}.png')\n",
    "    img_array.append(img)\n",
    "imageio.mimsave(f'Figure/movie{plate}temp_{dates[start]}_{dates[finish]}.gif', img_array,duration = 1)"
   ]
  },
  {
   "cell_type": "code",
   "execution_count": 2,
   "metadata": {},
   "outputs": [],
   "source": [
    "plate = 33\n",
    "begin = 0\n",
    "end = 20\n",
    "directory = \"/scratch/shared/mrozemul/Fiji.app/\" \n",
    "listdir=os.listdir(directory) \n",
    "list_dir_interest=[name for name in listdir if name.split('_')[-1]==f'Plate{0 if plate<10 else \"\"}{plate}']\n",
    "ss=[name.split('_')[0] for name in list_dir_interest]\n",
    "ff=[name.split('_')[1] for name in list_dir_interest]\n",
    "dates_datetime=[datetime(year=int(ss[i][:4]),month=int(ss[i][4:6]),day=int(ss[i][6:8]),hour=int(ff[i][0:2]),minute=int(ff[i][2:4])) for i in range(len(list_dir_interest))]\n",
    "dates_datetime.sort()\n",
    "dates_datetime_chosen=dates_datetime[begin:end]\n",
    "dates = [f'{0 if date.month<10 else \"\"}{date.month}{0 if date.day<10 else \"\"}{date.day}_{0 if date.hour<10 else \"\"}{date.hour}{0 if date.minute<10 else \"\"}{date.minute}' for date in dates_datetime_chosen]\n",
    "exp = pickle.load( open(f'/scratch/shared/mrozemul/Fiji.app/Analysis_Plate{plate}_{dates[0]}_{dates[-1]}/experiment_{plate}.pick', \"rb\" ) )"
   ]
  },
  {
   "cell_type": "code",
   "execution_count": 3,
   "metadata": {},
   "outputs": [],
   "source": [
    "def get_im_stitched(exp,boundaries,t):\n",
    "    i = t\n",
    "    plate = exp.plate\n",
    "    directory = \"/scratch/shared/mrozemul/Fiji.app/\" \n",
    "    listdir=os.listdir(directory) \n",
    "    dates = exp.dates\n",
    "    date =dates [i]\n",
    "    directory_name=f'2020{date}_Plate{0 if plate<10 else \"\"}{plate}'\n",
    "    path_snap='/scratch/shared/mrozemul/Fiji.app/'+directory_name\n",
    "    path_tile=path_snap+'/Img/TileConfiguration.txt.registered'\n",
    "    try:\n",
    "        tileconfig = pd.read_table(path_tile,sep=';',skiprows=4,header=None,converters={2 : ast.literal_eval},skipinitialspace=True)\n",
    "    except:\n",
    "        print('error_name')\n",
    "        path_tile=path_snap+'/Img/TileConfiguration.registered.txt'\n",
    "        tileconfig = pd.read_table(path_tile,sep=';',skiprows=4,header=None,converters={2 : ast.literal_eval},skipinitialspace=True)\n",
    "    skel = read_mat(path_snap+'/Analysis/skeleton_realigned.mat')\n",
    "    Rot= skel['R']\n",
    "    trans = skel['t']\n",
    "    shape = (3000,4096)\n",
    "    xs =[c[0] for c in tileconfig[2]]\n",
    "    ys =[c[1] for c in tileconfig[2]]\n",
    "    dim = (boundaries[3]-boundaries[2],boundaries[1]-boundaries[0])\n",
    "    ims = []\n",
    "    for name in tileconfig[0]:\n",
    "    #     ims.append(imageio.imread('//sun.amolf.nl/shimizu-data/home-folder/oyartegalvez/Drive_AMFtopology/PRINCE'+date_plate+plate_str+'/Img/'+name))\n",
    "        ims.append(imageio.imread(f'{name}'))\n",
    "    im_stitched = np.zeros(dim,dtype=np.uint8)\n",
    "    for index,im in enumerate(ims):\n",
    "        xyangle = np.array([int(tileconfig[2][index][0]-np.min(xs)),int(tileconfig[2][index][1]-np.min(ys))])\n",
    "    #     xyangle_corrected =  np.transpose(np.transpose(np.dot(Rot,xyangle))+trans)\n",
    "        xyangle_corrected =  xyangle\n",
    "        limits = int(xyangle_corrected[0]-boundaries[0]),int(xyangle_corrected[1]-boundaries[2])\n",
    "        if limits[1]>=-shape[0] and limits[1]<=dim[0] and limits[0]>=-shape[1] and limits[0]<=dim[1]:\n",
    "            b_im_s = max(0,limits[1]),min(dim[0],limits[1]+shape[0]),max(0,limits[0]),min(dim[1],limits[0]+shape[1])\n",
    "            shape_crop = b_im_s[1]-b_im_s[0], b_im_s[3]-b_im_s[2]\n",
    "            b_im0 =-limits[1] if limits[1]<0 else 0\n",
    "            b_im1 = b_im0+shape_crop[0]\n",
    "            b_im2 = -limits[0] if limits[0]<0 else 0\n",
    "            b_im3 = b_im2+shape_crop[1]\n",
    "            b_im = b_im0,b_im1,b_im2,b_im3\n",
    "            im_stitched[b_im_s[0]:b_im_s[1],b_im_s[2]:b_im_s[3]] = im[b_im[0]:b_im[1],b_im[2]:b_im[3]]\n",
    "    return(im_stitched)"
   ]
  },
  {
   "cell_type": "code",
   "execution_count": 4,
   "metadata": {},
   "outputs": [],
   "source": [
    "def transform_skeleton_final_for_show(skeleton_doc,Rot,trans):\n",
    "    skeleton_transformed={}\n",
    "    transformed_keys = np.round(np.transpose(np.dot(Rot,np.transpose(np.array(list(skeleton_doc.keys())))))+trans).astype(np.int)\n",
    "    i=0\n",
    "    for pixel in list(transformed_keys):\n",
    "        i+=1\n",
    "        skeleton_transformed[(pixel[0],pixel[1])]=1\n",
    "    skeleton_transformed_sparse=sparse.lil_matrix((27000, 50000))\n",
    "    for pixel in list(skeleton_transformed.keys()):\n",
    "        i+=1\n",
    "        skeleton_transformed_sparse[(pixel[0],pixel[1])]=1\n",
    "    return(skeleton_transformed_sparse)"
   ]
  },
  {
   "cell_type": "code",
   "execution_count": 5,
   "metadata": {},
   "outputs": [],
   "source": [
    "def get_skeleton(exp,boundaries,t):\n",
    "    i = t\n",
    "    plate = exp.plate\n",
    "    directory = \"/scratch/shared/mrozemul/Fiji.app/\" \n",
    "    listdir=os.listdir(directory) \n",
    "    dates = exp.dates\n",
    "    date =dates [i]\n",
    "    directory_name=f'2020{date}_Plate{0 if plate<10 else \"\"}{plate}'\n",
    "    path_snap='/scratch/shared/mrozemul/Fiji.app/'+directory_name\n",
    "    path_tile=path_snap+'/Img/TileConfiguration.txt.registered'\n",
    "    try:\n",
    "        tileconfig = pd.read_table(path_tile,sep=';',skiprows=4,header=None,converters={2 : ast.literal_eval},skipinitialspace=True)\n",
    "    except:\n",
    "        print('error_name')\n",
    "        path_tile=path_snap+'/Img/TileConfiguration.registered.txt'\n",
    "        tileconfig = pd.read_table(path_tile,sep=';',skiprows=4,header=None,converters={2 : ast.literal_eval},skipinitialspace=True)\n",
    "    skel = read_mat(path_snap+'/Analysis/skeleton_realigned.mat')\n",
    "    skelet = skel['skeleton']\n",
    "    skelet = sparse_to_doc(skelet)\n",
    "    Rot= skel['R']\n",
    "    trans = skel['t']\n",
    "    skel_aligned = transform_skeleton_final_for_show(skelet,np.linalg.inv(Rot),(-np.dot(np.linalg.inv(Rot),trans)))\n",
    "    output = skel_aligned[boundaries[2]:boundaries[3],boundaries[0]:boundaries[1]].todense()\n",
    "    kernel = np.ones((5,5),np.uint8)\n",
    "    output = cv2.dilate(output.astype(np.uint8),kernel,iterations = 2)\n",
    "    return(output)"
   ]
  },
  {
   "cell_type": "code",
   "execution_count": 115,
   "metadata": {},
   "outputs": [],
   "source": [
    "plt.close('all')\n",
    "t=1\n",
    "window = (25000,30000,6000,11000)\n",
    "skelet = get_skeleton(exp,window,t)\n",
    "im_stitched = get_im_stitched(exp,window,t)\n",
    "nodes = [node.label for node in exp.nodes if t in node.ts() and node.degree(t) ==1 and node.pos(t)[1]>=window[0] and node.pos(t)[1]<=window[1] and node.pos(t)[0]>=window[2] and node.pos(t)[0]<=window[3]]"
   ]
  },
  {
   "cell_type": "code",
   "execution_count": 116,
   "metadata": {},
   "outputs": [],
   "source": [
    "tips = [node.label for node in exp.nodes if t in node.ts() and node.degree(t) ==1 and node.pos(t)[1]>=window[0] and node.pos(t)[1]<=window[1] and node.pos(t)[0]>=window[2] and node.pos(t)[0]<=window[3]]"
   ]
  },
  {
   "cell_type": "code",
   "execution_count": 117,
   "metadata": {},
   "outputs": [],
   "source": [
    "junction =  [node.label for node in exp.nodes if t in node.ts() and node.degree(t) >=2 and node.pos(t)[1]>=window[0] and node.pos(t)[1]<=window[1] and node.pos(t)[0]>=window[2] and node.pos(t)[0]<=window[3]]"
   ]
  },
  {
   "cell_type": "code",
   "execution_count": 118,
   "metadata": {},
   "outputs": [
    {
     "data": {
      "application/vnd.jupyter.widget-view+json": {
       "model_id": "033243752bca46deaec3f1168bdd8cb6",
       "version_major": 2,
       "version_minor": 0
      },
      "text/plain": [
       "Canvas(toolbar=Toolbar(toolitems=[('Home', 'Reset original view', 'home', 'home'), ('Back', 'Back to previous …"
      ]
     },
     "metadata": {},
     "output_type": "display_data"
    }
   ],
   "source": [
    "plot_t_tp1([],list(np.random.choice(tips,100)),exp.positions[t],exp.positions[t],skelet,im_stitched,shift=(window[2],window[0]))"
   ]
  },
  {
   "cell_type": "code",
   "execution_count": null,
   "metadata": {},
   "outputs": [],
   "source": [
    "plt.close('all')\n",
    "for t in range(0,20):\n",
    "    window = (25000,30000,6000,11000)\n",
    "    skelet = get_skeleton(exp,window,t)\n",
    "    im_stitched = get_im_stitched(exp,window,t)\n",
    "    tips = [node.label for node in exp.nodes if t in node.ts() and node.degree(t) ==1 and node.pos(t)[1]>=window[0] and node.pos(t)[1]<=window[1] and node.pos(t)[0]>=window[2] and node.pos(t)[0]<=window[3]]\n",
    "    junction =  [node.label for node in exp.nodes if t in node.ts() and node.degree(t) >=2 and node.pos(t)[1]>=window[0] and node.pos(t)[1]<=window[1] and node.pos(t)[0]>=window[2] and node.pos(t)[0]<=window[3]]\n",
    "    plot_t_tp1(junction,tips,exp.positions[t],exp.positions[t],skelet,im_stitched,shift=(window[2],window[0]),save=f'Data/im{t}',time=f't={4*t}')"
   ]
  },
  {
   "cell_type": "code",
   "execution_count": 14,
   "metadata": {},
   "outputs": [],
   "source": [
    "im_stitched = get_im_stitched(exp,window,15)"
   ]
  },
  {
   "cell_type": "code",
   "execution_count": null,
   "metadata": {},
   "outputs": [],
   "source": [
    "img_array = []\n",
    "for t in range(0,13):\n",
    "    img = cv2.imread(f'Data/im{t}.png')\n",
    "    height, width, layers = img.shape\n",
    "    size = (width,height)\n",
    "    img_array.append(img)\n",
    "imageio.mimsave('Data/movie.mp4', img_array,duration=1)"
   ]
  },
  {
   "cell_type": "code",
   "execution_count": 12,
   "metadata": {},
   "outputs": [],
   "source": [
    "\n",
    "img_array = []\n",
    "for t in range(0,15):\n",
    "    img = cv2.imread(f'Data/im{t}.png')\n",
    "    height, width, layers = img.shape\n",
    "    size = (width,height)\n",
    "    img_array.append(img)\n",
    " \n",
    " \n",
    "out = cv2.VideoWriter('Data/project.mp4',cv2.VideoWriter_fourcc(*'DIVX'), 1, size)\n",
    " \n",
    "for i in range(len(img_array)):\n",
    "    out.write(img_array[i])\n",
    "out.release()"
   ]
  },
  {
   "cell_type": "code",
   "execution_count": 85,
   "metadata": {},
   "outputs": [
    {
     "data": {
      "application/vnd.jupyter.widget-view+json": {
       "model_id": "8c19d0d108b046f1906527298c86461d",
       "version_major": 2,
       "version_minor": 0
      },
      "text/plain": [
       "Canvas(toolbar=Toolbar(toolitems=[('Home', 'Reset original view', 'home', 'home'), ('Back', 'Back to previous …"
      ]
     },
     "metadata": {},
     "output_type": "display_data"
    }
   ],
   "source": [
    "plt.close('all')\n",
    "plot_t_tp12(junction,tips,exp.positions[t],exp.positions[t],skelet,im_stitched,shift=(window[2],window[0]))"
   ]
  },
  {
   "cell_type": "code",
   "execution_count": 7,
   "metadata": {},
   "outputs": [],
   "source": [
    "def plot_t_tp1(node_list_t,node_list_tp1,pos_t,pos_tp1,imt,imtp1, Rot = np.array([[1,0],[0,1]]),trans = np.array([0,0]),relabel_t=lambda x:x,relabel_tp1=lambda x:x, shift=(0,0),compress=1,save='',time=None):\n",
    "    right = 0.90\n",
    "    top = 0.90\n",
    "    R = np.linalg.inv(Rot)\n",
    "    tr = -np.dot(np.linalg.inv(Rot),trans)\n",
    "    if len(save)>=1:\n",
    "        fig=plt.figure(figsize=(14,12))\n",
    "        size = 10\n",
    "    else:\n",
    "        fig = plt.figure()\n",
    "        size = 5\n",
    "    ax = fig.add_subplot(111)\n",
    "    ax.imshow(imtp1, cmap='gray',interpolation='none')\n",
    "    ax.imshow(imt, cmap='jet', alpha=0.5,interpolation='none')\n",
    "    bbox_props1 = dict(boxstyle=\"circle\", fc=\"grey\")\n",
    "    bbox_props2 = dict(boxstyle=\"circle\", fc=\"white\")\n",
    "    ax.text(right, top, time,\n",
    "        horizontalalignment='right',\n",
    "        verticalalignment='bottom',\n",
    "        transform=ax.transAxes,color='white',fontsize=20)\n",
    "    for node in node_list_t:\n",
    "        position = np.dot(R,pos_t[node])+tr\n",
    "        t = ax.text((position[1]-shift[1])//compress, (position[0]-shift[0])//compress, str(relabel_t(node)), ha=\"center\", va=\"center\",\n",
    "                    size=size,\n",
    "                    bbox=bbox_props1)\n",
    "    for node in node_list_tp1:\n",
    "        if node in pos_tp1.keys():\n",
    "            position = np.dot(R,pos_tp1[node])+tr\n",
    "            t = ax.text((position[1]-shift[1])//compress, (position[0]-shift[0])//compress, str(relabel_tp1(node)), ha=\"center\", va=\"center\",\n",
    "                        size=size,\n",
    "                        bbox=bbox_props2)\n",
    "    if len(save)>=1:\n",
    "        plt.savefig(save)\n",
    "        plt.close(fig)\n",
    "    else:\n",
    "        plt.show()"
   ]
  },
  {
   "cell_type": "code",
   "execution_count": 69,
   "metadata": {},
   "outputs": [],
   "source": [
    "def plot_t_tp12(node_list_t,node_list_tp1,pos_t,pos_tp1,imt,imtp1, Rot = np.array([[1,0],[0,1]]),trans = np.array([0,0]),relabel_t=lambda x:x,relabel_tp1=lambda x:x, shift=(0,0),compress=1,save='',time=None):\n",
    "    right = 0.90\n",
    "    top = 0.90\n",
    "    R = np.linalg.inv(Rot)\n",
    "    tr = -np.dot(np.linalg.inv(Rot),trans)\n",
    "    if len(save)>=1:\n",
    "        fig=plt.figure(figsize=(14,12))\n",
    "        size = 10\n",
    "    else:\n",
    "        fig = plt.figure()\n",
    "        size = 5\n",
    "    ax = fig.add_subplot(111)\n",
    "    ax.imshow(imtp1, cmap='gray',interpolation='none')\n",
    "    ax.imshow(imt, cmap='jet', alpha=0.5,interpolation='none')\n",
    "    bbox_props1 = dict(boxstyle=\"circle\", fc=\"grey\")\n",
    "    bbox_props2 = dict(boxstyle=\"circle\", fc=\"white\")\n",
    "    ax.text(right, top, time,\n",
    "        horizontalalignment='right',\n",
    "        verticalalignment='bottom',\n",
    "        transform=ax.transAxes,color='white')\n",
    "    for node in node_list_t:\n",
    "        position = np.dot(R,pos_t[node])+tr\n",
    "        plt.scatter((position[1]-shift[1])//compress, (position[0]-shift[0])//compress,s=2,c='black')\n",
    "    for node in node_list_tp1:\n",
    "        if node in pos_tp1.keys():\n",
    "            position = np.dot(R,pos_tp1[node])+tr\n",
    "            plt.scatter((position[1]-shift[1])//compress, (position[0]-shift[0])//compress,s=2,c='green')\n",
    "    if len(save)>=1:\n",
    "        plt.savefig(save)\n",
    "        plt.close(fig)\n",
    "    else:\n",
    "        plt.show()"
   ]
  },
  {
   "cell_type": "code",
   "execution_count": 51,
   "metadata": {},
   "outputs": [
    {
     "data": {
      "application/vnd.jupyter.widget-view+json": {
       "model_id": "071b547088b644d7a1804905e50e39f8",
       "version_major": 2,
       "version_minor": 0
      },
      "text/plain": [
       "Canvas(toolbar=Toolbar(toolitems=[('Home', 'Reset original view', 'home', 'home'), ('Back', 'Back to previous …"
      ]
     },
     "metadata": {},
     "output_type": "display_data"
    }
   ],
   "source": [
    "plot_t_tp1([],[],None,None,skelet,im_stitched)"
   ]
  },
  {
   "cell_type": "code",
   "execution_count": 17,
   "metadata": {},
   "outputs": [
    {
     "data": {
      "application/vnd.jupyter.widget-view+json": {
       "model_id": "d3883b5fdc44499298724064a5bb3a08",
       "version_major": 2,
       "version_minor": 0
      },
      "text/plain": [
       "Canvas(toolbar=Toolbar(toolitems=[('Home', 'Reset original view', 'home', 'home'), ('Back', 'Back to previous …"
      ]
     },
     "metadata": {},
     "output_type": "display_data"
    },
    {
     "data": {
      "text/plain": [
       "<matplotlib.image.AxesImage at 0x2ac3af2d3450>"
      ]
     },
     "execution_count": 17,
     "metadata": {},
     "output_type": "execute_result"
    }
   ],
   "source": [
    "fig=plt.figure(figsize=(10,9))\n",
    "ax = fig.add_subplot(111)\n",
    "ax.imshow(im_stitched,cmap='gray')"
   ]
  },
  {
   "cell_type": "code",
   "execution_count": 28,
   "metadata": {},
   "outputs": [],
   "source": [
    "hyph_chose = [hyph for hyph in exp.hyphaes if hyph.end.label == 7016]"
   ]
  },
  {
   "cell_type": "code",
   "execution_count": 29,
   "metadata": {},
   "outputs": [
    {
     "data": {
      "text/plain": [
       "[14, 15, 16, 17, 18, 19]"
      ]
     },
     "execution_count": 29,
     "metadata": {},
     "output_type": "execute_result"
    }
   ],
   "source": [
    "hyph = hyph_chose[0]\n",
    "hyph.ts"
   ]
  },
  {
   "cell_type": "code",
   "execution_count": 31,
   "metadata": {},
   "outputs": [
    {
     "data": {
      "text/plain": [
       "[5, 6, 7, 8, 9, 10, 11, 12, 13, 14, 15, 16, 17, 18, 19]"
      ]
     },
     "execution_count": 31,
     "metadata": {},
     "output_type": "execute_result"
    }
   ],
   "source": [
    "hyph.end.ts()"
   ]
  },
  {
   "cell_type": "code",
   "execution_count": 17,
   "metadata": {},
   "outputs": [
    {
     "data": {
      "text/plain": [
       "[0, 1, 2, 3, 4, 5, 6, 7, 8, 9, 10, 11, 12, 13, 14, 15, 16, 17, 18, 19]"
      ]
     },
     "execution_count": 17,
     "metadata": {},
     "output_type": "execute_result"
    }
   ],
   "source": [
    "hyph = choice(exp.hyphaes)\n",
    "hyph.ts"
   ]
  },
  {
   "cell_type": "code",
   "execution_count": 30,
   "metadata": {},
   "outputs": [
    {
     "data": {
      "application/vnd.jupyter.widget-view+json": {
       "model_id": "5e884f91a01349069c1549100b7d437e",
       "version_major": 2,
       "version_minor": 0
      },
      "text/plain": [
       "Canvas(toolbar=Toolbar(toolitems=[('Home', 'Reset original view', 'home', 'home'), ('Back', 'Back to previous …"
      ]
     },
     "metadata": {},
     "output_type": "display_data"
    }
   ],
   "source": [
    "plt.close('all')\n",
    "exp.plot([hyph.ts[0],hyph.ts[-1]],[[hyph.root.label,hyph.end.label]]*2)"
   ]
  },
  {
   "cell_type": "code",
   "execution_count": 32,
   "metadata": {},
   "outputs": [
    {
     "data": {
      "application/vnd.jupyter.widget-view+json": {
       "model_id": "8fde0dfd2fff47e2804d8e6ace9b3000",
       "version_major": 2,
       "version_minor": 0
      },
      "text/plain": [
       "Canvas(toolbar=Toolbar(toolitems=[('Home', 'Reset original view', 'home', 'home'), ('Back', 'Back to previous …"
      ]
     },
     "metadata": {},
     "output_type": "display_data"
    }
   ],
   "source": [
    "plt.close('all')\n",
    "hyph.end.show_source_image(hyph.ts[-1],hyph.ts[-1])"
   ]
  },
  {
   "cell_type": "code",
   "execution_count": 57,
   "metadata": {},
   "outputs": [],
   "source": [
    "t=9"
   ]
  },
  {
   "cell_type": "code",
   "execution_count": 58,
   "metadata": {},
   "outputs": [
    {
     "data": {
      "text/plain": [
       "array([14396, 19883])"
      ]
     },
     "execution_count": 58,
     "metadata": {},
     "output_type": "execute_result"
    }
   ],
   "source": [
    "hyph.root.pos(t)"
   ]
  },
  {
   "cell_type": "code",
   "execution_count": 14,
   "metadata": {},
   "outputs": [
    {
     "name": "stdout",
     "output_type": "stream",
     "text": [
      "(0, 470, 0, 921)\n",
      "(0, 538, 0, 4033)\n",
      "(0, 611, 3159, 7255)\n",
      "(0, 686, 6370, 8000)\n",
      "(0, 2882, 0, 742)\n",
      "(0, 2951, 0, 3981)\n",
      "(22, 3022, 3106, 7202)\n",
      "(94, 3094, 6317, 8000)\n",
      "(2303, 5303, 0, 685)\n",
      "(2371, 5371, 0, 3926)\n",
      "(2443, 5443, 3051, 7147)\n",
      "(2517, 5517, 6262, 8000)\n",
      "(4711, 7711, 0, 629)\n",
      "(4783, 7783, 0, 3866)\n",
      "(4853, 7853, 2990, 7086)\n",
      "(4925, 7925, 6200, 8000)\n",
      "(7121, 10000, 0, 577)\n",
      "(7194, 10000, 0, 3812)\n",
      "(7264, 10000, 2935, 7031)\n",
      "(7334, 10000, 6144, 8000)\n",
      "(9526, 10000, 0, 519)\n",
      "(9596, 10000, 0, 3753)\n",
      "(9665, 10000, 2873, 6969)\n",
      "(9739, 10000, 6083, 8000)\n"
     ]
    },
    {
     "data": {
      "application/vnd.jupyter.widget-view+json": {
       "model_id": "6924b6f54398479db9c6691f3f624943",
       "version_major": 2,
       "version_minor": 0
      },
      "text/plain": [
       "Canvas(toolbar=Toolbar(toolitems=[('Home', 'Reset original view', 'home', 'home'), ('Back', 'Back to previous …"
      ]
     },
     "metadata": {},
     "output_type": "display_data"
    },
    {
     "data": {
      "text/plain": [
       "<matplotlib.image.AxesImage at 0x2b5ac139a050>"
      ]
     },
     "execution_count": 14,
     "metadata": {},
     "output_type": "execute_result"
    }
   ],
   "source": [
    "boundaries = (10000,20000,7000,15000)\n",
    "t = 10\n",
    "i = t\n",
    "plate = exp.plate\n",
    "directory = \"/scratch/shared/mrozemul/Fiji.app/\" \n",
    "listdir=os.listdir(directory) \n",
    "dates = exp.dates\n",
    "date =dates [i]\n",
    "directory_name=f'2020{date}_Plate{0 if plate<10 else \"\"}{plate}'\n",
    "path_snap='/scratch/shared/mrozemul/Fiji.app/'+directory_name\n",
    "path_tile=path_snap+'/Img/TileConfiguration.txt.registered'\n",
    "try:\n",
    "    tileconfig = pd.read_table(path_tile,sep=';',skiprows=4,header=None,converters={2 : ast.literal_eval},skipinitialspace=True)\n",
    "except:\n",
    "    print('error_name')\n",
    "    path_tile=path_snap+'/Img/TileConfiguration.registered.txt'\n",
    "    tileconfig = pd.read_table(path_tile,sep=';',skiprows=4,header=None,converters={2 : ast.literal_eval},skipinitialspace=True)\n",
    "skel = read_mat(path_snap+'/Analysis/skeleton_realigned.mat')\n",
    "Rot= skel['R']\n",
    "trans = skel['t']\n",
    "shape = (3000,4096)\n",
    "xs =[c[0] for c in tileconfig[2]]\n",
    "ys =[c[1] for c in tileconfig[2]]\n",
    "dim = (boundaries[1]-boundaries[0],boundaries[3]-boundaries[2])\n",
    "ims = []\n",
    "for name in tileconfig[0]:\n",
    "#     ims.append(imageio.imread('//sun.amolf.nl/shimizu-data/home-folder/oyartegalvez/Drive_AMFtopology/PRINCE'+date_plate+plate_str+'/Img/'+name))\n",
    "    ims.append(imageio.imread(f'{name}'))\n",
    "im_stitched = np.zeros(dim,dtype=np.uint8)\n",
    "for index,im in enumerate(ims):\n",
    "    xyangle = np.array([int(tileconfig[2][index][0]-np.min(xs)),int(tileconfig[2][index][1]-np.min(ys))])\n",
    "#     xyangle_corrected =  np.transpose(np.transpose(np.dot(Rot,xyangle))+trans)\n",
    "    xyangle_corrected =  xyangle\n",
    "    limits = int(xyangle_corrected[0]-boundaries[0]),int(xyangle_corrected[1]-boundaries[2])\n",
    "    if limits[1]>=-shape[0] and limits[1]<=dim[0] and limits[0]>=-shape[1] and limits[0]<=dim[1]:\n",
    "        b_im_s = max(0,limits[1]),min(dim[0],limits[1]+shape[0]),max(0,limits[0]),min(dim[1],limits[0]+shape[1])\n",
    "        shape_crop = b_im_s[1]-b_im_s[0], b_im_s[3]-b_im_s[2]\n",
    "        b_im0 =-limits[1] if limits[1]<0 else 0\n",
    "        b_im1 = b_im0+shape_crop[0]\n",
    "        b_im2 = -limits[0] if limits[0]<0 else 0\n",
    "        b_im3 = b_im2+shape_crop[1]\n",
    "        b_im = b_im0,b_im1,b_im2,b_im3\n",
    "        im_stitched[b_im_s[0]:b_im_s[1],b_im_s[2]:b_im_s[3]] = im[b_im[0]:b_im[1],b_im[2]:b_im[3]]\n",
    "plt.close('all')\n",
    "fig=plt.figure(figsize=(10,9))\n",
    "ax = fig.add_subplot(111)\n",
    "ax.imshow(im_stitched)"
   ]
  },
  {
   "cell_type": "code",
   "execution_count": 18,
   "metadata": {},
   "outputs": [],
   "source": [
    "boundaries = (13000,20000,18000,28000)\n",
    "t = 10\n",
    "i = t\n",
    "plate = exp.plate\n",
    "directory = \"/scratch/shared/mrozemul/Fiji.app/\" \n",
    "listdir=os.listdir(directory) \n",
    "dates = exp.dates\n",
    "date =dates [i]\n",
    "directory_name=f'2020{date}_Plate{0 if plate<10 else \"\"}{plate}'\n",
    "path_snap='/scratch/shared/mrozemul/Fiji.app/'+directory_name\n",
    "path_tile=path_snap+'/Img/TileConfiguration.txt.registered'\n",
    "try:\n",
    "    tileconfig = pd.read_table(path_tile,sep=';',skiprows=4,header=None,converters={2 : ast.literal_eval},skipinitialspace=True)\n",
    "except:\n",
    "    print('error_name')\n",
    "    path_tile=path_snap+'/Img/TileConfiguration.registered.txt'\n",
    "    tileconfig = pd.read_table(path_tile,sep=';',skiprows=4,header=None,converters={2 : ast.literal_eval},skipinitialspace=True)\n",
    "skel = read_mat(path_snap+'/Analysis/skeleton_realigned.mat')\n",
    "Rot= skel['R']\n",
    "trans = skel['t']\n",
    "shape = (3000,4096)\n",
    "xs =[c[0] for c in tileconfig[2]]\n",
    "ys =[c[1] for c in tileconfig[2]]\n",
    "dim = (boundaries[1]-boundaries[0],boundaries[3]-boundaries[2])\n",
    "ims = []\n",
    "for name in tileconfig[0]:\n",
    "#     ims.append(imageio.imread('//sun.amolf.nl/shimizu-data/home-folder/oyartegalvez/Drive_AMFtopology/PRINCE'+date_plate+plate_str+'/Img/'+name))\n",
    "    ims.append(imageio.imread(f'{name}'))\n",
    "im_stitched = np.zeros(dim,dtype=np.uint8)\n",
    "\n"
   ]
  },
  {
   "cell_type": "code",
   "execution_count": 50,
   "metadata": {},
   "outputs": [
    {
     "name": "stdout",
     "output_type": "stream",
     "text": [
      "(0, 2008, 0, 693)\n",
      "(0, 2082, 0, 3909)\n",
      "(0, 2152, 3020, 7000)\n",
      "(0, 2221, 6244, 7000)\n"
     ]
    }
   ],
   "source": []
  },
  {
   "cell_type": "code",
   "execution_count": 26,
   "metadata": {},
   "outputs": [
    {
     "data": {
      "text/plain": [
       "(3000, 4096)"
      ]
     },
     "execution_count": 26,
     "metadata": {},
     "output_type": "execute_result"
    }
   ],
   "source": [
    "im.shape"
   ]
  },
  {
   "cell_type": "code",
   "execution_count": 46,
   "metadata": {},
   "outputs": [
    {
     "data": {
      "text/plain": [
       "(2008, 5008, 693, 4789)"
      ]
     },
     "execution_count": 46,
     "metadata": {},
     "output_type": "execute_result"
    }
   ],
   "source": [
    "b_im"
   ]
  },
  {
   "cell_type": "code",
   "execution_count": 23,
   "metadata": {},
   "outputs": [
    {
     "data": {
      "text/plain": [
       "(7000, 10000)"
      ]
     },
     "execution_count": 23,
     "metadata": {},
     "output_type": "execute_result"
    }
   ],
   "source": [
    "dim"
   ]
  },
  {
   "cell_type": "code",
   "execution_count": null,
   "metadata": {},
   "outputs": [],
   "source": []
  },
  {
   "cell_type": "code",
   "execution_count": 7,
   "metadata": {},
   "outputs": [
    {
     "data": {
      "text/plain": [
       "(3020, 7116, 3020)"
      ]
     },
     "execution_count": 7,
     "metadata": {},
     "output_type": "execute_result"
    }
   ],
   "source": [
    "max(0,limits[0]),limits[0]+shape[1],limits[0]"
   ]
  },
  {
   "cell_type": "code",
   "execution_count": 9,
   "metadata": {},
   "outputs": [
    {
     "data": {
      "text/plain": [
       "(2152, 4096)"
      ]
     },
     "execution_count": 9,
     "metadata": {},
     "output_type": "execute_result"
    }
   ],
   "source": [
    "im[-min(0,limits[1]):,-min(0,limits[0]):].shape"
   ]
  },
  {
   "cell_type": "code",
   "execution_count": 11,
   "metadata": {},
   "outputs": [
    {
     "data": {
      "text/plain": [
       "(3020, 7116)"
      ]
     },
     "execution_count": 11,
     "metadata": {},
     "output_type": "execute_result"
    }
   ],
   "source": [
    "max(0,limits[0]),limits[0]+shape[1]"
   ]
  }
 ],
 "metadata": {
  "kernelspec": {
   "display_name": "Python 3",
   "language": "python",
   "name": "python3"
  },
  "language_info": {
   "codemirror_mode": {
    "name": "ipython",
    "version": 3
   },
   "file_extension": ".py",
   "mimetype": "text/x-python",
   "name": "python",
   "nbconvert_exporter": "python",
   "pygments_lexer": "ipython3",
   "version": "3.7.7"
  }
 },
 "nbformat": 4,
 "nbformat_minor": 4
}

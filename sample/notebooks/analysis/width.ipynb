{
 "cells": [
  {
   "cell_type": "code",
   "execution_count": 8,
   "metadata": {},
   "outputs": [],
   "source": [
    "%matplotlib widget\n",
    "\n",
    "import sys  \n",
    "sys.path.insert(0, '/home/cbisot/pycode/MscThesis/')\n",
    "import pandas as pd\n",
    "from sample.util import get_dates_datetime, get_dirname, get_plate_number, get_postion_number\n",
    "\n",
    "import ast\n",
    "from sample.plotutil import plot_t_tp1\n",
    "from scipy import sparse\n",
    "from datetime import datetime\n",
    "from sample.pipeline.functions.node_id import orient\n",
    "import pickle\n",
    "import scipy.io as sio\n",
    "from pymatreader import read_mat\n",
    "from matplotlib import colors\n",
    "import cv2\n",
    "import imageio\n",
    "import matplotlib.pyplot as plt\n",
    "import numpy as np\n",
    "from skimage.filters import frangi\n",
    "from skimage import filters\n",
    "from random import choice\n",
    "import scipy.sparse\n",
    "import os\n",
    "from sample.pipeline.functions.extract_graph import from_sparse_to_graph, generate_nx_graph, sparse_to_doc\n",
    "from skimage.feature import hessian_matrix_det\n",
    "from sample.pipeline.functions.experiment_class_surf import Experiment, Edge, Node\n",
    "from sample.paths.directory import run_parallel, find_state, directory_scratch, directory_project"
   ]
  },
  {
   "cell_type": "code",
   "execution_count": 3,
   "metadata": {},
   "outputs": [],
   "source": [
    "directory = \"/projects/0/einf914/data/\""
   ]
  },
  {
   "cell_type": "code",
   "execution_count": 4,
   "metadata": {},
   "outputs": [],
   "source": [
    "plate = 40\n",
    "begin = 0\n",
    "end = 37\n",
    "dates_datetime = get_dates_datetime(directory,plate)\n",
    "dates_datetime.sort()\n",
    "dates_datetime_chosen = dates_datetime[begin : end + 1]\n",
    "dates = dates_datetime_chosen\n",
    "exp = Experiment(plate, directory)\n",
    "exp.load(dates,True)"
   ]
  },
  {
   "cell_type": "code",
   "execution_count": 9,
   "metadata": {},
   "outputs": [],
   "source": [
    "edges = set()\n",
    "for t in range(exp.ts):\n",
    "    graph = exp.nx_graph[t]\n",
    "    for edge in graph.edges:\n",
    "        edge_obj = Edge(Node(min(edge),exp),Node(max(edge),exp),exp)\n",
    "        edges.add(edge_obj)"
   ]
  },
  {
   "cell_type": "code",
   "execution_count": 28,
   "metadata": {},
   "outputs": [
    {
     "name": "stdout",
     "output_type": "stream",
     "text": [
      "[14, 15, 16, 17, 18, 19, 20, 21, 22, 23, 24, 25, 26, 27, 28, 29, 30, 31, 32, 33, 34, 35, 36, 37] 110\n"
     ]
    }
   ],
   "source": [
    "edge = choice(list(edges))\n",
    "print(edge.ts(),len(edge.pixel_list(edge.ts()[0])))"
   ]
  },
  {
   "cell_type": "code",
   "execution_count": 29,
   "metadata": {},
   "outputs": [
    {
     "data": {
      "application/vnd.jupyter.widget-view+json": {
       "model_id": "80a09e801ff549cb9f59e3c021b0f268",
       "version_major": 2,
       "version_minor": 0
      },
      "text/plain": [
       "Canvas(toolbar=Toolbar(toolitems=[('Home', 'Reset original view', 'home', 'home'), ('Back', 'Back to previous …"
      ]
     },
     "metadata": {},
     "output_type": "display_data"
    },
    {
     "data": {
      "text/plain": [
       "Text(0, 0.5, 'width ($\\\\mu m $)')"
      ]
     },
     "execution_count": 29,
     "metadata": {},
     "output_type": "execute_result"
    }
   ],
   "source": [
    "plt.rcParams.update({'font.size': 22})\n",
    "fig=plt.figure(figsize=(7,6))\n",
    "ax = fig.add_subplot(111)\n",
    "ax.plot(edge.ts(),[edge.width(t) for t in edge.ts()])\n",
    "ax.set_xlabel('timestep')\n",
    "ax.set_ylabel(r'width ($\\mu m $)')"
   ]
  },
  {
   "cell_type": "code",
   "execution_count": 5,
   "metadata": {},
   "outputs": [],
   "source": [
    "t0=33\n",
    "pixels=[]\n",
    "for edge in edges:\n",
    "    if edge.is_in(t0):\n",
    "        pixels.append(((edge.begin.pos(t0)+edge.end.pos(t0))/2,edge.width(t0)))\n",
    "\n"
   ]
  },
  {
   "cell_type": "code",
   "execution_count": 56,
   "metadata": {
    "collapsed": true,
    "jupyter": {
     "outputs_hidden": true
    }
   },
   "outputs": [
    {
     "name": "stdout",
     "output_type": "stream",
     "text": [
      "Help on ListedColormap in module matplotlib.colors object:\n",
      "\n",
      "class ListedColormap(Colormap)\n",
      " |  ListedColormap(colors, name='from_list', N=None)\n",
      " |  \n",
      " |  Colormap object generated from a list of colors.\n",
      " |  \n",
      " |  This may be most useful when indexing directly into a colormap,\n",
      " |  but it can also be used to generate special colormaps for ordinary\n",
      " |  mapping.\n",
      " |  \n",
      " |  Method resolution order:\n",
      " |      ListedColormap\n",
      " |      Colormap\n",
      " |      builtins.object\n",
      " |  \n",
      " |  Methods defined here:\n",
      " |  \n",
      " |  __init__(self, colors, name='from_list', N=None)\n",
      " |      Make a colormap from a list of colors.\n",
      " |      \n",
      " |      *colors*\n",
      " |          a list of matplotlib color specifications,\n",
      " |          or an equivalent Nx3 or Nx4 floating point array\n",
      " |          (*N* rgb or rgba values)\n",
      " |      *name*\n",
      " |          a string to identify the colormap\n",
      " |      *N*\n",
      " |          the number of entries in the map.  The default is *None*,\n",
      " |          in which case there is one colormap entry for each\n",
      " |          element in the list of colors.  If::\n",
      " |      \n",
      " |              N < len(colors)\n",
      " |      \n",
      " |          the list will be truncated at *N*.  If::\n",
      " |      \n",
      " |              N > len(colors)\n",
      " |      \n",
      " |          the list will be extended by repetition.\n",
      " |  \n",
      " |  reversed(self, name=None)\n",
      " |      Make a reversed instance of the Colormap.\n",
      " |      \n",
      " |      Parameters\n",
      " |      ----------\n",
      " |      name : str, optional\n",
      " |          The name for the reversed colormap. If it's None the\n",
      " |          name will be the name of the parent colormap + \"_r\".\n",
      " |      \n",
      " |      Returns\n",
      " |      -------\n",
      " |      ListedColormap\n",
      " |          A reversed instance of the colormap.\n",
      " |  \n",
      " |  ----------------------------------------------------------------------\n",
      " |  Methods inherited from Colormap:\n",
      " |  \n",
      " |  __call__(self, X, alpha=None, bytes=False)\n",
      " |      Parameters\n",
      " |      ----------\n",
      " |      X : scalar, ndarray\n",
      " |          The data value(s) to convert to RGBA.\n",
      " |          For floats, X should be in the interval ``[0.0, 1.0]`` to\n",
      " |          return the RGBA values ``X*100`` percent along the Colormap line.\n",
      " |          For integers, X should be in the interval ``[0, Colormap.N)`` to\n",
      " |          return RGBA values *indexed* from the Colormap with index ``X``.\n",
      " |      alpha : float, None\n",
      " |          Alpha must be a scalar between 0 and 1, or None.\n",
      " |      bytes : bool\n",
      " |          If False (default), the returned RGBA values will be floats in the\n",
      " |          interval ``[0, 1]`` otherwise they will be uint8s in the interval\n",
      " |          ``[0, 255]``.\n",
      " |      \n",
      " |      Returns\n",
      " |      -------\n",
      " |      Tuple of RGBA values if X is scalar, otherwise an array of\n",
      " |      RGBA values with a shape of ``X.shape + (4, )``.\n",
      " |  \n",
      " |  __copy__(self)\n",
      " |      Create new object with the same class, update attributes\n",
      " |  \n",
      " |  is_gray(self)\n",
      " |  \n",
      " |  set_bad(self, color='k', alpha=None)\n",
      " |      Set color to be used for masked values.\n",
      " |  \n",
      " |  set_over(self, color='k', alpha=None)\n",
      " |      Set color to be used for high out-of-range values.\n",
      " |      Requires norm.clip = False\n",
      " |  \n",
      " |  set_under(self, color='k', alpha=None)\n",
      " |      Set color to be used for low out-of-range values.\n",
      " |      Requires norm.clip = False\n",
      " |  \n",
      " |  ----------------------------------------------------------------------\n",
      " |  Data descriptors inherited from Colormap:\n",
      " |  \n",
      " |  __dict__\n",
      " |      dictionary for instance variables (if defined)\n",
      " |  \n",
      " |  __weakref__\n",
      " |      list of weak references to the object (if defined)\n",
      "\n"
     ]
    }
   ],
   "source": [
    "help(plt.cm.get_cmap('plasma'))"
   ]
  },
  {
   "cell_type": "code",
   "execution_count": 62,
   "metadata": {},
   "outputs": [
    {
     "data": {
      "application/vnd.jupyter.widget-view+json": {
       "model_id": "e95acdc8b1bf4910a06eb98f43a4e65a",
       "version_major": 2,
       "version_minor": 0
      },
      "text/plain": [
       "Canvas(toolbar=Toolbar(toolitems=[('Home', 'Reset original view', 'home', 'home'), ('Back', 'Back to previous …"
      ]
     },
     "metadata": {},
     "output_type": "display_data"
    },
    {
     "name": "stdout",
     "output_type": "stream",
     "text": [
      "(Node(775), Node(1088))\n",
      "(Node(1160), Node(1466))\n"
     ]
    },
    {
     "data": {
      "text/plain": [
       "<matplotlib.colorbar.Colorbar at 0x2b96207c6f50>"
      ]
     },
     "execution_count": 62,
     "metadata": {},
     "output_type": "execute_result"
    }
   ],
   "source": [
    "t0=10\n",
    "plt.close('all')\n",
    "# fig = plt.figure()\n",
    "# ax = fig.add_subplot(111)\n",
    "exp.plot_raw(t0)\n",
    "for edge in edges:\n",
    "    if edge.is_in(t0):\n",
    "        try:\n",
    "            width = edge.width(t0)\n",
    "        except:\n",
    "            print(edge)\n",
    "        begin = edge.begin.pos(t0)\n",
    "        end = edge.end.pos(t0)\n",
    "        plt.plot((begin[1]//5,end[1]//5), (begin[0]//5,end[0]//5),color = plt.cm.get_cmap('plasma')(width/60))\n",
    "sm = plt.cm.ScalarMappable(cmap=plt.cm.get_cmap('plasma'), norm=plt.Normalize(vmin=0, vmax=60))\n",
    "sm._A = []\n",
    "plt.colorbar(sm)"
   ]
  },
  {
   "cell_type": "code",
   "execution_count": 34,
   "metadata": {},
   "outputs": [],
   "source": [
    "x,y,c = [pixel[0][0]for pixel in pixels],[pixel[0][1] for pixel in pixels], [pixel[1] for pixel in pixels]"
   ]
  },
  {
   "cell_type": "code",
   "execution_count": 35,
   "metadata": {},
   "outputs": [],
   "source": [
    "X, Y = np.meshgrid(x, y)"
   ]
  },
  {
   "cell_type": "code",
   "execution_count": 37,
   "metadata": {},
   "outputs": [
    {
     "ename": "ValueError",
     "evalue": "not enough values to unpack (expected 2, got 1)",
     "output_type": "error",
     "traceback": [
      "\u001b[0;31m---------------------------------------------------------------------------\u001b[0m",
      "\u001b[0;31mValueError\u001b[0m                                Traceback (most recent call last)",
      "\u001b[0;32m<ipython-input-37-23f6ba30d154>\u001b[0m in \u001b[0;36m<module>\u001b[0;34m\u001b[0m\n\u001b[1;32m      1\u001b[0m \u001b[0mfig\u001b[0m\u001b[0;34m=\u001b[0m\u001b[0mplt\u001b[0m\u001b[0;34m.\u001b[0m\u001b[0mfigure\u001b[0m\u001b[0;34m(\u001b[0m\u001b[0mfigsize\u001b[0m\u001b[0;34m=\u001b[0m\u001b[0;34m(\u001b[0m\u001b[0;36m10\u001b[0m\u001b[0;34m,\u001b[0m\u001b[0;36m9\u001b[0m\u001b[0;34m)\u001b[0m\u001b[0;34m)\u001b[0m\u001b[0;34m\u001b[0m\u001b[0;34m\u001b[0m\u001b[0m\n\u001b[1;32m      2\u001b[0m \u001b[0max\u001b[0m \u001b[0;34m=\u001b[0m \u001b[0mfig\u001b[0m\u001b[0;34m.\u001b[0m\u001b[0madd_subplot\u001b[0m\u001b[0;34m(\u001b[0m\u001b[0;36m111\u001b[0m\u001b[0;34m)\u001b[0m\u001b[0;34m\u001b[0m\u001b[0;34m\u001b[0m\u001b[0m\n\u001b[0;32m----> 3\u001b[0;31m \u001b[0max\u001b[0m\u001b[0;34m.\u001b[0m\u001b[0mpcolormesh\u001b[0m\u001b[0;34m(\u001b[0m\u001b[0mX\u001b[0m\u001b[0;34m,\u001b[0m\u001b[0mY\u001b[0m\u001b[0;34m,\u001b[0m\u001b[0mc\u001b[0m\u001b[0;34m)\u001b[0m\u001b[0;34m\u001b[0m\u001b[0;34m\u001b[0m\u001b[0m\n\u001b[0m",
      "\u001b[0;32m~/anaconda3/envs/test/lib/python3.7/site-packages/matplotlib/__init__.py\u001b[0m in \u001b[0;36minner\u001b[0;34m(ax, data, *args, **kwargs)\u001b[0m\n\u001b[1;32m   1808\u001b[0m                         \u001b[0;34m\"the Matplotlib list!)\"\u001b[0m \u001b[0;34m%\u001b[0m \u001b[0;34m(\u001b[0m\u001b[0mlabel_namer\u001b[0m\u001b[0;34m,\u001b[0m \u001b[0mfunc\u001b[0m\u001b[0;34m.\u001b[0m\u001b[0m__name__\u001b[0m\u001b[0;34m)\u001b[0m\u001b[0;34m,\u001b[0m\u001b[0;34m\u001b[0m\u001b[0;34m\u001b[0m\u001b[0m\n\u001b[1;32m   1809\u001b[0m                         RuntimeWarning, stacklevel=2)\n\u001b[0;32m-> 1810\u001b[0;31m             \u001b[0;32mreturn\u001b[0m \u001b[0mfunc\u001b[0m\u001b[0;34m(\u001b[0m\u001b[0max\u001b[0m\u001b[0;34m,\u001b[0m \u001b[0;34m*\u001b[0m\u001b[0margs\u001b[0m\u001b[0;34m,\u001b[0m \u001b[0;34m**\u001b[0m\u001b[0mkwargs\u001b[0m\u001b[0;34m)\u001b[0m\u001b[0;34m\u001b[0m\u001b[0;34m\u001b[0m\u001b[0m\n\u001b[0m\u001b[1;32m   1811\u001b[0m \u001b[0;34m\u001b[0m\u001b[0m\n\u001b[1;32m   1812\u001b[0m         inner.__doc__ = _add_data_doc(inner.__doc__,\n",
      "\u001b[0;32m~/anaconda3/envs/test/lib/python3.7/site-packages/matplotlib/axes/_axes.py\u001b[0m in \u001b[0;36mpcolormesh\u001b[0;34m(self, alpha, norm, cmap, vmin, vmax, shading, antialiased, *args, **kwargs)\u001b[0m\n\u001b[1;32m   5980\u001b[0m         \u001b[0mallmatch\u001b[0m \u001b[0;34m=\u001b[0m \u001b[0;34m(\u001b[0m\u001b[0mshading\u001b[0m \u001b[0;34m==\u001b[0m \u001b[0;34m'gouraud'\u001b[0m\u001b[0;34m)\u001b[0m\u001b[0;34m\u001b[0m\u001b[0;34m\u001b[0m\u001b[0m\n\u001b[1;32m   5981\u001b[0m \u001b[0;34m\u001b[0m\u001b[0m\n\u001b[0;32m-> 5982\u001b[0;31m         \u001b[0mX\u001b[0m\u001b[0;34m,\u001b[0m \u001b[0mY\u001b[0m\u001b[0;34m,\u001b[0m \u001b[0mC\u001b[0m \u001b[0;34m=\u001b[0m \u001b[0mself\u001b[0m\u001b[0;34m.\u001b[0m\u001b[0m_pcolorargs\u001b[0m\u001b[0;34m(\u001b[0m\u001b[0;34m'pcolormesh'\u001b[0m\u001b[0;34m,\u001b[0m \u001b[0;34m*\u001b[0m\u001b[0margs\u001b[0m\u001b[0;34m,\u001b[0m \u001b[0mallmatch\u001b[0m\u001b[0;34m=\u001b[0m\u001b[0mallmatch\u001b[0m\u001b[0;34m)\u001b[0m\u001b[0;34m\u001b[0m\u001b[0;34m\u001b[0m\u001b[0m\n\u001b[0m\u001b[1;32m   5983\u001b[0m         \u001b[0mNy\u001b[0m\u001b[0;34m,\u001b[0m \u001b[0mNx\u001b[0m \u001b[0;34m=\u001b[0m \u001b[0mX\u001b[0m\u001b[0;34m.\u001b[0m\u001b[0mshape\u001b[0m\u001b[0;34m\u001b[0m\u001b[0;34m\u001b[0m\u001b[0m\n\u001b[1;32m   5984\u001b[0m         \u001b[0mX\u001b[0m \u001b[0;34m=\u001b[0m \u001b[0mX\u001b[0m\u001b[0;34m.\u001b[0m\u001b[0mravel\u001b[0m\u001b[0;34m(\u001b[0m\u001b[0;34m)\u001b[0m\u001b[0;34m\u001b[0m\u001b[0;34m\u001b[0m\u001b[0m\n",
      "\u001b[0;32m~/anaconda3/envs/test/lib/python3.7/site-packages/matplotlib/axes/_axes.py\u001b[0m in \u001b[0;36m_pcolorargs\u001b[0;34m(funcname, allmatch, *args)\u001b[0m\n\u001b[1;32m   5547\u001b[0m                 \u001b[0;32mif\u001b[0m \u001b[0misinstance\u001b[0m\u001b[0;34m(\u001b[0m\u001b[0mY\u001b[0m\u001b[0;34m,\u001b[0m \u001b[0mnp\u001b[0m\u001b[0;34m.\u001b[0m\u001b[0mma\u001b[0m\u001b[0;34m.\u001b[0m\u001b[0mcore\u001b[0m\u001b[0;34m.\u001b[0m\u001b[0mMaskedArray\u001b[0m\u001b[0;34m)\u001b[0m\u001b[0;34m:\u001b[0m\u001b[0;34m\u001b[0m\u001b[0;34m\u001b[0m\u001b[0m\n\u001b[1;32m   5548\u001b[0m                     \u001b[0mY\u001b[0m \u001b[0;34m=\u001b[0m \u001b[0mY\u001b[0m\u001b[0;34m.\u001b[0m\u001b[0mdata\u001b[0m\u001b[0;34m\u001b[0m\u001b[0;34m\u001b[0m\u001b[0m\n\u001b[0;32m-> 5549\u001b[0;31m             \u001b[0mnumRows\u001b[0m\u001b[0;34m,\u001b[0m \u001b[0mnumCols\u001b[0m \u001b[0;34m=\u001b[0m \u001b[0mC\u001b[0m\u001b[0;34m.\u001b[0m\u001b[0mshape\u001b[0m\u001b[0;34m\u001b[0m\u001b[0;34m\u001b[0m\u001b[0m\n\u001b[0m\u001b[1;32m   5550\u001b[0m         \u001b[0;32melse\u001b[0m\u001b[0;34m:\u001b[0m\u001b[0;34m\u001b[0m\u001b[0;34m\u001b[0m\u001b[0m\n\u001b[1;32m   5551\u001b[0m             raise TypeError(\n",
      "\u001b[0;31mValueError\u001b[0m: not enough values to unpack (expected 2, got 1)"
     ]
    },
    {
     "data": {
      "image/png": "[encoded data removed]",
      "text/plain": [
       "<Figure size 720x648 with 1 Axes>"
      ]
     },
     "metadata": {
      "needs_background": "light"
     },
     "output_type": "display_data"
    }
   ],
   "source": [
    "fig=plt.figure(figsize=(10,9))\n",
    "ax = fig.add_subplot(111)\n",
    "ax.pcolormesh(X,Y,c)"
   ]
  },
  {
   "cell_type": "code",
   "execution_count": 38,
   "metadata": {},
   "outputs": [
    {
     "data": {
      "text/plain": [
       "array([[0.65184612, 0.66056643, 0.12499956, 0.7364519 , 0.1793078 ,\n",
       "        0.42830398, 0.86415191, 0.46723791, 0.28685484, 0.60543425],\n",
       "       [0.49024466, 0.03816605, 0.63126177, 0.15640546, 0.02297815,\n",
       "        0.33344225, 0.58576963, 0.0881237 , 0.1128793 , 0.69476874],\n",
       "       [0.42492862, 0.43227348, 0.42959667, 0.49371282, 0.17220331,\n",
       "        0.04714904, 0.17751601, 0.3878863 , 0.24217817, 0.54123831],\n",
       "       [0.33657338, 0.69719528, 0.38260422, 0.00809375, 0.49907962,\n",
       "        0.62683143, 0.42223888, 0.61668441, 0.16818435, 0.96519325],\n",
       "       [0.14741769, 0.33200052, 0.45050359, 0.47443733, 0.86062992,\n",
       "        0.11826813, 0.78142622, 0.61928262, 0.69741385, 0.94069517],\n",
       "       [0.14954074, 0.29846353, 0.80996295, 0.5451993 , 0.14765597,\n",
       "        0.81791178, 0.35439332, 0.22418863, 0.1677418 , 0.09178806]])"
      ]
     },
     "execution_count": 38,
     "metadata": {},
     "output_type": "execute_result"
    }
   ],
   "source": [
    "np.random.rand(6, 10)"
   ]
  },
  {
   "cell_type": "code",
   "execution_count": 2,
   "metadata": {},
   "outputs": [],
   "source": [
    "class Edge:\n",
    "    def __init__(self, begin, end, experiment):\n",
    "        self.begin = begin\n",
    "        self.end = end\n",
    "        self.experiment = experiment\n",
    "\n",
    "    def __eq__(self, other):\n",
    "        return (self.begin == other.begin and self.end == other.end)\n",
    "\n",
    "    def __repr__(self):\n",
    "        return f\"Edge({self.begin},{self.end})\"\n",
    "\n",
    "    def __str__(self):\n",
    "        return str((self.begin, self.end))\n",
    "    \n",
    "    def __hash__(self):\n",
    "        return (self.begin, self.end).__hash__()\n",
    "\n",
    "    def is_in(self, t):\n",
    "        return (self.begin.label, self.end.label) in self.experiment.nx_graph[t].edges\n",
    "    \n",
    "    def ts(self):\n",
    "        return [t for t in range(self.experiment.ts) if self.is_in(t)]\n",
    "\n",
    "    def pixel_list(self, t):\n",
    "        return orient(\n",
    "            self.experiment.nx_graph[t].get_edge_data(self.begin.label, self.end.label)[\n",
    "                \"pixel_list\"\n",
    "            ],\n",
    "            self.begin.pos(t),\n",
    "        )\n",
    "    def width(self, t):\n",
    "        return (self.experiment.nx_graph[t].get_edge_data(self.begin.label, self.end.label)[\n",
    "                \"width\"\n",
    "            ])\n",
    "\n",
    "\n",
    "    def orientation_whole(self, t):\n",
    "        pixel_list = np.array(self.pixel_list(t))\n",
    "        vector = pixel_list[-1] - pixel_list[0]\n",
    "        unit_vector = vector / np.linalg.norm(vector)\n",
    "        vertical_vector = np.array([-1, 0])\n",
    "        dot_product = np.dot(vertical_vector, unit_vector)\n",
    "        if (\n",
    "            vertical_vector[1] * vector[0] - vertical_vector[0] * vector[1] >= 0\n",
    "        ):  # determinant\n",
    "            angle = np.arccos(dot_product) / (2 * np.pi) * 360\n",
    "        else:\n",
    "            angle = -np.arccos(dot_product) / (2 * np.pi) * 360\n",
    "        return angle\n",
    "\n",
    "    def orientation_begin(self, t, length=20):\n",
    "        pixel_list = np.array(self.pixel_list(t))\n",
    "        vector = pixel_list[min(length, len(pixel_list) - 1)] - pixel_list[0]\n",
    "        unit_vector = vector / np.linalg.norm(vector)\n",
    "        vertical_vector = np.array([-1, 0])\n",
    "        dot_product = np.dot(vertical_vector, unit_vector)\n",
    "        if (\n",
    "            vertical_vector[1] * vector[0] - vertical_vector[0] * vector[1] >= 0\n",
    "        ):  # determinant\n",
    "            angle = np.arccos(dot_product) / (2 * np.pi) * 360\n",
    "        else:\n",
    "            angle = -np.arccos(dot_product) / (2 * np.pi) * 360\n",
    "        return angle\n",
    "\n",
    "    def orientation_end(self, t, length=20):\n",
    "        pixel_list = np.array(self.pixel_list(t))\n",
    "        vector = pixel_list[-1] - pixel_list[max(0, len(pixel_list) - 1 - length)]\n",
    "        unit_vector = vector / np.linalg.norm(vector)\n",
    "        vertical_vector = np.array([-1, 0])\n",
    "        dot_product = np.dot(vertical_vector, unit_vector)\n",
    "        if (\n",
    "            vertical_vector[1] * vector[0] - vertical_vector[0] * vector[1] >= 0\n",
    "        ):  # determinant\n",
    "            angle = np.arccos(dot_product) / (2 * np.pi) * 360\n",
    "        else:\n",
    "            angle = -np.arccos(dot_product) / (2 * np.pi) * 360\n",
    "        return angle\n"
   ]
  }
 ],
 "metadata": {
  "kernelspec": {
   "display_name": "Python 3",
   "language": "python",
   "name": "python3"
  },
  "language_info": {
   "codemirror_mode": {
    "name": "ipython",
    "version": 3
   },
   "file_extension": ".py",
   "mimetype": "text/x-python",
   "name": "python",
   "nbconvert_exporter": "python",
   "pygments_lexer": "ipython3",
   "version": "3.7.7"
  }
 },
 "nbformat": 4,
 "nbformat_minor": 4
}

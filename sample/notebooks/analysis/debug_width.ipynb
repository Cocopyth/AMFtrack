{
 "cells": [
  {
   "cell_type": "code",
   "execution_count": 45,
   "metadata": {},
   "outputs": [],
   "source": [
    "%matplotlib widget\n",
    "\n",
    "import sys  \n",
    "sys.path.insert(0, '/home/cbisot/pycode/MscThesis/')\n",
    "import pandas as pd\n",
    "from sample.util import get_dates_datetime, get_dirname, get_plate_number, get_postion_number\n",
    "\n",
    "import ast\n",
    "from sample.plotutil import plot_t_tp1\n",
    "from scipy import sparse\n",
    "from datetime import datetime\n",
    "from sample.pipeline.functions.node_id import orient\n",
    "import pickle\n",
    "import scipy.io as sio\n",
    "from pymatreader import read_mat\n",
    "from matplotlib import colors\n",
    "import cv2\n",
    "import imageio\n",
    "import matplotlib.pyplot as plt\n",
    "import numpy as np\n",
    "from skimage.filters import frangi\n",
    "from skimage import filters\n",
    "from random import choice\n",
    "import scipy.sparse\n",
    "import os\n",
    "from sample.pipeline.functions.extract_graph import from_sparse_to_graph, generate_nx_graph, sparse_to_doc\n",
    "from skimage.feature import hessian_matrix_det\n",
    "from sample.pipeline.functions.experiment_class_surf import Experiment, Edge, Node\n",
    "from sample.paths.directory import run_parallel, find_state, directory_scratch, directory_project\n",
    "from sample.notebooks.analysis.util import *\n",
    "from scipy import stats\n",
    "from scipy.ndimage.filters import uniform_filter1d\n",
    "from statsmodels.stats import weightstats as stests"
   ]
  },
  {
   "cell_type": "code",
   "execution_count": 46,
   "metadata": {},
   "outputs": [
    {
     "name": "stdout",
     "output_type": "stream",
     "text": [
      "begin = 2020-12-17 08:39:00 \n",
      "  end = 2020-12-17 08:39:00\n"
     ]
    }
   ],
   "source": [
    "directory = \"/projects/0/einf914/data/\"\n",
    "exp = get_exp((10,104,104),directory)"
   ]
  },
  {
   "cell_type": "code",
   "execution_count": 47,
   "metadata": {},
   "outputs": [],
   "source": [
    "exp.load_compressed_skel()"
   ]
  },
  {
   "cell_type": "code",
   "execution_count": 48,
   "metadata": {},
   "outputs": [
    {
     "data": {
      "application/vnd.jupyter.widget-view+json": {
       "model_id": "7b0576a5b48d402d9a0fe99ccb20026f",
       "version_major": 2,
       "version_minor": 0
      },
      "text/plain": [
       "Canvas(toolbar=Toolbar(toolitems=[('Home', 'Reset original view', 'home', 'home'), ('Back', 'Back to previous …"
      ]
     },
     "metadata": {},
     "output_type": "display_data"
    }
   ],
   "source": [
    "plt.close('all')\n",
    "exp.plot([0],[[node.label for node in exp.nodes if node.degree(0)>=3]])"
   ]
  },
  {
   "cell_type": "code",
   "execution_count": 49,
   "metadata": {},
   "outputs": [
    {
     "data": {
      "text/plain": [
       "29.13572518957827"
      ]
     },
     "execution_count": 49,
     "metadata": {},
     "output_type": "execute_result"
    }
   ],
   "source": [
    "graph = exp.nx_graph[0]\n",
    "graph.get_edge_data(3593,3544)['width']"
   ]
  },
  {
   "cell_type": "code",
   "execution_count": 16,
   "metadata": {},
   "outputs": [
    {
     "data": {
      "text/plain": [
       "[Node(3229), Node(3620), Node(3544)]"
      ]
     },
     "execution_count": 16,
     "metadata": {},
     "output_type": "execute_result"
    }
   ],
   "source": [
    "Node(3593,exp).neighbours(0)"
   ]
  },
  {
   "cell_type": "code",
   "execution_count": 28,
   "metadata": {},
   "outputs": [],
   "source": [
    "\n",
    "def get_width_pixel(edge,index,im,pivot,before,after,t,size = 20,width_factor = 60,averaging_size = 100,threshold_averaging = 10):\n",
    "    imtab=im\n",
    "#     print(imtab.shape)\n",
    "#     print(int(max(0,pivot[0]-averaging_size)),int(pivot[0]+averaging_size))\n",
    "    threshold = np.mean(imtab[int(max(0,pivot[0]-averaging_size)):int(pivot[0]+averaging_size),int(max(0,pivot[1]-averaging_size)):int(pivot[1]+averaging_size)]-threshold_averaging)\n",
    "    orientation=np.array(before)-np.array(after)\n",
    "    perpendicular = [1,-orientation[0]/orientation[1]] if orientation[1]!=0 else [0,1]\n",
    "    perpendicular_norm=np.array(perpendicular)/np.sqrt(perpendicular[0]**2+perpendicular[1]**2)\n",
    "    point1=np.around(np.array(pivot)+width_factor*perpendicular_norm)\n",
    "    point2=np.around(np.array(pivot)-width_factor*perpendicular_norm)\n",
    "    point1=point1.astype(int)\n",
    "    point2=point2.astype(int)\n",
    "    p = profile_line(imtab, point1, point2,mode='constant')\n",
    "    fig = plt.figure()\n",
    "    ax = fig.add_subplot(111)\n",
    "    ax.plot(p)\n",
    "    derivative = [p[i+1]-p[i] for i in range(len(p)-1)]\n",
    "    fig = plt.figure()\n",
    "    ax = fig.add_subplot(111)\n",
    "    ax.plot([np.mean(derivative[5*i:5*i+5]) for i in range(len(derivative)//5)])\n",
    "    problem=False\n",
    "    arg = len(p)//2\n",
    "    if p[arg]>threshold:\n",
    "        arg = np.argmin(p)\n",
    "#     we_plot=randrange(1000)\n",
    "    while  p[arg]<=threshold:\n",
    "        if arg<=0:\n",
    "#             we_plot=50\n",
    "            problem=True\n",
    "            break\n",
    "        arg-=1\n",
    "    begin = arg\n",
    "    arg = len(p)//2\n",
    "    if p[arg]>threshold:\n",
    "        arg = np.argmin(p)\n",
    "    while  p[arg]<=threshold:\n",
    "        if arg>=len(p)-1:\n",
    "#             we_plot=50\n",
    "            problem=True\n",
    "            break\n",
    "        arg+=1\n",
    "    end = arg\n",
    "#     print(end-begin,threshold)\n",
    "    return(np.linalg.norm(point1-point2)*(end-begin)/len(p))\n",
    "\n",
    "def get_width_edge(edge,resolution,t,local=False, threshold_averaging = 10):\n",
    "    pixel_conversion_factor = 1.725\n",
    "    pixel_list = edge.pixel_list(t)\n",
    "    pixels = []\n",
    "    indexes = []\n",
    "    source_images = []\n",
    "    poss = []\n",
    "    widths={}\n",
    "    if len(pixel_list)>3*resolution:\n",
    "        for i in range(0,len(pixel_list)//resolution):\n",
    "            index = i*resolution\n",
    "            indexes.append(index)\n",
    "            pixel = pixel_list[index]\n",
    "            pixels.append(pixel)\n",
    "            source_img,pos = get_source_image(edge.experiment,pixel,t,local)\n",
    "            source_images.append(source_img)\n",
    "            poss.append(pos)\n",
    "    else:\n",
    "        indexes = [0,len(pixel_list)//2,len(pixel_list)-1]\n",
    "        for index in indexes:\n",
    "            pixel = pixel_list[index]\n",
    "            pixels.append(pixel)\n",
    "            source_img,pos = get_source_image(edge.experiment,pixel,t,local)\n",
    "            source_images.append(source_img)\n",
    "            poss.append(pos)\n",
    "#     print(indexes)\n",
    "    for i, index in enumerate(indexes[1:-1]):\n",
    "        source_img = source_images[i+1]\n",
    "        pivot = poss[i+1]\n",
    "        _,before = get_source_image(edge.experiment,pixels[i],t,local,pivot)\n",
    "        _,after = get_source_image(edge.experiment,pixels[i+2],t,local,pivot)\n",
    "#         plot_t_tp1([0,1,2],[],{0 : pivot,1 : before, 2 : after},None,source_img,source_img)\n",
    "        width = get_width_pixel(edge,index,source_img,pivot,before,after,t,threshold_averaging = threshold_averaging)\n",
    "#         print(width*pixel_conversion_factor)\n",
    "        widths[pixel_list[index]]=width*pixel_conversion_factor\n",
    "    edge.experiment.nx_graph[t].get_edge_data(edge.begin.label,edge.end.label)['width'] = widths\n",
    "    return(widths)      "
   ]
  },
  {
   "cell_type": "code",
   "execution_count": 29,
   "metadata": {},
   "outputs": [
    {
     "data": {
      "application/vnd.jupyter.widget-view+json": {
       "model_id": "3339b8568840446f8f2575dadd1c48d2",
       "version_major": 2,
       "version_minor": 0
      },
      "text/plain": [
       "Canvas(toolbar=Toolbar(toolitems=[('Home', 'Reset original view', 'home', 'home'), ('Back', 'Back to previous …"
      ]
     },
     "metadata": {},
     "output_type": "display_data"
    },
    {
     "data": {
      "application/vnd.jupyter.widget-view+json": {
       "model_id": "e57b72cc46be4dc2bfbfacb875000f28",
       "version_major": 2,
       "version_minor": 0
      },
      "text/plain": [
       "Canvas(toolbar=Toolbar(toolitems=[('Home', 'Reset original view', 'home', 'home'), ('Back', 'Back to previous …"
      ]
     },
     "metadata": {},
     "output_type": "display_data"
    },
    {
     "name": "stderr",
     "output_type": "stream",
     "text": [
      "/home/cbisot/anaconda3/envs/test/lib/python3.7/site-packages/matplotlib/pyplot.py:514: RuntimeWarning: More than 20 figures have been opened. Figures created through the pyplot interface (`matplotlib.pyplot.figure`) are retained until explicitly closed and may consume too much memory. (To control this warning, see the rcParam `figure.max_open_warning`).\n",
      "  max_open_warning, RuntimeWarning)\n"
     ]
    },
    {
     "data": {
      "application/vnd.jupyter.widget-view+json": {
       "model_id": "3acf196c6bfa4367ab8ebb177fc81b13",
       "version_major": 2,
       "version_minor": 0
      },
      "text/plain": [
       "Canvas(toolbar=Toolbar(toolitems=[('Home', 'Reset original view', 'home', 'home'), ('Back', 'Back to previous …"
      ]
     },
     "metadata": {},
     "output_type": "display_data"
    },
    {
     "data": {
      "application/vnd.jupyter.widget-view+json": {
       "model_id": "43503175ba1148a28fbf4b66008f188b",
       "version_major": 2,
       "version_minor": 0
      },
      "text/plain": [
       "Canvas(toolbar=Toolbar(toolitems=[('Home', 'Reset original view', 'home', 'home'), ('Back', 'Back to previous …"
      ]
     },
     "metadata": {},
     "output_type": "display_data"
    },
    {
     "data": {
      "application/vnd.jupyter.widget-view+json": {
       "model_id": "b2a6179cfdfe4d6aabde2ea0d0d6a635",
       "version_major": 2,
       "version_minor": 0
      },
      "text/plain": [
       "Canvas(toolbar=Toolbar(toolitems=[('Home', 'Reset original view', 'home', 'home'), ('Back', 'Back to previous …"
      ]
     },
     "metadata": {},
     "output_type": "display_data"
    },
    {
     "data": {
      "application/vnd.jupyter.widget-view+json": {
       "model_id": "6cf0cf43458a4f26a4b62a8ed22fc72d",
       "version_major": 2,
       "version_minor": 0
      },
      "text/plain": [
       "Canvas(toolbar=Toolbar(toolitems=[('Home', 'Reset original view', 'home', 'home'), ('Back', 'Back to previous …"
      ]
     },
     "metadata": {},
     "output_type": "display_data"
    },
    {
     "data": {
      "application/vnd.jupyter.widget-view+json": {
       "model_id": "f6652260d24c40ba9877bbd7d16e4f91",
       "version_major": 2,
       "version_minor": 0
      },
      "text/plain": [
       "Canvas(toolbar=Toolbar(toolitems=[('Home', 'Reset original view', 'home', 'home'), ('Back', 'Back to previous …"
      ]
     },
     "metadata": {},
     "output_type": "display_data"
    },
    {
     "data": {
      "application/vnd.jupyter.widget-view+json": {
       "model_id": "5343b5aa68ba4097915081fe8987dc13",
       "version_major": 2,
       "version_minor": 0
      },
      "text/plain": [
       "Canvas(toolbar=Toolbar(toolitems=[('Home', 'Reset original view', 'home', 'home'), ('Back', 'Back to previous …"
      ]
     },
     "metadata": {},
     "output_type": "display_data"
    },
    {
     "data": {
      "application/vnd.jupyter.widget-view+json": {
       "model_id": "1bc941fce3034b738030d608a950f397",
       "version_major": 2,
       "version_minor": 0
      },
      "text/plain": [
       "Canvas(toolbar=Toolbar(toolitems=[('Home', 'Reset original view', 'home', 'home'), ('Back', 'Back to previous …"
      ]
     },
     "metadata": {},
     "output_type": "display_data"
    },
    {
     "data": {
      "application/vnd.jupyter.widget-view+json": {
       "model_id": "95159466857142dd85eef1b333b38b27",
       "version_major": 2,
       "version_minor": 0
      },
      "text/plain": [
       "Canvas(toolbar=Toolbar(toolitems=[('Home', 'Reset original view', 'home', 'home'), ('Back', 'Back to previous …"
      ]
     },
     "metadata": {},
     "output_type": "display_data"
    },
    {
     "data": {
      "application/vnd.jupyter.widget-view+json": {
       "model_id": "88db0537f60142a080eb3979ddaf50a7",
       "version_major": 2,
       "version_minor": 0
      },
      "text/plain": [
       "Canvas(toolbar=Toolbar(toolitems=[('Home', 'Reset original view', 'home', 'home'), ('Back', 'Back to previous …"
      ]
     },
     "metadata": {},
     "output_type": "display_data"
    },
    {
     "data": {
      "application/vnd.jupyter.widget-view+json": {
       "model_id": "28d7788a6ecc415e8387018c76884b17",
       "version_major": 2,
       "version_minor": 0
      },
      "text/plain": [
       "Canvas(toolbar=Toolbar(toolitems=[('Home', 'Reset original view', 'home', 'home'), ('Back', 'Back to previous …"
      ]
     },
     "metadata": {},
     "output_type": "display_data"
    },
    {
     "data": {
      "application/vnd.jupyter.widget-view+json": {
       "model_id": "f7faa82531b9454394477249a0a72785",
       "version_major": 2,
       "version_minor": 0
      },
      "text/plain": [
       "Canvas(toolbar=Toolbar(toolitems=[('Home', 'Reset original view', 'home', 'home'), ('Back', 'Back to previous …"
      ]
     },
     "metadata": {},
     "output_type": "display_data"
    },
    {
     "data": {
      "application/vnd.jupyter.widget-view+json": {
       "model_id": "303eb76d3fda46718de3644c3296a769",
       "version_major": 2,
       "version_minor": 0
      },
      "text/plain": [
       "Canvas(toolbar=Toolbar(toolitems=[('Home', 'Reset original view', 'home', 'home'), ('Back', 'Back to previous …"
      ]
     },
     "metadata": {},
     "output_type": "display_data"
    },
    {
     "data": {
      "application/vnd.jupyter.widget-view+json": {
       "model_id": "f37b89ef43b745e883a8966fb274477d",
       "version_major": 2,
       "version_minor": 0
      },
      "text/plain": [
       "Canvas(toolbar=Toolbar(toolitems=[('Home', 'Reset original view', 'home', 'home'), ('Back', 'Back to previous …"
      ]
     },
     "metadata": {},
     "output_type": "display_data"
    },
    {
     "data": {
      "application/vnd.jupyter.widget-view+json": {
       "model_id": "c5acdc1173f84440bdc37b78af8dce4e",
       "version_major": 2,
       "version_minor": 0
      },
      "text/plain": [
       "Canvas(toolbar=Toolbar(toolitems=[('Home', 'Reset original view', 'home', 'home'), ('Back', 'Back to previous …"
      ]
     },
     "metadata": {},
     "output_type": "display_data"
    },
    {
     "data": {
      "application/vnd.jupyter.widget-view+json": {
       "model_id": "ba1c30bfc0ca4cb8a87b7d2db2b0efbc",
       "version_major": 2,
       "version_minor": 0
      },
      "text/plain": [
       "Canvas(toolbar=Toolbar(toolitems=[('Home', 'Reset original view', 'home', 'home'), ('Back', 'Back to previous …"
      ]
     },
     "metadata": {},
     "output_type": "display_data"
    },
    {
     "data": {
      "application/vnd.jupyter.widget-view+json": {
       "model_id": "618857ec8e8246b0822b5ca6809cd25d",
       "version_major": 2,
       "version_minor": 0
      },
      "text/plain": [
       "Canvas(toolbar=Toolbar(toolitems=[('Home', 'Reset original view', 'home', 'home'), ('Back', 'Back to previous …"
      ]
     },
     "metadata": {},
     "output_type": "display_data"
    },
    {
     "data": {
      "application/vnd.jupyter.widget-view+json": {
       "model_id": "c3c822023ad34085bc0b55d6272c7d66",
       "version_major": 2,
       "version_minor": 0
      },
      "text/plain": [
       "Canvas(toolbar=Toolbar(toolitems=[('Home', 'Reset original view', 'home', 'home'), ('Back', 'Back to previous …"
      ]
     },
     "metadata": {},
     "output_type": "display_data"
    },
    {
     "data": {
      "application/vnd.jupyter.widget-view+json": {
       "model_id": "ecf6a5816c5b48859f1152c78966cd98",
       "version_major": 2,
       "version_minor": 0
      },
      "text/plain": [
       "Canvas(toolbar=Toolbar(toolitems=[('Home', 'Reset original view', 'home', 'home'), ('Back', 'Back to previous …"
      ]
     },
     "metadata": {},
     "output_type": "display_data"
    },
    {
     "data": {
      "application/vnd.jupyter.widget-view+json": {
       "model_id": "97b295d7e0604225b8d13556eddf34b5",
       "version_major": 2,
       "version_minor": 0
      },
      "text/plain": [
       "Canvas(toolbar=Toolbar(toolitems=[('Home', 'Reset original view', 'home', 'home'), ('Back', 'Back to previous …"
      ]
     },
     "metadata": {},
     "output_type": "display_data"
    },
    {
     "data": {
      "application/vnd.jupyter.widget-view+json": {
       "model_id": "ff38e0979b79490facaa575ab14a4844",
       "version_major": 2,
       "version_minor": 0
      },
      "text/plain": [
       "Canvas(toolbar=Toolbar(toolitems=[('Home', 'Reset original view', 'home', 'home'), ('Back', 'Back to previous …"
      ]
     },
     "metadata": {},
     "output_type": "display_data"
    },
    {
     "data": {
      "application/vnd.jupyter.widget-view+json": {
       "model_id": "9205f938c12246689d2eb149f32af97e",
       "version_major": 2,
       "version_minor": 0
      },
      "text/plain": [
       "Canvas(toolbar=Toolbar(toolitems=[('Home', 'Reset original view', 'home', 'home'), ('Back', 'Back to previous …"
      ]
     },
     "metadata": {},
     "output_type": "display_data"
    },
    {
     "data": {
      "application/vnd.jupyter.widget-view+json": {
       "model_id": "7639ad4c6b404d90ae46be8e54a4bc78",
       "version_major": 2,
       "version_minor": 0
      },
      "text/plain": [
       "Canvas(toolbar=Toolbar(toolitems=[('Home', 'Reset original view', 'home', 'home'), ('Back', 'Back to previous …"
      ]
     },
     "metadata": {},
     "output_type": "display_data"
    },
    {
     "data": {
      "application/vnd.jupyter.widget-view+json": {
       "model_id": "b08e79f706db4ddfbbdfd20dd96fa7ec",
       "version_major": 2,
       "version_minor": 0
      },
      "text/plain": [
       "Canvas(toolbar=Toolbar(toolitems=[('Home', 'Reset original view', 'home', 'home'), ('Back', 'Back to previous …"
      ]
     },
     "metadata": {},
     "output_type": "display_data"
    },
    {
     "data": {
      "application/vnd.jupyter.widget-view+json": {
       "model_id": "79dc86fd5ae74d6bbd4c21b2c1f4faf2",
       "version_major": 2,
       "version_minor": 0
      },
      "text/plain": [
       "Canvas(toolbar=Toolbar(toolitems=[('Home', 'Reset original view', 'home', 'home'), ('Back', 'Back to previous …"
      ]
     },
     "metadata": {},
     "output_type": "display_data"
    },
    {
     "data": {
      "application/vnd.jupyter.widget-view+json": {
       "model_id": "a9c06ae5bc3f4a40b4934dd456662834",
       "version_major": 2,
       "version_minor": 0
      },
      "text/plain": [
       "Canvas(toolbar=Toolbar(toolitems=[('Home', 'Reset original view', 'home', 'home'), ('Back', 'Back to previous …"
      ]
     },
     "metadata": {},
     "output_type": "display_data"
    },
    {
     "data": {
      "application/vnd.jupyter.widget-view+json": {
       "model_id": "dd38afe6579a44dba9130ac80fe4326d",
       "version_major": 2,
       "version_minor": 0
      },
      "text/plain": [
       "Canvas(toolbar=Toolbar(toolitems=[('Home', 'Reset original view', 'home', 'home'), ('Back', 'Back to previous …"
      ]
     },
     "metadata": {},
     "output_type": "display_data"
    },
    {
     "data": {
      "application/vnd.jupyter.widget-view+json": {
       "model_id": "f6652b1b99674a4390eec3cae337b922",
       "version_major": 2,
       "version_minor": 0
      },
      "text/plain": [
       "Canvas(toolbar=Toolbar(toolitems=[('Home', 'Reset original view', 'home', 'home'), ('Back', 'Back to previous …"
      ]
     },
     "metadata": {},
     "output_type": "display_data"
    },
    {
     "data": {
      "application/vnd.jupyter.widget-view+json": {
       "model_id": "f43c63f0442b459b8998a8b4014e5018",
       "version_major": 2,
       "version_minor": 0
      },
      "text/plain": [
       "Canvas(toolbar=Toolbar(toolitems=[('Home', 'Reset original view', 'home', 'home'), ('Back', 'Back to previous …"
      ]
     },
     "metadata": {},
     "output_type": "display_data"
    },
    {
     "data": {
      "text/plain": [
       "{(18237, 25209): 42.70320414263475,\n",
       " (18189, 25198): 44.226431389369324,\n",
       " (18140, 25186): 42.70320414263475,\n",
       " (18094, 25174): 40.84201533366425,\n",
       " (18047, 25160): 40.824398205571676,\n",
       " (18000, 25152): 44.361807528721755,\n",
       " (17950, 25144): 42.655584162232465,\n",
       " (17902, 25135): 40.862460291967295,\n",
       " (17853, 25125): 40.864939360072434,\n",
       " (17805, 25115): 40.94936079574316,\n",
       " (17757, 25108): 42.655584162232465,\n",
       " (17711, 25099): 42.429813937726735,\n",
       " (17662, 25090): 40.824398205571676,\n",
       " (17615, 25076): 39.32114070861803,\n",
       " (17567, 25062): 37.42236502177404}"
      ]
     },
     "execution_count": 29,
     "metadata": {},
     "output_type": "execute_result"
    }
   ],
   "source": [
    "get_width_edge(Edge(Node(3593,exp),Node(3229,exp),exp),50,0)"
   ]
  },
  {
   "cell_type": "code",
   "execution_count": 18,
   "metadata": {},
   "outputs": [
    {
     "data": {
      "application/vnd.jupyter.widget-view+json": {
       "model_id": "4e3590e131154d1985191dd2e08b176f",
       "version_major": 2,
       "version_minor": 0
      },
      "text/plain": [
       "Canvas(toolbar=Toolbar(toolitems=[('Home', 'Reset original view', 'home', 'home'), ('Back', 'Back to previous …"
      ]
     },
     "metadata": {},
     "output_type": "display_data"
    }
   ],
   "source": [
    "# plt.close('all')\n",
    "Node(3229,exp).show_source_image(0,0)"
   ]
  },
  {
   "cell_type": "code",
   "execution_count": 4,
   "metadata": {},
   "outputs": [],
   "source": [
    "def get_width_hypha(hypha,t):\n",
    "    nodes, edges = hypha.get_nodes_within(t)\n",
    "    widths = [edge.width(t) for edge in edges]\n",
    "    lengths = [len(edge.pixel_list(t)) for edge in edges]\n",
    "    weighted = [widths[i]*lengths[i] for i in range(len(widths))]\n",
    "    return(np.sum(weighted)/np.sum(lengths))\n",
    "\n",
    "def get_rh_bas(exp,criter):\n",
    "    select_hyph = get_hyph_infos(exp)\n",
    "    max_speeds = []\n",
    "    total_growths = []\n",
    "    lengths = []\n",
    "    branch_frequ = []\n",
    "    hyph_l = []\n",
    "    RH=[]\n",
    "    BAS=[]\n",
    "    widths=[]\n",
    "    for hyph in exp.hyphaes:\n",
    "        speeds = [c[2] for c in select_hyph[hyph]]\n",
    "        ts = [c[0] for c in select_hyph[hyph]]\n",
    "        tp1s = [c[1] for c in select_hyph[hyph]]\n",
    "        if len(speeds)>0:\n",
    "            length = hyph.get_length_um(hyph.ts[-1])\n",
    "            nodes = hyph.get_nodes_within(hyph.ts[-1])[0]\n",
    "            max_speed = np.max(speeds)\n",
    "            total_growth = np.sum([speed * get_time(exp,ts[i],tp1s[i]) for i,speed in enumerate(speeds)])\n",
    "            if criter(max_speed,length):\n",
    "                RH.append(hyph)\n",
    "            else:\n",
    "                BAS.append(hyph)\n",
    "            lengths.append(length)\n",
    "            max_speeds.append(max_speed)\n",
    "            total_growths.append(total_growth)\n",
    "            branch_frequ.append((len(nodes)-1)/(length+1))\n",
    "            hyph_l.append(hyph)\n",
    "            widths.append(get_width_hypha(hyph,hyph.ts[-1]))\n",
    "        else:\n",
    "            BAS.append(hyph)            \n",
    "    return(RH, BAS, max_speeds, total_growths, widths, lengths, branch_frequ,select_hyph)"
   ]
  },
  {
   "cell_type": "code",
   "execution_count": 5,
   "metadata": {},
   "outputs": [
    {
     "name": "stderr",
     "output_type": "stream",
     "text": [
      "/home/cbisot/anaconda3/envs/test/lib/python3.7/site-packages/ipykernel_launcher.py:6: RuntimeWarning: invalid value encountered in double_scalars\n",
      "  \n"
     ]
    }
   ],
   "source": [
    "widths = [(hyph,get_width_hypha(hyph,hyph.ts[-1])) for hyph in exp.hyphaes if len(hyph.ts)>0]"
   ]
  },
  {
   "cell_type": "code",
   "execution_count": 15,
   "metadata": {},
   "outputs": [],
   "source": [
    "# width_real =[c for c in widths if c[1]<160]\n",
    "width_real = widths\n",
    "\n",
    "widths_fin = [c[1] for c in width_real]\n",
    "lengths = [c[0].get_length_um(c[0].ts[-1]) for c in width_real]"
   ]
  },
  {
   "cell_type": "code",
   "execution_count": 16,
   "metadata": {},
   "outputs": [
    {
     "data": {
      "application/vnd.jupyter.widget-view+json": {
       "model_id": "fce7e4a55e2c4024aa1286b6b2e3d9e8",
       "version_major": 2,
       "version_minor": 0
      },
      "text/plain": [
       "Canvas(toolbar=Toolbar(toolitems=[('Home', 'Reset original view', 'home', 'home'), ('Back', 'Back to previous …"
      ]
     },
     "metadata": {},
     "output_type": "display_data"
    },
    {
     "data": {
      "text/plain": [
       "Text(0, 0.5, 'length ($\\\\mu m $)')"
      ]
     },
     "execution_count": 16,
     "metadata": {},
     "output_type": "execute_result"
    }
   ],
   "source": [
    "fig = plt.figure()\n",
    "ax = fig.add_subplot(111)\n",
    "ax.scatter(widths_fin,lengths)\n",
    "ax.set_xlabel(r'width ($\\mu m $)')\n",
    "ax.set_ylabel(r'length ($\\mu m $)')"
   ]
  },
  {
   "cell_type": "code",
   "execution_count": 8,
   "metadata": {},
   "outputs": [
    {
     "name": "stdout",
     "output_type": "stream",
     "text": [
      "begin = 2020-11-19 20:21:00 \n",
      "  end = 2020-11-25 18:06:00\n"
     ]
    },
    {
     "name": "stderr",
     "output_type": "stream",
     "text": [
      "/home/cbisot/anaconda3/envs/test/lib/python3.7/site-packages/ipykernel_launcher.py:6: RuntimeWarning: invalid value encountered in double_scalars\n",
      "  \n"
     ]
    }
   ],
   "source": [
    "RH, BAS, max_speeds, total_growths, widths_sp, lengths, branch_frequ,select_hyph = get_rh_bas(get_exp((40,0,37),directory),criter)"
   ]
  },
  {
   "cell_type": "code",
   "execution_count": 13,
   "metadata": {},
   "outputs": [
    {
     "data": {
      "application/vnd.jupyter.widget-view+json": {
       "model_id": "82103b23d4e042da927399f1b397dd91",
       "version_major": 2,
       "version_minor": 0
      },
      "text/plain": [
       "Canvas(toolbar=Toolbar(toolitems=[('Home', 'Reset original view', 'home', 'home'), ('Back', 'Back to previous …"
      ]
     },
     "metadata": {},
     "output_type": "display_data"
    },
    {
     "data": {
      "text/plain": [
       "Text(0, 0.5, 'max speed ($\\\\mu m.s^{-1}$)')"
      ]
     },
     "execution_count": 13,
     "metadata": {},
     "output_type": "execute_result"
    }
   ],
   "source": [
    "fig = plt.figure()\n",
    "ax = fig.add_subplot(111)\n",
    "ax.scatter(widths_sp,max_speeds)\n",
    "ax.set_xlabel(r'width ($\\mu m $)')\n",
    "ax.set_ylabel(r'max speed ($\\mu m.s^{-1}$)')"
   ]
  },
  {
   "cell_type": "code",
   "execution_count": 12,
   "metadata": {},
   "outputs": [
    {
     "data": {
      "application/vnd.jupyter.widget-view+json": {
       "model_id": "d99293d029ea4ce6b5fb893a1c3ae010",
       "version_major": 2,
       "version_minor": 0
      },
      "text/plain": [
       "Canvas(toolbar=Toolbar(toolitems=[('Home', 'Reset original view', 'home', 'home'), ('Back', 'Back to previous …"
      ]
     },
     "metadata": {},
     "output_type": "display_data"
    },
    {
     "data": {
      "text/plain": [
       "<matplotlib.legend.Legend at 0x2ad7441a7ad0>"
      ]
     },
     "execution_count": 12,
     "metadata": {},
     "output_type": "execute_result"
    }
   ],
   "source": [
    "\n",
    "widths_rh = [width for width in widths_rh if width<160]\n",
    "widths_bas = [width for width in widths_bas if width<160]\n",
    "fig = plt.figure()\n",
    "bins = np.linspace(0, 160, 30)\n",
    "ax = fig.add_subplot(111)\n",
    "ax.hist(widths_rh,bins,alpha=0.5,label='rh',density=True)\n",
    "ax.hist(widths_bas,bins,alpha=0.5,label='bas',density=True)\n",
    "ax.set_xlabel(r'width ($\\mu m $)')\n",
    "plt.legend(loc='upper right')\n",
    "# ax.set_ylabel(r'length ($\\mu m $)')"
   ]
  },
  {
   "cell_type": "code",
   "execution_count": 137,
   "metadata": {},
   "outputs": [],
   "source": [
    "BAS = [hyph for hyph in BAS if len(hyph.ts)>1]\n"
   ]
  },
  {
   "cell_type": "code",
   "execution_count": 11,
   "metadata": {},
   "outputs": [
    {
     "name": "stderr",
     "output_type": "stream",
     "text": [
      "/home/cbisot/anaconda3/envs/test/lib/python3.7/site-packages/ipykernel_launcher.py:6: RuntimeWarning: invalid value encountered in double_scalars\n",
      "  \n"
     ]
    }
   ],
   "source": [
    "widths_rh = [get_width_hypha(hyph,hyph.ts[-1]) for hyph in RH]\n",
    "widths_bas = [get_width_hypha(hyph,hyph.ts[-1]) for hyph in BAS if len(hyph.ts)>0]"
   ]
  },
  {
   "cell_type": "code",
   "execution_count": 129,
   "metadata": {},
   "outputs": [
    {
     "data": {
      "application/vnd.jupyter.widget-view+json": {
       "model_id": "7972320a472b4e2ca476412d53317d44",
       "version_major": 2,
       "version_minor": 0
      },
      "text/plain": [
       "Canvas(toolbar=Toolbar(toolitems=[('Home', 'Reset original view', 'home', 'home'), ('Back', 'Back to previous …"
      ]
     },
     "metadata": {},
     "output_type": "display_data"
    },
    {
     "data": {
      "text/plain": [
       "<matplotlib.legend.Legend at 0x2ad066699c10>"
      ]
     },
     "execution_count": 129,
     "metadata": {},
     "output_type": "execute_result"
    }
   ],
   "source": [
    "\n",
    "widths_rh = [width for width in widths_rh if width<160]\n",
    "widths_bas = [width for width in widths_bas if width<160]\n",
    "fig = plt.figure()\n",
    "bins = np.linspace(0, 160, 30)\n",
    "ax = fig.add_subplot(111)\n",
    "ax.hist(widths_rh,bins,alpha=0.5,label='rh',density=True)\n",
    "ax.hist(widths_bas,bins,alpha=0.5,label='bas',density=True)\n",
    "ax.set_xlabel(r'width ($\\mu m $)')\n",
    "plt.legend(loc='upper right')\n",
    "# ax.set_ylabel(r'length ($\\mu m $)')"
   ]
  },
  {
   "cell_type": "code",
   "execution_count": 181,
   "metadata": {},
   "outputs": [
    {
     "data": {
      "text/plain": [
       "[30.151660321266935,\n",
       " 32.21005792690662,\n",
       " 34.23827774386727,\n",
       " 30.141020949279866,\n",
       " 29.27306187180139,\n",
       " 27.539231147236237]"
      ]
     },
     "execution_count": 181,
     "metadata": {},
     "output_type": "execute_result"
    }
   ],
   "source": [
    "hyph = choice(BAS)\n",
    "[get_width_hypha(hyph,t) for t in hyph.ts]"
   ]
  },
  {
   "cell_type": "code",
   "execution_count": 182,
   "metadata": {},
   "outputs": [
    {
     "data": {
      "application/vnd.jupyter.widget-view+json": {
       "model_id": "b631b0ad55b24b3891fe272589ae3861",
       "version_major": 2,
       "version_minor": 0
      },
      "text/plain": [
       "Canvas(toolbar=Toolbar(toolitems=[('Home', 'Reset original view', 'home', 'home'), ('Back', 'Back to previous …"
      ]
     },
     "metadata": {},
     "output_type": "display_data"
    },
    {
     "data": {
      "application/vnd.jupyter.widget-view+json": {
       "model_id": "fcf99d78c0034f48a1ac6aa27b8646af",
       "version_major": 2,
       "version_minor": 0
      },
      "text/plain": [
       "Canvas(toolbar=Toolbar(toolitems=[('Home', 'Reset original view', 'home', 'home'), ('Back', 'Back to previous …"
      ]
     },
     "metadata": {},
     "output_type": "display_data"
    }
   ],
   "source": [
    "plt.close('all')\n",
    "t=0\n",
    "hyph.end.show_source_image(hyph.ts[t],hyph.ts[t])\n",
    "hyph.root.show_source_image(hyph.ts[t],hyph.ts[t])"
   ]
  },
  {
   "cell_type": "code",
   "execution_count": 173,
   "metadata": {},
   "outputs": [
    {
     "data": {
      "application/vnd.jupyter.widget-view+json": {
       "model_id": "3c245adb8e374cfb917e56e721022fa2",
       "version_major": 2,
       "version_minor": 0
      },
      "text/plain": [
       "Canvas(toolbar=Toolbar(toolitems=[('Home', 'Reset original view', 'home', 'home'), ('Back', 'Back to previous …"
      ]
     },
     "metadata": {},
     "output_type": "display_data"
    }
   ],
   "source": [
    "exp.plot([hyph.ts[0]],[[hyph.end.label,hyph.root.label]])"
   ]
  },
  {
   "cell_type": "code",
   "execution_count": 70,
   "metadata": {},
   "outputs": [
    {
     "data": {
      "application/vnd.jupyter.widget-view+json": {
       "model_id": "94f8a7f98c494a3b9f8793484ccafb7b",
       "version_major": 2,
       "version_minor": 0
      },
      "text/plain": [
       "Canvas(toolbar=Toolbar(toolitems=[('Home', 'Reset original view', 'home', 'home'), ('Back', 'Back to previous …"
      ]
     },
     "metadata": {},
     "output_type": "display_data"
    },
    {
     "data": {
      "text/plain": [
       "Text(0, 0.5, 'width ($\\\\mu m $)')"
      ]
     },
     "execution_count": 70,
     "metadata": {},
     "output_type": "execute_result"
    }
   ],
   "source": [
    "plt.close('all')\n",
    "fig = plt.figure()\n",
    "ax = fig.add_subplot(111)\n",
    "ax.plot(hyph.ts,[get_width_hypha(hyph,t) for t in hyph.ts])\n",
    "ax.set_xlabel('timestep')\n",
    "ax.set_ylabel(r'width ($\\mu m $)')"
   ]
  },
  {
   "cell_type": "code",
   "execution_count": 61,
   "metadata": {},
   "outputs": [],
   "source": [
    "times=[]\n",
    "widths_t=[]\n",
    "for rh in RH:\n",
    "    for t in rh.ts:\n",
    "        width = get_width_hypha(rh,t)\n",
    "        if width<80:\n",
    "            times.append(get_time(exp,rh.ts[0],t))\n",
    "            widths_t.append(width)"
   ]
  },
  {
   "cell_type": "code",
   "execution_count": 62,
   "metadata": {},
   "outputs": [
    {
     "data": {
      "application/vnd.jupyter.widget-view+json": {
       "model_id": "a3da53f041b24e8bac8d84175813ddcd",
       "version_major": 2,
       "version_minor": 0
      },
      "text/plain": [
       "Canvas(toolbar=Toolbar(toolitems=[('Home', 'Reset original view', 'home', 'home'), ('Back', 'Back to previous …"
      ]
     },
     "metadata": {},
     "output_type": "display_data"
    },
    {
     "data": {
      "text/plain": [
       "Text(0, 0.5, 'width ($\\\\mu m $)')"
      ]
     },
     "execution_count": 62,
     "metadata": {},
     "output_type": "execute_result"
    }
   ],
   "source": [
    "plt.close('all')\n",
    "fig = plt.figure()\n",
    "ax = fig.add_subplot(111)\n",
    "ax.scatter(times,widths_t)\n",
    "ax.set_xlabel('timestep')\n",
    "ax.set_ylabel(r'width ($\\mu m $)')"
   ]
  },
  {
   "cell_type": "code",
   "execution_count": 64,
   "metadata": {},
   "outputs": [],
   "source": [
    "slope, intercept, r_value, p_value, std_err = stats.linregress(times,speeds)"
   ]
  },
  {
   "cell_type": "code",
   "execution_count": 68,
   "metadata": {},
   "outputs": [
    {
     "data": {
      "application/vnd.jupyter.widget-view+json": {
       "model_id": "9766536c21a54d4992baf52446b99363",
       "version_major": 2,
       "version_minor": 0
      },
      "text/plain": [
       "Canvas(toolbar=Toolbar(toolitems=[('Home', 'Reset original view', 'home', 'home'), ('Back', 'Back to previous …"
      ]
     },
     "metadata": {},
     "output_type": "display_data"
    },
    {
     "data": {
      "text/plain": [
       "<matplotlib.legend.Legend at 0x2ad0bbeeb510>"
      ]
     },
     "execution_count": 68,
     "metadata": {},
     "output_type": "execute_result"
    }
   ],
   "source": [
    "speeds= widths_t\n",
    "zipped_list = zip(times,speeds)\n",
    "sorted_zip = sorted(zipped_list)\n",
    "times_sort,speed_sort = zip(*sorted_zip)\n",
    "fig=plt.figure(figsize=(8,8))\n",
    "ax = fig.add_subplot(111)\n",
    "ax.set_xlabel('time since appearane of hypha ($hour$)')\n",
    "ax.set_ylabel('width ($\\mu m)$')\n",
    "xlim = 140\n",
    "ax.set_xlim((0,xlim))\n",
    "ax.set_ylim((0,100))\n",
    "\n",
    "x= range(0,xlim)\n",
    "\n",
    "N=100\n",
    "ax.scatter(times_sort,speed_sort,color='yellow',label='observed width')\n",
    "ax.plot(uniform_filter1d(times_sort, size=N),uniform_filter1d(speed_sort, size=N),color='green',label = 'moving average')\n",
    "# ax.set_title(r'$r^2=$'+f'{round(r_value**2,max(2,-int(np.log10(r_value**2))+2))}, p_value = {round(p_value**2,max(2,-int(np.log10(p_value**2))+2))}, slope = {round(slope,4)}')\n",
    "x= range(0,xlim+1)\n",
    "legend_str = r'linear regression : $r^2=$'+f'{round(r_value**2,max(2,-int(np.log10(r_value**2))+2))}, p-value = {round(p_value,max(2,-int(np.log10(p_value))+2))}, slope = {round(slope,4)}'\n",
    "line, = ax.plot(x,x*slope+intercept,color='red',label = legend_str)\n",
    "ax.legend()"
   ]
  },
  {
   "cell_type": "code",
   "execution_count": 42,
   "metadata": {
    "collapsed": true,
    "jupyter": {
     "outputs_hidden": true
    }
   },
   "outputs": [
    {
     "data": {
      "application/vnd.jupyter.widget-view+json": {
       "model_id": "5f2c9f095f184e188a1a731201fdf0f9",
       "version_major": 2,
       "version_minor": 0
      },
      "text/plain": [
       "Canvas(toolbar=Toolbar(toolitems=[('Home', 'Reset original view', 'home', 'home'), ('Back', 'Back to previous …"
      ]
     },
     "metadata": {},
     "output_type": "display_data"
    },
    {
     "data": {
      "application/vnd.jupyter.widget-view+json": {
       "model_id": "a3dd2c49f50644eca9d7a3d9ff522fac",
       "version_major": 2,
       "version_minor": 0
      },
      "text/plain": [
       "Canvas(toolbar=Toolbar(toolitems=[('Home', 'Reset original view', 'home', 'home'), ('Back', 'Back to previous …"
      ]
     },
     "metadata": {},
     "output_type": "display_data"
    }
   ],
   "source": [
    "hyph.end.show_source_image(hyph.ts[1],hyph.ts[1])\n",
    "hyph.root.show_source_image(hyph.ts[1],hyph.ts[1])\n"
   ]
  },
  {
   "cell_type": "code",
   "execution_count": 18,
   "metadata": {},
   "outputs": [
    {
     "data": {
      "text/plain": [
       "([35, 36, 37], [36, 37])"
      ]
     },
     "execution_count": 18,
     "metadata": {},
     "output_type": "execute_result"
    }
   ],
   "source": [
    "hyph.end.ts(),hyph.root.ts()"
   ]
  },
  {
   "cell_type": "code",
   "execution_count": 43,
   "metadata": {},
   "outputs": [
    {
     "name": "stderr",
     "output_type": "stream",
     "text": [
      "/home/cbisot/anaconda3/envs/test/lib/python3.7/site-packages/matplotlib/__init__.py:880: MatplotlibDeprecationWarning: \n",
      "nbagg.transparent\n",
      "  version, key, obj_type=\"rcparam\", alternative=alt_key)\n"
     ]
    },
    {
     "data": {
      "application/vnd.jupyter.widget-view+json": {
       "model_id": "cfd8b12e08bb478fa7393fb42e301d34",
       "version_major": 2,
       "version_minor": 0
      },
      "text/plain": [
       "Canvas(toolbar=Toolbar(toolitems=[('Home', 'Reset original view', 'home', 'home'), ('Back', 'Back to previous …"
      ]
     },
     "metadata": {},
     "output_type": "display_data"
    }
   ],
   "source": [
    "plt.close('all')\n",
    "exp.plot(hyph.ts,[[hyph.end.label,hyph.root.label]]*len(hyph.ts))"
   ]
  },
  {
   "cell_type": "code",
   "execution_count": 22,
   "metadata": {},
   "outputs": [
    {
     "data": {
      "text/plain": [
       "Counter({Node(4819): 2, Node(5274): 1})"
      ]
     },
     "execution_count": 22,
     "metadata": {},
     "output_type": "execute_result"
    }
   ],
   "source": [
    "roots=[]\n",
    "for t in hyph.end.ts():\n",
    "    #             print(t,tip)\n",
    "    if hyph.end.degree(t) == 1:\n",
    "        root, edges, nodes = hyph.get_edges(t, 200)\n",
    "        roots.append(root)\n",
    "occurence_count = Counter(roots)\n",
    "occurence_count"
   ]
  },
  {
   "cell_type": "code",
   "execution_count": 115,
   "metadata": {
    "collapsed": true,
    "jupyter": {
     "outputs_hidden": true
    }
   },
   "outputs": [
    {
     "name": "stdout",
     "output_type": "stream",
     "text": [
      "0.0\n",
      "0.03638348189921776\n",
      "0.07276696379843552\n",
      "0.10915044569765327\n",
      "0.14553392759687103\n",
      "0.18191740949608878\n",
      "0.21830089139530653\n",
      "0.2546843732945243\n",
      "0.29106785519374206\n",
      "0.3274513370929598\n",
      "0.36383481899217757\n",
      "0.4002183008913953\n",
      "0.43660178279061307\n",
      "0.4729852646898308\n",
      "0.5093687465890486\n",
      "0.5457522284882663\n",
      "0.5821357103874841\n",
      "0.6185191922867018\n",
      "0.6549026741859196\n",
      "0.6912861560851373\n",
      "0.7276696379843551\n",
      "0.7640531198835728\n",
      "0.8004366017827906\n",
      "0.8368200836820083\n",
      "0.8732035655812261\n",
      "0.9095870474804438\n",
      "0.9459705293796616\n",
      "0.9823540112788793\n",
      "Detected problems during hyphae detection, 118 hyphaes have inconsistent root over time\n",
      "removing  350  nodes out of 12710 because they appear only in one timestep and are not within an identified hypha\n",
      "9.163170799027931\n",
      "13.776128455643143\n",
      "14.218210236496239\n",
      "19.64906114270876\n",
      "19.279700676541903\n",
      "19.94349411283939\n",
      "38.75439473285086\n",
      "27.982052980273824\n",
      "61.68227112654536\n",
      "58.776285142604\n",
      "95.40498457929924\n",
      "79.82866056635241\n",
      "41.46663930007891\n",
      "67.6333382064431\n",
      "36.036074977466434\n",
      "37.1801652892562\n",
      "30.79338842975207\n",
      "23.362280286841226\n",
      "20.482681392822958\n",
      "29.052918674157116\n",
      "20.05604057605631\n",
      "22.095637922773903\n",
      "37.60281346311052\n",
      "20.856665960135995\n",
      "22.771912871329782\n",
      "21.058616176476576\n",
      "27.246206612361554\n",
      "29.510119002970313\n",
      "27.285276151287253\n",
      "21.210074418151034\n",
      "39.14175105180663\n",
      "73.65908104527193\n",
      "59.5355807164587\n",
      "47.3387331027751\n",
      "47.80741792982769\n",
      "34.73476758582939\n",
      "38.728156729530966\n",
      "35.86421468815208\n",
      "51.32231404958677\n",
      "37.839516946531944\n",
      "38.14544865519115\n",
      "13.621289772676352\n",
      "32.563070764753896\n",
      "40.5024972065882\n",
      "56.59586744797289\n",
      "37.498625561622944\n",
      "66.70278986761767\n",
      "27.072694698288306\n",
      "6.834654031563405\n",
      "16.329445565547232\n",
      "2.448801457398972\n",
      "8.525456925759384\n",
      "14.974412168285031\n",
      "0.0\n",
      "23.905673996342745\n",
      "2.396074818815422\n",
      "39.64178196787224\n",
      "126.59504132231406\n",
      "147.12396694214877\n",
      "25.164729110567382\n",
      "27.25784228487827\n",
      "27.219409941743198\n",
      "36.41842010348382\n",
      "39.5192687091703\n",
      "37.39261802315583\n",
      "3.399328911195985\n",
      "36.741413257852756\n",
      "3.399328911195985\n",
      "33.15165448633907\n",
      "51.16508727376945\n",
      "56.44082219567648\n",
      "120.1593136632758\n",
      "140.54372895299898\n",
      "149.57047209262333\n",
      "20.484064322501425\n",
      "27.282852837754643\n",
      "27.315233924551606\n",
      "28.528057868385233\n",
      "45.23163316723425\n",
      "22.612797718662225\n",
      "5.065201991919684\n",
      "4.087468615841267\n",
      "0.0\n",
      "23.985314599712712\n",
      "41.14942976689256\n",
      "39.13284166221595\n",
      "36.146344910040106\n",
      "87.33776383585038\n",
      "88.7855898530436\n",
      "87.46430798153153\n",
      "85.66176378644433\n",
      "27.20780197003884\n",
      "19.418317230812406\n",
      "17.892276814314144\n",
      "20.444904098488117\n",
      "13.612363169814325\n",
      "4.253863490566976\n",
      "36.119394165932704\n",
      "31.20222981173658\n",
      "34.02150712106237\n",
      "50.931676588275764\n",
      "36.74180399876118\n",
      "35.95084296643306\n",
      "22.801463321014943\n",
      "35.69295356755784\n",
      "43.12442683199291\n",
      "49.159682209790134\n",
      "13.712627095527425\n",
      "52.780677877124425\n",
      "13.158822083225534\n",
      "0.0\n",
      "0.644967644969057\n",
      "0.4398331003788656\n",
      "0.0\n",
      "4.474397265200321\n",
      "17.050913851518768\n",
      "32.072183884073326\n",
      "33.448053111339874\n",
      "20.211241029327972\n",
      "35.88193366570788\n",
      "25.502461405012053\n",
      "47.98492477143227\n",
      "24.55866674329072\n",
      "35.354817379363155\n",
      "47.52582728662034\n",
      "39.58161176168875\n",
      "47.98492477143227\n",
      "70.0771981579675\n",
      "40.134743678019895\n",
      "25.661157024793386\n",
      "20.363483410204868\n",
      "25.94823914595842\n",
      "28.65080169662891\n",
      "32.89484260943461\n",
      "33.586825209774396\n",
      "32.264178774166496\n",
      "39.50943105364232\n",
      "36.95832391854819\n",
      "49.45456302420814\n",
      "6.512354870491377\n",
      "0.0\n",
      "2.277065853133515\n",
      "149.4410298597281\n",
      "61.415548875829096\n",
      "171.12869201711356\n",
      "169.73872686699508\n",
      "29.4627086380237\n",
      "23.699942114845303\n",
      "20.74739116925811\n",
      "23.433827551325074\n",
      "29.309341826476178\n",
      "29.072145408969064\n",
      "29.4627086380237\n",
      "28.178151075591078\n",
      "27.325579354414913\n",
      "22.218036999783806\n",
      "18.36594991936252\n",
      "23.104227594773597\n",
      "39.18955399830417\n",
      "43.0067816838728\n",
      "42.27111018282889\n",
      "34.58482613069526\n",
      "39.23288023569391\n",
      "34.095468282514084\n",
      "44.37286682534329\n",
      "30.700167518079905\n",
      "41.14543338533089\n",
      "32.48268145494532\n",
      "28.358677657188284\n",
      "28.59113948018468\n",
      "57.03102296933288\n",
      "37.63636363636363\n",
      "47.132280714457465\n",
      "29.939795798761796\n",
      "44.06434210918589\n",
      "28.358677657188284\n",
      "28.46119187726744\n",
      "52.13250137896932\n",
      "44.983306345998\n",
      "32.41008519463635\n",
      "40.55259517112462\n",
      "44.72982764548963\n",
      "39.283565575288975\n",
      "44.06434210918589\n",
      "35.08174947945672\n",
      "17.57446246732159\n",
      "21.538736463399562\n",
      "22.410181132286652\n",
      "44.208853617458566\n",
      "46.10541601220501\n",
      "44.68347703593743\n",
      "36.68236651877075\n",
      "41.91427620898275\n",
      "25.578866893506603\n",
      "25.529348623360836\n",
      "27.088931144127386\n",
      "54.46619065604354\n",
      "51.32231404958678\n",
      "65.00826446280992\n",
      "33.781771363810286\n",
      "35.834663925793755\n",
      "35.81192494856451\n",
      "37.3371100502659\n",
      "5.111680956300544\n",
      "1.9289362099247338\n",
      "107.59264406445627\n",
      "27.529012989526947\n",
      "47.6622045060255\n",
      "28.86673128210839\n",
      "69.92107076640379\n",
      "37.43270626273738\n",
      "203.98781688591095\n",
      "146.52646001664024\n",
      "157.62694941184026\n",
      "23.67143264560815\n",
      "0.0\n",
      "0.0\n",
      "47.59060475674379\n",
      "75.97298832878512\n",
      "72.55150072547933\n",
      "15.700023620689048\n",
      "0.0\n",
      "0.0\n",
      "26.431994123711643\n",
      "26.157858405741145\n",
      "20.682644953340827\n",
      "43.639696308214745\n",
      "124.02892561983472\n",
      "205.28925619834712\n",
      "66.71900826446281\n",
      "33.57654402020182\n",
      "38.509169987470614\n",
      "37.590597173598724\n",
      "37.59163732047975\n",
      "38.97611237705157\n",
      "44.27035097341181\n",
      "70.88036798266971\n",
      "40.175686824891876\n",
      "42.4482672215201\n",
      "18.818181818181817\n",
      "49.55940429677625\n",
      "30.53970110480128\n",
      "28.894295745165874\n",
      "32.973490438601054\n",
      "65.23950614787262\n",
      "41.89508074296615\n",
      "27.19463128956788\n",
      "31.047204055589997\n",
      "25.598710174302497\n",
      "25.59993757943521\n",
      "27.77090141746455\n",
      "35.925619834710744\n",
      "31.64876033057851\n",
      "27.629262210075424\n",
      "46.2174074351366\n",
      "44.371097635457666\n",
      "45.86157219045764\n",
      "40.877828475472604\n",
      "42.06457122894821\n",
      "45.39833960156481\n",
      "9.985980045662282\n",
      "39.02592607498207\n",
      "34.16256331410781\n",
      "20.42211668444886\n",
      "13.776526467927715\n",
      "4.929465976739142\n",
      "9.985980045662282\n",
      "51.02168222011908\n",
      "53.7659488089182\n",
      "24.831429079345785\n",
      "44.425251205162134\n",
      "39.20390411356356\n",
      "52.43631213934438\n",
      "27.22456765959816\n",
      "39.96244750112002\n",
      "30.41974499989181\n",
      "38.26688592290663\n",
      "39.60971376842248\n",
      "14.996523177277806\n",
      "17.708484552046695\n",
      "17.666871820457597\n",
      "17.751262174165188\n",
      "37.43399871698939\n",
      "32.924813874652756\n",
      "18.77959111257143\n",
      "38.998721226759095\n",
      "21.330862546997945\n",
      "17.95538739414845\n",
      "30.019012299496517\n",
      "47.900826446280995\n",
      "47.900826446280995\n",
      "50.46694214876034\n",
      "31.95369176524226\n",
      "33.993289111959854\n",
      "42.337811512552534\n",
      "33.31342332972065\n",
      "37.39261802315583\n",
      "33.76666718454678\n",
      "32.29362465636186\n",
      "37.39261802315583\n",
      "34.673154894199044\n",
      "32.29362465636186\n",
      "37.39261802315583\n",
      "33.99328911195985\n",
      "39.106311899434026\n",
      "37.39261802315583\n",
      "33.99328911195985\n",
      "46.409879473769294\n",
      "23.86460351158123\n",
      "33.07787640254381\n",
      "61.18792040152772\n",
      "31.911327594669082\n",
      "39.74463862459124\n",
      "37.1091022803607\n",
      "33.28564752946581\n",
      "39.74463862459124\n",
      "19.166192988098103\n",
      "22.22499257443628\n",
      "41.63232841131921\n",
      "18.701483744312373\n",
      "15.604422742069561\n",
      "17.925716533582055\n",
      "27.21051806122535\n",
      "56.08698620783185\n",
      "46.68550969382292\n",
      "34.38619102232452\n",
      "36.43980808089748\n",
      "48.45916199206112\n",
      "46.589953575420076\n",
      "21.654181037756562\n",
      "34.81693658339083\n",
      "34.0203318379764\n",
      "26.46350709601023\n",
      "32.4883277692738\n",
      "60.75079207430769\n",
      "28.514427195384215\n",
      "28.705440289289864\n",
      "18.748136684274293\n",
      "30.812971132273475\n",
      "54.24160863667093\n",
      "26.037808070557297\n",
      "26.04010144552307\n",
      "19.258106957670922\n",
      "34.30717246345691\n",
      "30.812971132273475\n",
      "45.05390765455428\n",
      "28.492331139663744\n",
      "28.558162191530478\n",
      "48.82718369236281\n",
      "53.47118981613181\n",
      "53.586491273833346\n",
      "45.49328769470296\n",
      "35.648201920929196\n",
      "17.604749259746644\n",
      "23.794393682529783\n",
      "47.22293782388761\n",
      "22.685471045583274\n",
      "45.32800234514095\n",
      "45.977099401899025\n",
      "61.52044982111395\n",
      "36.25124720867674\n",
      "57.866523546284576\n",
      "18.67586715722377\n",
      "30.48261292240781\n",
      "21.935296795158063\n",
      "49.492812997498284\n",
      "46.872976741931154\n",
      "0.0\n",
      "0.0\n",
      "13.593712560994716\n",
      "13.547006754205649\n",
      "25.515099293941077\n",
      "34.214876033057855\n",
      "14.720415292669491\n",
      "32.43747555807793\n",
      "27.907101876782125\n",
      "22.511190168120883\n",
      "28.735781906258527\n",
      "22.341720546504405\n",
      "34.192296268363506\n",
      "45.15979564559551\n",
      "29.295654868675143\n",
      "14.38822154322584\n",
      "70.61515370814837\n",
      "50.989933667939766\n",
      "42.83154428106941\n",
      "52.68959812353777\n",
      "47.59060475674379\n",
      "46.11756222855886\n",
      "50.989933667939766\n",
      "47.93053764786338\n",
      "48.72371439380911\n",
      "52.68959812353777\n",
      "57.78859149033175\n",
      "49.51689113975485\n",
      "50.989933667939766\n",
      "52.309023719057514\n",
      "55.522372216201084\n",
      "109.48760330578513\n",
      "73.81594765604582\n",
      "28.78391848507801\n",
      "9.483601240708602\n",
      "19.020002719780276\n",
      "25.52582441729444\n",
      "23.320397633460924\n",
      "25.692066957190384\n",
      "20.408672888047626\n",
      "25.542985471676836\n",
      "21.496089292820386\n",
      "23.921289110471918\n",
      "6.831881500774751\n",
      "42.443063823563136\n",
      "45.709319971773205\n",
      "37.281308846360766\n",
      "43.740929516397635\n",
      "44.30912679846261\n",
      "40.802955982840395\n",
      "38.159680623362085\n",
      "37.281308846360766\n",
      "38.068807906628855\n",
      "47.81834242062721\n",
      "54.83541742475956\n",
      "37.59163886913843\n",
      "31.046912558305337\n",
      "10.264462809917354\n",
      "26.129010623293503\n",
      "32.739180682870796\n",
      "23.687558048068016\n",
      "38.66432526478902\n",
      "38.41432292346487\n",
      "32.49592767088278\n",
      "34.10367628806597\n",
      "29.607773404780843\n",
      "41.23935183295342\n",
      "44.47933884297521\n",
      "70.48264462809918\n",
      "61.753486889338625\n",
      "56.2849578843891\n",
      "70.48264462809918\n"
     ]
    },
    {
     "ename": "NameError",
     "evalue": "name 'reconnect_degree_2' is not defined",
     "output_type": "error",
     "traceback": [
      "\u001b[0;31m---------------------------------------------------------------------------\u001b[0m",
      "\u001b[0;31mNameError\u001b[0m                                 Traceback (most recent call last)",
      "\u001b[0;32m<ipython-input-115-366cb463e1e4>\u001b[0m in \u001b[0;36m<module>\u001b[0;34m\u001b[0m\n\u001b[0;32m----> 1\u001b[0;31m \u001b[0mclean_exp_with_hyphaes\u001b[0m\u001b[0;34m(\u001b[0m\u001b[0mexp\u001b[0m\u001b[0;34m)\u001b[0m\u001b[0;34m\u001b[0m\u001b[0;34m\u001b[0m\u001b[0m\n\u001b[0m",
      "\u001b[0;32m<ipython-input-114-1a7ba04ffc8c>\u001b[0m in \u001b[0;36mclean_exp_with_hyphaes\u001b[0;34m(experiment)\u001b[0m\n\u001b[1;32m    100\u001b[0m     \u001b[0;32mfor\u001b[0m \u001b[0mt\u001b[0m\u001b[0;34m,\u001b[0m \u001b[0mnx_graph\u001b[0m \u001b[0;32min\u001b[0m \u001b[0menumerate\u001b[0m\u001b[0;34m(\u001b[0m\u001b[0mnx_graph_cleans\u001b[0m\u001b[0;34m)\u001b[0m\u001b[0;34m:\u001b[0m\u001b[0;34m\u001b[0m\u001b[0;34m\u001b[0m\u001b[0m\n\u001b[1;32m    101\u001b[0m         \u001b[0mpos\u001b[0m \u001b[0;34m=\u001b[0m \u001b[0mexp_clean\u001b[0m\u001b[0;34m.\u001b[0m\u001b[0mpositions\u001b[0m\u001b[0;34m[\u001b[0m\u001b[0mt\u001b[0m\u001b[0;34m]\u001b[0m\u001b[0;34m\u001b[0m\u001b[0;34m\u001b[0m\u001b[0m\n\u001b[0;32m--> 102\u001b[0;31m         \u001b[0mreconnect_degree_2\u001b[0m\u001b[0;34m(\u001b[0m\u001b[0mnx_graph\u001b[0m\u001b[0;34m,\u001b[0m \u001b[0mpos\u001b[0m\u001b[0;34m)\u001b[0m\u001b[0;34m\u001b[0m\u001b[0;34m\u001b[0m\u001b[0m\n\u001b[0m\u001b[1;32m    103\u001b[0m     \u001b[0mnx_graph_pruned\u001b[0m \u001b[0;34m=\u001b[0m \u001b[0;34m[\u001b[0m\u001b[0;34m]\u001b[0m\u001b[0;34m\u001b[0m\u001b[0;34m\u001b[0m\u001b[0m\n\u001b[1;32m    104\u001b[0m     \u001b[0;32mfor\u001b[0m \u001b[0mgraph\u001b[0m \u001b[0;32min\u001b[0m \u001b[0mnx_graph_cleans\u001b[0m\u001b[0;34m:\u001b[0m\u001b[0;34m\u001b[0m\u001b[0;34m\u001b[0m\u001b[0m\n",
      "\u001b[0;31mNameError\u001b[0m: name 'reconnect_degree_2' is not defined"
     ]
    }
   ],
   "source": [
    "clean_exp_with_hyphaes(exp)"
   ]
  }
 ],
 "metadata": {
  "kernelspec": {
   "display_name": "Python 3",
   "language": "python",
   "name": "python3"
  },
  "language_info": {
   "codemirror_mode": {
    "name": "ipython",
    "version": 3
   },
   "file_extension": ".py",
   "mimetype": "text/x-python",
   "name": "python",
   "nbconvert_exporter": "python",
   "pygments_lexer": "ipython3",
   "version": "3.7.7"
  }
 },
 "nbformat": 4,
 "nbformat_minor": 4
}

{
 "cells": [
  {
   "cell_type": "code",
   "execution_count": 1,
   "metadata": {},
   "outputs": [],
   "source": [
    "%matplotlib widget\n",
    "\n",
    "import sys  \n",
    "sys.path.insert(0, '/home/cbisot/pycode/MscThesis/')\n",
    "sys.path.append( '/home/cbisot/pycode/MscThesis/sample/pipeline/functions')\n",
    "\n",
    "from sample.notebooks.analysis.util import *\n",
    "from sample.paths.directory import path_code, directory_scratch, directory_project\n",
    "from sample.notebooks.analysis.data_info import *\n",
    "import matplotlib.pyplot as plt\n"
   ]
  },
  {
   "cell_type": "code",
   "execution_count": 2,
   "metadata": {},
   "outputs": [],
   "source": [
    "for treatment in treatments.keys():\n",
    "    insts = treatments[treatment]\n",
    "    break"
   ]
  },
  {
   "cell_type": "code",
   "execution_count": 3,
   "metadata": {},
   "outputs": [
    {
     "name": "stdout",
     "output_type": "stream",
     "text": [
      "begin = 2020-07-14 14:15:00 \n",
      "  end = 2020-07-16 07:34:00\n"
     ]
    }
   ],
   "source": [
    "for inst in insts:\n",
    "    bas_frequ=[]\n",
    "    exp = get_exp(inst,directory_project)\n",
    "    break"
   ]
  },
  {
   "cell_type": "code",
   "execution_count": 3,
   "metadata": {},
   "outputs": [
    {
     "data": {
      "text/plain": [
       "174924.01027681777"
      ]
     },
     "execution_count": 3,
     "metadata": {},
     "output_type": "execute_result"
    }
   ],
   "source": [
    "lengths = [get_length(exp,t) for t in ]\n",
    "get_length(exp,0)"
   ]
  },
  {
   "cell_type": "code",
   "execution_count": 4,
   "metadata": {},
   "outputs": [],
   "source": [
    "RH, BAS, max_speeds, total_growths, widths, lengths, branch_frequ,select_hyph = get_rh_bas(exp,criter)"
   ]
  },
  {
   "cell_type": "code",
   "execution_count": 24,
   "metadata": {},
   "outputs": [],
   "source": [
    "bas_roots = [hyph.root.label for hyph in BAS]\n",
    "rh_roots = [hyph.root.label for hyph in RH]\n",
    "bas_frequ = []\n",
    "for rh in RH:\n",
    "    length = rh.get_length_um(rh.ts[-1])\n",
    "    nodes = rh.get_nodes_within(rh.ts[-1])[0]\n",
    "    count = 0\n",
    "    for node in nodes[1:-1]:\n",
    "        if node in bas_roots:\n",
    "            count+=1\n",
    "    bas_frequ.append(count/length)"
   ]
  },
  {
   "cell_type": "code",
   "execution_count": 25,
   "metadata": {
    "collapsed": true,
    "jupyter": {
     "outputs_hidden": true
    }
   },
   "outputs": [
    {
     "data": {
      "text/plain": [
       "array([1.18226741, 1.13127006, 2.02288166, 1.17587949, 1.0392935 ,\n",
       "       2.05296062, 2.50827549, 2.75685257, 1.33581618, 1.34602529,\n",
       "       1.66264561, 4.73372026, 2.64787567, 1.42427703, 1.73172797,\n",
       "       1.41791088, 1.78021933, 1.40220561, 1.00281586, 0.        ,\n",
       "       0.64118313, 0.53328667, 2.18942853, 0.96293658, 1.25964969,\n",
       "       1.30764141, 2.16890664, 0.45628011, 0.78835494, 1.57013246,\n",
       "       0.93471231, 0.74645421, 2.49684202, 1.3081189 , 1.73069247,\n",
       "       1.61367638, 4.91187701, 1.23000505, 1.74906095, 1.51544629,\n",
       "       1.70790173, 1.20203133, 2.81336627, 0.        , 2.64906949,\n",
       "       0.4765442 , 1.40383969, 1.07589511, 1.17892923, 2.59234645,\n",
       "       0.99402124, 2.03902314, 1.16664409, 3.14584107, 1.89263154,\n",
       "       0.49851856, 1.77917558, 2.65939557, 1.34125508, 1.98841258,\n",
       "       2.53277784, 0.84954589, 1.38670674, 1.16085598, 3.23104771,\n",
       "       1.67026882, 2.40771144, 1.24208514, 0.86194514, 0.72960923,\n",
       "       1.39246068, 2.54121399, 1.25733209, 0.51768976, 2.88724657,\n",
       "       2.12019469, 1.17081285, 1.35520143, 1.03326393, 0.        ,\n",
       "       1.87525913, 0.98339879, 1.4889925 , 0.        , 0.        ,\n",
       "       0.83257767, 0.83782759])"
      ]
     },
     "execution_count": 25,
     "metadata": {},
     "output_type": "execute_result"
    }
   ],
   "source": [
    "np.array(bas_frequ)*1000"
   ]
  },
  {
   "cell_type": "code",
   "execution_count": 20,
   "metadata": {},
   "outputs": [
    {
     "name": "stderr",
     "output_type": "stream",
     "text": [
      "/home/cbisot/anaconda3/envs/test/lib/python3.7/site-packages/matplotlib/__init__.py:880: MatplotlibDeprecationWarning: \n",
      "nbagg.transparent\n",
      "  version, key, obj_type=\"rcparam\", alternative=alt_key)\n"
     ]
    },
    {
     "data": {
      "application/vnd.jupyter.widget-view+json": {
       "model_id": "1469286f1145408180fb2ded5cc2afa8",
       "version_major": 2,
       "version_minor": 0
      },
      "text/plain": [
       "Canvas(toolbar=Toolbar(toolitems=[('Home', 'Reset original view', 'home', 'home'), ('Back', 'Back to previous …"
      ]
     },
     "metadata": {},
     "output_type": "display_data"
    },
    {
     "name": "stdout",
     "output_type": "stream",
     "text": [
      "3.13553933641579\n"
     ]
    }
   ],
   "source": [
    "fig, ax = plt.subplots(nrows=1, ncols=1, figsize=(9, 4))\n",
    "ax.hist(np.array(bas_frequ)*1000,20)\n",
    "# ax.set_xlim(100,350)\n",
    "ax.set_xlabel('BAS frequency (bas.cm-1)')\n",
    "ax.set_ylabel('Quantities')\n",
    "print(np.mean(np.array(bas_frequ)*1000))"
   ]
  },
  {
   "cell_type": "code",
   "execution_count": 26,
   "metadata": {},
   "outputs": [
    {
     "data": {
      "application/vnd.jupyter.widget-view+json": {
       "model_id": "2ee28b7539414099b3a25d649f3d0566",
       "version_major": 2,
       "version_minor": 0
      },
      "text/plain": [
       "Canvas(toolbar=Toolbar(toolitems=[('Home', 'Reset original view', 'home', 'home'), ('Back', 'Back to previous …"
      ]
     },
     "metadata": {},
     "output_type": "display_data"
    },
    {
     "name": "stdout",
     "output_type": "stream",
     "text": [
      "1.533798549216871\n"
     ]
    }
   ],
   "source": [
    "fig, ax = plt.subplots(nrows=1, ncols=1, figsize=(9, 4))\n",
    "ax.hist(np.array(bas_frequ)*1000,20)\n",
    "# ax.set_xlim(100,350)\n",
    "ax.set_xlabel('BAS frequency (bas.cm-1)')\n",
    "ax.set_ylabel('Quantities')\n",
    "print(np.mean(np.array(bas_frequ)*1000))"
   ]
  },
  {
   "cell_type": "code",
   "execution_count": 27,
   "metadata": {},
   "outputs": [
    {
     "name": "stdout",
     "output_type": "stream",
     "text": [
      "begin = 2020-07-14 14:15:00 \n",
      "  end = 2020-07-16 07:34:00\n"
     ]
    },
    {
     "name": "stderr",
     "output_type": "stream",
     "text": [
      "/home/cbisot/anaconda3/envs/test/lib/python3.7/site-packages/matplotlib/__init__.py:880: MatplotlibDeprecationWarning: \n",
      "nbagg.transparent\n",
      "  version, key, obj_type=\"rcparam\", alternative=alt_key)\n"
     ]
    },
    {
     "data": {
      "application/vnd.jupyter.widget-view+json": {
       "model_id": "4cdd41f4af7f4e13964e28e9449c20ab",
       "version_major": 2,
       "version_minor": 0
      },
      "text/plain": [
       "Canvas(toolbar=Toolbar(toolitems=[('Home', 'Reset original view', 'home', 'home'), ('Back', 'Back to previous …"
      ]
     },
     "metadata": {},
     "output_type": "display_data"
    },
    {
     "name": "stdout",
     "output_type": "stream",
     "text": [
      "1.533798549216871\n",
      "begin = 2020-07-18 09:25:00 \n",
      "  end = 2020-07-22 04:21:00\n"
     ]
    },
    {
     "data": {
      "application/vnd.jupyter.widget-view+json": {
       "model_id": "529544a9651245d991aa2833d6f7b360",
       "version_major": 2,
       "version_minor": 0
      },
      "text/plain": [
       "Canvas(toolbar=Toolbar(toolitems=[('Home', 'Reset original view', 'home', 'home'), ('Back', 'Back to previous …"
      ]
     },
     "metadata": {},
     "output_type": "display_data"
    },
    {
     "name": "stdout",
     "output_type": "stream",
     "text": [
      "1.1285318065667418\n",
      "begin = 2020-08-14 00:57:00 \n",
      "  end = 2020-08-17 04:57:00\n"
     ]
    },
    {
     "data": {
      "application/vnd.jupyter.widget-view+json": {
       "model_id": "609f3976a8764d8e8c4136df38dbbf52",
       "version_major": 2,
       "version_minor": 0
      },
      "text/plain": [
       "Canvas(toolbar=Toolbar(toolitems=[('Home', 'Reset original view', 'home', 'home'), ('Back', 'Back to previous …"
      ]
     },
     "metadata": {},
     "output_type": "display_data"
    },
    {
     "name": "stdout",
     "output_type": "stream",
     "text": [
      "0.4745849735661771\n",
      "begin = 2020-08-26 18:05:00 \n",
      "  end = 2020-08-28 02:05:00\n"
     ]
    },
    {
     "data": {
      "application/vnd.jupyter.widget-view+json": {
       "model_id": "7d93fca82c16448998331f307345cf78",
       "version_major": 2,
       "version_minor": 0
      },
      "text/plain": [
       "Canvas(toolbar=Toolbar(toolitems=[('Home', 'Reset original view', 'home', 'home'), ('Back', 'Back to previous …"
      ]
     },
     "metadata": {},
     "output_type": "display_data"
    },
    {
     "name": "stdout",
     "output_type": "stream",
     "text": [
      "0.5919220163729287\n",
      "begin = 2020-08-26 17:32:00 \n",
      "  end = 2020-08-31 17:33:00\n"
     ]
    },
    {
     "data": {
      "application/vnd.jupyter.widget-view+json": {
       "model_id": "69061dc481244e9a9992656cc77f435a",
       "version_major": 2,
       "version_minor": 0
      },
      "text/plain": [
       "Canvas(toolbar=Toolbar(toolitems=[('Home', 'Reset original view', 'home', 'home'), ('Back', 'Back to previous …"
      ]
     },
     "metadata": {},
     "output_type": "display_data"
    },
    {
     "name": "stdout",
     "output_type": "stream",
     "text": [
      "0.7613417048615208\n",
      "begin = 2020-08-26 17:49:00 \n",
      "  end = 2020-08-30 21:50:00\n"
     ]
    },
    {
     "data": {
      "application/vnd.jupyter.widget-view+json": {
       "model_id": "9385459a70b84810a5f0ec948e9a7888",
       "version_major": 2,
       "version_minor": 0
      },
      "text/plain": [
       "Canvas(toolbar=Toolbar(toolitems=[('Home', 'Reset original view', 'home', 'home'), ('Back', 'Back to previous …"
      ]
     },
     "metadata": {},
     "output_type": "display_data"
    },
    {
     "name": "stdout",
     "output_type": "stream",
     "text": [
      "0.6423861346519927\n",
      "begin = 2020-07-01 15:57:00 \n",
      "  end = 2020-07-05 23:57:00\n"
     ]
    },
    {
     "data": {
      "application/vnd.jupyter.widget-view+json": {
       "model_id": "e622123e6331446abc05a178fa6ef611",
       "version_major": 2,
       "version_minor": 0
      },
      "text/plain": [
       "Canvas(toolbar=Toolbar(toolitems=[('Home', 'Reset original view', 'home', 'home'), ('Back', 'Back to previous …"
      ]
     },
     "metadata": {},
     "output_type": "display_data"
    },
    {
     "name": "stdout",
     "output_type": "stream",
     "text": [
      "0.886443912874409\n",
      "begin = 2020-08-14 01:36:00 \n",
      "  end = 2020-08-17 01:37:00\n"
     ]
    },
    {
     "data": {
      "application/vnd.jupyter.widget-view+json": {
       "model_id": "222bfc65056a463392bfc4c60a1deee5",
       "version_major": 2,
       "version_minor": 0
      },
      "text/plain": [
       "Canvas(toolbar=Toolbar(toolitems=[('Home', 'Reset original view', 'home', 'home'), ('Back', 'Back to previous …"
      ]
     },
     "metadata": {},
     "output_type": "display_data"
    },
    {
     "name": "stdout",
     "output_type": "stream",
     "text": [
      "0.47143861377084667\n",
      "begin = 2020-08-26 18:02:00 \n",
      "  end = 2020-08-29 06:03:00\n"
     ]
    },
    {
     "data": {
      "application/vnd.jupyter.widget-view+json": {
       "model_id": "cc4d6ab3fed44857a4099d2174bd17a4",
       "version_major": 2,
       "version_minor": 0
      },
      "text/plain": [
       "Canvas(toolbar=Toolbar(toolitems=[('Home', 'Reset original view', 'home', 'home'), ('Back', 'Back to previous …"
      ]
     },
     "metadata": {},
     "output_type": "display_data"
    },
    {
     "name": "stdout",
     "output_type": "stream",
     "text": [
      "1.1744763843795754\n"
     ]
    }
   ],
   "source": [
    "plt.close('all')\n",
    "for inst in insts:\n",
    "    bas_frequ=[]\n",
    "    exp = get_exp(inst,directory_project)\n",
    "    RH, BAS, max_speeds, total_growths, widths, lengths, branch_frequ,select_hyph = get_rh_bas(exp,criter)\n",
    "    bas_roots = [hyph.root.label for hyph in BAS]\n",
    "    rh_roots = [hyph.root.label for hyph in RH]\n",
    "    bas_frequ = []\n",
    "    for rh in RH:\n",
    "        length = rh.get_length_um(rh.ts[-1])\n",
    "        nodes = rh.get_nodes_within(rh.ts[-1])[0]\n",
    "        count = 0\n",
    "        for node in nodes[1:-1]:\n",
    "            if node in bas_roots:\n",
    "                count+=1\n",
    "        bas_frequ.append(count/length)\n",
    "    fig, ax = plt.subplots(nrows=1, ncols=1, figsize=(9, 4))\n",
    "    ax.hist(np.array(bas_frequ)*1000,20)\n",
    "    # ax.set_xlim(100,350)\n",
    "    ax.set_xlabel('BAS frequency (bas.cm-1)')\n",
    "    ax.set_ylabel('Quantities')\n",
    "    print(np.mean(np.array(bas_frequ)*1000))"
   ]
  }
 ],
 "metadata": {
  "kernelspec": {
   "display_name": "Python 3",
   "language": "python",
   "name": "python3"
  },
  "language_info": {
   "codemirror_mode": {
    "name": "ipython",
    "version": 3
   },
   "file_extension": ".py",
   "mimetype": "text/x-python",
   "name": "python",
   "nbconvert_exporter": "python",
   "pygments_lexer": "ipython3",
   "version": "3.7.7"
  }
 },
 "nbformat": 4,
 "nbformat_minor": 4
}

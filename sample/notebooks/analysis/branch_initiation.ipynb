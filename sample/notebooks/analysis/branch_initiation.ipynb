{
 "cells": [
  {
   "cell_type": "code",
   "execution_count": 1,
   "metadata": {},
   "outputs": [],
   "source": [
    "%matplotlib widget\n",
    "\n",
    "import sys  \n",
    "sys.path.insert(0, '/home/cbisot/pycode/MscThesis/')\n",
    "import pandas as pd\n",
    "from sample.util import get_dates_datetime, get_dirname, get_plate_number, get_postion_number,get_begin_index\n",
    "import ast\n",
    "from sample.plotutil import plot_t_tp1\n",
    "from scipy import sparse\n",
    "from datetime import datetime\n",
    "from sample.pipeline.functions.node_id import orient\n",
    "import pickle\n",
    "import scipy.io as sio\n",
    "from pymatreader import read_mat\n",
    "from matplotlib import colors\n",
    "import cv2\n",
    "import imageio\n",
    "import matplotlib.pyplot as plt\n",
    "import numpy as np\n",
    "from skimage.filters import frangi\n",
    "from skimage import filters\n",
    "from random import choice\n",
    "import scipy.sparse\n",
    "import os\n",
    "from sample.pipeline.functions.extract_graph import from_sparse_to_graph, generate_nx_graph, sparse_to_doc\n",
    "from skimage.feature import hessian_matrix_det\n",
    "from sample.pipeline.functions.experiment_class_surf import Experiment, Edge, Node, Hyphae, plot_raw_plus\n",
    "from sample.paths.directory import run_parallel, find_state, directory_scratch, directory_project\n",
    "from sample.notebooks.analysis.util import *\n",
    "from scipy import stats\n",
    "from scipy.ndimage.filters import uniform_filter1d\n",
    "from statsmodels.stats import weightstats as stests\n",
    "from sample.pipeline.functions.hyphae_id_surf import get_pixel_growth_and_new_children\n",
    "from collections import Counter\n",
    "from IPython.display import clear_output\n",
    "from sample.notebooks.analysis.data_info import *\n"
   ]
  },
  {
   "cell_type": "code",
   "execution_count": 2,
   "metadata": {},
   "outputs": [
    {
     "name": "stdout",
     "output_type": "stream",
     "text": [
      "begin = 2020-11-23 15:01:00 \n",
      "  end = 2020-11-26 03:02:00\n"
     ]
    }
   ],
   "source": [
    "exp = get_exp((39,269,329),directory_project)\n"
   ]
  },
  {
   "cell_type": "code",
   "execution_count": 3,
   "metadata": {},
   "outputs": [],
   "source": [
    "def criter(max_growth,length):\n",
    "    return(a*length+b*max_growth>=2.5 and max_growth>=50)"
   ]
  },
  {
   "cell_type": "code",
   "execution_count": 4,
   "metadata": {},
   "outputs": [
    {
     "name": "stdout",
     "output_type": "stream",
     "text": [
      "failure in finding closest edge\n",
      "failure in finding closest edge\n",
      "failure in finding closest edge\n",
      "failure in finding closest edge\n",
      "failure in finding closest edge\n",
      "failure in finding closest edge\n",
      "failure in finding closest edge\n",
      "failure in finding closest edge\n",
      "failure in finding closest edge\n",
      "failure in finding closest edge\n",
      "failure in finding closest edge\n",
      "failure in finding closest edge\n",
      "failure in finding closest edge\n",
      "failure in finding closest edge\n",
      "failure in finding closest edge\n",
      "failure in finding closest edge\n",
      "failure in finding closest edge\n",
      "failure in finding closest edge\n",
      "failure in finding closest edge\n",
      "failure in finding closest edge\n",
      "failure in finding closest edge\n",
      "failure in finding closest edge\n",
      "failure in finding closest edge\n",
      "failure in finding closest edge\n",
      "failure in finding closest edge\n",
      "failure in finding closest edge\n",
      "failure in finding closest edge\n",
      "failure in finding closest edge\n",
      "failure in finding closest edge\n",
      "failure in finding closest edge\n",
      "failure in finding closest edge\n",
      "failure in finding closest edge\n",
      "failure in finding closest edge\n",
      "failure in finding closest edge\n",
      "failure in finding closest edge\n",
      "failure in finding closest edge\n",
      "failure in finding closest edge\n",
      "failure in finding closest edge\n",
      "failure in finding closest edge\n",
      "failure in finding closest edge\n",
      "failure in finding closest edge\n",
      "failure in finding closest edge\n",
      "failure in finding closest edge\n",
      "failure in finding closest edge\n",
      "failure in finding closest edge\n",
      "failure in finding closest edge\n",
      "failure in finding closest edge\n",
      "failure in finding closest edge\n",
      "failure in finding closest edge\n",
      "failure in finding closest edge\n",
      "failure in finding closest edge\n",
      "failure in finding closest edge\n",
      "failure in finding closest edge\n",
      "failure in finding closest edge\n",
      "failure in finding closest edge\n",
      "failure in finding closest edge\n",
      "failure in finding closest edge\n",
      "failure in finding closest edge\n",
      "failure in finding closest edge\n",
      "failure in finding closest edge\n",
      "failure in finding closest edge\n",
      "failure in finding closest edge\n",
      "failure in finding closest edge\n",
      "failure in finding closest edge\n",
      "failure in finding closest edge\n"
     ]
    }
   ],
   "source": [
    "RH, BAS, max_speeds, total_growths, widths, lengths, branch_frequ,select_hyph = get_rh_bas(exp,criter)"
   ]
  },
  {
   "cell_type": "code",
   "execution_count": 14,
   "metadata": {},
   "outputs": [
    {
     "data": {
      "text/plain": [
       "116.98713915375436"
      ]
     },
     "execution_count": 14,
     "metadata": {},
     "output_type": "execute_result"
    }
   ],
   "source": [
    "np.mean([speed for speed in max_speeds if speed>25])"
   ]
  },
  {
   "cell_type": "code",
   "execution_count": 5,
   "metadata": {},
   "outputs": [],
   "source": [
    "hyph_anas_tip_hyph = [hyphat for hyphat in exp.hyphaes if len(hyphat.ts)>=2 and hyphat.end.degree(hyphat.ts[-1])>=3 and hyphat.end.degree(hyphat.ts[-2])>=3]\n"
   ]
  },
  {
   "cell_type": "code",
   "execution_count": 6,
   "metadata": {
    "collapsed": true,
    "jupyter": {
     "outputs_hidden": true
    }
   },
   "outputs": [
    {
     "name": "stdout",
     "output_type": "stream",
     "text": [
      "failure in finding closest edge\n",
      "failure in finding closest edge\n",
      "failure in finding closest edge\n",
      "failure in finding closest edge\n",
      "failure in finding closest edge\n",
      "failure in finding closest edge\n",
      "failure in finding closest edge\n",
      "failure in finding closest edge\n",
      "failure in finding closest edge\n"
     ]
    }
   ],
   "source": [
    "branches = {}\n",
    "lengths = {}\n",
    "bd = []\n",
    "rh_ends = [rh.end for rh in RH]\n",
    "daughters = {}\n",
    "begins = {}\n",
    "for rh in RH:\n",
    "    tp1 = rh.ts[-1]\n",
    "    t = rh.ts[0]\n",
    "    pixels, nodes = get_pixel_growth_and_new_children(rh, t, tp1)\n",
    "    curv_length = np.sum([get_length_um(seg) for seg in pixels])\n",
    "    branch = []\n",
    "    daughter_list=[]\n",
    "    begins[rh] = nodes[1]\n",
    "    for node in nodes[1:-1]:\n",
    "        if node not in [hyph.end for hyph in hyph_anas_tip_hyph]:\n",
    "            node_obj  = node\n",
    "#             t0 = node_obj.ts()[0]\n",
    "#             neighbours = node_obj.neighbours(t0)\n",
    "#             if t0 in rh.ts:\n",
    "#                 nodes_hyph,edge = rh.get_nodes_within(t0)\n",
    "#                 for neighbour in neighbours:\n",
    "#                     if neighbour.label not in nodes_hyph:\n",
    "#                         daughter_list.append(neighbour)\n",
    "#                         if neighbour in rh_ends and neighbour!=rh.end:\n",
    "            branch.append(node)    \n",
    "    bd.append(len(branch)/curv_length)\n",
    "    branches[rh] = branch\n",
    "    daughters[rh] = daughter_list\n",
    "    lengths[rh] = curv_length"
   ]
  },
  {
   "cell_type": "code",
   "execution_count": 7,
   "metadata": {},
   "outputs": [
    {
     "data": {
      "text/plain": [
       "0.00170557685979303"
      ]
     },
     "execution_count": 7,
     "metadata": {},
     "output_type": "execute_result"
    }
   ],
   "source": [
    "np.mean(bd)"
   ]
  },
  {
   "cell_type": "code",
   "execution_count": 17,
   "metadata": {},
   "outputs": [
    {
     "data": {
      "text/plain": [
       "105.7336578387937"
      ]
     },
     "execution_count": 17,
     "metadata": {},
     "output_type": "execute_result"
    }
   ],
   "source": [
    "1/np.mean(bd)*3/np.log(2)/24"
   ]
  },
  {
   "cell_type": "code",
   "execution_count": 20,
   "metadata": {},
   "outputs": [
    {
     "data": {
      "text/plain": [
       "304.16820445408985"
      ]
     },
     "execution_count": 20,
     "metadata": {},
     "output_type": "execute_result"
    }
   ],
   "source": [
    "2000*(1.73+0.8)/np.log(2)/24"
   ]
  },
  {
   "cell_type": "code",
   "execution_count": 15,
   "metadata": {},
   "outputs": [
    {
     "data": {
      "text/plain": [
       "586.3118945699985"
      ]
     },
     "execution_count": 15,
     "metadata": {},
     "output_type": "execute_result"
    }
   ],
   "source": [
    "1/np.mean(bd)"
   ]
  },
  {
   "cell_type": "code",
   "execution_count": 86,
   "metadata": {},
   "outputs": [
    {
     "data": {
      "application/vnd.jupyter.widget-view+json": {
       "model_id": "90091cb33e4642399ad3c106cd865730",
       "version_major": 2,
       "version_minor": 0
      },
      "text/plain": [
       "Canvas(toolbar=Toolbar(toolitems=[('Home', 'Reset original view', 'home', 'home'), ('Back', 'Back to previous …"
      ]
     },
     "metadata": {},
     "output_type": "display_data"
    }
   ],
   "source": [
    "rh = choice(RH)\n",
    "plt.close('all')\n",
    "plot_raw_plus(exp,rh.ts[-1],branches[rh]+[rh.end.label,rh.root.label]+[hyph.label for hyph in daughters[rh]]+[begins[rh].label])"
   ]
  },
  {
   "cell_type": "code",
   "execution_count": 84,
   "metadata": {},
   "outputs": [
    {
     "data": {
      "text/plain": [
       "([36,\n",
       "  37,\n",
       "  38,\n",
       "  39,\n",
       "  40,\n",
       "  41,\n",
       "  42,\n",
       "  43,\n",
       "  44,\n",
       "  45,\n",
       "  46,\n",
       "  47,\n",
       "  48,\n",
       "  49,\n",
       "  50,\n",
       "  51,\n",
       "  52,\n",
       "  53,\n",
       "  54,\n",
       "  55,\n",
       "  56,\n",
       "  57,\n",
       "  58,\n",
       "  59,\n",
       "  60],\n",
       " 239.33367708738464,\n",
       " [],\n",
       " Hyphae(5551,1746))"
      ]
     },
     "execution_count": 84,
     "metadata": {},
     "output_type": "execute_result"
    }
   ],
   "source": [
    "rh.end.ts(),lengths[rh],branches[rh],rh"
   ]
  },
  {
   "cell_type": "code",
   "execution_count": 49,
   "metadata": {},
   "outputs": [
    {
     "data": {
      "text/plain": [
       "230"
      ]
     },
     "execution_count": 49,
     "metadata": {},
     "output_type": "execute_result"
    }
   ],
   "source": [
    "len(RH)"
   ]
  },
  {
   "cell_type": "code",
   "execution_count": 13,
   "metadata": {},
   "outputs": [
    {
     "data": {
      "text/plain": [
       "[Node(891), Node(3985), Node(3)]"
      ]
     },
     "execution_count": 13,
     "metadata": {},
     "output_type": "execute_result"
    }
   ],
   "source": [
    "neighbours"
   ]
  },
  {
   "cell_type": "code",
   "execution_count": 42,
   "metadata": {},
   "outputs": [
    {
     "name": "stderr",
     "output_type": "stream",
     "text": [
      "/home/cbisot/anaconda3/envs/test/lib/python3.7/site-packages/matplotlib/__init__.py:880: MatplotlibDeprecationWarning: \n",
      "nbagg.transparent\n",
      "  version, key, obj_type=\"rcparam\", alternative=alt_key)\n"
     ]
    },
    {
     "data": {
      "application/vnd.jupyter.widget-view+json": {
       "model_id": "fb6a6a878d564813a284a439bfb32a63",
       "version_major": 2,
       "version_minor": 0
      },
      "text/plain": [
       "Canvas(toolbar=Toolbar(toolitems=[('Home', 'Reset original view', 'home', 'home'), ('Back', 'Back to previous …"
      ]
     },
     "metadata": {},
     "output_type": "display_data"
    },
    {
     "data": {
      "text/plain": [
       "(array([14.,  2., 10.,  6., 15., 21., 25., 16., 12.,  9.,  7.,  6.,  3.,\n",
       "         3.,  0.,  0.,  3.,  1.,  1.,  1.,  1.,  0.,  0.,  1.,  0.,  0.,\n",
       "         1.,  0.,  1.,  1.]),\n",
       " array([0.        , 0.00021597, 0.00043195, 0.00064792, 0.00086389,\n",
       "        0.00107986, 0.00129584, 0.00151181, 0.00172778, 0.00194375,\n",
       "        0.00215973, 0.0023757 , 0.00259167, 0.00280765, 0.00302362,\n",
       "        0.00323959, 0.00345556, 0.00367154, 0.00388751, 0.00410348,\n",
       "        0.00431946, 0.00453543, 0.0047514 , 0.00496737, 0.00518335,\n",
       "        0.00539932, 0.00561529, 0.00583126, 0.00604724, 0.00626321,\n",
       "        0.00647918]),\n",
       " <a list of 30 Patch objects>)"
      ]
     },
     "execution_count": 42,
     "metadata": {},
     "output_type": "execute_result"
    }
   ],
   "source": [
    "plt.close('all')\n",
    "fig=plt.figure(figsize=(8,8))\n",
    "ax = fig.add_subplot(111)\n",
    "ax.hist(bd,30)"
   ]
  },
  {
   "cell_type": "code",
   "execution_count": 44,
   "metadata": {},
   "outputs": [
    {
     "data": {
      "text/plain": [
       "639.5821582781915"
      ]
     },
     "execution_count": 44,
     "metadata": {},
     "output_type": "execute_result"
    }
   ],
   "source": [
    "1/np.mean(bd)"
   ]
  },
  {
   "cell_type": "code",
   "execution_count": 54,
   "metadata": {},
   "outputs": [
    {
     "data": {
      "application/vnd.jupyter.widget-view+json": {
       "model_id": "89b66a3ae1d0487982dc32ec52c65eee",
       "version_major": 2,
       "version_minor": 0
      },
      "text/plain": [
       "Canvas(toolbar=Toolbar(toolitems=[('Home', 'Reset original view', 'home', 'home'), ('Back', 'Back to previous …"
      ]
     },
     "metadata": {},
     "output_type": "display_data"
    }
   ],
   "source": [
    "Node(1735,exp).show_source_image(14,14)"
   ]
  },
  {
   "cell_type": "code",
   "execution_count": 49,
   "metadata": {},
   "outputs": [
    {
     "data": {
      "text/plain": [
       "[Node(2019), Node(8511), Node(7466)]"
      ]
     },
     "execution_count": 49,
     "metadata": {},
     "output_type": "execute_result"
    }
   ],
   "source": [
    "Node(237,exp).neighbours(rh.ts[-1])"
   ]
  },
  {
   "cell_type": "code",
   "execution_count": 28,
   "metadata": {},
   "outputs": [
    {
     "data": {
      "application/vnd.jupyter.widget-view+json": {
       "model_id": "88579b7530f947a7a400311f178549fd",
       "version_major": 2,
       "version_minor": 0
      },
      "text/plain": [
       "Canvas(toolbar=Toolbar(toolitems=[('Home', 'Reset original view', 'home', 'home'), ('Back', 'Back to previous …"
      ]
     },
     "metadata": {},
     "output_type": "display_data"
    }
   ],
   "source": [
    "Node(16134,exp).show_source_image(rh.ts[-1],rh.ts[-1])"
   ]
  },
  {
   "cell_type": "code",
   "execution_count": 30,
   "metadata": {},
   "outputs": [],
   "source": [
    "edge = Edge(Node(16134,exp),Node(16141,exp),exp)"
   ]
  },
  {
   "cell_type": "code",
   "execution_count": 31,
   "metadata": {},
   "outputs": [
    {
     "data": {
      "text/plain": [
       "[65.71399411647921]"
      ]
     },
     "execution_count": 31,
     "metadata": {},
     "output_type": "execute_result"
    }
   ],
   "source": [
    "[get_length_um_edge(edge,t) for t in edge.ts()]"
   ]
  },
  {
   "cell_type": "code",
   "execution_count": 16,
   "metadata": {},
   "outputs": [
    {
     "data": {
      "text/plain": [
       "[Node(4432), Node(1612), Node(6735)]"
      ]
     },
     "execution_count": 16,
     "metadata": {},
     "output_type": "execute_result"
    }
   ],
   "source": [
    "Node(5857,exp).neighbours(rh.ts[-1])"
   ]
  },
  {
   "cell_type": "code",
   "execution_count": 5,
   "metadata": {},
   "outputs": [],
   "source": [
    "data = {}\n",
    "lapses = [1,2,3,4,5,6,7,8,9,10,11,12,13,14,15,16]\n",
    "curv_growths = []\n",
    "straight_distances = []\n",
    "lapses_time = []\n",
    "for lapse in lapses:\n",
    "    data[lapse]=[]\n",
    "    for rh in RH:\n",
    "        index = 0\n",
    "        for index in range(len(rh.ts)-lapse):\n",
    "            t = rh.ts[index]\n",
    "            tp1 = rh.ts[index + lapse]\n",
    "            pos = rh.end.pos(t)\n",
    "            pos_tp1 = rh.end.pos(tp1)\n",
    "            pixels, nodes = get_pixel_growth_and_new_children(rh, t, tp1)\n",
    "            count=len(nodes[1:-1]) \n",
    "            lapse_time = get_time(exp, t, tp1)\n",
    "            curv_growth = np.sum([get_length_um(seg) for seg in pixels])\n",
    "            if curv_growth/lapse_time>25:\n",
    "                straight_distance = np.linalg.norm(pos-pos_tp1)\n",
    "                inv_tortuosity = (straight_distance*1.725)/curv_growth\n",
    "                data[lapse].append((curv_growth,straight_distance))\n",
    "                curv_growths.append(curv_growth)\n",
    "                straight_distances.append(straight_distance)\n",
    "                lapses_time.append(lapse_time)"
   ]
  },
  {
   "cell_type": "code",
   "execution_count": 36,
   "metadata": {
    "collapsed": true,
    "jupyter": {
     "outputs_hidden": true,
     "source_hidden": true
    }
   },
   "outputs": [
    {
     "data": {
      "application/vnd.jupyter.widget-view+json": {
       "model_id": "c1f53cf45ef34c3681dc3d14d3b5309a",
       "version_major": 2,
       "version_minor": 0
      },
      "text/plain": [
       "Canvas(toolbar=Toolbar(toolitems=[('Home', 'Reset original view', 'home', 'home'), ('Back', 'Back to previous …"
      ]
     },
     "metadata": {},
     "output_type": "display_data"
    },
    {
     "data": {
      "text/plain": [
       "<matplotlib.collections.PathCollection at 0x2b009dadac10>"
      ]
     },
     "execution_count": 36,
     "metadata": {},
     "output_type": "execute_result"
    }
   ],
   "source": [
    "fig=plt.figure(figsize=(8,8))\n",
    "ax = fig.add_subplot(111)\n",
    "ax.scatter(curv_growths,np.array(straight_distances)*1.725/np.array(curv_growths))"
   ]
  },
  {
   "cell_type": "code",
   "execution_count": 6,
   "metadata": {},
   "outputs": [],
   "source": [
    "data = pd.DataFrame(list(zip(curv_growths,straight_distances)),columns = ['curv_growth','straight_distance'])\n",
    "data['straight'] = data['straight_distance']*1.725/data['curv_growth']\n",
    "data['straight_scaled'] = data['straight_distance']*1.725/np.sqrt(data['curv_growth'])\n",
    "data['time'] = lapses_time\n",
    "data['straight_time'] = data['straight']/data['time']\n",
    "data['speed'] = data['curv_growth']/data['time']"
   ]
  },
  {
   "cell_type": "code",
   "execution_count": 7,
   "metadata": {},
   "outputs": [
    {
     "data": {
      "text/plain": [
       "21.0"
      ]
     },
     "execution_count": 7,
     "metadata": {},
     "output_type": "execute_result"
    }
   ],
   "source": [
    "np.max(data['time'])"
   ]
  },
  {
   "cell_type": "code",
   "execution_count": 8,
   "metadata": {},
   "outputs": [],
   "source": [
    "correct = data.loc[(data['straight']<1)& (data['speed']>150)& (data['speed']<400)]"
   ]
  },
  {
   "cell_type": "code",
   "execution_count": 10,
   "metadata": {},
   "outputs": [
    {
     "data": {
      "application/vnd.jupyter.widget-view+json": {
       "model_id": "fbcd4ba3755a4b85a23919aed36ec20c",
       "version_major": 2,
       "version_minor": 0
      },
      "text/plain": [
       "Canvas(toolbar=Toolbar(toolitems=[('Home', 'Reset original view', 'home', 'home'), ('Back', 'Back to previous …"
      ]
     },
     "metadata": {},
     "output_type": "display_data"
    },
    {
     "data": {
      "text/plain": [
       "[<matplotlib.lines.Line2D at 0x2aafa9094510>]"
      ]
     },
     "execution_count": 10,
     "metadata": {},
     "output_type": "execute_result"
    }
   ],
   "source": [
    "plt.close('all')\n",
    "abcisse = 'curv_growth'\n",
    "ordinate = 'straight'\n",
    "tab = correct\n",
    "baits_sort = tab.sort_values(abcisse)\n",
    "N=3000\n",
    "moving_av = baits_sort.rolling(N,min_periods=N//2).mean()\n",
    "moving_std = baits_sort.rolling(N,min_periods=N//2).std()\n",
    "\n",
    "fig=plt.figure(figsize=(8,8))\n",
    "ax = fig.add_subplot(111)\n",
    "ax.set_ylabel('straightness')\n",
    "\n",
    "ax.set_xlabel('curvilinear length ($\\mu m$)')\n",
    "# ax.set_xlim(-0.5,0.5)\n",
    "ax.set_ylim(0.96,1)\n",
    "# ax.set_xlim(-190,190)\n",
    "# slope, intercept, r_value, p_value, std_err = stats.linregress(densities_sort,np.abs(curvatures_sort))\n",
    "\n",
    "ax.scatter(correct[abcisse],correct[ordinate],alpha=0.3,c = correct['time'])\n",
    "ax.plot(moving_av[abcisse],moving_av[ordinate],color='green',label = 'moving average')\n",
    "ax.plot(moving_av[abcisse],(moving_av[ordinate]+moving_std[ordinate]/np.sqrt(N)),color='red',label = 'std')\n",
    "ax.plot(moving_av[abcisse],(moving_av[ordinate]-moving_std[ordinate]/np.sqrt(N)),color='red',label = 'std')"
   ]
  },
  {
   "cell_type": "code",
   "execution_count": 9,
   "metadata": {},
   "outputs": [
    {
     "name": "stderr",
     "output_type": "stream",
     "text": [
      "/home/cbisot/anaconda3/envs/test/lib/python3.7/site-packages/matplotlib/__init__.py:880: MatplotlibDeprecationWarning: \n",
      "nbagg.transparent\n",
      "  version, key, obj_type=\"rcparam\", alternative=alt_key)\n"
     ]
    },
    {
     "data": {
      "application/vnd.jupyter.widget-view+json": {
       "model_id": "617aa25d2f6b4b399eb880d5e4ce825a",
       "version_major": 2,
       "version_minor": 0
      },
      "text/plain": [
       "Canvas(toolbar=Toolbar(toolitems=[('Home', 'Reset original view', 'home', 'home'), ('Back', 'Back to previous …"
      ]
     },
     "metadata": {},
     "output_type": "display_data"
    },
    {
     "name": "stderr",
     "output_type": "stream",
     "text": [
      "/home/cbisot/anaconda3/envs/test/lib/python3.7/site-packages/matplotlib/cbook/__init__.py:1377: FutureWarning: Support for multi-dimensional indexing (e.g. `obj[:, None]`) is deprecated and will be removed in a future version.  Convert to a numpy array before indexing instead.\n",
      "  x[:, None]\n",
      "/home/cbisot/anaconda3/envs/test/lib/python3.7/site-packages/matplotlib/axes/_base.py:237: FutureWarning: Support for multi-dimensional indexing (e.g. `obj[:, None]`) is deprecated and will be removed in a future version.  Convert to a numpy array before indexing instead.\n",
      "  x = x[:, np.newaxis]\n",
      "/home/cbisot/anaconda3/envs/test/lib/python3.7/site-packages/matplotlib/axes/_base.py:239: FutureWarning: Support for multi-dimensional indexing (e.g. `obj[:, None]`) is deprecated and will be removed in a future version.  Convert to a numpy array before indexing instead.\n",
      "  y = y[:, np.newaxis]\n"
     ]
    },
    {
     "data": {
      "text/plain": [
       "[<matplotlib.lines.Line2D at 0x2aafa91f3d50>]"
      ]
     },
     "execution_count": 9,
     "metadata": {},
     "output_type": "execute_result"
    }
   ],
   "source": [
    "plt.close('all')\n",
    "abcisse = 'speed'\n",
    "ordinate = 'straight'\n",
    "tab = correct\n",
    "baits_sort = tab.sort_values(abcisse)\n",
    "N=1600\n",
    "moving_av = baits_sort.rolling(N,min_periods=N//2).mean()\n",
    "moving_std = baits_sort.rolling(N,min_periods=N//2).std()\n",
    "\n",
    "fig=plt.figure(figsize=(8,8))\n",
    "ax = fig.add_subplot(111)\n",
    "ax.set_xlabel('inverse density ($mm.mm^{-2}$)')\n",
    "\n",
    "ax.set_ylabel('normalised scalar product speed.density gradient')\n",
    "# ax.set_xlim(-0.5,0.5)\n",
    "# ax.set_ylim(-0.5,0.5)\n",
    "# ax.set_xlim(-190,190)\n",
    "# slope, intercept, r_value, p_value, std_err = stats.linregress(densities_sort,np.abs(curvatures_sort))\n",
    "\n",
    "ax.scatter(correct[abcisse],correct[ordinate],alpha=0.3,c = correct['time'])\n",
    "ax.plot(moving_av[abcisse],moving_av[ordinate],color='green',label = 'moving average')\n",
    "ax.plot(moving_av[abcisse],(moving_av[ordinate]+moving_std[ordinate]/np.sqrt(N)),color='red',label = 'std')\n",
    "ax.plot(moving_av[abcisse],(moving_av[ordinate]-moving_std[ordinate]/np.sqrt(N)),color='red',label = 'std')"
   ]
  },
  {
   "cell_type": "code",
   "execution_count": 16,
   "metadata": {},
   "outputs": [
    {
     "data": {
      "text/html": [
       "<div>\n",
       "<style scoped>\n",
       "    .dataframe tbody tr th:only-of-type {\n",
       "        vertical-align: middle;\n",
       "    }\n",
       "\n",
       "    .dataframe tbody tr th {\n",
       "        vertical-align: top;\n",
       "    }\n",
       "\n",
       "    .dataframe thead th {\n",
       "        text-align: right;\n",
       "    }\n",
       "</style>\n",
       "<table border=\"1\" class=\"dataframe\">\n",
       "  <thead>\n",
       "    <tr style=\"text-align: right;\">\n",
       "      <th></th>\n",
       "      <th>curv_growth</th>\n",
       "      <th>straight_distance</th>\n",
       "      <th>straight</th>\n",
       "      <th>straight_scaled</th>\n",
       "      <th>time</th>\n",
       "      <th>straight_time</th>\n",
       "      <th>speed</th>\n",
       "    </tr>\n",
       "  </thead>\n",
       "  <tbody>\n",
       "    <tr>\n",
       "      <th>0</th>\n",
       "      <td>261.436548</td>\n",
       "      <td>151.029798</td>\n",
       "      <td>0.996519</td>\n",
       "      <td>16.112710</td>\n",
       "      <td>1.000000</td>\n",
       "      <td>0.996519</td>\n",
       "      <td>261.436548</td>\n",
       "    </tr>\n",
       "    <tr>\n",
       "      <th>1</th>\n",
       "      <td>264.731835</td>\n",
       "      <td>153.323188</td>\n",
       "      <td>0.999058</td>\n",
       "      <td>16.255258</td>\n",
       "      <td>1.000000</td>\n",
       "      <td>0.999058</td>\n",
       "      <td>264.731835</td>\n",
       "    </tr>\n",
       "    <tr>\n",
       "      <th>2</th>\n",
       "      <td>271.695566</td>\n",
       "      <td>157.257750</td>\n",
       "      <td>0.998432</td>\n",
       "      <td>16.457349</td>\n",
       "      <td>0.983333</td>\n",
       "      <td>1.015355</td>\n",
       "      <td>276.300575</td>\n",
       "    </tr>\n",
       "    <tr>\n",
       "      <th>3</th>\n",
       "      <td>246.001090</td>\n",
       "      <td>142.003521</td>\n",
       "      <td>0.995752</td>\n",
       "      <td>15.617794</td>\n",
       "      <td>1.000000</td>\n",
       "      <td>0.995752</td>\n",
       "      <td>246.001090</td>\n",
       "    </tr>\n",
       "    <tr>\n",
       "      <th>7</th>\n",
       "      <td>248.937756</td>\n",
       "      <td>143.694120</td>\n",
       "      <td>0.995720</td>\n",
       "      <td>15.710236</td>\n",
       "      <td>1.000000</td>\n",
       "      <td>0.995720</td>\n",
       "      <td>248.937756</td>\n",
       "    </tr>\n",
       "    <tr>\n",
       "      <th>...</th>\n",
       "      <td>...</td>\n",
       "      <td>...</td>\n",
       "      <td>...</td>\n",
       "      <td>...</td>\n",
       "      <td>...</td>\n",
       "      <td>...</td>\n",
       "      <td>...</td>\n",
       "    </tr>\n",
       "    <tr>\n",
       "      <th>26730</th>\n",
       "      <td>3567.965315</td>\n",
       "      <td>2043.160542</td>\n",
       "      <td>0.987804</td>\n",
       "      <td>59.003976</td>\n",
       "      <td>16.000000</td>\n",
       "      <td>0.061738</td>\n",
       "      <td>222.997832</td>\n",
       "    </tr>\n",
       "    <tr>\n",
       "      <th>26734</th>\n",
       "      <td>3801.541572</td>\n",
       "      <td>2181.430036</td>\n",
       "      <td>0.989853</td>\n",
       "      <td>61.031004</td>\n",
       "      <td>16.000000</td>\n",
       "      <td>0.061866</td>\n",
       "      <td>237.596348</td>\n",
       "    </tr>\n",
       "    <tr>\n",
       "      <th>26735</th>\n",
       "      <td>3975.449970</td>\n",
       "      <td>2236.633184</td>\n",
       "      <td>0.970505</td>\n",
       "      <td>61.191446</td>\n",
       "      <td>16.000000</td>\n",
       "      <td>0.060657</td>\n",
       "      <td>248.465623</td>\n",
       "    </tr>\n",
       "    <tr>\n",
       "      <th>26740</th>\n",
       "      <td>3011.331538</td>\n",
       "      <td>1731.276119</td>\n",
       "      <td>0.991738</td>\n",
       "      <td>54.422207</td>\n",
       "      <td>16.000000</td>\n",
       "      <td>0.061984</td>\n",
       "      <td>188.208221</td>\n",
       "    </tr>\n",
       "    <tr>\n",
       "      <th>26741</th>\n",
       "      <td>3292.104482</td>\n",
       "      <td>1893.906545</td>\n",
       "      <td>0.992371</td>\n",
       "      <td>56.939132</td>\n",
       "      <td>16.000000</td>\n",
       "      <td>0.062023</td>\n",
       "      <td>205.756530</td>\n",
       "    </tr>\n",
       "  </tbody>\n",
       "</table>\n",
       "<p>18452 rows × 7 columns</p>\n",
       "</div>"
      ],
      "text/plain": [
       "       curv_growth  straight_distance  straight  straight_scaled       time  \\\n",
       "0       261.436548         151.029798  0.996519        16.112710   1.000000   \n",
       "1       264.731835         153.323188  0.999058        16.255258   1.000000   \n",
       "2       271.695566         157.257750  0.998432        16.457349   0.983333   \n",
       "3       246.001090         142.003521  0.995752        15.617794   1.000000   \n",
       "7       248.937756         143.694120  0.995720        15.710236   1.000000   \n",
       "...            ...                ...       ...              ...        ...   \n",
       "26730  3567.965315        2043.160542  0.987804        59.003976  16.000000   \n",
       "26734  3801.541572        2181.430036  0.989853        61.031004  16.000000   \n",
       "26735  3975.449970        2236.633184  0.970505        61.191446  16.000000   \n",
       "26740  3011.331538        1731.276119  0.991738        54.422207  16.000000   \n",
       "26741  3292.104482        1893.906545  0.992371        56.939132  16.000000   \n",
       "\n",
       "       straight_time       speed  \n",
       "0           0.996519  261.436548  \n",
       "1           0.999058  264.731835  \n",
       "2           1.015355  276.300575  \n",
       "3           0.995752  246.001090  \n",
       "7           0.995720  248.937756  \n",
       "...              ...         ...  \n",
       "26730       0.061738  222.997832  \n",
       "26734       0.061866  237.596348  \n",
       "26735       0.060657  248.465623  \n",
       "26740       0.061984  188.208221  \n",
       "26741       0.062023  205.756530  \n",
       "\n",
       "[18452 rows x 7 columns]"
      ]
     },
     "execution_count": 16,
     "metadata": {},
     "output_type": "execute_result"
    }
   ],
   "source": [
    "tab"
   ]
  },
  {
   "cell_type": "code",
   "execution_count": 75,
   "metadata": {},
   "outputs": [],
   "source": [
    "roots_new_branch = []\n",
    "total_growth = 0\n",
    "counts =[]\n",
    "speed_ratios = []\n",
    "lapses = []\n",
    "roots = [rh.root for rh in RH]\n",
    "lag = 1 \n",
    "for lapse in [1]:\n",
    "    for rh in RH:\n",
    "        index = 0\n",
    "        while index < (len(rh.ts)):\n",
    "            if index+lapse+lag<len(rh.ts):\n",
    "                t = rh.ts[index]\n",
    "                tp1 = rh.ts[index + lapse]\n",
    "                pixels, nodes = get_pixel_growth_and_new_children(rh, t, tp1)\n",
    "                count=len(nodes[1:-1]) \n",
    "                if count==0:\n",
    "                    t = rh.ts[index]\n",
    "                    tp1 = rh.ts[index + 1]\n",
    "                    pixels, nodes = get_pixel_growth_and_new_children(rh, t, tp1)\n",
    "                    lapse_time = get_time(exp, t, tp1)\n",
    "                    speed_init = np.sum([get_length_um(seg) for seg in pixels])/lapse_time\n",
    "                    t0 = rh.ts[index+lapse]\n",
    "                    t0p1 = rh.ts[index + lapse+lag]\n",
    "                    pixels, nodes = get_pixel_growth_and_new_children(rh, t0, t0p1)\n",
    "                    lapse_time = get_time(exp, t0, t0p1)\n",
    "                    speed_after = np.sum([get_length_um(seg) for seg in pixels])/lapse_time\n",
    "                    if speed_after>100 and speed_init>100:\n",
    "                        counts.append(count)\n",
    "                        speed_ratios.append(speed_after/speed_init)\n",
    "                    index+= lapse\n",
    "            index +=1"
   ]
  },
  {
   "cell_type": "code",
   "execution_count": 77,
   "metadata": {},
   "outputs": [],
   "source": [
    "roots_new_branch = []\n",
    "total_growth = 0\n",
    "counts =[]\n",
    "speed_ratios2 = []\n",
    "lapses = []\n",
    "roots = [rh.root for rh in RH]\n",
    "lag = 1\n",
    "for lapse in [1]:\n",
    "    for rh in RH:\n",
    "        index = 0\n",
    "        while index < (len(rh.ts)):\n",
    "            if index+lapse+lag<len(rh.ts):\n",
    "                t = rh.ts[index]\n",
    "                tp1 = rh.ts[index + lapse]\n",
    "                pixels, nodes = get_pixel_growth_and_new_children(rh, t, tp1)\n",
    "                count=len(nodes[1:-1]) \n",
    "                if count==1:\n",
    "                    t = rh.ts[index]\n",
    "                    tp1 = rh.ts[index + 1]\n",
    "                    pixels, nodes = get_pixel_growth_and_new_children(rh, t, tp1)\n",
    "                    lapse_time = get_time(exp, t, tp1)\n",
    "                    speed_init = np.sum([get_length_um(seg) for seg in pixels])/lapse_time\n",
    "                    t0 = rh.ts[index+lapse]\n",
    "                    t0p1 = rh.ts[index + lapse+lag]\n",
    "                    pixels, nodes = get_pixel_growth_and_new_children(rh, t0, t0p1)\n",
    "                    lapse_time = get_time(exp, t0, t0p1)\n",
    "                    speed_after = np.sum([get_length_um(seg) for seg in pixels])/lapse_time\n",
    "                    if speed_after>100 and speed_init>100:\n",
    "                        counts.append(count)\n",
    "                        speed_ratios2.append(speed_after/speed_init)\n",
    "                    index+= lapse\n",
    "            index +=1"
   ]
  },
  {
   "cell_type": "code",
   "execution_count": 78,
   "metadata": {
    "collapsed": true,
    "jupyter": {
     "outputs_hidden": true
    }
   },
   "outputs": [
    {
     "data": {
      "application/vnd.jupyter.widget-view+json": {
       "model_id": "64e9273136604bad85a03acaf9bde1ed",
       "version_major": 2,
       "version_minor": 0
      },
      "text/plain": [
       "Canvas(toolbar=Toolbar(toolitems=[('Home', 'Reset original view', 'home', 'home'), ('Back', 'Back to previous …"
      ]
     },
     "metadata": {},
     "output_type": "display_data"
    },
    {
     "data": {
      "text/plain": [
       "(array([ 5.,  8.,  4.,  7.,  9.,  8., 11., 27., 64., 61., 30., 21., 12.,\n",
       "         4.,  0.,  3.,  1.,  2.,  0.,  1.]),\n",
       " array([0.36922634, 0.44160127, 0.51397621, 0.58635115, 0.65872609,\n",
       "        0.73110103, 0.80347597, 0.87585091, 0.94822585, 1.02060079,\n",
       "        1.09297573, 1.16535067, 1.23772561, 1.31010055, 1.38247549,\n",
       "        1.45485043, 1.52722537, 1.59960031, 1.67197525, 1.74435019,\n",
       "        1.81672513]),\n",
       " <a list of 20 Patch objects>)"
      ]
     },
     "execution_count": 78,
     "metadata": {},
     "output_type": "execute_result"
    }
   ],
   "source": [
    "fig=plt.figure(figsize=(8,8))\n",
    "ax = fig.add_subplot(111)\n",
    "ax.hist(speed_ratios,20)"
   ]
  },
  {
   "cell_type": "code",
   "execution_count": 79,
   "metadata": {},
   "outputs": [
    {
     "data": {
      "text/plain": [
       "(278, 1.0178450293319536, 0.012873430520369749)"
      ]
     },
     "execution_count": 79,
     "metadata": {},
     "output_type": "execute_result"
    }
   ],
   "source": [
    "len(speed_ratios),np.median(speed_ratios),np.std(speed_ratios)/np.sqrt(len(speed_ratios))"
   ]
  },
  {
   "cell_type": "code",
   "execution_count": 80,
   "metadata": {},
   "outputs": [
    {
     "data": {
      "text/plain": [
       "(217, 1.012384783370696, 0.015038422391621915)"
      ]
     },
     "execution_count": 80,
     "metadata": {},
     "output_type": "execute_result"
    }
   ],
   "source": [
    "len(speed_ratios2),np.median(speed_ratios2),np.std(speed_ratios2)/np.sqrt(len(speed_ratios2))"
   ]
  },
  {
   "cell_type": "code",
   "execution_count": 81,
   "metadata": {},
   "outputs": [
    {
     "data": {
      "application/vnd.jupyter.widget-view+json": {
       "model_id": "c96585f0299743d9aaeedd5875b7702d",
       "version_major": 2,
       "version_minor": 0
      },
      "text/plain": [
       "Canvas(toolbar=Toolbar(toolitems=[('Home', 'Reset original view', 'home', 'home'), ('Back', 'Back to previous …"
      ]
     },
     "metadata": {},
     "output_type": "display_data"
    },
    {
     "data": {
      "text/plain": [
       "<matplotlib.legend.Legend at 0x2b75eab24e90>"
      ]
     },
     "execution_count": 81,
     "metadata": {},
     "output_type": "execute_result"
    }
   ],
   "source": [
    "\n",
    "\n",
    "fig = plt.figure()\n",
    "bins = np.linspace(0.4, 1.6, 40)\n",
    "ax = fig.add_subplot(111)\n",
    "ax.hist(speed_ratios,bins,alpha=0.5,label='no branching',density=True)\n",
    "ax.hist(speed_ratios2,bins,alpha=0.5,label='branching',density=True)\n",
    "\n",
    "ax.set_xlabel(r'new_speed/former_speedr ratio')\n",
    "plt.legend(loc='upper right')"
   ]
  },
  {
   "cell_type": "code",
   "execution_count": 59,
   "metadata": {},
   "outputs": [
    {
     "data": {
      "application/vnd.jupyter.widget-view+json": {
       "model_id": "f177a4e33f354d79b907969cfd2209c3",
       "version_major": 2,
       "version_minor": 0
      },
      "text/plain": [
       "Canvas(toolbar=Toolbar(toolitems=[('Home', 'Reset original view', 'home', 'home'), ('Back', 'Back to previous …"
      ]
     },
     "metadata": {},
     "output_type": "display_data"
    },
    {
     "data": {
      "text/plain": [
       "(array([ 1.,  2.,  5.,  3.,  9.,  8.,  4., 10., 10., 27., 54., 35., 28.,\n",
       "        17.,  8.,  6.,  4.,  1.,  2.,  1.]),\n",
       " array([0.41220617, 0.46804189, 0.52387762, 0.57971334, 0.63554906,\n",
       "        0.69138479, 0.74722051, 0.80305623, 0.85889196, 0.91472768,\n",
       "        0.9705634 , 1.02639913, 1.08223485, 1.13807057, 1.1939063 ,\n",
       "        1.24974202, 1.30557774, 1.36141347, 1.41724919, 1.47308491,\n",
       "        1.52892064]),\n",
       " <a list of 20 Patch objects>)"
      ]
     },
     "execution_count": 59,
     "metadata": {},
     "output_type": "execute_result"
    }
   ],
   "source": [
    "fig=plt.figure(figsize=(8,8))\n",
    "ax = fig.add_subplot(111)\n",
    "ax.hist(speed_ratios2,20)"
   ]
  },
  {
   "cell_type": "code",
   "execution_count": 3,
   "metadata": {},
   "outputs": [],
   "source": [
    "exp.load_compressed_skel()"
   ]
  },
  {
   "cell_type": "code",
   "execution_count": 105,
   "metadata": {},
   "outputs": [],
   "source": [
    "directory = directory_project\n",
    "\n",
    "plate_number = 94\n",
    "plate = get_postion_number(plate_number)\n",
    "begin = 269\n",
    "end = 329\n",
    "dates_datetime = get_dates_datetime(directory,plate)\n",
    "dates = dates_datetime[begin:end+1]\n",
    "exp2 = Experiment(plate,directory)\n",
    "exp2.load(dates) #for method 2"
   ]
  },
  {
   "cell_type": "code",
   "execution_count": 3,
   "metadata": {},
   "outputs": [],
   "source": [
    "def get_time(dates_datetimes,i,j):\n",
    "    seconds = (dates_datetimes[j]-dates_datetimes[i]).total_seconds()\n",
    "    return(seconds/3600)"
   ]
  },
  {
   "cell_type": "code",
   "execution_count": 3,
   "metadata": {},
   "outputs": [],
   "source": [
    "inst = (39,269,329)\n",
    "directory = directory_project\n",
    "plate,begin,end = inst\n",
    "dates_datetime = get_dates_datetime(directory,plate)\n",
    "dates_datetime_chosen=dates_datetime[begin:end+1]\n",
    "dates = [f'{0 if date.month<10 else \"\"}{date.month}{0 if date.day<10 else \"\"}{date.day}_{0 if date.hour<10 else \"\"}{date.hour}{0 if date.minute<10 else \"\"}{date.minute}' for date in dates_datetime_chosen]\n",
    "skels = []\n",
    "ims = []\n",
    "kernel = np.ones((5,5),np.uint8)\n",
    "itera = 1\n",
    "for date in dates:\n",
    "    directory_name=f'2020{date}_Plate{0 if plate<10 else \"\"}{plate}'\n",
    "    path_snap=directory+directory_name\n",
    "    skel_info = read_mat(path_snap+'/Analysis/skeleton_pruned_compressed.mat')\n",
    "    skel = skel_info['skeleton']\n",
    "    skels.append(cv2.dilate(skel.astype(np.uint8),kernel,iterations = itera))\n",
    "    im = read_mat(path_snap+'/Analysis/raw_image.mat')['raw']\n",
    "    ims.append(im)"
   ]
  },
  {
   "cell_type": "code",
   "execution_count": 13,
   "metadata": {},
   "outputs": [
    {
     "data": {
      "application/vnd.jupyter.widget-view+json": {
       "model_id": "32c415b524a3418ba0cdea80d979af4c",
       "version_major": 2,
       "version_minor": 0
      },
      "text/plain": [
       "Canvas(toolbar=Toolbar(toolitems=[('Home', 'Reset original view', 'home', 'home'), ('Back', 'Back to previous …"
      ]
     },
     "metadata": {},
     "output_type": "display_data"
    }
   ],
   "source": [
    "i=10\n",
    "boundaries=(2800,3700,3100,4200)\n",
    "\n",
    "to_plot = ims[i][boundaries[0]:boundaries[1],boundaries[2]:boundaries[3]]\n",
    "plot_t_tp1([], [], None, None, to_plot*0, to_plot,time=f't = {int(get_time(dates_datetime_chosen,0,i))}h')"
   ]
  },
  {
   "cell_type": "code",
   "execution_count": 14,
   "metadata": {},
   "outputs": [
    {
     "data": {
      "application/vnd.jupyter.widget-view+json": {
       "model_id": "8c0fde2f96a540e18cea3c64f915d0f3",
       "version_major": 2,
       "version_minor": 0
      },
      "text/plain": [
       "Canvas(toolbar=Toolbar(toolitems=[('Home', 'Reset original view', 'home', 'home'), ('Back', 'Back to previous …"
      ]
     },
     "metadata": {},
     "output_type": "display_data"
    }
   ],
   "source": [
    "start=0\n",
    "finish = end-begin\n",
    "boundaries=(2800,3700,3100,4200)\n",
    "for i in range(start,finish):\n",
    "    to_plot = ims[i][boundaries[0]:boundaries[1],boundaries[2]:boundaries[3]]\n",
    "    plt.close('all')\n",
    "    clear_output(wait=True)\n",
    "    plot_t_tp1([], [], None, None, to_plot*0, to_plot, save=f'/home/cbisot/pycode/MscThesis/sample/notebooks/plotting/Figure/im{i}',time=f't = {int(get_time(dates_datetime_chosen,0,i))}h')\n",
    "img_array = []\n",
    "for t in range(start,finish):\n",
    "    img = cv2.imread(f'/home/cbisot/pycode/MscThesis/sample/notebooks/plotting/Figure/im{t}.png')\n",
    "    img_array.append(img)\n",
    "plate_label = plate_number[inst] \n",
    "imageio.mimsave(f'/home/cbisot/pycode/MscThesis/sample/notebooks/plotting/Figure/movie_close_up{plate_label}temp_ {begin}_{end}_{dates[start]}_{dates[finish]}.gif', img_array,duration = 1)"
   ]
  },
  {
   "cell_type": "code",
   "execution_count": 8,
   "metadata": {},
   "outputs": [],
   "source": [
    "plate_label = plate_number[inst] \n",
    "imageio.mimsave(f'/home/cbisot/pycode/MscThesis/sample/notebooks/plotting/Figure/movie_close_up{plate_label}temp_ {begin}_{end}_{dates[start]}_{dates[finish]}.gif', img_array,duration = 1)"
   ]
  },
  {
   "cell_type": "code",
   "execution_count": 4,
   "metadata": {},
   "outputs": [],
   "source": [
    "problems = []\n",
    "for rh in RH:\n",
    "    roots = []\n",
    "    hyph = rh\n",
    "    tip  =hyph.end\n",
    "    for t in tip.ts():\n",
    "        #             print(t,tip)\n",
    "        if tip.degree(t) == 1:\n",
    "            root, edges, nodes = hyph.get_edges(t, 200)\n",
    "            roots.append(root)\n",
    "    occurence_count = Counter(roots)\n",
    "    if occurence_count.most_common(2)[0][0]!=rh.root:\n",
    "        problems.append(rh)"
   ]
  },
  {
   "cell_type": "code",
   "execution_count": 5,
   "metadata": {},
   "outputs": [
    {
     "data": {
      "text/plain": [
       "(17, 175)"
      ]
     },
     "execution_count": 5,
     "metadata": {},
     "output_type": "execute_result"
    }
   ],
   "source": [
    "len(problems),len(RH)"
   ]
  },
  {
   "cell_type": "code",
   "execution_count": 6,
   "metadata": {},
   "outputs": [
    {
     "data": {
      "text/plain": [
       "Hyphae(8135,8193)"
      ]
     },
     "execution_count": 6,
     "metadata": {},
     "output_type": "execute_result"
    }
   ],
   "source": [
    "rh = choice(problems)\n",
    "rh"
   ]
  },
  {
   "cell_type": "code",
   "execution_count": 9,
   "metadata": {},
   "outputs": [
    {
     "data": {
      "text/plain": [
       "([21, 22], [21, 22, 23, 24, 25], [22, 23, 24, 25])"
      ]
     },
     "execution_count": 9,
     "metadata": {},
     "output_type": "execute_result"
    }
   ],
   "source": [
    "rh.ts,rh.end.ts(),occurence_count.most_common(2)[0][0].ts()"
   ]
  },
  {
   "cell_type": "code",
   "execution_count": 8,
   "metadata": {},
   "outputs": [
    {
     "data": {
      "text/plain": [
       "Counter({Node(8138): 1, Node(9062): 1, Node(8999): 2})"
      ]
     },
     "execution_count": 8,
     "metadata": {},
     "output_type": "execute_result"
    }
   ],
   "source": [
    "roots = []\n",
    "hyph = rh\n",
    "tip  =hyph.end\n",
    "for t in rh.end.ts():\n",
    "    #             print(t,tip)\n",
    "    if tip.degree(t) == 1:\n",
    "        root, edges, nodes = hyph.get_edges(t, 200)\n",
    "        roots.append(root)\n",
    "occurence_count = Counter(roots)\n",
    "occurence_count"
   ]
  },
  {
   "cell_type": "code",
   "execution_count": 11,
   "metadata": {},
   "outputs": [
    {
     "data": {
      "application/vnd.jupyter.widget-view+json": {
       "model_id": "58020682da3c4217855ba0409b8e0d01",
       "version_major": 2,
       "version_minor": 0
      },
      "text/plain": [
       "Canvas(toolbar=Toolbar(toolitems=[('Home', 'Reset original view', 'home', 'home'), ('Back', 'Back to previous …"
      ]
     },
     "metadata": {},
     "output_type": "display_data"
    }
   ],
   "source": [
    "plt.close('all')\n",
    "plot_raw_plus(exp,rh.ts[0]+1,[rh.end.label,rh.root.label]+[occurence_count.most_common(2)[0][0].label])"
   ]
  },
  {
   "cell_type": "code",
   "execution_count": 32,
   "metadata": {},
   "outputs": [
    {
     "data": {
      "application/vnd.jupyter.widget-view+json": {
       "model_id": "47fc53dbdbcd48dcb3a7e906f188060e",
       "version_major": 2,
       "version_minor": 0
      },
      "text/plain": [
       "Canvas(toolbar=Toolbar(toolitems=[('Home', 'Reset original view', 'home', 'home'), ('Back', 'Back to previous …"
      ]
     },
     "metadata": {},
     "output_type": "display_data"
    }
   ],
   "source": [
    "exp.plot([rh.ts[0]],[[rh.end.label,rh.root.label]+[occurence_count.most_common(2)[0][0].label]])"
   ]
  },
  {
   "cell_type": "code",
   "execution_count": 8,
   "metadata": {},
   "outputs": [
    {
     "ename": "NameError",
     "evalue": "name 'select' is not defined",
     "output_type": "error",
     "traceback": [
      "\u001b[0;31m---------------------------------------------------------------------------\u001b[0m",
      "\u001b[0;31mNameError\u001b[0m                                 Traceback (most recent call last)",
      "\u001b[0;32m<ipython-input-8-8a5697b14253>\u001b[0m in \u001b[0;36m<module>\u001b[0;34m\u001b[0m\n\u001b[0;32m----> 1\u001b[0;31m \u001b[0mrh\u001b[0m \u001b[0;34m=\u001b[0m \u001b[0mchoice\u001b[0m\u001b[0;34m(\u001b[0m\u001b[0mselect\u001b[0m\u001b[0;34m)\u001b[0m\u001b[0;34m\u001b[0m\u001b[0;34m\u001b[0m\u001b[0m\n\u001b[0m\u001b[1;32m      2\u001b[0m \u001b[0mrh\u001b[0m\u001b[0;34m.\u001b[0m\u001b[0mmother\u001b[0m\u001b[0;34m,\u001b[0m\u001b[0mrh\u001b[0m\u001b[0;34m,\u001b[0m\u001b[0mrh\u001b[0m\u001b[0;34m.\u001b[0m\u001b[0mts\u001b[0m\u001b[0;34m\u001b[0m\u001b[0;34m\u001b[0m\u001b[0m\n",
      "\u001b[0;31mNameError\u001b[0m: name 'select' is not defined"
     ]
    }
   ],
   "source": [
    "rh = choice(select)\n",
    "rh.mother,rh,rh.ts"
   ]
  },
  {
   "cell_type": "code",
   "execution_count": 7,
   "metadata": {},
   "outputs": [
    {
     "ename": "NameError",
     "evalue": "name 'exp2' is not defined",
     "output_type": "error",
     "traceback": [
      "\u001b[0;31m---------------------------------------------------------------------------\u001b[0m",
      "\u001b[0;31mNameError\u001b[0m                                 Traceback (most recent call last)",
      "\u001b[0;32m<ipython-input-7-1be7e696a15c>\u001b[0m in \u001b[0;36m<module>\u001b[0;34m\u001b[0m\n\u001b[1;32m      1\u001b[0m \u001b[0mroots\u001b[0m \u001b[0;34m=\u001b[0m \u001b[0;34m[\u001b[0m\u001b[0;34m]\u001b[0m\u001b[0;34m\u001b[0m\u001b[0;34m\u001b[0m\u001b[0m\n\u001b[1;32m      2\u001b[0m \u001b[0mhyph\u001b[0m \u001b[0;34m=\u001b[0m \u001b[0mrh\u001b[0m\u001b[0;34m.\u001b[0m\u001b[0mmother\u001b[0m\u001b[0;34m[\u001b[0m\u001b[0;36m0\u001b[0m\u001b[0;34m]\u001b[0m\u001b[0;34m\u001b[0m\u001b[0;34m\u001b[0m\u001b[0m\n\u001b[0;32m----> 3\u001b[0;31m \u001b[0mtip\u001b[0m  \u001b[0;34m=\u001b[0m\u001b[0mNode\u001b[0m\u001b[0;34m(\u001b[0m\u001b[0mhyph\u001b[0m\u001b[0;34m.\u001b[0m\u001b[0mend\u001b[0m\u001b[0;34m.\u001b[0m\u001b[0mlabel\u001b[0m\u001b[0;34m,\u001b[0m\u001b[0mexp2\u001b[0m\u001b[0;34m)\u001b[0m\u001b[0;34m\u001b[0m\u001b[0;34m\u001b[0m\u001b[0m\n\u001b[0m\u001b[1;32m      4\u001b[0m \u001b[0mhypha\u001b[0m \u001b[0;34m=\u001b[0m \u001b[0mHyphae\u001b[0m\u001b[0;34m(\u001b[0m\u001b[0mtip\u001b[0m\u001b[0;34m)\u001b[0m\u001b[0;34m\u001b[0m\u001b[0;34m\u001b[0m\u001b[0m\n\u001b[1;32m      5\u001b[0m \u001b[0;32mfor\u001b[0m \u001b[0mt\u001b[0m \u001b[0;32min\u001b[0m \u001b[0mtip\u001b[0m\u001b[0;34m.\u001b[0m\u001b[0mts\u001b[0m\u001b[0;34m(\u001b[0m\u001b[0;34m)\u001b[0m\u001b[0;34m:\u001b[0m\u001b[0;34m\u001b[0m\u001b[0;34m\u001b[0m\u001b[0m\n",
      "\u001b[0;31mNameError\u001b[0m: name 'exp2' is not defined"
     ]
    }
   ],
   "source": [
    "roots = []\n",
    "hyph = rh.mother[0]\n",
    "tip  =Node(hyph.end.label,exp2)\n",
    "hypha = Hyphae(tip)\n",
    "for t in tip.ts():\n",
    "    #             print(t,tip)\n",
    "    if tip.degree(t) == 1:\n",
    "        root, edges, nodes = hypha.get_edges(t, 200)\n",
    "        roots.append(root)\n",
    "occurence_count = Counter(roots)\n",
    "occurence_count"
   ]
  },
  {
   "cell_type": "code",
   "execution_count": 8,
   "metadata": {},
   "outputs": [
    {
     "data": {
      "text/plain": [
       "Counter({Node(5243): 2, Node(4144): 1})"
      ]
     },
     "execution_count": 8,
     "metadata": {},
     "output_type": "execute_result"
    }
   ],
   "source": [
    "roots = []\n",
    "hyph = rh.mother[0]\n",
    "tip  =hyph.end\n",
    "for t in tip.ts():\n",
    "    #             print(t,tip)\n",
    "    if tip.degree(t) == 1:\n",
    "        root, edges, nodes = hyph.get_edges(t, 200)\n",
    "        roots.append(root)\n",
    "occurence_count = Counter(roots)\n",
    "occurence_count"
   ]
  },
  {
   "cell_type": "code",
   "execution_count": 6,
   "metadata": {},
   "outputs": [
    {
     "data": {
      "text/plain": [
       "48"
      ]
     },
     "execution_count": 6,
     "metadata": {},
     "output_type": "execute_result"
    }
   ],
   "source": [
    "len(problems)"
   ]
  },
  {
   "cell_type": "code",
   "execution_count": 5,
   "metadata": {},
   "outputs": [
    {
     "data": {
      "text/plain": [
       "0"
      ]
     },
     "execution_count": 5,
     "metadata": {},
     "output_type": "execute_result"
    }
   ],
   "source": [
    "len(problems)"
   ]
  },
  {
   "cell_type": "code",
   "execution_count": 3,
   "metadata": {
    "collapsed": true,
    "jupyter": {
     "outputs_hidden": true
    }
   },
   "outputs": [
    {
     "name": "stdout",
     "output_type": "stream",
     "text": [
      "0.0\n",
      "0.055233360950013806\n",
      "0.11046672190002761\n",
      "0.16570008285004142\n",
      "0.22093344380005522\n",
      "0.27616680475006905\n",
      "0.33140016570008285\n",
      "0.38663352665009665\n",
      "0.44186688760011045\n",
      "0.4971002485501243\n",
      "0.5523336095001381\n",
      "0.6075669704501518\n",
      "0.6628003314001657\n",
      "0.7180336923501796\n",
      "0.7732670533001933\n",
      "0.8285004142502072\n",
      "0.8837337752002209\n",
      "0.9389671361502347\n",
      "0.9942004971002486\n",
      "Detected problems during hyphae detection, 83 hyphaes have inconsistent root over time\n",
      "removing  210  nodes out of 8985 because they appear only in one timestep and are not within an identified hypha\n",
      "[45.888564]\n",
      "[1.136003, 37.595403]\n",
      "[57.012361]\n",
      "[61.589241]\n",
      "[69.797028]\n",
      "[72.570175]\n",
      "[79.39028]\n",
      "[82.292056]\n",
      "[88.018915]\n",
      "[93.215148]\n",
      "[94.431121]\n",
      "[102.698136]\n",
      "[107.651592]\n",
      "[114.85416]\n",
      "[124.033512]\n",
      "[135.147506]\n",
      "[142.897725]\n",
      "[149.376738]\n",
      "[152.434632]\n",
      "[161.84289]\n",
      "[173.575468]\n",
      "[188.503416]\n",
      "[191.833005]\n",
      "[206.577216]\n",
      "[220.747472]\n",
      "[239.920172]\n",
      "[264.566085]\n",
      "[273.541532]\n",
      "[297.374064]\n",
      "[318.481112]\n",
      "[339.248447]\n",
      "[361.865686]\n",
      "[383.728288]\n",
      "[407.257764]\n",
      "[444.276786]\n",
      "[486.961488]\n",
      "[524.621122]\n",
      "[549.25884]\n",
      "[591.268884]\n",
      "[631.585776]\n",
      "[693.346848]\n",
      "[756.253179]\n",
      "[806.631228]\n",
      "[879.81795]\n",
      "[935.704215]\n",
      "[1009.283848]\n",
      "[1070.969418]\n",
      "[1145.521068]\n",
      "[1240.83036]\n",
      "[1434.859519]\n",
      "[1566.979894]\n",
      "[1630.468332]\n",
      "[1781.557925]\n",
      "[1848.322794]\n",
      "[1935.008775]\n",
      "[2063.372756]\n",
      "[2154.598056]\n",
      "[2311.40712]\n",
      "[2436.200235]\n",
      "[2511.201446]\n",
      "[2821.710615]\n",
      "0.0\n",
      "0.055632823365785816\n",
      "0.11126564673157163\n",
      "0.16689847009735745\n",
      "0.22253129346314326\n",
      "0.27816411682892905\n",
      "0.3337969401947149\n",
      "0.3894297635605007\n",
      "0.44506258692628653\n",
      "0.5006954102920723\n",
      "0.5563282336578581\n",
      "0.6119610570236439\n",
      "0.6675938803894298\n",
      "0.7232267037552156\n",
      "0.7788595271210014\n",
      "0.8344923504867872\n",
      "0.8901251738525731\n",
      "0.9457579972183588\n",
      "Detected problems during hyphae detection, 85 hyphaes have inconsistent root over time\n",
      "removing  132  nodes out of 8850 because they appear only in one timestep and are not within an identified hypha\n",
      "[45.888564]\n",
      "[1.136003, 37.595403]\n",
      "[57.012361]\n",
      "[61.589241]\n",
      "[69.797028]\n",
      "[72.570175]\n",
      "[79.39028]\n",
      "[82.292056]\n",
      "[88.018915]\n",
      "[93.215148]\n",
      "[94.431121]\n",
      "[102.698136]\n",
      "[107.651592]\n",
      "[114.85416]\n",
      "[124.033512]\n",
      "[135.147506]\n",
      "[142.897725]\n",
      "[149.376738]\n",
      "[152.434632]\n",
      "[161.84289]\n",
      "[173.575468]\n",
      "[188.503416]\n",
      "[191.833005]\n",
      "[206.577216]\n",
      "[220.747472]\n",
      "[239.920172]\n",
      "[264.566085]\n",
      "[273.541532]\n",
      "[297.374064]\n",
      "[318.481112]\n",
      "[339.248447]\n",
      "[361.865686]\n",
      "[383.728288]\n",
      "[407.257764]\n",
      "[444.276786]\n",
      "[486.961488]\n",
      "[524.621122]\n",
      "[549.25884]\n",
      "[591.04825]\n",
      "[631.585776]\n",
      "[693.346848]\n",
      "[756.253179]\n",
      "[806.631228]\n",
      "[879.81795]\n",
      "[935.704215]\n",
      "[1009.283848]\n",
      "[1070.969418]\n",
      "[1145.521068]\n",
      "[1240.83036]\n",
      "[1434.859519]\n",
      "[1566.979894]\n",
      "[1629.27696]\n",
      "[1781.557925]\n",
      "[1848.322794]\n",
      "[1933.088208]\n",
      "[2063.372756]\n",
      "[2154.598056]\n",
      "[2311.332681]\n",
      "[2435.436796]\n",
      "[2511.201446]\n",
      "[2821.710615]\n"
     ]
    }
   ],
   "source": [
    "from sample.pipeline.functions.hyphae_id_surf import (\n",
    "    clean_and_relabel,\n",
    "    get_mother,\n",
    "    save_hyphaes,\n",
    "    resolve_ambiguity_two_ends,\n",
    "    clean_obvious_fake_tips,\n",
    "    width_based_cleaning\n",
    ")\n",
    "exp_clean = clean_and_relabel(exp)\n",
    "RH, BAS, max_speeds, total_growths, widths, lengths, branch_frequ,select_hyph = get_rh_bas(exp_clean,criter)"
   ]
  },
  {
   "cell_type": "code",
   "execution_count": 104,
   "metadata": {},
   "outputs": [
    {
     "data": {
      "text/plain": [
       "Counter({Node(4338): 26, Node(12705): 1})"
      ]
     },
     "execution_count": 104,
     "metadata": {},
     "output_type": "execute_result"
    }
   ],
   "source": [
    "occurence_count"
   ]
  },
  {
   "cell_type": "code",
   "execution_count": 99,
   "metadata": {},
   "outputs": [
    {
     "data": {
      "text/plain": [
       "[47, 48, 49, 50, 51, 52, 53, 54, 55, 56, 57, 58, 59, 60]"
      ]
     },
     "execution_count": 99,
     "metadata": {},
     "output_type": "execute_result"
    }
   ],
   "source": [
    "hyph.root.ts()"
   ]
  },
  {
   "cell_type": "code",
   "execution_count": 109,
   "metadata": {},
   "outputs": [
    {
     "data": {
      "text/plain": [
       "Node(4338)"
      ]
     },
     "execution_count": 109,
     "metadata": {},
     "output_type": "execute_result"
    }
   ],
   "source": [
    "occurence_count.most_common(2)[0][0]"
   ]
  },
  {
   "cell_type": "code",
   "execution_count": 112,
   "metadata": {},
   "outputs": [
    {
     "data": {
      "text/plain": [
       "3"
      ]
     },
     "execution_count": 112,
     "metadata": {},
     "output_type": "execute_result"
    }
   ],
   "source": [
    "Node(9144,exp).degree(50)"
   ]
  },
  {
   "cell_type": "code",
   "execution_count": 5,
   "metadata": {},
   "outputs": [],
   "source": [
    "roots_new_branch = []\n",
    "total_growth = 0\n",
    "counts =[]\n",
    "total_growths = []\n",
    "lapses = []\n",
    "for lapse in [8,7,6,5,4,3,2,1]:\n",
    "    for rh in RH:\n",
    "        for index in range(len(rh.ts)):\n",
    "                if index+lapse<len(rh.ts):\n",
    "                    t = rh.ts[index]\n",
    "                    tp1 = rh.ts[index + lapse]\n",
    "                    pixels, nodes = get_pixel_growth_and_new_children(rh, t, tp1)\n",
    "                    count=len(nodes[1:-1]) \n",
    "                    total_growth = np.sum([get_length_um(seg) for seg in pixels])\n",
    "                    counts.append(count)\n",
    "                    total_growths.append(total_growth)\n",
    "                    lapses.append(lapse)\n"
   ]
  },
  {
   "cell_type": "code",
   "execution_count": 28,
   "metadata": {},
   "outputs": [
    {
     "data": {
      "application/vnd.jupyter.widget-view+json": {
       "model_id": "dc3a4495882e4b05ab19e4fea8ae9c10",
       "version_major": 2,
       "version_minor": 0
      },
      "text/plain": [
       "Canvas(toolbar=Toolbar(toolitems=[('Home', 'Reset original view', 'home', 'home'), ('Back', 'Back to previous …"
      ]
     },
     "metadata": {},
     "output_type": "display_data"
    },
    {
     "data": {
      "text/plain": [
       "[<matplotlib.lines.Line2D at 0x2ba1b3098b10>]"
      ]
     },
     "execution_count": 28,
     "metadata": {},
     "output_type": "execute_result"
    }
   ],
   "source": [
    "plt.close('all')\n",
    "plate = 94\n",
    "data = {'y':  counts,\n",
    "        'x': lapses,\n",
    "       'z' : total_growths}\n",
    "df = pd.DataFrame (data)\n",
    "df['frequ']=df['y']/df['z']\n",
    "abcisse = 'z'\n",
    "ordinate = 'frequ'\n",
    "tab = df\n",
    "baits_sort = tab.sort_values(abcisse)\n",
    "N=1500\n",
    "moving_av = baits_sort.rolling(N,min_periods=N//2).mean()\n",
    "moving_std = baits_sort.rolling(N,min_periods=N//2).std()\n",
    "\n",
    "fig=plt.figure(figsize=(8,8))\n",
    "ax = fig.add_subplot(111)\n",
    "ax.set_xlabel('alpha (°)')\n",
    "ax.set_ylabel('angle between speed vector and density gradient(°)')\n",
    "# ax.set_xlim(-40,40)\n",
    "# ax.set_ylim(-60,60)\n",
    "# ax.set_xlim(-190,190)\n",
    "# slope, intercept, r_value, p_value, std_err = stats.linregress(densities_sort,np.abs(curvatures_sort))\n",
    "ax.scatter(tab[abcisse],tab[ordinate],label=plate,alpha=0.3)\n",
    "ax.plot(moving_av[abcisse],moving_av[ordinate],color='green',label = 'moving average')\n",
    "ax.plot(moving_av[abcisse],(moving_av[ordinate]+moving_std[ordinate]/np.sqrt(N)),color='red',label = 'std')\n",
    "ax.plot(moving_av[abcisse],(moving_av[ordinate]-moving_std[ordinate]/np.sqrt(N)),color='red',label = 'std')"
   ]
  },
  {
   "cell_type": "code",
   "execution_count": 29,
   "metadata": {},
   "outputs": [],
   "source": [
    "values = []\n",
    "for lapse in [1,2,3,4,5,6,7,8]:\n",
    "    aft  = df.loc[df['x']==lapse]\n",
    "    value = np.mean(aft['y']/aft['z'])\n",
    "    values.append(value)\n"
   ]
  },
  {
   "cell_type": "code",
   "execution_count": 30,
   "metadata": {},
   "outputs": [
    {
     "name": "stderr",
     "output_type": "stream",
     "text": [
      "/home/cbisot/anaconda3/envs/test/lib/python3.7/site-packages/matplotlib/__init__.py:880: MatplotlibDeprecationWarning: \n",
      "nbagg.transparent\n",
      "  version, key, obj_type=\"rcparam\", alternative=alt_key)\n"
     ]
    },
    {
     "data": {
      "application/vnd.jupyter.widget-view+json": {
       "model_id": "6bc141cf345e4368939fbeecaab38cd5",
       "version_major": 2,
       "version_minor": 0
      },
      "text/plain": [
       "Canvas(toolbar=Toolbar(toolitems=[('Home', 'Reset original view', 'home', 'home'), ('Back', 'Back to previous …"
      ]
     },
     "metadata": {},
     "output_type": "display_data"
    },
    {
     "data": {
      "text/plain": [
       "[<matplotlib.lines.Line2D at 0x2ba01be7b310>]"
      ]
     },
     "execution_count": 30,
     "metadata": {},
     "output_type": "execute_result"
    }
   ],
   "source": [
    "fig=plt.figure(figsize=(8,8))\n",
    "ax = fig.add_subplot(111)\n",
    "ax.plot([1,2,3,4,5,6,7,8],values)"
   ]
  }
 ],
 "metadata": {
  "kernelspec": {
   "display_name": "Python 3",
   "language": "python",
   "name": "python3"
  },
  "language_info": {
   "codemirror_mode": {
    "name": "ipython",
    "version": 3
   },
   "file_extension": ".py",
   "mimetype": "text/x-python",
   "name": "python",
   "nbconvert_exporter": "python",
   "pygments_lexer": "ipython3",
   "version": "3.7.7"
  }
 },
 "nbformat": 4,
 "nbformat_minor": 4
}

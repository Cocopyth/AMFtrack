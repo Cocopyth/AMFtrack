{
 "cells": [
  {
   "cell_type": "code",
   "execution_count": 1,
   "metadata": {},
   "outputs": [],
   "source": [
    "%matplotlib widget\n",
    "\n",
    "import sys  \n",
    "sys.path.insert(0, '/home/cbisot/pycode/MscThesis/')\n",
    "import pandas as pd\n",
    "from sample.util import get_dates_datetime, get_dirname, get_plate_number, get_postion_number,get_begin_index\n",
    "import ast\n",
    "from sample.plotutil import plot_t_tp1\n",
    "from scipy import sparse\n",
    "from datetime import datetime\n",
    "from sample.pipeline.functions.node_id import orient\n",
    "import pickle\n",
    "import scipy.io as sio\n",
    "from pymatreader import read_mat\n",
    "from matplotlib import colors\n",
    "import cv2\n",
    "import imageio\n",
    "import matplotlib.pyplot as plt\n",
    "import numpy as np\n",
    "from skimage.filters import frangi\n",
    "from skimage import filters\n",
    "from random import choice\n",
    "import scipy.sparse\n",
    "import os\n",
    "from sample.pipeline.functions.extract_graph import from_sparse_to_graph, generate_nx_graph, sparse_to_doc\n",
    "from skimage.feature import hessian_matrix_det\n",
    "from sample.pipeline.functions.experiment_class_surf import Experiment, Edge, Node, Hyphae, plot_raw_plus\n",
    "from sample.paths.directory import run_parallel, find_state, directory_scratch, directory_project\n",
    "from sample.notebooks.analysis.util import *\n",
    "from scipy import stats\n",
    "from scipy.ndimage.filters import uniform_filter1d\n",
    "from statsmodels.stats import weightstats as stests\n",
    "from sample.pipeline.functions.hyphae_id_surf import get_pixel_growth_and_new_children\n",
    "from collections import Counter\n",
    "from IPython.display import clear_output\n",
    "from sample.notebooks.analysis.data_info import *\n"
   ]
  },
  {
   "cell_type": "code",
   "execution_count": 2,
   "metadata": {},
   "outputs": [
    {
     "name": "stdout",
     "output_type": "stream",
     "text": [
      "begin = 2020-12-26 20:04:00 \n",
      "  end = 2020-12-30 23:33:00\n"
     ]
    }
   ],
   "source": [
    "exp = get_exp((40,262,287),directory_project)\n"
   ]
  },
  {
   "cell_type": "code",
   "execution_count": 3,
   "metadata": {},
   "outputs": [],
   "source": [
    "exp.load_compressed_skel()"
   ]
  },
  {
   "cell_type": "code",
   "execution_count": 105,
   "metadata": {},
   "outputs": [],
   "source": [
    "directory = directory_project\n",
    "\n",
    "plate_number = 94\n",
    "plate = get_postion_number(plate_number)\n",
    "begin = 269\n",
    "end = 329\n",
    "dates_datetime = get_dates_datetime(directory,plate)\n",
    "dates = dates_datetime[begin:end+1]\n",
    "exp2 = Experiment(plate,directory)\n",
    "exp2.load(dates) #for method 2"
   ]
  },
  {
   "cell_type": "code",
   "execution_count": 3,
   "metadata": {},
   "outputs": [],
   "source": [
    "def get_time(dates_datetimes,i,j):\n",
    "    seconds = (dates_datetimes[j]-dates_datetimes[i]).total_seconds()\n",
    "    return(seconds/3600)"
   ]
  },
  {
   "cell_type": "code",
   "execution_count": 3,
   "metadata": {},
   "outputs": [],
   "source": [
    "inst = (39,269,329)\n",
    "directory = directory_project\n",
    "plate,begin,end = inst\n",
    "dates_datetime = get_dates_datetime(directory,plate)\n",
    "dates_datetime_chosen=dates_datetime[begin:end+1]\n",
    "dates = [f'{0 if date.month<10 else \"\"}{date.month}{0 if date.day<10 else \"\"}{date.day}_{0 if date.hour<10 else \"\"}{date.hour}{0 if date.minute<10 else \"\"}{date.minute}' for date in dates_datetime_chosen]\n",
    "skels = []\n",
    "ims = []\n",
    "kernel = np.ones((5,5),np.uint8)\n",
    "itera = 1\n",
    "for date in dates:\n",
    "    directory_name=f'2020{date}_Plate{0 if plate<10 else \"\"}{plate}'\n",
    "    path_snap=directory+directory_name\n",
    "    skel_info = read_mat(path_snap+'/Analysis/skeleton_pruned_compressed.mat')\n",
    "    skel = skel_info['skeleton']\n",
    "    skels.append(cv2.dilate(skel.astype(np.uint8),kernel,iterations = itera))\n",
    "    im = read_mat(path_snap+'/Analysis/raw_image.mat')['raw']\n",
    "    ims.append(im)"
   ]
  },
  {
   "cell_type": "code",
   "execution_count": 13,
   "metadata": {},
   "outputs": [
    {
     "data": {
      "application/vnd.jupyter.widget-view+json": {
       "model_id": "32c415b524a3418ba0cdea80d979af4c",
       "version_major": 2,
       "version_minor": 0
      },
      "text/plain": [
       "Canvas(toolbar=Toolbar(toolitems=[('Home', 'Reset original view', 'home', 'home'), ('Back', 'Back to previous …"
      ]
     },
     "metadata": {},
     "output_type": "display_data"
    }
   ],
   "source": [
    "i=10\n",
    "boundaries=(2800,3700,3100,4200)\n",
    "\n",
    "to_plot = ims[i][boundaries[0]:boundaries[1],boundaries[2]:boundaries[3]]\n",
    "plot_t_tp1([], [], None, None, to_plot*0, to_plot,time=f't = {int(get_time(dates_datetime_chosen,0,i))}h')"
   ]
  },
  {
   "cell_type": "code",
   "execution_count": 14,
   "metadata": {},
   "outputs": [
    {
     "data": {
      "application/vnd.jupyter.widget-view+json": {
       "model_id": "8c0fde2f96a540e18cea3c64f915d0f3",
       "version_major": 2,
       "version_minor": 0
      },
      "text/plain": [
       "Canvas(toolbar=Toolbar(toolitems=[('Home', 'Reset original view', 'home', 'home'), ('Back', 'Back to previous …"
      ]
     },
     "metadata": {},
     "output_type": "display_data"
    }
   ],
   "source": [
    "start=0\n",
    "finish = end-begin\n",
    "boundaries=(2800,3700,3100,4200)\n",
    "for i in range(start,finish):\n",
    "    to_plot = ims[i][boundaries[0]:boundaries[1],boundaries[2]:boundaries[3]]\n",
    "    plt.close('all')\n",
    "    clear_output(wait=True)\n",
    "    plot_t_tp1([], [], None, None, to_plot*0, to_plot, save=f'/home/cbisot/pycode/MscThesis/sample/notebooks/plotting/Figure/im{i}',time=f't = {int(get_time(dates_datetime_chosen,0,i))}h')\n",
    "img_array = []\n",
    "for t in range(start,finish):\n",
    "    img = cv2.imread(f'/home/cbisot/pycode/MscThesis/sample/notebooks/plotting/Figure/im{t}.png')\n",
    "    img_array.append(img)\n",
    "plate_label = plate_number[inst] \n",
    "imageio.mimsave(f'/home/cbisot/pycode/MscThesis/sample/notebooks/plotting/Figure/movie_close_up{plate_label}temp_ {begin}_{end}_{dates[start]}_{dates[finish]}.gif', img_array,duration = 1)"
   ]
  },
  {
   "cell_type": "code",
   "execution_count": 8,
   "metadata": {},
   "outputs": [],
   "source": [
    "plate_label = plate_number[inst] \n",
    "imageio.mimsave(f'/home/cbisot/pycode/MscThesis/sample/notebooks/plotting/Figure/movie_close_up{plate_label}temp_ {begin}_{end}_{dates[start]}_{dates[finish]}.gif', img_array,duration = 1)"
   ]
  },
  {
   "cell_type": "code",
   "execution_count": 3,
   "metadata": {},
   "outputs": [],
   "source": [
    "RH, BAS, max_speeds, total_growths, widths, lengths, branch_frequ,select_hyph = get_rh_bas(exp,criter)"
   ]
  },
  {
   "cell_type": "code",
   "execution_count": 4,
   "metadata": {},
   "outputs": [],
   "source": [
    "problems = []\n",
    "for rh in RH:\n",
    "    roots = []\n",
    "    hyph = rh\n",
    "    tip  =hyph.end\n",
    "    for t in tip.ts():\n",
    "        #             print(t,tip)\n",
    "        if tip.degree(t) == 1:\n",
    "            root, edges, nodes = hyph.get_edges(t, 200)\n",
    "            roots.append(root)\n",
    "    occurence_count = Counter(roots)\n",
    "    if occurence_count.most_common(2)[0][0]!=rh.root:\n",
    "        problems.append(rh)"
   ]
  },
  {
   "cell_type": "code",
   "execution_count": 5,
   "metadata": {},
   "outputs": [
    {
     "data": {
      "text/plain": [
       "(17, 175)"
      ]
     },
     "execution_count": 5,
     "metadata": {},
     "output_type": "execute_result"
    }
   ],
   "source": [
    "len(problems),len(RH)"
   ]
  },
  {
   "cell_type": "code",
   "execution_count": 6,
   "metadata": {},
   "outputs": [
    {
     "data": {
      "text/plain": [
       "Hyphae(8135,8193)"
      ]
     },
     "execution_count": 6,
     "metadata": {},
     "output_type": "execute_result"
    }
   ],
   "source": [
    "rh = choice(problems)\n",
    "rh"
   ]
  },
  {
   "cell_type": "code",
   "execution_count": 9,
   "metadata": {},
   "outputs": [
    {
     "data": {
      "text/plain": [
       "([21, 22], [21, 22, 23, 24, 25], [22, 23, 24, 25])"
      ]
     },
     "execution_count": 9,
     "metadata": {},
     "output_type": "execute_result"
    }
   ],
   "source": [
    "rh.ts,rh.end.ts(),occurence_count.most_common(2)[0][0].ts()"
   ]
  },
  {
   "cell_type": "code",
   "execution_count": 8,
   "metadata": {},
   "outputs": [
    {
     "data": {
      "text/plain": [
       "Counter({Node(8138): 1, Node(9062): 1, Node(8999): 2})"
      ]
     },
     "execution_count": 8,
     "metadata": {},
     "output_type": "execute_result"
    }
   ],
   "source": [
    "roots = []\n",
    "hyph = rh\n",
    "tip  =hyph.end\n",
    "for t in rh.end.ts():\n",
    "    #             print(t,tip)\n",
    "    if tip.degree(t) == 1:\n",
    "        root, edges, nodes = hyph.get_edges(t, 200)\n",
    "        roots.append(root)\n",
    "occurence_count = Counter(roots)\n",
    "occurence_count"
   ]
  },
  {
   "cell_type": "code",
   "execution_count": 11,
   "metadata": {},
   "outputs": [
    {
     "data": {
      "application/vnd.jupyter.widget-view+json": {
       "model_id": "58020682da3c4217855ba0409b8e0d01",
       "version_major": 2,
       "version_minor": 0
      },
      "text/plain": [
       "Canvas(toolbar=Toolbar(toolitems=[('Home', 'Reset original view', 'home', 'home'), ('Back', 'Back to previous …"
      ]
     },
     "metadata": {},
     "output_type": "display_data"
    }
   ],
   "source": [
    "plt.close('all')\n",
    "plot_raw_plus(exp,rh.ts[0]+1,[rh.end.label,rh.root.label]+[occurence_count.most_common(2)[0][0].label])"
   ]
  },
  {
   "cell_type": "code",
   "execution_count": 32,
   "metadata": {},
   "outputs": [
    {
     "data": {
      "application/vnd.jupyter.widget-view+json": {
       "model_id": "47fc53dbdbcd48dcb3a7e906f188060e",
       "version_major": 2,
       "version_minor": 0
      },
      "text/plain": [
       "Canvas(toolbar=Toolbar(toolitems=[('Home', 'Reset original view', 'home', 'home'), ('Back', 'Back to previous …"
      ]
     },
     "metadata": {},
     "output_type": "display_data"
    }
   ],
   "source": [
    "exp.plot([rh.ts[0]],[[rh.end.label,rh.root.label]+[occurence_count.most_common(2)[0][0].label]])"
   ]
  },
  {
   "cell_type": "code",
   "execution_count": 8,
   "metadata": {},
   "outputs": [
    {
     "ename": "NameError",
     "evalue": "name 'select' is not defined",
     "output_type": "error",
     "traceback": [
      "\u001b[0;31m---------------------------------------------------------------------------\u001b[0m",
      "\u001b[0;31mNameError\u001b[0m                                 Traceback (most recent call last)",
      "\u001b[0;32m<ipython-input-8-8a5697b14253>\u001b[0m in \u001b[0;36m<module>\u001b[0;34m\u001b[0m\n\u001b[0;32m----> 1\u001b[0;31m \u001b[0mrh\u001b[0m \u001b[0;34m=\u001b[0m \u001b[0mchoice\u001b[0m\u001b[0;34m(\u001b[0m\u001b[0mselect\u001b[0m\u001b[0;34m)\u001b[0m\u001b[0;34m\u001b[0m\u001b[0;34m\u001b[0m\u001b[0m\n\u001b[0m\u001b[1;32m      2\u001b[0m \u001b[0mrh\u001b[0m\u001b[0;34m.\u001b[0m\u001b[0mmother\u001b[0m\u001b[0;34m,\u001b[0m\u001b[0mrh\u001b[0m\u001b[0;34m,\u001b[0m\u001b[0mrh\u001b[0m\u001b[0;34m.\u001b[0m\u001b[0mts\u001b[0m\u001b[0;34m\u001b[0m\u001b[0;34m\u001b[0m\u001b[0m\n",
      "\u001b[0;31mNameError\u001b[0m: name 'select' is not defined"
     ]
    }
   ],
   "source": [
    "rh = choice(select)\n",
    "rh.mother,rh,rh.ts"
   ]
  },
  {
   "cell_type": "code",
   "execution_count": 7,
   "metadata": {},
   "outputs": [
    {
     "ename": "NameError",
     "evalue": "name 'exp2' is not defined",
     "output_type": "error",
     "traceback": [
      "\u001b[0;31m---------------------------------------------------------------------------\u001b[0m",
      "\u001b[0;31mNameError\u001b[0m                                 Traceback (most recent call last)",
      "\u001b[0;32m<ipython-input-7-1be7e696a15c>\u001b[0m in \u001b[0;36m<module>\u001b[0;34m\u001b[0m\n\u001b[1;32m      1\u001b[0m \u001b[0mroots\u001b[0m \u001b[0;34m=\u001b[0m \u001b[0;34m[\u001b[0m\u001b[0;34m]\u001b[0m\u001b[0;34m\u001b[0m\u001b[0;34m\u001b[0m\u001b[0m\n\u001b[1;32m      2\u001b[0m \u001b[0mhyph\u001b[0m \u001b[0;34m=\u001b[0m \u001b[0mrh\u001b[0m\u001b[0;34m.\u001b[0m\u001b[0mmother\u001b[0m\u001b[0;34m[\u001b[0m\u001b[0;36m0\u001b[0m\u001b[0;34m]\u001b[0m\u001b[0;34m\u001b[0m\u001b[0;34m\u001b[0m\u001b[0m\n\u001b[0;32m----> 3\u001b[0;31m \u001b[0mtip\u001b[0m  \u001b[0;34m=\u001b[0m\u001b[0mNode\u001b[0m\u001b[0;34m(\u001b[0m\u001b[0mhyph\u001b[0m\u001b[0;34m.\u001b[0m\u001b[0mend\u001b[0m\u001b[0;34m.\u001b[0m\u001b[0mlabel\u001b[0m\u001b[0;34m,\u001b[0m\u001b[0mexp2\u001b[0m\u001b[0;34m)\u001b[0m\u001b[0;34m\u001b[0m\u001b[0;34m\u001b[0m\u001b[0m\n\u001b[0m\u001b[1;32m      4\u001b[0m \u001b[0mhypha\u001b[0m \u001b[0;34m=\u001b[0m \u001b[0mHyphae\u001b[0m\u001b[0;34m(\u001b[0m\u001b[0mtip\u001b[0m\u001b[0;34m)\u001b[0m\u001b[0;34m\u001b[0m\u001b[0;34m\u001b[0m\u001b[0m\n\u001b[1;32m      5\u001b[0m \u001b[0;32mfor\u001b[0m \u001b[0mt\u001b[0m \u001b[0;32min\u001b[0m \u001b[0mtip\u001b[0m\u001b[0;34m.\u001b[0m\u001b[0mts\u001b[0m\u001b[0;34m(\u001b[0m\u001b[0;34m)\u001b[0m\u001b[0;34m:\u001b[0m\u001b[0;34m\u001b[0m\u001b[0;34m\u001b[0m\u001b[0m\n",
      "\u001b[0;31mNameError\u001b[0m: name 'exp2' is not defined"
     ]
    }
   ],
   "source": [
    "roots = []\n",
    "hyph = rh.mother[0]\n",
    "tip  =Node(hyph.end.label,exp2)\n",
    "hypha = Hyphae(tip)\n",
    "for t in tip.ts():\n",
    "    #             print(t,tip)\n",
    "    if tip.degree(t) == 1:\n",
    "        root, edges, nodes = hypha.get_edges(t, 200)\n",
    "        roots.append(root)\n",
    "occurence_count = Counter(roots)\n",
    "occurence_count"
   ]
  },
  {
   "cell_type": "code",
   "execution_count": 8,
   "metadata": {},
   "outputs": [
    {
     "data": {
      "text/plain": [
       "Counter({Node(5243): 2, Node(4144): 1})"
      ]
     },
     "execution_count": 8,
     "metadata": {},
     "output_type": "execute_result"
    }
   ],
   "source": [
    "roots = []\n",
    "hyph = rh.mother[0]\n",
    "tip  =hyph.end\n",
    "for t in tip.ts():\n",
    "    #             print(t,tip)\n",
    "    if tip.degree(t) == 1:\n",
    "        root, edges, nodes = hyph.get_edges(t, 200)\n",
    "        roots.append(root)\n",
    "occurence_count = Counter(roots)\n",
    "occurence_count"
   ]
  },
  {
   "cell_type": "code",
   "execution_count": 6,
   "metadata": {},
   "outputs": [
    {
     "data": {
      "text/plain": [
       "48"
      ]
     },
     "execution_count": 6,
     "metadata": {},
     "output_type": "execute_result"
    }
   ],
   "source": [
    "len(problems)"
   ]
  },
  {
   "cell_type": "code",
   "execution_count": 5,
   "metadata": {},
   "outputs": [
    {
     "data": {
      "text/plain": [
       "0"
      ]
     },
     "execution_count": 5,
     "metadata": {},
     "output_type": "execute_result"
    }
   ],
   "source": [
    "len(problems)"
   ]
  },
  {
   "cell_type": "code",
   "execution_count": 3,
   "metadata": {
    "collapsed": true,
    "jupyter": {
     "outputs_hidden": true
    }
   },
   "outputs": [
    {
     "name": "stdout",
     "output_type": "stream",
     "text": [
      "0.0\n",
      "0.055233360950013806\n",
      "0.11046672190002761\n",
      "0.16570008285004142\n",
      "0.22093344380005522\n",
      "0.27616680475006905\n",
      "0.33140016570008285\n",
      "0.38663352665009665\n",
      "0.44186688760011045\n",
      "0.4971002485501243\n",
      "0.5523336095001381\n",
      "0.6075669704501518\n",
      "0.6628003314001657\n",
      "0.7180336923501796\n",
      "0.7732670533001933\n",
      "0.8285004142502072\n",
      "0.8837337752002209\n",
      "0.9389671361502347\n",
      "0.9942004971002486\n",
      "Detected problems during hyphae detection, 83 hyphaes have inconsistent root over time\n",
      "removing  210  nodes out of 8985 because they appear only in one timestep and are not within an identified hypha\n",
      "[45.888564]\n",
      "[1.136003, 37.595403]\n",
      "[57.012361]\n",
      "[61.589241]\n",
      "[69.797028]\n",
      "[72.570175]\n",
      "[79.39028]\n",
      "[82.292056]\n",
      "[88.018915]\n",
      "[93.215148]\n",
      "[94.431121]\n",
      "[102.698136]\n",
      "[107.651592]\n",
      "[114.85416]\n",
      "[124.033512]\n",
      "[135.147506]\n",
      "[142.897725]\n",
      "[149.376738]\n",
      "[152.434632]\n",
      "[161.84289]\n",
      "[173.575468]\n",
      "[188.503416]\n",
      "[191.833005]\n",
      "[206.577216]\n",
      "[220.747472]\n",
      "[239.920172]\n",
      "[264.566085]\n",
      "[273.541532]\n",
      "[297.374064]\n",
      "[318.481112]\n",
      "[339.248447]\n",
      "[361.865686]\n",
      "[383.728288]\n",
      "[407.257764]\n",
      "[444.276786]\n",
      "[486.961488]\n",
      "[524.621122]\n",
      "[549.25884]\n",
      "[591.268884]\n",
      "[631.585776]\n",
      "[693.346848]\n",
      "[756.253179]\n",
      "[806.631228]\n",
      "[879.81795]\n",
      "[935.704215]\n",
      "[1009.283848]\n",
      "[1070.969418]\n",
      "[1145.521068]\n",
      "[1240.83036]\n",
      "[1434.859519]\n",
      "[1566.979894]\n",
      "[1630.468332]\n",
      "[1781.557925]\n",
      "[1848.322794]\n",
      "[1935.008775]\n",
      "[2063.372756]\n",
      "[2154.598056]\n",
      "[2311.40712]\n",
      "[2436.200235]\n",
      "[2511.201446]\n",
      "[2821.710615]\n",
      "0.0\n",
      "0.055632823365785816\n",
      "0.11126564673157163\n",
      "0.16689847009735745\n",
      "0.22253129346314326\n",
      "0.27816411682892905\n",
      "0.3337969401947149\n",
      "0.3894297635605007\n",
      "0.44506258692628653\n",
      "0.5006954102920723\n",
      "0.5563282336578581\n",
      "0.6119610570236439\n",
      "0.6675938803894298\n",
      "0.7232267037552156\n",
      "0.7788595271210014\n",
      "0.8344923504867872\n",
      "0.8901251738525731\n",
      "0.9457579972183588\n",
      "Detected problems during hyphae detection, 85 hyphaes have inconsistent root over time\n",
      "removing  132  nodes out of 8850 because they appear only in one timestep and are not within an identified hypha\n",
      "[45.888564]\n",
      "[1.136003, 37.595403]\n",
      "[57.012361]\n",
      "[61.589241]\n",
      "[69.797028]\n",
      "[72.570175]\n",
      "[79.39028]\n",
      "[82.292056]\n",
      "[88.018915]\n",
      "[93.215148]\n",
      "[94.431121]\n",
      "[102.698136]\n",
      "[107.651592]\n",
      "[114.85416]\n",
      "[124.033512]\n",
      "[135.147506]\n",
      "[142.897725]\n",
      "[149.376738]\n",
      "[152.434632]\n",
      "[161.84289]\n",
      "[173.575468]\n",
      "[188.503416]\n",
      "[191.833005]\n",
      "[206.577216]\n",
      "[220.747472]\n",
      "[239.920172]\n",
      "[264.566085]\n",
      "[273.541532]\n",
      "[297.374064]\n",
      "[318.481112]\n",
      "[339.248447]\n",
      "[361.865686]\n",
      "[383.728288]\n",
      "[407.257764]\n",
      "[444.276786]\n",
      "[486.961488]\n",
      "[524.621122]\n",
      "[549.25884]\n",
      "[591.04825]\n",
      "[631.585776]\n",
      "[693.346848]\n",
      "[756.253179]\n",
      "[806.631228]\n",
      "[879.81795]\n",
      "[935.704215]\n",
      "[1009.283848]\n",
      "[1070.969418]\n",
      "[1145.521068]\n",
      "[1240.83036]\n",
      "[1434.859519]\n",
      "[1566.979894]\n",
      "[1629.27696]\n",
      "[1781.557925]\n",
      "[1848.322794]\n",
      "[1933.088208]\n",
      "[2063.372756]\n",
      "[2154.598056]\n",
      "[2311.332681]\n",
      "[2435.436796]\n",
      "[2511.201446]\n",
      "[2821.710615]\n"
     ]
    }
   ],
   "source": [
    "from sample.pipeline.functions.hyphae_id_surf import (\n",
    "    clean_and_relabel,\n",
    "    get_mother,\n",
    "    save_hyphaes,\n",
    "    resolve_ambiguity_two_ends,\n",
    "    clean_obvious_fake_tips,\n",
    "    width_based_cleaning\n",
    ")\n",
    "exp_clean = clean_and_relabel(exp)\n",
    "RH, BAS, max_speeds, total_growths, widths, lengths, branch_frequ,select_hyph = get_rh_bas(exp_clean,criter)"
   ]
  },
  {
   "cell_type": "code",
   "execution_count": 104,
   "metadata": {},
   "outputs": [
    {
     "data": {
      "text/plain": [
       "Counter({Node(4338): 26, Node(12705): 1})"
      ]
     },
     "execution_count": 104,
     "metadata": {},
     "output_type": "execute_result"
    }
   ],
   "source": [
    "occurence_count"
   ]
  },
  {
   "cell_type": "code",
   "execution_count": 99,
   "metadata": {},
   "outputs": [
    {
     "data": {
      "text/plain": [
       "[47, 48, 49, 50, 51, 52, 53, 54, 55, 56, 57, 58, 59, 60]"
      ]
     },
     "execution_count": 99,
     "metadata": {},
     "output_type": "execute_result"
    }
   ],
   "source": [
    "hyph.root.ts()"
   ]
  },
  {
   "cell_type": "code",
   "execution_count": 109,
   "metadata": {},
   "outputs": [
    {
     "data": {
      "text/plain": [
       "Node(4338)"
      ]
     },
     "execution_count": 109,
     "metadata": {},
     "output_type": "execute_result"
    }
   ],
   "source": [
    "occurence_count.most_common(2)[0][0]"
   ]
  },
  {
   "cell_type": "code",
   "execution_count": 112,
   "metadata": {},
   "outputs": [
    {
     "data": {
      "text/plain": [
       "3"
      ]
     },
     "execution_count": 112,
     "metadata": {},
     "output_type": "execute_result"
    }
   ],
   "source": [
    "Node(9144,exp).degree(50)"
   ]
  },
  {
   "cell_type": "code",
   "execution_count": 9,
   "metadata": {},
   "outputs": [],
   "source": [
    "roots_new_branch = []\n",
    "total_growth = 0\n",
    "counts =[]\n",
    "total_growths = []\n",
    "lapses = []\n",
    "for lapse in [8,7,6,5,4,3,2,1]:\n",
    "    for rh in RH:\n",
    "        for index in range(len(rh.ts)):\n",
    "                if index+lapse<len(rh.ts):\n",
    "                    t = rh.ts[index]\n",
    "                    tp1 = rh.ts[index + lapse]\n",
    "                    pixels, nodes = get_pixel_growth_and_new_children(rh, t, tp1)\n",
    "                    count=len(nodes[1:-1]) \n",
    "                    total_growth = np.sum([get_length_um(seg) for seg in pixels])\n",
    "                    counts.append(count)\n",
    "                    total_growths.append(total_growth)\n",
    "                    lapses.append(lapse)\n"
   ]
  },
  {
   "cell_type": "code",
   "execution_count": 127,
   "metadata": {},
   "outputs": [
    {
     "data": {
      "text/plain": [
       "33465"
      ]
     },
     "execution_count": 127,
     "metadata": {},
     "output_type": "execute_result"
    }
   ],
   "source": [
    "len(lapses)"
   ]
  },
  {
   "cell_type": "code",
   "execution_count": 28,
   "metadata": {},
   "outputs": [
    {
     "data": {
      "application/vnd.jupyter.widget-view+json": {
       "model_id": "dc3a4495882e4b05ab19e4fea8ae9c10",
       "version_major": 2,
       "version_minor": 0
      },
      "text/plain": [
       "Canvas(toolbar=Toolbar(toolitems=[('Home', 'Reset original view', 'home', 'home'), ('Back', 'Back to previous …"
      ]
     },
     "metadata": {},
     "output_type": "display_data"
    },
    {
     "data": {
      "text/plain": [
       "[<matplotlib.lines.Line2D at 0x2ba1b3098b10>]"
      ]
     },
     "execution_count": 28,
     "metadata": {},
     "output_type": "execute_result"
    }
   ],
   "source": [
    "plt.close('all')\n",
    "plate = 94\n",
    "data = {'y':  counts,\n",
    "        'x': lapses,\n",
    "       'z' : total_growths}\n",
    "df = pd.DataFrame (data)\n",
    "df['frequ']=df['y']/df['z']\n",
    "abcisse = 'z'\n",
    "ordinate = 'frequ'\n",
    "tab = df\n",
    "baits_sort = tab.sort_values(abcisse)\n",
    "N=1500\n",
    "moving_av = baits_sort.rolling(N,min_periods=N//2).mean()\n",
    "moving_std = baits_sort.rolling(N,min_periods=N//2).std()\n",
    "\n",
    "fig=plt.figure(figsize=(8,8))\n",
    "ax = fig.add_subplot(111)\n",
    "ax.set_xlabel('alpha (°)')\n",
    "ax.set_ylabel('angle between speed vector and density gradient(°)')\n",
    "# ax.set_xlim(-40,40)\n",
    "# ax.set_ylim(-60,60)\n",
    "# ax.set_xlim(-190,190)\n",
    "# slope, intercept, r_value, p_value, std_err = stats.linregress(densities_sort,np.abs(curvatures_sort))\n",
    "ax.scatter(tab[abcisse],tab[ordinate],label=plate,alpha=0.3)\n",
    "ax.plot(moving_av[abcisse],moving_av[ordinate],color='green',label = 'moving average')\n",
    "ax.plot(moving_av[abcisse],(moving_av[ordinate]+moving_std[ordinate]/np.sqrt(N)),color='red',label = 'std')\n",
    "ax.plot(moving_av[abcisse],(moving_av[ordinate]-moving_std[ordinate]/np.sqrt(N)),color='red',label = 'std')"
   ]
  },
  {
   "cell_type": "code",
   "execution_count": 29,
   "metadata": {},
   "outputs": [],
   "source": [
    "values = []\n",
    "for lapse in [1,2,3,4,5,6,7,8]:\n",
    "    aft  = df.loc[df['x']==lapse]\n",
    "    value = np.mean(aft['y']/aft['z'])\n",
    "    values.append(value)\n"
   ]
  },
  {
   "cell_type": "code",
   "execution_count": 30,
   "metadata": {},
   "outputs": [
    {
     "name": "stderr",
     "output_type": "stream",
     "text": [
      "/home/cbisot/anaconda3/envs/test/lib/python3.7/site-packages/matplotlib/__init__.py:880: MatplotlibDeprecationWarning: \n",
      "nbagg.transparent\n",
      "  version, key, obj_type=\"rcparam\", alternative=alt_key)\n"
     ]
    },
    {
     "data": {
      "application/vnd.jupyter.widget-view+json": {
       "model_id": "6bc141cf345e4368939fbeecaab38cd5",
       "version_major": 2,
       "version_minor": 0
      },
      "text/plain": [
       "Canvas(toolbar=Toolbar(toolitems=[('Home', 'Reset original view', 'home', 'home'), ('Back', 'Back to previous …"
      ]
     },
     "metadata": {},
     "output_type": "display_data"
    },
    {
     "data": {
      "text/plain": [
       "[<matplotlib.lines.Line2D at 0x2ba01be7b310>]"
      ]
     },
     "execution_count": 30,
     "metadata": {},
     "output_type": "execute_result"
    }
   ],
   "source": [
    "fig=plt.figure(figsize=(8,8))\n",
    "ax = fig.add_subplot(111)\n",
    "ax.plot([1,2,3,4,5,6,7,8],values)"
   ]
  }
 ],
 "metadata": {
  "kernelspec": {
   "display_name": "Python 3",
   "language": "python",
   "name": "python3"
  },
  "language_info": {
   "codemirror_mode": {
    "name": "ipython",
    "version": 3
   },
   "file_extension": ".py",
   "mimetype": "text/x-python",
   "name": "python",
   "nbconvert_exporter": "python",
   "pygments_lexer": "ipython3",
   "version": "3.7.7"
  }
 },
 "nbformat": 4,
 "nbformat_minor": 4
}

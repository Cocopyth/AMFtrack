{
 "cells": [
  {
   "cell_type": "code",
   "execution_count": 1,
   "metadata": {},
   "outputs": [],
   "source": [
    "%matplotlib widget\n",
    "\n",
    "import sys  \n",
    "sys.path.insert(0, '/home/cbisot/pycode/MscThesis/')\n",
    "import pandas as pd\n",
    "from sample.util import get_dates_datetime, get_dirname, get_plate_number, get_postion_number,get_begin_index\n",
    "import ast\n",
    "from sample.plotutil import plot_t_tp1\n",
    "from scipy import sparse\n",
    "from datetime import datetime\n",
    "from sample.pipeline.functions.node_id import orient\n",
    "import pickle\n",
    "import scipy.io as sio\n",
    "from pymatreader import read_mat\n",
    "from matplotlib import colors\n",
    "import cv2\n",
    "import imageio\n",
    "import matplotlib.pyplot as plt\n",
    "import numpy as np\n",
    "from skimage.filters import frangi\n",
    "from skimage import filters\n",
    "from random import choice\n",
    "import scipy.sparse\n",
    "import os\n",
    "from sample.pipeline.functions.extract_graph import from_sparse_to_graph, generate_nx_graph, sparse_to_doc\n",
    "from skimage.feature import hessian_matrix_det\n",
    "from sample.pipeline.functions.experiment_class_surf import Experiment, Edge, Node, Hyphae, plot_raw_plus\n",
    "from sample.paths.directory import run_parallel, find_state, directory_scratch, directory_project\n",
    "from sample.notebooks.analysis.util import * \n",
    "from scipy import stats\n",
    "from scipy.ndimage.filters import uniform_filter1d\n",
    "from statsmodels.stats import weightstats as stests\n",
    "from sample.pipeline.functions.hyphae_id_surf import get_pixel_growth_and_new_children\n",
    "from collections import Counter\n",
    "from IPython.display import clear_output\n",
    "from sample.notebooks.analysis.data_info import *\n",
    "from IPython.core.interactiveshell import InteractiveShell\n",
    "InteractiveShell.ast_node_interactivity = \"all\"\n",
    "plt.rcParams.update({\n",
    "    \"font.family\": \"verdana\",\n",
    "'font.weight' : 'normal',\n",
    "'font.size': 20})\n",
    "from sample.plotutil import plot_node_skel"
   ]
  },
  {
   "cell_type": "code",
   "execution_count": 2,
   "metadata": {},
   "outputs": [],
   "source": [
    "lapse = 60"
   ]
  },
  {
   "cell_type": "code",
   "execution_count": 3,
   "metadata": {},
   "outputs": [
    {
     "name": "stdout",
     "output_type": "stream",
     "text": [
      "begin = 2021-08-18 13:24:00 \n",
      "  end = 2021-08-23 15:24:00\n"
     ]
    }
   ],
   "source": [
    "exp = get_exp((38,131,131+lapse),directory_project)"
   ]
  },
  {
   "cell_type": "code",
   "execution_count": 4,
   "metadata": {},
   "outputs": [],
   "source": [
    "def criter(max_growth,length):\n",
    "    return(a*length+b*max_growth>=2.5 and max_growth>=50)"
   ]
  },
  {
   "cell_type": "code",
   "execution_count": 5,
   "metadata": {
    "collapsed": true,
    "jupyter": {
     "outputs_hidden": true
    }
   },
   "outputs": [
    {
     "name": "stdout",
     "output_type": "stream",
     "text": [
      "failure in finding closest edge\n",
      "failure in finding closest edge\n",
      "failure in finding closest edge\n",
      "failure in finding closest edge\n",
      "failure in finding closest edge\n",
      "failure in finding closest edge\n",
      "failure in finding closest edge\n",
      "failure in finding closest edge\n",
      "failure in finding closest edge\n",
      "failure in finding closest edge\n",
      "failure in finding closest edge\n",
      "failure in finding closest edge\n",
      "failure in finding closest edge\n",
      "failure in finding closest edge\n",
      "failure in finding closest edge\n",
      "failure in finding closest edge\n",
      "failure in finding closest edge\n",
      "failure in finding closest edge\n",
      "failure in finding closest edge\n",
      "failure in finding closest edge\n",
      "failure in finding closest edge\n",
      "failure in finding closest edge\n",
      "failure in finding closest edge\n",
      "failure in finding closest edge\n",
      "failure in finding closest edge\n",
      "failure in finding closest edge\n",
      "failure in finding closest edge\n",
      "failure in finding closest edge\n",
      "failure in finding closest edge\n",
      "failure in finding closest edge\n",
      "failure in finding closest edge\n",
      "failure in finding closest edge\n",
      "failure in finding closest edge\n",
      "failure in finding closest edge\n",
      "failure in finding closest edge\n",
      "failure in finding closest edge\n",
      "failure in finding closest edge\n",
      "failure in finding closest edge\n",
      "failure in finding closest edge\n",
      "failure in finding closest edge\n",
      "failure in finding closest edge\n",
      "failure in finding closest edge\n",
      "failure in finding closest edge\n",
      "failure in finding closest edge\n",
      "failure in finding closest edge\n",
      "failure in finding closest edge\n",
      "failure in finding closest edge\n",
      "failure in finding closest edge\n"
     ]
    }
   ],
   "source": [
    "RH, BAS, max_speeds, total_growths, widths, lengths, branch_frequ,select_hyph = get_rh_bas(exp,criter)"
   ]
  },
  {
   "cell_type": "code",
   "execution_count": 6,
   "metadata": {},
   "outputs": [
    {
     "data": {
      "text/plain": [
       "127"
      ]
     },
     "execution_count": 6,
     "metadata": {},
     "output_type": "execute_result"
    }
   ],
   "source": [
    "len(RH)"
   ]
  },
  {
   "cell_type": "code",
   "execution_count": 17,
   "metadata": {},
   "outputs": [
    {
     "data": {
      "application/vnd.jupyter.widget-view+json": {
       "model_id": "85c752245128476085d4e0400eec586a",
       "version_major": 2,
       "version_minor": 0
      },
      "text/plain": [
       "Canvas(toolbar=Toolbar(toolitems=[('Home', 'Reset original view', 'home', 'home'), ('Back', 'Back to previous …"
      ]
     },
     "metadata": {},
     "output_type": "display_data"
    }
   ],
   "source": [
    "plt.close(\"all\")\n",
    "fig=plt.figure(figsize=(8,8))\n",
    "ax = fig.add_subplot(111)\n",
    "for rh in RH:\n",
    "    dynamics = select_hyph[rh]\n",
    "    t0 = dynamics[0][0]\n",
    "    ts = [get_time(exp,t0,dynamic[0]) for dynamic in dynamics if rh.end.degree(dynamic[0])==1]\n",
    "    speeds = [dynamic[2] for dynamic in dynamics if rh.end.degree(dynamic[0])==1]\n",
    "    pl = ax.plot(ts,speeds)"
   ]
  },
  {
   "cell_type": "code",
   "execution_count": 37,
   "metadata": {},
   "outputs": [
    {
     "data": {
      "application/vnd.jupyter.widget-view+json": {
       "model_id": "b60d728e054f45faaafc794110f35a18",
       "version_major": 2,
       "version_minor": 0
      },
      "text/plain": [
       "Canvas(toolbar=Toolbar(toolitems=[('Home', 'Reset original view', 'home', 'home'), ('Back', 'Back to previous …"
      ]
     },
     "metadata": {},
     "output_type": "display_data"
    },
    {
     "data": {
      "text/plain": [
       "Text(0, 0.5, 'hyphal tip degree')"
      ]
     },
     "execution_count": 37,
     "metadata": {},
     "output_type": "execute_result"
    },
    {
     "data": {
      "text/plain": [
       "Text(0.5, 0, 'time (h)')"
      ]
     },
     "execution_count": 37,
     "metadata": {},
     "output_type": "execute_result"
    },
    {
     "data": {
      "text/plain": [
       "Text(0, 0.5, 'hyphal tip speed ($\\\\mu m .h^{-1}$)')"
      ]
     },
     "execution_count": 37,
     "metadata": {},
     "output_type": "execute_result"
    }
   ],
   "source": [
    "plt.close('all')\n",
    "# rh = choice(RH)\n",
    "rh = get_rh_from_label(939,exp)\n",
    "dynamics = select_hyph[rh]\n",
    "ts = [get_time(exp,0,dynamic[0]) for dynamic in dynamics]\n",
    "speeds = [dynamic[2] for dynamic in dynamics]\n",
    "fig=plt.figure(figsize=(8,8))\n",
    "ax = fig.add_subplot(111)\n",
    "pl= ax.plot(np.array(ts),speeds)\n",
    "degrees = [rh.end.degree(dynamic[0]) for dynamic in dynamics]\n",
    "ax2=ax.twinx()\n",
    "pl = ax2.plot(ts,degrees,color = 'green')\n",
    "ax2.set_ylabel('hyphal tip degree')\n",
    "ax.set_xlabel('time (h)')\n",
    "ax.set_ylabel('hyphal tip speed ($\\mu m .h^{-1}$)')"
   ]
  },
  {
   "cell_type": "code",
   "execution_count": 30,
   "metadata": {},
   "outputs": [
    {
     "data": {
      "application/vnd.jupyter.widget-view+json": {
       "model_id": "8152bef738694df788dc88cc4f34ce69",
       "version_major": 2,
       "version_minor": 0
      },
      "text/plain": [
       "Canvas(toolbar=Toolbar(toolitems=[('Home', 'Reset original view', 'home', 'home'), ('Back', 'Back to previous …"
      ]
     },
     "metadata": {},
     "output_type": "display_data"
    }
   ],
   "source": [
    "rh.end.show_source_image(20,23)"
   ]
  },
  {
   "cell_type": "code",
   "execution_count": 31,
   "metadata": {},
   "outputs": [
    {
     "data": {
      "text/plain": [
       "array([18555, 33997])"
      ]
     },
     "execution_count": 31,
     "metadata": {},
     "output_type": "execute_result"
    }
   ],
   "source": [
    "rh.end.pos(22)"
   ]
  },
  {
   "cell_type": "code",
   "execution_count": 35,
   "metadata": {},
   "outputs": [
    {
     "data": {
      "application/vnd.jupyter.widget-view+json": {
       "model_id": "a2e0949d979d4521a4ae2acfdeb4060a",
       "version_major": 2,
       "version_minor": 0
      },
      "text/plain": [
       "Canvas(toolbar=Toolbar(toolitems=[('Home', 'Reset original view', 'home', 'home'), ('Back', 'Back to previous …"
      ]
     },
     "metadata": {},
     "output_type": "display_data"
    }
   ],
   "source": [
    "plot_node_skel(rh.end,9,ranges = 2000)"
   ]
  },
  {
   "cell_type": "code",
   "execution_count": 9,
   "metadata": {},
   "outputs": [
    {
     "data": {
      "application/vnd.jupyter.widget-view+json": {
       "model_id": "7cb3bd4826f44d3a8b09333470ce19bc",
       "version_major": 2,
       "version_minor": 0
      },
      "text/plain": [
       "Canvas(toolbar=Toolbar(toolitems=[('Home', 'Reset original view', 'home', 'home'), ('Back', 'Back to previous …"
      ]
     },
     "metadata": {},
     "output_type": "display_data"
    }
   ],
   "source": [
    "rh.root.show_source_image(52,54)"
   ]
  },
  {
   "cell_type": "code",
   "execution_count": null,
   "metadata": {},
   "outputs": [],
   "source": [
    "rh2 = get_rh_from_label(4298,exp)\n"
   ]
  },
  {
   "cell_type": "code",
   "execution_count": 34,
   "metadata": {},
   "outputs": [],
   "source": [
    "import matplotlib.pyplot as plt\n",
    "import matplotlib.cm as cm\n",
    "import cv2\n",
    "import numpy as np\n",
    "from sample.util import  get_skeleton\n",
    "\n",
    "\n",
    "def get_time(exp,t,tp1):#redefined here to avoid loop in import\n",
    "    seconds = (exp.dates[tp1]-exp.dates[t]).total_seconds()\n",
    "    return(seconds/3600)\n",
    "\n",
    "def show_im(matrix, alpha=None, cmap=\"gray\", interpolation=\"none\"):\n",
    "    fig = plt.figure()\n",
    "    ax = fig.add_subplot(111)\n",
    "    ax.imshow(matrix, cmap=cmap, interpolation=interpolation, alpha=alpha)\n",
    "    numrows, numcols = matrix.shape[0], matrix.shape[1]\n",
    "\n",
    "    def format_coord(x, y):\n",
    "        col = int(x + 0.5)\n",
    "        row = int(y + 0.5)\n",
    "        if col >= 0 and col < numcols and row >= 0 and row < numrows:\n",
    "            z = matrix[row, col]\n",
    "            return \"x=%1.4f, y=%1.4f, z=%1.4f\" % (y, x, z)\n",
    "        else:\n",
    "            return \"x=%1.4f, y=%1.4f\" % (y, x)\n",
    "\n",
    "    ax.format_coord = format_coord\n",
    "    plt.show()\n",
    "\n",
    "\n",
    "def show_im_rgb(matrix):\n",
    "    fig = plt.figure()\n",
    "    ax = fig.add_subplot(111)\n",
    "    ax.imshow(matrix, cmap=\"gray\", interpolation=\"nearest\")\n",
    "    numrows, numcols = matrix.shape[0], matrix.shape[1]\n",
    "\n",
    "    def format_coord(x, y):\n",
    "        col = int(x + 0.5)\n",
    "        row = int(y + 0.5)\n",
    "        if col >= 0 and col < numcols and row >= 0 and row < numrows:\n",
    "            return \"x=%1.4f, y=%1.4f\" % (y, x)\n",
    "        else:\n",
    "            return \"x=%1.4f, y=%1.4f\" % (y, x)\n",
    "\n",
    "    ax.format_coord = format_coord\n",
    "    plt.show()\n",
    "\n",
    "\n",
    "def overlap(skel, raw):\n",
    "    kernel = np.ones((3, 3), np.uint8)\n",
    "    #     dilated = cv2.dilate(skel,kernel,iterations = 4)\n",
    "    fig = plt.figure()\n",
    "    matrix = skel\n",
    "    ax = fig.add_subplot(111)\n",
    "    ax.imshow(raw, cmap=\"gray\", interpolation=\"none\")\n",
    "    ax.imshow(skel, cmap=\"jet\", alpha=0.5, interpolation=\"none\")\n",
    "    numrows, numcols = matrix.shape[0], matrix.shape[1]\n",
    "\n",
    "    def format_coord(x, y):\n",
    "        col = int(x + 0.5)\n",
    "        row = int(y + 0.5)\n",
    "        if col >= 0 and col < numcols and row >= 0 and row < numrows:\n",
    "            z = matrix[row, col]\n",
    "            return \"x=%1.4f, y=%1.4f, z=%1.4f\" % (y, x, z)\n",
    "        else:\n",
    "            return \"x=%1.4f, y=%1.4f\" % (y, x)\n",
    "\n",
    "    ax.format_coord = format_coord\n",
    "    plt.show()\n",
    "\n",
    "\n",
    "def plot_nodes(nx_graph, pos, im):\n",
    "    fig = plt.figure()\n",
    "    ax = fig.add_subplot(111)\n",
    "    ax.imshow(im)\n",
    "    bbox_props = dict(boxstyle=\"circle\", fc=\"white\")\n",
    "    for node in nx_graph.nodes:\n",
    "        t = ax.text(\n",
    "            pos[node][1],\n",
    "            pos[node][0],\n",
    "            str(node),\n",
    "            ha=\"center\",\n",
    "            va=\"center\",\n",
    "            size=5,\n",
    "            bbox=bbox_props,\n",
    "        )\n",
    "    plt.show()\n",
    "\n",
    "\n",
    "def plot_nodes_from_list(node_list, pos, im):\n",
    "    fig = plt.figure()\n",
    "    ax = fig.add_subplot(111)\n",
    "    ax.imshow(im)\n",
    "    bbox_props = dict(boxstyle=\"circle\", fc=\"white\")\n",
    "    for node in node_list:\n",
    "        t = ax.text(\n",
    "            pos[node][1],\n",
    "            pos[node][0],\n",
    "            str(node),\n",
    "            ha=\"center\",\n",
    "            va=\"center\",\n",
    "            size=5,\n",
    "            bbox=bbox_props,\n",
    "        )\n",
    "    plt.show()\n",
    "\n",
    "\n",
    "def plot_t_tp1(\n",
    "    node_list_t,\n",
    "    node_list_tp1,\n",
    "    pos_t,\n",
    "    pos_tp1,\n",
    "    imt,\n",
    "    imtp1,\n",
    "    relabel_t=lambda x: x,\n",
    "    relabel_tp1=lambda x: x,\n",
    "    shift=(0, 0),\n",
    "    compress=1,\n",
    "    save=\"\",\n",
    "    time=None,\n",
    "    gray=False,\n",
    "    fontsize = 25\n",
    "):\n",
    "    right = 0.90\n",
    "    top = 0.90\n",
    "    if len(save) >= 1:\n",
    "        fig = plt.figure(figsize=(14, 12))\n",
    "        size = 10\n",
    "    else:\n",
    "        fig = plt.figure()\n",
    "        size = 5\n",
    "    ax = fig.add_subplot(111)\n",
    "    ax.imshow(imtp1, cmap=\"gray\", interpolation=\"none\")\n",
    "    if gray: \n",
    "        ax.imshow(imt, cmap=\"gray\", alpha=0.5, interpolation=\"none\")\n",
    "    else:\n",
    "        ax.imshow(imt, cmap=\"jet\", alpha=0.5, interpolation=\"none\")\n",
    "\n",
    "    bbox_props1 = dict(boxstyle=\"circle\", fc=\"grey\")\n",
    "    bbox_props2 = dict(boxstyle=\"circle\", fc=\"white\")\n",
    "    ax.text(\n",
    "        right,\n",
    "        top,\n",
    "        time,\n",
    "        horizontalalignment=\"right\",\n",
    "        verticalalignment=\"bottom\",\n",
    "        transform=ax.transAxes,\n",
    "        color=\"white\",\n",
    "        fontsize = fontsize,\n",
    "    )\n",
    "    for node in node_list_t:\n",
    "        t = ax.text(\n",
    "            (pos_t[node][1] - shift[1]) // compress,\n",
    "            (pos_t[node][0] - shift[0]) // compress,\n",
    "            str(relabel_t(node)),\n",
    "            ha=\"center\",\n",
    "            va=\"center\",\n",
    "            size=size,\n",
    "            bbox=bbox_props1,\n",
    "        )\n",
    "    for node in node_list_tp1:\n",
    "        if node in pos_tp1.keys():\n",
    "            t = ax.text(\n",
    "                (pos_tp1[node][1] - shift[1]) // compress,\n",
    "                (pos_tp1[node][0] - shift[0]) // compress,\n",
    "                str(relabel_tp1(node)),\n",
    "                ha=\"center\",\n",
    "                va=\"center\",\n",
    "                size=size,\n",
    "                bbox=bbox_props2,\n",
    "            )\n",
    "    if len(save) >= 1:\n",
    "        plt.savefig(save)\n",
    "        plt.close(fig)\n",
    "    else:\n",
    "        plt.show()\n",
    "\n",
    "\n",
    "def compress_skeleton(skeleton_doc, factor, shape=None):\n",
    "    if shape is None:\n",
    "        shape = skeleton_doc.shape\n",
    "    final_picture = np.zeros(shape=(shape[0] // factor, shape[1] // factor))\n",
    "    for pixel in skeleton_doc.keys():\n",
    "        x = min(round(pixel[0] / factor), shape[0] // factor - 1)\n",
    "        y = min(round(pixel[1] / factor), shape[1] // factor - 1)\n",
    "        final_picture[x, y] += 1\n",
    "    return final_picture\n",
    "\n",
    "\n",
    "def plot_node_skel(node,t0,ranges = 1000):\n",
    "    t = t0\n",
    "    center = node.pos(t0)[1],node.pos(t0)[0]\n",
    "    window = (center[0]-ranges,center[0]+ranges,center[1]-ranges,center[1]+ranges)\n",
    "    skelet,rot,trans = get_skeleton(node.experiment,window,t,node.experiment.directory)\n",
    "#     im_stitched = get_im_stitched(exp,window,t,directory)\n",
    "    tips = [node.label for node in exp.nodes if t in node.ts() and node.degree(t) ==1 and node.pos(t)[1]>=window[0] and node.pos(t)[1]<=window[1] and node.pos(t)[0]>=window[2] and node.pos(t)[0]<=window[3]]\n",
    "    junction =  [node.label for node in exp.nodes if t in node.ts() and node.degree(t) >=2 and node.pos(t)[1]>=window[0] and node.pos(t)[1]<=window[1] and node.pos(t)[0]>=window[2] and node.pos(t)[0]<=window[3]]\n",
    "    _ = plot_t_tp1(junction,tips,exp.positions[t],exp.positions[t],skelet,skelet,shift=(window[2],window[0]),time=f't={int(get_time(exp,0,t))}h')"
   ]
  },
  {
   "cell_type": "code",
   "execution_count": 61,
   "metadata": {},
   "outputs": [
    {
     "data": {
      "application/vnd.jupyter.widget-view+json": {
       "model_id": "323cff84063f403faa97605c547ff3a9",
       "version_major": 2,
       "version_minor": 0
      },
      "text/plain": [
       "Canvas(toolbar=Toolbar(toolitems=[('Home', 'Reset original view', 'home', 'home'), ('Back', 'Back to previous …"
      ]
     },
     "metadata": {},
     "output_type": "display_data"
    }
   ],
   "source": [
    "plt.close(\"all\")\n",
    "fig=plt.figure(figsize=(8,8))\n",
    "ax = fig.add_subplot(111)\n",
    "for rh in [choice(RH) for i in range(10)]:\n",
    "    dynamics = select_hyph[rh]\n",
    "    t0 = dynamics[0][0]\n",
    "    ts = [dynamic[0]-t0 for dynamic in dynamics]\n",
    "    degrees = [rh.end.degree(dynamic[0]) for dynamic in dynamics]\n",
    "    ax.plot(ts,degrees)"
   ]
  },
  {
   "cell_type": "code",
   "execution_count": 42,
   "metadata": {},
   "outputs": [
    {
     "data": {
      "text/plain": [
       "3"
      ]
     },
     "execution_count": 42,
     "metadata": {},
     "output_type": "execute_result"
    }
   ],
   "source": [
    "rh.end.degree(33)"
   ]
  },
  {
   "cell_type": "code",
   "execution_count": 4,
   "metadata": {},
   "outputs": [],
   "source": [
    "exp.load_compressed_skel()"
   ]
  },
  {
   "cell_type": "code",
   "execution_count": 5,
   "metadata": {},
   "outputs": [],
   "source": [
    "error_nodes = [node for node in exp.nodes if node.degree(node.ts()[0])>=3 and node.ts()[-1]!=exp.ts-1]"
   ]
  },
  {
   "cell_type": "code",
   "execution_count": 36,
   "metadata": {},
   "outputs": [],
   "source": [
    "missing_timesteps = [hyph for hyph in exp.hyphaes if len(hyph.ts)>0 and hyph.ts[-1]!=lapse]"
   ]
  },
  {
   "cell_type": "code",
   "execution_count": 31,
   "metadata": {},
   "outputs": [
    {
     "name": "stdout",
     "output_type": "stream",
     "text": [
      "0.0\n"
     ]
    }
   ],
   "source": [
    "experiment = exp\n",
    "exclude_bottom_factor = 0.98\n",
    "tips = [\n",
    "        node\n",
    "        for node in experiment.nodes\n",
    "        if node.degree(node.ts()[0]) == 1\n",
    "        and node.pos(node.ts()[0])[0]\n",
    "        <= experiment.boundaries_x[1] * exclude_bottom_factor\n",
    "    ]\n",
    "problems2 = []\n",
    "problems = []\n",
    "inconsistencies = []\n",
    "hyphaes = []\n",
    "select = {}\n",
    "    #     for i in range(20):\n",
    "for i, tip in enumerate(tips):\n",
    "    if i % 200 == 0:\n",
    "        print(i / len(tips))\n",
    "    #         tip = choice(tips)\n",
    "    hyphae = Hyphae(tip)\n",
    "    roots = []\n",
    "    for t in tip.ts():\n",
    "        #             print(t,tip)\n",
    "        if tip.degree(t) == 1:\n",
    "            root, edges, nodes = hyphae.get_edges(t, 200)\n",
    "            roots.append(root)\n",
    "    occurence_count = Counter(roots)\n",
    "    if len(occurence_count.values()) >= 2:\n",
    "        inconsistencies.append(tip)\n",
    "        select[tip]=occurence_count\n",
    "    if (\n",
    "        len(occurence_count.values()) >= 2\n",
    "        and occurence_count.most_common(2)[0][0] != roots[0]\n",
    "        and occurence_count.most_common(2)[1][1]\n",
    "        / occurence_count.most_common(2)[0][1]\n",
    "        >= 0.75\n",
    "    ):\n",
    "        problems2.append(tip)\n",
    "    else:\n",
    "        hyphae.root = occurence_count.most_common(2)[0][0]\n",
    "        if hyphae.root != roots[0]:\n",
    "            problems.append((tip,roots[0]))\n",
    "        hyphae.ts = sorted(set(hyphae.ts).intersection(set(hyphae.root.ts())))\n",
    "        hyphaes.append(hyphae)"
   ]
  },
  {
   "cell_type": "code",
   "execution_count": 30,
   "metadata": {},
   "outputs": [
    {
     "data": {
      "text/plain": [
       "(0, 186, 179, 30, 58)"
      ]
     },
     "execution_count": 30,
     "metadata": {},
     "output_type": "execute_result"
    }
   ],
   "source": [
    "len(problems),len(tips),len(exp.hyphaes),len(problems2), len(inconsistencies)"
   ]
  },
  {
   "cell_type": "code",
   "execution_count": 37,
   "metadata": {},
   "outputs": [
    {
     "data": {
      "text/plain": [
       "51"
      ]
     },
     "execution_count": 37,
     "metadata": {},
     "output_type": "execute_result"
    }
   ],
   "source": [
    "len(missing_timesteps)"
   ]
  },
  {
   "cell_type": "code",
   "execution_count": 62,
   "metadata": {},
   "outputs": [],
   "source": [
    "hyph = choice(missing_timesteps)\n",
    "node = choice(error_nodes)\n",
    "tip = choice(problems)"
   ]
  },
  {
   "cell_type": "code",
   "execution_count": 63,
   "metadata": {},
   "outputs": [],
   "source": [
    "tip = hyph.end\n",
    "hyphae = Hyphae(tip)\n",
    "roots = []\n",
    "for t in tip.ts():\n",
    "    #             print(t,tip)\n",
    "    if tip.degree(t) == 1:\n",
    "        root, edges, nodes = hyphae.get_edges(t, 200)\n",
    "        roots.append(root)"
   ]
  },
  {
   "cell_type": "code",
   "execution_count": 66,
   "metadata": {},
   "outputs": [
    {
     "data": {
      "text/plain": [
       "[3, 4, 5, 6, 7, 8]"
      ]
     },
     "execution_count": 66,
     "metadata": {},
     "output_type": "execute_result"
    }
   ],
   "source": [
    "hyph.end.ts()"
   ]
  },
  {
   "cell_type": "code",
   "execution_count": 64,
   "metadata": {},
   "outputs": [
    {
     "data": {
      "application/vnd.jupyter.widget-view+json": {
       "model_id": "a73af554d0e4446bb98d2d8e3816b41e",
       "version_major": 2,
       "version_minor": 0
      },
      "text/plain": [
       "Canvas(toolbar=Toolbar(toolitems=[('Home', 'Reset original view', 'home', 'home'), ('Back', 'Back to previous …"
      ]
     },
     "metadata": {},
     "output_type": "display_data"
    }
   ],
   "source": [
    "plt.close('all')\n",
    "t0 = tip.ts()[-1]\n",
    "iis = [0,-1]\n",
    "ltimes = [tip.ts()[i] for i in iis]\n",
    "exp.plot(ltimes,[[tip.label]+[root.label for root in roots]]*len(ltimes))"
   ]
  },
  {
   "cell_type": "code",
   "execution_count": 65,
   "metadata": {},
   "outputs": [
    {
     "data": {
      "application/vnd.jupyter.widget-view+json": {
       "model_id": "e22a6e30223e4858b60f825ff0f13b5e",
       "version_major": 2,
       "version_minor": 0
      },
      "text/plain": [
       "Canvas(toolbar=Toolbar(toolitems=[('Home', 'Reset original view', 'home', 'home'), ('Back', 'Back to previous …"
      ]
     },
     "metadata": {},
     "output_type": "display_data"
    }
   ],
   "source": [
    "hyph.end.show_source_image(t0,t0)"
   ]
  },
  {
   "cell_type": "code",
   "execution_count": 11,
   "metadata": {},
   "outputs": [
    {
     "data": {
      "text/plain": [
       "(158, 505)"
      ]
     },
     "execution_count": 11,
     "metadata": {},
     "output_type": "execute_result"
    }
   ],
   "source": [
    "len(error_nodes),len(exp.nodes)"
   ]
  },
  {
   "cell_type": "code",
   "execution_count": 8,
   "metadata": {},
   "outputs": [
    {
     "data": {
      "text/plain": [
       "(51, 179)"
      ]
     },
     "execution_count": 8,
     "metadata": {},
     "output_type": "execute_result"
    }
   ],
   "source": [
    "len(missing_timesteps), len(exp.hyphaes)"
   ]
  },
  {
   "cell_type": "code",
   "execution_count": 5,
   "metadata": {},
   "outputs": [
    {
     "name": "stdout",
     "output_type": "stream",
     "text": [
      "failure in finding closest edge\n",
      "failure in finding closest edge\n",
      "failure in finding closest edge\n",
      "failure in finding closest edge\n",
      "failure in finding closest edge\n",
      "failure in finding closest edge\n",
      "failure in finding closest edge\n",
      "failure in finding closest edge\n",
      "failure in finding closest edge\n",
      "failure in finding closest edge\n",
      "failure in finding closest edge\n",
      "failure in finding closest edge\n",
      "failure in finding closest edge\n",
      "failure in finding closest edge\n"
     ]
    }
   ],
   "source": [
    "speeds = []\n",
    "for hyph in RH:\n",
    "    for i,t in enumerate(hyph.ts[:-1]):\n",
    "        tp1=hyph.ts[i+1]\n",
    "        segs,nodes = get_pixel_growth_and_new_children(hyph,t,tp1)\n",
    "        speed = np.sum([get_length_um(seg) for seg in segs])/get_time(exp,t,tp1)\n",
    "        speeds.append(speed)"
   ]
  },
  {
   "cell_type": "code",
   "execution_count": 6,
   "metadata": {},
   "outputs": [],
   "source": [
    "speeds=[speed for speed in speeds if speed<400 and speed>50]"
   ]
  },
  {
   "cell_type": "code",
   "execution_count": 7,
   "metadata": {},
   "outputs": [
    {
     "name": "stderr",
     "output_type": "stream",
     "text": [
      "/home/cbisot/anaconda3/envs/test/lib/python3.7/site-packages/matplotlib/__init__.py:880: MatplotlibDeprecationWarning: \n",
      "nbagg.transparent\n",
      "  version, key, obj_type=\"rcparam\", alternative=alt_key)\n"
     ]
    },
    {
     "data": {
      "application/vnd.jupyter.widget-view+json": {
       "model_id": "c316b993db9c40479c052812c808dde3",
       "version_major": 2,
       "version_minor": 0
      },
      "text/plain": [
       "Canvas(toolbar=Toolbar(toolitems=[('Home', 'Reset original view', 'home', 'home'), ('Back', 'Back to previous …"
      ]
     },
     "metadata": {},
     "output_type": "display_data"
    },
    {
     "data": {
      "text/plain": [
       "(array([ 77.,  68.,  39.,  57.,  80.,  91.,  90., 119., 128., 131., 176.,\n",
       "        183., 247.,  65.,   7.,   2.,   0.,   0.,   0.,   3.]),\n",
       " array([ 50.80779469,  67.80837125,  84.80894781, 101.80952438,\n",
       "        118.81010094, 135.8106775 , 152.81125407, 169.81183063,\n",
       "        186.81240719, 203.81298376, 220.81356032, 237.81413688,\n",
       "        254.81471345, 271.81529001, 288.81586657, 305.81644314,\n",
       "        322.8170197 , 339.81759626, 356.81817283, 373.81874939,\n",
       "        390.81932595]),\n",
       " <a list of 20 Patch objects>)"
      ]
     },
     "execution_count": 7,
     "metadata": {},
     "output_type": "execute_result"
    }
   ],
   "source": [
    "fig=plt.figure(figsize=(8,8))\n",
    "ax = fig.add_subplot(111)\n",
    "ax.hist(speeds,20)"
   ]
  },
  {
   "cell_type": "code",
   "execution_count": 10,
   "metadata": {},
   "outputs": [
    {
     "data": {
      "text/plain": [
       "129.0599902154669"
      ]
     },
     "execution_count": 10,
     "metadata": {},
     "output_type": "execute_result"
    }
   ],
   "source": [
    "np.mean([speed for speed in max_speeds if speed>25])"
   ]
  },
  {
   "cell_type": "code",
   "execution_count": 86,
   "metadata": {},
   "outputs": [],
   "source": [
    "hyph_anas_tip_hyph = [hyphat for hyphat in exp.hyphaes if len(hyphat.ts)>=2 and hyphat.end.degree(hyphat.ts[-1])>=3 and hyphat.end.degree(hyphat.ts[-2])>=3]\n"
   ]
  },
  {
   "cell_type": "code",
   "execution_count": null,
   "metadata": {},
   "outputs": [],
   "source": [
    "exp.hyphaes"
   ]
  },
  {
   "cell_type": "code",
   "execution_count": 97,
   "metadata": {
    "collapsed": true,
    "jupyter": {
     "outputs_hidden": true
    }
   },
   "outputs": [
    {
     "name": "stderr",
     "output_type": "stream",
     "text": [
      "/home/cbisot/anaconda3/envs/test/lib/python3.7/site-packages/ipykernel_launcher.py:30: RuntimeWarning: invalid value encountered in double_scalars\n"
     ]
    },
    {
     "name": "stdout",
     "output_type": "stream",
     "text": [
      "failure in finding closest edge\n",
      "failure in finding closest edge\n",
      "failure in finding closest edge\n",
      "failure in finding closest edge\n",
      "failure in finding closest edge\n",
      "failure in finding closest edge\n",
      "failure in finding closest edge\n",
      "failure in finding closest edge\n",
      "failure in finding closest edge\n",
      "failure in finding closest edge\n",
      "failure in finding closest edge\n",
      "failure in finding closest edge\n",
      "failure in finding closest edge\n",
      "failure in finding closest edge\n",
      "failure in finding closest edge\n",
      "failure in finding closest edge\n",
      "failure in finding closest edge\n",
      "failure in finding closest edge\n",
      "failure in finding closest edge\n",
      "failure in finding closest edge\n",
      "failure in finding closest edge\n",
      "failure in finding closest edge\n",
      "failure in finding closest edge\n",
      "failure in finding closest edge\n",
      "failure in finding closest edge\n"
     ]
    }
   ],
   "source": [
    "branches = {}\n",
    "lengths = {}\n",
    "bd = []\n",
    "rh_ends = [rh.end for rh in RH]\n",
    "hyphae_ends = [hyph.end for hyph in exp.hyphaes]\n",
    "daughters = {}\n",
    "begins = {}\n",
    "for rh in exp.hyphaes:\n",
    "    if len(rh.ts)>0:\n",
    "        tp1 = rh.ts[-1]\n",
    "        t = rh.ts[0]\n",
    "        if tp1 > t: \n",
    "            pixels, nodes = get_pixel_growth_and_new_children(rh, t, tp1)\n",
    "            curv_length = np.sum([get_length_um(seg) for seg in pixels])\n",
    "            branch = []\n",
    "            daughter_list=[]\n",
    "            begins[rh] = nodes[1]\n",
    "            for node in nodes[1:-1]:\n",
    "                if node not in hyphae_ends:\n",
    "                    node_obj  = node\n",
    "        #             t0 = node_obj.ts()[0]\n",
    "        #             neighbours = node_obj.neighbours(t0)\n",
    "        #             if t0 in rh.ts:\n",
    "        #                 nodes_hyph,edge = rh.get_nodes_within(t0)\n",
    "        #                 for neighbour in neighbours:\n",
    "        #                     if neighbour.label not in nodes_hyph:\n",
    "        #                         daughter_list.append(neighbour)\n",
    "        #                         if neighbour in rh_ends and neighbour!=rh.end:\n",
    "                    branch.append(node)    \n",
    "            bd.append(len(branch)/curv_length)\n",
    "            branches[rh] = branch\n",
    "            daughters[rh] = daughter_list\n",
    "            lengths[rh] = curv_length"
   ]
  },
  {
   "cell_type": "code",
   "execution_count": 76,
   "metadata": {},
   "outputs": [
    {
     "data": {
      "application/vnd.jupyter.widget-view+json": {
       "model_id": "3164d6b31a8045d8824db787086cd6f6",
       "version_major": 2,
       "version_minor": 0
      },
      "text/plain": [
       "Canvas(toolbar=Toolbar(toolitems=[('Home', 'Reset original view', 'home', 'home'), ('Back', 'Back to previous …"
      ]
     },
     "metadata": {},
     "output_type": "display_data"
    }
   ],
   "source": [
    "# rh = choice(RH)\n",
    "plt.close('all')\n",
    "plot_raw_plus(exp,rh.ts[-1],[node.label for node in branches[rh]]+[rh.end.label,rh.root.label]+[hyph.label for hyph in daughters[rh]]+[begins[rh].label])"
   ]
  },
  {
   "cell_type": "code",
   "execution_count": 78,
   "metadata": {},
   "outputs": [
    {
     "data": {
      "application/vnd.jupyter.widget-view+json": {
       "model_id": "dbc1e6e8390d4a2582f6b6e80e456373",
       "version_major": 2,
       "version_minor": 0
      },
      "text/plain": [
       "Canvas(toolbar=Toolbar(toolitems=[('Home', 'Reset original view', 'home', 'home'), ('Back', 'Back to previous …"
      ]
     },
     "metadata": {},
     "output_type": "display_data"
    }
   ],
   "source": [
    "# plt.close('all')\n",
    "t0 = rh.ts[-1]\n",
    "ltimes = [rh.ts[0],t0//2+5,t0]\n",
    "exp.plot(ltimes,[[node.label for node in branches[rh]]+[rh.end.label,rh.root.label]+[hyph.label for hyph in daughters[rh]]+[begins[rh].label]]*len(ltimes))"
   ]
  },
  {
   "cell_type": "code",
   "execution_count": 99,
   "metadata": {
    "collapsed": true,
    "jupyter": {
     "outputs_hidden": true
    }
   },
   "outputs": [
    {
     "data": {
      "text/plain": [
       "array([5.35530221e-04,            nan, 1.94684877e-03, 9.60626568e-04,\n",
       "                  nan, 3.36025392e-03, 7.63752202e-04, 0.00000000e+00,\n",
       "       0.00000000e+00, 0.00000000e+00, 0.00000000e+00, 4.71467100e-04,\n",
       "       0.00000000e+00, 0.00000000e+00, 5.98121031e-04, 0.00000000e+00,\n",
       "       0.00000000e+00, 4.12397489e-04, 0.00000000e+00, 0.00000000e+00,\n",
       "       0.00000000e+00, 0.00000000e+00,            nan, 7.46274914e-04,\n",
       "       0.00000000e+00,            nan, 0.00000000e+00, 0.00000000e+00,\n",
       "       0.00000000e+00, 2.28607597e-03,            nan,            nan,\n",
       "       0.00000000e+00,            nan, 0.00000000e+00, 0.00000000e+00,\n",
       "       0.00000000e+00, 0.00000000e+00, 0.00000000e+00,            nan,\n",
       "       2.59043970e-01,            nan,            nan, 0.00000000e+00,\n",
       "       0.00000000e+00, 0.00000000e+00, 0.00000000e+00, 9.76830587e-04,\n",
       "                  nan, 0.00000000e+00, 0.00000000e+00, 0.00000000e+00,\n",
       "       0.00000000e+00, 0.00000000e+00, 0.00000000e+00,            nan,\n",
       "       3.34329246e-04, 2.41913076e-03, 0.00000000e+00, 0.00000000e+00,\n",
       "       0.00000000e+00,            nan, 0.00000000e+00, 0.00000000e+00,\n",
       "       0.00000000e+00, 0.00000000e+00, 0.00000000e+00, 2.51533234e-03,\n",
       "       1.33197049e-03, 0.00000000e+00, 0.00000000e+00,            nan,\n",
       "                  nan,            nan, 0.00000000e+00, 4.20833874e-04,\n",
       "       0.00000000e+00, 0.00000000e+00, 2.28352554e-03, 0.00000000e+00,\n",
       "       0.00000000e+00, 0.00000000e+00, 4.03446206e-03, 0.00000000e+00,\n",
       "       0.00000000e+00, 0.00000000e+00, 0.00000000e+00, 0.00000000e+00,\n",
       "       0.00000000e+00, 3.76698579e-03, 0.00000000e+00, 0.00000000e+00,\n",
       "       0.00000000e+00,            nan, 0.00000000e+00, 0.00000000e+00,\n",
       "       0.00000000e+00,            nan, 0.00000000e+00, 0.00000000e+00,\n",
       "       2.72035764e-03, 0.00000000e+00, 0.00000000e+00, 0.00000000e+00,\n",
       "       0.00000000e+00, 7.08755091e-04, 0.00000000e+00,            nan,\n",
       "                  nan,            nan, 1.24790059e-03,            nan,\n",
       "       6.97288997e-05, 0.00000000e+00, 3.15053563e-04, 2.03304022e-03,\n",
       "       0.00000000e+00, 0.00000000e+00, 0.00000000e+00,            nan,\n",
       "       1.17874841e-04, 5.04076789e-04, 0.00000000e+00, 6.32020302e-04,\n",
       "       0.00000000e+00, 0.00000000e+00,            nan, 0.00000000e+00,\n",
       "       0.00000000e+00,            nan, 0.00000000e+00, 0.00000000e+00,\n",
       "       0.00000000e+00, 0.00000000e+00, 1.64233291e-03, 2.65079210e-04,\n",
       "       3.17751973e-04, 0.00000000e+00, 0.00000000e+00, 0.00000000e+00,\n",
       "       0.00000000e+00, 0.00000000e+00,            nan, 5.31640061e-04,\n",
       "       1.79554964e-02, 7.82293729e-04, 1.44918183e-03, 0.00000000e+00,\n",
       "       6.43229047e-04, 1.59260738e-03, 1.47686151e-03,            nan,\n",
       "       0.00000000e+00,            nan, 0.00000000e+00, 0.00000000e+00,\n",
       "       0.00000000e+00, 0.00000000e+00, 0.00000000e+00, 0.00000000e+00,\n",
       "       0.00000000e+00, 0.00000000e+00, 0.00000000e+00,            nan,\n",
       "       0.00000000e+00, 0.00000000e+00, 5.61406484e-04, 0.00000000e+00,\n",
       "       0.00000000e+00, 0.00000000e+00, 0.00000000e+00, 0.00000000e+00,\n",
       "       0.00000000e+00, 0.00000000e+00,            nan, 0.00000000e+00,\n",
       "                  nan, 0.00000000e+00, 0.00000000e+00, 0.00000000e+00,\n",
       "       0.00000000e+00, 0.00000000e+00, 2.37616967e-03, 0.00000000e+00,\n",
       "       0.00000000e+00, 5.80025374e-04, 0.00000000e+00, 7.23013098e-04,\n",
       "       0.00000000e+00, 0.00000000e+00, 0.00000000e+00,            nan,\n",
       "       1.87209718e-03, 0.00000000e+00, 0.00000000e+00,            nan,\n",
       "       0.00000000e+00, 0.00000000e+00, 0.00000000e+00,            nan,\n",
       "       0.00000000e+00, 0.00000000e+00, 1.53603079e-03,            nan,\n",
       "       0.00000000e+00, 0.00000000e+00, 0.00000000e+00, 1.25528466e-03,\n",
       "       0.00000000e+00, 0.00000000e+00, 0.00000000e+00, 0.00000000e+00,\n",
       "                  nan, 0.00000000e+00, 3.42645849e-04, 0.00000000e+00,\n",
       "       0.00000000e+00,            nan,            nan,            nan,\n",
       "       0.00000000e+00, 0.00000000e+00, 0.00000000e+00, 3.42213459e-04,\n",
       "       0.00000000e+00, 0.00000000e+00, 1.36160065e-03, 0.00000000e+00,\n",
       "       0.00000000e+00, 0.00000000e+00, 0.00000000e+00, 0.00000000e+00,\n",
       "       0.00000000e+00, 0.00000000e+00, 0.00000000e+00, 0.00000000e+00,\n",
       "       0.00000000e+00, 1.27158757e-03,            nan, 0.00000000e+00,\n",
       "       0.00000000e+00, 1.80478259e-03, 0.00000000e+00,            nan,\n",
       "       0.00000000e+00, 1.17383408e-03, 1.00218979e-02, 0.00000000e+00,\n",
       "       0.00000000e+00,            nan,            nan, 0.00000000e+00,\n",
       "       0.00000000e+00, 1.66844673e-04, 3.95943175e-04, 0.00000000e+00,\n",
       "       0.00000000e+00, 0.00000000e+00, 0.00000000e+00, 0.00000000e+00,\n",
       "       5.80792059e-04, 2.80940581e-04, 8.24348180e-03, 0.00000000e+00,\n",
       "       3.88852227e-04, 2.79835668e-04, 0.00000000e+00, 0.00000000e+00,\n",
       "       0.00000000e+00, 0.00000000e+00, 0.00000000e+00,            nan,\n",
       "       0.00000000e+00, 0.00000000e+00, 0.00000000e+00, 0.00000000e+00,\n",
       "       0.00000000e+00, 8.13265175e-04,            nan, 5.30235703e-04,\n",
       "       1.18919586e-03, 0.00000000e+00, 0.00000000e+00, 0.00000000e+00,\n",
       "                  nan, 0.00000000e+00, 2.13634152e-03, 0.00000000e+00,\n",
       "       0.00000000e+00, 0.00000000e+00, 0.00000000e+00, 0.00000000e+00,\n",
       "                  nan, 0.00000000e+00, 0.00000000e+00, 0.00000000e+00,\n",
       "       0.00000000e+00, 0.00000000e+00, 0.00000000e+00, 0.00000000e+00,\n",
       "       0.00000000e+00, 0.00000000e+00, 0.00000000e+00, 4.22266563e-04,\n",
       "       0.00000000e+00, 0.00000000e+00, 0.00000000e+00, 0.00000000e+00,\n",
       "       0.00000000e+00,            nan,            nan, 0.00000000e+00,\n",
       "       0.00000000e+00, 2.96321729e-03, 0.00000000e+00, 9.65885984e-04,\n",
       "       3.91646087e-04, 0.00000000e+00, 0.00000000e+00, 0.00000000e+00,\n",
       "       0.00000000e+00,            nan, 1.37481538e-03, 0.00000000e+00,\n",
       "                  nan, 0.00000000e+00, 0.00000000e+00, 6.78880140e-04,\n",
       "       0.00000000e+00, 0.00000000e+00, 0.00000000e+00, 0.00000000e+00,\n",
       "       0.00000000e+00, 1.41309510e-03, 0.00000000e+00, 0.00000000e+00,\n",
       "       0.00000000e+00, 0.00000000e+00, 0.00000000e+00, 0.00000000e+00,\n",
       "       0.00000000e+00, 7.18202710e-04, 0.00000000e+00, 0.00000000e+00,\n",
       "       0.00000000e+00, 0.00000000e+00, 0.00000000e+00, 0.00000000e+00,\n",
       "       4.60553135e-04, 0.00000000e+00, 1.13492420e-03, 2.04747859e-03,\n",
       "       0.00000000e+00, 0.00000000e+00, 0.00000000e+00,            nan,\n",
       "       1.21163002e-03, 0.00000000e+00, 0.00000000e+00, 0.00000000e+00,\n",
       "       0.00000000e+00, 0.00000000e+00, 0.00000000e+00, 0.00000000e+00,\n",
       "       7.81318625e-03, 0.00000000e+00, 8.43864988e-04, 0.00000000e+00,\n",
       "       2.80490966e-03, 0.00000000e+00, 6.60966416e-03, 0.00000000e+00,\n",
       "       0.00000000e+00, 0.00000000e+00, 1.45968026e-03, 1.05766108e-03,\n",
       "       0.00000000e+00, 2.06299888e-03, 0.00000000e+00, 0.00000000e+00,\n",
       "       0.00000000e+00, 0.00000000e+00, 0.00000000e+00, 0.00000000e+00,\n",
       "       0.00000000e+00, 5.26552913e-04, 1.46900259e-03, 0.00000000e+00,\n",
       "       0.00000000e+00, 1.73308035e-03, 8.60226820e-04, 0.00000000e+00,\n",
       "       0.00000000e+00,            nan, 0.00000000e+00, 9.95502095e-04,\n",
       "       0.00000000e+00, 0.00000000e+00, 0.00000000e+00, 0.00000000e+00,\n",
       "                  nan, 1.57664873e-03, 0.00000000e+00, 3.50047433e-04,\n",
       "       0.00000000e+00, 7.05561038e-04, 0.00000000e+00, 0.00000000e+00,\n",
       "       2.62386586e-03, 0.00000000e+00, 0.00000000e+00, 0.00000000e+00,\n",
       "                  nan,            nan, 0.00000000e+00, 0.00000000e+00,\n",
       "       2.93265099e-04, 8.38710981e-05, 0.00000000e+00, 0.00000000e+00,\n",
       "       1.74045599e-03, 2.56261803e-03, 0.00000000e+00, 0.00000000e+00,\n",
       "       0.00000000e+00, 8.26937353e-04,            nan,            nan,\n",
       "                  nan,            nan, 2.50215807e-04, 0.00000000e+00,\n",
       "       0.00000000e+00,            nan, 0.00000000e+00, 0.00000000e+00,\n",
       "       0.00000000e+00, 0.00000000e+00, 0.00000000e+00, 0.00000000e+00,\n",
       "                  nan, 1.66571142e-03, 0.00000000e+00, 0.00000000e+00,\n",
       "       0.00000000e+00, 0.00000000e+00, 0.00000000e+00, 0.00000000e+00,\n",
       "       1.36438708e-03,            nan,            nan, 0.00000000e+00,\n",
       "       0.00000000e+00, 0.00000000e+00, 3.66382754e-04, 1.60641861e-03,\n",
       "       0.00000000e+00, 0.00000000e+00, 0.00000000e+00, 7.82494345e-05,\n",
       "       0.00000000e+00,            nan, 9.62270524e-04,            nan,\n",
       "       0.00000000e+00, 0.00000000e+00, 0.00000000e+00, 0.00000000e+00,\n",
       "       0.00000000e+00,            nan, 0.00000000e+00, 0.00000000e+00,\n",
       "       0.00000000e+00, 0.00000000e+00, 4.26009583e-03, 1.23799380e-03,\n",
       "       0.00000000e+00,            nan, 9.44286394e-04, 0.00000000e+00,\n",
       "       0.00000000e+00,            nan, 0.00000000e+00, 0.00000000e+00,\n",
       "       1.45658206e-03,            nan, 0.00000000e+00, 0.00000000e+00,\n",
       "       0.00000000e+00, 0.00000000e+00, 8.51695079e-04, 0.00000000e+00,\n",
       "       0.00000000e+00,            nan, 0.00000000e+00, 0.00000000e+00,\n",
       "       0.00000000e+00, 0.00000000e+00, 0.00000000e+00, 5.24164257e-04,\n",
       "       0.00000000e+00, 0.00000000e+00, 0.00000000e+00, 0.00000000e+00,\n",
       "       0.00000000e+00, 0.00000000e+00, 0.00000000e+00, 0.00000000e+00,\n",
       "       0.00000000e+00, 0.00000000e+00, 0.00000000e+00, 0.00000000e+00,\n",
       "       0.00000000e+00,            nan, 0.00000000e+00, 7.60871028e-04,\n",
       "       0.00000000e+00, 2.09740827e-03, 0.00000000e+00, 4.99251146e-04,\n",
       "                  nan, 0.00000000e+00, 0.00000000e+00, 0.00000000e+00,\n",
       "                  nan,            nan, 0.00000000e+00, 0.00000000e+00,\n",
       "                  nan, 0.00000000e+00, 0.00000000e+00, 0.00000000e+00,\n",
       "       3.54464121e-03, 0.00000000e+00, 0.00000000e+00, 0.00000000e+00,\n",
       "       0.00000000e+00, 0.00000000e+00,            nan, 0.00000000e+00,\n",
       "       1.80053269e-04, 3.55930532e-04, 0.00000000e+00, 0.00000000e+00,\n",
       "       1.99073726e-02, 9.00249919e-04, 0.00000000e+00, 0.00000000e+00,\n",
       "       0.00000000e+00, 0.00000000e+00, 0.00000000e+00, 9.32654462e-04,\n",
       "       0.00000000e+00, 0.00000000e+00, 0.00000000e+00, 0.00000000e+00,\n",
       "       0.00000000e+00, 0.00000000e+00, 0.00000000e+00, 0.00000000e+00,\n",
       "       0.00000000e+00, 0.00000000e+00, 0.00000000e+00, 0.00000000e+00,\n",
       "       0.00000000e+00, 0.00000000e+00,            nan, 2.54052738e-04,\n",
       "       0.00000000e+00, 4.56919961e-04, 0.00000000e+00, 0.00000000e+00,\n",
       "       0.00000000e+00, 0.00000000e+00, 0.00000000e+00, 0.00000000e+00,\n",
       "       0.00000000e+00, 1.80049908e-03, 0.00000000e+00,            nan,\n",
       "       0.00000000e+00,            nan, 0.00000000e+00, 0.00000000e+00,\n",
       "       0.00000000e+00, 0.00000000e+00, 0.00000000e+00,            nan,\n",
       "       0.00000000e+00, 6.88936847e-04, 0.00000000e+00, 0.00000000e+00,\n",
       "       0.00000000e+00, 0.00000000e+00, 0.00000000e+00, 0.00000000e+00,\n",
       "       0.00000000e+00, 0.00000000e+00,            nan, 1.02098677e-03,\n",
       "       0.00000000e+00, 0.00000000e+00,            nan, 0.00000000e+00,\n",
       "       0.00000000e+00, 0.00000000e+00, 0.00000000e+00, 0.00000000e+00,\n",
       "       1.89635622e-03,            nan, 0.00000000e+00, 0.00000000e+00,\n",
       "       0.00000000e+00, 0.00000000e+00, 0.00000000e+00, 2.99467628e-04,\n",
       "       0.00000000e+00, 0.00000000e+00, 0.00000000e+00, 0.00000000e+00,\n",
       "                  nan, 0.00000000e+00])"
      ]
     },
     "execution_count": 99,
     "metadata": {},
     "output_type": "execute_result"
    }
   ],
   "source": [
    "np.array(bd)"
   ]
  },
  {
   "cell_type": "code",
   "execution_count": 79,
   "metadata": {},
   "outputs": [
    {
     "data": {
      "text/plain": [
       "1137.1465364044166"
      ]
     },
     "execution_count": 79,
     "metadata": {},
     "output_type": "execute_result"
    }
   ],
   "source": [
    "1/np.mean(bd)"
   ]
  },
  {
   "cell_type": "code",
   "execution_count": 103,
   "metadata": {},
   "outputs": [
    {
     "data": {
      "text/plain": [
       "269.0073901418113"
      ]
     },
     "execution_count": 103,
     "metadata": {},
     "output_type": "execute_result"
    }
   ],
   "source": [
    "1/np.mean(bd)"
   ]
  },
  {
   "cell_type": "code",
   "execution_count": 100,
   "metadata": {},
   "outputs": [],
   "source": [
    "bdp = [b for b in bd if b>0 and not np.isnan(b)]"
   ]
  },
  {
   "cell_type": "code",
   "execution_count": 102,
   "metadata": {},
   "outputs": [
    {
     "data": {
      "text/plain": [
       "126"
      ]
     },
     "execution_count": 102,
     "metadata": {},
     "output_type": "execute_result"
    }
   ],
   "source": [
    "len(bdp)"
   ]
  },
  {
   "cell_type": "code",
   "execution_count": 104,
   "metadata": {},
   "outputs": [
    {
     "name": "stderr",
     "output_type": "stream",
     "text": [
      "/home/cbisot/anaconda3/envs/test/lib/python3.7/site-packages/matplotlib/__init__.py:880: MatplotlibDeprecationWarning: \n",
      "nbagg.transparent\n",
      "  version, key, obj_type=\"rcparam\", alternative=alt_key)\n"
     ]
    },
    {
     "data": {
      "application/vnd.jupyter.widget-view+json": {
       "model_id": "01429712c5c9454caa578bfe3a17800c",
       "version_major": 2,
       "version_minor": 0
      },
      "text/plain": [
       "Canvas(toolbar=Toolbar(toolitems=[('Home', 'Reset original view', 'home', 'home'), ('Back', 'Back to previous …"
      ]
     },
     "metadata": {},
     "output_type": "display_data"
    },
    {
     "data": {
      "text/plain": [
       "(array([59., 35., 14., 10.,  2.,  1.,  1.,  0.,  1.,  0.,  0.,  0.,  1.,\n",
       "         1.,  1.]),\n",
       " array([3.86034850e+00, 9.59686724e+02, 1.91551310e+03, 2.87133948e+03,\n",
       "        3.82716585e+03, 4.78299223e+03, 5.73881860e+03, 6.69464498e+03,\n",
       "        7.65047135e+03, 8.60629773e+03, 9.56212411e+03, 1.05179505e+04,\n",
       "        1.14737769e+04, 1.24296032e+04, 1.33854296e+04, 1.43412560e+04]),\n",
       " <a list of 15 Patch objects>)"
      ]
     },
     "execution_count": 104,
     "metadata": {},
     "output_type": "execute_result"
    }
   ],
   "source": [
    "fig=plt.figure(figsize=(8,8))\n",
    "ax = fig.add_subplot(111)\n",
    "ax.hist(1/np.array(bdp),15)"
   ]
  },
  {
   "cell_type": "code",
   "execution_count": 13,
   "metadata": {},
   "outputs": [
    {
     "data": {
      "text/plain": [
       "(31, 127)"
      ]
     },
     "execution_count": 13,
     "metadata": {},
     "output_type": "execute_result"
    }
   ],
   "source": [
    "len([rh for rh in RH if rh.ts[-1]!=60]), len(RH)"
   ]
  },
  {
   "cell_type": "code",
   "execution_count": 14,
   "metadata": {},
   "outputs": [],
   "source": [
    "lost_track = [rh for rh in RH if rh.ts[-1]!=60]"
   ]
  },
  {
   "cell_type": "code",
   "execution_count": 12,
   "metadata": {},
   "outputs": [
    {
     "data": {
      "text/plain": [
       "(127, 127)"
      ]
     },
     "execution_count": 12,
     "metadata": {},
     "output_type": "execute_result"
    }
   ],
   "source": [
    "len(lost_track),len(RH)"
   ]
  },
  {
   "cell_type": "code",
   "execution_count": 84,
   "metadata": {},
   "outputs": [
    {
     "data": {
      "text/plain": [
       "([36,\n",
       "  37,\n",
       "  38,\n",
       "  39,\n",
       "  40,\n",
       "  41,\n",
       "  42,\n",
       "  43,\n",
       "  44,\n",
       "  45,\n",
       "  46,\n",
       "  47,\n",
       "  48,\n",
       "  49,\n",
       "  50,\n",
       "  51,\n",
       "  52,\n",
       "  53,\n",
       "  54,\n",
       "  55,\n",
       "  56,\n",
       "  57,\n",
       "  58,\n",
       "  59,\n",
       "  60],\n",
       " 239.33367708738464,\n",
       " [],\n",
       " Hyphae(5551,1746))"
      ]
     },
     "execution_count": 84,
     "metadata": {},
     "output_type": "execute_result"
    }
   ],
   "source": [
    "rh.end.ts(),lengths[rh],branches[rh],rh"
   ]
  },
  {
   "cell_type": "code",
   "execution_count": 49,
   "metadata": {},
   "outputs": [
    {
     "data": {
      "text/plain": [
       "230"
      ]
     },
     "execution_count": 49,
     "metadata": {},
     "output_type": "execute_result"
    }
   ],
   "source": [
    "len(RH)"
   ]
  },
  {
   "cell_type": "code",
   "execution_count": 13,
   "metadata": {},
   "outputs": [
    {
     "data": {
      "text/plain": [
       "[Node(891), Node(3985), Node(3)]"
      ]
     },
     "execution_count": 13,
     "metadata": {},
     "output_type": "execute_result"
    }
   ],
   "source": [
    "neighbours"
   ]
  },
  {
   "cell_type": "code",
   "execution_count": 42,
   "metadata": {},
   "outputs": [
    {
     "name": "stderr",
     "output_type": "stream",
     "text": [
      "/home/cbisot/anaconda3/envs/test/lib/python3.7/site-packages/matplotlib/__init__.py:880: MatplotlibDeprecationWarning: \n",
      "nbagg.transparent\n",
      "  version, key, obj_type=\"rcparam\", alternative=alt_key)\n"
     ]
    },
    {
     "data": {
      "application/vnd.jupyter.widget-view+json": {
       "model_id": "fb6a6a878d564813a284a439bfb32a63",
       "version_major": 2,
       "version_minor": 0
      },
      "text/plain": [
       "Canvas(toolbar=Toolbar(toolitems=[('Home', 'Reset original view', 'home', 'home'), ('Back', 'Back to previous …"
      ]
     },
     "metadata": {},
     "output_type": "display_data"
    },
    {
     "data": {
      "text/plain": [
       "(array([14.,  2., 10.,  6., 15., 21., 25., 16., 12.,  9.,  7.,  6.,  3.,\n",
       "         3.,  0.,  0.,  3.,  1.,  1.,  1.,  1.,  0.,  0.,  1.,  0.,  0.,\n",
       "         1.,  0.,  1.,  1.]),\n",
       " array([0.        , 0.00021597, 0.00043195, 0.00064792, 0.00086389,\n",
       "        0.00107986, 0.00129584, 0.00151181, 0.00172778, 0.00194375,\n",
       "        0.00215973, 0.0023757 , 0.00259167, 0.00280765, 0.00302362,\n",
       "        0.00323959, 0.00345556, 0.00367154, 0.00388751, 0.00410348,\n",
       "        0.00431946, 0.00453543, 0.0047514 , 0.00496737, 0.00518335,\n",
       "        0.00539932, 0.00561529, 0.00583126, 0.00604724, 0.00626321,\n",
       "        0.00647918]),\n",
       " <a list of 30 Patch objects>)"
      ]
     },
     "execution_count": 42,
     "metadata": {},
     "output_type": "execute_result"
    }
   ],
   "source": [
    "plt.close('all')\n",
    "fig=plt.figure(figsize=(8,8))\n",
    "ax = fig.add_subplot(111)\n",
    "ax.hist(bd,30)"
   ]
  },
  {
   "cell_type": "code",
   "execution_count": 44,
   "metadata": {},
   "outputs": [
    {
     "data": {
      "text/plain": [
       "639.5821582781915"
      ]
     },
     "execution_count": 44,
     "metadata": {},
     "output_type": "execute_result"
    }
   ],
   "source": [
    "1/np.mean(bd)"
   ]
  },
  {
   "cell_type": "code",
   "execution_count": 54,
   "metadata": {},
   "outputs": [
    {
     "data": {
      "application/vnd.jupyter.widget-view+json": {
       "model_id": "89b66a3ae1d0487982dc32ec52c65eee",
       "version_major": 2,
       "version_minor": 0
      },
      "text/plain": [
       "Canvas(toolbar=Toolbar(toolitems=[('Home', 'Reset original view', 'home', 'home'), ('Back', 'Back to previous …"
      ]
     },
     "metadata": {},
     "output_type": "display_data"
    }
   ],
   "source": [
    "Node(1735,exp).show_source_image(14,14)"
   ]
  },
  {
   "cell_type": "code",
   "execution_count": 49,
   "metadata": {},
   "outputs": [
    {
     "data": {
      "text/plain": [
       "[Node(2019), Node(8511), Node(7466)]"
      ]
     },
     "execution_count": 49,
     "metadata": {},
     "output_type": "execute_result"
    }
   ],
   "source": [
    "Node(237,exp).neighbours(rh.ts[-1])"
   ]
  },
  {
   "cell_type": "code",
   "execution_count": 28,
   "metadata": {},
   "outputs": [
    {
     "data": {
      "application/vnd.jupyter.widget-view+json": {
       "model_id": "88579b7530f947a7a400311f178549fd",
       "version_major": 2,
       "version_minor": 0
      },
      "text/plain": [
       "Canvas(toolbar=Toolbar(toolitems=[('Home', 'Reset original view', 'home', 'home'), ('Back', 'Back to previous …"
      ]
     },
     "metadata": {},
     "output_type": "display_data"
    }
   ],
   "source": [
    "Node(16134,exp).show_source_image(rh.ts[-1],rh.ts[-1])"
   ]
  },
  {
   "cell_type": "code",
   "execution_count": 30,
   "metadata": {},
   "outputs": [],
   "source": [
    "edge = Edge(Node(16134,exp),Node(16141,exp),exp)"
   ]
  },
  {
   "cell_type": "code",
   "execution_count": 31,
   "metadata": {},
   "outputs": [
    {
     "data": {
      "text/plain": [
       "[65.71399411647921]"
      ]
     },
     "execution_count": 31,
     "metadata": {},
     "output_type": "execute_result"
    }
   ],
   "source": [
    "[get_length_um_edge(edge,t) for t in edge.ts()]"
   ]
  },
  {
   "cell_type": "code",
   "execution_count": 16,
   "metadata": {},
   "outputs": [
    {
     "data": {
      "text/plain": [
       "[Node(4432), Node(1612), Node(6735)]"
      ]
     },
     "execution_count": 16,
     "metadata": {},
     "output_type": "execute_result"
    }
   ],
   "source": [
    "Node(5857,exp).neighbours(rh.ts[-1])"
   ]
  },
  {
   "cell_type": "code",
   "execution_count": 5,
   "metadata": {},
   "outputs": [],
   "source": [
    "data = {}\n",
    "lapses = [1,2,3,4,5,6,7,8,9,10,11,12,13,14,15,16]\n",
    "curv_growths = []\n",
    "straight_distances = []\n",
    "lapses_time = []\n",
    "for lapse in lapses:\n",
    "    data[lapse]=[]\n",
    "    for rh in RH:\n",
    "        index = 0\n",
    "        for index in range(len(rh.ts)-lapse):\n",
    "            t = rh.ts[index]\n",
    "            tp1 = rh.ts[index + lapse]\n",
    "            pos = rh.end.pos(t)\n",
    "            pos_tp1 = rh.end.pos(tp1)\n",
    "            pixels, nodes = get_pixel_growth_and_new_children(rh, t, tp1)\n",
    "            count=len(nodes[1:-1]) \n",
    "            lapse_time = get_time(exp, t, tp1)\n",
    "            curv_growth = np.sum([get_length_um(seg) for seg in pixels])\n",
    "            if curv_growth/lapse_time>25:\n",
    "                straight_distance = np.linalg.norm(pos-pos_tp1)\n",
    "                inv_tortuosity = (straight_distance*1.725)/curv_growth\n",
    "                data[lapse].append((curv_growth,straight_distance))\n",
    "                curv_growths.append(curv_growth)\n",
    "                straight_distances.append(straight_distance)\n",
    "                lapses_time.append(lapse_time)"
   ]
  },
  {
   "cell_type": "code",
   "execution_count": 36,
   "metadata": {
    "collapsed": true,
    "jupyter": {
     "outputs_hidden": true
    }
   },
   "outputs": [
    {
     "data": {
      "application/vnd.jupyter.widget-view+json": {
       "model_id": "c1f53cf45ef34c3681dc3d14d3b5309a",
       "version_major": 2,
       "version_minor": 0
      },
      "text/plain": [
       "Canvas(toolbar=Toolbar(toolitems=[('Home', 'Reset original view', 'home', 'home'), ('Back', 'Back to previous …"
      ]
     },
     "metadata": {},
     "output_type": "display_data"
    },
    {
     "data": {
      "text/plain": [
       "<matplotlib.collections.PathCollection at 0x2b009dadac10>"
      ]
     },
     "execution_count": 36,
     "metadata": {},
     "output_type": "execute_result"
    }
   ],
   "source": [
    "fig=plt.figure(figsize=(8,8))\n",
    "ax = fig.add_subplot(111)\n",
    "ax.scatter(curv_growths,np.array(straight_distances)*1.725/np.array(curv_growths))"
   ]
  },
  {
   "cell_type": "code",
   "execution_count": 6,
   "metadata": {},
   "outputs": [],
   "source": [
    "data = pd.DataFrame(list(zip(curv_growths,straight_distances)),columns = ['curv_growth','straight_distance'])\n",
    "data['straight'] = data['straight_distance']*1.725/data['curv_growth']\n",
    "data['straight_scaled'] = data['straight_distance']*1.725/np.sqrt(data['curv_growth'])\n",
    "data['time'] = lapses_time\n",
    "data['straight_time'] = data['straight']/data['time']\n",
    "data['speed'] = data['curv_growth']/data['time']"
   ]
  },
  {
   "cell_type": "code",
   "execution_count": 7,
   "metadata": {},
   "outputs": [
    {
     "data": {
      "text/plain": [
       "21.0"
      ]
     },
     "execution_count": 7,
     "metadata": {},
     "output_type": "execute_result"
    }
   ],
   "source": [
    "np.max(data['time'])"
   ]
  },
  {
   "cell_type": "code",
   "execution_count": 8,
   "metadata": {},
   "outputs": [],
   "source": [
    "correct = data.loc[(data['straight']<1)& (data['speed']>150)& (data['speed']<400)]"
   ]
  },
  {
   "cell_type": "code",
   "execution_count": 10,
   "metadata": {},
   "outputs": [
    {
     "data": {
      "application/vnd.jupyter.widget-view+json": {
       "model_id": "fbcd4ba3755a4b85a23919aed36ec20c",
       "version_major": 2,
       "version_minor": 0
      },
      "text/plain": [
       "Canvas(toolbar=Toolbar(toolitems=[('Home', 'Reset original view', 'home', 'home'), ('Back', 'Back to previous …"
      ]
     },
     "metadata": {},
     "output_type": "display_data"
    },
    {
     "data": {
      "text/plain": [
       "[<matplotlib.lines.Line2D at 0x2aafa9094510>]"
      ]
     },
     "execution_count": 10,
     "metadata": {},
     "output_type": "execute_result"
    }
   ],
   "source": [
    "plt.close('all')\n",
    "abcisse = 'curv_growth'\n",
    "ordinate = 'straight'\n",
    "tab = correct\n",
    "baits_sort = tab.sort_values(abcisse)\n",
    "N=3000\n",
    "moving_av = baits_sort.rolling(N,min_periods=N//2).mean()\n",
    "moving_std = baits_sort.rolling(N,min_periods=N//2).std()\n",
    "\n",
    "fig=plt.figure(figsize=(8,8))\n",
    "ax = fig.add_subplot(111)\n",
    "ax.set_ylabel('straightness')\n",
    "\n",
    "ax.set_xlabel('curvilinear length ($\\mu m$)')\n",
    "# ax.set_xlim(-0.5,0.5)\n",
    "ax.set_ylim(0.96,1)\n",
    "# ax.set_xlim(-190,190)\n",
    "# slope, intercept, r_value, p_value, std_err = stats.linregress(densities_sort,np.abs(curvatures_sort))\n",
    "\n",
    "ax.scatter(correct[abcisse],correct[ordinate],alpha=0.3,c = correct['time'])\n",
    "ax.plot(moving_av[abcisse],moving_av[ordinate],color='green',label = 'moving average')\n",
    "ax.plot(moving_av[abcisse],(moving_av[ordinate]+moving_std[ordinate]/np.sqrt(N)),color='red',label = 'std')\n",
    "ax.plot(moving_av[abcisse],(moving_av[ordinate]-moving_std[ordinate]/np.sqrt(N)),color='red',label = 'std')"
   ]
  },
  {
   "cell_type": "code",
   "execution_count": 9,
   "metadata": {},
   "outputs": [
    {
     "name": "stderr",
     "output_type": "stream",
     "text": [
      "/home/cbisot/anaconda3/envs/test/lib/python3.7/site-packages/matplotlib/__init__.py:880: MatplotlibDeprecationWarning: \n",
      "nbagg.transparent\n",
      "  version, key, obj_type=\"rcparam\", alternative=alt_key)\n"
     ]
    },
    {
     "data": {
      "application/vnd.jupyter.widget-view+json": {
       "model_id": "617aa25d2f6b4b399eb880d5e4ce825a",
       "version_major": 2,
       "version_minor": 0
      },
      "text/plain": [
       "Canvas(toolbar=Toolbar(toolitems=[('Home', 'Reset original view', 'home', 'home'), ('Back', 'Back to previous …"
      ]
     },
     "metadata": {},
     "output_type": "display_data"
    },
    {
     "name": "stderr",
     "output_type": "stream",
     "text": [
      "/home/cbisot/anaconda3/envs/test/lib/python3.7/site-packages/matplotlib/cbook/__init__.py:1377: FutureWarning: Support for multi-dimensional indexing (e.g. `obj[:, None]`) is deprecated and will be removed in a future version.  Convert to a numpy array before indexing instead.\n",
      "  x[:, None]\n",
      "/home/cbisot/anaconda3/envs/test/lib/python3.7/site-packages/matplotlib/axes/_base.py:237: FutureWarning: Support for multi-dimensional indexing (e.g. `obj[:, None]`) is deprecated and will be removed in a future version.  Convert to a numpy array before indexing instead.\n",
      "  x = x[:, np.newaxis]\n",
      "/home/cbisot/anaconda3/envs/test/lib/python3.7/site-packages/matplotlib/axes/_base.py:239: FutureWarning: Support for multi-dimensional indexing (e.g. `obj[:, None]`) is deprecated and will be removed in a future version.  Convert to a numpy array before indexing instead.\n",
      "  y = y[:, np.newaxis]\n"
     ]
    },
    {
     "data": {
      "text/plain": [
       "[<matplotlib.lines.Line2D at 0x2aafa91f3d50>]"
      ]
     },
     "execution_count": 9,
     "metadata": {},
     "output_type": "execute_result"
    }
   ],
   "source": [
    "plt.close('all')\n",
    "abcisse = 'speed'\n",
    "ordinate = 'straight'\n",
    "tab = correct\n",
    "baits_sort = tab.sort_values(abcisse)\n",
    "N=1600\n",
    "moving_av = baits_sort.rolling(N,min_periods=N//2).mean()\n",
    "moving_std = baits_sort.rolling(N,min_periods=N//2).std()\n",
    "\n",
    "fig=plt.figure(figsize=(8,8))\n",
    "ax = fig.add_subplot(111)\n",
    "ax.set_xlabel('inverse density ($mm.mm^{-2}$)')\n",
    "\n",
    "ax.set_ylabel('normalised scalar product speed.density gradient')\n",
    "# ax.set_xlim(-0.5,0.5)\n",
    "# ax.set_ylim(-0.5,0.5)\n",
    "# ax.set_xlim(-190,190)\n",
    "# slope, intercept, r_value, p_value, std_err = stats.linregress(densities_sort,np.abs(curvatures_sort))\n",
    "\n",
    "ax.scatter(correct[abcisse],correct[ordinate],alpha=0.3,c = correct['time'])\n",
    "ax.plot(moving_av[abcisse],moving_av[ordinate],color='green',label = 'moving average')\n",
    "ax.plot(moving_av[abcisse],(moving_av[ordinate]+moving_std[ordinate]/np.sqrt(N)),color='red',label = 'std')\n",
    "ax.plot(moving_av[abcisse],(moving_av[ordinate]-moving_std[ordinate]/np.sqrt(N)),color='red',label = 'std')"
   ]
  },
  {
   "cell_type": "code",
   "execution_count": 16,
   "metadata": {},
   "outputs": [
    {
     "data": {
      "text/html": [
       "<div>\n",
       "<style scoped>\n",
       "    .dataframe tbody tr th:only-of-type {\n",
       "        vertical-align: middle;\n",
       "    }\n",
       "\n",
       "    .dataframe tbody tr th {\n",
       "        vertical-align: top;\n",
       "    }\n",
       "\n",
       "    .dataframe thead th {\n",
       "        text-align: right;\n",
       "    }\n",
       "</style>\n",
       "<table border=\"1\" class=\"dataframe\">\n",
       "  <thead>\n",
       "    <tr style=\"text-align: right;\">\n",
       "      <th></th>\n",
       "      <th>curv_growth</th>\n",
       "      <th>straight_distance</th>\n",
       "      <th>straight</th>\n",
       "      <th>straight_scaled</th>\n",
       "      <th>time</th>\n",
       "      <th>straight_time</th>\n",
       "      <th>speed</th>\n",
       "    </tr>\n",
       "  </thead>\n",
       "  <tbody>\n",
       "    <tr>\n",
       "      <th>0</th>\n",
       "      <td>261.436548</td>\n",
       "      <td>151.029798</td>\n",
       "      <td>0.996519</td>\n",
       "      <td>16.112710</td>\n",
       "      <td>1.000000</td>\n",
       "      <td>0.996519</td>\n",
       "      <td>261.436548</td>\n",
       "    </tr>\n",
       "    <tr>\n",
       "      <th>1</th>\n",
       "      <td>264.731835</td>\n",
       "      <td>153.323188</td>\n",
       "      <td>0.999058</td>\n",
       "      <td>16.255258</td>\n",
       "      <td>1.000000</td>\n",
       "      <td>0.999058</td>\n",
       "      <td>264.731835</td>\n",
       "    </tr>\n",
       "    <tr>\n",
       "      <th>2</th>\n",
       "      <td>271.695566</td>\n",
       "      <td>157.257750</td>\n",
       "      <td>0.998432</td>\n",
       "      <td>16.457349</td>\n",
       "      <td>0.983333</td>\n",
       "      <td>1.015355</td>\n",
       "      <td>276.300575</td>\n",
       "    </tr>\n",
       "    <tr>\n",
       "      <th>3</th>\n",
       "      <td>246.001090</td>\n",
       "      <td>142.003521</td>\n",
       "      <td>0.995752</td>\n",
       "      <td>15.617794</td>\n",
       "      <td>1.000000</td>\n",
       "      <td>0.995752</td>\n",
       "      <td>246.001090</td>\n",
       "    </tr>\n",
       "    <tr>\n",
       "      <th>7</th>\n",
       "      <td>248.937756</td>\n",
       "      <td>143.694120</td>\n",
       "      <td>0.995720</td>\n",
       "      <td>15.710236</td>\n",
       "      <td>1.000000</td>\n",
       "      <td>0.995720</td>\n",
       "      <td>248.937756</td>\n",
       "    </tr>\n",
       "    <tr>\n",
       "      <th>...</th>\n",
       "      <td>...</td>\n",
       "      <td>...</td>\n",
       "      <td>...</td>\n",
       "      <td>...</td>\n",
       "      <td>...</td>\n",
       "      <td>...</td>\n",
       "      <td>...</td>\n",
       "    </tr>\n",
       "    <tr>\n",
       "      <th>26730</th>\n",
       "      <td>3567.965315</td>\n",
       "      <td>2043.160542</td>\n",
       "      <td>0.987804</td>\n",
       "      <td>59.003976</td>\n",
       "      <td>16.000000</td>\n",
       "      <td>0.061738</td>\n",
       "      <td>222.997832</td>\n",
       "    </tr>\n",
       "    <tr>\n",
       "      <th>26734</th>\n",
       "      <td>3801.541572</td>\n",
       "      <td>2181.430036</td>\n",
       "      <td>0.989853</td>\n",
       "      <td>61.031004</td>\n",
       "      <td>16.000000</td>\n",
       "      <td>0.061866</td>\n",
       "      <td>237.596348</td>\n",
       "    </tr>\n",
       "    <tr>\n",
       "      <th>26735</th>\n",
       "      <td>3975.449970</td>\n",
       "      <td>2236.633184</td>\n",
       "      <td>0.970505</td>\n",
       "      <td>61.191446</td>\n",
       "      <td>16.000000</td>\n",
       "      <td>0.060657</td>\n",
       "      <td>248.465623</td>\n",
       "    </tr>\n",
       "    <tr>\n",
       "      <th>26740</th>\n",
       "      <td>3011.331538</td>\n",
       "      <td>1731.276119</td>\n",
       "      <td>0.991738</td>\n",
       "      <td>54.422207</td>\n",
       "      <td>16.000000</td>\n",
       "      <td>0.061984</td>\n",
       "      <td>188.208221</td>\n",
       "    </tr>\n",
       "    <tr>\n",
       "      <th>26741</th>\n",
       "      <td>3292.104482</td>\n",
       "      <td>1893.906545</td>\n",
       "      <td>0.992371</td>\n",
       "      <td>56.939132</td>\n",
       "      <td>16.000000</td>\n",
       "      <td>0.062023</td>\n",
       "      <td>205.756530</td>\n",
       "    </tr>\n",
       "  </tbody>\n",
       "</table>\n",
       "<p>18452 rows × 7 columns</p>\n",
       "</div>"
      ],
      "text/plain": [
       "       curv_growth  straight_distance  straight  straight_scaled       time  \\\n",
       "0       261.436548         151.029798  0.996519        16.112710   1.000000   \n",
       "1       264.731835         153.323188  0.999058        16.255258   1.000000   \n",
       "2       271.695566         157.257750  0.998432        16.457349   0.983333   \n",
       "3       246.001090         142.003521  0.995752        15.617794   1.000000   \n",
       "7       248.937756         143.694120  0.995720        15.710236   1.000000   \n",
       "...            ...                ...       ...              ...        ...   \n",
       "26730  3567.965315        2043.160542  0.987804        59.003976  16.000000   \n",
       "26734  3801.541572        2181.430036  0.989853        61.031004  16.000000   \n",
       "26735  3975.449970        2236.633184  0.970505        61.191446  16.000000   \n",
       "26740  3011.331538        1731.276119  0.991738        54.422207  16.000000   \n",
       "26741  3292.104482        1893.906545  0.992371        56.939132  16.000000   \n",
       "\n",
       "       straight_time       speed  \n",
       "0           0.996519  261.436548  \n",
       "1           0.999058  264.731835  \n",
       "2           1.015355  276.300575  \n",
       "3           0.995752  246.001090  \n",
       "7           0.995720  248.937756  \n",
       "...              ...         ...  \n",
       "26730       0.061738  222.997832  \n",
       "26734       0.061866  237.596348  \n",
       "26735       0.060657  248.465623  \n",
       "26740       0.061984  188.208221  \n",
       "26741       0.062023  205.756530  \n",
       "\n",
       "[18452 rows x 7 columns]"
      ]
     },
     "execution_count": 16,
     "metadata": {},
     "output_type": "execute_result"
    }
   ],
   "source": [
    "tab"
   ]
  },
  {
   "cell_type": "code",
   "execution_count": 75,
   "metadata": {},
   "outputs": [],
   "source": [
    "roots_new_branch = []\n",
    "total_growth = 0\n",
    "counts =[]\n",
    "speed_ratios = []\n",
    "lapses = []\n",
    "roots = [rh.root for rh in RH]\n",
    "lag = 1 \n",
    "for lapse in [1]:\n",
    "    for rh in RH:\n",
    "        index = 0\n",
    "        while index < (len(rh.ts)):\n",
    "            if index+lapse+lag<len(rh.ts):\n",
    "                t = rh.ts[index]\n",
    "                tp1 = rh.ts[index + lapse]\n",
    "                pixels, nodes = get_pixel_growth_and_new_children(rh, t, tp1)\n",
    "                count=len(nodes[1:-1]) \n",
    "                if count==0:\n",
    "                    t = rh.ts[index]\n",
    "                    tp1 = rh.ts[index + 1]\n",
    "                    pixels, nodes = get_pixel_growth_and_new_children(rh, t, tp1)\n",
    "                    lapse_time = get_time(exp, t, tp1)\n",
    "                    speed_init = np.sum([get_length_um(seg) for seg in pixels])/lapse_time\n",
    "                    t0 = rh.ts[index+lapse]\n",
    "                    t0p1 = rh.ts[index + lapse+lag]\n",
    "                    pixels, nodes = get_pixel_growth_and_new_children(rh, t0, t0p1)\n",
    "                    lapse_time = get_time(exp, t0, t0p1)\n",
    "                    speed_after = np.sum([get_length_um(seg) for seg in pixels])/lapse_time\n",
    "                    if speed_after>100 and speed_init>100:\n",
    "                        counts.append(count)\n",
    "                        speed_ratios.append(speed_after/speed_init)\n",
    "                    index+= lapse\n",
    "            index +=1"
   ]
  },
  {
   "cell_type": "code",
   "execution_count": 77,
   "metadata": {},
   "outputs": [],
   "source": [
    "roots_new_branch = []\n",
    "total_growth = 0\n",
    "counts =[]\n",
    "speed_ratios2 = []\n",
    "lapses = []\n",
    "roots = [rh.root for rh in RH]\n",
    "lag = 1\n",
    "for lapse in [1]:\n",
    "    for rh in RH:\n",
    "        index = 0\n",
    "        while index < (len(rh.ts)):\n",
    "            if index+lapse+lag<len(rh.ts):\n",
    "                t = rh.ts[index]\n",
    "                tp1 = rh.ts[index + lapse]\n",
    "                pixels, nodes = get_pixel_growth_and_new_children(rh, t, tp1)\n",
    "                count=len(nodes[1:-1]) \n",
    "                if count==1:\n",
    "                    t = rh.ts[index]\n",
    "                    tp1 = rh.ts[index + 1]\n",
    "                    pixels, nodes = get_pixel_growth_and_new_children(rh, t, tp1)\n",
    "                    lapse_time = get_time(exp, t, tp1)\n",
    "                    speed_init = np.sum([get_length_um(seg) for seg in pixels])/lapse_time\n",
    "                    t0 = rh.ts[index+lapse]\n",
    "                    t0p1 = rh.ts[index + lapse+lag]\n",
    "                    pixels, nodes = get_pixel_growth_and_new_children(rh, t0, t0p1)\n",
    "                    lapse_time = get_time(exp, t0, t0p1)\n",
    "                    speed_after = np.sum([get_length_um(seg) for seg in pixels])/lapse_time\n",
    "                    if speed_after>100 and speed_init>100:\n",
    "                        counts.append(count)\n",
    "                        speed_ratios2.append(speed_after/speed_init)\n",
    "                    index+= lapse\n",
    "            index +=1"
   ]
  },
  {
   "cell_type": "code",
   "execution_count": 78,
   "metadata": {
    "collapsed": true,
    "jupyter": {
     "outputs_hidden": true
    }
   },
   "outputs": [
    {
     "data": {
      "application/vnd.jupyter.widget-view+json": {
       "model_id": "64e9273136604bad85a03acaf9bde1ed",
       "version_major": 2,
       "version_minor": 0
      },
      "text/plain": [
       "Canvas(toolbar=Toolbar(toolitems=[('Home', 'Reset original view', 'home', 'home'), ('Back', 'Back to previous …"
      ]
     },
     "metadata": {},
     "output_type": "display_data"
    },
    {
     "data": {
      "text/plain": [
       "(array([ 5.,  8.,  4.,  7.,  9.,  8., 11., 27., 64., 61., 30., 21., 12.,\n",
       "         4.,  0.,  3.,  1.,  2.,  0.,  1.]),\n",
       " array([0.36922634, 0.44160127, 0.51397621, 0.58635115, 0.65872609,\n",
       "        0.73110103, 0.80347597, 0.87585091, 0.94822585, 1.02060079,\n",
       "        1.09297573, 1.16535067, 1.23772561, 1.31010055, 1.38247549,\n",
       "        1.45485043, 1.52722537, 1.59960031, 1.67197525, 1.74435019,\n",
       "        1.81672513]),\n",
       " <a list of 20 Patch objects>)"
      ]
     },
     "execution_count": 78,
     "metadata": {},
     "output_type": "execute_result"
    }
   ],
   "source": [
    "fig=plt.figure(figsize=(8,8))\n",
    "ax = fig.add_subplot(111)\n",
    "ax.hist(speed_ratios,20)"
   ]
  },
  {
   "cell_type": "code",
   "execution_count": 79,
   "metadata": {},
   "outputs": [
    {
     "data": {
      "text/plain": [
       "(278, 1.0178450293319536, 0.012873430520369749)"
      ]
     },
     "execution_count": 79,
     "metadata": {},
     "output_type": "execute_result"
    }
   ],
   "source": [
    "len(speed_ratios),np.median(speed_ratios),np.std(speed_ratios)/np.sqrt(len(speed_ratios))"
   ]
  },
  {
   "cell_type": "code",
   "execution_count": 80,
   "metadata": {},
   "outputs": [
    {
     "data": {
      "text/plain": [
       "(217, 1.012384783370696, 0.015038422391621915)"
      ]
     },
     "execution_count": 80,
     "metadata": {},
     "output_type": "execute_result"
    }
   ],
   "source": [
    "len(speed_ratios2),np.median(speed_ratios2),np.std(speed_ratios2)/np.sqrt(len(speed_ratios2))"
   ]
  },
  {
   "cell_type": "code",
   "execution_count": 81,
   "metadata": {},
   "outputs": [
    {
     "data": {
      "application/vnd.jupyter.widget-view+json": {
       "model_id": "c96585f0299743d9aaeedd5875b7702d",
       "version_major": 2,
       "version_minor": 0
      },
      "text/plain": [
       "Canvas(toolbar=Toolbar(toolitems=[('Home', 'Reset original view', 'home', 'home'), ('Back', 'Back to previous …"
      ]
     },
     "metadata": {},
     "output_type": "display_data"
    },
    {
     "data": {
      "text/plain": [
       "<matplotlib.legend.Legend at 0x2b75eab24e90>"
      ]
     },
     "execution_count": 81,
     "metadata": {},
     "output_type": "execute_result"
    }
   ],
   "source": [
    "\n",
    "\n",
    "fig = plt.figure()\n",
    "bins = np.linspace(0.4, 1.6, 40)\n",
    "ax = fig.add_subplot(111)\n",
    "ax.hist(speed_ratios,bins,alpha=0.5,label='no branching',density=True)\n",
    "ax.hist(speed_ratios2,bins,alpha=0.5,label='branching',density=True)\n",
    "\n",
    "ax.set_xlabel(r'new_speed/former_speedr ratio')\n",
    "plt.legend(loc='upper right')"
   ]
  },
  {
   "cell_type": "code",
   "execution_count": 59,
   "metadata": {},
   "outputs": [
    {
     "data": {
      "application/vnd.jupyter.widget-view+json": {
       "model_id": "f177a4e33f354d79b907969cfd2209c3",
       "version_major": 2,
       "version_minor": 0
      },
      "text/plain": [
       "Canvas(toolbar=Toolbar(toolitems=[('Home', 'Reset original view', 'home', 'home'), ('Back', 'Back to previous …"
      ]
     },
     "metadata": {},
     "output_type": "display_data"
    },
    {
     "data": {
      "text/plain": [
       "(array([ 1.,  2.,  5.,  3.,  9.,  8.,  4., 10., 10., 27., 54., 35., 28.,\n",
       "        17.,  8.,  6.,  4.,  1.,  2.,  1.]),\n",
       " array([0.41220617, 0.46804189, 0.52387762, 0.57971334, 0.63554906,\n",
       "        0.69138479, 0.74722051, 0.80305623, 0.85889196, 0.91472768,\n",
       "        0.9705634 , 1.02639913, 1.08223485, 1.13807057, 1.1939063 ,\n",
       "        1.24974202, 1.30557774, 1.36141347, 1.41724919, 1.47308491,\n",
       "        1.52892064]),\n",
       " <a list of 20 Patch objects>)"
      ]
     },
     "execution_count": 59,
     "metadata": {},
     "output_type": "execute_result"
    }
   ],
   "source": [
    "fig=plt.figure(figsize=(8,8))\n",
    "ax = fig.add_subplot(111)\n",
    "ax.hist(speed_ratios2,20)"
   ]
  },
  {
   "cell_type": "code",
   "execution_count": 3,
   "metadata": {},
   "outputs": [],
   "source": [
    "exp.load_compressed_skel()"
   ]
  },
  {
   "cell_type": "code",
   "execution_count": 105,
   "metadata": {},
   "outputs": [],
   "source": [
    "directory = directory_project\n",
    "\n",
    "plate_number = 94\n",
    "plate = get_postion_number(plate_number)\n",
    "begin = 269\n",
    "end = 329\n",
    "dates_datetime = get_dates_datetime(directory,plate)\n",
    "dates = dates_datetime[begin:end+1]\n",
    "exp2 = Experiment(plate,directory)\n",
    "exp2.load(dates) #for method 2"
   ]
  },
  {
   "cell_type": "code",
   "execution_count": 3,
   "metadata": {},
   "outputs": [],
   "source": [
    "def get_time(dates_datetimes,i,j):\n",
    "    seconds = (dates_datetimes[j]-dates_datetimes[i]).total_seconds()\n",
    "    return(seconds/3600)"
   ]
  },
  {
   "cell_type": "code",
   "execution_count": 3,
   "metadata": {},
   "outputs": [],
   "source": [
    "inst = (39,269,329)\n",
    "directory = directory_project\n",
    "plate,begin,end = inst\n",
    "dates_datetime = get_dates_datetime(directory,plate)\n",
    "dates_datetime_chosen=dates_datetime[begin:end+1]\n",
    "dates = [f'{0 if date.month<10 else \"\"}{date.month}{0 if date.day<10 else \"\"}{date.day}_{0 if date.hour<10 else \"\"}{date.hour}{0 if date.minute<10 else \"\"}{date.minute}' for date in dates_datetime_chosen]\n",
    "skels = []\n",
    "ims = []\n",
    "kernel = np.ones((5,5),np.uint8)\n",
    "itera = 1\n",
    "for date in dates:\n",
    "    directory_name=f'2020{date}_Plate{0 if plate<10 else \"\"}{plate}'\n",
    "    path_snap=directory+directory_name\n",
    "    skel_info = read_mat(path_snap+'/Analysis/skeleton_pruned_compressed.mat')\n",
    "    skel = skel_info['skeleton']\n",
    "    skels.append(cv2.dilate(skel.astype(np.uint8),kernel,iterations = itera))\n",
    "    im = read_mat(path_snap+'/Analysis/raw_image.mat')['raw']\n",
    "    ims.append(im)"
   ]
  },
  {
   "cell_type": "code",
   "execution_count": 13,
   "metadata": {},
   "outputs": [
    {
     "data": {
      "application/vnd.jupyter.widget-view+json": {
       "model_id": "32c415b524a3418ba0cdea80d979af4c",
       "version_major": 2,
       "version_minor": 0
      },
      "text/plain": [
       "Canvas(toolbar=Toolbar(toolitems=[('Home', 'Reset original view', 'home', 'home'), ('Back', 'Back to previous …"
      ]
     },
     "metadata": {},
     "output_type": "display_data"
    }
   ],
   "source": [
    "i=10\n",
    "boundaries=(2800,3700,3100,4200)\n",
    "\n",
    "to_plot = ims[i][boundaries[0]:boundaries[1],boundaries[2]:boundaries[3]]\n",
    "plot_t_tp1([], [], None, None, to_plot*0, to_plot,time=f't = {int(get_time(dates_datetime_chosen,0,i))}h')"
   ]
  },
  {
   "cell_type": "code",
   "execution_count": 14,
   "metadata": {},
   "outputs": [
    {
     "data": {
      "application/vnd.jupyter.widget-view+json": {
       "model_id": "8c0fde2f96a540e18cea3c64f915d0f3",
       "version_major": 2,
       "version_minor": 0
      },
      "text/plain": [
       "Canvas(toolbar=Toolbar(toolitems=[('Home', 'Reset original view', 'home', 'home'), ('Back', 'Back to previous …"
      ]
     },
     "metadata": {},
     "output_type": "display_data"
    }
   ],
   "source": [
    "start=0\n",
    "finish = end-begin\n",
    "boundaries=(2800,3700,3100,4200)\n",
    "for i in range(start,finish):\n",
    "    to_plot = ims[i][boundaries[0]:boundaries[1],boundaries[2]:boundaries[3]]\n",
    "    plt.close('all')\n",
    "    clear_output(wait=True)\n",
    "    plot_t_tp1([], [], None, None, to_plot*0, to_plot, save=f'/home/cbisot/pycode/MscThesis/sample/notebooks/plotting/Figure/im{i}',time=f't = {int(get_time(dates_datetime_chosen,0,i))}h')\n",
    "img_array = []\n",
    "for t in range(start,finish):\n",
    "    img = cv2.imread(f'/home/cbisot/pycode/MscThesis/sample/notebooks/plotting/Figure/im{t}.png')\n",
    "    img_array.append(img)\n",
    "plate_label = plate_number[inst] \n",
    "imageio.mimsave(f'/home/cbisot/pycode/MscThesis/sample/notebooks/plotting/Figure/movie_close_up{plate_label}temp_ {begin}_{end}_{dates[start]}_{dates[finish]}.gif', img_array,duration = 1)"
   ]
  },
  {
   "cell_type": "code",
   "execution_count": 8,
   "metadata": {},
   "outputs": [],
   "source": [
    "plate_label = plate_number[inst] \n",
    "imageio.mimsave(f'/home/cbisot/pycode/MscThesis/sample/notebooks/plotting/Figure/movie_close_up{plate_label}temp_ {begin}_{end}_{dates[start]}_{dates[finish]}.gif', img_array,duration = 1)"
   ]
  },
  {
   "cell_type": "code",
   "execution_count": 4,
   "metadata": {},
   "outputs": [],
   "source": [
    "problems = []\n",
    "for rh in RH:\n",
    "    roots = []\n",
    "    hyph = rh\n",
    "    tip  =hyph.end\n",
    "    for t in tip.ts():\n",
    "        #             print(t,tip)\n",
    "        if tip.degree(t) == 1:\n",
    "            root, edges, nodes = hyph.get_edges(t, 200)\n",
    "            roots.append(root)\n",
    "    occurence_count = Counter(roots)\n",
    "    if occurence_count.most_common(2)[0][0]!=rh.root:\n",
    "        problems.append(rh)"
   ]
  },
  {
   "cell_type": "code",
   "execution_count": 5,
   "metadata": {},
   "outputs": [
    {
     "data": {
      "text/plain": [
       "(17, 175)"
      ]
     },
     "execution_count": 5,
     "metadata": {},
     "output_type": "execute_result"
    }
   ],
   "source": [
    "len(problems),len(RH)"
   ]
  },
  {
   "cell_type": "code",
   "execution_count": 6,
   "metadata": {},
   "outputs": [
    {
     "data": {
      "text/plain": [
       "Hyphae(8135,8193)"
      ]
     },
     "execution_count": 6,
     "metadata": {},
     "output_type": "execute_result"
    }
   ],
   "source": [
    "rh = choice(problems)\n",
    "rh"
   ]
  },
  {
   "cell_type": "code",
   "execution_count": 9,
   "metadata": {},
   "outputs": [
    {
     "data": {
      "text/plain": [
       "([21, 22], [21, 22, 23, 24, 25], [22, 23, 24, 25])"
      ]
     },
     "execution_count": 9,
     "metadata": {},
     "output_type": "execute_result"
    }
   ],
   "source": [
    "rh.ts,rh.end.ts(),occurence_count.most_common(2)[0][0].ts()"
   ]
  },
  {
   "cell_type": "code",
   "execution_count": 8,
   "metadata": {},
   "outputs": [
    {
     "data": {
      "text/plain": [
       "Counter({Node(8138): 1, Node(9062): 1, Node(8999): 2})"
      ]
     },
     "execution_count": 8,
     "metadata": {},
     "output_type": "execute_result"
    }
   ],
   "source": [
    "roots = []\n",
    "hyph = rh\n",
    "tip  =hyph.end\n",
    "for t in rh.end.ts():\n",
    "    #             print(t,tip)\n",
    "    if tip.degree(t) == 1:\n",
    "        root, edges, nodes = hyph.get_edges(t, 200)\n",
    "        roots.append(root)\n",
    "occurence_count = Counter(roots)\n",
    "occurence_count"
   ]
  },
  {
   "cell_type": "code",
   "execution_count": 11,
   "metadata": {},
   "outputs": [
    {
     "data": {
      "application/vnd.jupyter.widget-view+json": {
       "model_id": "58020682da3c4217855ba0409b8e0d01",
       "version_major": 2,
       "version_minor": 0
      },
      "text/plain": [
       "Canvas(toolbar=Toolbar(toolitems=[('Home', 'Reset original view', 'home', 'home'), ('Back', 'Back to previous …"
      ]
     },
     "metadata": {},
     "output_type": "display_data"
    }
   ],
   "source": [
    "plt.close('all')\n",
    "plot_raw_plus(exp,rh.ts[0]+1,[rh.end.label,rh.root.label]+[occurence_count.most_common(2)[0][0].label])"
   ]
  },
  {
   "cell_type": "code",
   "execution_count": 32,
   "metadata": {},
   "outputs": [
    {
     "data": {
      "application/vnd.jupyter.widget-view+json": {
       "model_id": "47fc53dbdbcd48dcb3a7e906f188060e",
       "version_major": 2,
       "version_minor": 0
      },
      "text/plain": [
       "Canvas(toolbar=Toolbar(toolitems=[('Home', 'Reset original view', 'home', 'home'), ('Back', 'Back to previous …"
      ]
     },
     "metadata": {},
     "output_type": "display_data"
    }
   ],
   "source": [
    "exp.plot([rh.ts[0]],[[rh.end.label,rh.root.label]+[occurence_count.most_common(2)[0][0].label]])"
   ]
  },
  {
   "cell_type": "code",
   "execution_count": 8,
   "metadata": {},
   "outputs": [
    {
     "ename": "NameError",
     "evalue": "name 'select' is not defined",
     "output_type": "error",
     "traceback": [
      "\u001b[0;31m---------------------------------------------------------------------------\u001b[0m",
      "\u001b[0;31mNameError\u001b[0m                                 Traceback (most recent call last)",
      "\u001b[0;32m<ipython-input-8-8a5697b14253>\u001b[0m in \u001b[0;36m<module>\u001b[0;34m\u001b[0m\n\u001b[0;32m----> 1\u001b[0;31m \u001b[0mrh\u001b[0m \u001b[0;34m=\u001b[0m \u001b[0mchoice\u001b[0m\u001b[0;34m(\u001b[0m\u001b[0mselect\u001b[0m\u001b[0;34m)\u001b[0m\u001b[0;34m\u001b[0m\u001b[0;34m\u001b[0m\u001b[0m\n\u001b[0m\u001b[1;32m      2\u001b[0m \u001b[0mrh\u001b[0m\u001b[0;34m.\u001b[0m\u001b[0mmother\u001b[0m\u001b[0;34m,\u001b[0m\u001b[0mrh\u001b[0m\u001b[0;34m,\u001b[0m\u001b[0mrh\u001b[0m\u001b[0;34m.\u001b[0m\u001b[0mts\u001b[0m\u001b[0;34m\u001b[0m\u001b[0;34m\u001b[0m\u001b[0m\n",
      "\u001b[0;31mNameError\u001b[0m: name 'select' is not defined"
     ]
    }
   ],
   "source": [
    "rh = choice(select)\n",
    "rh.mother,rh,rh.ts"
   ]
  },
  {
   "cell_type": "code",
   "execution_count": 7,
   "metadata": {},
   "outputs": [
    {
     "ename": "NameError",
     "evalue": "name 'exp2' is not defined",
     "output_type": "error",
     "traceback": [
      "\u001b[0;31m---------------------------------------------------------------------------\u001b[0m",
      "\u001b[0;31mNameError\u001b[0m                                 Traceback (most recent call last)",
      "\u001b[0;32m<ipython-input-7-1be7e696a15c>\u001b[0m in \u001b[0;36m<module>\u001b[0;34m\u001b[0m\n\u001b[1;32m      1\u001b[0m \u001b[0mroots\u001b[0m \u001b[0;34m=\u001b[0m \u001b[0;34m[\u001b[0m\u001b[0;34m]\u001b[0m\u001b[0;34m\u001b[0m\u001b[0;34m\u001b[0m\u001b[0m\n\u001b[1;32m      2\u001b[0m \u001b[0mhyph\u001b[0m \u001b[0;34m=\u001b[0m \u001b[0mrh\u001b[0m\u001b[0;34m.\u001b[0m\u001b[0mmother\u001b[0m\u001b[0;34m[\u001b[0m\u001b[0;36m0\u001b[0m\u001b[0;34m]\u001b[0m\u001b[0;34m\u001b[0m\u001b[0;34m\u001b[0m\u001b[0m\n\u001b[0;32m----> 3\u001b[0;31m \u001b[0mtip\u001b[0m  \u001b[0;34m=\u001b[0m\u001b[0mNode\u001b[0m\u001b[0;34m(\u001b[0m\u001b[0mhyph\u001b[0m\u001b[0;34m.\u001b[0m\u001b[0mend\u001b[0m\u001b[0;34m.\u001b[0m\u001b[0mlabel\u001b[0m\u001b[0;34m,\u001b[0m\u001b[0mexp2\u001b[0m\u001b[0;34m)\u001b[0m\u001b[0;34m\u001b[0m\u001b[0;34m\u001b[0m\u001b[0m\n\u001b[0m\u001b[1;32m      4\u001b[0m \u001b[0mhypha\u001b[0m \u001b[0;34m=\u001b[0m \u001b[0mHyphae\u001b[0m\u001b[0;34m(\u001b[0m\u001b[0mtip\u001b[0m\u001b[0;34m)\u001b[0m\u001b[0;34m\u001b[0m\u001b[0;34m\u001b[0m\u001b[0m\n\u001b[1;32m      5\u001b[0m \u001b[0;32mfor\u001b[0m \u001b[0mt\u001b[0m \u001b[0;32min\u001b[0m \u001b[0mtip\u001b[0m\u001b[0;34m.\u001b[0m\u001b[0mts\u001b[0m\u001b[0;34m(\u001b[0m\u001b[0;34m)\u001b[0m\u001b[0;34m:\u001b[0m\u001b[0;34m\u001b[0m\u001b[0;34m\u001b[0m\u001b[0m\n",
      "\u001b[0;31mNameError\u001b[0m: name 'exp2' is not defined"
     ]
    }
   ],
   "source": [
    "roots = []\n",
    "hyph = rh.mother[0]\n",
    "tip  =Node(hyph.end.label,exp2)\n",
    "hypha = Hyphae(tip)\n",
    "for t in tip.ts():\n",
    "    #             print(t,tip)\n",
    "    if tip.degree(t) == 1:\n",
    "        root, edges, nodes = hypha.get_edges(t, 200)\n",
    "        roots.append(root)\n",
    "occurence_count = Counter(roots)\n",
    "occurence_count"
   ]
  },
  {
   "cell_type": "code",
   "execution_count": 8,
   "metadata": {},
   "outputs": [
    {
     "data": {
      "text/plain": [
       "Counter({Node(5243): 2, Node(4144): 1})"
      ]
     },
     "execution_count": 8,
     "metadata": {},
     "output_type": "execute_result"
    }
   ],
   "source": [
    "roots = []\n",
    "hyph = rh.mother[0]\n",
    "tip  =hyph.end\n",
    "for t in tip.ts():\n",
    "    #             print(t,tip)\n",
    "    if tip.degree(t) == 1:\n",
    "        root, edges, nodes = hyph.get_edges(t, 200)\n",
    "        roots.append(root)\n",
    "occurence_count = Counter(roots)\n",
    "occurence_count"
   ]
  },
  {
   "cell_type": "code",
   "execution_count": 6,
   "metadata": {},
   "outputs": [
    {
     "data": {
      "text/plain": [
       "48"
      ]
     },
     "execution_count": 6,
     "metadata": {},
     "output_type": "execute_result"
    }
   ],
   "source": [
    "len(problems)"
   ]
  },
  {
   "cell_type": "code",
   "execution_count": 5,
   "metadata": {},
   "outputs": [
    {
     "data": {
      "text/plain": [
       "0"
      ]
     },
     "execution_count": 5,
     "metadata": {},
     "output_type": "execute_result"
    }
   ],
   "source": [
    "len(problems)"
   ]
  },
  {
   "cell_type": "code",
   "execution_count": 3,
   "metadata": {
    "collapsed": true,
    "jupyter": {
     "outputs_hidden": true
    }
   },
   "outputs": [
    {
     "name": "stdout",
     "output_type": "stream",
     "text": [
      "0.0\n",
      "0.055233360950013806\n",
      "0.11046672190002761\n",
      "0.16570008285004142\n",
      "0.22093344380005522\n",
      "0.27616680475006905\n",
      "0.33140016570008285\n",
      "0.38663352665009665\n",
      "0.44186688760011045\n",
      "0.4971002485501243\n",
      "0.5523336095001381\n",
      "0.6075669704501518\n",
      "0.6628003314001657\n",
      "0.7180336923501796\n",
      "0.7732670533001933\n",
      "0.8285004142502072\n",
      "0.8837337752002209\n",
      "0.9389671361502347\n",
      "0.9942004971002486\n",
      "Detected problems during hyphae detection, 83 hyphaes have inconsistent root over time\n",
      "removing  210  nodes out of 8985 because they appear only in one timestep and are not within an identified hypha\n",
      "[45.888564]\n",
      "[1.136003, 37.595403]\n",
      "[57.012361]\n",
      "[61.589241]\n",
      "[69.797028]\n",
      "[72.570175]\n",
      "[79.39028]\n",
      "[82.292056]\n",
      "[88.018915]\n",
      "[93.215148]\n",
      "[94.431121]\n",
      "[102.698136]\n",
      "[107.651592]\n",
      "[114.85416]\n",
      "[124.033512]\n",
      "[135.147506]\n",
      "[142.897725]\n",
      "[149.376738]\n",
      "[152.434632]\n",
      "[161.84289]\n",
      "[173.575468]\n",
      "[188.503416]\n",
      "[191.833005]\n",
      "[206.577216]\n",
      "[220.747472]\n",
      "[239.920172]\n",
      "[264.566085]\n",
      "[273.541532]\n",
      "[297.374064]\n",
      "[318.481112]\n",
      "[339.248447]\n",
      "[361.865686]\n",
      "[383.728288]\n",
      "[407.257764]\n",
      "[444.276786]\n",
      "[486.961488]\n",
      "[524.621122]\n",
      "[549.25884]\n",
      "[591.268884]\n",
      "[631.585776]\n",
      "[693.346848]\n",
      "[756.253179]\n",
      "[806.631228]\n",
      "[879.81795]\n",
      "[935.704215]\n",
      "[1009.283848]\n",
      "[1070.969418]\n",
      "[1145.521068]\n",
      "[1240.83036]\n",
      "[1434.859519]\n",
      "[1566.979894]\n",
      "[1630.468332]\n",
      "[1781.557925]\n",
      "[1848.322794]\n",
      "[1935.008775]\n",
      "[2063.372756]\n",
      "[2154.598056]\n",
      "[2311.40712]\n",
      "[2436.200235]\n",
      "[2511.201446]\n",
      "[2821.710615]\n",
      "0.0\n",
      "0.055632823365785816\n",
      "0.11126564673157163\n",
      "0.16689847009735745\n",
      "0.22253129346314326\n",
      "0.27816411682892905\n",
      "0.3337969401947149\n",
      "0.3894297635605007\n",
      "0.44506258692628653\n",
      "0.5006954102920723\n",
      "0.5563282336578581\n",
      "0.6119610570236439\n",
      "0.6675938803894298\n",
      "0.7232267037552156\n",
      "0.7788595271210014\n",
      "0.8344923504867872\n",
      "0.8901251738525731\n",
      "0.9457579972183588\n",
      "Detected problems during hyphae detection, 85 hyphaes have inconsistent root over time\n",
      "removing  132  nodes out of 8850 because they appear only in one timestep and are not within an identified hypha\n",
      "[45.888564]\n",
      "[1.136003, 37.595403]\n",
      "[57.012361]\n",
      "[61.589241]\n",
      "[69.797028]\n",
      "[72.570175]\n",
      "[79.39028]\n",
      "[82.292056]\n",
      "[88.018915]\n",
      "[93.215148]\n",
      "[94.431121]\n",
      "[102.698136]\n",
      "[107.651592]\n",
      "[114.85416]\n",
      "[124.033512]\n",
      "[135.147506]\n",
      "[142.897725]\n",
      "[149.376738]\n",
      "[152.434632]\n",
      "[161.84289]\n",
      "[173.575468]\n",
      "[188.503416]\n",
      "[191.833005]\n",
      "[206.577216]\n",
      "[220.747472]\n",
      "[239.920172]\n",
      "[264.566085]\n",
      "[273.541532]\n",
      "[297.374064]\n",
      "[318.481112]\n",
      "[339.248447]\n",
      "[361.865686]\n",
      "[383.728288]\n",
      "[407.257764]\n",
      "[444.276786]\n",
      "[486.961488]\n",
      "[524.621122]\n",
      "[549.25884]\n",
      "[591.04825]\n",
      "[631.585776]\n",
      "[693.346848]\n",
      "[756.253179]\n",
      "[806.631228]\n",
      "[879.81795]\n",
      "[935.704215]\n",
      "[1009.283848]\n",
      "[1070.969418]\n",
      "[1145.521068]\n",
      "[1240.83036]\n",
      "[1434.859519]\n",
      "[1566.979894]\n",
      "[1629.27696]\n",
      "[1781.557925]\n",
      "[1848.322794]\n",
      "[1933.088208]\n",
      "[2063.372756]\n",
      "[2154.598056]\n",
      "[2311.332681]\n",
      "[2435.436796]\n",
      "[2511.201446]\n",
      "[2821.710615]\n"
     ]
    }
   ],
   "source": [
    "from sample.pipeline.functions.hyphae_id_surf import (\n",
    "    clean_and_relabel,\n",
    "    get_mother,\n",
    "    save_hyphaes,\n",
    "    resolve_ambiguity_two_ends,\n",
    "    clean_obvious_fake_tips,\n",
    "    width_based_cleaning\n",
    ")\n",
    "exp_clean = clean_and_relabel(exp)\n",
    "RH, BAS, max_speeds, total_growths, widths, lengths, branch_frequ,select_hyph = get_rh_bas(exp_clean,criter)"
   ]
  },
  {
   "cell_type": "code",
   "execution_count": 104,
   "metadata": {},
   "outputs": [
    {
     "data": {
      "text/plain": [
       "Counter({Node(4338): 26, Node(12705): 1})"
      ]
     },
     "execution_count": 104,
     "metadata": {},
     "output_type": "execute_result"
    }
   ],
   "source": [
    "occurence_count"
   ]
  },
  {
   "cell_type": "code",
   "execution_count": 99,
   "metadata": {},
   "outputs": [
    {
     "data": {
      "text/plain": [
       "[47, 48, 49, 50, 51, 52, 53, 54, 55, 56, 57, 58, 59, 60]"
      ]
     },
     "execution_count": 99,
     "metadata": {},
     "output_type": "execute_result"
    }
   ],
   "source": [
    "hyph.root.ts()"
   ]
  },
  {
   "cell_type": "code",
   "execution_count": 109,
   "metadata": {},
   "outputs": [
    {
     "data": {
      "text/plain": [
       "Node(4338)"
      ]
     },
     "execution_count": 109,
     "metadata": {},
     "output_type": "execute_result"
    }
   ],
   "source": [
    "occurence_count.most_common(2)[0][0]"
   ]
  },
  {
   "cell_type": "code",
   "execution_count": 112,
   "metadata": {},
   "outputs": [
    {
     "data": {
      "text/plain": [
       "3"
      ]
     },
     "execution_count": 112,
     "metadata": {},
     "output_type": "execute_result"
    }
   ],
   "source": [
    "Node(9144,exp).degree(50)"
   ]
  },
  {
   "cell_type": "code",
   "execution_count": 5,
   "metadata": {},
   "outputs": [],
   "source": [
    "roots_new_branch = []\n",
    "total_growth = 0\n",
    "counts =[]\n",
    "total_growths = []\n",
    "lapses = []\n",
    "for lapse in [8,7,6,5,4,3,2,1]:\n",
    "    for rh in RH:\n",
    "        for index in range(len(rh.ts)):\n",
    "                if index+lapse<len(rh.ts):\n",
    "                    t = rh.ts[index]\n",
    "                    tp1 = rh.ts[index + lapse]\n",
    "                    pixels, nodes = get_pixel_growth_and_new_children(rh, t, tp1)\n",
    "                    count=len(nodes[1:-1]) \n",
    "                    total_growth = np.sum([get_length_um(seg) for seg in pixels])\n",
    "                    counts.append(count)\n",
    "                    total_growths.append(total_growth)\n",
    "                    lapses.append(lapse)\n"
   ]
  },
  {
   "cell_type": "code",
   "execution_count": 28,
   "metadata": {},
   "outputs": [
    {
     "data": {
      "application/vnd.jupyter.widget-view+json": {
       "model_id": "dc3a4495882e4b05ab19e4fea8ae9c10",
       "version_major": 2,
       "version_minor": 0
      },
      "text/plain": [
       "Canvas(toolbar=Toolbar(toolitems=[('Home', 'Reset original view', 'home', 'home'), ('Back', 'Back to previous …"
      ]
     },
     "metadata": {},
     "output_type": "display_data"
    },
    {
     "data": {
      "text/plain": [
       "[<matplotlib.lines.Line2D at 0x2ba1b3098b10>]"
      ]
     },
     "execution_count": 28,
     "metadata": {},
     "output_type": "execute_result"
    }
   ],
   "source": [
    "plt.close('all')\n",
    "plate = 94\n",
    "data = {'y':  counts,\n",
    "        'x': lapses,\n",
    "       'z' : total_growths}\n",
    "df = pd.DataFrame (data)\n",
    "df['frequ']=df['y']/df['z']\n",
    "abcisse = 'z'\n",
    "ordinate = 'frequ'\n",
    "tab = df\n",
    "baits_sort = tab.sort_values(abcisse)\n",
    "N=1500\n",
    "moving_av = baits_sort.rolling(N,min_periods=N//2).mean()\n",
    "moving_std = baits_sort.rolling(N,min_periods=N//2).std()\n",
    "\n",
    "fig=plt.figure(figsize=(8,8))\n",
    "ax = fig.add_subplot(111)\n",
    "ax.set_xlabel('alpha (°)')\n",
    "ax.set_ylabel('angle between speed vector and density gradient(°)')\n",
    "# ax.set_xlim(-40,40)\n",
    "# ax.set_ylim(-60,60)\n",
    "# ax.set_xlim(-190,190)\n",
    "# slope, intercept, r_value, p_value, std_err = stats.linregress(densities_sort,np.abs(curvatures_sort))\n",
    "ax.scatter(tab[abcisse],tab[ordinate],label=plate,alpha=0.3)\n",
    "ax.plot(moving_av[abcisse],moving_av[ordinate],color='green',label = 'moving average')\n",
    "ax.plot(moving_av[abcisse],(moving_av[ordinate]+moving_std[ordinate]/np.sqrt(N)),color='red',label = 'std')\n",
    "ax.plot(moving_av[abcisse],(moving_av[ordinate]-moving_std[ordinate]/np.sqrt(N)),color='red',label = 'std')"
   ]
  },
  {
   "cell_type": "code",
   "execution_count": 29,
   "metadata": {},
   "outputs": [],
   "source": [
    "values = []\n",
    "for lapse in [1,2,3,4,5,6,7,8]:\n",
    "    aft  = df.loc[df['x']==lapse]\n",
    "    value = np.mean(aft['y']/aft['z'])\n",
    "    values.append(value)\n"
   ]
  },
  {
   "cell_type": "code",
   "execution_count": 30,
   "metadata": {},
   "outputs": [
    {
     "name": "stderr",
     "output_type": "stream",
     "text": [
      "/home/cbisot/anaconda3/envs/test/lib/python3.7/site-packages/matplotlib/__init__.py:880: MatplotlibDeprecationWarning: \n",
      "nbagg.transparent\n",
      "  version, key, obj_type=\"rcparam\", alternative=alt_key)\n"
     ]
    },
    {
     "data": {
      "application/vnd.jupyter.widget-view+json": {
       "model_id": "6bc141cf345e4368939fbeecaab38cd5",
       "version_major": 2,
       "version_minor": 0
      },
      "text/plain": [
       "Canvas(toolbar=Toolbar(toolitems=[('Home', 'Reset original view', 'home', 'home'), ('Back', 'Back to previous …"
      ]
     },
     "metadata": {},
     "output_type": "display_data"
    },
    {
     "data": {
      "text/plain": [
       "[<matplotlib.lines.Line2D at 0x2ba01be7b310>]"
      ]
     },
     "execution_count": 30,
     "metadata": {},
     "output_type": "execute_result"
    }
   ],
   "source": [
    "fig=plt.figure(figsize=(8,8))\n",
    "ax = fig.add_subplot(111)\n",
    "ax.plot([1,2,3,4,5,6,7,8],values)"
   ]
  },
  {
   "cell_type": "code",
   "execution_count": 12,
   "metadata": {},
   "outputs": [],
   "source": [
    "path_code_dir = '/home/cbisot/pycode/MscThesis/'\n",
    "import sys  \n",
    "sys.path.insert(0, path_code_dir)\n",
    "from sample.util import get_dates_datetime\n",
    "import os\n",
    "from sample.pipeline.functions.experiment_class_surf import Experiment\n",
    "# from experiment_class_surftest import Experiment, clean_exp_with_hyphaes\n",
    "from sample.pipeline.functions.hyphae_id_surf import (\n",
    "    clean_and_relabel,\n",
    "    get_mother,\n",
    "    save_hyphaes,\n",
    "    resolve_ambiguity_two_ends,\n",
    "    clean_obvious_fake_tips,\n",
    "    width_based_cleaning\n",
    ")\n",
    "# from hyphae_id_surftest import (\n",
    "#     clean_and_relabel,\n",
    "#     get_mother,\n",
    "#     save_hyphaes,\n",
    "#     resolve_ambiguity_two_ends,\n",
    "#     solve_degree4,\n",
    "#     clean_obvious_fake_tips,\n",
    "# )\n",
    "\n",
    "plate = 38\n",
    "begin = 131\n",
    "end =151\n",
    "directory = directory_project\n",
    "\n",
    "dates_datetime = get_dates_datetime(directory,plate)\n",
    "dates_datetime.sort()\n",
    "dates_datetime_chosen = dates_datetime[begin : end + 1]\n",
    "dates = dates_datetime_chosen\n",
    "exp = Experiment(plate, directory)\n",
    "exp.load(dates)"
   ]
  },
  {
   "cell_type": "code",
   "execution_count": 13,
   "metadata": {},
   "outputs": [
    {
     "name": "stdout",
     "output_type": "stream",
     "text": [
      "0.0\n",
      "0.9259259259259259\n",
      "Detected problems during hyphae detection, 7 hyphaes have inconsistent root over time\n",
      "removing  1993  nodes out of 2692 because they appear only in one timestep and are not within an identified hypha\n",
      "[0.275715, 0.20602, 1.973664]\n",
      "[0.27525, 0.238434, 1.910774]\n",
      "[0.238784, 0.256368, 2.02566]\n",
      "[0.220872, 0.392805, 2.46764]\n",
      "[0.239824, 0.432216, 2.450927]\n",
      "[0.257922, 0.463362, 2.718448]\n",
      "[0.16891, 0.50736, 3.965472]\n",
      "[0.220836, 0.519303, 4.343031]\n",
      "[0.239135, 0.75443, 4.918801]\n",
      "[0.257796, 0.775764, 5.319288]\n",
      "[0.21924, 0.94708, 6.454836]\n",
      "[0.276195, 1.077216, 7.38549]\n",
      "[0.219756, 1.280778, 9.351846]\n",
      "[0.2202, 1.547442, 9.88566]\n",
      "[0.219492, 1.673412, 12.183548]\n",
      "[0.25683, 2.064916, 12.97916]\n",
      "[0.199881, 2.321294, 13.315856]\n",
      "[0.256158, 2.74482, 14.537874]\n",
      "[0.276495, 2.953293, 15.325722]\n",
      "[0.201036, 3.27985, 21.088336]\n",
      "[0.200794, 3.669438, 20.509925]\n",
      "0.0\n",
      "0.970873786407767\n",
      "Detected problems during hyphae detection, 7 hyphaes have inconsistent root over time\n",
      "removing  12  nodes out of 542 because they appear only in one timestep and are not within an identified hypha\n",
      "[0.275715, 0.20602, 1.973664]\n",
      "[0.27525, 0.238434, 1.910774]\n",
      "[0.238784, 0.256368, 2.02566]\n",
      "[0.220872, 0.392805, 2.46764]\n",
      "[0.239824, 0.432216, 2.450927]\n",
      "[0.257922, 0.463362, 2.718448]\n",
      "[0.16891, 0.50736, 3.965472]\n",
      "[0.220836, 0.519303, 4.343031]\n",
      "[0.239135, 0.75443, 4.918801]\n",
      "[0.257796, 0.775764, 5.319288]\n",
      "[0.21924, 0.94708, 6.454836]\n",
      "[0.276195, 1.077216, 7.38549]\n",
      "[0.219756, 1.280778, 9.351846]\n",
      "[0.2202, 1.547442, 9.88566]\n",
      "[0.219492, 1.673412, 12.183548]\n",
      "[0.25683, 2.064916, 12.97916]\n",
      "[0.199881, 2.321294, 13.315856]\n",
      "[0.256158, 2.74482, 14.537874]\n",
      "[0.276495, 2.953293, 15.325722]\n",
      "[0.201036, 3.27985, 21.088336]\n",
      "[0.200794, 3.669438, 20.509925]\n"
     ]
    }
   ],
   "source": [
    "exp_clean = clean_and_relabel(exp)\n"
   ]
  },
  {
   "cell_type": "code",
   "execution_count": 15,
   "metadata": {},
   "outputs": [
    {
     "name": "stdout",
     "output_type": "stream",
     "text": [
      "0.0\n",
      "78 hyphae have multiple mothers\n",
      "There is 199 hyphae\n",
      "Found 0 tip-tip anastomosis, found 20 tips that appear at only one timestep and then disapear and are not anastomosing\n",
      "[0.275715, 0.194408, 1.81189]\n",
      "[0.27525, 0.238434, 1.910774]\n",
      "[0.238784, 0.256368, 2.02566]\n",
      "[0.220872, 0.392805, 2.428041]\n",
      "[0.239824, 0.432216, 2.450927]\n",
      "[0.257922, 0.463362, 2.718448]\n",
      "[0.16891, 0.50736, 3.807792]\n",
      "[0.220836, 0.519303, 4.343031]\n",
      "[0.239135, 0.75443, 4.918801]\n",
      "[0.257796, 0.775764, 5.319288]\n",
      "[0.21924, 0.94708, 6.39288]\n",
      "[0.276195, 1.077216, 7.38549]\n",
      "[0.219756, 1.280778, 9.12384]\n",
      "[0.201102, 1.547442, 9.88566]\n",
      "[0.219492, 1.673412, 12.016485]\n",
      "[0.25683, 2.064916, 12.97916]\n",
      "[0.199881, 2.321294, 13.22574]\n",
      "[0.256158, 2.74482, 14.443424]\n",
      "[0.276495, 2.953293, 15.228224]\n",
      "[0.201036, 3.27985, 20.983347]\n",
      "[0.200794, 3.669438, 20.509925]\n"
     ]
    },
    {
     "data": {
      "text/plain": [
       "<sample.pipeline.functions.experiment_class_surf.Experiment at 0x2b4cfe25ff50>"
      ]
     },
     "execution_count": 15,
     "metadata": {},
     "output_type": "execute_result"
    }
   ],
   "source": [
    "to_remove = []\n",
    "for hyph in exp_clean.hyphaes:\n",
    "    hyph.update_ts()\n",
    "    if len(hyph.ts) == 0:\n",
    "        to_remove.append(hyph)\n",
    "for hyph in to_remove:\n",
    "    exp_clean.hyphaes.remove(hyph)\n",
    "get_mother(exp_clean.hyphaes)\n",
    "clean_obvious_fake_tips(exp_clean)\n"
   ]
  }
 ],
 "metadata": {
  "kernelspec": {
   "display_name": "Python 3",
   "language": "python",
   "name": "python3"
  },
  "language_info": {
   "codemirror_mode": {
    "name": "ipython",
    "version": 3
   },
   "file_extension": ".py",
   "mimetype": "text/x-python",
   "name": "python",
   "nbconvert_exporter": "python",
   "pygments_lexer": "ipython3",
   "version": "3.7.7"
  }
 },
 "nbformat": 4,
 "nbformat_minor": 4
}

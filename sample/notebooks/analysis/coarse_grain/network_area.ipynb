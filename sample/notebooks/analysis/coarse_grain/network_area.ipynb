{
 "cells": [
  {
   "cell_type": "code",
   "execution_count": 1,
   "metadata": {},
   "outputs": [],
   "source": [
    "%matplotlib widget\n",
    "\n",
    "import sys  \n",
    "sys.path.insert(0, '/home/cbisot/pycode/MscThesis/')\n",
    "import pandas as pd\n",
    "from sample.util import get_dates_datetime, get_dirname, get_plate_number, get_postion_number,get_begin_index\n",
    "import ast\n",
    "from sample.plotutil import plot_t_tp1\n",
    "from scipy import sparse\n",
    "from datetime import datetime\n",
    "from sample.pipeline.functions.node_id import orient\n",
    "import pickle\n",
    "import scipy.io as sio\n",
    "from pymatreader import read_mat\n",
    "from matplotlib import colors\n",
    "import cv2\n",
    "import imageio\n",
    "import matplotlib.pyplot as plt\n",
    "import numpy as np\n",
    "from skimage.filters import frangi\n",
    "from skimage import filters\n",
    "from random import choice\n",
    "import scipy.sparse\n",
    "import os\n",
    "from sample.pipeline.functions.extract_graph import from_sparse_to_graph, generate_nx_graph, sparse_to_doc\n",
    "from skimage.feature import hessian_matrix_det\n",
    "from sample.pipeline.functions.experiment_class_surf import Experiment, Edge, Node, Hyphae, plot_raw_plus, get_hyphae\n",
    "from sample.paths.directory import run_parallel, find_state, directory_scratch, directory_project\n",
    "from sample.notebooks.analysis.util import *\n",
    "from scipy import stats\n",
    "from scipy.ndimage.filters import uniform_filter1d\n",
    "from statsmodels.stats import weightstats as stests\n",
    "from sample.pipeline.functions.hyphae_id_surf import get_pixel_growth_and_new_children, resolve_ambiguity, relabel_nodes_after_amb\n",
    "from collections import Counter\n",
    "from IPython.display import clear_output\n",
    "from sample.notebooks.analysis.data_info import *\n",
    "from sample.pipeline.functions.node_id import reconnect_degree_2\n",
    "from sample.pipeline.functions.extract_graph import (\n",
    "    generate_skeleton,\n",
    "    from_nx_to_tab,\n",
    "    prune_graph\n",
    ")\n",
    "\n",
    "from sample.pipeline.functions.hyphae_id_surf import (\n",
    "    clean_and_relabel,\n",
    "    get_mother,\n",
    "    save_hyphaes,\n",
    "    resolve_ambiguity_two_ends,\n",
    "    clean_obvious_fake_tips,\n",
    "    width_based_cleaning\n",
    ")\n",
    "from sample.pipeline.functions.experiment_class_surf import clean_exp_with_hyphaes\n",
    "from scipy.ndimage import gaussian_filter\n",
    "from scipy import ndimage\n",
    "from scipy.optimize import curve_fit\n",
    "from shapely.geometry import Polygon, shape\n"
   ]
  },
  {
   "cell_type": "code",
   "execution_count": 38,
   "metadata": {},
   "outputs": [],
   "source": [
    "directory = directory_project\n",
    "plate_number = 102\n",
    "plate = get_postion_number(plate_number)\n",
    "begin = 262\n",
    "end = 287\n",
    "dates_datetime = get_dates_datetime(directory,plate)\n",
    "dates = dates_datetime[begin:end+1]\n",
    "exp = Experiment(plate,directory)\n",
    "exp.load(dates) #for method 2"
   ]
  },
  {
   "cell_type": "code",
   "execution_count": 51,
   "metadata": {},
   "outputs": [],
   "source": [
    "directory = directory_project\n",
    "plate_number = 59\n",
    "plate = get_postion_number(plate_number)\n",
    "begin = 7\n",
    "end = 42\n",
    "dates_datetime = get_dates_datetime(directory,plate)\n",
    "dates = dates_datetime[begin:end+1]\n",
    "exp = Experiment(plate,directory)\n",
    "exp.load(dates) #for method 2"
   ]
  },
  {
   "cell_type": "code",
   "execution_count": 2,
   "metadata": {},
   "outputs": [],
   "source": [
    "directory = directory_project\n",
    "plate_number = 94\n",
    "plate = get_postion_number(plate_number)\n",
    "begin = 269\n",
    "end = 329\n",
    "dates_datetime = get_dates_datetime(directory,plate)\n",
    "dates = dates_datetime[begin:end+1]\n",
    "exp = Experiment(plate,directory)\n",
    "exp.load(dates) #for method 2"
   ]
  },
  {
   "cell_type": "code",
   "execution_count": 93,
   "metadata": {},
   "outputs": [],
   "source": [
    "directory = directory_project\n",
    "plate_number = 69\n",
    "plate = get_postion_number(plate_number)\n",
    "begin = 153\n",
    "end = 190\n",
    "dates_datetime = get_dates_datetime(directory,plate)\n",
    "dates = dates_datetime[begin:end+1]\n",
    "exp = Experiment(plate,directory)\n",
    "exp.load(dates) #for method 2"
   ]
  },
  {
   "cell_type": "code",
   "execution_count": 3,
   "metadata": {},
   "outputs": [],
   "source": [
    "lengths = [get_length(exp,t) for t in range(exp.ts)]\n",
    "times = [get_time(exp,0,t) for t in range(exp.ts)]\n",
    "lengths = np.array(lengths)\n",
    "times = np.array(times)"
   ]
  },
  {
   "cell_type": "code",
   "execution_count": 7,
   "metadata": {},
   "outputs": [],
   "source": [
    "areas = []   \n",
    "for t in range(exp.ts):\n",
    "    nodes = np.array([node.pos(t) for node in exp.nodes if node.is_in(t)])\n",
    "    hull=scipy.spatial.ConvexHull(nodes)\n",
    "    poly = Polygon([nodes[vertice] for vertice in hull.vertices])\n",
    "    areas.append(poly.area* 1.725**2/(1000**2))\n"
   ]
  },
  {
   "cell_type": "code",
   "execution_count": 8,
   "metadata": {},
   "outputs": [],
   "source": [
    "speeds = (lengths[1:]-lengths[:-1])/(times[1:]-times[:-1])"
   ]
  },
  {
   "cell_type": "code",
   "execution_count": 12,
   "metadata": {},
   "outputs": [],
   "source": [
    "end = 30\n",
    "begin = 0\n",
    "lengths_select = lengths[begin:end]\n",
    "times_select = times[begin:end]\n",
    "areas_select = areas[begin:end]"
   ]
  },
  {
   "cell_type": "code",
   "execution_count": 13,
   "metadata": {},
   "outputs": [],
   "source": [
    "\n",
    "coefs = np.polyfit(times_select,areas_select ,2)\n",
    "p = np.poly1d(coefs)\n",
    "def func(t,a,t0):\n",
    "    return(a*(t-t0)**2)\n",
    "popt0, pcov = curve_fit(func, times_select,areas_select ,bounds = ([0,-np.inf],2*[np.inf]),p0=[1,1])\n",
    "def func2(t,alpha,C,d):\n",
    "    return(C*(np.exp(alpha*(t)))+d)\n",
    "popt1, pcov = curve_fit(func2, times_select, lengths_select/1000,bounds = ([0,0,-np.inf],3*[np.inf]),p0=[1,1,0])\n"
   ]
  },
  {
   "cell_type": "code",
   "execution_count": 17,
   "metadata": {},
   "outputs": [
    {
     "data": {
      "text/plain": [
       "236.8424358792715"
      ]
     },
     "execution_count": 17,
     "metadata": {},
     "output_type": "execute_result"
    }
   ],
   "source": [
    "(2.84+1.10)*1000/np.log(2)/24"
   ]
  },
  {
   "cell_type": "code",
   "execution_count": 14,
   "metadata": {},
   "outputs": [
    {
     "data": {
      "application/vnd.jupyter.widget-view+json": {
       "model_id": "2896d85213214a939623aaf14f6aab38",
       "version_major": 2,
       "version_minor": 0
      },
      "text/plain": [
       "Canvas(toolbar=Toolbar(toolitems=[('Home', 'Reset original view', 'home', 'home'), ('Back', 'Back to previous …"
      ]
     },
     "metadata": {},
     "output_type": "display_data"
    },
    {
     "data": {
      "text/plain": [
       "<matplotlib.legend.Legend at 0x2b05a4674710>"
      ]
     },
     "execution_count": 14,
     "metadata": {},
     "output_type": "execute_result"
    }
   ],
   "source": [
    "fig=plt.figure(figsize=(9,8))\n",
    "ax = fig.add_subplot(111)\n",
    "ax.scatter(times_select,areas_select ,label = 'data areas ($mm^2$)')\n",
    "ax.plot(times_select,p(np.array(times_select)), label= f'quadratic fit a={\"{:.2f}\".format(coefs[0])} mm^2.h-2')\n",
    "# ax.plot(times,func(np.array(times),*popt0),label = f'quadratic fit a={\"{:.2f}\".format(popt0[0])} mm^2.h-2')\n",
    "ax.set_xlabel('time (h)')\n",
    "ax.set_ylabel('network area $(mm^2)$')\n",
    "plt.legend()\n",
    "ax2 = ax.twinx()\n",
    "ax2.scatter(times_select,lengths_select/1000,color='red', label = 'data length ($mm$)')\n",
    "ax2.plot(times_select,func2(np.array(times_select),*popt1),label = f'exponential fit : alpha= {\"{:.2f}\".format(popt1[0]*24)}.day-1',color='red')\n",
    "\n",
    "ax2.set_ylabel('network length $(mm)$')\n",
    "\n",
    "plt.legend(loc = 'upper right')"
   ]
  },
  {
   "cell_type": "code",
   "execution_count": 15,
   "metadata": {},
   "outputs": [
    {
     "data": {
      "text/plain": [
       "318.39400055332436"
      ]
     },
     "execution_count": 15,
     "metadata": {},
     "output_type": "execute_result"
    }
   ],
   "source": [
    "np.sqrt(coefs[0]/(np.pi/2))*1000"
   ]
  },
  {
   "cell_type": "code",
   "execution_count": 7,
   "metadata": {},
   "outputs": [
    {
     "name": "stderr",
     "output_type": "stream",
     "text": [
      "/home/cbisot/anaconda3/envs/test/lib/python3.7/site-packages/matplotlib/__init__.py:880: MatplotlibDeprecationWarning: \n",
      "nbagg.transparent\n",
      "  version, key, obj_type=\"rcparam\", alternative=alt_key)\n"
     ]
    },
    {
     "data": {
      "application/vnd.jupyter.widget-view+json": {
       "model_id": "e8a8c5593f3c4927b583e1b078682a26",
       "version_major": 2,
       "version_minor": 0
      },
      "text/plain": [
       "Canvas(toolbar=Toolbar(toolitems=[('Home', 'Reset original view', 'home', 'home'), ('Back', 'Back to previous …"
      ]
     },
     "metadata": {},
     "output_type": "display_data"
    },
    {
     "data": {
      "text/plain": [
       "<matplotlib.legend.Legend at 0x2b13ddbf1e90>"
      ]
     },
     "execution_count": 7,
     "metadata": {},
     "output_type": "execute_result"
    }
   ],
   "source": [
    "end = 35\n",
    "fig=plt.figure(figsize=(9,8))\n",
    "ax = fig.add_subplot(111)\n",
    "ax.scatter(times[:-1],speeds ,label = 'data areas ($mm^2$)')\n",
    "def func3(t,alpha,C):\n",
    "    return(C*(np.exp(alpha*(t))))\n",
    "popt2, pcov = curve_fit(func3, times[:end], speeds[:end],bounds = ([0,0],2*[np.inf]),p0=[1,1])\n",
    "ax.plot(times[:end],func3(np.array(times[:end]),*popt2),label = f'exponential fit : alpha= {\"{:.2f}\".format(popt2[0]*24)}.day-1',color='red')\n",
    "\n",
    "plt.legend(loc = 'upper right')"
   ]
  },
  {
   "cell_type": "code",
   "execution_count": 35,
   "metadata": {},
   "outputs": [],
   "source": [
    "exp.load_compressed_skel()"
   ]
  },
  {
   "cell_type": "code",
   "execution_count": 36,
   "metadata": {},
   "outputs": [],
   "source": [
    "def get_density_maps(exp,t,compress,kern_sizes):\n",
    "    skeletons = [sparse.csr_matrix(skel) for skel in exp.skeletons]\n",
    "    window=compress\n",
    "    densities=np.zeros((skeletons[t].shape[0]//compress,skeletons[t].shape[1]//compress),dtype=np.float)\n",
    "    for xx in range(skeletons[t].shape[0]//compress):\n",
    "        for yy in range(skeletons[t].shape[1]//compress):\n",
    "            x = xx*compress\n",
    "            y = yy*compress\n",
    "            skeleton=skeletons[t][x-window:x+window,y-window:y+window]\n",
    "            density = skeleton.count_nonzero()/((window*1.725)**2)\n",
    "            densities[xx,yy]=density\n",
    "    results = {}\n",
    "    for kern_size in kern_sizes:\n",
    "        density_filtered = gaussian_filter(densities,kern_size)\n",
    "        sx = ndimage.sobel(density_filtered ,axis=0,mode='constant')\n",
    "        sy = ndimage.sobel(density_filtered ,axis=1,mode='constant')\n",
    "        sobel=np.hypot(sx,sy)\n",
    "        results[kern_size] = density_filtered,sx,sy,sobel\n",
    "    return(results)"
   ]
  },
  {
   "cell_type": "code",
   "execution_count": null,
   "metadata": {},
   "outputs": [],
   "source": [
    "kern_size=20\n",
    "density_maps = [get_density_maps(exp,t,100,[kern_size]) for t in range(exp.ts)]"
   ]
  },
  {
   "cell_type": "code",
   "execution_count": null,
   "metadata": {},
   "outputs": [],
   "source": [
    "for index,density_map in enumerate(density_maps):\n",
    "    plt.close('all')\n",
    "    clear_output(wait=True)\n",
    "    fig=plt.figure(figsize=(14,12))\n",
    "    ax = fig.add_subplot(111)\n",
    "    im= density_map[kern_size][0]\n",
    "    figure = ax.imshow(im>=0.001,vmax = 0.01)\n",
    "    plt.colorbar(figure,orientation = 'horizontal')\n",
    "    save = f'/home/cbisot/pycode/MscThesis/sample/notebooks/plotting/Figure/im*{index}.png'\n",
    "    plt.savefig(save)"
   ]
  },
  {
   "cell_type": "code",
   "execution_count": null,
   "metadata": {},
   "outputs": [],
   "source": [
    "img_array = []\n",
    "for index in range(len(density_maps)):\n",
    "    img = cv2.imread(f'/home/cbisot/pycode/MscThesis/sample/notebooks/plotting/Figure/im*{index}.png')\n",
    "    img_array.append(img)\n",
    "imageio.mimsave(f'/home/cbisot/pycode/MscThesis/sample/notebooks/plotting/Figure/movie_dense_{kern_size}thresh.gif', img_array,duration = 1)"
   ]
  },
  {
   "cell_type": "code",
   "execution_count": 7,
   "metadata": {},
   "outputs": [],
   "source": [
    "cmap=plt.get_cmap('inferno')"
   ]
  },
  {
   "cell_type": "code",
   "execution_count": 9,
   "metadata": {},
   "outputs": [
    {
     "data": {
      "application/vnd.jupyter.widget-view+json": {
       "model_id": "313366e486e048849e6bf29664cb53b8",
       "version_major": 2,
       "version_minor": 0
      },
      "text/plain": [
       "Canvas(toolbar=Toolbar(toolitems=[('Home', 'Reset original view', 'home', 'home'), ('Back', 'Back to previous …"
      ]
     },
     "metadata": {},
     "output_type": "display_data"
    }
   ],
   "source": [
    "plt.close('all')\n",
    "fig=plt.figure(figsize=(12,14))\n",
    "ax = fig.add_subplot(111)\n",
    "areas = []   \n",
    "ax.set_xlim(6000*5)\n",
    "ax.set_ylim(12000*5)\n",
    "for t in range(exp.ts):\n",
    "    nodes = np.array([node.pos(t) for node in exp.nodes if node.is_in(t)])\n",
    "    hull=scipy.spatial.ConvexHull(nodes)\n",
    "    for simplex in hull.simplices:\n",
    "        ax.plot(nodes[simplex, 0], nodes[simplex, 1],color=cmap(t*3))\n",
    "    poly = Polygon([nodes[vertice] for vertice in hull.vertices])\n",
    "    areas.append(poly.area* 1.725**2/(1000**2))\n"
   ]
  },
  {
   "cell_type": "code",
   "execution_count": 25,
   "metadata": {},
   "outputs": [
    {
     "data": {
      "application/vnd.jupyter.widget-view+json": {
       "model_id": "a2334766bac244d69985fe2294353029",
       "version_major": 2,
       "version_minor": 0
      },
      "text/plain": [
       "Canvas(toolbar=Toolbar(toolitems=[('Home', 'Reset original view', 'home', 'home'), ('Back', 'Back to previous …"
      ]
     },
     "metadata": {},
     "output_type": "display_data"
    },
    {
     "name": "stdout",
     "output_type": "stream",
     "text": [
      "[14  0]\n",
      "[52  0]\n",
      "[147  14]\n",
      "[117  52]\n",
      "[148 149]\n",
      "[148 147]\n",
      "[146 149]\n",
      "[146 117]\n"
     ]
    }
   ],
   "source": [
    "fig=plt.figure(figsize=(9,8))\n",
    "ax = fig.add_subplot(111)\n",
    "for simplex in hull.simplices:\n",
    "    ax.plot(nodes[simplex, 0], nodes[simplex, 1], 'k-')"
   ]
  },
  {
   "cell_type": "code",
   "execution_count": 4,
   "metadata": {},
   "outputs": [],
   "source": [
    "sizes = [1,2,3]"
   ]
  },
  {
   "cell_type": "code",
   "execution_count": 14,
   "metadata": {},
   "outputs": [],
   "source": [
    "sizes = np.load(f'/home/cbisot/pycode/MscThesis/Results/sizes_{plate_number}_{begin}_{end}.npy')\n",
    "areas = sizes * 1.725**2/(1000**2)"
   ]
  },
  {
   "cell_type": "code",
   "execution_count": 12,
   "metadata": {},
   "outputs": [],
   "source": [
    "speeds = (lengths[1:]-lengths[:-1])/(times[1:]-times[:-1])"
   ]
  },
  {
   "cell_type": "code",
   "execution_count": null,
   "metadata": {},
   "outputs": [],
   "source": []
  },
  {
   "cell_type": "code",
   "execution_count": 56,
   "metadata": {},
   "outputs": [
    {
     "data": {
      "application/vnd.jupyter.widget-view+json": {
       "model_id": "ddef6280882145ba9e200124871c1a4f",
       "version_major": 2,
       "version_minor": 0
      },
      "text/plain": [
       "Canvas(toolbar=Toolbar(toolitems=[('Home', 'Reset original view', 'home', 'home'), ('Back', 'Back to previous …"
      ]
     },
     "metadata": {},
     "output_type": "display_data"
    },
    {
     "data": {
      "text/plain": [
       "<matplotlib.legend.Legend at 0x2b2c32d37890>"
      ]
     },
     "execution_count": 56,
     "metadata": {},
     "output_type": "execute_result"
    }
   ],
   "source": [
    "end = 35\n",
    "fig=plt.figure(figsize=(9,8))\n",
    "ax = fig.add_subplot(111)\n",
    "ax.scatter(times[:-1],speeds ,label = 'data areas ($mm^2$)')\n",
    "def func3(t,alpha,C):\n",
    "    return(C*(np.exp(alpha*(t))))\n",
    "popt2, pcov = curve_fit(func3, times[:end], speeds[:end],bounds = ([0,0],2*[np.inf]),p0=[1,1])\n",
    "ax.plot(times[:end],func3(np.array(times[:end]),*popt2),label = f'exponential fit : alpha= {\"{:.2f}\".format(popt2[0]*24)}.day-1',color='red')\n",
    "\n",
    "plt.legend(loc = 'upper right')"
   ]
  },
  {
   "cell_type": "code",
   "execution_count": 7,
   "metadata": {},
   "outputs": [],
   "source": [
    "data = pd.DataFrame(list(zip(speeds,times[:-1])),columns = ['speed','time'])\n",
    "# data['straight'] = data['straight_distance']*1.725/data['curv_growth']\n",
    "# data['straight_scaled'] = data['straight_distance']*1.725/np.sqrt(data['curv_growth'])\n",
    "# data['time'] = lapses_time\n",
    "# data['straight_time'] = data['straight']/data['time']\n",
    "# data['speed'] = data['curv_growth']/data['time']\n",
    "correct = data.loc[data['speed']<500000]"
   ]
  },
  {
   "cell_type": "code",
   "execution_count": 8,
   "metadata": {},
   "outputs": [
    {
     "name": "stderr",
     "output_type": "stream",
     "text": [
      "/home/cbisot/anaconda3/envs/test/lib/python3.7/site-packages/matplotlib/__init__.py:880: MatplotlibDeprecationWarning: \n",
      "nbagg.transparent\n",
      "  version, key, obj_type=\"rcparam\", alternative=alt_key)\n"
     ]
    },
    {
     "data": {
      "application/vnd.jupyter.widget-view+json": {
       "model_id": "954d8578cde64bf5a2208db596d107fa",
       "version_major": 2,
       "version_minor": 0
      },
      "text/plain": [
       "Canvas(toolbar=Toolbar(toolitems=[('Home', 'Reset original view', 'home', 'home'), ('Back', 'Back to previous …"
      ]
     },
     "metadata": {},
     "output_type": "display_data"
    },
    {
     "name": "stderr",
     "output_type": "stream",
     "text": [
      "/home/cbisot/anaconda3/envs/test/lib/python3.7/site-packages/matplotlib/cbook/__init__.py:1377: FutureWarning: Support for multi-dimensional indexing (e.g. `obj[:, None]`) is deprecated and will be removed in a future version.  Convert to a numpy array before indexing instead.\n",
      "  x[:, None]\n",
      "/home/cbisot/anaconda3/envs/test/lib/python3.7/site-packages/matplotlib/axes/_base.py:237: FutureWarning: Support for multi-dimensional indexing (e.g. `obj[:, None]`) is deprecated and will be removed in a future version.  Convert to a numpy array before indexing instead.\n",
      "  x = x[:, np.newaxis]\n",
      "/home/cbisot/anaconda3/envs/test/lib/python3.7/site-packages/matplotlib/axes/_base.py:239: FutureWarning: Support for multi-dimensional indexing (e.g. `obj[:, None]`) is deprecated and will be removed in a future version.  Convert to a numpy array before indexing instead.\n",
      "  y = y[:, np.newaxis]\n"
     ]
    },
    {
     "data": {
      "text/plain": [
       "[<matplotlib.lines.Line2D at 0x2b241eec2310>]"
      ]
     },
     "execution_count": 8,
     "metadata": {},
     "output_type": "execute_result"
    }
   ],
   "source": [
    "plt.close('all')\n",
    "abcisse = 'time'\n",
    "ordinate = 'speed'\n",
    "tab = correct\n",
    "baits_sort = tab.sort_values(abcisse)\n",
    "N=4\n",
    "moving_av = baits_sort.rolling(N,min_periods=N//2).mean()\n",
    "moving_std = baits_sort.rolling(N,min_periods=N//2).std()\n",
    "\n",
    "fig=plt.figure(figsize=(8,8))\n",
    "ax = fig.add_subplot(111)\n",
    "ax.set_xlabel('time (h)')\n",
    "\n",
    "ax.set_ylabel('Network scale growth speed ($\\mu m .h^{-1}$)')\n",
    "# ax.set_xlim(-0.5,0.5)\n",
    "# ax.set_ylim(-0.5,0.5)\n",
    "# ax.set_xlim(-190,190)\n",
    "# slope, intercept, r_value, p_value, std_err = stats.linregress(densities_sort,np.abs(curvatures_sort))\n",
    "\n",
    "ax.scatter(tab[abcisse],tab[ordinate],alpha=0.3)\n",
    "ax.plot(moving_av[abcisse],moving_av[ordinate],color='green',label = 'moving average')\n",
    "ax.plot(moving_av[abcisse],(moving_av[ordinate]+moving_std[ordinate]/np.sqrt(N)),color='red',label = 'std')\n",
    "ax.plot(moving_av[abcisse],(moving_av[ordinate]-moving_std[ordinate]/np.sqrt(N)),color='red',label = 'std')"
   ]
  },
  {
   "cell_type": "code",
   "execution_count": 13,
   "metadata": {},
   "outputs": [
    {
     "data": {
      "application/vnd.jupyter.widget-view+json": {
       "model_id": "e634eafc41e545fe9b57e628e60873a4",
       "version_major": 2,
       "version_minor": 0
      },
      "text/plain": [
       "Canvas(toolbar=Toolbar(toolitems=[('Home', 'Reset original view', 'home', 'home'), ('Back', 'Back to previous …"
      ]
     },
     "metadata": {},
     "output_type": "display_data"
    }
   ],
   "source": [
    "plt.close('all')\n",
    "exp.plot_raw(20)"
   ]
  },
  {
   "cell_type": "code",
   "execution_count": 16,
   "metadata": {},
   "outputs": [],
   "source": [
    "def func3(t):\n",
    "    return(func2(t,*popt1)/p(t))"
   ]
  },
  {
   "cell_type": "code",
   "execution_count": 18,
   "metadata": {},
   "outputs": [
    {
     "data": {
      "application/vnd.jupyter.widget-view+json": {
       "model_id": "0e9ec85dbb44459e8d8c7da79ea24c90",
       "version_major": 2,
       "version_minor": 0
      },
      "text/plain": [
       "Canvas(toolbar=Toolbar(toolitems=[('Home', 'Reset original view', 'home', 'home'), ('Back', 'Back to previous …"
      ]
     },
     "metadata": {},
     "output_type": "display_data"
    },
    {
     "data": {
      "text/plain": [
       "Text(0, 0.5, 'density ($mm.mm^{-2}$)')"
      ]
     },
     "execution_count": 18,
     "metadata": {},
     "output_type": "execute_result"
    }
   ],
   "source": [
    "fig, ax = plt.subplots(nrows=1, ncols=1, figsize=(9, 8))\n",
    "ax.scatter(times,lengths/1000/areas)\n",
    "ax.plot(times,func3(np.array(times)),label = f'exponential fit : alpha= {\"{:.2f}\".format(popt1[0]*24)}.day-1',color='red')\n",
    "\n",
    "ax.set_ylim(0,3)\n",
    "ax.set_xlabel('time (h)')\n",
    "ax.set_ylabel('density ($mm.mm^{-2}$)')"
   ]
  },
  {
   "cell_type": "code",
   "execution_count": 122,
   "metadata": {},
   "outputs": [],
   "source": [
    "x,y = times_select,areas_select"
   ]
  },
  {
   "cell_type": "code",
   "execution_count": 123,
   "metadata": {},
   "outputs": [],
   "source": [
    "coefs = np.polyfit(x,y,2)"
   ]
  },
  {
   "cell_type": "code",
   "execution_count": 155,
   "metadata": {},
   "outputs": [
    {
     "data": {
      "text/plain": [
       "96.17966939259757"
      ]
     },
     "execution_count": 155,
     "metadata": {},
     "output_type": "execute_result"
    }
   ],
   "source": [
    "0.8*2000/np.log(2)/24"
   ]
  },
  {
   "cell_type": "code",
   "execution_count": 44,
   "metadata": {},
   "outputs": [],
   "source": [
    "from sample.notebooks.analysis.data_info import *\n",
    "\n",
    "window=800\n",
    "results={}\n",
    "for treatment in treatments.keys():\n",
    "    insts = treatments[treatment]\n",
    "    for inst in insts:\n",
    "        results[inst] = pickle.load(open(f'{path_code}/MscThesis/Results/straight_{window}_{inst}.pick', \"rb\"))\n",
    "column_names = [\"plate\",\"inst\", \"treatment\", \"angle\", \"curvature\",\"density\",\"growth\",\"speed\",\"straightness\",\"t\",\"hyph\",\"total_network\",'area']\n",
    "infos = pd.DataFrame(columns=column_names)\n",
    "inst = (39,269,329)\n",
    "angles, curvatures, densities,growths,speeds,tortuosities,ts,hyphs,total_lengths = results[inst]\n",
    "for i,angle in enumerate(angles):\n",
    "    new_line = pd.DataFrame(\n",
    "        {   \"plate\": [plate_number[inst]],\n",
    "            \"inst\": [inst],\n",
    "            \"treatment\": [treatment],\n",
    "            \"angle\": [angle],\n",
    "            \"curvature\": [curvatures[i]],\n",
    "            \"density\": [densities[i]],\n",
    "            \"growth\": [growths[i]],\n",
    "            \"speed\": [speeds[i]],\n",
    "            \"straightness\": [tortuosities[i]],\n",
    "             \"t\": [ts[i]],\n",
    "             \"hyph\": [hyphs[i]],\n",
    "             \"total_network\" : [total_lengths[i]],\n",
    "             'area' : [sizes[int(ts[i])]]\n",
    "        }\n",
    "    )  # index 0 for\n",
    "    # mothers need to be modified to resolve multi mother issue\n",
    "    infos = infos.append(new_line, ignore_index=True)"
   ]
  },
  {
   "cell_type": "code",
   "execution_count": 45,
   "metadata": {},
   "outputs": [],
   "source": [
    "plate_94 = infos.loc[infos['plate']==94]"
   ]
  },
  {
   "cell_type": "code",
   "execution_count": 46,
   "metadata": {},
   "outputs": [
    {
     "data": {
      "text/plain": [
       "(0        0.000000\n",
       " 1        1.000000\n",
       " 2        2.000000\n",
       " 3        3.000000\n",
       " 4        3.983333\n",
       "           ...    \n",
       " 2197    59.016667\n",
       " 2198    58.016667\n",
       " 2199    59.016667\n",
       " 2200    58.016667\n",
       " 2201    59.016667\n",
       " Name: t, Length: 2202, dtype: float64,\n",
       " 0       1.749240e+05\n",
       " 1       1.832130e+05\n",
       " 2       1.908655e+05\n",
       " 3       1.994984e+05\n",
       " 4       2.064749e+05\n",
       "             ...     \n",
       " 2197    1.187199e+06\n",
       " 2198    1.160717e+06\n",
       " 2199    1.187199e+06\n",
       " 2200    1.160717e+06\n",
       " 2201    1.187199e+06\n",
       " Name: total_network, Length: 2202, dtype: float64)"
      ]
     },
     "execution_count": 46,
     "metadata": {},
     "output_type": "execute_result"
    }
   ],
   "source": [
    "plate_94['t'],plate_94['total_network']"
   ]
  }
 ],
 "metadata": {
  "kernelspec": {
   "display_name": "Python 3",
   "language": "python",
   "name": "python3"
  },
  "language_info": {
   "codemirror_mode": {
    "name": "ipython",
    "version": 3
   },
   "file_extension": ".py",
   "mimetype": "text/x-python",
   "name": "python",
   "nbconvert_exporter": "python",
   "pygments_lexer": "ipython3",
   "version": "3.7.7"
  }
 },
 "nbformat": 4,
 "nbformat_minor": 4
}

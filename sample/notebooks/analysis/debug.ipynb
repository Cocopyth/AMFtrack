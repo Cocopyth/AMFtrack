{
 "cells": [
  {
   "cell_type": "code",
   "execution_count": 1,
   "metadata": {},
   "outputs": [],
   "source": [
    "import sys  \n",
    "sys.path.insert(0, '/home/cbisot/pycode/MscThesis/')\n",
    "%matplotlib widget\n",
    "from util import get_path, get_dates_datetime\n",
    "import pandas as pd\n",
    "import networkx as nx\n",
    "import numpy as np\n",
    "import matplotlib.pyplot as plt\n",
    "from extract_graph import generate_nx_graph, transform_list, generate_skeleton, generate_nx_graph_from_skeleton, from_connection_tab, from_nx_to_tab\n",
    "from node_id import whole_movement_identification, second_identification\n",
    "import ast\n",
    "from plotutil import plot_t_tp1, compress_skeleton\n",
    "from scipy import sparse\n",
    "from sparse_util import dilate, zhangSuen\n",
    "from realign import realign\n",
    "from datetime import datetime,timedelta\n",
    "from node_id import orient\n",
    "import pickle\n",
    "from matplotlib.widgets import CheckButtons\n",
    "import scipy.io as sio\n",
    "import imageio\n",
    "from pymatreader import read_mat\n",
    "from matplotlib import colors\n",
    "from copy import deepcopy,copy\n",
    "from collections import Counter\n",
    "import cv2 \n",
    "import imageio\n",
    "import matplotlib.pyplot as plt\n",
    "import numpy as np\n",
    "from skimage.filters import frangi, meijering\n",
    "from skimage.morphology import thin\n",
    "from skimage import data, filters\n",
    "from random import choice\n",
    "import scipy.sparse\n",
    "import os\n",
    "from time import time\n",
    "from extract_graph import dic_to_sparse, from_sparse_to_graph, generate_nx_graph, prune_graph, from_nx_to_tab, from_nx_to_tab_matlab,sparse_to_doc, connections_pixel_list_to_tab, transform_list, clean_degree_4\n",
    "from time import sleep\n",
    "from skimage.feature import hessian_matrix_det\n",
    "from experiment_class_surf import Experiment,clean_exp_with_hyphaes\n",
    "from hyphae_id_surf import clean_and_relabel, get_mother, save_hyphaes, resolve_ambiguity_two_ends,solve_degree4, clean_obvious_fake_tips, get_pixel_growth_and_new_children\n",
    "from subprocess import call\n",
    "import open3d as o3d\n",
    "import sklearn\n",
    "from Analysis.util import *\n",
    "from directory import directory, path_code\n",
    "from Analysis.data_info import *\n",
    "from scipy import stats\n",
    "from scipy.ndimage.filters import uniform_filter1d\n",
    "from statsmodels.stats import weightstats as stests"
   ]
  },
  {
   "cell_type": "code",
   "execution_count": 2,
   "metadata": {},
   "outputs": [
    {
     "name": "stdout",
     "output_type": "stream",
     "text": [
      "begin = 2020-11-19 20:21:00 \n",
      "  end = 2020-11-25 18:06:00\n"
     ]
    }
   ],
   "source": [
    "directory = \"/projects/0/einf914/data/\"\n",
    "\n",
    "exp = get_exp((40,0,37),directory)"
   ]
  },
  {
   "cell_type": "code",
   "execution_count": 3,
   "metadata": {},
   "outputs": [],
   "source": [
    "exp.load_compressed_skel()"
   ]
  },
  {
   "cell_type": "code",
   "execution_count": 27,
   "metadata": {},
   "outputs": [],
   "source": [
    "def get_width_hypha(hypha,t):\n",
    "    nodes, edges = hypha.get_nodes_within(t)\n",
    "    widths = [edge.width(t) for edge in edges]\n",
    "    lengths = [len(edge.pixel_list(t)) for edge in edges]\n",
    "    weighted = [widths[i]*lengths[i] for i in range(len(widths))]\n",
    "    return(np.sum(weighted)/np.sum(lengths))\n",
    "\n",
    "def get_rh_bas(exp,criter):\n",
    "    select_hyph = get_hyph_infos(exp)\n",
    "    max_speeds = []\n",
    "    total_growths = []\n",
    "    lengths = []\n",
    "    branch_frequ = []\n",
    "    hyph_l = []\n",
    "    RH=[]\n",
    "    BAS=[]\n",
    "    widths=[]\n",
    "    for hyph in exp.hyphaes:\n",
    "        speeds = [c[2] for c in select_hyph[hyph]]\n",
    "        ts = [c[0] for c in select_hyph[hyph]]\n",
    "        tp1s = [c[1] for c in select_hyph[hyph]]\n",
    "        if len(speeds)>0:\n",
    "            length = hyph.get_length_um(hyph.ts[-1])\n",
    "            nodes = hyph.get_nodes_within(hyph.ts[-1])[0]\n",
    "            max_speed = np.max(speeds)\n",
    "            total_growth = np.sum([speed * get_time(exp,ts[i],tp1s[i]) for i,speed in enumerate(speeds)])\n",
    "            if criter(max_speed,length):\n",
    "                RH.append(hyph)\n",
    "            else:\n",
    "                BAS.append(hyph)\n",
    "            lengths.append(length)\n",
    "            max_speeds.append(max_speed)\n",
    "            total_growths.append(total_growth)\n",
    "            branch_frequ.append((len(nodes)-1)/(length+1))\n",
    "            hyph_l.append(hyph)\n",
    "            widths.append(get_width_hypha(hyph,hyph.ts[-1]))\n",
    "        else:\n",
    "            BAS.append(hyph)            \n",
    "    return(RH, BAS, max_speeds, total_growths, widths, lengths, branch_frequ,select_hyph)"
   ]
  },
  {
   "cell_type": "code",
   "execution_count": 5,
   "metadata": {},
   "outputs": [
    {
     "name": "stderr",
     "output_type": "stream",
     "text": [
      "/home/cbisot/anaconda3/envs/test/lib/python3.7/site-packages/ipykernel_launcher.py:6: RuntimeWarning: invalid value encountered in double_scalars\n",
      "  \n"
     ]
    }
   ],
   "source": [
    "widths=[(hyph,get_width_hypha(hyph,hyph.ts[-1])) for hyph in exp.hyphaes if len(hyph.ts)>0]"
   ]
  },
  {
   "cell_type": "code",
   "execution_count": 6,
   "metadata": {},
   "outputs": [],
   "source": [
    "width_real =[c for c in widths if c[1]<160]\n",
    "widths_fin = [c[1] for c in width_real]\n",
    "lengths = [c[0].get_length_um(c[0].ts[-1]) for c in width_real]"
   ]
  },
  {
   "cell_type": "code",
   "execution_count": 7,
   "metadata": {},
   "outputs": [
    {
     "name": "stderr",
     "output_type": "stream",
     "text": [
      "/home/cbisot/anaconda3/envs/test/lib/python3.7/site-packages/matplotlib/__init__.py:880: MatplotlibDeprecationWarning: \n",
      "nbagg.transparent\n",
      "  version, key, obj_type=\"rcparam\", alternative=alt_key)\n"
     ]
    },
    {
     "data": {
      "application/vnd.jupyter.widget-view+json": {
       "model_id": "961c226159454fd7b50099837aa270df",
       "version_major": 2,
       "version_minor": 0
      },
      "text/plain": [
       "Canvas(toolbar=Toolbar(toolitems=[('Home', 'Reset original view', 'home', 'home'), ('Back', 'Back to previous …"
      ]
     },
     "metadata": {},
     "output_type": "display_data"
    },
    {
     "data": {
      "text/plain": [
       "Text(0, 0.5, 'length ($\\\\mu m $)')"
      ]
     },
     "execution_count": 7,
     "metadata": {},
     "output_type": "execute_result"
    }
   ],
   "source": [
    "fig = plt.figure()\n",
    "ax = fig.add_subplot(111)\n",
    "ax.scatter(widths_fin,lengths)\n",
    "ax.set_xlabel(r'width ($\\mu m $)')\n",
    "ax.set_ylabel(r'length ($\\mu m $)')"
   ]
  },
  {
   "cell_type": "code",
   "execution_count": 28,
   "metadata": {},
   "outputs": [
    {
     "name": "stdout",
     "output_type": "stream",
     "text": [
      "begin = 2020-11-19 20:21:00 \n",
      "  end = 2020-11-25 18:06:00\n"
     ]
    },
    {
     "name": "stderr",
     "output_type": "stream",
     "text": [
      "/home/cbisot/anaconda3/envs/test/lib/python3.7/site-packages/ipykernel_launcher.py:6: RuntimeWarning: invalid value encountered in double_scalars\n",
      "  \n"
     ]
    }
   ],
   "source": [
    "RH, BAS, max_speeds, total_growths, widths_sp, lengths, branch_frequ,select_hyph = get_rh_bas(get_exp((40,0,37),directory),criter)"
   ]
  },
  {
   "cell_type": "code",
   "execution_count": 30,
   "metadata": {},
   "outputs": [
    {
     "data": {
      "application/vnd.jupyter.widget-view+json": {
       "model_id": "3ffd3ca30c494cbd8e2c7ac309ad07ca",
       "version_major": 2,
       "version_minor": 0
      },
      "text/plain": [
       "Canvas(toolbar=Toolbar(toolitems=[('Home', 'Reset original view', 'home', 'home'), ('Back', 'Back to previous …"
      ]
     },
     "metadata": {},
     "output_type": "display_data"
    },
    {
     "data": {
      "text/plain": [
       "Text(0, 0.5, 'max speed ($\\\\mu m.s^{-1}$)')"
      ]
     },
     "execution_count": 30,
     "metadata": {},
     "output_type": "execute_result"
    }
   ],
   "source": [
    "fig = plt.figure()\n",
    "ax = fig.add_subplot(111)\n",
    "ax.scatter(widths_sp,max_speeds)\n",
    "ax.set_xlabel(r'width ($\\mu m $)')\n",
    "ax.set_ylabel(r'max speed ($\\mu m.s^{-1}$)')"
   ]
  },
  {
   "cell_type": "code",
   "execution_count": 11,
   "metadata": {},
   "outputs": [
    {
     "name": "stderr",
     "output_type": "stream",
     "text": [
      "/home/cbisot/anaconda3/envs/test/lib/python3.7/site-packages/ipykernel_launcher.py:6: RuntimeWarning: invalid value encountered in double_scalars\n",
      "  \n"
     ]
    }
   ],
   "source": [
    "widths_rh = [get_width_hypha(hyph,hyph.ts[-1]) for hyph in RH]\n",
    "widths_bas = [get_width_hypha(hyph,hyph.ts[-1]) for hyph in BAS if len(hyph.ts)>0]"
   ]
  },
  {
   "cell_type": "code",
   "execution_count": 25,
   "metadata": {},
   "outputs": [
    {
     "data": {
      "text/plain": [
       "171"
      ]
     },
     "execution_count": 25,
     "metadata": {},
     "output_type": "execute_result"
    }
   ],
   "source": [
    "len(widths_rh)"
   ]
  },
  {
   "cell_type": "code",
   "execution_count": 26,
   "metadata": {},
   "outputs": [
    {
     "data": {
      "text/plain": [
       "180"
      ]
     },
     "execution_count": 26,
     "metadata": {},
     "output_type": "execute_result"
    }
   ],
   "source": [
    "len(RH)"
   ]
  },
  {
   "cell_type": "code",
   "execution_count": 24,
   "metadata": {},
   "outputs": [
    {
     "data": {
      "application/vnd.jupyter.widget-view+json": {
       "model_id": "fb38cb41e05e4b939b95d6b30f0413bf",
       "version_major": 2,
       "version_minor": 0
      },
      "text/plain": [
       "Canvas(toolbar=Toolbar(toolitems=[('Home', 'Reset original view', 'home', 'home'), ('Back', 'Back to previous …"
      ]
     },
     "metadata": {},
     "output_type": "display_data"
    },
    {
     "data": {
      "text/plain": [
       "<matplotlib.legend.Legend at 0x2b5787dc3350>"
      ]
     },
     "execution_count": 24,
     "metadata": {},
     "output_type": "execute_result"
    }
   ],
   "source": [
    "\n",
    "widths_rh = [width for width in widths_rh if width<160]\n",
    "widths_bas = [width for width in widths_bas if width<160]\n",
    "fig = plt.figure()\n",
    "bins = np.linspace(0, 160, 30)\n",
    "ax = fig.add_subplot(111)\n",
    "ax.hist(widths_rh,bins,alpha=0.5,label='rh',density=True)\n",
    "ax.hist(widths_bas,bins,alpha=0.5,label='bas',density=True)\n",
    "ax.set_xlabel(r'width ($\\mu m $)')\n",
    "plt.legend(loc='upper right')\n",
    "# ax.set_ylabel(r'length ($\\mu m $)')"
   ]
  },
  {
   "cell_type": "code",
   "execution_count": 78,
   "metadata": {},
   "outputs": [
    {
     "data": {
      "text/plain": [
       "([11, 12, 13, 14, 15, 16, 17],\n",
       " [Hyphae(226,229)],\n",
       " [[3,\n",
       "   4,\n",
       "   5,\n",
       "   6,\n",
       "   7,\n",
       "   8,\n",
       "   9,\n",
       "   10,\n",
       "   11,\n",
       "   12,\n",
       "   13,\n",
       "   14,\n",
       "   15,\n",
       "   16,\n",
       "   17,\n",
       "   18,\n",
       "   19,\n",
       "   20,\n",
       "   21,\n",
       "   22,\n",
       "   23,\n",
       "   24,\n",
       "   25,\n",
       "   26,\n",
       "   27,\n",
       "   28,\n",
       "   29,\n",
       "   30,\n",
       "   31,\n",
       "   32,\n",
       "   33,\n",
       "   34,\n",
       "   35,\n",
       "   36,\n",
       "   37]])"
      ]
     },
     "execution_count": 78,
     "metadata": {},
     "output_type": "execute_result"
    }
   ],
   "source": [
    "hyph = choice(RH)\n",
    "hyph.ts,hyph.mother,[h.ts for h in hyph.mother]"
   ]
  },
  {
   "cell_type": "code",
   "execution_count": 80,
   "metadata": {},
   "outputs": [],
   "source": [
    "times=[]\n",
    "widths_t=[]\n",
    "for rh in RH:\n",
    "    for t in rh.ts:\n",
    "        width = get_width_hypha(rh,t)\n",
    "        if width<80:\n",
    "            times.append(t)\n",
    "            widths_t.append(width)"
   ]
  },
  {
   "cell_type": "code",
   "execution_count": 81,
   "metadata": {},
   "outputs": [
    {
     "name": "stderr",
     "output_type": "stream",
     "text": [
      "/home/cbisot/anaconda3/envs/test/lib/python3.7/site-packages/matplotlib/__init__.py:880: MatplotlibDeprecationWarning: \n",
      "nbagg.transparent\n",
      "  version, key, obj_type=\"rcparam\", alternative=alt_key)\n"
     ]
    },
    {
     "data": {
      "application/vnd.jupyter.widget-view+json": {
       "model_id": "a3134da90680452798b8d7f555460964",
       "version_major": 2,
       "version_minor": 0
      },
      "text/plain": [
       "Canvas(toolbar=Toolbar(toolitems=[('Home', 'Reset original view', 'home', 'home'), ('Back', 'Back to previous …"
      ]
     },
     "metadata": {},
     "output_type": "display_data"
    },
    {
     "data": {
      "text/plain": [
       "Text(0, 0.5, 'width ($\\\\mu m $)')"
      ]
     },
     "execution_count": 81,
     "metadata": {},
     "output_type": "execute_result"
    }
   ],
   "source": [
    "plt.close('all')\n",
    "fig = plt.figure()\n",
    "ax = fig.add_subplot(111)\n",
    "ax.scatter(times,widths_t)\n",
    "ax.set_xlabel('timestep')\n",
    "ax.set_ylabel(r'width ($\\mu m $)')"
   ]
  },
  {
   "cell_type": "code",
   "execution_count": 84,
   "metadata": {},
   "outputs": [],
   "source": [
    "slope, intercept, r_value, p_value, std_err = stats.linregress(times,speeds)"
   ]
  },
  {
   "cell_type": "code",
   "execution_count": 85,
   "metadata": {},
   "outputs": [
    {
     "data": {
      "application/vnd.jupyter.widget-view+json": {
       "model_id": "de8603d58cea4bd5bc0783beeeb58bc4",
       "version_major": 2,
       "version_minor": 0
      },
      "text/plain": [
       "Canvas(toolbar=Toolbar(toolitems=[('Home', 'Reset original view', 'home', 'home'), ('Back', 'Back to previous …"
      ]
     },
     "metadata": {},
     "output_type": "display_data"
    },
    {
     "data": {
      "text/plain": [
       "<matplotlib.legend.Legend at 0x2b576dd70c10>"
      ]
     },
     "execution_count": 85,
     "metadata": {},
     "output_type": "execute_result"
    }
   ],
   "source": [
    "speeds= widths_t\n",
    "zipped_list = zip(times,speeds)\n",
    "sorted_zip = sorted(zipped_list)\n",
    "times_sort,speed_sort = zip(*sorted_zip)\n",
    "fig=plt.figure(figsize=(8,8))\n",
    "ax = fig.add_subplot(111)\n",
    "ax.set_xlabel('time since start of imaging ($hour$)')\n",
    "ax.set_ylabel('speed ($\\mu m.hour^{-1})$')\n",
    "xlim = 36\n",
    "ax.set_xlim((0,xlim))\n",
    "ax.set_ylim((0,450))\n",
    "\n",
    "x= range(0,xlim)\n",
    "\n",
    "N=30\n",
    "ax.scatter(times_sort,speed_sort,color='yellow',label='observed speeds')\n",
    "ax.plot(uniform_filter1d(times_sort, size=N),uniform_filter1d(speed_sort, size=N),color='green',label = 'moving average')\n",
    "# ax.set_title(r'$r^2=$'+f'{round(r_value**2,max(2,-int(np.log10(r_value**2))+2))}, p_value = {round(p_value**2,max(2,-int(np.log10(p_value**2))+2))}, slope = {round(slope,4)}')\n",
    "x= range(0,xlim+1)\n",
    "legend_str = r'linear regression : $r^2=$'+f'{round(r_value**2,max(2,-int(np.log10(r_value**2))+2))}, p-value = {round(p_value,max(2,-int(np.log10(p_value))+2))}, slope = {round(slope,4)}'\n",
    "line, = ax.plot(x,x*slope+intercept,color='red',label = legend_str)\n",
    "ax.legend()"
   ]
  },
  {
   "cell_type": "code",
   "execution_count": 79,
   "metadata": {},
   "outputs": [
    {
     "data": {
      "application/vnd.jupyter.widget-view+json": {
       "model_id": "356507e4648744f3ba135b0764b614eb",
       "version_major": 2,
       "version_minor": 0
      },
      "text/plain": [
       "Canvas(toolbar=Toolbar(toolitems=[('Home', 'Reset original view', 'home', 'home'), ('Back', 'Back to previous …"
      ]
     },
     "metadata": {},
     "output_type": "display_data"
    },
    {
     "data": {
      "text/plain": [
       "Text(0, 0.5, 'width ($\\\\mu m $)')"
      ]
     },
     "execution_count": 79,
     "metadata": {},
     "output_type": "execute_result"
    }
   ],
   "source": [
    "plt.close('all')\n",
    "fig = plt.figure()\n",
    "ax = fig.add_subplot(111)\n",
    "ax.plot(hyph.ts,[get_width_hypha(hyph,t) for t in hyph.ts])\n",
    "ax.set_xlabel('timestep')\n",
    "ax.set_ylabel(r'width ($\\mu m $)')"
   ]
  },
  {
   "cell_type": "code",
   "execution_count": 42,
   "metadata": {
    "collapsed": true,
    "jupyter": {
     "outputs_hidden": true
    }
   },
   "outputs": [
    {
     "data": {
      "application/vnd.jupyter.widget-view+json": {
       "model_id": "5f2c9f095f184e188a1a731201fdf0f9",
       "version_major": 2,
       "version_minor": 0
      },
      "text/plain": [
       "Canvas(toolbar=Toolbar(toolitems=[('Home', 'Reset original view', 'home', 'home'), ('Back', 'Back to previous …"
      ]
     },
     "metadata": {},
     "output_type": "display_data"
    },
    {
     "data": {
      "application/vnd.jupyter.widget-view+json": {
       "model_id": "a3dd2c49f50644eca9d7a3d9ff522fac",
       "version_major": 2,
       "version_minor": 0
      },
      "text/plain": [
       "Canvas(toolbar=Toolbar(toolitems=[('Home', 'Reset original view', 'home', 'home'), ('Back', 'Back to previous …"
      ]
     },
     "metadata": {},
     "output_type": "display_data"
    }
   ],
   "source": [
    "hyph.end.show_source_image(hyph.ts[1],hyph.ts[1])\n",
    "hyph.root.show_source_image(hyph.ts[1],hyph.ts[1])\n"
   ]
  },
  {
   "cell_type": "code",
   "execution_count": 18,
   "metadata": {},
   "outputs": [
    {
     "data": {
      "text/plain": [
       "([35, 36, 37], [36, 37])"
      ]
     },
     "execution_count": 18,
     "metadata": {},
     "output_type": "execute_result"
    }
   ],
   "source": [
    "hyph.end.ts(),hyph.root.ts()"
   ]
  },
  {
   "cell_type": "code",
   "execution_count": 43,
   "metadata": {},
   "outputs": [
    {
     "name": "stderr",
     "output_type": "stream",
     "text": [
      "/home/cbisot/anaconda3/envs/test/lib/python3.7/site-packages/matplotlib/__init__.py:880: MatplotlibDeprecationWarning: \n",
      "nbagg.transparent\n",
      "  version, key, obj_type=\"rcparam\", alternative=alt_key)\n"
     ]
    },
    {
     "data": {
      "application/vnd.jupyter.widget-view+json": {
       "model_id": "cfd8b12e08bb478fa7393fb42e301d34",
       "version_major": 2,
       "version_minor": 0
      },
      "text/plain": [
       "Canvas(toolbar=Toolbar(toolitems=[('Home', 'Reset original view', 'home', 'home'), ('Back', 'Back to previous …"
      ]
     },
     "metadata": {},
     "output_type": "display_data"
    }
   ],
   "source": [
    "plt.close('all')\n",
    "exp.plot(hyph.ts,[[hyph.end.label,hyph.root.label]]*len(hyph.ts))"
   ]
  },
  {
   "cell_type": "code",
   "execution_count": 22,
   "metadata": {},
   "outputs": [
    {
     "data": {
      "text/plain": [
       "Counter({Node(4819): 2, Node(5274): 1})"
      ]
     },
     "execution_count": 22,
     "metadata": {},
     "output_type": "execute_result"
    }
   ],
   "source": [
    "roots=[]\n",
    "for t in hyph.end.ts():\n",
    "    #             print(t,tip)\n",
    "    if hyph.end.degree(t) == 1:\n",
    "        root, edges, nodes = hyph.get_edges(t, 200)\n",
    "        roots.append(root)\n",
    "occurence_count = Counter(roots)\n",
    "occurence_count"
   ]
  }
 ],
 "metadata": {
  "kernelspec": {
   "display_name": "Python 3",
   "language": "python",
   "name": "python3"
  },
  "language_info": {
   "codemirror_mode": {
    "name": "ipython",
    "version": 3
   },
   "file_extension": ".py",
   "mimetype": "text/x-python",
   "name": "python",
   "nbconvert_exporter": "python",
   "pygments_lexer": "ipython3",
   "version": "3.7.7"
  }
 },
 "nbformat": 4,
 "nbformat_minor": 4
}

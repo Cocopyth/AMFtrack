{
 "cells": [
  {
   "cell_type": "code",
   "execution_count": 1,
   "metadata": {},
   "outputs": [],
   "source": [
    "%matplotlib widget\n",
    "\n",
    "import sys  \n",
    "sys.path.insert(0, '/home/cbisot/pycode/MscThesis/')\n",
    "import pandas as pd\n",
    "from sample.util import get_dates_datetime, get_dirname, get_plate_number, get_postion_number\n",
    "\n",
    "import ast\n",
    "from sample.plotutil import plot_t_tp1\n",
    "from scipy import sparse\n",
    "from datetime import datetime\n",
    "from sample.pipeline.functions.node_id import orient\n",
    "import pickle\n",
    "import scipy.io as sio\n",
    "from pymatreader import read_mat\n",
    "from matplotlib import colors\n",
    "import cv2\n",
    "import imageio\n",
    "import matplotlib.pyplot as plt\n",
    "import numpy as np\n",
    "from skimage.filters import frangi\n",
    "from skimage import filters\n",
    "from random import choice\n",
    "import scipy.sparse\n",
    "import os\n",
    "from sample.pipeline.functions.extract_graph import from_sparse_to_graph, generate_nx_graph, sparse_to_doc\n",
    "from skimage.feature import hessian_matrix_det\n",
    "from sample.pipeline.functions.experiment_class_surf import Experiment\n",
    "from sample.paths.directory import run_parallel, find_state, directory_scratch, directory_project, path_code\n",
    "\n",
    "from sample.notebooks.analysis.data_info import *\n",
    "import matplotlib.patches as mpatches\n",
    "from statsmodels.stats import weightstats as stests\n"
   ]
  },
  {
   "cell_type": "code",
   "execution_count": 2,
   "metadata": {},
   "outputs": [
    {
     "ename": "FileNotFoundError",
     "evalue": "[Errno 2] No such file or directory: '/home/cbisot/pycode//MscThesis/Results/straight_800_(10, 0, 10).pick'",
     "output_type": "error",
     "traceback": [
      "\u001b[0;31m---------------------------------------------------------------------------\u001b[0m",
      "\u001b[0;31mFileNotFoundError\u001b[0m                         Traceback (most recent call last)",
      "\u001b[0;32m<ipython-input-2-1627df108ad4>\u001b[0m in \u001b[0;36m<module>\u001b[0;34m\u001b[0m\n\u001b[1;32m      4\u001b[0m     \u001b[0minsts\u001b[0m \u001b[0;34m=\u001b[0m \u001b[0mtreatments\u001b[0m\u001b[0;34m[\u001b[0m\u001b[0mtreatment\u001b[0m\u001b[0;34m]\u001b[0m\u001b[0;34m\u001b[0m\u001b[0;34m\u001b[0m\u001b[0m\n\u001b[1;32m      5\u001b[0m     \u001b[0;32mfor\u001b[0m \u001b[0minst\u001b[0m \u001b[0;32min\u001b[0m \u001b[0minsts\u001b[0m\u001b[0;34m:\u001b[0m\u001b[0;34m\u001b[0m\u001b[0;34m\u001b[0m\u001b[0m\n\u001b[0;32m----> 6\u001b[0;31m         \u001b[0mresults\u001b[0m\u001b[0;34m[\u001b[0m\u001b[0minst\u001b[0m\u001b[0;34m]\u001b[0m \u001b[0;34m=\u001b[0m \u001b[0mpickle\u001b[0m\u001b[0;34m.\u001b[0m\u001b[0mload\u001b[0m\u001b[0;34m(\u001b[0m\u001b[0mopen\u001b[0m\u001b[0;34m(\u001b[0m\u001b[0;34mf'{path_code}/MscThesis/Results/straight_{window}_{inst}.pick'\u001b[0m\u001b[0;34m,\u001b[0m \u001b[0;34m\"rb\"\u001b[0m\u001b[0;34m)\u001b[0m\u001b[0;34m)\u001b[0m\u001b[0;34m\u001b[0m\u001b[0;34m\u001b[0m\u001b[0m\n\u001b[0m",
      "\u001b[0;31mFileNotFoundError\u001b[0m: [Errno 2] No such file or directory: '/home/cbisot/pycode//MscThesis/Results/straight_800_(10, 0, 10).pick'"
     ]
    }
   ],
   "source": [
    "window=800\n",
    "results={}\n",
    "for treatment in treatments.keys():\n",
    "    insts = treatments[treatment]\n",
    "    for inst in insts:\n",
    "        results[inst] = pickle.load(open(f'{path_code}/MscThesis/Results/straight_{window}_{inst}.pick', \"rb\"))"
   ]
  },
  {
   "cell_type": "markdown",
   "metadata": {},
   "source": [
    "***tortuosities vs treatment***"
   ]
  },
  {
   "cell_type": "code",
   "execution_count": 3,
   "metadata": {},
   "outputs": [
    {
     "ename": "KeyError",
     "evalue": "(10, 0, 10)",
     "output_type": "error",
     "traceback": [
      "\u001b[0;31m---------------------------------------------------------------------------\u001b[0m",
      "\u001b[0;31mKeyError\u001b[0m                                  Traceback (most recent call last)",
      "\u001b[0;32m<ipython-input-3-47845c3fb039>\u001b[0m in \u001b[0;36m<module>\u001b[0;34m\u001b[0m\n\u001b[1;32m      4\u001b[0m     \u001b[0minsts\u001b[0m \u001b[0;34m=\u001b[0m \u001b[0mtreatments\u001b[0m\u001b[0;34m[\u001b[0m\u001b[0mtreatment\u001b[0m\u001b[0;34m]\u001b[0m\u001b[0;34m\u001b[0m\u001b[0;34m\u001b[0m\u001b[0m\n\u001b[1;32m      5\u001b[0m     \u001b[0;32mfor\u001b[0m \u001b[0minst\u001b[0m \u001b[0;32min\u001b[0m \u001b[0minsts\u001b[0m\u001b[0;34m:\u001b[0m\u001b[0;34m\u001b[0m\u001b[0;34m\u001b[0m\u001b[0m\n\u001b[0;32m----> 6\u001b[0;31m         \u001b[0mangles\u001b[0m\u001b[0;34m,\u001b[0m \u001b[0mcurvatures\u001b[0m\u001b[0;34m,\u001b[0m \u001b[0mdensities\u001b[0m\u001b[0;34m,\u001b[0m\u001b[0mgrowths\u001b[0m\u001b[0;34m,\u001b[0m\u001b[0mspeeds\u001b[0m\u001b[0;34m,\u001b[0m\u001b[0mtortuosities\u001b[0m\u001b[0;34m,\u001b[0m\u001b[0mts\u001b[0m\u001b[0;34m,\u001b[0m\u001b[0mhyphs\u001b[0m \u001b[0;34m=\u001b[0m \u001b[0mresults\u001b[0m\u001b[0;34m[\u001b[0m\u001b[0minst\u001b[0m\u001b[0;34m]\u001b[0m\u001b[0;34m\u001b[0m\u001b[0;34m\u001b[0m\u001b[0m\n\u001b[0m\u001b[1;32m      7\u001b[0m         \u001b[0;32mfor\u001b[0m \u001b[0mi\u001b[0m\u001b[0;34m,\u001b[0m\u001b[0mangle\u001b[0m \u001b[0;32min\u001b[0m \u001b[0menumerate\u001b[0m\u001b[0;34m(\u001b[0m\u001b[0mangles\u001b[0m\u001b[0;34m)\u001b[0m\u001b[0;34m:\u001b[0m\u001b[0;34m\u001b[0m\u001b[0;34m\u001b[0m\u001b[0m\n\u001b[1;32m      8\u001b[0m             new_line = pd.DataFrame(\n",
      "\u001b[0;31mKeyError\u001b[0m: (10, 0, 10)"
     ]
    }
   ],
   "source": [
    "column_names = [\"plate\",\"inst\", \"treatment\", \"angle\", \"curvature\",\"density\",\"growth\",\"speed\",\"straightness\",\"t\",\"hyph\"]\n",
    "infos = pd.DataFrame(columns=column_names)\n",
    "for treatment in treatments.keys():\n",
    "    insts = treatments[treatment]\n",
    "    for inst in insts:\n",
    "        angles, curvatures, densities,growths,speeds,tortuosities,ts,hyphs = results[inst]\n",
    "        for i,angle in enumerate(angles):\n",
    "            new_line = pd.DataFrame(\n",
    "                {   \"plate\": [plate_number[inst]],\n",
    "                    \"inst\": [inst],\n",
    "                    \"treatment\": [treatment],\n",
    "                    \"angle\": [angle],\n",
    "                    \"curvature\": [curvatures[i]],\n",
    "                    \"density\": [densities[i]],\n",
    "                    \"growth\": [growths[i]],\n",
    "                    \"speed\": [speeds[i]],\n",
    "                    \"straightness\": [tortuosities[i]],\n",
    "                     \"t\": [ts[i]],\n",
    "                     \"hyph\": [hyphs[i]],\n",
    "                }\n",
    "            )  # index 0 for\n",
    "            # mothers need to be modified to resolve multi mother issue\n",
    "            infos = infos.append(new_line, ignore_index=True)"
   ]
  },
  {
   "cell_type": "code",
   "execution_count": 4,
   "metadata": {},
   "outputs": [],
   "source": [
    "corrected = infos.loc[infos[\"straightness\"] <= 1]"
   ]
  },
  {
   "cell_type": "code",
   "execution_count": 10,
   "metadata": {
    "collapsed": true,
    "jupyter": {
     "outputs_hidden": true
    }
   },
   "outputs": [
    {
     "data": {
      "text/html": [
       "<div>\n",
       "<style scoped>\n",
       "    .dataframe tbody tr th:only-of-type {\n",
       "        vertical-align: middle;\n",
       "    }\n",
       "\n",
       "    .dataframe tbody tr th {\n",
       "        vertical-align: top;\n",
       "    }\n",
       "\n",
       "    .dataframe thead th {\n",
       "        text-align: right;\n",
       "    }\n",
       "</style>\n",
       "<table border=\"1\" class=\"dataframe\">\n",
       "  <thead>\n",
       "    <tr style=\"text-align: right;\">\n",
       "      <th></th>\n",
       "      <th>plate</th>\n",
       "      <th>inst</th>\n",
       "      <th>treatment</th>\n",
       "      <th>angle</th>\n",
       "      <th>curvature</th>\n",
       "      <th>density</th>\n",
       "      <th>growth</th>\n",
       "      <th>speed</th>\n",
       "      <th>straightness</th>\n",
       "      <th>t</th>\n",
       "      <th>hyph</th>\n",
       "    </tr>\n",
       "  </thead>\n",
       "  <tbody>\n",
       "    <tr>\n",
       "      <th>0</th>\n",
       "      <td>296</td>\n",
       "      <td>(9, 0, 11)</td>\n",
       "      <td>25</td>\n",
       "      <td>6.864531</td>\n",
       "      <td>0.011940</td>\n",
       "      <td>1.973913</td>\n",
       "      <td>574.929348</td>\n",
       "      <td>143.732337</td>\n",
       "      <td>0.997008</td>\n",
       "      <td>5.316667</td>\n",
       "      <td>65</td>\n",
       "    </tr>\n",
       "    <tr>\n",
       "      <th>1</th>\n",
       "      <td>296</td>\n",
       "      <td>(9, 0, 11)</td>\n",
       "      <td>25</td>\n",
       "      <td>3.628532</td>\n",
       "      <td>0.006586</td>\n",
       "      <td>1.834783</td>\n",
       "      <td>550.984831</td>\n",
       "      <td>137.746208</td>\n",
       "      <td>0.988864</td>\n",
       "      <td>9.316667</td>\n",
       "      <td>65</td>\n",
       "    </tr>\n",
       "    <tr>\n",
       "      <th>2</th>\n",
       "      <td>296</td>\n",
       "      <td>(9, 0, 11)</td>\n",
       "      <td>25</td>\n",
       "      <td>-2.438101</td>\n",
       "      <td>-0.003874</td>\n",
       "      <td>2.368116</td>\n",
       "      <td>629.319466</td>\n",
       "      <td>157.329867</td>\n",
       "      <td>0.992084</td>\n",
       "      <td>13.316667</td>\n",
       "      <td>65</td>\n",
       "    </tr>\n",
       "    <tr>\n",
       "      <th>3</th>\n",
       "      <td>296</td>\n",
       "      <td>(9, 0, 11)</td>\n",
       "      <td>25</td>\n",
       "      <td>3.433630</td>\n",
       "      <td>0.004524</td>\n",
       "      <td>2.665217</td>\n",
       "      <td>759.005213</td>\n",
       "      <td>189.751303</td>\n",
       "      <td>0.997847</td>\n",
       "      <td>17.316667</td>\n",
       "      <td>65</td>\n",
       "    </tr>\n",
       "    <tr>\n",
       "      <th>4</th>\n",
       "      <td>296</td>\n",
       "      <td>(9, 0, 11)</td>\n",
       "      <td>25</td>\n",
       "      <td>-18.883147</td>\n",
       "      <td>-0.025417</td>\n",
       "      <td>3.871014</td>\n",
       "      <td>742.928653</td>\n",
       "      <td>185.732163</td>\n",
       "      <td>0.990694</td>\n",
       "      <td>21.316667</td>\n",
       "      <td>65</td>\n",
       "    </tr>\n",
       "    <tr>\n",
       "      <th>...</th>\n",
       "      <td>...</td>\n",
       "      <td>...</td>\n",
       "      <td>...</td>\n",
       "      <td>...</td>\n",
       "      <td>...</td>\n",
       "      <td>...</td>\n",
       "      <td>...</td>\n",
       "      <td>...</td>\n",
       "      <td>...</td>\n",
       "      <td>...</td>\n",
       "      <td>...</td>\n",
       "    </tr>\n",
       "    <tr>\n",
       "      <th>2211</th>\n",
       "      <td>351</td>\n",
       "      <td>(35, 0, 15)</td>\n",
       "      <td>25</td>\n",
       "      <td>12.425943</td>\n",
       "      <td>0.020830</td>\n",
       "      <td>1.286957</td>\n",
       "      <td>596.533199</td>\n",
       "      <td>149.133300</td>\n",
       "      <td>0.973802</td>\n",
       "      <td>56.016667</td>\n",
       "      <td>17351</td>\n",
       "    </tr>\n",
       "    <tr>\n",
       "      <th>2212</th>\n",
       "      <td>351</td>\n",
       "      <td>(35, 0, 15)</td>\n",
       "      <td>25</td>\n",
       "      <td>-6.674771</td>\n",
       "      <td>-0.012112</td>\n",
       "      <td>4.501449</td>\n",
       "      <td>551.091249</td>\n",
       "      <td>137.772812</td>\n",
       "      <td>0.974202</td>\n",
       "      <td>56.016667</td>\n",
       "      <td>17566</td>\n",
       "    </tr>\n",
       "    <tr>\n",
       "      <th>2213</th>\n",
       "      <td>351</td>\n",
       "      <td>(35, 0, 15)</td>\n",
       "      <td>25</td>\n",
       "      <td>16.831669</td>\n",
       "      <td>0.033944</td>\n",
       "      <td>2.695652</td>\n",
       "      <td>495.858547</td>\n",
       "      <td>123.450261</td>\n",
       "      <td>0.993517</td>\n",
       "      <td>52.000000</td>\n",
       "      <td>18328</td>\n",
       "    </tr>\n",
       "    <tr>\n",
       "      <th>2214</th>\n",
       "      <td>351</td>\n",
       "      <td>(35, 0, 15)</td>\n",
       "      <td>25</td>\n",
       "      <td>11.477627</td>\n",
       "      <td>0.024167</td>\n",
       "      <td>2.403623</td>\n",
       "      <td>474.929134</td>\n",
       "      <td>118.732283</td>\n",
       "      <td>0.989865</td>\n",
       "      <td>56.016667</td>\n",
       "      <td>18328</td>\n",
       "    </tr>\n",
       "    <tr>\n",
       "      <th>2215</th>\n",
       "      <td>351</td>\n",
       "      <td>(35, 0, 15)</td>\n",
       "      <td>25</td>\n",
       "      <td>3.535732</td>\n",
       "      <td>0.008695</td>\n",
       "      <td>0.903623</td>\n",
       "      <td>406.618688</td>\n",
       "      <td>101.654672</td>\n",
       "      <td>0.998808</td>\n",
       "      <td>56.016667</td>\n",
       "      <td>19818</td>\n",
       "    </tr>\n",
       "  </tbody>\n",
       "</table>\n",
       "<p>2090 rows × 11 columns</p>\n",
       "</div>"
      ],
      "text/plain": [
       "     plate         inst treatment      angle  curvature   density      growth  \\\n",
       "0      296   (9, 0, 11)        25   6.864531   0.011940  1.973913  574.929348   \n",
       "1      296   (9, 0, 11)        25   3.628532   0.006586  1.834783  550.984831   \n",
       "2      296   (9, 0, 11)        25  -2.438101  -0.003874  2.368116  629.319466   \n",
       "3      296   (9, 0, 11)        25   3.433630   0.004524  2.665217  759.005213   \n",
       "4      296   (9, 0, 11)        25 -18.883147  -0.025417  3.871014  742.928653   \n",
       "...    ...          ...       ...        ...        ...       ...         ...   \n",
       "2211   351  (35, 0, 15)        25  12.425943   0.020830  1.286957  596.533199   \n",
       "2212   351  (35, 0, 15)        25  -6.674771  -0.012112  4.501449  551.091249   \n",
       "2213   351  (35, 0, 15)        25  16.831669   0.033944  2.695652  495.858547   \n",
       "2214   351  (35, 0, 15)        25  11.477627   0.024167  2.403623  474.929134   \n",
       "2215   351  (35, 0, 15)        25   3.535732   0.008695  0.903623  406.618688   \n",
       "\n",
       "           speed  straightness          t   hyph  \n",
       "0     143.732337      0.997008   5.316667     65  \n",
       "1     137.746208      0.988864   9.316667     65  \n",
       "2     157.329867      0.992084  13.316667     65  \n",
       "3     189.751303      0.997847  17.316667     65  \n",
       "4     185.732163      0.990694  21.316667     65  \n",
       "...          ...           ...        ...    ...  \n",
       "2211  149.133300      0.973802  56.016667  17351  \n",
       "2212  137.772812      0.974202  56.016667  17566  \n",
       "2213  123.450261      0.993517  52.000000  18328  \n",
       "2214  118.732283      0.989865  56.016667  18328  \n",
       "2215  101.654672      0.998808  56.016667  19818  \n",
       "\n",
       "[2090 rows x 11 columns]"
      ]
     },
     "execution_count": 10,
     "metadata": {},
     "output_type": "execute_result"
    }
   ],
   "source": [
    "corrected"
   ]
  },
  {
   "cell_type": "code",
   "execution_count": 5,
   "metadata": {},
   "outputs": [
    {
     "name": "stderr",
     "output_type": "stream",
     "text": [
      "/home/cbisot/anaconda3/envs/test/lib/python3.7/site-packages/matplotlib/__init__.py:880: MatplotlibDeprecationWarning: \n",
      "nbagg.transparent\n",
      "  version, key, obj_type=\"rcparam\", alternative=alt_key)\n"
     ]
    },
    {
     "data": {
      "application/vnd.jupyter.widget-view+json": {
       "model_id": "b5adf802010b4fcfa4d07f1f336c6b6a",
       "version_major": 2,
       "version_minor": 0
      },
      "text/plain": [
       "Canvas(toolbar=Toolbar(toolitems=[('Home', 'Reset original view', 'home', 'home'), ('Back', 'Back to previous …"
      ]
     },
     "metadata": {},
     "output_type": "display_data"
    },
    {
     "name": "stderr",
     "output_type": "stream",
     "text": [
      "/home/cbisot/anaconda3/envs/test/lib/python3.7/site-packages/numpy/core/_asarray.py:83: VisibleDeprecationWarning: Creating an ndarray from ragged nested sequences (which is a list-or-tuple of lists-or-tuples-or ndarrays with different lengths or shapes) is deprecated. If you meant to do this, you must specify 'dtype=object' when creating the ndarray\n",
      "  return array(a, dtype, copy=False, order=order)\n"
     ]
    }
   ],
   "source": [
    "fig, ax = plt.subplots(nrows=1, ncols=1, figsize=(9, 4))\n",
    "bplot1 = corrected.boxplot(column = ['speed'],by=\"plate\",figsize =(9,8),ax =ax,patch_artist=True, showfliers=False)\n",
    "colors = ['lightblue']+ ['pink'] +['lightgreen']\n",
    "for i,(artist, col) in enumerate(zip(ax.artists, colors)):\n",
    "    artist.set_edgecolor(col)\n",
    "    artist.set_facecolor(col) \n",
    "ax.set_xlabel('Plate')\n",
    "ax.set_ylabel('Speed')\n",
    "ax.set_ylim(0.9)\n",
    "plt.show()"
   ]
  },
  {
   "cell_type": "code",
   "execution_count": 6,
   "metadata": {},
   "outputs": [
    {
     "name": "stderr",
     "output_type": "stream",
     "text": [
      "/home/cbisot/anaconda3/envs/test/lib/python3.7/site-packages/matplotlib/__init__.py:880: MatplotlibDeprecationWarning: \n",
      "nbagg.transparent\n",
      "  version, key, obj_type=\"rcparam\", alternative=alt_key)\n"
     ]
    },
    {
     "data": {
      "application/vnd.jupyter.widget-view+json": {
       "model_id": "162ab102d7af4b4299eb4b519de64672",
       "version_major": 2,
       "version_minor": 0
      },
      "text/plain": [
       "Canvas(toolbar=Toolbar(toolitems=[('Home', 'Reset original view', 'home', 'home'), ('Back', 'Back to previous …"
      ]
     },
     "metadata": {},
     "output_type": "display_data"
    },
    {
     "name": "stderr",
     "output_type": "stream",
     "text": [
      "/home/cbisot/anaconda3/envs/test/lib/python3.7/site-packages/numpy/core/_asarray.py:83: VisibleDeprecationWarning: Creating an ndarray from ragged nested sequences (which is a list-or-tuple of lists-or-tuples-or ndarrays with different lengths or shapes) is deprecated. If you meant to do this, you must specify 'dtype=object' when creating the ndarray\n",
      "  return array(a, dtype, copy=False, order=order)\n"
     ]
    }
   ],
   "source": [
    "fig, ax = plt.subplots(nrows=1, ncols=1, figsize=(9, 4))\n",
    "bplot1 = corrected.boxplot(column = ['straightness'],by=\"plate\",figsize =(9,8),ax =ax,patch_artist=True, showfliers=False)\n",
    "colors = ['lightblue']+ ['pink'] +['lightgreen']\n",
    "for i,(artist, col) in enumerate(zip(ax.artists, colors)):\n",
    "    artist.set_edgecolor(col)\n",
    "    artist.set_facecolor(col) \n",
    "ax.set_xlabel('Treatment')\n",
    "ax.set_ylabel('Straightness')\n",
    "ax.set_ylim(0.9)\n",
    "plt.show()"
   ]
  },
  {
   "cell_type": "code",
   "execution_count": 16,
   "metadata": {
    "collapsed": true,
    "jupyter": {
     "outputs_hidden": true
    }
   },
   "outputs": [
    {
     "data": {
      "application/vnd.jupyter.widget-view+json": {
       "model_id": "4b7ded5091144dfbafdf16238824e767",
       "version_major": 2,
       "version_minor": 0
      },
      "text/plain": [
       "Canvas(toolbar=Toolbar(toolitems=[('Home', 'Reset original view', 'home', 'home'), ('Back', 'Back to previous …"
      ]
     },
     "metadata": {},
     "output_type": "display_data"
    },
    {
     "data": {
      "text/plain": [
       "<matplotlib.axes._subplots.AxesSubplot at 0x2ac741555090>"
      ]
     },
     "execution_count": 16,
     "metadata": {},
     "output_type": "execute_result"
    }
   ],
   "source": [
    "corrected.boxplot(column = ['straightness'],by=\"treatment\",figsize =(9,8))"
   ]
  },
  {
   "cell_type": "code",
   "execution_count": 43,
   "metadata": {},
   "outputs": [],
   "source": [
    "fitted_data,fitted_lambda = stats.boxcox(1-corrected.loc[corrected[\"treatment\"] == 'baits']['straightness']) "
   ]
  },
  {
   "cell_type": "code",
   "execution_count": 55,
   "metadata": {},
   "outputs": [
    {
     "data": {
      "text/plain": [
       "0.053559026311838766"
      ]
     },
     "execution_count": 55,
     "metadata": {},
     "output_type": "execute_result"
    }
   ],
   "source": [
    "fitted_lambda "
   ]
  },
  {
   "cell_type": "code",
   "execution_count": 44,
   "metadata": {},
   "outputs": [],
   "source": [
    "data25 = stats.boxcox(1-corrected.loc[corrected[\"treatment\"] == '25']['straightness'],lmbda = fitted_lambda) \n",
    "data30 = stats.boxcox(1-corrected.loc[corrected[\"treatment\"] == '30']['straightness'],lmbda = fitted_lambda) \n",
    "databaits = stats.boxcox(1-corrected.loc[corrected[\"treatment\"] == 'baits']['straightness'],lmbda = fitted_lambda) "
   ]
  },
  {
   "cell_type": "code",
   "execution_count": 47,
   "metadata": {},
   "outputs": [
    {
     "data": {
      "application/vnd.jupyter.widget-view+json": {
       "model_id": "6e56e5cc48f74af2940312bf70b03ec9",
       "version_major": 2,
       "version_minor": 0
      },
      "text/plain": [
       "Canvas(toolbar=Toolbar(toolitems=[('Home', 'Reset original view', 'home', 'home'), ('Back', 'Back to previous …"
      ]
     },
     "metadata": {},
     "output_type": "display_data"
    },
    {
     "data": {
      "text/plain": [
       "(array([ 1.,  0.,  0.,  0.,  0.,  0.,  0.,  7.,  1.,  8.,  7.,  8., 13.,\n",
       "        28., 37., 42., 47., 37., 56., 41., 26., 18., 23., 23., 12., 17.,\n",
       "         6.,  1.,  5.,  3.]),\n",
       " array([-7.5338744 , -7.33467203, -7.13546966, -6.9362673 , -6.73706493,\n",
       "        -6.53786256, -6.3386602 , -6.13945783, -5.94025546, -5.7410531 ,\n",
       "        -5.54185073, -5.34264836, -5.143446  , -4.94424363, -4.74504126,\n",
       "        -4.5458389 , -4.34663653, -4.14743416, -3.94823179, -3.74902943,\n",
       "        -3.54982706, -3.35062469, -3.15142233, -2.95221996, -2.75301759,\n",
       "        -2.55381523, -2.35461286, -2.15541049, -1.95620813, -1.75700576,\n",
       "        -1.55780339]),\n",
       " <a list of 30 Patch objects>)"
      ]
     },
     "execution_count": 47,
     "metadata": {},
     "output_type": "execute_result"
    }
   ],
   "source": [
    "fig=plt.figure(figsize=(10,9))\n",
    "ax = fig.add_subplot(111)\n",
    "# ax.hist(corrected.loc[corrected[\"treatment\"] == 'baits']['straightness'],30)\n",
    "ax.hist(databaits,30)"
   ]
  },
  {
   "cell_type": "code",
   "execution_count": 19,
   "metadata": {},
   "outputs": [
    {
     "data": {
      "text/html": [
       "<table class=\"simpletable\">\n",
       "<caption>OLS Regression Results</caption>\n",
       "<tr>\n",
       "  <th>Dep. Variable:</th>      <td>straightness</td>   <th>  R-squared:         </th> <td>   0.150</td>\n",
       "</tr>\n",
       "<tr>\n",
       "  <th>Model:</th>                   <td>OLS</td>       <th>  Adj. R-squared:    </th> <td>   0.148</td>\n",
       "</tr>\n",
       "<tr>\n",
       "  <th>Method:</th>             <td>Least Squares</td>  <th>  F-statistic:       </th> <td>   73.12</td>\n",
       "</tr>\n",
       "<tr>\n",
       "  <th>Date:</th>             <td>Fri, 29 Jan 2021</td> <th>  Prob (F-statistic):</th> <td>5.81e-30</td>\n",
       "</tr>\n",
       "<tr>\n",
       "  <th>Time:</th>                 <td>12:17:55</td>     <th>  Log-Likelihood:    </th> <td>  1815.1</td>\n",
       "</tr>\n",
       "<tr>\n",
       "  <th>No. Observations:</th>      <td>   829</td>      <th>  AIC:               </th> <td>  -3624.</td>\n",
       "</tr>\n",
       "<tr>\n",
       "  <th>Df Residuals:</th>          <td>   826</td>      <th>  BIC:               </th> <td>  -3610.</td>\n",
       "</tr>\n",
       "<tr>\n",
       "  <th>Df Model:</th>              <td>     2</td>      <th>                     </th>     <td> </td>   \n",
       "</tr>\n",
       "<tr>\n",
       "  <th>Covariance Type:</th>      <td>nonrobust</td>    <th>                     </th>     <td> </td>   \n",
       "</tr>\n",
       "</table>\n",
       "<table class=\"simpletable\">\n",
       "<tr>\n",
       "      <td></td>         <th>coef</th>     <th>std err</th>      <th>t</th>      <th>P>|t|</th>  <th>[0.025</th>    <th>0.975]</th>  \n",
       "</tr>\n",
       "<tr>\n",
       "  <th>Intercept</th> <td>    0.9467</td> <td>    0.004</td> <td>  212.003</td> <td> 0.000</td> <td>    0.938</td> <td>    0.955</td>\n",
       "</tr>\n",
       "<tr>\n",
       "  <th>density</th>   <td>   -0.0011</td> <td>    0.000</td> <td>   -2.729</td> <td> 0.006</td> <td>   -0.002</td> <td>   -0.000</td>\n",
       "</tr>\n",
       "<tr>\n",
       "  <th>speed</th>     <td>    0.0001</td> <td> 1.45e-05</td> <td>    9.626</td> <td> 0.000</td> <td>    0.000</td> <td>    0.000</td>\n",
       "</tr>\n",
       "</table>\n",
       "<table class=\"simpletable\">\n",
       "<tr>\n",
       "  <th>Omnibus:</th>       <td>472.734</td> <th>  Durbin-Watson:     </th> <td>   1.936</td>\n",
       "</tr>\n",
       "<tr>\n",
       "  <th>Prob(Omnibus):</th> <td> 0.000</td>  <th>  Jarque-Bera (JB):  </th> <td>3568.364</td>\n",
       "</tr>\n",
       "<tr>\n",
       "  <th>Skew:</th>          <td>-2.550</td>  <th>  Prob(JB):          </th> <td>    0.00</td>\n",
       "</tr>\n",
       "<tr>\n",
       "  <th>Kurtosis:</th>      <td>11.791</td>  <th>  Cond. No.          </th> <td>1.20e+03</td>\n",
       "</tr>\n",
       "</table><br/><br/>Notes:<br/>[1] Standard Errors assume that the covariance matrix of the errors is correctly specified.<br/>[2] The condition number is large, 1.2e+03. This might indicate that there are<br/>strong multicollinearity or other numerical problems."
      ],
      "text/plain": [
       "<class 'statsmodels.iolib.summary.Summary'>\n",
       "\"\"\"\n",
       "                            OLS Regression Results                            \n",
       "==============================================================================\n",
       "Dep. Variable:           straightness   R-squared:                       0.150\n",
       "Model:                            OLS   Adj. R-squared:                  0.148\n",
       "Method:                 Least Squares   F-statistic:                     73.12\n",
       "Date:                Fri, 29 Jan 2021   Prob (F-statistic):           5.81e-30\n",
       "Time:                        12:17:55   Log-Likelihood:                 1815.1\n",
       "No. Observations:                 829   AIC:                            -3624.\n",
       "Df Residuals:                     826   BIC:                            -3610.\n",
       "Df Model:                           2                                         \n",
       "Covariance Type:            nonrobust                                         \n",
       "==============================================================================\n",
       "                 coef    std err          t      P>|t|      [0.025      0.975]\n",
       "------------------------------------------------------------------------------\n",
       "Intercept      0.9467      0.004    212.003      0.000       0.938       0.955\n",
       "density       -0.0011      0.000     -2.729      0.006      -0.002      -0.000\n",
       "speed          0.0001   1.45e-05      9.626      0.000       0.000       0.000\n",
       "==============================================================================\n",
       "Omnibus:                      472.734   Durbin-Watson:                   1.936\n",
       "Prob(Omnibus):                  0.000   Jarque-Bera (JB):             3568.364\n",
       "Skew:                          -2.550   Prob(JB):                         0.00\n",
       "Kurtosis:                      11.791   Cond. No.                     1.20e+03\n",
       "==============================================================================\n",
       "\n",
       "Notes:\n",
       "[1] Standard Errors assume that the covariance matrix of the errors is correctly specified.\n",
       "[2] The condition number is large, 1.2e+03. This might indicate that there are\n",
       "strong multicollinearity or other numerical problems.\n",
       "\"\"\""
      ]
     },
     "execution_count": 19,
     "metadata": {},
     "output_type": "execute_result"
    }
   ],
   "source": [
    "import statsmodels.formula.api as sm\n",
    "sm.ols('straightness ~ density + speed',data = corrected.loc[corrected[\"treatment\"] == '30']).fit().summary()"
   ]
  },
  {
   "cell_type": "code",
   "execution_count": 18,
   "metadata": {},
   "outputs": [
    {
     "data": {
      "text/html": [
       "<table class=\"simpletable\">\n",
       "<caption>OLS Regression Results</caption>\n",
       "<tr>\n",
       "  <th>Dep. Variable:</th>      <td>straightness</td>   <th>  R-squared:         </th> <td>   0.100</td>\n",
       "</tr>\n",
       "<tr>\n",
       "  <th>Model:</th>                   <td>OLS</td>       <th>  Adj. R-squared:    </th> <td>   0.096</td>\n",
       "</tr>\n",
       "<tr>\n",
       "  <th>Method:</th>             <td>Least Squares</td>  <th>  F-statistic:       </th> <td>   26.91</td>\n",
       "</tr>\n",
       "<tr>\n",
       "  <th>Date:</th>             <td>Fri, 29 Jan 2021</td> <th>  Prob (F-statistic):</th> <td>8.31e-12</td>\n",
       "</tr>\n",
       "<tr>\n",
       "  <th>Time:</th>                 <td>12:16:41</td>     <th>  Log-Likelihood:    </th> <td>  1220.5</td>\n",
       "</tr>\n",
       "<tr>\n",
       "  <th>No. Observations:</th>      <td>   487</td>      <th>  AIC:               </th> <td>  -2435.</td>\n",
       "</tr>\n",
       "<tr>\n",
       "  <th>Df Residuals:</th>          <td>   484</td>      <th>  BIC:               </th> <td>  -2422.</td>\n",
       "</tr>\n",
       "<tr>\n",
       "  <th>Df Model:</th>              <td>     2</td>      <th>                     </th>     <td> </td>   \n",
       "</tr>\n",
       "<tr>\n",
       "  <th>Covariance Type:</th>      <td>nonrobust</td>    <th>                     </th>     <td> </td>   \n",
       "</tr>\n",
       "</table>\n",
       "<table class=\"simpletable\">\n",
       "<tr>\n",
       "      <td></td>         <th>coef</th>     <th>std err</th>      <th>t</th>      <th>P>|t|</th>  <th>[0.025</th>    <th>0.975]</th>  \n",
       "</tr>\n",
       "<tr>\n",
       "  <th>Intercept</th> <td>    0.9606</td> <td>    0.005</td> <td>  198.905</td> <td> 0.000</td> <td>    0.951</td> <td>    0.970</td>\n",
       "</tr>\n",
       "<tr>\n",
       "  <th>density</th>   <td>   -0.0002</td> <td>    0.001</td> <td>   -0.322</td> <td> 0.748</td> <td>   -0.001</td> <td>    0.001</td>\n",
       "</tr>\n",
       "<tr>\n",
       "  <th>speed</th>     <td>    0.0001</td> <td> 1.77e-05</td> <td>    6.454</td> <td> 0.000</td> <td> 7.94e-05</td> <td>    0.000</td>\n",
       "</tr>\n",
       "</table>\n",
       "<table class=\"simpletable\">\n",
       "<tr>\n",
       "  <th>Omnibus:</th>       <td>346.831</td> <th>  Durbin-Watson:     </th> <td>   1.559</td>\n",
       "</tr>\n",
       "<tr>\n",
       "  <th>Prob(Omnibus):</th> <td> 0.000</td>  <th>  Jarque-Bera (JB):  </th> <td>3940.374</td>\n",
       "</tr>\n",
       "<tr>\n",
       "  <th>Skew:</th>          <td>-3.081</td>  <th>  Prob(JB):          </th> <td>    0.00</td>\n",
       "</tr>\n",
       "<tr>\n",
       "  <th>Kurtosis:</th>      <td>15.499</td>  <th>  Cond. No.          </th> <td>1.24e+03</td>\n",
       "</tr>\n",
       "</table><br/><br/>Notes:<br/>[1] Standard Errors assume that the covariance matrix of the errors is correctly specified.<br/>[2] The condition number is large, 1.24e+03. This might indicate that there are<br/>strong multicollinearity or other numerical problems."
      ],
      "text/plain": [
       "<class 'statsmodels.iolib.summary.Summary'>\n",
       "\"\"\"\n",
       "                            OLS Regression Results                            \n",
       "==============================================================================\n",
       "Dep. Variable:           straightness   R-squared:                       0.100\n",
       "Model:                            OLS   Adj. R-squared:                  0.096\n",
       "Method:                 Least Squares   F-statistic:                     26.91\n",
       "Date:                Fri, 29 Jan 2021   Prob (F-statistic):           8.31e-12\n",
       "Time:                        12:16:41   Log-Likelihood:                 1220.5\n",
       "No. Observations:                 487   AIC:                            -2435.\n",
       "Df Residuals:                     484   BIC:                            -2422.\n",
       "Df Model:                           2                                         \n",
       "Covariance Type:            nonrobust                                         \n",
       "==============================================================================\n",
       "                 coef    std err          t      P>|t|      [0.025      0.975]\n",
       "------------------------------------------------------------------------------\n",
       "Intercept      0.9606      0.005    198.905      0.000       0.951       0.970\n",
       "density       -0.0002      0.001     -0.322      0.748      -0.001       0.001\n",
       "speed          0.0001   1.77e-05      6.454      0.000    7.94e-05       0.000\n",
       "==============================================================================\n",
       "Omnibus:                      346.831   Durbin-Watson:                   1.559\n",
       "Prob(Omnibus):                  0.000   Jarque-Bera (JB):             3940.374\n",
       "Skew:                          -3.081   Prob(JB):                         0.00\n",
       "Kurtosis:                      15.499   Cond. No.                     1.24e+03\n",
       "==============================================================================\n",
       "\n",
       "Notes:\n",
       "[1] Standard Errors assume that the covariance matrix of the errors is correctly specified.\n",
       "[2] The condition number is large, 1.24e+03. This might indicate that there are\n",
       "strong multicollinearity or other numerical problems.\n",
       "\"\"\""
      ]
     },
     "execution_count": 18,
     "metadata": {},
     "output_type": "execute_result"
    }
   ],
   "source": [
    "sm.ols('straightness ~ density + speed',data = corrected.loc[corrected[\"plate\"] == 69]).fit().summary()"
   ]
  },
  {
   "cell_type": "code",
   "execution_count": 20,
   "metadata": {},
   "outputs": [
    {
     "data": {
      "text/plain": [
       "579.7101449275362"
      ]
     },
     "execution_count": 20,
     "metadata": {},
     "output_type": "execute_result"
    }
   ],
   "source": [
    "1000/1.725"
   ]
  },
  {
   "cell_type": "code",
   "execution_count": 54,
   "metadata": {},
   "outputs": [
    {
     "data": {
      "text/plain": [
       "3.952093842738811e-33"
      ]
     },
     "execution_count": 54,
     "metadata": {},
     "output_type": "execute_result"
    }
   ],
   "source": [
    "ztest ,pval1 = stests.ztest(data25,data30, value=0,alternative='two-sided')\n",
    "pval1"
   ]
  },
  {
   "cell_type": "code",
   "execution_count": 52,
   "metadata": {},
   "outputs": [
    {
     "data": {
      "text/plain": [
       "1.5692013454492557e-10"
      ]
     },
     "execution_count": 52,
     "metadata": {},
     "output_type": "execute_result"
    }
   ],
   "source": [
    "ztest ,pval1 = stests.ztest(data25,databaits, value=0,alternative='two-sided')\n",
    "pval1"
   ]
  },
  {
   "cell_type": "code",
   "execution_count": 48,
   "metadata": {},
   "outputs": [
    {
     "ename": "NameError",
     "evalue": "name 'stests' is not defined",
     "output_type": "error",
     "traceback": [
      "\u001b[0;31m---------------------------------------------------------------------------\u001b[0m",
      "\u001b[0;31mNameError\u001b[0m                                 Traceback (most recent call last)",
      "\u001b[0;32m<ipython-input-48-790579732147>\u001b[0m in \u001b[0;36m<module>\u001b[0;34m\u001b[0m\n\u001b[0;32m----> 1\u001b[0;31m \u001b[0mztest\u001b[0m \u001b[0;34m,\u001b[0m\u001b[0mpval1\u001b[0m \u001b[0;34m=\u001b[0m \u001b[0mstests\u001b[0m\u001b[0;34m.\u001b[0m\u001b[0mztest\u001b[0m\u001b[0;34m(\u001b[0m\u001b[0mdata25\u001b[0m\u001b[0;34m,\u001b[0m\u001b[0mdata30\u001b[0m\u001b[0;34m,\u001b[0m\u001b[0mcorrected\u001b[0m\u001b[0;34m.\u001b[0m\u001b[0mloc\u001b[0m\u001b[0;34m[\u001b[0m\u001b[0mcorrected\u001b[0m\u001b[0;34m[\u001b[0m\u001b[0;34m\"inst\"\u001b[0m\u001b[0;34m]\u001b[0m \u001b[0;34m==\u001b[0m \u001b[0;34m(\u001b[0m\u001b[0;36m22\u001b[0m\u001b[0;34m,\u001b[0m\u001b[0;36m8\u001b[0m\u001b[0;34m,\u001b[0m\u001b[0;36m26\u001b[0m\u001b[0;34m)\u001b[0m\u001b[0;34m]\u001b[0m\u001b[0;34m[\u001b[0m\u001b[0;34m'tortuosity'\u001b[0m\u001b[0;34m]\u001b[0m\u001b[0;34m,\u001b[0m \u001b[0mcorrected\u001b[0m\u001b[0;34m.\u001b[0m\u001b[0mloc\u001b[0m\u001b[0;34m[\u001b[0m\u001b[0mcorrected\u001b[0m\u001b[0;34m[\u001b[0m\u001b[0;34m\"inst\"\u001b[0m\u001b[0;34m]\u001b[0m \u001b[0;34m==\u001b[0m \u001b[0;34m(\u001b[0m\u001b[0;36m26\u001b[0m\u001b[0;34m,\u001b[0m\u001b[0;36m30\u001b[0m\u001b[0;34m,\u001b[0m\u001b[0;36m53\u001b[0m\u001b[0;34m)\u001b[0m\u001b[0;34m]\u001b[0m\u001b[0;34m[\u001b[0m\u001b[0;34m'tortuosity'\u001b[0m\u001b[0;34m]\u001b[0m\u001b[0;34m,\u001b[0m \u001b[0mvalue\u001b[0m\u001b[0;34m=\u001b[0m\u001b[0;36m0\u001b[0m\u001b[0;34m,\u001b[0m\u001b[0malternative\u001b[0m\u001b[0;34m=\u001b[0m\u001b[0;34m'two-sided'\u001b[0m\u001b[0;34m)\u001b[0m\u001b[0;34m\u001b[0m\u001b[0;34m\u001b[0m\u001b[0m\n\u001b[0m\u001b[1;32m      2\u001b[0m \u001b[0mpval1\u001b[0m\u001b[0;34m\u001b[0m\u001b[0;34m\u001b[0m\u001b[0m\n",
      "\u001b[0;31mNameError\u001b[0m: name 'stests' is not defined"
     ]
    }
   ],
   "source": [
    "ztest ,pval1 = stests.ztest(data25,data30,corrected.loc[corrected[\"inst\"] == (22,8,26)]['tortuosity'], corrected.loc[corrected[\"inst\"] == (26,30,53)]['tortuosity'], value=0,alternative='two-sided')\n",
    "pval1"
   ]
  },
  {
   "cell_type": "code",
   "execution_count": 66,
   "metadata": {},
   "outputs": [
    {
     "name": "stderr",
     "output_type": "stream",
     "text": [
      "/home/cbisot/anaconda3/envs/test/lib/python3.7/site-packages/matplotlib/__init__.py:880: MatplotlibDeprecationWarning: \n",
      "nbagg.transparent\n",
      "  version, key, obj_type=\"rcparam\", alternative=alt_key)\n"
     ]
    },
    {
     "data": {
      "application/vnd.jupyter.widget-view+json": {
       "model_id": "76e7b01ea0e94365990076faac9a7dc9",
       "version_major": 2,
       "version_minor": 0
      },
      "text/plain": [
       "Canvas(toolbar=Toolbar(toolitems=[('Home', 'Reset original view', 'home', 'home'), ('Back', 'Back to previous …"
      ]
     },
     "metadata": {},
     "output_type": "display_data"
    },
    {
     "name": "stderr",
     "output_type": "stream",
     "text": [
      "/home/cbisot/anaconda3/envs/test/lib/python3.7/site-packages/numpy/core/_asarray.py:83: VisibleDeprecationWarning: Creating an ndarray from ragged nested sequences (which is a list-or-tuple of lists-or-tuples-or ndarrays with different lengths or shapes) is deprecated. If you meant to do this, you must specify 'dtype=object' when creating the ndarray\n",
      "  return array(a, dtype, copy=False, order=order)\n"
     ]
    }
   ],
   "source": [
    "corrected = infos.loc[infos[\"speed\"] >= 100]\n",
    "fig, ax = plt.subplots(nrows=1, ncols=1, figsize=(9, 4))\n",
    "bplot1 = corrected.boxplot(column = [\"speed\"],by=\"plate\",figsize =(9,8),ax =ax,patch_artist=True)\n",
    "colors = ['pink']*3+['lightblue']*3 +['lightgreen']*3\n",
    "for i,(artist, col) in enumerate(zip(ax.artists, colors)):\n",
    "    artist.set_edgecolor(col)\n",
    "    artist.set_facecolor(col) \n",
    "ax.set_xlabel('Plate number')\n",
    "ax.set_ylabel('Straightness')\n",
    "plt.show()"
   ]
  },
  {
   "cell_type": "code",
   "execution_count": null,
   "metadata": {},
   "outputs": [
    {
     "name": "stdout",
     "output_type": "stream",
     "text": [
      "begin = 2020-07-01 15:57:00 \n",
      "  end = 2020-07-04 19:57:00\n",
      "There is 148 RH\n",
      "begin = 2020-11-23 15:01:00 \n",
      "  end = 2020-11-26 03:02:00\n"
     ]
    }
   ],
   "source": [
    "window=800\n",
    "for treatment in treatments.keys():\n",
    "    insts = treatments[treatment]\n",
    "    for inst in insts:\n",
    "        result = get_curvature_density(inst,window)\n",
    "        pickle.dump(result, open(f'{path_code}/MscThesis/Results/straight_{window}_{inst}.pick', \"wb\"))"
   ]
  },
  {
   "cell_type": "code",
   "execution_count": 42,
   "metadata": {},
   "outputs": [
    {
     "name": "stdout",
     "output_type": "stream",
     "text": [
      "begin = 2020-12-08 10:57:00 \n",
      "  end = 2020-12-10 11:07:00\n"
     ]
    },
    {
     "data": {
      "application/vnd.jupyter.widget-view+json": {
       "model_id": "672a83f3afeb412684b3e0eea8e4e40e",
       "version_major": 2,
       "version_minor": 0
      },
      "text/plain": [
       "Canvas(toolbar=Toolbar(toolitems=[('Home', 'Reset original view', 'home', 'home'), ('Back', 'Back to previous …"
      ]
     },
     "metadata": {},
     "output_type": "display_data"
    },
    {
     "name": "stdout",
     "output_type": "stream",
     "text": [
      "There is 531 RH\n"
     ]
    }
   ],
   "source": [
    "angles,curvatures = get_all_curvature((24,104,116))"
   ]
  },
  {
   "cell_type": "code",
   "execution_count": 43,
   "metadata": {},
   "outputs": [
    {
     "data": {
      "application/vnd.jupyter.widget-view+json": {
       "model_id": "b97d7c46ea564b3297aa733cdaf38549",
       "version_major": 2,
       "version_minor": 0
      },
      "text/plain": [
       "Canvas(toolbar=Toolbar(toolitems=[('Home', 'Reset original view', 'home', 'home'), ('Back', 'Back to previous …"
      ]
     },
     "metadata": {},
     "output_type": "display_data"
    },
    {
     "data": {
      "text/plain": [
       "(-4.00015425895818, 53.04022492898531)"
      ]
     },
     "execution_count": 43,
     "metadata": {},
     "output_type": "execute_result"
    }
   ],
   "source": [
    "fig=plt.figure(figsize=(10,9))\n",
    "ax = fig.add_subplot(111)\n",
    "ax.set_xlabel('angle(°)')\n",
    "ax.set_ylabel('density')\n",
    "# ax.set_xlim((0,2))\n",
    "ax.set_title(f'mean = {round(np.nanmean(angles),max(2,-int(np.log10(abs(np.nanmean(angles))))+2))}, std = {round(np.nanstd(angles),max(2,-int(np.log10(np.nanstd(angles)))+2))}')\n",
    "ax.hist(angles,10,density=True)\n",
    "np.nanmean(angles),np.nanstd(angles)"
   ]
  },
  {
   "cell_type": "code",
   "execution_count": 45,
   "metadata": {},
   "outputs": [
    {
     "data": {
      "application/vnd.jupyter.widget-view+json": {
       "model_id": "955f2e6594844b93bf6aebf7cb28c84b",
       "version_major": 2,
       "version_minor": 0
      },
      "text/plain": [
       "Canvas(toolbar=Toolbar(toolitems=[('Home', 'Reset original view', 'home', 'home'), ('Back', 'Back to previous …"
      ]
     },
     "metadata": {},
     "output_type": "display_data"
    },
    {
     "data": {
      "text/plain": [
       "(-0.0056825003334708595, 0.05425367450462862)"
      ]
     },
     "execution_count": 45,
     "metadata": {},
     "output_type": "execute_result"
    }
   ],
   "source": [
    "fig=plt.figure(figsize=(10,9))\n",
    "ax = fig.add_subplot(111)\n",
    "ax.set_xlabel('\"curvature\",°/um')\n",
    "ax.set_ylabel('density')\n",
    "# ax.set_xlim((0,2))\n",
    "ax.set_title(f'mean = {round(np.nanmean(curvatures),max(2,-int(np.log10(abs(np.nanmean(curvatures))))+2))}, std = {round(np.nanstd(curvatures),max(2,-int(np.log10(np.nanstd(curvatures)))+2))}')\n",
    "\n",
    "ax.hist(curvatures,10,density=True)\n",
    "np.nanmean(curvatures),np.nanstd(curvatures)"
   ]
  },
  {
   "cell_type": "code",
   "execution_count": 67,
   "metadata": {},
   "outputs": [],
   "source": [
    "def get_curvature_density(inst,window):\n",
    "    exp = get_exp(inst)\n",
    "    skeletons = [sparse.csr_matrix(skel) for skel in exp.skeletons]\n",
    "    RH, BAS, max_growths, total_growths, lengths, branch_frequ, select_hyph = get_rh_bas(exp,criter)\n",
    "    angles = []\n",
    "    curvatures = []\n",
    "    densities = []\n",
    "    growths = []\n",
    "    speeds = []\n",
    "    tortuosities = []\n",
    "    print(f'There is {len(RH)} RH')\n",
    "    for hyph in RH:\n",
    "        for i,t in enumerate(hyph.ts[:-1]):\n",
    "            tp1=hyph.ts[i+1]\n",
    "            segs,nodes = get_pixel_growth_and_new_children(hyph,t,tp1)\n",
    "            speed = np.sum([get_length_um(seg) for seg in segs])/get_time(exp,t,tp1)\n",
    "            total_growth = speed * get_time(exp,t,tp1)\n",
    "            curve = [pixel for seg in segs for pixel in seg]\n",
    "            pos = hyph.end.pos(t)\n",
    "            x,y = pos[0],pos[1]\n",
    "            straight_distance = np.linalg.norm(hyph.end.pos(t)-hyph.end.pos(tp1))\n",
    "            skeleton=skeletons[t][x-window:x+window,y-window:y+window]\n",
    "            density = skeleton.count_nonzero()/(window*1.725)\n",
    "            curve_array = np.array(curve)\n",
    "            res = 50\n",
    "            index = min(res,curve_array.shape[0]-1)\n",
    "            vec1 = curve_array [index]-curve_array [0]\n",
    "            vec2 = curve_array [-1]-curve_array [-index-1]\n",
    "            if np.linalg.norm(vec1)>0 and np.linalg.norm(vec2)>0:\n",
    "                begin=vec1/np.linalg.norm(vec1)\n",
    "                end=vec2/np.linalg.norm(vec2)\n",
    "                dot_product = min(np.dot(begin, end),1)\n",
    "                if (begin[1] * end[0] - end[1] * begin[0] >= 0):  # determinant\n",
    "                    angle = -np.arccos(dot_product) / (2 * np.pi) * 360\n",
    "                else:\n",
    "                    angle = np.arccos(dot_product) / (2 * np.pi) * 360\n",
    "                inv_tortuosity = (straight_distance*1.725)/total_growth\n",
    "                if  speed>=100 and speed <400 and hyph.end.degree(tp1)<3 and inv_tortuosity>0.8 and inv_tortuosity<1.1:\n",
    "                    if np.isnan((angle/total_growth)):\n",
    "                        print(angle,total_growth,dot_product)\n",
    "                    angles.append(angle)\n",
    "                    curvatures.append(angle/total_growth)\n",
    "                    densities.append(density)\n",
    "                    growths.append(total_growth)\n",
    "                    speeds.append(speed)\n",
    "                    tortuosities.append(inv_tortuosity)\n",
    "    return(angles, curvatures, densities,growths,speeds,tortuosities)"
   ]
  },
  {
   "cell_type": "code",
   "execution_count": 68,
   "metadata": {},
   "outputs": [
    {
     "name": "stdout",
     "output_type": "stream",
     "text": [
      "begin = 2020-11-19 20:21:00 \n",
      "  end = 2020-11-25 18:06:00\n",
      "There is 189 RH\n"
     ]
    }
   ],
   "source": [
    "angles,curvatures, densities,growths, speeds, tortuosities = get_curvature_density((40,0,37),800)"
   ]
  },
  {
   "cell_type": "code",
   "execution_count": 85,
   "metadata": {},
   "outputs": [
    {
     "data": {
      "application/vnd.jupyter.widget-view+json": {
       "model_id": "ee07700dda7e49f39356285909253324",
       "version_major": 2,
       "version_minor": 0
      },
      "text/plain": [
       "Canvas(toolbar=Toolbar(toolitems=[('Home', 'Reset original view', 'home', 'home'), ('Back', 'Back to previous …"
      ]
     },
     "metadata": {},
     "output_type": "display_data"
    },
    {
     "data": {
      "text/plain": [
       "<matplotlib.legend.Legend at 0x2b47ad18d390>"
      ]
     },
     "execution_count": 85,
     "metadata": {},
     "output_type": "execute_result"
    }
   ],
   "source": [
    "plt.close('all')\n",
    "zipped_list = zip(speeds,np.abs(tortuosities))\n",
    "sorted_zip = sorted(zipped_list)\n",
    "densities_sort,curvatures_sort = zip(*sorted_zip)\n",
    "fig=plt.figure(figsize=(8,8))\n",
    "ax = fig.add_subplot(111)\n",
    "ax.set_xlabel('speed ($\\mu m.hour^{-1})$')\n",
    "ax.set_ylabel('straightness ($\\mu m. \\mu m^{-1}$)')\n",
    "xlim = int(np.max(densities_sort))+1\n",
    "ax.set_xlim((0,xlim))\n",
    "ax.set_ylim((0.8,1.05))\n",
    "slope, intercept, r_value, p_value, std_err = stats.linregress(densities_sort,np.abs(curvatures_sort))\n",
    "x= range(0,xlim)\n",
    "\n",
    "N=30\n",
    "ax.scatter(densities_sort,curvatures_sort,color='yellow',label='observed speeds')\n",
    "ax.plot(uniform_filter1d(densities_sort, size=N),uniform_filter1d(curvatures_sort, size=N),color='green',label = 'moving average')\n",
    "# ax.set_title(r'$r^2=$'+f'{round(r_value**2,max(2,-int(np.log10(r_value**2))+2))}, p_value = {round(p_value**2,max(2,-int(np.log10(p_value**2))+2))}, slope = {round(slope,4)}')\n",
    "x= range(0,xlim+1)\n",
    "legend_str = r'linear regression : $r^2=$'+f'{round(r_value**2,max(2,-int(np.log10(r_value**2))+2))}, p-value = {round(p_value,max(2,-int(np.log10(p_value))+2))}, slope = {round(slope,4)}'\n",
    "line, = ax.plot(x,x*slope+intercept,color='red',label = legend_str)\n",
    "ax.legend()"
   ]
  },
  {
   "cell_type": "code",
   "execution_count": 89,
   "metadata": {},
   "outputs": [
    {
     "data": {
      "application/vnd.jupyter.widget-view+json": {
       "model_id": "47a4f6f7129b425e8f08da8327fec2af",
       "version_major": 2,
       "version_minor": 0
      },
      "text/plain": [
       "Canvas(toolbar=Toolbar(toolitems=[('Home', 'Reset original view', 'home', 'home'), ('Back', 'Back to previous …"
      ]
     },
     "metadata": {},
     "output_type": "display_data"
    },
    {
     "data": {
      "text/plain": [
       "<matplotlib.legend.Legend at 0x2b42c0d04e50>"
      ]
     },
     "execution_count": 89,
     "metadata": {},
     "output_type": "execute_result"
    }
   ],
   "source": [
    "plt.close('all')\n",
    "zipped_list = zip(densities,np.abs(tortuosities))\n",
    "sorted_zip = sorted(zipped_list)\n",
    "densities_sort,curvatures_sort = zip(*sorted_zip)\n",
    "fig=plt.figure(figsize=(8,8))\n",
    "ax = fig.add_subplot(111)\n",
    "ax.set_xlabel('density ($\\mu m. \\mu m^{-1}$)')\n",
    "ax.set_ylabel('straightness ($\\mu m. \\mu m^{-1}$)')\n",
    "xlim = int(np.max(densities_sort))+1\n",
    "ax.set_xlim((0,xlim))\n",
    "ax.set_ylim((0.8,1.05))\n",
    "slope, intercept, r_value, p_value, std_err = stats.linregress(densities_sort,np.abs(curvatures_sort))\n",
    "x= range(0,xlim)\n",
    "\n",
    "N=30\n",
    "ax.scatter(densities_sort,curvatures_sort,color='yellow',label='observed speeds')\n",
    "ax.plot(uniform_filter1d(densities_sort, size=N),uniform_filter1d(curvatures_sort, size=N),color='green',label = 'moving average')\n",
    "# ax.set_title(r'$r^2=$'+f'{round(r_value**2,max(2,-int(np.log10(r_value**2))+2))}, p_value = {round(p_value**2,max(2,-int(np.log10(p_value**2))+2))}, slope = {round(slope,4)}')\n",
    "x= range(0,xlim+1)\n",
    "legend_str = r'linear regression : $r^2=$'+f'{round(r_value**2,max(2,-int(np.log10(r_value**2))+2))}, p-value = {round(p_value,max(2,-int(np.log10(p_value))+2))}, slope = {round(slope,4)}'\n",
    "line, = ax.plot(x,x*slope+intercept,color='red',label = legend_str)\n",
    "ax.legend()"
   ]
  },
  {
   "cell_type": "code",
   "execution_count": null,
   "metadata": {},
   "outputs": [],
   "source": [
    "zipped_list = zip(speeds,np.abs(tortuosities))\n",
    "sorted_zip = sorted(zipped_list)\n",
    "densities_sort,curvatures_sort = zip(*sorted_zip)\n",
    "fig=plt.figure(figsize=(8,8))\n",
    "ax = fig.add_subplot(111)\n",
    "# ax.set_xlabel('time since start of imaging ($hour$)')\n",
    "# ax.set_ylabel('speed ($\\mu m.hour^{-1})$')\n",
    "xlim = 10\n",
    "# ax.set_xlim((0,xlim))\n",
    "ax.set_ylim((0,3))\n",
    "slope, intercept, r_value, p_value, std_err = stats.linregress(densities_sort,np.abs(curvatures_sort))\n",
    "x= range(0,xlim)\n",
    "\n",
    "N=30\n",
    "ax.scatter(densities_sort,curvatures_sort,color='yellow',label='observed speeds')\n",
    "ax.plot(uniform_filter1d(densities_sort, size=N),uniform_filter1d(curvatures_sort, size=N),color='green',label = 'moving average')\n",
    "# ax.set_title(r'$r^2=$'+f'{round(r_value**2,max(2,-int(np.log10(r_value**2))+2))}, p_value = {round(p_value**2,max(2,-int(np.log10(p_value**2))+2))}, slope = {round(slope,4)}')\n",
    "x= range(0,xlim+1)\n",
    "legend_str = r'linear regression : $r^2=$'+f'{round(r_value**2,max(2,-int(np.log10(r_value**2))+2))}, p-value = {round(p_value**2,max(2,-int(np.log10(p_value**2))+2))}, slope = {round(slope,4)}'\n",
    "line, = ax.plot(x,x*slope+intercept,color='red',label = legend_str)\n",
    "ax.legend()"
   ]
  },
  {
   "cell_type": "code",
   "execution_count": 12,
   "metadata": {},
   "outputs": [],
   "source": [
    "\n",
    "slope, intercept, r_value, p_value, std_err = stats.linregress(curvatures,np.abs(curvatures))"
   ]
  },
  {
   "cell_type": "code",
   "execution_count": 13,
   "metadata": {},
   "outputs": [
    {
     "data": {
      "text/plain": [
       "7.875893889324231e-13"
      ]
     },
     "execution_count": 13,
     "metadata": {},
     "output_type": "execute_result"
    }
   ],
   "source": [
    "p_value"
   ]
  },
  {
   "cell_type": "code",
   "execution_count": 14,
   "metadata": {},
   "outputs": [
    {
     "data": {
      "text/plain": [
       "-0.0004887144099304017"
      ]
     },
     "execution_count": 14,
     "metadata": {},
     "output_type": "execute_result"
    }
   ],
   "source": [
    "slope"
   ]
  },
  {
   "cell_type": "code",
   "execution_count": null,
   "metadata": {},
   "outputs": [],
   "source": [
    "exp_inst = [(22,8,40)]\n",
    "\n",
    "experiments = []\n",
    "for inst in exp_inst:\n",
    "    plate = inst[0]\n",
    "    begin = inst[1]\n",
    "    end = inst[2]\n",
    "    dates_datetime = get_dates_datetime(directory,plate)\n",
    "    print('begin =',dates_datetime[begin],'\\n  end =',dates_datetime[end])\n",
    "    dates_datetime_chosen=dates_datetime[begin:end+1]\n",
    "    dates = dates_datetime_chosen\n",
    "    exp = pickle.load( open(f'{directory}/Analysis_Plate{plate}_{dates[0]}_{dates[-1]}/experiment_{plate}.pick', \"rb\" ) )\n",
    "    experiments.append(exp)"
   ]
  },
  {
   "cell_type": "code",
   "execution_count": null,
   "metadata": {},
   "outputs": [],
   "source": [
    "select_hyph = {}\n",
    "for hyph in exp.hyphaes:\n",
    "    select_hyph[hyph] = []\n",
    "    for i,t in enumerate(hyph.ts[:-1]):\n",
    "        tp1=hyph.ts[i+1]\n",
    "        pixels,nodes = get_pixel_growth_and_new_children(hyph,t,tp1)\n",
    "        length = np.sum([get_length_um(seg) for seg in pixels])/get_time(exp,t,tp1)\n",
    "        select_hyph[hyph].append((t,hyph.ts[i+1],length,pixels))\n",
    "        "
   ]
  },
  {
   "cell_type": "code",
   "execution_count": null,
   "metadata": {},
   "outputs": [],
   "source": [
    "max_growths = []\n",
    "total_growths = []\n",
    "lengths = []\n",
    "branch_frequ = []\n",
    "hyph_l = []\n",
    "RH=[]\n",
    "BAS=[]\n",
    "thresh_growth = 100\n",
    "thresh_length = 2000\n",
    "for hyph in exp.hyphaes:\n",
    "    growths = [c[2] for c in select_hyph[hyph]]\n",
    "    ts = [c[0] for c in select_hyph[hyph]]\n",
    "    tp1s = [c[1] for c in select_hyph[hyph]]\n",
    "    if len(growths)>0:\n",
    "        length = hyph.get_length_um(hyph.ts[-1])\n",
    "        nodes = hyph.get_nodes_within(hyph.ts[-1])[0]\n",
    "        max_growth = np.max(growths)\n",
    "        total_growth = np.sum([growth * get_time(exp,ts[i],tp1s[i]) for i,growth in enumerate(growths)])\n",
    "        if max_growth>=thresh_growth and length>=thresh_length:\n",
    "            RH.append(hyph)\n",
    "        else:\n",
    "            BAS.append(hyph)\n",
    "        lengths.append(length)\n",
    "        max_growths.append(max_growth)\n",
    "        total_growths.append(total_growth)\n",
    "        branch_frequ.append((len(nodes)-1)/(length+1))\n",
    "        hyph_l.append(hyph)"
   ]
  },
  {
   "cell_type": "code",
   "execution_count": null,
   "metadata": {},
   "outputs": [],
   "source": [
    "rh = choice(RH)\n",
    "patterns = select_hyph[rh]\n",
    "ts = [c[0] for c in select_hyph[rh]]\n",
    "tp1s = [c[1] for c in select_hyph[rh]]\n",
    "growths = [c[2] for c in select_hyph[rh]]\n",
    "if len(growths)==0:\n",
    "    print('error')\n",
    "total_growth = np.sum([growth * get_time(exp,ts[i],tp1s[i]) for i,growth in enumerate(growths)])\n",
    "curve = [pixel for info in patterns for seg in info[3] for pixel in seg]"
   ]
  },
  {
   "cell_type": "code",
   "execution_count": null,
   "metadata": {},
   "outputs": [],
   "source": [
    "curve_array = np.array(curve)"
   ]
  },
  {
   "cell_type": "code",
   "execution_count": null,
   "metadata": {},
   "outputs": [],
   "source": [
    "res = 50\n",
    "vec1 = curve_array [res]-curve_array [0]\n",
    "vec2 = curve_array [-1]-curve_array [-res-1]"
   ]
  },
  {
   "cell_type": "code",
   "execution_count": 90,
   "metadata": {},
   "outputs": [],
   "source": [
    "begin=vec1/np.linalg.norm(vec1)\n",
    "end=vec2/np.linalg.norm(vec2)"
   ]
  },
  {
   "cell_type": "code",
   "execution_count": 91,
   "metadata": {},
   "outputs": [
    {
     "data": {
      "application/vnd.jupyter.widget-view+json": {
       "model_id": "248f836dc0aa4d29a880ad437c964f27",
       "version_major": 2,
       "version_minor": 0
      },
      "text/plain": [
       "Canvas(toolbar=Toolbar(toolitems=[('Home', 'Reset original view', 'home', 'home'), ('Back', 'Back to previous …"
      ]
     },
     "metadata": {},
     "output_type": "display_data"
    },
    {
     "data": {
      "text/plain": [
       "<matplotlib.collections.PathCollection at 0x2b7d2bdda5d0>"
      ]
     },
     "execution_count": 91,
     "metadata": {},
     "output_type": "execute_result"
    }
   ],
   "source": [
    "plt.close('all')\n",
    "fig=plt.figure(figsize=(8,8))\n",
    "ax = fig.add_subplot(111)\n",
    "# ax.set_xlabel('density(um hypha/um^2)')\n",
    "# ax.set_ylabel('speed (um/hour)')\n",
    "# # ax.set_xlim((0,15000))\n",
    "# ax.set_ylim((0,450))\n",
    "ax.scatter(curve_array[:,1],curve_array[:,0])"
   ]
  },
  {
   "cell_type": "code",
   "execution_count": 92,
   "metadata": {},
   "outputs": [],
   "source": [
    "dot_product = np.dot(begin, end)\n",
    "if (begin[1] * end[0] - end[1] * begin[0] >= 0):  # determinant\n",
    "    angle = -np.arccos(dot_product) / (2 * np.pi) * 360\n",
    "else:\n",
    "    angle = np.arccos(dot_product) / (2 * np.pi) * 360"
   ]
  },
  {
   "cell_type": "code",
   "execution_count": 93,
   "metadata": {},
   "outputs": [
    {
     "data": {
      "text/plain": [
       "-0.004606482394418124"
      ]
     },
     "execution_count": 93,
     "metadata": {},
     "output_type": "execute_result"
    }
   ],
   "source": [
    "angle/total_growth"
   ]
  },
  {
   "cell_type": "code",
   "execution_count": 94,
   "metadata": {},
   "outputs": [
    {
     "data": {
      "text/plain": [
       "-11.479949124900518"
      ]
     },
     "execution_count": 94,
     "metadata": {},
     "output_type": "execute_result"
    }
   ],
   "source": [
    "angle"
   ]
  },
  {
   "cell_type": "code",
   "execution_count": 95,
   "metadata": {},
   "outputs": [
    {
     "data": {
      "application/vnd.jupyter.widget-view+json": {
       "model_id": "408eb9a8504a46c3beaaeff7b86a85ec",
       "version_major": 2,
       "version_minor": 0
      },
      "text/plain": [
       "Canvas(toolbar=Toolbar(toolitems=[('Home', 'Reset original view', 'home', 'home'), ('Back', 'Back to previous …"
      ]
     },
     "metadata": {},
     "output_type": "display_data"
    }
   ],
   "source": [
    "plt.close('all')\n",
    "exp.plot(rh.ts,[[rh.end.label,rh.root.label]]*len(rh.ts))"
   ]
  },
  {
   "cell_type": "code",
   "execution_count": 12,
   "metadata": {},
   "outputs": [
    {
     "data": {
      "text/plain": [
       "18"
      ]
     },
     "execution_count": 12,
     "metadata": {},
     "output_type": "execute_result"
    }
   ],
   "source": [
    "len(angles)"
   ]
  },
  {
   "cell_type": "code",
   "execution_count": null,
   "metadata": {},
   "outputs": [],
   "source": []
  }
 ],
 "metadata": {
  "kernelspec": {
   "display_name": "Python 3",
   "language": "python",
   "name": "python3"
  },
  "language_info": {
   "codemirror_mode": {
    "name": "ipython",
    "version": 3
   },
   "file_extension": ".py",
   "mimetype": "text/x-python",
   "name": "python",
   "nbconvert_exporter": "python",
   "pygments_lexer": "ipython3",
   "version": "3.7.7"
  }
 },
 "nbformat": 4,
 "nbformat_minor": 4
}

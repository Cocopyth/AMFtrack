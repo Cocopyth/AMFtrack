{
 "cells": [
  {
   "cell_type": "code",
   "execution_count": 1,
   "metadata": {},
   "outputs": [],
   "source": [
    "%matplotlib widget\n",
    "\n",
    "import sys  \n",
    "sys.path.insert(0, '/home/cbisot/pycode/MscThesis/')\n",
    "import pandas as pd\n",
    "from sample.util import get_dates_datetime, get_dirname, get_plate_number, get_postion_number,get_begin_index\n",
    "import ast\n",
    "from sample.plotutil import plot_t_tp1\n",
    "from scipy import sparse\n",
    "from datetime import datetime\n",
    "from sample.pipeline.functions.node_id import orient\n",
    "import pickle\n",
    "import scipy.io as sio\n",
    "from pymatreader import read_mat\n",
    "from matplotlib import colors\n",
    "import cv2\n",
    "import imageio\n",
    "import matplotlib.pyplot as plt\n",
    "import numpy as np\n",
    "from skimage.filters import frangi\n",
    "from skimage import filters\n",
    "from random import choice\n",
    "import scipy.sparse\n",
    "import os\n",
    "from sample.pipeline.functions.extract_graph import from_sparse_to_graph, generate_nx_graph, sparse_to_doc\n",
    "from skimage.feature import hessian_matrix_det\n",
    "from sample.pipeline.functions.experiment_class_surf import Experiment, Edge, Node, Hyphae, plot_raw_plus\n",
    "from sample.paths.directory import run_parallel, find_state, directory_scratch, directory_project\n",
    "from sample.notebooks.analysis.util import *\n",
    "from scipy import stats\n",
    "from scipy.ndimage.filters import uniform_filter1d\n",
    "from statsmodels.stats import weightstats as stests\n",
    "from sample.pipeline.functions.hyphae_id_surf import get_pixel_growth_and_new_children\n",
    "from collections import Counter\n",
    "from IPython.display import clear_output\n",
    "from sample.notebooks.analysis.data_info import *\n"
   ]
  },
  {
   "cell_type": "code",
   "execution_count": 2,
   "metadata": {},
   "outputs": [
    {
     "name": "stdout",
     "output_type": "stream",
     "text": [
      "begin = 2020-11-23 15:01:00 \n",
      "  end = 2020-12-01 10:09:00\n"
     ]
    },
    {
     "ename": "FileNotFoundError",
     "evalue": "[Errno 2] No such file or directory: '/projects/0/einf914/data//Analysis_Plate39_2020-11-23 15:01:00_2020-12-01 10:09:00/experiment_39.pick'",
     "output_type": "error",
     "traceback": [
      "\u001b[0;31m---------------------------------------------------------------------------\u001b[0m",
      "\u001b[0;31mFileNotFoundError\u001b[0m                         Traceback (most recent call last)",
      "\u001b[0;32m<ipython-input-2-f51f6c8f6951>\u001b[0m in \u001b[0;36m<module>\u001b[0;34m\u001b[0m\n\u001b[0;32m----> 1\u001b[0;31m \u001b[0mexp\u001b[0m \u001b[0;34m=\u001b[0m \u001b[0mget_exp\u001b[0m\u001b[0;34m(\u001b[0m\u001b[0;34m(\u001b[0m\u001b[0;36m39\u001b[0m\u001b[0;34m,\u001b[0m\u001b[0;36m269\u001b[0m\u001b[0;34m,\u001b[0m\u001b[0;36m399\u001b[0m\u001b[0;34m)\u001b[0m\u001b[0;34m,\u001b[0m\u001b[0mdirectory_project\u001b[0m\u001b[0;34m)\u001b[0m\u001b[0;34m\u001b[0m\u001b[0;34m\u001b[0m\u001b[0m\n\u001b[0m",
      "\u001b[0;32m~/pycode/MscThesis/sample/notebooks/analysis/util.py\u001b[0m in \u001b[0;36mget_exp\u001b[0;34m(inst, directory)\u001b[0m\n\u001b[1;32m     58\u001b[0m     \u001b[0mdates_datetime_chosen\u001b[0m\u001b[0;34m=\u001b[0m\u001b[0mdates_datetime\u001b[0m\u001b[0;34m[\u001b[0m\u001b[0mbegin\u001b[0m\u001b[0;34m:\u001b[0m\u001b[0mend\u001b[0m\u001b[0;34m+\u001b[0m\u001b[0;36m1\u001b[0m\u001b[0;34m]\u001b[0m\u001b[0;34m\u001b[0m\u001b[0;34m\u001b[0m\u001b[0m\n\u001b[1;32m     59\u001b[0m     \u001b[0mdates\u001b[0m \u001b[0;34m=\u001b[0m \u001b[0mdates_datetime_chosen\u001b[0m\u001b[0;34m\u001b[0m\u001b[0;34m\u001b[0m\u001b[0m\n\u001b[0;32m---> 60\u001b[0;31m     \u001b[0mexp\u001b[0m \u001b[0;34m=\u001b[0m \u001b[0mpickle\u001b[0m\u001b[0;34m.\u001b[0m\u001b[0mload\u001b[0m\u001b[0;34m(\u001b[0m \u001b[0mopen\u001b[0m\u001b[0;34m(\u001b[0m\u001b[0;34mf'{directory}/Analysis_Plate{plate}_{dates[0]}_{dates[-1]}/experiment_{plate}.pick'\u001b[0m\u001b[0;34m,\u001b[0m \u001b[0;34m\"rb\"\u001b[0m \u001b[0;34m)\u001b[0m \u001b[0;34m)\u001b[0m\u001b[0;34m\u001b[0m\u001b[0;34m\u001b[0m\u001b[0m\n\u001b[0m\u001b[1;32m     61\u001b[0m     \u001b[0;32mreturn\u001b[0m\u001b[0;34m(\u001b[0m\u001b[0mexp\u001b[0m\u001b[0;34m)\u001b[0m\u001b[0;34m\u001b[0m\u001b[0;34m\u001b[0m\u001b[0m\n\u001b[1;32m     62\u001b[0m \u001b[0;34m\u001b[0m\u001b[0m\n",
      "\u001b[0;31mFileNotFoundError\u001b[0m: [Errno 2] No such file or directory: '/projects/0/einf914/data//Analysis_Plate39_2020-11-23 15:01:00_2020-12-01 10:09:00/experiment_39.pick'"
     ]
    }
   ],
   "source": [
    "exp = get_exp((39,269,329),directory_project)\n"
   ]
  },
  {
   "cell_type": "code",
   "execution_count": null,
   "metadata": {},
   "outputs": [],
   "source": [
    "def get_hyph_infos(exp):\n",
    "    select_hyph = {}\n",
    "    for hyph in exp.hyphaes:\n",
    "        select_hyph[hyph] = []\n",
    "        for i,t in enumerate(hyph.end.ts[:-1]):\n",
    "            tp1=hyph.ts[i+1]\n",
    "            pixels,nodes = get_pixel_growth_and_new_children(hyph,t,tp1)\n",
    "            speed = np.sum([get_length_um(seg) for seg in pixels])/get_time(exp,t,tp1)\n",
    "            select_hyph[hyph].append((t,hyph.ts[i+1],speed,pixels))\n",
    "    return(select_hyph)"
   ]
  },
  {
   "cell_type": "code",
   "execution_count": 3,
   "metadata": {
    "collapsed": true,
    "jupyter": {
     "outputs_hidden": true
    }
   },
   "outputs": [
    {
     "name": "stdout",
     "output_type": "stream",
     "text": [
      "failure in finding closest edge\n",
      "failure in finding closest edge\n",
      "failure in finding closest edge\n",
      "failure in finding closest edge\n",
      "failure in finding closest edge\n",
      "failure in finding closest edge\n",
      "failure in finding closest edge\n",
      "failure in finding closest edge\n",
      "failure in finding closest edge\n",
      "failure in finding closest edge\n",
      "failure in finding closest edge\n",
      "failure in finding closest edge\n",
      "failure in finding closest edge\n",
      "failure in finding closest edge\n",
      "failure in finding closest edge\n",
      "failure in finding closest edge\n",
      "failure in finding closest edge\n",
      "failure in finding closest edge\n",
      "failure in finding closest edge\n",
      "failure in finding closest edge\n",
      "failure in finding closest edge\n",
      "failure in finding closest edge\n",
      "failure in finding closest edge\n",
      "failure in finding closest edge\n",
      "failure in finding closest edge\n",
      "failure in finding closest edge\n",
      "failure in finding closest edge\n",
      "failure in finding closest edge\n",
      "failure in finding closest edge\n",
      "failure in finding closest edge\n",
      "failure in finding closest edge\n",
      "failure in finding closest edge\n",
      "failure in finding closest edge\n",
      "failure in finding closest edge\n",
      "failure in finding closest edge\n",
      "failure in finding closest edge\n",
      "failure in finding closest edge\n",
      "failure in finding closest edge\n",
      "failure in finding closest edge\n",
      "failure in finding closest edge\n",
      "failure in finding closest edge\n",
      "failure in finding closest edge\n",
      "failure in finding closest edge\n",
      "failure in finding closest edge\n",
      "failure in finding closest edge\n",
      "failure in finding closest edge\n",
      "failure in finding closest edge\n",
      "failure in finding closest edge\n",
      "failure in finding closest edge\n",
      "failure in finding closest edge\n",
      "failure in finding closest edge\n",
      "failure in finding closest edge\n",
      "failure in finding closest edge\n",
      "failure in finding closest edge\n",
      "failure in finding closest edge\n",
      "failure in finding closest edge\n",
      "failure in finding closest edge\n",
      "failure in finding closest edge\n",
      "failure in finding closest edge\n",
      "failure in finding closest edge\n",
      "failure in finding closest edge\n",
      "failure in finding closest edge\n",
      "failure in finding closest edge\n",
      "failure in finding closest edge\n",
      "failure in finding closest edge\n"
     ]
    }
   ],
   "source": [
    "select_hyph = get_hyph_infos(exp)"
   ]
  },
  {
   "cell_type": "code",
   "execution_count": 4,
   "metadata": {},
   "outputs": [],
   "source": [
    "rh2 = [hyph for hyph in exp.hyphaes if np.any(np.array([c[2] for c in select_hyph[hyph]])>=300)]"
   ]
  },
  {
   "cell_type": "code",
   "execution_count": 145,
   "metadata": {},
   "outputs": [],
   "source": [
    "hyph = [rh for rh in rh2 if rh.end.label == 1][0]"
   ]
  },
  {
   "cell_type": "code",
   "execution_count": 147,
   "metadata": {},
   "outputs": [],
   "source": [
    "# hyph = choice(rh2)\n",
    "speeds = [c[2] for c in select_hyph[hyph]]\n",
    "ts = [c[0] for c in select_hyph[hyph]]\n",
    "tp1s = [c[1] for c in select_hyph[hyph]]\n"
   ]
  },
  {
   "cell_type": "code",
   "execution_count": 148,
   "metadata": {},
   "outputs": [
    {
     "data": {
      "application/vnd.jupyter.widget-view+json": {
       "model_id": "470d1d82b6774a83ab9c016c7ffa6764",
       "version_major": 2,
       "version_minor": 0
      },
      "text/plain": [
       "Canvas(toolbar=Toolbar(toolitems=[('Home', 'Reset original view', 'home', 'home'), ('Back', 'Back to previous …"
      ]
     },
     "metadata": {},
     "output_type": "display_data"
    },
    {
     "data": {
      "text/plain": [
       "Text(0, 0.5, 'speed ($\\\\mu m .h^{-1}$)')"
      ]
     },
     "execution_count": 148,
     "metadata": {},
     "output_type": "execute_result"
    }
   ],
   "source": [
    "plt.close('all')\n",
    "fig=plt.figure(figsize=(8,8))\n",
    "ax = fig.add_subplot(111)\n",
    "ax.plot(ts,speeds)\n",
    "ax.set_xlabel('time (h)')\n",
    "ax.set_ylabel('speed ($\\mu m .h^{-1}$)')"
   ]
  },
  {
   "cell_type": "code",
   "execution_count": 149,
   "metadata": {},
   "outputs": [
    {
     "data": {
      "application/vnd.jupyter.widget-view+json": {
       "model_id": "3b5fbba542d74ee1b3104af06b3bd544",
       "version_major": 2,
       "version_minor": 0
      },
      "text/plain": [
       "Canvas(toolbar=Toolbar(toolitems=[('Home', 'Reset original view', 'home', 'home'), ('Back', 'Back to previous …"
      ]
     },
     "metadata": {},
     "output_type": "display_data"
    }
   ],
   "source": [
    "plot_raw_plus(exp,hyph.ts[-1],[hyph.end.label]+[hyph.root.label])"
   ]
  },
  {
   "cell_type": "code",
   "execution_count": 102,
   "metadata": {},
   "outputs": [],
   "source": [
    "counts = []\n",
    "for t in range(exp.ts):\n",
    "    count = 0\n",
    "    for hyph in rh2:\n",
    "        if int(hyph.end.ts()[-1])==int(t):\n",
    "            count+=1\n",
    "    counts.append(count)"
   ]
  },
  {
   "cell_type": "code",
   "execution_count": 105,
   "metadata": {
    "collapsed": true,
    "jupyter": {
     "outputs_hidden": true
    }
   },
   "outputs": [
    {
     "data": {
      "text/plain": [
       "[0,\n",
       " 0,\n",
       " 1,\n",
       " 0,\n",
       " 0,\n",
       " 0,\n",
       " 0,\n",
       " 0,\n",
       " 0,\n",
       " 0,\n",
       " 1,\n",
       " 0,\n",
       " 0,\n",
       " 0,\n",
       " 0,\n",
       " 0,\n",
       " 1,\n",
       " 0,\n",
       " 0,\n",
       " 1,\n",
       " 0,\n",
       " 0,\n",
       " 0,\n",
       " 0,\n",
       " 0,\n",
       " 0,\n",
       " 0,\n",
       " 0,\n",
       " 1,\n",
       " 1,\n",
       " 0,\n",
       " 0,\n",
       " 0,\n",
       " 1,\n",
       " 1,\n",
       " 0,\n",
       " 0,\n",
       " 2,\n",
       " 0,\n",
       " 0,\n",
       " 1,\n",
       " 1,\n",
       " 0,\n",
       " 0,\n",
       " 0,\n",
       " 0,\n",
       " 0,\n",
       " 2,\n",
       " 1,\n",
       " 0,\n",
       " 1,\n",
       " 3,\n",
       " 0,\n",
       " 1,\n",
       " 1,\n",
       " 0,\n",
       " 1,\n",
       " 0,\n",
       " 1,\n",
       " 0,\n",
       " 32]"
      ]
     },
     "execution_count": 105,
     "metadata": {},
     "output_type": "execute_result"
    }
   ],
   "source": [
    "counts"
   ]
  },
  {
   "cell_type": "code",
   "execution_count": 137,
   "metadata": {},
   "outputs": [
    {
     "name": "stderr",
     "output_type": "stream",
     "text": [
      "/home/cbisot/anaconda3/envs/test/lib/python3.7/site-packages/matplotlib/__init__.py:880: MatplotlibDeprecationWarning: \n",
      "nbagg.transparent\n",
      "  version, key, obj_type=\"rcparam\", alternative=alt_key)\n"
     ]
    },
    {
     "data": {
      "application/vnd.jupyter.widget-view+json": {
       "model_id": "4581b181070a4eae9be9f0013199d339",
       "version_major": 2,
       "version_minor": 0
      },
      "text/plain": [
       "Canvas(toolbar=Toolbar(toolitems=[('Home', 'Reset original view', 'home', 'home'), ('Back', 'Back to previous …"
      ]
     },
     "metadata": {},
     "output_type": "display_data"
    }
   ],
   "source": [
    "plot_raw_plus(exp,hyph.ts[-1]+1,[hyph.end.label]+[hyph.root.label]+[5107,5416])"
   ]
  },
  {
   "cell_type": "code",
   "execution_count": 141,
   "metadata": {},
   "outputs": [],
   "source": [
    "nx_graph_t = exp.nx_graph[35]\n",
    "nx_graph_tm1 = exp.nx_graph[34]\n",
    "Sedge = sparse.csr_matrix((30000, 60000))\n",
    "for edge in nx_graph_t.edges:\n",
    "    pixel_list = nx_graph_t.get_edge_data(*edge)[\"pixel_list\"]\n",
    "    pixela = pixel_list[0]\n",
    "    pixelb = pixel_list[-1]\n",
    "    Sedge[pixela[0], pixela[1]] = edge[0]\n",
    "    Sedge[pixelb[0], pixelb[1]] = edge[1]\n",
    "tip = 2326\n",
    "pos_tm1 = exp.positions[34]\n",
    "pos_t = exp.positions[35]\n",
    "\n",
    "mini1 = np.inf\n",
    "posanchor = pos_tm1[tip]\n",
    "window = 1000\n",
    "potential_surrounding_t = Sedge[\n",
    "    max(0, posanchor[0] - 2 * window) : posanchor[0] + 2 * window,\n",
    "    max(0, posanchor[1] - 2 * window) : posanchor[1] + 2 * window,\n",
    "]\n",
    "#         potential_surrounding_t=Sedge\n",
    "#         for edge in nx_graph_t.edges:\n",
    "#             pixel_list=nx_graph_t.get_edge_data(*edge)['pixel_list']\n",
    "#             if np.linalg.norm(np.array(pixel_list[0])-np.array(pos_tm1[tip]))<=5000:\n",
    "#                 distance=np.min(np.linalg.norm(np.array(pixel_list)-np.array(pos_tm1[tip]),axis=1))\n",
    "#                 if distance<mini1:\n",
    "#                     mini1=distance\n",
    "#                     right_edge1 = edge\n",
    "#         print('t1 re',right_edge)\n",
    "mini = np.inf\n",
    "for node_root in potential_surrounding_t.data:\n",
    "    for edge in nx_graph_t.edges(int(node_root)):\n",
    "        pixel_list = nx_graph_t.get_edge_data(*edge)[\"pixel_list\"]\n",
    "        if (\n",
    "            np.linalg.norm(np.array(pixel_list[0]) - np.array(pos_tm1[tip]))\n",
    "            <= 5000\n",
    "        ):\n",
    "            distance = np.min(\n",
    "                np.linalg.norm(\n",
    "                    np.array(pixel_list) - np.array(pos_tm1[tip]), axis=1\n",
    "                )\n",
    "            )\n",
    "            if distance < mini:\n",
    "                mini = distance\n",
    "                right_edge = edge"
   ]
  },
  {
   "cell_type": "code",
   "execution_count": 138,
   "metadata": {},
   "outputs": [
    {
     "data": {
      "text/plain": [
       "((5107, 5416), 9.433981132056603)"
      ]
     },
     "execution_count": 138,
     "metadata": {},
     "output_type": "execute_result"
    }
   ],
   "source": [
    "right_edge,mini"
   ]
  },
  {
   "cell_type": "code",
   "execution_count": 143,
   "metadata": {},
   "outputs": [],
   "source": [
    "origin = np.array(\n",
    "            orient(\n",
    "                nx_graph_tm1.get_edge_data(*list(nx_graph_tm1.edges(tip))[0])[\n",
    "                    \"pixel_list\"\n",
    "                ],\n",
    "                pos_tm1[tip],\n",
    "            )\n",
    "        )\n",
    "origin_vector = origin[0] - origin[-1]\n",
    "branch = np.array(\n",
    "    orient(\n",
    "        nx_graph_t.get_edge_data(*right_edge)[\"pixel_list\"],\n",
    "        pos_t[right_edge[0]],\n",
    "    )\n",
    ")\n",
    "candidate_vector = branch[-1] - branch[0]\n",
    "dot_product = np.dot(origin_vector, candidate_vector)\n",
    "if dot_product >= 0:\n",
    "    root = right_edge[0]\n",
    "    next_node = right_edge[1]\n",
    "else:\n",
    "    root = right_edge[1]\n",
    "    next_node = right_edge[0]\n",
    "last_node = root\n",
    "current_node = next_node\n",
    "last_branch = np.array(\n",
    "    orient(\n",
    "        nx_graph_t.get_edge_data(root, next_node)[\"pixel_list\"],\n",
    "        pos_t[current_node],\n",
    "    )\n",
    ")\n",
    "i = 0\n",
    "loop = []\n",
    "while (\n",
    "    nx_graph_t.degree(current_node) != 1\n",
    "    and not current_node in nx_graph_tm1.nodes\n",
    "):  # Careful : if there is a cycle with low angle this might loop indefinitely but unprobable\n",
    "    i += 1\n",
    "    if i >= 100:\n",
    "        print(\n",
    "            \"identified infinite loop\",\n",
    "            i,\n",
    "            tip,\n",
    "            current_node,\n",
    "            pos_t[current_node],\n",
    "        )\n",
    "        break\n",
    "    mini = np.inf\n",
    "    origin_vector = (\n",
    "        last_branch[0] - last_branch[min(length_id, len(last_branch) - 1)]\n",
    "    )\n",
    "    unit_vector_origin = origin_vector / np.linalg.norm(origin_vector)\n",
    "    candidate_vectors = []\n",
    "    for neighbours_t in nx_graph_t.neighbors(current_node):\n",
    "        if neighbours_t != last_node:\n",
    "            branch_candidate = np.array(\n",
    "                orient(\n",
    "                    nx_graph_t.get_edge_data(current_node, neighbours_t)[\n",
    "                        \"pixel_list\"\n",
    "                    ],\n",
    "                    pos_t[current_node],\n",
    "                )\n",
    "            )\n",
    "            candidate_vector = (\n",
    "                branch_candidate[min(length_id, len(branch_candidate) - 1)]\n",
    "                - branch_candidate[0]\n",
    "            )\n",
    "            unit_vector_candidate = candidate_vector / np.linalg.norm(\n",
    "                candidate_vector\n",
    "            )\n",
    "            candidate_vectors.append(unit_vector_candidate)\n",
    "            dot_product = np.dot(unit_vector_origin, unit_vector_candidate)\n",
    "            angle = np.arccos(dot_product)\n",
    "            if angle < mini:\n",
    "                mini = angle\n",
    "                next_node = neighbours_t\n",
    "    if len(candidate_vectors) < 2:\n",
    "        print(\n",
    "            \"candidate_vectors < 2\",\n",
    "            nx_graph_t.degree(current_node),\n",
    "            pos_t[current_node],\n",
    "            [node for node in nx_graph_t.nodes if nx_graph_t.degree(node) == 2],\n",
    "        )\n",
    "    competitor = np.arccos(np.dot(candidate_vectors[0], -candidate_vectors[1]))\n",
    "    if mini < competitor:\n",
    "        current_node, last_node = next_node, current_node"
   ]
  },
  {
   "cell_type": "code",
   "execution_count": 144,
   "metadata": {},
   "outputs": [
    {
     "data": {
      "text/plain": [
       "5107"
      ]
     },
     "execution_count": 144,
     "metadata": {},
     "output_type": "execute_result"
    }
   ],
   "source": [
    "current_node"
   ]
  }
 ],
 "metadata": {
  "kernelspec": {
   "display_name": "Python 3",
   "language": "python",
   "name": "python3"
  },
  "language_info": {
   "codemirror_mode": {
    "name": "ipython",
    "version": 3
   },
   "file_extension": ".py",
   "mimetype": "text/x-python",
   "name": "python",
   "nbconvert_exporter": "python",
   "pygments_lexer": "ipython3",
   "version": "3.7.7"
  }
 },
 "nbformat": 4,
 "nbformat_minor": 4
}

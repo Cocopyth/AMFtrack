{
 "cells": [
  {
   "cell_type": "code",
   "execution_count": 1,
   "metadata": {},
   "outputs": [],
   "source": [
    "%matplotlib widget\n",
    "\n",
    "import sys  \n",
    "sys.path.insert(0, '/home/cbisot/pycode/MscThesis/')\n",
    "import pandas as pd\n",
    "from sample.util import get_dates_datetime, get_dirname, get_plate_number, get_postion_number,get_begin_index\n",
    "import ast\n",
    "from sample.plotutil import plot_t_tp1\n",
    "from scipy import sparse\n",
    "from datetime import datetime\n",
    "from sample.pipeline.functions.node_id import orient\n",
    "import pickle\n",
    "import scipy.io as sio\n",
    "from pymatreader import read_mat\n",
    "from matplotlib import colors\n",
    "import cv2\n",
    "import imageio\n",
    "import matplotlib.pyplot as plt\n",
    "import numpy as np\n",
    "from skimage.filters import frangi\n",
    "from skimage import filters\n",
    "from random import choice\n",
    "import scipy.sparse\n",
    "import os\n",
    "from sample.pipeline.functions.extract_graph import from_sparse_to_graph, generate_nx_graph, sparse_to_doc\n",
    "from skimage.feature import hessian_matrix_det\n",
    "from sample.pipeline.functions.experiment_class_surf import Experiment, Edge, Node, Hyphae, plot_raw_plus\n",
    "from sample.paths.directory import run_parallel, find_state, directory_scratch, directory_project\n",
    "from sample.notebooks.analysis.util import *\n",
    "from scipy import stats\n",
    "from scipy.ndimage.filters import uniform_filter1d\n",
    "from statsmodels.stats import weightstats as stests\n",
    "from sample.pipeline.functions.hyphae_id_surf import get_pixel_growth_and_new_children\n",
    "from collections import Counter\n",
    "from IPython.display import clear_output\n",
    "from sample.notebooks.analysis.data_info import *\n",
    "inst = (19,0,25)\n",
    "\n",
    "exp = get_exp(inst,directory_project)\n",
    "def criter(max_growth,length):\n",
    "    return(a*length+b*max_growth>=2.5 and max_growth>=50)\n",
    "RH, BAS, max_speeds, total_growths, widths, lengths, branch_frequ,select_hyph = get_rh_bas(exp,criter)\n",
    "hyph_anas_tip_hyph = [hyphat for hyphat in exp.hyphaes if len(hyphat.ts)>=2 and hyphat.end.degree(hyphat.ts[-1])>=3 and hyphat.end.degree(hyphat.ts[-2])>=3]\n",
    "branches = {}\n",
    "lengths = {}\n",
    "bd = []\n",
    "ts = []\n",
    "rh_ends = [rh.end for rh in RH]\n",
    "daughters = {}\n",
    "begins = {}\n",
    "for rh in RH:\n",
    "    tp1 = rh.ts[-1]\n",
    "    t = rh.ts[0]\n",
    "    pixels, nodes = get_pixel_growth_and_new_children(rh, t, tp1)\n",
    "    curv_length = np.sum([get_length_um(seg) for seg in pixels])\n",
    "    branch = []\n",
    "    daughter_list=[]\n",
    "    begins[rh] = nodes[1]\n",
    "    for node in nodes[1:-1]:\n",
    "        if node not in [hyph.end for hyph in hyph_anas_tip_hyph]:\n",
    "            node_obj  = node\n",
    "#             t0 = node_obj.ts()[0]\n",
    "#             neighbours = node_obj.neighbours(t0)\n",
    "#             if t0 in rh.ts:\n",
    "#                 nodes_hyph,edge = rh.get_nodes_within(t0)\n",
    "#                 for neighbour in neighbours:\n",
    "#                     if neighbour.label not in nodes_hyph:\n",
    "#                         daughter_list.append(neighbour)\n",
    "#                         if neighbour in rh_ends and neighbour!=rh.end:\n",
    "            branch.append(node)    \n",
    "    bd.append(len(branch)/curv_length)\n",
    "    ts.append(get_time(exp,0,t))\n",
    "    branches[rh] = branch\n",
    "    daughters[rh] = daughter_list\n",
    "    lengths[rh] = curv_length"
   ]
  },
  {
   "cell_type": "code",
   "execution_count": 27,
   "metadata": {},
   "outputs": [
    {
     "name": "stderr",
     "output_type": "stream",
     "text": [
      "/home/cbisot/anaconda3/envs/test/lib/python3.7/site-packages/ipykernel_launcher.py:3: SettingWithCopyWarning: \n",
      "A value is trying to be set on a copy of a slice from a DataFrame.\n",
      "Try using .loc[row_indexer,col_indexer] = value instead\n",
      "\n",
      "See the caveats in the documentation: https://pandas.pydata.org/pandas-docs/stable/user_guide/indexing.html#returning-a-view-versus-a-copy\n",
      "  This is separate from the ipykernel package so we can avoid doing imports until\n"
     ]
    }
   ],
   "source": [
    "data = pd.DataFrame(list(zip(ts,bd)),columns = ['time','branchin_dist'])\n",
    "corrected = data.loc[(data['branchin_dist']>0)]\n",
    "corrected['real_branchin_dist'] = 1/corrected['branchin_dist']"
   ]
  },
  {
   "cell_type": "code",
   "execution_count": 28,
   "metadata": {},
   "outputs": [
    {
     "name": "stderr",
     "output_type": "stream",
     "text": [
      "/home/cbisot/anaconda3/envs/test/lib/python3.7/site-packages/matplotlib/__init__.py:880: MatplotlibDeprecationWarning: \n",
      "nbagg.transparent\n",
      "  version, key, obj_type=\"rcparam\", alternative=alt_key)\n"
     ]
    },
    {
     "data": {
      "application/vnd.jupyter.widget-view+json": {
       "model_id": "648d3d385a5347389d24f409007108fa",
       "version_major": 2,
       "version_minor": 0
      },
      "text/plain": [
       "Canvas(toolbar=Toolbar(toolitems=[('Home', 'Reset original view', 'home', 'home'), ('Back', 'Back to previous …"
      ]
     },
     "metadata": {},
     "output_type": "display_data"
    },
    {
     "name": "stderr",
     "output_type": "stream",
     "text": [
      "/home/cbisot/anaconda3/envs/test/lib/python3.7/site-packages/matplotlib/cbook/__init__.py:1377: FutureWarning: Support for multi-dimensional indexing (e.g. `obj[:, None]`) is deprecated and will be removed in a future version.  Convert to a numpy array before indexing instead.\n",
      "  x[:, None]\n",
      "/home/cbisot/anaconda3/envs/test/lib/python3.7/site-packages/matplotlib/axes/_base.py:237: FutureWarning: Support for multi-dimensional indexing (e.g. `obj[:, None]`) is deprecated and will be removed in a future version.  Convert to a numpy array before indexing instead.\n",
      "  x = x[:, np.newaxis]\n",
      "/home/cbisot/anaconda3/envs/test/lib/python3.7/site-packages/matplotlib/axes/_base.py:239: FutureWarning: Support for multi-dimensional indexing (e.g. `obj[:, None]`) is deprecated and will be removed in a future version.  Convert to a numpy array before indexing instead.\n",
      "  y = y[:, np.newaxis]\n"
     ]
    }
   ],
   "source": [
    "plt.close('all')\n",
    "abcisse = 'time'\n",
    "ordinate = 'real_branchin_dist'\n",
    "tab = corrected\n",
    "baits_sort = tab.sort_values(abcisse)\n",
    "N=100\n",
    "moving_av = baits_sort.rolling(N,min_periods=N//2).mean()\n",
    "moving_std = baits_sort.rolling(N,min_periods=N//2).std()\n",
    "\n",
    "fig=plt.figure(figsize=(8,8))\n",
    "ax = fig.add_subplot(111)\n",
    "ax.set_xlabel('time (h)')\n",
    "\n",
    "ax.set_ylabel('Branching distance (BAS and RH undistinguished) ($\\mu m$)',color='red')\n",
    "# ax.set_xlim(0,70)\n",
    "ax.set_ylim(0,1500)\n",
    "# ax.set_xlim(-190,190)\n",
    "# slope, intercept, r_value, p_value, std_err = stats.linregress(densities_sort,np.abs(curvatures_sort))\n",
    "\n",
    "ax.scatter(tab[abcisse],tab[ordinate],alpha=0.3,color='red')\n",
    "ax.plot(moving_av[abcisse],moving_av[ordinate],color='red',label = 'moving average')\n",
    "ax.plot(moving_av[abcisse],(moving_av[ordinate]+moving_std[ordinate]/np.sqrt(N)),color='red',label = 'std',linestyle = 'dotted')\n",
    "ax.plot(moving_av[abcisse],(moving_av[ordinate]-moving_std[ordinate]/np.sqrt(N)),color='red',label = 'std',linestyle = 'dotted')\n",
    "ax.spines['right'].set_color('red')\n",
    "ax.set_title((inst,np.mean(corrected['real_branchin_dist'])))\n",
    "\n",
    "ax.tick_params(axis='y', colors='red')  #setting up Y-axis tick color to black"
   ]
  },
  {
   "cell_type": "code",
   "execution_count": null,
   "metadata": {},
   "outputs": [],
   "source": [
    "np.mean(corrected['real_branchin_dist'])"
   ]
  },
  {
   "cell_type": "code",
   "execution_count": 29,
   "metadata": {},
   "outputs": [
    {
     "data": {
      "application/vnd.jupyter.widget-view+json": {
       "model_id": "a5f0c6f363a6455a8ce205d9e1216234",
       "version_major": 2,
       "version_minor": 0
      },
      "text/plain": [
       "Canvas(toolbar=Toolbar(toolitems=[('Home', 'Reset original view', 'home', 'home'), ('Back', 'Back to previous …"
      ]
     },
     "metadata": {},
     "output_type": "display_data"
    }
   ],
   "source": [
    "exp.plot_raw(-1)"
   ]
  },
  {
   "cell_type": "code",
   "execution_count": 15,
   "metadata": {},
   "outputs": [],
   "source": [
    "# bd = [790,983,1078,664,1593,860,1132,809,607,573,1455,672,754]\n",
    "# nconnection = [11,4,3,8,2,14,3,6,10,4,3,5,5]\n",
    "\n",
    "# total_network = [3589,1668,1301,1187,348,2776,528,2413,2920,1034,1557,1795]"
   ]
  },
  {
   "cell_type": "code",
   "execution_count": 2,
   "metadata": {},
   "outputs": [],
   "source": [
    "bd = [790,983,1078,664,860,1132,809,607,573,1455,672,754,1136]\n",
    "nconnection = [11,4,3,8,14,3,6,10,4,3,5,5,2]\n",
    "\n",
    "total_network = [3589,1668,1301,1187,2776,528,2413,2920,1034,1557,1180,1795,1497]"
   ]
  },
  {
   "cell_type": "code",
   "execution_count": 3,
   "metadata": {},
   "outputs": [],
   "source": [
    "data = pd.DataFrame(list(zip(nconnection,bd,total_network)),columns = ['n_connect','branchin_dist','total_network'])\n",
    "corrected = data.loc[(data['branchin_dist']>0)]\n",
    "corrected['length_connection_rat'] = corrected['total_network']/corrected['n_connect']"
   ]
  },
  {
   "cell_type": "code",
   "execution_count": 11,
   "metadata": {},
   "outputs": [
    {
     "name": "stderr",
     "output_type": "stream",
     "text": [
      "/home/cbisot/anaconda3/envs/test/lib/python3.7/site-packages/matplotlib/__init__.py:880: MatplotlibDeprecationWarning: \n",
      "nbagg.transparent\n",
      "  version, key, obj_type=\"rcparam\", alternative=alt_key)\n"
     ]
    },
    {
     "data": {
      "application/vnd.jupyter.widget-view+json": {
       "model_id": "fdbd667a9c9c4728bc49224302022807",
       "version_major": 2,
       "version_minor": 0
      },
      "text/plain": [
       "Canvas(toolbar=Toolbar(toolitems=[('Home', 'Reset original view', 'home', 'home'), ('Back', 'Back to previous …"
      ]
     },
     "metadata": {},
     "output_type": "display_data"
    }
   ],
   "source": [
    "#### from scipy.optimize import curve_fit\n",
    "plt.rcParams.update({\n",
    "    \"font.family\": \"verdana\",\n",
    "'font.weight' : 'normal',\n",
    "'font.size': 20})\n",
    "plt.close('all')\n",
    "abcisse = 'length_connection_rat'\n",
    "ordinate = 'branchin_dist'\n",
    "tab = corrected\n",
    "baits_sort = tab.sort_values(abcisse)\n",
    "N=3\n",
    "moving_av = baits_sort.rolling(N,min_periods=N//4).mean()\n",
    "moving_std = baits_sort.rolling(N,min_periods=N//4).std()\n",
    "\n",
    "fig=plt.figure(figsize=(8,8))\n",
    "ax = fig.add_subplot(111)\n",
    "# ax.set_xlabel('number of trunk hyphae')\n",
    "ax.set_xlabel('network length/number of trunk hyphae ($\\mu m$)')\n",
    "\n",
    "ax.set_ylabel('Branching distance (BAS and RH undistinguished) ($\\mu m$)',color='red')\n",
    "# ax.set_xlim(0,70)\n",
    "# ax.set_ylim(0,1500)\n",
    "# ax.set_xlim(-190,190)\n",
    "# slope, intercept, r_value, p_value, std_err = stats.linregress(densities_sort,np.abs(curvatures_sort))\n",
    "ns = list(set(corrected['n_connect'].values))\n",
    "ns.sort()\n",
    "averages =  [np.mean(corrected.loc[corrected[\"n_connect\"]==n][ordinate]) for n in ns]\n",
    "sts = [np.std(corrected.loc[corrected[\"n_connect\"]==n][ordinate])/np.sqrt(len(corrected.loc[corrected[\"n_connect\"]==n][ordinate])) for n in ns]\n",
    "# plt.errorbar(ns,averages,yerr=sts, linestyle=\"None\",capthick = 1)\n",
    "def func2(t,alpha,beta):\n",
    "    return((beta*np.exp(-alpha*(t))))\n",
    "popt1, pcov = curve_fit(func2,tab[abcisse],tab[ordinate],bounds = ([0,0],2*[np.inf]),p0=[1,1])\n",
    "# popt2, pcov = curve_fit(func2, times, total_anastomosis_theory,bounds = ([0,0,-np.inf],3*[np.inf]),p0=[1,1,0])\n",
    "\n",
    "# ax.plot(ns,func2(np.array(ns),*popt1),label = f'exponential fit : alpha= {\"{:.2f}\".format(popt1[0]*24)}.day-1',color='blue')\n",
    "ax.scatter(tab[abcisse],tab[ordinate],alpha=0.3,color='red')\n",
    "# ax.plot(moving_av[abcisse],moving_av[ordinate],color='red',label = 'moving average')\n",
    "# ax.plot(moving_av[abcisse],(moving_av[ordinate]+moving_std[ordinate]/np.sqrt(N)),color='red',label = 'std',linestyle = 'dotted')\n",
    "# ax.plot(moving_av[abcisse],(moving_av[ordinate]-moving_std[ordinate]/np.sqrt(N)),color='red',label = 'std',linestyle = 'dotted')\n",
    "ax.spines['right'].set_color('red')\n",
    "ax.tick_params(axis='y', colors='red')  #setting up Y-axis tick color to black"
   ]
  },
  {
   "cell_type": "code",
   "execution_count": 22,
   "metadata": {},
   "outputs": [
    {
     "name": "stderr",
     "output_type": "stream",
     "text": [
      "/home/cbisot/anaconda3/envs/test/lib/python3.7/site-packages/matplotlib/__init__.py:880: MatplotlibDeprecationWarning: \n",
      "nbagg.transparent\n",
      "  version, key, obj_type=\"rcparam\", alternative=alt_key)\n"
     ]
    },
    {
     "data": {
      "application/vnd.jupyter.widget-view+json": {
       "model_id": "5172676ea00f4c0a883f3c85c3d7c46e",
       "version_major": 2,
       "version_minor": 0
      },
      "text/plain": [
       "Canvas(toolbar=Toolbar(toolitems=[('Home', 'Reset original view', 'home', 'home'), ('Back', 'Back to previous …"
      ]
     },
     "metadata": {},
     "output_type": "display_data"
    },
    {
     "data": {
      "text/plain": [
       "<matplotlib.collections.PathCollection at 0x2b73ba3d50d0>"
      ]
     },
     "execution_count": 22,
     "metadata": {},
     "output_type": "execute_result"
    }
   ],
   "source": [
    "fig=plt.figure(figsize=(8,8))\n",
    "ax = fig.add_subplot(111)\n",
    "ax.scatter(nconnection,bd)"
   ]
  }
 ],
 "metadata": {
  "kernelspec": {
   "display_name": "Python 3",
   "language": "python",
   "name": "python3"
  },
  "language_info": {
   "codemirror_mode": {
    "name": "ipython",
    "version": 3
   },
   "file_extension": ".py",
   "mimetype": "text/x-python",
   "name": "python",
   "nbconvert_exporter": "python",
   "pygments_lexer": "ipython3",
   "version": "3.7.7"
  }
 },
 "nbformat": 4,
 "nbformat_minor": 4
}

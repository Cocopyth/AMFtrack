{
 "cells": [
  {
   "cell_type": "code",
   "execution_count": 1,
   "metadata": {},
   "outputs": [],
   "source": [
    "%matplotlib widget\n",
    "\n",
    "import sys  \n",
    "sys.path.insert(0, '/home/cbisot/pycode/MscThesis/')\n",
    "import pandas as pd\n",
    "from sample.util import get_dates_datetime, get_dirname, get_plate_number, get_postion_number\n",
    "\n",
    "import ast\n",
    "from sample.plotutil import plot_t_tp1\n",
    "from scipy import sparse\n",
    "from datetime import datetime\n",
    "from sample.pipeline.functions.node_id import orient\n",
    "import pickle\n",
    "import scipy.io as sio\n",
    "from pymatreader import read_mat\n",
    "from matplotlib import colors\n",
    "import cv2\n",
    "import imageio\n",
    "import matplotlib.pyplot as plt\n",
    "import numpy as np\n",
    "from skimage.filters import frangi\n",
    "from skimage import filters\n",
    "from random import choice\n",
    "import scipy.sparse\n",
    "import os\n",
    "from sample.pipeline.functions.extract_graph import from_sparse_to_graph, generate_nx_graph, sparse_to_doc\n",
    "from skimage.feature import hessian_matrix_det\n",
    "from sample.pipeline.functions.experiment_class_surf import Experiment\n",
    "from sample.paths.directory import run_parallel, find_state, directory_scratch, directory_project, path_code\n",
    "\n",
    "from sample.notebooks.analysis.data_info import *\n",
    "import matplotlib.patches as mpatches\n",
    "from statsmodels.stats import weightstats as stests\n",
    "window=800\n",
    "results={}\n",
    "for treatment in treatments.keys():\n",
    "    insts = treatments[treatment]\n",
    "    for inst in insts:\n",
    "        results[inst] = pickle.load(open(f'{path_code}/MscThesis/Results/straight_{window}_{inst}.pick', \"rb\"))\n",
    "column_names = [\"plate\",\"inst\", \"treatment\", \"angle\", \"curvature\",\"density\",\"growth\",\"speed\",\"straightness\",\"t\",\"hyph\",\"total_network\"]\n",
    "infos = pd.DataFrame(columns=column_names)\n",
    "for treatment in treatments.keys():\n",
    "    insts = treatments[treatment]\n",
    "    for inst in insts:\n",
    "        angles, curvatures, densities,growths,speeds,tortuosities,ts,hyphs,total_lengths = results[inst]\n",
    "        for i,angle in enumerate(angles):\n",
    "            new_line = pd.DataFrame(\n",
    "                {   \"plate\": [plate_number[inst]],\n",
    "                    \"inst\": [inst],\n",
    "                    \"treatment\": [treatment],\n",
    "                    \"angle\": [angle],\n",
    "                    \"curvature\": [curvatures[i]],\n",
    "                    \"density\": [densities[i]],\n",
    "                    \"growth\": [growths[i]],\n",
    "                    \"speed\": [speeds[i]],\n",
    "                    \"straightness\": [tortuosities[i]],\n",
    "                     \"t\": [ts[i]],\n",
    "                     \"hyph\": [hyphs[i]],\n",
    "                     \"total_network\" : [total_lengths[i]],\n",
    "                }\n",
    "            )  # index 0 for\n",
    "            # mothers need to be modified to resolve multi mother issue\n",
    "            infos = infos.append(new_line, ignore_index=True)\n",
    "corrected = infos.loc[(infos[\"straightness\"] <= 1)&(infos[\"plate\"] !=435)& (infos[\"speed\"] >=25)& (infos[\"speed\"] <400)]\n",
    "plate_94 = corrected.loc[corrected ['plate']==94]\n"
   ]
  },
  {
   "cell_type": "code",
   "execution_count": 2,
   "metadata": {},
   "outputs": [],
   "source": [
    "plate_94 = corrected.loc[(corrected ['plate']==94) & (corrected ['t']<=70)& (corrected ['speed']>=50)]\n",
    "# plate_94 = corrected.loc[corrected ['plate']==94]\n"
   ]
  },
  {
   "cell_type": "code",
   "execution_count": 5,
   "metadata": {},
   "outputs": [],
   "source": [
    "dummy_baits = [298,319,373,344]\n",
    "P_N_crossing_P = [420,433,405,425,384]\n",
    "P_N_crossing_N = [423,436,409,400,403]\n",
    "dummy_baits_se = corrected.loc[corrected ['plate'].isin(dummy_baits)]\n",
    "P_N_crossing_P_se = corrected.loc[corrected ['plate'].isin(P_N_crossing_P)]\n",
    "P_N_crossing_N_se = corrected.loc[corrected ['plate'].isin(P_N_crossing_N)]\n",
    "no_bait_se = corrected.loc[corrected ['treatment']=='25*']\n"
   ]
  },
  {
   "cell_type": "code",
   "execution_count": 27,
   "metadata": {},
   "outputs": [
    {
     "name": "stderr",
     "output_type": "stream",
     "text": [
      "/home/cbisot/anaconda3/envs/test/lib/python3.7/site-packages/matplotlib/pyplot.py:514: RuntimeWarning: More than 20 figures have been opened. Figures created through the pyplot interface (`matplotlib.pyplot.figure`) are retained until explicitly closed and may consume too much memory. (To control this warning, see the rcParam `figure.max_open_warning`).\n",
      "  max_open_warning, RuntimeWarning)\n"
     ]
    },
    {
     "data": {
      "application/vnd.jupyter.widget-view+json": {
       "model_id": "71bf20d20b56419796cc6d5315396908",
       "version_major": 2,
       "version_minor": 0
      },
      "text/plain": [
       "Canvas(toolbar=Toolbar(toolitems=[('Home', 'Reset original view', 'home', 'home'), ('Back', 'Back to previous …"
      ]
     },
     "metadata": {},
     "output_type": "display_data"
    },
    {
     "data": {
      "text/plain": [
       "<matplotlib.legend.Legend at 0x2ace56eea050>"
      ]
     },
     "execution_count": 27,
     "metadata": {},
     "output_type": "execute_result"
    }
   ],
   "source": [
    "fig=plt.figure(figsize=(8,8))\n",
    "ax = fig.add_subplot(111)\n",
    "abcisse = 't'\n",
    "plate_94 = dummy_baits_se\n",
    "baits_sort = plate_94.sort_values(\"t\")\n",
    "N=160\n",
    "moving_av = baits_sort.rolling(N).mean()\n",
    "moving_std = baits_sort.rolling(N).std()\n",
    "\n",
    "\n",
    "ax.set_xlabel('time(t)')\n",
    "ax.set_ylabel('speed($\\mu m. h^{-1}$)')\n",
    "xlim = 40\n",
    "# ax.set_xlim(0,30)\n",
    "ax.set_ylim(0,400)\n",
    "# slope, intercept, r_value, p_value, std_err = stats.linregress(densities_sort,np.abs(curvatures_sort))\n",
    "x= range(-xlim,xlim)\n",
    "\n",
    "# ax.scatter(plate_94[abcisse],plate_94['speed'],color='green',label='observed speeds')\n",
    "line1 = ax.plot(moving_av[abcisse],moving_av['speed'],color='green',label = 'dummy baits',)\n",
    "ax.plot(moving_av[abcisse],(moving_av['speed']+moving_std['speed']/np.sqrt(N)),color='red')\n",
    "ax.plot(moving_av[abcisse],(moving_av['speed']-moving_std['speed']/np.sqrt(N)),color='red')\n",
    "plate_94 = P_N_crossing_P_se\n",
    "baits_sort = plate_94.sort_values(\"t\")\n",
    "N=160\n",
    "moving_av = baits_sort.rolling(N).mean()\n",
    "moving_std = baits_sort.rolling(N).std()\n",
    "\n",
    "\n",
    "ax.set_xlabel('time(t)')\n",
    "ax.set_ylabel('speed($\\mu m. h^{-1}$)')\n",
    "xlim = 40\n",
    "# ax.set_xlim(0,30)\n",
    "ax.set_ylim(0,400)\n",
    "# slope, intercept, r_value, p_value, std_err = stats.linregress(densities_sort,np.abs(curvatures_sort))\n",
    "x= range(-xlim,xlim)\n",
    "\n",
    "# ax.scatter(plate_94[abcisse],plate_94['speed'],color='black',label='observed speeds')\n",
    "line2 =ax.plot(moving_av[abcisse],moving_av['speed'],color='black',label = 'P_N_crossing_P',)\n",
    "ax.plot(moving_av[abcisse],(moving_av['speed']+moving_std['speed']/np.sqrt(N)),color='red')\n",
    "ax.plot(moving_av[abcisse],(moving_av['speed']-moving_std['speed']/np.sqrt(N)),color='red')\n",
    "plate_94 = P_N_crossing_N_se\n",
    "baits_sort = plate_94.sort_values(\"t\")\n",
    "N=160\n",
    "moving_av = baits_sort.rolling(N).mean()\n",
    "moving_std = baits_sort.rolling(N).std()\n",
    "\n",
    "\n",
    "ax.set_xlabel('time(t)')\n",
    "ax.set_ylabel('speed($\\mu m. h^{-1}$)')\n",
    "xlim = 40\n",
    "# ax.set_xlim(0,30)\n",
    "ax.set_ylim(0,400)\n",
    "# slope, intercept, r_value, p_value, std_err = stats.linregress(densities_sort,np.abs(curvatures_sort))\n",
    "x= range(-xlim,xlim)\n",
    "\n",
    "# ax.scatter(plate_94[abcisse],plate_94['speed'],color='pink',label='observed speeds')\n",
    "line3 =ax.plot(moving_av[abcisse],moving_av['speed'],color='pink',label = 'P_N_crossing_N',)\n",
    "ax.plot(moving_av[abcisse],(moving_av['speed']+moving_std['speed']/np.sqrt(N)),color='red')\n",
    "ax.plot(moving_av[abcisse],(moving_av['speed']-moving_std['speed']/np.sqrt(N)),color='red')\n",
    "plate_94 = no_bait_se\n",
    "baits_sort = plate_94.sort_values(\"t\")\n",
    "N=320\n",
    "moving_av = baits_sort.rolling(N).mean()\n",
    "moving_std = baits_sort.rolling(N).std()\n",
    "\n",
    "\n",
    "ax.set_xlabel('time(t)')\n",
    "ax.set_ylabel('speed($\\mu m. h^{-1}$)')\n",
    "xlim = 40\n",
    "# ax.set_xlim(0,30)\n",
    "ax.set_ylim(0,400)\n",
    "# slope, intercept, r_value, p_value, std_err = stats.linregress(densities_sort,np.abs(curvatures_sort))\n",
    "x= range(-xlim,xlim)\n",
    "\n",
    "# ax.scatter(plate_94[abcisse],plate_94['speed'],color='blue',label='observed speeds')\n",
    "line4 =ax.plot(moving_av[abcisse],moving_av['speed'],color='blue',label = 'no_baits',)\n",
    "ax.plot(moving_av[abcisse],(moving_av['speed']+moving_std['speed']/np.sqrt(N)),color='red')\n",
    "ax.plot(moving_av[abcisse],(moving_av['speed']-moving_std['speed']/np.sqrt(N)),color='red')\n",
    "\n",
    "plt.legend((line1,line2,line3,line4),('dummy baits','P and N crossing P','P and N crossing N','no baits'),loc='upper center')"
   ]
  },
  {
   "cell_type": "code",
   "execution_count": 3,
   "metadata": {},
   "outputs": [
    {
     "data": {
      "application/vnd.jupyter.widget-view+json": {
       "model_id": "79f6358f5daa44289f341314220cf56d",
       "version_major": 2,
       "version_minor": 0
      },
      "text/plain": [
       "Canvas(toolbar=Toolbar(toolitems=[('Home', 'Reset original view', 'home', 'home'), ('Back', 'Back to previous …"
      ]
     },
     "metadata": {},
     "output_type": "display_data"
    },
    {
     "data": {
      "text/plain": [
       "[<matplotlib.lines.Line2D at 0x2b477b7756d0>]"
      ]
     },
     "execution_count": 3,
     "metadata": {},
     "output_type": "execute_result"
    }
   ],
   "source": [
    "baits_sort = plate_94.sort_values(\"total_network\")\n",
    "N=80\n",
    "moving_av = baits_sort.rolling(N).mean()\n",
    "moving_std = baits_sort.rolling(N).std()\n",
    "\n",
    "fig=plt.figure(figsize=(8,8))\n",
    "ax = fig.add_subplot(111)\n",
    "ax.set_xlabel('total network($\\mu m$)')\n",
    "ax.set_ylabel('speed($\\mu m. h^{-1}$)')\n",
    "xlim = 40\n",
    "# ax.set_xlim(0,60)\n",
    "ax.set_ylim(0,400)\n",
    "# slope, intercept, r_value, p_value, std_err = stats.linregress(densities_sort,np.abs(curvatures_sort))\n",
    "x= range(-xlim,xlim)\n",
    "\n",
    "ax.scatter(plate_94[\"total_network\"],plate_94['speed'],color='yellow',label='observed speeds')\n",
    "ax.plot(moving_av[\"total_network\"],moving_av['speed'],color='green',label = 'moving average')\n",
    "ax.plot(moving_av[\"total_network\"],(moving_av['speed']+moving_std['speed']/np.sqrt(N)),color='red',label = 'moving average')\n",
    "ax.plot(moving_av[\"total_network\"],(moving_av['speed']-moving_std['speed']/np.sqrt(N)),color='red',label = 'moving average')"
   ]
  },
  {
   "cell_type": "code",
   "execution_count": 12,
   "metadata": {},
   "outputs": [
    {
     "data": {
      "text/plain": [
       "(3.542283981016115, 1.1179077728070796)"
      ]
     },
     "execution_count": 12,
     "metadata": {},
     "output_type": "execute_result"
    }
   ],
   "source": [
    "160**2*np.log(2)**2/(2*1000**2)*24**2,56/20*np.log(2)/1000*24**2"
   ]
  },
  {
   "cell_type": "code",
   "execution_count": 11,
   "metadata": {},
   "outputs": [
    {
     "data": {
      "text/plain": [
       "4.7400423090237"
      ]
     },
     "execution_count": 11,
     "metadata": {},
     "output_type": "execute_result"
    }
   ],
   "source": [
    "160**2*np.log(2)**2/(2*1000**2)*24**2 + 3*np.log(2)/1000*24**2"
   ]
  },
  {
   "cell_type": "code",
   "execution_count": 39,
   "metadata": {},
   "outputs": [
    {
     "data": {
      "text/plain": [
       "1.0318304460230256"
      ]
     },
     "execution_count": 39,
     "metadata": {},
     "output_type": "execute_result"
    }
   ],
   "source": [
    "np.sqrt(4*np.log(2)/1500*24**2)"
   ]
  },
  {
   "cell_type": "code",
   "execution_count": 40,
   "metadata": {},
   "outputs": [
    {
     "data": {
      "text/plain": [
       "8.333333333333334"
      ]
     },
     "execution_count": 40,
     "metadata": {},
     "output_type": "execute_result"
    }
   ],
   "source": [
    "30000/3600"
   ]
  },
  {
   "cell_type": "code",
   "execution_count": 5,
   "metadata": {},
   "outputs": [
    {
     "data": {
      "text/plain": [
       "19.200000000000003"
      ]
     },
     "execution_count": 5,
     "metadata": {},
     "output_type": "execute_result"
    }
   ],
   "source": [
    "0.80*24"
   ]
  }
 ],
 "metadata": {
  "kernelspec": {
   "display_name": "Python 3",
   "language": "python",
   "name": "python3"
  },
  "language_info": {
   "codemirror_mode": {
    "name": "ipython",
    "version": 3
   },
   "file_extension": ".py",
   "mimetype": "text/x-python",
   "name": "python",
   "nbconvert_exporter": "python",
   "pygments_lexer": "ipython3",
   "version": "3.7.7"
  }
 },
 "nbformat": 4,
 "nbformat_minor": 4
}

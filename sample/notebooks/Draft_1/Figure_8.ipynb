{
 "cells": [
  {
   "cell_type": "code",
   "execution_count": 1,
   "metadata": {},
   "outputs": [],
   "source": [
    "%matplotlib widget\n",
    "\n",
    "import sys  \n",
    "sys.path.insert(0, '/home/cbisot/pycode/MscThesis/')\n",
    "import pandas as pd\n",
    "from sample.util import get_dates_datetime, get_dirname, get_plate_number, get_postion_number\n",
    "\n",
    "import ast\n",
    "from sample.plotutil import plot_t_tp1\n",
    "from scipy import sparse\n",
    "from datetime import datetime\n",
    "from sample.pipeline.functions.node_id import orient\n",
    "import pickle\n",
    "import scipy.io as sio\n",
    "from pymatreader import read_mat\n",
    "from matplotlib import colors\n",
    "import cv2\n",
    "import imageio\n",
    "import matplotlib.pyplot as plt\n",
    "import numpy as np\n",
    "from skimage.filters import frangi\n",
    "from skimage import filters\n",
    "from random import choice\n",
    "import scipy.sparse\n",
    "import os\n",
    "from sample.pipeline.functions.extract_graph import from_sparse_to_graph, generate_nx_graph, sparse_to_doc\n",
    "from skimage.feature import hessian_matrix_det\n",
    "from sample.pipeline.functions.experiment_class_surf import Experiment\n",
    "from sample.paths.directory import run_parallel, find_state, directory_scratch, directory_project, path_code\n",
    "\n",
    "from sample.notebooks.analysis.data_info import *\n",
    "import matplotlib.patches as mpatches\n",
    "from statsmodels.stats import weightstats as stests\n",
    "window=800\n",
    "results={}\n",
    "for treatment in treatments.keys():\n",
    "    insts = treatments[treatment]\n",
    "    for inst in insts:\n",
    "        results[inst] = pickle.load(open(f'{path_code}/MscThesis/Results/straight_{window}_{inst}.pick', \"rb\"))\n",
    "column_names = [\"plate\",\"inst\", \"treatment\", \"angle\", \"curvature\",\"density\",\"growth\",\"speed\",\"straightness\",\"t\",\"hyph\",\"total_network\"]\n",
    "infos = pd.DataFrame(columns=column_names)\n",
    "for treatment in treatments.keys():\n",
    "    insts = treatments[treatment]\n",
    "    for inst in insts:\n",
    "        angles, curvatures, densities,growths,speeds,tortuosities,ts,hyphs,total_lengths = results[inst]\n",
    "        for i,angle in enumerate(angles):\n",
    "            new_line = pd.DataFrame(\n",
    "                {   \"plate\": [plate_number[inst]],\n",
    "                    \"inst\": [inst],\n",
    "                    \"treatment\": [treatment],\n",
    "                    \"angle\": [angle],\n",
    "                    \"curvature\": [curvatures[i]],\n",
    "                    \"density\": [densities[i]],\n",
    "                    \"growth\": [growths[i]],\n",
    "                    \"speed\": [speeds[i]],\n",
    "                    \"straightness\": [tortuosities[i]],\n",
    "                     \"t\": [ts[i]],\n",
    "                     \"hyph\": [hyphs[i]],\n",
    "                     \"total_network\" : [total_lengths[i]],\n",
    "                }\n",
    "            )  # index 0 for\n",
    "            # mothers need to be modified to resolve multi mother issue\n",
    "            infos = infos.append(new_line, ignore_index=True)\n",
    "corrected = infos.loc[(infos[\"straightness\"] <= 1)&(infos[\"plate\"] !=435)& (infos[\"speed\"] >=25)& (infos[\"speed\"] <400)]\n",
    "plate_94 = corrected.loc[corrected ['plate']==94]\n"
   ]
  },
  {
   "cell_type": "code",
   "execution_count": 2,
   "metadata": {},
   "outputs": [],
   "source": [
    "plate_94 = corrected.loc[(corrected ['plate']==94) & (corrected ['t']<=60)& (corrected ['speed']>=150)]\n",
    "# plate_94 = corrected.loc[corrected ['plate']==94]\n"
   ]
  },
  {
   "cell_type": "code",
   "execution_count": 25,
   "metadata": {
    "collapsed": true,
    "jupyter": {
     "outputs_hidden": true
    }
   },
   "outputs": [
    {
     "data": {
      "text/html": [
       "<div>\n",
       "<style scoped>\n",
       "    .dataframe tbody tr th:only-of-type {\n",
       "        vertical-align: middle;\n",
       "    }\n",
       "\n",
       "    .dataframe tbody tr th {\n",
       "        vertical-align: top;\n",
       "    }\n",
       "\n",
       "    .dataframe thead th {\n",
       "        text-align: right;\n",
       "    }\n",
       "</style>\n",
       "<table border=\"1\" class=\"dataframe\">\n",
       "  <thead>\n",
       "    <tr style=\"text-align: right;\">\n",
       "      <th></th>\n",
       "      <th>plate</th>\n",
       "      <th>inst</th>\n",
       "      <th>treatment</th>\n",
       "      <th>angle</th>\n",
       "      <th>curvature</th>\n",
       "      <th>density</th>\n",
       "      <th>growth</th>\n",
       "      <th>speed</th>\n",
       "      <th>straightness</th>\n",
       "      <th>t</th>\n",
       "      <th>hyph</th>\n",
       "      <th>total_network</th>\n",
       "    </tr>\n",
       "  </thead>\n",
       "  <tbody>\n",
       "    <tr>\n",
       "      <th>698</th>\n",
       "      <td>94</td>\n",
       "      <td>(39, 269, 329)</td>\n",
       "      <td>25*</td>\n",
       "      <td>-8.130102</td>\n",
       "      <td>-0.033951</td>\n",
       "      <td>1.339855</td>\n",
       "      <td>239.465595</td>\n",
       "      <td>239.465595</td>\n",
       "      <td>0.995367</td>\n",
       "      <td>0.000000</td>\n",
       "      <td>1</td>\n",
       "      <td>1.749240e+05</td>\n",
       "    </tr>\n",
       "    <tr>\n",
       "      <th>699</th>\n",
       "      <td>94</td>\n",
       "      <td>(39, 269, 329)</td>\n",
       "      <td>25*</td>\n",
       "      <td>-9.019322</td>\n",
       "      <td>-0.042351</td>\n",
       "      <td>1.452899</td>\n",
       "      <td>212.967115</td>\n",
       "      <td>212.967115</td>\n",
       "      <td>0.990866</td>\n",
       "      <td>1.000000</td>\n",
       "      <td>1</td>\n",
       "      <td>1.832130e+05</td>\n",
       "    </tr>\n",
       "    <tr>\n",
       "      <th>700</th>\n",
       "      <td>94</td>\n",
       "      <td>(39, 269, 329)</td>\n",
       "      <td>25*</td>\n",
       "      <td>-9.473778</td>\n",
       "      <td>-0.044439</td>\n",
       "      <td>1.346377</td>\n",
       "      <td>213.187075</td>\n",
       "      <td>213.187075</td>\n",
       "      <td>0.989844</td>\n",
       "      <td>2.000000</td>\n",
       "      <td>1</td>\n",
       "      <td>1.908655e+05</td>\n",
       "    </tr>\n",
       "    <tr>\n",
       "      <th>701</th>\n",
       "      <td>94</td>\n",
       "      <td>(39, 269, 329)</td>\n",
       "      <td>25*</td>\n",
       "      <td>3.419983</td>\n",
       "      <td>0.016867</td>\n",
       "      <td>1.147826</td>\n",
       "      <td>202.766341</td>\n",
       "      <td>206.203059</td>\n",
       "      <td>0.995394</td>\n",
       "      <td>3.000000</td>\n",
       "      <td>1</td>\n",
       "      <td>1.994984e+05</td>\n",
       "    </tr>\n",
       "    <tr>\n",
       "      <th>704</th>\n",
       "      <td>94</td>\n",
       "      <td>(39, 269, 329)</td>\n",
       "      <td>25*</td>\n",
       "      <td>-12.733252</td>\n",
       "      <td>-0.089661</td>\n",
       "      <td>0.583333</td>\n",
       "      <td>142.015624</td>\n",
       "      <td>142.015624</td>\n",
       "      <td>0.984545</td>\n",
       "      <td>5.983333</td>\n",
       "      <td>1</td>\n",
       "      <td>2.168602e+05</td>\n",
       "    </tr>\n",
       "    <tr>\n",
       "      <th>...</th>\n",
       "      <td>...</td>\n",
       "      <td>...</td>\n",
       "      <td>...</td>\n",
       "      <td>...</td>\n",
       "      <td>...</td>\n",
       "      <td>...</td>\n",
       "      <td>...</td>\n",
       "      <td>...</td>\n",
       "      <td>...</td>\n",
       "      <td>...</td>\n",
       "      <td>...</td>\n",
       "      <td>...</td>\n",
       "    </tr>\n",
       "    <tr>\n",
       "      <th>2895</th>\n",
       "      <td>94</td>\n",
       "      <td>(39, 269, 329)</td>\n",
       "      <td>25*</td>\n",
       "      <td>-12.985598</td>\n",
       "      <td>-0.050187</td>\n",
       "      <td>3.918841</td>\n",
       "      <td>258.746212</td>\n",
       "      <td>258.746212</td>\n",
       "      <td>0.995583</td>\n",
       "      <td>59.016667</td>\n",
       "      <td>14696</td>\n",
       "      <td>1.187199e+06</td>\n",
       "    </tr>\n",
       "    <tr>\n",
       "      <th>2896</th>\n",
       "      <td>94</td>\n",
       "      <td>(39, 269, 329)</td>\n",
       "      <td>25*</td>\n",
       "      <td>-11.888658</td>\n",
       "      <td>-0.059135</td>\n",
       "      <td>4.150000</td>\n",
       "      <td>201.043765</td>\n",
       "      <td>201.043765</td>\n",
       "      <td>0.978070</td>\n",
       "      <td>58.016667</td>\n",
       "      <td>14807</td>\n",
       "      <td>1.160717e+06</td>\n",
       "    </tr>\n",
       "    <tr>\n",
       "      <th>2897</th>\n",
       "      <td>94</td>\n",
       "      <td>(39, 269, 329)</td>\n",
       "      <td>25*</td>\n",
       "      <td>-16.437415</td>\n",
       "      <td>-0.079272</td>\n",
       "      <td>4.478986</td>\n",
       "      <td>207.355018</td>\n",
       "      <td>207.355018</td>\n",
       "      <td>0.990772</td>\n",
       "      <td>59.016667</td>\n",
       "      <td>14807</td>\n",
       "      <td>1.187199e+06</td>\n",
       "    </tr>\n",
       "    <tr>\n",
       "      <th>2898</th>\n",
       "      <td>94</td>\n",
       "      <td>(39, 269, 329)</td>\n",
       "      <td>25*</td>\n",
       "      <td>-7.349167</td>\n",
       "      <td>-0.035690</td>\n",
       "      <td>2.278986</td>\n",
       "      <td>205.919338</td>\n",
       "      <td>205.919338</td>\n",
       "      <td>0.965981</td>\n",
       "      <td>58.016667</td>\n",
       "      <td>14840</td>\n",
       "      <td>1.160717e+06</td>\n",
       "    </tr>\n",
       "    <tr>\n",
       "      <th>2899</th>\n",
       "      <td>94</td>\n",
       "      <td>(39, 269, 329)</td>\n",
       "      <td>25*</td>\n",
       "      <td>2.960460</td>\n",
       "      <td>0.014823</td>\n",
       "      <td>2.969565</td>\n",
       "      <td>199.717810</td>\n",
       "      <td>199.717810</td>\n",
       "      <td>0.996538</td>\n",
       "      <td>59.016667</td>\n",
       "      <td>14840</td>\n",
       "      <td>1.187199e+06</td>\n",
       "    </tr>\n",
       "  </tbody>\n",
       "</table>\n",
       "<p>1438 rows × 12 columns</p>\n",
       "</div>"
      ],
      "text/plain": [
       "     plate            inst treatment      angle  curvature   density  \\\n",
       "698     94  (39, 269, 329)       25*  -8.130102  -0.033951  1.339855   \n",
       "699     94  (39, 269, 329)       25*  -9.019322  -0.042351  1.452899   \n",
       "700     94  (39, 269, 329)       25*  -9.473778  -0.044439  1.346377   \n",
       "701     94  (39, 269, 329)       25*   3.419983   0.016867  1.147826   \n",
       "704     94  (39, 269, 329)       25* -12.733252  -0.089661  0.583333   \n",
       "...    ...             ...       ...        ...        ...       ...   \n",
       "2895    94  (39, 269, 329)       25* -12.985598  -0.050187  3.918841   \n",
       "2896    94  (39, 269, 329)       25* -11.888658  -0.059135  4.150000   \n",
       "2897    94  (39, 269, 329)       25* -16.437415  -0.079272  4.478986   \n",
       "2898    94  (39, 269, 329)       25*  -7.349167  -0.035690  2.278986   \n",
       "2899    94  (39, 269, 329)       25*   2.960460   0.014823  2.969565   \n",
       "\n",
       "          growth       speed  straightness          t   hyph  total_network  \n",
       "698   239.465595  239.465595      0.995367   0.000000      1   1.749240e+05  \n",
       "699   212.967115  212.967115      0.990866   1.000000      1   1.832130e+05  \n",
       "700   213.187075  213.187075      0.989844   2.000000      1   1.908655e+05  \n",
       "701   202.766341  206.203059      0.995394   3.000000      1   1.994984e+05  \n",
       "704   142.015624  142.015624      0.984545   5.983333      1   2.168602e+05  \n",
       "...          ...         ...           ...        ...    ...            ...  \n",
       "2895  258.746212  258.746212      0.995583  59.016667  14696   1.187199e+06  \n",
       "2896  201.043765  201.043765      0.978070  58.016667  14807   1.160717e+06  \n",
       "2897  207.355018  207.355018      0.990772  59.016667  14807   1.187199e+06  \n",
       "2898  205.919338  205.919338      0.965981  58.016667  14840   1.160717e+06  \n",
       "2899  199.717810  199.717810      0.996538  59.016667  14840   1.187199e+06  \n",
       "\n",
       "[1438 rows x 12 columns]"
      ]
     },
     "execution_count": 25,
     "metadata": {},
     "output_type": "execute_result"
    }
   ],
   "source": [
    "plate_94"
   ]
  },
  {
   "cell_type": "code",
   "execution_count": 3,
   "metadata": {},
   "outputs": [
    {
     "name": "stderr",
     "output_type": "stream",
     "text": [
      "/home/cbisot/anaconda3/envs/test/lib/python3.7/site-packages/matplotlib/__init__.py:880: MatplotlibDeprecationWarning: \n",
      "nbagg.transparent\n",
      "  version, key, obj_type=\"rcparam\", alternative=alt_key)\n"
     ]
    },
    {
     "data": {
      "application/vnd.jupyter.widget-view+json": {
       "model_id": "069e6caf50e144e1b3a12c46278cabc7",
       "version_major": 2,
       "version_minor": 0
      },
      "text/plain": [
       "Canvas(toolbar=Toolbar(toolitems=[('Home', 'Reset original view', 'home', 'home'), ('Back', 'Back to previous …"
      ]
     },
     "metadata": {},
     "output_type": "display_data"
    },
    {
     "name": "stderr",
     "output_type": "stream",
     "text": [
      "/home/cbisot/anaconda3/envs/test/lib/python3.7/site-packages/matplotlib/cbook/__init__.py:1377: FutureWarning: Support for multi-dimensional indexing (e.g. `obj[:, None]`) is deprecated and will be removed in a future version.  Convert to a numpy array before indexing instead.\n",
      "  x[:, None]\n",
      "/home/cbisot/anaconda3/envs/test/lib/python3.7/site-packages/matplotlib/axes/_base.py:237: FutureWarning: Support for multi-dimensional indexing (e.g. `obj[:, None]`) is deprecated and will be removed in a future version.  Convert to a numpy array before indexing instead.\n",
      "  x = x[:, np.newaxis]\n",
      "/home/cbisot/anaconda3/envs/test/lib/python3.7/site-packages/matplotlib/axes/_base.py:239: FutureWarning: Support for multi-dimensional indexing (e.g. `obj[:, None]`) is deprecated and will be removed in a future version.  Convert to a numpy array before indexing instead.\n",
      "  y = y[:, np.newaxis]\n"
     ]
    },
    {
     "data": {
      "text/plain": [
       "[<matplotlib.lines.Line2D at 0x2b5249072150>]"
      ]
     },
     "execution_count": 3,
     "metadata": {},
     "output_type": "execute_result"
    }
   ],
   "source": [
    "baits_sort = plate_94.sort_values(\"t\")\n",
    "N=80\n",
    "moving_av = baits_sort.rolling(N).mean()\n",
    "moving_std = baits_sort.rolling(N).std()\n",
    "\n",
    "fig=plt.figure(figsize=(8,8))\n",
    "ax = fig.add_subplot(111)\n",
    "ax.set_xlabel('time(t)')\n",
    "ax.set_ylabel('speed($\\mu m. h^{-1}$)')\n",
    "xlim = 40\n",
    "ax.set_xlim(0,30)\n",
    "ax.set_ylim(0,400)\n",
    "# slope, intercept, r_value, p_value, std_err = stats.linregress(densities_sort,np.abs(curvatures_sort))\n",
    "x= range(-xlim,xlim)\n",
    "\n",
    "ax.scatter(plate_94[\"t\"],plate_94['speed'],color='yellow',label='observed speeds')\n",
    "ax.plot(moving_av[\"t\"],moving_av['speed'],color='green',label = 'moving average')\n",
    "ax.plot(moving_av[\"t\"],(moving_av['speed']+moving_std['speed']/np.sqrt(N)),color='red',label = 'moving average')\n",
    "ax.plot(moving_av[\"t\"],(moving_av['speed']-moving_std['speed']/np.sqrt(N)),color='red',label = 'moving average')"
   ]
  },
  {
   "cell_type": "code",
   "execution_count": 3,
   "metadata": {},
   "outputs": [
    {
     "data": {
      "application/vnd.jupyter.widget-view+json": {
       "model_id": "79f6358f5daa44289f341314220cf56d",
       "version_major": 2,
       "version_minor": 0
      },
      "text/plain": [
       "Canvas(toolbar=Toolbar(toolitems=[('Home', 'Reset original view', 'home', 'home'), ('Back', 'Back to previous …"
      ]
     },
     "metadata": {},
     "output_type": "display_data"
    },
    {
     "data": {
      "text/plain": [
       "[<matplotlib.lines.Line2D at 0x2b477b7756d0>]"
      ]
     },
     "execution_count": 3,
     "metadata": {},
     "output_type": "execute_result"
    }
   ],
   "source": [
    "baits_sort = plate_94.sort_values(\"total_network\")\n",
    "N=80\n",
    "moving_av = baits_sort.rolling(N).mean()\n",
    "moving_std = baits_sort.rolling(N).std()\n",
    "\n",
    "fig=plt.figure(figsize=(8,8))\n",
    "ax = fig.add_subplot(111)\n",
    "ax.set_xlabel('total network($\\mu m$)')\n",
    "ax.set_ylabel('speed($\\mu m. h^{-1}$)')\n",
    "xlim = 40\n",
    "# ax.set_xlim(0,60)\n",
    "ax.set_ylim(0,400)\n",
    "# slope, intercept, r_value, p_value, std_err = stats.linregress(densities_sort,np.abs(curvatures_sort))\n",
    "x= range(-xlim,xlim)\n",
    "\n",
    "ax.scatter(plate_94[\"total_network\"],plate_94['speed'],color='yellow',label='observed speeds')\n",
    "ax.plot(moving_av[\"total_network\"],moving_av['speed'],color='green',label = 'moving average')\n",
    "ax.plot(moving_av[\"total_network\"],(moving_av['speed']+moving_std['speed']/np.sqrt(N)),color='red',label = 'moving average')\n",
    "ax.plot(moving_av[\"total_network\"],(moving_av['speed']-moving_std['speed']/np.sqrt(N)),color='red',label = 'moving average')"
   ]
  },
  {
   "cell_type": "code",
   "execution_count": 12,
   "metadata": {},
   "outputs": [
    {
     "data": {
      "text/plain": [
       "(3.542283981016115, 1.1179077728070796)"
      ]
     },
     "execution_count": 12,
     "metadata": {},
     "output_type": "execute_result"
    }
   ],
   "source": [
    "160**2*np.log(2)**2/(2*1000**2)*24**2,56/20*np.log(2)/1000*24**2"
   ]
  },
  {
   "cell_type": "code",
   "execution_count": 11,
   "metadata": {},
   "outputs": [
    {
     "data": {
      "text/plain": [
       "4.7400423090237"
      ]
     },
     "execution_count": 11,
     "metadata": {},
     "output_type": "execute_result"
    }
   ],
   "source": [
    "160**2*np.log(2)**2/(2*1000**2)*24**2 + 3*np.log(2)/1000*24**2"
   ]
  },
  {
   "cell_type": "code",
   "execution_count": 39,
   "metadata": {},
   "outputs": [
    {
     "data": {
      "text/plain": [
       "1.0318304460230256"
      ]
     },
     "execution_count": 39,
     "metadata": {},
     "output_type": "execute_result"
    }
   ],
   "source": [
    "np.sqrt(4*np.log(2)/1500*24**2)"
   ]
  },
  {
   "cell_type": "code",
   "execution_count": 40,
   "metadata": {},
   "outputs": [
    {
     "data": {
      "text/plain": [
       "8.333333333333334"
      ]
     },
     "execution_count": 40,
     "metadata": {},
     "output_type": "execute_result"
    }
   ],
   "source": [
    "30000/3600"
   ]
  },
  {
   "cell_type": "code",
   "execution_count": 5,
   "metadata": {},
   "outputs": [
    {
     "data": {
      "text/plain": [
       "19.200000000000003"
      ]
     },
     "execution_count": 5,
     "metadata": {},
     "output_type": "execute_result"
    }
   ],
   "source": [
    "0.80*24"
   ]
  }
 ],
 "metadata": {
  "kernelspec": {
   "display_name": "Python 3",
   "language": "python",
   "name": "python3"
  },
  "language_info": {
   "codemirror_mode": {
    "name": "ipython",
    "version": 3
   },
   "file_extension": ".py",
   "mimetype": "text/x-python",
   "name": "python",
   "nbconvert_exporter": "python",
   "pygments_lexer": "ipython3",
   "version": "3.7.7"
  }
 },
 "nbformat": 4,
 "nbformat_minor": 4
}

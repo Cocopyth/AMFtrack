{
 "cells": [
  {
   "cell_type": "code",
   "execution_count": 1,
   "metadata": {},
   "outputs": [],
   "source": [
    "%matplotlib widget\n",
    "\n",
    "import sys  \n",
    "sys.path.insert(0, '/home/cbisot/pycode/MscThesis/')\n",
    "import pandas as pd\n",
    "from sample.util import get_dates_datetime, get_dirname, get_plate_number, get_postion_number\n",
    "\n",
    "import ast\n",
    "from sample.plotutil import plot_t_tp1\n",
    "from scipy import sparse\n",
    "from datetime import datetime\n",
    "from sample.pipeline.functions.node_id import orient\n",
    "import pickle\n",
    "import scipy.io as sio\n",
    "from pymatreader import read_mat\n",
    "from matplotlib import colors\n",
    "import cv2\n",
    "import imageio\n",
    "import matplotlib.pyplot as plt\n",
    "import numpy as np\n",
    "from skimage.filters import frangi\n",
    "from skimage import filters\n",
    "from random import choice\n",
    "import scipy.sparse\n",
    "import os\n",
    "from sample.pipeline.functions.extract_graph import from_sparse_to_graph, generate_nx_graph, sparse_to_doc\n",
    "from skimage.feature import hessian_matrix_det\n",
    "from sample.pipeline.functions.experiment_class_surf import Experiment\n",
    "from sample.paths.directory import run_parallel, find_state, directory_scratch, directory_project, path_code\n",
    "from sample.notebooks.analysis.data_info import *\n",
    "import matplotlib.patches as mpatches\n",
    "from statsmodels.stats import weightstats as stests\n",
    "from mpl_toolkits.mplot3d import Axes3D\n",
    "from scipy.ndimage import gaussian_filter\n",
    "from scipy.ndimage import uniform_filter1d\n",
    "from scipy import stats\n",
    "import statsmodels.api as sm\n",
    "from sklearn.neighbors import KernelDensity\n",
    "window=800\n",
    "infos = pickle.load(open(f'{path_code}/MscThesis/Results/straight_bait_{window}.pick', \"rb\"))\n",
    "def get_angle(xa,ya,xb,yb):\n",
    "    dot_product = (xa*xb+ya*yb)/np.sqrt((xa**2+ya**2)*(xb**2+yb**2))\n",
    "    angle = (np.arccos(dot_product) / (2 * np.pi) * 360)*(1-2*((ya * xb - yb * xa) >= 0))\n",
    "    return(angle)\n",
    "infos['abs_angle_to_P']=np.abs(infos['angle_to_P'])\n",
    "infos['abs_curvature']=np.abs(infos['curvature'])\n",
    "infos['curvature_scaled']=infos['curvature']*np.sqrt(infos['growth'])\n",
    "infos['abs_curvature_sq']=np.abs(infos['curvature'])*np.sqrt(infos['growth'])\n",
    "infos['signed_straight']=(1-infos['straightness'])*(1-2*(infos['angle']<0))\n",
    "infos['inv_dens']=1/infos['density']\n",
    "infos['side_cross']=infos.apply (lambda row: comments[row['plate']] if row['plate'] in comments.keys() else 'None', axis=1)\n",
    "infos['x']=infos['x'].astype(float)\n",
    "infos['vx']=infos['vx'].astype(float)\n",
    "infos['y']=infos['y'].astype(float)\n",
    "infos['vy']=infos['vy'].astype(float)\n",
    "infos['xinit']=infos['xinit'].astype(float)\n",
    "infos['yinit']=infos['yinit'].astype(float)\n",
    "blur = 20\n",
    "infos['v'] = np.sqrt((infos['vx']**2+infos['vy']**2).astype(float))\n",
    "infos['gd'] = np.sqrt((infos[f'grad_density_x{blur}']**2+infos[f'grad_density_y{blur}']**2).astype(float))\n",
    "infos['spvgd']=(infos['vx']*infos[f'grad_density_x{blur}']+infos['vy']*infos[f'grad_density_y{blur}'])/(infos['v']*infos['gd'])\n",
    "infos['angle_vgd']=get_angle(-infos[f'grad_density_x{blur}'],-infos[f'grad_density_y{blur}'],infos['vx'],infos['vy'])\n",
    "infos['angle_vgd2']=get_angle(-infos[f'grad_density_x{blur}'],-infos[f'grad_density_y{blur}'],infos['xinit'],infos['yinit'])\n",
    "infos['angle_Pgd']=infos['angle_vgd']+infos['angle_to_P']\n",
    "infos['angle_Ngd']=infos['angle_vgd']+infos['angle_to_N']\n",
    "# infos['residual']=infos['speed']-f(infos['spvgd'])\n",
    "corrected = infos.loc[(infos[\"straightness\"] <= 1)& (infos[\"speed\"] >=25)& (infos[\"speed\"] <400)&(infos[\"straightness\"] > 0.95)&(infos[\"density\"]>0)]\n",
    "baits = corrected.loc[corrected['treatment']=='baits']\n",
    "no_baits = corrected .loc[corrected ['treatment']=='25']\n",
    "no_baits_new = corrected .loc[corrected ['treatment']=='25*']"
   ]
  },
  {
   "cell_type": "code",
   "execution_count": 2,
   "metadata": {},
   "outputs": [],
   "source": [
    "def getKernelDensityEstimation(values, x, bandwidth = 0.2, kernel = 'gaussian'):\n",
    "    model = KernelDensity(kernel = kernel, bandwidth=bandwidth)\n",
    "    model.fit(values[:, np.newaxis])\n",
    "    log_density = model.score_samples(x[:, np.newaxis])\n",
    "    return np.exp(log_density)\n",
    "def bestBandwidth(data, minBandwidth = 0.1, maxBandwidth = 2, nb_bandwidths = 30, cv = 30):\n",
    "    \"\"\"\n",
    "    Run a cross validation grid search to identify the optimal bandwidth for the kernel density\n",
    "    estimation.\n",
    "    \"\"\"\n",
    "    from sklearn.model_selection import GridSearchCV\n",
    "    model = GridSearchCV(KernelDensity(),\n",
    "                        {'bandwidth': np.linspace(minBandwidth, maxBandwidth, nb_bandwidths)}, cv=cv) \n",
    "    model.fit(data[:, None])\n",
    "    return model.best_params_['bandwidth']"
   ]
  },
  {
   "cell_type": "code",
   "execution_count": 3,
   "metadata": {},
   "outputs": [],
   "source": [
    "from sklearn.model_selection import GridSearchCV"
   ]
  },
  {
   "cell_type": "code",
   "execution_count": null,
   "metadata": {},
   "outputs": [],
   "source": [
    "plt.close('all')\n",
    "plate_select = corrected.loc[corrected ['plate']==94]\n",
    "# plate_select = corrected.loc[corrected ['plate'].isin(right_crossing)]\n",
    "# straight_going = corrected.loc[corrected['plate'].isin(non_turning)]\n",
    "abcisse = 'density'\n",
    "ordinate = 'speed'\n",
    "tab = plate_select\n",
    "baits_sort = tab.sort_values(abcisse)\n",
    "N=400\n",
    "moving_av = baits_sort.rolling(N,min_periods=N//2).mean()\n",
    "moving_std = baits_sort.rolling(N,min_periods=N//2).std()\n",
    "\n",
    "fig=plt.figure(figsize=(8,8))\n",
    "ax = fig.add_subplot(111)\n",
    "ax.set_xlabel('density($mm.mm^{-2}$)')\n",
    "\n",
    "ax.set_ylabel('speed ($\\mu m .h^{-1}$)')\n",
    "ax.set_xlim(0,6)\n",
    "# ax.set_ylim(-0.5,0.5)\n",
    "# ax.set_xlim(-190,190)\n",
    "# slope, intercept, r_value, p_value, std_err = stats.linregress(densities_sort,np.abs(curvatures_sort))\n",
    "for plate in set(tab['plate'].values):\n",
    "    select = tab.loc[tab['plate']==plate]\n",
    "    ax.scatter(select[abcisse],select[ordinate],label=plate,alpha=0.3)\n",
    "ax.plot(moving_av[abcisse],moving_av[ordinate],color='green',label = 'moving average')\n",
    "ax.plot(moving_av[abcisse],(moving_av[ordinate]+moving_std[ordinate]/np.sqrt(N)),color='red',label = 'std')\n",
    "ax.plot(moving_av[abcisse],(moving_av[ordinate]-moving_std[ordinate]/np.sqrt(N)),color='red',label = 'std')\n",
    "# ax.legend()"
   ]
  },
  {
   "cell_type": "code",
   "execution_count": 4,
   "metadata": {},
   "outputs": [
    {
     "data": {
      "application/vnd.jupyter.widget-view+json": {
       "model_id": "1780d0472d4446cca9e6ff448d6dc11d",
       "version_major": 2,
       "version_minor": 0
      },
      "text/plain": [
       "Canvas(toolbar=Toolbar(toolitems=[('Home', 'Reset original view', 'home', 'home'), ('Back', 'Back to previous …"
      ]
     },
     "metadata": {},
     "output_type": "display_data"
    },
    {
     "name": "stderr",
     "output_type": "stream",
     "text": [
      "/home/cbisot/anaconda3/envs/test/lib/python3.7/site-packages/matplotlib/cbook/__init__.py:1377: FutureWarning: Support for multi-dimensional indexing (e.g. `obj[:, None]`) is deprecated and will be removed in a future version.  Convert to a numpy array before indexing instead.\n",
      "  x[:, None]\n",
      "/home/cbisot/anaconda3/envs/test/lib/python3.7/site-packages/matplotlib/axes/_base.py:237: FutureWarning: Support for multi-dimensional indexing (e.g. `obj[:, None]`) is deprecated and will be removed in a future version.  Convert to a numpy array before indexing instead.\n",
      "  x = x[:, np.newaxis]\n",
      "/home/cbisot/anaconda3/envs/test/lib/python3.7/site-packages/matplotlib/axes/_base.py:239: FutureWarning: Support for multi-dimensional indexing (e.g. `obj[:, None]`) is deprecated and will be removed in a future version.  Convert to a numpy array before indexing instead.\n",
      "  y = y[:, np.newaxis]\n"
     ]
    },
    {
     "data": {
      "text/plain": [
       "[<matplotlib.lines.Line2D at 0x2b671a1c3fd0>]"
      ]
     },
     "execution_count": 4,
     "metadata": {},
     "output_type": "execute_result"
    }
   ],
   "source": [
    "plt.close('all')\n",
    "plate_select = corrected.loc[corrected ['plate']==94]\n",
    "# plate_select = corrected.loc[corrected ['plate'].isin(right_crossing)]\n",
    "# straight_going = corrected.loc[corrected['plate'].isin(non_turning)]\n",
    "abcisse = 'spvgd'\n",
    "ordinate = 'speed'\n",
    "tab = plate_select\n",
    "baits_sort = tab.sort_values(abcisse)\n",
    "N=400\n",
    "moving_av = baits_sort.rolling(N,min_periods=N//2).mean()\n",
    "moving_std = baits_sort.rolling(N,min_periods=N//2).std()\n",
    "\n",
    "fig=plt.figure(figsize=(8,8))\n",
    "ax = fig.add_subplot(111)\n",
    "ax.set_ylabel('speed ($\\mu m .h^{-1}$)')\n",
    "\n",
    "ax.set_xlabel('normalized scalar product speed.density gradient')\n",
    "ax.set_xlim(-1,1)\n",
    "# ax.set_ylim(-0.5,0.5)\n",
    "# ax.set_xlim(-190,190)\n",
    "# slope, intercept, r_value, p_value, std_err = stats.linregress(densities_sort,np.abs(curvatures_sort))\n",
    "for plate in set(tab['plate'].values):\n",
    "    select = tab.loc[tab['plate']==plate]\n",
    "    ax.scatter(select[abcisse],select[ordinate],label=plate,alpha=0.3)\n",
    "ax.plot(moving_av[abcisse],moving_av[ordinate],color='green',label = 'moving average')\n",
    "ax.plot(moving_av[abcisse],(moving_av[ordinate]+moving_std[ordinate]/np.sqrt(N)),color='red',label = 'std')\n",
    "ax.plot(moving_av[abcisse],(moving_av[ordinate]-moving_std[ordinate]/np.sqrt(N)),color='red',label = 'std')\n",
    "# ax.legend()"
   ]
  },
  {
   "cell_type": "code",
   "execution_count": 19,
   "metadata": {},
   "outputs": [
    {
     "data": {
      "application/vnd.jupyter.widget-view+json": {
       "model_id": "9f17c1fdd6444bb5a85e916665331d6a",
       "version_major": 2,
       "version_minor": 0
      },
      "text/plain": [
       "Canvas(toolbar=Toolbar(toolitems=[('Home', 'Reset original view', 'home', 'home'), ('Back', 'Back to previous …"
      ]
     },
     "metadata": {},
     "output_type": "display_data"
    }
   ],
   "source": [
    "from statsmodels.nonparametric.bandwidths import bw_silverman, bw_scott, select_bandwidth\n",
    "dummy_baits = [298,319,373,344]\n",
    "P_N_crossing_P = [420,433,405,425,384]\n",
    "P_N_crossing_N = [423,436,409,400,403]\n",
    "plate_select = corrected.loc[corrected ['plate'].isin([344])]\n",
    "# plate_select = corrected.loc[corrected ['treatment']=='25*']\n",
    "\n",
    "plt.close('all')\n",
    "fig = plt.figure()\n",
    "bins = np.linspace(0, 400, 50)\n",
    "ax = fig.add_subplot(111)\n",
    "ax.hist(corrected.loc[corrected['plate'].isin(dummy_baits)]['speed'],bins,alpha=0.25,label='Dummy baits (homogeneous soluble)',density=True)\n",
    "ax.hist(corrected.loc[corrected['plate'].isin(P_N_crossing_P)]['speed'],bins,alpha=0.25,label='P&N baits crossing P (heterogeneous rock form)',density=True)\n",
    "ax.hist(corrected.loc[corrected['plate'].isin(P_N_crossing_N)]['speed'],bins,alpha=0.25,label='P&N baits crossing N (heterogeneous rock form)',density=True)\n",
    "ax.hist(corrected.loc[corrected ['treatment']=='25*']['speed'],bins,alpha=0.25,label='No baits (homogeneous soluble)',density=True)\n",
    "# ax.hist(corrected.loc[corrected['plate'] == 69]['speed'],bins,alpha=0.3,label='No baits (homogeneous soluble)',density=True)\n",
    "# ax.hist(corrected.loc[corrected['plate'] == 102]['speed'],bins,alpha=0.3,label='No baits (homogeneous soluble)',density=True)\n",
    "# x = np.linspace(-6,6,100)\n",
    "x = np.linspace(0,400,100)\n",
    "\n",
    "# bandwidth = 5\n",
    "# data = corrected.loc[corrected['plate'] == 94]['speed']\n",
    "# data = plate_select['speed']\n",
    "\n",
    "# cv_bandwidth = bestBandwidth(data,minBandwidth=2,maxBandwidth=20)\n",
    "# # cv_bandwidth = 4\n",
    "\n",
    "\n",
    "# kde = getKernelDensityEstimation(data, x, bandwidth=cv_bandwidth)\n",
    "# ax.plot(x, kde, alpha = 0.8, label = f'bandwidth = {round(cv_bandwidth, 2)}')\n",
    "# # ax.plot(x, stats_models_cv, alpha = 0.8, label = f'bandwidth = {round(cv_bandwidth, 2)}')\n",
    "# ax.hist(data,30,density=True)\n",
    "ax.set_xlabel(r'speed ($\\mu m.h^{-1} $)')\n",
    "plt.legend(loc='upper right')\n",
    "ax.set_ylabel(r'density')\n",
    "plt.savefig('plot.eps', format='eps')"
   ]
  },
  {
   "cell_type": "code",
   "execution_count": 13,
   "metadata": {},
   "outputs": [],
   "source": [
    "from statsmodels.nonparametric.kernel_density import KDEMultivariate\n",
    "stats_models_cv = KDEMultivariate(data, 'c', bw = 'cv_ml').pdf(x)"
   ]
  },
  {
   "cell_type": "code",
   "execution_count": 15,
   "metadata": {},
   "outputs": [
    {
     "name": "stderr",
     "output_type": "stream",
     "text": [
      "/home/cbisot/anaconda3/envs/test/lib/python3.7/site-packages/matplotlib/__init__.py:880: MatplotlibDeprecationWarning: \n",
      "nbagg.transparent\n",
      "  version, key, obj_type=\"rcparam\", alternative=alt_key)\n"
     ]
    },
    {
     "data": {
      "application/vnd.jupyter.widget-view+json": {
       "model_id": "43fefbc12ba142438c789b088536d686",
       "version_major": 2,
       "version_minor": 0
      },
      "text/plain": [
       "Canvas(toolbar=Toolbar(toolitems=[('Home', 'Reset original view', 'home', 'home'), ('Back', 'Back to previous …"
      ]
     },
     "metadata": {},
     "output_type": "display_data"
    },
    {
     "name": "stdout",
     "output_type": "stream",
     "text": [
      "(0.01110841275008323, 0.17182817182817184, (425, 984))\n",
      "[(0, 1739)]\n"
     ]
    }
   ],
   "source": [
    "fig = plt.figure()\n",
    "bins = np.linspace(0, 400, 50)\n",
    "ax = fig.add_subplot(111)\n",
    "from unidip import UniDip\n",
    "import unidip.dip as dip\n",
    "data = np.msort(data)\n",
    "print(dip.diptst(data))\n",
    "intervals = UniDip(data,ntrials=2000,debug=True,mrg_dst = 0.1).run()\n",
    "print(intervals)"
   ]
  }
 ],
 "metadata": {
  "kernelspec": {
   "display_name": "Python 3",
   "language": "python",
   "name": "python3"
  },
  "language_info": {
   "codemirror_mode": {
    "name": "ipython",
    "version": 3
   },
   "file_extension": ".py",
   "mimetype": "text/x-python",
   "name": "python",
   "nbconvert_exporter": "python",
   "pygments_lexer": "ipython3",
   "version": "3.7.7"
  }
 },
 "nbformat": 4,
 "nbformat_minor": 4
}

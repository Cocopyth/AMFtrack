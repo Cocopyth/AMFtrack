{
 "cells": [
  {
   "cell_type": "code",
   "execution_count": 25,
   "metadata": {},
   "outputs": [],
   "source": [
    "%matplotlib widget\n",
    "\n",
    "import sys  \n",
    "sys.path.insert(0, '/home/cbisot/pycode/MscThesis/')\n",
    "import pandas as pd\n",
    "from sample.util import get_dates_datetime, get_dirname, get_plate_number, get_postion_number\n",
    "\n",
    "import ast\n",
    "from sample.plotutil import plot_t_tp1\n",
    "from scipy import sparse\n",
    "from datetime import datetime\n",
    "from sample.pipeline.functions.node_id import orient\n",
    "import pickle\n",
    "import scipy.io as sio\n",
    "from pymatreader import read_mat\n",
    "from matplotlib import colors\n",
    "import cv2\n",
    "import imageio\n",
    "import matplotlib.pyplot as plt\n",
    "import numpy as np\n",
    "from skimage.filters import frangi\n",
    "from skimage import filters\n",
    "from random import choice\n",
    "import scipy.sparse\n",
    "import os\n",
    "from sample.pipeline.functions.extract_graph import from_sparse_to_graph, generate_nx_graph, sparse_to_doc\n",
    "from skimage.feature import hessian_matrix_det\n",
    "from sample.pipeline.functions.experiment_class_surf import Experiment\n",
    "from sample.paths.directory import run_parallel, find_state, find_state_extract, directory_scratch, directory_project\n"
   ]
  },
  {
   "cell_type": "code",
   "execution_count": 106,
   "metadata": {},
   "outputs": [
    {
     "name": "stdout",
     "output_type": "stream",
     "text": [
      "12\n"
     ]
    },
    {
     "data": {
      "text/plain": [
       "152"
      ]
     },
     "execution_count": 106,
     "metadata": {},
     "output_type": "execute_result"
    }
   ],
   "source": [
    "plate_number = 436\n",
    "plate = get_postion_number(plate_number)\n",
    "print(plate)\n",
    "# directory = directory_scratch\n",
    "directory = directory_project\n",
    "listdir = os.listdir(directory)\n",
    "list_dir_interest = [name for name in listdir if name.split('_')[-1]==f'Plate{0 if plate<10 else \"\"}{plate}']\n",
    "dates_datetime = get_dates_datetime(directory,plate)\n",
    "len(list_dir_interest)"
   ]
  },
  {
   "cell_type": "code",
   "execution_count": 107,
   "metadata": {},
   "outputs": [
    {
     "name": "stdout",
     "output_type": "stream",
     "text": [
      "0 436\n"
     ]
    }
   ],
   "source": [
    "plate_number = get_plate_number(plate,dates_datetime[0])\n",
    "print(0,plate_number)\n",
    "for i in range(len(list_dir_interest)):\n",
    "    new_plate_number = get_plate_number(plate,dates_datetime[i])\n",
    "    if plate_number!=new_plate_number:\n",
    "        plate_number=new_plate_number\n",
    "        print(i,plate_number)\n"
   ]
  },
  {
   "cell_type": "code",
   "execution_count": 128,
   "metadata": {},
   "outputs": [
    {
     "name": "stdout",
     "output_type": "stream",
     "text": [
      "begin = 2020-10-01 10:43:00 \n",
      "  end = 2020-10-05 10:11:00\n"
     ]
    }
   ],
   "source": [
    "begin = 5\n",
    "end = begin + 16\n",
    "\n",
    "print('begin =', dates_datetime[begin], '\\n  end =', dates_datetime[end])"
   ]
  },
  {
   "cell_type": "code",
   "execution_count": 127,
   "metadata": {
    "collapsed": true,
    "jupyter": {
     "outputs_hidden": true
    }
   },
   "outputs": [
    {
     "data": {
      "text/plain": [
       "[datetime.datetime(2020, 10, 1, 10, 43),\n",
       " datetime.datetime(2020, 10, 1, 14, 43),\n",
       " datetime.datetime(2020, 10, 1, 18, 43),\n",
       " datetime.datetime(2020, 10, 1, 22, 43),\n",
       " datetime.datetime(2020, 10, 2, 2, 42),\n",
       " datetime.datetime(2020, 10, 2, 6, 43),\n",
       " datetime.datetime(2020, 10, 2, 10, 43),\n",
       " datetime.datetime(2020, 10, 2, 14, 43),\n",
       " datetime.datetime(2020, 10, 2, 18, 43),\n",
       " datetime.datetime(2020, 10, 2, 22, 43),\n",
       " datetime.datetime(2020, 10, 3, 2, 43),\n",
       " datetime.datetime(2020, 10, 3, 6, 43),\n",
       " datetime.datetime(2020, 10, 3, 10, 43),\n",
       " datetime.datetime(2020, 10, 3, 14, 43),\n",
       " datetime.datetime(2020, 10, 3, 18, 43),\n",
       " datetime.datetime(2020, 10, 3, 22, 42)]"
      ]
     },
     "execution_count": 127,
     "metadata": {},
     "output_type": "execute_result"
    }
   ],
   "source": [
    "dates_datetime[5:5+16]"
   ]
  },
  {
   "cell_type": "code",
   "execution_count": 17,
   "metadata": {
    "collapsed": true,
    "jupyter": {
     "outputs_hidden": true,
     "source_hidden": true
    }
   },
   "outputs": [
    {
     "data": {
      "text/plain": [
       "[datetime.datetime(2020, 8, 14, 1, 36),\n",
       " datetime.datetime(2020, 8, 14, 5, 36),\n",
       " datetime.datetime(2020, 8, 14, 9, 36),\n",
       " datetime.datetime(2020, 8, 14, 13, 36),\n",
       " datetime.datetime(2020, 8, 14, 17, 36),\n",
       " datetime.datetime(2020, 8, 14, 21, 36),\n",
       " datetime.datetime(2020, 8, 15, 1, 36),\n",
       " datetime.datetime(2020, 8, 15, 5, 36),\n",
       " datetime.datetime(2020, 8, 15, 9, 36),\n",
       " datetime.datetime(2020, 8, 15, 13, 36),\n",
       " datetime.datetime(2020, 8, 15, 17, 37),\n",
       " datetime.datetime(2020, 8, 15, 21, 36),\n",
       " datetime.datetime(2020, 8, 16, 1, 36),\n",
       " datetime.datetime(2020, 8, 16, 5, 36),\n",
       " datetime.datetime(2020, 8, 16, 9, 36),\n",
       " datetime.datetime(2020, 8, 16, 13, 36),\n",
       " datetime.datetime(2020, 8, 16, 17, 37),\n",
       " datetime.datetime(2020, 8, 16, 21, 37)]"
      ]
     },
     "execution_count": 17,
     "metadata": {},
     "output_type": "execute_result"
    }
   ],
   "source": [
    "dates_datetime[begin:end]"
   ]
  },
  {
   "cell_type": "code",
   "execution_count": 110,
   "metadata": {
    "collapsed": true,
    "jupyter": {
     "outputs_hidden": true
    }
   },
   "outputs": [
    {
     "data": {
      "text/plain": [
       "('/Img/TileConfiguration.txt.registered',\n",
       " [(datetime.datetime(2020, 10, 12, 22, 15), 64),\n",
       "  (datetime.datetime(2020, 10, 13, 2, 14), 65),\n",
       "  (datetime.datetime(2020, 10, 13, 6, 14), 66),\n",
       "  (datetime.datetime(2020, 10, 13, 10, 15), 67),\n",
       "  (datetime.datetime(2020, 10, 14, 2, 15), 68),\n",
       "  (datetime.datetime(2020, 10, 14, 6, 15), 69),\n",
       "  (datetime.datetime(2020, 10, 14, 10, 15), 70),\n",
       "  (datetime.datetime(2020, 10, 14, 18, 15), 71),\n",
       "  (datetime.datetime(2020, 10, 14, 22, 15), 72),\n",
       "  (datetime.datetime(2020, 10, 15, 2, 15), 73),\n",
       "  (datetime.datetime(2020, 10, 15, 6, 15), 74),\n",
       "  (datetime.datetime(2020, 10, 15, 10, 15), 75),\n",
       "  (datetime.datetime(2020, 10, 15, 14, 15), 76),\n",
       "  (datetime.datetime(2020, 10, 15, 18, 15), 77),\n",
       "  (datetime.datetime(2020, 10, 15, 22, 15), 78),\n",
       "  (datetime.datetime(2020, 10, 16, 2, 15), 79),\n",
       "  (datetime.datetime(2020, 10, 16, 6, 15), 80),\n",
       "  (datetime.datetime(2020, 10, 16, 10, 15), 81),\n",
       "  (datetime.datetime(2020, 10, 16, 14, 15), 82),\n",
       "  (datetime.datetime(2020, 10, 16, 18, 15), 83),\n",
       "  (datetime.datetime(2020, 10, 16, 22, 15), 84),\n",
       "  (datetime.datetime(2020, 10, 17, 2, 15), 85),\n",
       "  (datetime.datetime(2020, 10, 17, 6, 15), 86),\n",
       "  (datetime.datetime(2020, 10, 17, 10, 15), 87),\n",
       "  (datetime.datetime(2020, 10, 17, 14, 15), 88),\n",
       "  (datetime.datetime(2020, 10, 17, 18, 15), 89),\n",
       "  (datetime.datetime(2020, 10, 17, 22, 15), 90),\n",
       "  (datetime.datetime(2020, 10, 18, 2, 15), 91),\n",
       "  (datetime.datetime(2020, 10, 18, 6, 15), 92),\n",
       "  (datetime.datetime(2020, 10, 18, 10, 15), 93),\n",
       "  (datetime.datetime(2020, 10, 18, 14, 15), 94),\n",
       "  (datetime.datetime(2020, 10, 18, 18, 15), 95),\n",
       "  (datetime.datetime(2020, 10, 18, 22, 15), 96),\n",
       "  (datetime.datetime(2020, 10, 19, 2, 15), 97),\n",
       "  (datetime.datetime(2020, 10, 19, 6, 15), 98),\n",
       "  (datetime.datetime(2020, 10, 19, 10, 15), 99),\n",
       "  (datetime.datetime(2020, 10, 19, 14, 12), 100),\n",
       "  (datetime.datetime(2020, 10, 19, 18, 12), 101),\n",
       "  (datetime.datetime(2020, 10, 19, 22, 12), 102),\n",
       "  (datetime.datetime(2020, 10, 20, 6, 12), 103),\n",
       "  (datetime.datetime(2020, 10, 20, 10, 12), 104),\n",
       "  (datetime.datetime(2020, 10, 20, 14, 12), 105),\n",
       "  (datetime.datetime(2020, 10, 20, 18, 12), 106),\n",
       "  (datetime.datetime(2020, 10, 20, 22, 12), 107),\n",
       "  (datetime.datetime(2020, 10, 21, 2, 12), 108),\n",
       "  (datetime.datetime(2020, 10, 21, 6, 12), 109),\n",
       "  (datetime.datetime(2020, 10, 21, 10, 12), 110),\n",
       "  (datetime.datetime(2020, 10, 21, 14, 12), 111),\n",
       "  (datetime.datetime(2020, 10, 21, 18, 12), 112),\n",
       "  (datetime.datetime(2020, 10, 21, 22, 12), 113),\n",
       "  (datetime.datetime(2020, 10, 22, 2, 12), 114),\n",
       "  (datetime.datetime(2020, 10, 22, 6, 12), 115),\n",
       "  (datetime.datetime(2020, 10, 22, 14, 12), 116),\n",
       "  (datetime.datetime(2020, 10, 22, 18, 12), 117),\n",
       "  (datetime.datetime(2020, 10, 22, 22, 12), 118),\n",
       "  (datetime.datetime(2020, 10, 23, 2, 12), 119),\n",
       "  (datetime.datetime(2020, 10, 23, 6, 12), 120),\n",
       "  (datetime.datetime(2020, 10, 23, 11, 5), 121),\n",
       "  (datetime.datetime(2020, 10, 23, 15, 5), 122),\n",
       "  (datetime.datetime(2020, 10, 23, 19, 5), 123),\n",
       "  (datetime.datetime(2020, 10, 23, 23, 5), 124),\n",
       "  (datetime.datetime(2020, 10, 24, 3, 5), 125),\n",
       "  (datetime.datetime(2020, 10, 24, 7, 5), 126),\n",
       "  (datetime.datetime(2020, 10, 24, 11, 5), 127),\n",
       "  (datetime.datetime(2020, 10, 24, 15, 5), 128),\n",
       "  (datetime.datetime(2020, 10, 24, 19, 5), 129),\n",
       "  (datetime.datetime(2020, 10, 24, 23, 5), 130),\n",
       "  (datetime.datetime(2020, 10, 25, 2, 5), 131),\n",
       "  (datetime.datetime(2020, 10, 25, 7, 5), 132),\n",
       "  (datetime.datetime(2020, 10, 25, 11, 6), 133),\n",
       "  (datetime.datetime(2020, 10, 25, 15, 6), 134),\n",
       "  (datetime.datetime(2020, 10, 25, 19, 6), 135),\n",
       "  (datetime.datetime(2020, 10, 25, 23, 6), 136),\n",
       "  (datetime.datetime(2020, 10, 26, 11, 9), 137),\n",
       "  (datetime.datetime(2020, 10, 26, 15, 13), 138),\n",
       "  (datetime.datetime(2020, 10, 26, 19, 45), 139),\n",
       "  (datetime.datetime(2020, 10, 26, 23, 45), 140),\n",
       "  (datetime.datetime(2020, 10, 27, 3, 45), 141),\n",
       "  (datetime.datetime(2020, 10, 27, 7, 45), 142),\n",
       "  (datetime.datetime(2020, 10, 27, 11, 46), 143),\n",
       "  (datetime.datetime(2020, 10, 27, 15, 45), 144),\n",
       "  (datetime.datetime(2020, 10, 27, 19, 45), 145),\n",
       "  (datetime.datetime(2020, 10, 27, 23, 46), 146),\n",
       "  (datetime.datetime(2020, 10, 28, 3, 46), 147),\n",
       "  (datetime.datetime(2020, 10, 28, 7, 46), 148),\n",
       "  (datetime.datetime(2020, 10, 28, 11, 46), 149),\n",
       "  (datetime.datetime(2020, 10, 28, 15, 46), 150),\n",
       "  (datetime.datetime(2020, 10, 28, 23, 46), 151)])"
      ]
     },
     "execution_count": 110,
     "metadata": {},
     "output_type": "execute_result"
    }
   ],
   "source": [
    "find_state(plate, begin, end, directory,True)"
   ]
  },
  {
   "cell_type": "code",
   "execution_count": 111,
   "metadata": {
    "collapsed": true,
    "jupyter": {
     "outputs_hidden": true
    }
   },
   "outputs": [
    {
     "data": {
      "text/plain": [
       "('/Analysis/nx_graph_pruned.p',\n",
       " [(datetime.datetime(2020, 9, 29, 14, 36), 0),\n",
       "  (datetime.datetime(2020, 9, 29, 18, 35), 1),\n",
       "  (datetime.datetime(2020, 9, 29, 22, 36), 2),\n",
       "  (datetime.datetime(2020, 9, 30, 18, 36), 3),\n",
       "  (datetime.datetime(2020, 9, 30, 22, 36), 4),\n",
       "  (datetime.datetime(2020, 10, 1, 10, 43), 5),\n",
       "  (datetime.datetime(2020, 10, 1, 14, 43), 6),\n",
       "  (datetime.datetime(2020, 10, 1, 18, 43), 7),\n",
       "  (datetime.datetime(2020, 10, 1, 22, 43), 8),\n",
       "  (datetime.datetime(2020, 10, 2, 2, 42), 9),\n",
       "  (datetime.datetime(2020, 10, 2, 6, 43), 10),\n",
       "  (datetime.datetime(2020, 10, 2, 10, 43), 11),\n",
       "  (datetime.datetime(2020, 10, 2, 14, 43), 12),\n",
       "  (datetime.datetime(2020, 10, 2, 18, 43), 13),\n",
       "  (datetime.datetime(2020, 10, 2, 22, 43), 14),\n",
       "  (datetime.datetime(2020, 10, 3, 2, 43), 15),\n",
       "  (datetime.datetime(2020, 10, 3, 6, 43), 16),\n",
       "  (datetime.datetime(2020, 10, 3, 10, 43), 17),\n",
       "  (datetime.datetime(2020, 10, 3, 14, 43), 18),\n",
       "  (datetime.datetime(2020, 10, 3, 18, 43), 19),\n",
       "  (datetime.datetime(2020, 10, 3, 22, 42), 20),\n",
       "  (datetime.datetime(2020, 10, 5, 10, 11), 21),\n",
       "  (datetime.datetime(2020, 10, 5, 14, 11), 22),\n",
       "  (datetime.datetime(2020, 10, 5, 18, 14), 23),\n",
       "  (datetime.datetime(2020, 10, 5, 22, 14), 24),\n",
       "  (datetime.datetime(2020, 10, 6, 2, 14), 25),\n",
       "  (datetime.datetime(2020, 10, 6, 6, 14), 26),\n",
       "  (datetime.datetime(2020, 10, 6, 10, 14), 27),\n",
       "  (datetime.datetime(2020, 10, 6, 14, 14), 28),\n",
       "  (datetime.datetime(2020, 10, 6, 18, 14), 29),\n",
       "  (datetime.datetime(2020, 10, 6, 22, 14), 30),\n",
       "  (datetime.datetime(2020, 10, 7, 2, 14), 31),\n",
       "  (datetime.datetime(2020, 10, 7, 6, 14), 32),\n",
       "  (datetime.datetime(2020, 10, 7, 10, 15), 33),\n",
       "  (datetime.datetime(2020, 10, 7, 14, 15), 34),\n",
       "  (datetime.datetime(2020, 10, 7, 18, 15), 35),\n",
       "  (datetime.datetime(2020, 10, 7, 22, 15), 36),\n",
       "  (datetime.datetime(2020, 10, 8, 2, 15), 37),\n",
       "  (datetime.datetime(2020, 10, 8, 6, 15), 38),\n",
       "  (datetime.datetime(2020, 10, 8, 10, 8), 39),\n",
       "  (datetime.datetime(2020, 10, 8, 14, 14), 40),\n",
       "  (datetime.datetime(2020, 10, 8, 18, 14), 41),\n",
       "  (datetime.datetime(2020, 10, 8, 22, 14), 42),\n",
       "  (datetime.datetime(2020, 10, 9, 2, 14), 43),\n",
       "  (datetime.datetime(2020, 10, 9, 6, 14), 44),\n",
       "  (datetime.datetime(2020, 10, 9, 10, 15), 45),\n",
       "  (datetime.datetime(2020, 10, 9, 14, 15), 46),\n",
       "  (datetime.datetime(2020, 10, 9, 18, 14), 47),\n",
       "  (datetime.datetime(2020, 10, 9, 22, 14), 48),\n",
       "  (datetime.datetime(2020, 10, 10, 2, 15), 49),\n",
       "  (datetime.datetime(2020, 10, 10, 6, 14), 50),\n",
       "  (datetime.datetime(2020, 10, 10, 10, 15), 51),\n",
       "  (datetime.datetime(2020, 10, 10, 14, 14), 52),\n",
       "  (datetime.datetime(2020, 10, 10, 18, 15), 53),\n",
       "  (datetime.datetime(2020, 10, 10, 22, 15), 54),\n",
       "  (datetime.datetime(2020, 10, 11, 10, 14), 55),\n",
       "  (datetime.datetime(2020, 10, 11, 14, 14), 56),\n",
       "  (datetime.datetime(2020, 10, 11, 18, 15), 57),\n",
       "  (datetime.datetime(2020, 10, 11, 22, 14), 58),\n",
       "  (datetime.datetime(2020, 10, 12, 2, 14), 59),\n",
       "  (datetime.datetime(2020, 10, 12, 6, 14), 60),\n",
       "  (datetime.datetime(2020, 10, 12, 10, 14), 61),\n",
       "  (datetime.datetime(2020, 10, 12, 14, 14), 62),\n",
       "  (datetime.datetime(2020, 10, 12, 18, 15), 63),\n",
       "  (datetime.datetime(2020, 10, 12, 22, 15), 64),\n",
       "  (datetime.datetime(2020, 10, 13, 2, 14), 65),\n",
       "  (datetime.datetime(2020, 10, 13, 6, 14), 66),\n",
       "  (datetime.datetime(2020, 10, 13, 10, 15), 67),\n",
       "  (datetime.datetime(2020, 10, 14, 2, 15), 68),\n",
       "  (datetime.datetime(2020, 10, 14, 6, 15), 69),\n",
       "  (datetime.datetime(2020, 10, 14, 10, 15), 70),\n",
       "  (datetime.datetime(2020, 10, 14, 18, 15), 71),\n",
       "  (datetime.datetime(2020, 10, 14, 22, 15), 72),\n",
       "  (datetime.datetime(2020, 10, 15, 2, 15), 73),\n",
       "  (datetime.datetime(2020, 10, 15, 6, 15), 74),\n",
       "  (datetime.datetime(2020, 10, 15, 10, 15), 75),\n",
       "  (datetime.datetime(2020, 10, 15, 14, 15), 76),\n",
       "  (datetime.datetime(2020, 10, 15, 18, 15), 77),\n",
       "  (datetime.datetime(2020, 10, 15, 22, 15), 78),\n",
       "  (datetime.datetime(2020, 10, 16, 2, 15), 79),\n",
       "  (datetime.datetime(2020, 10, 16, 6, 15), 80),\n",
       "  (datetime.datetime(2020, 10, 16, 10, 15), 81),\n",
       "  (datetime.datetime(2020, 10, 16, 14, 15), 82),\n",
       "  (datetime.datetime(2020, 10, 16, 18, 15), 83),\n",
       "  (datetime.datetime(2020, 10, 16, 22, 15), 84),\n",
       "  (datetime.datetime(2020, 10, 17, 2, 15), 85),\n",
       "  (datetime.datetime(2020, 10, 17, 6, 15), 86),\n",
       "  (datetime.datetime(2020, 10, 17, 10, 15), 87),\n",
       "  (datetime.datetime(2020, 10, 17, 14, 15), 88),\n",
       "  (datetime.datetime(2020, 10, 17, 18, 15), 89),\n",
       "  (datetime.datetime(2020, 10, 17, 22, 15), 90),\n",
       "  (datetime.datetime(2020, 10, 18, 2, 15), 91),\n",
       "  (datetime.datetime(2020, 10, 18, 6, 15), 92),\n",
       "  (datetime.datetime(2020, 10, 18, 10, 15), 93),\n",
       "  (datetime.datetime(2020, 10, 18, 14, 15), 94),\n",
       "  (datetime.datetime(2020, 10, 18, 18, 15), 95),\n",
       "  (datetime.datetime(2020, 10, 18, 22, 15), 96),\n",
       "  (datetime.datetime(2020, 10, 19, 2, 15), 97),\n",
       "  (datetime.datetime(2020, 10, 19, 6, 15), 98),\n",
       "  (datetime.datetime(2020, 10, 19, 10, 15), 99),\n",
       "  (datetime.datetime(2020, 10, 19, 14, 12), 100),\n",
       "  (datetime.datetime(2020, 10, 19, 18, 12), 101),\n",
       "  (datetime.datetime(2020, 10, 19, 22, 12), 102),\n",
       "  (datetime.datetime(2020, 10, 20, 6, 12), 103),\n",
       "  (datetime.datetime(2020, 10, 20, 10, 12), 104),\n",
       "  (datetime.datetime(2020, 10, 20, 14, 12), 105),\n",
       "  (datetime.datetime(2020, 10, 20, 18, 12), 106),\n",
       "  (datetime.datetime(2020, 10, 20, 22, 12), 107),\n",
       "  (datetime.datetime(2020, 10, 21, 2, 12), 108),\n",
       "  (datetime.datetime(2020, 10, 21, 6, 12), 109),\n",
       "  (datetime.datetime(2020, 10, 21, 10, 12), 110),\n",
       "  (datetime.datetime(2020, 10, 21, 14, 12), 111),\n",
       "  (datetime.datetime(2020, 10, 21, 18, 12), 112),\n",
       "  (datetime.datetime(2020, 10, 21, 22, 12), 113),\n",
       "  (datetime.datetime(2020, 10, 22, 2, 12), 114),\n",
       "  (datetime.datetime(2020, 10, 22, 6, 12), 115),\n",
       "  (datetime.datetime(2020, 10, 22, 14, 12), 116),\n",
       "  (datetime.datetime(2020, 10, 22, 18, 12), 117),\n",
       "  (datetime.datetime(2020, 10, 22, 22, 12), 118),\n",
       "  (datetime.datetime(2020, 10, 23, 2, 12), 119),\n",
       "  (datetime.datetime(2020, 10, 23, 6, 12), 120),\n",
       "  (datetime.datetime(2020, 10, 23, 11, 5), 121),\n",
       "  (datetime.datetime(2020, 10, 23, 15, 5), 122),\n",
       "  (datetime.datetime(2020, 10, 23, 19, 5), 123),\n",
       "  (datetime.datetime(2020, 10, 23, 23, 5), 124),\n",
       "  (datetime.datetime(2020, 10, 24, 3, 5), 125),\n",
       "  (datetime.datetime(2020, 10, 24, 7, 5), 126),\n",
       "  (datetime.datetime(2020, 10, 24, 11, 5), 127),\n",
       "  (datetime.datetime(2020, 10, 24, 15, 5), 128),\n",
       "  (datetime.datetime(2020, 10, 24, 19, 5), 129),\n",
       "  (datetime.datetime(2020, 10, 24, 23, 5), 130),\n",
       "  (datetime.datetime(2020, 10, 25, 2, 5), 131),\n",
       "  (datetime.datetime(2020, 10, 25, 7, 5), 132),\n",
       "  (datetime.datetime(2020, 10, 25, 11, 6), 133),\n",
       "  (datetime.datetime(2020, 10, 25, 15, 6), 134),\n",
       "  (datetime.datetime(2020, 10, 25, 19, 6), 135),\n",
       "  (datetime.datetime(2020, 10, 25, 23, 6), 136),\n",
       "  (datetime.datetime(2020, 10, 26, 11, 9), 137),\n",
       "  (datetime.datetime(2020, 10, 26, 15, 13), 138),\n",
       "  (datetime.datetime(2020, 10, 26, 19, 45), 139),\n",
       "  (datetime.datetime(2020, 10, 26, 23, 45), 140),\n",
       "  (datetime.datetime(2020, 10, 27, 3, 45), 141),\n",
       "  (datetime.datetime(2020, 10, 27, 7, 45), 142),\n",
       "  (datetime.datetime(2020, 10, 27, 11, 46), 143),\n",
       "  (datetime.datetime(2020, 10, 27, 15, 45), 144),\n",
       "  (datetime.datetime(2020, 10, 27, 19, 45), 145),\n",
       "  (datetime.datetime(2020, 10, 27, 23, 46), 146),\n",
       "  (datetime.datetime(2020, 10, 28, 3, 46), 147),\n",
       "  (datetime.datetime(2020, 10, 28, 7, 46), 148),\n",
       "  (datetime.datetime(2020, 10, 28, 11, 46), 149),\n",
       "  (datetime.datetime(2020, 10, 28, 15, 46), 150),\n",
       "  (datetime.datetime(2020, 10, 28, 23, 46), 151)])"
      ]
     },
     "execution_count": 111,
     "metadata": {},
     "output_type": "execute_result"
    }
   ],
   "source": [
    "find_state_extract(plate, begin, end, directory)"
   ]
  },
  {
   "cell_type": "code",
   "execution_count": 6,
   "metadata": {},
   "outputs": [
    {
     "data": {
      "text/plain": [
       "'20200921_0805_Plate10'"
      ]
     },
     "execution_count": 6,
     "metadata": {},
     "output_type": "execute_result"
    }
   ],
   "source": [
    "get_dirname(dates_datetime[14], plate)"
   ]
  },
  {
   "cell_type": "code",
   "execution_count": 131,
   "metadata": {},
   "outputs": [],
   "source": [
    "start = begin + 12\n",
    "finish = start + 1\n",
    "dates_datetime = get_dates_datetime(directory,plate)\n",
    "dates_datetime_chosen=dates_datetime[start:finish+1]\n",
    "dates = dates_datetime_chosen\n",
    "skels = []\n",
    "ims = []\n",
    "kernel = np.ones((5,5),np.uint8)\n",
    "itera = 1\n",
    "for date in dates:\n",
    "    directory_name = get_dirname(date,plate)\n",
    "    path_snap=directory+directory_name\n",
    "    skel_info = read_mat(path_snap+'/Analysis/skeleton_compressed.mat')\n",
    "    skel = skel_info['skeleton']\n",
    "    skels.append(cv2.dilate(skel.astype(np.uint8),kernel,iterations = itera))\n",
    "    im = read_mat(path_snap+'/Analysis/raw_image.mat')['raw']\n",
    "    ims.append(im)"
   ]
  },
  {
   "cell_type": "code",
   "execution_count": 132,
   "metadata": {},
   "outputs": [
    {
     "data": {
      "application/vnd.jupyter.widget-view+json": {
       "model_id": "ba84681fc4cb47c9ba8059cf34e2fdf7",
       "version_major": 2,
       "version_minor": 0
      },
      "text/plain": [
       "Canvas(toolbar=Toolbar(toolitems=[('Home', 'Reset original view', 'home', 'home'), ('Back', 'Back to previous …"
      ]
     },
     "metadata": {},
     "output_type": "display_data"
    }
   ],
   "source": [
    "plt.close('all')\n",
    "start = 0\n",
    "finish = start + 1\n",
    "for i in range(start,finish):\n",
    "    plot_t_tp1([], [], None, None, skels[i], ims[i])"
   ]
  },
  {
   "cell_type": "code",
   "execution_count": 59,
   "metadata": {
    "collapsed": true,
    "jupyter": {
     "outputs_hidden": true,
     "source_hidden": true
    }
   },
   "outputs": [
    {
     "data": {
      "application/vnd.jupyter.widget-view+json": {
       "model_id": "35dceebf77d846409daaacdb48426904",
       "version_major": 2,
       "version_minor": 0
      },
      "text/plain": [
       "Canvas(toolbar=Toolbar(toolitems=[('Home', 'Reset original view', 'home', 'home'), ('Back', 'Back to previous …"
      ]
     },
     "metadata": {},
     "output_type": "display_data"
    }
   ],
   "source": [
    "start = begin + 10\n",
    "finish = start +2\n",
    "dates_datetime = get_dates_datetime(directory,plate)\n",
    "dates_datetime_chosen=dates_datetime[start:finish+1]\n",
    "dates = dates_datetime_chosen\n",
    "skels = []\n",
    "ims = []\n",
    "kernel = np.ones((5, 5), np.uint8)\n",
    "itera = 1\n",
    "for date in dates:\n",
    "    directory_name = get_dirname(date,plate)\n",
    "    path_snap = directory + directory_name\n",
    "    skel_info = read_mat(path_snap+'/Analysis/skeleton_realigned_compressed.mat')\n",
    "    skel = skel_info['skeleton']\n",
    "#     skels.append(skel)\n",
    "    skels.append(cv2.dilate(skel.astype(np.uint8),kernel,iterations = itera))\n",
    "    im = read_mat(path_snap+'/Analysis/raw_image.mat')['raw']\n",
    "    ims.append(im)\n",
    "plt.close('all')\n",
    "start = 0\n",
    "finish = start + 1\n",
    "for i in range(start, finish):\n",
    "    plot_t_tp1([],[],None,None,skels[i],skels[i+1])"
   ]
  },
  {
   "cell_type": "markdown",
   "metadata": {},
   "source": [
    "***Create graphs***"
   ]
  },
  {
   "cell_type": "code",
   "execution_count": 133,
   "metadata": {},
   "outputs": [],
   "source": [
    "num_parallel = 20\n",
    "time = '30:00'\n",
    "args=[plate, directory]\n",
    "run_parallel('extract_nx_graph.py',args,begin,end,num_parallel,time,'extract_nx')"
   ]
  },
  {
   "cell_type": "markdown",
   "metadata": {},
   "source": [
    "***Extract Width***"
   ]
  },
  {
   "cell_type": "code",
   "execution_count": 66,
   "metadata": {},
   "outputs": [],
   "source": [
    "num_parallel = 16\n",
    "time = '1:00:00'\n",
    "args = [plate,directory]\n",
    "run_parallel('extract_width.py',args,begin,end,num_parallel,time,'extract_width')"
   ]
  },
  {
   "cell_type": "markdown",
   "metadata": {},
   "source": [
    "***Identify Nodes***"
   ]
  },
  {
   "cell_type": "code",
   "execution_count": 105,
   "metadata": {},
   "outputs": [],
   "source": [
    "num_parallel = 1\n",
    "time = '12:00:00'\n",
    "args=[plate,begin,end, directory]\n",
    "run_parallel('extract_nodes_surf.py',args,0,0,num_parallel,time,'node_id')"
   ]
  },
  {
   "cell_type": "markdown",
   "metadata": {},
   "source": [
    "***Hyphae extraction***"
   ]
  },
  {
   "cell_type": "code",
   "execution_count": 78,
   "metadata": {},
   "outputs": [],
   "source": [
    "num_parallel = 1\n",
    "time = '2:00:00'\n",
    "args = [plate, begin, end, directory]\n",
    "run_parallel('hyphae_extraction.py',args,0,0,num_parallel,time,'hyphae')"
   ]
  }
 ],
 "metadata": {
  "kernelspec": {
   "display_name": "Python 3",
   "language": "python",
   "name": "python3"
  },
  "language_info": {
   "codemirror_mode": {
    "name": "ipython",
    "version": 3
   },
   "file_extension": ".py",
   "mimetype": "text/x-python",
   "name": "python",
   "nbconvert_exporter": "python",
   "pygments_lexer": "ipython3",
   "version": "3.7.7"
  }
 },
 "nbformat": 4,
 "nbformat_minor": 4
}

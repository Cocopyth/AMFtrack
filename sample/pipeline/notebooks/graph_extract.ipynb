{
 "cells": [
  {
   "cell_type": "code",
   "execution_count": 1,
   "metadata": {},
   "outputs": [],
   "source": [
    "%matplotlib widget\n",
    "\n",
    "import sys  \n",
    "sys.path.insert(0, '/home/cbisot/pycode/MscThesis/')\n",
    "import pandas as pd\n",
    "from sample.util import get_dates_datetime, get_dirname, get_plate_number, get_postion_number\n",
    "\n",
    "import ast\n",
    "from sample.plotutil import plot_t_tp1\n",
    "from scipy import sparse\n",
    "from datetime import datetime\n",
    "from sample.pipeline.functions.node_id import orient\n",
    "import pickle\n",
    "import scipy.io as sio\n",
    "from pymatreader import read_mat\n",
    "from matplotlib import colors\n",
    "import cv2\n",
    "import imageio\n",
    "import matplotlib.pyplot as plt\n",
    "import numpy as np\n",
    "from skimage.filters import frangi\n",
    "from skimage import filters\n",
    "from random import choice\n",
    "import scipy.sparse\n",
    "import os\n",
    "from sample.pipeline.functions.extract_graph import from_sparse_to_graph, generate_nx_graph, sparse_to_doc\n",
    "from skimage.feature import hessian_matrix_det\n",
    "from sample.pipeline.functions.experiment_class_surf import Experiment\n",
    "from sample.paths.directory import run_parallel, find_state, find_state_extract, directory_scratch, directory_project\n"
   ]
  },
  {
   "cell_type": "code",
   "execution_count": 8,
   "metadata": {},
   "outputs": [
    {
     "name": "stdout",
     "output_type": "stream",
     "text": [
      "33\n"
     ]
    },
    {
     "data": {
      "text/plain": [
       "142"
      ]
     },
     "execution_count": 8,
     "metadata": {},
     "output_type": "execute_result"
    }
   ],
   "source": [
    "plate_number = 420\n",
    "plate = get_postion_number(plate_number)\n",
    "print(plate)\n",
    "# directory = directory_scratch\n",
    "directory = directory_project\n",
    "listdir = os.listdir(directory)\n",
    "list_dir_interest = [name for name in listdir if name.split('_')[-1]==f'Plate{0 if plate<10 else \"\"}{plate}']\n",
    "dates_datetime = get_dates_datetime(directory,plate)\n",
    "len(list_dir_interest)"
   ]
  },
  {
   "cell_type": "code",
   "execution_count": 3,
   "metadata": {},
   "outputs": [
    {
     "name": "stdout",
     "output_type": "stream",
     "text": [
      "0 399\n"
     ]
    }
   ],
   "source": [
    "plate_number = get_plate_number(plate,dates_datetime[0])\n",
    "print(0,plate_number)\n",
    "for i in range(len(list_dir_interest)):\n",
    "    new_plate_number = get_plate_number(plate,dates_datetime[i])\n",
    "    if plate_number!=new_plate_number:\n",
    "        plate_number=new_plate_number\n",
    "        print(i,plate_number)\n"
   ]
  },
  {
   "cell_type": "code",
   "execution_count": 9,
   "metadata": {},
   "outputs": [
    {
     "name": "stdout",
     "output_type": "stream",
     "text": [
      "begin = 2020-09-28 16:15:00 \n",
      "  end = 2020-10-06 03:04:00\n"
     ]
    }
   ],
   "source": [
    "begin = 0\n",
    "end = begin + 30\n",
    "\n",
    "print('begin =', dates_datetime[begin], '\\n  end =', dates_datetime[end])"
   ]
  },
  {
   "cell_type": "code",
   "execution_count": 28,
   "metadata": {},
   "outputs": [
    {
     "data": {
      "text/plain": [
       "[datetime.datetime(2020, 10, 15, 19, 9),\n",
       " datetime.datetime(2020, 10, 15, 23, 9),\n",
       " datetime.datetime(2020, 10, 16, 3, 9)]"
      ]
     },
     "execution_count": 28,
     "metadata": {},
     "output_type": "execute_result"
    }
   ],
   "source": [
    "dates_datetime[72:75]"
   ]
  },
  {
   "cell_type": "code",
   "execution_count": 17,
   "metadata": {
    "collapsed": true,
    "jupyter": {
     "outputs_hidden": true,
     "source_hidden": true
    }
   },
   "outputs": [
    {
     "data": {
      "text/plain": [
       "[datetime.datetime(2020, 8, 14, 1, 36),\n",
       " datetime.datetime(2020, 8, 14, 5, 36),\n",
       " datetime.datetime(2020, 8, 14, 9, 36),\n",
       " datetime.datetime(2020, 8, 14, 13, 36),\n",
       " datetime.datetime(2020, 8, 14, 17, 36),\n",
       " datetime.datetime(2020, 8, 14, 21, 36),\n",
       " datetime.datetime(2020, 8, 15, 1, 36),\n",
       " datetime.datetime(2020, 8, 15, 5, 36),\n",
       " datetime.datetime(2020, 8, 15, 9, 36),\n",
       " datetime.datetime(2020, 8, 15, 13, 36),\n",
       " datetime.datetime(2020, 8, 15, 17, 37),\n",
       " datetime.datetime(2020, 8, 15, 21, 36),\n",
       " datetime.datetime(2020, 8, 16, 1, 36),\n",
       " datetime.datetime(2020, 8, 16, 5, 36),\n",
       " datetime.datetime(2020, 8, 16, 9, 36),\n",
       " datetime.datetime(2020, 8, 16, 13, 36),\n",
       " datetime.datetime(2020, 8, 16, 17, 37),\n",
       " datetime.datetime(2020, 8, 16, 21, 37)]"
      ]
     },
     "execution_count": 17,
     "metadata": {},
     "output_type": "execute_result"
    }
   ],
   "source": [
    "dates_datetime[begin:end]"
   ]
  },
  {
   "cell_type": "code",
   "execution_count": 5,
   "metadata": {},
   "outputs": [
    {
     "data": {
      "text/plain": [
       "'skeletonization is complete'"
      ]
     },
     "execution_count": 5,
     "metadata": {},
     "output_type": "execute_result"
    }
   ],
   "source": [
    "find_state(plate, begin, end, directory,True)"
   ]
  },
  {
   "cell_type": "code",
   "execution_count": 10,
   "metadata": {
    "collapsed": true,
    "jupyter": {
     "outputs_hidden": true
    }
   },
   "outputs": [
    {
     "data": {
      "text/plain": [
       "('/Analysis/nx_graph_pruned_width.p',\n",
       " [(datetime.datetime(2020, 9, 29, 15, 17), 5),\n",
       "  (datetime.datetime(2020, 9, 29, 19, 16), 6),\n",
       "  (datetime.datetime(2020, 9, 29, 23, 17), 7),\n",
       "  (datetime.datetime(2020, 9, 30, 19, 17), 8),\n",
       "  (datetime.datetime(2020, 9, 30, 23, 17), 9),\n",
       "  (datetime.datetime(2020, 10, 1, 7, 17), 10),\n",
       "  (datetime.datetime(2020, 10, 1, 11, 35), 11),\n",
       "  (datetime.datetime(2020, 10, 1, 15, 34), 12),\n",
       "  (datetime.datetime(2020, 10, 1, 19, 34), 13),\n",
       "  (datetime.datetime(2020, 10, 1, 23, 34), 14),\n",
       "  (datetime.datetime(2020, 10, 2, 3, 34), 15),\n",
       "  (datetime.datetime(2020, 10, 2, 7, 34), 16),\n",
       "  (datetime.datetime(2020, 10, 2, 11, 34), 17),\n",
       "  (datetime.datetime(2020, 10, 2, 15, 34), 18),\n",
       "  (datetime.datetime(2020, 10, 2, 19, 34), 19),\n",
       "  (datetime.datetime(2020, 10, 2, 23, 34), 20),\n",
       "  (datetime.datetime(2020, 10, 3, 3, 34), 21),\n",
       "  (datetime.datetime(2020, 10, 3, 7, 34), 22),\n",
       "  (datetime.datetime(2020, 10, 3, 11, 34), 23),\n",
       "  (datetime.datetime(2020, 10, 3, 15, 34), 24),\n",
       "  (datetime.datetime(2020, 10, 3, 19, 34), 25),\n",
       "  (datetime.datetime(2020, 10, 5, 11, 0), 26),\n",
       "  (datetime.datetime(2020, 10, 5, 15, 0), 27),\n",
       "  (datetime.datetime(2020, 10, 5, 19, 3), 28),\n",
       "  (datetime.datetime(2020, 10, 5, 23, 3), 29),\n",
       "  (datetime.datetime(2020, 10, 6, 3, 4), 30)])"
      ]
     },
     "execution_count": 10,
     "metadata": {},
     "output_type": "execute_result"
    }
   ],
   "source": [
    "find_state_extract(plate, begin, end, directory)"
   ]
  },
  {
   "cell_type": "code",
   "execution_count": 6,
   "metadata": {},
   "outputs": [
    {
     "data": {
      "text/plain": [
       "'20200921_0805_Plate10'"
      ]
     },
     "execution_count": 6,
     "metadata": {},
     "output_type": "execute_result"
    }
   ],
   "source": [
    "get_dirname(dates_datetime[14], plate)"
   ]
  },
  {
   "cell_type": "code",
   "execution_count": 31,
   "metadata": {},
   "outputs": [],
   "source": [
    "start = begin + 73\n",
    "finish = start + 2\n",
    "dates_datetime = get_dates_datetime(directory,plate)\n",
    "dates_datetime_chosen=dates_datetime[start:finish+1]\n",
    "dates = dates_datetime_chosen\n",
    "skels = []\n",
    "ims = []\n",
    "kernel = np.ones((5,5),np.uint8)\n",
    "itera = 1\n",
    "for date in dates:\n",
    "    directory_name = get_dirname(date,plate)\n",
    "    path_snap=directory+directory_name\n",
    "    skel_info = read_mat(path_snap+'/Analysis/skeleton_compressed.mat')\n",
    "    skel = skel_info['skeleton']\n",
    "    skels.append(cv2.dilate(skel.astype(np.uint8),kernel,iterations = itera))\n",
    "    im = read_mat(path_snap+'/Analysis/raw_image.mat')['raw']\n",
    "    ims.append(im)"
   ]
  },
  {
   "cell_type": "code",
   "execution_count": 32,
   "metadata": {},
   "outputs": [
    {
     "data": {
      "application/vnd.jupyter.widget-view+json": {
       "model_id": "d289d5c9db7b431a9db68ebccf601ce1",
       "version_major": 2,
       "version_minor": 0
      },
      "text/plain": [
       "Canvas(toolbar=Toolbar(toolitems=[('Home', 'Reset original view', 'home', 'home'), ('Back', 'Back to previous …"
      ]
     },
     "metadata": {},
     "output_type": "display_data"
    }
   ],
   "source": [
    "plt.close('all')\n",
    "start = 0\n",
    "finish = start + 1\n",
    "for i in range(start,finish):\n",
    "    plot_t_tp1([], [], None, None, skels[i]*0, ims[i])"
   ]
  },
  {
   "cell_type": "code",
   "execution_count": 15,
   "metadata": {},
   "outputs": [
    {
     "data": {
      "application/vnd.jupyter.widget-view+json": {
       "model_id": "e830368080564be388fa2055baf6e769",
       "version_major": 2,
       "version_minor": 0
      },
      "text/plain": [
       "Canvas(toolbar=Toolbar(toolitems=[('Home', 'Reset original view', 'home', 'home'), ('Back', 'Back to previous …"
      ]
     },
     "metadata": {},
     "output_type": "display_data"
    }
   ],
   "source": [
    "start = begin + 21\n",
    "finish = start +2\n",
    "dates_datetime = get_dates_datetime(directory,plate)\n",
    "dates_datetime_chosen=dates_datetime[start:finish+1]\n",
    "dates = dates_datetime_chosen\n",
    "skels = []\n",
    "ims = []\n",
    "kernel = np.ones((5, 5), np.uint8)\n",
    "itera = 1\n",
    "for date in dates:\n",
    "    directory_name = get_dirname(date,plate)\n",
    "    path_snap = directory + directory_name\n",
    "    skel_info = read_mat(path_snap+'/Analysis/skeleton_realigned_compressed.mat')\n",
    "    skel = skel_info['skeleton']\n",
    "#     skels.append(skel)\n",
    "    skels.append(cv2.dilate(skel.astype(np.uint8),kernel,iterations = itera))\n",
    "    im = read_mat(path_snap+'/Analysis/raw_image.mat')['raw']\n",
    "    ims.append(im)\n",
    "plt.close('all')\n",
    "start = 0\n",
    "finish = start + 1\n",
    "for i in range(start, finish):\n",
    "    plot_t_tp1([],[],None,None,skels[i],skels[i+1])"
   ]
  },
  {
   "cell_type": "markdown",
   "metadata": {},
   "source": [
    "***Create graphs***"
   ]
  },
  {
   "cell_type": "code",
   "execution_count": 133,
   "metadata": {},
   "outputs": [],
   "source": [
    "num_parallel = 20\n",
    "time = '30:00'\n",
    "args=[plate, directory]\n",
    "run_parallel('extract_nx_graph.py',args,begin,end,num_parallel,time,'extract_nx')"
   ]
  },
  {
   "cell_type": "markdown",
   "metadata": {},
   "source": [
    "***Extract Width***"
   ]
  },
  {
   "cell_type": "code",
   "execution_count": 11,
   "metadata": {},
   "outputs": [],
   "source": [
    "num_parallel = 16\n",
    "time = '1:00:00'\n",
    "args = [plate,directory]\n",
    "run_parallel('extract_width.py',args,begin,end,num_parallel,time,'extract_width')"
   ]
  },
  {
   "cell_type": "markdown",
   "metadata": {},
   "source": [
    "***Identify Nodes***"
   ]
  },
  {
   "cell_type": "code",
   "execution_count": 105,
   "metadata": {},
   "outputs": [],
   "source": [
    "num_parallel = 1\n",
    "time = '12:00:00'\n",
    "args=[plate,begin,end, directory]\n",
    "run_parallel('extract_nodes_surf.py',args,0,0,num_parallel,time,'node_id')"
   ]
  },
  {
   "cell_type": "markdown",
   "metadata": {},
   "source": [
    "***Hyphae extraction***"
   ]
  },
  {
   "cell_type": "code",
   "execution_count": 78,
   "metadata": {},
   "outputs": [],
   "source": [
    "num_parallel = 1\n",
    "time = '2:00:00'\n",
    "args = [plate, begin, end, directory]\n",
    "run_parallel('hyphae_extraction.py',args,0,0,num_parallel,time,'hyphae')"
   ]
  }
 ],
 "metadata": {
  "kernelspec": {
   "display_name": "Python 3",
   "language": "python",
   "name": "python3"
  },
  "language_info": {
   "codemirror_mode": {
    "name": "ipython",
    "version": 3
   },
   "file_extension": ".py",
   "mimetype": "text/x-python",
   "name": "python",
   "nbconvert_exporter": "python",
   "pygments_lexer": "ipython3",
   "version": "3.7.7"
  }
 },
 "nbformat": 4,
 "nbformat_minor": 4
}

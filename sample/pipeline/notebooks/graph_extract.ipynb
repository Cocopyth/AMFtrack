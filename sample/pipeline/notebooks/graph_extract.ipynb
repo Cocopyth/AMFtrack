{
 "cells": [
  {
   "cell_type": "code",
   "execution_count": 1,
   "metadata": {},
   "outputs": [],
   "source": [
    "%matplotlib widget\n",
    "\n",
    "import sys  \n",
    "sys.path.insert(0, '/home/cbisot/pycode/MscThesis/')\n",
    "import pandas as pd\n",
    "from sample.util import get_dates_datetime, get_dirname, get_plate_number, get_postion_number\n",
    "\n",
    "import ast\n",
    "from sample.plotutil import plot_t_tp1\n",
    "from scipy import sparse\n",
    "from datetime import datetime\n",
    "from sample.pipeline.functions.node_id import orient\n",
    "import pickle\n",
    "import scipy.io as sio\n",
    "from pymatreader import read_mat\n",
    "from matplotlib import colors\n",
    "import cv2\n",
    "import imageio\n",
    "import matplotlib.pyplot as plt\n",
    "import numpy as np\n",
    "from skimage.filters import frangi\n",
    "from skimage import filters\n",
    "from random import choice\n",
    "import scipy.sparse\n",
    "import os\n",
    "from sample.pipeline.functions.extract_graph import from_sparse_to_graph, generate_nx_graph, sparse_to_doc\n",
    "from skimage.feature import hessian_matrix_det\n",
    "from sample.pipeline.functions.experiment_class_surf import Experiment\n",
    "from sample.paths.directory import run_parallel, find_state, find_state_extract, directory_scratch, directory_project\n"
   ]
  },
  {
   "cell_type": "code",
   "execution_count": 2,
   "metadata": {},
   "outputs": [
    {
     "name": "stdout",
     "output_type": "stream",
     "text": [
      "38\n"
     ]
    },
    {
     "data": {
      "text/plain": [
       "61"
      ]
     },
     "execution_count": 2,
     "metadata": {},
     "output_type": "execute_result"
    }
   ],
   "source": [
    "plate_number = 59\n",
    "plate = get_postion_number(plate_number)\n",
    "# plate = 39\n",
    "print(plate)\n",
    "# directory = directory_scratch\n",
    "directory = directory_project\n",
    "listdir = os.listdir(directory)\n",
    "list_dir_interest = [name for name in listdir if name.split('_')[-1]==f'Plate{0 if plate<10 else \"\"}{plate}']\n",
    "dates_datetime = get_dates_datetime(directory,plate)\n",
    "len(list_dir_interest)"
   ]
  },
  {
   "cell_type": "code",
   "execution_count": 7,
   "metadata": {},
   "outputs": [
    {
     "name": "stdout",
     "output_type": "stream",
     "text": [
      "0 297\n",
      "117 433\n",
      "268 94\n"
     ]
    }
   ],
   "source": [
    "plate_number = get_plate_number(plate,dates_datetime[0])\n",
    "print(0,plate_number)\n",
    "for i in range(len(list_dir_interest)):\n",
    "    new_plate_number = get_plate_number(plate,dates_datetime[i])\n",
    "    if plate_number!=new_plate_number:\n",
    "        plate_number=new_plate_number\n",
    "        print(i,plate_number)\n"
   ]
  },
  {
   "cell_type": "code",
   "execution_count": 18,
   "metadata": {},
   "outputs": [
    {
     "name": "stdout",
     "output_type": "stream",
     "text": [
      "begin = 2020-11-27 22:09:00 \n",
      "  end = 2020-12-03 18:02:00\n"
     ]
    }
   ],
   "source": [
    "begin = 7\n",
    "end = begin + 35\n",
    "print('begin =', dates_datetime[begin], '\\n  end =', dates_datetime[end])"
   ]
  },
  {
   "cell_type": "code",
   "execution_count": 16,
   "metadata": {
    "collapsed": true,
    "jupyter": {
     "outputs_hidden": true
    }
   },
   "outputs": [
    {
     "name": "stdout",
     "output_type": "stream",
     "text": [
      "begin = 2020-11-23 15:01:00 \n",
      "  end = 2020-11-27 19:12:00\n"
     ]
    },
    {
     "ename": "ModuleNotFoundError",
     "evalue": "No module named 'experiment_class_surf'",
     "output_type": "error",
     "traceback": [
      "\u001b[0;31m---------------------------------------------------------------------------\u001b[0m",
      "\u001b[0;31mModuleNotFoundError\u001b[0m                       Traceback (most recent call last)",
      "\u001b[0;32m<ipython-input-16-9f3973b0cc74>\u001b[0m in \u001b[0;36m<module>\u001b[0;34m\u001b[0m\n\u001b[1;32m      1\u001b[0m \u001b[0;32mfrom\u001b[0m \u001b[0msample\u001b[0m\u001b[0;34m.\u001b[0m\u001b[0mnotebooks\u001b[0m\u001b[0;34m.\u001b[0m\u001b[0manalysis\u001b[0m\u001b[0;34m.\u001b[0m\u001b[0mutil\u001b[0m \u001b[0;32mimport\u001b[0m \u001b[0;34m*\u001b[0m\u001b[0;34m\u001b[0m\u001b[0;34m\u001b[0m\u001b[0m\n\u001b[0;32m----> 2\u001b[0;31m \u001b[0mexp\u001b[0m \u001b[0;34m=\u001b[0m \u001b[0mget_exp\u001b[0m\u001b[0;34m(\u001b[0m\u001b[0;34m(\u001b[0m\u001b[0;36m39\u001b[0m\u001b[0;34m,\u001b[0m\u001b[0;36m269\u001b[0m\u001b[0;34m,\u001b[0m\u001b[0;36m269\u001b[0m\u001b[0;34m+\u001b[0m\u001b[0;36m100\u001b[0m\u001b[0;34m)\u001b[0m\u001b[0;34m,\u001b[0m\u001b[0mdirectory\u001b[0m\u001b[0;34m)\u001b[0m\u001b[0;34m\u001b[0m\u001b[0;34m\u001b[0m\u001b[0m\n\u001b[0m",
      "\u001b[0;32m~/pycode/MscThesis/sample/notebooks/analysis/util.py\u001b[0m in \u001b[0;36mget_exp\u001b[0;34m(inst, directory)\u001b[0m\n\u001b[1;32m     58\u001b[0m     \u001b[0mdates_datetime_chosen\u001b[0m\u001b[0;34m=\u001b[0m\u001b[0mdates_datetime\u001b[0m\u001b[0;34m[\u001b[0m\u001b[0mbegin\u001b[0m\u001b[0;34m:\u001b[0m\u001b[0mend\u001b[0m\u001b[0;34m+\u001b[0m\u001b[0;36m1\u001b[0m\u001b[0;34m]\u001b[0m\u001b[0;34m\u001b[0m\u001b[0;34m\u001b[0m\u001b[0m\n\u001b[1;32m     59\u001b[0m     \u001b[0mdates\u001b[0m \u001b[0;34m=\u001b[0m \u001b[0mdates_datetime_chosen\u001b[0m\u001b[0;34m\u001b[0m\u001b[0;34m\u001b[0m\u001b[0m\n\u001b[0;32m---> 60\u001b[0;31m     \u001b[0mexp\u001b[0m \u001b[0;34m=\u001b[0m \u001b[0mpickle\u001b[0m\u001b[0;34m.\u001b[0m\u001b[0mload\u001b[0m\u001b[0;34m(\u001b[0m \u001b[0mopen\u001b[0m\u001b[0;34m(\u001b[0m\u001b[0;34mf'{directory}/Analysis_Plate{plate}_{dates[0]}_{dates[-1]}/experiment_{plate}.pick'\u001b[0m\u001b[0;34m,\u001b[0m \u001b[0;34m\"rb\"\u001b[0m \u001b[0;34m)\u001b[0m \u001b[0;34m)\u001b[0m\u001b[0;34m\u001b[0m\u001b[0;34m\u001b[0m\u001b[0m\n\u001b[0m\u001b[1;32m     61\u001b[0m     \u001b[0;32mreturn\u001b[0m\u001b[0;34m(\u001b[0m\u001b[0mexp\u001b[0m\u001b[0;34m)\u001b[0m\u001b[0;34m\u001b[0m\u001b[0;34m\u001b[0m\u001b[0m\n\u001b[1;32m     62\u001b[0m \u001b[0;34m\u001b[0m\u001b[0m\n",
      "\u001b[0;31mModuleNotFoundError\u001b[0m: No module named 'experiment_class_surf'"
     ]
    }
   ],
   "source": [
    "from sample.notebooks.analysis.util import *\n",
    "exp = get_exp((39,269,269+100),directory)"
   ]
  },
  {
   "cell_type": "code",
   "execution_count": 17,
   "metadata": {
    "collapsed": true,
    "jupyter": {
     "outputs_hidden": true,
     "source_hidden": true
    }
   },
   "outputs": [
    {
     "data": {
      "text/plain": [
       "[datetime.datetime(2020, 8, 14, 1, 36),\n",
       " datetime.datetime(2020, 8, 14, 5, 36),\n",
       " datetime.datetime(2020, 8, 14, 9, 36),\n",
       " datetime.datetime(2020, 8, 14, 13, 36),\n",
       " datetime.datetime(2020, 8, 14, 17, 36),\n",
       " datetime.datetime(2020, 8, 14, 21, 36),\n",
       " datetime.datetime(2020, 8, 15, 1, 36),\n",
       " datetime.datetime(2020, 8, 15, 5, 36),\n",
       " datetime.datetime(2020, 8, 15, 9, 36),\n",
       " datetime.datetime(2020, 8, 15, 13, 36),\n",
       " datetime.datetime(2020, 8, 15, 17, 37),\n",
       " datetime.datetime(2020, 8, 15, 21, 36),\n",
       " datetime.datetime(2020, 8, 16, 1, 36),\n",
       " datetime.datetime(2020, 8, 16, 5, 36),\n",
       " datetime.datetime(2020, 8, 16, 9, 36),\n",
       " datetime.datetime(2020, 8, 16, 13, 36),\n",
       " datetime.datetime(2020, 8, 16, 17, 37),\n",
       " datetime.datetime(2020, 8, 16, 21, 37)]"
      ]
     },
     "execution_count": 17,
     "metadata": {},
     "output_type": "execute_result"
    }
   ],
   "source": [
    "dates_datetime[begin:end]"
   ]
  },
  {
   "cell_type": "code",
   "execution_count": 5,
   "metadata": {},
   "outputs": [
    {
     "data": {
      "text/plain": [
       "'skeletonization is complete'"
      ]
     },
     "execution_count": 5,
     "metadata": {},
     "output_type": "execute_result"
    }
   ],
   "source": [
    "find_state(plate, begin, end, directory,True)"
   ]
  },
  {
   "cell_type": "code",
   "execution_count": 5,
   "metadata": {
    "collapsed": true,
    "jupyter": {
     "outputs_hidden": true
    }
   },
   "outputs": [
    {
     "data": {
      "text/plain": [
       "('/Analysis/nx_graph_pruned_labeled.p',\n",
       " [(datetime.datetime(2020, 11, 27, 22, 9), 7),\n",
       "  (datetime.datetime(2020, 11, 28, 2, 9), 8),\n",
       "  (datetime.datetime(2020, 11, 28, 6, 9), 9),\n",
       "  (datetime.datetime(2020, 11, 28, 10, 9), 10),\n",
       "  (datetime.datetime(2020, 11, 28, 14, 9), 11),\n",
       "  (datetime.datetime(2020, 11, 28, 18, 9), 12),\n",
       "  (datetime.datetime(2020, 11, 28, 22, 9), 13),\n",
       "  (datetime.datetime(2020, 11, 29, 2, 9), 14),\n",
       "  (datetime.datetime(2020, 11, 29, 6, 9), 15),\n",
       "  (datetime.datetime(2020, 11, 29, 10, 9), 16),\n",
       "  (datetime.datetime(2020, 11, 29, 14, 9), 17),\n",
       "  (datetime.datetime(2020, 11, 29, 18, 9), 18),\n",
       "  (datetime.datetime(2020, 11, 29, 22, 9), 19),\n",
       "  (datetime.datetime(2020, 11, 30, 2, 9), 20),\n",
       "  (datetime.datetime(2020, 11, 30, 6, 9), 21),\n",
       "  (datetime.datetime(2020, 11, 30, 10, 6), 22),\n",
       "  (datetime.datetime(2020, 11, 30, 14, 6), 23),\n",
       "  (datetime.datetime(2020, 11, 30, 18, 6), 24),\n",
       "  (datetime.datetime(2020, 11, 30, 22, 6), 25),\n",
       "  (datetime.datetime(2020, 12, 1, 2, 6), 26),\n",
       "  (datetime.datetime(2020, 12, 1, 6, 6), 27),\n",
       "  (datetime.datetime(2020, 12, 1, 10, 5), 28),\n",
       "  (datetime.datetime(2020, 12, 1, 14, 6), 29),\n",
       "  (datetime.datetime(2020, 12, 1, 18, 6), 30),\n",
       "  (datetime.datetime(2020, 12, 1, 22, 6), 31),\n",
       "  (datetime.datetime(2020, 12, 2, 2, 6), 32),\n",
       "  (datetime.datetime(2020, 12, 2, 6, 5), 33),\n",
       "  (datetime.datetime(2020, 12, 2, 9, 6), 34),\n",
       "  (datetime.datetime(2020, 12, 2, 14, 5), 35),\n",
       "  (datetime.datetime(2020, 12, 2, 18, 2), 36),\n",
       "  (datetime.datetime(2020, 12, 2, 22, 2), 37),\n",
       "  (datetime.datetime(2020, 12, 3, 2, 2), 38),\n",
       "  (datetime.datetime(2020, 12, 3, 6, 2), 39),\n",
       "  (datetime.datetime(2020, 12, 3, 10, 2), 40),\n",
       "  (datetime.datetime(2020, 12, 3, 14, 2), 41),\n",
       "  (datetime.datetime(2020, 12, 3, 18, 2), 42),\n",
       "  (datetime.datetime(2020, 12, 3, 22, 2), 43),\n",
       "  (datetime.datetime(2020, 12, 4, 2, 2), 44),\n",
       "  (datetime.datetime(2020, 12, 4, 6, 2), 45),\n",
       "  (datetime.datetime(2020, 12, 4, 13, 20), 46),\n",
       "  (datetime.datetime(2020, 12, 4, 17, 20), 47),\n",
       "  (datetime.datetime(2020, 12, 4, 21, 20), 48),\n",
       "  (datetime.datetime(2020, 12, 5, 1, 20), 49),\n",
       "  (datetime.datetime(2020, 12, 5, 5, 20), 50),\n",
       "  (datetime.datetime(2020, 12, 5, 9, 20), 51),\n",
       "  (datetime.datetime(2020, 12, 5, 13, 20), 52),\n",
       "  (datetime.datetime(2020, 12, 5, 17, 20), 53),\n",
       "  (datetime.datetime(2020, 12, 5, 21, 20), 54),\n",
       "  (datetime.datetime(2020, 12, 6, 1, 20), 55),\n",
       "  (datetime.datetime(2020, 12, 6, 5, 20), 56),\n",
       "  (datetime.datetime(2020, 12, 6, 9, 20), 57),\n",
       "  (datetime.datetime(2020, 12, 6, 13, 20), 58),\n",
       "  (datetime.datetime(2020, 12, 6, 17, 20), 59)])"
      ]
     },
     "execution_count": 5,
     "metadata": {},
     "output_type": "execute_result"
    }
   ],
   "source": [
    "find_state_extract(plate, begin, end, directory)"
   ]
  },
  {
   "cell_type": "code",
   "execution_count": 13,
   "metadata": {},
   "outputs": [
    {
     "data": {
      "text/plain": [
       "[datetime.datetime(2020, 11, 27, 22, 9),\n",
       " datetime.datetime(2020, 11, 28, 2, 9),\n",
       " datetime.datetime(2020, 11, 28, 6, 9),\n",
       " datetime.datetime(2020, 11, 28, 10, 9),\n",
       " datetime.datetime(2020, 11, 28, 14, 9),\n",
       " datetime.datetime(2020, 11, 28, 18, 9),\n",
       " datetime.datetime(2020, 11, 28, 22, 9),\n",
       " datetime.datetime(2020, 11, 29, 2, 9),\n",
       " datetime.datetime(2020, 11, 29, 6, 9),\n",
       " datetime.datetime(2020, 11, 29, 10, 9),\n",
       " datetime.datetime(2020, 11, 29, 14, 9),\n",
       " datetime.datetime(2020, 11, 29, 18, 9),\n",
       " datetime.datetime(2020, 11, 29, 22, 9),\n",
       " datetime.datetime(2020, 11, 30, 2, 9),\n",
       " datetime.datetime(2020, 11, 30, 6, 9),\n",
       " datetime.datetime(2020, 11, 30, 10, 6),\n",
       " datetime.datetime(2020, 11, 30, 14, 6),\n",
       " datetime.datetime(2020, 11, 30, 18, 6),\n",
       " datetime.datetime(2020, 11, 30, 22, 6),\n",
       " datetime.datetime(2020, 12, 1, 2, 6),\n",
       " datetime.datetime(2020, 12, 1, 6, 6),\n",
       " datetime.datetime(2020, 12, 1, 10, 5),\n",
       " datetime.datetime(2020, 12, 1, 14, 6),\n",
       " datetime.datetime(2020, 12, 1, 18, 6),\n",
       " datetime.datetime(2020, 12, 1, 22, 6),\n",
       " datetime.datetime(2020, 12, 2, 2, 6),\n",
       " datetime.datetime(2020, 12, 2, 6, 5),\n",
       " datetime.datetime(2020, 12, 2, 9, 6),\n",
       " datetime.datetime(2020, 12, 2, 14, 5),\n",
       " datetime.datetime(2020, 12, 2, 18, 2),\n",
       " datetime.datetime(2020, 12, 2, 22, 2),\n",
       " datetime.datetime(2020, 12, 3, 2, 2),\n",
       " datetime.datetime(2020, 12, 3, 6, 2),\n",
       " datetime.datetime(2020, 12, 3, 10, 2),\n",
       " datetime.datetime(2020, 12, 3, 14, 2),\n",
       " datetime.datetime(2020, 12, 3, 18, 2),\n",
       " datetime.datetime(2020, 12, 3, 22, 2),\n",
       " datetime.datetime(2020, 12, 4, 2, 2),\n",
       " datetime.datetime(2020, 12, 4, 6, 2),\n",
       " datetime.datetime(2020, 12, 4, 13, 20),\n",
       " datetime.datetime(2020, 12, 4, 17, 20),\n",
       " datetime.datetime(2020, 12, 4, 21, 20),\n",
       " datetime.datetime(2020, 12, 5, 1, 20),\n",
       " datetime.datetime(2020, 12, 5, 5, 20),\n",
       " datetime.datetime(2020, 12, 5, 9, 20),\n",
       " datetime.datetime(2020, 12, 5, 13, 20),\n",
       " datetime.datetime(2020, 12, 5, 17, 20),\n",
       " datetime.datetime(2020, 12, 5, 21, 20),\n",
       " datetime.datetime(2020, 12, 6, 1, 20),\n",
       " datetime.datetime(2020, 12, 6, 5, 20)]"
      ]
     },
     "execution_count": 13,
     "metadata": {},
     "output_type": "execute_result"
    }
   ],
   "source": [
    "dates_datetime[begin:begin+50]"
   ]
  },
  {
   "cell_type": "code",
   "execution_count": 16,
   "metadata": {},
   "outputs": [],
   "source": [
    "start = begin + 40\n",
    "finish = start + 2\n",
    "dates_datetime = get_dates_datetime(directory,plate)\n",
    "dates_datetime_chosen=dates_datetime[start:finish+1]\n",
    "dates = dates_datetime_chosen\n",
    "skels = []\n",
    "ims = []\n",
    "kernel = np.ones((5,5),np.uint8)\n",
    "itera = 1\n",
    "for date in dates:\n",
    "    directory_name = get_dirname(date,plate)\n",
    "    path_snap=directory+directory_name\n",
    "    skel_info = read_mat(path_snap+'/Analysis/skeleton_compressed.mat')\n",
    "    skel = skel_info['skeleton']\n",
    "    skels.append(cv2.dilate(skel.astype(np.uint8),kernel,iterations = itera))\n",
    "    im = read_mat(path_snap+'/Analysis/raw_image.mat')['raw']\n",
    "    ims.append(im)"
   ]
  },
  {
   "cell_type": "code",
   "execution_count": 17,
   "metadata": {},
   "outputs": [
    {
     "data": {
      "application/vnd.jupyter.widget-view+json": {
       "model_id": "a46677a6ef484721a0cda00c6bc9ca39",
       "version_major": 2,
       "version_minor": 0
      },
      "text/plain": [
       "Canvas(toolbar=Toolbar(toolitems=[('Home', 'Reset original view', 'home', 'home'), ('Back', 'Back to previous …"
      ]
     },
     "metadata": {},
     "output_type": "display_data"
    }
   ],
   "source": [
    "plt.close('all')\n",
    "start = 0\n",
    "finish = start + 1\n",
    "for i in range(start,finish):\n",
    "    plot_t_tp1([], [], None, None, skels[i], ims[i])"
   ]
  },
  {
   "cell_type": "code",
   "execution_count": 10,
   "metadata": {},
   "outputs": [
    {
     "data": {
      "application/vnd.jupyter.widget-view+json": {
       "model_id": "f987d53fec8d4171a54c39ebf61c8d2e",
       "version_major": 2,
       "version_minor": 0
      },
      "text/plain": [
       "Canvas(toolbar=Toolbar(toolitems=[('Home', 'Reset original view', 'home', 'home'), ('Back', 'Back to previous …"
      ]
     },
     "metadata": {},
     "output_type": "display_data"
    }
   ],
   "source": [
    "start = begin + 0\n",
    "finish = start +2\n",
    "dates_datetime = get_dates_datetime(directory,plate)\n",
    "dates_datetime_chosen=dates_datetime[start:finish+1]\n",
    "dates = dates_datetime_chosen\n",
    "skels = []\n",
    "ims = []\n",
    "kernel = np.ones((5, 5), np.uint8)\n",
    "itera = 1\n",
    "for date in dates:\n",
    "    directory_name = get_dirname(date,plate)\n",
    "    path_snap = directory + directory_name\n",
    "    skel_info = read_mat(path_snap+'/Analysis/skeleton_realigned_compressed.mat')\n",
    "    skel = skel_info['skeleton']\n",
    "#     skels.append(skel)\n",
    "    skels.append(cv2.dilate(skel.astype(np.uint8),kernel,iterations = itera))\n",
    "    im = read_mat(path_snap+'/Analysis/raw_image.mat')['raw']\n",
    "    ims.append(im)\n",
    "plt.close('all')\n",
    "start = 0\n",
    "finish = start + 1\n",
    "for i in range(start, finish):\n",
    "    plot_t_tp1([],[],None,None,skels[i],skels[i+1])"
   ]
  },
  {
   "cell_type": "markdown",
   "metadata": {},
   "source": [
    "***Create graphs***"
   ]
  },
  {
   "cell_type": "code",
   "execution_count": 6,
   "metadata": {},
   "outputs": [],
   "source": [
    "num_parallel = 20\n",
    "time = '30:00'\n",
    "args=[plate, directory]\n",
    "run_parallel('extract_nx_graph.py',args,begin,end,num_parallel,time,'extract_nx')"
   ]
  },
  {
   "cell_type": "markdown",
   "metadata": {},
   "source": [
    "***Extract Width***"
   ]
  },
  {
   "cell_type": "code",
   "execution_count": 5,
   "metadata": {},
   "outputs": [],
   "source": [
    "num_parallel = 16\n",
    "time = '5:00:00'\n",
    "args = [plate,directory]\n",
    "run_parallel('extract_width.py',args,begin,end,num_parallel,time,'extract_width')"
   ]
  },
  {
   "cell_type": "markdown",
   "metadata": {},
   "source": [
    "***Identify Nodes***"
   ]
  },
  {
   "cell_type": "code",
   "execution_count": 19,
   "metadata": {},
   "outputs": [],
   "source": [
    "num_parallel = 1\n",
    "time = '12:00:00'\n",
    "args=[plate,begin,end, directory]\n",
    "run_parallel('extract_nodes_surf.py',args,0,0,num_parallel,time,'node_id')"
   ]
  },
  {
   "cell_type": "markdown",
   "metadata": {},
   "source": [
    "***Hyphae extraction***"
   ]
  },
  {
   "cell_type": "code",
   "execution_count": 5,
   "metadata": {},
   "outputs": [],
   "source": [
    "num_parallel = 1\n",
    "time = '5:00:00'\n",
    "args = [plate, begin, end, directory]\n",
    "run_parallel('hyphae_extraction.py',args,0,0,num_parallel,time,'hyphae')"
   ]
  },
  {
   "cell_type": "code",
   "execution_count": null,
   "metadata": {},
   "outputs": [],
   "source": []
  }
 ],
 "metadata": {
  "kernelspec": {
   "display_name": "Python 3",
   "language": "python",
   "name": "python3"
  },
  "language_info": {
   "codemirror_mode": {
    "name": "ipython",
    "version": 3
   },
   "file_extension": ".py",
   "mimetype": "text/x-python",
   "name": "python",
   "nbconvert_exporter": "python",
   "pygments_lexer": "ipython3",
   "version": "3.7.7"
  }
 },
 "nbformat": 4,
 "nbformat_minor": 4
}

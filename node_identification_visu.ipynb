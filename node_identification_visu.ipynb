{
 "cells": [
  {
   "cell_type": "code",
   "execution_count": 1,
   "metadata": {},
   "outputs": [],
   "source": [
    "%matplotlib widget\n",
    "import numpy as np\n",
    "import matplotlib.pyplot as plt\n",
    "import matplotlib.cm as cm\n",
    "from PIL import Image\n",
    "from scipy import sparse\n",
    "import cv2\n",
    "from pymatreader import read_mat\n",
    "# from extract_graph import dic_to_sparse\n",
    "from util import get_path\n",
    "from plotutil import show_im,overlap, show_im_rgb\n",
    "from extract_graph import generate_graph_tab_from_skeleton,generate_nx_graph_from_skeleton,generate_skeleton\n",
    "import math\n",
    "import networkx as nx\n",
    "plate=13\n",
    "date1='0703_1157'\n",
    "date2='0703_1557'\n",
    "date3='0703_1957'\n",
    "row=6\n",
    "column=10"
   ]
  },
  {
   "cell_type": "code",
   "execution_count": 2,
   "metadata": {},
   "outputs": [],
   "source": [
    "imtab1=np.load(f'Data/imbackrem_{date1}_{plate}_{row}_{column}.npy')\n",
    "imtab2=np.load(f'Data/imbackrem_{date2}_{plate}_{row}_{column}.npy')\n",
    "imtab3=np.load(f'Data/imbackrem_{date3}_{plate}_{row}_{column}.npy')\n",
    "frangi1=np.load(f'Data/frangised_{date1}_{plate}_{row}_{column}.npy')\n",
    "frangi2=np.load(f'Data/frangised_{date2}_{plate}_{row}_{column}.npy')\n",
    "frangi3=np.load(f'Data/frangised_{date3}_{plate}_{row}_{column}.npy')\n",
    "dilated1=np.load(f'Data/dilated_{date1}_{plate}_{row}_{column}.npy')\n",
    "dilated2=np.load(f'Data/dilated_{date2}_{plate}_{row}_{column}.npy')\n",
    "# dilated3=np.load(f'Data/dilated_{date3}_{plate}_{row}_{column}.npy')\n",
    "skeleton1=np.load(f'Data/skeletonizedpruned_{date1}_{plate}_{row}_{column}.npy')\n",
    "skeleton2=np.load(f'Data/skeletonizedpruned_{date2}_{plate}_{row}_{column}.npy')\n",
    "skeleton3=np.load(f'Data/skeletonizedpruned_{date3}_{plate}_{row}_{column}.npy')\n",
    "width2=np.load(f'Data/width_{date2}_{plate}_{row}_{column}.npy')"
   ]
  },
  {
   "cell_type": "code",
   "execution_count": 24,
   "metadata": {},
   "outputs": [],
   "source": [
    "graph_tab1=generate_graph_tab_from_skeleton(skeleton1)\n",
    "graph_tab2=generate_graph_tab_from_skeleton(skeleton2)\n",
    "graph_tab3=generate_graph_tab_from_skeleton(skeleton3)\n",
    "nx_graph_t0m1,pos_t0m1=generate_nx_graph_from_skeleton(skeleton1)\n",
    "nx_graph_t0,pos_t0=generate_nx_graph_from_skeleton(skeleton2)\n",
    "nx_graph_t0p1,pos_t0p1=generate_nx_graph_from_skeleton(skeleton3)"
   ]
  },
  {
   "cell_type": "code",
   "execution_count": 4,
   "metadata": {},
   "outputs": [],
   "source": [
    "def node_dist(node1,node2,nx_graph_tm1,nx_graph_t,pos_tm1,pos_t,show=False):\n",
    "    sparse_cross1=sparse.dok_matrix((3000,4096), dtype=bool)\n",
    "    sparse_cross2=sparse.dok_matrix((3000,4096), dtype=bool)\n",
    "    for edge in nx_graph_tm1.edges(node1):\n",
    "        list_pixel=nx_graph_tm1.get_edge_data(*edge)['pixel_list']\n",
    "        if (pos_tm1[node1]!=list_pixel[0]).any():\n",
    "            list_pixel=list(reversed(list_pixel))\n",
    "        for pixel in list_pixel[:20]:\n",
    "            sparse_cross1[pixel]=1\n",
    "    for edge in nx_graph_t.edges(node2):\n",
    "        list_pixel=nx_graph_t.get_edge_data(*edge)['pixel_list']\n",
    "        if (pos_t[node2]!=list_pixel[0]).any():\n",
    "            list_pixel=list(reversed(list_pixel))\n",
    "        for pixel in list_pixel[:20]:\n",
    "            sparse_cross2[pixel]=1\n",
    "    kernel = np.ones((3,3),np.uint8)\n",
    "    dilation1 = cv2.dilate(sparse_cross1.todense().astype(np.uint8),kernel,iterations = 3)\n",
    "    dilation2 = cv2.dilate(sparse_cross2.todense().astype(np.uint8),kernel,iterations = 3)\n",
    "    if show:\n",
    "        plt.imshow(dilation1)\n",
    "        plt.imshow(dilation2,alpha=0.5)\n",
    "        plt.show()\n",
    "    return(np.linalg.norm(dilation1-dilation2))"
   ]
  },
  {
   "cell_type": "code",
   "execution_count": 5,
   "metadata": {},
   "outputs": [],
   "source": [
    "def first_identification(nx_graph_tm1,nx_graph_t,pos_tm1,pos_t):\n",
    "    corresp={}\n",
    "    ambiguous=set()\n",
    "    to_remove=set()\n",
    "    degree_3sup_nodes_tm1 = [node for node in nx_graph_tm1.nodes if nx_graph_tm1.degree(node)>=3]\n",
    "    degree_3sup_nodes_t = [node for node in nx_graph_t.nodes if nx_graph_t.degree(node)>=3]\n",
    "    for node1 in degree_3sup_nodes_tm1:\n",
    "        mini=np.inf\n",
    "        for node2 in degree_3sup_nodes_t:\n",
    "            distance=np.linalg.norm(pos_tm1[node1]-pos_t[node2])\n",
    "            if distance<mini:\n",
    "                mini=distance\n",
    "                identifier=node2\n",
    "        if mini<30:\n",
    "            if identifier in corresp.values():\n",
    "                ambiguous.add(node1)\n",
    "#                     print(node1,'node_dientified_two_times')\n",
    "            corresp[node1]=identifier\n",
    "        else:\n",
    "            to_remove.add(node1)\n",
    "#                 print(node1,mini,'node_none_iden')\n",
    "    while len(ambiguous)>0:\n",
    "        node=ambiguous.pop()\n",
    "        identifier=corresp[node]\n",
    "        candidates = [nod for nod in corresp.keys() if corresp[nod]==identifier]\n",
    "        mini=np.inf\n",
    "        for candidate in candidates:\n",
    "            distance=node_dist(candidate,identifier,nx_graph_tm1,nx_graph_t,pos_tm1,pos_t)\n",
    "            if distance < mini:\n",
    "                right_candidate=candidate\n",
    "                mini=distance\n",
    "#         print(mini,right_candidate)\n",
    "        for candidate in candidates:\n",
    "            if candidate!= right_candidate:\n",
    "                corresp.pop(candidate)\n",
    "                to_remove.add(candidate)\n",
    "                ambiguous.discard(candidate)\n",
    "    return(corresp,to_remove)\n",
    "    "
   ]
  },
  {
   "cell_type": "code",
   "execution_count": 6,
   "metadata": {},
   "outputs": [],
   "source": [
    "def relabel_nodes(corresp,nx_graph_t,pos_t):\n",
    "    invert_corresp={}\n",
    "    new_pos = {}\n",
    "    for key in corresp.keys():\n",
    "        invert_corresp[corresp[key]]=key\n",
    "    maxi=max(corresp.keys())+1\n",
    "    def mapping(node):\n",
    "        if node in invert_corresp.keys():\n",
    "            return(invert_corresp[node])\n",
    "        else:\n",
    "            return (maxi+node)\n",
    "    for node in nx_graph_t.nodes:\n",
    "        pos=pos_t[node]\n",
    "        if node in invert_corresp.keys():\n",
    "            new_pos[invert_corresp[node]]=pos\n",
    "        else:\n",
    "            new_pos[maxi+node]=pos\n",
    "    new_graph=nx.relabel_nodes(nx_graph_t,mapping)\n",
    "    return(new_pos,new_graph)"
   ]
  },
  {
   "cell_type": "code",
   "execution_count": 7,
   "metadata": {},
   "outputs": [],
   "source": [
    "def reconnect_degree_2(nx_graph,pos):\n",
    "    degree_2_nodes = [node for node in nx_graph.nodes if nx_graph.degree(node)==2]\n",
    "    while len(degree_2_nodes)>0:\n",
    "        for node in degree_2_nodes:\n",
    "            neighbours = list(nx_graph.neighbors(node))\n",
    "            right_n = neighbours[0]\n",
    "            left_n = neighbours[1]\n",
    "            right_edge = nx_graph.get_edge_data(node,right_n)['pixel_list']\n",
    "            left_edge = nx_graph.get_edge_data(node,left_n)['pixel_list']\n",
    "            if np.any(right_edge[0]!=pos[node]):\n",
    "                right_edge = list(reversed(right_edge))\n",
    "            if np.any(left_edge[-1]!=pos[node]):\n",
    "                left_edge = list(reversed(left_edge))\n",
    "            pixel_list = left_edge+right_edge[1:]\n",
    "            info={'weight':len(pixel_list),'pixel_list':pixel_list}\n",
    "            if right_n!=left_n:\n",
    "                connection_data=nx_graph.get_edge_data(right_n,left_n)\n",
    "                if connection_data is None or connection_data['weight']>info['weight']:\n",
    "                    if not connection_data is None:\n",
    "                        nx_graph.remove_edge(right_n,left_n,info)\n",
    "                    nx_graph.add_edges_from([(right_n,left_n,info)])\n",
    "            nx_graph.remove_node(node)\n",
    "            degree_2_nodes = [node for node in nx_graph.nodes if nx_graph.degree(node)==2]"
   ]
  },
  {
   "cell_type": "code",
   "execution_count": 8,
   "metadata": {},
   "outputs": [],
   "source": [
    "from copy import deepcopy\n",
    "def clean_nodes(nx_graph1,to_remove,pos):\n",
    "    nx_graph=deepcopy(nx_graph1)\n",
    "    is_hair = True\n",
    "    degree2_to_reconnect=[]\n",
    "    while is_hair:\n",
    "        is_hair=False\n",
    "        to_remove_possibly=list(to_remove)\n",
    "        for node in to_remove_possibly:\n",
    "            neighbours = nx_graph.neighbors(node)\n",
    "            candidate_to_remove=[]\n",
    "            weight_candidate=[]\n",
    "            for neighbour in neighbours:\n",
    "                if nx_graph.degree(neighbour)==1:\n",
    "                    is_hair=True\n",
    "                    candidate_to_remove.append(neighbour)\n",
    "                    weight_candidate.append(len(nx_graph.get_edge_data(node,neighbour)['pixel_list']))\n",
    "            if len(candidate_to_remove)>0:\n",
    "                node_to_remove=candidate_to_remove[np.argmin(weight_candidate)]\n",
    "                nx_graph.remove_node(node_to_remove)\n",
    "#                 print(node_to_remove,' is removed')\n",
    "                if nx_graph.degree(node)==2:\n",
    "                    to_remove.discard(node)\n",
    "                    degree2_to_reconnect.append(node)\n",
    "    reconnect_degree_2(nx_graph,pos)\n",
    "#     for node in degree2_to_reconnect:\n",
    "#         neighbours = list(nx_graph.neighbors(node))\n",
    "#         right_n = neighbours[0]\n",
    "#         left_n = neighbours[1]\n",
    "#         right_edge = nx_graph.get_edge_data(node,right_n)['pixel_list']\n",
    "#         left_edge = nx_graph.get_edge_data(node,left_n)['pixel_list']\n",
    "#         if np.any(right_edge[0]!=pos[node]):\n",
    "#             right_edge = list(reversed(right_edge))\n",
    "#         if np.any(left_edge[-1]!=pos[node]):\n",
    "#             left_edge = list(reversed(left_edge))\n",
    "#         pixel_list = left_edge+right_edge[1:]\n",
    "#         info={'weight':len(pixel_list),'pixel_list':pixel_list}\n",
    "#         if right_n!=left_n:\n",
    "#             connection_data=nx_graph.get_edge_data(right_n,left_n)\n",
    "#             if connection_data is None or connection_data['weight']>info['weight']:\n",
    "#                 if not connection_data is None:\n",
    "#                     nx_graph.remove_edge(right_n,left_n,info)\n",
    "#                     print(right_n,left_n,'is removed')\n",
    "#                 nx_graph.add_edges_from([(right_n,left_n,info)])\n",
    "#                 print(right_n,left_n,'is added')\n",
    "#         print(node,' is removed')\n",
    "#         nx_graph.remove_node(node)\n",
    "#     print(list(nx_graph.neighbors(5)))\n",
    "    reconnect_degree_2(nx_graph,pos)\n",
    "    for node in to_remove:\n",
    "        if node in nx_graph:\n",
    "            neighbours = list(nx_graph.neighbors(node))\n",
    "            candidate_to_fuse=[]\n",
    "            weight_candidate=[]\n",
    "            for neighbour in neighbours:\n",
    "                candidate_to_fuse.append(neighbour)\n",
    "                weight_candidate.append(len(nx_graph.get_edge_data(node,neighbour)['pixel_list']))\n",
    "            node_to_fuse=candidate_to_fuse[np.argmin(weight_candidate)]\n",
    "            for neighbour in neighbours:\n",
    "                right_n = node_to_fuse\n",
    "                left_n = neighbour\n",
    "    #             print(right_n,left_n)\n",
    "    #             print(right_n!=left_n)\n",
    "                right_edge = nx_graph.get_edge_data(node,right_n)['pixel_list']\n",
    "                left_edge = nx_graph.get_edge_data(node,left_n)['pixel_list']\n",
    "                if np.any(right_edge[0]!=pos[node]):\n",
    "                    right_edge = list(reversed(right_edge))\n",
    "                if np.any(left_edge[-1]!=pos[node]):\n",
    "                    left_edge = list(reversed(left_edge))\n",
    "                pixel_list = left_edge+right_edge[1:]\n",
    "                info={'weight':len(pixel_list),'pixel_list':pixel_list}\n",
    "                if right_n!=left_n:\n",
    "                    connection_data=nx_graph.get_edge_data(right_n,left_n,info)\n",
    "                    if connection_data is None or connection_data['weight']>info['weight']:\n",
    "                        if not connection_data is None:\n",
    "                            nx_graph.remove_edge(right_n,left_n,info)\n",
    "\n",
    "                        nx_graph.add_edges_from([(right_n,left_n,info)])\n",
    "            nx_graph.remove_node(node)\n",
    "    return(nx_graph)\n",
    "                    "
   ]
  },
  {
   "cell_type": "code",
   "execution_count": 9,
   "metadata": {},
   "outputs": [],
   "source": [
    "# corresp,to_remove=first_identification(nx_graph_t0m1,nx_graph_t0,pos_t0m1,pos_t0)"
   ]
  },
  {
   "cell_type": "code",
   "execution_count": 10,
   "metadata": {},
   "outputs": [],
   "source": [
    "# nx_graph_new=clean_nodes(nx_graph_t0m1,to_remove,pos_t0m1)"
   ]
  },
  {
   "cell_type": "code",
   "execution_count": 11,
   "metadata": {},
   "outputs": [],
   "source": [
    "# pos_t0=relabel_nodes(corresp,nx_graph_t0,pos_t0)"
   ]
  },
  {
   "cell_type": "code",
   "execution_count": 12,
   "metadata": {},
   "outputs": [],
   "source": [
    "def orient(pixel_list,root_pos):\n",
    "    if np.all(root_pos==pixel_list[0]):\n",
    "        return(pixel_list)\n",
    "    else:\n",
    "        return list(reversed(pixel_list))"
   ]
  },
  {
   "cell_type": "code",
   "execution_count": 20,
   "metadata": {},
   "outputs": [],
   "source": [
    "def second_identification(nx_graph_tm1,nx_graph_t,pos_tm1,pos_t,length_id=50):\n",
    "    corresp,to_remove=first_identification(nx_graph_tm1,nx_graph_t,pos_tm1,pos_t)\n",
    "    nx_graph_tm1=clean_nodes(nx_graph_tm1,to_remove,pos_tm1)\n",
    "#     pos_t,nx_graph_t=relabel_nodes(corresp,nx_graph_t,pos_t)\n",
    "    tips = [node for node in nx_graph_tm1.nodes if nx_graph_tm1.degree(node)==1]\n",
    "    for tip in tips:\n",
    "#         print('tip',pos_tm1[tip],tip)\n",
    "        root=next(nx_graph_tm1.neighbors(tip))\n",
    "        branch_tm1=orient(nx_graph_tm1.get_edge_data(root,tip)['pixel_list'],pos_tm1[root])\n",
    "        mini=np.inf\n",
    "        for neighbours_t in nx_graph_t.neighbors(root):\n",
    "            branch_candidate=orient(nx_graph_t.get_edge_data(root,neighbours_t)['pixel_list'],pos_t[root])\n",
    "            length_for_id = min(length_id,len(branch_tm1),len(branch_candidate))\n",
    "            distance=(np.linalg.norm(np.array(branch_tm1[:length_for_id])-np.array(branch_candidate[:length_for_id])))/length_for_id\n",
    "#             print(pos_t[root],pos_t[neighbours_t],distance)\n",
    "            if distance<mini:\n",
    "                next_node=neighbours_t\n",
    "                mini=distance\n",
    "        last_node=root\n",
    "        current_node=next_node\n",
    "        last_branch=np.array(orient(nx_graph_t.get_edge_data(root,next_node)['pixel_list'],pos_t[current_node]))\n",
    "        while nx_graph_t.degree(current_node)!=1: #Careful : if there is a cycle with low angle this might loop indefinitely but unprobable\n",
    "            mini=np.inf\n",
    "            origin_vector = last_branch[0]-last_branch[min(length_id,len(last_branch)-1)]\n",
    "            candidate_vectors=[]\n",
    "            for neighbours_t in nx_graph_t.neighbors(current_node):\n",
    "                if neighbours_t!=last_node:\n",
    "                    branch_candidate=np.array(orient(nx_graph_t.get_edge_data(current_node,neighbours_t)['pixel_list'],pos_t[current_node]))\n",
    "#                     print(last_branch[0],branch_candidate[0])\n",
    "                    candidate_vector = branch_candidate[min(length_id,len(branch_candidate)-1)]-branch_candidate[0]\n",
    "                    unit_vector_origin = origin_vector / np.linalg.norm(origin_vector)\n",
    "                    unit_vector_candidate = candidate_vector / np.linalg.norm(candidate_vector)\n",
    "                    candidate_vectors.append(unit_vector_candidate)\n",
    "                    dot_product = np.dot(unit_vector_origin, unit_vector_candidate)\n",
    "                    angle = np.arccos(dot_product)\n",
    "                    if angle<mini:\n",
    "                        mini=angle\n",
    "                        next_node=neighbours_t\n",
    "#                     print('angle',dot_product,pos_t[last_node],pos_t[current_node],pos_t[neighbours_t],angle/(2*np.pi)*360)\n",
    "            competitor = np.arccos(np.dot(candidate_vectors[0],-candidate_vectors[1]))\n",
    "#             print('competitor',competitor/(2*np.pi)*360)\n",
    "            if mini<competitor:\n",
    "                current_node,last_node=next_node,current_node\n",
    "            else:\n",
    "                corresp[tip]=current_node\n",
    "                break\n",
    "        corresp[tip]=current_node\n",
    "    pos_t,nx_graph_t=relabel_nodes(corresp,nx_graph_t,pos_t)\n",
    "    return(pos_t,nx_graph_t,nx_graph_tm1,corresp)\n",
    "        "
   ]
  },
  {
   "cell_type": "code",
   "execution_count": 30,
   "metadata": {},
   "outputs": [],
   "source": [
    "post_t0_clean,nx_graph_t0_clean,nx_graph_t0m1_clean=second_identification(nx_graph_t0m1,nx_graph_t0,pos_t0m1,pos_t0,50)\n",
    "skeleton_clean_t0m1=generate_skeleton(nx_graph_t0m1_clean).todense()\n",
    "# pos_t0p1,nx_graph_t0p1,nx_graph_t0=second_identification(nx_graph_t0,nx_graph_t0p1,pos_t0,pos_t0p1,50)\n",
    "skeleton_clean_t0=generate_skeleton(nx_graph_t0).todense()"
   ]
  },
  {
   "cell_type": "code",
   "execution_count": 28,
   "metadata": {},
   "outputs": [],
   "source": [
    "def plot_nodes(nx_graph,pos,skeleton):\n",
    "    fig = plt.figure()\n",
    "    ax = fig.add_subplot(111)\n",
    "    ax.imshow(skeleton)\n",
    "    bbox_props = dict(boxstyle=\"circle\", fc=\"white\")\n",
    "    for node in nx_graph.nodes:\n",
    "        t = ax.text(pos[node][1], pos[node][0], str(node), ha=\"center\", va=\"center\",\n",
    "                    size=5,\n",
    "                    bbox=bbox_props)\n",
    "    plt.show()"
   ]
  },
  {
   "cell_type": "code",
   "execution_count": 31,
   "metadata": {},
   "outputs": [
    {
     "data": {
      "application/vnd.jupyter.widget-view+json": {
       "model_id": "23658f06d572442dad4b7b557ee9092c",
       "version_major": 2,
       "version_minor": 0
      },
      "text/plain": [
       "Canvas(toolbar=Toolbar(toolitems=[('Home', 'Reset original view', 'home', 'home'), ('Back', 'Back to previous …"
      ]
     },
     "metadata": {},
     "output_type": "display_data"
    }
   ],
   "source": [
    "plot_nodes(nx_graph_t0,pos_t0,skeleton_clean_t0)"
   ]
  },
  {
   "cell_type": "code",
   "execution_count": 32,
   "metadata": {},
   "outputs": [
    {
     "data": {
      "application/vnd.jupyter.widget-view+json": {
       "model_id": "6a6ea2cb243c4960b1e54caeeb0b2a50",
       "version_major": 2,
       "version_minor": 0
      },
      "text/plain": [
       "Canvas(toolbar=Toolbar(toolitems=[('Home', 'Reset original view', 'home', 'home'), ('Back', 'Back to previous …"
      ]
     },
     "metadata": {},
     "output_type": "display_data"
    }
   ],
   "source": [
    "plot_nodes(nx_graph_t0m1,pos_t0m1,skeleton_clean_t0m1)"
   ]
  },
  {
   "cell_type": "code",
   "execution_count": null,
   "metadata": {},
   "outputs": [],
   "source": [
    "from plotutil import overlap\n",
    "overlap(skeleton_clean_t0m1.todense(),skeleton2)"
   ]
  },
  {
   "cell_type": "code",
   "execution_count": null,
   "metadata": {},
   "outputs": [],
   "source": []
  },
  {
   "cell_type": "code",
   "execution_count": null,
   "metadata": {},
   "outputs": [],
   "source": [
    "%matplotlib widget\n",
    "fig = plt.figure()\n",
    "ax = fig.add_subplot(111)\n",
    "ax.imshow(skeleton2)\n",
    "bbox_props = dict(boxstyle=\"circle\", fc=\"white\")\n",
    "for node in nx_graph_t0.nodes:\n",
    "    t = ax.text(pos_t0[node][1], pos_t0[node][0], str(node), ha=\"center\", va=\"center\",\n",
    "                size=5,\n",
    "                bbox=bbox_props)\n",
    "plt.show()"
   ]
  },
  {
   "cell_type": "code",
   "execution_count": null,
   "metadata": {},
   "outputs": [],
   "source": []
  },
  {
   "cell_type": "code",
   "execution_count": null,
   "metadata": {},
   "outputs": [],
   "source": [
    "for node1 in nx_graph_new.nodes:\n",
    "    if nx_graph_new.degree[node1]==2:\n",
    "        print(node1)"
   ]
  },
  {
   "cell_type": "code",
   "execution_count": null,
   "metadata": {},
   "outputs": [],
   "source": [
    "list(nx_graph_new.neighbors(5))"
   ]
  },
  {
   "cell_type": "code",
   "execution_count": null,
   "metadata": {},
   "outputs": [],
   "source": [
    "pos_t0m1[7]"
   ]
  },
  {
   "cell_type": "code",
   "execution_count": null,
   "metadata": {},
   "outputs": [],
   "source": [
    "pos_t0m1[3]"
   ]
  },
  {
   "cell_type": "code",
   "execution_count": null,
   "metadata": {},
   "outputs": [],
   "source": [
    "corresp[9]"
   ]
  },
  {
   "cell_type": "code",
   "execution_count": null,
   "metadata": {},
   "outputs": [],
   "source": [
    "skeleton_clean_t0m1=generate_skeleton(nx_graph_new)"
   ]
  },
  {
   "cell_type": "code",
   "execution_count": null,
   "metadata": {},
   "outputs": [],
   "source": [
    "problem=(1729,646)"
   ]
  },
  {
   "cell_type": "code",
   "execution_count": null,
   "metadata": {},
   "outputs": [],
   "source": [
    "problem in [tuple(value) for value in pos_t0m1.values()]"
   ]
  },
  {
   "cell_type": "code",
   "execution_count": null,
   "metadata": {},
   "outputs": [],
   "source": [
    "list(nx_graph_t0.neighbors(48))\n",
    "nx_graph_t0.get_edge_data(46,48)['pixel_list']"
   ]
  },
  {
   "cell_type": "code",
   "execution_count": null,
   "metadata": {},
   "outputs": [],
   "source": [
    "corresp[65]"
   ]
  },
  {
   "cell_type": "code",
   "execution_count": null,
   "metadata": {},
   "outputs": [],
   "source": [
    "pos_t0[65]"
   ]
  },
  {
   "cell_type": "code",
   "execution_count": null,
   "metadata": {},
   "outputs": [],
   "source": [
    "%matplotlib widget\n",
    "node_dist(64,85,nx_graph_t0,nx_graph_t0p1,pos_t0,pos_t0p1,show=True)"
   ]
  },
  {
   "cell_type": "code",
   "execution_count": null,
   "metadata": {},
   "outputs": [],
   "source": []
  },
  {
   "cell_type": "code",
   "execution_count": null,
   "metadata": {},
   "outputs": [],
   "source": [
    "corresp[6]"
   ]
  },
  {
   "cell_type": "code",
   "execution_count": null,
   "metadata": {},
   "outputs": [],
   "source": [
    "%matplotlib widget\n",
    "\n",
    "node_dist(15,27,nx_graph1,nx_graph2,pos1,pos2)"
   ]
  },
  {
   "cell_type": "code",
   "execution_count": null,
   "metadata": {},
   "outputs": [],
   "source": [
    "pos1[15]"
   ]
  },
  {
   "cell_type": "code",
   "execution_count": null,
   "metadata": {},
   "outputs": [],
   "source": [
    "pos1[6]"
   ]
  }
 ],
 "metadata": {
  "kernelspec": {
   "display_name": "cleanMsc",
   "language": "python",
   "name": "cleanmsc"
  },
  "language_info": {
   "codemirror_mode": {
    "name": "ipython",
    "version": 3
   },
   "file_extension": ".py",
   "mimetype": "text/x-python",
   "name": "python",
   "nbconvert_exporter": "python",
   "pygments_lexer": "ipython3",
   "version": "3.7.8"
  }
 },
 "nbformat": 4,
 "nbformat_minor": 4
}

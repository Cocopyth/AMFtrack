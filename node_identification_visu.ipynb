{
 "cells": [
  {
   "cell_type": "code",
   "execution_count": 1,
   "metadata": {},
   "outputs": [],
   "source": [
    "%matplotlib widget\n",
    "import numpy as np\n",
    "import matplotlib.pyplot as plt\n",
    "import matplotlib.cm as cm\n",
    "from PIL import Image\n",
    "from scipy import sparse\n",
    "import cv2\n",
    "from pymatreader import read_mat\n",
    "# from extract_graph import dic_to_sparse\n",
    "from util import get_path\n",
    "from plotutil import show_im,overlap, show_im_rgb, plot_nodes, plot_nodes_from_list,plot_t_tp1\n",
    "from extract_graph import generate_graph_tab_from_skeleton,generate_nx_graph_from_skeleton,generate_skeleton,clean\n",
    "import networkx as nx\n",
    "from node_id import second_identification, whole_movement_identification,first_identification,relabel_nodes, clean_nodes, orient\n",
    "plate=13\n",
    "date1='0703_1157'\n",
    "date2='0703_1557'\n",
    "date3='0703_1957'\n",
    "row=6\n",
    "column=10\n"
   ]
  },
  {
   "cell_type": "code",
   "execution_count": 2,
   "metadata": {},
   "outputs": [],
   "source": [
    "imtab1=np.load(f'Data/imbackrem_{date1}_{plate}_{row}_{column}.npy')\n",
    "imtab2=np.load(f'Data/imbackrem_{date2}_{plate}_{row}_{column}.npy')\n",
    "imtab3=np.load(f'Data/imbackrem_{date3}_{plate}_{row}_{column}.npy')\n",
    "skeleton1=clean(np.load(f'Data/skeletonized_{date1}_{plate}_{row}_{column}.npy'))\n",
    "skeleton2=clean(np.load(f'Data/skeletonized_{date2}_{plate}_{row}_{column}.npy'))\n",
    "skeleton3=clean(np.load(f'Data/skeletonized_{date3}_{plate}_{row}_{column}.npy'))\n",
    "width2=np.load(f'Data/width_{date2}_{plate}_{row}_{column}.npy')"
   ]
  },
  {
   "cell_type": "code",
   "execution_count": 3,
   "metadata": {},
   "outputs": [],
   "source": [
    "agraph_tab1=generate_graph_tab_from_skeleton(skeleton1)\n",
    "agraph_tab2=generate_graph_tab_from_skeleton(skeleton2)\n",
    "agraph_tab3=generate_graph_tab_from_skeleton(skeleton3)\n",
    "anx_graph_t0m1,apos_t0m1=generate_nx_graph_from_skeleton(skeleton1)\n",
    "anx_graph_t0,apos_t0=generate_nx_graph_from_skeleton(skeleton2)\n",
    "anx_graph_t0p1,apos_t0p1=generate_nx_graph_from_skeleton(skeleton3)"
   ]
  },
  {
   "cell_type": "code",
   "execution_count": 4,
   "metadata": {},
   "outputs": [],
   "source": [
    "\n",
    "# pos_t0p1_clean,nx_graph_t0p1_clean,nx_graph_t0_clean,corresp_tips=second_identification(anx_graph_t0,anx_graph_t0p1,apos_t0,apos_t0p1,50)\n",
    "# pos_t0_clean,nx_graph_t0_clean_clean,nx_graph_t0m1_clean,corresp_tips=second_identification(anx_graph_t0m1,nx_graph_t0_clean,apos_t0m1,apos_t0,50)\n",
    "# skeleton_clean_t0m1=generate_skeleton(nx_graph_t0m1_clean).todense()\n",
    "# skeleton_clean_t0=generate_skeleton(nx_graph_t0_clean_clean).todense()\n",
    "# skeleton_clean_t0p1=generate_skeleton(nx_graph_t0p1_clean).todense()"
   ]
  },
  {
   "cell_type": "code",
   "execution_count": 23,
   "metadata": {},
   "outputs": [],
   "source": [
    "def second_identification(nx_graph_tm1,nx_graph_t,pos_tm1,pos_t,length_id=50):\n",
    "    corresp,to_remove=first_identification(nx_graph_tm1,nx_graph_t,pos_tm1,pos_t)\n",
    "    nx_graph_tm1=clean_nodes(nx_graph_tm1,to_remove,pos_tm1)\n",
    "    pos_t,nx_graph_t=relabel_nodes(corresp,nx_graph_t,pos_t)\n",
    "    corresp_tips={node:node for node in corresp.keys()}\n",
    "    tips = [node for node in nx_graph_tm1.nodes if nx_graph_tm1.degree(node)==1]\n",
    "    for tip in tips:\n",
    "#         print('tip',pos_tm1[tip],tip)\n",
    "        mini=np.inf\n",
    "        for edge in nx_graph_t.edges:\n",
    "            pixel_list=nx_graph_t.get_edge_data(*edge)['pixel_list']\n",
    "            distance=np.min(np.linalg.norm(np.array(pixel_list)-np.array(pos_tm1[tip]),axis=1))\n",
    "            if distance<mini:\n",
    "                mini=distance\n",
    "                right_edge = edge\n",
    "        origin = np.array(orient(nx_graph_tm1.get_edge_data(*list(nx_graph_tm1.edges(tip))[0])['pixel_list'],pos_tm1[tip]))\n",
    "        origin_vector = origin[0]-origin[-1]\n",
    "        branch=np.array(orient(nx_graph_t.get_edge_data(*right_edge)['pixel_list'],pos_t[right_edge[0]]))\n",
    "        candidate_vector = branch[-1]-branch[0]\n",
    "        dot_product = np.dot(origin_vector,candidate_vector)\n",
    "        if dot_product>=0:\n",
    "            root=right_edge[0]\n",
    "            next_node=right_edge[1]\n",
    "        else:\n",
    "            root=right_edge[1]\n",
    "            next_node=right_edge[0]\n",
    "        last_node=root\n",
    "        current_node=next_node\n",
    "        last_branch=np.array(orient(nx_graph_t.get_edge_data(root,next_node)['pixel_list'],pos_t[current_node]))\n",
    "        while nx_graph_t.degree(current_node)!=1: #Careful : if there is a cycle with low angle this might loop indefinitely but unprobable\n",
    "            mini=np.inf\n",
    "            origin_vector = last_branch[0]-last_branch[min(length_id,len(last_branch)-1)]\n",
    "            unit_vector_origin = origin_vector / np.linalg.norm(origin_vector)\n",
    "            candidate_vectors=[]\n",
    "            for neighbours_t in nx_graph_t.neighbors(current_node):\n",
    "                if neighbours_t!=last_node:\n",
    "                    branch_candidate=np.array(orient(nx_graph_t.get_edge_data(current_node,neighbours_t)['pixel_list'],pos_t[current_node]))\n",
    "                    candidate_vector = branch_candidate[min(length_id,len(branch_candidate)-1)]-branch_candidate[0]\n",
    "                    unit_vector_candidate = candidate_vector / np.linalg.norm(candidate_vector)\n",
    "                    candidate_vectors.append(unit_vector_candidate)\n",
    "                    dot_product = np.dot(unit_vector_origin, unit_vector_candidate)\n",
    "                    angle = np.arccos(dot_product)\n",
    "                    if angle<mini:\n",
    "                        mini=angle\n",
    "                        next_node=neighbours_t\n",
    "#                     print('angle',dot_product,pos_t[last_node],pos_t[current_node],pos_t[neighbours_t],angle/(2*np.pi)*360)\n",
    "#!!!bug may happen here if two nodes are direct neighbours : I would nee to check further why it the case, optimal segmentation should avoid this issue.\n",
    "# This is especially a problem for degree 4 nodes. Maybe fuse nodes that are closer than 3 pixels.\n",
    "            if len(candidate_vectors)<2:\n",
    "                print(nx_graph_t.degree(current_node),pos_t[current_node],[node for node in nx_graph_t.nodes if nx_graph_t.degree(node)==2])\n",
    "            competitor = np.arccos(np.dot(candidate_vectors[0],-candidate_vectors[1]))\n",
    "#             print('competitor',competitor/(2*np.pi)*360)\n",
    "            if mini<competitor:\n",
    "                current_node,last_node=next_node,current_node\n",
    "            else:\n",
    "                corresp_tips[tip]=current_node\n",
    "                break\n",
    "        corresp_tips[tip]=current_node\n",
    "    pos_t,nx_graph_t=relabel_nodes(corresp_tips,nx_graph_t,pos_t)\n",
    "    return(pos_t,nx_graph_t,nx_graph_tm1,corresp_tips)\n",
    "                "
   ]
  },
  {
   "cell_type": "code",
   "execution_count": 26,
   "metadata": {},
   "outputs": [
    {
     "name": "stdout",
     "output_type": "stream",
     "text": [
      "set()\n",
      "set()\n"
     ]
    }
   ],
   "source": [
    "apos_t0,anx_graph_t0,anx_graph_t0m1,corresp_tips=second_identification(anx_graph_t0m1,anx_graph_t0,apos_t0m1,apos_t0,50)\n",
    "apos_t0p1,anx_graph_t0p1,anx_graph_t0,corresp_tips=second_identification(anx_graph_t0,anx_graph_t0p1,apos_t0,apos_t0p1,50)\n",
    "\n",
    "\n",
    "\n",
    "skeleton_clean_t0m1=generate_skeleton(anx_graph_t0m1).todense()\n",
    "skeleton_clean_t0=generate_skeleton(anx_graph_t0).todense()\n",
    "skeleton_clean_t0p1=generate_skeleton(anx_graph_t0p1).todense()"
   ]
  },
  {
   "cell_type": "code",
   "execution_count": 34,
   "metadata": {},
   "outputs": [],
   "source": [
    "tip_corresp=whole_movement_identification(anx_graph_t0m1,anx_graph_t0,apos_t0m1,apos_t0,50)"
   ]
  },
  {
   "cell_type": "code",
   "execution_count": 39,
   "metadata": {},
   "outputs": [],
   "source": [
    "# list_anastomosis = pinpoint_anastomosis(anx_graph_t0m1,anx_graph_t0)\n",
    "list_tips = [node for node in anx_graph_t0m1.nodes if anx_graph_t0m1.degree(node)==1]\n",
    "list_tips2 = [node for node in anx_graph_t0.nodes if anx_graph_t0.degree(node)==1]"
   ]
  },
  {
   "cell_type": "code",
   "execution_count": 42,
   "metadata": {},
   "outputs": [],
   "source": [
    "list_nodes_t"
   ]
  },
  {
   "cell_type": "code",
   "execution_count": 44,
   "metadata": {},
   "outputs": [],
   "source": [
    "def relabel(tip):\n",
    "    return((list_tips+list_tips2).index(tip))"
   ]
  },
  {
   "cell_type": "code",
   "execution_count": 71,
   "metadata": {},
   "outputs": [],
   "source": [
    "test=(dilated2>60)*60+((dilated2<=60)*dilated2*(dilated2>=20))+(dilated2<20)*20"
   ]
  },
  {
   "cell_type": "code",
   "execution_count": 101,
   "metadata": {},
   "outputs": [
    {
     "data": {
      "application/vnd.jupyter.widget-view+json": {
       "model_id": "579232213c77423781fa4bd68558a658",
       "version_major": 2,
       "version_minor": 0
      },
      "text/plain": [
       "Canvas(toolbar=Toolbar(toolitems=[('Home', 'Reset original view', 'home', 'home'), ('Back', 'Back to previous …"
      ]
     },
     "metadata": {},
     "output_type": "display_data"
    }
   ],
   "source": [
    "plot_t_tp1(list_tipstm1,list_tipst+list_tipstm1,apos_t0m1,apos_t0,dilated2,imtab2,relabel_t=relabel,relabel_tp1=lambda x : relabel(tip_corresp[x]) if x in tip_corresp.keys() else relabel(x))"
   ]
  },
  {
   "cell_type": "code",
   "execution_count": 102,
   "metadata": {},
   "outputs": [
    {
     "data": {
      "application/vnd.jupyter.widget-view+json": {
       "model_id": "de080a1ef2e94d31a1d95d2607effc7c",
       "version_major": 2,
       "version_minor": 0
      },
      "text/plain": [
       "Canvas(toolbar=Toolbar(toolitems=[('Home', 'Reset original view', 'home', 'home'), ('Back', 'Back to previous …"
      ]
     },
     "metadata": {},
     "output_type": "display_data"
    }
   ],
   "source": [
    "plot_t_tp1([],[],apos_t0m1,apos_t0,dilated2,imtab2,relabel_t=relabel,relabel_tp1=lambda x : relabel(tip_corresp[x]) if x in tip_corresp.keys() else relabel(x))"
   ]
  },
  {
   "cell_type": "code",
   "execution_count": 73,
   "metadata": {},
   "outputs": [
    {
     "data": {
      "application/vnd.jupyter.widget-view+json": {
       "model_id": "4cdaeb4711464fca95487c3ccb3c2ec8",
       "version_major": 2,
       "version_minor": 0
      },
      "text/plain": [
       "Canvas(toolbar=Toolbar(toolitems=[('Home', 'Reset original view', 'home', 'home'), ('Back', 'Back to previous …"
      ]
     },
     "metadata": {},
     "output_type": "display_data"
    }
   ],
   "source": [
    "plot_t_tp1(list_tips,list_tips+list_tips2,apos_t0m1,apos_t0,dilated2,imtab2,relabel_t=relabel,relabel_tp1=lambda x : relabel(tip_corresp[x]) if x in tip_corresp.keys() else relabel(x))"
   ]
  },
  {
   "cell_type": "code",
   "execution_count": 63,
   "metadata": {},
   "outputs": [],
   "source": [
    "list_tipstm1=[tip for tip in list_tips if (apos_t0m1[tip][0]<=2500 and apos_t0m1[tip][0]>=500 and apos_t0m1[tip][1]<=1500)]"
   ]
  },
  {
   "cell_type": "code",
   "execution_count": 65,
   "metadata": {},
   "outputs": [],
   "source": [
    "list_tipst=[tip for tip in list_tips2 if (apos_t0[tip][0]<=2500 and apos_t0[tip][0]>=500 and apos_t0[tip][1]<=1500)]"
   ]
  },
  {
   "cell_type": "code",
   "execution_count": 100,
   "metadata": {},
   "outputs": [],
   "source": [
    "def plot_t_tp1(node_list_t,node_list_tp1,pos_t,pos_tp1,imt,imtp1,relabel_t=lambda x:x,relabel_tp1=lambda x:x):\n",
    "    fig = plt.figure()\n",
    "    ax = fig.add_subplot(111)\n",
    "    ax.imshow(imtp1, cmap='gray',interpolation='none',extent=[0,imtp1.shape[1]*pixel_conversion_factor,imtp1.shape[0]*pixel_conversion_factor,0])\n",
    "    width=ax.imshow(imt, cmap='jet', alpha=0.5,interpolation='none',extent=[0,imtp1.shape[1]*pixel_conversion_factor,imtp1.shape[0]*pixel_conversion_factor,0])\n",
    "    bbox_props1 = dict(boxstyle=\"circle\", fc=\"grey\")\n",
    "    bbox_props2 = dict(boxstyle=\"circle\", fc=\"white\")\n",
    "    for node in node_list_t:\n",
    "        t = ax.text(pos_t[node][1]*pixel_conversion_factor, pos_t[node][0]*pixel_conversion_factor, str(relabel_t(node)), ha=\"center\", va=\"center\",\n",
    "                    size=5,\n",
    "                    bbox=bbox_props1)\n",
    "    for node in node_list_tp1:\n",
    "        if node in pos_tp1.keys():\n",
    "            t = ax.text(pos_tp1[node][1]*pixel_conversion_factor, pos_tp1[node][0]*pixel_conversion_factor, \n",
    "                        str(relabel_tp1(node)), ha=\"center\", va=\"center\",\n",
    "                        size=5,\n",
    "                        bbox=bbox_props2)\n",
    "    ax.set_xlabel('x position (μm)')\n",
    "    ax.set_ylabel('y position (μm)')\n",
    "    cbar = fig.colorbar(width,ax=ax)\n",
    "    cbar.set_label('Hyphal width (μm)')\n",
    "    plt.show()"
   ]
  },
  {
   "cell_type": "code",
   "execution_count": 6,
   "metadata": {},
   "outputs": [],
   "source": [
    "def pinpoint_anastomosis(nx_graph_tm1,nx_grapht):\n",
    "    anastomosis=[]\n",
    "    tips = [node for node in nx_graph_tm1.nodes if nx_graph_tm1.degree(node)==1]\n",
    "    for node in tips:\n",
    "        if nx_grapht.degree(node)>=3:\n",
    "            anastomosis.append(node)\n",
    "    return(anastomosis)"
   ]
  },
  {
   "cell_type": "code",
   "execution_count": 59,
   "metadata": {},
   "outputs": [],
   "source": [
    "kernel = np.ones((5,5),np.uint8)\n",
    "pixel_conversion_factor = 1.725\n",
    "dilated2 = cv2.dilate(width2.astype(np.uint8) *pixel_conversion_factor,kernel,iterations = 1)"
   ]
  },
  {
   "cell_type": "code",
   "execution_count": null,
   "metadata": {},
   "outputs": [],
   "source": [
    "plot_t_tp1(list_tips,list_tips,apos_t0m1,apos_t0,dilated2,imtab2)"
   ]
  },
  {
   "cell_type": "code",
   "execution_count": 10,
   "metadata": {},
   "outputs": [
    {
     "data": {
      "application/vnd.jupyter.widget-view+json": {
       "model_id": "c793983501a743e888373cb3eb7d91bf",
       "version_major": 2,
       "version_minor": 0
      },
      "text/plain": [
       "Canvas(toolbar=Toolbar(toolitems=[('Home', 'Reset original view', 'home', 'home'), ('Back', 'Back to previous …"
      ]
     },
     "metadata": {},
     "output_type": "display_data"
    }
   ],
   "source": [
    "plot_t_tp1(anx_graph_t0m1.nodes,anx_graph_t0.nodes,apos_t0m1,apos_t0,skeleton1,imtab1)"
   ]
  },
  {
   "cell_type": "code",
   "execution_count": 11,
   "metadata": {},
   "outputs": [],
   "source": [
    "distance = [np.linalg.norm(np.array(apos_t0m1[tip])-np.array(apos_t0[tip]))*1.725/(4*3600) for tip in list_tips]"
   ]
  },
  {
   "cell_type": "code",
   "execution_count": 12,
   "metadata": {},
   "outputs": [
    {
     "data": {
      "application/vnd.jupyter.widget-view+json": {
       "model_id": "dd4e52ec1cab47c5a5bad088f6ca37af",
       "version_major": 2,
       "version_minor": 0
      },
      "text/plain": [
       "Canvas(toolbar=Toolbar(toolitems=[('Home', 'Reset original view', 'home', 'home'), ('Back', 'Back to previous …"
      ]
     },
     "metadata": {},
     "output_type": "display_data"
    }
   ],
   "source": [
    "fig = plt.figure()\n",
    "ax = fig.add_subplot(111)\n",
    "ax.hist(distance)\n",
    "plt.show()"
   ]
  },
  {
   "cell_type": "code",
   "execution_count": null,
   "metadata": {},
   "outputs": [],
   "source": [
    "plot_t_tp1(list_tips2,list_tips2,apos_t0,apos_t0p1,imtab2,imtab3)"
   ]
  },
  {
   "cell_type": "code",
   "execution_count": 3,
   "metadata": {},
   "outputs": [],
   "source": [
    "date1='0709_1557'\n",
    "date2='0705_1557'\n",
    "date3='0705_1957'\n"
   ]
  },
  {
   "cell_type": "code",
   "execution_count": 4,
   "metadata": {},
   "outputs": [
    {
     "data": {
      "text/plain": [
       "'//sun.amolf.nl/shimizu-data/home-folder/oyartegalvez/Drive_AMFtopology/PRINCE/20200709_1557_Plate13/Analysis/Skeleton.mat'"
      ]
     },
     "execution_count": 4,
     "metadata": {},
     "output_type": "execute_result"
    }
   ],
   "source": [
    "get_path(date1,plate,True)"
   ]
  },
  {
   "cell_type": "code",
   "execution_count": 5,
   "metadata": {},
   "outputs": [],
   "source": [
    "mat_skel=read_mat(get_path(date1,plate,True))['skel']"
   ]
  },
  {
   "cell_type": "code",
   "execution_count": 6,
   "metadata": {},
   "outputs": [],
   "source": [
    "from extract_graph import dic_to_sparse, from_sparse_to_graph, generate_nx_graph, prune_graph\n"
   ]
  },
  {
   "cell_type": "code",
   "execution_count": 7,
   "metadata": {},
   "outputs": [],
   "source": [
    "dic_skel=dic_to_sparse(mat_skel)"
   ]
  },
  {
   "cell_type": "code",
   "execution_count": 10,
   "metadata": {},
   "outputs": [],
   "source": [
    "skeleton_doc1=sparse.dok_matrix(dic_skel)"
   ]
  },
  {
   "cell_type": "code",
   "execution_count": 9,
   "metadata": {},
   "outputs": [
    {
     "ename": "NameError",
     "evalue": "name 'skeleton_doc' is not defined",
     "output_type": "error",
     "traceback": [
      "\u001b[1;31m---------------------------------------------------------------------------\u001b[0m",
      "\u001b[1;31mNameError\u001b[0m                                 Traceback (most recent call last)",
      "\u001b[1;32m<ipython-input-9-cd0984c3bdcf>\u001b[0m in \u001b[0;36m<module>\u001b[1;34m\u001b[0m\n\u001b[1;32m----> 1\u001b[1;33m \u001b[0mskeleton_doc\u001b[0m\u001b[1;33m.\u001b[0m\u001b[0mshape\u001b[0m\u001b[1;33m\u001b[0m\u001b[1;33m\u001b[0m\u001b[0m\n\u001b[0m",
      "\u001b[1;31mNameError\u001b[0m: name 'skeleton_doc' is not defined"
     ]
    }
   ],
   "source": [
    "skeleton_doc.shape"
   ]
  },
  {
   "cell_type": "code",
   "execution_count": 73,
   "metadata": {},
   "outputs": [
    {
     "ename": "IndexError",
     "evalue": "row index (30) out of range",
     "output_type": "error",
     "traceback": [
      "\u001b[1;31m---------------------------------------------------------------------------\u001b[0m",
      "\u001b[1;31mIndexError\u001b[0m                                Traceback (most recent call last)",
      "\u001b[1;32m<ipython-input-73-62fe49c65507>\u001b[0m in \u001b[0;36m<module>\u001b[1;34m\u001b[0m\n\u001b[1;32m----> 1\u001b[1;33m \u001b[0mskeleton_doc_small\u001b[0m\u001b[1;33m[\u001b[0m\u001b[1;36m500\u001b[0m\u001b[1;33m]\u001b[0m\u001b[1;33m[\u001b[0m\u001b[1;36m30\u001b[0m\u001b[1;33m]\u001b[0m\u001b[1;33m\u001b[0m\u001b[1;33m\u001b[0m\u001b[0m\n\u001b[0m",
      "\u001b[1;32m~\\anaconda3\\envs\\cleanMsc\\lib\\site-packages\\scipy\\sparse\\_index.py\u001b[0m in \u001b[0;36m__getitem__\u001b[1;34m(self, key)\u001b[0m\n\u001b[0;32m     31\u001b[0m     \"\"\"\n\u001b[0;32m     32\u001b[0m     \u001b[1;32mdef\u001b[0m \u001b[0m__getitem__\u001b[0m\u001b[1;33m(\u001b[0m\u001b[0mself\u001b[0m\u001b[1;33m,\u001b[0m \u001b[0mkey\u001b[0m\u001b[1;33m)\u001b[0m\u001b[1;33m:\u001b[0m\u001b[1;33m\u001b[0m\u001b[1;33m\u001b[0m\u001b[0m\n\u001b[1;32m---> 33\u001b[1;33m         \u001b[0mrow\u001b[0m\u001b[1;33m,\u001b[0m \u001b[0mcol\u001b[0m \u001b[1;33m=\u001b[0m \u001b[0mself\u001b[0m\u001b[1;33m.\u001b[0m\u001b[0m_validate_indices\u001b[0m\u001b[1;33m(\u001b[0m\u001b[0mkey\u001b[0m\u001b[1;33m)\u001b[0m\u001b[1;33m\u001b[0m\u001b[1;33m\u001b[0m\u001b[0m\n\u001b[0m\u001b[0;32m     34\u001b[0m         \u001b[1;31m# Dispatch to specialized methods.\u001b[0m\u001b[1;33m\u001b[0m\u001b[1;33m\u001b[0m\u001b[1;33m\u001b[0m\u001b[0m\n\u001b[0;32m     35\u001b[0m         \u001b[1;32mif\u001b[0m \u001b[0misinstance\u001b[0m\u001b[1;33m(\u001b[0m\u001b[0mrow\u001b[0m\u001b[1;33m,\u001b[0m \u001b[0mINT_TYPES\u001b[0m\u001b[1;33m)\u001b[0m\u001b[1;33m:\u001b[0m\u001b[1;33m\u001b[0m\u001b[1;33m\u001b[0m\u001b[0m\n",
      "\u001b[1;32m~\\anaconda3\\envs\\cleanMsc\\lib\\site-packages\\scipy\\sparse\\_index.py\u001b[0m in \u001b[0;36m_validate_indices\u001b[1;34m(self, key)\u001b[0m\n\u001b[0;32m    131\u001b[0m             \u001b[0mrow\u001b[0m \u001b[1;33m=\u001b[0m \u001b[0mint\u001b[0m\u001b[1;33m(\u001b[0m\u001b[0mrow\u001b[0m\u001b[1;33m)\u001b[0m\u001b[1;33m\u001b[0m\u001b[1;33m\u001b[0m\u001b[0m\n\u001b[0;32m    132\u001b[0m             \u001b[1;32mif\u001b[0m \u001b[0mrow\u001b[0m \u001b[1;33m<\u001b[0m \u001b[1;33m-\u001b[0m\u001b[0mM\u001b[0m \u001b[1;32mor\u001b[0m \u001b[0mrow\u001b[0m \u001b[1;33m>=\u001b[0m \u001b[0mM\u001b[0m\u001b[1;33m:\u001b[0m\u001b[1;33m\u001b[0m\u001b[1;33m\u001b[0m\u001b[0m\n\u001b[1;32m--> 133\u001b[1;33m                 \u001b[1;32mraise\u001b[0m \u001b[0mIndexError\u001b[0m\u001b[1;33m(\u001b[0m\u001b[1;34m'row index (%d) out of range'\u001b[0m \u001b[1;33m%\u001b[0m \u001b[0mrow\u001b[0m\u001b[1;33m)\u001b[0m\u001b[1;33m\u001b[0m\u001b[1;33m\u001b[0m\u001b[0m\n\u001b[0m\u001b[0;32m    134\u001b[0m             \u001b[1;32mif\u001b[0m \u001b[0mrow\u001b[0m \u001b[1;33m<\u001b[0m \u001b[1;36m0\u001b[0m\u001b[1;33m:\u001b[0m\u001b[1;33m\u001b[0m\u001b[1;33m\u001b[0m\u001b[0m\n\u001b[0;32m    135\u001b[0m                 \u001b[0mrow\u001b[0m \u001b[1;33m+=\u001b[0m \u001b[0mM\u001b[0m\u001b[1;33m\u001b[0m\u001b[1;33m\u001b[0m\u001b[0m\n",
      "\u001b[1;31mIndexError\u001b[0m: row index (30) out of range"
     ]
    }
   ],
   "source": [
    "skeleton_doc_small[500]"
   ]
  },
  {
   "cell_type": "code",
   "execution_count": 59,
   "metadata": {},
   "outputs": [],
   "source": [
    "skeleton_doc_small=skeleton_doc1[15000:20000,15000:20000]\n",
    "\n",
    "# graph_tab_small=from_sparse_to_graph(skeleton_doc_small)\n",
    "# nx_graph_small,pos_small=generate_nx_graph(graph_tab_small)"
   ]
  },
  {
   "cell_type": "code",
   "execution_count": 63,
   "metadata": {},
   "outputs": [],
   "source": [
    "def dilate(sparse_matrix_doc):\n",
    "    dilated = sparse.dok_matrix(sparse_matrix_doc.shape, dtype=bool)\n",
    "    for pos in sparse_matrix_doc.keys():\n",
    "        positions=[pos,(pos[0],pos[1]+1),(pos[0],pos[1]-1),(pos[0]-1,pos[1]-1),(pos[0]+1,pos[1]-1),(pos[0]+1,pos[1]+1),(pos[0]-1,pos[1]+1),(pos[0]-1,pos[1]),(pos[0]+1,pos[1])]\n",
    "        for position in positions:\n",
    "            if position[0]<sparse_matrix_doc.shape[0] and position[1]<sparse_matrix_doc.shape[1] and position[0]>=0 and position[0]>=0:\n",
    "                dilated[position]=1\n",
    "    return(dilated)\n",
    "\n",
    "\n",
    "def zeroToOne(thin_image,i,j):\n",
    "    p2 = thin_image[i-1,j-1]\n",
    "    p3 = thin_image[i-1,j]\n",
    "    p4 = thin_image[i-1,j+1]\n",
    "    p5 = thin_image[i,j+1]\n",
    "    p6 = thin_image[i+1,j+1]\n",
    "    p7 = thin_image[i+1,j]\n",
    "    p8 = thin_image[i+1,j-1]\n",
    "    p9 = thin_image[i,j-1]\n",
    "    count = 0;\n",
    "    endpoint = 0;\n",
    "    if(p2+p3+p4+p5+p6+p7+p8+p9 == 1):\n",
    "        endpoint = 1\n",
    "    if(p2==0 and p3==1):\n",
    "        count = count + 1\n",
    "    if(p3==0 and p4==1):\n",
    "        count = count + 1\n",
    "    if(p4==0 and p5==1):\n",
    "        count = count + 1\n",
    "    if(p5==0 and p6==1):\n",
    "        count = count + 1\n",
    "    if(p6==0 and p7==1):\n",
    "        count = count + 1\n",
    "    if(p7==0 and p8==1):\n",
    "        count = count + 1\n",
    "    if(p8==0 and p9==1):\n",
    "        count = count + 1\n",
    "    if(p9==0 and p2==1):\n",
    "        count = count + 1\n",
    "    return count,endpoint\n",
    "\n",
    "\n",
    "\n",
    "\n",
    "def stentiford(image):\n",
    "    # Make copy of the image so that original image is not lost\n",
    "    thin_image=sparse.dok_matrix((image.shape[0]+2,image.shape[1]+2), dtype=bool)\n",
    "    thin_image[1:image.shape[0]+1,1:image.shape[1]+1]=image.copy()\n",
    "    check = 2\n",
    "    template = 1\n",
    "    outImage = 1\n",
    "    # Perform iterations as long as there are pixels marked for deletion\n",
    "    iteration = 0\n",
    "    total_changes = 0\n",
    "    while(outImage):\n",
    "        # Make outImage empty\n",
    "        outImage = []\n",
    "        changes = 0\n",
    "        iteration = iteration + 1 \n",
    "        # Loop through the pixels of the thin_image\n",
    "        for pos in thin_image.keys():\n",
    "            i=pos[0]\n",
    "            j=pos[1]\n",
    "            p0 = thin_image[i,j]\n",
    "            p1 = thin_image[i-1,j]\n",
    "            p2 = thin_image[i,j+1]\n",
    "            p3 = thin_image[i+1,j]\n",
    "            p4 = thin_image[i,j-1]\n",
    "            if(template==1):\n",
    "                template_match = (p1==0 and p3==1)\n",
    "            if(template==2):\n",
    "                template_match = (p2==1 and p4==0)\n",
    "            if(template==3):\n",
    "                template_match = (p1==1 and p3==0)\n",
    "            if(template==4):\n",
    "                template_match = (p2==0 and p4==1)\n",
    "            connectivity, isEndpoint = zeroToOne(thin_image,i,j)\n",
    "            if(template_match==1):\n",
    "                if(connectivity == 1):\n",
    "                    if(isEndpoint== 0):\n",
    "                        outImage.append((i,j))\n",
    "\n",
    "\n",
    "        # Delete the pixels marked for deletion\n",
    "        for i,j in outImage:\n",
    "            thin_image[i,j] = 0\n",
    "            changes = changes + 1\n",
    "        template = template+1\n",
    "        if(template==5):\n",
    "            template = 1\n",
    "        print(\"iteration: \", iteration, \"changes: \", changes)\n",
    "        total_changes = total_changes + changes\n",
    "\n",
    "    print(\"total_changes: \", total_changes)\n",
    "    return thin_image\n",
    "\n",
    "def hilditch(image):\n",
    "    Image_Thinned=sparse.dok_matrix((image.shape[0]+2,image.shape[1]+2), dtype=bool)\n",
    "    Image_Thinned[1:image.shape[0]+1,1:image.shape[1]+1]=image.copy()\n",
    "    changing1 = 1\n",
    "    i = 0\n",
    "    while changing1:\n",
    "        changes_occured = 0\n",
    "        changing1 = []\n",
    "        for pos in  Image_Thinned.keys():\n",
    "            x=pos[0]\n",
    "            y=pos[1]\n",
    "            P2,P3,P4,P5,P6,P7,P8,P9 = n = neighbours(x, y, Image_Thinned)\n",
    "            condition3 = (P4 * P6 * P8 == 0) or (zeroToOne(Image_Thinned,x-1,y-1)!=1)#p2\n",
    "            condition4 = (P4 * P6 * P6 == 0) or (zeroToOne(Image_Thinned,x-1,y+1)!=1)#p4\n",
    "            if (Image_Thinned[x,y] == 1 and 2 <= sum(n) <= 6 and transitions(n) == 1 and condition3 ==1 and condition4==1):\n",
    "                    changing1.append((x,y))\n",
    "        for x, y in changing1: \n",
    "            Image_Thinned[x,y] = 0\n",
    "            changes_occured = changes_occured + 1\n",
    "\n",
    "        i = i + 1\n",
    "        print(\"Iteration: \", i , \"changes_occured: \", changes_occured)\n",
    "    return Image_Thinned\n",
    "\n",
    "\n",
    "def neighbours(x,y,image):\n",
    "    \"Return 8-neighbours of image point P1(x,y), in a clockwise order\"\n",
    "    img = image\n",
    "    x_1, y_1, x1, y1 = x-1, y-1, x+1, y+1\n",
    "    return [ img[x_1,y], img[x_1,y1], img[x,y1], img[x1,y1],     # P2,P3,P4,P5\n",
    "                img[x1,y], img[x1,y_1], img[x,y_1], img[x_1,y_1] ]    # P6,P7,P8,P9\n",
    "\n",
    "def transitions(neighbours):\n",
    "    \"No. of 0,1 patterns (transitions from 0 to 1) in the ordered sequence\"\n",
    "    n = neighbours + neighbours[0:1]      # P2, P3, ... , P8, P9, P2\n",
    "    return sum( (n1, n2) == (0, 1) for n1, n2 in zip(n, n[1:]) )  # (P2,P3), (P3,P4), ... , (P8,P9), (P9,P2)\n",
    "\n",
    "def zhangSuen(image):\n",
    "    def neighbours(x,y,image):\n",
    "        \"Return 8-neighbours of image point P1(x,y), in a clockwise order\"\n",
    "        img = image\n",
    "        x_1, y_1, x1, y1 = x-1, y-1, x+1, y+1\n",
    "        return [ img[x_1,y], img[x_1,y1], img[x,y1], img[x1,y1],     # P2,P3,P4,P5\n",
    "                    img[x1,y], img[x1,y_1], img[x,y_1], img[x_1,y_1] ]    # P6,P7,P8,P9\n",
    "\n",
    "    def transitions(neighbours):\n",
    "        \"No. of 0,1 patterns (transitions from 0 to 1) in the ordered sequence\"\n",
    "        n = neighbours + neighbours[0:1]      # P2, P3, ... , P8, P9, P2\n",
    "        return sum( (n1, n2) == (0, 1) for n1, n2 in zip(n, n[1:]) )  # (P2,P3), (P3,P4), ... , (P8,P9), (P9,P2)\n",
    "    \"the Zhang-Suen Thinning Algorithm\"\n",
    "    Image_Thinned=sparse.dok_matrix((image.shape[0]+2,image.shape[1]+2), dtype=bool)\n",
    "    for pos in  image.keys():\n",
    "        Image_Thinned[pos[0]+1,pos[1]+1]=image[pos[0],pos[1]]\n",
    "    changing1 = changing2 = 1        #  the points to be removed (set as 0)\n",
    "    while changing1 or changing2:   #  iterates until no further changes occur in the image\n",
    "        # Step 1\n",
    "        changing1 = []\n",
    "        for pos in  Image_Thinned.keys():\n",
    "            x=pos[0]\n",
    "            y=pos[1]\n",
    "            P2,P3,P4,P5,P6,P7,P8,P9 = n = neighbours(x, y, Image_Thinned)\n",
    "            if (Image_Thinned[x,y] == 1     and    # Condition 0: Point P1 in the object regions \n",
    "                2 <= sum(n) <= 6   and    # Condition 1: 2<= N(P1) <= 6\n",
    "                transitions(n) == 1 and    # Condition 2: S(P1)=1  \n",
    "                P2 * P4 * P6 == 0  and    # Condition 3   \n",
    "                P4 * P6 * P8 == 0):         # Condition 4\n",
    "                changing1.append((x,y))\n",
    "        for x, y in changing1: \n",
    "            Image_Thinned[x,y] = 0\n",
    "        # Step 2\n",
    "        changing2 = []\n",
    "        for pos in  Image_Thinned.keys():\n",
    "            x=pos[0]\n",
    "            y=pos[1]\n",
    "            P2,P3,P4,P5,P6,P7,P8,P9 = n = neighbours(x, y, Image_Thinned)\n",
    "            if (Image_Thinned[x,y] == 1   and        # Condition 0\n",
    "                2 <= sum(n) <= 6  and       # Condition 1\n",
    "                transitions(n) == 1 and      # Condition 2\n",
    "                P2 * P4 * P8 == 0 and       # Condition 3\n",
    "                P2 * P6 * P8 == 0):            # Condition 4\n",
    "                changing2.append((x,y))    \n",
    "        for x, y in changing2: \n",
    "            Image_Thinned[x,y] = 0\n",
    "        print(len(changing1),len(changing2))\n",
    "    return Image_Thinned"
   ]
  },
  {
   "cell_type": "code",
   "execution_count": 60,
   "metadata": {},
   "outputs": [],
   "source": [
    "skeleton_doc_1_dilated=dilate(skeleton_doc_small)"
   ]
  },
  {
   "cell_type": "code",
   "execution_count": 62,
   "metadata": {},
   "outputs": [
    {
     "name": "stdout",
     "output_type": "stream",
     "text": [
      "         28916650 function calls in 21.188 seconds\n",
      "\n",
      "   Ordered by: standard name\n",
      "\n",
      "   ncalls  tottime  percall  cumtime  percall filename:lineno(function)\n",
      "  1204852    0.728    0.000    5.154    0.000 <__array_function__ internals>:2(ndim)\n",
      "   602424    0.197    0.000    0.876    0.000 <frozen importlib._bootstrap>:1009(_handle_fromlist)\n",
      "   602424    0.362    0.000    0.533    0.000 <frozen importlib._bootstrap>:416(parent)\n",
      "        1    1.198    1.198   21.167   21.167 <ipython-input-38-23a69b96267b>:1(dilate)\n",
      "        1    0.021    0.021   21.188   21.188 <string>:1(<module>)\n",
      "  1807276    0.519    0.000    2.630    0.000 _asarray.py:14(asarray)\n",
      "   602424    1.518    0.000   16.445    0.000 _index.py:126(_validate_indices)\n",
      "   602424    2.715    0.000    8.384    0.000 _index.py:245(_unpack_index)\n",
      "   602424    0.774    0.000    0.832    0.000 _index.py:291(_check_ellipsis)\n",
      "  1204848    1.086    0.000    1.757    0.000 _index.py:339(_first_element_bool)\n",
      "  1204848    0.699    0.000    2.618    0.000 _index.py:354(_compatible_boolean_index)\n",
      "   602424    1.696    0.000   19.785    0.000 _index.py:75(__setitem__)\n",
      "  1204848    0.323    0.000    0.505    0.000 base.py:1188(isspmatrix)\n",
      "        1    0.000    0.000    0.000    0.000 base.py:66(__init__)\n",
      "  1807522    0.266    0.000    0.266    0.000 base.py:80(get_shape)\n",
      "   602424    0.668    0.000    0.668    0.000 dok.py:225(_set_intXint)\n",
      "        1    0.000    0.000    0.000    0.000 dok.py:74(__init__)\n",
      "  1204852    0.145    0.000    0.145    0.000 fromnumeric.py:3071(_ndim_dispatcher)\n",
      "  1204852    2.012    0.000    3.804    0.000 fromnumeric.py:3075(ndim)\n",
      "  1204850    1.167    0.000    6.463    0.000 sputils.py:186(isintlike)\n",
      "        1    0.000    0.000    0.000    0.000 sputils.py:208(isshape)\n",
      "        1    0.000    0.000    0.000    0.000 sputils.py:265(check_shape)\n",
      "        3    0.000    0.000    0.000    0.000 sputils.py:278(<genexpr>)\n",
      "        1    0.000    0.000    0.000    0.000 sputils.py:95(getdtype)\n",
      "  1204852    0.142    0.000    0.142    0.000 {built-in method _operator.index}\n",
      "        1    0.000    0.000   21.188   21.188 {built-in method builtins.exec}\n",
      "  1807272    0.841    0.000    0.841    0.000 {built-in method builtins.hasattr}\n",
      "  4216969    0.619    0.000    0.619    0.000 {built-in method builtins.isinstance}\n",
      "  1204848    0.671    0.000    0.671    0.000 {built-in method builtins.iter}\n",
      "   602428    0.065    0.000    0.065    0.000 {built-in method builtins.len}\n",
      "  1807276    2.111    0.000    2.111    0.000 {built-in method numpy.array}\n",
      "  1204852    0.477    0.000    4.281    0.000 {built-in method numpy.core._multiarray_umath.implement_array_function}\n",
      "        1    0.000    0.000    0.000    0.000 {method 'disable' of '_lsprof.Profiler' objects}\n",
      "        1    0.000    0.000    0.000    0.000 {method 'keys' of 'dict' objects}\n",
      "   602424    0.171    0.000    0.171    0.000 {method 'rpartition' of 'str' objects}\n",
      "\n",
      "\n"
     ]
    }
   ],
   "source": [
    "cProfile.run('dilate(skeleton_doc_small)')"
   ]
  },
  {
   "cell_type": "code",
   "execution_count": 64,
   "metadata": {},
   "outputs": [
    {
     "name": "stdout",
     "output_type": "stream",
     "text": [
      "94923 94503\n",
      "12661 36\n",
      "11 0\n",
      "0 0\n",
      "         392978448 function calls in 327.674 seconds\n",
      "\n",
      "   Ordered by: standard name\n",
      "\n",
      "   ncalls  tottime  percall  cumtime  percall filename:lineno(function)\n",
      " 17003766   10.259    0.000   72.536    0.000 <__array_function__ internals>:2(ndim)\n",
      "  8501881    2.824    0.000   12.293    0.000 <frozen importlib._bootstrap>:1009(_handle_fromlist)\n",
      "  8501881    4.971    0.000    7.443    0.000 <frozen importlib._bootstrap>:416(parent)\n",
      "        1   11.807   11.807  327.657  327.657 <ipython-input-63-112c7a9696c7>:134(zhangSuen)\n",
      "   862271    3.653    0.000  216.853    0.000 <ipython-input-63-112c7a9696c7>:135(neighbours)\n",
      "   708445    1.685    0.000   22.571    0.000 <ipython-input-63-112c7a9696c7>:142(transitions)\n",
      "  6376005   19.271    0.000   19.271    0.000 <ipython-input-63-112c7a9696c7>:145(<genexpr>)\n",
      "        1    0.017    0.017  327.674  327.674 <string>:1(<module>)\n",
      " 17475554    5.247    0.000   26.061    0.000 _asarray.py:14(asarray)\n",
      "  8501881   21.449    0.000  232.172    0.000 _index.py:126(_validate_indices)\n",
      "  8501881   38.590    0.000  118.328    0.000 _index.py:245(_unpack_index)\n",
      "  8501881   10.735    0.000   11.527    0.000 _index.py:291(_check_ellipsis)\n",
      "  8030093   11.914    0.000  248.020    0.000 _index.py:32(__getitem__)\n",
      " 17003762   15.385    0.000   24.942    0.000 _index.py:339(_first_element_bool)\n",
      " 17003762    9.806    0.000   37.038    0.000 _index.py:354(_compatible_boolean_index)\n",
      "   471788    1.378    0.000   15.695    0.000 _index.py:75(__setitem__)\n",
      " 17003762    4.510    0.000    7.081    0.000 base.py:1188(isspmatrix)\n",
      "        1    0.000    0.000    0.000    0.000 base.py:66(__init__)\n",
      "  8501883    1.497    0.000    1.497    0.000 base.py:80(get_shape)\n",
      "  8030093   10.722    0.000   14.947    0.000 dok.py:156(_get_intXint)\n",
      "   471788    0.529    0.000    0.639    0.000 dok.py:225(_set_intXint)\n",
      "        1    0.000    0.000    0.000    0.000 dok.py:74(__init__)\n",
      " 17003766    2.043    0.000    2.043    0.000 fromnumeric.py:3071(_ndim_dispatcher)\n",
      " 17003766   28.178    0.000   53.542    0.000 fromnumeric.py:3075(ndim)\n",
      "       20    0.000    0.000    0.002    0.000 iostream.py:197(schedule)\n",
      "       16    0.000    0.000    0.000    0.000 iostream.py:310(_is_master_process)\n",
      "       16    0.000    0.000    0.000    0.000 iostream.py:323(_schedule_flush)\n",
      "       16    0.000    0.000    0.002    0.000 iostream.py:386(write)\n",
      "       20    0.000    0.000    0.000    0.000 iostream.py:93(_event_pipe)\n",
      "       20    0.002    0.000    0.002    0.000 socket.py:357(send)\n",
      " 17003764   16.339    0.000   90.898    0.000 sputils.py:186(isintlike)\n",
      "        1    0.000    0.000    0.000    0.000 sputils.py:208(isshape)\n",
      "        1    0.000    0.000    0.000    0.000 sputils.py:265(check_shape)\n",
      "        3    0.000    0.000    0.000    0.000 sputils.py:278(<genexpr>)\n",
      "        1    0.000    0.000    0.000    0.000 sputils.py:95(getdtype)\n",
      "       20    0.000    0.000    0.000    0.000 threading.py:1050(_wait_for_tstate_lock)\n",
      "       20    0.000    0.000    0.000    0.000 threading.py:1092(is_alive)\n",
      "       20    0.000    0.000    0.000    0.000 threading.py:507(is_set)\n",
      " 17003766    2.022    0.000    2.022    0.000 {built-in method _operator.index}\n",
      "        1    0.000    0.000  327.674  327.674 {built-in method builtins.exec}\n",
      " 25505643   11.759    0.000   11.759    0.000 {built-in method builtins.hasattr}\n",
      " 59513184    8.746    0.000    8.746    0.000 {built-in method builtins.isinstance}\n",
      " 17003762    9.557    0.000    9.557    0.000 {built-in method builtins.iter}\n",
      "  8501893    0.940    0.000    0.940    0.000 {built-in method builtins.len}\n",
      "        4    0.000    0.000    0.002    0.000 {built-in method builtins.print}\n",
      "  1570716   27.471    0.000   46.741    0.000 {built-in method builtins.sum}\n",
      "       16    0.000    0.000    0.000    0.000 {built-in method nt.getpid}\n",
      " 17475554   20.815    0.000   20.815    0.000 {built-in method numpy.array}\n",
      " 17003766    6.692    0.000   60.234    0.000 {built-in method numpy.core._multiarray_umath.implement_array_function}\n",
      "  8030093    4.225    0.000    4.225    0.000 {function dok_matrix.get at 0x00000126D696E828}\n",
      "   202134    0.110    0.000    0.110    0.000 {method '__contains__' of 'dict' objects}\n",
      "       20    0.000    0.000    0.000    0.000 {method 'acquire' of '_thread.lock' objects}\n",
      "       20    0.000    0.000    0.000    0.000 {method 'append' of 'collections.deque' objects}\n",
      "   202134    0.054    0.000    0.054    0.000 {method 'append' of 'list' objects}\n",
      "        1    0.000    0.000    0.000    0.000 {method 'disable' of '_lsprof.Profiler' objects}\n",
      "        9    0.000    0.000    0.000    0.000 {method 'keys' of 'dict' objects}\n",
      "  8501881    2.472    0.000    2.472    0.000 {method 'rpartition' of 'str' objects}\n",
      "\n",
      "\n"
     ]
    }
   ],
   "source": [
    "import cProfile\n",
    "cProfile.run('zhangSuen(skeleton_doc_1_dilated)')"
   ]
  },
  {
   "cell_type": "code",
   "execution_count": 39,
   "metadata": {},
   "outputs": [
    {
     "name": "stdout",
     "output_type": "stream",
     "text": [
      "1989028 1982302\n",
      "253320 872\n",
      "245 14\n",
      "3 4\n",
      "1 1\n",
      "0 0\n"
     ]
    }
   ],
   "source": [
    "skeleton_doc_1_thinned=zhangSuen(skeleton_doc_1_dilated)"
   ]
  },
  {
   "cell_type": "code",
   "execution_count": 40,
   "metadata": {},
   "outputs": [],
   "source": [
    "from extract_graph import from_sparse_to_graph, generate_nx_graph\n",
    "graph_tab_1_reconnected=from_sparse_to_graph(skeleton_doc_1_thinned)\n",
    "nx_graph_1,pos_1=generate_nx_graph(graph_tab_1_reconnected)"
   ]
  },
  {
   "cell_type": "code",
   "execution_count": 41,
   "metadata": {},
   "outputs": [],
   "source": [
    "connected_small=list(nx.connected_components(nx_graph_1))"
   ]
  },
  {
   "cell_type": "code",
   "execution_count": 51,
   "metadata": {},
   "outputs": [],
   "source": [
    "len_connected = [len(connected) for connected in connected_small]"
   ]
  },
  {
   "cell_type": "code",
   "execution_count": 48,
   "metadata": {},
   "outputs": [],
   "source": [
    "nx_graph_clean=prune_graph(nx_graph_1)"
   ]
  },
  {
   "cell_type": "code",
   "execution_count": 57,
   "metadata": {},
   "outputs": [],
   "source": [
    "from extract_graph import generate_skeleton\n",
    "skel_clean=generate_skeleton(nx_graph_clean,dim=skeleton_doc_1_thinned.shape)"
   ]
  },
  {
   "cell_type": "code",
   "execution_count": 58,
   "metadata": {},
   "outputs": [],
   "source": [
    "from extract_graph import from_sparse_to_graph\n",
    "panda_graph = from_sparse_to_graph(skel_clean)"
   ]
  },
  {
   "cell_type": "code",
   "execution_count": null,
   "metadata": {},
   "outputs": [],
   "source": []
  },
  {
   "cell_type": "code",
   "execution_count": 56,
   "metadata": {},
   "outputs": [
    {
     "data": {
      "text/plain": [
       "(20687, 45556)"
      ]
     },
     "execution_count": 56,
     "metadata": {},
     "output_type": "execute_result"
    }
   ],
   "source": [
    "skeleton_doc_1_thinned.shape"
   ]
  },
  {
   "cell_type": "code",
   "execution_count": 54,
   "metadata": {},
   "outputs": [
    {
     "data": {
      "text/plain": [
       "array([12603, 11744])"
      ]
     },
     "execution_count": 54,
     "metadata": {},
     "output_type": "execute_result"
    }
   ],
   "source": [
    "pos_1[2854]"
   ]
  },
  {
   "cell_type": "code",
   "execution_count": 52,
   "metadata": {},
   "outputs": [
    {
     "data": {
      "text/plain": [
       "[6673, 4, 4, 4, 4, 118, 6, 8, 4, 10, 4, 4, 6]"
      ]
     },
     "execution_count": 52,
     "metadata": {},
     "output_type": "execute_result"
    }
   ],
   "source": [
    "len_connected"
   ]
  },
  {
   "cell_type": "code",
   "execution_count": 46,
   "metadata": {},
   "outputs": [
    {
     "data": {
      "application/vnd.jupyter.widget-view+json": {
       "model_id": "25b2c58a74cb46a295d9d98f1e65ad16",
       "version_major": 2,
       "version_minor": 0
      },
      "text/plain": [
       "Canvas(toolbar=Toolbar(toolitems=[('Home', 'Reset original view', 'home', 'home'), ('Back', 'Back to previous …"
      ]
     },
     "metadata": {},
     "output_type": "display_data"
    }
   ],
   "source": [
    "fig = plt.figure()\n",
    "ax = fig.add_subplot(111)\n",
    "ax.hist(len_connected)\n",
    "plt.show()"
   ]
  },
  {
   "cell_type": "code",
   "execution_count": 33,
   "metadata": {},
   "outputs": [
    {
     "data": {
      "application/vnd.jupyter.widget-view+json": {
       "model_id": "cab5fe18f3b249a79b9a89b55a26a6b0",
       "version_major": 2,
       "version_minor": 0
      },
      "text/plain": [
       "Canvas(toolbar=Toolbar(toolitems=[('Home', 'Reset original view', 'home', 'home'), ('Back', 'Back to previous …"
      ]
     },
     "metadata": {},
     "output_type": "display_data"
    }
   ],
   "source": [
    "plot_nodes_from_list(list(connected_small[11]),pos_1,skeleton_doc_1_thinned.todense())"
   ]
  },
  {
   "cell_type": "code",
   "execution_count": 38,
   "metadata": {},
   "outputs": [],
   "source": [
    "connected_small=list(nx.connected_components(nx_graph_small.todense()))"
   ]
  },
  {
   "cell_type": "code",
   "execution_count": 39,
   "metadata": {},
   "outputs": [
    {
     "data": {
      "text/plain": [
       "642"
      ]
     },
     "execution_count": 39,
     "metadata": {},
     "output_type": "execute_result"
    }
   ],
   "source": [
    "len(connected_small)"
   ]
  },
  {
   "cell_type": "code",
   "execution_count": 40,
   "metadata": {},
   "outputs": [
    {
     "data": {
      "text/plain": [
       "<5000x5000 sparse matrix of type '<class 'numpy.float64'>'\n",
       "\twith 66952 stored elements in Dictionary Of Keys format>"
      ]
     },
     "execution_count": 40,
     "metadata": {},
     "output_type": "execute_result"
    }
   ],
   "source": [
    "skeleton_doc_small"
   ]
  },
  {
   "cell_type": "code",
   "execution_count": 43,
   "metadata": {},
   "outputs": [
    {
     "data": {
      "text/plain": [
       "[160, 123]"
      ]
     },
     "execution_count": 43,
     "metadata": {},
     "output_type": "execute_result"
    }
   ],
   "source": [
    "list(connected_small[1])"
   ]
  },
  {
   "cell_type": "code",
   "execution_count": 35,
   "metadata": {},
   "outputs": [
    {
     "data": {
      "text/plain": [
       "array([2240,  413])"
      ]
     },
     "execution_count": 35,
     "metadata": {},
     "output_type": "execute_result"
    }
   ],
   "source": [
    "pos_small[1306]"
   ]
  },
  {
   "cell_type": "code",
   "execution_count": null,
   "metadata": {},
   "outputs": [],
   "source": [
    "fig = plt.figure()\n",
    "ax = fig.add_subplot(111)\n",
    "ax.imshow(skeleton_doc_small.todense())\n",
    "plt.show()"
   ]
  },
  {
   "cell_type": "code",
   "execution_count": 11,
   "metadata": {},
   "outputs": [],
   "source": [
    "graph_tab=from_sparse_to_graph(skeleton_doc)"
   ]
  },
  {
   "cell_type": "code",
   "execution_count": null,
   "metadata": {},
   "outputs": [],
   "source": [
    "import cProfile\n",
    "cProfile.run('from_sparse_to_graph(skeleton_doc)')"
   ]
  },
  {
   "cell_type": "code",
   "execution_count": 23,
   "metadata": {},
   "outputs": [],
   "source": [
    "nx_graph,pos=generate_nx_graph(graph_tab)"
   ]
  },
  {
   "cell_type": "code",
   "execution_count": 13,
   "metadata": {},
   "outputs": [],
   "source": [
    "nx_graph=prune_graph(nx_graph)"
   ]
  },
  {
   "cell_type": "code",
   "execution_count": 24,
   "metadata": {},
   "outputs": [],
   "source": [
    "connected=list(nx.connected_components(nx_graph))"
   ]
  },
  {
   "cell_type": "code",
   "execution_count": 25,
   "metadata": {},
   "outputs": [
    {
     "data": {
      "text/plain": [
       "14100"
      ]
     },
     "execution_count": 25,
     "metadata": {},
     "output_type": "execute_result"
    }
   ],
   "source": [
    "len(connected)"
   ]
  },
  {
   "cell_type": "code",
   "execution_count": null,
   "metadata": {},
   "outputs": [],
   "source": [
    "for edge in nx_graph.subgraph(connected[329]).copy().edges.data('pixel_list'):\n",
    "    print(edge)"
   ]
  },
  {
   "cell_type": "code",
   "execution_count": null,
   "metadata": {},
   "outputs": [],
   "source": [
    "def zsAlgoIterationOne(image):\n",
    "    Image_Thinned=sparse.dok_matrix((image.shape[0]+2,image.shape[1]+2), dtype=bool)\n",
    "    Image_Thinned[1:image.shape[0]+1,1:image.shape[1]+1]=image.copy()\n",
    "    changing1 = changing2 = 1\n",
    "    i = 0\n",
    "    while changing1 or changing2:\n",
    "        changes_occured = 0\n",
    "        changing1 = []\n",
    "        for pos in Image_Thinned.keys():\n",
    "            x=pos[0]\n",
    "            y=pos[1]\n",
    "            P2,P3,P4,P5,P6,P7,P8,P9 = n = neighbours(x, y, Image_Thinned)\n",
    "            if (Image_Thinned[x,y] == 1 and 2 <= sum(n) <= 6 and transitions(n) == 1 and P2 * P4 * P6 == 0  and P4 * P6 * P8 == 0):\n",
    "                changing1.append((x,y))\n",
    "        for x, y in changing1: \n",
    "            Image_Thinned[x,y] = 0\n",
    "            changes_occured = changes_occured + 1\n",
    "        changing2 = []\n",
    "        for pos in Image_Thinned.keys():\n",
    "            x=pos[0]\n",
    "            y=pos[1]\n",
    "            P2,P3,P4,P5,P6,P7,P8,P9 = n = neighbours(x, y, Image_Thinned)\n",
    "            if (Image_Thinned[x,y] == 1 and 2 <= sum(n) <= 6 and transitions(n) == 1 and P2 * P4 * P8 == 0  and P2 * P6 * P8 == 0):\n",
    "                changing2.append((x,y))    \n",
    "        for x, y in changing2: \n",
    "            Image_Thinned[x,y] = 0\n",
    "            changes_occured = changes_occured + 1\n",
    "        i = i + 1\n",
    "        print(\"Iteration: \", i , \"changes_occured: \", changes_occured)\n",
    "    return Image_Thinned\n",
    "\n",
    "def neighbours(x,y,image):\n",
    "    img = image\n",
    "    x_1, y_1, x1, y1 = x-1, y-1, x+1, y+1\n",
    "    return [ img[x_1,y], img[x_1,y1], img[x,y1], img[x1,y1], img[x1,y], img[x,y_1], img[x,y_1], img[x_1,y_1] ]\n",
    "\n",
    "def transitions(neighbours):\n",
    "    n = neighbours + neighbours[0:1]\n",
    "    return sum( (n1, n2) == (0, 1) for n1, n2 in zip(n, n[1:]) )\n",
    "\n",
    "def foregroundPixels(image):\n",
    "    fgp = 0\n",
    "    row, col = image.shape\n",
    "    for pos in image.keys():\n",
    "        i=pos[0]\n",
    "        j=pos[1]\n",
    "        if(image[i][j]==1):\n",
    "            fgp = fgp + 1\n",
    "    return fgp\n",
    "\n",
    "from copy import copy"
   ]
  },
  {
   "cell_type": "code",
   "execution_count": 146,
   "metadata": {},
   "outputs": [
    {
     "name": "stdout",
     "output_type": "stream",
     "text": [
      "         14812846 function calls (14672662 primitive calls) in 235.492 seconds\n",
      "\n",
      "   Ordered by: standard name\n",
      "\n",
      "   ncalls  tottime  percall  cumtime  percall filename:lineno(function)\n",
      "   140184    0.097    0.000    0.274    0.000 <frozen importlib._bootstrap>:1009(_handle_fromlist)\n",
      "        1    0.025    0.025  235.492  235.492 <string>:1(<module>)\n",
      "        2    0.000    0.000    0.000    0.000 _asarray.py:14(asarray)\n",
      "    93456    0.042    0.000    0.042    0.000 _dtype.py:24(_kind_name)\n",
      "    93456    0.039    0.000    0.039    0.000 _dtype.py:307(_name_includes_bit_suffix)\n",
      "    93456    0.231    0.000    0.332    0.000 _dtype.py:321(_name_get)\n",
      "   140184    0.054    0.000    0.192    0.000 abc.py:137(__instancecheck__)\n",
      "        2    0.000    0.000    0.000    0.000 base.py:1032(__iter__)\n",
      "   186912    0.184    0.000    0.184    0.000 base.py:1751(is_floating)\n",
      "   186912    0.127    0.000    0.561    0.000 base.py:256(is_dtype)\n",
      "   186912    0.272    0.000    1.142    0.000 base.py:2847(get_loc)\n",
      "        6    0.000    0.000    0.000    0.000 base.py:3866(_values)\n",
      "   186912    0.171    0.000    0.231    0.000 base.py:413(find)\n",
      "   186912    0.311    0.000    0.810    0.000 base.py:4619(_get_values_for_loc)\n",
      "   186912    0.207    0.000    0.543    0.000 base.py:4972(_maybe_cast_indexer)\n",
      "    46728    0.032    0.000    0.037    0.000 base.py:5553(ensure_index)\n",
      "   140184    0.058    0.000    0.074    0.000 base.py:563(__len__)\n",
      "    46728    0.052    0.000    0.097    0.000 base.py:5650(maybe_extract_name)\n",
      "    46728    0.168    0.000    0.373    0.000 blocks.py:123(__init__)\n",
      "    46728    0.031    0.000    0.031    0.000 blocks.py:134(_check_ndim)\n",
      "   186912    0.069    0.000    0.069    0.000 blocks.py:200(internal_values)\n",
      "        2    0.000    0.000    0.000    0.000 blocks.py:212(get_values)\n",
      "    46728    0.013    0.000    0.013    0.000 blocks.py:232(mgr_locs)\n",
      "    46728    0.111    0.000    0.123    0.000 blocks.py:236(mgr_locs)\n",
      "    46728    0.099    0.000    0.476    0.000 blocks.py:2371(__init__)\n",
      "    46728    0.299    0.000    1.611    0.000 blocks.py:2652(get_block_type)\n",
      "    46728    0.161    0.000    2.306    0.000 blocks.py:2698(make_block)\n",
      "    46728    0.408    0.000    0.622    0.000 cast.py:1180(maybe_castable)\n",
      "    46728    0.246    0.000    0.959    0.000 cast.py:1194(maybe_infer_to_datetimelike)\n",
      "    46728    0.321    0.000    1.475    0.000 cast.py:1303(maybe_cast_to_datetime)\n",
      "    46728    0.028    0.000    0.047    0.000 cast.py:1588(construct_1d_ndarray_preserving_na)\n",
      "   186912    0.193    0.000    0.476    0.000 common.py:1460(is_extension_array_dtype)\n",
      "   186912    0.123    0.000    0.152    0.000 common.py:149(cast_scalar_indexer)\n",
      "   233642    0.224    0.000    0.400    0.000 common.py:1600(_is_dtype_type)\n",
      "    46728    0.040    0.000    0.053    0.000 common.py:1733(pandas_dtype)\n",
      "   186914    0.046    0.000    0.046    0.000 common.py:178(classes)\n",
      "   186914    0.053    0.000    0.074    0.000 common.py:180(<lambda>)\n",
      "    46728    0.031    0.000    0.031    0.000 common.py:183(classes_and_not_datetimelike)\n",
      "    46728    0.018    0.000    0.024    0.000 common.py:188(<lambda>)\n",
      "   186914    0.167    0.000    0.542    0.000 common.py:194(is_object_dtype)\n",
      "    46728    0.086    0.000    0.186    0.000 common.py:224(is_sparse)\n",
      "   186912    0.097    0.000    0.135    0.000 common.py:329(apply_if_callable)\n",
      "    46728    0.045    0.000    0.180    0.000 common.py:381(is_datetime64tz_dtype)\n",
      "    46728    0.057    0.000    0.265    0.000 common.py:456(is_period_dtype)\n",
      "    46728    0.065    0.000    0.323    0.000 common.py:492(is_interval_dtype)\n",
      "    46728    0.054    0.000    0.232    0.000 common.py:530(is_categorical_dtype)\n",
      "    46728    0.108    0.000    0.211    0.000 common.py:696(is_integer_dtype)\n",
      "    46728    0.051    0.000    0.268    0.000 construction.py:339(extract_array)\n",
      "    46728    0.324    0.000    4.626    0.000 construction.py:390(sanitize_array)\n",
      "    46728    0.228    0.000    2.852    0.000 construction.py:520(_try_cast)\n",
      "    46728    0.050    0.000    0.328    0.000 construction.py:580(is_empty_data)\n",
      "    46728    0.113    0.000    0.252    0.000 dtypes.py:1116(is_dtype)\n",
      "    46728    0.069    0.000    0.201    0.000 dtypes.py:903(is_dtype)\n",
      "        1    0.059    0.059    3.697    3.697 extract_graph.py:128(generate_set_node)\n",
      "        1    0.633    0.633  235.467  235.467 extract_graph.py:135(generate_nx_graph)\n",
      "    46730    0.254    0.000    9.374    0.000 frame.py:966(iterrows)\n",
      "   981288    0.334    0.000    0.459    0.000 generic.py:10(_check)\n",
      "    46728    0.142    0.000    0.142    0.000 generic.py:195(__init__)\n",
      "    46728    0.101    0.000    0.101    0.000 generic.py:5120(__getattr__)\n",
      "    46730    0.216    0.000    0.485    0.000 generic.py:5138(__setattr__)\n",
      "        2    0.000    0.000    0.000    0.000 generic.py:5194(_protect_consolidate)\n",
      "        2    0.000    0.000    0.000    0.000 generic.py:5205(_consolidate_inplace)\n",
      "        2    0.000    0.000    0.000    0.000 generic.py:5208(f)\n",
      "        2    0.000    0.000    0.000    0.000 generic.py:5265(values)\n",
      "        1    0.000    0.000    0.000    0.000 graph.py:290(__init__)\n",
      "    23364    0.247    0.000    0.283    0.000 graph.py:884(add_edges_from)\n",
      "    93456    0.055    0.000    0.071    0.000 inference.py:322(is_hashable)\n",
      "    46728    0.094    0.000    0.103    0.000 managers.py:1532(__init__)\n",
      "    46728    0.150    0.000    2.599    0.000 managers.py:1564(from_array)\n",
      "   186912    0.089    0.000    0.089    0.000 managers.py:1575(_block)\n",
      "   186912    0.193    0.000    0.350    0.000 managers.py:1613(internal_values)\n",
      "        2    0.000    0.000    0.000    0.000 managers.py:233(_is_single_block)\n",
      "        2    0.000    0.000    0.000    0.000 managers.py:675(is_consolidated)\n",
      "        2    0.000    0.000    0.000    0.000 managers.py:806(as_array)\n",
      "        2    0.000    0.000    0.000    0.000 managers.py:961(consolidate)\n",
      "        6    0.000    0.000    0.000    0.000 range.py:153(_data)\n",
      "    46728    0.551    0.000    9.120    0.000 series.py:201(__init__)\n",
      "    46728    0.069    0.000    0.069    0.000 series.py:398(_set_axis)\n",
      "    46728    0.087    0.000    0.188    0.000 series.py:442(name)\n",
      "    46728    0.055    0.000    0.082    0.000 series.py:492(name)\n",
      "   186912    0.121    0.000    0.471    0.000 series.py:540(_values)\n",
      "   186912    0.747    0.000    3.523    0.000 series.py:868(__getitem__)\n",
      "   186912    0.467    0.000    2.419    0.000 series.py:974(_get_value)\n",
      "   140184    0.137    0.000    0.137    0.000 {built-in method _abc._abc_instancecheck}\n",
      "   186912    0.038    0.000    0.038    0.000 {built-in method builtins.callable}\n",
      "        1    0.000    0.000  235.492  235.492 {built-in method builtins.exec}\n",
      "  1448568    0.183    0.000    0.183    0.000 {built-in method builtins.getattr}\n",
      "   280368    0.205    0.000    0.205    0.000 {built-in method builtins.hasattr}\n",
      "    93456    0.017    0.000    0.017    0.000 {built-in method builtins.hash}\n",
      "  2476586    0.828    0.000    1.287    0.000 {built-in method builtins.isinstance}\n",
      "   887834    0.098    0.000    0.098    0.000 {built-in method builtins.issubclass}\n",
      "607472/467288    0.183    0.000    0.241    0.000 {built-in method builtins.len}\n",
      "        1    0.076    0.076    0.076    0.076 {built-in method builtins.sorted}\n",
      "   140186    0.497    0.000    0.497    0.000 {built-in method numpy.array}\n",
      "    46728    0.021    0.000    0.021    0.000 {method 'add' of 'set' objects}\n",
      "        1    0.000    0.000    0.000    0.000 {method 'disable' of '_lsprof.Profiler' objects}\n",
      "    23364    0.009    0.000    0.009    0.000 {method 'get' of 'dict' objects}\n",
      "   186912    0.327    0.000    0.327    0.000 {method 'get_loc' of 'pandas._libs.index.IndexEngine' objects}\n",
      "    46728  221.047    0.005  221.047    0.005 {method 'index' of 'list' objects}\n",
      "        2    0.000    0.000    0.000    0.000 {method 'transpose' of 'numpy.ndarray' objects}\n",
      "    46729    0.023    0.000    0.023    0.000 {method 'update' of 'dict' objects}\n",
      "    46728    0.026    0.000    0.026    0.000 {pandas._libs.algos.ensure_object}\n",
      "    46728    0.057    0.000    0.057    0.000 {pandas._libs.lib.infer_datetimelike_array}\n",
      "    46728    0.614    0.000    0.732    0.000 {pandas._libs.lib.infer_dtype}\n",
      "   186912    0.029    0.000    0.029    0.000 {pandas._libs.lib.is_float}\n",
      "   373824    0.066    0.000    0.066    0.000 {pandas._libs.lib.is_integer}\n",
      "   140184    0.189    0.000    0.380    0.000 {pandas._libs.lib.is_list_like}\n",
      "   186912    0.062    0.000    0.062    0.000 {pandas._libs.lib.is_scalar}\n",
      "\n",
      "\n"
     ]
    }
   ],
   "source": [
    "time=cProfile.run('generate_nx_graph(graph_tab)')"
   ]
  }
 ],
 "metadata": {
  "kernelspec": {
   "display_name": "cleanMsc",
   "language": "python",
   "name": "cleanmsc"
  },
  "language_info": {
   "codemirror_mode": {
    "name": "ipython",
    "version": 3
   },
   "file_extension": ".py",
   "mimetype": "text/x-python",
   "name": "python",
   "nbconvert_exporter": "python",
   "pygments_lexer": "ipython3",
   "version": "3.7.8"
  }
 },
 "nbformat": 4,
 "nbformat_minor": 4
}

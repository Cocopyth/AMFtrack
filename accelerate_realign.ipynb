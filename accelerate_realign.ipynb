{
 "cells": [
  {
   "cell_type": "code",
   "execution_count": 1,
   "metadata": {},
   "outputs": [],
   "source": [
    "%matplotlib widget\n",
    "import numpy as np\n",
    "import matplotlib.pyplot as plt\n",
    "import matplotlib.cm as cm\n",
    "from PIL import Image\n",
    "from scipy import sparse\n",
    "import cv2\n",
    "from pymatreader import read_mat\n",
    "# from extract_graph import dic_to_sparse\n",
    "from util import get_path, shift_skeleton\n",
    "from plotutil import show_im,overlap, show_im_rgb, plot_nodes, plot_nodes_from_list,plot_t_tp1\n",
    "from extract_graph import generate_graph_tab_from_skeleton,generate_nx_graph_from_skeleton,generate_skeleton,clean\n",
    "import networkx as nx\n",
    "from node_id import second_identification, whole_movement_identification,first_identification,relabel_nodes, clean_nodes, orient\n",
    "from extract_graph import dic_to_sparse, from_sparse_to_graph, generate_nx_graph, prune_graph, from_nx_to_tab, from_nx_to_tab_matlab,sparse_to_doc, connections_pixel_list_to_tab, transform_list\n",
    "from sparse_util import dilate, zhangSuen\n",
    "from realign import realign, reconnect\n",
    "from util import get_path\n",
    "import pandas as pd\n",
    "from datetime import datetime,timedelta\n",
    "import ast\n",
    "from time import time\n",
    "import os\n",
    "from random import choice\n",
    "from pycpd import RigidRegistration, DeformableRegistration\n",
    "from cycpd import rigid_registration"
   ]
  },
  {
   "cell_type": "code",
   "execution_count": 84,
   "metadata": {},
   "outputs": [
    {
     "name": "stdout",
     "output_type": "stream",
     "text": [
      "[[ 0.30495782 -0.95236586]\n",
      " [ 0.95236586  0.30495782]] [[47.7737877]\n",
      " [49.2362971]]\n"
     ]
    },
    {
     "data": {
      "application/vnd.jupyter.widget-view+json": {
       "model_id": "41c1f69953b241948b2a166d642678e8",
       "version_major": 2,
       "version_minor": 0
      },
      "text/plain": [
       "Canvas(toolbar=Toolbar(toolitems=[('Home', 'Reset original view', 'home', 'home'), ('Back', 'Back to previous …"
      ]
     },
     "metadata": {},
     "output_type": "display_data"
    },
    {
     "data": {
      "text/plain": [
       "((2, 4000), (2, 4000))"
      ]
     },
     "execution_count": 84,
     "metadata": {},
     "output_type": "execute_result"
    }
   ],
   "source": [
    "plt.close('all')\n",
    "X = []\n",
    "dimx = 1000\n",
    "dimy = 1000\n",
    "for i in range(dimx):\n",
    "    X.append((i,0))\n",
    "    X.append((i,dimy))\n",
    "for i in range(dimy):\n",
    "    X.append((dimx,i))\n",
    "    X.append((0,i))\n",
    "X=np.transpose(np.array(X))\n",
    "angle = np.random.uniform(0,np.pi/2)\n",
    "R=np.array([[np.cos(angle),-np.sin(angle)],[np.sin(angle),np.cos(angle)]])\n",
    "t = np.random.uniform(0,100,(2,1))\n",
    "print(R,t)\n",
    "np.random.shuffle(np.transpose(X))\n",
    "Y=np.transpose(np.transpose(np.dot(R,X))+np.transpose(t))+np.random.uniform(0,dimx/50,(2,4*dimx))\n",
    "np.random.shuffle(np.transpose(Y))\n",
    "# Y = Y[:,:dimx//4]\n",
    "# X = X[:,:dimx//4]\n",
    "fig=plt.figure(figsize=(10,9))\n",
    "\n",
    "ax = fig.add_subplot(111)\n",
    "ax.scatter(X[0,:],X[1,:])\n",
    "ax.scatter(Y[0,:],Y[1,:])\n",
    "\n",
    "X.shape,Y.shape"
   ]
  },
  {
   "cell_type": "code",
   "execution_count": 88,
   "metadata": {},
   "outputs": [
    {
     "name": "stdout",
     "output_type": "stream",
     "text": [
      "Iteration:1\n",
      "ML: 23607.131; \tML change (error): 23607.131; \tSigma^2:241674.779; \tSigma^2 change:402354.918\n",
      "[                                                                        ]\n",
      "Iteration:2\n",
      "ML: 20350.356; \tML change (error):  3256.776; \tSigma^2:147600.436; \tSigma^2 change: 94074.343\n",
      "[=                                                                       ]\n",
      "Iteration:3\n",
      "ML: 19500.037; \tML change (error):   850.318; \tSigma^2: 91765.868; \tSigma^2 change: 55834.568\n",
      "[==                                                                      ]\n",
      "Iteration:4\n",
      "ML: 18716.047; \tML change (error):   783.990; \tSigma^2: 54098.168; \tSigma^2 change: 37667.699\n",
      "[==                                                                      ]\n",
      "Iteration:5\n",
      "ML: 17806.867; \tML change (error):   909.180; \tSigma^2: 31073.218; \tSigma^2 change: 23024.950\n",
      "[===                                                                     ]\n",
      "Iteration:6\n",
      "ML: 16845.241; \tML change (error):   961.626; \tSigma^2: 17955.368; \tSigma^2 change: 13117.850\n",
      "[====                                                                    ]\n",
      "Iteration:7\n",
      "ML: 15902.695; \tML change (error):   942.546; \tSigma^2: 10596.904; \tSigma^2 change:  7358.464\n",
      "[=====                                                                   ]\n",
      "Iteration:8\n",
      "ML: 15008.815; \tML change (error):   893.880; \tSigma^2:  6451.591; \tSigma^2 change:  4145.312\n",
      "[=====                                                                   ]\n",
      "Iteration:9\n",
      "ML: 14173.727; \tML change (error):   835.088; \tSigma^2:  4059.660; \tSigma^2 change:  2391.932\n",
      "[======                                                                  ]\n",
      "Iteration:10\n",
      "ML: 13386.993; \tML change (error):   786.734; \tSigma^2:  2627.050; \tSigma^2 change:  1432.610\n",
      "[=======                                                                 ]\n",
      "Iteration:11\n",
      "ML: 12628.167; \tML change (error):   758.826; \tSigma^2:  1733.619; \tSigma^2 change:   893.431\n",
      "[=======                                                                 ]\n",
      "Iteration:12\n",
      "ML: 11878.262; \tML change (error):   749.905; \tSigma^2:  1156.909; \tSigma^2 change:   576.710\n",
      "[========                                                                ]\n",
      "Iteration:13\n",
      "ML: 11125.249; \tML change (error):   753.014; \tSigma^2:   775.629; \tSigma^2 change:   381.280\n",
      "[=========                                                               ]\n",
      "Iteration:14\n",
      "ML: 10364.511; \tML change (error):   760.738; \tSigma^2:   520.349; \tSigma^2 change:   255.280\n",
      "[==========                                                              ]\n",
      "Iteration:15\n",
      "ML:  9598.027; \tML change (error):   766.485; \tSigma^2:   348.894; \tSigma^2 change:   171.455\n",
      "[==========                                                              ]\n",
      "Iteration:16\n",
      "ML:  8834.139; \tML change (error):   763.888; \tSigma^2:   234.302; \tSigma^2 change:   114.592\n",
      "[===========                                                             ]\n",
      "Iteration:17\n",
      "ML:  8089.107; \tML change (error):   745.031; \tSigma^2:   158.541; \tSigma^2 change:    75.761\n",
      "[============                                                            ]\n",
      "Iteration:18\n",
      "ML:  7386.987; \tML change (error):   702.121; \tSigma^2:   109.075; \tSigma^2 change:    49.466\n",
      "[============                                                            ]\n",
      "Iteration:19\n",
      "ML:  6755.356; \tML change (error):   631.631; \tSigma^2:    77.089; \tSigma^2 change:    31.986\n",
      "[=============                                                           ]\n",
      "Iteration:20\n",
      "ML:  6218.327; \tML change (error):   537.029; \tSigma^2:    56.490; \tSigma^2 change:    20.599\n",
      "[==============                                                          ]\n",
      "Iteration:21\n",
      "ML:  5789.468; \tML change (error):   428.859; \tSigma^2:    43.180; \tSigma^2 change:    13.310\n",
      "[===============                                                         ]\n",
      "Iteration:22\n",
      "ML:  5467.372; \tML change (error):   322.096; \tSigma^2:    34.475; \tSigma^2 change:     8.705\n",
      "[===============                                                         ]\n",
      "Iteration:23\n",
      "ML:  5237.318; \tML change (error):   230.054; \tSigma^2:    28.667; \tSigma^2 change:     5.809\n",
      "[================                                                        ]\n",
      "Iteration:24\n",
      "ML:  5078.298; \tML change (error):   159.021; \tSigma^2:    24.693; \tSigma^2 change:     3.974\n",
      "[=================                                                       ]\n",
      "Iteration:25\n",
      "ML:  4969.991; \tML change (error):   108.307; \tSigma^2:    21.902; \tSigma^2 change:     2.791\n",
      "[==================                                                      ]\n",
      "Iteration:26\n",
      "ML:  4896.254; \tML change (error):    73.737; \tSigma^2:    19.894; \tSigma^2 change:     2.008\n",
      "[==================                                                      ]\n",
      "Iteration:27\n",
      "ML:  4845.564; \tML change (error):    50.690; \tSigma^2:    18.417; \tSigma^2 change:     1.477\n",
      "[===================                                                     ]\n",
      "Iteration:28\n",
      "ML:  4810.137; \tML change (error):    35.427; \tSigma^2:    17.312; \tSigma^2 change:     1.105\n",
      "[====================                                                    ]\n"
     ]
    },
    {
     "ename": "KeyboardInterrupt",
     "evalue": "",
     "output_type": "error",
     "traceback": [
      "\u001b[0;31m---------------------------------------------------------------------------\u001b[0m",
      "\u001b[0;31mKeyboardInterrupt\u001b[0m                         Traceback (most recent call last)",
      "\u001b[0;32m<ipython-input-88-0b48e06aeab4>\u001b[0m in \u001b[0;36m<module>\u001b[0;34m()\u001b[0m\n\u001b[1;32m      1\u001b[0m \u001b[0mreg\u001b[0m \u001b[0;34m=\u001b[0m \u001b[0mrigid_registration\u001b[0m\u001b[0;34m(\u001b[0m\u001b[0;34m**\u001b[0m\u001b[0;34m{\u001b[0m\u001b[0;34m'X'\u001b[0m\u001b[0;34m:\u001b[0m \u001b[0mnp\u001b[0m\u001b[0;34m.\u001b[0m\u001b[0mtranspose\u001b[0m\u001b[0;34m(\u001b[0m\u001b[0mX\u001b[0m\u001b[0;34m.\u001b[0m\u001b[0mastype\u001b[0m\u001b[0;34m(\u001b[0m\u001b[0mfloat\u001b[0m\u001b[0;34m)\u001b[0m\u001b[0;34m)\u001b[0m\u001b[0;34m,\u001b[0m \u001b[0;34m'Y'\u001b[0m\u001b[0;34m:\u001b[0m \u001b[0mnp\u001b[0m\u001b[0;34m.\u001b[0m\u001b[0mtranspose\u001b[0m\u001b[0;34m(\u001b[0m\u001b[0mY\u001b[0m\u001b[0;34m.\u001b[0m\u001b[0mastype\u001b[0m\u001b[0;34m(\u001b[0m\u001b[0mfloat\u001b[0m\u001b[0;34m)\u001b[0m\u001b[0;34m)\u001b[0m\u001b[0;34m,\u001b[0m\u001b[0;34m'scale'\u001b[0m\u001b[0;34m:\u001b[0m \u001b[0;32mFalse\u001b[0m\u001b[0;34m,\u001b[0m\u001b[0;34m'max_iter'\u001b[0m \u001b[0;34m:\u001b[0m \u001b[0;36m20\u001b[0m\u001b[0;34m}\u001b[0m\u001b[0;34m)\u001b[0m\u001b[0;34m\u001b[0m\u001b[0;34m\u001b[0m\u001b[0m\n\u001b[0;32m----> 2\u001b[0;31m \u001b[0mout\u001b[0m \u001b[0;34m=\u001b[0m \u001b[0mreg\u001b[0m\u001b[0;34m.\u001b[0m\u001b[0mregister\u001b[0m\u001b[0;34m(\u001b[0m\u001b[0;34m)\u001b[0m\u001b[0;34m\u001b[0m\u001b[0;34m\u001b[0m\u001b[0m\n\u001b[0m\u001b[1;32m      3\u001b[0m \u001b[0mRfound\u001b[0m \u001b[0;34m=\u001b[0m \u001b[0mreg\u001b[0m\u001b[0;34m.\u001b[0m\u001b[0mR\u001b[0m\u001b[0;34m[\u001b[0m\u001b[0;36m0\u001b[0m\u001b[0;34m:\u001b[0m\u001b[0;36m2\u001b[0m\u001b[0;34m,\u001b[0m\u001b[0;36m0\u001b[0m\u001b[0;34m:\u001b[0m\u001b[0;36m2\u001b[0m\u001b[0;34m]\u001b[0m\u001b[0;34m\u001b[0m\u001b[0;34m\u001b[0m\u001b[0m\n\u001b[1;32m      4\u001b[0m \u001b[0mtfound\u001b[0m\u001b[0;34m=\u001b[0m \u001b[0mnp\u001b[0m\u001b[0;34m.\u001b[0m\u001b[0mdot\u001b[0m\u001b[0;34m(\u001b[0m\u001b[0mRfound\u001b[0m\u001b[0;34m,\u001b[0m\u001b[0mreg\u001b[0m\u001b[0;34m.\u001b[0m\u001b[0mt\u001b[0m\u001b[0;34m[\u001b[0m\u001b[0;36m0\u001b[0m\u001b[0;34m:\u001b[0m\u001b[0;36m2\u001b[0m\u001b[0;34m]\u001b[0m\u001b[0;34m)\u001b[0m\u001b[0;34m\u001b[0m\u001b[0;34m\u001b[0m\u001b[0m\n",
      "\u001b[0;32m/home/mrozemul/anaconda3/envs/extract_skel/lib/python3.7/site-packages/cycpd-0.0.1-py3.7-linux-x86_64.egg/cycpd/expectation_maximization_registration.py\u001b[0m in \u001b[0;36mregister\u001b[0;34m(self, callback)\u001b[0m\n\u001b[1;32m     59\u001b[0m         \u001b[0mself\u001b[0m\u001b[0;34m.\u001b[0m\u001b[0mtime_to_initiate_registration\u001b[0m \u001b[0;34m=\u001b[0m \u001b[0mtoc\u001b[0m\u001b[0;34m-\u001b[0m\u001b[0mtic\u001b[0m\u001b[0;34m\u001b[0m\u001b[0;34m\u001b[0m\u001b[0m\n\u001b[1;32m     60\u001b[0m         \u001b[0;32mwhile\u001b[0m \u001b[0;34m(\u001b[0m\u001b[0mself\u001b[0m\u001b[0;34m.\u001b[0m\u001b[0miteration\u001b[0m \u001b[0;34m<\u001b[0m \u001b[0mself\u001b[0m\u001b[0;34m.\u001b[0m\u001b[0mmax_iterations\u001b[0m\u001b[0;34m)\u001b[0m \u001b[0;32mand\u001b[0m \u001b[0;34m(\u001b[0m\u001b[0mself\u001b[0m\u001b[0;34m.\u001b[0m\u001b[0merr\u001b[0m \u001b[0;34m>\u001b[0m \u001b[0mself\u001b[0m\u001b[0;34m.\u001b[0m\u001b[0mtolerance\u001b[0m\u001b[0;34m)\u001b[0m \u001b[0;32mand\u001b[0m \u001b[0;34m(\u001b[0m\u001b[0mself\u001b[0m\u001b[0;34m.\u001b[0m\u001b[0msigma2\u001b[0m \u001b[0;34m>\u001b[0m \u001b[0mnp\u001b[0m\u001b[0;34m.\u001b[0m\u001b[0mfinfo\u001b[0m\u001b[0;34m(\u001b[0m\u001b[0mfloat\u001b[0m\u001b[0;34m)\u001b[0m\u001b[0;34m.\u001b[0m\u001b[0meps\u001b[0m\u001b[0;34m)\u001b[0m\u001b[0;34m:\u001b[0m\u001b[0;34m\u001b[0m\u001b[0;34m\u001b[0m\u001b[0m\n\u001b[0;32m---> 61\u001b[0;31m             \u001b[0mself\u001b[0m\u001b[0;34m.\u001b[0m\u001b[0miterate\u001b[0m\u001b[0;34m(\u001b[0m\u001b[0;34m)\u001b[0m\u001b[0;34m\u001b[0m\u001b[0;34m\u001b[0m\u001b[0m\n\u001b[0m\u001b[1;32m     62\u001b[0m             \u001b[0;32mif\u001b[0m \u001b[0mcallable\u001b[0m\u001b[0;34m(\u001b[0m\u001b[0mcallback\u001b[0m\u001b[0;34m)\u001b[0m\u001b[0;34m:\u001b[0m\u001b[0;34m\u001b[0m\u001b[0;34m\u001b[0m\u001b[0m\n\u001b[1;32m     63\u001b[0m                 \u001b[0mkwargs\u001b[0m \u001b[0;34m=\u001b[0m \u001b[0;34m{\u001b[0m\u001b[0;34m'iteration'\u001b[0m\u001b[0;34m:\u001b[0m \u001b[0mself\u001b[0m\u001b[0;34m.\u001b[0m\u001b[0miteration\u001b[0m\u001b[0;34m,\u001b[0m \u001b[0;34m'error'\u001b[0m\u001b[0;34m:\u001b[0m \u001b[0mself\u001b[0m\u001b[0;34m.\u001b[0m\u001b[0merr\u001b[0m\u001b[0;34m,\u001b[0m \u001b[0;34m'X'\u001b[0m\u001b[0;34m:\u001b[0m \u001b[0mself\u001b[0m\u001b[0;34m.\u001b[0m\u001b[0mX\u001b[0m\u001b[0;34m,\u001b[0m \u001b[0;34m'Y'\u001b[0m\u001b[0;34m:\u001b[0m \u001b[0mself\u001b[0m\u001b[0;34m.\u001b[0m\u001b[0mTY\u001b[0m\u001b[0;34m}\u001b[0m\u001b[0;34m\u001b[0m\u001b[0;34m\u001b[0m\u001b[0m\n",
      "\u001b[0;32m/home/mrozemul/anaconda3/envs/extract_skel/lib/python3.7/site-packages/cycpd-0.0.1-py3.7-linux-x86_64.egg/cycpd/expectation_maximization_registration.py\u001b[0m in \u001b[0;36miterate\u001b[0;34m(self)\u001b[0m\n\u001b[1;32m     93\u001b[0m         \u001b[0mself\u001b[0m\u001b[0;34m.\u001b[0m\u001b[0mE_old\u001b[0m \u001b[0;34m=\u001b[0m \u001b[0mself\u001b[0m\u001b[0;34m.\u001b[0m\u001b[0mE\u001b[0m  \u001b[0;31m# E = negative log-likelihood function\u001b[0m\u001b[0;34m\u001b[0m\u001b[0;34m\u001b[0m\u001b[0m\n\u001b[1;32m     94\u001b[0m         \u001b[0mtic\u001b[0m \u001b[0;34m=\u001b[0m \u001b[0mtime\u001b[0m\u001b[0;34m.\u001b[0m\u001b[0mtime\u001b[0m\u001b[0;34m(\u001b[0m\u001b[0;34m)\u001b[0m\u001b[0;34m\u001b[0m\u001b[0;34m\u001b[0m\u001b[0m\n\u001b[0;32m---> 95\u001b[0;31m         \u001b[0mself\u001b[0m\u001b[0;34m.\u001b[0m\u001b[0mexpectation\u001b[0m\u001b[0;34m(\u001b[0m\u001b[0;34m)\u001b[0m\u001b[0;34m\u001b[0m\u001b[0;34m\u001b[0m\u001b[0m\n\u001b[0m\u001b[1;32m     96\u001b[0m         \u001b[0mtoc\u001b[0m \u001b[0;34m=\u001b[0m \u001b[0mtime\u001b[0m\u001b[0;34m.\u001b[0m\u001b[0mtime\u001b[0m\u001b[0;34m(\u001b[0m\u001b[0;34m)\u001b[0m\u001b[0;34m\u001b[0m\u001b[0;34m\u001b[0m\u001b[0m\n\u001b[1;32m     97\u001b[0m         \u001b[0mself\u001b[0m\u001b[0;34m.\u001b[0m\u001b[0mexpectation_times\u001b[0m\u001b[0;34m.\u001b[0m\u001b[0mappend\u001b[0m\u001b[0;34m(\u001b[0m\u001b[0mtoc\u001b[0m\u001b[0;34m-\u001b[0m\u001b[0mtic\u001b[0m\u001b[0;34m)\u001b[0m\u001b[0;34m\u001b[0m\u001b[0;34m\u001b[0m\u001b[0m\n",
      "\u001b[0;32m/home/mrozemul/anaconda3/envs/extract_skel/lib/python3.7/site-packages/cycpd-0.0.1-py3.7-linux-x86_64.egg/cycpd/expectation_maximization_registration.py\u001b[0m in \u001b[0;36mexpectation\u001b[0;34m(self)\u001b[0m\n\u001b[1;32m    123\u001b[0m                                                                     \u001b[0mself\u001b[0m\u001b[0;34m.\u001b[0m\u001b[0mN\u001b[0m\u001b[0;34m,\u001b[0m\u001b[0;34m\u001b[0m\u001b[0;34m\u001b[0m\u001b[0m\n\u001b[1;32m    124\u001b[0m                                                                     \u001b[0mself\u001b[0m\u001b[0;34m.\u001b[0m\u001b[0mD\u001b[0m\u001b[0;34m,\u001b[0m\u001b[0;34m\u001b[0m\u001b[0;34m\u001b[0m\u001b[0m\n\u001b[0;32m--> 125\u001b[0;31m                                                                     self.w)\n\u001b[0m\u001b[1;32m    126\u001b[0m \u001b[0;34m\u001b[0m\u001b[0m\n\u001b[1;32m    127\u001b[0m \u001b[0;34m\u001b[0m\u001b[0m\n",
      "\u001b[0;31mKeyboardInterrupt\u001b[0m: "
     ]
    }
   ],
   "source": [
    "reg = rigid_registration(**{'X': np.transpose(X.astype(float)), 'Y': np.transpose(Y.astype(float)),'scale': False})\n",
    "out = reg.register()\n",
    "Rfound = reg.R[0:2,0:2]\n",
    "tfound= np.dot(Rfound,reg.t[0:2])"
   ]
  },
  {
   "cell_type": "code",
   "execution_count": 86,
   "metadata": {},
   "outputs": [
    {
     "data": {
      "text/plain": [
       "(array([[ 0.95229604,  0.30517577],\n",
       "        [-0.30517577,  0.95229604]]),\n",
       " array([ 895.62959999, -364.20998122]),\n",
       " array([[ 0.30495782, -0.95236586],\n",
       "        [ 0.95236586,  0.30495782]]),\n",
       " array([[47.7737877],\n",
       "        [49.2362971]]))"
      ]
     },
     "execution_count": 86,
     "metadata": {},
     "output_type": "execute_result"
    }
   ],
   "source": [
    "Rfound,tfound,R,t"
   ]
  },
  {
   "cell_type": "code",
   "execution_count": 83,
   "metadata": {},
   "outputs": [
    {
     "data": {
      "application/vnd.jupyter.widget-view+json": {
       "model_id": "e4e6f79ebfab45ceb6482047d0f87e79",
       "version_major": 2,
       "version_minor": 0
      },
      "text/plain": [
       "Canvas(toolbar=Toolbar(toolitems=[('Home', 'Reset original view', 'home', 'home'), ('Back', 'Back to previous …"
      ]
     },
     "metadata": {},
     "output_type": "display_data"
    },
    {
     "data": {
      "text/plain": [
       "<matplotlib.collections.PathCollection at 0x2add89085990>"
      ]
     },
     "execution_count": 83,
     "metadata": {},
     "output_type": "execute_result"
    }
   ],
   "source": [
    "fig=plt.figure(figsize=(10,9))\n",
    "ax = fig.add_subplot(111)\n",
    "Yrep=np.transpose(np.transpose(np.dot(Rfound,np.transpose(np.transpose(X))))-tfound)\n",
    "ax.scatter(np.transpose(Y)[:,0],np.transpose(Y)[:,1])\n",
    "ax.scatter(np.transpose(Yrep)[:,0],np.transpose(Yrep)[:,1])"
   ]
  },
  {
   "cell_type": "code",
   "execution_count": 38,
   "metadata": {},
   "outputs": [],
   "source": [
    "reg = RigidRegistration(**{'X': np.transpose(X), 'Y': np.transpose(Y)})\n",
    "out = reg.register()\n",
    "Rfound = reg.R\n",
    "Yrep=np.dot(Rfound,np.transpose(np.transpose(X)))\n",
    "reg = RigidRegistration(**{'X': np.transpose(Yrep), 'Y': np.transpose(Y)})\n",
    "out = reg.register()\n",
    "tfound= reg.t"
   ]
  },
  {
   "cell_type": "code",
   "execution_count": 52,
   "metadata": {},
   "outputs": [],
   "source": [
    "def try_dim(dim):\n",
    "    X = []\n",
    "    dimx = dim\n",
    "    dimy = dim\n",
    "    for i in range(dimx):\n",
    "        X.append((i,0))\n",
    "        X.append((i,dimy))\n",
    "    for i in range(dimy):\n",
    "        X.append((dimx,i))\n",
    "        X.append((0,i))\n",
    "    X=np.transpose(np.array(X))\n",
    "    angle = np.random.uniform(0,np.pi/2)\n",
    "    R=np.array([[np.cos(angle),-np.sin(angle)],[np.sin(angle),np.cos(angle)]])\n",
    "    t = np.random.uniform(0,100,(2,1))\n",
    "    print(R,t)\n",
    "    Y=np.transpose(np.transpose(np.dot(R,X))+np.transpose(t))+np.random.uniform(0,5,(2,4*dimx))\n",
    "    np.random.shuffle(np.transpose(Y))\n",
    "    reg = RigidRegistration(**{'X': np.transpose(X), 'Y': np.transpose(Y)})\n",
    "    out = reg.register()\n",
    "    Rfound = reg.R\n",
    "    Yrep=np.dot(Rfound,np.transpose(np.transpose(X)))\n",
    "    reg = RigidRegistration(**{'X': np.transpose(Yrep), 'Y': np.transpose(Y)})\n",
    "    out = reg.register()\n",
    "    tfound= reg.t"
   ]
  },
  {
   "cell_type": "code",
   "execution_count": null,
   "metadata": {},
   "outputs": [],
   "source": [
    "import cProfile\n",
    "cProfile.run('try_dim(2500)')"
   ]
  },
  {
   "cell_type": "code",
   "execution_count": 5,
   "metadata": {},
   "outputs": [],
   "source": [
    "plate = 27\n",
    "directory='//sun.amolf.nl/shimizu-data/home-folder/oyartegalvez/Drive_AMFtopology/PRINCE'\n",
    "listdir=os.listdir(directory) \n",
    "list_dir_interest=[name for name in listdir if name.split('_')[-1]==f'Plate{0 if plate<10 else \"\"}{plate}']\n",
    "ss=[name.split('_')[0] for name in list_dir_interest]\n",
    "ff=[name.split('_')[1] for name in list_dir_interest]\n",
    "dates_datetime=[datetime(year=int(ss[i][:4]),month=int(ss[i][4:6]),day=int(ss[i][6:8]),hour=int(ff[i][0:2]),minute=int(ff[i][2:4])) for i in range(len(list_dir_interest))]\n",
    "dates_datetime.sort()\n",
    "dates_datetime_chosen=dates_datetime[1:6]\n",
    "dates = [f'{0 if date.month<10 else \"\"}{date.month}{0 if date.day<10 else \"\"}{date.day}_{0 if date.hour<10 else \"\"}{date.hour}{0 if date.minute<10 else \"\"}{date.minute}' for date in dates_datetime_chosen]\n",
    "mat_skels=[read_mat(get_path(date,plate,True))['skel'] for date in dates]\n",
    "dic_skels=[dic_to_sparse(mat_skel) for mat_skel in mat_skels]\n",
    "skeleton_docs=[sparse_to_doc(sparse_skel) for sparse_skel in dic_skels]"
   ]
  },
  {
   "cell_type": "code",
   "execution_count": 23,
   "metadata": {},
   "outputs": [
    {
     "data": {
      "text/plain": [
       "[datetime.datetime(2020, 7, 13, 11, 44),\n",
       " datetime.datetime(2020, 7, 13, 15, 44),\n",
       " datetime.datetime(2020, 7, 13, 19, 44),\n",
       " datetime.datetime(2020, 7, 13, 23, 44),\n",
       " datetime.datetime(2020, 7, 14, 3, 44)]"
      ]
     },
     "execution_count": 23,
     "metadata": {},
     "output_type": "execute_result"
    }
   ],
   "source": [
    "dates_datetime_chosen"
   ]
  },
  {
   "cell_type": "code",
   "execution_count": 8,
   "metadata": {},
   "outputs": [],
   "source": [
    "non_zeros= skeleton_docs[1].keys()"
   ]
  },
  {
   "cell_type": "code",
   "execution_count": 9,
   "metadata": {},
   "outputs": [],
   "source": [
    "def get_neighbours(pixel,non_zero_pixel):\n",
    "    x=pixel[0]\n",
    "    y=pixel[1]\n",
    "    primary_neighbours = {(x+1,y),(x-1,y),(x,y+1),(x,y-1)}\n",
    "    secondary_neighbours = {(x+1,y-1),(x+1,y+1),(x-1,y+1),(x-1,y-1)}\n",
    "    num_neighbours = 0\n",
    "    actual_neighbours = []\n",
    "    for neighbour in primary_neighbours:\n",
    "        if neighbour in non_zero_pixel:\n",
    "            num_neighbours +=1\n",
    "            xp=neighbour[0]\n",
    "            yp=neighbour[1]\n",
    "            primary_neighboursp = {(xp+1,yp),(xp-1,yp),(xp,yp+1),(xp,yp-1)}\n",
    "            for neighbourp in primary_neighboursp:\n",
    "                secondary_neighbours.discard(neighbourp)\n",
    "            actual_neighbours.append(neighbour)\n",
    "    for neighbour in secondary_neighbours:\n",
    "        if neighbour in non_zero_pixel:\n",
    "            num_neighbours +=1\n",
    "            actual_neighbours.append(neighbour)\n",
    "    return(actual_neighbours,num_neighbours)\n",
    "def get_degree3_nodes(skel):\n",
    "    deg_3=[]\n",
    "    non_zero= skel.keys()\n",
    "    for pixel in non_zero:\n",
    "        n, num = get_neighbours(pixel,non_zero)\n",
    "        if num ==3:\n",
    "            deg_3.append(pixel)\n",
    "    return(deg_3)\n",
    "    \n",
    "    "
   ]
  },
  {
   "cell_type": "code",
   "execution_count": 20,
   "metadata": {},
   "outputs": [],
   "source": [
    "node_center = choice(deg_3)"
   ]
  },
  {
   "cell_type": "code",
   "execution_count": 21,
   "metadata": {},
   "outputs": [
    {
     "data": {
      "text/plain": [
       "(11337, 13152)"
      ]
     },
     "execution_count": 21,
     "metadata": {},
     "output_type": "execute_result"
    }
   ],
   "source": [
    "node_center"
   ]
  },
  {
   "cell_type": "code",
   "execution_count": 11,
   "metadata": {},
   "outputs": [],
   "source": [
    "deg_3 = get_degree3_nodes(skeleton_docs[1])"
   ]
  },
  {
   "cell_type": "code",
   "execution_count": 22,
   "metadata": {},
   "outputs": [
    {
     "data": {
      "application/vnd.jupyter.widget-view+json": {
       "model_id": "660dc366bdb54b6385ef80f9670acc9c",
       "version_major": 2,
       "version_minor": 0
      },
      "text/plain": [
       "Canvas(toolbar=Toolbar(toolitems=[('Home', 'Reset original view', 'home', 'home'), ('Back', 'Back to previous …"
      ]
     },
     "metadata": {},
     "output_type": "display_data"
    },
    {
     "data": {
      "text/plain": [
       "<matplotlib.image.AxesImage at 0x1dd1365d408>"
      ]
     },
     "execution_count": 22,
     "metadata": {},
     "output_type": "execute_result"
    }
   ],
   "source": [
    "plt.close('all')\n",
    "fig=plt.figure(figsize=(10,9))\n",
    "ax = fig.add_subplot(111)\n",
    "window = 1000\n",
    "ax.imshow(dic_skels[1][node_center[0]-window:node_center[0]+window,node_center[1]-window:node_center[1]+window].todense())"
   ]
  },
  {
   "cell_type": "code",
   "execution_count": 38,
   "metadata": {},
   "outputs": [],
   "source": [
    "def find_common_group_nodes(Sa,Sb,degree3_nodesa,degree3_nodesb,posa,posb,R0,t0,window=500,maxdist=50):\n",
    "    common_nodes_a = []\n",
    "    common_nodes_b = []\n",
    "    common_centroida = []\n",
    "    common_centroidb = []\n",
    "    t=time()\n",
    "    posarottrans = {key : np.round(np.transpose(np.dot(R0,np.transpose(np.array(posa[key])))+t0)).astype(np.int) for key in degree3_nodesa}\n",
    "    print(\"rotating translating\",time()-t)\n",
    "    for node in degree3_nodesa:\n",
    "        t=time()\n",
    "        posanchor=posarottrans[node]\n",
    "        potential_surroundinga=Sa[posanchor[0]-2*window:posanchor[0]+2*window,posanchor[1]-2*window:posanchor[1]+2*window]\n",
    "        potential_surroundingb=Sb[posanchor[0]-2*window:posanchor[0]+2*window,posanchor[1]-2*window:posanchor[1]+2*window]\n",
    "#         print(\"candidates\",len(potential_surroundinga.data))\n",
    "#         print(\"finding_potential_surrounding\",time()-t)\n",
    "        t=time()\n",
    "        surrounding_nodesa=[node for node in potential_surroundinga.data if \n",
    "                            (posanchor[0]-window<posarottrans[int(node)][0]<posanchor[0]+window and posanchor[1]-window<posarottrans[int(node)][1]<posanchor[1]+window \n",
    "                             )]\n",
    "        surrounding_nodesb=[node for node in potential_surroundingb.data if \n",
    "                    (posanchor[0]-window<posb[int(node)][0]<posanchor[0]+window and posanchor[1]-window<posb[int(node)][1]<posanchor[1]+window \n",
    "                    )]\n",
    "#         print(\"finding_surrounding\",time()-t)\n",
    "        t=time()\n",
    "        if len(surrounding_nodesa)==len(surrounding_nodesb):\n",
    "            possurroundinga=[posarottrans[node] for node in surrounding_nodesa]\n",
    "            possurroundingb=[posb[node] for node in surrounding_nodesb]\n",
    "            centroida= np.mean(possurroundinga,axis=0)\n",
    "            centroidb= np.mean(possurroundingb,axis=0)\n",
    "            if np.linalg.norm(centroida-centroidb)<=maxdist:\n",
    "                common_centroida.append(centroida)\n",
    "                common_centroidb.append(centroidb)\n",
    "    return(common_centroida,common_centroidb)\n",
    "\n",
    "def realign2(skeleton1,skeleton2,convergence_threshold,window=500,maxdist=50,save=''):\n",
    "    converged=False\n",
    "    tim=time()\n",
    "    nx_graphA,posA=generate_nx_graph_from_skeleton(skeleton1)\n",
    "    nx_graphB,posB=generate_nx_graph_from_skeleton(skeleton2)\n",
    "    print(\"generate_nx_graph_from_skeleton, t=\",tim-time())\n",
    "    tim=time()\n",
    "    t0=np.array([0,0])\n",
    "    R0=np.identity(2)\n",
    "    degree3_nodesa = [node for node in nx_graphA if nx_graphA.degree(node)==3]\n",
    "    degree3_nodesb = [node for node in nx_graphB if nx_graphB.degree(node)==3]\n",
    "    print(\"lennodes=\",len(degree3_nodesa))\n",
    "    Sa=sparse.csr_matrix((22000, 46000))\n",
    "    Sb=sparse.csr_matrix((22000, 46000))\n",
    "    for node in degree3_nodesa:\n",
    "        Sa[posA[node][0],posA[node][1]]=node\n",
    "    for node in degree3_nodesb:\n",
    "        Sb[posB[node][0],posB[node][1]]=node\n",
    "    while not converged:\n",
    "        listeA,listeB = find_common_group_nodes(Sa,Sb,degree3_nodesa,degree3_nodesb,posA,posB,R0,t0,maxdist=maxdist,window=window)\n",
    "        H=np.dot(np.transpose(np.array(listeA)-np.mean(listeA,axis=0)),np.array(listeB)-np.mean(listeB,axis=0))\n",
    "        U,S,V=np.linalg.svd(H)\n",
    "        R=np.dot(V,np.transpose(U))\n",
    "        t=np.mean(listeB,axis=0)-np.dot(R,np.mean(listeA,axis=0))\n",
    "        print(\"number_common_nodes_found :\",len(listeA))\n",
    "        if np.linalg.norm(t)<=convergence_threshold:\n",
    "            converged=True\n",
    "        R0=np.dot(R,R0)\n",
    "        t0=t+t0\n",
    "    print(\"Find R and T, t=\",tim-time())\n",
    "    tim=time()\n",
    "    skeleton_transformed=transform_skeleton(skeleton1,R0,t0)\n",
    "    skeleton_transformed=dilate(skeleton_transformed)\n",
    "    skeleton_transformed=zhangSuen(skeleton_transformed)\n",
    "    print(\"transform, dilate and thin, t=\",tim-time())\n",
    "    tim=time()\n",
    "    if len(save)>=0:\n",
    "        from_nx_to_tab(*generate_nx_graph_from_skeleton(skeleton_transformed)).to_csv(save+'_raw_aligned_skeleton.csv')\n",
    "        np.savetxt(save+'rot.txt',R0)\n",
    "        np.savetxt(save+'trans.txt',t0)\n",
    "    print(\"R0=\",R0,'t0=',t0)\n",
    "    return(skeleton_transformed)"
   ]
  },
  {
   "cell_type": "code",
   "execution_count": 39,
   "metadata": {},
   "outputs": [],
   "source": [
    "def transform_skeleton(skeleton_doc,Rot,trans):\n",
    "    transformed_skeleton={}\n",
    "    transformed_keys = np.round(np.transpose(np.dot(Rot,np.transpose(np.array(list(skeleton_doc.keys())))))+trans).astype(np.int)\n",
    "    i=0\n",
    "    for pixel in list(transformed_keys):\n",
    "        i+=1\n",
    "        transformed_skeleton[(pixel[0],pixel[1])]=1\n",
    "    return(transformed_skeleton)"
   ]
  },
  {
   "cell_type": "code",
   "execution_count": 31,
   "metadata": {},
   "outputs": [],
   "source": [
    "S=sparse.csr_matrix((22000, 46000))\n",
    "S[12000:14000,12000:14000]=1"
   ]
  },
  {
   "cell_type": "code",
   "execution_count": 34,
   "metadata": {},
   "outputs": [
    {
     "data": {
      "text/plain": [
       "array([1., 1., 1., ..., 1., 1., 1.])"
      ]
     },
     "execution_count": 34,
     "metadata": {},
     "output_type": "execute_result"
    }
   ],
   "source": [
    "S.data"
   ]
  },
  {
   "cell_type": "code",
   "execution_count": null,
   "metadata": {},
   "outputs": [],
   "source": [
    "import cProfile\n",
    "cProfile.run('S[12000:14000,12000:14000]')\n"
   ]
  },
  {
   "cell_type": "code",
   "execution_count": 40,
   "metadata": {},
   "outputs": [
    {
     "name": "stdout",
     "output_type": "stream",
     "text": [
      "generate_nx_graph_from_skeleton, t= -586.73597240448\n",
      "lennodes= 13604\n",
      "rotating translating 0.16901159286499023\n",
      "number_common_nodes_found : 328\n",
      "rotating translating 0.2030162811279297\n",
      "number_common_nodes_found : 402\n",
      "rotating translating 0.18901276588439941\n",
      "number_common_nodes_found : 480\n",
      "rotating translating 0.1980135440826416\n",
      "number_common_nodes_found : 635\n",
      "rotating translating 0.18399858474731445\n",
      "number_common_nodes_found : 743\n",
      "rotating translating 0.1960141658782959\n",
      "number_common_nodes_found : 834\n",
      "rotating translating 0.1940152645111084\n",
      "number_common_nodes_found : 832\n",
      "rotating translating 0.20001506805419922\n",
      "number_common_nodes_found : 872\n",
      "rotating translating 0.19201445579528809\n",
      "number_common_nodes_found : 904\n",
      "Find R and T, t= -203.0311245918274\n",
      "transform, dilate and thin, t= -374.64126110076904\n",
      "R0= [[ 0.99999879  0.00155542]\n",
      " [-0.00155542  0.99999879]] t0= [ -2.50883403 -72.90254211]\n"
     ]
    }
   ],
   "source": [
    "r=realign2(skeleton_docs[4],skeleton_docs[3],2,save='Data/',maxdist=70) "
   ]
  },
  {
   "cell_type": "code",
   "execution_count": 24,
   "metadata": {},
   "outputs": [
    {
     "name": "stdout",
     "output_type": "stream",
     "text": [
      "number_common_nodes_found : 356\n",
      "number_common_nodes_found : 465\n",
      "number_common_nodes_found : 489\n",
      "992004 993235\n",
      "995666 995743\n",
      "133466 3100\n",
      "1376 924\n",
      "606 475\n",
      "410 375\n",
      "306 273\n",
      "216 196\n",
      "169 125\n",
      "122 105\n",
      "90 69\n",
      "72 58\n",
      "60 45\n",
      "48 36\n",
      "38 27\n",
      "27 21\n",
      "22 16\n",
      "15 11\n",
      "9 6\n",
      "3 0\n",
      "0 0\n",
      "R0= [[ 9.99999527e-01 -9.72716200e-04]\n",
      " [ 9.72716200e-04  9.99999527e-01]] t0= [42.25170203  6.08798379]\n"
     ]
    }
   ],
   "source": [
    "r0=realign(skeleton_docs[4],nx_graph_pivot,pos_pivot,2,save='Data/',maxdist=150) "
   ]
  },
  {
   "cell_type": "code",
   "execution_count": 25,
   "metadata": {},
   "outputs": [
    {
     "name": "stdout",
     "output_type": "stream",
     "text": [
      "number_common_nodes_found : 290\n",
      "number_common_nodes_found : 435\n",
      "number_common_nodes_found : 454\n",
      "number_common_nodes_found : 465\n",
      "992012 993234\n",
      "995675 995706\n",
      "133613 3119\n",
      "1377 925\n",
      "612 475\n",
      "410 375\n",
      "306 273\n",
      "216 196\n",
      "169 125\n",
      "122 105\n",
      "90 69\n",
      "72 58\n",
      "60 45\n",
      "48 36\n",
      "38 27\n",
      "27 21\n",
      "22 16\n",
      "15 11\n",
      "9 6\n",
      "3 0\n",
      "0 0\n",
      "R0= [[ 0.99999924 -0.00123398]\n",
      " [ 0.00123398  0.99999924]] t0= [47.7829256   3.93269705]\n"
     ]
    }
   ],
   "source": [
    "r1=realign(skeleton_docs[4],nx_graph_pivot,pos_pivot,2,save='Data/',maxdist=50) "
   ]
  },
  {
   "cell_type": "code",
   "execution_count": 27,
   "metadata": {},
   "outputs": [],
   "source": [
    "def make_sparse(dico):\n",
    "    dim=(20800, 46000)\n",
    "    skel = sparse.dok_matrix(dim, dtype=bool)\n",
    "    for key in dico.keys():\n",
    "        skel[key]=dico[key]\n",
    "    return(skel)"
   ]
  },
  {
   "cell_type": "code",
   "execution_count": 31,
   "metadata": {},
   "outputs": [],
   "source": [
    "skeletons=[make_sparse(skeleton_docs[0]),make_sparse(r0),make_sparse(r1)]"
   ]
  },
  {
   "cell_type": "code",
   "execution_count": 37,
   "metadata": {},
   "outputs": [],
   "source": [
    "from plotutil import plot_t_tp1, compress_skeleton\n",
    "factor = 5\n",
    "final_pictures = [compress_skeleton(skeletons[i],factor)>=1 for i in range(len(skeletons))]"
   ]
  },
  {
   "cell_type": "code",
   "execution_count": 43,
   "metadata": {},
   "outputs": [
    {
     "data": {
      "application/vnd.jupyter.widget-view+json": {
       "model_id": "11801b855cd84ec5aeff9a49c4b7a8d2",
       "version_major": 2,
       "version_minor": 0
      },
      "text/plain": [
       "Canvas(toolbar=Toolbar(toolitems=[('Home', 'Reset original view', 'home', 'home'), ('Back', 'Back to previous …"
      ]
     },
     "metadata": {},
     "output_type": "display_data"
    }
   ],
   "source": [
    "plot_t_tp1([],[],None,None,final_pictures[0],final_pictures[2],compress=5,)"
   ]
  },
  {
   "cell_type": "code",
   "execution_count": 41,
   "metadata": {},
   "outputs": [],
   "source": [
    "plt.close('all')"
   ]
  },
  {
   "cell_type": "code",
   "execution_count": 22,
   "metadata": {},
   "outputs": [
    {
     "name": "stdout",
     "output_type": "stream",
     "text": [
      "number_common_nodes_found : 55\n",
      "number_common_nodes_found : 170\n",
      "number_common_nodes_found : 417\n",
      "number_common_nodes_found : 453\n",
      "991937 993213\n",
      "995616 995688\n",
      "133668 3119\n",
      "1389 929\n",
      "613 475\n",
      "410 375\n",
      "306 273\n",
      "216 196\n",
      "169 125\n",
      "122 105\n",
      "88 67\n",
      "72 58\n",
      "60 45\n",
      "48 36\n",
      "38 27\n",
      "27 21\n",
      "22 16\n",
      "15 11\n",
      "9 6\n",
      "3 0\n",
      "0 0\n",
      "R0= [[ 0.99999923 -0.00124197]\n",
      " [ 0.00124197  0.99999923]] t0= [48.09796892  3.71029006]\n"
     ]
    }
   ],
   "source": [
    "r=realign(skeleton_docs[4],nx_graph_pivot,pos_pivot,2,save='Data/',maxdist=30) "
   ]
  },
  {
   "cell_type": "code",
   "execution_count": 23,
   "metadata": {},
   "outputs": [
    {
     "name": "stdout",
     "output_type": "stream",
     "text": [
      "number_common_nodes_found : 209\n",
      "number_common_nodes_found : 405\n",
      "number_common_nodes_found : 450\n",
      "number_common_nodes_found : 458\n",
      "991983 993211\n",
      "995655 995687\n",
      "133685 3099\n",
      "1373 930\n",
      "619 476\n",
      "410 375\n",
      "306 273\n",
      "216 196\n",
      "169 125\n",
      "122 105\n",
      "90 69\n",
      "72 58\n",
      "60 45\n",
      "48 36\n",
      "38 27\n",
      "27 21\n",
      "22 16\n",
      "15 11\n",
      "9 6\n",
      "3 0\n",
      "0 0\n",
      "R0= [[ 0.99999925 -0.00122743]\n",
      " [ 0.00122743  0.99999925]] t0= [47.84393103  4.08633907]\n"
     ]
    }
   ],
   "source": [
    "r=realign(skeleton_docs[4],nx_graph_pivot,pos_pivot,2,save='Data/',maxdist=40) "
   ]
  }
 ],
 "metadata": {
  "kernelspec": {
   "display_name": "Python 3",
   "language": "python",
   "name": "python3"
  },
  "language_info": {
   "codemirror_mode": {
    "name": "ipython",
    "version": 3
   },
   "file_extension": ".py",
   "mimetype": "text/x-python",
   "name": "python",
   "nbconvert_exporter": "python",
   "pygments_lexer": "ipython3",
   "version": "3.7.7"
  }
 },
 "nbformat": 4,
 "nbformat_minor": 4
}
